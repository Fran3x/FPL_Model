{
 "cells": [
  {
   "cell_type": "code",
   "execution_count": null,
   "id": "c180a6b7-d71c-4fb9-a213-9a5542f173ae",
   "metadata": {},
   "outputs": [],
   "source": [
    "from data_prep import *\n",
    "from PositionModel import *\n",
    "from PlayerModel import *\n",
    "from commons import *"
   ]
  },
  {
   "cell_type": "code",
   "execution_count": null,
   "id": "324431c2-d1cd-40c8-91d5-9c394c245458",
   "metadata": {},
   "outputs": [],
   "source": [
    "# predictors = ['goals_scored', 'assists_fpl', 'bps', 'penalties_missed', \n",
    "# 'clean_sheets', 'yellow_cards', 'red_cards', 'minutes', 'own_goals']\n",
    "predictors = ['goals_avg5', 'xG_avg5', 'assists_fpl_avg5',\n",
    "       'bonus_avg5', 'bps_avg5', 'clean_sheets_avg5', 'goals_conceded_avg5',\n",
    "       'shots_avg5', 'xGBuildup_avg5', 'xGChain_avg5', 'yellow_cards_avg5',\n",
    "       'red_cards_avg5', 'was_home']\n",
    "rolling_columns = ['goals', 'xG', 'assists_fpl', 'bonus', 'bps', 'clean_sheets', 'goals_conceded', 'shots', 'xGBuildup', 'xGChain', 'yellow_cards', 'red_cards']\n",
    "to_predict = 'total_points'"
   ]
  },
  {
   "cell_type": "code",
   "execution_count": null,
   "id": "d7290816-8eee-4387-bd4d-ece22d0fcd1b",
   "metadata": {},
   "outputs": [],
   "source": [
    "# loading dataset\n",
    "# df = merged_understat_and_fpl(rolling_columns, True)\n",
    "df = load_dataset()\n",
    "print(df.columns)"
   ]
  },
  {
   "cell_type": "code",
   "execution_count": null,
   "id": "9069941e-63d3-4c73-9c35-3ffdfe43b2ae",
   "metadata": {},
   "outputs": [],
   "source": [
    "# general model\n",
    "print('GENERAL MODEL:')\n",
    "X_train, X_test, y_train, y_test = split_data(df, predictors, to_predict)\n",
    "general_model = PositionModel()\n",
    "general_model.fit(X_train, y_train)\n",
    "y_pred = general_model.predict(X_test)\n",
    "metrics = get_metrics(y_test, y_pred)\n",
    "print(metrics)"
   ]
  },
  {
   "cell_type": "code",
   "execution_count": null,
   "id": "f5809665-9138-4d7b-922f-a5cd8666ef9e",
   "metadata": {},
   "outputs": [],
   "source": [
    "# position model (MID)\n",
    "print('POSITION MODEL:')\n",
    "df_mid = df[df['position_fpl'] == 'MID']\n",
    "X_train, X_test, y_train, y_test = split_data(df_mid, predictors, to_predict)\n",
    "position_model = PositionModel()\n",
    "position_model.fit(X_train, y_train)\n",
    "y_pred = position_model.predict(X_test)\n",
    "metrics = get_metrics(y_test, y_pred)\n",
    "print(metrics)"
   ]
  },
  {
   "cell_type": "code",
   "execution_count": null,
   "id": "0f64df65-afdd-421a-a7e8-af98e730cf78",
   "metadata": {},
   "outputs": [],
   "source": [
    "# salah only\n",
    "print('PLAYER MODEL:')\n",
    "salah = df[df['name'] == 'Mohamed Salah']\n",
    "X_train, X_test, y_train, y_test = split_data(salah, predictors, to_predict, 0.8)\n",
    "position_model = PlayerModel()\n",
    "position_model.fit(X_train, y_train)\n",
    "y_pred = position_model.predict(X_test)\n",
    "metrics = get_metrics(y_test, y_pred)\n",
    "print(metrics)"
   ]
  }
 ],
 "metadata": {
  "kernelspec": {
   "display_name": "Python 3 (ipykernel)",
   "language": "python",
   "name": "python3"
  },
  "language_info": {
   "codemirror_mode": {
    "name": "ipython",
    "version": 3
   },
   "file_extension": ".py",
   "mimetype": "text/x-python",
   "name": "python",
   "nbconvert_exporter": "python",
   "pygments_lexer": "ipython3",
   "version": "3.8.0"
  }
 },
 "nbformat": 4,
 "nbformat_minor": 5
}
