{
 "cells": [
  {
   "cell_type": "code",
   "execution_count": 1,
   "id": "c180a6b7-d71c-4fb9-a213-9a5542f173ae",
   "metadata": {},
   "outputs": [],
   "source": [
    "from data_prep import *\n",
    "from PositionModel import *\n",
    "from PlayerModel import *\n",
    "from GeneralModel import *\n",
    "from commons import *"
   ]
  },
  {
   "cell_type": "code",
   "execution_count": 2,
   "id": "324431c2-d1cd-40c8-91d5-9c394c245458",
   "metadata": {},
   "outputs": [],
   "source": [
    "features = ['goals_scored_avg5', 'xG_avg5', 'assists_fpl_avg5',\n",
    "       'bonus_avg5', 'bps_avg5', 'clean_sheets_avg5', 'goals_conceded_avg5',\n",
    "       'shots_avg5', 'xGBuildup_avg5', 'xGChain_avg5', 'yellow_cards_avg5',\n",
    "       'red_cards_avg5', 'was_home', 'rating_diff', 'minutes_avg5']\n",
    "rolling_columns = ['goals_scored', 'xG', 'assists_fpl', 'bonus', 'bps', 'clean_sheets', 'goals_conceded', 'shots', 'xGBuildup', 'xGChain', 'yellow_cards', 'red_cards', 'minutes']\n",
    "to_predict = 'total_points'"
   ]
  },
  {
   "cell_type": "code",
   "execution_count": 3,
   "id": "d7290816-8eee-4387-bd4d-ece22d0fcd1b",
   "metadata": {},
   "outputs": [],
   "source": [
    "# loading dataset\n",
    "df = merged_understat_and_fpl(rolling_columns, True)\n",
    "# df = load_dataset()"
   ]
  },
  {
   "cell_type": "code",
   "execution_count": 4,
   "id": "9069941e-63d3-4c73-9c35-3ffdfe43b2ae",
   "metadata": {},
   "outputs": [
    {
     "name": "stdout",
     "output_type": "stream",
     "text": [
      "GENERAL MODEL:\n",
      "{'mse': 6.958101785714287, 'mae': 1.484964285714286, 'r2': 0.5360379985598158}\n"
     ]
    }
   ],
   "source": [
    "# general model\n",
    "print('GENERAL MODEL:')\n",
    "X_train, X_test, y_train, y_test = split_data(df, features, to_predict)\n",
    "general_model = GeneralModel()\n",
    "general_model.fit(X_train, y_train)\n",
    "y_pred = general_model.predict(X_test)\n",
    "metrics = get_metrics(y_pred, y_test)\n",
    "print(metrics)"
   ]
  },
  {
   "cell_type": "code",
   "execution_count": 5,
   "id": "f5809665-9138-4d7b-922f-a5cd8666ef9e",
   "metadata": {},
   "outputs": [
    {
     "name": "stdout",
     "output_type": "stream",
     "text": [
      "POSITION MODEL:\n",
      "{'mse': 11.114998891966758, 'mae': 2.067423822714681, 'r2': 0.32247920894980653}\n"
     ]
    }
   ],
   "source": [
    "# position model (MID)\n",
    "print('POSITION MODEL:')\n",
    "df_mid = df[df['position_fpl'] == 'MID']\n",
    "X_train, X_test, y_train, y_test = split_data(df_mid, features, to_predict)\n",
    "position_model = PositionModel()\n",
    "position_model.mid_model.fit(X_train, y_train)\n",
    "y_pred = position_model.mid_model.predict(X_test)\n",
    "metrics = get_metrics(y_pred, y_test)\n",
    "print(metrics)"
   ]
  },
  {
   "cell_type": "code",
   "execution_count": 6,
   "id": "0f64df65-afdd-421a-a7e8-af98e730cf78",
   "metadata": {},
   "outputs": [
    {
     "name": "stdout",
     "output_type": "stream",
     "text": [
      "PLAYER MODEL:\n",
      "{'mse': 20.61299, 'mae': 3.781, 'r2': -0.9354920187793427}\n"
     ]
    }
   ],
   "source": [
    "# salah only\n",
    "print('PLAYER MODEL:')\n",
    "salah = df[df['name'] == 'Mohamed Salah']\n",
    "X_train, X_test, y_train, y_test = split_data(salah, features, to_predict, 0.8)\n",
    "position_model = PlayerModel()\n",
    "position_model.fit(X_train, y_train)\n",
    "y_pred = position_model.predict(X_test)\n",
    "metrics = get_metrics(y_pred, y_test)\n",
    "print(metrics)"
   ]
  },
  {
   "cell_type": "code",
   "execution_count": 15,
   "id": "f4b4c889-f69a-485f-97b6-0c9a02641158",
   "metadata": {},
   "outputs": [
    {
     "data": {
      "text/html": [
       "<div>\n",
       "<style scoped>\n",
       "    .dataframe tbody tr th:only-of-type {\n",
       "        vertical-align: middle;\n",
       "    }\n",
       "\n",
       "    .dataframe tbody tr th {\n",
       "        vertical-align: top;\n",
       "    }\n",
       "\n",
       "    .dataframe thead th {\n",
       "        text-align: right;\n",
       "    }\n",
       "</style>\n",
       "<table border=\"1\" class=\"dataframe\">\n",
       "  <thead>\n",
       "    <tr style=\"text-align: right;\">\n",
       "      <th></th>\n",
       "      <th>shots</th>\n",
       "      <th>shots_avg5</th>\n",
       "      <th>opp_team</th>\n",
       "      <th>goals</th>\n",
       "      <th>kickoff_time</th>\n",
       "    </tr>\n",
       "  </thead>\n",
       "  <tbody>\n",
       "    <tr>\n",
       "      <th>4816</th>\n",
       "      <td>7</td>\n",
       "      <td>4.4</td>\n",
       "      <td>Brighton</td>\n",
       "      <td>1</td>\n",
       "      <td>2022-03-12T12:30:00Z</td>\n",
       "    </tr>\n",
       "    <tr>\n",
       "      <th>4886</th>\n",
       "      <td>3</td>\n",
       "      <td>4.0</td>\n",
       "      <td>Arsenal</td>\n",
       "      <td>0</td>\n",
       "      <td>2022-03-16T20:15:00Z</td>\n",
       "    </tr>\n",
       "    <tr>\n",
       "      <th>4923</th>\n",
       "      <td>3</td>\n",
       "      <td>5.4</td>\n",
       "      <td>Watford</td>\n",
       "      <td>0</td>\n",
       "      <td>2022-04-02T11:30:00Z</td>\n",
       "    </tr>\n",
       "    <tr>\n",
       "      <th>5190</th>\n",
       "      <td>2</td>\n",
       "      <td>5.0</td>\n",
       "      <td>Everton</td>\n",
       "      <td>0</td>\n",
       "      <td>2022-04-24T15:30:00Z</td>\n",
       "    </tr>\n",
       "    <tr>\n",
       "      <th>5308</th>\n",
       "      <td>1</td>\n",
       "      <td>3.2</td>\n",
       "      <td>Aston Villa</td>\n",
       "      <td>0</td>\n",
       "      <td>2022-05-10T19:00:00Z</td>\n",
       "    </tr>\n",
       "    <tr>\n",
       "      <th>5504</th>\n",
       "      <td>2</td>\n",
       "      <td>2.8</td>\n",
       "      <td>Fulham</td>\n",
       "      <td>1</td>\n",
       "      <td>2022-08-06T11:30:00Z</td>\n",
       "    </tr>\n",
       "    <tr>\n",
       "      <th>5597</th>\n",
       "      <td>3</td>\n",
       "      <td>4.0</td>\n",
       "      <td>Crystal Palace</td>\n",
       "      <td>0</td>\n",
       "      <td>2022-08-15T19:00:00Z</td>\n",
       "    </tr>\n",
       "  </tbody>\n",
       "</table>\n",
       "</div>"
      ],
      "text/plain": [
       "      shots  shots_avg5        opp_team  goals          kickoff_time\n",
       "4816      7         4.4        Brighton      1  2022-03-12T12:30:00Z\n",
       "4886      3         4.0         Arsenal      0  2022-03-16T20:15:00Z\n",
       "4923      3         5.4         Watford      0  2022-04-02T11:30:00Z\n",
       "5190      2         5.0         Everton      0  2022-04-24T15:30:00Z\n",
       "5308      1         3.2     Aston Villa      0  2022-05-10T19:00:00Z\n",
       "5504      2         2.8          Fulham      1  2022-08-06T11:30:00Z\n",
       "5597      3         4.0  Crystal Palace      0  2022-08-15T19:00:00Z"
      ]
     },
     "execution_count": 15,
     "metadata": {},
     "output_type": "execute_result"
    }
   ],
   "source": [
    "salah.tail(7)[['shots', 'shots_avg5', 'opp_team', 'goals', 'kickoff_time']]"
   ]
  },
  {
   "cell_type": "code",
   "execution_count": null,
   "id": "7befca11-1419-4c28-a481-e57cfae7e518",
   "metadata": {},
   "outputs": [],
   "source": []
  }
 ],
 "metadata": {
  "kernelspec": {
   "display_name": "Python 3 (ipykernel)",
   "language": "python",
   "name": "python3"
  },
  "language_info": {
   "codemirror_mode": {
    "name": "ipython",
    "version": 3
   },
   "file_extension": ".py",
   "mimetype": "text/x-python",
   "name": "python",
   "nbconvert_exporter": "python",
   "pygments_lexer": "ipython3",
   "version": "3.8.0"
  }
 },
 "nbformat": 4,
 "nbformat_minor": 5
}
