{
 "cells": [
  {
   "cell_type": "code",
   "execution_count": 1,
   "id": "c180a6b7-d71c-4fb9-a213-9a5542f173ae",
   "metadata": {},
   "outputs": [],
   "source": [
    "from data_prep import *\n",
    "from PositionModel import *\n",
    "from PlayerModel import *\n",
    "from commons import *"
   ]
  },
  {
   "cell_type": "code",
   "execution_count": 2,
   "id": "324431c2-d1cd-40c8-91d5-9c394c245458",
   "metadata": {},
   "outputs": [],
   "source": [
    "# predictors = ['goals_scored', 'assists_fpl', 'bps', 'penalties_missed', \n",
    "# 'clean_sheets', 'yellow_cards', 'red_cards', 'minutes', 'own_goals']\n",
    "features = ['goals_avg5', 'xG_avg5', 'assists_fpl_avg5',\n",
    "       'bonus_avg5', 'bps_avg5', 'clean_sheets_avg5', 'goals_conceded_avg5',\n",
    "       'shots_avg5', 'xGBuildup_avg5', 'xGChain_avg5', 'yellow_cards_avg5',\n",
    "       'red_cards_avg5', 'was_home']\n",
    "rolling_columns = ['goals', 'xG', 'assists_fpl', 'bonus', 'bps', 'clean_sheets', 'goals_conceded', 'shots', 'xGBuildup', 'xGChain', 'yellow_cards', 'red_cards']\n",
    "to_predict = 'total_points'"
   ]
  },
  {
   "cell_type": "code",
   "execution_count": 3,
   "id": "d7290816-8eee-4387-bd4d-ece22d0fcd1b",
   "metadata": {},
   "outputs": [
    {
     "name": "stdout",
     "output_type": "stream",
     "text": [
      "Index(['Unnamed: 0.1', 'Unnamed: 0', 'season', 'name', 'position_fpl', 'team',\n",
      "       'assists_fpl', 'bonus', 'bps', 'clean_sheets', 'creativity', 'element',\n",
      "       'fixture', 'goals_conceded', 'goals_scored', 'ict_index', 'influence',\n",
      "       'kickoff_time', 'minutes', 'opponent_team', 'opp_team_name',\n",
      "       'own_goals', 'penalties_missed', 'penalties_saved', 'red_cards',\n",
      "       'round', 'saves', 'selected', 'team_a_score', 'team_h_score', 'threat',\n",
      "       'total_points', 'transfers_balance', 'transfers_in', 'transfers_out',\n",
      "       'value', 'was_home', 'yellow_cards', 'GW', 'a_team', 'goals', 'shots',\n",
      "       'xG', 'time', 'position_und', 'h_goals', 'a_goals', 'date', 'id', 'xA',\n",
      "       'assists_und', 'key_passes', 'npg', 'npxG', 'xGChain', 'xGBuildup',\n",
      "       'player_name', 'h_team', 'was_played', 'next_gw'],\n",
      "      dtype='object')\n"
     ]
    }
   ],
   "source": [
    "# loading dataset\n",
    "df = merged_understat_and_fpl(rolling_columns, True)\n",
    "# df = load_dataset()\n",
    "print(df.columns)"
   ]
  },
  {
   "cell_type": "code",
   "execution_count": 4,
   "id": "9069941e-63d3-4c73-9c35-3ffdfe43b2ae",
   "metadata": {},
   "outputs": [
    {
     "name": "stdout",
     "output_type": "stream",
     "text": [
      "GENERAL MODEL:\n"
     ]
    },
    {
     "ename": "KeyError",
     "evalue": "\"['goals_avg5', 'xG_avg5', 'assists_fpl_avg5', 'bonus_avg5', 'bps_avg5', 'clean_sheets_avg5', 'goals_conceded_avg5', 'shots_avg5', 'xGBuildup_avg5', 'xGChain_avg5', 'yellow_cards_avg5', 'red_cards_avg5'] not in index\"",
     "output_type": "error",
     "traceback": [
      "\u001b[1;31m---------------------------------------------------------------------------\u001b[0m",
      "\u001b[1;31mKeyError\u001b[0m                                  Traceback (most recent call last)",
      "Input \u001b[1;32mIn [4]\u001b[0m, in \u001b[0;36m<cell line: 3>\u001b[1;34m()\u001b[0m\n\u001b[0;32m      1\u001b[0m \u001b[38;5;66;03m# general model\u001b[39;00m\n\u001b[0;32m      2\u001b[0m \u001b[38;5;28mprint\u001b[39m(\u001b[38;5;124m'\u001b[39m\u001b[38;5;124mGENERAL MODEL:\u001b[39m\u001b[38;5;124m'\u001b[39m)\n\u001b[1;32m----> 3\u001b[0m X_train, X_test, y_train, y_test \u001b[38;5;241m=\u001b[39m \u001b[43msplit_data\u001b[49m\u001b[43m(\u001b[49m\u001b[43mdf\u001b[49m\u001b[43m,\u001b[49m\u001b[43m \u001b[49m\u001b[43mfeatures\u001b[49m\u001b[43m,\u001b[49m\u001b[43m \u001b[49m\u001b[43mto_predict\u001b[49m\u001b[43m)\u001b[49m\n\u001b[0;32m      4\u001b[0m general_model \u001b[38;5;241m=\u001b[39m PositionModel()\n\u001b[0;32m      5\u001b[0m general_model\u001b[38;5;241m.\u001b[39mfit(X_train, y_train)\n",
      "File \u001b[1;32mD:\\PulpitE\\FPL_ML\\commons.py:5\u001b[0m, in \u001b[0;36msplit_data\u001b[1;34m(df, predictors, to_predict, train_size)\u001b[0m\n\u001b[0;32m      4\u001b[0m \u001b[38;5;28;01mdef\u001b[39;00m \u001b[38;5;21msplit_data\u001b[39m(df, predictors, to_predict, train_size\u001b[38;5;241m=\u001b[39m\u001b[38;5;241m0.85\u001b[39m):\n\u001b[1;32m----> 5\u001b[0m     X_train, X_test, y_train, y_test \u001b[38;5;241m=\u001b[39m train_test_split(\u001b[43mdf\u001b[49m\u001b[43m[\u001b[49m\u001b[43mpredictors\u001b[49m\u001b[43m]\u001b[49m, df[to_predict], train_size\u001b[38;5;241m=\u001b[39mtrain_size, random_state\u001b[38;5;241m=\u001b[39m\u001b[38;5;241m42\u001b[39m)\n\u001b[0;32m      6\u001b[0m     \u001b[38;5;28;01mreturn\u001b[39;00m X_train, X_test, y_train, y_test\n",
      "File \u001b[1;32mC:\\users\\user\\appdata\\local\\programs\\python\\python38\\lib\\site-packages\\pandas\\core\\frame.py:3511\u001b[0m, in \u001b[0;36mDataFrame.__getitem__\u001b[1;34m(self, key)\u001b[0m\n\u001b[0;32m   3509\u001b[0m     \u001b[38;5;28;01mif\u001b[39;00m is_iterator(key):\n\u001b[0;32m   3510\u001b[0m         key \u001b[38;5;241m=\u001b[39m \u001b[38;5;28mlist\u001b[39m(key)\n\u001b[1;32m-> 3511\u001b[0m     indexer \u001b[38;5;241m=\u001b[39m \u001b[38;5;28;43mself\u001b[39;49m\u001b[38;5;241;43m.\u001b[39;49m\u001b[43mcolumns\u001b[49m\u001b[38;5;241;43m.\u001b[39;49m\u001b[43m_get_indexer_strict\u001b[49m\u001b[43m(\u001b[49m\u001b[43mkey\u001b[49m\u001b[43m,\u001b[49m\u001b[43m \u001b[49m\u001b[38;5;124;43m\"\u001b[39;49m\u001b[38;5;124;43mcolumns\u001b[39;49m\u001b[38;5;124;43m\"\u001b[39;49m\u001b[43m)\u001b[49m[\u001b[38;5;241m1\u001b[39m]\n\u001b[0;32m   3513\u001b[0m \u001b[38;5;66;03m# take() does not accept boolean indexers\u001b[39;00m\n\u001b[0;32m   3514\u001b[0m \u001b[38;5;28;01mif\u001b[39;00m \u001b[38;5;28mgetattr\u001b[39m(indexer, \u001b[38;5;124m\"\u001b[39m\u001b[38;5;124mdtype\u001b[39m\u001b[38;5;124m\"\u001b[39m, \u001b[38;5;28;01mNone\u001b[39;00m) \u001b[38;5;241m==\u001b[39m \u001b[38;5;28mbool\u001b[39m:\n",
      "File \u001b[1;32mC:\\users\\user\\appdata\\local\\programs\\python\\python38\\lib\\site-packages\\pandas\\core\\indexes\\base.py:5782\u001b[0m, in \u001b[0;36mIndex._get_indexer_strict\u001b[1;34m(self, key, axis_name)\u001b[0m\n\u001b[0;32m   5779\u001b[0m \u001b[38;5;28;01melse\u001b[39;00m:\n\u001b[0;32m   5780\u001b[0m     keyarr, indexer, new_indexer \u001b[38;5;241m=\u001b[39m \u001b[38;5;28mself\u001b[39m\u001b[38;5;241m.\u001b[39m_reindex_non_unique(keyarr)\n\u001b[1;32m-> 5782\u001b[0m \u001b[38;5;28;43mself\u001b[39;49m\u001b[38;5;241;43m.\u001b[39;49m\u001b[43m_raise_if_missing\u001b[49m\u001b[43m(\u001b[49m\u001b[43mkeyarr\u001b[49m\u001b[43m,\u001b[49m\u001b[43m \u001b[49m\u001b[43mindexer\u001b[49m\u001b[43m,\u001b[49m\u001b[43m \u001b[49m\u001b[43maxis_name\u001b[49m\u001b[43m)\u001b[49m\n\u001b[0;32m   5784\u001b[0m keyarr \u001b[38;5;241m=\u001b[39m \u001b[38;5;28mself\u001b[39m\u001b[38;5;241m.\u001b[39mtake(indexer)\n\u001b[0;32m   5785\u001b[0m \u001b[38;5;28;01mif\u001b[39;00m \u001b[38;5;28misinstance\u001b[39m(key, Index):\n\u001b[0;32m   5786\u001b[0m     \u001b[38;5;66;03m# GH 42790 - Preserve name from an Index\u001b[39;00m\n",
      "File \u001b[1;32mC:\\users\\user\\appdata\\local\\programs\\python\\python38\\lib\\site-packages\\pandas\\core\\indexes\\base.py:5845\u001b[0m, in \u001b[0;36mIndex._raise_if_missing\u001b[1;34m(self, key, indexer, axis_name)\u001b[0m\n\u001b[0;32m   5842\u001b[0m     \u001b[38;5;28;01mraise\u001b[39;00m \u001b[38;5;167;01mKeyError\u001b[39;00m(\u001b[38;5;124mf\u001b[39m\u001b[38;5;124m\"\u001b[39m\u001b[38;5;124mNone of [\u001b[39m\u001b[38;5;132;01m{\u001b[39;00mkey\u001b[38;5;132;01m}\u001b[39;00m\u001b[38;5;124m] are in the [\u001b[39m\u001b[38;5;132;01m{\u001b[39;00maxis_name\u001b[38;5;132;01m}\u001b[39;00m\u001b[38;5;124m]\u001b[39m\u001b[38;5;124m\"\u001b[39m)\n\u001b[0;32m   5844\u001b[0m not_found \u001b[38;5;241m=\u001b[39m \u001b[38;5;28mlist\u001b[39m(ensure_index(key)[missing_mask\u001b[38;5;241m.\u001b[39mnonzero()[\u001b[38;5;241m0\u001b[39m]]\u001b[38;5;241m.\u001b[39munique())\n\u001b[1;32m-> 5845\u001b[0m \u001b[38;5;28;01mraise\u001b[39;00m \u001b[38;5;167;01mKeyError\u001b[39;00m(\u001b[38;5;124mf\u001b[39m\u001b[38;5;124m\"\u001b[39m\u001b[38;5;132;01m{\u001b[39;00mnot_found\u001b[38;5;132;01m}\u001b[39;00m\u001b[38;5;124m not in index\u001b[39m\u001b[38;5;124m\"\u001b[39m)\n",
      "\u001b[1;31mKeyError\u001b[0m: \"['goals_avg5', 'xG_avg5', 'assists_fpl_avg5', 'bonus_avg5', 'bps_avg5', 'clean_sheets_avg5', 'goals_conceded_avg5', 'shots_avg5', 'xGBuildup_avg5', 'xGChain_avg5', 'yellow_cards_avg5', 'red_cards_avg5'] not in index\""
     ]
    }
   ],
   "source": [
    "# general model\n",
    "print('GENERAL MODEL:')\n",
    "X_train, X_test, y_train, y_test = split_data(df, features, to_predict)\n",
    "general_model = PositionModel()\n",
    "general_model.fit(X_train, y_train)\n",
    "y_pred = general_model.predict(X_test)\n",
    "metrics = get_metrics(y_pred, y_test)\n",
    "print(metrics)"
   ]
  },
  {
   "cell_type": "code",
   "execution_count": null,
   "id": "f5809665-9138-4d7b-922f-a5cd8666ef9e",
   "metadata": {},
   "outputs": [],
   "source": [
    "# position model (MID)\n",
    "print('POSITION MODEL:')\n",
    "df_mid = df[df['position_fpl'] == 'MID']\n",
    "X_train, X_test, y_train, y_test = split_data(df_mid, features, to_predict)\n",
    "position_model = PositionModel()\n",
    "position_model.fit(X_train, y_train)\n",
    "y_pred = position_model.predict(X_test)\n",
    "metrics = get_metrics(y_pred, y_test)\n",
    "print(metrics)"
   ]
  },
  {
   "cell_type": "code",
   "execution_count": null,
   "id": "0f64df65-afdd-421a-a7e8-af98e730cf78",
   "metadata": {},
   "outputs": [],
   "source": [
    "# salah only\n",
    "print('PLAYER MODEL:')\n",
    "salah = df[df['name'] == 'Mohamed Salah']\n",
    "X_train, X_test, y_train, y_test = split_data(salah, features, to_predict, 0.8)\n",
    "position_model = PlayerModel()\n",
    "position_model.fit(X_train, y_train)\n",
    "y_pred = position_model.predict(X_test)\n",
    "metrics = get_metrics(y_pred, y_test)\n",
    "print(metrics)"
   ]
  },
  {
   "cell_type": "code",
   "execution_count": null,
   "id": "f4b4c889-f69a-485f-97b6-0c9a02641158",
   "metadata": {},
   "outputs": [],
   "source": [
    "salah.head(3)[['shots', 'shots_avg5']]"
   ]
  },
  {
   "cell_type": "code",
   "execution_count": null,
   "id": "7befca11-1419-4c28-a481-e57cfae7e518",
   "metadata": {},
   "outputs": [],
   "source": []
  }
 ],
 "metadata": {
  "kernelspec": {
   "display_name": "Python 3 (ipykernel)",
   "language": "python",
   "name": "python3"
  },
  "language_info": {
   "codemirror_mode": {
    "name": "ipython",
    "version": 3
   },
   "file_extension": ".py",
   "mimetype": "text/x-python",
   "name": "python",
   "nbconvert_exporter": "python",
   "pygments_lexer": "ipython3",
   "version": "3.8.0"
  }
 },
 "nbformat": 4,
 "nbformat_minor": 5
}
