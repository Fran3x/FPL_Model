{
 "cells": [
  {
   "cell_type": "code",
   "execution_count": 1,
   "id": "63369442-5b0e-4fe6-be8e-cbbfb54ac608",
   "metadata": {},
   "outputs": [],
   "source": [
    "import requests\n",
    "import json\n",
    "import pandas as pd\n",
    "import datetime"
   ]
  },
  {
   "cell_type": "code",
   "execution_count": 2,
   "id": "1a157f35-fca2-4d6d-90e7-a6ed697b3693",
   "metadata": {},
   "outputs": [],
   "source": [
    "def get_data(url):\n",
    "    \"\"\" Retrieve the fpl player data from the hard-coded url\n",
    "    \"\"\"\n",
    "    response = requests.get(url)\n",
    "    if response.status_code != 200:\n",
    "        raise Exception(\"Response was code \" + str(response.status_code))\n",
    "    responseStr = response.text\n",
    "    return responseStr"
   ]
  },
  {
   "cell_type": "code",
   "execution_count": 3,
   "id": "91cac5a3-0f74-4360-9766-29b9033314f1",
   "metadata": {},
   "outputs": [],
   "source": [
    "def get_teams_names():\n",
    "    result = []\n",
    "    teams = pd.read_csv('data/2022-23/teams.csv')\n",
    "    for t in teams.iterrows():\n",
    "        if t[1]['name'].replace(\" \", \"\") == \"Nott'mForest\":\n",
    "            result.append('Forest')\n",
    "        elif t[1]['name'].replace(\" \", \"\") == \"ManUtd\":\n",
    "            result.append('ManUnited')\n",
    "        elif t[1]['name'].replace(\" \", \"\") == \"Spurs\":\n",
    "            result.append('Tottenham')\n",
    "        else:\n",
    "            result.append(t[1]['name'].replace(\" \", \"\"))\n",
    "    # manually adding remaining teams\n",
    "    result.append('Burnley')\n",
    "    result.append('Norwich')\n",
    "    result.append('Watford')\n",
    "    return result"
   ]
  },
  {
   "cell_type": "code",
   "execution_count": 4,
   "id": "e666adcd-4769-4434-8734-5e10c5da2ff6",
   "metadata": {},
   "outputs": [
    {
     "data": {
      "text/plain": [
       "['Arsenal',\n",
       " 'AstonVilla',\n",
       " 'Bournemouth',\n",
       " 'Brentford',\n",
       " 'Brighton',\n",
       " 'Chelsea',\n",
       " 'CrystalPalace',\n",
       " 'Everton',\n",
       " 'Fulham',\n",
       " 'Leicester',\n",
       " 'Leeds',\n",
       " 'Liverpool',\n",
       " 'ManCity',\n",
       " 'ManUnited',\n",
       " 'Newcastle',\n",
       " 'Forest',\n",
       " 'Southampton',\n",
       " 'Tottenham',\n",
       " 'WestHam',\n",
       " 'Wolves',\n",
       " 'Burnley',\n",
       " 'Norwich']"
      ]
     },
     "execution_count": 4,
     "metadata": {},
     "output_type": "execute_result"
    }
   ],
   "source": [
    "team_names = get_teams_names()\n",
    "team_names"
   ]
  },
  {
   "cell_type": "code",
   "execution_count": 5,
   "id": "439107d2-9cb6-4ba0-b0ef-4aba39eec151",
   "metadata": {},
   "outputs": [],
   "source": [
    "def reload_all_teams_ratings():\n",
    "    result = pd.DataFrame()\n",
    "    for team in get_teams_names():\n",
    "        response = get_data('http://api.clubelo.com/' + team)\n",
    "        print(team, len(response))\n",
    "        rows = response.splitlines()\n",
    "        columns = rows[0].split(',')\n",
    "        content = []\n",
    "        for r in rows[1:]:\n",
    "            content.append(r.split(','))\n",
    "        df = pd.DataFrame(content, columns = columns)\n",
    "        result = pd.concat([result, df])\n",
    "    result = result.dropna()\n",
    "    result.to_csv('team_ratings_history.csv')"
   ]
  },
  {
   "cell_type": "code",
   "execution_count": 6,
   "id": "8b577792-482b-4478-992d-5e8350b1ccbd",
   "metadata": {},
   "outputs": [],
   "source": [
    "def load_all_teams_ratings():\n",
    "    df = pd.read_csv('team_ratings_history.csv')\n",
    "    return df"
   ]
  },
  {
   "cell_type": "code",
   "execution_count": 7,
   "id": "994ad3d7-5703-4622-87b7-479569ad9851",
   "metadata": {},
   "outputs": [
    {
     "name": "stdout",
     "output_type": "stream",
     "text": [
      "Arsenal 326233\n",
      "AstonVilla 378073\n",
      "Bournemouth 71511\n",
      "Brentford 69145\n",
      "Brighton 141268\n",
      "Chelsea 320350\n",
      "CrystalPalace 274654\n",
      "Everton 343160\n",
      "Fulham 253991\n",
      "Leicester 336293\n",
      "Leeds 276997\n",
      "Liverpool 308166\n",
      "ManCity 325570\n",
      "ManUnited 325269\n",
      "Newcastle 364682\n",
      "Forest 289214\n",
      "Southampton 340224\n",
      "Tottenham 357746\n",
      "WestHam 382834\n",
      "Wolves 292505\n",
      "Burnley 248115\n",
      "Norwich 276707\n"
     ]
    }
   ],
   "source": [
    "reload_all_teams_ratings()"
   ]
  },
  {
   "cell_type": "code",
   "execution_count": 8,
   "id": "93eb2c9d-8365-4787-a11c-8455f9d48f24",
   "metadata": {},
   "outputs": [
    {
     "data": {
      "text/plain": [
       "array(['Arsenal', 'Aston Villa', 'Bournemouth', 'Brentford', 'Brighton',\n",
       "       'Chelsea', 'Crystal Palace', 'Everton', 'Fulham', 'Leicester',\n",
       "       'Leeds', 'Liverpool', 'Man City', 'Man United', 'Newcastle',\n",
       "       'Forest', 'Southampton', 'Tottenham', 'West Ham', 'Wolves',\n",
       "       'Burnley', 'Norwich'], dtype=object)"
      ]
     },
     "execution_count": 8,
     "metadata": {},
     "output_type": "execute_result"
    }
   ],
   "source": [
    "ratings = load_all_teams_ratings()\n",
    "ratings['Club'].unique()"
   ]
  },
  {
   "cell_type": "code",
   "execution_count": 9,
   "id": "c22e32d8-f8be-4082-97be-b54082d0fe24",
   "metadata": {},
   "outputs": [],
   "source": [
    "example_date = datetime.datetime(2022, 9, 13)"
   ]
  },
  {
   "cell_type": "code",
   "execution_count": 10,
   "id": "711fc11d-f472-4e7e-9fd8-5e7f92a1d81c",
   "metadata": {},
   "outputs": [
    {
     "data": {
      "text/plain": [
       "'2022-09-13'"
      ]
     },
     "execution_count": 10,
     "metadata": {},
     "output_type": "execute_result"
    }
   ],
   "source": [
    "example_date.strftime(\"%Y-%m-%d\")"
   ]
  },
  {
   "cell_type": "code",
   "execution_count": 11,
   "id": "066c3eb5-700e-4b05-ba76-d759655bfaa5",
   "metadata": {},
   "outputs": [],
   "source": [
    "def get_rating_for_team(team_ratings, team_name, date):\n",
    "    rating = team_ratings[(team_ratings['From'] <= date.strftime(\"%Y-%m-%d\")) & (team_ratings['Club'] == team_name)].iloc[-1]['Elo']\n",
    "    return rating"
   ]
  },
  {
   "cell_type": "code",
   "execution_count": 12,
   "id": "24568fe2-831a-4f60-9354-fa1ad0bc40f7",
   "metadata": {},
   "outputs": [
    {
     "data": {
      "text/plain": [
       "1709.40466309"
      ]
     },
     "execution_count": 12,
     "metadata": {},
     "output_type": "execute_result"
    }
   ],
   "source": [
    "get_rating_for_team(ratings, 'Wolves', example_date)"
   ]
  },
  {
   "cell_type": "code",
   "execution_count": null,
   "id": "e7b8f4e4-6781-4208-9e78-e36c5d110f24",
   "metadata": {},
   "outputs": [],
   "source": []
  }
 ],
 "metadata": {
  "kernelspec": {
   "display_name": "Python 3 (ipykernel)",
   "language": "python",
   "name": "python3"
  },
  "language_info": {
   "codemirror_mode": {
    "name": "ipython",
    "version": 3
   },
   "file_extension": ".py",
   "mimetype": "text/x-python",
   "name": "python",
   "nbconvert_exporter": "python",
   "pygments_lexer": "ipython3",
   "version": "3.8.0"
  }
 },
 "nbformat": 4,
 "nbformat_minor": 5
}
