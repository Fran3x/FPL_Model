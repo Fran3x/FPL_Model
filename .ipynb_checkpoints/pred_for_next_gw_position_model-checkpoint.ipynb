{
 "cells": [
  {
   "cell_type": "code",
   "execution_count": 1,
   "id": "2c28f54e-374c-427d-80a1-83730807524e",
   "metadata": {},
   "outputs": [],
   "source": [
    "from data_prep import *\n",
    "from PositionModel import *\n",
    "from PlayerModel import *\n",
    "from commons import *\n",
    "import shap\n",
    "from sklearn.ensemble import RandomForestRegressor"
   ]
  },
  {
   "cell_type": "code",
   "execution_count": 2,
   "id": "642d1e68-a2ad-4672-b37a-5391530c8f75",
   "metadata": {},
   "outputs": [],
   "source": [
    "features = ['goals_scored_avg5', 'xG_avg5', 'assists_fpl_avg5',\n",
    "       'bonus_avg5', 'bps_avg5', 'clean_sheets_avg5', 'goals_conceded_avg5',\n",
    "       'shots_avg5', 'xGBuildup_avg5', 'xGChain_avg5', 'yellow_cards_avg5',\n",
    "       'red_cards_avg5', 'was_home', 'rating_diff']\n",
    "rolling_columns = ['goals_scored', 'xG', 'assists_fpl', 'bonus', 'bps', 'clean_sheets', 'goals_conceded', 'shots', 'xGBuildup', 'xGChain', 'yellow_cards', 'red_cards']\n",
    "to_predict = 'total_points'"
   ]
  },
  {
   "cell_type": "code",
   "execution_count": 3,
   "id": "51cb9e26-86a5-42c7-8fdf-06c6a307b636",
   "metadata": {},
   "outputs": [],
   "source": [
    "# loading dataset\n",
    "# previous_games = merged_understat_and_fpl(rolling_columns, True)\n",
    "previous_games = load_dataset()"
   ]
  },
  {
   "cell_type": "code",
   "execution_count": 4,
   "id": "30609b15-d3ed-4be2-a2b7-8acab3f23f93",
   "metadata": {},
   "outputs": [],
   "source": [
    "# splitting data\n",
    "X_train_def = previous_games[previous_games['position_fpl'] == 'DEF'][features]\n",
    "y_train_def = previous_games[previous_games['position_fpl'] == 'DEF'][to_predict]\n",
    "\n",
    "X_train_mid = previous_games[previous_games['position_fpl'] == 'MID'][features]\n",
    "y_train_mid = previous_games[previous_games['position_fpl'] == 'MID'][to_predict]\n",
    "\n",
    "X_train_fwd = previous_games[previous_games['position_fpl'] == 'FWD'][features]\n",
    "y_train_fwd = previous_games[previous_games['position_fpl'] == 'FWD'][to_predict]"
   ]
  },
  {
   "cell_type": "code",
   "execution_count": 5,
   "id": "e75bee9a-11f9-4c9b-8385-691ba03eb12c",
   "metadata": {},
   "outputs": [],
   "source": [
    "# general model fitting\n",
    "position_model = PositionModel()"
   ]
  },
  {
   "cell_type": "code",
   "execution_count": 6,
   "id": "dea66ee2-a252-4717-addf-3c8b5800e2cc",
   "metadata": {},
   "outputs": [
    {
     "data": {
      "text/html": [
       "<style>#sk-container-id-1 {color: black;background-color: white;}#sk-container-id-1 pre{padding: 0;}#sk-container-id-1 div.sk-toggleable {background-color: white;}#sk-container-id-1 label.sk-toggleable__label {cursor: pointer;display: block;width: 100%;margin-bottom: 0;padding: 0.3em;box-sizing: border-box;text-align: center;}#sk-container-id-1 label.sk-toggleable__label-arrow:before {content: \"▸\";float: left;margin-right: 0.25em;color: #696969;}#sk-container-id-1 label.sk-toggleable__label-arrow:hover:before {color: black;}#sk-container-id-1 div.sk-estimator:hover label.sk-toggleable__label-arrow:before {color: black;}#sk-container-id-1 div.sk-toggleable__content {max-height: 0;max-width: 0;overflow: hidden;text-align: left;background-color: #f0f8ff;}#sk-container-id-1 div.sk-toggleable__content pre {margin: 0.2em;color: black;border-radius: 0.25em;background-color: #f0f8ff;}#sk-container-id-1 input.sk-toggleable__control:checked~div.sk-toggleable__content {max-height: 200px;max-width: 100%;overflow: auto;}#sk-container-id-1 input.sk-toggleable__control:checked~label.sk-toggleable__label-arrow:before {content: \"▾\";}#sk-container-id-1 div.sk-estimator input.sk-toggleable__control:checked~label.sk-toggleable__label {background-color: #d4ebff;}#sk-container-id-1 div.sk-label input.sk-toggleable__control:checked~label.sk-toggleable__label {background-color: #d4ebff;}#sk-container-id-1 input.sk-hidden--visually {border: 0;clip: rect(1px 1px 1px 1px);clip: rect(1px, 1px, 1px, 1px);height: 1px;margin: -1px;overflow: hidden;padding: 0;position: absolute;width: 1px;}#sk-container-id-1 div.sk-estimator {font-family: monospace;background-color: #f0f8ff;border: 1px dotted black;border-radius: 0.25em;box-sizing: border-box;margin-bottom: 0.5em;}#sk-container-id-1 div.sk-estimator:hover {background-color: #d4ebff;}#sk-container-id-1 div.sk-parallel-item::after {content: \"\";width: 100%;border-bottom: 1px solid gray;flex-grow: 1;}#sk-container-id-1 div.sk-label:hover label.sk-toggleable__label {background-color: #d4ebff;}#sk-container-id-1 div.sk-serial::before {content: \"\";position: absolute;border-left: 1px solid gray;box-sizing: border-box;top: 0;bottom: 0;left: 50%;z-index: 0;}#sk-container-id-1 div.sk-serial {display: flex;flex-direction: column;align-items: center;background-color: white;padding-right: 0.2em;padding-left: 0.2em;position: relative;}#sk-container-id-1 div.sk-item {position: relative;z-index: 1;}#sk-container-id-1 div.sk-parallel {display: flex;align-items: stretch;justify-content: center;background-color: white;position: relative;}#sk-container-id-1 div.sk-item::before, #sk-container-id-1 div.sk-parallel-item::before {content: \"\";position: absolute;border-left: 1px solid gray;box-sizing: border-box;top: 0;bottom: 0;left: 50%;z-index: -1;}#sk-container-id-1 div.sk-parallel-item {display: flex;flex-direction: column;z-index: 1;position: relative;background-color: white;}#sk-container-id-1 div.sk-parallel-item:first-child::after {align-self: flex-end;width: 50%;}#sk-container-id-1 div.sk-parallel-item:last-child::after {align-self: flex-start;width: 50%;}#sk-container-id-1 div.sk-parallel-item:only-child::after {width: 0;}#sk-container-id-1 div.sk-dashed-wrapped {border: 1px dashed gray;margin: 0 0.4em 0.5em 0.4em;box-sizing: border-box;padding-bottom: 0.4em;background-color: white;}#sk-container-id-1 div.sk-label label {font-family: monospace;font-weight: bold;display: inline-block;line-height: 1.2em;}#sk-container-id-1 div.sk-label-container {text-align: center;}#sk-container-id-1 div.sk-container {/* jupyter's `normalize.less` sets `[hidden] { display: none; }` but bootstrap.min.css set `[hidden] { display: none !important; }` so we also need the `!important` here to be able to override the default hidden behavior on the sphinx rendered scikit-learn.org. See: https://github.com/scikit-learn/scikit-learn/issues/21755 */display: inline-block !important;position: relative;}#sk-container-id-1 div.sk-text-repr-fallback {display: none;}</style><div id=\"sk-container-id-1\" class=\"sk-top-container\"><div class=\"sk-text-repr-fallback\"><pre>RandomForestRegressor(random_state=42)</pre><b>In a Jupyter environment, please rerun this cell to show the HTML representation or trust the notebook. <br />On GitHub, the HTML representation is unable to render, please try loading this page with nbviewer.org.</b></div><div class=\"sk-container\" hidden><div class=\"sk-item\"><div class=\"sk-estimator sk-toggleable\"><input class=\"sk-toggleable__control sk-hidden--visually\" id=\"sk-estimator-id-1\" type=\"checkbox\" checked><label for=\"sk-estimator-id-1\" class=\"sk-toggleable__label sk-toggleable__label-arrow\">RandomForestRegressor</label><div class=\"sk-toggleable__content\"><pre>RandomForestRegressor(random_state=42)</pre></div></div></div></div></div>"
      ],
      "text/plain": [
       "RandomForestRegressor(random_state=42)"
      ]
     },
     "execution_count": 6,
     "metadata": {},
     "output_type": "execute_result"
    }
   ],
   "source": [
    "position_model.def_model.fit(X_train_def, y_train_def)\n",
    "position_model.mid_model.fit(X_train_mid, y_train_mid)"
   ]
  },
  {
   "cell_type": "code",
   "execution_count": 7,
   "id": "f196ddf0-6a9a-4b72-9705-a0c61405e9f6",
   "metadata": {},
   "outputs": [],
   "source": [
    "# getting next gameweek\n",
    "next_gameweek = get_next_gameweek(previous_games, NEXT_GAMEWEEK, rolling_columns)"
   ]
  },
  {
   "cell_type": "code",
   "execution_count": 8,
   "id": "afc013b0-b2d5-4308-8049-2e462c402994",
   "metadata": {},
   "outputs": [],
   "source": [
    "# removing NaNs\n",
    "next_gameweek = next_gameweek.dropna(subset = features)"
   ]
  },
  {
   "cell_type": "code",
   "execution_count": 9,
   "id": "8e572d1a-6abf-4c90-9013-80ebbbe4cb95",
   "metadata": {},
   "outputs": [],
   "source": [
    "next_gameweek_gk = next_gameweek[next_gameweek['position_fpl'] == 'GK']\n",
    "next_gameweek_def = next_gameweek[next_gameweek['position_fpl'] == 'DEF']\n",
    "next_gameweek_mid = next_gameweek[next_gameweek['position_fpl'] == 'MID']\n",
    "next_gameweek_fwd = next_gameweek[next_gameweek['position_fpl'] == 'FWD']"
   ]
  },
  {
   "cell_type": "code",
   "execution_count": 10,
   "id": "b1031be9-cfe1-45d6-a22b-64ddce18d277",
   "metadata": {},
   "outputs": [],
   "source": [
    "def get_shap_index_by_name(df, name):\n",
    "    index = 0\n",
    "    for i, r in df.iterrows():\n",
    "        if r['name'] == name:\n",
    "            return index\n",
    "        index += 1\n",
    "    return None"
   ]
  },
  {
   "cell_type": "markdown",
   "id": "8aa21127-2c86-42d7-b1ad-fe8f26243526",
   "metadata": {},
   "source": [
    "# DEFENDERS"
   ]
  },
  {
   "cell_type": "code",
   "execution_count": 11,
   "id": "36498345-2db6-4789-9637-36b844e23174",
   "metadata": {},
   "outputs": [],
   "source": [
    "# predicting\n",
    "pred_points = position_model.def_model.predict(next_gameweek_def[features])"
   ]
  },
  {
   "cell_type": "code",
   "execution_count": 12,
   "id": "6db740a3-adce-44d5-a767-2478e63c5929",
   "metadata": {},
   "outputs": [],
   "source": [
    "predictions = next_gameweek_def\n",
    "predictions.insert(1, 'pred_points', pred_points)\n",
    "predictions = predictions.sort_values(by = 'pred_points', ascending = False)"
   ]
  },
  {
   "cell_type": "code",
   "execution_count": 13,
   "id": "8cf84476-ca94-47aa-8f74-8f1f61f77a58",
   "metadata": {},
   "outputs": [
    {
     "data": {
      "text/html": [
       "<div>\n",
       "<style scoped>\n",
       "    .dataframe tbody tr th:only-of-type {\n",
       "        vertical-align: middle;\n",
       "    }\n",
       "\n",
       "    .dataframe tbody tr th {\n",
       "        vertical-align: top;\n",
       "    }\n",
       "\n",
       "    .dataframe thead th {\n",
       "        text-align: right;\n",
       "    }\n",
       "</style>\n",
       "<table border=\"1\" class=\"dataframe\">\n",
       "  <thead>\n",
       "    <tr style=\"text-align: right;\">\n",
       "      <th></th>\n",
       "      <th>name</th>\n",
       "      <th>was_home</th>\n",
       "      <th>opp_team_rating</th>\n",
       "      <th>pred_points</th>\n",
       "    </tr>\n",
       "  </thead>\n",
       "  <tbody>\n",
       "    <tr>\n",
       "      <th>30</th>\n",
       "      <td>Reece James</td>\n",
       "      <td>0</td>\n",
       "      <td>1749.146973</td>\n",
       "      <td>6.72</td>\n",
       "    </tr>\n",
       "    <tr>\n",
       "      <th>80</th>\n",
       "      <td>Eric Dier</td>\n",
       "      <td>0</td>\n",
       "      <td>1872.177490</td>\n",
       "      <td>6.27</td>\n",
       "    </tr>\n",
       "    <tr>\n",
       "      <th>83</th>\n",
       "      <td>Ryan Sessegnon</td>\n",
       "      <td>0</td>\n",
       "      <td>1872.177490</td>\n",
       "      <td>6.04</td>\n",
       "    </tr>\n",
       "    <tr>\n",
       "      <th>57</th>\n",
       "      <td>Kieran Trippier</td>\n",
       "      <td>0</td>\n",
       "      <td>1661.436523</td>\n",
       "      <td>5.51</td>\n",
       "    </tr>\n",
       "    <tr>\n",
       "      <th>67</th>\n",
       "      <td>Fabian Schär</td>\n",
       "      <td>0</td>\n",
       "      <td>1661.436523</td>\n",
       "      <td>4.69</td>\n",
       "    </tr>\n",
       "    <tr>\n",
       "      <th>87</th>\n",
       "      <td>Virgil van Dijk</td>\n",
       "      <td>1</td>\n",
       "      <td>1779.396606</td>\n",
       "      <td>4.20</td>\n",
       "    </tr>\n",
       "    <tr>\n",
       "      <th>2</th>\n",
       "      <td>Cheikhou Kouyaté</td>\n",
       "      <td>1</td>\n",
       "      <td>1853.123535</td>\n",
       "      <td>4.14</td>\n",
       "    </tr>\n",
       "    <tr>\n",
       "      <th>55</th>\n",
       "      <td>Kyle Walker-Peters</td>\n",
       "      <td>1</td>\n",
       "      <td>1697.177124</td>\n",
       "      <td>3.47</td>\n",
       "    </tr>\n",
       "    <tr>\n",
       "      <th>85</th>\n",
       "      <td>Trent Alexander-Arnold</td>\n",
       "      <td>1</td>\n",
       "      <td>1779.396606</td>\n",
       "      <td>2.67</td>\n",
       "    </tr>\n",
       "    <tr>\n",
       "      <th>86</th>\n",
       "      <td>Joachim Andersen</td>\n",
       "      <td>1</td>\n",
       "      <td>1853.123535</td>\n",
       "      <td>2.23</td>\n",
       "    </tr>\n",
       "    <tr>\n",
       "      <th>58</th>\n",
       "      <td>Timothy Castagne</td>\n",
       "      <td>1</td>\n",
       "      <td>1589.250000</td>\n",
       "      <td>1.86</td>\n",
       "    </tr>\n",
       "    <tr>\n",
       "      <th>23</th>\n",
       "      <td>Tosin Adarabioyo</td>\n",
       "      <td>1</td>\n",
       "      <td>1752.188477</td>\n",
       "      <td>1.28</td>\n",
       "    </tr>\n",
       "    <tr>\n",
       "      <th>39</th>\n",
       "      <td>Ben Mee</td>\n",
       "      <td>0</td>\n",
       "      <td>1638.479126</td>\n",
       "      <td>0.67</td>\n",
       "    </tr>\n",
       "  </tbody>\n",
       "</table>\n",
       "</div>"
      ],
      "text/plain": [
       "                      name  was_home  opp_team_rating  pred_points\n",
       "30             Reece James         0      1749.146973         6.72\n",
       "80               Eric Dier         0      1872.177490         6.27\n",
       "83          Ryan Sessegnon         0      1872.177490         6.04\n",
       "57         Kieran Trippier         0      1661.436523         5.51\n",
       "67            Fabian Schär         0      1661.436523         4.69\n",
       "87         Virgil van Dijk         1      1779.396606         4.20\n",
       "2         Cheikhou Kouyaté         1      1853.123535         4.14\n",
       "55      Kyle Walker-Peters         1      1697.177124         3.47\n",
       "85  Trent Alexander-Arnold         1      1779.396606         2.67\n",
       "86        Joachim Andersen         1      1853.123535         2.23\n",
       "58        Timothy Castagne         1      1589.250000         1.86\n",
       "23        Tosin Adarabioyo         1      1752.188477         1.28\n",
       "39                 Ben Mee         0      1638.479126         0.67"
      ]
     },
     "execution_count": 13,
     "metadata": {},
     "output_type": "execute_result"
    }
   ],
   "source": [
    "predictions[['name', 'was_home', 'opp_team_rating', 'pred_points']].head(20)"
   ]
  },
  {
   "cell_type": "code",
   "execution_count": 14,
   "id": "9e6c9c4d-b4a0-4bed-ab19-0aad04d6529f",
   "metadata": {},
   "outputs": [],
   "source": [
    "# shap for predictions\n",
    "explainer_pred = shap.Explainer(position_model.def_model, X_train_def)\n",
    "shap_values_pred = explainer_pred(next_gameweek_def[features], check_additivity=False)"
   ]
  },
  {
   "cell_type": "code",
   "execution_count": 15,
   "id": "c605f063-5ff4-43fe-af46-c37c6a95775e",
   "metadata": {},
   "outputs": [
    {
     "data": {
      "image/png": "[encoded data removed]",
      "text/plain": [
       "<Figure size 576x396 with 2 Axes>"
      ]
     },
     "metadata": {
      "needs_background": "light"
     },
     "output_type": "display_data"
    }
   ],
   "source": [
    "# feature influence\n",
    "shap.plots.beeswarm(shap_values_pred)"
   ]
  },
  {
   "cell_type": "code",
   "execution_count": 16,
   "id": "bc89c0c1-2b01-4b26-a0ea-a84e736db0f4",
   "metadata": {},
   "outputs": [
    {
     "data": {
      "image/png": "[encoded data removed]",
      "text/plain": [
       "<Figure size 576x468 with 1 Axes>"
      ]
     },
     "metadata": {},
     "output_type": "display_data"
    }
   ],
   "source": [
    "# feature importance\n",
    "shap.plots.bar(shap_values_pred)"
   ]
  },
  {
   "cell_type": "markdown",
   "id": "f23d3713-7932-40ad-a201-8fcf579d496f",
   "metadata": {},
   "source": [
    "# MIDFIELDERS"
   ]
  },
  {
   "cell_type": "code",
   "execution_count": 17,
   "id": "fd2fd2c9-0a3b-46be-ac04-e39aae62064f",
   "metadata": {},
   "outputs": [],
   "source": [
    "# predicting\n",
    "pred_points = position_model.mid_model.predict(next_gameweek_mid[features])"
   ]
  },
  {
   "cell_type": "code",
   "execution_count": 18,
   "id": "1443c0a3-ab59-4f7e-bf78-48850f7dc88d",
   "metadata": {},
   "outputs": [
    {
     "ename": "ValueError",
     "evalue": "Length of values (13) does not match length of index (38)",
     "output_type": "error",
     "traceback": [
      "\u001b[1;31m---------------------------------------------------------------------------\u001b[0m",
      "\u001b[1;31mValueError\u001b[0m                                Traceback (most recent call last)",
      "Input \u001b[1;32mIn [18]\u001b[0m, in \u001b[0;36m<cell line: 2>\u001b[1;34m()\u001b[0m\n\u001b[0;32m      1\u001b[0m predictions \u001b[38;5;241m=\u001b[39m next_gameweek_mid\n\u001b[1;32m----> 2\u001b[0m \u001b[43mpredictions\u001b[49m\u001b[38;5;241;43m.\u001b[39;49m\u001b[43minsert\u001b[49m\u001b[43m(\u001b[49m\u001b[38;5;241;43m1\u001b[39;49m\u001b[43m,\u001b[49m\u001b[43m \u001b[49m\u001b[38;5;124;43m'\u001b[39;49m\u001b[38;5;124;43mpred_points\u001b[39;49m\u001b[38;5;124;43m'\u001b[39;49m\u001b[43m,\u001b[49m\u001b[43m \u001b[49m\u001b[43mpred_points\u001b[49m\u001b[43m)\u001b[49m\n\u001b[0;32m      3\u001b[0m predictions \u001b[38;5;241m=\u001b[39m predictions\u001b[38;5;241m.\u001b[39msort_values(by \u001b[38;5;241m=\u001b[39m \u001b[38;5;124m'\u001b[39m\u001b[38;5;124mpred_points\u001b[39m\u001b[38;5;124m'\u001b[39m, ascending \u001b[38;5;241m=\u001b[39m \u001b[38;5;28;01mFalse\u001b[39;00m)\n",
      "File \u001b[1;32mC:\\users\\user\\appdata\\local\\programs\\python\\python38\\lib\\site-packages\\pandas\\core\\frame.py:4444\u001b[0m, in \u001b[0;36mDataFrame.insert\u001b[1;34m(self, loc, column, value, allow_duplicates)\u001b[0m\n\u001b[0;32m   4441\u001b[0m \u001b[38;5;28;01mif\u001b[39;00m \u001b[38;5;129;01mnot\u001b[39;00m \u001b[38;5;28misinstance\u001b[39m(loc, \u001b[38;5;28mint\u001b[39m):\n\u001b[0;32m   4442\u001b[0m     \u001b[38;5;28;01mraise\u001b[39;00m \u001b[38;5;167;01mTypeError\u001b[39;00m(\u001b[38;5;124m\"\u001b[39m\u001b[38;5;124mloc must be int\u001b[39m\u001b[38;5;124m\"\u001b[39m)\n\u001b[1;32m-> 4444\u001b[0m value \u001b[38;5;241m=\u001b[39m \u001b[38;5;28;43mself\u001b[39;49m\u001b[38;5;241;43m.\u001b[39;49m\u001b[43m_sanitize_column\u001b[49m\u001b[43m(\u001b[49m\u001b[43mvalue\u001b[49m\u001b[43m)\u001b[49m\n\u001b[0;32m   4445\u001b[0m \u001b[38;5;28mself\u001b[39m\u001b[38;5;241m.\u001b[39m_mgr\u001b[38;5;241m.\u001b[39minsert(loc, column, value)\n",
      "File \u001b[1;32mC:\\users\\user\\appdata\\local\\programs\\python\\python38\\lib\\site-packages\\pandas\\core\\frame.py:4535\u001b[0m, in \u001b[0;36mDataFrame._sanitize_column\u001b[1;34m(self, value)\u001b[0m\n\u001b[0;32m   4532\u001b[0m     \u001b[38;5;28;01mreturn\u001b[39;00m _reindex_for_setitem(value, \u001b[38;5;28mself\u001b[39m\u001b[38;5;241m.\u001b[39mindex)\n\u001b[0;32m   4534\u001b[0m \u001b[38;5;28;01mif\u001b[39;00m is_list_like(value):\n\u001b[1;32m-> 4535\u001b[0m     \u001b[43mcom\u001b[49m\u001b[38;5;241;43m.\u001b[39;49m\u001b[43mrequire_length_match\u001b[49m\u001b[43m(\u001b[49m\u001b[43mvalue\u001b[49m\u001b[43m,\u001b[49m\u001b[43m \u001b[49m\u001b[38;5;28;43mself\u001b[39;49m\u001b[38;5;241;43m.\u001b[39;49m\u001b[43mindex\u001b[49m\u001b[43m)\u001b[49m\n\u001b[0;32m   4536\u001b[0m \u001b[38;5;28;01mreturn\u001b[39;00m sanitize_array(value, \u001b[38;5;28mself\u001b[39m\u001b[38;5;241m.\u001b[39mindex, copy\u001b[38;5;241m=\u001b[39m\u001b[38;5;28;01mTrue\u001b[39;00m, allow_2d\u001b[38;5;241m=\u001b[39m\u001b[38;5;28;01mTrue\u001b[39;00m)\n",
      "File \u001b[1;32mC:\\users\\user\\appdata\\local\\programs\\python\\python38\\lib\\site-packages\\pandas\\core\\common.py:557\u001b[0m, in \u001b[0;36mrequire_length_match\u001b[1;34m(data, index)\u001b[0m\n\u001b[0;32m    553\u001b[0m \u001b[38;5;124;03m\"\"\"\u001b[39;00m\n\u001b[0;32m    554\u001b[0m \u001b[38;5;124;03mCheck the length of data matches the length of the index.\u001b[39;00m\n\u001b[0;32m    555\u001b[0m \u001b[38;5;124;03m\"\"\"\u001b[39;00m\n\u001b[0;32m    556\u001b[0m \u001b[38;5;28;01mif\u001b[39;00m \u001b[38;5;28mlen\u001b[39m(data) \u001b[38;5;241m!=\u001b[39m \u001b[38;5;28mlen\u001b[39m(index):\n\u001b[1;32m--> 557\u001b[0m     \u001b[38;5;28;01mraise\u001b[39;00m \u001b[38;5;167;01mValueError\u001b[39;00m(\n\u001b[0;32m    558\u001b[0m         \u001b[38;5;124m\"\u001b[39m\u001b[38;5;124mLength of values \u001b[39m\u001b[38;5;124m\"\u001b[39m\n\u001b[0;32m    559\u001b[0m         \u001b[38;5;124mf\u001b[39m\u001b[38;5;124m\"\u001b[39m\u001b[38;5;124m(\u001b[39m\u001b[38;5;132;01m{\u001b[39;00m\u001b[38;5;28mlen\u001b[39m(data)\u001b[38;5;132;01m}\u001b[39;00m\u001b[38;5;124m) \u001b[39m\u001b[38;5;124m\"\u001b[39m\n\u001b[0;32m    560\u001b[0m         \u001b[38;5;124m\"\u001b[39m\u001b[38;5;124mdoes not match length of index \u001b[39m\u001b[38;5;124m\"\u001b[39m\n\u001b[0;32m    561\u001b[0m         \u001b[38;5;124mf\u001b[39m\u001b[38;5;124m\"\u001b[39m\u001b[38;5;124m(\u001b[39m\u001b[38;5;132;01m{\u001b[39;00m\u001b[38;5;28mlen\u001b[39m(index)\u001b[38;5;132;01m}\u001b[39;00m\u001b[38;5;124m)\u001b[39m\u001b[38;5;124m\"\u001b[39m\n\u001b[0;32m    562\u001b[0m     )\n",
      "\u001b[1;31mValueError\u001b[0m: Length of values (13) does not match length of index (38)"
     ]
    }
   ],
   "source": [
    "predictions = next_gameweek_mid\n",
    "predictions.insert(1, 'pred_points', pred_points)\n",
    "predictions = predictions.sort_values(by = 'pred_points', ascending = False)"
   ]
  },
  {
   "cell_type": "code",
   "execution_count": null,
   "id": "18979862-c653-4153-9ecc-cf5812c1bace",
   "metadata": {},
   "outputs": [],
   "source": [
    "predictions[['name', 'was_home', 'opp_team_rating', 'pred_points']].head(20)"
   ]
  },
  {
   "cell_type": "code",
   "execution_count": null,
   "id": "305bdb57-1987-440f-bd8e-a5e29c01ee51",
   "metadata": {},
   "outputs": [],
   "source": [
    "# shap for predictions\n",
    "explainer_pred = shap.Explainer(position_model.mid_model, X_train_def)\n",
    "shap_values_pred = explainer_pred(next_gameweek_mid[features], check_additivity=False)"
   ]
  },
  {
   "cell_type": "code",
   "execution_count": null,
   "id": "cd4c4189-35df-4148-8793-e80c34a86eb4",
   "metadata": {},
   "outputs": [],
   "source": [
    "# shap for previous games\n",
    "explainer = shap.Explainer(position_model.mid_model, X_train_mid)\n",
    "shap_values = explainer(X_train_def, check_additivity=False)"
   ]
  },
  {
   "cell_type": "code",
   "execution_count": null,
   "id": "443d6060-eded-4cc7-97bd-91394f2dab5b",
   "metadata": {},
   "outputs": [],
   "source": [
    "# feature influence\n",
    "shap.plots.beeswarm(shap_values)"
   ]
  },
  {
   "cell_type": "code",
   "execution_count": null,
   "id": "691c4742-3dca-484e-b27f-56be44d075e7",
   "metadata": {},
   "outputs": [],
   "source": [
    "# feature importance\n",
    "shap.plots.bar(shap_values)"
   ]
  },
  {
   "cell_type": "code",
   "execution_count": null,
   "id": "bf4916ca-f55f-4e3c-b15e-8f8555cb797e",
   "metadata": {},
   "outputs": [],
   "source": []
  },
  {
   "cell_type": "code",
   "execution_count": null,
   "id": "cd1ee4f7-2165-421c-9bc4-076ab0922e84",
   "metadata": {},
   "outputs": [],
   "source": []
  },
  {
   "cell_type": "code",
   "execution_count": null,
   "id": "85da9bbb-2f04-4a95-9144-3127cf135132",
   "metadata": {},
   "outputs": [],
   "source": []
  },
  {
   "cell_type": "code",
   "execution_count": null,
   "id": "df10b157-1e65-40f1-a732-2d49f5f534e5",
   "metadata": {},
   "outputs": [],
   "source": []
  }
 ],
 "metadata": {
  "kernelspec": {
   "display_name": "Python 3 (ipykernel)",
   "language": "python",
   "name": "python3"
  },
  "language_info": {
   "codemirror_mode": {
    "name": "ipython",
    "version": 3
   },
   "file_extension": ".py",
   "mimetype": "text/x-python",
   "name": "python",
   "nbconvert_exporter": "python",
   "pygments_lexer": "ipython3",
   "version": "3.8.0"
  }
 },
 "nbformat": 4,
 "nbformat_minor": 5
}
