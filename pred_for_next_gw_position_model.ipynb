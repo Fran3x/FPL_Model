{
 "cells": [
  {
   "cell_type": "code",
   "execution_count": 1,
   "id": "2c28f54e-374c-427d-80a1-83730807524e",
   "metadata": {},
   "outputs": [],
   "source": [
    "from data_prep import *\n",
    "from PositionModel import *\n",
    "from PlayerModel import *\n",
    "from commons import *\n",
    "import shap\n",
    "from sklearn.ensemble import RandomForestRegressor"
   ]
  },
  {
   "cell_type": "code",
   "execution_count": 2,
   "id": "642d1e68-a2ad-4672-b37a-5391530c8f75",
   "metadata": {},
   "outputs": [],
   "source": [
    "features = ['goals_scored_avg5', 'xG_avg5', 'assists_fpl_avg5',\n",
    "       'bonus_avg5', 'bps_avg5', 'clean_sheets_avg5', 'goals_conceded_avg5',\n",
    "       'shots_avg5', 'xGBuildup_avg5', 'xGChain_avg5', 'yellow_cards_avg5',\n",
    "       'red_cards_avg5', 'was_home', 'rating_diff', 'minutes_avg5']\n",
    "rolling_columns = ['goals_scored', 'xG', 'assists_fpl', 'bonus', 'bps', 'clean_sheets', 'goals_conceded', 'shots', 'xGBuildup', 'xGChain', 'yellow_cards', 'red_cards', 'minutes']\n",
    "to_predict = 'total_points'"
   ]
  },
  {
   "cell_type": "code",
   "execution_count": 3,
   "id": "51cb9e26-86a5-42c7-8fdf-06c6a307b636",
   "metadata": {
    "tags": []
   },
   "outputs": [
    {
     "name": "stderr",
     "output_type": "stream",
     "text": [
      "Columns (5,39) have mixed types. Specify dtype option on import or set low_memory=False.\n"
     ]
    },
    {
     "name": "stdout",
     "output_type": "stream",
     "text": [
      "LENGTH (0, 41)\n"
     ]
    },
    {
     "ename": "ValueError",
     "evalue": "Incompatible indexer with Series",
     "output_type": "error",
     "traceback": [
      "\u001b[1;31m---------------------------------------------------------------------------\u001b[0m",
      "\u001b[1;31mValueError\u001b[0m                                Traceback (most recent call last)",
      "Input \u001b[1;32mIn [3]\u001b[0m, in \u001b[0;36m<cell line: 2>\u001b[1;34m()\u001b[0m\n\u001b[0;32m      1\u001b[0m \u001b[38;5;66;03m# loading dataset\u001b[39;00m\n\u001b[1;32m----> 2\u001b[0m previous_games \u001b[38;5;241m=\u001b[39m \u001b[43mmerged_understat_and_fpl\u001b[49m\u001b[43m(\u001b[49m\u001b[43mrolling_columns\u001b[49m\u001b[43m,\u001b[49m\u001b[43m \u001b[49m\u001b[38;5;28;43;01mTrue\u001b[39;49;00m\u001b[43m)\u001b[49m\n",
      "File \u001b[1;32mD:\\PulpitE\\FPL_ML\\data_prep.py:451\u001b[0m, in \u001b[0;36mmerged_understat_and_fpl\u001b[1;34m(rolling_columns, save_to_file)\u001b[0m\n\u001b[0;32m    449\u001b[0m \u001b[38;5;28;01mdef\u001b[39;00m \u001b[38;5;21mmerged_understat_and_fpl\u001b[39m(rolling_columns \u001b[38;5;241m=\u001b[39m [], save_to_file \u001b[38;5;241m=\u001b[39m \u001b[38;5;28;01mFalse\u001b[39;00m):\n\u001b[0;32m    450\u001b[0m     \u001b[38;5;66;03m# returns all previous performances\u001b[39;00m\n\u001b[1;32m--> 451\u001b[0m     dataset \u001b[38;5;241m=\u001b[39m \u001b[43mload_previous_games\u001b[49m\u001b[43m(\u001b[49m\u001b[43mrolling_columns\u001b[49m\u001b[43m)\u001b[49m\n\u001b[0;32m    453\u001b[0m     \u001b[38;5;66;03m# saving to file\u001b[39;00m\n\u001b[0;32m    454\u001b[0m     \u001b[38;5;28;01mif\u001b[39;00m save_to_file:\n",
      "File \u001b[1;32mD:\\PulpitE\\FPL_ML\\data_prep.py:222\u001b[0m, in \u001b[0;36mload_previous_games\u001b[1;34m(rolling_columns)\u001b[0m\n\u001b[0;32m    220\u001b[0m \u001b[38;5;28;01mdef\u001b[39;00m \u001b[38;5;21mload_previous_games\u001b[39m(rolling_columns):\n\u001b[0;32m    221\u001b[0m     epl_players \u001b[38;5;241m=\u001b[39m get_epl_players()\n\u001b[1;32m--> 222\u001b[0m     fpl_data \u001b[38;5;241m=\u001b[39m \u001b[43mget_fpl_data\u001b[49m\u001b[43m(\u001b[49m\u001b[43m)\u001b[49m\n\u001b[0;32m    224\u001b[0m     dataset \u001b[38;5;241m=\u001b[39m load_every_player(epl_players, fpl_data, rolling_columns)\n\u001b[0;32m    226\u001b[0m     excluded_columns \u001b[38;5;241m=\u001b[39m [\u001b[38;5;124m'\u001b[39m\u001b[38;5;124mh_team_und\u001b[39m\u001b[38;5;124m'\u001b[39m, \u001b[38;5;124m'\u001b[39m\u001b[38;5;124ma_team_und\u001b[39m\u001b[38;5;124m'\u001b[39m, \u001b[38;5;124m'\u001b[39m\u001b[38;5;124mh_team_fpl\u001b[39m\u001b[38;5;124m'\u001b[39m, \u001b[38;5;124m'\u001b[39m\u001b[38;5;124ma_team_fpl\u001b[39m\u001b[38;5;124m'\u001b[39m, \u001b[38;5;124m'\u001b[39m\u001b[38;5;124mroster_id\u001b[39m\u001b[38;5;124m'\u001b[39m]\n",
      "File \u001b[1;32mD:\\PulpitE\\FPL_ML\\data_prep.py:96\u001b[0m, in \u001b[0;36mget_fpl_data\u001b[1;34m()\u001b[0m\n\u001b[0;32m     94\u001b[0m fpl_data \u001b[38;5;241m=\u001b[39m add_away_team_column(fpl_data)\n\u001b[0;32m     95\u001b[0m fpl_data \u001b[38;5;241m=\u001b[39m add_home_team_column(fpl_data)\n\u001b[1;32m---> 96\u001b[0m fpl_data \u001b[38;5;241m=\u001b[39m \u001b[43madd_missing_a_h_team\u001b[49m\u001b[43m(\u001b[49m\u001b[43mfpl_data\u001b[49m\u001b[43m)\u001b[49m\n\u001b[0;32m     98\u001b[0m \u001b[38;5;28;01mreturn\u001b[39;00m fpl_data\n",
      "File \u001b[1;32mD:\\PulpitE\\FPL_ML\\data_prep.py:81\u001b[0m, in \u001b[0;36madd_missing_a_h_team\u001b[1;34m(df)\u001b[0m\n\u001b[0;32m     78\u001b[0m         df\u001b[38;5;241m.\u001b[39mat[index, \u001b[38;5;124m'\u001b[39m\u001b[38;5;124mh_team\u001b[39m\u001b[38;5;124m'\u001b[39m] \u001b[38;5;241m=\u001b[39m row[\u001b[38;5;124m'\u001b[39m\u001b[38;5;124mteam\u001b[39m\u001b[38;5;124m'\u001b[39m]\n\u001b[0;32m     79\u001b[0m     \u001b[38;5;28;01melse\u001b[39;00m:\n\u001b[0;32m     80\u001b[0m         \u001b[38;5;66;03m# print(df.iloc[0])\u001b[39;00m\n\u001b[1;32m---> 81\u001b[0m         df\u001b[38;5;241m.\u001b[39mat[index, \u001b[38;5;124m'\u001b[39m\u001b[38;5;124ma_team\u001b[39m\u001b[38;5;124m'\u001b[39m] \u001b[38;5;241m=\u001b[39m row[\u001b[38;5;124m'\u001b[39m\u001b[38;5;124mteam\u001b[39m\u001b[38;5;124m'\u001b[39m]\n\u001b[0;32m     83\u001b[0m     index \u001b[38;5;241m+\u001b[39m\u001b[38;5;241m=\u001b[39m \u001b[38;5;241m1\u001b[39m\n\u001b[0;32m     85\u001b[0m \u001b[38;5;28;01mreturn\u001b[39;00m df\n",
      "File \u001b[1;32mC:\\users\\user\\appdata\\local\\programs\\python\\python38\\lib\\site-packages\\pandas\\core\\indexing.py:2278\u001b[0m, in \u001b[0;36m_AtIndexer.__setitem__\u001b[1;34m(self, key, value)\u001b[0m\n\u001b[0;32m   2275\u001b[0m     \u001b[38;5;28;01mif\u001b[39;00m \u001b[38;5;129;01mnot\u001b[39;00m \u001b[38;5;28misinstance\u001b[39m(key, \u001b[38;5;28mtuple\u001b[39m) \u001b[38;5;129;01mor\u001b[39;00m \u001b[38;5;129;01mnot\u001b[39;00m \u001b[38;5;28mall\u001b[39m(is_scalar(x) \u001b[38;5;28;01mfor\u001b[39;00m x \u001b[38;5;129;01min\u001b[39;00m key):\n\u001b[0;32m   2276\u001b[0m         \u001b[38;5;28;01mraise\u001b[39;00m \u001b[38;5;167;01mValueError\u001b[39;00m(\u001b[38;5;124m\"\u001b[39m\u001b[38;5;124mInvalid call for scalar access (setting)!\u001b[39m\u001b[38;5;124m\"\u001b[39m)\n\u001b[1;32m-> 2278\u001b[0m     \u001b[38;5;28mself\u001b[39m\u001b[38;5;241m.\u001b[39mobj\u001b[38;5;241m.\u001b[39mloc[key] \u001b[38;5;241m=\u001b[39m value\n\u001b[0;32m   2279\u001b[0m     \u001b[38;5;28;01mreturn\u001b[39;00m\n\u001b[0;32m   2281\u001b[0m \u001b[38;5;28;01mreturn\u001b[39;00m \u001b[38;5;28msuper\u001b[39m()\u001b[38;5;241m.\u001b[39m\u001b[38;5;21m__setitem__\u001b[39m(key, value)\n",
      "File \u001b[1;32mC:\\users\\user\\appdata\\local\\programs\\python\\python38\\lib\\site-packages\\pandas\\core\\indexing.py:716\u001b[0m, in \u001b[0;36m_LocationIndexer.__setitem__\u001b[1;34m(self, key, value)\u001b[0m\n\u001b[0;32m    713\u001b[0m \u001b[38;5;28mself\u001b[39m\u001b[38;5;241m.\u001b[39m_has_valid_setitem_indexer(key)\n\u001b[0;32m    715\u001b[0m iloc \u001b[38;5;241m=\u001b[39m \u001b[38;5;28mself\u001b[39m \u001b[38;5;28;01mif\u001b[39;00m \u001b[38;5;28mself\u001b[39m\u001b[38;5;241m.\u001b[39mname \u001b[38;5;241m==\u001b[39m \u001b[38;5;124m\"\u001b[39m\u001b[38;5;124miloc\u001b[39m\u001b[38;5;124m\"\u001b[39m \u001b[38;5;28;01melse\u001b[39;00m \u001b[38;5;28mself\u001b[39m\u001b[38;5;241m.\u001b[39mobj\u001b[38;5;241m.\u001b[39miloc\n\u001b[1;32m--> 716\u001b[0m \u001b[43miloc\u001b[49m\u001b[38;5;241;43m.\u001b[39;49m\u001b[43m_setitem_with_indexer\u001b[49m\u001b[43m(\u001b[49m\u001b[43mindexer\u001b[49m\u001b[43m,\u001b[49m\u001b[43m \u001b[49m\u001b[43mvalue\u001b[49m\u001b[43m,\u001b[49m\u001b[43m \u001b[49m\u001b[38;5;28;43mself\u001b[39;49m\u001b[38;5;241;43m.\u001b[39;49m\u001b[43mname\u001b[49m\u001b[43m)\u001b[49m\n",
      "File \u001b[1;32mC:\\users\\user\\appdata\\local\\programs\\python\\python38\\lib\\site-packages\\pandas\\core\\indexing.py:1688\u001b[0m, in \u001b[0;36m_iLocIndexer._setitem_with_indexer\u001b[1;34m(self, indexer, value, name)\u001b[0m\n\u001b[0;32m   1685\u001b[0m \u001b[38;5;66;03m# align and set the values\u001b[39;00m\n\u001b[0;32m   1686\u001b[0m \u001b[38;5;28;01mif\u001b[39;00m take_split_path:\n\u001b[0;32m   1687\u001b[0m     \u001b[38;5;66;03m# We have to operate column-wise\u001b[39;00m\n\u001b[1;32m-> 1688\u001b[0m     \u001b[38;5;28;43mself\u001b[39;49m\u001b[38;5;241;43m.\u001b[39;49m\u001b[43m_setitem_with_indexer_split_path\u001b[49m\u001b[43m(\u001b[49m\u001b[43mindexer\u001b[49m\u001b[43m,\u001b[49m\u001b[43m \u001b[49m\u001b[43mvalue\u001b[49m\u001b[43m,\u001b[49m\u001b[43m \u001b[49m\u001b[43mname\u001b[49m\u001b[43m)\u001b[49m\n\u001b[0;32m   1689\u001b[0m \u001b[38;5;28;01melse\u001b[39;00m:\n\u001b[0;32m   1690\u001b[0m     \u001b[38;5;28mself\u001b[39m\u001b[38;5;241m.\u001b[39m_setitem_single_block(indexer, value, name)\n",
      "File \u001b[1;32mC:\\users\\user\\appdata\\local\\programs\\python\\python38\\lib\\site-packages\\pandas\\core\\indexing.py:1709\u001b[0m, in \u001b[0;36m_iLocIndexer._setitem_with_indexer_split_path\u001b[1;34m(self, indexer, value, name)\u001b[0m\n\u001b[0;32m   1706\u001b[0m \u001b[38;5;28;01mif\u001b[39;00m (\u001b[38;5;28misinstance\u001b[39m(value, ABCSeries) \u001b[38;5;129;01mand\u001b[39;00m name \u001b[38;5;241m!=\u001b[39m \u001b[38;5;124m\"\u001b[39m\u001b[38;5;124miloc\u001b[39m\u001b[38;5;124m\"\u001b[39m) \u001b[38;5;129;01mor\u001b[39;00m \u001b[38;5;28misinstance\u001b[39m(value, \u001b[38;5;28mdict\u001b[39m):\n\u001b[0;32m   1707\u001b[0m     \u001b[38;5;28;01mfrom\u001b[39;00m \u001b[38;5;21;01mpandas\u001b[39;00m \u001b[38;5;28;01mimport\u001b[39;00m Series\n\u001b[1;32m-> 1709\u001b[0m     value \u001b[38;5;241m=\u001b[39m \u001b[38;5;28;43mself\u001b[39;49m\u001b[38;5;241;43m.\u001b[39;49m\u001b[43m_align_series\u001b[49m\u001b[43m(\u001b[49m\u001b[43mindexer\u001b[49m\u001b[43m,\u001b[49m\u001b[43m \u001b[49m\u001b[43mSeries\u001b[49m\u001b[43m(\u001b[49m\u001b[43mvalue\u001b[49m\u001b[43m)\u001b[49m\u001b[43m)\u001b[49m\n\u001b[0;32m   1711\u001b[0m \u001b[38;5;66;03m# Ensure we have something we can iterate over\u001b[39;00m\n\u001b[0;32m   1712\u001b[0m info_axis \u001b[38;5;241m=\u001b[39m indexer[\u001b[38;5;241m1\u001b[39m]\n",
      "File \u001b[1;32mC:\\users\\user\\appdata\\local\\programs\\python\\python38\\lib\\site-packages\\pandas\\core\\indexing.py:2148\u001b[0m, in \u001b[0;36m_iLocIndexer._align_series\u001b[1;34m(self, indexer, ser, multiindex_indexer)\u001b[0m\n\u001b[0;32m   2144\u001b[0m         \u001b[38;5;28;01mreturn\u001b[39;00m ser\u001b[38;5;241m.\u001b[39m_values\u001b[38;5;241m.\u001b[39mcopy()\n\u001b[0;32m   2146\u001b[0m     \u001b[38;5;28;01mreturn\u001b[39;00m ser\u001b[38;5;241m.\u001b[39mreindex(ax)\u001b[38;5;241m.\u001b[39m_values\n\u001b[1;32m-> 2148\u001b[0m \u001b[38;5;28;01mraise\u001b[39;00m \u001b[38;5;167;01mValueError\u001b[39;00m(\u001b[38;5;124m\"\u001b[39m\u001b[38;5;124mIncompatible indexer with Series\u001b[39m\u001b[38;5;124m\"\u001b[39m)\n",
      "\u001b[1;31mValueError\u001b[0m: Incompatible indexer with Series"
     ]
    }
   ],
   "source": [
    "# loading dataset\n",
    "previous_games = merged_understat_and_fpl(rolling_columns, True)\n",
    "# previous_games = load_dataset()"
   ]
  },
  {
   "cell_type": "code",
   "execution_count": null,
   "id": "a092b974-71a7-4213-92eb-8d097c1c0f86",
   "metadata": {},
   "outputs": [],
   "source": [
    "previous_games.columns"
   ]
  },
  {
   "cell_type": "code",
   "execution_count": null,
   "id": "30609b15-d3ed-4be2-a2b7-8acab3f23f93",
   "metadata": {},
   "outputs": [],
   "source": [
    "# splitting data\n",
    "X_train_def = previous_games[previous_games['position_fpl'] == 'DEF'][features]\n",
    "y_train_def = previous_games[previous_games['position_fpl'] == 'DEF'][to_predict]\n",
    "\n",
    "X_train_mid = previous_games[previous_games['position_fpl'] == 'MID'][features]\n",
    "y_train_mid = previous_games[previous_games['position_fpl'] == 'MID'][to_predict]\n",
    "\n",
    "X_train_fwd = previous_games[previous_games['position_fpl'] == 'FWD'][features]\n",
    "y_train_fwd = previous_games[previous_games['position_fpl'] == 'FWD'][to_predict]"
   ]
  },
  {
   "cell_type": "code",
   "execution_count": null,
   "id": "e75bee9a-11f9-4c9b-8385-691ba03eb12c",
   "metadata": {},
   "outputs": [],
   "source": [
    "# general model fitting\n",
    "position_model = PositionModel()"
   ]
  },
  {
   "cell_type": "code",
   "execution_count": null,
   "id": "dea66ee2-a252-4717-addf-3c8b5800e2cc",
   "metadata": {},
   "outputs": [],
   "source": [
    "position_model.def_model.fit(X_train_def, y_train_def)\n",
    "position_model.mid_model.fit(X_train_mid, y_train_mid)\n",
    "position_model.fwd_model.fit(X_train_fwd, y_train_fwd)"
   ]
  },
  {
   "cell_type": "code",
   "execution_count": null,
   "id": "e66ff8b0-7bdb-4e9d-b4d4-82e0b35af7b1",
   "metadata": {},
   "outputs": [],
   "source": [
    "previous_games[previous_games['player_name'] == 'Mohamed Salah']"
   ]
  },
  {
   "cell_type": "code",
   "execution_count": null,
   "id": "e87265d3-45b6-4f27-b66a-60c9dae532db",
   "metadata": {},
   "outputs": [],
   "source": []
  },
  {
   "cell_type": "code",
   "execution_count": null,
   "id": "f196ddf0-6a9a-4b72-9705-a0c61405e9f6",
   "metadata": {},
   "outputs": [],
   "source": [
    "# getting next gameweek\n",
    "next_gameweek = get_next_gameweek(previous_games, NEXT_GAMEWEEK, rolling_columns)"
   ]
  },
  {
   "cell_type": "code",
   "execution_count": null,
   "id": "afc013b0-b2d5-4308-8049-2e462c402994",
   "metadata": {},
   "outputs": [],
   "source": [
    "# removing NaNs\n",
    "next_gameweek = next_gameweek.dropna(subset = features)"
   ]
  },
  {
   "cell_type": "code",
   "execution_count": null,
   "id": "8e572d1a-6abf-4c90-9013-80ebbbe4cb95",
   "metadata": {},
   "outputs": [],
   "source": [
    "next_gameweek_gk = next_gameweek[next_gameweek['position_fpl'] == 'GK']\n",
    "next_gameweek_def = next_gameweek[next_gameweek['position_fpl'] == 'DEF']\n",
    "next_gameweek_mid = next_gameweek[next_gameweek['position_fpl'] == 'MID']\n",
    "next_gameweek_fwd = next_gameweek[next_gameweek['position_fpl'] == 'FWD']"
   ]
  },
  {
   "cell_type": "code",
   "execution_count": null,
   "id": "b1031be9-cfe1-45d6-a22b-64ddce18d277",
   "metadata": {},
   "outputs": [],
   "source": [
    "def get_shap_index_by_name(df, name):\n",
    "    index = 0\n",
    "    for i, r in df.iterrows():\n",
    "        if r['name'] == name:\n",
    "            return index\n",
    "        index += 1\n",
    "    return None"
   ]
  },
  {
   "cell_type": "markdown",
   "id": "8aa21127-2c86-42d7-b1ad-fe8f26243526",
   "metadata": {},
   "source": [
    "# DEFENDERS"
   ]
  },
  {
   "cell_type": "code",
   "execution_count": null,
   "id": "36498345-2db6-4789-9637-36b844e23174",
   "metadata": {},
   "outputs": [],
   "source": [
    "# predicting\n",
    "pred_points = position_model.def_model.predict(next_gameweek_def[features])"
   ]
  },
  {
   "cell_type": "code",
   "execution_count": null,
   "id": "6db740a3-adce-44d5-a767-2478e63c5929",
   "metadata": {},
   "outputs": [],
   "source": [
    "predictions = next_gameweek_def\n",
    "predictions.insert(1, 'pred_points', pred_points)\n",
    "predictions = predictions.sort_values(by = 'pred_points', ascending = False)"
   ]
  },
  {
   "cell_type": "code",
   "execution_count": null,
   "id": "8cf84476-ca94-47aa-8f74-8f1f61f77a58",
   "metadata": {},
   "outputs": [],
   "source": [
    "predictions[['name', 'was_home', 'opp_team_rating', 'pred_points']].head(20)"
   ]
  },
  {
   "cell_type": "code",
   "execution_count": null,
   "id": "9e6c9c4d-b4a0-4bed-ab19-0aad04d6529f",
   "metadata": {},
   "outputs": [],
   "source": [
    "# shap for predictions\n",
    "explainer_pred = shap.Explainer(position_model.def_model, X_train_def)\n",
    "shap_values_pred = explainer_pred(next_gameweek_def[features], check_additivity=False)"
   ]
  },
  {
   "cell_type": "code",
   "execution_count": null,
   "id": "c605f063-5ff4-43fe-af46-c37c6a95775e",
   "metadata": {},
   "outputs": [],
   "source": [
    "# feature influence\n",
    "shap.plots.beeswarm(shap_values_pred)"
   ]
  },
  {
   "cell_type": "code",
   "execution_count": null,
   "id": "bc89c0c1-2b01-4b26-a0ea-a84e736db0f4",
   "metadata": {},
   "outputs": [],
   "source": [
    "# feature importance\n",
    "shap.plots.bar(shap_values_pred)"
   ]
  },
  {
   "cell_type": "markdown",
   "id": "f23d3713-7932-40ad-a201-8fcf579d496f",
   "metadata": {},
   "source": [
    "# MIDFIELDERS"
   ]
  },
  {
   "cell_type": "code",
   "execution_count": null,
   "id": "fd2fd2c9-0a3b-46be-ac04-e39aae62064f",
   "metadata": {},
   "outputs": [],
   "source": [
    "# predicting\n",
    "pred_points = position_model.mid_model.predict(next_gameweek_mid[features])"
   ]
  },
  {
   "cell_type": "code",
   "execution_count": null,
   "id": "1443c0a3-ab59-4f7e-bf78-48850f7dc88d",
   "metadata": {},
   "outputs": [],
   "source": [
    "predictions = next_gameweek_mid\n",
    "predictions.insert(1, 'pred_points', pred_points)\n",
    "predictions = predictions.sort_values(by = 'pred_points', ascending = False)"
   ]
  },
  {
   "cell_type": "code",
   "execution_count": null,
   "id": "18979862-c653-4153-9ecc-cf5812c1bace",
   "metadata": {},
   "outputs": [],
   "source": [
    "predictions[['name', 'was_home', 'opp_team_rating', 'pred_points']].head(20)"
   ]
  },
  {
   "cell_type": "code",
   "execution_count": null,
   "id": "305bdb57-1987-440f-bd8e-a5e29c01ee51",
   "metadata": {},
   "outputs": [],
   "source": [
    "# shap for predictions\n",
    "explainer_pred = shap.Explainer(position_model.mid_model, X_train_def)\n",
    "shap_values_pred = explainer_pred(next_gameweek_mid[features], check_additivity=False)"
   ]
  },
  {
   "cell_type": "code",
   "execution_count": null,
   "id": "cd4c4189-35df-4148-8793-e80c34a86eb4",
   "metadata": {},
   "outputs": [],
   "source": [
    "# shap for previous games\n",
    "explainer = shap.Explainer(position_model.mid_model, X_train_mid)\n",
    "shap_values = explainer(X_train_def, check_additivity=False)"
   ]
  },
  {
   "cell_type": "code",
   "execution_count": null,
   "id": "443d6060-eded-4cc7-97bd-91394f2dab5b",
   "metadata": {},
   "outputs": [],
   "source": [
    "# feature influence\n",
    "shap.plots.beeswarm(shap_values)"
   ]
  },
  {
   "cell_type": "code",
   "execution_count": null,
   "id": "691c4742-3dca-484e-b27f-56be44d075e7",
   "metadata": {},
   "outputs": [],
   "source": [
    "# feature importance\n",
    "shap.plots.bar(shap_values)"
   ]
  },
  {
   "cell_type": "markdown",
   "id": "d368bb65-7fc4-483d-becd-24fc5d4922c1",
   "metadata": {},
   "source": [
    "# FORWARDS"
   ]
  },
  {
   "cell_type": "code",
   "execution_count": null,
   "id": "cd1ee4f7-2165-421c-9bc4-076ab0922e84",
   "metadata": {},
   "outputs": [],
   "source": [
    "# predicting\n",
    "pred_points = position_model.fwd_model.predict(next_gameweek_fwd[features])"
   ]
  },
  {
   "cell_type": "code",
   "execution_count": null,
   "id": "85da9bbb-2f04-4a95-9144-3127cf135132",
   "metadata": {},
   "outputs": [],
   "source": [
    "predictions = next_gameweek_fwd\n",
    "predictions.insert(1, 'pred_points', pred_points)\n",
    "predictions = predictions.sort_values(by = 'pred_points', ascending = False)"
   ]
  },
  {
   "cell_type": "code",
   "execution_count": null,
   "id": "df10b157-1e65-40f1-a732-2d49f5f534e5",
   "metadata": {},
   "outputs": [],
   "source": [
    "predictions[['name', 'was_home', 'opp_team_rating', 'pred_points']].head(20)"
   ]
  },
  {
   "cell_type": "code",
   "execution_count": null,
   "id": "4e761c96-39e8-4d55-86c8-64bc7bbca2db",
   "metadata": {},
   "outputs": [],
   "source": [
    "# shap for predictions\n",
    "explainer_pred = shap.Explainer(position_model.mid_model, X_train_def)\n",
    "shap_values_pred = explainer_pred(next_gameweek_mid[features], check_additivity=False)"
   ]
  },
  {
   "cell_type": "code",
   "execution_count": null,
   "id": "ed7b4b7d-c4ef-4629-aae1-07e31b337480",
   "metadata": {},
   "outputs": [],
   "source": [
    "# shap for previous games\n",
    "explainer = shap.Explainer(position_model.mid_model, X_train_mid)\n",
    "shap_values = explainer(X_train_def, check_additivity=False)"
   ]
  },
  {
   "cell_type": "code",
   "execution_count": null,
   "id": "6db561a6-b589-4397-80f0-a9a55487859c",
   "metadata": {},
   "outputs": [],
   "source": [
    "# feature influence\n",
    "shap.plots.beeswarm(shap_values)"
   ]
  },
  {
   "cell_type": "code",
   "execution_count": null,
   "id": "18a834d4-02e6-4d0a-a63f-c101932b394c",
   "metadata": {},
   "outputs": [],
   "source": []
  },
  {
   "cell_type": "code",
   "execution_count": null,
   "id": "817710d8-cb79-4dc5-8f53-92b04c56a874",
   "metadata": {},
   "outputs": [],
   "source": []
  }
 ],
 "metadata": {
  "kernelspec": {
   "display_name": "Python 3 (ipykernel)",
   "language": "python",
   "name": "python3"
  },
  "language_info": {
   "codemirror_mode": {
    "name": "ipython",
    "version": 3
   },
   "file_extension": ".py",
   "mimetype": "text/x-python",
   "name": "python",
   "nbconvert_exporter": "python",
   "pygments_lexer": "ipython3",
   "version": "3.8.0"
  }
 },
 "nbformat": 4,
 "nbformat_minor": 5
}
