{
 "cells": [
  {
   "cell_type": "code",
   "execution_count": 1,
   "id": "c180a6b7-d71c-4fb9-a213-9a5542f173ae",
   "metadata": {},
   "outputs": [],
   "source": [
    "from data_prep import *\n",
    "from PositionModel import *\n",
    "from PlayerModel import *\n",
    "from commons import *"
   ]
  },
  {
   "cell_type": "code",
   "execution_count": 2,
   "id": "324431c2-d1cd-40c8-91d5-9c394c245458",
   "metadata": {},
   "outputs": [],
   "source": [
    "# predictors = ['goals_scored', 'assists_fpl', 'bps', 'penalties_missed', \n",
    "# 'clean_sheets', 'yellow_cards', 'red_cards', 'minutes', 'own_goals']\n",
    "predictors = ['goals_avg5', 'xG_avg5', 'assists_fpl_avg5',\n",
    "       'bonus_avg5', 'bps_avg5', 'clean_sheets_avg5', 'goals_conceded_avg5',\n",
    "       'shots_avg5', 'xGBuildup_avg5', 'xGChain_avg5', 'yellow_cards_avg5',\n",
    "       'red_cards_avg5', 'was_home']\n",
    "rolling_columns = ['goals', 'xG', 'assists_fpl', 'bonus', 'bps', 'clean_sheets', 'goals_conceded', 'shots', 'xGBuildup', 'xGChain', 'yellow_cards', 'red_cards']\n",
    "to_predict = 'total_points'"
   ]
  },
  {
   "cell_type": "code",
   "execution_count": 3,
   "id": "d7290816-8eee-4387-bd4d-ece22d0fcd1b",
   "metadata": {},
   "outputs": [
    {
     "name": "stdout",
     "output_type": "stream",
     "text": [
      "Index(['Unnamed: 0.1', 'Unnamed: 0', 'season', 'name', 'position_fpl',\n",
      "       'team_x', 'assists_fpl', 'bonus', 'bps', 'clean_sheets', 'creativity',\n",
      "       'element', 'fixture', 'goals_conceded', 'goals_scored', 'ict_index',\n",
      "       'influence', 'kickoff_time', 'minutes', 'opponent_team',\n",
      "       'opp_team_name', 'own_goals', 'penalties_missed', 'penalties_saved',\n",
      "       'red_cards', 'round', 'saves', 'selected', 'team_a_score',\n",
      "       'team_h_score', 'threat', 'total_points', 'transfers_balance',\n",
      "       'transfers_in', 'transfers_out', 'value', 'was_home', 'yellow_cards',\n",
      "       'GW', 'a_team', 'goals', 'shots', 'xG', 'time', 'position_und',\n",
      "       'h_goals', 'a_goals', 'date', 'id', 'xA', 'assists_und', 'key_passes',\n",
      "       'npg', 'npxG', 'xGChain', 'xGBuildup', 'player_name', 'h_team',\n",
      "       'goals_avg5', 'xG_avg5', 'assists_fpl_avg5', 'bonus_avg5', 'bps_avg5',\n",
      "       'clean_sheets_avg5', 'goals_conceded_avg5', 'shots_avg5',\n",
      "       'xGBuildup_avg5', 'xGChain_avg5', 'yellow_cards_avg5',\n",
      "       'red_cards_avg5'],\n",
      "      dtype='object')\n"
     ]
    }
   ],
   "source": [
    "# loading dataset\n",
    "# df = merged_understat_and_fpl(rolling_columns, True)\n",
    "df = load_dataset()\n",
    "print(df.columns)"
   ]
  },
  {
   "cell_type": "code",
   "execution_count": 7,
   "id": "9069941e-63d3-4c73-9c35-3ffdfe43b2ae",
   "metadata": {},
   "outputs": [
    {
     "name": "stdout",
     "output_type": "stream",
     "text": [
      "GENERAL MODEL:\n",
      "{'mse': 11.354057113914529, 'mae': 2.420043282051282, 'r2': 0.20801190408322245}\n"
     ]
    }
   ],
   "source": [
    "# general model\n",
    "print('GENERAL MODEL:')\n",
    "X_train, X_test, y_train, y_test = split_data(df, predictors, to_predict)\n",
    "general_model = PositionModel()\n",
    "general_model.fit(X_train, y_train)\n",
    "y_pred = general_model.predict(X_test)\n",
    "metrics = get_metrics(y_pred, y_test)\n",
    "print(metrics)"
   ]
  },
  {
   "cell_type": "code",
   "execution_count": 8,
   "id": "f5809665-9138-4d7b-922f-a5cd8666ef9e",
   "metadata": {},
   "outputs": [
    {
     "name": "stdout",
     "output_type": "stream",
     "text": [
      "POSITION MODEL:\n",
      "{'mse': 12.163670953280077, 'mae': 2.567575889615105, 'r2': 0.17341602864823924}\n"
     ]
    }
   ],
   "source": [
    "# position model (MID)\n",
    "print('POSITION MODEL:')\n",
    "df_mid = df[df['position_fpl'] == 'MID']\n",
    "X_train, X_test, y_train, y_test = split_data(df_mid, predictors, to_predict)\n",
    "position_model = PositionModel()\n",
    "position_model.fit(X_train, y_train)\n",
    "y_pred = position_model.predict(X_test)\n",
    "metrics = get_metrics(y_pred, y_test)\n",
    "print(metrics)"
   ]
  },
  {
   "cell_type": "code",
   "execution_count": 9,
   "id": "0f64df65-afdd-421a-a7e8-af98e730cf78",
   "metadata": {},
   "outputs": [
    {
     "name": "stdout",
     "output_type": "stream",
     "text": [
      "PLAYER MODEL:\n",
      "{'mse': 26.641499999999997, 'mae': 4.3764864864864865, 'r2': 0.12153250397418003}\n"
     ]
    }
   ],
   "source": [
    "# salah only\n",
    "print('PLAYER MODEL:')\n",
    "salah = df[df['name'] == 'Mohamed Salah']\n",
    "X_train, X_test, y_train, y_test = split_data(salah, predictors, to_predict, 0.8)\n",
    "position_model = PlayerModel()\n",
    "position_model.fit(X_train, y_train)\n",
    "y_pred = position_model.predict(X_test)\n",
    "metrics = get_metrics(y_pred, y_test)\n",
    "print(metrics)"
   ]
  },
  {
   "cell_type": "code",
   "execution_count": null,
   "id": "f4b4c889-f69a-485f-97b6-0c9a02641158",
   "metadata": {},
   "outputs": [],
   "source": []
  }
 ],
 "metadata": {
  "kernelspec": {
   "display_name": "Python 3 (ipykernel)",
   "language": "python",
   "name": "python3"
  },
  "language_info": {
   "codemirror_mode": {
    "name": "ipython",
    "version": 3
   },
   "file_extension": ".py",
   "mimetype": "text/x-python",
   "name": "python",
   "nbconvert_exporter": "python",
   "pygments_lexer": "ipython3",
   "version": "3.8.0"
  }
 },
 "nbformat": 4,
 "nbformat_minor": 5
}
