{
 "cells": [
  {
   "cell_type": "code",
   "execution_count": 1,
   "id": "2c28f54e-374c-427d-80a1-83730807524e",
   "metadata": {},
   "outputs": [],
   "source": [
    "from data_prep import *\n",
    "from PositionModel import *\n",
    "from PlayerModel import *\n",
    "from commons import *\n",
    "import shap\n",
    "from sklearn.ensemble import RandomForestRegressor"
   ]
  },
  {
   "cell_type": "code",
   "execution_count": 2,
   "id": "642d1e68-a2ad-4672-b37a-5391530c8f75",
   "metadata": {},
   "outputs": [],
   "source": [
    "features = ['goals_scored_avg5', 'xG_avg5', 'assists_fpl_avg5',\n",
    "       'bonus_avg5', 'bps_avg5', 'clean_sheets_avg5', 'goals_conceded_avg5',\n",
    "       'shots_avg5', 'xGBuildup_avg5', 'xGChain_avg5', 'yellow_cards_avg5',\n",
    "       'red_cards_avg5', 'was_home', 'rating_diff']\n",
    "rolling_columns = ['goals_scored', 'xG', 'assists_fpl', 'bonus', 'bps', 'clean_sheets', 'goals_conceded', 'shots', 'xGBuildup', 'xGChain', 'yellow_cards', 'red_cards']\n",
    "to_predict = 'total_points'"
   ]
  },
  {
   "cell_type": "code",
   "execution_count": 3,
   "id": "51cb9e26-86a5-42c7-8fdf-06c6a307b636",
   "metadata": {},
   "outputs": [],
   "source": [
    "# loading dataset\n",
    "# previous_games = merged_understat_and_fpl(rolling_columns, True)\n",
    "previous_games = load_dataset()"
   ]
  },
  {
   "cell_type": "code",
   "execution_count": 4,
   "id": "30609b15-d3ed-4be2-a2b7-8acab3f23f93",
   "metadata": {},
   "outputs": [],
   "source": [
    "# splitting data\n",
    "X_train = previous_games[features]\n",
    "y_train = previous_games[to_predict]"
   ]
  },
  {
   "cell_type": "code",
   "execution_count": 5,
   "id": "a66fd057-665c-49d2-ac86-a631aec2a8a1",
   "metadata": {},
   "outputs": [
    {
     "name": "stdout",
     "output_type": "stream",
     "text": [
      "<class 'float'>\n",
      "<class 'float'>\n",
      "<class 'float'>\n",
      "<class 'float'>\n",
      "<class 'float'>\n",
      "<class 'float'>\n",
      "<class 'float'>\n",
      "<class 'float'>\n",
      "<class 'float'>\n",
      "<class 'float'>\n",
      "<class 'float'>\n",
      "<class 'float'>\n",
      "<class 'float'>\n",
      "<class 'float'>\n"
     ]
    }
   ],
   "source": [
    "for f in X_train.iloc[0]:\n",
    "    print(type(f))"
   ]
  },
  {
   "cell_type": "code",
   "execution_count": 6,
   "id": "e75bee9a-11f9-4c9b-8385-691ba03eb12c",
   "metadata": {},
   "outputs": [
    {
     "data": {
      "text/html": [
       "<style>#sk-container-id-1 {color: black;background-color: white;}#sk-container-id-1 pre{padding: 0;}#sk-container-id-1 div.sk-toggleable {background-color: white;}#sk-container-id-1 label.sk-toggleable__label {cursor: pointer;display: block;width: 100%;margin-bottom: 0;padding: 0.3em;box-sizing: border-box;text-align: center;}#sk-container-id-1 label.sk-toggleable__label-arrow:before {content: \"▸\";float: left;margin-right: 0.25em;color: #696969;}#sk-container-id-1 label.sk-toggleable__label-arrow:hover:before {color: black;}#sk-container-id-1 div.sk-estimator:hover label.sk-toggleable__label-arrow:before {color: black;}#sk-container-id-1 div.sk-toggleable__content {max-height: 0;max-width: 0;overflow: hidden;text-align: left;background-color: #f0f8ff;}#sk-container-id-1 div.sk-toggleable__content pre {margin: 0.2em;color: black;border-radius: 0.25em;background-color: #f0f8ff;}#sk-container-id-1 input.sk-toggleable__control:checked~div.sk-toggleable__content {max-height: 200px;max-width: 100%;overflow: auto;}#sk-container-id-1 input.sk-toggleable__control:checked~label.sk-toggleable__label-arrow:before {content: \"▾\";}#sk-container-id-1 div.sk-estimator input.sk-toggleable__control:checked~label.sk-toggleable__label {background-color: #d4ebff;}#sk-container-id-1 div.sk-label input.sk-toggleable__control:checked~label.sk-toggleable__label {background-color: #d4ebff;}#sk-container-id-1 input.sk-hidden--visually {border: 0;clip: rect(1px 1px 1px 1px);clip: rect(1px, 1px, 1px, 1px);height: 1px;margin: -1px;overflow: hidden;padding: 0;position: absolute;width: 1px;}#sk-container-id-1 div.sk-estimator {font-family: monospace;background-color: #f0f8ff;border: 1px dotted black;border-radius: 0.25em;box-sizing: border-box;margin-bottom: 0.5em;}#sk-container-id-1 div.sk-estimator:hover {background-color: #d4ebff;}#sk-container-id-1 div.sk-parallel-item::after {content: \"\";width: 100%;border-bottom: 1px solid gray;flex-grow: 1;}#sk-container-id-1 div.sk-label:hover label.sk-toggleable__label {background-color: #d4ebff;}#sk-container-id-1 div.sk-serial::before {content: \"\";position: absolute;border-left: 1px solid gray;box-sizing: border-box;top: 0;bottom: 0;left: 50%;z-index: 0;}#sk-container-id-1 div.sk-serial {display: flex;flex-direction: column;align-items: center;background-color: white;padding-right: 0.2em;padding-left: 0.2em;position: relative;}#sk-container-id-1 div.sk-item {position: relative;z-index: 1;}#sk-container-id-1 div.sk-parallel {display: flex;align-items: stretch;justify-content: center;background-color: white;position: relative;}#sk-container-id-1 div.sk-item::before, #sk-container-id-1 div.sk-parallel-item::before {content: \"\";position: absolute;border-left: 1px solid gray;box-sizing: border-box;top: 0;bottom: 0;left: 50%;z-index: -1;}#sk-container-id-1 div.sk-parallel-item {display: flex;flex-direction: column;z-index: 1;position: relative;background-color: white;}#sk-container-id-1 div.sk-parallel-item:first-child::after {align-self: flex-end;width: 50%;}#sk-container-id-1 div.sk-parallel-item:last-child::after {align-self: flex-start;width: 50%;}#sk-container-id-1 div.sk-parallel-item:only-child::after {width: 0;}#sk-container-id-1 div.sk-dashed-wrapped {border: 1px dashed gray;margin: 0 0.4em 0.5em 0.4em;box-sizing: border-box;padding-bottom: 0.4em;background-color: white;}#sk-container-id-1 div.sk-label label {font-family: monospace;font-weight: bold;display: inline-block;line-height: 1.2em;}#sk-container-id-1 div.sk-label-container {text-align: center;}#sk-container-id-1 div.sk-container {/* jupyter's `normalize.less` sets `[hidden] { display: none; }` but bootstrap.min.css set `[hidden] { display: none !important; }` so we also need the `!important` here to be able to override the default hidden behavior on the sphinx rendered scikit-learn.org. See: https://github.com/scikit-learn/scikit-learn/issues/21755 */display: inline-block !important;position: relative;}#sk-container-id-1 div.sk-text-repr-fallback {display: none;}</style><div id=\"sk-container-id-1\" class=\"sk-top-container\"><div class=\"sk-text-repr-fallback\"><pre>RandomForestRegressor(random_state=42)</pre><b>In a Jupyter environment, please rerun this cell to show the HTML representation or trust the notebook. <br />On GitHub, the HTML representation is unable to render, please try loading this page with nbviewer.org.</b></div><div class=\"sk-container\" hidden><div class=\"sk-item\"><div class=\"sk-estimator sk-toggleable\"><input class=\"sk-toggleable__control sk-hidden--visually\" id=\"sk-estimator-id-1\" type=\"checkbox\" checked><label for=\"sk-estimator-id-1\" class=\"sk-toggleable__label sk-toggleable__label-arrow\">RandomForestRegressor</label><div class=\"sk-toggleable__content\"><pre>RandomForestRegressor(random_state=42)</pre></div></div></div></div></div>"
      ],
      "text/plain": [
       "RandomForestRegressor(random_state=42)"
      ]
     },
     "execution_count": 6,
     "metadata": {},
     "output_type": "execute_result"
    }
   ],
   "source": [
    "# general model fitting\n",
    "general_model = RandomForestRegressor(random_state=42)\n",
    "general_model.fit(X_train, y_train)"
   ]
  },
  {
   "cell_type": "code",
   "execution_count": 7,
   "id": "f196ddf0-6a9a-4b72-9705-a0c61405e9f6",
   "metadata": {},
   "outputs": [],
   "source": [
    "# getting next gameweek\n",
    "next_gameweek = get_next_gameweek(previous_games, NEXT_GAMEWEEK, rolling_columns)"
   ]
  },
  {
   "cell_type": "code",
   "execution_count": 8,
   "id": "afc013b0-b2d5-4308-8049-2e462c402994",
   "metadata": {},
   "outputs": [],
   "source": [
    "# removing NaNs\n",
    "next_gameweek = next_gameweek.dropna(subset = features)"
   ]
  },
  {
   "cell_type": "code",
   "execution_count": 9,
   "id": "8e572d1a-6abf-4c90-9013-80ebbbe4cb95",
   "metadata": {},
   "outputs": [
    {
     "data": {
      "text/plain": [
       "80    1874.232178\n",
       "79    1874.232178\n",
       "78    1874.232178\n",
       "77    1874.232178\n",
       "76    1874.232178\n",
       "         ...     \n",
       "82    2020.352661\n",
       "20    2020.352661\n",
       "84    2020.352661\n",
       "85    2020.352661\n",
       "87    2020.352661\n",
       "Name: team_rating, Length: 62, dtype: float64"
      ]
     },
     "execution_count": 9,
     "metadata": {},
     "output_type": "execute_result"
    }
   ],
   "source": [
    "next_gameweek['team_rating']"
   ]
  },
  {
   "cell_type": "code",
   "execution_count": 10,
   "id": "fd2fd2c9-0a3b-46be-ac04-e39aae62064f",
   "metadata": {},
   "outputs": [],
   "source": [
    "# predicting\n",
    "pred_points = general_model.predict(next_gameweek[features])"
   ]
  },
  {
   "cell_type": "code",
   "execution_count": 11,
   "id": "0665d180-e89b-4827-af57-c477c03fcbf7",
   "metadata": {},
   "outputs": [
    {
     "data": {
      "text/plain": [
       "array([ 7.57,  6.24,  5.99,  6.48,  9.01,  3.02,  1.44,  2.7 ,  3.96,\n",
       "        6.23,  1.96,  2.12,  5.84,  0.63,  1.12,  3.19,  4.41,  3.1 ,\n",
       "        1.87,  2.81,  2.77,  3.35,  2.14, 10.26,  1.53,  2.14,  2.09,\n",
       "        4.69,  1.83,  6.14,  3.35,  2.8 ,  1.11,  1.28,  4.42,  2.9 ,\n",
       "        5.43,  2.15,  2.93,  1.92,  5.1 ,  2.24,  4.28,  7.9 ,  3.33,\n",
       "        5.05,  3.86,  4.2 ,  7.48,  5.1 ,  6.89,  6.25,  3.42,  5.56,\n",
       "        1.33,  1.16,  2.83,  3.55,  2.57,  3.75,  4.24,  3.81])"
      ]
     },
     "execution_count": 11,
     "metadata": {},
     "output_type": "execute_result"
    }
   ],
   "source": [
    "pred_points"
   ]
  },
  {
   "cell_type": "code",
   "execution_count": 12,
   "id": "1443c0a3-ab59-4f7e-bf78-48850f7dc88d",
   "metadata": {},
   "outputs": [],
   "source": [
    "predictions = next_gameweek\n",
    "predictions.insert(1, 'pred_points', pred_points)\n",
    "predictions = predictions.sort_values(by = 'pred_points', ascending = False)"
   ]
  },
  {
   "cell_type": "code",
   "execution_count": 17,
   "id": "18979862-c653-4153-9ecc-cf5812c1bace",
   "metadata": {},
   "outputs": [
    {
     "data": {
      "text/html": [
       "<div>\n",
       "<style scoped>\n",
       "    .dataframe tbody tr th:only-of-type {\n",
       "        vertical-align: middle;\n",
       "    }\n",
       "\n",
       "    .dataframe tbody tr th {\n",
       "        vertical-align: top;\n",
       "    }\n",
       "\n",
       "    .dataframe thead th {\n",
       "        text-align: right;\n",
       "    }\n",
       "</style>\n",
       "<table border=\"1\" class=\"dataframe\">\n",
       "  <thead>\n",
       "    <tr style=\"text-align: right;\">\n",
       "      <th></th>\n",
       "      <th>name</th>\n",
       "      <th>was_home</th>\n",
       "      <th>opp_team_rating</th>\n",
       "      <th>pred_points</th>\n",
       "    </tr>\n",
       "  </thead>\n",
       "  <tbody>\n",
       "    <tr>\n",
       "      <th>67</th>\n",
       "      <td>James Maddison</td>\n",
       "      <td>1</td>\n",
       "      <td>1667.202759</td>\n",
       "      <td>10.26</td>\n",
       "    </tr>\n",
       "    <tr>\n",
       "      <th>76</th>\n",
       "      <td>Harry Kane</td>\n",
       "      <td>1</td>\n",
       "      <td>1714.785156</td>\n",
       "      <td>9.01</td>\n",
       "    </tr>\n",
       "    <tr>\n",
       "      <th>29</th>\n",
       "      <td>Reece James</td>\n",
       "      <td>0</td>\n",
       "      <td>1711.223267</td>\n",
       "      <td>7.90</td>\n",
       "    </tr>\n",
       "    <tr>\n",
       "      <th>80</th>\n",
       "      <td>Pierre-Emile Højbjerg</td>\n",
       "      <td>1</td>\n",
       "      <td>1714.785156</td>\n",
       "      <td>7.57</td>\n",
       "    </tr>\n",
       "    <tr>\n",
       "      <th>60</th>\n",
       "      <td>Kevin De Bruyne</td>\n",
       "      <td>0</td>\n",
       "      <td>1764.226440</td>\n",
       "      <td>7.48</td>\n",
       "    </tr>\n",
       "    <tr>\n",
       "      <th>61</th>\n",
       "      <td>Phil Foden</td>\n",
       "      <td>0</td>\n",
       "      <td>1764.226440</td>\n",
       "      <td>6.89</td>\n",
       "    </tr>\n",
       "    <tr>\n",
       "      <th>77</th>\n",
       "      <td>Dejan Kulusevski</td>\n",
       "      <td>1</td>\n",
       "      <td>1714.785156</td>\n",
       "      <td>6.48</td>\n",
       "    </tr>\n",
       "    <tr>\n",
       "      <th>62</th>\n",
       "      <td>Ilkay Gündogan</td>\n",
       "      <td>0</td>\n",
       "      <td>1764.226440</td>\n",
       "      <td>6.25</td>\n",
       "    </tr>\n",
       "    <tr>\n",
       "      <th>79</th>\n",
       "      <td>Eric Dier</td>\n",
       "      <td>1</td>\n",
       "      <td>1714.785156</td>\n",
       "      <td>6.24</td>\n",
       "    </tr>\n",
       "    <tr>\n",
       "      <th>37</th>\n",
       "      <td>Yoane Wissa</td>\n",
       "      <td>0</td>\n",
       "      <td>1647.492188</td>\n",
       "      <td>6.23</td>\n",
       "    </tr>\n",
       "    <tr>\n",
       "      <th>10</th>\n",
       "      <td>Harvey Barnes</td>\n",
       "      <td>1</td>\n",
       "      <td>1667.202759</td>\n",
       "      <td>6.14</td>\n",
       "    </tr>\n",
       "    <tr>\n",
       "      <th>78</th>\n",
       "      <td>Ryan Sessegnon</td>\n",
       "      <td>1</td>\n",
       "      <td>1714.785156</td>\n",
       "      <td>5.99</td>\n",
       "    </tr>\n",
       "    <tr>\n",
       "      <th>35</th>\n",
       "      <td>Christian Nørgaard</td>\n",
       "      <td>0</td>\n",
       "      <td>1647.492188</td>\n",
       "      <td>5.84</td>\n",
       "    </tr>\n",
       "    <tr>\n",
       "      <th>66</th>\n",
       "      <td>Callum Wilson</td>\n",
       "      <td>1</td>\n",
       "      <td>2032.500854</td>\n",
       "      <td>5.56</td>\n",
       "    </tr>\n",
       "    <tr>\n",
       "      <th>13</th>\n",
       "      <td>Pascal Groß</td>\n",
       "      <td>0</td>\n",
       "      <td>1768.109375</td>\n",
       "      <td>5.43</td>\n",
       "    </tr>\n",
       "    <tr>\n",
       "      <th>47</th>\n",
       "      <td>Kieran Trippier</td>\n",
       "      <td>1</td>\n",
       "      <td>2032.500854</td>\n",
       "      <td>5.10</td>\n",
       "    </tr>\n",
       "    <tr>\n",
       "      <th>15</th>\n",
       "      <td>Michail Antonio</td>\n",
       "      <td>1</td>\n",
       "      <td>1769.588623</td>\n",
       "      <td>5.10</td>\n",
       "    </tr>\n",
       "    <tr>\n",
       "      <th>56</th>\n",
       "      <td>Jack Harrison</td>\n",
       "      <td>1</td>\n",
       "      <td>1901.388306</td>\n",
       "      <td>5.05</td>\n",
       "    </tr>\n",
       "    <tr>\n",
       "      <th>33</th>\n",
       "      <td>Ivan Toney</td>\n",
       "      <td>0</td>\n",
       "      <td>1647.492188</td>\n",
       "      <td>4.69</td>\n",
       "    </tr>\n",
       "    <tr>\n",
       "      <th>54</th>\n",
       "      <td>Granit Xhaka</td>\n",
       "      <td>0</td>\n",
       "      <td>1642.505615</td>\n",
       "      <td>4.42</td>\n",
       "    </tr>\n",
       "  </tbody>\n",
       "</table>\n",
       "</div>"
      ],
      "text/plain": [
       "                     name  was_home  opp_team_rating  pred_points\n",
       "67         James Maddison         1      1667.202759        10.26\n",
       "76             Harry Kane         1      1714.785156         9.01\n",
       "29            Reece James         0      1711.223267         7.90\n",
       "80  Pierre-Emile Højbjerg         1      1714.785156         7.57\n",
       "60        Kevin De Bruyne         0      1764.226440         7.48\n",
       "61             Phil Foden         0      1764.226440         6.89\n",
       "77       Dejan Kulusevski         1      1714.785156         6.48\n",
       "62         Ilkay Gündogan         0      1764.226440         6.25\n",
       "79              Eric Dier         1      1714.785156         6.24\n",
       "37            Yoane Wissa         0      1647.492188         6.23\n",
       "10          Harvey Barnes         1      1667.202759         6.14\n",
       "78         Ryan Sessegnon         1      1714.785156         5.99\n",
       "35     Christian Nørgaard         0      1647.492188         5.84\n",
       "66          Callum Wilson         1      2032.500854         5.56\n",
       "13            Pascal Groß         0      1768.109375         5.43\n",
       "47        Kieran Trippier         1      2032.500854         5.10\n",
       "15        Michail Antonio         1      1769.588623         5.10\n",
       "56          Jack Harrison         1      1901.388306         5.05\n",
       "33             Ivan Toney         0      1647.492188         4.69\n",
       "54           Granit Xhaka         0      1642.505615         4.42"
      ]
     },
     "execution_count": 17,
     "metadata": {},
     "output_type": "execute_result"
    }
   ],
   "source": [
    "predictions[['name', 'was_home', 'opp_team_rating', 'pred_points']].head(20)"
   ]
  },
  {
   "cell_type": "code",
   "execution_count": 14,
   "id": "305bdb57-1987-440f-bd8e-a5e29c01ee51",
   "metadata": {},
   "outputs": [
    {
     "name": "stderr",
     "output_type": "stream",
     "text": [
      "100%|===================| 4884/4903 [02:32<00:00]        "
     ]
    }
   ],
   "source": [
    "# shap\n",
    "explainer = shap.Explainer(general_model, X_train)\n",
    "shap_values = explainer(X_train, check_additivity=False)"
   ]
  },
  {
   "cell_type": "code",
   "execution_count": 15,
   "id": "443d6060-eded-4cc7-97bd-91394f2dab5b",
   "metadata": {},
   "outputs": [
    {
     "data": {
      "image/png": "[encoded data removed]",
      "text/plain": [
       "<Figure size 576x396 with 2 Axes>"
      ]
     },
     "metadata": {
      "needs_background": "light"
     },
     "output_type": "display_data"
    }
   ],
   "source": [
    "# feature influence\n",
    "shap.plots.beeswarm(shap_values)"
   ]
  },
  {
   "cell_type": "code",
   "execution_count": null,
   "id": "691c4742-3dca-484e-b27f-56be44d075e7",
   "metadata": {},
   "outputs": [],
   "source": []
  }
 ],
 "metadata": {
  "kernelspec": {
   "display_name": "Python 3 (ipykernel)",
   "language": "python",
   "name": "python3"
  },
  "language_info": {
   "codemirror_mode": {
    "name": "ipython",
    "version": 3
   },
   "file_extension": ".py",
   "mimetype": "text/x-python",
   "name": "python",
   "nbconvert_exporter": "python",
   "pygments_lexer": "ipython3",
   "version": "3.8.0"
  }
 },
 "nbformat": 4,
 "nbformat_minor": 5
}
