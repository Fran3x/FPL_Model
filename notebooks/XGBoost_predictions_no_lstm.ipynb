{
 "cells": [
  {
   "cell_type": "markdown",
   "id": "e61cf721-96f7-4f7c-a5c5-343917267d91",
   "metadata": {},
   "source": [
    "# Imports"
   ]
  },
  {
   "cell_type": "code",
   "execution_count": 1,
   "id": "c2b67ee7-f81a-4a96-bd38-8149efc725cf",
   "metadata": {},
   "outputs": [],
   "source": [
    "import os\n",
    "os.chdir(\"D:\\PulpitE\\FPL_ML\")"
   ]
  },
  {
   "cell_type": "code",
   "execution_count": 2,
   "id": "3f447fc0-41e6-4c50-967e-2cc314a1e81f",
   "metadata": {},
   "outputs": [],
   "source": [
    "from xgboost import plot_importance\n",
    "from sklearn.inspection import plot_partial_dependence\n",
    "import matplotlib.pyplot as plt\n",
    "import pandas as pd\n",
    "import shap\n",
    "import numpy as np\n",
    "\n",
    "from sklearn.ensemble import GradientBoostingRegressor\n",
    "from sklearn.linear_model import SGDRegressor\n",
    "from xgboost import XGBRegressor\n",
    "from sklearn.ensemble import AdaBoostRegressor\n",
    "from sklearn.linear_model import ElasticNet\n",
    "from sklearn.neighbors import KNeighborsRegressor\n",
    "from sklearn.ensemble import RandomForestRegressor\n",
    "from sklearn.svm import SVR"
   ]
  },
  {
   "cell_type": "markdown",
   "id": "fe7a4ac1-336c-4ea4-ad91-24489c66e789",
   "metadata": {},
   "source": [
    "# Reading data and pre-processing"
   ]
  },
  {
   "cell_type": "code",
   "execution_count": 3,
   "id": "14d68e95-43ba-469b-a85a-7cdddfc37173",
   "metadata": {},
   "outputs": [
    {
     "name": "stderr",
     "output_type": "stream",
     "text": [
      "Columns (53) have mixed types.Specify dtype option on import or set low_memory=False.\n"
     ]
    }
   ],
   "source": [
    "# loading csv\n",
    "df = pd.read_csv('data/final_dataset.csv')"
   ]
  },
  {
   "cell_type": "code",
   "execution_count": 4,
   "id": "1dba8279-70e7-43f4-8e2a-3d9709095de4",
   "metadata": {},
   "outputs": [
    {
     "data": {
      "text/plain": [
       "Index(['Unnamed: 0', 'Date', 'Day', 'Comp', 'Round', 'Venue', 'Squad',\n",
       "       'Opponent', 'Start', 'Pos', 'Min', 'Gls', 'Ast', 'PK', 'PKatt', 'Sh',\n",
       "       'SoT', 'CrdY', 'CrdR', 'Touches', 'Tkl', 'Int', 'Blocks', 'xG', 'npxG',\n",
       "       'xAG', 'SCA', 'GCA', 'Cmp', 'Att', 'Cmp%', 'PrgP', 'Carries', 'PrgC',\n",
       "       'Att.1', 'Succ', 'Match Report', 'Name', 'Season', 'Fls', 'Fld', 'Off',\n",
       "       'Crs', 'TklW', 'OG', 'PKwon', 'PKcon', 'WDL', 'GoalsTeams',\n",
       "       'Team Score', 'Opp Score', 'CS', 'Was Home', 'GW', 'neutral_name',\n",
       "       'Total Points', 'FPL position', 'Opp rating', 'Team rating',\n",
       "       'ScoreForLast5', 'ScoreAgainstLast5', 'Min_points', 'MinAvgOverall',\n",
       "       'GlsAvgOverall', 'AstAvgOverall', 'CrdYAvgOverall', 'CrdRAvgOverall',\n",
       "       'xGAvgOverall', 'xAGAvgOverall', 'CSAvgOverall', 'Team ScoreAvgOverall',\n",
       "       'Opp ScoreAvgOverall'],\n",
       "      dtype='object')"
      ]
     },
     "execution_count": 4,
     "metadata": {},
     "output_type": "execute_result"
    }
   ],
   "source": [
    "df.columns"
   ]
  },
  {
   "cell_type": "code",
   "execution_count": 5,
   "id": "66b7afe7-5607-45e9-824f-6bd834691076",
   "metadata": {},
   "outputs": [],
   "source": [
    "# features = [\"Was Home\", \"Team rating\", \"Opp rating\", 'ScoreForLast5', 'ScoreAgainstLast5', \n",
    "#         'MinAvgOverall', 'GlsAvgOverall',\n",
    "#        'AstAvgOverall', 'CrdYAvgOverall', 'CrdRAvgOverall', 'xGAvgOverall',\n",
    "#        'xAGAvgOverall', 'CSAvgOverall', 'Team ScoreAvgOverall',\n",
    "#        'Opp ScoreAvgOverall']\n",
    "# info = [\"Name\", \"GW\", \"Squad\", \"Opponent\", \"Was Home\", \"Opp rating\"]\n",
    "# to_predict = [\"Total Points\"]\n",
    "\n",
    "\n",
    "\n",
    "to_predict = [\"Total Points\"]\n",
    "features1 = [\"Was Home\", \"Team rating\", \"Opp rating\", 'ScoreForLast5', 'ScoreAgainstLast5']\n",
    "features2 = [\"Min\", 'Gls', 'Ast', 'Sh',\n",
    "       'SoT', 'CrdY', 'CrdR', 'xG', 'xAG', 'CS']\n",
    "info = [\"Name\", \"GW\", \"Squad\", \"Opponent\", \"Was Home\", \"Opp rating\"]\n",
    "\n",
    "rolling_gameweeks = [5]\n",
    "features = features1\n",
    "\n",
    "for r in rolling_gameweeks:\n",
    "    form_means = df.groupby([\"Name\"])[features2].rolling(r).mean().reset_index()\n",
    "    form_means.columns = [f'{col}{\"_\"}{r}' for col in form_means.columns]\n",
    "    features += form_means.columns.tolist()\n",
    "    features = list(filter(lambda x: x not in [\"Name_\" + str(r)], features))\n",
    "    df = pd.concat([df, form_means], axis=1)\n",
    "\n",
    "# form2_means = df.groupby([\"Name\"])[features2].rolling(2).mean().reset_index()\n",
    "# form2_means.columns = [f'{col}{\"_2\"}' for col in form2_means.columns]\n",
    "\n",
    "# form4_means = df.groupby([\"Name\"])[features2].rolling(4).mean().reset_index()\n",
    "# form4_means.columns = [f'{col}{\"_4\"}' for col in form4_means.columns]\n",
    "\n",
    "# features = features1 + form2_means.columns.tolist() + form4_means.columns.tolist()\n",
    "# features = list(filter(lambda x: x not in [\"Name_2\", \"Name_4\"], features))\n",
    "\n",
    "# df = pd.concat([df, form2_means, form4_means], axis=1)"
   ]
  },
  {
   "cell_type": "code",
   "execution_count": 6,
   "id": "871534cf-bd8d-49ed-bb56-d3ffaa9d8478",
   "metadata": {},
   "outputs": [],
   "source": [
    "df = df[np.unique(features + info + to_predict)]"
   ]
  },
  {
   "cell_type": "code",
   "execution_count": 7,
   "id": "269a1373-9fbd-4aa3-a095-5ad1c74be587",
   "metadata": {},
   "outputs": [],
   "source": [
    "df = df[pd.to_numeric(df[\"GW\"], errors=\"coerce\").notna()]\n",
    "df[\"GW\"] = df[\"GW\"].astype(\"uint64\")"
   ]
  },
  {
   "cell_type": "code",
   "execution_count": 8,
   "id": "89760a89-65d5-4be7-96b9-32027b4cc1d3",
   "metadata": {},
   "outputs": [
    {
     "data": {
      "text/plain": [
       "Ast_5                2168\n",
       "CS_5                 2168\n",
       "CrdR_5               2168\n",
       "CrdY_5               2168\n",
       "GW                      0\n",
       "Gls_5                2168\n",
       "Min_5                2181\n",
       "Name                    0\n",
       "Opp rating            552\n",
       "Opponent                0\n",
       "ScoreAgainstLast5       1\n",
       "ScoreForLast5           1\n",
       "Sh_5                 2214\n",
       "SoT_5                2214\n",
       "Squad                   0\n",
       "Team rating            57\n",
       "Total Points         2448\n",
       "Was Home                0\n",
       "level_1_5               0\n",
       "xAG_5                2438\n",
       "xG_5                 2438\n",
       "dtype: int64"
      ]
     },
     "execution_count": 8,
     "metadata": {},
     "output_type": "execute_result"
    }
   ],
   "source": [
    "df.isna().sum()"
   ]
  },
  {
   "cell_type": "code",
   "execution_count": 9,
   "id": "da143e41-308e-4c28-bdec-1aad8228107d",
   "metadata": {},
   "outputs": [
    {
     "data": {
      "text/plain": [
       "0"
      ]
     },
     "execution_count": 9,
     "metadata": {},
     "output_type": "execute_result"
    }
   ],
   "source": [
    "(df[\"GW\"] == \"season\").sum()"
   ]
  },
  {
   "cell_type": "code",
   "execution_count": 10,
   "id": "3603a62d-4817-4792-9c60-91ccab9678ee",
   "metadata": {},
   "outputs": [
    {
     "data": {
      "text/plain": [
       "(24599, 21)"
      ]
     },
     "execution_count": 10,
     "metadata": {},
     "output_type": "execute_result"
    }
   ],
   "source": [
    "df.shape"
   ]
  },
  {
   "cell_type": "code",
   "execution_count": 11,
   "id": "dbd5108b-c4b3-4268-9a8d-6e0ebdbe7a8d",
   "metadata": {},
   "outputs": [],
   "source": [
    "# dropping NaNs\n",
    "df = df.dropna(axis=0)"
   ]
  },
  {
   "cell_type": "code",
   "execution_count": 12,
   "id": "5ad32c54-ba5b-4a99-a06c-3b03717ed50b",
   "metadata": {},
   "outputs": [
    {
     "data": {
      "text/plain": [
       "(20083, 21)"
      ]
     },
     "execution_count": 12,
     "metadata": {},
     "output_type": "execute_result"
    }
   ],
   "source": [
    "df.shape"
   ]
  },
  {
   "cell_type": "code",
   "execution_count": 13,
   "id": "5c96da82-a472-4846-8fe5-553aec3b2a09",
   "metadata": {},
   "outputs": [],
   "source": [
    "# df[df[\"Name\"] == \"Mohamed-Salah\"]"
   ]
  },
  {
   "cell_type": "markdown",
   "id": "fc895e8b-ed8c-4c03-89fe-eccde0b4c26e",
   "metadata": {},
   "source": [
    "# Choosing features and splitting data"
   ]
  },
  {
   "cell_type": "code",
   "execution_count": 14,
   "id": "1a46a038-a0b2-4348-b87c-2ca15569f6eb",
   "metadata": {},
   "outputs": [],
   "source": [
    "GAMEWEEK_TO_PREDICT = 32"
   ]
  },
  {
   "cell_type": "code",
   "execution_count": 15,
   "id": "45b9f614-d91d-491f-b5d0-d278db561c2d",
   "metadata": {},
   "outputs": [],
   "source": [
    "# gameweeks 6-14 is training data, gw 15 is test data\n",
    "X_train = df[(df[\"GW\"] >= 1) & (df[\"GW\"] <= GAMEWEEK_TO_PREDICT - 1)][features]\n",
    "y_train = df[(df[\"GW\"] >= 1) & (df[\"GW\"] <= GAMEWEEK_TO_PREDICT - 1)][to_predict]"
   ]
  },
  {
   "cell_type": "code",
   "execution_count": 16,
   "id": "7996012d-2bf5-45da-a29e-e75932313172",
   "metadata": {},
   "outputs": [],
   "source": [
    "X_test = df[df[\"GW\"] == GAMEWEEK_TO_PREDICT][features]\n",
    "y_test = df[df[\"GW\"] == GAMEWEEK_TO_PREDICT][to_predict]"
   ]
  },
  {
   "cell_type": "code",
   "execution_count": 17,
   "id": "dcf0a862-ff68-4236-8fcb-dcf5e8ebe29f",
   "metadata": {},
   "outputs": [
    {
     "data": {
      "text/plain": [
       "(259456, 9584)"
      ]
     },
     "execution_count": 17,
     "metadata": {},
     "output_type": "execute_result"
    }
   ],
   "source": [
    "X_train.size, X_test.size"
   ]
  },
  {
   "cell_type": "markdown",
   "id": "bd2b3df9-363d-4c0a-8a1b-ce561ee29b23",
   "metadata": {},
   "source": [
    "# Model"
   ]
  },
  {
   "cell_type": "code",
   "execution_count": 18,
   "id": "869c69e0-56ad-4baf-a403-dcdc61f7adec",
   "metadata": {},
   "outputs": [],
   "source": [
    "model = GradientBoostingRegressor()\n",
    "# model = RandomForestRegressor()"
   ]
  },
  {
   "cell_type": "code",
   "execution_count": 19,
   "id": "8531e1e4-92af-494b-b5b7-7a48f2796fa6",
   "metadata": {},
   "outputs": [
    {
     "name": "stdout",
     "output_type": "stream",
     "text": [
      "CPU times: total: 1.94 s\n",
      "Wall time: 1.94 s\n"
     ]
    },
    {
     "data": {
      "text/html": [
       "<style>#sk-container-id-1 {color: black;background-color: white;}#sk-container-id-1 pre{padding: 0;}#sk-container-id-1 div.sk-toggleable {background-color: white;}#sk-container-id-1 label.sk-toggleable__label {cursor: pointer;display: block;width: 100%;margin-bottom: 0;padding: 0.3em;box-sizing: border-box;text-align: center;}#sk-container-id-1 label.sk-toggleable__label-arrow:before {content: \"▸\";float: left;margin-right: 0.25em;color: #696969;}#sk-container-id-1 label.sk-toggleable__label-arrow:hover:before {color: black;}#sk-container-id-1 div.sk-estimator:hover label.sk-toggleable__label-arrow:before {color: black;}#sk-container-id-1 div.sk-toggleable__content {max-height: 0;max-width: 0;overflow: hidden;text-align: left;background-color: #f0f8ff;}#sk-container-id-1 div.sk-toggleable__content pre {margin: 0.2em;color: black;border-radius: 0.25em;background-color: #f0f8ff;}#sk-container-id-1 input.sk-toggleable__control:checked~div.sk-toggleable__content {max-height: 200px;max-width: 100%;overflow: auto;}#sk-container-id-1 input.sk-toggleable__control:checked~label.sk-toggleable__label-arrow:before {content: \"▾\";}#sk-container-id-1 div.sk-estimator input.sk-toggleable__control:checked~label.sk-toggleable__label {background-color: #d4ebff;}#sk-container-id-1 div.sk-label input.sk-toggleable__control:checked~label.sk-toggleable__label {background-color: #d4ebff;}#sk-container-id-1 input.sk-hidden--visually {border: 0;clip: rect(1px 1px 1px 1px);clip: rect(1px, 1px, 1px, 1px);height: 1px;margin: -1px;overflow: hidden;padding: 0;position: absolute;width: 1px;}#sk-container-id-1 div.sk-estimator {font-family: monospace;background-color: #f0f8ff;border: 1px dotted black;border-radius: 0.25em;box-sizing: border-box;margin-bottom: 0.5em;}#sk-container-id-1 div.sk-estimator:hover {background-color: #d4ebff;}#sk-container-id-1 div.sk-parallel-item::after {content: \"\";width: 100%;border-bottom: 1px solid gray;flex-grow: 1;}#sk-container-id-1 div.sk-label:hover label.sk-toggleable__label {background-color: #d4ebff;}#sk-container-id-1 div.sk-serial::before {content: \"\";position: absolute;border-left: 1px solid gray;box-sizing: border-box;top: 0;bottom: 0;left: 50%;z-index: 0;}#sk-container-id-1 div.sk-serial {display: flex;flex-direction: column;align-items: center;background-color: white;padding-right: 0.2em;padding-left: 0.2em;position: relative;}#sk-container-id-1 div.sk-item {position: relative;z-index: 1;}#sk-container-id-1 div.sk-parallel {display: flex;align-items: stretch;justify-content: center;background-color: white;position: relative;}#sk-container-id-1 div.sk-item::before, #sk-container-id-1 div.sk-parallel-item::before {content: \"\";position: absolute;border-left: 1px solid gray;box-sizing: border-box;top: 0;bottom: 0;left: 50%;z-index: -1;}#sk-container-id-1 div.sk-parallel-item {display: flex;flex-direction: column;z-index: 1;position: relative;background-color: white;}#sk-container-id-1 div.sk-parallel-item:first-child::after {align-self: flex-end;width: 50%;}#sk-container-id-1 div.sk-parallel-item:last-child::after {align-self: flex-start;width: 50%;}#sk-container-id-1 div.sk-parallel-item:only-child::after {width: 0;}#sk-container-id-1 div.sk-dashed-wrapped {border: 1px dashed gray;margin: 0 0.4em 0.5em 0.4em;box-sizing: border-box;padding-bottom: 0.4em;background-color: white;}#sk-container-id-1 div.sk-label label {font-family: monospace;font-weight: bold;display: inline-block;line-height: 1.2em;}#sk-container-id-1 div.sk-label-container {text-align: center;}#sk-container-id-1 div.sk-container {/* jupyter's `normalize.less` sets `[hidden] { display: none; }` but bootstrap.min.css set `[hidden] { display: none !important; }` so we also need the `!important` here to be able to override the default hidden behavior on the sphinx rendered scikit-learn.org. See: https://github.com/scikit-learn/scikit-learn/issues/21755 */display: inline-block !important;position: relative;}#sk-container-id-1 div.sk-text-repr-fallback {display: none;}</style><div id=\"sk-container-id-1\" class=\"sk-top-container\"><div class=\"sk-text-repr-fallback\"><pre>GradientBoostingRegressor()</pre><b>In a Jupyter environment, please rerun this cell to show the HTML representation or trust the notebook. <br />On GitHub, the HTML representation is unable to render, please try loading this page with nbviewer.org.</b></div><div class=\"sk-container\" hidden><div class=\"sk-item\"><div class=\"sk-estimator sk-toggleable\"><input class=\"sk-toggleable__control sk-hidden--visually\" id=\"sk-estimator-id-1\" type=\"checkbox\" checked><label for=\"sk-estimator-id-1\" class=\"sk-toggleable__label sk-toggleable__label-arrow\">GradientBoostingRegressor</label><div class=\"sk-toggleable__content\"><pre>GradientBoostingRegressor()</pre></div></div></div></div></div>"
      ],
      "text/plain": [
       "GradientBoostingRegressor()"
      ]
     },
     "execution_count": 19,
     "metadata": {},
     "output_type": "execute_result"
    }
   ],
   "source": [
    "%%time\n",
    "model.fit(X_train, np.array(y_train).ravel())"
   ]
  },
  {
   "cell_type": "code",
   "execution_count": 20,
   "id": "6d8c65fd-59b4-46c6-b92a-a59358edff95",
   "metadata": {},
   "outputs": [],
   "source": [
    "# make predictions on the test data\n",
    "predictions = model.predict(X_test)"
   ]
  },
  {
   "cell_type": "code",
   "execution_count": 21,
   "id": "a284f2f1-4f86-476a-a027-620eb7a5c297",
   "metadata": {},
   "outputs": [],
   "source": [
    "from sklearn.metrics import mean_absolute_error, mean_squared_error\n",
    "# calculate the MAE and MSE scores\n",
    "mae = mean_absolute_error(y_test, predictions)\n",
    "mse = mean_squared_error(y_test, predictions)"
   ]
  },
  {
   "cell_type": "code",
   "execution_count": 22,
   "id": "6f09c27b-0f51-4774-bcb0-bbe22b48a852",
   "metadata": {},
   "outputs": [
    {
     "name": "stdout",
     "output_type": "stream",
     "text": [
      "MAE:  1.5833665130537944\n",
      "MSE:  5.3099814441127515\n"
     ]
    }
   ],
   "source": [
    "print(\"MAE: \", mae)\n",
    "print(\"MSE: \", mse)"
   ]
  },
  {
   "cell_type": "markdown",
   "id": "438dc7ca-6134-429b-bd5e-4a99261c2781",
   "metadata": {},
   "source": [
    "# Predictions"
   ]
  },
  {
   "cell_type": "code",
   "execution_count": 23,
   "id": "47919814-647b-499c-bd85-622590b952e5",
   "metadata": {},
   "outputs": [],
   "source": [
    "X_test = df[df[\"GW\"] == GAMEWEEK_TO_PREDICT][features]\n",
    "y_test = df[df[\"GW\"] == GAMEWEEK_TO_PREDICT][to_predict]"
   ]
  },
  {
   "cell_type": "code",
   "execution_count": 24,
   "id": "bf22664f-1602-456b-a4bc-3e56cb02a6a6",
   "metadata": {},
   "outputs": [],
   "source": [
    "df_predictions = df[df[\"GW\"] == GAMEWEEK_TO_PREDICT]"
   ]
  },
  {
   "cell_type": "code",
   "execution_count": 25,
   "id": "a3d777c8-c05c-40fa-aa70-bd5e5765854f",
   "metadata": {},
   "outputs": [
    {
     "data": {
      "text/plain": [
       "(599, 21)"
      ]
     },
     "execution_count": 25,
     "metadata": {},
     "output_type": "execute_result"
    }
   ],
   "source": [
    "df_predictions.shape"
   ]
  },
  {
   "cell_type": "code",
   "execution_count": 26,
   "id": "756054e4-d6dc-4cd3-92d3-d4cee5276f20",
   "metadata": {},
   "outputs": [
    {
     "data": {
      "text/plain": [
       "599"
      ]
     },
     "execution_count": 26,
     "metadata": {},
     "output_type": "execute_result"
    }
   ],
   "source": [
    "len(predictions)"
   ]
  },
  {
   "cell_type": "code",
   "execution_count": 27,
   "id": "d8da22c9-ad65-42b0-8e33-cb89395761f9",
   "metadata": {},
   "outputs": [
    {
     "name": "stderr",
     "output_type": "stream",
     "text": [
      "\n",
      "A value is trying to be set on a copy of a slice from a DataFrame.\n",
      "Try using .loc[row_indexer,col_indexer] = value instead\n",
      "\n",
      "See the caveats in the documentation: https://pandas.pydata.org/pandas-docs/stable/user_guide/indexing.html#returning-a-view-versus-a-copy\n"
     ]
    }
   ],
   "source": [
    "df_predictions.loc[:, \"pred\"] = predictions"
   ]
  },
  {
   "cell_type": "code",
   "execution_count": 28,
   "id": "1de0dbe5-2b5f-472d-9f2d-2300dab2b19c",
   "metadata": {},
   "outputs": [
    {
     "name": "stderr",
     "output_type": "stream",
     "text": [
      "Boolean Series key will be reindexed to match DataFrame index.\n"
     ]
    },
    {
     "data": {
      "text/plain": [
       "array([2.2119274 , 7.60097483])"
      ]
     },
     "execution_count": 28,
     "metadata": {},
     "output_type": "execute_result"
    }
   ],
   "source": [
    "model.predict(df[df[\"GW\"] == GAMEWEEK_TO_PREDICT][df[\"Name\"] == \"Mohamed-Salah\"][features])"
   ]
  },
  {
   "cell_type": "code",
   "execution_count": 29,
   "id": "df65adae-80ea-4963-9a60-20cd64f7ae1c",
   "metadata": {},
   "outputs": [],
   "source": [
    "preds = df_predictions[info + to_predict + [\"pred\"]].sort_values(by=[\"pred\"], ascending = False)"
   ]
  },
  {
   "cell_type": "code",
   "execution_count": 30,
   "id": "6df93768-16bb-495b-94ab-f240d07e9b4e",
   "metadata": {},
   "outputs": [
    {
     "data": {
      "text/html": [
       "<div>\n",
       "<style scoped>\n",
       "    .dataframe tbody tr th:only-of-type {\n",
       "        vertical-align: middle;\n",
       "    }\n",
       "\n",
       "    .dataframe tbody tr th {\n",
       "        vertical-align: top;\n",
       "    }\n",
       "\n",
       "    .dataframe thead th {\n",
       "        text-align: right;\n",
       "    }\n",
       "</style>\n",
       "<table border=\"1\" class=\"dataframe\">\n",
       "  <thead>\n",
       "    <tr style=\"text-align: right;\">\n",
       "      <th></th>\n",
       "      <th>Name</th>\n",
       "      <th>GW</th>\n",
       "      <th>Squad</th>\n",
       "      <th>Opponent</th>\n",
       "      <th>Was Home</th>\n",
       "      <th>Opp rating</th>\n",
       "      <th>Total Points</th>\n",
       "      <th>pred</th>\n",
       "    </tr>\n",
       "  </thead>\n",
       "  <tbody>\n",
       "    <tr>\n",
       "      <th>9468</th>\n",
       "      <td>Ivan-Toney</td>\n",
       "      <td>32</td>\n",
       "      <td>Brentford</td>\n",
       "      <td>West Ham</td>\n",
       "      <td>1.0</td>\n",
       "      <td>1820.907471</td>\n",
       "      <td>12.0</td>\n",
       "      <td>8.677234</td>\n",
       "    </tr>\n",
       "    <tr>\n",
       "      <th>8162</th>\n",
       "      <td>Gabriel-Jesus</td>\n",
       "      <td>32</td>\n",
       "      <td>Arsenal</td>\n",
       "      <td>Southampton</td>\n",
       "      <td>1.0</td>\n",
       "      <td>1638.623901</td>\n",
       "      <td>2.0</td>\n",
       "      <td>8.349030</td>\n",
       "    </tr>\n",
       "    <tr>\n",
       "      <th>13021</th>\n",
       "      <td>Kai-Havertz</td>\n",
       "      <td>32</td>\n",
       "      <td>Chelsea</td>\n",
       "      <td>Southampton</td>\n",
       "      <td>0.0</td>\n",
       "      <td>1715.770752</td>\n",
       "      <td>6.0</td>\n",
       "      <td>8.261047</td>\n",
       "    </tr>\n",
       "    <tr>\n",
       "      <th>6167</th>\n",
       "      <td>Diogo-Jota</td>\n",
       "      <td>32</td>\n",
       "      <td>Liverpool</td>\n",
       "      <td>Nott'ham Forest</td>\n",
       "      <td>1.0</td>\n",
       "      <td>1626.679321</td>\n",
       "      <td>13.0</td>\n",
       "      <td>7.807551</td>\n",
       "    </tr>\n",
       "    <tr>\n",
       "      <th>17354</th>\n",
       "      <td>Mohamed-Salah</td>\n",
       "      <td>32</td>\n",
       "      <td>Liverpool</td>\n",
       "      <td>Nott'ham Forest</td>\n",
       "      <td>1.0</td>\n",
       "      <td>1626.679321</td>\n",
       "      <td>7.0</td>\n",
       "      <td>7.600975</td>\n",
       "    </tr>\n",
       "    <tr>\n",
       "      <th>13420</th>\n",
       "      <td>Kevin-De-Bruyne</td>\n",
       "      <td>32</td>\n",
       "      <td>Manchester City</td>\n",
       "      <td>Liverpool</td>\n",
       "      <td>1.0</td>\n",
       "      <td>2033.588623</td>\n",
       "      <td>9.0</td>\n",
       "      <td>7.254894</td>\n",
       "    </tr>\n",
       "    <tr>\n",
       "      <th>6255</th>\n",
       "      <td>Dominic-Solanke</td>\n",
       "      <td>32</td>\n",
       "      <td>Bournemouth</td>\n",
       "      <td>West Ham</td>\n",
       "      <td>1.0</td>\n",
       "      <td>1759.928589</td>\n",
       "      <td>2.0</td>\n",
       "      <td>7.153939</td>\n",
       "    </tr>\n",
       "    <tr>\n",
       "      <th>20253</th>\n",
       "      <td>Riyad-Mahrez</td>\n",
       "      <td>32</td>\n",
       "      <td>Manchester City</td>\n",
       "      <td>Brighton</td>\n",
       "      <td>0.0</td>\n",
       "      <td>1829.306519</td>\n",
       "      <td>2.0</td>\n",
       "      <td>7.062322</td>\n",
       "    </tr>\n",
       "    <tr>\n",
       "      <th>18708</th>\n",
       "      <td>Ollie-Watkins</td>\n",
       "      <td>32</td>\n",
       "      <td>Aston Villa</td>\n",
       "      <td>Brentford</td>\n",
       "      <td>0.0</td>\n",
       "      <td>1766.344727</td>\n",
       "      <td>2.0</td>\n",
       "      <td>6.824083</td>\n",
       "    </tr>\n",
       "    <tr>\n",
       "      <th>3180</th>\n",
       "      <td>Bukayo-Saka</td>\n",
       "      <td>32</td>\n",
       "      <td>Arsenal</td>\n",
       "      <td>Southampton</td>\n",
       "      <td>1.0</td>\n",
       "      <td>1638.623901</td>\n",
       "      <td>13.0</td>\n",
       "      <td>6.713225</td>\n",
       "    </tr>\n",
       "    <tr>\n",
       "      <th>10262</th>\n",
       "      <td>James-Maddison</td>\n",
       "      <td>32</td>\n",
       "      <td>Leicester City</td>\n",
       "      <td>Crystal Palace</td>\n",
       "      <td>1.0</td>\n",
       "      <td>1762.482300</td>\n",
       "      <td>6.0</td>\n",
       "      <td>6.632347</td>\n",
       "    </tr>\n",
       "    <tr>\n",
       "      <th>8494</th>\n",
       "      <td>Harry-Kane</td>\n",
       "      <td>32</td>\n",
       "      <td>Tottenham</td>\n",
       "      <td>Aston Villa</td>\n",
       "      <td>0.0</td>\n",
       "      <td>1747.781494</td>\n",
       "      <td>10.0</td>\n",
       "      <td>6.544123</td>\n",
       "    </tr>\n",
       "    <tr>\n",
       "      <th>16140</th>\n",
       "      <td>Mason-Mount</td>\n",
       "      <td>32</td>\n",
       "      <td>Chelsea</td>\n",
       "      <td>Southampton</td>\n",
       "      <td>0.0</td>\n",
       "      <td>1715.770752</td>\n",
       "      <td>19.0</td>\n",
       "      <td>6.433639</td>\n",
       "    </tr>\n",
       "    <tr>\n",
       "      <th>23203</th>\n",
       "      <td>Trent-Alexander-Arnold</td>\n",
       "      <td>32</td>\n",
       "      <td>Liverpool</td>\n",
       "      <td>Nott'ham Forest</td>\n",
       "      <td>1.0</td>\n",
       "      <td>1626.679321</td>\n",
       "      <td>5.0</td>\n",
       "      <td>6.275433</td>\n",
       "    </tr>\n",
       "    <tr>\n",
       "      <th>16046</th>\n",
       "      <td>Martinelli</td>\n",
       "      <td>32</td>\n",
       "      <td>Arsenal</td>\n",
       "      <td>Southampton</td>\n",
       "      <td>1.0</td>\n",
       "      <td>1638.623901</td>\n",
       "      <td>9.0</td>\n",
       "      <td>6.174519</td>\n",
       "    </tr>\n",
       "    <tr>\n",
       "      <th>20654</th>\n",
       "      <td>Rodrigo</td>\n",
       "      <td>32</td>\n",
       "      <td>Leeds United</td>\n",
       "      <td>Watford</td>\n",
       "      <td>0.0</td>\n",
       "      <td>1630.167114</td>\n",
       "      <td>9.0</td>\n",
       "      <td>6.145042</td>\n",
       "    </tr>\n",
       "    <tr>\n",
       "      <th>3104</th>\n",
       "      <td>Bryan-Mbeumo</td>\n",
       "      <td>32</td>\n",
       "      <td>Brentford</td>\n",
       "      <td>Aston Villa</td>\n",
       "      <td>1.0</td>\n",
       "      <td>1812.850708</td>\n",
       "      <td>7.0</td>\n",
       "      <td>6.121257</td>\n",
       "    </tr>\n",
       "    <tr>\n",
       "      <th>9623</th>\n",
       "      <td>Jack-Harrison</td>\n",
       "      <td>32</td>\n",
       "      <td>Leeds United</td>\n",
       "      <td>Watford</td>\n",
       "      <td>0.0</td>\n",
       "      <td>1630.167114</td>\n",
       "      <td>9.0</td>\n",
       "      <td>6.066987</td>\n",
       "    </tr>\n",
       "    <tr>\n",
       "      <th>10880</th>\n",
       "      <td>Jarrod-Bowen</td>\n",
       "      <td>32</td>\n",
       "      <td>West Ham</td>\n",
       "      <td>Bournemouth</td>\n",
       "      <td>0.0</td>\n",
       "      <td>1674.964966</td>\n",
       "      <td>6.0</td>\n",
       "      <td>6.041557</td>\n",
       "    </tr>\n",
       "    <tr>\n",
       "      <th>7231</th>\n",
       "      <td>Enock-Mwepu</td>\n",
       "      <td>32</td>\n",
       "      <td>Brighton</td>\n",
       "      <td>Arsenal</td>\n",
       "      <td>0.0</td>\n",
       "      <td>1864.685303</td>\n",
       "      <td>14.0</td>\n",
       "      <td>5.813212</td>\n",
       "    </tr>\n",
       "    <tr>\n",
       "      <th>3066</th>\n",
       "      <td>Bryan-Mbeumo</td>\n",
       "      <td>32</td>\n",
       "      <td>Brentford</td>\n",
       "      <td>West Ham</td>\n",
       "      <td>1.0</td>\n",
       "      <td>1820.907471</td>\n",
       "      <td>13.0</td>\n",
       "      <td>5.693551</td>\n",
       "    </tr>\n",
       "    <tr>\n",
       "      <th>967</th>\n",
       "      <td>Alexander-Isak</td>\n",
       "      <td>32</td>\n",
       "      <td>Newcastle Utd</td>\n",
       "      <td>Tottenham</td>\n",
       "      <td>1.0</td>\n",
       "      <td>1834.483765</td>\n",
       "      <td>13.0</td>\n",
       "      <td>5.649684</td>\n",
       "    </tr>\n",
       "    <tr>\n",
       "      <th>6534</th>\n",
       "      <td>Eberechi-Eze</td>\n",
       "      <td>32</td>\n",
       "      <td>Crystal Palace</td>\n",
       "      <td>Everton</td>\n",
       "      <td>1.0</td>\n",
       "      <td>1671.622437</td>\n",
       "      <td>3.0</td>\n",
       "      <td>5.556786</td>\n",
       "    </tr>\n",
       "    <tr>\n",
       "      <th>9206</th>\n",
       "      <td>Ilkay-Gundogan</td>\n",
       "      <td>32</td>\n",
       "      <td>Manchester City</td>\n",
       "      <td>Brighton</td>\n",
       "      <td>0.0</td>\n",
       "      <td>1829.306519</td>\n",
       "      <td>2.0</td>\n",
       "      <td>5.553784</td>\n",
       "    </tr>\n",
       "    <tr>\n",
       "      <th>9504</th>\n",
       "      <td>Ivan-Toney</td>\n",
       "      <td>32</td>\n",
       "      <td>Brentford</td>\n",
       "      <td>Aston Villa</td>\n",
       "      <td>1.0</td>\n",
       "      <td>1812.850708</td>\n",
       "      <td>9.0</td>\n",
       "      <td>5.447114</td>\n",
       "    </tr>\n",
       "    <tr>\n",
       "      <th>5719</th>\n",
       "      <td>Dejan-Kulusevski</td>\n",
       "      <td>32</td>\n",
       "      <td>Tottenham</td>\n",
       "      <td>Aston Villa</td>\n",
       "      <td>0.0</td>\n",
       "      <td>1747.781494</td>\n",
       "      <td>12.0</td>\n",
       "      <td>5.252174</td>\n",
       "    </tr>\n",
       "    <tr>\n",
       "      <th>3972</th>\n",
       "      <td>Chris-Wood</td>\n",
       "      <td>32</td>\n",
       "      <td>Newcastle Utd</td>\n",
       "      <td>Wolves</td>\n",
       "      <td>1.0</td>\n",
       "      <td>1774.006348</td>\n",
       "      <td>9.0</td>\n",
       "      <td>5.111404</td>\n",
       "    </tr>\n",
       "    <tr>\n",
       "      <th>2405</th>\n",
       "      <td>Ben-White</td>\n",
       "      <td>32</td>\n",
       "      <td>Arsenal</td>\n",
       "      <td>Southampton</td>\n",
       "      <td>1.0</td>\n",
       "      <td>1638.623901</td>\n",
       "      <td>4.0</td>\n",
       "      <td>5.041568</td>\n",
       "    </tr>\n",
       "    <tr>\n",
       "      <th>12126</th>\n",
       "      <td>Joelinton</td>\n",
       "      <td>32</td>\n",
       "      <td>Newcastle Utd</td>\n",
       "      <td>Tottenham</td>\n",
       "      <td>1.0</td>\n",
       "      <td>1834.483765</td>\n",
       "      <td>12.0</td>\n",
       "      <td>5.009908</td>\n",
       "    </tr>\n",
       "    <tr>\n",
       "      <th>9889</th>\n",
       "      <td>Jacob-Ramsey</td>\n",
       "      <td>32</td>\n",
       "      <td>Aston Villa</td>\n",
       "      <td>Brentford</td>\n",
       "      <td>0.0</td>\n",
       "      <td>1766.344727</td>\n",
       "      <td>2.0</td>\n",
       "      <td>4.983333</td>\n",
       "    </tr>\n",
       "  </tbody>\n",
       "</table>\n",
       "</div>"
      ],
      "text/plain": [
       "                         Name  GW            Squad         Opponent  Was Home  \\\n",
       "9468               Ivan-Toney  32        Brentford         West Ham       1.0   \n",
       "8162            Gabriel-Jesus  32          Arsenal      Southampton       1.0   \n",
       "13021             Kai-Havertz  32          Chelsea      Southampton       0.0   \n",
       "6167               Diogo-Jota  32        Liverpool  Nott'ham Forest       1.0   \n",
       "17354           Mohamed-Salah  32        Liverpool  Nott'ham Forest       1.0   \n",
       "13420         Kevin-De-Bruyne  32  Manchester City        Liverpool       1.0   \n",
       "6255          Dominic-Solanke  32      Bournemouth         West Ham       1.0   \n",
       "20253            Riyad-Mahrez  32  Manchester City         Brighton       0.0   \n",
       "18708           Ollie-Watkins  32      Aston Villa        Brentford       0.0   \n",
       "3180              Bukayo-Saka  32          Arsenal      Southampton       1.0   \n",
       "10262          James-Maddison  32   Leicester City   Crystal Palace       1.0   \n",
       "8494               Harry-Kane  32        Tottenham      Aston Villa       0.0   \n",
       "16140             Mason-Mount  32          Chelsea      Southampton       0.0   \n",
       "23203  Trent-Alexander-Arnold  32        Liverpool  Nott'ham Forest       1.0   \n",
       "16046              Martinelli  32          Arsenal      Southampton       1.0   \n",
       "20654                 Rodrigo  32     Leeds United          Watford       0.0   \n",
       "3104             Bryan-Mbeumo  32        Brentford      Aston Villa       1.0   \n",
       "9623            Jack-Harrison  32     Leeds United          Watford       0.0   \n",
       "10880            Jarrod-Bowen  32         West Ham      Bournemouth       0.0   \n",
       "7231              Enock-Mwepu  32         Brighton          Arsenal       0.0   \n",
       "3066             Bryan-Mbeumo  32        Brentford         West Ham       1.0   \n",
       "967            Alexander-Isak  32    Newcastle Utd        Tottenham       1.0   \n",
       "6534             Eberechi-Eze  32   Crystal Palace          Everton       1.0   \n",
       "9206           Ilkay-Gundogan  32  Manchester City         Brighton       0.0   \n",
       "9504               Ivan-Toney  32        Brentford      Aston Villa       1.0   \n",
       "5719         Dejan-Kulusevski  32        Tottenham      Aston Villa       0.0   \n",
       "3972               Chris-Wood  32    Newcastle Utd           Wolves       1.0   \n",
       "2405                Ben-White  32          Arsenal      Southampton       1.0   \n",
       "12126               Joelinton  32    Newcastle Utd        Tottenham       1.0   \n",
       "9889             Jacob-Ramsey  32      Aston Villa        Brentford       0.0   \n",
       "\n",
       "        Opp rating  Total Points      pred  \n",
       "9468   1820.907471          12.0  8.677234  \n",
       "8162   1638.623901           2.0  8.349030  \n",
       "13021  1715.770752           6.0  8.261047  \n",
       "6167   1626.679321          13.0  7.807551  \n",
       "17354  1626.679321           7.0  7.600975  \n",
       "13420  2033.588623           9.0  7.254894  \n",
       "6255   1759.928589           2.0  7.153939  \n",
       "20253  1829.306519           2.0  7.062322  \n",
       "18708  1766.344727           2.0  6.824083  \n",
       "3180   1638.623901          13.0  6.713225  \n",
       "10262  1762.482300           6.0  6.632347  \n",
       "8494   1747.781494          10.0  6.544123  \n",
       "16140  1715.770752          19.0  6.433639  \n",
       "23203  1626.679321           5.0  6.275433  \n",
       "16046  1638.623901           9.0  6.174519  \n",
       "20654  1630.167114           9.0  6.145042  \n",
       "3104   1812.850708           7.0  6.121257  \n",
       "9623   1630.167114           9.0  6.066987  \n",
       "10880  1674.964966           6.0  6.041557  \n",
       "7231   1864.685303          14.0  5.813212  \n",
       "3066   1820.907471          13.0  5.693551  \n",
       "967    1834.483765          13.0  5.649684  \n",
       "6534   1671.622437           3.0  5.556786  \n",
       "9206   1829.306519           2.0  5.553784  \n",
       "9504   1812.850708           9.0  5.447114  \n",
       "5719   1747.781494          12.0  5.252174  \n",
       "3972   1774.006348           9.0  5.111404  \n",
       "2405   1638.623901           4.0  5.041568  \n",
       "12126  1834.483765          12.0  5.009908  \n",
       "9889   1766.344727           2.0  4.983333  "
      ]
     },
     "execution_count": 30,
     "metadata": {},
     "output_type": "execute_result"
    }
   ],
   "source": [
    "preds.head(30)"
   ]
  },
  {
   "cell_type": "code",
   "execution_count": 31,
   "id": "3fe1c712-ea38-4a91-9717-d4f520ffcb82",
   "metadata": {},
   "outputs": [
    {
     "data": {
      "text/html": [
       "<div>\n",
       "<style scoped>\n",
       "    .dataframe tbody tr th:only-of-type {\n",
       "        vertical-align: middle;\n",
       "    }\n",
       "\n",
       "    .dataframe tbody tr th {\n",
       "        vertical-align: top;\n",
       "    }\n",
       "\n",
       "    .dataframe thead th {\n",
       "        text-align: right;\n",
       "    }\n",
       "</style>\n",
       "<table border=\"1\" class=\"dataframe\">\n",
       "  <thead>\n",
       "    <tr style=\"text-align: right;\">\n",
       "      <th></th>\n",
       "      <th>Name</th>\n",
       "      <th>GW</th>\n",
       "      <th>Squad</th>\n",
       "      <th>Opponent</th>\n",
       "      <th>Was Home</th>\n",
       "      <th>Opp rating</th>\n",
       "      <th>Total Points</th>\n",
       "      <th>pred</th>\n",
       "    </tr>\n",
       "  </thead>\n",
       "  <tbody>\n",
       "    <tr>\n",
       "      <th>13420</th>\n",
       "      <td>Kevin-De-Bruyne</td>\n",
       "      <td>32</td>\n",
       "      <td>Manchester City</td>\n",
       "      <td>Liverpool</td>\n",
       "      <td>1.0</td>\n",
       "      <td>2033.588623</td>\n",
       "      <td>9.0</td>\n",
       "      <td>7.254894</td>\n",
       "    </tr>\n",
       "    <tr>\n",
       "      <th>20253</th>\n",
       "      <td>Riyad-Mahrez</td>\n",
       "      <td>32</td>\n",
       "      <td>Manchester City</td>\n",
       "      <td>Brighton</td>\n",
       "      <td>0.0</td>\n",
       "      <td>1829.306519</td>\n",
       "      <td>2.0</td>\n",
       "      <td>7.062322</td>\n",
       "    </tr>\n",
       "    <tr>\n",
       "      <th>9206</th>\n",
       "      <td>Ilkay-Gundogan</td>\n",
       "      <td>32</td>\n",
       "      <td>Manchester City</td>\n",
       "      <td>Brighton</td>\n",
       "      <td>0.0</td>\n",
       "      <td>1829.306519</td>\n",
       "      <td>2.0</td>\n",
       "      <td>5.553784</td>\n",
       "    </tr>\n",
       "    <tr>\n",
       "      <th>1969</th>\n",
       "      <td>Aymeric-Laporte</td>\n",
       "      <td>32</td>\n",
       "      <td>Manchester City</td>\n",
       "      <td>Liverpool</td>\n",
       "      <td>1.0</td>\n",
       "      <td>2033.588623</td>\n",
       "      <td>1.0</td>\n",
       "      <td>4.351903</td>\n",
       "    </tr>\n",
       "    <tr>\n",
       "      <th>20583</th>\n",
       "      <td>Rodri</td>\n",
       "      <td>32</td>\n",
       "      <td>Manchester City</td>\n",
       "      <td>Liverpool</td>\n",
       "      <td>1.0</td>\n",
       "      <td>2033.588623</td>\n",
       "      <td>2.0</td>\n",
       "      <td>4.123792</td>\n",
       "    </tr>\n",
       "    <tr>\n",
       "      <th>20209</th>\n",
       "      <td>Riyad-Mahrez</td>\n",
       "      <td>32</td>\n",
       "      <td>Manchester City</td>\n",
       "      <td>Liverpool</td>\n",
       "      <td>1.0</td>\n",
       "      <td>2033.588623</td>\n",
       "      <td>1.0</td>\n",
       "      <td>3.923972</td>\n",
       "    </tr>\n",
       "    <tr>\n",
       "      <th>6629</th>\n",
       "      <td>Ederson</td>\n",
       "      <td>32</td>\n",
       "      <td>Manchester City</td>\n",
       "      <td>Liverpool</td>\n",
       "      <td>1.0</td>\n",
       "      <td>2033.588623</td>\n",
       "      <td>1.0</td>\n",
       "      <td>3.838832</td>\n",
       "    </tr>\n",
       "    <tr>\n",
       "      <th>7366</th>\n",
       "      <td>Erling-Haaland</td>\n",
       "      <td>32</td>\n",
       "      <td>Manchester City</td>\n",
       "      <td>Brighton</td>\n",
       "      <td>0.0</td>\n",
       "      <td>1829.306519</td>\n",
       "      <td>5.0</td>\n",
       "      <td>3.730333</td>\n",
       "    </tr>\n",
       "    <tr>\n",
       "      <th>19334</th>\n",
       "      <td>Phil-Foden</td>\n",
       "      <td>32</td>\n",
       "      <td>Manchester City</td>\n",
       "      <td>Brighton</td>\n",
       "      <td>0.0</td>\n",
       "      <td>1829.306519</td>\n",
       "      <td>9.0</td>\n",
       "      <td>3.645636</td>\n",
       "    </tr>\n",
       "    <tr>\n",
       "      <th>13462</th>\n",
       "      <td>Kevin-De-Bruyne</td>\n",
       "      <td>32</td>\n",
       "      <td>Manchester City</td>\n",
       "      <td>Brighton</td>\n",
       "      <td>0.0</td>\n",
       "      <td>1829.306519</td>\n",
       "      <td>1.0</td>\n",
       "      <td>3.542582</td>\n",
       "    </tr>\n",
       "    <tr>\n",
       "      <th>9162</th>\n",
       "      <td>Ilkay-Gundogan</td>\n",
       "      <td>32</td>\n",
       "      <td>Manchester City</td>\n",
       "      <td>Liverpool</td>\n",
       "      <td>1.0</td>\n",
       "      <td>2033.588623</td>\n",
       "      <td>0.0</td>\n",
       "      <td>3.132832</td>\n",
       "    </tr>\n",
       "    <tr>\n",
       "      <th>19295</th>\n",
       "      <td>Phil-Foden</td>\n",
       "      <td>32</td>\n",
       "      <td>Manchester City</td>\n",
       "      <td>Liverpool</td>\n",
       "      <td>1.0</td>\n",
       "      <td>2033.588623</td>\n",
       "      <td>2.0</td>\n",
       "      <td>3.019169</td>\n",
       "    </tr>\n",
       "    <tr>\n",
       "      <th>9552</th>\n",
       "      <td>Jack-Grealish</td>\n",
       "      <td>32</td>\n",
       "      <td>Manchester City</td>\n",
       "      <td>Liverpool</td>\n",
       "      <td>1.0</td>\n",
       "      <td>2033.588623</td>\n",
       "      <td>1.0</td>\n",
       "      <td>2.866134</td>\n",
       "    </tr>\n",
       "    <tr>\n",
       "      <th>12898</th>\n",
       "      <td>Julian-Alvarez</td>\n",
       "      <td>32</td>\n",
       "      <td>Manchester City</td>\n",
       "      <td>Brighton</td>\n",
       "      <td>0.0</td>\n",
       "      <td>1829.306519</td>\n",
       "      <td>1.0</td>\n",
       "      <td>2.853009</td>\n",
       "    </tr>\n",
       "    <tr>\n",
       "      <th>19600</th>\n",
       "      <td>Raheem-Sterling</td>\n",
       "      <td>32</td>\n",
       "      <td>Manchester City</td>\n",
       "      <td>Liverpool</td>\n",
       "      <td>1.0</td>\n",
       "      <td>2033.588623</td>\n",
       "      <td>2.0</td>\n",
       "      <td>2.846802</td>\n",
       "    </tr>\n",
       "    <tr>\n",
       "      <th>13966</th>\n",
       "      <td>Kyle-Walker</td>\n",
       "      <td>32</td>\n",
       "      <td>Manchester City</td>\n",
       "      <td>Brighton</td>\n",
       "      <td>0.0</td>\n",
       "      <td>1829.306519</td>\n",
       "      <td>2.0</td>\n",
       "      <td>2.572234</td>\n",
       "    </tr>\n",
       "    <tr>\n",
       "      <th>12226</th>\n",
       "      <td>John-Stones</td>\n",
       "      <td>32</td>\n",
       "      <td>Manchester City</td>\n",
       "      <td>Liverpool</td>\n",
       "      <td>1.0</td>\n",
       "      <td>2033.588623</td>\n",
       "      <td>1.0</td>\n",
       "      <td>2.435406</td>\n",
       "    </tr>\n",
       "    <tr>\n",
       "      <th>13934</th>\n",
       "      <td>Kyle-Walker</td>\n",
       "      <td>32</td>\n",
       "      <td>Manchester City</td>\n",
       "      <td>Liverpool</td>\n",
       "      <td>1.0</td>\n",
       "      <td>2033.588623</td>\n",
       "      <td>1.0</td>\n",
       "      <td>2.435406</td>\n",
       "    </tr>\n",
       "    <tr>\n",
       "      <th>20179</th>\n",
       "      <td>Rico-Lewis</td>\n",
       "      <td>32</td>\n",
       "      <td>Manchester City</td>\n",
       "      <td>Brighton</td>\n",
       "      <td>0.0</td>\n",
       "      <td>1829.306519</td>\n",
       "      <td>2.0</td>\n",
       "      <td>2.072370</td>\n",
       "    </tr>\n",
       "    <tr>\n",
       "      <th>20626</th>\n",
       "      <td>Rodri</td>\n",
       "      <td>32</td>\n",
       "      <td>Manchester City</td>\n",
       "      <td>Brighton</td>\n",
       "      <td>0.0</td>\n",
       "      <td>1829.306519</td>\n",
       "      <td>2.0</td>\n",
       "      <td>2.041007</td>\n",
       "    </tr>\n",
       "    <tr>\n",
       "      <th>8135</th>\n",
       "      <td>Gabriel-Jesus</td>\n",
       "      <td>32</td>\n",
       "      <td>Manchester City</td>\n",
       "      <td>Liverpool</td>\n",
       "      <td>1.0</td>\n",
       "      <td>2033.588623</td>\n",
       "      <td>9.0</td>\n",
       "      <td>1.858478</td>\n",
       "    </tr>\n",
       "    <tr>\n",
       "      <th>2504</th>\n",
       "      <td>Bernardo-Silva</td>\n",
       "      <td>32</td>\n",
       "      <td>Manchester City</td>\n",
       "      <td>Brighton</td>\n",
       "      <td>0.0</td>\n",
       "      <td>1829.306519</td>\n",
       "      <td>1.0</td>\n",
       "      <td>1.844292</td>\n",
       "    </tr>\n",
       "    <tr>\n",
       "      <th>4285</th>\n",
       "      <td>Cole-Palmer</td>\n",
       "      <td>32</td>\n",
       "      <td>Manchester City</td>\n",
       "      <td>Brighton</td>\n",
       "      <td>0.0</td>\n",
       "      <td>1829.306519</td>\n",
       "      <td>1.0</td>\n",
       "      <td>1.654378</td>\n",
       "    </tr>\n",
       "    <tr>\n",
       "      <th>12256</th>\n",
       "      <td>John-Stones</td>\n",
       "      <td>32</td>\n",
       "      <td>Manchester City</td>\n",
       "      <td>Brighton</td>\n",
       "      <td>0.0</td>\n",
       "      <td>1829.306519</td>\n",
       "      <td>2.0</td>\n",
       "      <td>1.317987</td>\n",
       "    </tr>\n",
       "    <tr>\n",
       "      <th>6673</th>\n",
       "      <td>Ederson</td>\n",
       "      <td>32</td>\n",
       "      <td>Manchester City</td>\n",
       "      <td>Brighton</td>\n",
       "      <td>0.0</td>\n",
       "      <td>1829.306519</td>\n",
       "      <td>0.0</td>\n",
       "      <td>1.153848</td>\n",
       "    </tr>\n",
       "    <tr>\n",
       "      <th>13143</th>\n",
       "      <td>Kalvin-Phillips</td>\n",
       "      <td>32</td>\n",
       "      <td>Manchester City</td>\n",
       "      <td>Brighton</td>\n",
       "      <td>0.0</td>\n",
       "      <td>1829.306519</td>\n",
       "      <td>1.0</td>\n",
       "      <td>0.772803</td>\n",
       "    </tr>\n",
       "    <tr>\n",
       "      <th>17834</th>\n",
       "      <td>Nathan-Ake</td>\n",
       "      <td>32</td>\n",
       "      <td>Manchester City</td>\n",
       "      <td>Liverpool</td>\n",
       "      <td>1.0</td>\n",
       "      <td>2033.588623</td>\n",
       "      <td>0.0</td>\n",
       "      <td>0.620778</td>\n",
       "    </tr>\n",
       "    <tr>\n",
       "      <th>21923</th>\n",
       "      <td>Sergio-Gomez</td>\n",
       "      <td>32</td>\n",
       "      <td>Manchester City</td>\n",
       "      <td>Brighton</td>\n",
       "      <td>0.0</td>\n",
       "      <td>1829.306519</td>\n",
       "      <td>1.0</td>\n",
       "      <td>0.531786</td>\n",
       "    </tr>\n",
       "    <tr>\n",
       "      <th>18556</th>\n",
       "      <td>Oleksandr-Zinchenko</td>\n",
       "      <td>32</td>\n",
       "      <td>Manchester City</td>\n",
       "      <td>Liverpool</td>\n",
       "      <td>1.0</td>\n",
       "      <td>2033.588623</td>\n",
       "      <td>0.0</td>\n",
       "      <td>-0.025035</td>\n",
       "    </tr>\n",
       "  </tbody>\n",
       "</table>\n",
       "</div>"
      ],
      "text/plain": [
       "                      Name  GW            Squad   Opponent  Was Home  \\\n",
       "13420      Kevin-De-Bruyne  32  Manchester City  Liverpool       1.0   \n",
       "20253         Riyad-Mahrez  32  Manchester City   Brighton       0.0   \n",
       "9206        Ilkay-Gundogan  32  Manchester City   Brighton       0.0   \n",
       "1969       Aymeric-Laporte  32  Manchester City  Liverpool       1.0   \n",
       "20583                Rodri  32  Manchester City  Liverpool       1.0   \n",
       "20209         Riyad-Mahrez  32  Manchester City  Liverpool       1.0   \n",
       "6629               Ederson  32  Manchester City  Liverpool       1.0   \n",
       "7366        Erling-Haaland  32  Manchester City   Brighton       0.0   \n",
       "19334           Phil-Foden  32  Manchester City   Brighton       0.0   \n",
       "13462      Kevin-De-Bruyne  32  Manchester City   Brighton       0.0   \n",
       "9162        Ilkay-Gundogan  32  Manchester City  Liverpool       1.0   \n",
       "19295           Phil-Foden  32  Manchester City  Liverpool       1.0   \n",
       "9552         Jack-Grealish  32  Manchester City  Liverpool       1.0   \n",
       "12898       Julian-Alvarez  32  Manchester City   Brighton       0.0   \n",
       "19600      Raheem-Sterling  32  Manchester City  Liverpool       1.0   \n",
       "13966          Kyle-Walker  32  Manchester City   Brighton       0.0   \n",
       "12226          John-Stones  32  Manchester City  Liverpool       1.0   \n",
       "13934          Kyle-Walker  32  Manchester City  Liverpool       1.0   \n",
       "20179           Rico-Lewis  32  Manchester City   Brighton       0.0   \n",
       "20626                Rodri  32  Manchester City   Brighton       0.0   \n",
       "8135         Gabriel-Jesus  32  Manchester City  Liverpool       1.0   \n",
       "2504        Bernardo-Silva  32  Manchester City   Brighton       0.0   \n",
       "4285           Cole-Palmer  32  Manchester City   Brighton       0.0   \n",
       "12256          John-Stones  32  Manchester City   Brighton       0.0   \n",
       "6673               Ederson  32  Manchester City   Brighton       0.0   \n",
       "13143      Kalvin-Phillips  32  Manchester City   Brighton       0.0   \n",
       "17834           Nathan-Ake  32  Manchester City  Liverpool       1.0   \n",
       "21923         Sergio-Gomez  32  Manchester City   Brighton       0.0   \n",
       "18556  Oleksandr-Zinchenko  32  Manchester City  Liverpool       1.0   \n",
       "\n",
       "        Opp rating  Total Points      pred  \n",
       "13420  2033.588623           9.0  7.254894  \n",
       "20253  1829.306519           2.0  7.062322  \n",
       "9206   1829.306519           2.0  5.553784  \n",
       "1969   2033.588623           1.0  4.351903  \n",
       "20583  2033.588623           2.0  4.123792  \n",
       "20209  2033.588623           1.0  3.923972  \n",
       "6629   2033.588623           1.0  3.838832  \n",
       "7366   1829.306519           5.0  3.730333  \n",
       "19334  1829.306519           9.0  3.645636  \n",
       "13462  1829.306519           1.0  3.542582  \n",
       "9162   2033.588623           0.0  3.132832  \n",
       "19295  2033.588623           2.0  3.019169  \n",
       "9552   2033.588623           1.0  2.866134  \n",
       "12898  1829.306519           1.0  2.853009  \n",
       "19600  2033.588623           2.0  2.846802  \n",
       "13966  1829.306519           2.0  2.572234  \n",
       "12226  2033.588623           1.0  2.435406  \n",
       "13934  2033.588623           1.0  2.435406  \n",
       "20179  1829.306519           2.0  2.072370  \n",
       "20626  1829.306519           2.0  2.041007  \n",
       "8135   2033.588623           9.0  1.858478  \n",
       "2504   1829.306519           1.0  1.844292  \n",
       "4285   1829.306519           1.0  1.654378  \n",
       "12256  1829.306519           2.0  1.317987  \n",
       "6673   1829.306519           0.0  1.153848  \n",
       "13143  1829.306519           1.0  0.772803  \n",
       "17834  2033.588623           0.0  0.620778  \n",
       "21923  1829.306519           1.0  0.531786  \n",
       "18556  2033.588623           0.0 -0.025035  "
      ]
     },
     "execution_count": 31,
     "metadata": {},
     "output_type": "execute_result"
    }
   ],
   "source": [
    "preds[preds[\"Squad\"] == \"Manchester City\"]"
   ]
  },
  {
   "cell_type": "markdown",
   "id": "3ed6461a-a67a-4068-984b-c17e9a1d8c7b",
   "metadata": {},
   "source": [
    "# Feature importance and influence"
   ]
  },
  {
   "cell_type": "code",
   "execution_count": 32,
   "id": "7f0acc94-8661-4933-926c-859679ba5d4f",
   "metadata": {},
   "outputs": [],
   "source": [
    "# plot_importance(model)"
   ]
  },
  {
   "cell_type": "code",
   "execution_count": 33,
   "id": "fc68979d-f8e7-4f44-ae50-22ef7b92b9e1",
   "metadata": {},
   "outputs": [
    {
     "name": "stderr",
     "output_type": "stream",
     "text": [
      "Function plot_partial_dependence is deprecated; Function `plot_partial_dependence` is deprecated in 1.0 and will be removed in 1.2. Use PartialDependenceDisplay.from_estimator instead\n"
     ]
    },
    {
     "data": {
      "text/plain": [
       "<sklearn.inspection._plot.partial_dependence.PartialDependenceDisplay at 0x1aa0fe56520>"
      ]
     },
     "execution_count": 33,
     "metadata": {},
     "output_type": "execute_result"
    },
    {
     "data": {
      "image/png": "[encoded data removed]",
      "text/plain": [
       "<Figure size 1152x576 with 17 Axes>"
      ]
     },
     "metadata": {
      "needs_background": "light"
     },
     "output_type": "display_data"
    }
   ],
   "source": [
    "fig, ax = plt.subplots(figsize=(16, 8))\n",
    "plot_partial_dependence(model, X_train, features, ax=ax)"
   ]
  },
  {
   "cell_type": "code",
   "execution_count": 34,
   "id": "c90e9b27-43c3-4253-830d-53c3532c5197",
   "metadata": {},
   "outputs": [
    {
     "name": "stderr",
     "output_type": "stream",
     "text": [
      " 94%|=================== | 15192/16216 [00:13<00:00]       "
     ]
    }
   ],
   "source": [
    "explainer = shap.Explainer(model, X_train)\n",
    "shap_values = explainer(X_train)"
   ]
  },
  {
   "cell_type": "code",
   "execution_count": 35,
   "id": "f73757e7-4125-4657-8b78-914b5324a9e9",
   "metadata": {},
   "outputs": [
    {
     "data": {
      "image/png": "[encoded data removed]",
      "text/plain": [
       "<Figure size 576x468 with 1 Axes>"
      ]
     },
     "metadata": {},
     "output_type": "display_data"
    }
   ],
   "source": [
    "shap.plots.bar(shap_values)"
   ]
  },
  {
   "cell_type": "code",
   "execution_count": 36,
   "id": "4d1a6591-e086-4156-a51a-3ccfd3489561",
   "metadata": {},
   "outputs": [
    {
     "data": {
      "image/png": "[encoded data removed]",
      "text/plain": [
       "<Figure size 576x396 with 2 Axes>"
      ]
     },
     "metadata": {
      "needs_background": "light"
     },
     "output_type": "display_data"
    }
   ],
   "source": [
    "shap.plots.beeswarm(shap_values)"
   ]
  },
  {
   "cell_type": "code",
   "execution_count": 37,
   "id": "b1d832a7-6e45-4286-a102-029a56916c45",
   "metadata": {},
   "outputs": [
    {
     "data": {
      "image/png": "[encoded data removed]",
      "text/plain": [
       "<Figure size 576x468 with 1 Axes>"
      ]
     },
     "metadata": {},
     "output_type": "display_data"
    }
   ],
   "source": [
    "shap.plots.bar(shap_values[124])"
   ]
  },
  {
   "cell_type": "code",
   "execution_count": null,
   "id": "30d87d10-ae71-4fc6-aa37-455fa45be613",
   "metadata": {},
   "outputs": [],
   "source": []
  },
  {
   "cell_type": "code",
   "execution_count": null,
   "id": "bd48e593-6e80-42dd-a735-b0815e5694c9",
   "metadata": {},
   "outputs": [],
   "source": []
  }
 ],
 "metadata": {
  "kernelspec": {
   "display_name": "Python 3 (ipykernel)",
   "language": "python",
   "name": "python3"
  },
  "language_info": {
   "codemirror_mode": {
    "name": "ipython",
    "version": 3
   },
   "file_extension": ".py",
   "mimetype": "text/x-python",
   "name": "python",
   "nbconvert_exporter": "python",
   "pygments_lexer": "ipython3",
   "version": "3.8.0"
  }
 },
 "nbformat": 4,
 "nbformat_minor": 5
}
