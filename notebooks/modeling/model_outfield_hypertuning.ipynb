{
 "cells": [
  {
   "cell_type": "markdown",
   "id": "e61cf721-96f7-4f7c-a5c5-343917267d91",
   "metadata": {},
   "source": [
    "\n",
    "# Imports"
   ]
  },
  {
   "cell_type": "code",
   "execution_count": 1,
   "id": "c2b67ee7-f81a-4a96-bd38-8149efc725cf",
   "metadata": {},
   "outputs": [],
   "source": [
    "import os\n",
    "os.chdir(\"D:\\PulpitE\\FPL_ML\")"
   ]
  },
  {
   "cell_type": "code",
   "execution_count": 2,
   "id": "3f447fc0-41e6-4c50-967e-2cc314a1e81f",
   "metadata": {},
   "outputs": [],
   "source": [
    "import matplotlib.pyplot as plt\n",
    "import pandas as pd\n",
    "import numpy as np\n",
    "import shap\n",
    "import pickle\n",
    "\n",
    "from sklearn.ensemble import GradientBoostingRegressor\n",
    "from xgboost import XGBRegressor\n",
    "\n",
    "from sklearn.ensemble import RandomForestRegressor\n",
    "\n",
    "from sklearn.metrics import mean_absolute_error, mean_squared_error\n",
    "\n",
    "from sklearn.preprocessing import LabelEncoder"
   ]
  },
  {
   "cell_type": "markdown",
   "id": "8872f7cc-f945-4e0d-85e3-9f39ec505ed9",
   "metadata": {},
   "source": [
    "# Loading data\n",
    "Data consists of all PL players logs for 2021-22 and 2022-23 seasons\\\n",
    "A single log is just a summary of player performance in a particular match"
   ]
  },
  {
   "cell_type": "code",
   "execution_count": 3,
   "id": "217927df-909e-4a95-9e59-651d57e312db",
   "metadata": {},
   "outputs": [],
   "source": [
    "# loading csv\n",
    "df_original = pd.read_csv('data/previous/FPL_logs.csv')\n",
    "\n",
    "df = df_original.copy()"
   ]
  },
  {
   "cell_type": "code",
   "execution_count": 4,
   "id": "60af6f3b-1788-447d-a47e-94df72ca37e4",
   "metadata": {},
   "outputs": [
    {
     "data": {
      "text/plain": [
       "Index(['Date', 'Day', 'Venue', 'Team', 'Opponent', 'Name', 'Start', 'Pos',\n",
       "       'Min', 'Gls', 'Ast', 'PK', 'PKatt', 'Sh', 'SoT', 'CrdY', 'CrdR',\n",
       "       'Touches', 'Tkl', 'Int', 'Blocks', 'xG', 'npxG', 'xA', 'SCA', 'GCA',\n",
       "       'Cmp', 'Att', 'Cmp%', 'PrgP', 'Carries', 'PrgC', 'T_att', 'T_succ',\n",
       "       'Season', 'WDL', 'Team_score', 'Opp_score', 'Team_CS', 'Was_home', 'GW',\n",
       "       'Clean_name', 'FPL_name', 'FPL_team', 'FPL_opp_team', 'Name_original',\n",
       "       'FPL_pos', 'FPL_ast', 'Bonus', 'Bps', 'Player_CS', 'Creativity',\n",
       "       'Element', 'Fixture', 'Player_GC', 'Goals_scored', 'ICT_index',\n",
       "       'Influence', 'Kickoff_time', 'FPL_min', 'Own_goals', 'Penalties_missed',\n",
       "       'Penalties_saved', 'Saves', 'Selected', 'Threat', 'FPL_points',\n",
       "       'Transfers_balance', 'Transfers_in', 'Transfers_out', 'Value', 'FPL_GW',\n",
       "       'xP', 'FPL_xA', 'FPL_xGI', 'FPL_xG', 'FPL_xGC', 'Opp_rating',\n",
       "       'Team_rating', 'Min_points'],\n",
       "      dtype='object')"
      ]
     },
     "execution_count": 4,
     "metadata": {},
     "output_type": "execute_result"
    }
   ],
   "source": [
    "df_original.columns"
   ]
  },
  {
   "cell_type": "code",
   "execution_count": 5,
   "id": "bea7e13d-5911-428a-a55c-6636cc0e10f9",
   "metadata": {},
   "outputs": [
    {
     "data": {
      "text/plain": [
       "484"
      ]
     },
     "execution_count": 5,
     "metadata": {},
     "output_type": "execute_result"
    }
   ],
   "source": [
    "df_original[\"Name\"].unique().size"
   ]
  },
  {
   "cell_type": "code",
   "execution_count": 6,
   "id": "5c1b9133-98f1-4547-aa9a-01dac513f0e0",
   "metadata": {},
   "outputs": [
    {
     "data": {
      "text/plain": [
       "(19421, 80)"
      ]
     },
     "execution_count": 6,
     "metadata": {},
     "output_type": "execute_result"
    }
   ],
   "source": [
    "df.shape"
   ]
  },
  {
   "cell_type": "code",
   "execution_count": 7,
   "id": "061b7f77-aaa5-4c47-aa57-fcd0a8f1f383",
   "metadata": {},
   "outputs": [
    {
     "data": {
      "text/plain": [
       "array(['2021-22', '2022-23', '2023-24'], dtype=object)"
      ]
     },
     "execution_count": 7,
     "metadata": {},
     "output_type": "execute_result"
    }
   ],
   "source": [
    "df[\"Season\"].unique()"
   ]
  },
  {
   "cell_type": "code",
   "execution_count": 8,
   "id": "464f26d7-f383-4606-a3dd-65490459f61a",
   "metadata": {},
   "outputs": [],
   "source": [
    "# df = df[~df[\"FPL_pos\"].isin([\"GK\"])]"
   ]
  },
  {
   "cell_type": "code",
   "execution_count": 9,
   "id": "a2e133a4-2a62-47f4-b549-3c907a833258",
   "metadata": {},
   "outputs": [],
   "source": [
    "df = df.sort_values(by=[\"Name\", \"Date\"])"
   ]
  },
  {
   "cell_type": "markdown",
   "id": "32eaa7fb-e3cc-4e17-a8b1-cc301aa3a766",
   "metadata": {},
   "source": [
    "# Feature selection\n",
    "Model will use a set of standard features and moving averages for some other feature values. In this case we will use moving averages for last 2, 4 and 30 gameweeks."
   ]
  },
  {
   "cell_type": "code",
   "execution_count": 10,
   "id": "29b66688-3e11-4ea5-a9ed-77be552e5e4a",
   "metadata": {},
   "outputs": [],
   "source": [
    "rolling_gameweeks = [2, 4, 30]\n",
    "# rolling_gameweeks = [5]\n",
    "\n",
    "to_predict = [\"FPL_points\"]\n",
    "standard_features = [\n",
    "             \"Was_home\", # Home/Away\n",
    "             \"Team_rating\", \"Opp_rating\", \"Rating_difference\" # Team ratings\n",
    "             ]\n",
    "features_to_roll = [\n",
    "                \"Min\", \"Start\", # time played\n",
    "                'Gls', 'Sh', 'SoT', # Goals\n",
    "                'Ast', # Assists\n",
    "                'CrdY', 'CrdR', # Cards\n",
    "                \"xG\", 'xA', # Expected\n",
    "                'Team_CS', # Defence\n",
    "                'Team_score', 'Opp_score', 'Team_result', # Team form\n",
    "                # \"xGPoints\", \"CSPoints\", # Position-scaled\n",
    "                # \"Cmp%\", \"PrgP\", \"PrgC\", \"T_succ\",\n",
    "                # 'bonus', 'bps', # Bonus\n",
    "                # 'Influence', 'Creativity', 'Threat', \n",
    "                'ICT_index', # ICT\n",
    "                \"FPL_points\", \"Baseline_points\", \"Bonus\" # FPL points\n",
    "            ]\n",
    "info = [\"Name_original\", \"GW\", \"Season\", \"Team\", \"Opponent\", \"Was_home\", \"Team_rating\", \"Opp_rating\", \"FPL_pos\"]"
   ]
  },
  {
   "cell_type": "code",
   "execution_count": 11,
   "id": "377cc7d4-049d-4499-8917-fe0fe1833b4a",
   "metadata": {},
   "outputs": [],
   "source": [
    "# df[df[\"Name\"] == \"Erling-Haaland\"]"
   ]
  },
  {
   "cell_type": "markdown",
   "id": "fe7a4ac1-336c-4ea4-ad91-24489c66e789",
   "metadata": {},
   "source": [
    "# Feature engineering"
   ]
  },
  {
   "cell_type": "code",
   "execution_count": 12,
   "id": "338fb226-ffc9-4431-b9e2-5e4a1dd5592b",
   "metadata": {},
   "outputs": [],
   "source": [
    "df[\"Rating_difference\"] = df[\"Team_rating\"] / df[\"Opp_rating\"]\n",
    "df[\"Baseline_points\"] = df[\"FPL_points\"] - df[\"Bonus\"]"
   ]
  },
  {
   "cell_type": "code",
   "execution_count": 13,
   "id": "f3a73ddc-31da-4c0d-93f1-e2f53e14c6ef",
   "metadata": {},
   "outputs": [],
   "source": [
    "def calculate_team_points(row):\n",
    "    # win - 3 points\n",
    "    if row['Team_score'] > row['Opp_score']:\n",
    "        return 3\n",
    "    # draw - 1 point\n",
    "    elif row['Team_score'] == row['Opp_score']:\n",
    "        return 1\n",
    "    # loss - 0 points\n",
    "    else:\n",
    "        return 0\n",
    "    \n",
    "df['Team_result'] = df.apply(calculate_team_points, axis=1)"
   ]
  },
  {
   "cell_type": "code",
   "execution_count": 14,
   "id": "2fe53aca-b1c7-4f24-87ae-81fe1ab6f532",
   "metadata": {},
   "outputs": [],
   "source": [
    "def add_rolling_features(df, standard_features, features_to_roll):\n",
    "    features = standard_features\n",
    "    \n",
    "    for r in rolling_gameweeks:\n",
    "        form_means = df.groupby([\"Name\"])[features_to_roll].rolling(r, min_periods=1).mean().groupby([\"Name\"]).shift(1).reset_index()\n",
    "        # print(form_means[form_means[\"Name\"] == \"Erling-Haaland\"])\n",
    "        form_means = form_means.fillna(method='bfill') # slightly incorrect, better to drop Nan\n",
    "        form_means.columns = [f'{col}{\"_\"}{r}' for col in form_means.columns]\n",
    "        features += form_means.columns.tolist()\n",
    "        features = list(filter(lambda x: x not in [\"Name_\" + str(r)], features))\n",
    "        df = pd.concat([df.reset_index(), form_means], axis=1)\n",
    "        # df = df.merge(form_means, left_index=True, right_index=True)\n",
    "        df = df.drop([col for col in df.columns if col.startswith('level')], axis=1)\n",
    "        \n",
    "    return df.reset_index(), features"
   ]
  },
  {
   "cell_type": "code",
   "execution_count": 15,
   "id": "2e46c21c-3984-42e5-a6ff-a4118cb1f802",
   "metadata": {},
   "outputs": [],
   "source": [
    "def ohe(df, ohe_columns, features):\n",
    "    # one hot encoding\n",
    "    for c in ohe_columns:\n",
    "        ohe_c = pd.get_dummies(df[c], dtype=\"int64\")\n",
    "        df = pd.concat([df, ohe_c], axis=1)\n",
    "\n",
    "        features += ohe_c.columns.tolist()\n",
    "        \n",
    "    return df, features"
   ]
  },
  {
   "cell_type": "code",
   "execution_count": 16,
   "id": "026526dc-1fdd-4eb4-854e-c3e383197574",
   "metadata": {},
   "outputs": [],
   "source": [
    "def label_encoding(df, column_to_encode):\n",
    "    \n",
    "    mapping_dict = {\n",
    "        'Y': 1, # Starting eleven\n",
    "        'Y*': 1, # Starting eleven as captain\n",
    "        'N': 0, # Not in starting eleven\n",
    "    }\n",
    "    \n",
    "    df[column_to_encode] = df[column_to_encode].map(mapping_dict)\n",
    "    \n",
    "    return df"
   ]
  },
  {
   "cell_type": "code",
   "execution_count": 17,
   "id": "dc05870f-c6a1-4340-b061-6b0f9da5ff46",
   "metadata": {},
   "outputs": [],
   "source": [
    "df = label_encoding(df, \"Start\")"
   ]
  },
  {
   "cell_type": "code",
   "execution_count": 18,
   "id": "c963831b-e2ec-4958-b2da-99c9eb5cf759",
   "metadata": {},
   "outputs": [],
   "source": [
    "df, features = add_rolling_features(df, standard_features, features_to_roll)"
   ]
  },
  {
   "cell_type": "code",
   "execution_count": 19,
   "id": "b0dd88c1-dbbe-41f8-8159-b8e73f7f5c0d",
   "metadata": {},
   "outputs": [],
   "source": [
    "df, features = ohe(df, [\"FPL_pos\"], features)\n",
    "df = df.drop(\"GK\", axis=1)\n",
    "features.remove(\"GK\")"
   ]
  },
  {
   "cell_type": "code",
   "execution_count": 20,
   "id": "871534cf-bd8d-49ed-bb56-d3ffaa9d8478",
   "metadata": {},
   "outputs": [],
   "source": [
    "# dropping unwanted columns\n",
    "features = [col for col in features if not col.startswith('level')]\n",
    "df = df[np.unique(features + info + to_predict)]"
   ]
  },
  {
   "cell_type": "code",
   "execution_count": 21,
   "id": "269a1373-9fbd-4aa3-a095-5ad1c74be587",
   "metadata": {},
   "outputs": [],
   "source": [
    "df = df[pd.to_numeric(df[\"GW\"], errors=\"coerce\").notna()]\n",
    "df[\"GW\"] = df[\"GW\"].astype(\"uint64\")"
   ]
  },
  {
   "cell_type": "code",
   "execution_count": 22,
   "id": "dbd5108b-c4b3-4268-9a8d-6e0ebdbe7a8d",
   "metadata": {},
   "outputs": [],
   "source": [
    "# dropping NaNs\n",
    "df = df.dropna(axis=0)"
   ]
  },
  {
   "cell_type": "code",
   "execution_count": 23,
   "id": "eb1b8f09-495e-4f39-abec-238b6ff2d3d2",
   "metadata": {},
   "outputs": [],
   "source": [
    "# df = df.set_index([\"Name_original\", \"Season\", \"GW\"], drop=False)"
   ]
  },
  {
   "cell_type": "code",
   "execution_count": 24,
   "id": "aa7edd40-4433-4d9d-bc95-747fd5fcc118",
   "metadata": {},
   "outputs": [
    {
     "data": {
      "text/plain": [
       "Index(['Ast_2', 'Ast_30', 'Ast_4', 'Baseline_points_2', 'Baseline_points_30',\n",
       "       'Baseline_points_4', 'Bonus_2', 'Bonus_30', 'Bonus_4', 'CrdR_2',\n",
       "       'CrdR_30', 'CrdR_4', 'CrdY_2', 'CrdY_30', 'CrdY_4', 'DEF', 'FPL_points',\n",
       "       'FPL_points_2', 'FPL_points_30', 'FPL_points_4', 'FPL_pos', 'FWD', 'GW',\n",
       "       'Gls_2', 'Gls_30', 'Gls_4', 'ICT_index_2', 'ICT_index_30',\n",
       "       'ICT_index_4', 'MID', 'Min_2', 'Min_30', 'Min_4', 'Name_original',\n",
       "       'Opp_rating', 'Opp_score_2', 'Opp_score_30', 'Opp_score_4', 'Opponent',\n",
       "       'Rating_difference', 'Season', 'Sh_2', 'Sh_30', 'Sh_4', 'SoT_2',\n",
       "       'SoT_30', 'SoT_4', 'Start_2', 'Start_30', 'Start_4', 'Team',\n",
       "       'Team_CS_2', 'Team_CS_30', 'Team_CS_4', 'Team_rating', 'Team_result_2',\n",
       "       'Team_result_30', 'Team_result_4', 'Team_score_2', 'Team_score_30',\n",
       "       'Team_score_4', 'Was_home', 'xA_2', 'xA_30', 'xA_4', 'xG_2', 'xG_30',\n",
       "       'xG_4'],\n",
       "      dtype='object')"
      ]
     },
     "execution_count": 24,
     "metadata": {},
     "output_type": "execute_result"
    }
   ],
   "source": [
    "df.columns"
   ]
  },
  {
   "cell_type": "code",
   "execution_count": 25,
   "id": "f9ac2b91-59ee-4d56-97be-b9a374d36604",
   "metadata": {},
   "outputs": [
    {
     "data": {
      "text/plain": [
       "(17485, 68)"
      ]
     },
     "execution_count": 25,
     "metadata": {},
     "output_type": "execute_result"
    }
   ],
   "source": [
    "df.shape"
   ]
  },
  {
   "cell_type": "code",
   "execution_count": 26,
   "id": "858c2600-7b98-42a1-bdc9-124640517d1e",
   "metadata": {},
   "outputs": [],
   "source": [
    "# saving to file\n",
    "df.set_index([\"Name_original\", \"Season\", \"GW\"], drop=False).to_csv(\"data/misc/df_features.csv\", index=False) # keeping GKs on"
   ]
  },
  {
   "cell_type": "code",
   "execution_count": 27,
   "id": "9a63b5c3-8665-4e01-8fb4-844bb5423741",
   "metadata": {},
   "outputs": [],
   "source": [
    "df = df[~df[\"FPL_pos\"].isin([\"GK\"])] # only outfield players"
   ]
  },
  {
   "cell_type": "markdown",
   "id": "fc895e8b-ed8c-4c03-89fe-eccde0b4c26e",
   "metadata": {},
   "source": [
    "# Data split into train and valid\n",
    "Let's take entire 2021-22 season and 30 first gameweeks of 2022-23 season as training data and 8 last gameweeks of that season as valid data (~10% of all rows)."
   ]
  },
  {
   "cell_type": "code",
   "execution_count": 28,
   "id": "bfe23832-6631-4e90-81c3-1331e7c0b0e0",
   "metadata": {},
   "outputs": [],
   "source": [
    "def shrink_df_to_top_players(df, n_players, min_fixtures):\n",
    "    # Calculate average scores\n",
    "    average_scores = df.groupby('Name_original')['FPL_points'].mean()\n",
    "    \n",
    "    # Calculate player counts\n",
    "    player_counts = df['Name_original'].value_counts()\n",
    "    \n",
    "    # Filter out players with less than min_fixtures occurrences\n",
    "    popular_players = player_counts[player_counts >= min_fixtures].index\n",
    "    \n",
    "    print(\"Unique players with min_fixtures:\", popular_players.size)\n",
    "\n",
    "    # Sort players by average scores\n",
    "    sorted_players = average_scores.sort_values(ascending=False)\n",
    "\n",
    "    # Get the top n_players players\n",
    "    top_popular_players = sorted_players[sorted_players.index.isin(popular_players)].head(n_players)\n",
    "\n",
    "    # Filter the original DataFrame\n",
    "    top_players_df = df[df['Name_original'].isin(top_popular_players.index)]\n",
    "    \n",
    "    print(\"Unique players left:\", top_players_df['Name_original'].unique().size)\n",
    "    \n",
    "    return top_players_df"
   ]
  },
  {
   "cell_type": "code",
   "execution_count": 29,
   "id": "1a46a038-a0b2-4348-b87c-2ca15569f6eb",
   "metadata": {},
   "outputs": [],
   "source": [
    "CUT_OFF_GAMEWEEK = 31\n",
    "SEASON_TO_PREDICT = \"2022-23\""
   ]
  },
  {
   "cell_type": "code",
   "execution_count": 30,
   "id": "d066b924-0fa7-41ca-8eea-a15cd59d5fa3",
   "metadata": {},
   "outputs": [
    {
     "name": "stdout",
     "output_type": "stream",
     "text": [
      "Unique players with min_fixtures: 354\n",
      "Unique players left: 354\n"
     ]
    }
   ],
   "source": [
    "df_train = shrink_df_to_top_players(df, 550, 10)\n",
    "# df_train[\"Name_original\"].unique()"
   ]
  },
  {
   "cell_type": "code",
   "execution_count": 31,
   "id": "3f3a9ed0-d0fb-4258-af80-6bfdac4694b8",
   "metadata": {},
   "outputs": [],
   "source": [
    "df = df.set_index([\"Name_original\", \"Season\", \"GW\"], drop=False)"
   ]
  },
  {
   "cell_type": "code",
   "execution_count": 32,
   "id": "45b9f614-d91d-491f-b5d0-d278db561c2d",
   "metadata": {},
   "outputs": [],
   "source": [
    "# training data\n",
    "X_train = df_train[((df_train[\"Season\"] < SEASON_TO_PREDICT) | (df_train[\"GW\"] <= CUT_OFF_GAMEWEEK - 1))][features].reset_index(drop=True)\n",
    "y_train = df_train[((df_train[\"Season\"] < SEASON_TO_PREDICT) | (df_train[\"GW\"] <= CUT_OFF_GAMEWEEK - 1))][to_predict].reset_index(drop=True)"
   ]
  },
  {
   "cell_type": "code",
   "execution_count": 33,
   "id": "7996012d-2bf5-45da-a29e-e75932313172",
   "metadata": {},
   "outputs": [],
   "source": [
    "# only 31st gameweek\n",
    "X_test = df[(df[\"GW\"] == CUT_OFF_GAMEWEEK) & (df[\"Season\"] == SEASON_TO_PREDICT) ][features].reset_index(drop=True)\n",
    "y_test = df[(df[\"GW\"] == CUT_OFF_GAMEWEEK) & (df[\"Season\"] == SEASON_TO_PREDICT) ][to_predict].reset_index(drop=True)"
   ]
  },
  {
   "cell_type": "code",
   "execution_count": 34,
   "id": "e59975bf-a85b-4920-a8d1-2a80273ebb65",
   "metadata": {},
   "outputs": [],
   "source": [
    "# all remaining gameweeks\n",
    "X_test_all_remaining = df[(df[\"GW\"] >= CUT_OFF_GAMEWEEK) & (df[\"Season\"] == SEASON_TO_PREDICT) ][features].reset_index(drop=True)\n",
    "y_test_all_remaining = df[(df[\"GW\"] >= CUT_OFF_GAMEWEEK) & (df[\"Season\"] == SEASON_TO_PREDICT) ][to_predict].reset_index(drop=True)"
   ]
  },
  {
   "cell_type": "code",
   "execution_count": 35,
   "id": "dcf0a862-ff68-4236-8fcb-dcf5e8ebe29f",
   "metadata": {},
   "outputs": [
    {
     "data": {
      "text/plain": [
       "((13642, 61), (232, 61), (1971, 61))"
      ]
     },
     "execution_count": 35,
     "metadata": {},
     "output_type": "execute_result"
    }
   ],
   "source": [
    "X_train.shape, X_test.shape, X_test_all_remaining.shape"
   ]
  },
  {
   "cell_type": "markdown",
   "id": "438dc7ca-6134-429b-bd5e-4a99261c2781",
   "metadata": {
    "tags": []
   },
   "source": [
    "# Getting predictions"
   ]
  },
  {
   "cell_type": "code",
   "execution_count": 36,
   "id": "ecff920f-d510-4f46-ae3e-6316aca350bb",
   "metadata": {},
   "outputs": [],
   "source": [
    "def get_predictions(model, df, X, all_remaining=False):\n",
    "    # make predictions on the test data and glues them to the rest of the dataframe\n",
    "    predictions = model.predict(X)\n",
    "    \n",
    "    if all_remaining:\n",
    "        df_predictions = df[(df[\"GW\"] >= CUT_OFF_GAMEWEEK) & (df[\"Season\"] == SEASON_TO_PREDICT)].reset_index(drop=True)\n",
    "    else:\n",
    "        df_predictions = df[(df[\"GW\"] == CUT_OFF_GAMEWEEK) & (df[\"Season\"] == SEASON_TO_PREDICT)].reset_index(drop=True)\n",
    "        \n",
    "    df_predictions.loc[:, \"Pred\"] = predictions\n",
    "    \n",
    "    preds = df_predictions[info + to_predict + [\"Pred\"]].sort_values(by=[\"Pred\"], ascending = False)\n",
    "    \n",
    "    return preds, predictions"
   ]
  },
  {
   "cell_type": "markdown",
   "id": "bcb4ce5d-b258-4626-ba7e-3d232df036b2",
   "metadata": {},
   "source": [
    "# Custom metric\n",
    "Such models are usually used to compare players and decide who to pick for upcoming gameweek(s). For each player pair in a subset of players model can either predict the outcome well (e.g. player A scores more than player B and model predicts exactly that) or predict wrongly (e.g. player A scores more than player B but model predicts player B > player A). Pairwise_accuracy returns the percentage of corrected predicted pairs. Pairwise_accuracy_topX is a variation of this metric calculated only for X highest scoring players of last two seasons."
   ]
  },
  {
   "cell_type": "code",
   "execution_count": 37,
   "id": "30d87d10-ae71-4fc6-aa37-455fa45be613",
   "metadata": {},
   "outputs": [],
   "source": [
    "def get_top_performer_names(df, no_top, no_gws):\n",
    "    # takes no_top players that recorded highest average FPL points in no_gws last gameweeks\n",
    "    return df.reset_index(drop=True).groupby(\"Name_original\")[\"FPL_points\"].mean().groupby(\"Name_original\").tail(no_gws).sort_values(ascending=False).head(no_top).index.to_list()"
   ]
  },
  {
   "cell_type": "code",
   "execution_count": 38,
   "id": "ad049ca6-a774-4dc9-95f4-e981ba0ed254",
   "metadata": {},
   "outputs": [],
   "source": [
    "def pairwise_accuracy(predicted_scores, true_scores):\n",
    "    if len(predicted_scores) != len(true_scores):\n",
    "        raise ValueError(\"The length of predicted_scores and true_scores must be the same.\")\n",
    "\n",
    "    num_pairs = 0\n",
    "    num_correct_pairs = 0\n",
    "\n",
    "    for i in range(len(predicted_scores)):\n",
    "        for j in range(i + 1, len(predicted_scores)):\n",
    "            # Check if the predicted order matches the true order\n",
    "            if (predicted_scores[i] > predicted_scores[j] and true_scores[i] > true_scores[j]) or \\\n",
    "               (predicted_scores[i] < predicted_scores[j] and true_scores[i] < true_scores[j]):\n",
    "                num_correct_pairs += 1\n",
    "            num_pairs += 1\n",
    "\n",
    "    pairwise_accuracy = num_correct_pairs / num_pairs\n",
    "    return pairwise_accuracy"
   ]
  },
  {
   "cell_type": "code",
   "execution_count": 39,
   "id": "0dcbdf3b-8f16-432d-a9d4-ca4b93888927",
   "metadata": {},
   "outputs": [],
   "source": [
    "def pairwise_accuracy_topX(model, df, top_x, all_gw=False):\n",
    "    # pairwise_accuracy for top_X players\n",
    "    if all_gw:\n",
    "        top_performers = df[(df[\"GW\"] == CUT_OFF_GAMEWEEK) & (df[\"Season\"] == SEASON_TO_PREDICT) & (df[\"Name_original\"].isin(get_top_performer_names(df, top_x, 50)))]\n",
    "    else:\n",
    "        top_performers = df[(df[\"GW\"] >= CUT_OFF_GAMEWEEK) & (df[\"Season\"] == SEASON_TO_PREDICT) & (df[\"Name_original\"].isin(get_top_performer_names(df, top_x, 50)))]\n",
    "\n",
    "    X = top_performers[features].reset_index(drop=True)\n",
    "    y = np.array(top_performers[to_predict].reset_index(drop=True))\n",
    "    preds = model.predict(X)\n",
    "    \n",
    "    return  pairwise_accuracy(preds, y)"
   ]
  },
  {
   "cell_type": "code",
   "execution_count": 40,
   "id": "d9c269d7-3da8-452a-a0a0-09a5216fdfec",
   "metadata": {},
   "outputs": [],
   "source": [
    "def mae_topX(model, df, top_x, all_gw=False):\n",
    "    # pairwise_accuracy for top_X players\n",
    "    if all_gw:\n",
    "        top_performers = df[(df[\"GW\"] == CUT_OFF_GAMEWEEK) & (df[\"Season\"] == SEASON_TO_PREDICT) & (df[\"Name_original\"].isin(get_top_performer_names(df, top_x, 50)))]\n",
    "    else:\n",
    "        top_performers = df[(df[\"GW\"] >= CUT_OFF_GAMEWEEK) & (df[\"Season\"] == SEASON_TO_PREDICT) & (df[\"Name_original\"].isin(get_top_performer_names(df, top_x, 50)))]\n",
    "\n",
    "    X = top_performers[features].reset_index(drop=True)\n",
    "    y = np.array(top_performers[to_predict].reset_index(drop=True))\n",
    "    preds = model.predict(X)\n",
    "    \n",
    "    return  mean_absolute_error(preds, y)"
   ]
  },
  {
   "cell_type": "markdown",
   "id": "434ed227-7346-4124-8cc6-4b7e8c99606b",
   "metadata": {},
   "source": [
    "# Modeling"
   ]
  },
  {
   "cell_type": "code",
   "execution_count": 41,
   "id": "6764621d-0288-45d0-95a3-36c29e6c95c4",
   "metadata": {},
   "outputs": [],
   "source": [
    "def evaluate(model, df, predictions, y_true, all_gw=False):\n",
    "    # function to calculate different metrics for a given model\n",
    "    mae = mean_absolute_error(y_true, predictions)\n",
    "    mae_top100 = mae_topX(model, df, 100, all_gw)\n",
    "    mae_top30 = mae_topX(model, df, 30, all_gw)\n",
    "    \n",
    "    mse = mean_squared_error(y_true, predictions)\n",
    "\n",
    "    pairwise_acc = pairwise_accuracy(np.array(y_true), predictions)\n",
    "    pairwise_accuracy_top30 = pairwise_accuracy_topX(model, df, 30, all_gw)\n",
    "    pairwise_accuracy_top100 = pairwise_accuracy_topX(model, df, 100, all_gw)\n",
    "    \n",
    "    print(\"MAE:\", mae)\n",
    "    print(\"MAE @TOP100:\", mae_top100)\n",
    "    print(\"MAE @TOP30:\", mae_top30)\n",
    "    print(\"MSE:\", mse)\n",
    "    print(\"Pairwise accuracy:\", pairwise_acc)\n",
    "    print(\"Pairwise accuracy @TOP100:\", pairwise_accuracy_top100)\n",
    "    print(\"Pairwise accuracy @TOP30:\", pairwise_accuracy_top30)\n",
    "    print(\"Avg pred vs avg true:\", np.mean(predictions).round(2), \"vs\", np.mean(y_true).round(2).item())"
   ]
  },
  {
   "cell_type": "code",
   "execution_count": 42,
   "id": "2f9841b1-66d7-4b01-b878-a1a21114e9f9",
   "metadata": {},
   "outputs": [],
   "source": [
    "# df[(df[\"GW\"] == GAMEWEEK_TO_PREDICT) & (df[\"Season\"] == SEASON_TO_PREDICT) & (df[\"Name\"].isin(get_top_performer_names(df, 20, 50)))].columns"
   ]
  },
  {
   "cell_type": "code",
   "execution_count": 45,
   "id": "9d0aca57-a559-4a2d-a6b0-522980cbdf3f",
   "metadata": {},
   "outputs": [
    {
     "name": "stdout",
     "output_type": "stream",
     "text": [
      "I = 1\n",
      "MAE: 1.8552773121738724\n",
      "MAE @TOP100: 2.734239319165548\n",
      "MAE @TOP30: 3.198967870913054\n",
      "MSE: 7.72350527527092\n",
      "Pairwise accuracy: 0.5532088377926637\n",
      "Pairwise accuracy @TOP100: 0.43783783783783786\n",
      "Pairwise accuracy @TOP30: 0.5380116959064327\n",
      "Avg pred vs avg true: 2.27 vs 2.35\n",
      "\n",
      "I = 2\n",
      "MAE: 1.8552773121738724\n",
      "MAE @TOP100: 2.734239319165548\n",
      "MAE @TOP30: 3.198967870913054\n",
      "MSE: 7.72350527527092\n",
      "Pairwise accuracy: 0.5532088377926637\n",
      "Pairwise accuracy @TOP100: 0.43783783783783786\n",
      "Pairwise accuracy @TOP30: 0.5380116959064327\n",
      "Avg pred vs avg true: 2.27 vs 2.35\n",
      "\n",
      "I = 3\n",
      "MAE: 1.8552773121738724\n",
      "MAE @TOP100: 2.734239319165548\n",
      "MAE @TOP30: 3.198967870913054\n",
      "MSE: 7.72350527527092\n",
      "Pairwise accuracy: 0.5532088377926637\n",
      "Pairwise accuracy @TOP100: 0.43783783783783786\n",
      "Pairwise accuracy @TOP30: 0.5380116959064327\n",
      "Avg pred vs avg true: 2.27 vs 2.35\n",
      "\n",
      "I = 4\n",
      "MAE: 1.8552773121738724\n",
      "MAE @TOP100: 2.734239319165548\n",
      "MAE @TOP30: 3.198967870913054\n",
      "MSE: 7.72350527527092\n",
      "Pairwise accuracy: 0.5532088377926637\n",
      "Pairwise accuracy @TOP100: 0.43783783783783786\n",
      "Pairwise accuracy @TOP30: 0.5380116959064327\n",
      "Avg pred vs avg true: 2.27 vs 2.35\n",
      "\n",
      "I = 5\n",
      "MAE: 1.8552773121738724\n",
      "MAE @TOP100: 2.734239319165548\n",
      "MAE @TOP30: 3.198967870913054\n",
      "MSE: 7.72350527527092\n",
      "Pairwise accuracy: 0.5532088377926637\n",
      "Pairwise accuracy @TOP100: 0.43783783783783786\n",
      "Pairwise accuracy @TOP30: 0.5380116959064327\n",
      "Avg pred vs avg true: 2.27 vs 2.35\n",
      "\n",
      "I = 6\n",
      "MAE: 1.8552773121738724\n",
      "MAE @TOP100: 2.734239319165548\n",
      "MAE @TOP30: 3.198967870913054\n",
      "MSE: 7.72350527527092\n",
      "Pairwise accuracy: 0.5532088377926637\n",
      "Pairwise accuracy @TOP100: 0.43783783783783786\n",
      "Pairwise accuracy @TOP30: 0.5380116959064327\n",
      "Avg pred vs avg true: 2.27 vs 2.35\n",
      "\n",
      "I = 7\n",
      "MAE: 1.8552773121738724\n",
      "MAE @TOP100: 2.734239319165548\n",
      "MAE @TOP30: 3.198967870913054\n",
      "MSE: 7.72350527527092\n",
      "Pairwise accuracy: 0.5532088377926637\n",
      "Pairwise accuracy @TOP100: 0.43783783783783786\n",
      "Pairwise accuracy @TOP30: 0.5380116959064327\n",
      "Avg pred vs avg true: 2.27 vs 2.35\n",
      "\n",
      "I = 8\n",
      "MAE: 1.8552773121738724\n",
      "MAE @TOP100: 2.734239319165548\n",
      "MAE @TOP30: 3.198967870913054\n",
      "MSE: 7.72350527527092\n",
      "Pairwise accuracy: 0.5532088377926637\n",
      "Pairwise accuracy @TOP100: 0.43783783783783786\n",
      "Pairwise accuracy @TOP30: 0.5380116959064327\n",
      "Avg pred vs avg true: 2.27 vs 2.35\n",
      "\n",
      "I = 9\n",
      "MAE: 1.8552773121738724\n",
      "MAE @TOP100: 2.734239319165548\n",
      "MAE @TOP30: 3.198967870913054\n",
      "MSE: 7.72350527527092\n",
      "Pairwise accuracy: 0.5532088377926637\n",
      "Pairwise accuracy @TOP100: 0.43783783783783786\n",
      "Pairwise accuracy @TOP30: 0.5380116959064327\n",
      "Avg pred vs avg true: 2.27 vs 2.35\n",
      "\n",
      "I = 10\n",
      "MAE: 1.8552773121738724\n",
      "MAE @TOP100: 2.734239319165548\n",
      "MAE @TOP30: 3.198967870913054\n",
      "MSE: 7.72350527527092\n",
      "Pairwise accuracy: 0.5532088377926637\n",
      "Pairwise accuracy @TOP100: 0.43783783783783786\n",
      "Pairwise accuracy @TOP30: 0.5380116959064327\n",
      "Avg pred vs avg true: 2.27 vs 2.35\n",
      "\n",
      "I = 11\n",
      "MAE: 1.8552773121738724\n",
      "MAE @TOP100: 2.734239319165548\n",
      "MAE @TOP30: 3.198967870913054\n",
      "MSE: 7.72350527527092\n",
      "Pairwise accuracy: 0.5532088377926637\n",
      "Pairwise accuracy @TOP100: 0.43783783783783786\n",
      "Pairwise accuracy @TOP30: 0.5380116959064327\n",
      "Avg pred vs avg true: 2.27 vs 2.35\n",
      "\n",
      "I = 12\n",
      "MAE: 1.8552773121738724\n",
      "MAE @TOP100: 2.734239319165548\n",
      "MAE @TOP30: 3.198967870913054\n",
      "MSE: 7.72350527527092\n",
      "Pairwise accuracy: 0.5532088377926637\n",
      "Pairwise accuracy @TOP100: 0.43783783783783786\n",
      "Pairwise accuracy @TOP30: 0.5380116959064327\n",
      "Avg pred vs avg true: 2.27 vs 2.35\n",
      "\n",
      "I = 13\n",
      "MAE: 1.8552773121738724\n",
      "MAE @TOP100: 2.734239319165548\n",
      "MAE @TOP30: 3.198967870913054\n",
      "MSE: 7.72350527527092\n",
      "Pairwise accuracy: 0.5532088377926637\n",
      "Pairwise accuracy @TOP100: 0.43783783783783786\n",
      "Pairwise accuracy @TOP30: 0.5380116959064327\n",
      "Avg pred vs avg true: 2.27 vs 2.35\n",
      "\n",
      "I = 14\n",
      "MAE: 1.8552773121738724\n",
      "MAE @TOP100: 2.734239319165548\n",
      "MAE @TOP30: 3.198967870913054\n",
      "MSE: 7.72350527527092\n",
      "Pairwise accuracy: 0.5532088377926637\n",
      "Pairwise accuracy @TOP100: 0.43783783783783786\n",
      "Pairwise accuracy @TOP30: 0.5380116959064327\n",
      "Avg pred vs avg true: 2.27 vs 2.35\n",
      "\n",
      "I = 15\n",
      "MAE: 1.8552773121738724\n",
      "MAE @TOP100: 2.734239319165548\n",
      "MAE @TOP30: 3.198967870913054\n",
      "MSE: 7.72350527527092\n",
      "Pairwise accuracy: 0.5532088377926637\n",
      "Pairwise accuracy @TOP100: 0.43783783783783786\n",
      "Pairwise accuracy @TOP30: 0.5380116959064327\n",
      "Avg pred vs avg true: 2.27 vs 2.35\n",
      "\n",
      "I = 16\n",
      "MAE: 1.8552773121738724\n",
      "MAE @TOP100: 2.734239319165548\n",
      "MAE @TOP30: 3.198967870913054\n",
      "MSE: 7.72350527527092\n",
      "Pairwise accuracy: 0.5532088377926637\n",
      "Pairwise accuracy @TOP100: 0.43783783783783786\n",
      "Pairwise accuracy @TOP30: 0.5380116959064327\n",
      "Avg pred vs avg true: 2.27 vs 2.35\n",
      "\n",
      "I = 17\n",
      "MAE: 1.8552773121738724\n",
      "MAE @TOP100: 2.734239319165548\n",
      "MAE @TOP30: 3.198967870913054\n",
      "MSE: 7.72350527527092\n",
      "Pairwise accuracy: 0.5532088377926637\n",
      "Pairwise accuracy @TOP100: 0.43783783783783786\n",
      "Pairwise accuracy @TOP30: 0.5380116959064327\n",
      "Avg pred vs avg true: 2.27 vs 2.35\n",
      "\n",
      "I = 18\n",
      "MAE: 1.8552773121738724\n",
      "MAE @TOP100: 2.734239319165548\n",
      "MAE @TOP30: 3.198967870913054\n",
      "MSE: 7.72350527527092\n",
      "Pairwise accuracy: 0.5532088377926637\n",
      "Pairwise accuracy @TOP100: 0.43783783783783786\n",
      "Pairwise accuracy @TOP30: 0.5380116959064327\n",
      "Avg pred vs avg true: 2.27 vs 2.35\n",
      "\n",
      "I = 19\n",
      "MAE: 1.8552773121738724\n",
      "MAE @TOP100: 2.734239319165548\n",
      "MAE @TOP30: 3.198967870913054\n",
      "MSE: 7.72350527527092\n",
      "Pairwise accuracy: 0.5532088377926637\n",
      "Pairwise accuracy @TOP100: 0.43783783783783786\n",
      "Pairwise accuracy @TOP30: 0.5380116959064327\n",
      "Avg pred vs avg true: 2.27 vs 2.35\n",
      "\n",
      "I = 20\n",
      "MAE: 1.8552773121738724\n",
      "MAE @TOP100: 2.734239319165548\n",
      "MAE @TOP30: 3.198967870913054\n",
      "MSE: 7.72350527527092\n",
      "Pairwise accuracy: 0.5532088377926637\n",
      "Pairwise accuracy @TOP100: 0.43783783783783786\n",
      "Pairwise accuracy @TOP30: 0.5380116959064327\n",
      "Avg pred vs avg true: 2.27 vs 2.35\n",
      "\n",
      "I = 21\n",
      "MAE: 1.8552773121738724\n",
      "MAE @TOP100: 2.734239319165548\n",
      "MAE @TOP30: 3.198967870913054\n",
      "MSE: 7.72350527527092\n",
      "Pairwise accuracy: 0.5532088377926637\n",
      "Pairwise accuracy @TOP100: 0.43783783783783786\n",
      "Pairwise accuracy @TOP30: 0.5380116959064327\n",
      "Avg pred vs avg true: 2.27 vs 2.35\n",
      "\n",
      "I = 22\n",
      "MAE: 1.8552773121738724\n",
      "MAE @TOP100: 2.734239319165548\n",
      "MAE @TOP30: 3.198967870913054\n",
      "MSE: 7.72350527527092\n",
      "Pairwise accuracy: 0.5532088377926637\n",
      "Pairwise accuracy @TOP100: 0.43783783783783786\n",
      "Pairwise accuracy @TOP30: 0.5380116959064327\n",
      "Avg pred vs avg true: 2.27 vs 2.35\n",
      "\n",
      "I = 23\n",
      "MAE: 1.8552773121738724\n",
      "MAE @TOP100: 2.734239319165548\n",
      "MAE @TOP30: 3.198967870913054\n",
      "MSE: 7.72350527527092\n",
      "Pairwise accuracy: 0.5532088377926637\n",
      "Pairwise accuracy @TOP100: 0.43783783783783786\n",
      "Pairwise accuracy @TOP30: 0.5380116959064327\n",
      "Avg pred vs avg true: 2.27 vs 2.35\n",
      "\n",
      "I = 24\n",
      "MAE: 1.8552773121738724\n",
      "MAE @TOP100: 2.734239319165548\n",
      "MAE @TOP30: 3.198967870913054\n",
      "MSE: 7.72350527527092\n",
      "Pairwise accuracy: 0.5532088377926637\n",
      "Pairwise accuracy @TOP100: 0.43783783783783786\n",
      "Pairwise accuracy @TOP30: 0.5380116959064327\n",
      "Avg pred vs avg true: 2.27 vs 2.35\n",
      "\n",
      "I = 25\n",
      "MAE: 1.8552773121738724\n",
      "MAE @TOP100: 2.734239319165548\n",
      "MAE @TOP30: 3.198967870913054\n",
      "MSE: 7.72350527527092\n",
      "Pairwise accuracy: 0.5532088377926637\n",
      "Pairwise accuracy @TOP100: 0.43783783783783786\n",
      "Pairwise accuracy @TOP30: 0.5380116959064327\n",
      "Avg pred vs avg true: 2.27 vs 2.35\n",
      "\n",
      "I = 26\n",
      "MAE: 1.8552773121738724\n",
      "MAE @TOP100: 2.734239319165548\n",
      "MAE @TOP30: 3.198967870913054\n",
      "MSE: 7.72350527527092\n",
      "Pairwise accuracy: 0.5532088377926637\n",
      "Pairwise accuracy @TOP100: 0.43783783783783786\n",
      "Pairwise accuracy @TOP30: 0.5380116959064327\n",
      "Avg pred vs avg true: 2.27 vs 2.35\n",
      "\n",
      "I = 27\n",
      "MAE: 1.8552773121738724\n",
      "MAE @TOP100: 2.734239319165548\n",
      "MAE @TOP30: 3.198967870913054\n",
      "MSE: 7.72350527527092\n",
      "Pairwise accuracy: 0.5532088377926637\n",
      "Pairwise accuracy @TOP100: 0.43783783783783786\n",
      "Pairwise accuracy @TOP30: 0.5380116959064327\n",
      "Avg pred vs avg true: 2.27 vs 2.35\n",
      "\n",
      "I = 28\n",
      "MAE: 1.8552773121738724\n",
      "MAE @TOP100: 2.734239319165548\n",
      "MAE @TOP30: 3.198967870913054\n",
      "MSE: 7.72350527527092\n",
      "Pairwise accuracy: 0.5532088377926637\n",
      "Pairwise accuracy @TOP100: 0.43783783783783786\n",
      "Pairwise accuracy @TOP30: 0.5380116959064327\n",
      "Avg pred vs avg true: 2.27 vs 2.35\n",
      "\n",
      "I = 29\n",
      "MAE: 1.8552773121738724\n",
      "MAE @TOP100: 2.734239319165548\n",
      "MAE @TOP30: 3.198967870913054\n",
      "MSE: 7.72350527527092\n",
      "Pairwise accuracy: 0.5532088377926637\n",
      "Pairwise accuracy @TOP100: 0.43783783783783786\n",
      "Pairwise accuracy @TOP30: 0.5380116959064327\n",
      "Avg pred vs avg true: 2.27 vs 2.35\n",
      "\n",
      "CPU times: total: 3min 9s\n",
      "Wall time: 1min 53s\n"
     ]
    }
   ],
   "source": [
    "%%time\n",
    "for i in range(1, 30):\n",
    "    # model = GradientBoostingRegressor(random_state=42)\n",
    "    model = XGBRegressor(\n",
    "        random_state=42,\n",
    "        n_estimators=500,\n",
    "        early_stopping_rounds=5,\n",
    "        learning_rate=0.2\n",
    "    )\n",
    "    model.fit(\n",
    "        X_train, \n",
    "        np.array(y_train).ravel(),\n",
    "        eval_set=[(X_test_all_remaining, y_test_all_remaining)],\n",
    "        verbose=False\n",
    "    )\n",
    "    preds_all_gameweeks, predictions_all = get_predictions(model, df, X_test_all_remaining, True)\n",
    "    print (\"I =\", i)\n",
    "    evaluate(model, df, predictions_all, y_test_all_remaining, all_gw=True)\n",
    "    print(\"\")"
   ]
  },
  {
   "cell_type": "markdown",
   "id": "09ff9469-b50e-44d3-9e08-2b9fb4c8e8ba",
   "metadata": {},
   "source": [
    "# Predictions - next gameweek only"
   ]
  },
  {
   "cell_type": "code",
   "execution_count": 44,
   "id": "6df93768-16bb-495b-94ab-f240d07e9b4e",
   "metadata": {},
   "outputs": [
    {
     "ename": "NameError",
     "evalue": "name 'preds' is not defined",
     "output_type": "error",
     "traceback": [
      "\u001b[1;31m---------------------------------------------------------------------------\u001b[0m",
      "\u001b[1;31mNameError\u001b[0m                                 Traceback (most recent call last)",
      "Input \u001b[1;32mIn [44]\u001b[0m, in \u001b[0;36m<cell line: 1>\u001b[1;34m()\u001b[0m\n\u001b[1;32m----> 1\u001b[0m \u001b[43mpreds\u001b[49m\u001b[38;5;241m.\u001b[39mhead(\u001b[38;5;241m30\u001b[39m)\n",
      "\u001b[1;31mNameError\u001b[0m: name 'preds' is not defined"
     ]
    }
   ],
   "source": [
    "preds.head(30)"
   ]
  },
  {
   "cell_type": "code",
   "execution_count": null,
   "id": "3fe1c712-ea38-4a91-9717-d4f520ffcb82",
   "metadata": {},
   "outputs": [],
   "source": [
    "preds[preds[\"Team\"] == \"Manchester City\"].head(20)"
   ]
  },
  {
   "cell_type": "markdown",
   "id": "14ee9f8b-6918-4e6b-805d-f19abde9c3a4",
   "metadata": {},
   "source": [
    "# Predictions - all remaining gameweeks"
   ]
  },
  {
   "cell_type": "code",
   "execution_count": null,
   "id": "ecf030c0-6e9c-40b0-81e4-9cc03ef695bc",
   "metadata": {},
   "outputs": [],
   "source": [
    "preds_all_gameweeks.head(15)"
   ]
  },
  {
   "cell_type": "code",
   "execution_count": null,
   "id": "e825ea86-5b53-496a-8d51-89e1ec9539b3",
   "metadata": {},
   "outputs": [],
   "source": [
    "preds_all_gameweeks[preds_all_gameweeks[\"Name_original\"] == \"Mohamed Salah\"].sort_values(by=[\"GW\"])"
   ]
  },
  {
   "cell_type": "code",
   "execution_count": null,
   "id": "8fe13281-ce00-4e7a-b726-82a44b55dea7",
   "metadata": {},
   "outputs": [],
   "source": [
    "preds_all_gameweeks[preds_all_gameweeks[\"Name_original\"] == \"Erling Haaland\"].sort_values(by=[\"GW\"])"
   ]
  },
  {
   "cell_type": "markdown",
   "id": "e58b989a-0632-49d7-b3af-418ce8d6a3b5",
   "metadata": {},
   "source": [
    "# Saving to file"
   ]
  },
  {
   "cell_type": "code",
   "execution_count": null,
   "id": "8383d841-c3c5-4466-b896-447c645d5d6a",
   "metadata": {},
   "outputs": [],
   "source": [
    "preds_all_gameweeks.to_csv(\"predictions/all_predictions.csv\", index=False)"
   ]
  },
  {
   "cell_type": "code",
   "execution_count": null,
   "id": "fd95c3e5-c311-4740-a54e-efaa267fbefd",
   "metadata": {},
   "outputs": [],
   "source": [
    "pickle.dump(model, open(\"models/GBR.pkl\", 'wb'))"
   ]
  },
  {
   "cell_type": "markdown",
   "id": "3ed6461a-a67a-4068-984b-c17e9a1d8c7b",
   "metadata": {},
   "source": [
    "# Feature importance and influence"
   ]
  },
  {
   "cell_type": "code",
   "execution_count": null,
   "id": "c90e9b27-43c3-4253-830d-53c3532c5197",
   "metadata": {},
   "outputs": [],
   "source": [
    "# explainer = shap.Explainer(model.predict, X_test_all_remaining)\n",
    "# shap_values = explainer(X_test_all_remaining)"
   ]
  },
  {
   "cell_type": "code",
   "execution_count": null,
   "id": "f73757e7-4125-4657-8b78-914b5324a9e9",
   "metadata": {},
   "outputs": [],
   "source": [
    "# shap.plots.bar(shap_values, max_display=15)"
   ]
  },
  {
   "cell_type": "code",
   "execution_count": null,
   "id": "4d1a6591-e086-4156-a51a-3ccfd3489561",
   "metadata": {},
   "outputs": [],
   "source": [
    "# shap.plots.beeswarm(shap_values, max_display=15)"
   ]
  },
  {
   "cell_type": "code",
   "execution_count": null,
   "id": "b1d832a7-6e45-4286-a102-029a56916c45",
   "metadata": {},
   "outputs": [],
   "source": [
    "# explaining Erling Haaland`s score in gameweek 30\n",
    "# shap.plots.bar(shap_values[123], max_display=15)"
   ]
  },
  {
   "cell_type": "code",
   "execution_count": null,
   "id": "e76c089c-ac6b-4a1d-993a-55ec3c5bfa8a",
   "metadata": {},
   "outputs": [],
   "source": [
    "# shap.plots.waterfall(shap_values[123])"
   ]
  },
  {
   "cell_type": "code",
   "execution_count": null,
   "id": "4d649adf-759a-420c-bc7c-499f2bc2b5a0",
   "metadata": {},
   "outputs": [],
   "source": []
  }
 ],
 "metadata": {
  "kernelspec": {
   "display_name": "Python 3 (ipykernel)",
   "language": "python",
   "name": "python3"
  },
  "language_info": {
   "codemirror_mode": {
    "name": "ipython",
    "version": 3
   },
   "file_extension": ".py",
   "mimetype": "text/x-python",
   "name": "python",
   "nbconvert_exporter": "python",
   "pygments_lexer": "ipython3",
   "version": "3.8.0"
  }
 },
 "nbformat": 4,
 "nbformat_minor": 5
}
