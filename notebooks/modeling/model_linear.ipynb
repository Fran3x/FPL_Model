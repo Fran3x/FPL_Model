{
 "cells": [
  {
   "cell_type": "markdown",
   "id": "e61cf721-96f7-4f7c-a5c5-343917267d91",
   "metadata": {},
   "source": [
    "\n",
    "# Imports"
   ]
  },
  {
   "cell_type": "code",
   "execution_count": 1,
   "id": "c2b67ee7-f81a-4a96-bd38-8149efc725cf",
   "metadata": {},
   "outputs": [],
   "source": [
    "import os\n",
    "os.chdir(\"D:\\PulpitE\\FPL_ML\")"
   ]
  },
  {
   "cell_type": "code",
   "execution_count": 2,
   "id": "3f447fc0-41e6-4c50-967e-2cc314a1e81f",
   "metadata": {},
   "outputs": [],
   "source": [
    "import matplotlib.pyplot as plt\n",
    "import pandas as pd\n",
    "import numpy as np\n",
    "import shap\n",
    "import pickle\n",
    "\n",
    "from sklearn.ensemble import GradientBoostingRegressor\n",
    "from xgboost import XGBRegressor\n",
    "from sklearn.ensemble import RandomForestRegressor\n",
    "from sklearn.linear_model import LinearRegression\n",
    "\n",
    "from sklearn.metrics import mean_absolute_error, mean_squared_error\n",
    "\n",
    "from sklearn.preprocessing import LabelEncoder\n",
    "\n",
    "from PositionalModelLinear import PositionalModelLinear\n",
    "\n",
    "from config import *\n",
    "from src.match_names import name_fbref_to_fpl, neutralize_name"
   ]
  },
  {
   "cell_type": "markdown",
   "id": "8872f7cc-f945-4e0d-85e3-9f39ec505ed9",
   "metadata": {},
   "source": [
    "# Loading data\n",
    "Data consists of all PL players logs for 2021-22 and 2022-23 seasons\\\n",
    "A single log is just a summary of player performance in a particular match"
   ]
  },
  {
   "cell_type": "code",
   "execution_count": 3,
   "id": "217927df-909e-4a95-9e59-651d57e312db",
   "metadata": {},
   "outputs": [],
   "source": [
    "# loading csv\n",
    "df_original = pd.read_csv('data/previous/FPL_logs.csv')\n",
    "\n",
    "df = df_original.copy()"
   ]
  },
  {
   "cell_type": "code",
   "execution_count": 4,
   "id": "60af6f3b-1788-447d-a47e-94df72ca37e4",
   "metadata": {},
   "outputs": [
    {
     "data": {
      "text/plain": [
       "Index(['Date', 'Day', 'Venue', 'Team', 'Opponent', 'Name', 'Start', 'Pos',\n",
       "       'Min', 'Gls',\n",
       "       ...\n",
       "       'xG_team_15', 'xGA_team_15', 'xG_opp_15', 'xGA_opp_15', 'xG_team_30',\n",
       "       'xGA_team_30', 'xG_opp_30', 'xGA_opp_30', 'xG_diff', 'Avg_FPL_points'],\n",
       "      dtype='object', length=114)"
      ]
     },
     "execution_count": 4,
     "metadata": {},
     "output_type": "execute_result"
    }
   ],
   "source": [
    "df_original.columns"
   ]
  },
  {
   "cell_type": "code",
   "execution_count": 5,
   "id": "bea7e13d-5911-428a-a55c-6636cc0e10f9",
   "metadata": {},
   "outputs": [
    {
     "data": {
      "text/plain": [
       "533"
      ]
     },
     "execution_count": 5,
     "metadata": {},
     "output_type": "execute_result"
    }
   ],
   "source": [
    "df_original[\"Name\"].unique().size"
   ]
  },
  {
   "cell_type": "code",
   "execution_count": 6,
   "id": "5c1b9133-98f1-4547-aa9a-01dac513f0e0",
   "metadata": {},
   "outputs": [
    {
     "data": {
      "text/plain": [
       "(18835, 114)"
      ]
     },
     "execution_count": 6,
     "metadata": {},
     "output_type": "execute_result"
    }
   ],
   "source": [
    "df.shape"
   ]
  },
  {
   "cell_type": "code",
   "execution_count": 7,
   "id": "061b7f77-aaa5-4c47-aa57-fcd0a8f1f383",
   "metadata": {},
   "outputs": [
    {
     "data": {
      "text/plain": [
       "array(['2021-22', '2022-23', '2023-24'], dtype=object)"
      ]
     },
     "execution_count": 7,
     "metadata": {},
     "output_type": "execute_result"
    }
   ],
   "source": [
    "df[\"Season\"].unique()"
   ]
  },
  {
   "cell_type": "code",
   "execution_count": 8,
   "id": "464f26d7-f383-4606-a3dd-65490459f61a",
   "metadata": {},
   "outputs": [],
   "source": [
    "# df = df[~df[\"FPL_pos\"].isin([\"GK\"])]"
   ]
  },
  {
   "cell_type": "code",
   "execution_count": 9,
   "id": "a430c403-af6e-4b98-b8cf-fee845752bc2",
   "metadata": {},
   "outputs": [
    {
     "data": {
      "text/plain": [
       "array(['2021-22', '2022-23', '2023-24'], dtype=object)"
      ]
     },
     "execution_count": 9,
     "metadata": {},
     "output_type": "execute_result"
    }
   ],
   "source": [
    "df[\"Season\"].unique()"
   ]
  },
  {
   "cell_type": "code",
   "execution_count": 10,
   "id": "deb4a2ed-3f4a-4d30-887c-110fe07088e2",
   "metadata": {},
   "outputs": [],
   "source": [
    "# df = df[df[\"Season\"].isin(['2021-22', '2022-23'])]\n",
    "allowed_pos = ['FWD', \"MID\", \"DEF\", \"GK\"]\n",
    "df = df[df[\"FPL_pos\"].isin(allowed_pos)]"
   ]
  },
  {
   "cell_type": "code",
   "execution_count": 11,
   "id": "a2e133a4-2a62-47f4-b549-3c907a833258",
   "metadata": {},
   "outputs": [],
   "source": [
    "df = df.sort_values(by=[\"Name\", \"Date\"])"
   ]
  },
  {
   "cell_type": "markdown",
   "id": "32eaa7fb-e3cc-4e17-a8b1-cc301aa3a766",
   "metadata": {},
   "source": [
    "# Feature selection\n",
    "Model will use a set of standard features and moving averages for some other feature values. In this case we will use moving averages for last 2, 4 and 30 gameweeks."
   ]
  },
  {
   "cell_type": "code",
   "execution_count": 12,
   "id": "29b66688-3e11-4ea5-a9ed-77be552e5e4a",
   "metadata": {},
   "outputs": [],
   "source": [
    "rolling_gameweeks = [4]\n",
    "# rolling_gameweeks = [5]\n",
    "\n",
    "# to_predict = \"FPL_points\"\n",
    "to_predict = \"xP\"\n",
    "standard_features = [\n",
    "             \"Was_home\", # Home/Away\n",
    "             # \"Team_rating\", \"Opp_rating\", \n",
    "             # \"Rating_difference\", # Team ratings\n",
    "             # \"Price\", # FPl price\n",
    "             # \"Transfers_balance\",\n",
    "             # \"Transfers_result\"\n",
    "             # \"Avg_FPL_points\",\n",
    "             # \"Avg_xP\",\n",
    "             # 'Avg_FPL_points_venue', \n",
    "             # \"Was_home_xP\",\n",
    "             \"RD_xP\",\n",
    "             # \"Team_xP\",\n",
    "             # \"Opp_xP\"\n",
    "             \"xG_team_4\",\n",
    "             # \"xGA_team_4\",\n",
    "             # \"xG_opp_4\",\n",
    "             # \"xGA_opp_4\"\n",
    "             ]\n",
    "features_to_roll = [\n",
    "                # \"Min\", \n",
    "                # \"Start\", # time played\n",
    "                # 'Gls', \n",
    "                # 'Sh', \n",
    "                # 'SoT', # Goals\n",
    "                # 'Ast', # Assists\n",
    "                # 'CrdY', 'CrdR', # Cards\n",
    "                # \"xG\", 'xA', # Expected\n",
    "                # 'Team_CS', # Defence\n",
    "                # 'Team_score', 'Opp_score', 'Team_result', # Team form\n",
    "                # \"xGPoints\", \"CSPoints\", # Position-scaled\n",
    "                # \"Cmp%\", \"PrgP\", \"PrgC\", \"T_succ\",\n",
    "                # 'bonus', 'bps', # Bonus\n",
    "                # 'ICT_index', # ICT\n",
    "                # \"FPL_points\", \n",
    "                \"xP\"\n",
    "                # \"Baseline_points\", \"Bonus\" # FPL points\n",
    "            ]\n",
    "info = [\"Name_original\", \"GW\", \"Season\", \"Team\", \"Opponent\", \"Was_home\", \"Team_rating\", \"Opp_rating\", \"Price\", \"FPL_pos\", \"FPL_points\"]"
   ]
  },
  {
   "cell_type": "code",
   "execution_count": 13,
   "id": "377cc7d4-049d-4499-8917-fe0fe1833b4a",
   "metadata": {},
   "outputs": [],
   "source": [
    "# df[df[\"Name\"] == \"Erling-Haaland\"]"
   ]
  },
  {
   "cell_type": "markdown",
   "id": "fe7a4ac1-336c-4ea4-ad91-24489c66e789",
   "metadata": {},
   "source": [
    "# Feature engineering"
   ]
  },
  {
   "cell_type": "code",
   "execution_count": 14,
   "id": "338fb226-ffc9-4431-b9e2-5e4a1dd5592b",
   "metadata": {},
   "outputs": [],
   "source": [
    "df[\"Rating_difference\"] = df[\"Team_rating\"] / df[\"Opp_rating\"]\n",
    "df[\"Baseline_points\"] = df[\"FPL_points\"] - df[\"Bonus\"]\n",
    "df[\"Transfers_result\"] = df[\"Transfers_balance\"] >= 0"
   ]
  },
  {
   "cell_type": "code",
   "execution_count": 15,
   "id": "a5969fe3-5c08-4d5a-a8e2-a03c68ca0ad7",
   "metadata": {},
   "outputs": [],
   "source": [
    "def add_linear_fixtures(df):\n",
    "    RD_coef_gk = 0.08\n",
    "    RD_coef_outfield = 0.37\n",
    "    df[\"Was_home_xP\"] = df[\"Avg_FPL_points\"] * df[\"Was_home\"]\n",
    "    df.loc[df[\"FPL_pos\"] == \"GK\", \"RD_xP\"] = df[\"Avg_FPL_points\"] * ( 1 + (df[\"Rating_difference\"] - 1) * RD_coef_gk )\n",
    "    df.loc[df[\"FPL_pos\"] != \"GK\", \"RD_xP\"] = df[\"Avg_FPL_points\"] * ( 1 + (df[\"Rating_difference\"] - 1) * RD_coef_outfield )\n",
    "    df[\"Team_xP\"] = df[\"Avg_FPL_points\"] * df[\"Team_rating\"]\n",
    "    df[\"Opp_xP\"] = df[\"Avg_FPL_points\"] * df[\"Opp_rating\"]\n",
    "    df['Avg_xP'] = df.groupby('Name_original')['xP'].transform('mean')\n",
    "    df.loc[df[\"Was_home\"] == True, 'Avg_FPL_points_venue'] = df[df[\"Was_home\"] == True].groupby('Name_original')['FPL_points'].transform('mean')\n",
    "    df.loc[df[\"Was_home\"] == False, 'Avg_FPL_points_venue'] = df[df[\"Was_home\"] == False].groupby('Name_original')['FPL_points'].transform('mean')\n",
    "    \n",
    "    return df"
   ]
  },
  {
   "cell_type": "code",
   "execution_count": 16,
   "id": "86c5b9e3-37af-4a11-aced-2de6185e7032",
   "metadata": {},
   "outputs": [],
   "source": [
    "df = add_linear_fixtures(df)"
   ]
  },
  {
   "cell_type": "code",
   "execution_count": 17,
   "id": "f3a73ddc-31da-4c0d-93f1-e2f53e14c6ef",
   "metadata": {},
   "outputs": [],
   "source": [
    "def calculate_team_points(row):\n",
    "    # win - 3 points\n",
    "    if row['Team_score'] > row['Opp_score']:\n",
    "        return 3\n",
    "    # draw - 1 point\n",
    "    elif row['Team_score'] == row['Opp_score']:\n",
    "        return 1\n",
    "    # loss - 0 points\n",
    "    else:\n",
    "        return 0\n",
    "    \n",
    "df['Team_result'] = df.apply(calculate_team_points, axis=1)"
   ]
  },
  {
   "cell_type": "code",
   "execution_count": 18,
   "id": "2fe53aca-b1c7-4f24-87ae-81fe1ab6f532",
   "metadata": {},
   "outputs": [],
   "source": [
    "def add_rolling_features(df, standard_features, features_to_roll):\n",
    "    features = standard_features\n",
    "    \n",
    "    for r in rolling_gameweeks:\n",
    "        form_means = df.groupby([\"Name\"])[features_to_roll].rolling(r, min_periods=1).mean().groupby([\"Name\"]).shift(1).reset_index()\n",
    "        # print(form_means[form_means[\"Name\"] == \"Erling-Haaland\"])\n",
    "        form_means = form_means.fillna(method='bfill') # slightly incorrect, better to drop Nan\n",
    "        form_means.columns = [f'{col}{\"_\"}{r}' for col in form_means.columns]\n",
    "        features += form_means.columns.tolist()\n",
    "        features = list(filter(lambda x: x not in [\"Name_\" + str(r)], features))\n",
    "        df = pd.concat([df.reset_index(), form_means], axis=1)\n",
    "        # df = df.merge(form_means, left_index=True, right_index=True)\n",
    "        df = df.drop([col for col in df.columns if col.startswith('level')], axis=1)\n",
    "        \n",
    "    return df.reset_index(), features"
   ]
  },
  {
   "cell_type": "code",
   "execution_count": 19,
   "id": "2e46c21c-3984-42e5-a6ff-a4118cb1f802",
   "metadata": {},
   "outputs": [],
   "source": [
    "def ohe(df, ohe_columns, features):\n",
    "    # one hot encoding\n",
    "    for c in ohe_columns:\n",
    "        ohe_c = pd.get_dummies(df[c], dtype=\"int64\")\n",
    "        df = pd.concat([df, ohe_c], axis=1)\n",
    "\n",
    "        features += ohe_c.columns.tolist()\n",
    "        \n",
    "    return df, features"
   ]
  },
  {
   "cell_type": "code",
   "execution_count": 20,
   "id": "026526dc-1fdd-4eb4-854e-c3e383197574",
   "metadata": {},
   "outputs": [],
   "source": [
    "def label_encoding(df, column_to_encode):\n",
    "    \n",
    "    mapping_dict = {\n",
    "        'Y': 1, # Starting eleven\n",
    "        'Y*': 1, # Starting eleven as captain\n",
    "        'N': 0, # Not in starting eleven\n",
    "    }\n",
    "    \n",
    "    df[column_to_encode] = df[column_to_encode].map(mapping_dict)\n",
    "    \n",
    "    return df"
   ]
  },
  {
   "cell_type": "code",
   "execution_count": 21,
   "id": "dc05870f-c6a1-4340-b061-6b0f9da5ff46",
   "metadata": {},
   "outputs": [],
   "source": [
    "df = label_encoding(df, \"Start\")"
   ]
  },
  {
   "cell_type": "code",
   "execution_count": 22,
   "id": "c963831b-e2ec-4958-b2da-99c9eb5cf759",
   "metadata": {},
   "outputs": [],
   "source": [
    "df, features = add_rolling_features(df, standard_features, features_to_roll)"
   ]
  },
  {
   "cell_type": "code",
   "execution_count": 23,
   "id": "b0dd88c1-dbbe-41f8-8159-b8e73f7f5c0d",
   "metadata": {},
   "outputs": [],
   "source": [
    "# df, features = ohe(df, [\"FPL_pos\"], features)\n",
    "# if \"GK\" in df.columns:\n",
    "#     df = df.drop(\"GK\", axis=1)\n",
    "#     features.remove(\"GK\")"
   ]
  },
  {
   "cell_type": "code",
   "execution_count": 24,
   "id": "871534cf-bd8d-49ed-bb56-d3ffaa9d8478",
   "metadata": {},
   "outputs": [],
   "source": [
    "# dropping unwanted columns\n",
    "features = [col for col in features if not col.startswith('level')]\n",
    "df = df[np.unique(features + info + [to_predict])]"
   ]
  },
  {
   "cell_type": "code",
   "execution_count": 25,
   "id": "269a1373-9fbd-4aa3-a095-5ad1c74be587",
   "metadata": {},
   "outputs": [],
   "source": [
    "df = df[pd.to_numeric(df[\"GW\"], errors=\"coerce\").notna()]\n",
    "df[\"GW\"] = df[\"GW\"].astype(\"uint64\")"
   ]
  },
  {
   "cell_type": "code",
   "execution_count": 26,
   "id": "dbd5108b-c4b3-4268-9a8d-6e0ebdbe7a8d",
   "metadata": {},
   "outputs": [],
   "source": [
    "# dropping NaNs\n",
    "df = df.dropna(axis=0)"
   ]
  },
  {
   "cell_type": "code",
   "execution_count": 27,
   "id": "eb1b8f09-495e-4f39-abec-238b6ff2d3d2",
   "metadata": {},
   "outputs": [],
   "source": [
    "# df = df.set_index([\"Name_original\", \"Season\", \"GW\"], drop=False)"
   ]
  },
  {
   "cell_type": "code",
   "execution_count": 28,
   "id": "aa7edd40-4433-4d9d-bc95-747fd5fcc118",
   "metadata": {},
   "outputs": [
    {
     "data": {
      "text/plain": [
       "Index(['FPL_points', 'FPL_pos', 'GW', 'Name_original', 'Opp_rating',\n",
       "       'Opponent', 'Price', 'RD_xP', 'Season', 'Team', 'Team_rating',\n",
       "       'Was_home', 'xG_team_10', 'xP', 'xP_4'],\n",
       "      dtype='object')"
      ]
     },
     "execution_count": 28,
     "metadata": {},
     "output_type": "execute_result"
    }
   ],
   "source": [
    "df.columns"
   ]
  },
  {
   "cell_type": "code",
   "execution_count": 29,
   "id": "f9ac2b91-59ee-4d56-97be-b9a374d36604",
   "metadata": {},
   "outputs": [
    {
     "data": {
      "text/plain": [
       "(18432, 15)"
      ]
     },
     "execution_count": 29,
     "metadata": {},
     "output_type": "execute_result"
    }
   ],
   "source": [
    "df.shape"
   ]
  },
  {
   "cell_type": "code",
   "execution_count": 30,
   "id": "9a63b5c3-8665-4e01-8fb4-844bb5423741",
   "metadata": {},
   "outputs": [],
   "source": [
    "# df = df[~df[\"FPL_pos\"].isin([\"GK\"])] # only outfield players"
   ]
  },
  {
   "cell_type": "code",
   "execution_count": 31,
   "id": "ef073cdd-aec8-4ec3-a848-824371a6c451",
   "metadata": {},
   "outputs": [
    {
     "data": {
      "text/plain": [
       "(18432, 15)"
      ]
     },
     "execution_count": 31,
     "metadata": {},
     "output_type": "execute_result"
    }
   ],
   "source": [
    "df.shape"
   ]
  },
  {
   "cell_type": "markdown",
   "id": "fc895e8b-ed8c-4c03-89fe-eccde0b4c26e",
   "metadata": {},
   "source": [
    "# Data split into train and valid\n",
    "Let's take entire 2021-22 season and 30 first gameweeks of 2022-23 season as training data and 8 last gameweeks of that season as valid data (~10% of all rows)."
   ]
  },
  {
   "cell_type": "code",
   "execution_count": 32,
   "id": "bfe23832-6631-4e90-81c3-1331e7c0b0e0",
   "metadata": {},
   "outputs": [],
   "source": [
    "def shrink_df_to_top_players(df, n_players, min_fixtures):\n",
    "    # Calculate average scores\n",
    "    average_scores = df.groupby('Name_original')[to_predict].mean()\n",
    "    \n",
    "    # Calculate player counts\n",
    "    player_counts = df['Name_original'].value_counts()\n",
    "    \n",
    "    # Filter out players with less than min_fixtures occurrences\n",
    "    popular_players = player_counts[player_counts >= min_fixtures].index\n",
    "    \n",
    "    print(\"Unique players with min_fixtures:\", popular_players.size)\n",
    "\n",
    "    # Sort players by average scores\n",
    "    sorted_players = average_scores.sort_values(ascending=False)\n",
    "\n",
    "    # Get the top n_players players\n",
    "    top_popular_players = sorted_players[sorted_players.index.isin(popular_players)].head(n_players)\n",
    "\n",
    "    # Filter the original DataFrame\n",
    "    top_players_df = df[df['Name_original'].isin(top_popular_players.index)]\n",
    "    \n",
    "    print(\"Unique players left:\", top_players_df['Name_original'].unique().size)\n",
    "    \n",
    "    return top_players_df"
   ]
  },
  {
   "cell_type": "code",
   "execution_count": 33,
   "id": "1a46a038-a0b2-4348-b87c-2ca15569f6eb",
   "metadata": {},
   "outputs": [],
   "source": [
    "CUT_OFF_GAMEWEEK = 31\n",
    "SEASON_TO_PREDICT = \"2022-23\""
   ]
  },
  {
   "cell_type": "code",
   "execution_count": 34,
   "id": "d066b924-0fa7-41ca-8eea-a15cd59d5fa3",
   "metadata": {},
   "outputs": [
    {
     "name": "stdout",
     "output_type": "stream",
     "text": [
      "Unique players with min_fixtures: 391\n",
      "Unique players left: 391\n"
     ]
    }
   ],
   "source": [
    "df_train = shrink_df_to_top_players(df, 550, 10)\n",
    "# df_train[\"Name_original\"].unique()"
   ]
  },
  {
   "cell_type": "code",
   "execution_count": 35,
   "id": "3f3a9ed0-d0fb-4258-af80-6bfdac4694b8",
   "metadata": {},
   "outputs": [],
   "source": [
    "df = df.set_index([\"Name_original\", \"Season\", \"GW\"], drop=False)"
   ]
  },
  {
   "cell_type": "code",
   "execution_count": 36,
   "id": "45b9f614-d91d-491f-b5d0-d278db561c2d",
   "metadata": {},
   "outputs": [],
   "source": [
    "# training data\n",
    "X_train = df_train[((df_train[\"Season\"] < SEASON_TO_PREDICT) | (df_train[\"GW\"] <= CUT_OFF_GAMEWEEK - 1))].reset_index(drop=True)\n",
    "y_train = df_train[((df_train[\"Season\"] < SEASON_TO_PREDICT) | (df_train[\"GW\"] <= CUT_OFF_GAMEWEEK - 1))].reset_index(drop=True)"
   ]
  },
  {
   "cell_type": "code",
   "execution_count": 37,
   "id": "7996012d-2bf5-45da-a29e-e75932313172",
   "metadata": {},
   "outputs": [],
   "source": [
    "# only 31st gameweek\n",
    "X_test = df[(df[\"GW\"] == CUT_OFF_GAMEWEEK) & (df[\"Season\"] == SEASON_TO_PREDICT) ].reset_index(drop=True)\n",
    "y_test = df[(df[\"GW\"] == CUT_OFF_GAMEWEEK) & (df[\"Season\"] == SEASON_TO_PREDICT) ].reset_index(drop=True)"
   ]
  },
  {
   "cell_type": "code",
   "execution_count": 38,
   "id": "e59975bf-a85b-4920-a8d1-2a80273ebb65",
   "metadata": {},
   "outputs": [],
   "source": [
    "# all remaining gameweeks\n",
    "X_test_all_remaining = df[(df[\"GW\"] >= CUT_OFF_GAMEWEEK) & (df[\"Season\"] == SEASON_TO_PREDICT) ].reset_index(drop=True)\n",
    "y_test_all_remaining = df[(df[\"GW\"] >= CUT_OFF_GAMEWEEK) & (df[\"Season\"] == SEASON_TO_PREDICT) ].reset_index(drop=True)"
   ]
  },
  {
   "cell_type": "code",
   "execution_count": 39,
   "id": "dcf0a862-ff68-4236-8fcb-dcf5e8ebe29f",
   "metadata": {},
   "outputs": [
    {
     "data": {
      "text/plain": [
       "((15916, 15), (273, 15), (2213, 15))"
      ]
     },
     "execution_count": 39,
     "metadata": {},
     "output_type": "execute_result"
    }
   ],
   "source": [
    "X_train.shape, X_test.shape, X_test_all_remaining.shape"
   ]
  },
  {
   "cell_type": "markdown",
   "id": "bd2b3df9-363d-4c0a-8a1b-ce561ee29b23",
   "metadata": {},
   "source": [
    "# Model"
   ]
  },
  {
   "cell_type": "code",
   "execution_count": 40,
   "id": "869c69e0-56ad-4baf-a403-dcdc61f7adec",
   "metadata": {},
   "outputs": [],
   "source": [
    "# model = GradientBoostingRegressor(random_state=42)\n",
    "# model = XGBRegressor(\n",
    "#         random_state=42,\n",
    "#         n_estimators=500,\n",
    "#         # early_stopping_rounds=5,\n",
    "#         learning_rate=0.2\n",
    "#     )\n",
    "model = PositionalModelLinear(features, features, [], to_predict)\n",
    "# model = RandomForestRegressor(random_state=42)"
   ]
  },
  {
   "cell_type": "code",
   "execution_count": 41,
   "id": "8531e1e4-92af-494b-b5b7-7a48f2796fa6",
   "metadata": {},
   "outputs": [
    {
     "name": "stdout",
     "output_type": "stream",
     "text": [
      "CPU times: total: 15.6 ms\n",
      "Wall time: 18.9 ms\n"
     ]
    }
   ],
   "source": [
    "%%time\n",
    "model.fit(\n",
    "        X_train, \n",
    "        y_train,\n",
    "        # eval_set=[(X_test_all_remaining, y_test_all_remaining)],\n",
    "        # verbose=False\n",
    "    )"
   ]
  },
  {
   "cell_type": "code",
   "execution_count": 42,
   "id": "e6b4ce2b-508b-4fb8-a4ef-19ef49741454",
   "metadata": {},
   "outputs": [
    {
     "data": {
      "text/plain": [
       "['Was_home', 'RD_xP', 'xG_team_10', 'xP_4']"
      ]
     },
     "execution_count": 42,
     "metadata": {},
     "output_type": "execute_result"
    }
   ],
   "source": [
    "features"
   ]
  },
  {
   "cell_type": "code",
   "execution_count": 43,
   "id": "1658c79f-b75a-4e32-bb1a-353e07410ff6",
   "metadata": {},
   "outputs": [],
   "source": [
    "# model.model_GK.feature_names_in_"
   ]
  },
  {
   "cell_type": "code",
   "execution_count": 44,
   "id": "b1088820-16f1-4bf1-a4e2-fd0692add84a",
   "metadata": {},
   "outputs": [],
   "source": [
    "# model.model_GK.coef_"
   ]
  },
  {
   "cell_type": "code",
   "execution_count": 45,
   "id": "c41e12b0-2248-4dc1-a5aa-25df6d6f77e7",
   "metadata": {},
   "outputs": [],
   "source": [
    "# model.model_outfield.coef_"
   ]
  },
  {
   "cell_type": "markdown",
   "id": "438dc7ca-6134-429b-bd5e-4a99261c2781",
   "metadata": {
    "tags": []
   },
   "source": [
    "# Getting predictions"
   ]
  },
  {
   "cell_type": "code",
   "execution_count": 46,
   "id": "ecff920f-d510-4f46-ae3e-6316aca350bb",
   "metadata": {},
   "outputs": [],
   "source": [
    "def get_predictions(model, df, X, all_remaining=False):\n",
    "    # make predictions on the test data and glues them to the rest of the dataframe\n",
    "    predictions = model.predict(X)\n",
    "    if all_remaining:\n",
    "        df_predictions = df[(df[\"GW\"] >= CUT_OFF_GAMEWEEK) & (df[\"Season\"] == SEASON_TO_PREDICT)].reset_index(drop=True)\n",
    "    else:\n",
    "        df_predictions = df[(df[\"GW\"] == CUT_OFF_GAMEWEEK) & (df[\"Season\"] == SEASON_TO_PREDICT)].reset_index(drop=True)\n",
    "        \n",
    "    df_predictions.loc[:, \"Pred\"] = predictions\n",
    "    \n",
    "    preds = df_predictions[info + [to_predict] + [\"Pred\"]].sort_values(by=[\"Pred\"], ascending = False)\n",
    "    \n",
    "    return preds, predictions"
   ]
  },
  {
   "cell_type": "code",
   "execution_count": 47,
   "id": "fc15d678-d460-438b-8750-c00cd0321f31",
   "metadata": {},
   "outputs": [],
   "source": [
    "preds, predictions = get_predictions(model, df, X_test)"
   ]
  },
  {
   "cell_type": "code",
   "execution_count": 48,
   "id": "5b318f3a-f755-44af-9dcc-349b91a04bd6",
   "metadata": {},
   "outputs": [],
   "source": [
    "preds_all_gameweeks, predictions_all = get_predictions(model, df, X_test_all_remaining, True)"
   ]
  },
  {
   "cell_type": "markdown",
   "id": "bcb4ce5d-b258-4626-ba7e-3d232df036b2",
   "metadata": {},
   "source": [
    "# Custom metric\n",
    "Such models are usually used to compare players and decide who to pick for upcoming gameweek(s). For each player pair in a subset of players model can either predict the outcome well (e.g. player A scores more than player B and model predicts exactly that) or predict wrongly (e.g. player A scores more than player B but model predicts player B > player A). Pairwise_accuracy returns the percentage of corrected predicted pairs. Pairwise_accuracy_topX is a variation of this metric calculated only for X highest scoring players of last two seasons."
   ]
  },
  {
   "cell_type": "code",
   "execution_count": 49,
   "id": "30d87d10-ae71-4fc6-aa37-455fa45be613",
   "metadata": {},
   "outputs": [],
   "source": [
    "def get_top_performer_names(df, no_top, no_gws):\n",
    "    # takes no_top players that recorded highest average FPL points in no_gws last gameweeks\n",
    "    return df.reset_index(drop=True).groupby(\"Name_original\")[to_predict].mean().groupby(\"Name_original\").tail(no_gws).sort_values(ascending=False).head(no_top).index.to_list()"
   ]
  },
  {
   "cell_type": "code",
   "execution_count": 50,
   "id": "ad049ca6-a774-4dc9-95f4-e981ba0ed254",
   "metadata": {},
   "outputs": [],
   "source": [
    "def pairwise_accuracy(predicted_scores, true_scores):\n",
    "    if len(predicted_scores) != len(true_scores):\n",
    "        raise ValueError(\"The length of predicted_scores and true_scores must be the same.\")\n",
    "\n",
    "    num_pairs = 0\n",
    "    num_correct_pairs = 0\n",
    "\n",
    "    for i in range(len(predicted_scores)):\n",
    "        for j in range(i + 1, len(predicted_scores)):\n",
    "            # Check if the predicted order matches the true order\n",
    "            if (predicted_scores[i] > predicted_scores[j] and true_scores[i] > true_scores[j]) or \\\n",
    "               (predicted_scores[i] < predicted_scores[j] and true_scores[i] < true_scores[j]):\n",
    "                num_correct_pairs += 1\n",
    "            num_pairs += 1\n",
    "\n",
    "    pairwise_accuracy = num_correct_pairs / num_pairs\n",
    "    return pairwise_accuracy"
   ]
  },
  {
   "cell_type": "code",
   "execution_count": 51,
   "id": "0dcbdf3b-8f16-432d-a9d4-ca4b93888927",
   "metadata": {},
   "outputs": [],
   "source": [
    "def pairwise_accuracy_topX(model, df, top_x, all_gw=False):\n",
    "    # pairwise_accuracy for top_X players\n",
    "    if all_gw:\n",
    "        top_performers = df[(df[\"GW\"] == CUT_OFF_GAMEWEEK) & (df[\"Season\"] == SEASON_TO_PREDICT) & (df[\"Name_original\"].isin(get_top_performer_names(df, top_x, 50)))]\n",
    "    else:\n",
    "        top_performers = df[(df[\"GW\"] >= CUT_OFF_GAMEWEEK) & (df[\"Season\"] == SEASON_TO_PREDICT) & (df[\"Name_original\"].isin(get_top_performer_names(df, top_x, 50)))]\n",
    "\n",
    "    X = top_performers.reset_index(drop=True)\n",
    "    y = np.array(top_performers[to_predict].reset_index(drop=True))\n",
    "    preds = model.predict(X)\n",
    "    \n",
    "    return  pairwise_accuracy(preds, y)"
   ]
  },
  {
   "cell_type": "markdown",
   "id": "434ed227-7346-4124-8cc6-4b7e8c99606b",
   "metadata": {},
   "source": [
    "# Evaluation"
   ]
  },
  {
   "cell_type": "code",
   "execution_count": 52,
   "id": "6764621d-0288-45d0-95a3-36c29e6c95c4",
   "metadata": {},
   "outputs": [],
   "source": [
    "def evaluate(model, df, predictions, y_true, all_gw=False):\n",
    "    # function to calculate different metrics for a given model\n",
    "    mae = mean_absolute_error(y_true[to_predict], predictions)\n",
    "    mse = mean_squared_error(y_true[to_predict], predictions)\n",
    "\n",
    "    pairwise_acc = pairwise_accuracy(np.array(y_true[to_predict]), predictions)\n",
    "    pairwise_accuracy_top20 = pairwise_accuracy_topX(model, df, 20, all_gw)\n",
    "    pairwise_accuracy_top100 = pairwise_accuracy_topX(model, df, 100, all_gw)\n",
    "    \n",
    "    print(\"MAE:\", mae)\n",
    "    print(\"MSE:\", mse)\n",
    "    print(\"Pairwise accuracy:\", pairwise_acc)\n",
    "    print(\"Pairwise accuracy @TOP100:\", pairwise_accuracy_top100)\n",
    "    print(\"Pairwise accuracy @TOP20:\", pairwise_accuracy_top20)"
   ]
  },
  {
   "cell_type": "code",
   "execution_count": 53,
   "id": "2f9841b1-66d7-4b01-b878-a1a21114e9f9",
   "metadata": {},
   "outputs": [],
   "source": [
    "# df[(df[\"GW\"] == GAMEWEEK_TO_PREDICT) & (df[\"Season\"] == SEASON_TO_PREDICT) & (df[\"Name\"].isin(get_top_performer_names(df, 20, 50)))].columns"
   ]
  },
  {
   "cell_type": "code",
   "execution_count": 54,
   "id": "620d667e-0f67-4a3e-9d17-13f775d06b5e",
   "metadata": {},
   "outputs": [],
   "source": [
    "# next gameweek\n",
    "# evaluate(model, df, predictions, y_test, all_gw=False)"
   ]
  },
  {
   "cell_type": "code",
   "execution_count": 55,
   "id": "2264d7a3-28e2-4864-b02a-eb521e567e46",
   "metadata": {},
   "outputs": [
    {
     "name": "stdout",
     "output_type": "stream",
     "text": [
      "MAE: 1.5348241180503477\n",
      "MSE: 4.548110658307953\n",
      "Pairwise accuracy: 0.6419178469491065\n",
      "Pairwise accuracy @TOP100: 0.54337899543379\n",
      "Pairwise accuracy @TOP20: 0.6888888888888889\n"
     ]
    }
   ],
   "source": [
    "# all remaining gameweeks\n",
    "evaluate(model, df, predictions_all, y_test_all_remaining, all_gw=True)"
   ]
  },
  {
   "cell_type": "code",
   "execution_count": 56,
   "id": "7c24d0b8-905d-4dad-825d-9360746adec8",
   "metadata": {},
   "outputs": [
    {
     "data": {
      "text/html": [
       "<div>\n",
       "<style scoped>\n",
       "    .dataframe tbody tr th:only-of-type {\n",
       "        vertical-align: middle;\n",
       "    }\n",
       "\n",
       "    .dataframe tbody tr th {\n",
       "        vertical-align: top;\n",
       "    }\n",
       "\n",
       "    .dataframe thead th {\n",
       "        text-align: right;\n",
       "    }\n",
       "</style>\n",
       "<table border=\"1\" class=\"dataframe\">\n",
       "  <thead>\n",
       "    <tr style=\"text-align: right;\">\n",
       "      <th></th>\n",
       "      <th>Sum</th>\n",
       "    </tr>\n",
       "  </thead>\n",
       "  <tbody>\n",
       "    <tr>\n",
       "      <th>Pred</th>\n",
       "      <td>5654.818709</td>\n",
       "    </tr>\n",
       "    <tr>\n",
       "      <th>FPL</th>\n",
       "      <td>5261.000000</td>\n",
       "    </tr>\n",
       "    <tr>\n",
       "      <th>xP</th>\n",
       "      <td>5660.700000</td>\n",
       "    </tr>\n",
       "  </tbody>\n",
       "</table>\n",
       "</div>"
      ],
      "text/plain": [
       "              Sum\n",
       "Pred  5654.818709\n",
       "FPL   5261.000000\n",
       "xP    5660.700000"
      ]
     },
     "execution_count": 56,
     "metadata": {},
     "output_type": "execute_result"
    }
   ],
   "source": [
    "pred_sum = preds_all_gameweeks[\"Pred\"].sum()\n",
    "fpl_sum = preds_all_gameweeks[\"FPL_points\"].sum()\n",
    "xp_sum = preds_all_gameweeks[\"xP\"].sum()\n",
    "\n",
    "pd.DataFrame([pred_sum, fpl_sum, xp_sum], index=[\"Pred\", \"FPL\", \"xP\"], columns=[\"Sum\"])"
   ]
  },
  {
   "cell_type": "code",
   "execution_count": 57,
   "id": "1de0dbe5-2b5f-472d-9f2d-2300dab2b19c",
   "metadata": {},
   "outputs": [],
   "source": [
    "# model.predict(df[df[\"GW\"] == GAMEWEEK_TO_PREDICT][df[\"Name\"] == \"Mohamed-Salah\"][features])"
   ]
  },
  {
   "cell_type": "code",
   "execution_count": 58,
   "id": "2a6fed93-1557-41eb-9ec8-aaac2925ae8e",
   "metadata": {},
   "outputs": [
    {
     "data": {
      "text/plain": [
       "['Was_home', 'RD_xP', 'xG_team_10', 'xP_4']"
      ]
     },
     "execution_count": 58,
     "metadata": {},
     "output_type": "execute_result"
    }
   ],
   "source": [
    "features"
   ]
  },
  {
   "cell_type": "code",
   "execution_count": 59,
   "id": "42970ebb-d740-4b25-a6e6-a8971f5efbeb",
   "metadata": {},
   "outputs": [
    {
     "data": {
      "text/plain": [
       "4"
      ]
     },
     "execution_count": 59,
     "metadata": {},
     "output_type": "execute_result"
    }
   ],
   "source": [
    "len(features)"
   ]
  },
  {
   "cell_type": "markdown",
   "id": "09ff9469-b50e-44d3-9e08-2b9fb4c8e8ba",
   "metadata": {},
   "source": [
    "# Predictions - next gameweek only"
   ]
  },
  {
   "cell_type": "code",
   "execution_count": 60,
   "id": "6df93768-16bb-495b-94ab-f240d07e9b4e",
   "metadata": {},
   "outputs": [
    {
     "data": {
      "text/html": [
       "<div>\n",
       "<style scoped>\n",
       "    .dataframe tbody tr th:only-of-type {\n",
       "        vertical-align: middle;\n",
       "    }\n",
       "\n",
       "    .dataframe tbody tr th {\n",
       "        vertical-align: top;\n",
       "    }\n",
       "\n",
       "    .dataframe thead th {\n",
       "        text-align: right;\n",
       "    }\n",
       "</style>\n",
       "<table border=\"1\" class=\"dataframe\">\n",
       "  <thead>\n",
       "    <tr style=\"text-align: right;\">\n",
       "      <th></th>\n",
       "      <th>Name_original</th>\n",
       "      <th>GW</th>\n",
       "      <th>Season</th>\n",
       "      <th>Team</th>\n",
       "      <th>Opponent</th>\n",
       "      <th>Was_home</th>\n",
       "      <th>Team_rating</th>\n",
       "      <th>Opp_rating</th>\n",
       "      <th>Price</th>\n",
       "      <th>FPL_pos</th>\n",
       "      <th>FPL_points</th>\n",
       "      <th>xP</th>\n",
       "      <th>Pred</th>\n",
       "    </tr>\n",
       "  </thead>\n",
       "  <tbody>\n",
       "    <tr>\n",
       "      <th>83</th>\n",
       "      <td>Erling Haaland</td>\n",
       "      <td>31</td>\n",
       "      <td>2022-23</td>\n",
       "      <td>Manchester City</td>\n",
       "      <td>Leicester City</td>\n",
       "      <td>1.0</td>\n",
       "      <td>2060.531738</td>\n",
       "      <td>1722.042847</td>\n",
       "      <td>12.2</td>\n",
       "      <td>FWD</td>\n",
       "      <td>12</td>\n",
       "      <td>9.8</td>\n",
       "      <td>7.424335</td>\n",
       "    </tr>\n",
       "    <tr>\n",
       "      <th>197</th>\n",
       "      <td>Mohamed Salah</td>\n",
       "      <td>31</td>\n",
       "      <td>2022-23</td>\n",
       "      <td>Liverpool</td>\n",
       "      <td>Leeds United</td>\n",
       "      <td>0.0</td>\n",
       "      <td>1925.248047</td>\n",
       "      <td>1694.963013</td>\n",
       "      <td>12.8</td>\n",
       "      <td>MID</td>\n",
       "      <td>14</td>\n",
       "      <td>7.5</td>\n",
       "      <td>6.588426</td>\n",
       "    </tr>\n",
       "    <tr>\n",
       "      <th>152</th>\n",
       "      <td>Kevin De Bruyne</td>\n",
       "      <td>31</td>\n",
       "      <td>2022-23</td>\n",
       "      <td>Manchester City</td>\n",
       "      <td>Leicester City</td>\n",
       "      <td>1.0</td>\n",
       "      <td>2060.531738</td>\n",
       "      <td>1722.042847</td>\n",
       "      <td>12.1</td>\n",
       "      <td>MID</td>\n",
       "      <td>8</td>\n",
       "      <td>6.5</td>\n",
       "      <td>5.888141</td>\n",
       "    </tr>\n",
       "    <tr>\n",
       "      <th>180</th>\n",
       "      <td>Gabriel Martinelli Silva</td>\n",
       "      <td>31</td>\n",
       "      <td>2022-23</td>\n",
       "      <td>Arsenal</td>\n",
       "      <td>West Ham</td>\n",
       "      <td>0.0</td>\n",
       "      <td>1946.847900</td>\n",
       "      <td>1751.608521</td>\n",
       "      <td>6.8</td>\n",
       "      <td>MID</td>\n",
       "      <td>5</td>\n",
       "      <td>4.6</td>\n",
       "      <td>5.501109</td>\n",
       "    </tr>\n",
       "    <tr>\n",
       "      <th>110</th>\n",
       "      <td>Ivan Toney</td>\n",
       "      <td>31</td>\n",
       "      <td>2022-23</td>\n",
       "      <td>Brentford</td>\n",
       "      <td>Wolves</td>\n",
       "      <td>0.0</td>\n",
       "      <td>1782.324097</td>\n",
       "      <td>1717.951782</td>\n",
       "      <td>7.8</td>\n",
       "      <td>FWD</td>\n",
       "      <td>2</td>\n",
       "      <td>4.0</td>\n",
       "      <td>5.227188</td>\n",
       "    </tr>\n",
       "    <tr>\n",
       "      <th>211</th>\n",
       "      <td>Ollie Watkins</td>\n",
       "      <td>31</td>\n",
       "      <td>2022-23</td>\n",
       "      <td>Aston Villa</td>\n",
       "      <td>Newcastle Utd</td>\n",
       "      <td>1.0</td>\n",
       "      <td>1801.513550</td>\n",
       "      <td>1876.322510</td>\n",
       "      <td>7.6</td>\n",
       "      <td>FWD</td>\n",
       "      <td>16</td>\n",
       "      <td>10.5</td>\n",
       "      <td>5.208167</td>\n",
       "    </tr>\n",
       "    <tr>\n",
       "      <th>243</th>\n",
       "      <td>Solly March</td>\n",
       "      <td>31</td>\n",
       "      <td>2022-23</td>\n",
       "      <td>Brighton</td>\n",
       "      <td>Chelsea</td>\n",
       "      <td>0.0</td>\n",
       "      <td>1826.634033</td>\n",
       "      <td>1827.184204</td>\n",
       "      <td>5.2</td>\n",
       "      <td>MID</td>\n",
       "      <td>5</td>\n",
       "      <td>2.8</td>\n",
       "      <td>5.007136</td>\n",
       "    </tr>\n",
       "    <tr>\n",
       "      <th>260</th>\n",
       "      <td>Tyrone Mings</td>\n",
       "      <td>31</td>\n",
       "      <td>2022-23</td>\n",
       "      <td>Aston Villa</td>\n",
       "      <td>Newcastle Utd</td>\n",
       "      <td>1.0</td>\n",
       "      <td>1801.513550</td>\n",
       "      <td>1876.322510</td>\n",
       "      <td>4.5</td>\n",
       "      <td>DEF</td>\n",
       "      <td>6</td>\n",
       "      <td>6.0</td>\n",
       "      <td>4.842957</td>\n",
       "    </tr>\n",
       "    <tr>\n",
       "      <th>80</th>\n",
       "      <td>Emiliano Martínez Romero</td>\n",
       "      <td>31</td>\n",
       "      <td>2022-23</td>\n",
       "      <td>Aston Villa</td>\n",
       "      <td>Newcastle Utd</td>\n",
       "      <td>1.0</td>\n",
       "      <td>1801.513550</td>\n",
       "      <td>1876.322510</td>\n",
       "      <td>5.0</td>\n",
       "      <td>GK</td>\n",
       "      <td>6</td>\n",
       "      <td>6.0</td>\n",
       "      <td>4.774498</td>\n",
       "    </tr>\n",
       "    <tr>\n",
       "      <th>124</th>\n",
       "      <td>Jarrod Bowen</td>\n",
       "      <td>31</td>\n",
       "      <td>2022-23</td>\n",
       "      <td>West Ham</td>\n",
       "      <td>Arsenal</td>\n",
       "      <td>1.0</td>\n",
       "      <td>1751.608521</td>\n",
       "      <td>1946.847900</td>\n",
       "      <td>8.0</td>\n",
       "      <td>MID</td>\n",
       "      <td>7</td>\n",
       "      <td>3.0</td>\n",
       "      <td>4.766228</td>\n",
       "    </tr>\n",
       "    <tr>\n",
       "      <th>8</th>\n",
       "      <td>Alexander Isak</td>\n",
       "      <td>31</td>\n",
       "      <td>2022-23</td>\n",
       "      <td>Newcastle Utd</td>\n",
       "      <td>Aston Villa</td>\n",
       "      <td>0.0</td>\n",
       "      <td>1876.322510</td>\n",
       "      <td>1801.513550</td>\n",
       "      <td>6.7</td>\n",
       "      <td>FWD</td>\n",
       "      <td>2</td>\n",
       "      <td>2.4</td>\n",
       "      <td>4.757638</td>\n",
       "    </tr>\n",
       "    <tr>\n",
       "      <th>37</th>\n",
       "      <td>Bukayo Saka</td>\n",
       "      <td>31</td>\n",
       "      <td>2022-23</td>\n",
       "      <td>Arsenal</td>\n",
       "      <td>West Ham</td>\n",
       "      <td>0.0</td>\n",
       "      <td>1946.847900</td>\n",
       "      <td>1751.608521</td>\n",
       "      <td>8.6</td>\n",
       "      <td>MID</td>\n",
       "      <td>0</td>\n",
       "      <td>7.0</td>\n",
       "      <td>4.743702</td>\n",
       "    </tr>\n",
       "    <tr>\n",
       "      <th>244</th>\n",
       "      <td>Son Heung-min</td>\n",
       "      <td>31</td>\n",
       "      <td>2022-23</td>\n",
       "      <td>Tottenham</td>\n",
       "      <td>Bournemouth</td>\n",
       "      <td>1.0</td>\n",
       "      <td>1851.721558</td>\n",
       "      <td>1665.276123</td>\n",
       "      <td>11.6</td>\n",
       "      <td>MID</td>\n",
       "      <td>9</td>\n",
       "      <td>8.2</td>\n",
       "      <td>4.683370</td>\n",
       "    </tr>\n",
       "    <tr>\n",
       "      <th>34</th>\n",
       "      <td>Bruno Borges Fernandes</td>\n",
       "      <td>31</td>\n",
       "      <td>2022-23</td>\n",
       "      <td>Manchester Utd</td>\n",
       "      <td>Nott'ham Forest</td>\n",
       "      <td>0.0</td>\n",
       "      <td>1878.940308</td>\n",
       "      <td>1635.660278</td>\n",
       "      <td>9.6</td>\n",
       "      <td>MID</td>\n",
       "      <td>3</td>\n",
       "      <td>8.1</td>\n",
       "      <td>4.682514</td>\n",
       "    </tr>\n",
       "    <tr>\n",
       "      <th>156</th>\n",
       "      <td>Kieran Trippier</td>\n",
       "      <td>31</td>\n",
       "      <td>2022-23</td>\n",
       "      <td>Newcastle Utd</td>\n",
       "      <td>Aston Villa</td>\n",
       "      <td>0.0</td>\n",
       "      <td>1876.322510</td>\n",
       "      <td>1801.513550</td>\n",
       "      <td>6.2</td>\n",
       "      <td>DEF</td>\n",
       "      <td>1</td>\n",
       "      <td>2.6</td>\n",
       "      <td>4.669749</td>\n",
       "    </tr>\n",
       "    <tr>\n",
       "      <th>104</th>\n",
       "      <td>Hugo Lloris</td>\n",
       "      <td>31</td>\n",
       "      <td>2022-23</td>\n",
       "      <td>Tottenham</td>\n",
       "      <td>Bournemouth</td>\n",
       "      <td>1.0</td>\n",
       "      <td>1851.721558</td>\n",
       "      <td>1665.276123</td>\n",
       "      <td>5.4</td>\n",
       "      <td>GK</td>\n",
       "      <td>2</td>\n",
       "      <td>2.0</td>\n",
       "      <td>4.646419</td>\n",
       "    </tr>\n",
       "    <tr>\n",
       "      <th>223</th>\n",
       "      <td>Reece James</td>\n",
       "      <td>31</td>\n",
       "      <td>2022-23</td>\n",
       "      <td>Chelsea</td>\n",
       "      <td>Brighton</td>\n",
       "      <td>1.0</td>\n",
       "      <td>1827.184204</td>\n",
       "      <td>1826.634033</td>\n",
       "      <td>5.8</td>\n",
       "      <td>DEF</td>\n",
       "      <td>1</td>\n",
       "      <td>1.0</td>\n",
       "      <td>4.480301</td>\n",
       "    </tr>\n",
       "    <tr>\n",
       "      <th>70</th>\n",
       "      <td>Dominic Solanke</td>\n",
       "      <td>31</td>\n",
       "      <td>2022-23</td>\n",
       "      <td>Bournemouth</td>\n",
       "      <td>Tottenham</td>\n",
       "      <td>0.0</td>\n",
       "      <td>1665.276123</td>\n",
       "      <td>1851.721558</td>\n",
       "      <td>5.5</td>\n",
       "      <td>FWD</td>\n",
       "      <td>15</td>\n",
       "      <td>7.9</td>\n",
       "      <td>4.467300</td>\n",
       "    </tr>\n",
       "    <tr>\n",
       "      <th>179</th>\n",
       "      <td>Martin Ødegaard</td>\n",
       "      <td>31</td>\n",
       "      <td>2022-23</td>\n",
       "      <td>Arsenal</td>\n",
       "      <td>West Ham</td>\n",
       "      <td>0.0</td>\n",
       "      <td>1946.847900</td>\n",
       "      <td>1751.608521</td>\n",
       "      <td>6.7</td>\n",
       "      <td>MID</td>\n",
       "      <td>10</td>\n",
       "      <td>7.5</td>\n",
       "      <td>4.373397</td>\n",
       "    </tr>\n",
       "    <tr>\n",
       "      <th>96</th>\n",
       "      <td>Gabriel Fernando de Jesus</td>\n",
       "      <td>31</td>\n",
       "      <td>2022-23</td>\n",
       "      <td>Arsenal</td>\n",
       "      <td>West Ham</td>\n",
       "      <td>0.0</td>\n",
       "      <td>1946.847900</td>\n",
       "      <td>1751.608521</td>\n",
       "      <td>8.1</td>\n",
       "      <td>FWD</td>\n",
       "      <td>7</td>\n",
       "      <td>7.2</td>\n",
       "      <td>4.365184</td>\n",
       "    </tr>\n",
       "    <tr>\n",
       "      <th>38</th>\n",
       "      <td>Callum Wilson</td>\n",
       "      <td>31</td>\n",
       "      <td>2022-23</td>\n",
       "      <td>Newcastle Utd</td>\n",
       "      <td>Aston Villa</td>\n",
       "      <td>0.0</td>\n",
       "      <td>1876.322510</td>\n",
       "      <td>1801.513550</td>\n",
       "      <td>6.9</td>\n",
       "      <td>FWD</td>\n",
       "      <td>1</td>\n",
       "      <td>1.0</td>\n",
       "      <td>4.322402</td>\n",
       "    </tr>\n",
       "    <tr>\n",
       "      <th>195</th>\n",
       "      <td>Miguel Almirón Rejala</td>\n",
       "      <td>31</td>\n",
       "      <td>2022-23</td>\n",
       "      <td>Newcastle Utd</td>\n",
       "      <td>Aston Villa</td>\n",
       "      <td>0.0</td>\n",
       "      <td>1876.322510</td>\n",
       "      <td>1801.513550</td>\n",
       "      <td>5.4</td>\n",
       "      <td>MID</td>\n",
       "      <td>1</td>\n",
       "      <td>2.0</td>\n",
       "      <td>4.247279</td>\n",
       "    </tr>\n",
       "    <tr>\n",
       "      <th>111</th>\n",
       "      <td>Jack Grealish</td>\n",
       "      <td>31</td>\n",
       "      <td>2022-23</td>\n",
       "      <td>Manchester City</td>\n",
       "      <td>Leicester City</td>\n",
       "      <td>1.0</td>\n",
       "      <td>2060.531738</td>\n",
       "      <td>1722.042847</td>\n",
       "      <td>7.2</td>\n",
       "      <td>MID</td>\n",
       "      <td>7</td>\n",
       "      <td>4.5</td>\n",
       "      <td>4.192573</td>\n",
       "    </tr>\n",
       "    <tr>\n",
       "      <th>161</th>\n",
       "      <td>Leandro Trossard</td>\n",
       "      <td>31</td>\n",
       "      <td>2022-23</td>\n",
       "      <td>Arsenal</td>\n",
       "      <td>West Ham</td>\n",
       "      <td>0.0</td>\n",
       "      <td>1946.847900</td>\n",
       "      <td>1751.608521</td>\n",
       "      <td>6.7</td>\n",
       "      <td>MID</td>\n",
       "      <td>1</td>\n",
       "      <td>1.0</td>\n",
       "      <td>4.190948</td>\n",
       "    </tr>\n",
       "    <tr>\n",
       "      <th>132</th>\n",
       "      <td>Joe Willock</td>\n",
       "      <td>31</td>\n",
       "      <td>2022-23</td>\n",
       "      <td>Newcastle Utd</td>\n",
       "      <td>Aston Villa</td>\n",
       "      <td>0.0</td>\n",
       "      <td>1876.322510</td>\n",
       "      <td>1801.513550</td>\n",
       "      <td>4.7</td>\n",
       "      <td>MID</td>\n",
       "      <td>2</td>\n",
       "      <td>2.0</td>\n",
       "      <td>4.163100</td>\n",
       "    </tr>\n",
       "    <tr>\n",
       "      <th>257</th>\n",
       "      <td>Trent Alexander-Arnold</td>\n",
       "      <td>31</td>\n",
       "      <td>2022-23</td>\n",
       "      <td>Liverpool</td>\n",
       "      <td>Leeds United</td>\n",
       "      <td>0.0</td>\n",
       "      <td>1925.248047</td>\n",
       "      <td>1694.963013</td>\n",
       "      <td>7.3</td>\n",
       "      <td>DEF</td>\n",
       "      <td>9</td>\n",
       "      <td>6.3</td>\n",
       "      <td>4.148147</td>\n",
       "    </tr>\n",
       "    <tr>\n",
       "      <th>208</th>\n",
       "      <td>Nick Pope</td>\n",
       "      <td>31</td>\n",
       "      <td>2022-23</td>\n",
       "      <td>Newcastle Utd</td>\n",
       "      <td>Aston Villa</td>\n",
       "      <td>0.0</td>\n",
       "      <td>1876.322510</td>\n",
       "      <td>1801.513550</td>\n",
       "      <td>5.4</td>\n",
       "      <td>GK</td>\n",
       "      <td>2</td>\n",
       "      <td>2.0</td>\n",
       "      <td>4.120040</td>\n",
       "    </tr>\n",
       "    <tr>\n",
       "      <th>218</th>\n",
       "      <td>Pedro Porro</td>\n",
       "      <td>31</td>\n",
       "      <td>2022-23</td>\n",
       "      <td>Tottenham</td>\n",
       "      <td>Bournemouth</td>\n",
       "      <td>1.0</td>\n",
       "      <td>1851.721558</td>\n",
       "      <td>1665.276123</td>\n",
       "      <td>4.8</td>\n",
       "      <td>DEF</td>\n",
       "      <td>1</td>\n",
       "      <td>2.9</td>\n",
       "      <td>4.116631</td>\n",
       "    </tr>\n",
       "    <tr>\n",
       "      <th>262</th>\n",
       "      <td>Virgil van Dijk</td>\n",
       "      <td>31</td>\n",
       "      <td>2022-23</td>\n",
       "      <td>Liverpool</td>\n",
       "      <td>Leeds United</td>\n",
       "      <td>0.0</td>\n",
       "      <td>1925.248047</td>\n",
       "      <td>1694.963013</td>\n",
       "      <td>6.5</td>\n",
       "      <td>DEF</td>\n",
       "      <td>2</td>\n",
       "      <td>2.0</td>\n",
       "      <td>4.110783</td>\n",
       "    </tr>\n",
       "    <tr>\n",
       "      <th>168</th>\n",
       "      <td>Lukasz Fabianski</td>\n",
       "      <td>31</td>\n",
       "      <td>2022-23</td>\n",
       "      <td>West Ham</td>\n",
       "      <td>Arsenal</td>\n",
       "      <td>1.0</td>\n",
       "      <td>1751.608521</td>\n",
       "      <td>1946.847900</td>\n",
       "      <td>4.9</td>\n",
       "      <td>GK</td>\n",
       "      <td>2</td>\n",
       "      <td>2.0</td>\n",
       "      <td>4.086312</td>\n",
       "    </tr>\n",
       "  </tbody>\n",
       "</table>\n",
       "</div>"
      ],
      "text/plain": [
       "                 Name_original  GW   Season             Team         Opponent  \\\n",
       "83              Erling Haaland  31  2022-23  Manchester City   Leicester City   \n",
       "197              Mohamed Salah  31  2022-23        Liverpool     Leeds United   \n",
       "152            Kevin De Bruyne  31  2022-23  Manchester City   Leicester City   \n",
       "180   Gabriel Martinelli Silva  31  2022-23          Arsenal         West Ham   \n",
       "110                 Ivan Toney  31  2022-23        Brentford           Wolves   \n",
       "211              Ollie Watkins  31  2022-23      Aston Villa    Newcastle Utd   \n",
       "243                Solly March  31  2022-23         Brighton          Chelsea   \n",
       "260               Tyrone Mings  31  2022-23      Aston Villa    Newcastle Utd   \n",
       "80    Emiliano Martínez Romero  31  2022-23      Aston Villa    Newcastle Utd   \n",
       "124               Jarrod Bowen  31  2022-23         West Ham          Arsenal   \n",
       "8               Alexander Isak  31  2022-23    Newcastle Utd      Aston Villa   \n",
       "37                 Bukayo Saka  31  2022-23          Arsenal         West Ham   \n",
       "244              Son Heung-min  31  2022-23        Tottenham      Bournemouth   \n",
       "34      Bruno Borges Fernandes  31  2022-23   Manchester Utd  Nott'ham Forest   \n",
       "156            Kieran Trippier  31  2022-23    Newcastle Utd      Aston Villa   \n",
       "104                Hugo Lloris  31  2022-23        Tottenham      Bournemouth   \n",
       "223                Reece James  31  2022-23          Chelsea         Brighton   \n",
       "70             Dominic Solanke  31  2022-23      Bournemouth        Tottenham   \n",
       "179            Martin Ødegaard  31  2022-23          Arsenal         West Ham   \n",
       "96   Gabriel Fernando de Jesus  31  2022-23          Arsenal         West Ham   \n",
       "38               Callum Wilson  31  2022-23    Newcastle Utd      Aston Villa   \n",
       "195      Miguel Almirón Rejala  31  2022-23    Newcastle Utd      Aston Villa   \n",
       "111              Jack Grealish  31  2022-23  Manchester City   Leicester City   \n",
       "161           Leandro Trossard  31  2022-23          Arsenal         West Ham   \n",
       "132                Joe Willock  31  2022-23    Newcastle Utd      Aston Villa   \n",
       "257     Trent Alexander-Arnold  31  2022-23        Liverpool     Leeds United   \n",
       "208                  Nick Pope  31  2022-23    Newcastle Utd      Aston Villa   \n",
       "218                Pedro Porro  31  2022-23        Tottenham      Bournemouth   \n",
       "262            Virgil van Dijk  31  2022-23        Liverpool     Leeds United   \n",
       "168           Lukasz Fabianski  31  2022-23         West Ham          Arsenal   \n",
       "\n",
       "     Was_home  Team_rating   Opp_rating  Price FPL_pos  FPL_points    xP  \\\n",
       "83        1.0  2060.531738  1722.042847   12.2     FWD          12   9.8   \n",
       "197       0.0  1925.248047  1694.963013   12.8     MID          14   7.5   \n",
       "152       1.0  2060.531738  1722.042847   12.1     MID           8   6.5   \n",
       "180       0.0  1946.847900  1751.608521    6.8     MID           5   4.6   \n",
       "110       0.0  1782.324097  1717.951782    7.8     FWD           2   4.0   \n",
       "211       1.0  1801.513550  1876.322510    7.6     FWD          16  10.5   \n",
       "243       0.0  1826.634033  1827.184204    5.2     MID           5   2.8   \n",
       "260       1.0  1801.513550  1876.322510    4.5     DEF           6   6.0   \n",
       "80        1.0  1801.513550  1876.322510    5.0      GK           6   6.0   \n",
       "124       1.0  1751.608521  1946.847900    8.0     MID           7   3.0   \n",
       "8         0.0  1876.322510  1801.513550    6.7     FWD           2   2.4   \n",
       "37        0.0  1946.847900  1751.608521    8.6     MID           0   7.0   \n",
       "244       1.0  1851.721558  1665.276123   11.6     MID           9   8.2   \n",
       "34        0.0  1878.940308  1635.660278    9.6     MID           3   8.1   \n",
       "156       0.0  1876.322510  1801.513550    6.2     DEF           1   2.6   \n",
       "104       1.0  1851.721558  1665.276123    5.4      GK           2   2.0   \n",
       "223       1.0  1827.184204  1826.634033    5.8     DEF           1   1.0   \n",
       "70        0.0  1665.276123  1851.721558    5.5     FWD          15   7.9   \n",
       "179       0.0  1946.847900  1751.608521    6.7     MID          10   7.5   \n",
       "96        0.0  1946.847900  1751.608521    8.1     FWD           7   7.2   \n",
       "38        0.0  1876.322510  1801.513550    6.9     FWD           1   1.0   \n",
       "195       0.0  1876.322510  1801.513550    5.4     MID           1   2.0   \n",
       "111       1.0  2060.531738  1722.042847    7.2     MID           7   4.5   \n",
       "161       0.0  1946.847900  1751.608521    6.7     MID           1   1.0   \n",
       "132       0.0  1876.322510  1801.513550    4.7     MID           2   2.0   \n",
       "257       0.0  1925.248047  1694.963013    7.3     DEF           9   6.3   \n",
       "208       0.0  1876.322510  1801.513550    5.4      GK           2   2.0   \n",
       "218       1.0  1851.721558  1665.276123    4.8     DEF           1   2.9   \n",
       "262       0.0  1925.248047  1694.963013    6.5     DEF           2   2.0   \n",
       "168       1.0  1751.608521  1946.847900    4.9      GK           2   2.0   \n",
       "\n",
       "         Pred  \n",
       "83   7.424335  \n",
       "197  6.588426  \n",
       "152  5.888141  \n",
       "180  5.501109  \n",
       "110  5.227188  \n",
       "211  5.208167  \n",
       "243  5.007136  \n",
       "260  4.842957  \n",
       "80   4.774498  \n",
       "124  4.766228  \n",
       "8    4.757638  \n",
       "37   4.743702  \n",
       "244  4.683370  \n",
       "34   4.682514  \n",
       "156  4.669749  \n",
       "104  4.646419  \n",
       "223  4.480301  \n",
       "70   4.467300  \n",
       "179  4.373397  \n",
       "96   4.365184  \n",
       "38   4.322402  \n",
       "195  4.247279  \n",
       "111  4.192573  \n",
       "161  4.190948  \n",
       "132  4.163100  \n",
       "257  4.148147  \n",
       "208  4.120040  \n",
       "218  4.116631  \n",
       "262  4.110783  \n",
       "168  4.086312  "
      ]
     },
     "execution_count": 60,
     "metadata": {},
     "output_type": "execute_result"
    }
   ],
   "source": [
    "preds.head(30)"
   ]
  },
  {
   "cell_type": "code",
   "execution_count": 61,
   "id": "3fe1c712-ea38-4a91-9717-d4f520ffcb82",
   "metadata": {},
   "outputs": [],
   "source": [
    "# preds[preds[\"Team\"] == \"Manchester City\"].head(20)"
   ]
  },
  {
   "cell_type": "markdown",
   "id": "14ee9f8b-6918-4e6b-805d-f19abde9c3a4",
   "metadata": {},
   "source": [
    "# Predictions - all remaining gameweeks"
   ]
  },
  {
   "cell_type": "code",
   "execution_count": 62,
   "id": "ecf030c0-6e9c-40b0-81e4-9cc03ef695bc",
   "metadata": {},
   "outputs": [
    {
     "data": {
      "text/html": [
       "<div>\n",
       "<style scoped>\n",
       "    .dataframe tbody tr th:only-of-type {\n",
       "        vertical-align: middle;\n",
       "    }\n",
       "\n",
       "    .dataframe tbody tr th {\n",
       "        vertical-align: top;\n",
       "    }\n",
       "\n",
       "    .dataframe thead th {\n",
       "        text-align: right;\n",
       "    }\n",
       "</style>\n",
       "<table border=\"1\" class=\"dataframe\">\n",
       "  <thead>\n",
       "    <tr style=\"text-align: right;\">\n",
       "      <th></th>\n",
       "      <th>Name_original</th>\n",
       "      <th>GW</th>\n",
       "      <th>Season</th>\n",
       "      <th>Team</th>\n",
       "      <th>Opponent</th>\n",
       "      <th>Was_home</th>\n",
       "      <th>Team_rating</th>\n",
       "      <th>Opp_rating</th>\n",
       "      <th>Price</th>\n",
       "      <th>FPL_pos</th>\n",
       "      <th>FPL_points</th>\n",
       "      <th>xP</th>\n",
       "      <th>Pred</th>\n",
       "    </tr>\n",
       "  </thead>\n",
       "  <tbody>\n",
       "    <tr>\n",
       "      <th>690</th>\n",
       "      <td>Erling Haaland</td>\n",
       "      <td>35</td>\n",
       "      <td>2022-23</td>\n",
       "      <td>Manchester City</td>\n",
       "      <td>Leeds United</td>\n",
       "      <td>1.0</td>\n",
       "      <td>2069.102051</td>\n",
       "      <td>1662.209717</td>\n",
       "      <td>12.4</td>\n",
       "      <td>FWD</td>\n",
       "      <td>2</td>\n",
       "      <td>6.0</td>\n",
       "      <td>8.496247</td>\n",
       "    </tr>\n",
       "    <tr>\n",
       "      <th>689</th>\n",
       "      <td>Erling Haaland</td>\n",
       "      <td>34</td>\n",
       "      <td>2022-23</td>\n",
       "      <td>Manchester City</td>\n",
       "      <td>Fulham</td>\n",
       "      <td>0.0</td>\n",
       "      <td>2064.563232</td>\n",
       "      <td>1717.714233</td>\n",
       "      <td>12.4</td>\n",
       "      <td>FWD</td>\n",
       "      <td>8</td>\n",
       "      <td>9.0</td>\n",
       "      <td>8.023803</td>\n",
       "    </tr>\n",
       "    <tr>\n",
       "      <th>1589</th>\n",
       "      <td>Mohamed Salah</td>\n",
       "      <td>37</td>\n",
       "      <td>2022-23</td>\n",
       "      <td>Liverpool</td>\n",
       "      <td>Aston Villa</td>\n",
       "      <td>1.0</td>\n",
       "      <td>1955.095703</td>\n",
       "      <td>1812.286499</td>\n",
       "      <td>13.1</td>\n",
       "      <td>MID</td>\n",
       "      <td>5</td>\n",
       "      <td>3.7</td>\n",
       "      <td>7.942524</td>\n",
       "    </tr>\n",
       "    <tr>\n",
       "      <th>691</th>\n",
       "      <td>Erling Haaland</td>\n",
       "      <td>36</td>\n",
       "      <td>2022-23</td>\n",
       "      <td>Manchester City</td>\n",
       "      <td>Everton</td>\n",
       "      <td>0.0</td>\n",
       "      <td>2071.091064</td>\n",
       "      <td>1694.975464</td>\n",
       "      <td>12.4</td>\n",
       "      <td>FWD</td>\n",
       "      <td>7</td>\n",
       "      <td>4.6</td>\n",
       "      <td>7.829776</td>\n",
       "    </tr>\n",
       "    <tr>\n",
       "      <th>692</th>\n",
       "      <td>Erling Haaland</td>\n",
       "      <td>37</td>\n",
       "      <td>2022-23</td>\n",
       "      <td>Manchester City</td>\n",
       "      <td>Chelsea</td>\n",
       "      <td>1.0</td>\n",
       "      <td>2087.472656</td>\n",
       "      <td>1794.311890</td>\n",
       "      <td>12.4</td>\n",
       "      <td>FWD</td>\n",
       "      <td>1</td>\n",
       "      <td>1.4</td>\n",
       "      <td>7.605420</td>\n",
       "    </tr>\n",
       "    <tr>\n",
       "      <th>1590</th>\n",
       "      <td>Mohamed Salah</td>\n",
       "      <td>38</td>\n",
       "      <td>2022-23</td>\n",
       "      <td>Liverpool</td>\n",
       "      <td>Southampton</td>\n",
       "      <td>0.0</td>\n",
       "      <td>1950.095459</td>\n",
       "      <td>1616.916626</td>\n",
       "      <td>13.1</td>\n",
       "      <td>MID</td>\n",
       "      <td>5</td>\n",
       "      <td>8.6</td>\n",
       "      <td>7.599337</td>\n",
       "    </tr>\n",
       "    <tr>\n",
       "      <th>688</th>\n",
       "      <td>Erling Haaland</td>\n",
       "      <td>33</td>\n",
       "      <td>2022-23</td>\n",
       "      <td>Manchester City</td>\n",
       "      <td>Arsenal</td>\n",
       "      <td>1.0</td>\n",
       "      <td>2057.953369</td>\n",
       "      <td>1928.582397</td>\n",
       "      <td>12.3</td>\n",
       "      <td>FWD</td>\n",
       "      <td>14</td>\n",
       "      <td>11.6</td>\n",
       "      <td>7.561245</td>\n",
       "    </tr>\n",
       "    <tr>\n",
       "      <th>687</th>\n",
       "      <td>Erling Haaland</td>\n",
       "      <td>31</td>\n",
       "      <td>2022-23</td>\n",
       "      <td>Manchester City</td>\n",
       "      <td>Leicester City</td>\n",
       "      <td>1.0</td>\n",
       "      <td>2060.531738</td>\n",
       "      <td>1722.042847</td>\n",
       "      <td>12.2</td>\n",
       "      <td>FWD</td>\n",
       "      <td>12</td>\n",
       "      <td>9.8</td>\n",
       "      <td>7.424335</td>\n",
       "    </tr>\n",
       "    <tr>\n",
       "      <th>1588</th>\n",
       "      <td>Mohamed Salah</td>\n",
       "      <td>36</td>\n",
       "      <td>2022-23</td>\n",
       "      <td>Liverpool</td>\n",
       "      <td>Leicester City</td>\n",
       "      <td>0.0</td>\n",
       "      <td>1944.225098</td>\n",
       "      <td>1709.140381</td>\n",
       "      <td>13.1</td>\n",
       "      <td>MID</td>\n",
       "      <td>12</td>\n",
       "      <td>10.2</td>\n",
       "      <td>7.133150</td>\n",
       "    </tr>\n",
       "    <tr>\n",
       "      <th>1584</th>\n",
       "      <td>Mohamed Salah</td>\n",
       "      <td>32</td>\n",
       "      <td>2022-23</td>\n",
       "      <td>Liverpool</td>\n",
       "      <td>Nott'ham Forest</td>\n",
       "      <td>1.0</td>\n",
       "      <td>1926.870483</td>\n",
       "      <td>1623.869141</td>\n",
       "      <td>12.9</td>\n",
       "      <td>MID</td>\n",
       "      <td>7</td>\n",
       "      <td>4.3</td>\n",
       "      <td>7.068867</td>\n",
       "    </tr>\n",
       "    <tr>\n",
       "      <th>1586</th>\n",
       "      <td>Mohamed Salah</td>\n",
       "      <td>34</td>\n",
       "      <td>2022-23</td>\n",
       "      <td>Liverpool</td>\n",
       "      <td>Tottenham</td>\n",
       "      <td>1.0</td>\n",
       "      <td>1933.697876</td>\n",
       "      <td>1817.128296</td>\n",
       "      <td>13.0</td>\n",
       "      <td>MID</td>\n",
       "      <td>7</td>\n",
       "      <td>6.5</td>\n",
       "      <td>7.023610</td>\n",
       "    </tr>\n",
       "    <tr>\n",
       "      <th>1587</th>\n",
       "      <td>Mohamed Salah</td>\n",
       "      <td>35</td>\n",
       "      <td>2022-23</td>\n",
       "      <td>Liverpool</td>\n",
       "      <td>Brentford</td>\n",
       "      <td>1.0</td>\n",
       "      <td>1940.118652</td>\n",
       "      <td>1782.053101</td>\n",
       "      <td>13.0</td>\n",
       "      <td>MID</td>\n",
       "      <td>10</td>\n",
       "      <td>10.6</td>\n",
       "      <td>6.913903</td>\n",
       "    </tr>\n",
       "    <tr>\n",
       "      <th>1224</th>\n",
       "      <td>Kevin De Bruyne</td>\n",
       "      <td>35</td>\n",
       "      <td>2022-23</td>\n",
       "      <td>Manchester City</td>\n",
       "      <td>Leeds United</td>\n",
       "      <td>1.0</td>\n",
       "      <td>2069.102051</td>\n",
       "      <td>1662.209717</td>\n",
       "      <td>12.2</td>\n",
       "      <td>MID</td>\n",
       "      <td>3</td>\n",
       "      <td>4.7</td>\n",
       "      <td>6.770652</td>\n",
       "    </tr>\n",
       "    <tr>\n",
       "      <th>694</th>\n",
       "      <td>Erling Haaland</td>\n",
       "      <td>38</td>\n",
       "      <td>2022-23</td>\n",
       "      <td>Manchester City</td>\n",
       "      <td>Brentford</td>\n",
       "      <td>0.0</td>\n",
       "      <td>2083.640137</td>\n",
       "      <td>1807.119507</td>\n",
       "      <td>12.4</td>\n",
       "      <td>FWD</td>\n",
       "      <td>0</td>\n",
       "      <td>0.0</td>\n",
       "      <td>6.690789</td>\n",
       "    </tr>\n",
       "    <tr>\n",
       "      <th>693</th>\n",
       "      <td>Erling Haaland</td>\n",
       "      <td>32</td>\n",
       "      <td>2022-23</td>\n",
       "      <td>Manchester City</td>\n",
       "      <td>Brighton</td>\n",
       "      <td>0.0</td>\n",
       "      <td>2089.150391</td>\n",
       "      <td>1826.267822</td>\n",
       "      <td>12.4</td>\n",
       "      <td>FWD</td>\n",
       "      <td>5</td>\n",
       "      <td>7.6</td>\n",
       "      <td>6.675389</td>\n",
       "    </tr>\n",
       "  </tbody>\n",
       "</table>\n",
       "</div>"
      ],
      "text/plain": [
       "        Name_original  GW   Season             Team         Opponent  \\\n",
       "690    Erling Haaland  35  2022-23  Manchester City     Leeds United   \n",
       "689    Erling Haaland  34  2022-23  Manchester City           Fulham   \n",
       "1589    Mohamed Salah  37  2022-23        Liverpool      Aston Villa   \n",
       "691    Erling Haaland  36  2022-23  Manchester City          Everton   \n",
       "692    Erling Haaland  37  2022-23  Manchester City          Chelsea   \n",
       "1590    Mohamed Salah  38  2022-23        Liverpool      Southampton   \n",
       "688    Erling Haaland  33  2022-23  Manchester City          Arsenal   \n",
       "687    Erling Haaland  31  2022-23  Manchester City   Leicester City   \n",
       "1588    Mohamed Salah  36  2022-23        Liverpool   Leicester City   \n",
       "1584    Mohamed Salah  32  2022-23        Liverpool  Nott'ham Forest   \n",
       "1586    Mohamed Salah  34  2022-23        Liverpool        Tottenham   \n",
       "1587    Mohamed Salah  35  2022-23        Liverpool        Brentford   \n",
       "1224  Kevin De Bruyne  35  2022-23  Manchester City     Leeds United   \n",
       "694    Erling Haaland  38  2022-23  Manchester City        Brentford   \n",
       "693    Erling Haaland  32  2022-23  Manchester City         Brighton   \n",
       "\n",
       "      Was_home  Team_rating   Opp_rating  Price FPL_pos  FPL_points    xP  \\\n",
       "690        1.0  2069.102051  1662.209717   12.4     FWD           2   6.0   \n",
       "689        0.0  2064.563232  1717.714233   12.4     FWD           8   9.0   \n",
       "1589       1.0  1955.095703  1812.286499   13.1     MID           5   3.7   \n",
       "691        0.0  2071.091064  1694.975464   12.4     FWD           7   4.6   \n",
       "692        1.0  2087.472656  1794.311890   12.4     FWD           1   1.4   \n",
       "1590       0.0  1950.095459  1616.916626   13.1     MID           5   8.6   \n",
       "688        1.0  2057.953369  1928.582397   12.3     FWD          14  11.6   \n",
       "687        1.0  2060.531738  1722.042847   12.2     FWD          12   9.8   \n",
       "1588       0.0  1944.225098  1709.140381   13.1     MID          12  10.2   \n",
       "1584       1.0  1926.870483  1623.869141   12.9     MID           7   4.3   \n",
       "1586       1.0  1933.697876  1817.128296   13.0     MID           7   6.5   \n",
       "1587       1.0  1940.118652  1782.053101   13.0     MID          10  10.6   \n",
       "1224       1.0  2069.102051  1662.209717   12.2     MID           3   4.7   \n",
       "694        0.0  2083.640137  1807.119507   12.4     FWD           0   0.0   \n",
       "693        0.0  2089.150391  1826.267822   12.4     FWD           5   7.6   \n",
       "\n",
       "          Pred  \n",
       "690   8.496247  \n",
       "689   8.023803  \n",
       "1589  7.942524  \n",
       "691   7.829776  \n",
       "692   7.605420  \n",
       "1590  7.599337  \n",
       "688   7.561245  \n",
       "687   7.424335  \n",
       "1588  7.133150  \n",
       "1584  7.068867  \n",
       "1586  7.023610  \n",
       "1587  6.913903  \n",
       "1224  6.770652  \n",
       "694   6.690789  \n",
       "693   6.675389  "
      ]
     },
     "execution_count": 62,
     "metadata": {},
     "output_type": "execute_result"
    }
   ],
   "source": [
    "preds_all_gameweeks.head(15)"
   ]
  },
  {
   "cell_type": "code",
   "execution_count": 63,
   "id": "e825ea86-5b53-496a-8d51-89e1ec9539b3",
   "metadata": {},
   "outputs": [],
   "source": [
    "# preds_all_gameweeks[preds_all_gameweeks[\"Name_original\"] == \"Mohamed Salah\"].sort_values(by=[\"GW\"])"
   ]
  },
  {
   "cell_type": "code",
   "execution_count": 64,
   "id": "8fe13281-ce00-4e7a-b726-82a44b55dea7",
   "metadata": {},
   "outputs": [],
   "source": [
    "# preds_all_gameweeks[preds_all_gameweeks[\"Name_original\"] == \"Erling Haaland\"].sort_values(by=[\"GW\"])"
   ]
  },
  {
   "cell_type": "markdown",
   "id": "e58b989a-0632-49d7-b3af-418ce8d6a3b5",
   "metadata": {},
   "source": [
    "# Saving to file"
   ]
  },
  {
   "cell_type": "code",
   "execution_count": 65,
   "id": "8383d841-c3c5-4466-b896-447c645d5d6a",
   "metadata": {},
   "outputs": [],
   "source": [
    "preds_all_gameweeks.to_csv(\"predictions/all_predictions.csv\", index=False)"
   ]
  },
  {
   "cell_type": "code",
   "execution_count": 66,
   "id": "fd95c3e5-c311-4740-a54e-efaa267fbefd",
   "metadata": {},
   "outputs": [],
   "source": [
    "# pickle.dump(model, open(\"models/GBR.pkl\", 'wb'))"
   ]
  },
  {
   "cell_type": "markdown",
   "id": "55ff2e04-b92d-4873-8011-a873dcf2019d",
   "metadata": {},
   "source": [
    "# Future preds"
   ]
  },
  {
   "cell_type": "code",
   "execution_count": 67,
   "id": "92d93e28-badc-4658-9fa7-d83d5a501dce",
   "metadata": {},
   "outputs": [
    {
     "name": "stderr",
     "output_type": "stream",
     "text": [
      "Columns (2,3,6,36,43,44,45,59,84,86,147,208) have mixed types.Specify dtype option on import or set low_memory=False.\n"
     ]
    }
   ],
   "source": [
    "df_upcoming = pd.read_csv(\"data/upcoming/upcoming_fixtures.csv\")"
   ]
  },
  {
   "cell_type": "code",
   "execution_count": 68,
   "id": "e71109ea-cca2-41fe-9411-21bca51a6130",
   "metadata": {},
   "outputs": [
    {
     "data": {
      "text/plain": [
       "(37191, 278)"
      ]
     },
     "execution_count": 68,
     "metadata": {},
     "output_type": "execute_result"
    }
   ],
   "source": [
    "df_upcoming.shape"
   ]
  },
  {
   "cell_type": "code",
   "execution_count": 69,
   "id": "dfec2d3a-315a-4a64-b474-37c495a4c13c",
   "metadata": {},
   "outputs": [],
   "source": [
    "df_upcoming = add_linear_fixtures(df_upcoming)"
   ]
  },
  {
   "cell_type": "code",
   "execution_count": 70,
   "id": "0b9a657f-99c8-44ea-b169-ab3ed6945a4e",
   "metadata": {},
   "outputs": [
    {
     "data": {
      "text/plain": [
       "(37191, 284)"
      ]
     },
     "execution_count": 70,
     "metadata": {},
     "output_type": "execute_result"
    }
   ],
   "source": [
    "df_upcoming.shape"
   ]
  },
  {
   "cell_type": "code",
   "execution_count": 71,
   "id": "f5d2dbd3-0455-4e16-be57-d52436491c8e",
   "metadata": {},
   "outputs": [],
   "source": [
    "def adjust_goalkeepers(df, df_upcoming):\n",
    "    treshold = 30\n",
    "    gk_last_season = pd.read_csv('data/misc/gk_last_season.csv')\n",
    "    for gk in df_upcoming[df_upcoming[\"FPL_pos\"] == \"GK\"][\"Name_original\"].unique():\n",
    "        gk_games = df[df[\"Name_original\"] == gk].shape[0]\n",
    "        if gk_games < treshold:\n",
    "            current_avg = df_upcoming[df_upcoming[\"Name_original\"] == gk].tail(1)[\"Avg_FPL_points\"].item()\n",
    "            gk_team = df_upcoming[df_upcoming[\"Name_original\"] == gk].tail(1)[\"Team\"].item()\n",
    "            if gk_last_season[gk_last_season[\"team\"] == current_teams_to_fpl(gk_team)].shape[0] > 0:\n",
    "                last_season_avg = gk_last_season[gk_last_season[\"team\"] == current_teams_to_fpl(gk_team)][\"total_points\"].item()\n",
    "            else:\n",
    "                last_season_avg = 3.2 # default for newly-promoted teams\n",
    "            df_upcoming.loc[df_upcoming[\"Name_original\"] == gk, \"Avg_FPL_points\"] = ( current_avg * gk_games + last_season_avg * (30 - gk_games) ) / 30\n",
    "            # print(gk, gk_games, gk_team, current_avg, last_season_avg, current_avg * gk_games)\n",
    "    return df_upcoming"
   ]
  },
  {
   "cell_type": "code",
   "execution_count": 72,
   "id": "fb0feda7-91ad-42cb-8775-a541bdc81ddf",
   "metadata": {},
   "outputs": [],
   "source": [
    "df_upcoming = adjust_goalkeepers(df, df_upcoming)"
   ]
  },
  {
   "cell_type": "code",
   "execution_count": 73,
   "id": "3ff424f3-0c11-4bfc-a5a8-1477a2ab7da4",
   "metadata": {},
   "outputs": [],
   "source": [
    "# df_upcoming[df_upcoming[\"FPL_pos\"] == \"GK\"].groupby([\"Name_original\"]).tail(1)[features + [\"Name_original\"]]"
   ]
  },
  {
   "cell_type": "code",
   "execution_count": 74,
   "id": "f221cba5-cb4b-46f2-bfb4-6bc395cd8a6f",
   "metadata": {},
   "outputs": [
    {
     "ename": "KeyError",
     "evalue": "\"['xG_team_10'] not in index\"",
     "output_type": "error",
     "traceback": [
      "\u001b[1;31m---------------------------------------------------------------------------\u001b[0m",
      "\u001b[1;31mKeyError\u001b[0m                                  Traceback (most recent call last)",
      "Input \u001b[1;32mIn [74]\u001b[0m, in \u001b[0;36m<cell line: 1>\u001b[1;34m()\u001b[0m\n\u001b[1;32m----> 1\u001b[0m df_upcoming \u001b[38;5;241m=\u001b[39m df_upcoming[\u001b[38;5;241m~\u001b[39m\u001b[43mdf_upcoming\u001b[49m\u001b[43m[\u001b[49m\u001b[43mfeatures\u001b[49m\u001b[43m]\u001b[49m\u001b[38;5;241m.\u001b[39misnull()\u001b[38;5;241m.\u001b[39many(axis\u001b[38;5;241m=\u001b[39m\u001b[38;5;241m1\u001b[39m)]\n",
      "File \u001b[1;32mC:\\users\\user\\appdata\\local\\programs\\python\\python38\\lib\\site-packages\\pandas\\core\\frame.py:3461\u001b[0m, in \u001b[0;36mDataFrame.__getitem__\u001b[1;34m(self, key)\u001b[0m\n\u001b[0;32m   3459\u001b[0m     \u001b[38;5;28;01mif\u001b[39;00m is_iterator(key):\n\u001b[0;32m   3460\u001b[0m         key \u001b[38;5;241m=\u001b[39m \u001b[38;5;28mlist\u001b[39m(key)\n\u001b[1;32m-> 3461\u001b[0m     indexer \u001b[38;5;241m=\u001b[39m \u001b[38;5;28;43mself\u001b[39;49m\u001b[38;5;241;43m.\u001b[39;49m\u001b[43mloc\u001b[49m\u001b[38;5;241;43m.\u001b[39;49m\u001b[43m_get_listlike_indexer\u001b[49m\u001b[43m(\u001b[49m\u001b[43mkey\u001b[49m\u001b[43m,\u001b[49m\u001b[43m \u001b[49m\u001b[43maxis\u001b[49m\u001b[38;5;241;43m=\u001b[39;49m\u001b[38;5;241;43m1\u001b[39;49m\u001b[43m)\u001b[49m[\u001b[38;5;241m1\u001b[39m]\n\u001b[0;32m   3463\u001b[0m \u001b[38;5;66;03m# take() does not accept boolean indexers\u001b[39;00m\n\u001b[0;32m   3464\u001b[0m \u001b[38;5;28;01mif\u001b[39;00m \u001b[38;5;28mgetattr\u001b[39m(indexer, \u001b[38;5;124m\"\u001b[39m\u001b[38;5;124mdtype\u001b[39m\u001b[38;5;124m\"\u001b[39m, \u001b[38;5;28;01mNone\u001b[39;00m) \u001b[38;5;241m==\u001b[39m \u001b[38;5;28mbool\u001b[39m:\n",
      "File \u001b[1;32mC:\\users\\user\\appdata\\local\\programs\\python\\python38\\lib\\site-packages\\pandas\\core\\indexing.py:1314\u001b[0m, in \u001b[0;36m_LocIndexer._get_listlike_indexer\u001b[1;34m(self, key, axis)\u001b[0m\n\u001b[0;32m   1311\u001b[0m \u001b[38;5;28;01melse\u001b[39;00m:\n\u001b[0;32m   1312\u001b[0m     keyarr, indexer, new_indexer \u001b[38;5;241m=\u001b[39m ax\u001b[38;5;241m.\u001b[39m_reindex_non_unique(keyarr)\n\u001b[1;32m-> 1314\u001b[0m \u001b[38;5;28;43mself\u001b[39;49m\u001b[38;5;241;43m.\u001b[39;49m\u001b[43m_validate_read_indexer\u001b[49m\u001b[43m(\u001b[49m\u001b[43mkeyarr\u001b[49m\u001b[43m,\u001b[49m\u001b[43m \u001b[49m\u001b[43mindexer\u001b[49m\u001b[43m,\u001b[49m\u001b[43m \u001b[49m\u001b[43maxis\u001b[49m\u001b[43m)\u001b[49m\n\u001b[0;32m   1316\u001b[0m \u001b[38;5;28;01mif\u001b[39;00m needs_i8_conversion(ax\u001b[38;5;241m.\u001b[39mdtype) \u001b[38;5;129;01mor\u001b[39;00m \u001b[38;5;28misinstance\u001b[39m(\n\u001b[0;32m   1317\u001b[0m     ax, (IntervalIndex, CategoricalIndex)\n\u001b[0;32m   1318\u001b[0m ):\n\u001b[0;32m   1319\u001b[0m     \u001b[38;5;66;03m# For CategoricalIndex take instead of reindex to preserve dtype.\u001b[39;00m\n\u001b[0;32m   1320\u001b[0m     \u001b[38;5;66;03m#  For IntervalIndex this is to map integers to the Intervals they match to.\u001b[39;00m\n\u001b[0;32m   1321\u001b[0m     keyarr \u001b[38;5;241m=\u001b[39m ax\u001b[38;5;241m.\u001b[39mtake(indexer)\n",
      "File \u001b[1;32mC:\\users\\user\\appdata\\local\\programs\\python\\python38\\lib\\site-packages\\pandas\\core\\indexing.py:1377\u001b[0m, in \u001b[0;36m_LocIndexer._validate_read_indexer\u001b[1;34m(self, key, indexer, axis)\u001b[0m\n\u001b[0;32m   1374\u001b[0m     \u001b[38;5;28;01mraise\u001b[39;00m \u001b[38;5;167;01mKeyError\u001b[39;00m(\u001b[38;5;124mf\u001b[39m\u001b[38;5;124m\"\u001b[39m\u001b[38;5;124mNone of [\u001b[39m\u001b[38;5;132;01m{\u001b[39;00mkey\u001b[38;5;132;01m}\u001b[39;00m\u001b[38;5;124m] are in the [\u001b[39m\u001b[38;5;132;01m{\u001b[39;00maxis_name\u001b[38;5;132;01m}\u001b[39;00m\u001b[38;5;124m]\u001b[39m\u001b[38;5;124m\"\u001b[39m)\n\u001b[0;32m   1376\u001b[0m not_found \u001b[38;5;241m=\u001b[39m \u001b[38;5;28mlist\u001b[39m(ensure_index(key)[missing_mask\u001b[38;5;241m.\u001b[39mnonzero()[\u001b[38;5;241m0\u001b[39m]]\u001b[38;5;241m.\u001b[39munique())\n\u001b[1;32m-> 1377\u001b[0m \u001b[38;5;28;01mraise\u001b[39;00m \u001b[38;5;167;01mKeyError\u001b[39;00m(\u001b[38;5;124mf\u001b[39m\u001b[38;5;124m\"\u001b[39m\u001b[38;5;132;01m{\u001b[39;00mnot_found\u001b[38;5;132;01m}\u001b[39;00m\u001b[38;5;124m not in index\u001b[39m\u001b[38;5;124m\"\u001b[39m)\n",
      "\u001b[1;31mKeyError\u001b[0m: \"['xG_team_10'] not in index\""
     ]
    }
   ],
   "source": [
    "df_upcoming = df_upcoming[~df_upcoming[features].isnull().any(axis=1)] # for some reason 45 rows are missing some feature values"
   ]
  },
  {
   "cell_type": "code",
   "execution_count": null,
   "id": "308238f8-629e-4a1c-b5a4-490cdd084ac9",
   "metadata": {},
   "outputs": [],
   "source": [
    "df_upcoming = df_upcoming[(df_upcoming[\"Season\"] == CURRENT_SEASON) & (df_upcoming[\"GW\"] >= NEXT_GAMEWEEK)].reset_index(drop=True)"
   ]
  },
  {
   "cell_type": "code",
   "execution_count": null,
   "id": "e5a5a548-2354-4142-8ffb-edf66e15f954",
   "metadata": {},
   "outputs": [],
   "source": [
    "df_upcoming"
   ]
  },
  {
   "cell_type": "code",
   "execution_count": null,
   "id": "6511aece-4df6-4e78-81a3-6b6bde0ee683",
   "metadata": {},
   "outputs": [],
   "source": [
    "X_test = df_upcoming"
   ]
  },
  {
   "cell_type": "code",
   "execution_count": null,
   "id": "ebc6f888-3581-418d-8774-10c1189d32d4",
   "metadata": {},
   "outputs": [],
   "source": [
    "def adjust_for_injuries(df):\n",
    "    active_players = pd.read_csv(\"data/misc/active_players.csv\")\n",
    "    injured_players = active_players[active_players[\"chance_of_playing_next_round\"] == 0][\"name\"].to_list()\n",
    "    df.loc[df[\"Name_original\"].isin(injured_players),\"Pred\"] = 0\n",
    "    return df"
   ]
  },
  {
   "cell_type": "code",
   "execution_count": null,
   "id": "4bb6bce0-39f5-42cb-8249-0fcc111cfce6",
   "metadata": {},
   "outputs": [],
   "source": [
    "def adjust_first_choice_goalkeepers(df):\n",
    "    gks = pd.read_csv(\"data/misc/goalkeepers.csv\")\n",
    "    gk_names = gks[\"Name\"].to_list()\n",
    "    gk_names = [name_fbref_to_fpl(neutralize_name(n)) for n in gk_names]\n",
    "    # print(gk_names)\n",
    "    df.loc[(df[\"FPL_pos\"] == \"GK\") & ~(df[\"Name_original\"].apply(neutralize_name).isin(gk_names)), \"Pred\"] = 0\n",
    "    return df"
   ]
  },
  {
   "cell_type": "code",
   "execution_count": null,
   "id": "0773db55-621c-4f0e-b9f5-785664830209",
   "metadata": {},
   "outputs": [],
   "source": [
    "def get_predictions(model, df, X, all_remaining=False):\n",
    "    # make predictions on the test data and glues them to the rest of the dataframe\n",
    "    predictions = model.predict(X)\n",
    "    df_predictions = df[(df[\"Season\"] == CURRENT_SEASON)].reset_index(drop=True)\n",
    "        \n",
    "    df_predictions.loc[:, \"Pred\"] = predictions\n",
    "    preds = df_predictions[info + [\"Pred\"]]\n",
    "    \n",
    "    preds = adjust_first_choice_goalkeepers(preds)\n",
    "    preds = adjust_for_injuries(preds).sort_values(by=[\"Pred\"], ascending = False)\n",
    "    \n",
    "    return preds"
   ]
  },
  {
   "cell_type": "code",
   "execution_count": null,
   "id": "992bd446-f779-4fd6-8e1c-92c8e57ea17c",
   "metadata": {},
   "outputs": [],
   "source": [
    "# df_upcoming[df_upcoming[\"Name_original\"] == \"Erling Haaland\"][[\"Name_original\", \"Was_home\", 'Avg_FPL_points_venue']]"
   ]
  },
  {
   "cell_type": "code",
   "execution_count": null,
   "id": "ac1fef7b-7c18-4e53-b9ff-43154cb52d9f",
   "metadata": {},
   "outputs": [],
   "source": [
    "preds = get_predictions(model, df_upcoming[df_upcoming[\"FPL_pos\"].isin(allowed_pos)], X_test[X_test[\"FPL_pos\"].isin(allowed_pos)])"
   ]
  },
  {
   "cell_type": "code",
   "execution_count": null,
   "id": "3665d06d-5d14-4678-b4ec-e27ee7267881",
   "metadata": {},
   "outputs": [],
   "source": [
    "# X_test[(X_test[\"GW\"] == NEXT_GAMEWEEK) & (X_test[\"FPL_pos\"] == \"GK\")][features + [\"Name_original\"]]"
   ]
  },
  {
   "cell_type": "code",
   "execution_count": null,
   "id": "bfc118f4-1374-40e9-b63c-85da5c33bd08",
   "metadata": {},
   "outputs": [],
   "source": [
    "# next gameweek\n",
    "preds[preds[\"GW\"] == NEXT_GAMEWEEK].head(30)"
   ]
  },
  {
   "cell_type": "code",
   "execution_count": null,
   "id": "53a1e7ad-0623-4239-b796-536fcb91b925",
   "metadata": {},
   "outputs": [],
   "source": [
    "# preds[(preds[\"GW\"] == NEXT_GAMEWEEK) & (preds[\"FPL_pos\"] == \"GK\")].head(21)"
   ]
  },
  {
   "cell_type": "code",
   "execution_count": null,
   "id": "629e028a-4b4d-4bfa-aaf2-9f9d3843710e",
   "metadata": {},
   "outputs": [],
   "source": [
    "n_gameweeks = 5\n",
    "pivot = pd.pivot_table(preds[preds[\"GW\"] < NEXT_GAMEWEEK + n_gameweeks], values='Pred', index=['Name_original', \"FPL_pos\"],\n",
    "                       columns=['GW'], aggfunc=np.sum)\n",
    "pivot['Summary'] = pivot.sum(axis=1)\n",
    "pivot.columns = ['GW' + str(col).split(\".\")[0] for col in pivot.columns[:-1]] + ['Summary']\n",
    "pivot = pivot.sort_values(by=[\"Summary\"], ascending = False)\n",
    "pivot.head(20)"
   ]
  },
  {
   "cell_type": "code",
   "execution_count": null,
   "id": "5dd26206-b9f4-436b-a2b4-ec7e35db327e",
   "metadata": {},
   "outputs": [],
   "source": [
    "pivot[pivot.index.get_level_values('FPL_pos') == 'GK']"
   ]
  },
  {
   "cell_type": "code",
   "execution_count": null,
   "id": "7137379d-0704-49dc-be78-b73a779a2504",
   "metadata": {},
   "outputs": [],
   "source": [
    "# points all season\n",
    "pd.DataFrame(preds.groupby([\"Name_original\"])[\"Pred\"].sum().sort_values(ascending=False)).head(30)"
   ]
  },
  {
   "cell_type": "code",
   "execution_count": null,
   "id": "02e5792b-173a-4822-a14d-f7858cf2ff99",
   "metadata": {},
   "outputs": [],
   "source": [
    "preds.to_csv(\"predictions/preds_next_season.csv\", index=False)"
   ]
  },
  {
   "cell_type": "markdown",
   "id": "3ed6461a-a67a-4068-984b-c17e9a1d8c7b",
   "metadata": {},
   "source": [
    "# Feature importance and influence"
   ]
  },
  {
   "cell_type": "code",
   "execution_count": null,
   "id": "c90e9b27-43c3-4253-830d-53c3532c5197",
   "metadata": {},
   "outputs": [],
   "source": [
    "# explainer = shap.Explainer(model.model_outfield.predict, X_test[2000:3000])\n",
    "# shap_values = explainer(X_test[2000:3000])"
   ]
  },
  {
   "cell_type": "code",
   "execution_count": null,
   "id": "f73757e7-4125-4657-8b78-914b5324a9e9",
   "metadata": {},
   "outputs": [],
   "source": [
    "# shap.plots.bar(shap_values, max_display=15)"
   ]
  },
  {
   "cell_type": "code",
   "execution_count": null,
   "id": "4d1a6591-e086-4156-a51a-3ccfd3489561",
   "metadata": {},
   "outputs": [],
   "source": [
    "# shap.plots.beeswarm(shap_values, max_display=15)"
   ]
  },
  {
   "cell_type": "code",
   "execution_count": null,
   "id": "b1d832a7-6e45-4286-a102-029a56916c45",
   "metadata": {},
   "outputs": [],
   "source": [
    "# # explaining Erling Haaland`s score in gameweek 31\n",
    "# shap.plots.bar(shap_values[69], max_display=15)"
   ]
  },
  {
   "cell_type": "code",
   "execution_count": null,
   "id": "e76c089c-ac6b-4a1d-993a-55ec3c5bfa8a",
   "metadata": {},
   "outputs": [],
   "source": [
    "# shap.plots.waterfall(shap_values[410])"
   ]
  },
  {
   "cell_type": "code",
   "execution_count": null,
   "id": "4d649adf-759a-420c-bc7c-499f2bc2b5a0",
   "metadata": {},
   "outputs": [],
   "source": [
    "# shap.plots.waterfall(shap_values[26])"
   ]
  },
  {
   "cell_type": "code",
   "execution_count": null,
   "id": "a9ea6e8d-712e-4a76-83df-da194ed7d302",
   "metadata": {},
   "outputs": [],
   "source": [
    "# shap.plots.waterfall(shap_values[96])"
   ]
  },
  {
   "cell_type": "code",
   "execution_count": null,
   "id": "7d95bffb-85ba-4e13-87ad-2794003283b2",
   "metadata": {},
   "outputs": [],
   "source": []
  }
 ],
 "metadata": {
  "kernelspec": {
   "display_name": "Python 3 (ipykernel)",
   "language": "python",
   "name": "python3"
  },
  "language_info": {
   "codemirror_mode": {
    "name": "ipython",
    "version": 3
   },
   "file_extension": ".py",
   "mimetype": "text/x-python",
   "name": "python",
   "nbconvert_exporter": "python",
   "pygments_lexer": "ipython3",
   "version": "3.8.0"
  }
 },
 "nbformat": 4,
 "nbformat_minor": 5
}
