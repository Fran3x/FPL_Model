{
 "cells": [
  {
   "cell_type": "markdown",
   "id": "e61cf721-96f7-4f7c-a5c5-343917267d91",
   "metadata": {},
   "source": [
    "\n",
    "# Imports"
   ]
  },
  {
   "cell_type": "code",
   "execution_count": null,
   "id": "c2b67ee7-f81a-4a96-bd38-8149efc725cf",
   "metadata": {},
   "outputs": [],
   "source": [
    "import os\n",
    "os.chdir(\"D:\\PulpitE\\FPL_ML\")"
   ]
  },
  {
   "cell_type": "code",
   "execution_count": null,
   "id": "3f447fc0-41e6-4c50-967e-2cc314a1e81f",
   "metadata": {},
   "outputs": [],
   "source": [
    "import matplotlib.pyplot as plt\n",
    "import pandas as pd\n",
    "import numpy as np\n",
    "import shap\n",
    "import pickle\n",
    "\n",
    "from sklearn.ensemble import GradientBoostingRegressor\n",
    "from xgboost import XGBRegressor\n",
    "from sklearn.ensemble import RandomForestRegressor\n",
    "from sklearn.linear_model import LinearRegression\n",
    "from sklearn.neighbors import KNeighborsRegressor\n",
    "from sklearn import svm\n",
    "\n",
    "from sklearn.metrics import mean_absolute_error, mean_squared_error\n",
    "\n",
    "from sklearn.preprocessing import LabelEncoder\n",
    "\n",
    "from config import *\n",
    "from src.match_names import name_fbref_to_fpl, neutralize_name"
   ]
  },
  {
   "cell_type": "markdown",
   "id": "8872f7cc-f945-4e0d-85e3-9f39ec505ed9",
   "metadata": {},
   "source": [
    "# Loading data\n",
    "Data consists of all PL players logs for 2021-22 and 2022-23 seasons\\\n",
    "A single log is just a summary of player performance in a particular match"
   ]
  },
  {
   "cell_type": "code",
   "execution_count": null,
   "id": "217927df-909e-4a95-9e59-651d57e312db",
   "metadata": {},
   "outputs": [],
   "source": [
    "# loading csv\n",
    "df_original = pd.read_csv('data/previous/FPL_logs.csv')\n",
    "\n",
    "df = df_original.copy()"
   ]
  },
  {
   "cell_type": "code",
   "execution_count": null,
   "id": "60af6f3b-1788-447d-a47e-94df72ca37e4",
   "metadata": {},
   "outputs": [
    {
     "data": {
      "text/plain": [
       "Index(['Date', 'Day', 'Venue', 'Team', 'Opponent', 'Name', 'Start', 'Pos',\n",
       "       'Min', 'Gls',\n",
       "       ...\n",
       "       'xG_team_15', 'xGA_team_15', 'xG_opp_15', 'xGA_opp_15', 'xG_team_30',\n",
       "       'xGA_team_30', 'xG_opp_30', 'xGA_opp_30', 'xG_diff', 'Avg_FPL_points'],\n",
       "      dtype='object', length=114)"
      ]
     },
     "execution_count": 4,
     "metadata": {},
     "output_type": "execute_result"
    }
   ],
   "source": [
    "df_original.columns"
   ]
  },
  {
   "cell_type": "code",
   "execution_count": null,
   "id": "bea7e13d-5911-428a-a55c-6636cc0e10f9",
   "metadata": {},
   "outputs": [
    {
     "data": {
      "text/plain": [
       "533"
      ]
     },
     "execution_count": 5,
     "metadata": {},
     "output_type": "execute_result"
    }
   ],
   "source": [
    "df_original[\"Name\"].unique().size"
   ]
  },
  {
   "cell_type": "code",
   "execution_count": null,
   "id": "5c1b9133-98f1-4547-aa9a-01dac513f0e0",
   "metadata": {},
   "outputs": [
    {
     "data": {
      "text/plain": [
       "(18835, 114)"
      ]
     },
     "execution_count": 6,
     "metadata": {},
     "output_type": "execute_result"
    }
   ],
   "source": [
    "df.shape"
   ]
  },
  {
   "cell_type": "code",
   "execution_count": null,
   "id": "061b7f77-aaa5-4c47-aa57-fcd0a8f1f383",
   "metadata": {},
   "outputs": [
    {
     "data": {
      "text/plain": [
       "array(['2021-22', '2022-23', '2023-24'], dtype=object)"
      ]
     },
     "execution_count": 7,
     "metadata": {},
     "output_type": "execute_result"
    }
   ],
   "source": [
    "df[\"Season\"].unique()"
   ]
  },
  {
   "cell_type": "code",
   "execution_count": null,
   "id": "464f26d7-f383-4606-a3dd-65490459f61a",
   "metadata": {},
   "outputs": [],
   "source": [
    "df = df[~df[\"FPL_pos\"].isin([\"GK\"])]"
   ]
  },
  {
   "cell_type": "code",
   "execution_count": null,
   "id": "a430c403-af6e-4b98-b8cf-fee845752bc2",
   "metadata": {},
   "outputs": [
    {
     "data": {
      "text/plain": [
       "array(['2021-22', '2022-23', '2023-24'], dtype=object)"
      ]
     },
     "execution_count": 9,
     "metadata": {},
     "output_type": "execute_result"
    }
   ],
   "source": [
    "df[\"Season\"].unique()"
   ]
  },
  {
   "cell_type": "code",
   "execution_count": null,
   "id": "deb4a2ed-3f4a-4d30-887c-110fe07088e2",
   "metadata": {},
   "outputs": [],
   "source": [
    "df = df[df[\"Season\"].isin(['2021-22', '2022-23'])]\n",
    "# df = df[df[\"FPL_pos\"].isin(['GK'])]"
   ]
  },
  {
   "cell_type": "code",
   "execution_count": null,
   "id": "a2e133a4-2a62-47f4-b549-3c907a833258",
   "metadata": {},
   "outputs": [],
   "source": [
    "df = df.sort_values(by=[\"Name\", \"Date\"])"
   ]
  },
  {
   "cell_type": "markdown",
   "id": "32eaa7fb-e3cc-4e17-a8b1-cc301aa3a766",
   "metadata": {},
   "source": [
    "# Feature selection\n",
    "Model will use a set of standard features and moving averages for some other feature values. In this case we will use moving averages for last 2, 4 and 30 gameweeks."
   ]
  },
  {
   "cell_type": "code",
   "execution_count": null,
   "id": "29b66688-3e11-4ea5-a9ed-77be552e5e4a",
   "metadata": {},
   "outputs": [],
   "source": [
    "rolling_gameweeks = [2, 4]\n",
    "# rolling_gameweeks = [5]\n",
    "\n",
    "# to_predict = \"FPL_points\"\n",
    "to_predict = \"xP\"\n",
    "standard_features = [\n",
    "             \"Was_home\", # Home/Away\n",
    "             # \"Team_rating\", \"Opp_rating\", \n",
    "             \"Rating_difference\", # Team ratings\n",
    "             # \"Price\", # FPl price\n",
    "             # \"Transfers_balance\",\n",
    "             # \"Transfers_result\"\n",
    "             \"Avg_FPL_points\",\n",
    "             # \"Avg_xP\",\n",
    "             # 'Avg_FPL_points_venue', \n",
    "             # \"Was_home_xP\",\n",
    "             # \"RD_xP\",\n",
    "             # \"Team_xP\",\n",
    "             # \"Opp_xP\"\n",
    "             ]\n",
    "features_to_roll = [\n",
    "                # \"Min\", \n",
    "                # \"Start\", # time played\n",
    "                # 'Gls', \n",
    "                # 'Sh', 'SoT', # Goals\n",
    "                # 'Ast', # Assists\n",
    "                # 'CrdY', 'CrdR', # Cards\n",
    "                # \"xG\", 'xA', # Expected\n",
    "                # 'Team_CS', # Defence\n",
    "                # 'Team_score', 'Opp_score', 'Team_result', # Team form\n",
    "                # \"xGPoints\", \"CSPoints\", # Position-scaled\n",
    "                # \"Cmp%\", \"PrgP\", \"PrgC\", \"T_succ\",\n",
    "                # 'bonus', 'bps', # Bonus\n",
    "                # 'ICT_index', # ICT\n",
    "                # \"FPL_points\", \n",
    "                \"xP\"\n",
    "                # \"Baseline_points\", \"Bonus\" # FPL points\n",
    "            ]\n",
    "info = [\"Name_original\", \"GW\", \"Season\", \"Team\", \"Opponent\", \"Was_home\", \"Team_rating\", \"Opp_rating\", \"FPL_pos\", \"FPL_points\"]"
   ]
  },
  {
   "cell_type": "code",
   "execution_count": null,
   "id": "377cc7d4-049d-4499-8917-fe0fe1833b4a",
   "metadata": {},
   "outputs": [],
   "source": [
    "# df[df[\"Name\"] == \"Erling-Haaland\"]"
   ]
  },
  {
   "cell_type": "markdown",
   "id": "fe7a4ac1-336c-4ea4-ad91-24489c66e789",
   "metadata": {},
   "source": [
    "# Feature engineering"
   ]
  },
  {
   "cell_type": "code",
   "execution_count": null,
   "id": "338fb226-ffc9-4431-b9e2-5e4a1dd5592b",
   "metadata": {},
   "outputs": [],
   "source": [
    "df[\"Rating_difference\"] = df[\"Team_rating\"] / df[\"Opp_rating\"]\n",
    "df[\"Baseline_points\"] = df[\"FPL_points\"] - df[\"Bonus\"]\n",
    "df[\"Transfers_result\"] = df[\"Transfers_balance\"] >= 0"
   ]
  },
  {
   "cell_type": "code",
   "execution_count": null,
   "id": "6d064d23-1db7-4140-aa7a-14f4dbd529b2",
   "metadata": {},
   "outputs": [
    {
     "data": {
      "text/html": [
       "<div>\n",
       "<style scoped>\n",
       "    .dataframe tbody tr th:only-of-type {\n",
       "        vertical-align: middle;\n",
       "    }\n",
       "\n",
       "    .dataframe tbody tr th {\n",
       "        vertical-align: top;\n",
       "    }\n",
       "\n",
       "    .dataframe thead th {\n",
       "        text-align: right;\n",
       "    }\n",
       "</style>\n",
       "<table border=\"1\" class=\"dataframe\">\n",
       "  <thead>\n",
       "    <tr style=\"text-align: right;\">\n",
       "      <th></th>\n",
       "      <th>Date</th>\n",
       "      <th>Day</th>\n",
       "      <th>Venue</th>\n",
       "      <th>Team</th>\n",
       "      <th>Opponent</th>\n",
       "      <th>Name</th>\n",
       "      <th>Start</th>\n",
       "      <th>Pos</th>\n",
       "      <th>Min</th>\n",
       "      <th>Gls</th>\n",
       "      <th>...</th>\n",
       "      <th>xGA_opp_15</th>\n",
       "      <th>xG_team_30</th>\n",
       "      <th>xGA_team_30</th>\n",
       "      <th>xG_opp_30</th>\n",
       "      <th>xGA_opp_30</th>\n",
       "      <th>xG_diff</th>\n",
       "      <th>Avg_FPL_points</th>\n",
       "      <th>Rating_difference</th>\n",
       "      <th>Baseline_points</th>\n",
       "      <th>Transfers_result</th>\n",
       "    </tr>\n",
       "  </thead>\n",
       "  <tbody>\n",
       "    <tr>\n",
       "      <th>0</th>\n",
       "      <td>2021-08-21</td>\n",
       "      <td>Sat</td>\n",
       "      <td>Home</td>\n",
       "      <td>Brighton</td>\n",
       "      <td>Watford</td>\n",
       "      <td>Aaron-Connolly</td>\n",
       "      <td>N</td>\n",
       "      <td>FW</td>\n",
       "      <td>45.0</td>\n",
       "      <td>0.0</td>\n",
       "      <td>...</td>\n",
       "      <td>1.137180</td>\n",
       "      <td>1.685300</td>\n",
       "      <td>1.795480</td>\n",
       "      <td>1.350360</td>\n",
       "      <td>1.137180</td>\n",
       "      <td>1.371736</td>\n",
       "      <td>0.555556</td>\n",
       "      <td>1.027714</td>\n",
       "      <td>1</td>\n",
       "      <td>False</td>\n",
       "    </tr>\n",
       "    <tr>\n",
       "      <th>1</th>\n",
       "      <td>2021-08-28</td>\n",
       "      <td>Sat</td>\n",
       "      <td>Home</td>\n",
       "      <td>Brighton</td>\n",
       "      <td>Everton</td>\n",
       "      <td>Aaron-Connolly</td>\n",
       "      <td>N</td>\n",
       "      <td>0</td>\n",
       "      <td>0.0</td>\n",
       "      <td>0.0</td>\n",
       "      <td>...</td>\n",
       "      <td>0.773347</td>\n",
       "      <td>1.732130</td>\n",
       "      <td>1.101352</td>\n",
       "      <td>2.122880</td>\n",
       "      <td>0.773347</td>\n",
       "      <td>-0.847058</td>\n",
       "      <td>0.555556</td>\n",
       "      <td>0.976952</td>\n",
       "      <td>0</td>\n",
       "      <td>False</td>\n",
       "    </tr>\n",
       "    <tr>\n",
       "      <th>2</th>\n",
       "      <td>2021-09-19</td>\n",
       "      <td>Sun</td>\n",
       "      <td>Home</td>\n",
       "      <td>Brighton</td>\n",
       "      <td>Leicester City</td>\n",
       "      <td>Aaron-Connolly</td>\n",
       "      <td>N</td>\n",
       "      <td>0</td>\n",
       "      <td>0.0</td>\n",
       "      <td>0.0</td>\n",
       "      <td>...</td>\n",
       "      <td>1.951172</td>\n",
       "      <td>1.113446</td>\n",
       "      <td>1.120292</td>\n",
       "      <td>0.842163</td>\n",
       "      <td>1.951172</td>\n",
       "      <td>0.220650</td>\n",
       "      <td>0.555556</td>\n",
       "      <td>0.966814</td>\n",
       "      <td>0</td>\n",
       "      <td>False</td>\n",
       "    </tr>\n",
       "    <tr>\n",
       "      <th>3</th>\n",
       "      <td>2021-09-27</td>\n",
       "      <td>Mon</td>\n",
       "      <td>Away</td>\n",
       "      <td>Brighton</td>\n",
       "      <td>Crystal Palace</td>\n",
       "      <td>Aaron-Connolly</td>\n",
       "      <td>N</td>\n",
       "      <td>LM</td>\n",
       "      <td>15.0</td>\n",
       "      <td>0.0</td>\n",
       "      <td>...</td>\n",
       "      <td>1.238501</td>\n",
       "      <td>1.185633</td>\n",
       "      <td>1.146980</td>\n",
       "      <td>1.228496</td>\n",
       "      <td>1.238501</td>\n",
       "      <td>-0.718794</td>\n",
       "      <td>0.555556</td>\n",
       "      <td>1.021373</td>\n",
       "      <td>1</td>\n",
       "      <td>False</td>\n",
       "    </tr>\n",
       "    <tr>\n",
       "      <th>4</th>\n",
       "      <td>2021-10-02</td>\n",
       "      <td>Sat</td>\n",
       "      <td>Home</td>\n",
       "      <td>Brighton</td>\n",
       "      <td>Arsenal</td>\n",
       "      <td>Aaron-Connolly</td>\n",
       "      <td>N</td>\n",
       "      <td>0</td>\n",
       "      <td>0.0</td>\n",
       "      <td>0.0</td>\n",
       "      <td>...</td>\n",
       "      <td>2.055877</td>\n",
       "      <td>1.096288</td>\n",
       "      <td>1.183877</td>\n",
       "      <td>1.166696</td>\n",
       "      <td>2.055877</td>\n",
       "      <td>0.751200</td>\n",
       "      <td>0.555556</td>\n",
       "      <td>0.943023</td>\n",
       "      <td>0</td>\n",
       "      <td>False</td>\n",
       "    </tr>\n",
       "    <tr>\n",
       "      <th>...</th>\n",
       "      <td>...</td>\n",
       "      <td>...</td>\n",
       "      <td>...</td>\n",
       "      <td>...</td>\n",
       "      <td>...</td>\n",
       "      <td>...</td>\n",
       "      <td>...</td>\n",
       "      <td>...</td>\n",
       "      <td>...</td>\n",
       "      <td>...</td>\n",
       "      <td>...</td>\n",
       "      <td>...</td>\n",
       "      <td>...</td>\n",
       "      <td>...</td>\n",
       "      <td>...</td>\n",
       "      <td>...</td>\n",
       "      <td>...</td>\n",
       "      <td>...</td>\n",
       "      <td>...</td>\n",
       "      <td>...</td>\n",
       "      <td>...</td>\n",
       "    </tr>\n",
       "    <tr>\n",
       "      <th>18795</th>\n",
       "      <td>2023-02-05</td>\n",
       "      <td>Sun</td>\n",
       "      <td>Home</td>\n",
       "      <td>Tottenham</td>\n",
       "      <td>Manchester City</td>\n",
       "      <td>Yves-Bissouma</td>\n",
       "      <td>N</td>\n",
       "      <td>CM,AM</td>\n",
       "      <td>7.0</td>\n",
       "      <td>0.0</td>\n",
       "      <td>...</td>\n",
       "      <td>0.970013</td>\n",
       "      <td>1.701372</td>\n",
       "      <td>1.150080</td>\n",
       "      <td>2.384711</td>\n",
       "      <td>0.801035</td>\n",
       "      <td>0.647933</td>\n",
       "      <td>1.724138</td>\n",
       "      <td>0.917337</td>\n",
       "      <td>1</td>\n",
       "      <td>False</td>\n",
       "    </tr>\n",
       "    <tr>\n",
       "      <th>18796</th>\n",
       "      <td>2023-05-06</td>\n",
       "      <td>Sat</td>\n",
       "      <td>Home</td>\n",
       "      <td>Tottenham</td>\n",
       "      <td>Crystal Palace</td>\n",
       "      <td>Yves-Bissouma</td>\n",
       "      <td>N</td>\n",
       "      <td>0</td>\n",
       "      <td>0.0</td>\n",
       "      <td>0.0</td>\n",
       "      <td>...</td>\n",
       "      <td>1.251435</td>\n",
       "      <td>1.490906</td>\n",
       "      <td>1.449858</td>\n",
       "      <td>1.014812</td>\n",
       "      <td>1.365162</td>\n",
       "      <td>0.849981</td>\n",
       "      <td>1.724138</td>\n",
       "      <td>1.036489</td>\n",
       "      <td>0</td>\n",
       "      <td>False</td>\n",
       "    </tr>\n",
       "    <tr>\n",
       "      <th>18797</th>\n",
       "      <td>2023-05-13</td>\n",
       "      <td>Sat</td>\n",
       "      <td>Away</td>\n",
       "      <td>Tottenham</td>\n",
       "      <td>Aston Villa</td>\n",
       "      <td>Yves-Bissouma</td>\n",
       "      <td>N</td>\n",
       "      <td>CM</td>\n",
       "      <td>30.0</td>\n",
       "      <td>0.0</td>\n",
       "      <td>...</td>\n",
       "      <td>1.416024</td>\n",
       "      <td>1.505351</td>\n",
       "      <td>1.409325</td>\n",
       "      <td>1.320205</td>\n",
       "      <td>1.420391</td>\n",
       "      <td>-0.614820</td>\n",
       "      <td>1.724138</td>\n",
       "      <td>1.010390</td>\n",
       "      <td>1</td>\n",
       "      <td>False</td>\n",
       "    </tr>\n",
       "    <tr>\n",
       "      <th>18798</th>\n",
       "      <td>2023-05-20</td>\n",
       "      <td>Sat</td>\n",
       "      <td>Home</td>\n",
       "      <td>Tottenham</td>\n",
       "      <td>Brentford</td>\n",
       "      <td>Yves-Bissouma</td>\n",
       "      <td>Y</td>\n",
       "      <td>CM</td>\n",
       "      <td>90.0</td>\n",
       "      <td>0.0</td>\n",
       "      <td>...</td>\n",
       "      <td>1.373317</td>\n",
       "      <td>1.455579</td>\n",
       "      <td>1.456602</td>\n",
       "      <td>1.535725</td>\n",
       "      <td>1.339027</td>\n",
       "      <td>0.463230</td>\n",
       "      <td>1.724138</td>\n",
       "      <td>1.012937</td>\n",
       "      <td>1</td>\n",
       "      <td>True</td>\n",
       "    </tr>\n",
       "    <tr>\n",
       "      <th>18799</th>\n",
       "      <td>2023-05-28</td>\n",
       "      <td>Sun</td>\n",
       "      <td>Away</td>\n",
       "      <td>Tottenham</td>\n",
       "      <td>Leeds United</td>\n",
       "      <td>Yves-Bissouma</td>\n",
       "      <td>Y</td>\n",
       "      <td>CM</td>\n",
       "      <td>76.0</td>\n",
       "      <td>0.0</td>\n",
       "      <td>...</td>\n",
       "      <td>2.104816</td>\n",
       "      <td>1.443261</td>\n",
       "      <td>1.441900</td>\n",
       "      <td>1.240659</td>\n",
       "      <td>1.897281</td>\n",
       "      <td>0.841640</td>\n",
       "      <td>1.724138</td>\n",
       "      <td>1.082806</td>\n",
       "      <td>2</td>\n",
       "      <td>True</td>\n",
       "    </tr>\n",
       "  </tbody>\n",
       "</table>\n",
       "<p>15978 rows × 117 columns</p>\n",
       "</div>"
      ],
      "text/plain": [
       "             Date  Day Venue       Team         Opponent            Name  \\\n",
       "0      2021-08-21  Sat  Home   Brighton          Watford  Aaron-Connolly   \n",
       "1      2021-08-28  Sat  Home   Brighton          Everton  Aaron-Connolly   \n",
       "2      2021-09-19  Sun  Home   Brighton   Leicester City  Aaron-Connolly   \n",
       "3      2021-09-27  Mon  Away   Brighton   Crystal Palace  Aaron-Connolly   \n",
       "4      2021-10-02  Sat  Home   Brighton          Arsenal  Aaron-Connolly   \n",
       "...           ...  ...   ...        ...              ...             ...   \n",
       "18795  2023-02-05  Sun  Home  Tottenham  Manchester City   Yves-Bissouma   \n",
       "18796  2023-05-06  Sat  Home  Tottenham   Crystal Palace   Yves-Bissouma   \n",
       "18797  2023-05-13  Sat  Away  Tottenham      Aston Villa   Yves-Bissouma   \n",
       "18798  2023-05-20  Sat  Home  Tottenham        Brentford   Yves-Bissouma   \n",
       "18799  2023-05-28  Sun  Away  Tottenham     Leeds United   Yves-Bissouma   \n",
       "\n",
       "      Start    Pos   Min  Gls  ...  xGA_opp_15  xG_team_30  xGA_team_30  \\\n",
       "0         N     FW  45.0  0.0  ...    1.137180    1.685300     1.795480   \n",
       "1         N      0   0.0  0.0  ...    0.773347    1.732130     1.101352   \n",
       "2         N      0   0.0  0.0  ...    1.951172    1.113446     1.120292   \n",
       "3         N     LM  15.0  0.0  ...    1.238501    1.185633     1.146980   \n",
       "4         N      0   0.0  0.0  ...    2.055877    1.096288     1.183877   \n",
       "...     ...    ...   ...  ...  ...         ...         ...          ...   \n",
       "18795     N  CM,AM   7.0  0.0  ...    0.970013    1.701372     1.150080   \n",
       "18796     N      0   0.0  0.0  ...    1.251435    1.490906     1.449858   \n",
       "18797     N     CM  30.0  0.0  ...    1.416024    1.505351     1.409325   \n",
       "18798     Y     CM  90.0  0.0  ...    1.373317    1.455579     1.456602   \n",
       "18799     Y     CM  76.0  0.0  ...    2.104816    1.443261     1.441900   \n",
       "\n",
       "       xG_opp_30  xGA_opp_30   xG_diff  Avg_FPL_points  Rating_difference  \\\n",
       "0       1.350360    1.137180  1.371736        0.555556           1.027714   \n",
       "1       2.122880    0.773347 -0.847058        0.555556           0.976952   \n",
       "2       0.842163    1.951172  0.220650        0.555556           0.966814   \n",
       "3       1.228496    1.238501 -0.718794        0.555556           1.021373   \n",
       "4       1.166696    2.055877  0.751200        0.555556           0.943023   \n",
       "...          ...         ...       ...             ...                ...   \n",
       "18795   2.384711    0.801035  0.647933        1.724138           0.917337   \n",
       "18796   1.014812    1.365162  0.849981        1.724138           1.036489   \n",
       "18797   1.320205    1.420391 -0.614820        1.724138           1.010390   \n",
       "18798   1.535725    1.339027  0.463230        1.724138           1.012937   \n",
       "18799   1.240659    1.897281  0.841640        1.724138           1.082806   \n",
       "\n",
       "       Baseline_points  Transfers_result  \n",
       "0                    1             False  \n",
       "1                    0             False  \n",
       "2                    0             False  \n",
       "3                    1             False  \n",
       "4                    0             False  \n",
       "...                ...               ...  \n",
       "18795                1             False  \n",
       "18796                0             False  \n",
       "18797                1             False  \n",
       "18798                1              True  \n",
       "18799                2              True  \n",
       "\n",
       "[15978 rows x 117 columns]"
      ]
     },
     "execution_count": 15,
     "metadata": {},
     "output_type": "execute_result"
    }
   ],
   "source": [
    "df"
   ]
  },
  {
   "cell_type": "code",
   "execution_count": null,
   "id": "3eecc91f-bbc6-4c61-83ae-87bda04a2d2f",
   "metadata": {},
   "outputs": [],
   "source": []
  },
  {
   "cell_type": "code",
   "execution_count": null,
   "id": "a5969fe3-5c08-4d5a-a8e2-a03c68ca0ad7",
   "metadata": {},
   "outputs": [],
   "source": [
    "def add_linear_fixtures(df):\n",
    "    df[\"Was_home_xP\"] = df[\"Avg_FPL_points\"] * df[\"Was_home\"]\n",
    "    df[\"RD_xP\"] = df[\"Avg_FPL_points\"] * df[\"Rating_difference\"]\n",
    "    df[\"Team_xP\"] = df[\"Avg_FPL_points\"] * df[\"Team_rating\"]\n",
    "    df[\"Opp_xP\"] = df[\"Avg_FPL_points\"] * df[\"Opp_rating\"]\n",
    "    df['Avg_xP'] = df.groupby('Name_original')['xP'].transform('mean')\n",
    "    df.loc[df[\"Was_home\"] == True, 'Avg_FPL_points_venue'] = df[df[\"Was_home\"] == True].groupby('Name_original')['FPL_points'].transform('mean')\n",
    "    df.loc[df[\"Was_home\"] == False, 'Avg_FPL_points_venue'] = df[df[\"Was_home\"] == False].groupby('Name_original')['FPL_points'].transform('mean')\n",
    "    \n",
    "    return df"
   ]
  },
  {
   "cell_type": "code",
   "execution_count": null,
   "id": "86c5b9e3-37af-4a11-aced-2de6185e7032",
   "metadata": {},
   "outputs": [],
   "source": [
    "df = add_linear_fixtures(df)"
   ]
  },
  {
   "cell_type": "code",
   "execution_count": null,
   "id": "f3a73ddc-31da-4c0d-93f1-e2f53e14c6ef",
   "metadata": {},
   "outputs": [],
   "source": [
    "def calculate_team_points(row):\n",
    "    # win - 3 points\n",
    "    if row['Team_score'] > row['Opp_score']:\n",
    "        return 3\n",
    "    # draw - 1 point\n",
    "    elif row['Team_score'] == row['Opp_score']:\n",
    "        return 1\n",
    "    # loss - 0 points\n",
    "    else:\n",
    "        return 0\n",
    "    \n",
    "df['Team_result'] = df.apply(calculate_team_points, axis=1)"
   ]
  },
  {
   "cell_type": "code",
   "execution_count": null,
   "id": "2fe53aca-b1c7-4f24-87ae-81fe1ab6f532",
   "metadata": {},
   "outputs": [],
   "source": [
    "def add_rolling_features(df, standard_features, features_to_roll):\n",
    "    features = standard_features\n",
    "    \n",
    "    for r in rolling_gameweeks:\n",
    "        form_means = df.groupby([\"Name\"])[features_to_roll].rolling(r, min_periods=1).mean().groupby([\"Name\"]).shift(1).reset_index()\n",
    "        # print(form_means[form_means[\"Name\"] == \"Erling-Haaland\"])\n",
    "        form_means = form_means.fillna(method='bfill') # slightly incorrect, better to drop Nan\n",
    "        form_means.columns = [f'{col}{\"_\"}{r}' for col in form_means.columns]\n",
    "        features += form_means.columns.tolist()\n",
    "        features = list(filter(lambda x: x not in [\"Name_\" + str(r)], features))\n",
    "        df = pd.concat([df.reset_index(), form_means], axis=1)\n",
    "        # df = df.merge(form_means, left_index=True, right_index=True)\n",
    "        df = df.drop([col for col in df.columns if col.startswith('level')], axis=1)\n",
    "        \n",
    "    return df.reset_index(), features"
   ]
  },
  {
   "cell_type": "code",
   "execution_count": null,
   "id": "2e46c21c-3984-42e5-a6ff-a4118cb1f802",
   "metadata": {},
   "outputs": [],
   "source": [
    "def ohe(df, ohe_columns, features):\n",
    "    # one hot encoding\n",
    "    for c in ohe_columns:\n",
    "        ohe_c = pd.get_dummies(df[c], dtype=\"int64\")\n",
    "        df = pd.concat([df, ohe_c], axis=1)\n",
    "\n",
    "        features += ohe_c.columns.tolist()\n",
    "        \n",
    "    return df, features"
   ]
  },
  {
   "cell_type": "code",
   "execution_count": null,
   "id": "026526dc-1fdd-4eb4-854e-c3e383197574",
   "metadata": {},
   "outputs": [],
   "source": [
    "def label_encoding(df, column_to_encode):\n",
    "    \n",
    "    mapping_dict = {\n",
    "        'Y': 1, # Starting eleven\n",
    "        'Y*': 1, # Starting eleven as captain\n",
    "        'N': 0, # Not in starting eleven\n",
    "    }\n",
    "    \n",
    "    df[column_to_encode] = df[column_to_encode].map(mapping_dict)\n",
    "    \n",
    "    return df"
   ]
  },
  {
   "cell_type": "code",
   "execution_count": null,
   "id": "dc05870f-c6a1-4340-b061-6b0f9da5ff46",
   "metadata": {},
   "outputs": [],
   "source": [
    "df = label_encoding(df, \"Start\")"
   ]
  },
  {
   "cell_type": "code",
   "execution_count": null,
   "id": "c963831b-e2ec-4958-b2da-99c9eb5cf759",
   "metadata": {},
   "outputs": [],
   "source": [
    "df, features = add_rolling_features(df, standard_features, features_to_roll)"
   ]
  },
  {
   "cell_type": "code",
   "execution_count": null,
   "id": "b0dd88c1-dbbe-41f8-8159-b8e73f7f5c0d",
   "metadata": {},
   "outputs": [],
   "source": [
    "# df, features = ohe(df, [\"FPL_pos\"], features)\n",
    "# if \"GK\" in df.columns:\n",
    "#     df = df.drop(\"GK\", axis=1)\n",
    "#     features.remove(\"GK\")"
   ]
  },
  {
   "cell_type": "code",
   "execution_count": null,
   "id": "871534cf-bd8d-49ed-bb56-d3ffaa9d8478",
   "metadata": {},
   "outputs": [],
   "source": [
    "# dropping unwanted columns\n",
    "features = [col for col in features if not col.startswith('level')]\n",
    "df = df[np.unique(features + info + [to_predict])]"
   ]
  },
  {
   "cell_type": "code",
   "execution_count": null,
   "id": "269a1373-9fbd-4aa3-a095-5ad1c74be587",
   "metadata": {},
   "outputs": [],
   "source": [
    "df = df[pd.to_numeric(df[\"GW\"], errors=\"coerce\").notna()]\n",
    "df[\"GW\"] = df[\"GW\"].astype(\"uint64\")"
   ]
  },
  {
   "cell_type": "code",
   "execution_count": null,
   "id": "dbd5108b-c4b3-4268-9a8d-6e0ebdbe7a8d",
   "metadata": {},
   "outputs": [],
   "source": [
    "# dropping NaNs\n",
    "df = df.dropna(axis=0)"
   ]
  },
  {
   "cell_type": "code",
   "execution_count": null,
   "id": "eb1b8f09-495e-4f39-abec-238b6ff2d3d2",
   "metadata": {},
   "outputs": [],
   "source": [
    "# df = df.set_index([\"Name_original\", \"Season\", \"GW\"], drop=False)"
   ]
  },
  {
   "cell_type": "code",
   "execution_count": null,
   "id": "aa7edd40-4433-4d9d-bc95-747fd5fcc118",
   "metadata": {},
   "outputs": [
    {
     "data": {
      "text/plain": [
       "Index(['Avg_FPL_points', 'DEF', 'FPL_points', 'FPL_pos', 'FWD', 'GW', 'MID',\n",
       "       'Name_original', 'Opp_rating', 'Opponent', 'Rating_difference',\n",
       "       'Season', 'Team', 'Team_rating', 'Was_home', 'xP', 'xP_2', 'xP_4'],\n",
       "      dtype='object')"
      ]
     },
     "execution_count": 29,
     "metadata": {},
     "output_type": "execute_result"
    }
   ],
   "source": [
    "df.columns"
   ]
  },
  {
   "cell_type": "code",
   "execution_count": null,
   "id": "f9ac2b91-59ee-4d56-97be-b9a374d36604",
   "metadata": {},
   "outputs": [
    {
     "data": {
      "text/plain": [
       "(15929, 18)"
      ]
     },
     "execution_count": 30,
     "metadata": {},
     "output_type": "execute_result"
    }
   ],
   "source": [
    "df.shape"
   ]
  },
  {
   "cell_type": "code",
   "execution_count": null,
   "id": "9a63b5c3-8665-4e01-8fb4-844bb5423741",
   "metadata": {},
   "outputs": [],
   "source": [
    "df = df[~df[\"FPL_pos\"].isin([\"GK\"])] # only outfield players"
   ]
  },
  {
   "cell_type": "code",
   "execution_count": null,
   "id": "ef073cdd-aec8-4ec3-a848-824371a6c451",
   "metadata": {},
   "outputs": [
    {
     "data": {
      "text/plain": [
       "(15929, 18)"
      ]
     },
     "execution_count": 32,
     "metadata": {},
     "output_type": "execute_result"
    }
   ],
   "source": [
    "df.shape"
   ]
  },
  {
   "cell_type": "markdown",
   "id": "fc895e8b-ed8c-4c03-89fe-eccde0b4c26e",
   "metadata": {},
   "source": [
    "# Data split into train and valid\n",
    "Let's take entire 2021-22 season and 30 first gameweeks of 2022-23 season as training data and 8 last gameweeks of that season as valid data (~10% of all rows)."
   ]
  },
  {
   "cell_type": "code",
   "execution_count": null,
   "id": "bfe23832-6631-4e90-81c3-1331e7c0b0e0",
   "metadata": {},
   "outputs": [],
   "source": [
    "def shrink_df_to_top_players(df, n_players, min_fixtures):\n",
    "    # Calculate average scores\n",
    "    average_scores = df.groupby('Name_original')[to_predict].mean()\n",
    "    \n",
    "    # Calculate player counts\n",
    "    player_counts = df['Name_original'].value_counts()\n",
    "    \n",
    "    # Filter out players with less than min_fixtures occurrences\n",
    "    popular_players = player_counts[player_counts >= min_fixtures].index\n",
    "    \n",
    "    print(\"Unique players with min_fixtures:\", popular_players.size)\n",
    "\n",
    "    # Sort players by average scores\n",
    "    sorted_players = average_scores.sort_values(ascending=False)\n",
    "\n",
    "    # Get the top n_players players\n",
    "    top_popular_players = sorted_players[sorted_players.index.isin(popular_players)].head(n_players)\n",
    "\n",
    "    # Filter the original DataFrame\n",
    "    top_players_df = df[df['Name_original'].isin(top_popular_players.index)]\n",
    "    \n",
    "    print(\"Unique players left:\", top_players_df['Name_original'].unique().size)\n",
    "    \n",
    "    return top_players_df"
   ]
  },
  {
   "cell_type": "code",
   "execution_count": null,
   "id": "1a46a038-a0b2-4348-b87c-2ca15569f6eb",
   "metadata": {},
   "outputs": [],
   "source": [
    "CUT_OFF_GAMEWEEK = 31\n",
    "SEASON_TO_PREDICT = \"2022-23\""
   ]
  },
  {
   "cell_type": "code",
   "execution_count": null,
   "id": "d066b924-0fa7-41ca-8eea-a15cd59d5fa3",
   "metadata": {},
   "outputs": [
    {
     "name": "stdout",
     "output_type": "stream",
     "text": [
      "Unique players with min_fixtures: 355\n",
      "Unique players left: 355\n"
     ]
    }
   ],
   "source": [
    "df_train = shrink_df_to_top_players(df, 550, 10)\n",
    "# df_train[\"Name_original\"].unique()"
   ]
  },
  {
   "cell_type": "code",
   "execution_count": null,
   "id": "3f3a9ed0-d0fb-4258-af80-6bfdac4694b8",
   "metadata": {},
   "outputs": [],
   "source": [
    "df = df.set_index([\"Name_original\", \"Season\", \"GW\"], drop=False)"
   ]
  },
  {
   "cell_type": "code",
   "execution_count": null,
   "id": "45b9f614-d91d-491f-b5d0-d278db561c2d",
   "metadata": {},
   "outputs": [],
   "source": [
    "# training data\n",
    "X_train = df_train[((df_train[\"Season\"] < SEASON_TO_PREDICT) | (df_train[\"GW\"] <= CUT_OFF_GAMEWEEK - 1))][features].reset_index(drop=True)\n",
    "y_train = df_train[((df_train[\"Season\"] < SEASON_TO_PREDICT) | (df_train[\"GW\"] <= CUT_OFF_GAMEWEEK - 1))][to_predict].reset_index(drop=True)"
   ]
  },
  {
   "cell_type": "code",
   "execution_count": null,
   "id": "7996012d-2bf5-45da-a29e-e75932313172",
   "metadata": {},
   "outputs": [],
   "source": [
    "# only 31st gameweek\n",
    "X_test = df[(df[\"GW\"] == CUT_OFF_GAMEWEEK) & (df[\"Season\"] == SEASON_TO_PREDICT) ][features].reset_index(drop=True)\n",
    "y_test = df[(df[\"GW\"] == CUT_OFF_GAMEWEEK) & (df[\"Season\"] == SEASON_TO_PREDICT) ][to_predict].reset_index(drop=True)"
   ]
  },
  {
   "cell_type": "code",
   "execution_count": null,
   "id": "e59975bf-a85b-4920-a8d1-2a80273ebb65",
   "metadata": {},
   "outputs": [],
   "source": [
    "# all remaining gameweeks\n",
    "X_test_all_remaining = df[(df[\"GW\"] >= CUT_OFF_GAMEWEEK) & (df[\"Season\"] == SEASON_TO_PREDICT)][features].reset_index(drop=True)\n",
    "y_test_all_remaining = df[(df[\"GW\"] >= CUT_OFF_GAMEWEEK) & (df[\"Season\"] == SEASON_TO_PREDICT)][\"FPL_points\"].reset_index(drop=True)"
   ]
  },
  {
   "cell_type": "code",
   "execution_count": null,
   "id": "dcf0a862-ff68-4236-8fcb-dcf5e8ebe29f",
   "metadata": {},
   "outputs": [
    {
     "data": {
      "text/plain": [
       "((13868, 8), (247, 8), (2003, 8))"
      ]
     },
     "execution_count": 40,
     "metadata": {},
     "output_type": "execute_result"
    }
   ],
   "source": [
    "X_train.shape, X_test.shape, X_test_all_remaining.shape"
   ]
  },
  {
   "cell_type": "markdown",
   "id": "bd2b3df9-363d-4c0a-8a1b-ce561ee29b23",
   "metadata": {},
   "source": [
    "# Model"
   ]
  },
  {
   "cell_type": "code",
   "execution_count": null,
   "id": "869c69e0-56ad-4baf-a403-dcdc61f7adec",
   "metadata": {},
   "outputs": [],
   "source": [
    "# model = GradientBoostingRegressor(random_state=42)\n",
    "# model = XGBRegressor(\n",
    "#         random_state=42,\n",
    "#         n_estimators=500,\n",
    "#         # early_stopping_rounds=5,\n",
    "#         learning_rate=0.2\n",
    "#     )\n",
    "# model = KNeighborsRegressor(n_neighbors=5)\n",
    "model = svm.SVC()\n",
    "# model = RandomForestRegressor(random_state=42)"
   ]
  },
  {
   "cell_type": "code",
   "execution_count": null,
   "id": "8531e1e4-92af-494b-b5b7-7a48f2796fa6",
   "metadata": {},
   "outputs": [
    {
     "ename": "ValueError",
     "evalue": "Unknown label type: 'continuous'",
     "output_type": "error",
     "traceback": [
      "\u001b[1;31m---------------------------------------------------------------------------\u001b[0m",
      "\u001b[1;31mValueError\u001b[0m                                Traceback (most recent call last)",
      "File \u001b[1;32m<timed eval>:1\u001b[0m, in \u001b[0;36m<module>\u001b[1;34m\u001b[0m\n",
      "File \u001b[1;32mC:\\users\\user\\appdata\\local\\programs\\python\\python38\\lib\\site-packages\\sklearn\\svm\\_base.py:182\u001b[0m, in \u001b[0;36mBaseLibSVM.fit\u001b[1;34m(self, X, y, sample_weight)\u001b[0m\n\u001b[0;32m    172\u001b[0m \u001b[38;5;28;01melse\u001b[39;00m:\n\u001b[0;32m    173\u001b[0m     X, y \u001b[38;5;241m=\u001b[39m \u001b[38;5;28mself\u001b[39m\u001b[38;5;241m.\u001b[39m_validate_data(\n\u001b[0;32m    174\u001b[0m         X,\n\u001b[0;32m    175\u001b[0m         y,\n\u001b[1;32m   (...)\u001b[0m\n\u001b[0;32m    179\u001b[0m         accept_large_sparse\u001b[38;5;241m=\u001b[39m\u001b[38;5;28;01mFalse\u001b[39;00m,\n\u001b[0;32m    180\u001b[0m     )\n\u001b[1;32m--> 182\u001b[0m y \u001b[38;5;241m=\u001b[39m \u001b[38;5;28;43mself\u001b[39;49m\u001b[38;5;241;43m.\u001b[39;49m\u001b[43m_validate_targets\u001b[49m\u001b[43m(\u001b[49m\u001b[43my\u001b[49m\u001b[43m)\u001b[49m\n\u001b[0;32m    184\u001b[0m sample_weight \u001b[38;5;241m=\u001b[39m np\u001b[38;5;241m.\u001b[39masarray(\n\u001b[0;32m    185\u001b[0m     [] \u001b[38;5;28;01mif\u001b[39;00m sample_weight \u001b[38;5;129;01mis\u001b[39;00m \u001b[38;5;28;01mNone\u001b[39;00m \u001b[38;5;28;01melse\u001b[39;00m sample_weight, dtype\u001b[38;5;241m=\u001b[39mnp\u001b[38;5;241m.\u001b[39mfloat64\n\u001b[0;32m    186\u001b[0m )\n\u001b[0;32m    187\u001b[0m solver_type \u001b[38;5;241m=\u001b[39m LIBSVM_IMPL\u001b[38;5;241m.\u001b[39mindex(\u001b[38;5;28mself\u001b[39m\u001b[38;5;241m.\u001b[39m_impl)\n",
      "File \u001b[1;32mC:\\users\\user\\appdata\\local\\programs\\python\\python38\\lib\\site-packages\\sklearn\\svm\\_base.py:735\u001b[0m, in \u001b[0;36mBaseSVC._validate_targets\u001b[1;34m(self, y)\u001b[0m\n\u001b[0;32m    733\u001b[0m \u001b[38;5;28;01mdef\u001b[39;00m \u001b[38;5;21m_validate_targets\u001b[39m(\u001b[38;5;28mself\u001b[39m, y):\n\u001b[0;32m    734\u001b[0m     y_ \u001b[38;5;241m=\u001b[39m column_or_1d(y, warn\u001b[38;5;241m=\u001b[39m\u001b[38;5;28;01mTrue\u001b[39;00m)\n\u001b[1;32m--> 735\u001b[0m     \u001b[43mcheck_classification_targets\u001b[49m\u001b[43m(\u001b[49m\u001b[43my\u001b[49m\u001b[43m)\u001b[49m\n\u001b[0;32m    736\u001b[0m     \u001b[38;5;28mcls\u001b[39m, y \u001b[38;5;241m=\u001b[39m np\u001b[38;5;241m.\u001b[39munique(y_, return_inverse\u001b[38;5;241m=\u001b[39m\u001b[38;5;28;01mTrue\u001b[39;00m)\n\u001b[0;32m    737\u001b[0m     \u001b[38;5;28mself\u001b[39m\u001b[38;5;241m.\u001b[39mclass_weight_ \u001b[38;5;241m=\u001b[39m compute_class_weight(\u001b[38;5;28mself\u001b[39m\u001b[38;5;241m.\u001b[39mclass_weight, classes\u001b[38;5;241m=\u001b[39m\u001b[38;5;28mcls\u001b[39m, y\u001b[38;5;241m=\u001b[39my_)\n",
      "File \u001b[1;32mC:\\users\\user\\appdata\\local\\programs\\python\\python38\\lib\\site-packages\\sklearn\\utils\\multiclass.py:200\u001b[0m, in \u001b[0;36mcheck_classification_targets\u001b[1;34m(y)\u001b[0m\n\u001b[0;32m    192\u001b[0m y_type \u001b[38;5;241m=\u001b[39m type_of_target(y, input_name\u001b[38;5;241m=\u001b[39m\u001b[38;5;124m\"\u001b[39m\u001b[38;5;124my\u001b[39m\u001b[38;5;124m\"\u001b[39m)\n\u001b[0;32m    193\u001b[0m \u001b[38;5;28;01mif\u001b[39;00m y_type \u001b[38;5;129;01mnot\u001b[39;00m \u001b[38;5;129;01min\u001b[39;00m [\n\u001b[0;32m    194\u001b[0m     \u001b[38;5;124m\"\u001b[39m\u001b[38;5;124mbinary\u001b[39m\u001b[38;5;124m\"\u001b[39m,\n\u001b[0;32m    195\u001b[0m     \u001b[38;5;124m\"\u001b[39m\u001b[38;5;124mmulticlass\u001b[39m\u001b[38;5;124m\"\u001b[39m,\n\u001b[1;32m   (...)\u001b[0m\n\u001b[0;32m    198\u001b[0m     \u001b[38;5;124m\"\u001b[39m\u001b[38;5;124mmultilabel-sequences\u001b[39m\u001b[38;5;124m\"\u001b[39m,\n\u001b[0;32m    199\u001b[0m ]:\n\u001b[1;32m--> 200\u001b[0m     \u001b[38;5;28;01mraise\u001b[39;00m \u001b[38;5;167;01mValueError\u001b[39;00m(\u001b[38;5;124m\"\u001b[39m\u001b[38;5;124mUnknown label type: \u001b[39m\u001b[38;5;132;01m%r\u001b[39;00m\u001b[38;5;124m\"\u001b[39m \u001b[38;5;241m%\u001b[39m y_type)\n",
      "\u001b[1;31mValueError\u001b[0m: Unknown label type: 'continuous'"
     ]
    }
   ],
   "source": [
    "%%time\n",
    "model.fit(\n",
    "        X_train, \n",
    "        y_train,\n",
    "        # eval_set=[(X_test_all_remaining, y_test_all_remaining)],\n",
    "        # verbose=False\n",
    "    )"
   ]
  },
  {
   "cell_type": "code",
   "execution_count": null,
   "id": "e6b4ce2b-508b-4fb8-a4ef-19ef49741454",
   "metadata": {},
   "outputs": [
    {
     "data": {
      "text/plain": [
       "['Was_home',\n",
       " 'Rating_difference',\n",
       " 'Avg_FPL_points',\n",
       " 'xP_2',\n",
       " 'xP_4',\n",
       " 'DEF',\n",
       " 'FWD',\n",
       " 'MID']"
      ]
     },
     "execution_count": 43,
     "metadata": {},
     "output_type": "execute_result"
    }
   ],
   "source": [
    "features"
   ]
  },
  {
   "cell_type": "code",
   "execution_count": null,
   "id": "b1088820-16f1-4bf1-a4e2-fd0692add84a",
   "metadata": {},
   "outputs": [],
   "source": [
    "# model.coef_"
   ]
  },
  {
   "cell_type": "markdown",
   "id": "438dc7ca-6134-429b-bd5e-4a99261c2781",
   "metadata": {
    "tags": []
   },
   "source": [
    "# Getting predictions"
   ]
  },
  {
   "cell_type": "code",
   "execution_count": null,
   "id": "ecff920f-d510-4f46-ae3e-6316aca350bb",
   "metadata": {},
   "outputs": [],
   "source": [
    "def get_predictions(model, df, X, all_remaining=False):\n",
    "    # make predictions on the test data and glues them to the rest of the dataframe\n",
    "    predictions = model.predict(X)\n",
    "    if all_remaining:\n",
    "        df_predictions = df[(df[\"GW\"] >= CUT_OFF_GAMEWEEK) & (df[\"Season\"] == SEASON_TO_PREDICT)].reset_index(drop=True)\n",
    "    else:\n",
    "        df_predictions = df[(df[\"GW\"] == CUT_OFF_GAMEWEEK) & (df[\"Season\"] == SEASON_TO_PREDICT)].reset_index(drop=True)\n",
    "        \n",
    "    df_predictions.loc[:, \"Pred\"] = predictions\n",
    "    \n",
    "    preds = df_predictions[info + [to_predict] + [\"Pred\"]].sort_values(by=[\"Pred\"], ascending = False)\n",
    "    \n",
    "    return preds, predictions"
   ]
  },
  {
   "cell_type": "code",
   "execution_count": null,
   "id": "fc15d678-d460-438b-8750-c00cd0321f31",
   "metadata": {},
   "outputs": [
    {
     "ename": "AttributeError",
     "evalue": "'SVC' object has no attribute 'support_vectors_'",
     "output_type": "error",
     "traceback": [
      "\u001b[1;31m---------------------------------------------------------------------------\u001b[0m",
      "\u001b[1;31mAttributeError\u001b[0m                            Traceback (most recent call last)",
      "Input \u001b[1;32mIn [46]\u001b[0m, in \u001b[0;36m<cell line: 1>\u001b[1;34m()\u001b[0m\n\u001b[1;32m----> 1\u001b[0m preds, predictions \u001b[38;5;241m=\u001b[39m \u001b[43mget_predictions\u001b[49m\u001b[43m(\u001b[49m\u001b[43mmodel\u001b[49m\u001b[43m,\u001b[49m\u001b[43m \u001b[49m\u001b[43mdf\u001b[49m\u001b[43m,\u001b[49m\u001b[43m \u001b[49m\u001b[43mX_test\u001b[49m\u001b[43m)\u001b[49m\n",
      "Input \u001b[1;32mIn [45]\u001b[0m, in \u001b[0;36mget_predictions\u001b[1;34m(model, df, X, all_remaining)\u001b[0m\n\u001b[0;32m      1\u001b[0m \u001b[38;5;28;01mdef\u001b[39;00m \u001b[38;5;21mget_predictions\u001b[39m(model, df, X, all_remaining\u001b[38;5;241m=\u001b[39m\u001b[38;5;28;01mFalse\u001b[39;00m):\n\u001b[0;32m      2\u001b[0m     \u001b[38;5;66;03m# make predictions on the test data and glues them to the rest of the dataframe\u001b[39;00m\n\u001b[1;32m----> 3\u001b[0m     predictions \u001b[38;5;241m=\u001b[39m \u001b[43mmodel\u001b[49m\u001b[38;5;241;43m.\u001b[39;49m\u001b[43mpredict\u001b[49m\u001b[43m(\u001b[49m\u001b[43mX\u001b[49m\u001b[43m)\u001b[49m\n\u001b[0;32m      4\u001b[0m     \u001b[38;5;28;01mif\u001b[39;00m all_remaining:\n\u001b[0;32m      5\u001b[0m         df_predictions \u001b[38;5;241m=\u001b[39m df[(df[\u001b[38;5;124m\"\u001b[39m\u001b[38;5;124mGW\u001b[39m\u001b[38;5;124m\"\u001b[39m] \u001b[38;5;241m>\u001b[39m\u001b[38;5;241m=\u001b[39m CUT_OFF_GAMEWEEK) \u001b[38;5;241m&\u001b[39m (df[\u001b[38;5;124m\"\u001b[39m\u001b[38;5;124mSeason\u001b[39m\u001b[38;5;124m\"\u001b[39m] \u001b[38;5;241m==\u001b[39m SEASON_TO_PREDICT)]\u001b[38;5;241m.\u001b[39mreset_index(drop\u001b[38;5;241m=\u001b[39m\u001b[38;5;28;01mTrue\u001b[39;00m)\n",
      "File \u001b[1;32mC:\\users\\user\\appdata\\local\\programs\\python\\python38\\lib\\site-packages\\sklearn\\svm\\_base.py:810\u001b[0m, in \u001b[0;36mBaseSVC.predict\u001b[1;34m(self, X)\u001b[0m\n\u001b[0;32m    808\u001b[0m     y \u001b[38;5;241m=\u001b[39m np\u001b[38;5;241m.\u001b[39margmax(\u001b[38;5;28mself\u001b[39m\u001b[38;5;241m.\u001b[39mdecision_function(X), axis\u001b[38;5;241m=\u001b[39m\u001b[38;5;241m1\u001b[39m)\n\u001b[0;32m    809\u001b[0m \u001b[38;5;28;01melse\u001b[39;00m:\n\u001b[1;32m--> 810\u001b[0m     y \u001b[38;5;241m=\u001b[39m \u001b[38;5;28;43msuper\u001b[39;49m\u001b[43m(\u001b[49m\u001b[43m)\u001b[49m\u001b[38;5;241;43m.\u001b[39;49m\u001b[43mpredict\u001b[49m\u001b[43m(\u001b[49m\u001b[43mX\u001b[49m\u001b[43m)\u001b[49m\n\u001b[0;32m    811\u001b[0m \u001b[38;5;28;01mreturn\u001b[39;00m \u001b[38;5;28mself\u001b[39m\u001b[38;5;241m.\u001b[39mclasses_\u001b[38;5;241m.\u001b[39mtake(np\u001b[38;5;241m.\u001b[39masarray(y, dtype\u001b[38;5;241m=\u001b[39mnp\u001b[38;5;241m.\u001b[39mintp))\n",
      "File \u001b[1;32mC:\\users\\user\\appdata\\local\\programs\\python\\python38\\lib\\site-packages\\sklearn\\svm\\_base.py:433\u001b[0m, in \u001b[0;36mBaseLibSVM.predict\u001b[1;34m(self, X)\u001b[0m\n\u001b[0;32m    417\u001b[0m \u001b[38;5;28;01mdef\u001b[39;00m \u001b[38;5;21mpredict\u001b[39m(\u001b[38;5;28mself\u001b[39m, X):\n\u001b[0;32m    418\u001b[0m     \u001b[38;5;124;03m\"\"\"Perform regression on samples in X.\u001b[39;00m\n\u001b[0;32m    419\u001b[0m \n\u001b[0;32m    420\u001b[0m \u001b[38;5;124;03m    For an one-class model, +1 (inlier) or -1 (outlier) is returned.\u001b[39;00m\n\u001b[1;32m   (...)\u001b[0m\n\u001b[0;32m    431\u001b[0m \u001b[38;5;124;03m        The predicted values.\u001b[39;00m\n\u001b[0;32m    432\u001b[0m \u001b[38;5;124;03m    \"\"\"\u001b[39;00m\n\u001b[1;32m--> 433\u001b[0m     X \u001b[38;5;241m=\u001b[39m \u001b[38;5;28;43mself\u001b[39;49m\u001b[38;5;241;43m.\u001b[39;49m\u001b[43m_validate_for_predict\u001b[49m\u001b[43m(\u001b[49m\u001b[43mX\u001b[49m\u001b[43m)\u001b[49m\n\u001b[0;32m    434\u001b[0m     predict \u001b[38;5;241m=\u001b[39m \u001b[38;5;28mself\u001b[39m\u001b[38;5;241m.\u001b[39m_sparse_predict \u001b[38;5;28;01mif\u001b[39;00m \u001b[38;5;28mself\u001b[39m\u001b[38;5;241m.\u001b[39m_sparse \u001b[38;5;28;01melse\u001b[39;00m \u001b[38;5;28mself\u001b[39m\u001b[38;5;241m.\u001b[39m_dense_predict\n\u001b[0;32m    435\u001b[0m     \u001b[38;5;28;01mreturn\u001b[39;00m predict(X)\n",
      "File \u001b[1;32mC:\\users\\user\\appdata\\local\\programs\\python\\python38\\lib\\site-packages\\sklearn\\svm\\_base.py:640\u001b[0m, in \u001b[0;36mBaseLibSVM._validate_for_predict\u001b[1;34m(self, X)\u001b[0m\n\u001b[0;32m    633\u001b[0m         \u001b[38;5;28;01mraise\u001b[39;00m \u001b[38;5;167;01mValueError\u001b[39;00m(\n\u001b[0;32m    634\u001b[0m             \u001b[38;5;124m\"\u001b[39m\u001b[38;5;124mX.shape[1] = \u001b[39m\u001b[38;5;132;01m%d\u001b[39;00m\u001b[38;5;124m should be equal to \u001b[39m\u001b[38;5;132;01m%d\u001b[39;00m\u001b[38;5;124m, \u001b[39m\u001b[38;5;124m\"\u001b[39m\n\u001b[0;32m    635\u001b[0m             \u001b[38;5;124m\"\u001b[39m\u001b[38;5;124mthe number of samples at training time\u001b[39m\u001b[38;5;124m\"\u001b[39m\n\u001b[0;32m    636\u001b[0m             \u001b[38;5;241m%\u001b[39m (X\u001b[38;5;241m.\u001b[39mshape[\u001b[38;5;241m1\u001b[39m], \u001b[38;5;28mself\u001b[39m\u001b[38;5;241m.\u001b[39mshape_fit_[\u001b[38;5;241m0\u001b[39m])\n\u001b[0;32m    637\u001b[0m         )\n\u001b[0;32m    638\u001b[0m \u001b[38;5;66;03m# Fixes https://nvd.nist.gov/vuln/detail/CVE-2020-28975\u001b[39;00m\n\u001b[0;32m    639\u001b[0m \u001b[38;5;66;03m# Check that _n_support is consistent with support_vectors\u001b[39;00m\n\u001b[1;32m--> 640\u001b[0m sv \u001b[38;5;241m=\u001b[39m \u001b[38;5;28;43mself\u001b[39;49m\u001b[38;5;241;43m.\u001b[39;49m\u001b[43msupport_vectors_\u001b[49m\n\u001b[0;32m    641\u001b[0m \u001b[38;5;28;01mif\u001b[39;00m \u001b[38;5;129;01mnot\u001b[39;00m \u001b[38;5;28mself\u001b[39m\u001b[38;5;241m.\u001b[39m_sparse \u001b[38;5;129;01mand\u001b[39;00m sv\u001b[38;5;241m.\u001b[39msize \u001b[38;5;241m>\u001b[39m \u001b[38;5;241m0\u001b[39m \u001b[38;5;129;01mand\u001b[39;00m \u001b[38;5;28mself\u001b[39m\u001b[38;5;241m.\u001b[39mn_support_\u001b[38;5;241m.\u001b[39msum() \u001b[38;5;241m!=\u001b[39m sv\u001b[38;5;241m.\u001b[39mshape[\u001b[38;5;241m0\u001b[39m]:\n\u001b[0;32m    642\u001b[0m     \u001b[38;5;28;01mraise\u001b[39;00m \u001b[38;5;167;01mValueError\u001b[39;00m(\n\u001b[0;32m    643\u001b[0m         \u001b[38;5;124mf\u001b[39m\u001b[38;5;124m\"\u001b[39m\u001b[38;5;124mThe internal representation of \u001b[39m\u001b[38;5;132;01m{\u001b[39;00m\u001b[38;5;28mself\u001b[39m\u001b[38;5;241m.\u001b[39m\u001b[38;5;18m__class__\u001b[39m\u001b[38;5;241m.\u001b[39m\u001b[38;5;18m__name__\u001b[39m\u001b[38;5;132;01m}\u001b[39;00m\u001b[38;5;124m was altered\u001b[39m\u001b[38;5;124m\"\u001b[39m\n\u001b[0;32m    644\u001b[0m     )\n",
      "\u001b[1;31mAttributeError\u001b[0m: 'SVC' object has no attribute 'support_vectors_'"
     ]
    }
   ],
   "source": [
    "preds, predictions = get_predictions(model, df, X_test)"
   ]
  },
  {
   "cell_type": "code",
   "execution_count": null,
   "id": "5b318f3a-f755-44af-9dcc-349b91a04bd6",
   "metadata": {},
   "outputs": [],
   "source": [
    "preds_all_gameweeks, predictions_all = get_predictions(model, df, X_test_all_remaining, True)"
   ]
  },
  {
   "cell_type": "markdown",
   "id": "bcb4ce5d-b258-4626-ba7e-3d232df036b2",
   "metadata": {},
   "source": [
    "# Custom metric\n",
    "Such models are usually used to compare players and decide who to pick for upcoming gameweek(s). For each player pair in a subset of players model can either predict the outcome well (e.g. player A scores more than player B and model predicts exactly that) or predict wrongly (e.g. player A scores more than player B but model predicts player B > player A). Pairwise_accuracy returns the percentage of corrected predicted pairs. Pairwise_accuracy_topX is a variation of this metric calculated only for X highest scoring players of last two seasons."
   ]
  },
  {
   "cell_type": "code",
   "execution_count": null,
   "id": "30d87d10-ae71-4fc6-aa37-455fa45be613",
   "metadata": {},
   "outputs": [],
   "source": [
    "def get_top_performer_names(df, no_top, no_gws):\n",
    "    # takes no_top players that recorded highest average FPL points in no_gws last gameweeks\n",
    "    return df.reset_index(drop=True).groupby(\"Name_original\")[to_predict].mean().groupby(\"Name_original\").tail(no_gws).sort_values(ascending=False).head(no_top).index.to_list()"
   ]
  },
  {
   "cell_type": "code",
   "execution_count": null,
   "id": "ad049ca6-a774-4dc9-95f4-e981ba0ed254",
   "metadata": {},
   "outputs": [],
   "source": [
    "def pairwise_accuracy(predicted_scores, true_scores):\n",
    "    if len(predicted_scores) != len(true_scores):\n",
    "        raise ValueError(\"The length of predicted_scores and true_scores must be the same.\")\n",
    "\n",
    "    num_pairs = 0\n",
    "    num_correct_pairs = 0\n",
    "\n",
    "    for i in range(len(predicted_scores)):\n",
    "        for j in range(i + 1, len(predicted_scores)):\n",
    "            # Check if the predicted order matches the true order\n",
    "            if (predicted_scores[i] > predicted_scores[j] and true_scores[i] > true_scores[j]) or \\\n",
    "               (predicted_scores[i] < predicted_scores[j] and true_scores[i] < true_scores[j]):\n",
    "                num_correct_pairs += 1\n",
    "            num_pairs += 1\n",
    "\n",
    "    pairwise_accuracy = num_correct_pairs / num_pairs\n",
    "    return pairwise_accuracy"
   ]
  },
  {
   "cell_type": "code",
   "execution_count": null,
   "id": "0dcbdf3b-8f16-432d-a9d4-ca4b93888927",
   "metadata": {},
   "outputs": [],
   "source": [
    "def pairwise_accuracy_topX(model, df, top_x, all_gw=False):\n",
    "    # pairwise_accuracy for top_X players\n",
    "    if all_gw:\n",
    "        top_performers = df[(df[\"GW\"] == CUT_OFF_GAMEWEEK) & (df[\"Season\"] == SEASON_TO_PREDICT) & (df[\"Name_original\"].isin(get_top_performer_names(df, top_x, 50)))]\n",
    "    else:\n",
    "        top_performers = df[(df[\"GW\"] >= CUT_OFF_GAMEWEEK) & (df[\"Season\"] == SEASON_TO_PREDICT) & (df[\"Name_original\"].isin(get_top_performer_names(df, top_x, 50)))]\n",
    "\n",
    "    X = top_performers[features].reset_index(drop=True)\n",
    "    y = np.array(top_performers[to_predict].reset_index(drop=True))\n",
    "    preds = model.predict(X)\n",
    "    \n",
    "    return  pairwise_accuracy(preds, y)"
   ]
  },
  {
   "cell_type": "markdown",
   "id": "434ed227-7346-4124-8cc6-4b7e8c99606b",
   "metadata": {},
   "source": [
    "# Evaluation"
   ]
  },
  {
   "cell_type": "code",
   "execution_count": null,
   "id": "6764621d-0288-45d0-95a3-36c29e6c95c4",
   "metadata": {},
   "outputs": [],
   "source": [
    "def evaluate(model, df, predictions, y_true, all_gw=False):\n",
    "    # function to calculate different metrics for a given model\n",
    "    mae = mean_absolute_error(y_true, predictions)\n",
    "    mse = mean_squared_error(y_true, predictions)\n",
    "\n",
    "    pairwise_acc = pairwise_accuracy(np.array(y_true), predictions)\n",
    "    pairwise_accuracy_top20 = pairwise_accuracy_topX(model, df, 20, all_gw)\n",
    "    pairwise_accuracy_top100 = pairwise_accuracy_topX(model, df, 100, all_gw)\n",
    "    \n",
    "    print(\"MAE:\", mae)\n",
    "    print(\"MSE:\", mse)\n",
    "    print(\"Pairwise accuracy:\", pairwise_acc)\n",
    "    print(\"Pairwise accuracy @TOP100:\", pairwise_accuracy_top100)\n",
    "    print(\"Pairwise accuracy @TOP20:\", pairwise_accuracy_top20)"
   ]
  },
  {
   "cell_type": "code",
   "execution_count": null,
   "id": "2f9841b1-66d7-4b01-b878-a1a21114e9f9",
   "metadata": {},
   "outputs": [],
   "source": [
    "# df[(df[\"GW\"] == GAMEWEEK_TO_PREDICT) & (df[\"Season\"] == SEASON_TO_PREDICT) & (df[\"Name\"].isin(get_top_performer_names(df, 20, 50)))].columns"
   ]
  },
  {
   "cell_type": "code",
   "execution_count": null,
   "id": "620d667e-0f67-4a3e-9d17-13f775d06b5e",
   "metadata": {},
   "outputs": [],
   "source": [
    "# next gameweek\n",
    "evaluate(model, df, predictions, y_test, all_gw=False)"
   ]
  },
  {
   "cell_type": "code",
   "execution_count": null,
   "id": "2264d7a3-28e2-4864-b02a-eb521e567e46",
   "metadata": {},
   "outputs": [],
   "source": [
    "# all remaining gameweeks\n",
    "evaluate(model, df, predictions_all, y_test_all_remaining, all_gw=True)"
   ]
  },
  {
   "cell_type": "code",
   "execution_count": null,
   "id": "7c24d0b8-905d-4dad-825d-9360746adec8",
   "metadata": {},
   "outputs": [],
   "source": [
    "pred_sum = preds_all_gameweeks[\"Pred\"].sum()\n",
    "fpl_sum = preds_all_gameweeks[\"FPL_points\"].sum()\n",
    "xp_sum = preds_all_gameweeks[\"xP\"].sum()\n",
    "\n",
    "pd.DataFrame([pred_sum, fpl_sum, xp_sum], index=[\"Pred\", \"FPL\", \"xP\"], columns=[\"Sum\"])"
   ]
  },
  {
   "cell_type": "code",
   "execution_count": null,
   "id": "1de0dbe5-2b5f-472d-9f2d-2300dab2b19c",
   "metadata": {},
   "outputs": [],
   "source": [
    "# model.predict(df[df[\"GW\"] == GAMEWEEK_TO_PREDICT][df[\"Name\"] == \"Mohamed-Salah\"][features])"
   ]
  },
  {
   "cell_type": "code",
   "execution_count": null,
   "id": "2a6fed93-1557-41eb-9ec8-aaac2925ae8e",
   "metadata": {},
   "outputs": [],
   "source": [
    "features"
   ]
  },
  {
   "cell_type": "code",
   "execution_count": null,
   "id": "42970ebb-d740-4b25-a6e6-a8971f5efbeb",
   "metadata": {},
   "outputs": [],
   "source": [
    "len(features)"
   ]
  },
  {
   "cell_type": "markdown",
   "id": "09ff9469-b50e-44d3-9e08-2b9fb4c8e8ba",
   "metadata": {},
   "source": [
    "# Predictions - next gameweek only"
   ]
  },
  {
   "cell_type": "code",
   "execution_count": null,
   "id": "6df93768-16bb-495b-94ab-f240d07e9b4e",
   "metadata": {},
   "outputs": [],
   "source": [
    "preds.head(30)"
   ]
  },
  {
   "cell_type": "code",
   "execution_count": null,
   "id": "3fe1c712-ea38-4a91-9717-d4f520ffcb82",
   "metadata": {},
   "outputs": [],
   "source": [
    "# preds[preds[\"Team\"] == \"Manchester City\"].head(20)"
   ]
  },
  {
   "cell_type": "markdown",
   "id": "14ee9f8b-6918-4e6b-805d-f19abde9c3a4",
   "metadata": {},
   "source": [
    "# Predictions - all remaining gameweeks"
   ]
  },
  {
   "cell_type": "code",
   "execution_count": null,
   "id": "ecf030c0-6e9c-40b0-81e4-9cc03ef695bc",
   "metadata": {},
   "outputs": [],
   "source": [
    "preds_all_gameweeks.head(15)"
   ]
  },
  {
   "cell_type": "code",
   "execution_count": null,
   "id": "e825ea86-5b53-496a-8d51-89e1ec9539b3",
   "metadata": {},
   "outputs": [],
   "source": [
    "# preds_all_gameweeks[preds_all_gameweeks[\"Name_original\"] == \"Mohamed Salah\"].sort_values(by=[\"GW\"])"
   ]
  },
  {
   "cell_type": "code",
   "execution_count": null,
   "id": "8fe13281-ce00-4e7a-b726-82a44b55dea7",
   "metadata": {},
   "outputs": [],
   "source": [
    "# preds_all_gameweeks[preds_all_gameweeks[\"Name_original\"] == \"Erling Haaland\"].sort_values(by=[\"GW\"])"
   ]
  },
  {
   "cell_type": "markdown",
   "id": "e58b989a-0632-49d7-b3af-418ce8d6a3b5",
   "metadata": {},
   "source": [
    "# Saving to file"
   ]
  },
  {
   "cell_type": "code",
   "execution_count": null,
   "id": "8383d841-c3c5-4466-b896-447c645d5d6a",
   "metadata": {},
   "outputs": [],
   "source": [
    "preds_all_gameweeks.to_csv(\"predictions/all_predictions.csv\", index=False)"
   ]
  },
  {
   "cell_type": "code",
   "execution_count": null,
   "id": "fd95c3e5-c311-4740-a54e-efaa267fbefd",
   "metadata": {},
   "outputs": [],
   "source": [
    "pickle.dump(model, open(\"models/GBR.pkl\", 'wb'))"
   ]
  },
  {
   "cell_type": "markdown",
   "id": "55ff2e04-b92d-4873-8011-a873dcf2019d",
   "metadata": {},
   "source": [
    "# Future preds"
   ]
  },
  {
   "cell_type": "code",
   "execution_count": null,
   "id": "92d93e28-badc-4658-9fa7-d83d5a501dce",
   "metadata": {},
   "outputs": [],
   "source": [
    "df_upcoming = pd.read_csv(\"data/upcoming/upcoming_fixtures.csv\")"
   ]
  },
  {
   "cell_type": "code",
   "execution_count": null,
   "id": "dfec2d3a-315a-4a64-b474-37c495a4c13c",
   "metadata": {},
   "outputs": [],
   "source": [
    "df_upcoming = add_linear_fixtures(df_upcoming)"
   ]
  },
  {
   "cell_type": "code",
   "execution_count": null,
   "id": "f221cba5-cb4b-46f2-bfb4-6bc395cd8a6f",
   "metadata": {},
   "outputs": [],
   "source": [
    "df_upcoming = df_upcoming[~df_upcoming[features].isnull().any(axis=1)] # for some reason 45 rows are missing some feature values"
   ]
  },
  {
   "cell_type": "code",
   "execution_count": null,
   "id": "308238f8-629e-4a1c-b5a4-490cdd084ac9",
   "metadata": {},
   "outputs": [],
   "source": [
    "df_upcoming = df_upcoming[(df_upcoming[\"Season\"] == CURRENT_SEASON) & (df_upcoming[\"GW\"] >= NEXT_GAMEWEEK)].reset_index(drop=True)"
   ]
  },
  {
   "cell_type": "code",
   "execution_count": null,
   "id": "6511aece-4df6-4e78-81a3-6b6bde0ee683",
   "metadata": {},
   "outputs": [],
   "source": [
    "X_test = df_upcoming[features]"
   ]
  },
  {
   "cell_type": "code",
   "execution_count": null,
   "id": "ebc6f888-3581-418d-8774-10c1189d32d4",
   "metadata": {},
   "outputs": [],
   "source": [
    "def adjust_for_injuries(df):\n",
    "    active_players = pd.read_csv(\"data/misc/active_players.csv\")\n",
    "    injured_players = active_players[active_players[\"chance_of_playing_next_round\"] == 0][\"name\"].to_list()\n",
    "    df.loc[df[\"Name_original\"].isin(injured_players),\"Pred\"] = 0\n",
    "    return df"
   ]
  },
  {
   "cell_type": "code",
   "execution_count": null,
   "id": "4bb6bce0-39f5-42cb-8249-0fcc111cfce6",
   "metadata": {},
   "outputs": [],
   "source": [
    "def adjust_goalkeepers(df):\n",
    "    gks = pd.read_csv(\"data/misc/goalkeepers.csv\")\n",
    "    gk_names = gks[\"Name\"].to_list()\n",
    "    gk_names = [name_fbref_to_fpl(neutralize_name(n)) for n in gk_names]\n",
    "    # print(gk_names)\n",
    "    df.loc[(df[\"FPL_pos\"] == \"GK\") & ~(df[\"Name_original\"].apply(neutralize_name).isin(gk_names)), \"Pred\"] = 0\n",
    "    return df"
   ]
  },
  {
   "cell_type": "code",
   "execution_count": null,
   "id": "0773db55-621c-4f0e-b9f5-785664830209",
   "metadata": {},
   "outputs": [],
   "source": [
    "def get_predictions(model, df, X, all_remaining=False):\n",
    "    # make predictions on the test data and glues them to the rest of the dataframe\n",
    "    predictions = model.predict(X)\n",
    "    df_predictions = df[(df[\"Season\"] == CURRENT_SEASON)].reset_index(drop=True)\n",
    "        \n",
    "    df_predictions.loc[:, \"Pred\"] = predictions\n",
    "    preds = df_predictions[info + [\"Pred\"]]\n",
    "    \n",
    "    preds = adjust_goalkeepers(preds)\n",
    "    preds = adjust_for_injuries(preds).sort_values(by=[\"Pred\"], ascending = False)\n",
    "    \n",
    "    return preds"
   ]
  },
  {
   "cell_type": "code",
   "execution_count": null,
   "id": "992bd446-f779-4fd6-8e1c-92c8e57ea17c",
   "metadata": {},
   "outputs": [],
   "source": [
    "# df_upcoming[df_upcoming[\"Name_original\"] == \"Erling Haaland\"][[\"Name_original\", \"Was_home\", 'Avg_FPL_points_venue']]"
   ]
  },
  {
   "cell_type": "code",
   "execution_count": null,
   "id": "ac1fef7b-7c18-4e53-b9ff-43154cb52d9f",
   "metadata": {},
   "outputs": [],
   "source": [
    "preds = get_predictions(model, df_upcoming, X_test)"
   ]
  },
  {
   "cell_type": "code",
   "execution_count": null,
   "id": "bfc118f4-1374-40e9-b63c-85da5c33bd08",
   "metadata": {},
   "outputs": [],
   "source": [
    "# next gameweek\n",
    "preds[preds[\"GW\"] == NEXT_GAMEWEEK].head(30)"
   ]
  },
  {
   "cell_type": "code",
   "execution_count": null,
   "id": "629e028a-4b4d-4bfa-aaf2-9f9d3843710e",
   "metadata": {},
   "outputs": [],
   "source": [
    "n_gameweeks = 5\n",
    "pivot = pd.pivot_table(preds[preds[\"GW\"] < NEXT_GAMEWEEK + n_gameweeks], values='Pred', index=['Name_original', \"FPL_pos\"],\n",
    "                       columns=['GW'], aggfunc=np.sum)\n",
    "pivot['Summary'] = pivot.sum(axis=1)\n",
    "pivot.columns = ['GW' + str(col).split(\".\")[0] for col in pivot.columns[:-1]] + ['Summary']\n",
    "pivot = pivot.sort_values(by=[\"Summary\"], ascending = False)\n",
    "pivot.head(20)"
   ]
  },
  {
   "cell_type": "code",
   "execution_count": null,
   "id": "7137379d-0704-49dc-be78-b73a779a2504",
   "metadata": {},
   "outputs": [],
   "source": [
    "# points all season\n",
    "pd.DataFrame(preds.groupby([\"Name_original\"])[\"Pred\"].sum().sort_values(ascending=False)).head(30)"
   ]
  },
  {
   "cell_type": "code",
   "execution_count": null,
   "id": "02e5792b-173a-4822-a14d-f7858cf2ff99",
   "metadata": {},
   "outputs": [],
   "source": [
    "preds.to_csv(\"predictions/preds_next_season.csv\", index=False)"
   ]
  },
  {
   "cell_type": "markdown",
   "id": "3ed6461a-a67a-4068-984b-c17e9a1d8c7b",
   "metadata": {},
   "source": [
    "# Feature importance and influence"
   ]
  },
  {
   "cell_type": "code",
   "execution_count": null,
   "id": "c90e9b27-43c3-4253-830d-53c3532c5197",
   "metadata": {},
   "outputs": [],
   "source": [
    "explainer = shap.Explainer(model.predict, X_test[2000:3000])\n",
    "shap_values = explainer(X_test[2000:3000])"
   ]
  },
  {
   "cell_type": "code",
   "execution_count": null,
   "id": "f73757e7-4125-4657-8b78-914b5324a9e9",
   "metadata": {},
   "outputs": [],
   "source": [
    "shap.plots.bar(shap_values, max_display=15)"
   ]
  },
  {
   "cell_type": "code",
   "execution_count": null,
   "id": "4d1a6591-e086-4156-a51a-3ccfd3489561",
   "metadata": {},
   "outputs": [],
   "source": [
    "shap.plots.beeswarm(shap_values, max_display=15)"
   ]
  },
  {
   "cell_type": "code",
   "execution_count": null,
   "id": "b1d832a7-6e45-4286-a102-029a56916c45",
   "metadata": {},
   "outputs": [],
   "source": [
    "# # explaining Erling Haaland`s score in gameweek 31\n",
    "# shap.plots.bar(shap_values[69], max_display=15)"
   ]
  },
  {
   "cell_type": "code",
   "execution_count": null,
   "id": "e76c089c-ac6b-4a1d-993a-55ec3c5bfa8a",
   "metadata": {},
   "outputs": [],
   "source": [
    "shap.plots.waterfall(shap_values[410])"
   ]
  },
  {
   "cell_type": "code",
   "execution_count": null,
   "id": "4d649adf-759a-420c-bc7c-499f2bc2b5a0",
   "metadata": {},
   "outputs": [],
   "source": [
    "shap.plots.waterfall(shap_values[26])"
   ]
  },
  {
   "cell_type": "code",
   "execution_count": null,
   "id": "a9ea6e8d-712e-4a76-83df-da194ed7d302",
   "metadata": {},
   "outputs": [],
   "source": [
    "shap.plots.waterfall(shap_values[96])"
   ]
  },
  {
   "cell_type": "code",
   "execution_count": null,
   "id": "7d95bffb-85ba-4e13-87ad-2794003283b2",
   "metadata": {},
   "outputs": [],
   "source": []
  }
 ],
 "metadata": {
  "kernelspec": {
   "display_name": "Python 3 (ipykernel)",
   "language": "python",
   "name": "python3"
  },
  "language_info": {
   "codemirror_mode": {
    "name": "ipython",
    "version": 3
   },
   "file_extension": ".py",
   "mimetype": "text/x-python",
   "name": "python",
   "nbconvert_exporter": "python",
   "pygments_lexer": "ipython3",
   "version": "3.8.0"
  }
 },
 "nbformat": 4,
 "nbformat_minor": 5
}
