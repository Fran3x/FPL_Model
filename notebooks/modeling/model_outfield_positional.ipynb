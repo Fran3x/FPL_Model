{
 "cells": [
  {
   "cell_type": "markdown",
   "id": "e61cf721-96f7-4f7c-a5c5-343917267d91",
   "metadata": {},
   "source": [
    "\n",
    "# Imports"
   ]
  },
  {
   "cell_type": "code",
   "execution_count": 1,
   "id": "c2b67ee7-f81a-4a96-bd38-8149efc725cf",
   "metadata": {},
   "outputs": [],
   "source": [
    "import os\n",
    "os.chdir(\"D:\\PulpitE\\FPL_ML\")"
   ]
  },
  {
   "cell_type": "code",
   "execution_count": 2,
   "id": "3f447fc0-41e6-4c50-967e-2cc314a1e81f",
   "metadata": {},
   "outputs": [],
   "source": [
    "import matplotlib.pyplot as plt\n",
    "import pandas as pd\n",
    "import numpy as np\n",
    "import shap\n",
    "import pickle\n",
    "\n",
    "from sklearn.ensemble import GradientBoostingRegressor\n",
    "from xgboost import XGBRegressor\n",
    "\n",
    "from sklearn.ensemble import RandomForestRegressor\n",
    "\n",
    "from sklearn.metrics import mean_absolute_error, mean_squared_error\n",
    "\n",
    "from sklearn.preprocessing import LabelEncoder\n",
    "\n",
    "import warnings\n",
    "warnings.filterwarnings(\"ignore\", message=\"Empty dataset at worker\")"
   ]
  },
  {
   "cell_type": "markdown",
   "id": "8872f7cc-f945-4e0d-85e3-9f39ec505ed9",
   "metadata": {},
   "source": [
    "# Loading data\n",
    "Data consists of all PL players logs for 2021-22 and 2022-23 seasons\\\n",
    "A single log is just a summary of player performance in a particular match"
   ]
  },
  {
   "cell_type": "code",
   "execution_count": 3,
   "id": "217927df-909e-4a95-9e59-651d57e312db",
   "metadata": {},
   "outputs": [],
   "source": [
    "# loading csv\n",
    "df_original = pd.read_csv('data/previous/FPL_logs.csv')\n",
    "\n",
    "df = df_original.copy()"
   ]
  },
  {
   "cell_type": "code",
   "execution_count": 4,
   "id": "60af6f3b-1788-447d-a47e-94df72ca37e4",
   "metadata": {},
   "outputs": [
    {
     "data": {
      "text/plain": [
       "Index(['Date', 'Day', 'Venue', 'Team', 'Opponent', 'Name', 'Start', 'Pos',\n",
       "       'Min', 'Gls', 'Ast', 'PK', 'PKatt', 'Sh', 'SoT', 'CrdY', 'CrdR',\n",
       "       'Touches', 'Tkl', 'Int', 'Blocks', 'xG', 'npxG', 'xA', 'SCA', 'GCA',\n",
       "       'Cmp', 'Att', 'Cmp%', 'PrgP', 'Carries', 'PrgC', 'T_att', 'T_succ',\n",
       "       'Season', 'WDL', 'Team_score', 'Opp_score', 'Team_CS', 'Was_home', 'GW',\n",
       "       'Clean_name', 'FPL_name', 'FPL_team', 'FPL_opp_team', 'Name_original',\n",
       "       'FPL_pos', 'FPL_ast', 'Bonus', 'Bps', 'Player_CS', 'Creativity',\n",
       "       'Element', 'Fixture', 'Player_GC', 'Goals_scored', 'ICT_index',\n",
       "       'Influence', 'Kickoff_time', 'FPL_min', 'Own_goals', 'Penalties_missed',\n",
       "       'Penalties_saved', 'Saves', 'Selected', 'Threat', 'FPL_points',\n",
       "       'Transfers_balance', 'Transfers_in', 'Transfers_out', 'Value', 'FPL_GW',\n",
       "       'xP', 'FPL_xA', 'FPL_xGI', 'FPL_xG', 'FPL_xGC', 'Opp_rating',\n",
       "       'Team_rating', 'Min_points'],\n",
       "      dtype='object')"
      ]
     },
     "execution_count": 4,
     "metadata": {},
     "output_type": "execute_result"
    }
   ],
   "source": [
    "df_original.columns"
   ]
  },
  {
   "cell_type": "code",
   "execution_count": 5,
   "id": "bea7e13d-5911-428a-a55c-6636cc0e10f9",
   "metadata": {},
   "outputs": [
    {
     "data": {
      "text/plain": [
       "484"
      ]
     },
     "execution_count": 5,
     "metadata": {},
     "output_type": "execute_result"
    }
   ],
   "source": [
    "df_original[\"Name\"].unique().size"
   ]
  },
  {
   "cell_type": "code",
   "execution_count": 6,
   "id": "5c1b9133-98f1-4547-aa9a-01dac513f0e0",
   "metadata": {},
   "outputs": [
    {
     "data": {
      "text/plain": [
       "(19421, 80)"
      ]
     },
     "execution_count": 6,
     "metadata": {},
     "output_type": "execute_result"
    }
   ],
   "source": [
    "df.shape"
   ]
  },
  {
   "cell_type": "code",
   "execution_count": 7,
   "id": "061b7f77-aaa5-4c47-aa57-fcd0a8f1f383",
   "metadata": {},
   "outputs": [
    {
     "data": {
      "text/plain": [
       "array(['2021-22', '2022-23', '2023-24'], dtype=object)"
      ]
     },
     "execution_count": 7,
     "metadata": {},
     "output_type": "execute_result"
    }
   ],
   "source": [
    "df[\"Season\"].unique()"
   ]
  },
  {
   "cell_type": "code",
   "execution_count": 8,
   "id": "464f26d7-f383-4606-a3dd-65490459f61a",
   "metadata": {},
   "outputs": [],
   "source": [
    "# df = df[~df[\"FPL_pos\"].isin([\"GK\"])]"
   ]
  },
  {
   "cell_type": "code",
   "execution_count": 9,
   "id": "a430c403-af6e-4b98-b8cf-fee845752bc2",
   "metadata": {},
   "outputs": [
    {
     "data": {
      "text/plain": [
       "array(['2021-22', '2022-23', '2023-24'], dtype=object)"
      ]
     },
     "execution_count": 9,
     "metadata": {},
     "output_type": "execute_result"
    }
   ],
   "source": [
    "df[\"Season\"].unique()"
   ]
  },
  {
   "cell_type": "code",
   "execution_count": 10,
   "id": "deb4a2ed-3f4a-4d30-887c-110fe07088e2",
   "metadata": {},
   "outputs": [],
   "source": [
    "df = df[df[\"Season\"].isin(['2021-22', '2022-23'])]\n",
    "df = df[~~df[\"FPL_pos\"].isin(['GK'])]"
   ]
  },
  {
   "cell_type": "code",
   "execution_count": 11,
   "id": "a2e133a4-2a62-47f4-b549-3c907a833258",
   "metadata": {},
   "outputs": [],
   "source": [
    "df = df.sort_values(by=[\"Name\", \"Date\"])"
   ]
  },
  {
   "cell_type": "markdown",
   "id": "32eaa7fb-e3cc-4e17-a8b1-cc301aa3a766",
   "metadata": {},
   "source": [
    "# Feature selection\n",
    "Model will use a set of standard features and moving averages for some other feature values. In this case we will use moving averages for last 2, 4 and 30 gameweeks."
   ]
  },
  {
   "cell_type": "code",
   "execution_count": 12,
   "id": "29b66688-3e11-4ea5-a9ed-77be552e5e4a",
   "metadata": {},
   "outputs": [],
   "source": [
    "rolling_gameweeks = [2, 4, 30]\n",
    "# rolling_gameweeks = [5]\n",
    "\n",
    "# to_predict = \"FPL_points\"\n",
    "to_predict = \"xP\"\n",
    "standard_features = [\n",
    "             \"Was_home\", # Home/Away\n",
    "             # \"Team_rating\", \"Opp_rating\", \n",
    "             \"Rating_difference\" # Team ratings\n",
    "             ]\n",
    "features_to_roll = [\n",
    "                \"Min\", \n",
    "                # \"Start\", # time played\n",
    "                'Gls', \n",
    "                # 'Sh', 'SoT', # Goals\n",
    "                'Ast', # Assists\n",
    "                # 'CrdY', 'CrdR', # Cards\n",
    "                \"xG\", 'xA', # Expected\n",
    "                'Team_CS', # Defence\n",
    "                'Team_score', 'Opp_score', 'Team_result', # Team form\n",
    "                # \"xGPoints\", \"CSPoints\", # Position-scaled\n",
    "                # \"Cmp%\", \"PrgP\", \"PrgC\", \"T_succ\",\n",
    "                # 'bonus', 'bps', # Bonus\n",
    "                # 'ICT_index', # ICT\n",
    "                \"FPL_points\", \n",
    "                # \"Baseline_points\", \"Bonus\" # FPL points\n",
    "            ]\n",
    "info = [\"Name_original\", \"GW\", \"Season\", \"Team\", \"Opponent\", \"Was_home\", \"Team_rating\", \"Opp_rating\", \"FPL_pos\", \"FPL_points\"]"
   ]
  },
  {
   "cell_type": "code",
   "execution_count": 13,
   "id": "377cc7d4-049d-4499-8917-fe0fe1833b4a",
   "metadata": {},
   "outputs": [],
   "source": [
    "# df[df[\"Name\"] == \"Erling-Haaland\"]"
   ]
  },
  {
   "cell_type": "markdown",
   "id": "fe7a4ac1-336c-4ea4-ad91-24489c66e789",
   "metadata": {},
   "source": [
    "# Feature engineering"
   ]
  },
  {
   "cell_type": "code",
   "execution_count": 14,
   "id": "338fb226-ffc9-4431-b9e2-5e4a1dd5592b",
   "metadata": {},
   "outputs": [],
   "source": [
    "df[\"Rating_difference\"] = df[\"Team_rating\"] / df[\"Opp_rating\"]\n",
    "df[\"Baseline_points\"] = df[\"FPL_points\"] - df[\"Bonus\"]"
   ]
  },
  {
   "cell_type": "code",
   "execution_count": 15,
   "id": "f3a73ddc-31da-4c0d-93f1-e2f53e14c6ef",
   "metadata": {},
   "outputs": [],
   "source": [
    "def calculate_team_points(row):\n",
    "    # win - 3 points\n",
    "    if row['Team_score'] > row['Opp_score']:\n",
    "        return 3\n",
    "    # draw - 1 point\n",
    "    elif row['Team_score'] == row['Opp_score']:\n",
    "        return 1\n",
    "    # loss - 0 points\n",
    "    else:\n",
    "        return 0\n",
    "    \n",
    "df['Team_result'] = df.apply(calculate_team_points, axis=1)"
   ]
  },
  {
   "cell_type": "code",
   "execution_count": 16,
   "id": "2fe53aca-b1c7-4f24-87ae-81fe1ab6f532",
   "metadata": {},
   "outputs": [],
   "source": [
    "def add_rolling_features(df, standard_features, features_to_roll):\n",
    "    features = standard_features\n",
    "    \n",
    "    for r in rolling_gameweeks:\n",
    "        form_means = df.groupby([\"Name\"])[features_to_roll].rolling(r, min_periods=1).mean().groupby([\"Name\"]).shift(1).reset_index()\n",
    "        # print(form_means[form_means[\"Name\"] == \"Erling-Haaland\"])\n",
    "        form_means = form_means.fillna(method='bfill') # slightly incorrect, better to drop Nan\n",
    "        form_means.columns = [f'{col}{\"_\"}{r}' for col in form_means.columns]\n",
    "        features += form_means.columns.tolist()\n",
    "        features = list(filter(lambda x: x not in [\"Name_\" + str(r)], features))\n",
    "        df = pd.concat([df.reset_index(), form_means], axis=1)\n",
    "        # df = df.merge(form_means, left_index=True, right_index=True)\n",
    "        df = df.drop([col for col in df.columns if col.startswith('level')], axis=1)\n",
    "        \n",
    "    return df.reset_index(), features"
   ]
  },
  {
   "cell_type": "code",
   "execution_count": 17,
   "id": "2e46c21c-3984-42e5-a6ff-a4118cb1f802",
   "metadata": {},
   "outputs": [],
   "source": [
    "def ohe(df, ohe_columns, features):\n",
    "    # one hot encoding\n",
    "    for c in ohe_columns:\n",
    "        ohe_c = pd.get_dummies(df[c], dtype=\"int64\")\n",
    "        df = pd.concat([df, ohe_c], axis=1)\n",
    "\n",
    "        features += ohe_c.columns.tolist()\n",
    "        \n",
    "    return df, features"
   ]
  },
  {
   "cell_type": "code",
   "execution_count": 18,
   "id": "026526dc-1fdd-4eb4-854e-c3e383197574",
   "metadata": {},
   "outputs": [],
   "source": [
    "def label_encoding(df, column_to_encode):\n",
    "    \n",
    "    mapping_dict = {\n",
    "        'Y': 1, # Starting eleven\n",
    "        'Y*': 1, # Starting eleven as captain\n",
    "        'N': 0, # Not in starting eleven\n",
    "    }\n",
    "    \n",
    "    df[column_to_encode] = df[column_to_encode].map(mapping_dict)\n",
    "    \n",
    "    return df"
   ]
  },
  {
   "cell_type": "code",
   "execution_count": 19,
   "id": "dc05870f-c6a1-4340-b061-6b0f9da5ff46",
   "metadata": {},
   "outputs": [],
   "source": [
    "df = label_encoding(df, \"Start\")"
   ]
  },
  {
   "cell_type": "code",
   "execution_count": 20,
   "id": "c963831b-e2ec-4958-b2da-99c9eb5cf759",
   "metadata": {},
   "outputs": [],
   "source": [
    "df, features = add_rolling_features(df, standard_features, features_to_roll)"
   ]
  },
  {
   "cell_type": "code",
   "execution_count": 21,
   "id": "b0dd88c1-dbbe-41f8-8159-b8e73f7f5c0d",
   "metadata": {},
   "outputs": [],
   "source": [
    "df, features = ohe(df, [\"FPL_pos\"], features)\n",
    "if \"GK\" in df.columns:\n",
    "    df = df.drop(\"GK\", axis=1)\n",
    "    features.remove(\"GK\")"
   ]
  },
  {
   "cell_type": "code",
   "execution_count": 22,
   "id": "871534cf-bd8d-49ed-bb56-d3ffaa9d8478",
   "metadata": {},
   "outputs": [],
   "source": [
    "# dropping unwanted columns\n",
    "features = [col for col in features if not col.startswith('level')]\n",
    "df = df[np.unique(features + info + [to_predict])]"
   ]
  },
  {
   "cell_type": "code",
   "execution_count": 23,
   "id": "269a1373-9fbd-4aa3-a095-5ad1c74be587",
   "metadata": {},
   "outputs": [],
   "source": [
    "df = df[pd.to_numeric(df[\"GW\"], errors=\"coerce\").notna()]\n",
    "df[\"GW\"] = df[\"GW\"].astype(\"uint64\")"
   ]
  },
  {
   "cell_type": "code",
   "execution_count": 24,
   "id": "dbd5108b-c4b3-4268-9a8d-6e0ebdbe7a8d",
   "metadata": {},
   "outputs": [],
   "source": [
    "# dropping NaNs\n",
    "df = df.dropna(axis=0)"
   ]
  },
  {
   "cell_type": "code",
   "execution_count": 25,
   "id": "eb1b8f09-495e-4f39-abec-238b6ff2d3d2",
   "metadata": {},
   "outputs": [],
   "source": [
    "# df = df.set_index([\"Name_original\", \"Season\", \"GW\"], drop=False)"
   ]
  },
  {
   "cell_type": "code",
   "execution_count": 26,
   "id": "aa7edd40-4433-4d9d-bc95-747fd5fcc118",
   "metadata": {},
   "outputs": [
    {
     "data": {
      "text/plain": [
       "Index(['Ast_2', 'Ast_30', 'Ast_4', 'FPL_points', 'FPL_points_2',\n",
       "       'FPL_points_30', 'FPL_points_4', 'FPL_pos', 'GW', 'Gls_2', 'Gls_30',\n",
       "       'Gls_4', 'Min_2', 'Min_30', 'Min_4', 'Name_original', 'Opp_rating',\n",
       "       'Opp_score_2', 'Opp_score_30', 'Opp_score_4', 'Opponent',\n",
       "       'Rating_difference', 'Season', 'Team', 'Team_CS_2', 'Team_CS_30',\n",
       "       'Team_CS_4', 'Team_rating', 'Team_result_2', 'Team_result_30',\n",
       "       'Team_result_4', 'Team_score_2', 'Team_score_30', 'Team_score_4',\n",
       "       'Was_home', 'xA_2', 'xA_30', 'xA_4', 'xG_2', 'xG_30', 'xG_4', 'xP'],\n",
       "      dtype='object')"
      ]
     },
     "execution_count": 26,
     "metadata": {},
     "output_type": "execute_result"
    }
   ],
   "source": [
    "df.columns"
   ]
  },
  {
   "cell_type": "code",
   "execution_count": 27,
   "id": "f9ac2b91-59ee-4d56-97be-b9a374d36604",
   "metadata": {},
   "outputs": [
    {
     "data": {
      "text/plain": [
       "(1740, 42)"
      ]
     },
     "execution_count": 27,
     "metadata": {},
     "output_type": "execute_result"
    }
   ],
   "source": [
    "df.shape"
   ]
  },
  {
   "cell_type": "code",
   "execution_count": 28,
   "id": "858c2600-7b98-42a1-bdc9-124640517d1e",
   "metadata": {},
   "outputs": [],
   "source": [
    "# saving to file\n",
    "df.set_index([\"Name_original\", \"Season\", \"GW\"], drop=False).to_csv(\"data/misc/df_features.csv\", index=False) # keeping GKs on"
   ]
  },
  {
   "cell_type": "code",
   "execution_count": 29,
   "id": "9a63b5c3-8665-4e01-8fb4-844bb5423741",
   "metadata": {},
   "outputs": [],
   "source": [
    "# df = df[~df[\"FPL_pos\"].isin([\"GK\"])] # only outfield players"
   ]
  },
  {
   "cell_type": "markdown",
   "id": "fc895e8b-ed8c-4c03-89fe-eccde0b4c26e",
   "metadata": {},
   "source": [
    "# Data split into train and valid\n",
    "Let's take entire 2021-22 season and 30 first gameweeks of 2022-23 season as training data and 8 last gameweeks of that season as valid data (~10% of all rows)."
   ]
  },
  {
   "cell_type": "code",
   "execution_count": 30,
   "id": "bfe23832-6631-4e90-81c3-1331e7c0b0e0",
   "metadata": {},
   "outputs": [],
   "source": [
    "def shrink_df_to_top_players(df, n_players, min_fixtures):\n",
    "    # Calculate average scores\n",
    "    average_scores = df.groupby('Name_original')[to_predict].mean()\n",
    "    \n",
    "    # Calculate player counts\n",
    "    player_counts = df['Name_original'].value_counts()\n",
    "    \n",
    "    # Filter out players with less than min_fixtures occurrences\n",
    "    popular_players = player_counts[player_counts >= min_fixtures].index\n",
    "    \n",
    "    print(\"Unique players with min_fixtures:\", popular_players.size)\n",
    "\n",
    "    # Sort players by average scores\n",
    "    sorted_players = average_scores.sort_values(ascending=False)\n",
    "\n",
    "    # Get the top n_players players\n",
    "    top_popular_players = sorted_players[sorted_players.index.isin(popular_players)].head(n_players)\n",
    "\n",
    "    # Filter the original DataFrame\n",
    "    top_players_df = df[df['Name_original'].isin(top_popular_players.index)]\n",
    "    \n",
    "    print(\"Unique players left:\", top_players_df['Name_original'].unique().size)\n",
    "    \n",
    "    return top_players_df"
   ]
  },
  {
   "cell_type": "code",
   "execution_count": 31,
   "id": "1a46a038-a0b2-4348-b87c-2ca15569f6eb",
   "metadata": {},
   "outputs": [],
   "source": [
    "CUT_OFF_GAMEWEEK = 31\n",
    "SEASON_TO_PREDICT = \"2022-23\""
   ]
  },
  {
   "cell_type": "code",
   "execution_count": 32,
   "id": "d066b924-0fa7-41ca-8eea-a15cd59d5fa3",
   "metadata": {},
   "outputs": [
    {
     "name": "stdout",
     "output_type": "stream",
     "text": [
      "Unique players with min_fixtures: 37\n",
      "Unique players left: 37\n"
     ]
    }
   ],
   "source": [
    "df_train = shrink_df_to_top_players(df, 550, 10)\n",
    "# df_train[\"Name_original\"].unique()"
   ]
  },
  {
   "cell_type": "code",
   "execution_count": 33,
   "id": "3f3a9ed0-d0fb-4258-af80-6bfdac4694b8",
   "metadata": {},
   "outputs": [],
   "source": [
    "df = df.set_index([\"Name_original\", \"Season\", \"GW\"], drop=False)"
   ]
  },
  {
   "cell_type": "code",
   "execution_count": 34,
   "id": "45b9f614-d91d-491f-b5d0-d278db561c2d",
   "metadata": {},
   "outputs": [],
   "source": [
    "# training data\n",
    "X_train = df_train[((df_train[\"Season\"] < SEASON_TO_PREDICT) | (df_train[\"GW\"] <= CUT_OFF_GAMEWEEK - 1))].reset_index(drop=True)\n",
    "y_train = df_train[((df_train[\"Season\"] < SEASON_TO_PREDICT) | (df_train[\"GW\"] <= CUT_OFF_GAMEWEEK - 1))].reset_index(drop=True)"
   ]
  },
  {
   "cell_type": "code",
   "execution_count": 35,
   "id": "7996012d-2bf5-45da-a29e-e75932313172",
   "metadata": {},
   "outputs": [],
   "source": [
    "# only 31st gameweek\n",
    "X_test = df[(df[\"GW\"] == CUT_OFF_GAMEWEEK) & (df[\"Season\"] == SEASON_TO_PREDICT) ].reset_index(drop=True)\n",
    "y_test = df[(df[\"GW\"] == CUT_OFF_GAMEWEEK) & (df[\"Season\"] == SEASON_TO_PREDICT) ].reset_index(drop=True)"
   ]
  },
  {
   "cell_type": "code",
   "execution_count": 36,
   "id": "e59975bf-a85b-4920-a8d1-2a80273ebb65",
   "metadata": {},
   "outputs": [],
   "source": [
    "# all remaining gameweeks\n",
    "X_test_all_remaining = df[(df[\"GW\"] >= CUT_OFF_GAMEWEEK) & (df[\"Season\"] == SEASON_TO_PREDICT) ].reset_index(drop=True)\n",
    "y_test_all_remaining = df[(df[\"GW\"] >= CUT_OFF_GAMEWEEK) & (df[\"Season\"] == SEASON_TO_PREDICT) ].reset_index(drop=True)"
   ]
  },
  {
   "cell_type": "code",
   "execution_count": 37,
   "id": "dcf0a862-ff68-4236-8fcb-dcf5e8ebe29f",
   "metadata": {},
   "outputs": [
    {
     "data": {
      "text/plain": [
       "((1520, 42), (24, 42), (206, 42))"
      ]
     },
     "execution_count": 37,
     "metadata": {},
     "output_type": "execute_result"
    }
   ],
   "source": [
    "X_train.shape, X_test.shape, X_test_all_remaining.shape"
   ]
  },
  {
   "cell_type": "markdown",
   "id": "bd2b3df9-363d-4c0a-8a1b-ce561ee29b23",
   "metadata": {},
   "source": [
    "# Model"
   ]
  },
  {
   "cell_type": "code",
   "execution_count": 38,
   "id": "586751c8-3904-401e-a0b5-cc9137d88c12",
   "metadata": {},
   "outputs": [],
   "source": [
    "class PositionalModel:\n",
    "    def __init__(self):\n",
    "        self.model_GK = XGBRegressor(random_state=42, verbosity = 0)\n",
    "        self.model_DEF = XGBRegressor(random_state=42, verbosity = 0)\n",
    "        self.model_MID = XGBRegressor(random_state=42, verbosity = 0)\n",
    "        self.model_FWD = XGBRegressor(random_state=42, verbosity = 0)\n",
    "        \n",
    "    def fit(self, X, y):\n",
    "        # print(y[y[\"FPL_pos\"] == \"GK\"].shape)\n",
    "        self.model_GK.fit(X[X[\"FPL_pos\"] == \"GK\"][features], y[y[\"FPL_pos\"] == \"GK\"][to_predict], verbose=False)\n",
    "        self.model_DEF.fit(X[X[\"FPL_pos\"] == \"DEF\"][features], y[y[\"FPL_pos\"] == \"DEF\"][to_predict], verbose=False)\n",
    "        self.model_MID.fit(X[X[\"FPL_pos\"] == \"MID\"][features], y[y[\"FPL_pos\"] == \"MID\"][to_predict], verbose=False)\n",
    "        self.model_FWD.fit(X[X[\"FPL_pos\"] == \"FWD\"][features], y[y[\"FPL_pos\"] == \"FWD\"][to_predict], verbose=False)\n",
    "        \n",
    "    def predict(self, X):\n",
    "        output = []\n",
    "        for i, row in X.iterrows():\n",
    "            # print(i)\n",
    "            if row[\"FPL_pos\"] == \"GK\":\n",
    "                output.append( self.model_GK.predict( X.head(i+1).tail(1)[features] ) )\n",
    "            if row[\"FPL_pos\"] == \"DEF\":\n",
    "                # print(row[features])\n",
    "                output.append( self.model_DEF.predict( X.head(i+1).tail(1)[features] ) )\n",
    "            if row[\"FPL_pos\"] == \"MID\":\n",
    "                output.append( self.model_MID.predict( X.head(i+1).tail(1)[features] ) )\n",
    "            if row[\"FPL_pos\"] == \"FWD\":\n",
    "                output.append( self.model_FWD.predict( X.head(i+1).tail(1)[features] ) )\n",
    "        return np.array(output).flatten()"
   ]
  },
  {
   "cell_type": "code",
   "execution_count": 39,
   "id": "869c69e0-56ad-4baf-a403-dcdc61f7adec",
   "metadata": {},
   "outputs": [],
   "source": [
    "# model = GradientBoostingRegressor(random_state=42)\n",
    "model = PositionalModel()\n",
    "# model = RandomForestRegressor(random_state=42)"
   ]
  },
  {
   "cell_type": "code",
   "execution_count": 40,
   "id": "8531e1e4-92af-494b-b5b7-7a48f2796fa6",
   "metadata": {},
   "outputs": [
    {
     "name": "stdout",
     "output_type": "stream",
     "text": [
      "CPU times: total: 1.75 s\n",
      "Wall time: 515 ms\n"
     ]
    }
   ],
   "source": [
    "%%time\n",
    "model.fit(\n",
    "    X_train,\n",
    "    y_train\n",
    ")"
   ]
  },
  {
   "cell_type": "markdown",
   "id": "438dc7ca-6134-429b-bd5e-4a99261c2781",
   "metadata": {
    "tags": []
   },
   "source": [
    "# Getting predictions"
   ]
  },
  {
   "cell_type": "code",
   "execution_count": 41,
   "id": "ecff920f-d510-4f46-ae3e-6316aca350bb",
   "metadata": {},
   "outputs": [],
   "source": [
    "def get_predictions(model, df, X, all_remaining=False):\n",
    "    # make predictions on the test data and glues them to the rest of the dataframe\n",
    "    predictions = model.predict(X)\n",
    "    \n",
    "    if all_remaining:\n",
    "        df_predictions = df[(df[\"GW\"] >= CUT_OFF_GAMEWEEK) & (df[\"Season\"] == SEASON_TO_PREDICT)].reset_index(drop=True)\n",
    "    else:\n",
    "        df_predictions = df[(df[\"GW\"] == CUT_OFF_GAMEWEEK) & (df[\"Season\"] == SEASON_TO_PREDICT)].reset_index(drop=True)\n",
    "    \n",
    "    df_predictions.loc[:, \"Pred\"] = predictions\n",
    "    \n",
    "    preds = df_predictions[info + [to_predict] + [\"Pred\"]].sort_values(by=[\"Pred\"], ascending = False)\n",
    "    \n",
    "    return preds, predictions"
   ]
  },
  {
   "cell_type": "code",
   "execution_count": 42,
   "id": "fc15d678-d460-438b-8750-c00cd0321f31",
   "metadata": {},
   "outputs": [
    {
     "name": "stdout",
     "output_type": "stream",
     "text": [
      "X SHAPE (24, 42)\n"
     ]
    }
   ],
   "source": [
    "preds, predictions = get_predictions(model, df, X_test)"
   ]
  },
  {
   "cell_type": "code",
   "execution_count": 43,
   "id": "b1d6ca6e-dee3-408b-9bd2-3cbf79c23ab6",
   "metadata": {},
   "outputs": [],
   "source": [
    "# X_test.isna().sum().sum()"
   ]
  },
  {
   "cell_type": "code",
   "execution_count": 44,
   "id": "5b318f3a-f755-44af-9dcc-349b91a04bd6",
   "metadata": {},
   "outputs": [
    {
     "name": "stdout",
     "output_type": "stream",
     "text": [
      "X SHAPE (206, 42)\n"
     ]
    }
   ],
   "source": [
    "preds_all_gameweeks, predictions_all = get_predictions(model, df, X_test_all_remaining, True)"
   ]
  },
  {
   "cell_type": "code",
   "execution_count": 45,
   "id": "0de661d6-e6ab-4b10-aed9-2ed2713461af",
   "metadata": {},
   "outputs": [
    {
     "data": {
      "text/plain": [
       "Index(['Ast_2', 'Ast_30', 'Ast_4', 'FPL_points', 'FPL_points_2',\n",
       "       'FPL_points_30', 'FPL_points_4', 'FPL_pos', 'GW', 'Gls_2', 'Gls_30',\n",
       "       'Gls_4', 'Min_2', 'Min_30', 'Min_4', 'Name_original', 'Opp_rating',\n",
       "       'Opp_score_2', 'Opp_score_30', 'Opp_score_4', 'Opponent',\n",
       "       'Rating_difference', 'Season', 'Team', 'Team_CS_2', 'Team_CS_30',\n",
       "       'Team_CS_4', 'Team_rating', 'Team_result_2', 'Team_result_30',\n",
       "       'Team_result_4', 'Team_score_2', 'Team_score_30', 'Team_score_4',\n",
       "       'Was_home', 'xA_2', 'xA_30', 'xA_4', 'xG_2', 'xG_30', 'xG_4', 'xP'],\n",
       "      dtype='object')"
      ]
     },
     "execution_count": 45,
     "metadata": {},
     "output_type": "execute_result"
    }
   ],
   "source": [
    "df.columns"
   ]
  },
  {
   "cell_type": "markdown",
   "id": "bcb4ce5d-b258-4626-ba7e-3d232df036b2",
   "metadata": {},
   "source": [
    "# Custom metric\n",
    "Such models are usually used to compare players and decide who to pick for upcoming gameweek(s). For each player pair in a subset of players model can either predict the outcome well (e.g. player A scores more than player B and model predicts exactly that) or predict wrongly (e.g. player A scores more than player B but model predicts player B > player A). Pairwise_accuracy returns the percentage of corrected predicted pairs. Pairwise_accuracy_topX is a variation of this metric calculated only for X highest scoring players of last two seasons."
   ]
  },
  {
   "cell_type": "code",
   "execution_count": 46,
   "id": "30d87d10-ae71-4fc6-aa37-455fa45be613",
   "metadata": {},
   "outputs": [],
   "source": [
    "def get_top_performer_names(df, no_top, no_gws):\n",
    "    # takes no_top players that recorded highest average FPL points in no_gws last gameweeks\n",
    "    return df.reset_index(drop=True).groupby(\"Name_original\")[to_predict].mean().groupby(\"Name_original\").tail(no_gws).sort_values(ascending=False).head(no_top).index.to_list()"
   ]
  },
  {
   "cell_type": "code",
   "execution_count": 47,
   "id": "ad049ca6-a774-4dc9-95f4-e981ba0ed254",
   "metadata": {},
   "outputs": [],
   "source": [
    "def pairwise_accuracy(predicted_scores, true_scores):\n",
    "    if len(predicted_scores) != len(true_scores):\n",
    "        raise ValueError(\"The length of predicted_scores and true_scores must be the same.\")\n",
    "\n",
    "    num_pairs = 0\n",
    "    num_correct_pairs = 0\n",
    "\n",
    "    for i in range(len(predicted_scores)):\n",
    "        for j in range(i + 1, len(predicted_scores)):\n",
    "            # Check if the predicted order matches the true order\n",
    "            if (predicted_scores[i] > predicted_scores[j] and true_scores[i] > true_scores[j]) or \\\n",
    "               (predicted_scores[i] < predicted_scores[j] and true_scores[i] < true_scores[j]):\n",
    "                num_correct_pairs += 1\n",
    "            num_pairs += 1\n",
    "\n",
    "    pairwise_accuracy = num_correct_pairs / num_pairs\n",
    "    return pairwise_accuracy"
   ]
  },
  {
   "cell_type": "code",
   "execution_count": 48,
   "id": "0dcbdf3b-8f16-432d-a9d4-ca4b93888927",
   "metadata": {},
   "outputs": [],
   "source": [
    "def pairwise_accuracy_topX(model, df, top_x, all_gw=False):\n",
    "    # pairwise_accuracy for top_X players\n",
    "    if all_gw:\n",
    "        top_performers = df[(df[\"GW\"] == CUT_OFF_GAMEWEEK) & (df[\"Season\"] == SEASON_TO_PREDICT) & (df[\"Name_original\"].isin(get_top_performer_names(df, top_x, 50)))]\n",
    "    else:\n",
    "        top_performers = df[(df[\"GW\"] >= CUT_OFF_GAMEWEEK) & (df[\"Season\"] == SEASON_TO_PREDICT) & (df[\"Name_original\"].isin(get_top_performer_names(df, top_x, 50)))]\n",
    "\n",
    "    X = top_performers[features].reset_index(drop=True)\n",
    "    y = np.array(top_performers[to_predict].reset_index(drop=True))\n",
    "    preds = model.predict(X)\n",
    "    \n",
    "    return  pairwise_accuracy(preds, y)"
   ]
  },
  {
   "cell_type": "markdown",
   "id": "434ed227-7346-4124-8cc6-4b7e8c99606b",
   "metadata": {},
   "source": [
    "# Evaluation"
   ]
  },
  {
   "cell_type": "code",
   "execution_count": 49,
   "id": "6764621d-0288-45d0-95a3-36c29e6c95c4",
   "metadata": {},
   "outputs": [],
   "source": [
    "def evaluate(model, df, predictions, y_true, all_gw=False):\n",
    "    # function to calculate different metrics for a given model\n",
    "    mae = mean_absolute_error(y_true[\"FPL_points\"], predictions)\n",
    "    mse = mean_squared_error(y_true[\"FPL_points\"], predictions)\n",
    "\n",
    "    # pairwise_acc = pairwise_accuracy(y_true, predictions)\n",
    "    # pairwise_accuracy_top20 = pairwise_accuracy_topX(model, df, 20, all_gw)\n",
    "    # pairwise_accuracy_top100 = pairwise_accuracy_topX(model, df, 100, all_gw)\n",
    "    \n",
    "    print(\"MAE:\", mae)\n",
    "    print(\"MSE:\", mse)\n",
    "    # print(\"Pairwise accuracy:\", pairwise_acc)\n",
    "    # print(\"Pairwise accuracy @TOP100:\", pairwise_accuracy_top100)\n",
    "    # print(\"Pairwise accuracy @TOP20:\", pairwise_accuracy_top20)\n",
    "    print(\"Avg pred vs avg true:\", np.mean(predictions).round(2), \"vs\", np.mean(y_true[to_predict]).round(2).item())"
   ]
  },
  {
   "cell_type": "code",
   "execution_count": 50,
   "id": "2f9841b1-66d7-4b01-b878-a1a21114e9f9",
   "metadata": {},
   "outputs": [],
   "source": [
    "# df[(df[\"GW\"] == GAMEWEEK_TO_PREDICT) & (df[\"Season\"] == SEASON_TO_PREDICT) & (df[\"Name\"].isin(get_top_performer_names(df, 20, 50)))].columns"
   ]
  },
  {
   "cell_type": "code",
   "execution_count": 51,
   "id": "620d667e-0f67-4a3e-9d17-13f775d06b5e",
   "metadata": {},
   "outputs": [
    {
     "name": "stdout",
     "output_type": "stream",
     "text": [
      "MAE: 1.1744880268039803\n",
      "MSE: 5.0393968444538855\n",
      "Avg pred vs avg true: 1.81 vs 1.83\n"
     ]
    }
   ],
   "source": [
    "# next gameweek\n",
    "evaluate(model, df, predictions, y_test, all_gw=False)"
   ]
  },
  {
   "cell_type": "code",
   "execution_count": 52,
   "id": "2264d7a3-28e2-4864-b02a-eb521e567e46",
   "metadata": {},
   "outputs": [
    {
     "name": "stdout",
     "output_type": "stream",
     "text": [
      "MAE: 1.6316035221256224\n",
      "MSE: 6.562758081023589\n",
      "Avg pred vs avg true: 2.04 vs 1.76\n"
     ]
    }
   ],
   "source": [
    "# all remaining gameweeks\n",
    "evaluate(model, df, predictions_all, y_test_all_remaining, all_gw=True)"
   ]
  },
  {
   "cell_type": "code",
   "execution_count": 53,
   "id": "f5cf7c0e-b7d8-483d-b565-fc1260f26f1e",
   "metadata": {},
   "outputs": [],
   "source": [
    "# df[df[\"Name\"] == \"Abdoulaye-Doucoure\"][info]"
   ]
  },
  {
   "cell_type": "code",
   "execution_count": 54,
   "id": "1de0dbe5-2b5f-472d-9f2d-2300dab2b19c",
   "metadata": {},
   "outputs": [],
   "source": [
    "# model.predict(df[df[\"GW\"] == GAMEWEEK_TO_PREDICT][df[\"Name\"] == \"Mohamed-Salah\"][features])"
   ]
  },
  {
   "cell_type": "code",
   "execution_count": 55,
   "id": "2a6fed93-1557-41eb-9ec8-aaac2925ae8e",
   "metadata": {},
   "outputs": [
    {
     "data": {
      "text/plain": [
       "['Was_home',\n",
       " 'Rating_difference',\n",
       " 'Min_2',\n",
       " 'Gls_2',\n",
       " 'Ast_2',\n",
       " 'xG_2',\n",
       " 'xA_2',\n",
       " 'Team_CS_2',\n",
       " 'Team_score_2',\n",
       " 'Opp_score_2',\n",
       " 'Team_result_2',\n",
       " 'FPL_points_2',\n",
       " 'Min_4',\n",
       " 'Gls_4',\n",
       " 'Ast_4',\n",
       " 'xG_4',\n",
       " 'xA_4',\n",
       " 'Team_CS_4',\n",
       " 'Team_score_4',\n",
       " 'Opp_score_4',\n",
       " 'Team_result_4',\n",
       " 'FPL_points_4',\n",
       " 'Min_30',\n",
       " 'Gls_30',\n",
       " 'Ast_30',\n",
       " 'xG_30',\n",
       " 'xA_30',\n",
       " 'Team_CS_30',\n",
       " 'Team_score_30',\n",
       " 'Opp_score_30',\n",
       " 'Team_result_30',\n",
       " 'FPL_points_30']"
      ]
     },
     "execution_count": 55,
     "metadata": {},
     "output_type": "execute_result"
    }
   ],
   "source": [
    "features"
   ]
  },
  {
   "cell_type": "code",
   "execution_count": 56,
   "id": "42970ebb-d740-4b25-a6e6-a8971f5efbeb",
   "metadata": {},
   "outputs": [
    {
     "data": {
      "text/plain": [
       "32"
      ]
     },
     "execution_count": 56,
     "metadata": {},
     "output_type": "execute_result"
    }
   ],
   "source": [
    "len(features)"
   ]
  },
  {
   "cell_type": "markdown",
   "id": "09ff9469-b50e-44d3-9e08-2b9fb4c8e8ba",
   "metadata": {},
   "source": [
    "# Predictions - next gameweek only"
   ]
  },
  {
   "cell_type": "code",
   "execution_count": 57,
   "id": "6df93768-16bb-495b-94ab-f240d07e9b4e",
   "metadata": {},
   "outputs": [
    {
     "data": {
      "text/html": [
       "<div>\n",
       "<style scoped>\n",
       "    .dataframe tbody tr th:only-of-type {\n",
       "        vertical-align: middle;\n",
       "    }\n",
       "\n",
       "    .dataframe tbody tr th {\n",
       "        vertical-align: top;\n",
       "    }\n",
       "\n",
       "    .dataframe thead th {\n",
       "        text-align: right;\n",
       "    }\n",
       "</style>\n",
       "<table border=\"1\" class=\"dataframe\">\n",
       "  <thead>\n",
       "    <tr style=\"text-align: right;\">\n",
       "      <th></th>\n",
       "      <th>Name_original</th>\n",
       "      <th>GW</th>\n",
       "      <th>Season</th>\n",
       "      <th>Team</th>\n",
       "      <th>Opponent</th>\n",
       "      <th>Was_home</th>\n",
       "      <th>Team_rating</th>\n",
       "      <th>Opp_rating</th>\n",
       "      <th>FPL_pos</th>\n",
       "      <th>FPL_points</th>\n",
       "      <th>xP</th>\n",
       "      <th>Pred</th>\n",
       "    </tr>\n",
       "  </thead>\n",
       "  <tbody>\n",
       "    <tr>\n",
       "      <th>7</th>\n",
       "      <td>Emiliano Martínez Romero</td>\n",
       "      <td>31</td>\n",
       "      <td>2022-23</td>\n",
       "      <td>Aston Villa</td>\n",
       "      <td>Newcastle Utd</td>\n",
       "      <td>1.0</td>\n",
       "      <td>1801.513550</td>\n",
       "      <td>1876.322510</td>\n",
       "      <td>GK</td>\n",
       "      <td>6.0</td>\n",
       "      <td>6.0</td>\n",
       "      <td>5.775107</td>\n",
       "    </tr>\n",
       "    <tr>\n",
       "      <th>10</th>\n",
       "      <td>Jordan Pickford</td>\n",
       "      <td>31</td>\n",
       "      <td>2022-23</td>\n",
       "      <td>Everton</td>\n",
       "      <td>Fulham</td>\n",
       "      <td>1.0</td>\n",
       "      <td>1687.977173</td>\n",
       "      <td>1710.906738</td>\n",
       "      <td>GK</td>\n",
       "      <td>2.0</td>\n",
       "      <td>2.0</td>\n",
       "      <td>4.732130</td>\n",
       "    </tr>\n",
       "    <tr>\n",
       "      <th>18</th>\n",
       "      <td>Nick Pope</td>\n",
       "      <td>31</td>\n",
       "      <td>2022-23</td>\n",
       "      <td>Newcastle Utd</td>\n",
       "      <td>Aston Villa</td>\n",
       "      <td>0.0</td>\n",
       "      <td>1876.322510</td>\n",
       "      <td>1801.513550</td>\n",
       "      <td>GK</td>\n",
       "      <td>2.0</td>\n",
       "      <td>2.0</td>\n",
       "      <td>4.649340</td>\n",
       "    </tr>\n",
       "    <tr>\n",
       "      <th>5</th>\n",
       "      <td>David Raya Martin</td>\n",
       "      <td>31</td>\n",
       "      <td>2022-23</td>\n",
       "      <td>Brentford</td>\n",
       "      <td>Wolves</td>\n",
       "      <td>0.0</td>\n",
       "      <td>1782.324097</td>\n",
       "      <td>1717.951904</td>\n",
       "      <td>GK</td>\n",
       "      <td>5.0</td>\n",
       "      <td>5.0</td>\n",
       "      <td>4.519623</td>\n",
       "    </tr>\n",
       "    <tr>\n",
       "      <th>0</th>\n",
       "      <td>Aaron Ramsdale</td>\n",
       "      <td>31</td>\n",
       "      <td>2022-23</td>\n",
       "      <td>Arsenal</td>\n",
       "      <td>West Ham</td>\n",
       "      <td>0.0</td>\n",
       "      <td>1946.847900</td>\n",
       "      <td>1751.608521</td>\n",
       "      <td>GK</td>\n",
       "      <td>1.0</td>\n",
       "      <td>1.0</td>\n",
       "      <td>4.136261</td>\n",
       "    </tr>\n",
       "    <tr>\n",
       "      <th>17</th>\n",
       "      <td>Norberto Murara Neto</td>\n",
       "      <td>31</td>\n",
       "      <td>2022-23</td>\n",
       "      <td>Bournemouth</td>\n",
       "      <td>Tottenham</td>\n",
       "      <td>0.0</td>\n",
       "      <td>1665.276123</td>\n",
       "      <td>1851.721558</td>\n",
       "      <td>GK</td>\n",
       "      <td>3.0</td>\n",
       "      <td>3.0</td>\n",
       "      <td>3.476113</td>\n",
       "    </tr>\n",
       "    <tr>\n",
       "      <th>9</th>\n",
       "      <td>Hugo Lloris</td>\n",
       "      <td>31</td>\n",
       "      <td>2022-23</td>\n",
       "      <td>Tottenham</td>\n",
       "      <td>Bournemouth</td>\n",
       "      <td>1.0</td>\n",
       "      <td>1851.721558</td>\n",
       "      <td>1665.276123</td>\n",
       "      <td>GK</td>\n",
       "      <td>2.0</td>\n",
       "      <td>2.0</td>\n",
       "      <td>3.140235</td>\n",
       "    </tr>\n",
       "    <tr>\n",
       "      <th>12</th>\n",
       "      <td>Lukasz Fabianski</td>\n",
       "      <td>31</td>\n",
       "      <td>2022-23</td>\n",
       "      <td>West Ham</td>\n",
       "      <td>Arsenal</td>\n",
       "      <td>1.0</td>\n",
       "      <td>1751.608521</td>\n",
       "      <td>1946.847900</td>\n",
       "      <td>GK</td>\n",
       "      <td>2.0</td>\n",
       "      <td>2.0</td>\n",
       "      <td>2.970688</td>\n",
       "    </tr>\n",
       "    <tr>\n",
       "      <th>11</th>\n",
       "      <td>José Malheiro de Sá</td>\n",
       "      <td>31</td>\n",
       "      <td>2022-23</td>\n",
       "      <td>Wolves</td>\n",
       "      <td>Brentford</td>\n",
       "      <td>1.0</td>\n",
       "      <td>1717.951904</td>\n",
       "      <td>1782.324097</td>\n",
       "      <td>GK</td>\n",
       "      <td>7.0</td>\n",
       "      <td>7.0</td>\n",
       "      <td>2.949208</td>\n",
       "    </tr>\n",
       "    <tr>\n",
       "      <th>2</th>\n",
       "      <td>Bernd Leno</td>\n",
       "      <td>31</td>\n",
       "      <td>2022-23</td>\n",
       "      <td>Fulham</td>\n",
       "      <td>Everton</td>\n",
       "      <td>0.0</td>\n",
       "      <td>1710.906738</td>\n",
       "      <td>1687.977173</td>\n",
       "      <td>GK</td>\n",
       "      <td>3.0</td>\n",
       "      <td>3.0</td>\n",
       "      <td>2.874491</td>\n",
       "    </tr>\n",
       "    <tr>\n",
       "      <th>6</th>\n",
       "      <td>Ederson Santana de Moraes</td>\n",
       "      <td>31</td>\n",
       "      <td>2022-23</td>\n",
       "      <td>Manchester City</td>\n",
       "      <td>Leicester City</td>\n",
       "      <td>1.0</td>\n",
       "      <td>2060.531738</td>\n",
       "      <td>1722.042969</td>\n",
       "      <td>GK</td>\n",
       "      <td>2.0</td>\n",
       "      <td>2.0</td>\n",
       "      <td>2.050133</td>\n",
       "    </tr>\n",
       "    <tr>\n",
       "      <th>1</th>\n",
       "      <td>Alphonse Areola</td>\n",
       "      <td>31</td>\n",
       "      <td>2022-23</td>\n",
       "      <td>West Ham</td>\n",
       "      <td>Arsenal</td>\n",
       "      <td>1.0</td>\n",
       "      <td>1751.608521</td>\n",
       "      <td>1946.847900</td>\n",
       "      <td>GK</td>\n",
       "      <td>0.0</td>\n",
       "      <td>0.0</td>\n",
       "      <td>0.602456</td>\n",
       "    </tr>\n",
       "    <tr>\n",
       "      <th>8</th>\n",
       "      <td>Fraser Forster</td>\n",
       "      <td>31</td>\n",
       "      <td>2022-23</td>\n",
       "      <td>Tottenham</td>\n",
       "      <td>Bournemouth</td>\n",
       "      <td>1.0</td>\n",
       "      <td>1851.721558</td>\n",
       "      <td>1665.276123</td>\n",
       "      <td>GK</td>\n",
       "      <td>0.0</td>\n",
       "      <td>0.0</td>\n",
       "      <td>0.550463</td>\n",
       "    </tr>\n",
       "    <tr>\n",
       "      <th>3</th>\n",
       "      <td>Brandon Austin</td>\n",
       "      <td>31</td>\n",
       "      <td>2022-23</td>\n",
       "      <td>Tottenham</td>\n",
       "      <td>Bournemouth</td>\n",
       "      <td>1.0</td>\n",
       "      <td>1851.721558</td>\n",
       "      <td>1665.276123</td>\n",
       "      <td>GK</td>\n",
       "      <td>0.0</td>\n",
       "      <td>0.0</td>\n",
       "      <td>0.407956</td>\n",
       "    </tr>\n",
       "    <tr>\n",
       "      <th>19</th>\n",
       "      <td>Robin Olsen</td>\n",
       "      <td>31</td>\n",
       "      <td>2022-23</td>\n",
       "      <td>Aston Villa</td>\n",
       "      <td>Newcastle Utd</td>\n",
       "      <td>1.0</td>\n",
       "      <td>1801.513550</td>\n",
       "      <td>1876.322510</td>\n",
       "      <td>GK</td>\n",
       "      <td>0.0</td>\n",
       "      <td>0.0</td>\n",
       "      <td>0.391318</td>\n",
       "    </tr>\n",
       "    <tr>\n",
       "      <th>15</th>\n",
       "      <td>Martin Dubravka</td>\n",
       "      <td>31</td>\n",
       "      <td>2022-23</td>\n",
       "      <td>Newcastle Utd</td>\n",
       "      <td>Aston Villa</td>\n",
       "      <td>0.0</td>\n",
       "      <td>1876.322510</td>\n",
       "      <td>1801.513550</td>\n",
       "      <td>GK</td>\n",
       "      <td>0.0</td>\n",
       "      <td>0.0</td>\n",
       "      <td>0.375658</td>\n",
       "    </tr>\n",
       "    <tr>\n",
       "      <th>14</th>\n",
       "      <td>Mark Travers</td>\n",
       "      <td>31</td>\n",
       "      <td>2022-23</td>\n",
       "      <td>Bournemouth</td>\n",
       "      <td>Tottenham</td>\n",
       "      <td>0.0</td>\n",
       "      <td>1665.276123</td>\n",
       "      <td>1851.721558</td>\n",
       "      <td>GK</td>\n",
       "      <td>0.0</td>\n",
       "      <td>0.0</td>\n",
       "      <td>0.344126</td>\n",
       "    </tr>\n",
       "    <tr>\n",
       "      <th>20</th>\n",
       "      <td>Sam Johnstone</td>\n",
       "      <td>31</td>\n",
       "      <td>2022-23</td>\n",
       "      <td>Crystal Palace</td>\n",
       "      <td>Southampton</td>\n",
       "      <td>0.0</td>\n",
       "      <td>1754.001221</td>\n",
       "      <td>1652.018677</td>\n",
       "      <td>GK</td>\n",
       "      <td>9.0</td>\n",
       "      <td>9.0</td>\n",
       "      <td>0.277980</td>\n",
       "    </tr>\n",
       "    <tr>\n",
       "      <th>16</th>\n",
       "      <td>Matt Turner</td>\n",
       "      <td>31</td>\n",
       "      <td>2022-23</td>\n",
       "      <td>Arsenal</td>\n",
       "      <td>West Ham</td>\n",
       "      <td>0.0</td>\n",
       "      <td>1946.847900</td>\n",
       "      <td>1751.608521</td>\n",
       "      <td>GK</td>\n",
       "      <td>0.0</td>\n",
       "      <td>0.0</td>\n",
       "      <td>-0.042227</td>\n",
       "    </tr>\n",
       "    <tr>\n",
       "      <th>4</th>\n",
       "      <td>Daniel Bentley</td>\n",
       "      <td>31</td>\n",
       "      <td>2022-23</td>\n",
       "      <td>Wolves</td>\n",
       "      <td>Brentford</td>\n",
       "      <td>1.0</td>\n",
       "      <td>1717.951904</td>\n",
       "      <td>1782.324097</td>\n",
       "      <td>GK</td>\n",
       "      <td>0.0</td>\n",
       "      <td>0.0</td>\n",
       "      <td>-0.065586</td>\n",
       "    </tr>\n",
       "    <tr>\n",
       "      <th>22</th>\n",
       "      <td>Tom McGill</td>\n",
       "      <td>31</td>\n",
       "      <td>2022-23</td>\n",
       "      <td>Brighton</td>\n",
       "      <td>Chelsea</td>\n",
       "      <td>0.0</td>\n",
       "      <td>1826.634155</td>\n",
       "      <td>1827.184204</td>\n",
       "      <td>GK</td>\n",
       "      <td>0.0</td>\n",
       "      <td>0.0</td>\n",
       "      <td>-0.069275</td>\n",
       "    </tr>\n",
       "    <tr>\n",
       "      <th>13</th>\n",
       "      <td>Marek Rodák</td>\n",
       "      <td>31</td>\n",
       "      <td>2022-23</td>\n",
       "      <td>Fulham</td>\n",
       "      <td>Everton</td>\n",
       "      <td>0.0</td>\n",
       "      <td>1710.906738</td>\n",
       "      <td>1687.977173</td>\n",
       "      <td>GK</td>\n",
       "      <td>0.0</td>\n",
       "      <td>0.0</td>\n",
       "      <td>-0.138611</td>\n",
       "    </tr>\n",
       "    <tr>\n",
       "      <th>21</th>\n",
       "      <td>Thomas Strakosha</td>\n",
       "      <td>31</td>\n",
       "      <td>2022-23</td>\n",
       "      <td>Brentford</td>\n",
       "      <td>Wolves</td>\n",
       "      <td>0.0</td>\n",
       "      <td>1782.324097</td>\n",
       "      <td>1717.951904</td>\n",
       "      <td>GK</td>\n",
       "      <td>0.0</td>\n",
       "      <td>0.0</td>\n",
       "      <td>-0.189068</td>\n",
       "    </tr>\n",
       "    <tr>\n",
       "      <th>23</th>\n",
       "      <td>Wayne Hennessey</td>\n",
       "      <td>31</td>\n",
       "      <td>2022-23</td>\n",
       "      <td>Nott'ham Forest</td>\n",
       "      <td>Manchester Utd</td>\n",
       "      <td>1.0</td>\n",
       "      <td>1635.660278</td>\n",
       "      <td>1878.940308</td>\n",
       "      <td>GK</td>\n",
       "      <td>0.0</td>\n",
       "      <td>0.0</td>\n",
       "      <td>-0.252478</td>\n",
       "    </tr>\n",
       "  </tbody>\n",
       "</table>\n",
       "</div>"
      ],
      "text/plain": [
       "                Name_original  GW   Season             Team        Opponent  \\\n",
       "7    Emiliano Martínez Romero  31  2022-23      Aston Villa   Newcastle Utd   \n",
       "10            Jordan Pickford  31  2022-23          Everton          Fulham   \n",
       "18                  Nick Pope  31  2022-23    Newcastle Utd     Aston Villa   \n",
       "5           David Raya Martin  31  2022-23        Brentford          Wolves   \n",
       "0              Aaron Ramsdale  31  2022-23          Arsenal        West Ham   \n",
       "17       Norberto Murara Neto  31  2022-23      Bournemouth       Tottenham   \n",
       "9                 Hugo Lloris  31  2022-23        Tottenham     Bournemouth   \n",
       "12           Lukasz Fabianski  31  2022-23         West Ham         Arsenal   \n",
       "11        José Malheiro de Sá  31  2022-23           Wolves       Brentford   \n",
       "2                  Bernd Leno  31  2022-23           Fulham         Everton   \n",
       "6   Ederson Santana de Moraes  31  2022-23  Manchester City  Leicester City   \n",
       "1             Alphonse Areola  31  2022-23         West Ham         Arsenal   \n",
       "8              Fraser Forster  31  2022-23        Tottenham     Bournemouth   \n",
       "3              Brandon Austin  31  2022-23        Tottenham     Bournemouth   \n",
       "19                Robin Olsen  31  2022-23      Aston Villa   Newcastle Utd   \n",
       "15            Martin Dubravka  31  2022-23    Newcastle Utd     Aston Villa   \n",
       "14               Mark Travers  31  2022-23      Bournemouth       Tottenham   \n",
       "20              Sam Johnstone  31  2022-23   Crystal Palace     Southampton   \n",
       "16                Matt Turner  31  2022-23          Arsenal        West Ham   \n",
       "4              Daniel Bentley  31  2022-23           Wolves       Brentford   \n",
       "22                 Tom McGill  31  2022-23         Brighton         Chelsea   \n",
       "13                Marek Rodák  31  2022-23           Fulham         Everton   \n",
       "21           Thomas Strakosha  31  2022-23        Brentford          Wolves   \n",
       "23            Wayne Hennessey  31  2022-23  Nott'ham Forest  Manchester Utd   \n",
       "\n",
       "    Was_home  Team_rating   Opp_rating FPL_pos  FPL_points   xP      Pred  \n",
       "7        1.0  1801.513550  1876.322510      GK         6.0  6.0  5.775107  \n",
       "10       1.0  1687.977173  1710.906738      GK         2.0  2.0  4.732130  \n",
       "18       0.0  1876.322510  1801.513550      GK         2.0  2.0  4.649340  \n",
       "5        0.0  1782.324097  1717.951904      GK         5.0  5.0  4.519623  \n",
       "0        0.0  1946.847900  1751.608521      GK         1.0  1.0  4.136261  \n",
       "17       0.0  1665.276123  1851.721558      GK         3.0  3.0  3.476113  \n",
       "9        1.0  1851.721558  1665.276123      GK         2.0  2.0  3.140235  \n",
       "12       1.0  1751.608521  1946.847900      GK         2.0  2.0  2.970688  \n",
       "11       1.0  1717.951904  1782.324097      GK         7.0  7.0  2.949208  \n",
       "2        0.0  1710.906738  1687.977173      GK         3.0  3.0  2.874491  \n",
       "6        1.0  2060.531738  1722.042969      GK         2.0  2.0  2.050133  \n",
       "1        1.0  1751.608521  1946.847900      GK         0.0  0.0  0.602456  \n",
       "8        1.0  1851.721558  1665.276123      GK         0.0  0.0  0.550463  \n",
       "3        1.0  1851.721558  1665.276123      GK         0.0  0.0  0.407956  \n",
       "19       1.0  1801.513550  1876.322510      GK         0.0  0.0  0.391318  \n",
       "15       0.0  1876.322510  1801.513550      GK         0.0  0.0  0.375658  \n",
       "14       0.0  1665.276123  1851.721558      GK         0.0  0.0  0.344126  \n",
       "20       0.0  1754.001221  1652.018677      GK         9.0  9.0  0.277980  \n",
       "16       0.0  1946.847900  1751.608521      GK         0.0  0.0 -0.042227  \n",
       "4        1.0  1717.951904  1782.324097      GK         0.0  0.0 -0.065586  \n",
       "22       0.0  1826.634155  1827.184204      GK         0.0  0.0 -0.069275  \n",
       "13       0.0  1710.906738  1687.977173      GK         0.0  0.0 -0.138611  \n",
       "21       0.0  1782.324097  1717.951904      GK         0.0  0.0 -0.189068  \n",
       "23       1.0  1635.660278  1878.940308      GK         0.0  0.0 -0.252478  "
      ]
     },
     "execution_count": 57,
     "metadata": {},
     "output_type": "execute_result"
    }
   ],
   "source": [
    "preds.head(30)"
   ]
  },
  {
   "cell_type": "code",
   "execution_count": 58,
   "id": "3fe1c712-ea38-4a91-9717-d4f520ffcb82",
   "metadata": {},
   "outputs": [
    {
     "data": {
      "text/html": [
       "<div>\n",
       "<style scoped>\n",
       "    .dataframe tbody tr th:only-of-type {\n",
       "        vertical-align: middle;\n",
       "    }\n",
       "\n",
       "    .dataframe tbody tr th {\n",
       "        vertical-align: top;\n",
       "    }\n",
       "\n",
       "    .dataframe thead th {\n",
       "        text-align: right;\n",
       "    }\n",
       "</style>\n",
       "<table border=\"1\" class=\"dataframe\">\n",
       "  <thead>\n",
       "    <tr style=\"text-align: right;\">\n",
       "      <th></th>\n",
       "      <th>Name_original</th>\n",
       "      <th>GW</th>\n",
       "      <th>Season</th>\n",
       "      <th>Team</th>\n",
       "      <th>Opponent</th>\n",
       "      <th>Was_home</th>\n",
       "      <th>Team_rating</th>\n",
       "      <th>Opp_rating</th>\n",
       "      <th>FPL_pos</th>\n",
       "      <th>FPL_points</th>\n",
       "      <th>xP</th>\n",
       "      <th>Pred</th>\n",
       "    </tr>\n",
       "  </thead>\n",
       "  <tbody>\n",
       "    <tr>\n",
       "      <th>6</th>\n",
       "      <td>Ederson Santana de Moraes</td>\n",
       "      <td>31</td>\n",
       "      <td>2022-23</td>\n",
       "      <td>Manchester City</td>\n",
       "      <td>Leicester City</td>\n",
       "      <td>1.0</td>\n",
       "      <td>2060.531738</td>\n",
       "      <td>1722.042969</td>\n",
       "      <td>GK</td>\n",
       "      <td>2.0</td>\n",
       "      <td>2.0</td>\n",
       "      <td>2.050133</td>\n",
       "    </tr>\n",
       "  </tbody>\n",
       "</table>\n",
       "</div>"
      ],
      "text/plain": [
       "               Name_original  GW   Season             Team        Opponent  \\\n",
       "6  Ederson Santana de Moraes  31  2022-23  Manchester City  Leicester City   \n",
       "\n",
       "   Was_home  Team_rating   Opp_rating FPL_pos  FPL_points   xP      Pred  \n",
       "6       1.0  2060.531738  1722.042969      GK         2.0  2.0  2.050133  "
      ]
     },
     "execution_count": 58,
     "metadata": {},
     "output_type": "execute_result"
    }
   ],
   "source": [
    "preds[preds[\"Team\"] == \"Manchester City\"].head(20)"
   ]
  },
  {
   "cell_type": "markdown",
   "id": "14ee9f8b-6918-4e6b-805d-f19abde9c3a4",
   "metadata": {},
   "source": [
    "# Predictions - all remaining gameweeks"
   ]
  },
  {
   "cell_type": "code",
   "execution_count": 59,
   "id": "ecf030c0-6e9c-40b0-81e4-9cc03ef695bc",
   "metadata": {},
   "outputs": [
    {
     "data": {
      "text/html": [
       "<div>\n",
       "<style scoped>\n",
       "    .dataframe tbody tr th:only-of-type {\n",
       "        vertical-align: middle;\n",
       "    }\n",
       "\n",
       "    .dataframe tbody tr th {\n",
       "        vertical-align: top;\n",
       "    }\n",
       "\n",
       "    .dataframe thead th {\n",
       "        text-align: right;\n",
       "    }\n",
       "</style>\n",
       "<table border=\"1\" class=\"dataframe\">\n",
       "  <thead>\n",
       "    <tr style=\"text-align: right;\">\n",
       "      <th></th>\n",
       "      <th>Name_original</th>\n",
       "      <th>GW</th>\n",
       "      <th>Season</th>\n",
       "      <th>Team</th>\n",
       "      <th>Opponent</th>\n",
       "      <th>Was_home</th>\n",
       "      <th>Team_rating</th>\n",
       "      <th>Opp_rating</th>\n",
       "      <th>FPL_pos</th>\n",
       "      <th>FPL_points</th>\n",
       "      <th>xP</th>\n",
       "      <th>Pred</th>\n",
       "    </tr>\n",
       "  </thead>\n",
       "  <tbody>\n",
       "    <tr>\n",
       "      <th>3</th>\n",
       "      <td>Aaron Ramsdale</td>\n",
       "      <td>34</td>\n",
       "      <td>2022-23</td>\n",
       "      <td>Arsenal</td>\n",
       "      <td>Chelsea</td>\n",
       "      <td>1.0</td>\n",
       "      <td>1921.972534</td>\n",
       "      <td>1789.972534</td>\n",
       "      <td>GK</td>\n",
       "      <td>3.0</td>\n",
       "      <td>3.0</td>\n",
       "      <td>8.914800</td>\n",
       "    </tr>\n",
       "    <tr>\n",
       "      <th>92</th>\n",
       "      <td>Jason Steele</td>\n",
       "      <td>35</td>\n",
       "      <td>2022-23</td>\n",
       "      <td>Brighton</td>\n",
       "      <td>Everton</td>\n",
       "      <td>1.0</td>\n",
       "      <td>1831.996948</td>\n",
       "      <td>1667.626831</td>\n",
       "      <td>GK</td>\n",
       "      <td>-2.0</td>\n",
       "      <td>-2.0</td>\n",
       "      <td>8.648385</td>\n",
       "    </tr>\n",
       "    <tr>\n",
       "      <th>197</th>\n",
       "      <td>Vicente Guaita</td>\n",
       "      <td>36</td>\n",
       "      <td>2022-23</td>\n",
       "      <td>Crystal Palace</td>\n",
       "      <td>Bournemouth</td>\n",
       "      <td>1.0</td>\n",
       "      <td>1744.869995</td>\n",
       "      <td>1670.303223</td>\n",
       "      <td>GK</td>\n",
       "      <td>0.0</td>\n",
       "      <td>0.0</td>\n",
       "      <td>7.430630</td>\n",
       "    </tr>\n",
       "    <tr>\n",
       "      <th>2</th>\n",
       "      <td>Aaron Ramsdale</td>\n",
       "      <td>33</td>\n",
       "      <td>2022-23</td>\n",
       "      <td>Arsenal</td>\n",
       "      <td>Manchester City</td>\n",
       "      <td>0.0</td>\n",
       "      <td>1928.582397</td>\n",
       "      <td>2057.953369</td>\n",
       "      <td>GK</td>\n",
       "      <td>1.0</td>\n",
       "      <td>1.0</td>\n",
       "      <td>6.902019</td>\n",
       "    </tr>\n",
       "    <tr>\n",
       "      <th>164</th>\n",
       "      <td>Nick Pope</td>\n",
       "      <td>34</td>\n",
       "      <td>2022-23</td>\n",
       "      <td>Newcastle Utd</td>\n",
       "      <td>Southampton</td>\n",
       "      <td>1.0</td>\n",
       "      <td>1876.238159</td>\n",
       "      <td>1634.447266</td>\n",
       "      <td>GK</td>\n",
       "      <td>2.0</td>\n",
       "      <td>2.0</td>\n",
       "      <td>6.237974</td>\n",
       "    </tr>\n",
       "    <tr>\n",
       "      <th>69</th>\n",
       "      <td>Ederson Santana de Moraes</td>\n",
       "      <td>37</td>\n",
       "      <td>2022-23</td>\n",
       "      <td>Manchester City</td>\n",
       "      <td>Chelsea</td>\n",
       "      <td>1.0</td>\n",
       "      <td>2087.472656</td>\n",
       "      <td>1794.311890</td>\n",
       "      <td>GK</td>\n",
       "      <td>0.0</td>\n",
       "      <td>0.0</td>\n",
       "      <td>6.160018</td>\n",
       "    </tr>\n",
       "    <tr>\n",
       "      <th>120</th>\n",
       "      <td>Lukasz Fabianski</td>\n",
       "      <td>37</td>\n",
       "      <td>2022-23</td>\n",
       "      <td>West Ham</td>\n",
       "      <td>Leeds United</td>\n",
       "      <td>1.0</td>\n",
       "      <td>1770.251953</td>\n",
       "      <td>1671.186279</td>\n",
       "      <td>GK</td>\n",
       "      <td>1.0</td>\n",
       "      <td>1.0</td>\n",
       "      <td>6.148499</td>\n",
       "    </tr>\n",
       "    <tr>\n",
       "      <th>11</th>\n",
       "      <td>Alisson Ramses Becker</td>\n",
       "      <td>35</td>\n",
       "      <td>2022-23</td>\n",
       "      <td>Liverpool</td>\n",
       "      <td>Brentford</td>\n",
       "      <td>1.0</td>\n",
       "      <td>1940.118652</td>\n",
       "      <td>1782.052979</td>\n",
       "      <td>GK</td>\n",
       "      <td>5.0</td>\n",
       "      <td>5.0</td>\n",
       "      <td>6.007432</td>\n",
       "    </tr>\n",
       "    <tr>\n",
       "      <th>196</th>\n",
       "      <td>Vicente Guaita</td>\n",
       "      <td>35</td>\n",
       "      <td>2022-23</td>\n",
       "      <td>Crystal Palace</td>\n",
       "      <td>Tottenham</td>\n",
       "      <td>0.0</td>\n",
       "      <td>1749.267822</td>\n",
       "      <td>1813.097046</td>\n",
       "      <td>GK</td>\n",
       "      <td>0.0</td>\n",
       "      <td>0.0</td>\n",
       "      <td>5.840761</td>\n",
       "    </tr>\n",
       "    <tr>\n",
       "      <th>72</th>\n",
       "      <td>Emiliano Martínez Romero</td>\n",
       "      <td>31</td>\n",
       "      <td>2022-23</td>\n",
       "      <td>Aston Villa</td>\n",
       "      <td>Newcastle Utd</td>\n",
       "      <td>1.0</td>\n",
       "      <td>1801.513550</td>\n",
       "      <td>1876.322510</td>\n",
       "      <td>GK</td>\n",
       "      <td>6.0</td>\n",
       "      <td>6.0</td>\n",
       "      <td>5.775107</td>\n",
       "    </tr>\n",
       "    <tr>\n",
       "      <th>165</th>\n",
       "      <td>Nick Pope</td>\n",
       "      <td>35</td>\n",
       "      <td>2022-23</td>\n",
       "      <td>Newcastle Utd</td>\n",
       "      <td>Arsenal</td>\n",
       "      <td>1.0</td>\n",
       "      <td>1879.375854</td>\n",
       "      <td>1927.440063</td>\n",
       "      <td>GK</td>\n",
       "      <td>2.0</td>\n",
       "      <td>2.0</td>\n",
       "      <td>5.522919</td>\n",
       "    </tr>\n",
       "    <tr>\n",
       "      <th>8</th>\n",
       "      <td>Alisson Ramses Becker</td>\n",
       "      <td>32</td>\n",
       "      <td>2022-23</td>\n",
       "      <td>Liverpool</td>\n",
       "      <td>Nott'ham Forest</td>\n",
       "      <td>1.0</td>\n",
       "      <td>1926.870483</td>\n",
       "      <td>1623.869263</td>\n",
       "      <td>GK</td>\n",
       "      <td>2.0</td>\n",
       "      <td>2.0</td>\n",
       "      <td>5.512930</td>\n",
       "    </tr>\n",
       "    <tr>\n",
       "      <th>85</th>\n",
       "      <td>Fraser Forster</td>\n",
       "      <td>36</td>\n",
       "      <td>2022-23</td>\n",
       "      <td>Tottenham</td>\n",
       "      <td>Aston Villa</td>\n",
       "      <td>0.0</td>\n",
       "      <td>1819.116211</td>\n",
       "      <td>1800.410645</td>\n",
       "      <td>GK</td>\n",
       "      <td>1.0</td>\n",
       "      <td>1.0</td>\n",
       "      <td>5.426624</td>\n",
       "    </tr>\n",
       "    <tr>\n",
       "      <th>1</th>\n",
       "      <td>Aaron Ramsdale</td>\n",
       "      <td>32</td>\n",
       "      <td>2022-23</td>\n",
       "      <td>Arsenal</td>\n",
       "      <td>Southampton</td>\n",
       "      <td>1.0</td>\n",
       "      <td>1936.194092</td>\n",
       "      <td>1635.812866</td>\n",
       "      <td>GK</td>\n",
       "      <td>2.0</td>\n",
       "      <td>2.0</td>\n",
       "      <td>5.330400</td>\n",
       "    </tr>\n",
       "    <tr>\n",
       "      <th>94</th>\n",
       "      <td>Jason Steele</td>\n",
       "      <td>37</td>\n",
       "      <td>2022-23</td>\n",
       "      <td>Brighton</td>\n",
       "      <td>Southampton</td>\n",
       "      <td>1.0</td>\n",
       "      <td>1822.466309</td>\n",
       "      <td>1620.718140</td>\n",
       "      <td>GK</td>\n",
       "      <td>2.0</td>\n",
       "      <td>2.0</td>\n",
       "      <td>5.324755</td>\n",
       "    </tr>\n",
       "  </tbody>\n",
       "</table>\n",
       "</div>"
      ],
      "text/plain": [
       "                 Name_original  GW   Season             Team         Opponent  \\\n",
       "3               Aaron Ramsdale  34  2022-23          Arsenal          Chelsea   \n",
       "92                Jason Steele  35  2022-23         Brighton          Everton   \n",
       "197             Vicente Guaita  36  2022-23   Crystal Palace      Bournemouth   \n",
       "2               Aaron Ramsdale  33  2022-23          Arsenal  Manchester City   \n",
       "164                  Nick Pope  34  2022-23    Newcastle Utd      Southampton   \n",
       "69   Ederson Santana de Moraes  37  2022-23  Manchester City          Chelsea   \n",
       "120           Lukasz Fabianski  37  2022-23         West Ham     Leeds United   \n",
       "11       Alisson Ramses Becker  35  2022-23        Liverpool        Brentford   \n",
       "196             Vicente Guaita  35  2022-23   Crystal Palace        Tottenham   \n",
       "72    Emiliano Martínez Romero  31  2022-23      Aston Villa    Newcastle Utd   \n",
       "165                  Nick Pope  35  2022-23    Newcastle Utd          Arsenal   \n",
       "8        Alisson Ramses Becker  32  2022-23        Liverpool  Nott'ham Forest   \n",
       "85              Fraser Forster  36  2022-23        Tottenham      Aston Villa   \n",
       "1               Aaron Ramsdale  32  2022-23          Arsenal      Southampton   \n",
       "94                Jason Steele  37  2022-23         Brighton      Southampton   \n",
       "\n",
       "     Was_home  Team_rating   Opp_rating FPL_pos  FPL_points   xP      Pred  \n",
       "3         1.0  1921.972534  1789.972534      GK         3.0  3.0  8.914800  \n",
       "92        1.0  1831.996948  1667.626831      GK        -2.0 -2.0  8.648385  \n",
       "197       1.0  1744.869995  1670.303223      GK         0.0  0.0  7.430630  \n",
       "2         0.0  1928.582397  2057.953369      GK         1.0  1.0  6.902019  \n",
       "164       1.0  1876.238159  1634.447266      GK         2.0  2.0  6.237974  \n",
       "69        1.0  2087.472656  1794.311890      GK         0.0  0.0  6.160018  \n",
       "120       1.0  1770.251953  1671.186279      GK         1.0  1.0  6.148499  \n",
       "11        1.0  1940.118652  1782.052979      GK         5.0  5.0  6.007432  \n",
       "196       0.0  1749.267822  1813.097046      GK         0.0  0.0  5.840761  \n",
       "72        1.0  1801.513550  1876.322510      GK         6.0  6.0  5.775107  \n",
       "165       1.0  1879.375854  1927.440063      GK         2.0  2.0  5.522919  \n",
       "8         1.0  1926.870483  1623.869263      GK         2.0  2.0  5.512930  \n",
       "85        0.0  1819.116211  1800.410645      GK         1.0  1.0  5.426624  \n",
       "1         1.0  1936.194092  1635.812866      GK         2.0  2.0  5.330400  \n",
       "94        1.0  1822.466309  1620.718140      GK         2.0  2.0  5.324755  "
      ]
     },
     "execution_count": 59,
     "metadata": {},
     "output_type": "execute_result"
    }
   ],
   "source": [
    "preds_all_gameweeks.head(15)"
   ]
  },
  {
   "cell_type": "code",
   "execution_count": 60,
   "id": "e825ea86-5b53-496a-8d51-89e1ec9539b3",
   "metadata": {},
   "outputs": [
    {
     "data": {
      "text/html": [
       "<div>\n",
       "<style scoped>\n",
       "    .dataframe tbody tr th:only-of-type {\n",
       "        vertical-align: middle;\n",
       "    }\n",
       "\n",
       "    .dataframe tbody tr th {\n",
       "        vertical-align: top;\n",
       "    }\n",
       "\n",
       "    .dataframe thead th {\n",
       "        text-align: right;\n",
       "    }\n",
       "</style>\n",
       "<table border=\"1\" class=\"dataframe\">\n",
       "  <thead>\n",
       "    <tr style=\"text-align: right;\">\n",
       "      <th></th>\n",
       "      <th>Name_original</th>\n",
       "      <th>GW</th>\n",
       "      <th>Season</th>\n",
       "      <th>Team</th>\n",
       "      <th>Opponent</th>\n",
       "      <th>Was_home</th>\n",
       "      <th>Team_rating</th>\n",
       "      <th>Opp_rating</th>\n",
       "      <th>FPL_pos</th>\n",
       "      <th>FPL_points</th>\n",
       "      <th>xP</th>\n",
       "      <th>Pred</th>\n",
       "    </tr>\n",
       "  </thead>\n",
       "  <tbody>\n",
       "  </tbody>\n",
       "</table>\n",
       "</div>"
      ],
      "text/plain": [
       "Empty DataFrame\n",
       "Columns: [Name_original, GW, Season, Team, Opponent, Was_home, Team_rating, Opp_rating, FPL_pos, FPL_points, xP, Pred]\n",
       "Index: []"
      ]
     },
     "execution_count": 60,
     "metadata": {},
     "output_type": "execute_result"
    }
   ],
   "source": [
    "preds_all_gameweeks[preds_all_gameweeks[\"Name_original\"] == \"Mohamed Salah\"].sort_values(by=[\"GW\"])"
   ]
  },
  {
   "cell_type": "code",
   "execution_count": 61,
   "id": "8fe13281-ce00-4e7a-b726-82a44b55dea7",
   "metadata": {},
   "outputs": [
    {
     "data": {
      "text/html": [
       "<div>\n",
       "<style scoped>\n",
       "    .dataframe tbody tr th:only-of-type {\n",
       "        vertical-align: middle;\n",
       "    }\n",
       "\n",
       "    .dataframe tbody tr th {\n",
       "        vertical-align: top;\n",
       "    }\n",
       "\n",
       "    .dataframe thead th {\n",
       "        text-align: right;\n",
       "    }\n",
       "</style>\n",
       "<table border=\"1\" class=\"dataframe\">\n",
       "  <thead>\n",
       "    <tr style=\"text-align: right;\">\n",
       "      <th></th>\n",
       "      <th>Name_original</th>\n",
       "      <th>GW</th>\n",
       "      <th>Season</th>\n",
       "      <th>Team</th>\n",
       "      <th>Opponent</th>\n",
       "      <th>Was_home</th>\n",
       "      <th>Team_rating</th>\n",
       "      <th>Opp_rating</th>\n",
       "      <th>FPL_pos</th>\n",
       "      <th>FPL_points</th>\n",
       "      <th>xP</th>\n",
       "      <th>Pred</th>\n",
       "    </tr>\n",
       "  </thead>\n",
       "  <tbody>\n",
       "  </tbody>\n",
       "</table>\n",
       "</div>"
      ],
      "text/plain": [
       "Empty DataFrame\n",
       "Columns: [Name_original, GW, Season, Team, Opponent, Was_home, Team_rating, Opp_rating, FPL_pos, FPL_points, xP, Pred]\n",
       "Index: []"
      ]
     },
     "execution_count": 61,
     "metadata": {},
     "output_type": "execute_result"
    }
   ],
   "source": [
    "preds_all_gameweeks[preds_all_gameweeks[\"Name_original\"] == \"Erling Haaland\"].sort_values(by=[\"GW\"])"
   ]
  },
  {
   "cell_type": "markdown",
   "id": "e58b989a-0632-49d7-b3af-418ce8d6a3b5",
   "metadata": {},
   "source": [
    "# Saving to file"
   ]
  },
  {
   "cell_type": "code",
   "execution_count": 62,
   "id": "8383d841-c3c5-4466-b896-447c645d5d6a",
   "metadata": {},
   "outputs": [],
   "source": [
    "preds_all_gameweeks.to_csv(\"predictions/all_predictions.csv\", index=False)"
   ]
  },
  {
   "cell_type": "code",
   "execution_count": 63,
   "id": "fd95c3e5-c311-4740-a54e-efaa267fbefd",
   "metadata": {},
   "outputs": [],
   "source": [
    "pickle.dump(model, open(\"models/GBR.pkl\", 'wb'))"
   ]
  },
  {
   "cell_type": "markdown",
   "id": "3ed6461a-a67a-4068-984b-c17e9a1d8c7b",
   "metadata": {},
   "source": [
    "# Feature importance and influence"
   ]
  },
  {
   "cell_type": "code",
   "execution_count": 64,
   "id": "c90e9b27-43c3-4253-830d-53c3532c5197",
   "metadata": {},
   "outputs": [],
   "source": [
    "# explainer = shap.Explainer(model.predict, X_test_all_remaining)\n",
    "# shap_values = explainer(X_test_all_remaining)"
   ]
  },
  {
   "cell_type": "code",
   "execution_count": 65,
   "id": "f73757e7-4125-4657-8b78-914b5324a9e9",
   "metadata": {},
   "outputs": [],
   "source": [
    "# shap.plots.bar(shap_values, max_display=15)"
   ]
  },
  {
   "cell_type": "code",
   "execution_count": 66,
   "id": "4d1a6591-e086-4156-a51a-3ccfd3489561",
   "metadata": {},
   "outputs": [],
   "source": [
    "# shap.plots.beeswarm(shap_values, max_display=15)"
   ]
  },
  {
   "cell_type": "code",
   "execution_count": 67,
   "id": "b1d832a7-6e45-4286-a102-029a56916c45",
   "metadata": {},
   "outputs": [],
   "source": [
    "# # explaining Erling Haaland`s score in gameweek 31\n",
    "# shap.plots.bar(shap_values[69], max_display=15)"
   ]
  },
  {
   "cell_type": "code",
   "execution_count": 68,
   "id": "e76c089c-ac6b-4a1d-993a-55ec3c5bfa8a",
   "metadata": {},
   "outputs": [],
   "source": [
    "# # Salah vs Nottingham Forest\n",
    "# shap.plots.waterfall(shap_values[1396])"
   ]
  },
  {
   "cell_type": "code",
   "execution_count": null,
   "id": "4d649adf-759a-420c-bc7c-499f2bc2b5a0",
   "metadata": {},
   "outputs": [],
   "source": []
  }
 ],
 "metadata": {
  "kernelspec": {
   "display_name": "Python 3 (ipykernel)",
   "language": "python",
   "name": "python3"
  },
  "language_info": {
   "codemirror_mode": {
    "name": "ipython",
    "version": 3
   },
   "file_extension": ".py",
   "mimetype": "text/x-python",
   "name": "python",
   "nbconvert_exporter": "python",
   "pygments_lexer": "ipython3",
   "version": "3.8.0"
  }
 },
 "nbformat": 4,
 "nbformat_minor": 5
}
