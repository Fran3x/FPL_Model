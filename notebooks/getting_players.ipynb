{
 "cells": [
  {
   "cell_type": "code",
   "execution_count": 1,
   "id": "db6c32e5-6151-4b2d-8cfd-26b1e4efe549",
   "metadata": {},
   "outputs": [],
   "source": [
    "import os\n",
    "os.chdir(\"D:\\PulpitE\\FPL_ML\")"
   ]
  },
  {
   "cell_type": "code",
   "execution_count": 2,
   "id": "110c989d-516d-4706-9aea-de8333b4cfe3",
   "metadata": {},
   "outputs": [],
   "source": [
    "import pandas as pd\n",
    "import time\n",
    "from vaastav.fbref import *\n",
    "from src.match_names import neutralize_name\n",
    "from config import *"
   ]
  },
  {
   "cell_type": "code",
   "execution_count": 3,
   "id": "ddef6189-d6a3-4e35-af27-354f9456bc5a",
   "metadata": {},
   "outputs": [],
   "source": [
    "url = 'https://fbref.com/en/squads/b8fd03ef/Manchester-City-Stats'"
   ]
  },
  {
   "cell_type": "code",
   "execution_count": 4,
   "id": "37496b34-ab2f-4585-88f6-82661431db23",
   "metadata": {},
   "outputs": [],
   "source": [
    "def get_players_for_team(url):\n",
    "    tables = get_data(url)\n",
    "    table = tables[0]\n",
    "    # print(table)\n",
    "    players = []\n",
    "    for row in table.tbody.find_all('tr'):\n",
    "        # print(row)\n",
    "        columns = row.find_all('th')\n",
    "        for c in columns:\n",
    "            a_html = BeautifulSoup(str(c.contents[0]), 'html.parser')\n",
    "            a = a_html.find_all('a')\n",
    "            # href = a.find('href')\n",
    "            fbref_id = a_html.find('a')['href'].split(\"/\")[3]\n",
    "            player_name = a[0].contents[0]\n",
    "            players.append((fbref_id, player_name))\n",
    "    return pd.DataFrame(players, columns=[\"fbref_id\", \"Name\"])"
   ]
  },
  {
   "cell_type": "code",
   "execution_count": 5,
   "id": "f9035de9-5e91-4ff2-ae41-f8fd65acd689",
   "metadata": {},
   "outputs": [],
   "source": [
    "def get_players():\n",
    "    players = pd.DataFrame(columns=[\"fbref_id\", \"Name\"])\n",
    "    i = 0\n",
    "    for url in fbref_team_urls:\n",
    "        players_team = get_players_for_team(url)\n",
    "        # print(players_team)\n",
    "        players.append(players_team)\n",
    "        players_team.to_csv(f\"data/fbref/team{i}.csv\")\n",
    "    return players.reset_index(drop=True)"
   ]
  },
  {
   "cell_type": "code",
   "execution_count": 6,
   "id": "11ad3fcb-6539-4639-ba92-589b5935a6f9",
   "metadata": {},
   "outputs": [
    {
     "ename": "Exception",
     "evalue": "Response was code 429",
     "output_type": "error",
     "traceback": [
      "\u001b[1;31m---------------------------------------------------------------------------\u001b[0m",
      "\u001b[1;31mException\u001b[0m                                 Traceback (most recent call last)",
      "File \u001b[1;32m<timed exec>:1\u001b[0m, in \u001b[0;36m<module>\u001b[1;34m\u001b[0m\n",
      "Input \u001b[1;32mIn [5]\u001b[0m, in \u001b[0;36mget_players\u001b[1;34m()\u001b[0m\n\u001b[0;32m      2\u001b[0m players \u001b[38;5;241m=\u001b[39m pd\u001b[38;5;241m.\u001b[39mDataFrame(columns\u001b[38;5;241m=\u001b[39m[\u001b[38;5;124m\"\u001b[39m\u001b[38;5;124mfbref_id\u001b[39m\u001b[38;5;124m\"\u001b[39m, \u001b[38;5;124m\"\u001b[39m\u001b[38;5;124mName\u001b[39m\u001b[38;5;124m\"\u001b[39m])\n\u001b[0;32m      3\u001b[0m \u001b[38;5;28;01mfor\u001b[39;00m url \u001b[38;5;129;01min\u001b[39;00m fbref_team_urls:\n\u001b[1;32m----> 4\u001b[0m     players_team \u001b[38;5;241m=\u001b[39m \u001b[43mget_players_for_team\u001b[49m\u001b[43m(\u001b[49m\u001b[43murl\u001b[49m\u001b[43m)\u001b[49m\n\u001b[0;32m      5\u001b[0m     \u001b[38;5;66;03m# print(players_team)\u001b[39;00m\n\u001b[0;32m      6\u001b[0m     players\u001b[38;5;241m.\u001b[39mappend(players_team)\n",
      "Input \u001b[1;32mIn [4]\u001b[0m, in \u001b[0;36mget_players_for_team\u001b[1;34m(url)\u001b[0m\n\u001b[0;32m      1\u001b[0m \u001b[38;5;28;01mdef\u001b[39;00m \u001b[38;5;21mget_players_for_team\u001b[39m(url):\n\u001b[1;32m----> 2\u001b[0m     tables \u001b[38;5;241m=\u001b[39m \u001b[43mget_data\u001b[49m\u001b[43m(\u001b[49m\u001b[43murl\u001b[49m\u001b[43m)\u001b[49m\n\u001b[0;32m      3\u001b[0m     table \u001b[38;5;241m=\u001b[39m tables[\u001b[38;5;241m0\u001b[39m]\n\u001b[0;32m      4\u001b[0m     \u001b[38;5;66;03m# print(table)\u001b[39;00m\n",
      "File \u001b[1;32mD:\\PulpitE\\FPL_ML\\vaastav\\fbref.py:26\u001b[0m, in \u001b[0;36mget_data\u001b[1;34m(url)\u001b[0m\n\u001b[0;32m     24\u001b[0m response \u001b[38;5;241m=\u001b[39m requests\u001b[38;5;241m.\u001b[39mget(url)\n\u001b[0;32m     25\u001b[0m \u001b[38;5;28;01mif\u001b[39;00m response\u001b[38;5;241m.\u001b[39mstatus_code \u001b[38;5;241m!=\u001b[39m \u001b[38;5;241m200\u001b[39m:\n\u001b[1;32m---> 26\u001b[0m     \u001b[38;5;28;01mraise\u001b[39;00m \u001b[38;5;167;01mException\u001b[39;00m(\u001b[38;5;124m\"\u001b[39m\u001b[38;5;124mResponse was code \u001b[39m\u001b[38;5;124m\"\u001b[39m \u001b[38;5;241m+\u001b[39m \u001b[38;5;28mstr\u001b[39m(response\u001b[38;5;241m.\u001b[39mstatus_code))\n\u001b[0;32m     27\u001b[0m html \u001b[38;5;241m=\u001b[39m response\u001b[38;5;241m.\u001b[39mtext\n\u001b[0;32m     28\u001b[0m parsed_html \u001b[38;5;241m=\u001b[39m  BeautifulSoup(html, \u001b[38;5;124m'\u001b[39m\u001b[38;5;124mhtml.parser\u001b[39m\u001b[38;5;124m'\u001b[39m)\n",
      "\u001b[1;31mException\u001b[0m: Response was code 429"
     ]
    }
   ],
   "source": [
    "%%time\n",
    "epl_players = get_players()"
   ]
  },
  {
   "cell_type": "code",
   "execution_count": 7,
   "id": "b35463b7-ec6b-4c32-8a9e-979e0f7cc4e9",
   "metadata": {},
   "outputs": [
    {
     "ename": "NameError",
     "evalue": "name 'epl_players' is not defined",
     "output_type": "error",
     "traceback": [
      "\u001b[1;31m---------------------------------------------------------------------------\u001b[0m",
      "\u001b[1;31mNameError\u001b[0m                                 Traceback (most recent call last)",
      "Input \u001b[1;32mIn [7]\u001b[0m, in \u001b[0;36m<cell line: 1>\u001b[1;34m()\u001b[0m\n\u001b[1;32m----> 1\u001b[0m \u001b[43mepl_players\u001b[49m\u001b[38;5;241m.\u001b[39mto_csv(\u001b[38;5;124m\"\u001b[39m\u001b[38;5;124mdata/fbref_players.csv\u001b[39m\u001b[38;5;124m\"\u001b[39m)\n",
      "\u001b[1;31mNameError\u001b[0m: name 'epl_players' is not defined"
     ]
    }
   ],
   "source": [
    "epl_players.to_csv(\"data/fbref_players.csv\")"
   ]
  },
  {
   "cell_type": "code",
   "execution_count": null,
   "id": "c9c33b63-c59f-4a20-a624-312fc2408b92",
   "metadata": {},
   "outputs": [],
   "source": []
  }
 ],
 "metadata": {
  "kernelspec": {
   "display_name": "Python 3 (ipykernel)",
   "language": "python",
   "name": "python3"
  },
  "language_info": {
   "codemirror_mode": {
    "name": "ipython",
    "version": 3
   },
   "file_extension": ".py",
   "mimetype": "text/x-python",
   "name": "python",
   "nbconvert_exporter": "python",
   "pygments_lexer": "ipython3",
   "version": "3.8.0"
  }
 },
 "nbformat": 4,
 "nbformat_minor": 5
}
