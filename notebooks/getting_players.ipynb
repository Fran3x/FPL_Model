{
 "cells": [
  {
   "cell_type": "code",
   "execution_count": 1,
   "id": "db6c32e5-6151-4b2d-8cfd-26b1e4efe549",
   "metadata": {},
   "outputs": [],
   "source": [
    "import os\n",
    "os.chdir(\"D:\\PulpitE\\FPL_ML\")"
   ]
  },
  {
   "cell_type": "code",
   "execution_count": 2,
   "id": "110c989d-516d-4706-9aea-de8333b4cfe3",
   "metadata": {},
   "outputs": [],
   "source": [
    "import pandas as pd\n",
    "import time\n",
    "from vaastav.fbref import *\n",
    "from src.match_names import neutralize_name\n",
    "import time\n",
    "from config import *"
   ]
  },
  {
   "cell_type": "code",
   "execution_count": 3,
   "id": "ddef6189-d6a3-4e35-af27-354f9456bc5a",
   "metadata": {},
   "outputs": [],
   "source": [
    "url = 'https://fbref.com/en/squads/b8fd03ef/Manchester-City-Stats'"
   ]
  },
  {
   "cell_type": "code",
   "execution_count": 4,
   "id": "37496b34-ab2f-4585-88f6-82661431db23",
   "metadata": {},
   "outputs": [],
   "source": [
    "def get_players_for_team(url):\n",
    "    tables = get_data(url)\n",
    "    table = tables[0]\n",
    "    # print(table)\n",
    "    players = []\n",
    "    for row in table.tbody.find_all('tr'):\n",
    "        # print(row)\n",
    "        columns = row.find_all('th')\n",
    "        for c in columns:\n",
    "            a_html = BeautifulSoup(str(c.contents[0]), 'html.parser')\n",
    "            a = a_html.find_all('a')\n",
    "            # href = a.find('href')\n",
    "            fbref_id = a_html.find('a')['href'].split(\"/\")[3]\n",
    "            player_name = a[0].contents[0]\n",
    "            players.append((fbref_id, player_name))\n",
    "    return pd.DataFrame(players, columns=[\"fbref_id\", \"Name\"])"
   ]
  },
  {
   "cell_type": "code",
   "execution_count": 5,
   "id": "f9035de9-5e91-4ff2-ae41-f8fd65acd689",
   "metadata": {},
   "outputs": [],
   "source": [
    "def get_players():\n",
    "    players = pd.DataFrame(columns=[\"fbref_id\", \"Name\"])\n",
    "    i = 0\n",
    "    for url in fbref_team_urls:\n",
    "        players_team = get_players_for_team(url)\n",
    "        # print(players_team)\n",
    "        players.append(players_team)\n",
    "        players_team.to_csv(f\"data/fbref/team{i}.csv\")\n",
    "        i += 1\n",
    "        time.sleep(4)\n",
    "    return players.reset_index(drop=True)"
   ]
  },
  {
   "cell_type": "code",
   "execution_count": 6,
   "id": "11ad3fcb-6539-4639-ba92-589b5935a6f9",
   "metadata": {},
   "outputs": [
    {
     "name": "stdout",
     "output_type": "stream",
     "text": [
      "CPU times: total: 9.14 s\n",
      "Wall time: 1min 31s\n"
     ]
    }
   ],
   "source": [
    "%%time\n",
    "epl_players = get_players()"
   ]
  },
  {
   "cell_type": "code",
   "execution_count": 7,
   "id": "b35463b7-ec6b-4c32-8a9e-979e0f7cc4e9",
   "metadata": {},
   "outputs": [],
   "source": [
    "epl_players.to_csv(\"data/fbref_players.csv\")"
   ]
  },
  {
   "cell_type": "code",
   "execution_count": null,
   "id": "c9c33b63-c59f-4a20-a624-312fc2408b92",
   "metadata": {},
   "outputs": [],
   "source": []
  }
 ],
 "metadata": {
  "kernelspec": {
   "display_name": "Python 3 (ipykernel)",
   "language": "python",
   "name": "python3"
  },
  "language_info": {
   "codemirror_mode": {
    "name": "ipython",
    "version": 3
   },
   "file_extension": ".py",
   "mimetype": "text/x-python",
   "name": "python",
   "nbconvert_exporter": "python",
   "pygments_lexer": "ipython3",
   "version": "3.8.0"
  }
 },
 "nbformat": 4,
 "nbformat_minor": 5
}
