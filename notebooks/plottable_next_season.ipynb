{
 "cells": [
  {
   "cell_type": "markdown",
   "id": "1ba52ff2-7e64-4e9d-82eb-d32d63a6968c",
   "metadata": {},
   "source": [
    "# Imports"
   ]
  },
  {
   "cell_type": "code",
   "execution_count": 1,
   "id": "2737a801-d524-42c9-ad35-120e7d6a44c2",
   "metadata": {},
   "outputs": [],
   "source": [
    "import os\n",
    "os.chdir(\"D:\\PulpitE\\FPL_ML\")"
   ]
  },
  {
   "cell_type": "code",
   "execution_count": 2,
   "id": "b6f473ca-41b9-4179-aac9-29823b1bf505",
   "metadata": {},
   "outputs": [],
   "source": [
    "import pandas as pd\n",
    "import numpy as np\n",
    "import PIL\n",
    "import urllib\n",
    "from pathlib import Path\n",
    "import math\n",
    "import os\n",
    "\n",
    "import matplotlib\n",
    "import matplotlib.pyplot as plt\n",
    "from matplotlib.colors import LinearSegmentedColormap\n",
    "\n",
    "import plottable\n",
    "from plottable import ColumnDefinition, Table\n",
    "from plottable.cmap import normed_cmap\n",
    "from plottable.formatters import decimal_to_percent\n",
    "from plottable.plots import circled_image, image # image"
   ]
  },
  {
   "cell_type": "code",
   "execution_count": 3,
   "id": "d190f3c6-f0cd-4cb8-ae4b-0b813c6a47dc",
   "metadata": {},
   "outputs": [],
   "source": [
    "DATA_PATH = \"predictions/preds_next_season.csv\"\n",
    "PLAYERS_TO_INCLUDE = None # takes top players sorted by prediction\n",
    "PLAYERS_PER_PAGE = 20\n",
    "# NUMBER_OF_PLOTS = math.ceil(PLAYERS_TO_INCLUDE / PLAYERS_PER_PAGE)\n",
    "BASE_OUT_PATH = \"plottable/predictions_plot\""
   ]
  },
  {
   "cell_type": "markdown",
   "id": "f24dc288-5aea-465d-ad40-a0cbfca8f361",
   "metadata": {},
   "source": [
    "# Cleaning dir"
   ]
  },
  {
   "cell_type": "code",
   "execution_count": 4,
   "id": "d8dec5a9-ad6e-4bcf-aedf-c6cc4163bae9",
   "metadata": {},
   "outputs": [
    {
     "ename": "PermissionError",
     "evalue": "[WinError 32] Proces nie może uzyskać dostępu do pliku, ponieważ jest on używany przez inny proces: 'D:/PulpitE/FPL_ML/plottable/predictions_plot_All_10.png'",
     "output_type": "error",
     "traceback": [
      "\u001b[1;31m---------------------------------------------------------------------------\u001b[0m",
      "\u001b[1;31mPermissionError\u001b[0m                           Traceback (most recent call last)",
      "Input \u001b[1;32mIn [4]\u001b[0m, in \u001b[0;36m<cell line: 2>\u001b[1;34m()\u001b[0m\n\u001b[0;32m      1\u001b[0m plot_dir \u001b[38;5;241m=\u001b[39m \u001b[38;5;124m\"\u001b[39m\u001b[38;5;124mD:/PulpitE/FPL_ML/plottable/\u001b[39m\u001b[38;5;124m\"\u001b[39m\n\u001b[0;32m      2\u001b[0m \u001b[38;5;28;01mfor\u001b[39;00m f \u001b[38;5;129;01min\u001b[39;00m os\u001b[38;5;241m.\u001b[39mlistdir(plot_dir):\n\u001b[1;32m----> 3\u001b[0m     \u001b[43mos\u001b[49m\u001b[38;5;241;43m.\u001b[39;49m\u001b[43mremove\u001b[49m\u001b[43m(\u001b[49m\u001b[43mplot_dir\u001b[49m\u001b[43m \u001b[49m\u001b[38;5;241;43m+\u001b[39;49m\u001b[43m \u001b[49m\u001b[43mf\u001b[49m\u001b[43m)\u001b[49m\n",
      "\u001b[1;31mPermissionError\u001b[0m: [WinError 32] Proces nie może uzyskać dostępu do pliku, ponieważ jest on używany przez inny proces: 'D:/PulpitE/FPL_ML/plottable/predictions_plot_All_10.png'"
     ]
    }
   ],
   "source": [
    "plot_dir = \"D:/PulpitE/FPL_ML/plottable/\"\n",
    "for f in os.listdir(plot_dir):\n",
    "    os.remove(plot_dir + f)"
   ]
  },
  {
   "cell_type": "markdown",
   "id": "2177f2f7-37d5-49ae-80f4-8b15b032d95a",
   "metadata": {},
   "source": [
    "# Data"
   ]
  },
  {
   "cell_type": "code",
   "execution_count": null,
   "id": "9625d62a-41ec-4477-8552-29a7baae5250",
   "metadata": {},
   "outputs": [],
   "source": [
    "df = pd.read_csv(DATA_PATH)"
   ]
  },
  {
   "cell_type": "code",
   "execution_count": null,
   "id": "4808714d-87d9-47c4-885c-c210f369d609",
   "metadata": {},
   "outputs": [],
   "source": [
    "def team_to_logo(team_name):\n",
    "    if team_name == \"Arsenal\":\n",
    "        return \"https://resources.premierleague.com/premierleague/badges/70/t3.png\"\n",
    "    if team_name == \"Aston Villa\":\n",
    "        return \"https://resources.premierleague.com/premierleague/badges/70/t7.png\"\n",
    "    if team_name == \"Bournemouth\":\n",
    "        return \"https://resources.premierleague.com/premierleague/badges/70/t91.png\"\n",
    "    if team_name == \"Brentford\":\n",
    "        return \"https://resources.premierleague.com/premierleague/badges/70/t94.png\"\n",
    "    if team_name == \"Brighton\":\n",
    "        return \"https://resources.premierleague.com/premierleague/badges/70/t36.png\"\n",
    "    if team_name == \"Burnley\":\n",
    "        return \"https://resources.premierleague.com/premierleague/badges/70/t90.png\"\n",
    "    if team_name == \"Chelsea\":\n",
    "        return \"https://resources.premierleague.com/premierleague/badges/70/t8.png\"\n",
    "    if team_name == \"Crystal Palace\":\n",
    "        return \"https://resources.premierleague.com/premierleague/badges/70/t31.png\"\n",
    "    if team_name == \"Everton\":\n",
    "        return \"https://resources.premierleague.com/premierleague/badges/70/t11.png\"\n",
    "    if team_name == \"Fulham\":\n",
    "        return \"https://resources.premierleague.com/premierleague/badges/70/t54.png\"\n",
    "    if team_name == \"Leeds United\":\n",
    "        return \"https://resources.premierleague.com/premierleague/badges/70/t2.png\"\n",
    "    if team_name == \"Leicester City\":\n",
    "        return \"https://resources.premierleague.com/premierleague/badges/70/t13.png\"\n",
    "    if team_name == \"Liverpool\":\n",
    "        return \"https://resources.premierleague.com/premierleague/badges/70/t14.png\"\n",
    "    if team_name == \"Luton\":\n",
    "        return \"https://resources.premierleague.com/premierleague/badges/70/t102.png\"\n",
    "    if team_name == \"Manchester City\":\n",
    "        return \"https://resources.premierleague.com/premierleague/badges/70/t43.png\"\n",
    "    if team_name == \"Manchester Utd\":\n",
    "        return \"https://resources.premierleague.com/premierleague/badges/70/t1.png\"\n",
    "    if team_name == \"Newcastle Utd\":\n",
    "        return \"https://resources.premierleague.com/premierleague/badges/70/t4.png\"\n",
    "    if team_name == \"Nott'ham Forest\":\n",
    "        return \"https://resources.premierleague.com/premierleague/badges/70/t17.png\"\n",
    "    if team_name == \"Southampton\":\n",
    "        return \"https://resources.premierleague.com/premierleague/badges/70/t20.png\"\n",
    "    if team_name == \"Sheffield\":\n",
    "        return \"https://resources.premierleague.com/premierleague/badges/70/t49.png\"\n",
    "    if team_name == \"Tottenham\":\n",
    "        return \"https://resources.premierleague.com/premierleague/badges/70/t6.png\"\n",
    "    if team_name == \"West Ham\":\n",
    "        return \"https://resources.premierleague.com/premierleague/badges/70/t21.png\"\n",
    "    if team_name == \"Wolves\":\n",
    "        return \"https://resources.premierleague.com/premierleague/badges/70/t39.png\"\n",
    "    \n",
    "    # logo not found\n",
    "    return \"https://resources.premierleague.com/premierleague/badges/70/t21.png\""
   ]
  },
  {
   "cell_type": "code",
   "execution_count": null,
   "id": "2ba114e4-cf89-4818-9eb0-e3ae86945643",
   "metadata": {},
   "outputs": [],
   "source": [
    "df['Venue'] = np.where(df['Was_home'] == 1, 'H', 'A')"
   ]
  },
  {
   "cell_type": "code",
   "execution_count": null,
   "id": "c11fd10b-a5e1-43fa-ab1d-3b657be18219",
   "metadata": {},
   "outputs": [],
   "source": [
    "df[\"Logo_team\"] = df[\"Team\"].apply(team_to_logo)\n",
    "df[\"Logo_opponent\"] = df[\"Opponent\"].apply(team_to_logo)"
   ]
  },
  {
   "cell_type": "code",
   "execution_count": null,
   "id": "f0577e3f-bae3-4ae7-ac1e-adb76a819ed8",
   "metadata": {},
   "outputs": [],
   "source": [
    "NEXT_GAMEWEEK = 31\n",
    "df = df[df[\"GW\"] == NEXT_GAMEWEEK]"
   ]
  },
  {
   "cell_type": "code",
   "execution_count": null,
   "id": "6835c210-f545-4402-82bb-7340669277ac",
   "metadata": {},
   "outputs": [],
   "source": [
    "df = df.rename(columns={\"Pred\": \"Prediction\", \"FPL_pos\": \"Pos\", \"Name_original\": \"Name\"}, errors=\"raise\")\n",
    "df['Prediction'] = df['Prediction'].apply(lambda x: format(round(x, 2), '.2f')).astype(\"float\")"
   ]
  },
  {
   "cell_type": "code",
   "execution_count": null,
   "id": "2ce56cb5-7720-408a-8913-d625b36b9674",
   "metadata": {},
   "outputs": [],
   "source": [
    "df.columns"
   ]
  },
  {
   "cell_type": "code",
   "execution_count": null,
   "id": "d7b9534b-a064-4bd5-96da-97e015acb5f4",
   "metadata": {},
   "outputs": [],
   "source": [
    "df.head()"
   ]
  },
  {
   "cell_type": "markdown",
   "id": "5255d8f1-930f-4219-acbd-d6a798cb14ff",
   "metadata": {},
   "source": [
    "# Plot table"
   ]
  },
  {
   "cell_type": "code",
   "execution_count": null,
   "id": "f00f1848-a76d-475e-b681-11ae608e77fd",
   "metadata": {},
   "outputs": [],
   "source": [
    "cols = [\n",
    "    \"Name\",\n",
    "    \"Logo_team\",\n",
    "    \"Team\",\n",
    "    \"Logo_opponent\",\n",
    "    \"Opponent\",\n",
    "    \"Pos\",\n",
    "    \"Venue\",\n",
    "    \"Prediction\"\n",
    "]"
   ]
  },
  {
   "cell_type": "code",
   "execution_count": null,
   "id": "0c7a4528-fbde-4591-be76-06adca531b71",
   "metadata": {},
   "outputs": [],
   "source": [
    "df = df[cols]"
   ]
  },
  {
   "cell_type": "code",
   "execution_count": null,
   "id": "c497dfa4-6084-4612-a7eb-1bfbd58c771a",
   "metadata": {},
   "outputs": [],
   "source": [
    "df = df.set_index(\"Name\")"
   ]
  },
  {
   "cell_type": "code",
   "execution_count": null,
   "id": "78edade2-75c7-49d8-bfbe-d3163d00b7f1",
   "metadata": {},
   "outputs": [],
   "source": [
    "cmap = LinearSegmentedColormap.from_list(\n",
    "    name=\"points_cmap\", colors=[\"#ffffff\", \"#f2fbd2\", \"#c9ecb4\", \"#93d3ab\", \"#35b0ab\"], N=512\n",
    ")"
   ]
  },
  {
   "cell_type": "code",
   "execution_count": null,
   "id": "a8b836e2-7ac1-406c-8a20-6865d8333055",
   "metadata": {},
   "outputs": [],
   "source": [
    "plt.rcParams[\"font.family\"] = [\"DejaVu Sans\"]\n",
    "plt.rcParams[\"savefig.bbox\"] = \"tight\""
   ]
  },
  {
   "cell_type": "code",
   "execution_count": null,
   "id": "8d7c1c2b-a6a8-439f-8d1e-273bddb128d7",
   "metadata": {},
   "outputs": [],
   "source": [
    "col_defs = (\n",
    "    [\n",
    "        ColumnDefinition(\n",
    "            name=\"Name\",\n",
    "            textprops={\"ha\": \"left\", \"weight\": \"bold\"},\n",
    "            width=1,\n",
    "        ),\n",
    "        ColumnDefinition(\n",
    "            name=\"Logo_team\",\n",
    "            title=\"Team\",\n",
    "            textprops={\"ha\": \"left\"},\n",
    "            width=0.1,\n",
    "            plot_fn=image,\n",
    "        ),\n",
    "        ColumnDefinition(\n",
    "            name=\"Team\",\n",
    "            title=\"\",\n",
    "            textprops={\"ha\": \"left\"},\n",
    "            width=0.9,\n",
    "        ),\n",
    "        ColumnDefinition(\n",
    "            name=\"Logo_opponent\",\n",
    "            title=\"Opponent\",\n",
    "            textprops={\"ha\": \"left\"},\n",
    "            width=0.1,\n",
    "            plot_fn=image,\n",
    "        ),\n",
    "        ColumnDefinition(\n",
    "            name=\"Opponent\",\n",
    "            title=\"\",\n",
    "            textprops={\"ha\": \"left\"},\n",
    "            width=0.9,\n",
    "        ),\n",
    "        ColumnDefinition(\n",
    "            name=\"Pos\",\n",
    "            title=\"Position\",\n",
    "            textprops={\"ha\": \"left\"},\n",
    "            width=0.5,\n",
    "        ),\n",
    "        ColumnDefinition(\n",
    "            name=\"Venue\",\n",
    "            textprops={\"ha\": \"center\"},\n",
    "            width=0.25,\n",
    "        ),\n",
    "        ColumnDefinition(\n",
    "            name=\"Prediction\",\n",
    "            textprops={\"ha\": \"center\", \"weight\": \"bold\"},\n",
    "            width=0.6,\n",
    "            cmap=normed_cmap(df[\"Prediction\"], cmap=cmap)\n",
    "        )\n",
    "    ]\n",
    ")"
   ]
  },
  {
   "cell_type": "markdown",
   "id": "239a6b59-ef36-4461-8c55-0e497d1d1f6a",
   "metadata": {},
   "source": [
    "# Saving plots"
   ]
  },
  {
   "cell_type": "code",
   "execution_count": null,
   "id": "f63893b5-46b1-47f9-be99-4d9e52f65b1d",
   "metadata": {},
   "outputs": [],
   "source": [
    "positions = ['All', 'GK', 'DEF', 'MID', 'FWD']\n",
    "dfs = [df, df[df[\"Pos\"] == \"GK\"], df[df[\"Pos\"] == \"DEF\"], df[df[\"Pos\"] == \"MID\"], df[df[\"Pos\"] == \"FWD\"]]"
   ]
  },
  {
   "cell_type": "code",
   "execution_count": null,
   "id": "3faaa1e1-b33a-4a84-9d6a-ca29d3c16533",
   "metadata": {},
   "outputs": [],
   "source": [
    "for j in range(0, 5):\n",
    "\n",
    "    l = 0\n",
    "    p = PLAYERS_PER_PAGE\n",
    "    i = 1\n",
    "    dataframe = dfs[j]\n",
    "\n",
    "    while l < dataframe.shape[0]:\n",
    "        PLAYERS_ON_PAGE = min(PLAYERS_PER_PAGE, dataframe.shape[0] - l)\n",
    "\n",
    "        fig, ax = plt.subplots(figsize=(24, ( (PLAYERS_ON_PAGE + 1) / 43) * 24))\n",
    "\n",
    "        table = Table(\n",
    "            dataframe[l:p],\n",
    "            column_definitions=col_defs,\n",
    "            row_dividers=True,\n",
    "            footer_divider=True,\n",
    "            ax=ax,\n",
    "            textprops={\"fontsize\": 14},\n",
    "            col_label_divider_kw={\"linewidth\": 1, \"linestyle\": \"-\"},\n",
    "            column_border_kw={\"linewidth\": 1, \"linestyle\": \"-\"},\n",
    "        )\n",
    "\n",
    "        # saving plot\n",
    "        fig.savefig(BASE_OUT_PATH + f\"_{positions[j]}_{i}.png\", facecolor=ax.get_facecolor(), dpi=200)\n",
    "\n",
    "        l += PLAYERS_PER_PAGE\n",
    "        p += PLAYERS_PER_PAGE\n",
    "        i += 1"
   ]
  },
  {
   "cell_type": "code",
   "execution_count": null,
   "id": "2e5155fa-0493-4a3e-987d-f8f02a2cbc47",
   "metadata": {},
   "outputs": [],
   "source": []
  }
 ],
 "metadata": {
  "kernelspec": {
   "display_name": "Python 3 (ipykernel)",
   "language": "python",
   "name": "python3"
  },
  "language_info": {
   "codemirror_mode": {
    "name": "ipython",
    "version": 3
   },
   "file_extension": ".py",
   "mimetype": "text/x-python",
   "name": "python",
   "nbconvert_exporter": "python",
   "pygments_lexer": "ipython3",
   "version": "3.8.0"
  },
  "vscode": {
   "interpreter": {
    "hash": "fad163352f6b6c4f05b9b8d41b1f28c58b235e61ec56c8581176f01128143b49"
   }
  }
 },
 "nbformat": 4,
 "nbformat_minor": 5
}
