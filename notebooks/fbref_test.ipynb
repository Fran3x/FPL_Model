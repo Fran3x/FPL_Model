{
 "cells": [
  {
   "cell_type": "code",
   "execution_count": 1,
   "id": "6c9a15be-43c7-4b6c-bfc4-837ec248e2a4",
   "metadata": {},
   "outputs": [],
   "source": [
    "from fbref import *\n",
    "import pandas as pd"
   ]
  },
  {
   "cell_type": "code",
   "execution_count": 2,
   "id": "357bc8b5-8763-42be-8814-223eb1257f1b",
   "metadata": {},
   "outputs": [],
   "source": [
    "# # get_fbref_names()\n",
    "\n",
    "# output = pd.DataFrame(pd.read_html(\"https://fbref.com/en/comps/9/stats/Premier-League-Stats\"))"
   ]
  },
  {
   "cell_type": "code",
   "execution_count": 3,
   "id": "3ee77d17-c1ac-42d8-8114-1f3417e81460",
   "metadata": {},
   "outputs": [
    {
     "ename": "Exception",
     "evalue": "Response was code 429",
     "output_type": "error",
     "traceback": [
      "\u001b[1;31m---------------------------------------------------------------------------\u001b[0m",
      "\u001b[1;31mException\u001b[0m                                 Traceback (most recent call last)",
      "Input \u001b[1;32mIn [3]\u001b[0m, in \u001b[0;36m<cell line: 1>\u001b[1;34m()\u001b[0m\n\u001b[1;32m----> 1\u001b[0m players, stats \u001b[38;5;241m=\u001b[39m \u001b[43mget_epl_players\u001b[49m\u001b[43m(\u001b[49m\u001b[43m)\u001b[49m\n",
      "File \u001b[1;32mD:\\PulpitE\\FPL_ML\\fbref.py:89\u001b[0m, in \u001b[0;36mget_epl_players\u001b[1;34m()\u001b[0m\n\u001b[0;32m     88\u001b[0m \u001b[38;5;28;01mdef\u001b[39;00m \u001b[38;5;21mget_epl_players\u001b[39m():\n\u001b[1;32m---> 89\u001b[0m     tables \u001b[38;5;241m=\u001b[39m \u001b[43mget_data\u001b[49m\u001b[43m(\u001b[49m\u001b[38;5;124;43m\"\u001b[39;49m\u001b[38;5;124;43mhttps://fbref.com/en/comps/9/stats/Premier-League-Stats\u001b[39;49m\u001b[38;5;124;43m\"\u001b[39;49m\u001b[43m)\u001b[49m\n\u001b[0;32m     90\u001b[0m     table \u001b[38;5;241m=\u001b[39m tables[\u001b[38;5;241m0\u001b[39m]\n\u001b[0;32m     91\u001b[0m     players \u001b[38;5;241m=\u001b[39m {}\n",
      "File \u001b[1;32mD:\\PulpitE\\FPL_ML\\fbref.py:26\u001b[0m, in \u001b[0;36mget_data\u001b[1;34m(url)\u001b[0m\n\u001b[0;32m     24\u001b[0m response \u001b[38;5;241m=\u001b[39m requests\u001b[38;5;241m.\u001b[39mget(url)\n\u001b[0;32m     25\u001b[0m \u001b[38;5;28;01mif\u001b[39;00m response\u001b[38;5;241m.\u001b[39mstatus_code \u001b[38;5;241m!=\u001b[39m \u001b[38;5;241m200\u001b[39m:\n\u001b[1;32m---> 26\u001b[0m     \u001b[38;5;28;01mraise\u001b[39;00m \u001b[38;5;167;01mException\u001b[39;00m(\u001b[38;5;124m\"\u001b[39m\u001b[38;5;124mResponse was code \u001b[39m\u001b[38;5;124m\"\u001b[39m \u001b[38;5;241m+\u001b[39m \u001b[38;5;28mstr\u001b[39m(response\u001b[38;5;241m.\u001b[39mstatus_code))\n\u001b[0;32m     27\u001b[0m html \u001b[38;5;241m=\u001b[39m response\u001b[38;5;241m.\u001b[39mtext\n\u001b[0;32m     28\u001b[0m parsed_html \u001b[38;5;241m=\u001b[39m  BeautifulSoup(html, \u001b[38;5;124m'\u001b[39m\u001b[38;5;124mhtml.parser\u001b[39m\u001b[38;5;124m'\u001b[39m)\n",
      "\u001b[1;31mException\u001b[0m: Response was code 429"
     ]
    }
   ],
   "source": [
    "players, stats = get_epl_players()"
   ]
  },
  {
   "cell_type": "code",
   "execution_count": null,
   "id": "e148d571-ef23-467c-9e7a-2dadf38246c9",
   "metadata": {},
   "outputs": [],
   "source": [
    "for id, player in players.items():\n",
    "    print(id)\n",
    "    print(player)\n",
    "    get_matches_data(player)"
   ]
  },
  {
   "cell_type": "code",
   "execution_count": null,
   "id": "23989dbb-ece3-4c79-96fa-a722d43684e3",
   "metadata": {},
   "outputs": [],
   "source": [
    "game_logs = []"
   ]
  },
  {
   "cell_type": "code",
   "execution_count": null,
   "id": "2a4886bf-88e3-4e71-9a76-9f10be25962a",
   "metadata": {},
   "outputs": [],
   "source": [
    "for id, player in players.items():\n",
    "        game_logs.append(get_matches_data(player))\n",
    "        with open('data/2021-22/fbref/' + id + '.csv', 'w') as outf:\n",
    "            writer = csv.DictWriter(outf, fieldnames=list(player.match_stat_set))\n",
    "            writer.writeheader()\n",
    "            for match in player.matches:\n",
    "                writer.writerow(match.data)"
   ]
  },
  {
   "cell_type": "code",
   "execution_count": null,
   "id": "6f988295-e75f-4920-a104-502fd4c35236",
   "metadata": {},
   "outputs": [],
   "source": [
    "# with open('data/2021-22/fbref_overview.csv', 'w') as outf:\n",
    "#         writer = csv.DictWriter(outf, fieldnames=list(stats))\n",
    "#         writer.writeheader()\n",
    "#         for id, player in players.items():\n",
    "#             for data in player.data:\n",
    "#                 writer.writerow(data)"
   ]
  }
 ],
 "metadata": {
  "kernelspec": {
   "display_name": "Python 3 (ipykernel)",
   "language": "python",
   "name": "python3"
  },
  "language_info": {
   "codemirror_mode": {
    "name": "ipython",
    "version": 3
   },
   "file_extension": ".py",
   "mimetype": "text/x-python",
   "name": "python",
   "nbconvert_exporter": "python",
   "pygments_lexer": "ipython3",
   "version": "3.8.0"
  }
 },
 "nbformat": 4,
 "nbformat_minor": 5
}
