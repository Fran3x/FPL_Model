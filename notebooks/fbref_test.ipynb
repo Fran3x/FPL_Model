{
 "cells": [
  {
   "cell_type": "code",
   "execution_count": 1,
   "id": "979a4515-aaac-4aaf-ac20-f79ce9577e01",
   "metadata": {},
   "outputs": [],
   "source": [
    "import os\n",
    "os.chdir(\"D:\\PulpitE\\FPL_ML\")"
   ]
  },
  {
   "cell_type": "code",
   "execution_count": 2,
   "id": "6c9a15be-43c7-4b6c-bfc4-837ec248e2a4",
   "metadata": {},
   "outputs": [],
   "source": [
    "from vaastav.fbref import *\n",
    "import pandas as pd\n",
    "import time"
   ]
  },
  {
   "cell_type": "code",
   "execution_count": 3,
   "id": "62fdc2fd-6c08-4a29-b6a6-59b57aa1e44c",
   "metadata": {},
   "outputs": [],
   "source": [
    "def get_url( url ):\n",
    "    df = pd.read_html( url, header=1)[0]\n",
    "    return df"
   ]
  },
  {
   "cell_type": "code",
   "execution_count": 4,
   "id": "3ee77d17-c1ac-42d8-8114-1f3417e81460",
   "metadata": {},
   "outputs": [
    {
     "ename": "Exception",
     "evalue": "Response was code 429",
     "output_type": "error",
     "traceback": [
      "\u001b[1;31m---------------------------------------------------------------------------\u001b[0m",
      "\u001b[1;31mException\u001b[0m                                 Traceback (most recent call last)",
      "Input \u001b[1;32mIn [4]\u001b[0m, in \u001b[0;36m<cell line: 1>\u001b[1;34m()\u001b[0m\n\u001b[1;32m----> 1\u001b[0m players, stats \u001b[38;5;241m=\u001b[39m \u001b[43mget_epl_players\u001b[49m\u001b[43m(\u001b[49m\u001b[43m)\u001b[49m\n",
      "File \u001b[1;32mD:\\PulpitE\\FPL_ML\\vaastav\\fbref.py:89\u001b[0m, in \u001b[0;36mget_epl_players\u001b[1;34m()\u001b[0m\n\u001b[0;32m     88\u001b[0m \u001b[38;5;28;01mdef\u001b[39;00m \u001b[38;5;21mget_epl_players\u001b[39m():\n\u001b[1;32m---> 89\u001b[0m     tables \u001b[38;5;241m=\u001b[39m \u001b[43mget_data\u001b[49m\u001b[43m(\u001b[49m\u001b[38;5;124;43m\"\u001b[39;49m\u001b[38;5;124;43mhttps://fbref.com/en/comps/9/stats/Premier-League-Stats\u001b[39;49m\u001b[38;5;124;43m\"\u001b[39;49m\u001b[43m)\u001b[49m\n\u001b[0;32m     90\u001b[0m     table \u001b[38;5;241m=\u001b[39m tables[\u001b[38;5;241m0\u001b[39m]\n\u001b[0;32m     91\u001b[0m     players \u001b[38;5;241m=\u001b[39m {}\n",
      "File \u001b[1;32mD:\\PulpitE\\FPL_ML\\vaastav\\fbref.py:26\u001b[0m, in \u001b[0;36mget_data\u001b[1;34m(url)\u001b[0m\n\u001b[0;32m     24\u001b[0m response \u001b[38;5;241m=\u001b[39m requests\u001b[38;5;241m.\u001b[39mget(url)\n\u001b[0;32m     25\u001b[0m \u001b[38;5;28;01mif\u001b[39;00m response\u001b[38;5;241m.\u001b[39mstatus_code \u001b[38;5;241m!=\u001b[39m \u001b[38;5;241m200\u001b[39m:\n\u001b[1;32m---> 26\u001b[0m     \u001b[38;5;28;01mraise\u001b[39;00m \u001b[38;5;167;01mException\u001b[39;00m(\u001b[38;5;124m\"\u001b[39m\u001b[38;5;124mResponse was code \u001b[39m\u001b[38;5;124m\"\u001b[39m \u001b[38;5;241m+\u001b[39m \u001b[38;5;28mstr\u001b[39m(response\u001b[38;5;241m.\u001b[39mstatus_code))\n\u001b[0;32m     27\u001b[0m html \u001b[38;5;241m=\u001b[39m response\u001b[38;5;241m.\u001b[39mtext\n\u001b[0;32m     28\u001b[0m parsed_html \u001b[38;5;241m=\u001b[39m  BeautifulSoup(html, \u001b[38;5;124m'\u001b[39m\u001b[38;5;124mhtml.parser\u001b[39m\u001b[38;5;124m'\u001b[39m)\n",
      "\u001b[1;31mException\u001b[0m: Response was code 429"
     ]
    }
   ],
   "source": [
    "players, stats = get_epl_players()"
   ]
  },
  {
   "cell_type": "code",
   "execution_count": null,
   "id": "e148d571-ef23-467c-9e7a-2dadf38246c9",
   "metadata": {},
   "outputs": [],
   "source": [
    "def get_logs_for_players_in_season(players, season):\n",
    "    logs = pd.DataFrame({'A' : []})\n",
    "    for id, player in list(players.items()):\n",
    "        player_name = player.data[0]['player'].replace(\" \", \"-\").replace(\"ï\", \"i\").replace(\"é\", \"e\").replace(\"á\", \"a\").replace(\"ó\", \"o\").replace(\"Á\", \"A\").replace(\"ø\", \"o\").replace(\"ć\", \"c\").replace(\"í\", \"i\").replace(\"ú\", \"u\").replace(\"Ć\", \"C\").replace(\"ã\", \"a\").replace(\"ğ\", \"g\").replace(\"ş\", \"s\").replace(\"É\", \"E\").replace(\"ñ\", \"n\").replace(\"Ł\", \"L\").replace(\"ń\", \"n\").replace(\"ß\", \"ss\").replace(\"ç\", \"c\").replace(\"İ\", \"I\").replace(\"č\", \"c\").replace(\"ö\", \"o\").replace(\"ë\", \"e\").replace(\"š\", \"s\").replace(\"ä\", \"a\").replace(\"Ç\", \"C\").replace(\"ü\", \"u\").replace(\"Ø\", \"O\").replace(\"ú\", \"u\").replace(\"ú\", \"u\")\n",
    "        if player_name != \"Mohamed-Salah\": \n",
    "            continue\n",
    "        print(\"Getting data for \" + player_name)\n",
    "        url = 'https://fbref.com/en/players/' + str(id) + '/matchlogs/' + season + '/summary/' + player_name + '-Match-Logs'\n",
    "        new_player_df = get_url(url)\n",
    "        # dropping NaN rows\n",
    "        new_player_df = new_player_df[new_player_df['Date'].notna()]\n",
    "        if not logs.empty:\n",
    "            logs = pd.concat([logs, new_player_df])\n",
    "        else:\n",
    "            logs = new_player_df\n",
    "        \n",
    "        time.sleep(5)\n",
    "    return logs"
   ]
  },
  {
   "cell_type": "code",
   "execution_count": null,
   "id": "0f0a9a87-7c9b-437f-8afb-e467513776aa",
   "metadata": {},
   "outputs": [],
   "source": [
    "%%time\n",
    "logs = get_logs_for_players_in_season(players, '2022-2023')"
   ]
  },
  {
   "cell_type": "code",
   "execution_count": null,
   "id": "05b843d3-5a77-47a6-a339-38b5e701508b",
   "metadata": {},
   "outputs": [],
   "source": [
    "logs"
   ]
  }
 ],
 "metadata": {
  "kernelspec": {
   "display_name": "Python 3 (ipykernel)",
   "language": "python",
   "name": "python3"
  },
  "language_info": {
   "codemirror_mode": {
    "name": "ipython",
    "version": 3
   },
   "file_extension": ".py",
   "mimetype": "text/x-python",
   "name": "python",
   "nbconvert_exporter": "python",
   "pygments_lexer": "ipython3",
   "version": "3.8.0"
  }
 },
 "nbformat": 4,
 "nbformat_minor": 5
}
