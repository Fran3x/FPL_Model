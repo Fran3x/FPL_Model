{
 "cells": [
  {
   "cell_type": "code",
   "execution_count": 2,
   "id": "979a4515-aaac-4aaf-ac20-f79ce9577e01",
   "metadata": {},
   "outputs": [],
   "source": [
    "import os\n",
    "os.chdir(\"D:\\PulpitE\\FPL_ML\")"
   ]
  },
  {
   "cell_type": "code",
   "execution_count": 3,
   "id": "6c9a15be-43c7-4b6c-bfc4-837ec248e2a4",
   "metadata": {},
   "outputs": [],
   "source": [
    "from vaastav.fbref import *\n",
    "import pandas as pd\n",
    "import time"
   ]
  },
  {
   "cell_type": "code",
   "execution_count": 4,
   "id": "62fdc2fd-6c08-4a29-b6a6-59b57aa1e44c",
   "metadata": {},
   "outputs": [],
   "source": [
    "def get_url( url ):\n",
    "    df = pd.read_html( url, header=1)[0]\n",
    "    return df"
   ]
  },
  {
   "cell_type": "code",
   "execution_count": 5,
   "id": "3ee77d17-c1ac-42d8-8114-1f3417e81460",
   "metadata": {},
   "outputs": [],
   "source": [
    "players, stats = get_epl_players()"
   ]
  },
  {
   "cell_type": "code",
   "execution_count": null,
   "id": "e148d571-ef23-467c-9e7a-2dadf38246c9",
   "metadata": {},
   "outputs": [],
   "source": [
    "def get_logs_for_players_in_season(players, season):\n",
    "    logs = pd.DataFrame({'A' : []})\n",
    "    for id, player in list(players.items()):\n",
    "        player_name = player.data[0]['player'].replace(\" \", \"-\").replace(\"ï\", \"i\").replace(\"é\", \"e\").replace(\"á\", \"a\").replace(\"ó\", \"o\").replace(\"Á\", \"A\").replace(\"ø\", \"o\").replace(\"ć\", \"c\").replace(\"í\", \"i\").replace(\"ú\", \"u\").replace(\"Ć\", \"C\").replace(\"ã\", \"a\").replace(\"ğ\", \"g\").replace(\"ş\", \"s\").replace(\"É\", \"E\").replace(\"ñ\", \"n\").replace(\"Ł\", \"L\").replace(\"ń\", \"n\").replace(\"ß\", \"ss\").replace(\"ç\", \"c\").replace(\"İ\", \"I\").replace(\"č\", \"c\").replace(\"ö\", \"o\").replace(\"ë\", \"e\").replace(\"š\", \"s\").replace(\"ä\", \"a\").replace(\"Ç\", \"C\").replace(\"ü\", \"u\").replace(\"Ø\", \"O\").replace(\"ú\", \"u\").replace(\"ú\", \"u\")\n",
    "        if player_name != \"Mohamed-Salah\": \n",
    "            continue\n",
    "        print(\"Getting data for \" + player_name)\n",
    "        url = 'https://fbref.com/en/players/' + str(id) + '/matchlogs/' + season + '/summary/' + player_name + '-Match-Logs'\n",
    "        new_player_df = get_url(url)\n",
    "        # dropping NaN rows\n",
    "        new_player_df = new_player_df[new_player_df['Date'].notna()]\n",
    "        if not logs.empty:\n",
    "            logs = pd.concat([logs, new_player_df])\n",
    "        else:\n",
    "            logs = new_player_df\n",
    "        \n",
    "        time.sleep(5)\n",
    "    return logs"
   ]
  },
  {
   "cell_type": "code",
   "execution_count": null,
   "id": "0f0a9a87-7c9b-437f-8afb-e467513776aa",
   "metadata": {},
   "outputs": [],
   "source": [
    "%%time\n",
    "logs = get_logs_for_players_in_season(players, '2022-2023')"
   ]
  },
  {
   "cell_type": "code",
   "execution_count": null,
   "id": "05b843d3-5a77-47a6-a339-38b5e701508b",
   "metadata": {},
   "outputs": [],
   "source": [
    "logs"
   ]
  }
 ],
 "metadata": {
  "kernelspec": {
   "display_name": "Python 3",
   "language": "python",
   "name": "python3"
  },
  "language_info": {
   "codemirror_mode": {
    "name": "ipython",
    "version": 3
   },
   "file_extension": ".py",
   "mimetype": "text/x-python",
   "name": "python",
   "nbconvert_exporter": "python",
   "pygments_lexer": "ipython3",
   "version": "3.8.0 (tags/v3.8.0:fa919fd, Oct 14 2019, 19:37:50) [MSC v.1916 64 bit (AMD64)]"
  },
  "vscode": {
   "interpreter": {
    "hash": "6a926afa313b26ae1264fdcf81c726a97e69f6ba2ba780f6aa901948710f8d6e"
   }
  }
 },
 "nbformat": 4,
 "nbformat_minor": 5
}
