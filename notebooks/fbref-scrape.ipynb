{
 "cells": [
  {
   "cell_type": "markdown",
   "id": "d26d6472",
   "metadata": {},
   "source": [
    "# Imports"
   ]
  },
  {
   "cell_type": "code",
   "execution_count": 1,
   "id": "f6a1779c-aca4-4390-a14a-518395fd17c0",
   "metadata": {},
   "outputs": [],
   "source": [
    "import os\n",
    "os.chdir(\"D:\\PulpitE\\FPL_ML\")"
   ]
  },
  {
   "cell_type": "code",
   "execution_count": 2,
   "id": "bb575005",
   "metadata": {},
   "outputs": [],
   "source": [
    "import pandas as pd\n",
    "import time\n",
    "from vaastav.fbref import *"
   ]
  },
  {
   "cell_type": "markdown",
   "id": "d38501e9",
   "metadata": {},
   "source": [
    "# Getting raw data"
   ]
  },
  {
   "cell_type": "code",
   "execution_count": 3,
   "id": "7d82c522",
   "metadata": {},
   "outputs": [],
   "source": [
    "def get_url( url ):\n",
    "    df = pd.read_html( url, header=1)[0]\n",
    "    return df"
   ]
  },
  {
   "cell_type": "code",
   "execution_count": 4,
   "id": "192dae83-d028-4458-ad6b-94bec3478d62",
   "metadata": {},
   "outputs": [],
   "source": [
    "def get_shorter_season(season):\n",
    "    res = season.split(\"-\")\n",
    "    return res[0] + \"-\" + res[1][2:]"
   ]
  },
  {
   "cell_type": "code",
   "execution_count": 5,
   "id": "9958f893-34fa-40e9-99af-6eee7faec60c",
   "metadata": {},
   "outputs": [
    {
     "data": {
      "text/plain": [
       "'2022-23'"
      ]
     },
     "execution_count": 5,
     "metadata": {},
     "output_type": "execute_result"
    }
   ],
   "source": [
    "get_shorter_season(\"2022-2023\")"
   ]
  },
  {
   "cell_type": "code",
   "execution_count": 6,
   "id": "51ab3339",
   "metadata": {},
   "outputs": [],
   "source": [
    "def get_logs_for_players_in_season(players, season, players_names=[]):\n",
    "    logs = pd.DataFrame({'A' : []})\n",
    "    for id, player in list(players.items()):\n",
    "        player_name = player.data[0]['player'].replace(\" \", \"-\").replace(\"ï\", \"i\").replace(\"é\", \"e\").replace(\"á\", \"a\").replace(\"ó\", \"o\").replace(\"Á\", \"A\").replace(\"ø\", \"o\").replace(\"ć\", \"c\").replace(\"í\", \"i\").replace(\"ú\", \"u\").replace(\"Ć\", \"C\").replace(\"ã\", \"a\").replace(\"ğ\", \"g\").replace(\"ş\", \"s\").replace(\"É\", \"E\").replace(\"ñ\", \"n\").replace(\"Ł\", \"L\").replace(\"ń\", \"n\").replace(\"ß\", \"ss\").replace(\"ç\", \"c\").replace(\"İ\", \"I\").replace(\"č\", \"c\").replace(\"ö\", \"o\").replace(\"ë\", \"e\").replace(\"š\", \"s\").replace(\"ä\", \"a\").replace(\"Ç\", \"C\").replace(\"ü\", \"u\").replace(\"Ø\", \"O\").replace(\"ú\", \"u\").replace(\"ú\", \"u\").replace(\"î\", \"i\")\n",
    "        if players_names and player_name not in players_names: \n",
    "            continue\n",
    "        print(\"Getting data for \" + player_name)\n",
    "        url = 'https://fbref.com/en/players/' + str(id) + '/matchlogs/' + season + '/summary/' + player_name + '-Match-Logs'\n",
    "        new_player_df = get_url(url)\n",
    "        new_player_df[\"Name\"] = player_name\n",
    "        new_player_df[\"Season\"] = get_shorter_season(season)\n",
    "        \n",
    "        \n",
    "        # dropping NaN rows\n",
    "        new_player_df = new_player_df[new_player_df['Date'].notna()]\n",
    "        \n",
    "        # only Premier League\n",
    "        new_player_df = new_player_df[new_player_df.Comp == \"Premier League\"]\n",
    "        \n",
    "        # only last 15 matches\n",
    "        new_player_df = new_player_df[-15:]\n",
    "        \n",
    "        if not logs.empty:\n",
    "            logs = pd.concat([logs, new_player_df])\n",
    "        else:\n",
    "            logs = new_player_df\n",
    "        \n",
    "        # to not get timeouted\n",
    "        time.sleep(3.2)\n",
    "    return logs"
   ]
  },
  {
   "cell_type": "code",
   "execution_count": 7,
   "id": "1eaee43d",
   "metadata": {},
   "outputs": [],
   "source": [
    "players, stats = get_epl_players()"
   ]
  },
  {
   "cell_type": "code",
   "execution_count": null,
   "id": "42b451f3",
   "metadata": {},
   "outputs": [
    {
     "name": "stdout",
     "output_type": "stream",
     "text": [
      "Getting data for Brenden-Aaronson\n",
      "Getting data for Che-Adams\n",
      "Getting data for Tyler-Adams\n",
      "Getting data for Tosin-Adarabioyo\n",
      "Getting data for Nayef-Aguerd\n",
      "Getting data for Rayan-Ait-Nouri\n",
      "Getting data for Kristoffer-Ajer\n",
      "Getting data for Manuel-Akanji\n",
      "Getting data for Nathan-Ake\n",
      "Getting data for Marc-Albrighton\n",
      "Getting data for Thiago-Alcantara\n",
      "Getting data for Carlos-Alcaraz\n",
      "Getting data for Trent-Alexander-Arnold\n",
      "Getting data for Alisson\n",
      "Getting data for Dele-Alli\n",
      "Getting data for Miguel-Almiron\n",
      "Getting data for Julian-Alvarez\n",
      "Getting data for Daniel-Amartey\n",
      "Getting data for Joachim-Andersen\n",
      "Getting data for Elliot-Anderson\n",
      "Getting data for Jaidon-Anthony\n",
      "Getting data for Michail-Antonio\n",
      "Getting data for Antony\n",
      "Getting data for Cameron-Archer\n",
      "Getting data for Alphonse-Areola\n",
      "Getting data for Joe-Aribo\n",
      "Getting data for Adam-Armstrong\n",
      "Getting data for Stuart-Armstrong\n",
      "Getting data for Kepa-Arrizabalaga\n",
      "Getting data for Pierre-Emerick-Aubameyang\n",
      "Getting data for Ludwig-Augustinsson\n",
      "Getting data for Serge-Aurier\n",
      "Getting data for Taiwo-Awoniyi\n",
      "Getting data for Jordan-Ayew\n",
      "Getting data for Luke-Ayling\n",
      "Getting data for Cesar-Azpilicueta\n",
      "Getting data for Benoit-Badiashile\n",
      "Getting data for Leon-Bailey\n",
      "Getting data for Stefan-Bajcetic\n",
      "Getting data for Patrick-Bamford\n",
      "Getting data for Shandon-Baptiste\n",
      "Getting data for Harvey-Barnes\n",
      "Getting data for Gavin-Bazunu\n",
      "Getting data for Mads-Bech-Sorensen\n",
      "Getting data for Jan-Bednarek\n",
      "Getting data for Donny-van-de-Beek\n",
      "Getting data for Asmir-Begovic\n",
      "Getting data for Armel-Bella-Kotchap\n",
      "Getting data for Said-Benrahma\n",
      "Getting data for Rodrigo-Bentancur\n",
      "Getting data for Owen-Bevan\n",
      "Getting data for Giulian-Biancone\n",
      "Getting data for Philip-Billing\n",
      "Getting data for Yves-Bissouma\n",
      "Getting data for Willy-Boly\n",
      "Getting data for Sven-Botman\n",
      "Getting data for Jarrod-Bowen\n",
      "Getting data for Armando-Broja\n",
      "Getting data for Lewis-Brunt\n",
      "Getting data for Bryan\n",
      "Getting data for Emi-Buendia\n",
      "Getting data for Hugo-Bueno\n",
      "Getting data for Dan-Burn\n",
      "Getting data for Cafu\n",
      "Getting data for Moises-Caicedo\n",
      "Getting data for Tom-Cairney\n",
      "Getting data for Duje-Caleta-Car\n",
      "Getting data for Dominic-Calvert-Lewin\n",
      "Getting data for Chem-Campbell\n",
      "Getting data for Joao-Cancelo\n",
      "Getting data for Thomas-Cannon\n",
      "Getting data for Sergi-Canos\n",
      "Getting data for Diego-Carlos\n",
      "Getting data for Fabio-Carvalho\n",
      "Getting data for Casemiro\n",
      "Getting data for Matty-Cash\n",
      "Getting data for Timothy-Castagne\n",
      "Getting data for Jonny-Castro\n",
      "Getting data for Julio-Cesar-Enciso\n",
      "Getting data for Nathaniel-Chalobah\n",
      "Getting data for Trevoh-Chalobah\n",
      "Getting data for Calum-Chambers\n"
     ]
    }
   ],
   "source": [
    "%%time\n",
    "# player_names = [\"Mohamed-Salah\", \"Miguel-Almiron\", \"Bukayo-Saka\", \"Kevin-De-Bruyne\", \"Wilfried-Zaha\", \"Mason-Mount\", \"Bruno-Fernandes\"]\n",
    "logs = get_logs_for_players_in_season(players, '2022-2023', None)"
   ]
  },
  {
   "cell_type": "markdown",
   "id": "26c47df9",
   "metadata": {},
   "source": [
    "# Modyfing data"
   ]
  },
  {
   "cell_type": "code",
   "execution_count": null,
   "id": "7820ac9a",
   "metadata": {},
   "outputs": [],
   "source": [
    "# splitting result column\n",
    "logs[['WDL', 'GoalsTeams']] = logs['Result'].str.split(' ', expand=True)\n",
    "logs[['Team Score', 'Opp Score']] = logs['GoalsTeams'].str.split('–', expand=True)\n",
    "logs['Team Score'] = logs['Team Score'].astype(int)\n",
    "logs['Opp Score'] = logs['Opp Score'].astype(int)\n",
    "logs = logs.drop(['Result'], axis=1)"
   ]
  },
  {
   "cell_type": "code",
   "execution_count": null,
   "id": "014a5a4b-d5ae-4e9c-993e-08a262f5ba67",
   "metadata": {},
   "outputs": [],
   "source": [
    "logs.replace(\"On matchday squad, but did not play\", 0, inplace=True)\n",
    "logs[\"Min\"] = logs[\"Min\"].astype(float)\n",
    "logs[\"Gls\"] = logs[\"Gls\"].astype(float)\n",
    "logs[\"Ast\"] = logs[\"Ast\"].astype(float)"
   ]
  },
  {
   "cell_type": "code",
   "execution_count": null,
   "id": "ced68a0c",
   "metadata": {},
   "outputs": [],
   "source": [
    "# additional columns\n",
    "# approximated FPL points\n",
    "logs[\"CS\"] = (logs[\"Opp Score\"] == 0).astype(float)\n",
    "logs[\"Was Home\"] = (logs[\"Venue\"] == \"Home\").astype(float)\n",
    "logs[\"GW\"] = logs['Round'].str.split(' ', expand=True)[1]\n",
    "logs[\"FPL\"] = 1 + (logs[\"Min\"] >= 60) + (5 * logs[\"Gls\"]) + (3 * logs[\"Ast\"]) + (1 * logs[\"CS\"])"
   ]
  },
  {
   "cell_type": "code",
   "execution_count": null,
   "id": "1284a604",
   "metadata": {},
   "outputs": [],
   "source": [
    "logs"
   ]
  },
  {
   "cell_type": "markdown",
   "id": "7cd07608",
   "metadata": {},
   "source": [
    "# Saving to csv"
   ]
  },
  {
   "cell_type": "code",
   "execution_count": null,
   "id": "f3b104dc",
   "metadata": {},
   "outputs": [],
   "source": [
    "logs.to_csv(\"data/logs_all.csv\")"
   ]
  },
  {
   "cell_type": "markdown",
   "id": "41cfaf68",
   "metadata": {
    "execution": {
     "iopub.execute_input": "2023-01-12T21:52:31.734059Z",
     "iopub.status.busy": "2023-01-12T21:52:31.733636Z",
     "iopub.status.idle": "2023-01-12T21:52:31.739739Z",
     "shell.execute_reply": "2023-01-12T21:52:31.738630Z",
     "shell.execute_reply.started": "2023-01-12T21:52:31.734024Z"
    }
   },
   "source": [
    "# Features"
   ]
  },
  {
   "cell_type": "code",
   "execution_count": null,
   "id": "746e6dac",
   "metadata": {},
   "outputs": [],
   "source": [
    "info = [\"Date\", \"Day\", \"GW\", \"Was Home\"]\n",
    "features = [\"Min\", \"Gls\", \"Sh\", \"SoT\", \"xG\", \"npxG\", \"xAG\", \"CS\"]\n",
    "to_predict = [\"FPL\"]"
   ]
  },
  {
   "cell_type": "code",
   "execution_count": null,
   "id": "95415ccb",
   "metadata": {},
   "outputs": [],
   "source": [
    "logs[info + features + to_predict]"
   ]
  },
  {
   "cell_type": "code",
   "execution_count": null,
   "id": "26e25bc7",
   "metadata": {},
   "outputs": [],
   "source": [
    "logs[info + features + to_predict].to_csv(\"data/logs_features.csv\")"
   ]
  },
  {
   "cell_type": "code",
   "execution_count": null,
   "id": "de5e301b-b9af-4848-8722-19079894e73e",
   "metadata": {},
   "outputs": [],
   "source": []
  }
 ],
 "metadata": {
  "kernelspec": {
   "display_name": "Python 3 (ipykernel)",
   "language": "python",
   "name": "python3"
  },
  "language_info": {
   "codemirror_mode": {
    "name": "ipython",
    "version": 3
   },
   "file_extension": ".py",
   "mimetype": "text/x-python",
   "name": "python",
   "nbconvert_exporter": "python",
   "pygments_lexer": "ipython3",
   "version": "3.8.0"
  }
 },
 "nbformat": 4,
 "nbformat_minor": 5
}
