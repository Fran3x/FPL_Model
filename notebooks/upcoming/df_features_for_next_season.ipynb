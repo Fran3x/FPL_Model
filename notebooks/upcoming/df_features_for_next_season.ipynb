{
 "cells": [
  {
   "cell_type": "markdown",
   "id": "e61cf721-96f7-4f7c-a5c5-343917267d91",
   "metadata": {},
   "source": [
    "\n",
    "# Imports"
   ]
  },
  {
   "cell_type": "code",
   "execution_count": 1,
   "id": "c2b67ee7-f81a-4a96-bd38-8149efc725cf",
   "metadata": {},
   "outputs": [],
   "source": [
    "import os\n",
    "os.chdir(\"D:\\PulpitE\\FPL_ML\")"
   ]
  },
  {
   "cell_type": "code",
   "execution_count": 2,
   "id": "3f447fc0-41e6-4c50-967e-2cc314a1e81f",
   "metadata": {},
   "outputs": [],
   "source": [
    "import matplotlib.pyplot as plt\n",
    "import pandas as pd\n",
    "import numpy as np\n",
    "import shap\n",
    "import pickle\n",
    "\n",
    "from sklearn.preprocessing import LabelEncoder\n",
    "\n",
    "from modeling_functions import *\n",
    "from config import *"
   ]
  },
  {
   "cell_type": "markdown",
   "id": "8872f7cc-f945-4e0d-85e3-9f39ec505ed9",
   "metadata": {},
   "source": [
    "# Loading data\n",
    "Data consists of all PL players logs for 2021-22 and 2022-23 seasons\\\n",
    "A single log is just a summary of player performance in a particular match"
   ]
  },
  {
   "cell_type": "code",
   "execution_count": 3,
   "id": "217927df-909e-4a95-9e59-651d57e312db",
   "metadata": {},
   "outputs": [],
   "source": [
    "# loading csv\n",
    "df_original = pd.read_csv('data/previous/FPL_logs.csv')\n",
    "\n",
    "df = df_original.copy()"
   ]
  },
  {
   "cell_type": "code",
   "execution_count": 4,
   "id": "60af6f3b-1788-447d-a47e-94df72ca37e4",
   "metadata": {},
   "outputs": [
    {
     "data": {
      "text/plain": [
       "Index(['Date', 'Day', 'Venue', 'Team', 'Opponent', 'Name', 'Start', 'Pos',\n",
       "       'Min', 'Gls', 'Ast', 'PK', 'PKatt', 'Sh', 'SoT', 'CrdY', 'CrdR',\n",
       "       'Touches', 'Tkl', 'Int', 'Blocks', 'xG', 'npxG', 'xA', 'SCA', 'GCA',\n",
       "       'Cmp', 'Att', 'Cmp%', 'PrgP', 'Carries', 'PrgC', 'T_att', 'T_succ',\n",
       "       'Season', 'WDL', 'Team_score', 'Opp_score', 'Team_CS', 'Was_home', 'GW',\n",
       "       'Clean_name', 'FPL_name', 'FPL_team', 'FPL_opp_team', 'Name_original',\n",
       "       'FPL_pos', 'FPL_ast', 'Bonus', 'Bps', 'Player_CS', 'Creativity',\n",
       "       'Element', 'Fixture', 'Player_GC', 'Goals_scored', 'ICT_index',\n",
       "       'Influence', 'Kickoff_time', 'FPL_min', 'Own_goals', 'Penalties_missed',\n",
       "       'Penalties_saved', 'Saves', 'Selected', 'Threat', 'FPL_points',\n",
       "       'Transfers_balance', 'Transfers_in', 'Transfers_out', 'Value', 'FPL_GW',\n",
       "       'xP', 'FPL_xA', 'FPL_xGI', 'FPL_xG', 'FPL_xGC', 'Opp_rating',\n",
       "       'Team_rating', 'Min_points', 'Avg_FPL_points'],\n",
       "      dtype='object')"
      ]
     },
     "execution_count": 4,
     "metadata": {},
     "output_type": "execute_result"
    }
   ],
   "source": [
    "df_original.columns"
   ]
  },
  {
   "cell_type": "code",
   "execution_count": 5,
   "id": "5c1b9133-98f1-4547-aa9a-01dac513f0e0",
   "metadata": {},
   "outputs": [
    {
     "data": {
      "text/plain": [
       "(19421, 81)"
      ]
     },
     "execution_count": 5,
     "metadata": {},
     "output_type": "execute_result"
    }
   ],
   "source": [
    "df.shape"
   ]
  },
  {
   "cell_type": "code",
   "execution_count": 6,
   "id": "bea7e13d-5911-428a-a55c-6636cc0e10f9",
   "metadata": {},
   "outputs": [
    {
     "data": {
      "text/plain": [
       "484"
      ]
     },
     "execution_count": 6,
     "metadata": {},
     "output_type": "execute_result"
    }
   ],
   "source": [
    "df_original[\"Name\"].unique().size"
   ]
  },
  {
   "cell_type": "code",
   "execution_count": 7,
   "id": "061b7f77-aaa5-4c47-aa57-fcd0a8f1f383",
   "metadata": {},
   "outputs": [
    {
     "data": {
      "text/plain": [
       "array(['2021-22', '2022-23', '2023-24'], dtype=object)"
      ]
     },
     "execution_count": 7,
     "metadata": {},
     "output_type": "execute_result"
    }
   ],
   "source": [
    "df[\"Season\"].unique()"
   ]
  },
  {
   "cell_type": "code",
   "execution_count": 8,
   "id": "a2e133a4-2a62-47f4-b549-3c907a833258",
   "metadata": {},
   "outputs": [],
   "source": [
    "df = df.sort_values(by=[\"Name\", \"Date\"])"
   ]
  },
  {
   "cell_type": "markdown",
   "id": "32eaa7fb-e3cc-4e17-a8b1-cc301aa3a766",
   "metadata": {},
   "source": [
    "# Feature selection\n",
    "Model will use a set of standard features and moving averages for some other feature values. In this case we will use moving averages for last 2, 4 and 30 gameweeks."
   ]
  },
  {
   "cell_type": "code",
   "execution_count": 9,
   "id": "29b66688-3e11-4ea5-a9ed-77be552e5e4a",
   "metadata": {},
   "outputs": [],
   "source": [
    "rolling_gameweeks = [2, 4, 30]\n",
    "\n",
    "to_predict = \"xP\"\n",
    "standard_features = []\n",
    "features_to_roll = [\n",
    "       'Min', 'Gls', 'Ast', 'PK', 'PKatt', 'Sh', 'SoT', 'CrdY', 'CrdR',\n",
    "       'Touches', 'Tkl', 'Int', 'Blocks', 'xG', 'npxG', 'xA', 'SCA', 'GCA',\n",
    "       'Cmp', 'Att', 'Cmp%', 'PrgP', 'Carries', 'PrgC', 'T_att', 'T_succ',\n",
    "       'Season', 'Team_score', 'Opp_score', 'Team_CS',\n",
    "       'FPL_ast', 'Bonus', 'Bps', 'Player_CS', 'Creativity',\n",
    "       'Element', 'Player_GC', 'Goals_scored', 'ICT_index',\n",
    "       'Influence', 'FPL_min', 'Own_goals', 'Penalties_missed',\n",
    "       'Penalties_saved', 'Saves', 'Selected', 'Threat', 'FPL_points',\n",
    "       'Transfers_balance', 'Transfers_in', 'Transfers_out', 'Value',\n",
    "       'xP', 'FPL_xA', 'FPL_xGI', 'FPL_xG', 'FPL_xGC', 'Opp_rating',\n",
    "       'Team_rating', 'Min_points', 'Team_result']\n",
    "info = [\"Name_original\", \"GW\", \"Season\", \"Team\", \"Opponent\", \"Was_home\", \"Team_rating\", \"Opp_rating\", \"FPL_pos\", \"FPL_points\"]"
   ]
  },
  {
   "cell_type": "markdown",
   "id": "fe7a4ac1-336c-4ea4-ad91-24489c66e789",
   "metadata": {},
   "source": [
    "# Feature engineering"
   ]
  },
  {
   "cell_type": "code",
   "execution_count": 10,
   "id": "338fb226-ffc9-4431-b9e2-5e4a1dd5592b",
   "metadata": {},
   "outputs": [],
   "source": [
    "df[\"Rating_difference\"] = df[\"Team_rating\"] / df[\"Opp_rating\"]\n",
    "df[\"Baseline_points\"] = df[\"FPL_points\"] - df[\"Bonus\"]\n",
    "df[\"Transfers_result\"] = df[\"Transfers_balance\"] >= 0"
   ]
  },
  {
   "cell_type": "code",
   "execution_count": 11,
   "id": "9b663604-89b7-4e84-b985-6c0b2edd7983",
   "metadata": {},
   "outputs": [],
   "source": [
    "df['Team_result'] = df.apply(calculate_team_points, axis=1)"
   ]
  },
  {
   "cell_type": "code",
   "execution_count": 12,
   "id": "dc05870f-c6a1-4340-b061-6b0f9da5ff46",
   "metadata": {},
   "outputs": [],
   "source": [
    "df = label_encoding(df, \"Start\")"
   ]
  },
  {
   "cell_type": "code",
   "execution_count": 13,
   "id": "c963831b-e2ec-4958-b2da-99c9eb5cf759",
   "metadata": {},
   "outputs": [],
   "source": [
    "df, features = add_rolling_features(df, standard_features, features_to_roll, rolling_gameweeks)"
   ]
  },
  {
   "cell_type": "code",
   "execution_count": 14,
   "id": "b0dd88c1-dbbe-41f8-8159-b8e73f7f5c0d",
   "metadata": {},
   "outputs": [],
   "source": [
    "df, features = ohe(df, [\"FPL_pos\"], features)\n",
    "if \"GK\" in df.columns:\n",
    "    df = df.drop(\"GK\", axis=1)\n",
    "    features.remove(\"GK\")"
   ]
  },
  {
   "cell_type": "code",
   "execution_count": 15,
   "id": "871534cf-bd8d-49ed-bb56-d3ffaa9d8478",
   "metadata": {},
   "outputs": [],
   "source": [
    "# dropping unwanted columns\n",
    "columns_to_leave = [col for col in df.columns if not col.startswith('level')]\n",
    "df = df[columns_to_leave]\n",
    "df = df.drop(columns=[\"index\"])"
   ]
  },
  {
   "cell_type": "code",
   "execution_count": 16,
   "id": "269a1373-9fbd-4aa3-a095-5ad1c74be587",
   "metadata": {},
   "outputs": [],
   "source": [
    "df = df[pd.to_numeric(df[\"GW\"], errors=\"coerce\").notna()]\n",
    "df[\"GW\"] = df[\"GW\"].astype(\"uint64\")"
   ]
  },
  {
   "cell_type": "code",
   "execution_count": 17,
   "id": "aa7edd40-4433-4d9d-bc95-747fd5fcc118",
   "metadata": {},
   "outputs": [
    {
     "data": {
      "text/plain": [
       "Index(['Date', 'Day', 'Venue', 'Team', 'Opponent', 'Name', 'Start', 'Pos',\n",
       "       'Min', 'Gls',\n",
       "       ...\n",
       "       'FPL_xGI_30', 'FPL_xG_30', 'FPL_xGC_30', 'Opp_rating_30',\n",
       "       'Team_rating_30', 'Min_points_30', 'Team_result_30', 'DEF', 'FWD',\n",
       "       'MID'],\n",
       "      dtype='object', length=271)"
      ]
     },
     "execution_count": 17,
     "metadata": {},
     "output_type": "execute_result"
    }
   ],
   "source": [
    "df.columns"
   ]
  },
  {
   "cell_type": "code",
   "execution_count": 18,
   "id": "ea759415-aac3-49b6-93ec-ce52cbd44630",
   "metadata": {},
   "outputs": [
    {
     "data": {
      "text/plain": [
       "(19421, 271)"
      ]
     },
     "execution_count": 18,
     "metadata": {},
     "output_type": "execute_result"
    }
   ],
   "source": [
    "df.shape"
   ]
  },
  {
   "cell_type": "markdown",
   "id": "ce93fa5e-c029-4754-92ff-0df18428fa99",
   "metadata": {},
   "source": [
    "# Saving to file"
   ]
  },
  {
   "cell_type": "code",
   "execution_count": 19,
   "id": "787ff26b-8c64-4bcb-99db-c7b850c500cd",
   "metadata": {},
   "outputs": [],
   "source": [
    "# saving to file\n",
    "df.set_index([\"Name_original\", \"Season\", \"GW\"], drop=False).to_csv(\"data/misc/df_features.csv\", index=False) # keeping GKs on"
   ]
  },
  {
   "cell_type": "code",
   "execution_count": null,
   "id": "4d649adf-759a-420c-bc7c-499f2bc2b5a0",
   "metadata": {},
   "outputs": [],
   "source": []
  }
 ],
 "metadata": {
  "kernelspec": {
   "display_name": "Python 3 (ipykernel)",
   "language": "python",
   "name": "python3"
  },
  "language_info": {
   "codemirror_mode": {
    "name": "ipython",
    "version": 3
   },
   "file_extension": ".py",
   "mimetype": "text/x-python",
   "name": "python",
   "nbconvert_exporter": "python",
   "pygments_lexer": "ipython3",
   "version": "3.8.0"
  }
 },
 "nbformat": 4,
 "nbformat_minor": 5
}
