{
 "cells": [
  {
   "cell_type": "markdown",
   "id": "f2fffad3-7e0e-4e9d-8244-44a7c3490def",
   "metadata": {},
   "source": [
    "# Imports & setup"
   ]
  },
  {
   "cell_type": "code",
   "execution_count": 1,
   "id": "d086f0da-9daa-46fb-ace1-532ed013968c",
   "metadata": {},
   "outputs": [],
   "source": [
    "import os\n",
    "os.chdir(\"D:\\PulpitE\\FPL_ML\")"
   ]
  },
  {
   "cell_type": "code",
   "execution_count": 2,
   "id": "1980cbbd-2c16-4f34-8a56-6d00047e5f7f",
   "metadata": {},
   "outputs": [],
   "source": [
    "import pandas as pd\n",
    "import numpy as np\n",
    "import pickle\n",
    "from src.match_names import name_fbref_to_fpl, neutralize_name\n",
    "from config import *"
   ]
  },
  {
   "cell_type": "code",
   "execution_count": 3,
   "id": "353d86a7-2b81-4244-94f4-1262cdceb359",
   "metadata": {},
   "outputs": [],
   "source": [
    "info = [\"Name_original\", \"GW\", \"Season\", \"Team\", \"Opponent\", \"Was_home\", \"Team_rating\", \"Opp_rating\", \"FPL_pos\", \"Price\"]"
   ]
  },
  {
   "cell_type": "code",
   "execution_count": 4,
   "id": "e58bc375-925c-4899-a6d0-5b5579247f12",
   "metadata": {},
   "outputs": [
    {
     "data": {
      "text/plain": [
       "38"
      ]
     },
     "execution_count": 4,
     "metadata": {},
     "output_type": "execute_result"
    }
   ],
   "source": [
    "len(FEATURES_OUTFIELD)"
   ]
  },
  {
   "cell_type": "markdown",
   "id": "9551b3fa-3527-4fd2-8f45-1ed57f19c8e8",
   "metadata": {},
   "source": [
    "# Reading from files"
   ]
  },
  {
   "cell_type": "code",
   "execution_count": 5,
   "id": "64480cc2-3e55-4330-bfc6-fcfbedc2eb0e",
   "metadata": {},
   "outputs": [
    {
     "name": "stderr",
     "output_type": "stream",
     "text": [
      "C:\\users\\user\\appdata\\local\\programs\\python\\python38\\lib\\site-packages\\IPython\\core\\interactiveshell.py:3369: DtypeWarning: Columns (2,3,6,8,36,43,44,45,59,84,86,147,208) have mixed types.Specify dtype option on import or set low_memory=False.\n",
      "  exec(code_obj, self.user_global_ns, self.user_ns)\n"
     ]
    }
   ],
   "source": [
    "df = pd.read_csv(\"data/upcoming/upcoming_fixtures.csv\")"
   ]
  },
  {
   "cell_type": "code",
   "execution_count": 6,
   "id": "41b684a7-2455-48c1-a59e-2054a79895e9",
   "metadata": {},
   "outputs": [],
   "source": [
    "df = df[~df[FEATURES_OUTFIELD].isnull().any(axis=1)] # for some reason 45 rows are missing some feature values"
   ]
  },
  {
   "cell_type": "code",
   "execution_count": 7,
   "id": "4cb3309a-8564-4e7a-ae6a-9d5503085bf3",
   "metadata": {},
   "outputs": [],
   "source": [
    "X_test = df[df[\"Season\"] == CURRENT_SEASON][FEATURES_OUTFIELD]"
   ]
  },
  {
   "cell_type": "code",
   "execution_count": 8,
   "id": "3661398e-4e93-40e0-ac12-4bdb551a55e9",
   "metadata": {},
   "outputs": [
    {
     "data": {
      "text/plain": [
       "Index(['Unnamed: 0', 'Date', 'Day', 'Venue', 'Team', 'Opponent', 'Name',\n",
       "       'Start', 'Pos', 'Min',\n",
       "       ...\n",
       "       'FPL_xG_30', 'FPL_xGC_30', 'Opp_rating_30', 'Team_rating_30',\n",
       "       'Min_points_30', 'Team_result_30', 'DEF', 'FWD', 'MID', 'Finished'],\n",
       "      dtype='object', length=273)"
      ]
     },
     "execution_count": 8,
     "metadata": {},
     "output_type": "execute_result"
    }
   ],
   "source": [
    "df.columns"
   ]
  },
  {
   "cell_type": "code",
   "execution_count": 9,
   "id": "55b7e260-4b6b-4cfa-be8e-aaaff1497ddc",
   "metadata": {},
   "outputs": [
    {
     "data": {
      "text/plain": [
       "Index(['Was_home', 'Rating_difference', 'Price', 'Transfers_balance',\n",
       "       'Avg_FPL_points', 'Min_2', 'Gls_2', 'Ast_2', 'xG_2', 'xA_2',\n",
       "       'Team_CS_2', 'Team_score_2', 'Opp_score_2', 'Team_result_2',\n",
       "       'FPL_points_2', 'Min_4', 'Gls_4', 'Ast_4', 'xG_4', 'xA_4', 'Team_CS_4',\n",
       "       'Team_score_4', 'Opp_score_4', 'Team_result_4', 'FPL_points_4',\n",
       "       'Min_30', 'Gls_30', 'Ast_30', 'xG_30', 'xA_30', 'Team_CS_30',\n",
       "       'Team_score_30', 'Opp_score_30', 'Team_result_30', 'FPL_points_30',\n",
       "       'DEF', 'FWD', 'MID'],\n",
       "      dtype='object')"
      ]
     },
     "execution_count": 9,
     "metadata": {},
     "output_type": "execute_result"
    }
   ],
   "source": [
    "X_test.columns"
   ]
  },
  {
   "cell_type": "code",
   "execution_count": 10,
   "id": "4eaa09f9-5b5b-4c06-b2c9-841357cd9cae",
   "metadata": {},
   "outputs": [],
   "source": [
    "# df[df[\"FPL_pos\"] == \"GK\"]"
   ]
  },
  {
   "cell_type": "code",
   "execution_count": 11,
   "id": "ad307a45-7d76-4810-8c13-83f99a9d5753",
   "metadata": {},
   "outputs": [],
   "source": [
    "def new_predict(X):\n",
    "    XGB_COMPONENT = 0.45\n",
    "    OVERALL_COMPONENT = 0.5\n",
    "    FORM_COMPONENT = 0.25\n",
    "    \n",
    "    model_pred = np.array(model.predict2(X))\n",
    "    overall_pred = np.array([row[\"Avg_FPL_points\"] for i, row in X.iterrows()])\n",
    "    form_pred = np.array([row[\"FPL_points_4\"] for i, row in X.iterrows()])\n",
    "    \n",
    "    return np.add( model_pred * XGB_COMPONENT, overall_pred * OVERALL_COMPONENT, form_pred * FORM_COMPONENT )\n",
    "\n",
    "file = open(\"models/GBR.pkl\",'rb')\n",
    "model = pickle.load(file)"
   ]
  },
  {
   "cell_type": "code",
   "execution_count": 12,
   "id": "e4618335-aab0-4aa7-9dfa-2c780e87bfe0",
   "metadata": {},
   "outputs": [
    {
     "data": {
      "text/html": [
       "<style>#sk-container-id-1 {color: black;background-color: white;}#sk-container-id-1 pre{padding: 0;}#sk-container-id-1 div.sk-toggleable {background-color: white;}#sk-container-id-1 label.sk-toggleable__label {cursor: pointer;display: block;width: 100%;margin-bottom: 0;padding: 0.3em;box-sizing: border-box;text-align: center;}#sk-container-id-1 label.sk-toggleable__label-arrow:before {content: \"▸\";float: left;margin-right: 0.25em;color: #696969;}#sk-container-id-1 label.sk-toggleable__label-arrow:hover:before {color: black;}#sk-container-id-1 div.sk-estimator:hover label.sk-toggleable__label-arrow:before {color: black;}#sk-container-id-1 div.sk-toggleable__content {max-height: 0;max-width: 0;overflow: hidden;text-align: left;background-color: #f0f8ff;}#sk-container-id-1 div.sk-toggleable__content pre {margin: 0.2em;color: black;border-radius: 0.25em;background-color: #f0f8ff;}#sk-container-id-1 input.sk-toggleable__control:checked~div.sk-toggleable__content {max-height: 200px;max-width: 100%;overflow: auto;}#sk-container-id-1 input.sk-toggleable__control:checked~label.sk-toggleable__label-arrow:before {content: \"▾\";}#sk-container-id-1 div.sk-estimator input.sk-toggleable__control:checked~label.sk-toggleable__label {background-color: #d4ebff;}#sk-container-id-1 div.sk-label input.sk-toggleable__control:checked~label.sk-toggleable__label {background-color: #d4ebff;}#sk-container-id-1 input.sk-hidden--visually {border: 0;clip: rect(1px 1px 1px 1px);clip: rect(1px, 1px, 1px, 1px);height: 1px;margin: -1px;overflow: hidden;padding: 0;position: absolute;width: 1px;}#sk-container-id-1 div.sk-estimator {font-family: monospace;background-color: #f0f8ff;border: 1px dotted black;border-radius: 0.25em;box-sizing: border-box;margin-bottom: 0.5em;}#sk-container-id-1 div.sk-estimator:hover {background-color: #d4ebff;}#sk-container-id-1 div.sk-parallel-item::after {content: \"\";width: 100%;border-bottom: 1px solid gray;flex-grow: 1;}#sk-container-id-1 div.sk-label:hover label.sk-toggleable__label {background-color: #d4ebff;}#sk-container-id-1 div.sk-serial::before {content: \"\";position: absolute;border-left: 1px solid gray;box-sizing: border-box;top: 0;bottom: 0;left: 50%;z-index: 0;}#sk-container-id-1 div.sk-serial {display: flex;flex-direction: column;align-items: center;background-color: white;padding-right: 0.2em;padding-left: 0.2em;position: relative;}#sk-container-id-1 div.sk-item {position: relative;z-index: 1;}#sk-container-id-1 div.sk-parallel {display: flex;align-items: stretch;justify-content: center;background-color: white;position: relative;}#sk-container-id-1 div.sk-item::before, #sk-container-id-1 div.sk-parallel-item::before {content: \"\";position: absolute;border-left: 1px solid gray;box-sizing: border-box;top: 0;bottom: 0;left: 50%;z-index: -1;}#sk-container-id-1 div.sk-parallel-item {display: flex;flex-direction: column;z-index: 1;position: relative;background-color: white;}#sk-container-id-1 div.sk-parallel-item:first-child::after {align-self: flex-end;width: 50%;}#sk-container-id-1 div.sk-parallel-item:last-child::after {align-self: flex-start;width: 50%;}#sk-container-id-1 div.sk-parallel-item:only-child::after {width: 0;}#sk-container-id-1 div.sk-dashed-wrapped {border: 1px dashed gray;margin: 0 0.4em 0.5em 0.4em;box-sizing: border-box;padding-bottom: 0.4em;background-color: white;}#sk-container-id-1 div.sk-label label {font-family: monospace;font-weight: bold;display: inline-block;line-height: 1.2em;}#sk-container-id-1 div.sk-label-container {text-align: center;}#sk-container-id-1 div.sk-container {/* jupyter's `normalize.less` sets `[hidden] { display: none; }` but bootstrap.min.css set `[hidden] { display: none !important; }` so we also need the `!important` here to be able to override the default hidden behavior on the sphinx rendered scikit-learn.org. See: https://github.com/scikit-learn/scikit-learn/issues/21755 */display: inline-block !important;position: relative;}#sk-container-id-1 div.sk-text-repr-fallback {display: none;}</style><div id=\"sk-container-id-1\" class=\"sk-top-container\"><div class=\"sk-text-repr-fallback\"><pre>XGBRegressor(base_score=None, booster=None, callbacks=None,\n",
       "             colsample_bylevel=None, colsample_bynode=None,\n",
       "             colsample_bytree=None, early_stopping_rounds=5,\n",
       "             enable_categorical=False, eval_metric=None, feature_types=None,\n",
       "             gamma=None, gpu_id=None, grow_policy=None, importance_type=None,\n",
       "             interaction_constraints=None, learning_rate=0.2, max_bin=None,\n",
       "             max_cat_threshold=None, max_cat_to_onehot=None,\n",
       "             max_delta_step=None, max_depth=None, max_leaves=None,\n",
       "             min_child_weight=None, missing=nan, monotone_constraints=None,\n",
       "             n_estimators=500, n_jobs=None, num_parallel_tree=None,\n",
       "             predictor=None, random_state=42, ...)</pre><b>In a Jupyter environment, please rerun this cell to show the HTML representation or trust the notebook. <br />On GitHub, the HTML representation is unable to render, please try loading this page with nbviewer.org.</b></div><div class=\"sk-container\" hidden><div class=\"sk-item\"><div class=\"sk-estimator sk-toggleable\"><input class=\"sk-toggleable__control sk-hidden--visually\" id=\"sk-estimator-id-1\" type=\"checkbox\" checked><label for=\"sk-estimator-id-1\" class=\"sk-toggleable__label sk-toggleable__label-arrow\">XGBRegressor</label><div class=\"sk-toggleable__content\"><pre>XGBRegressor(base_score=None, booster=None, callbacks=None,\n",
       "             colsample_bylevel=None, colsample_bynode=None,\n",
       "             colsample_bytree=None, early_stopping_rounds=5,\n",
       "             enable_categorical=False, eval_metric=None, feature_types=None,\n",
       "             gamma=None, gpu_id=None, grow_policy=None, importance_type=None,\n",
       "             interaction_constraints=None, learning_rate=0.2, max_bin=None,\n",
       "             max_cat_threshold=None, max_cat_to_onehot=None,\n",
       "             max_delta_step=None, max_depth=None, max_leaves=None,\n",
       "             min_child_weight=None, missing=nan, monotone_constraints=None,\n",
       "             n_estimators=500, n_jobs=None, num_parallel_tree=None,\n",
       "             predictor=None, random_state=42, ...)</pre></div></div></div></div></div>"
      ],
      "text/plain": [
       "XGBRegressor(base_score=None, booster=None, callbacks=None,\n",
       "             colsample_bylevel=None, colsample_bynode=None,\n",
       "             colsample_bytree=None, early_stopping_rounds=5,\n",
       "             enable_categorical=False, eval_metric=None, feature_types=None,\n",
       "             gamma=None, gpu_id=None, grow_policy=None, importance_type=None,\n",
       "             interaction_constraints=None, learning_rate=0.2, max_bin=None,\n",
       "             max_cat_threshold=None, max_cat_to_onehot=None,\n",
       "             max_delta_step=None, max_depth=None, max_leaves=None,\n",
       "             min_child_weight=None, missing=nan, monotone_constraints=None,\n",
       "             n_estimators=500, n_jobs=None, num_parallel_tree=None,\n",
       "             predictor=None, random_state=42, ...)"
      ]
     },
     "execution_count": 12,
     "metadata": {},
     "output_type": "execute_result"
    }
   ],
   "source": [
    "model"
   ]
  },
  {
   "cell_type": "markdown",
   "id": "30a530b6-19b4-4197-88b4-5a36de659756",
   "metadata": {},
   "source": [
    "# Predicting"
   ]
  },
  {
   "cell_type": "code",
   "execution_count": 13,
   "id": "99242bb0-f197-435e-a814-6ddefd737584",
   "metadata": {},
   "outputs": [],
   "source": [
    "def adjust_for_injuries(df):\n",
    "    active_players = pd.read_csv(\"data/misc/active_players.csv\")\n",
    "    injured_players = active_players[active_players[\"chance_of_playing_this_round\"] == 0][\"name\"].to_list()\n",
    "    df.loc[df[\"Name_original\"].isin(injured_players),\"Pred\"] = 0\n",
    "    return df"
   ]
  },
  {
   "cell_type": "code",
   "execution_count": 14,
   "id": "26906f32-a4eb-445c-94fc-21abebdea369",
   "metadata": {},
   "outputs": [],
   "source": [
    "def adjust_goalkeepers(df):\n",
    "    gks = pd.read_csv(\"data/misc/goalkeepers.csv\")\n",
    "    gk_names = gks[\"Name\"].to_list()\n",
    "    gk_names = [name_fbref_to_fpl(neutralize_name(n)) for n in gk_names]\n",
    "    # print(gk_names)\n",
    "    df.loc[(df[\"FPL_pos\"] == \"GK\") & ~(df[\"Name_original\"].apply(neutralize_name).isin(gk_names)), \"Pred\"] = 0\n",
    "    return df"
   ]
  },
  {
   "cell_type": "code",
   "execution_count": 15,
   "id": "aabc86cd-0985-4257-93ad-2f46de01f656",
   "metadata": {},
   "outputs": [],
   "source": [
    "def get_predictions(model, df, X, all_remaining=False):\n",
    "    # make predictions on the test data and glues them to the rest of the dataframe\n",
    "    predictions = model.predict(X)\n",
    "    df_predictions = df[(df[\"Season\"] == CURRENT_SEASON)].reset_index(drop=True)\n",
    "        \n",
    "    df_predictions.loc[:, \"Pred\"] = predictions\n",
    "    preds = df_predictions[info + [\"Pred\"]]\n",
    "    \n",
    "    preds = adjust_goalkeepers(preds)\n",
    "    preds = adjust_for_injuries(preds).sort_values(by=[\"Pred\"], ascending = False)\n",
    "    \n",
    "    return preds"
   ]
  },
  {
   "cell_type": "code",
   "execution_count": 16,
   "id": "6a895d4c-eae5-463c-961c-178520ac4eaf",
   "metadata": {},
   "outputs": [
    {
     "ename": "ValueError",
     "evalue": "feature_names mismatch: ['Was_home', 'Rating_difference', 'Value', 'Transfers_balance', 'Avg_FPL_points', 'Min_2', 'Gls_2', 'Ast_2', 'xG_2', 'xA_2', 'Team_CS_2', 'Team_score_2', 'Opp_score_2', 'Team_result_2', 'FPL_points_2', 'Min_4', 'Gls_4', 'Ast_4', 'xG_4', 'xA_4', 'Team_CS_4', 'Team_score_4', 'Opp_score_4', 'Team_result_4', 'FPL_points_4', 'Min_30', 'Gls_30', 'Ast_30', 'xG_30', 'xA_30', 'Team_CS_30', 'Team_score_30', 'Opp_score_30', 'Team_result_30', 'FPL_points_30', 'DEF', 'FWD', 'MID'] ['Was_home', 'Rating_difference', 'Price', 'Transfers_balance', 'Avg_FPL_points', 'Min_2', 'Gls_2', 'Ast_2', 'xG_2', 'xA_2', 'Team_CS_2', 'Team_score_2', 'Opp_score_2', 'Team_result_2', 'FPL_points_2', 'Min_4', 'Gls_4', 'Ast_4', 'xG_4', 'xA_4', 'Team_CS_4', 'Team_score_4', 'Opp_score_4', 'Team_result_4', 'FPL_points_4', 'Min_30', 'Gls_30', 'Ast_30', 'xG_30', 'xA_30', 'Team_CS_30', 'Team_score_30', 'Opp_score_30', 'Team_result_30', 'FPL_points_30', 'DEF', 'FWD', 'MID']\nexpected Value in input data\ntraining data did not have the following fields: Price",
     "output_type": "error",
     "traceback": [
      "\u001b[1;31m---------------------------------------------------------------------------\u001b[0m",
      "\u001b[1;31mValueError\u001b[0m                                Traceback (most recent call last)",
      "Input \u001b[1;32mIn [16]\u001b[0m, in \u001b[0;36m<cell line: 1>\u001b[1;34m()\u001b[0m\n\u001b[1;32m----> 1\u001b[0m preds \u001b[38;5;241m=\u001b[39m \u001b[43mget_predictions\u001b[49m\u001b[43m(\u001b[49m\u001b[43mmodel\u001b[49m\u001b[43m,\u001b[49m\u001b[43m \u001b[49m\u001b[43mdf\u001b[49m\u001b[43m,\u001b[49m\u001b[43m \u001b[49m\u001b[43mX_test\u001b[49m\u001b[43m)\u001b[49m\n",
      "Input \u001b[1;32mIn [15]\u001b[0m, in \u001b[0;36mget_predictions\u001b[1;34m(model, df, X, all_remaining)\u001b[0m\n\u001b[0;32m      1\u001b[0m \u001b[38;5;28;01mdef\u001b[39;00m \u001b[38;5;21mget_predictions\u001b[39m(model, df, X, all_remaining\u001b[38;5;241m=\u001b[39m\u001b[38;5;28;01mFalse\u001b[39;00m):\n\u001b[0;32m      2\u001b[0m     \u001b[38;5;66;03m# make predictions on the test data and glues them to the rest of the dataframe\u001b[39;00m\n\u001b[1;32m----> 3\u001b[0m     predictions \u001b[38;5;241m=\u001b[39m \u001b[43mmodel\u001b[49m\u001b[38;5;241;43m.\u001b[39;49m\u001b[43mpredict\u001b[49m\u001b[43m(\u001b[49m\u001b[43mX\u001b[49m\u001b[43m)\u001b[49m\n\u001b[0;32m      4\u001b[0m     df_predictions \u001b[38;5;241m=\u001b[39m df[(df[\u001b[38;5;124m\"\u001b[39m\u001b[38;5;124mSeason\u001b[39m\u001b[38;5;124m\"\u001b[39m] \u001b[38;5;241m==\u001b[39m CURRENT_SEASON)]\u001b[38;5;241m.\u001b[39mreset_index(drop\u001b[38;5;241m=\u001b[39m\u001b[38;5;28;01mTrue\u001b[39;00m)\n\u001b[0;32m      6\u001b[0m     df_predictions\u001b[38;5;241m.\u001b[39mloc[:, \u001b[38;5;124m\"\u001b[39m\u001b[38;5;124mPred\u001b[39m\u001b[38;5;124m\"\u001b[39m] \u001b[38;5;241m=\u001b[39m predictions\n",
      "Input \u001b[1;32mIn [11]\u001b[0m, in \u001b[0;36mnew_predict\u001b[1;34m(X)\u001b[0m\n\u001b[0;32m      3\u001b[0m OVERALL_COMPONENT \u001b[38;5;241m=\u001b[39m \u001b[38;5;241m0.5\u001b[39m\n\u001b[0;32m      4\u001b[0m FORM_COMPONENT \u001b[38;5;241m=\u001b[39m \u001b[38;5;241m0.25\u001b[39m\n\u001b[1;32m----> 6\u001b[0m model_pred \u001b[38;5;241m=\u001b[39m np\u001b[38;5;241m.\u001b[39marray(\u001b[43mmodel\u001b[49m\u001b[38;5;241;43m.\u001b[39;49m\u001b[43mpredict2\u001b[49m\u001b[43m(\u001b[49m\u001b[43mX\u001b[49m\u001b[43m)\u001b[49m)\n\u001b[0;32m      7\u001b[0m overall_pred \u001b[38;5;241m=\u001b[39m np\u001b[38;5;241m.\u001b[39marray([row[\u001b[38;5;124m\"\u001b[39m\u001b[38;5;124mAvg_FPL_points\u001b[39m\u001b[38;5;124m\"\u001b[39m] \u001b[38;5;28;01mfor\u001b[39;00m i, row \u001b[38;5;129;01min\u001b[39;00m X\u001b[38;5;241m.\u001b[39miterrows()])\n\u001b[0;32m      8\u001b[0m form_pred \u001b[38;5;241m=\u001b[39m np\u001b[38;5;241m.\u001b[39marray([row[\u001b[38;5;124m\"\u001b[39m\u001b[38;5;124mFPL_points_4\u001b[39m\u001b[38;5;124m\"\u001b[39m] \u001b[38;5;28;01mfor\u001b[39;00m i, row \u001b[38;5;129;01min\u001b[39;00m X\u001b[38;5;241m.\u001b[39miterrows()])\n",
      "File \u001b[1;32mC:\\users\\user\\appdata\\local\\programs\\python\\python38\\lib\\site-packages\\xgboost\\sklearn.py:1114\u001b[0m, in \u001b[0;36mXGBModel.predict\u001b[1;34m(self, X, output_margin, ntree_limit, validate_features, base_margin, iteration_range)\u001b[0m\n\u001b[0;32m   1112\u001b[0m \u001b[38;5;28;01mif\u001b[39;00m \u001b[38;5;28mself\u001b[39m\u001b[38;5;241m.\u001b[39m_can_use_inplace_predict():\n\u001b[0;32m   1113\u001b[0m     \u001b[38;5;28;01mtry\u001b[39;00m:\n\u001b[1;32m-> 1114\u001b[0m         predts \u001b[38;5;241m=\u001b[39m \u001b[38;5;28;43mself\u001b[39;49m\u001b[38;5;241;43m.\u001b[39;49m\u001b[43mget_booster\u001b[49m\u001b[43m(\u001b[49m\u001b[43m)\u001b[49m\u001b[38;5;241;43m.\u001b[39;49m\u001b[43minplace_predict\u001b[49m\u001b[43m(\u001b[49m\n\u001b[0;32m   1115\u001b[0m \u001b[43m            \u001b[49m\u001b[43mdata\u001b[49m\u001b[38;5;241;43m=\u001b[39;49m\u001b[43mX\u001b[49m\u001b[43m,\u001b[49m\n\u001b[0;32m   1116\u001b[0m \u001b[43m            \u001b[49m\u001b[43miteration_range\u001b[49m\u001b[38;5;241;43m=\u001b[39;49m\u001b[43miteration_range\u001b[49m\u001b[43m,\u001b[49m\n\u001b[0;32m   1117\u001b[0m \u001b[43m            \u001b[49m\u001b[43mpredict_type\u001b[49m\u001b[38;5;241;43m=\u001b[39;49m\u001b[38;5;124;43m\"\u001b[39;49m\u001b[38;5;124;43mmargin\u001b[39;49m\u001b[38;5;124;43m\"\u001b[39;49m\u001b[43m \u001b[49m\u001b[38;5;28;43;01mif\u001b[39;49;00m\u001b[43m \u001b[49m\u001b[43moutput_margin\u001b[49m\u001b[43m \u001b[49m\u001b[38;5;28;43;01melse\u001b[39;49;00m\u001b[43m \u001b[49m\u001b[38;5;124;43m\"\u001b[39;49m\u001b[38;5;124;43mvalue\u001b[39;49m\u001b[38;5;124;43m\"\u001b[39;49m\u001b[43m,\u001b[49m\n\u001b[0;32m   1118\u001b[0m \u001b[43m            \u001b[49m\u001b[43mmissing\u001b[49m\u001b[38;5;241;43m=\u001b[39;49m\u001b[38;5;28;43mself\u001b[39;49m\u001b[38;5;241;43m.\u001b[39;49m\u001b[43mmissing\u001b[49m\u001b[43m,\u001b[49m\n\u001b[0;32m   1119\u001b[0m \u001b[43m            \u001b[49m\u001b[43mbase_margin\u001b[49m\u001b[38;5;241;43m=\u001b[39;49m\u001b[43mbase_margin\u001b[49m\u001b[43m,\u001b[49m\n\u001b[0;32m   1120\u001b[0m \u001b[43m            \u001b[49m\u001b[43mvalidate_features\u001b[49m\u001b[38;5;241;43m=\u001b[39;49m\u001b[43mvalidate_features\u001b[49m\u001b[43m,\u001b[49m\n\u001b[0;32m   1121\u001b[0m \u001b[43m        \u001b[49m\u001b[43m)\u001b[49m\n\u001b[0;32m   1122\u001b[0m         \u001b[38;5;28;01mif\u001b[39;00m _is_cupy_array(predts):\n\u001b[0;32m   1123\u001b[0m             \u001b[38;5;28;01mimport\u001b[39;00m \u001b[38;5;21;01mcupy\u001b[39;00m  \u001b[38;5;66;03m# pylint: disable=import-error\u001b[39;00m\n",
      "File \u001b[1;32mC:\\users\\user\\appdata\\local\\programs\\python\\python38\\lib\\site-packages\\xgboost\\core.py:2286\u001b[0m, in \u001b[0;36mBooster.inplace_predict\u001b[1;34m(self, data, iteration_range, predict_type, missing, validate_features, base_margin, strict_shape)\u001b[0m\n\u001b[0;32m   2284\u001b[0m     data, fns, _ \u001b[38;5;241m=\u001b[39m _transform_pandas_df(data, enable_categorical)\n\u001b[0;32m   2285\u001b[0m     \u001b[38;5;28;01mif\u001b[39;00m validate_features:\n\u001b[1;32m-> 2286\u001b[0m         \u001b[38;5;28;43mself\u001b[39;49m\u001b[38;5;241;43m.\u001b[39;49m\u001b[43m_validate_features\u001b[49m\u001b[43m(\u001b[49m\u001b[43mfns\u001b[49m\u001b[43m)\u001b[49m\n\u001b[0;32m   2288\u001b[0m \u001b[38;5;28;01mif\u001b[39;00m \u001b[38;5;28misinstance\u001b[39m(data, np\u001b[38;5;241m.\u001b[39mndarray):\n\u001b[0;32m   2289\u001b[0m     \u001b[38;5;28;01mfrom\u001b[39;00m \u001b[38;5;21;01m.\u001b[39;00m\u001b[38;5;21;01mdata\u001b[39;00m \u001b[38;5;28;01mimport\u001b[39;00m _ensure_np_dtype\n",
      "File \u001b[1;32mC:\\users\\user\\appdata\\local\\programs\\python\\python38\\lib\\site-packages\\xgboost\\core.py:2782\u001b[0m, in \u001b[0;36mBooster._validate_features\u001b[1;34m(self, feature_names)\u001b[0m\n\u001b[0;32m   2776\u001b[0m \u001b[38;5;28;01mif\u001b[39;00m my_missing:\n\u001b[0;32m   2777\u001b[0m     msg \u001b[38;5;241m+\u001b[39m\u001b[38;5;241m=\u001b[39m (\n\u001b[0;32m   2778\u001b[0m         \u001b[38;5;124m\"\u001b[39m\u001b[38;5;130;01m\\n\u001b[39;00m\u001b[38;5;124mtraining data did not have the following fields: \u001b[39m\u001b[38;5;124m\"\u001b[39m\n\u001b[0;32m   2779\u001b[0m         \u001b[38;5;241m+\u001b[39m \u001b[38;5;124m\"\u001b[39m\u001b[38;5;124m, \u001b[39m\u001b[38;5;124m\"\u001b[39m\u001b[38;5;241m.\u001b[39mjoin(\u001b[38;5;28mstr\u001b[39m(s) \u001b[38;5;28;01mfor\u001b[39;00m s \u001b[38;5;129;01min\u001b[39;00m my_missing)\n\u001b[0;32m   2780\u001b[0m     )\n\u001b[1;32m-> 2782\u001b[0m \u001b[38;5;28;01mraise\u001b[39;00m \u001b[38;5;167;01mValueError\u001b[39;00m(msg\u001b[38;5;241m.\u001b[39mformat(\u001b[38;5;28mself\u001b[39m\u001b[38;5;241m.\u001b[39mfeature_names, feature_names))\n",
      "\u001b[1;31mValueError\u001b[0m: feature_names mismatch: ['Was_home', 'Rating_difference', 'Value', 'Transfers_balance', 'Avg_FPL_points', 'Min_2', 'Gls_2', 'Ast_2', 'xG_2', 'xA_2', 'Team_CS_2', 'Team_score_2', 'Opp_score_2', 'Team_result_2', 'FPL_points_2', 'Min_4', 'Gls_4', 'Ast_4', 'xG_4', 'xA_4', 'Team_CS_4', 'Team_score_4', 'Opp_score_4', 'Team_result_4', 'FPL_points_4', 'Min_30', 'Gls_30', 'Ast_30', 'xG_30', 'xA_30', 'Team_CS_30', 'Team_score_30', 'Opp_score_30', 'Team_result_30', 'FPL_points_30', 'DEF', 'FWD', 'MID'] ['Was_home', 'Rating_difference', 'Price', 'Transfers_balance', 'Avg_FPL_points', 'Min_2', 'Gls_2', 'Ast_2', 'xG_2', 'xA_2', 'Team_CS_2', 'Team_score_2', 'Opp_score_2', 'Team_result_2', 'FPL_points_2', 'Min_4', 'Gls_4', 'Ast_4', 'xG_4', 'xA_4', 'Team_CS_4', 'Team_score_4', 'Opp_score_4', 'Team_result_4', 'FPL_points_4', 'Min_30', 'Gls_30', 'Ast_30', 'xG_30', 'xA_30', 'Team_CS_30', 'Team_score_30', 'Opp_score_30', 'Team_result_30', 'FPL_points_30', 'DEF', 'FWD', 'MID']\nexpected Value in input data\ntraining data did not have the following fields: Price"
     ]
    }
   ],
   "source": [
    "preds = get_predictions(model, df, X_test)"
   ]
  },
  {
   "cell_type": "code",
   "execution_count": null,
   "id": "39c61736-8d3a-470a-8a75-316f2609905a",
   "metadata": {},
   "outputs": [],
   "source": [
    "# preds[(preds[\"FPL_pos\"] == \"GK\") & (preds[\"GW\"] == NEXT_GAMEWEEK)].head(30)"
   ]
  },
  {
   "cell_type": "code",
   "execution_count": null,
   "id": "8656600f-94de-4c9b-af31-8c52e8ce75e6",
   "metadata": {},
   "outputs": [],
   "source": [
    "# next gameweek\n",
    "preds[preds[\"GW\"] == NEXT_GAMEWEEK].head(20)"
   ]
  },
  {
   "cell_type": "code",
   "execution_count": null,
   "id": "ed0ecfdf-c94b-421c-8aa5-22ad4225b36f",
   "metadata": {},
   "outputs": [],
   "source": [
    "# all preds\n",
    "preds.head(20)"
   ]
  },
  {
   "cell_type": "code",
   "execution_count": null,
   "id": "5a2c7f3e-1c93-4959-963c-9cacaad4572d",
   "metadata": {},
   "outputs": [],
   "source": [
    "# points all season\n",
    "pd.DataFrame(preds.groupby([\"Name_original\"])[\"Pred\"].sum().sort_values(ascending=False)).head(30)"
   ]
  },
  {
   "cell_type": "markdown",
   "id": "0fc66e8b-44fc-4533-9b13-a72ec4732134",
   "metadata": {},
   "source": [
    "# Saving to file"
   ]
  },
  {
   "cell_type": "code",
   "execution_count": null,
   "id": "1d0eec38-f510-4d88-95cc-c06eb107f4b8",
   "metadata": {},
   "outputs": [],
   "source": [
    "preds.to_csv(\"predictions/preds_next_season.csv\", index=False)"
   ]
  },
  {
   "cell_type": "markdown",
   "id": "a24cfdec-1ac5-4ac8-b1ed-1ec3177cdb67",
   "metadata": {},
   "source": [
    "# Importance"
   ]
  },
  {
   "cell_type": "code",
   "execution_count": null,
   "id": "815d272b-1bff-4e1f-b849-06c5cfb5a92f",
   "metadata": {},
   "outputs": [],
   "source": [
    "# import shap\n",
    "# explainer = shap.Explainer(model.predict, X_test[9000:10000])\n",
    "# shap_values = explainer(X_test[9000:10000])"
   ]
  },
  {
   "cell_type": "code",
   "execution_count": null,
   "id": "5c23f68b-8564-4e5c-8c1c-664571287c04",
   "metadata": {},
   "outputs": [],
   "source": [
    "# shap.plots.bar(shap_values, max_display=15)"
   ]
  },
  {
   "cell_type": "code",
   "execution_count": null,
   "id": "f43fb747-c7de-4363-ab53-93111436a8ac",
   "metadata": {},
   "outputs": [],
   "source": [
    "# # Salah vs Nottingham Forest\n",
    "# shap.plots.waterfall(shap_values[502])"
   ]
  },
  {
   "cell_type": "code",
   "execution_count": null,
   "id": "58d416c8-d1aa-4967-a0f2-6b7b10d9383f",
   "metadata": {},
   "outputs": [],
   "source": [
    "# shap.plots.waterfall(shap_values[470])"
   ]
  },
  {
   "cell_type": "code",
   "execution_count": null,
   "id": "d1dad70c-cdd3-45cb-a48b-055953326c69",
   "metadata": {},
   "outputs": [],
   "source": []
  }
 ],
 "metadata": {
  "kernelspec": {
   "display_name": "Python 3 (ipykernel)",
   "language": "python",
   "name": "python3"
  },
  "language_info": {
   "codemirror_mode": {
    "name": "ipython",
    "version": 3
   },
   "file_extension": ".py",
   "mimetype": "text/x-python",
   "name": "python",
   "nbconvert_exporter": "python",
   "pygments_lexer": "ipython3",
   "version": "3.8.0"
  }
 },
 "nbformat": 4,
 "nbformat_minor": 5
}
