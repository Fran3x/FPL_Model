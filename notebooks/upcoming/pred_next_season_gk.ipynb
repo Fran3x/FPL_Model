{
 "cells": [
  {
   "cell_type": "markdown",
   "id": "f2fffad3-7e0e-4e9d-8244-44a7c3490def",
   "metadata": {},
   "source": [
    "# Imports & setup"
   ]
  },
  {
   "cell_type": "code",
   "execution_count": 1,
   "id": "d086f0da-9daa-46fb-ace1-532ed013968c",
   "metadata": {},
   "outputs": [],
   "source": [
    "import os\n",
    "os.chdir(\"D:\\PulpitE\\FPL_ML\")"
   ]
  },
  {
   "cell_type": "code",
   "execution_count": 2,
   "id": "1980cbbd-2c16-4f34-8a56-6d00047e5f7f",
   "metadata": {},
   "outputs": [],
   "source": [
    "import pandas as pd\n",
    "import numpy as np\n",
    "import pickle\n",
    "from config import *"
   ]
  },
  {
   "cell_type": "code",
   "execution_count": 3,
   "id": "353d86a7-2b81-4244-94f4-1262cdceb359",
   "metadata": {},
   "outputs": [],
   "source": [
    "features = ['Was_home',\n",
    " 'Rating_difference',\n",
    " 'Value',\n",
    " 'Transfers_balance',\n",
    " 'Avg_FPL_points',\n",
    " 'Min_2',\n",
    " 'Team_CS_2',\n",
    " 'Team_score_2',\n",
    " 'Opp_score_2',\n",
    " 'Team_result_2',\n",
    " 'Saves_2',\n",
    " 'FPL_points_2',\n",
    " 'Min_4',\n",
    " 'Team_CS_4',\n",
    " 'Team_score_4',\n",
    " 'Opp_score_4',\n",
    " 'Team_result_4',\n",
    " 'Saves_4',\n",
    " 'FPL_points_4',\n",
    " 'Min_30',\n",
    " 'Team_CS_30',\n",
    " 'Team_score_30',\n",
    " 'Opp_score_30',\n",
    " 'Team_result_30',\n",
    " 'Saves_30',\n",
    " 'FPL_points_30']\n",
    "\n",
    "info = [\"Name_original\", \"GW\", \"Season\", \"Team\", \"Opponent\", \"Was_home\", \"Team_rating\", \"Opp_rating\", \"FPL_pos\", \"Price\"]"
   ]
  },
  {
   "cell_type": "code",
   "execution_count": 4,
   "id": "e58bc375-925c-4899-a6d0-5b5579247f12",
   "metadata": {},
   "outputs": [
    {
     "data": {
      "text/plain": [
       "26"
      ]
     },
     "execution_count": 4,
     "metadata": {},
     "output_type": "execute_result"
    }
   ],
   "source": [
    "len(features)"
   ]
  },
  {
   "cell_type": "markdown",
   "id": "9551b3fa-3527-4fd2-8f45-1ed57f19c8e8",
   "metadata": {},
   "source": [
    "# Reading from files"
   ]
  },
  {
   "cell_type": "code",
   "execution_count": 5,
   "id": "64480cc2-3e55-4330-bfc6-fcfbedc2eb0e",
   "metadata": {},
   "outputs": [
    {
     "name": "stderr",
     "output_type": "stream",
     "text": [
      "C:\\users\\user\\appdata\\local\\programs\\python\\python38\\lib\\site-packages\\IPython\\core\\interactiveshell.py:3369: DtypeWarning: Columns (50) have mixed types.Specify dtype option on import or set low_memory=False.\n",
      "  exec(code_obj, self.user_global_ns, self.user_ns)\n"
     ]
    }
   ],
   "source": [
    "df = pd.read_csv(\"data/upcoming/upcoming_fixtures.csv\")"
   ]
  },
  {
   "cell_type": "code",
   "execution_count": 6,
   "id": "4cb3309a-8564-4e7a-ae6a-9d5503085bf3",
   "metadata": {},
   "outputs": [
    {
     "ename": "KeyError",
     "evalue": "\"['Saves_2', 'Saves_4', 'Saves_30'] not in index\"",
     "output_type": "error",
     "traceback": [
      "\u001b[1;31m---------------------------------------------------------------------------\u001b[0m",
      "\u001b[1;31mKeyError\u001b[0m                                  Traceback (most recent call last)",
      "Input \u001b[1;32mIn [6]\u001b[0m, in \u001b[0;36m<cell line: 1>\u001b[1;34m()\u001b[0m\n\u001b[1;32m----> 1\u001b[0m X_test \u001b[38;5;241m=\u001b[39m \u001b[43mdf\u001b[49m\u001b[43m[\u001b[49m\u001b[43mdf\u001b[49m\u001b[43m[\u001b[49m\u001b[38;5;124;43m\"\u001b[39;49m\u001b[38;5;124;43mSeason\u001b[39;49m\u001b[38;5;124;43m\"\u001b[39;49m\u001b[43m]\u001b[49m\u001b[43m \u001b[49m\u001b[38;5;241;43m==\u001b[39;49m\u001b[43m \u001b[49m\u001b[43mCURRENT_SEASON\u001b[49m\u001b[43m]\u001b[49m\u001b[43m[\u001b[49m\u001b[43mfeatures\u001b[49m\u001b[43m]\u001b[49m\n",
      "File \u001b[1;32mC:\\users\\user\\appdata\\local\\programs\\python\\python38\\lib\\site-packages\\pandas\\core\\frame.py:3461\u001b[0m, in \u001b[0;36mDataFrame.__getitem__\u001b[1;34m(self, key)\u001b[0m\n\u001b[0;32m   3459\u001b[0m     \u001b[38;5;28;01mif\u001b[39;00m is_iterator(key):\n\u001b[0;32m   3460\u001b[0m         key \u001b[38;5;241m=\u001b[39m \u001b[38;5;28mlist\u001b[39m(key)\n\u001b[1;32m-> 3461\u001b[0m     indexer \u001b[38;5;241m=\u001b[39m \u001b[38;5;28;43mself\u001b[39;49m\u001b[38;5;241;43m.\u001b[39;49m\u001b[43mloc\u001b[49m\u001b[38;5;241;43m.\u001b[39;49m\u001b[43m_get_listlike_indexer\u001b[49m\u001b[43m(\u001b[49m\u001b[43mkey\u001b[49m\u001b[43m,\u001b[49m\u001b[43m \u001b[49m\u001b[43maxis\u001b[49m\u001b[38;5;241;43m=\u001b[39;49m\u001b[38;5;241;43m1\u001b[39;49m\u001b[43m)\u001b[49m[\u001b[38;5;241m1\u001b[39m]\n\u001b[0;32m   3463\u001b[0m \u001b[38;5;66;03m# take() does not accept boolean indexers\u001b[39;00m\n\u001b[0;32m   3464\u001b[0m \u001b[38;5;28;01mif\u001b[39;00m \u001b[38;5;28mgetattr\u001b[39m(indexer, \u001b[38;5;124m\"\u001b[39m\u001b[38;5;124mdtype\u001b[39m\u001b[38;5;124m\"\u001b[39m, \u001b[38;5;28;01mNone\u001b[39;00m) \u001b[38;5;241m==\u001b[39m \u001b[38;5;28mbool\u001b[39m:\n",
      "File \u001b[1;32mC:\\users\\user\\appdata\\local\\programs\\python\\python38\\lib\\site-packages\\pandas\\core\\indexing.py:1314\u001b[0m, in \u001b[0;36m_LocIndexer._get_listlike_indexer\u001b[1;34m(self, key, axis)\u001b[0m\n\u001b[0;32m   1311\u001b[0m \u001b[38;5;28;01melse\u001b[39;00m:\n\u001b[0;32m   1312\u001b[0m     keyarr, indexer, new_indexer \u001b[38;5;241m=\u001b[39m ax\u001b[38;5;241m.\u001b[39m_reindex_non_unique(keyarr)\n\u001b[1;32m-> 1314\u001b[0m \u001b[38;5;28;43mself\u001b[39;49m\u001b[38;5;241;43m.\u001b[39;49m\u001b[43m_validate_read_indexer\u001b[49m\u001b[43m(\u001b[49m\u001b[43mkeyarr\u001b[49m\u001b[43m,\u001b[49m\u001b[43m \u001b[49m\u001b[43mindexer\u001b[49m\u001b[43m,\u001b[49m\u001b[43m \u001b[49m\u001b[43maxis\u001b[49m\u001b[43m)\u001b[49m\n\u001b[0;32m   1316\u001b[0m \u001b[38;5;28;01mif\u001b[39;00m needs_i8_conversion(ax\u001b[38;5;241m.\u001b[39mdtype) \u001b[38;5;129;01mor\u001b[39;00m \u001b[38;5;28misinstance\u001b[39m(\n\u001b[0;32m   1317\u001b[0m     ax, (IntervalIndex, CategoricalIndex)\n\u001b[0;32m   1318\u001b[0m ):\n\u001b[0;32m   1319\u001b[0m     \u001b[38;5;66;03m# For CategoricalIndex take instead of reindex to preserve dtype.\u001b[39;00m\n\u001b[0;32m   1320\u001b[0m     \u001b[38;5;66;03m#  For IntervalIndex this is to map integers to the Intervals they match to.\u001b[39;00m\n\u001b[0;32m   1321\u001b[0m     keyarr \u001b[38;5;241m=\u001b[39m ax\u001b[38;5;241m.\u001b[39mtake(indexer)\n",
      "File \u001b[1;32mC:\\users\\user\\appdata\\local\\programs\\python\\python38\\lib\\site-packages\\pandas\\core\\indexing.py:1377\u001b[0m, in \u001b[0;36m_LocIndexer._validate_read_indexer\u001b[1;34m(self, key, indexer, axis)\u001b[0m\n\u001b[0;32m   1374\u001b[0m     \u001b[38;5;28;01mraise\u001b[39;00m \u001b[38;5;167;01mKeyError\u001b[39;00m(\u001b[38;5;124mf\u001b[39m\u001b[38;5;124m\"\u001b[39m\u001b[38;5;124mNone of [\u001b[39m\u001b[38;5;132;01m{\u001b[39;00mkey\u001b[38;5;132;01m}\u001b[39;00m\u001b[38;5;124m] are in the [\u001b[39m\u001b[38;5;132;01m{\u001b[39;00maxis_name\u001b[38;5;132;01m}\u001b[39;00m\u001b[38;5;124m]\u001b[39m\u001b[38;5;124m\"\u001b[39m)\n\u001b[0;32m   1376\u001b[0m not_found \u001b[38;5;241m=\u001b[39m \u001b[38;5;28mlist\u001b[39m(ensure_index(key)[missing_mask\u001b[38;5;241m.\u001b[39mnonzero()[\u001b[38;5;241m0\u001b[39m]]\u001b[38;5;241m.\u001b[39munique())\n\u001b[1;32m-> 1377\u001b[0m \u001b[38;5;28;01mraise\u001b[39;00m \u001b[38;5;167;01mKeyError\u001b[39;00m(\u001b[38;5;124mf\u001b[39m\u001b[38;5;124m\"\u001b[39m\u001b[38;5;132;01m{\u001b[39;00mnot_found\u001b[38;5;132;01m}\u001b[39;00m\u001b[38;5;124m not in index\u001b[39m\u001b[38;5;124m\"\u001b[39m)\n",
      "\u001b[1;31mKeyError\u001b[0m: \"['Saves_2', 'Saves_4', 'Saves_30'] not in index\""
     ]
    }
   ],
   "source": [
    "X_test = df[df[\"Season\"] == CURRENT_SEASON][features]"
   ]
  },
  {
   "cell_type": "code",
   "execution_count": null,
   "id": "3661398e-4e93-40e0-ac12-4bdb551a55e9",
   "metadata": {},
   "outputs": [],
   "source": [
    "df.columns"
   ]
  },
  {
   "cell_type": "code",
   "execution_count": null,
   "id": "55b7e260-4b6b-4cfa-be8e-aaaff1497ddc",
   "metadata": {},
   "outputs": [],
   "source": [
    "X_test.columns"
   ]
  },
  {
   "cell_type": "code",
   "execution_count": null,
   "id": "ad307a45-7d76-4810-8c13-83f99a9d5753",
   "metadata": {},
   "outputs": [],
   "source": [
    "def new_predict_gk(X):\n",
    "    XGB_COMPONENT = 0.3\n",
    "    OVERALL_COMPONENT = 0.67\n",
    "    FORM_COMPONENT = 0.2\n",
    "    \n",
    "    model_pred = np.array(model.predict2(X))\n",
    "    overall_pred = np.array([row[\"Avg_FPL_points\"] for i, row in X.iterrows()])\n",
    "    form_pred = np.array([row[\"FPL_points_4\"] for i, row in X.iterrows()])\n",
    "    \n",
    "    return np.add( model_pred * XGB_COMPONENT, overall_pred * OVERALL_COMPONENT, form_pred * FORM_COMPONENT )\n",
    "\n",
    "file = open(\"models/GBR_gk.pkl\",'rb')\n",
    "model = pickle.load(file)"
   ]
  },
  {
   "cell_type": "code",
   "execution_count": null,
   "id": "e4618335-aab0-4aa7-9dfa-2c780e87bfe0",
   "metadata": {},
   "outputs": [],
   "source": [
    "model"
   ]
  },
  {
   "cell_type": "markdown",
   "id": "30a530b6-19b4-4197-88b4-5a36de659756",
   "metadata": {},
   "source": [
    "# Predicting"
   ]
  },
  {
   "cell_type": "code",
   "execution_count": null,
   "id": "99242bb0-f197-435e-a814-6ddefd737584",
   "metadata": {},
   "outputs": [],
   "source": [
    "def adjust_for_injuries(df):\n",
    "    active_players = pd.read_csv(\"data/misc/active_players.csv\")\n",
    "    injured_players = active_players[active_players[\"chance_of_playing_this_round\"] == 0][\"name\"].to_list()\n",
    "    df.loc[df[\"Name_original\"].isin(injured_players),\"Pred\"] = 0\n",
    "    return df"
   ]
  },
  {
   "cell_type": "code",
   "execution_count": null,
   "id": "aabc86cd-0985-4257-93ad-2f46de01f656",
   "metadata": {},
   "outputs": [],
   "source": [
    "def get_predictions(model, df, X, all_remaining=False):\n",
    "    # make predictions on the test data and glues them to the rest of the dataframe\n",
    "    predictions = model.predict(X)\n",
    "    df_predictions = df[(df[\"Season\"] == CURRENT_SEASON)].reset_index(drop=True)\n",
    "        \n",
    "    print(len(predictions), df_predictions.shape)\n",
    "        \n",
    "    df_predictions.loc[:, \"Pred\"] = predictions\n",
    "    preds = df_predictions[info + [\"Pred\"]]\n",
    "    \n",
    "    preds = adjust_for_injuries(preds).sort_values(by=[\"Pred\"], ascending = False)\n",
    "    \n",
    "    return preds"
   ]
  },
  {
   "cell_type": "code",
   "execution_count": null,
   "id": "6a895d4c-eae5-463c-961c-178520ac4eaf",
   "metadata": {},
   "outputs": [],
   "source": [
    "preds = get_predictions(model, df, X_test)"
   ]
  },
  {
   "cell_type": "code",
   "execution_count": null,
   "id": "39c61736-8d3a-470a-8a75-316f2609905a",
   "metadata": {},
   "outputs": [],
   "source": [
    "# preds[(preds[\"FPL_pos\"] == \"GK\") & (preds[\"GW\"] == 2)].head(30)"
   ]
  },
  {
   "cell_type": "code",
   "execution_count": null,
   "id": "8656600f-94de-4c9b-af31-8c52e8ce75e6",
   "metadata": {},
   "outputs": [],
   "source": [
    "# next gameweek\n",
    "preds[preds[\"GW\"] == 3].head(20)"
   ]
  },
  {
   "cell_type": "code",
   "execution_count": null,
   "id": "ed0ecfdf-c94b-421c-8aa5-22ad4225b36f",
   "metadata": {},
   "outputs": [],
   "source": [
    "# all preds\n",
    "preds.head(20)"
   ]
  },
  {
   "cell_type": "code",
   "execution_count": null,
   "id": "5a2c7f3e-1c93-4959-963c-9cacaad4572d",
   "metadata": {},
   "outputs": [],
   "source": [
    "# points all season\n",
    "pd.DataFrame(preds.groupby([\"Name_original\"])[\"Pred\"].sum().sort_values(ascending=False)).head(30)"
   ]
  },
  {
   "cell_type": "markdown",
   "id": "0fc66e8b-44fc-4533-9b13-a72ec4732134",
   "metadata": {},
   "source": [
    "# Saving to file"
   ]
  },
  {
   "cell_type": "code",
   "execution_count": null,
   "id": "1d0eec38-f510-4d88-95cc-c06eb107f4b8",
   "metadata": {},
   "outputs": [],
   "source": [
    "preds.to_csv(\"predictions/preds_next_season_gk.csv\", index=False)"
   ]
  },
  {
   "cell_type": "markdown",
   "id": "a24cfdec-1ac5-4ac8-b1ed-1ec3177cdb67",
   "metadata": {},
   "source": [
    "# Importance"
   ]
  },
  {
   "cell_type": "code",
   "execution_count": null,
   "id": "815d272b-1bff-4e1f-b849-06c5cfb5a92f",
   "metadata": {},
   "outputs": [],
   "source": [
    "# import shap\n",
    "# explainer = shap.Explainer(model.predict, X_test[9000:10000])\n",
    "# shap_values = explainer(X_test[9000:10000])"
   ]
  },
  {
   "cell_type": "code",
   "execution_count": null,
   "id": "5c23f68b-8564-4e5c-8c1c-664571287c04",
   "metadata": {},
   "outputs": [],
   "source": [
    "# shap.plots.bar(shap_values, max_display=15)"
   ]
  },
  {
   "cell_type": "code",
   "execution_count": null,
   "id": "f43fb747-c7de-4363-ab53-93111436a8ac",
   "metadata": {},
   "outputs": [],
   "source": [
    "# # Salah vs Nottingham Forest\n",
    "# shap.plots.waterfall(shap_values[502])"
   ]
  },
  {
   "cell_type": "code",
   "execution_count": null,
   "id": "58d416c8-d1aa-4967-a0f2-6b7b10d9383f",
   "metadata": {},
   "outputs": [],
   "source": [
    "# shap.plots.waterfall(shap_values[470])"
   ]
  },
  {
   "cell_type": "code",
   "execution_count": null,
   "id": "d1dad70c-cdd3-45cb-a48b-055953326c69",
   "metadata": {},
   "outputs": [],
   "source": []
  }
 ],
 "metadata": {
  "kernelspec": {
   "display_name": "Python 3 (ipykernel)",
   "language": "python",
   "name": "python3"
  },
  "language_info": {
   "codemirror_mode": {
    "name": "ipython",
    "version": 3
   },
   "file_extension": ".py",
   "mimetype": "text/x-python",
   "name": "python",
   "nbconvert_exporter": "python",
   "pygments_lexer": "ipython3",
   "version": "3.8.0"
  }
 },
 "nbformat": 4,
 "nbformat_minor": 5
}
