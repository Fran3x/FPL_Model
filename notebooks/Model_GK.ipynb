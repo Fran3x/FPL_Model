{
 "cells": [
  {
   "cell_type": "markdown",
   "id": "e61cf721-96f7-4f7c-a5c5-343917267d91",
   "metadata": {},
   "source": [
    "\n",
    "# Imports"
   ]
  },
  {
   "cell_type": "code",
   "execution_count": 1,
   "id": "c2b67ee7-f81a-4a96-bd38-8149efc725cf",
   "metadata": {},
   "outputs": [],
   "source": [
    "import os\n",
    "os.chdir(\"D:\\PulpitE\\FPL_ML\")"
   ]
  },
  {
   "cell_type": "code",
   "execution_count": 2,
   "id": "3f447fc0-41e6-4c50-967e-2cc314a1e81f",
   "metadata": {},
   "outputs": [],
   "source": [
    "import matplotlib.pyplot as plt\n",
    "import pandas as pd\n",
    "import numpy as np\n",
    "import shap\n",
    "import pickle\n",
    "\n",
    "from sklearn.ensemble import GradientBoostingRegressor\n",
    "from xgboost import XGBRegressor\n",
    "\n",
    "from sklearn.ensemble import RandomForestRegressor\n",
    "\n",
    "from sklearn.metrics import mean_absolute_error, mean_squared_error\n",
    "\n",
    "from sklearn.preprocessing import LabelEncoder"
   ]
  },
  {
   "cell_type": "markdown",
   "id": "8872f7cc-f945-4e0d-85e3-9f39ec505ed9",
   "metadata": {},
   "source": [
    "# Loading data\n",
    "Data consists of all PL players logs for 2021-22 and 2022-23 seasons\\\n",
    "A single log is just a summary of player performance in a particular match"
   ]
  },
  {
   "cell_type": "code",
   "execution_count": 3,
   "id": "217927df-909e-4a95-9e59-651d57e312db",
   "metadata": {},
   "outputs": [],
   "source": [
    "# loading csv\n",
    "df_original = pd.read_csv('data/FPL_logs.csv')\n",
    "\n",
    "df = df_original.copy()"
   ]
  },
  {
   "cell_type": "code",
   "execution_count": 4,
   "id": "60af6f3b-1788-447d-a47e-94df72ca37e4",
   "metadata": {},
   "outputs": [
    {
     "data": {
      "text/plain": [
       "Index(['Date', 'Day', 'Venue', 'Team', 'Opponent', 'Name', 'Start', 'Pos',\n",
       "       'Min', 'Gls', 'Ast', 'PK', 'PKatt', 'Sh', 'SoT', 'CrdY', 'CrdR',\n",
       "       'Touches', 'Tkl', 'Int', 'Blocks', 'xG', 'npxG', 'xA', 'SCA', 'GCA',\n",
       "       'Cmp', 'Att', 'Cmp%', 'PrgP', 'Carries', 'PrgC', 'T_att', 'T_succ',\n",
       "       'Season', 'WDL', 'Team_score', 'Opp_score', 'Team_CS', 'Was_home', 'GW',\n",
       "       'Clean_name', 'FPL_name', 'FPL_team', 'FPL_opp_team', 'Name_original',\n",
       "       'FPL_pos', 'FPL_ast', 'Bonus', 'Bps', 'Player_CS', 'Creativity',\n",
       "       'Element', 'Fixture', 'Player_GC', 'Goals_scored', 'ICT_index',\n",
       "       'Influence', 'Kickoff_time', 'FPL_min', 'Own_goals', 'Penalties_missed',\n",
       "       'Penalties_saved', 'Saves', 'Selected', 'Threat', 'FPL_points',\n",
       "       'Transfers_balance', 'Transfers_in', 'Transfers_out', 'Value', 'FPL_GW',\n",
       "       'xP', 'FPL_xA', 'FPL_xGI', 'FPL_xG', 'FPL_xGC', 'Opp_rating',\n",
       "       'Team_rating', 'Min_points'],\n",
       "      dtype='object')"
      ]
     },
     "execution_count": 4,
     "metadata": {},
     "output_type": "execute_result"
    }
   ],
   "source": [
    "df_original.columns"
   ]
  },
  {
   "cell_type": "code",
   "execution_count": 5,
   "id": "bea7e13d-5911-428a-a55c-6636cc0e10f9",
   "metadata": {},
   "outputs": [
    {
     "data": {
      "text/plain": [
       "554"
      ]
     },
     "execution_count": 5,
     "metadata": {},
     "output_type": "execute_result"
    }
   ],
   "source": [
    "df_original[\"Name\"].unique().size"
   ]
  },
  {
   "cell_type": "code",
   "execution_count": 6,
   "id": "5c1b9133-98f1-4547-aa9a-01dac513f0e0",
   "metadata": {},
   "outputs": [
    {
     "data": {
      "text/plain": [
       "(24573, 80)"
      ]
     },
     "execution_count": 6,
     "metadata": {},
     "output_type": "execute_result"
    }
   ],
   "source": [
    "df.shape"
   ]
  },
  {
   "cell_type": "code",
   "execution_count": 7,
   "id": "464f26d7-f383-4606-a3dd-65490459f61a",
   "metadata": {},
   "outputs": [],
   "source": [
    "df = df[df[\"FPL_pos\"].isin([\"GK\"])]"
   ]
  },
  {
   "cell_type": "markdown",
   "id": "32eaa7fb-e3cc-4e17-a8b1-cc301aa3a766",
   "metadata": {},
   "source": [
    "# Feature selection\n",
    "Model will use a set of standard features and moving averages for some other feature values. In this case we will use moving averages for last 2, 4 and 30 gameweeks."
   ]
  },
  {
   "cell_type": "code",
   "execution_count": 8,
   "id": "29b66688-3e11-4ea5-a9ed-77be552e5e4a",
   "metadata": {},
   "outputs": [],
   "source": [
    "rolling_gameweeks = [2, 4]\n",
    "# rolling_gameweeks = [5]\n",
    "\n",
    "to_predict = [\"FPL_points\"]\n",
    "standard_features = [\n",
    "             \"Was_home\", # Home/Away\n",
    "             # \"Team_rating\", \"Opp_rating\", \"Rating_difference\" # Team ratings\n",
    "             ]\n",
    "features_to_roll = [\n",
    "                \"Min\", \"Start\", # time played\n",
    "                # 'Gls', 'Sh', 'SoT', # Goals\n",
    "                # 'Ast', # Assists\n",
    "                # 'CrdY', 'CrdR', # Cards\n",
    "                # \"xG\", \n",
    "                # 'xA', # Expected\n",
    "                'Player_CS', # Defence\n",
    "                # 'Team_score', \n",
    "                'Opp_score', 'Team_result', # Team form\n",
    "                \"Saves\",\n",
    "                # \"xGPoints\", \"CSPoints\", # Position-scaled\n",
    "                # \"Cmp%\", \"PrgP\", \"PrgC\", \"T_succ\",\n",
    "                # 'bonus', 'bps', # Bonus\n",
    "                # 'Influence', 'Creativity', 'Threat', \n",
    "                # 'ICT_index', # ICT\n",
    "                \"FPL_points\", \n",
    "                # \"Baseline_points\", \"Bonus\" # FPL points\n",
    "            ]\n",
    "info = [\"Name_original\", \"GW\", \"Season\", \"Team\", \"Opponent\", \"Was_home\", \"Team_rating\", \"Opp_rating\", \"FPL_pos\"]"
   ]
  },
  {
   "cell_type": "markdown",
   "id": "fe7a4ac1-336c-4ea4-ad91-24489c66e789",
   "metadata": {},
   "source": [
    "# Feature engineering"
   ]
  },
  {
   "cell_type": "code",
   "execution_count": 9,
   "id": "338fb226-ffc9-4431-b9e2-5e4a1dd5592b",
   "metadata": {},
   "outputs": [],
   "source": [
    "df[\"Rating_difference\"] = df[\"Team_rating\"] / df[\"Opp_rating\"]\n",
    "df[\"Baseline_points\"] = df[\"FPL_points\"] - df[\"Bonus\"]"
   ]
  },
  {
   "cell_type": "code",
   "execution_count": 10,
   "id": "f3a73ddc-31da-4c0d-93f1-e2f53e14c6ef",
   "metadata": {},
   "outputs": [],
   "source": [
    "def calculate_team_points(row):\n",
    "    # win - 3 points\n",
    "    if row['Team_score'] > row['Opp_score']:\n",
    "        return 3\n",
    "    # draw - 1 point\n",
    "    elif row['Team_score'] == row['Opp_score']:\n",
    "        return 1\n",
    "    # loss - 0 points\n",
    "    else:\n",
    "        return 0\n",
    "    \n",
    "df['Team_result'] = df.apply(calculate_team_points, axis=1)"
   ]
  },
  {
   "cell_type": "code",
   "execution_count": 11,
   "id": "2fe53aca-b1c7-4f24-87ae-81fe1ab6f532",
   "metadata": {},
   "outputs": [],
   "source": [
    "def add_rolling_features(df, standard_features, features_to_roll):\n",
    "    features = standard_features\n",
    "    \n",
    "    for r in rolling_gameweeks:\n",
    "        form_means = df.groupby([\"Name\"])[features_to_roll].rolling(r, min_periods=1).mean().groupby([\"Name\"]).shift(1).reset_index()\n",
    "        # print(form_means[form_means[\"Name\"] == \"Erling-Haaland\"])\n",
    "        form_means = form_means.fillna(method='bfill') # slightly incorrect, better to drop Nan\n",
    "        form_means.columns = [f'{col}{\"_\"}{r}' for col in form_means.columns]\n",
    "        features += form_means.columns.tolist()\n",
    "        features = list(filter(lambda x: x not in [\"Name_\" + str(r)], features))\n",
    "        df = pd.concat([df.reset_index(), form_means], axis=1)\n",
    "        df = df.drop([col for col in df.columns if col.startswith('level')], axis=1)\n",
    "        \n",
    "    return df.reset_index(), features"
   ]
  },
  {
   "cell_type": "code",
   "execution_count": 12,
   "id": "026526dc-1fdd-4eb4-854e-c3e383197574",
   "metadata": {},
   "outputs": [],
   "source": [
    "def label_encoding(df, column_to_encode):\n",
    "    \n",
    "    mapping_dict = {\n",
    "        'Y': 1, # Starting eleven\n",
    "        'Y*': 1, # Starting eleven as captain\n",
    "        'N': 0, # Not in starting eleven\n",
    "    }\n",
    "    \n",
    "    df[column_to_encode] = df[column_to_encode].map(mapping_dict)\n",
    "    \n",
    "    return df"
   ]
  },
  {
   "cell_type": "code",
   "execution_count": 13,
   "id": "dc05870f-c6a1-4340-b061-6b0f9da5ff46",
   "metadata": {},
   "outputs": [],
   "source": [
    "df = label_encoding(df, \"Start\")"
   ]
  },
  {
   "cell_type": "code",
   "execution_count": 14,
   "id": "c963831b-e2ec-4958-b2da-99c9eb5cf759",
   "metadata": {},
   "outputs": [],
   "source": [
    "df, features = add_rolling_features(df, standard_features, features_to_roll)"
   ]
  },
  {
   "cell_type": "code",
   "execution_count": 15,
   "id": "871534cf-bd8d-49ed-bb56-d3ffaa9d8478",
   "metadata": {},
   "outputs": [],
   "source": [
    "# dropping unwanted columns\n",
    "features = [col for col in features if not col.startswith('level')]\n",
    "df = df[np.unique(features + info + to_predict)]"
   ]
  },
  {
   "cell_type": "code",
   "execution_count": 16,
   "id": "269a1373-9fbd-4aa3-a095-5ad1c74be587",
   "metadata": {},
   "outputs": [],
   "source": [
    "df = df[pd.to_numeric(df[\"GW\"], errors=\"coerce\").notna()]\n",
    "df[\"GW\"] = df[\"GW\"].astype(\"uint64\")"
   ]
  },
  {
   "cell_type": "code",
   "execution_count": 17,
   "id": "dbd5108b-c4b3-4268-9a8d-6e0ebdbe7a8d",
   "metadata": {},
   "outputs": [],
   "source": [
    "# dropping NaNs\n",
    "df = df.dropna(axis=0)"
   ]
  },
  {
   "cell_type": "code",
   "execution_count": 18,
   "id": "eb1b8f09-495e-4f39-abec-238b6ff2d3d2",
   "metadata": {},
   "outputs": [],
   "source": [
    "df = df.set_index([\"Name_original\", \"Season\", \"GW\"], drop=False)"
   ]
  },
  {
   "cell_type": "code",
   "execution_count": 19,
   "id": "aa7edd40-4433-4d9d-bc95-747fd5fcc118",
   "metadata": {},
   "outputs": [
    {
     "data": {
      "text/plain": [
       "Index(['FPL_points', 'FPL_points_2', 'FPL_points_4', 'FPL_pos', 'GW', 'Min_2',\n",
       "       'Min_4', 'Name_original', 'Opp_rating', 'Opponent', 'Player_CS_2',\n",
       "       'Player_CS_4', 'Saves_2', 'Saves_4', 'Season', 'Start_2', 'Start_4',\n",
       "       'Team', 'Team_rating', 'Was_home'],\n",
       "      dtype='object')"
      ]
     },
     "execution_count": 19,
     "metadata": {},
     "output_type": "execute_result"
    }
   ],
   "source": [
    "df.columns"
   ]
  },
  {
   "cell_type": "code",
   "execution_count": 20,
   "id": "f9ac2b91-59ee-4d56-97be-b9a374d36604",
   "metadata": {},
   "outputs": [
    {
     "data": {
      "text/plain": [
       "(2040, 20)"
      ]
     },
     "execution_count": 20,
     "metadata": {},
     "output_type": "execute_result"
    }
   ],
   "source": [
    "df.shape"
   ]
  },
  {
   "cell_type": "code",
   "execution_count": 21,
   "id": "858c2600-7b98-42a1-bdc9-124640517d1e",
   "metadata": {},
   "outputs": [],
   "source": [
    "# saving to file\n",
    "df.to_csv(\"data/df_features_gk.csv\", index=False)"
   ]
  },
  {
   "cell_type": "markdown",
   "id": "fc895e8b-ed8c-4c03-89fe-eccde0b4c26e",
   "metadata": {},
   "source": [
    "# Data split into train and valid\n",
    "Let's take entire 2021-22 season and 30 first gameweeks of 2022-23 season as training data and 8 last gameweeks of that season as valid data (~10% of all rows)."
   ]
  },
  {
   "cell_type": "code",
   "execution_count": 22,
   "id": "1a46a038-a0b2-4348-b87c-2ca15569f6eb",
   "metadata": {},
   "outputs": [],
   "source": [
    "CUT_OFF_GAMEWEEK = 31\n",
    "SEASON_TO_PREDICT = \"2022-23\""
   ]
  },
  {
   "cell_type": "code",
   "execution_count": 23,
   "id": "45b9f614-d91d-491f-b5d0-d278db561c2d",
   "metadata": {},
   "outputs": [],
   "source": [
    "# training data\n",
    "X_train = df[((df[\"Season\"] < SEASON_TO_PREDICT) | (df[\"GW\"] <= CUT_OFF_GAMEWEEK - 1))][features].reset_index(drop=True)\n",
    "y_train = df[((df[\"Season\"] < SEASON_TO_PREDICT) | (df[\"GW\"] <= CUT_OFF_GAMEWEEK - 1))][to_predict].reset_index(drop=True)"
   ]
  },
  {
   "cell_type": "code",
   "execution_count": 24,
   "id": "7996012d-2bf5-45da-a29e-e75932313172",
   "metadata": {},
   "outputs": [],
   "source": [
    "# only 31st gameweek\n",
    "X_test = df[(df[\"GW\"] == CUT_OFF_GAMEWEEK) & (df[\"Season\"] == SEASON_TO_PREDICT) ][features].reset_index(drop=True)\n",
    "y_test = df[(df[\"GW\"] == CUT_OFF_GAMEWEEK) & (df[\"Season\"] == SEASON_TO_PREDICT) ][to_predict].reset_index(drop=True)"
   ]
  },
  {
   "cell_type": "code",
   "execution_count": 25,
   "id": "e59975bf-a85b-4920-a8d1-2a80273ebb65",
   "metadata": {},
   "outputs": [],
   "source": [
    "# all remaining gameweeks\n",
    "X_test_all_remaining = df[(df[\"GW\"] >= CUT_OFF_GAMEWEEK) & (df[\"Season\"] == SEASON_TO_PREDICT) ][features].reset_index(drop=True)\n",
    "y_test_all_remaining = df[(df[\"GW\"] >= CUT_OFF_GAMEWEEK) & (df[\"Season\"] == SEASON_TO_PREDICT) ][to_predict].reset_index(drop=True)"
   ]
  },
  {
   "cell_type": "code",
   "execution_count": 26,
   "id": "dcf0a862-ff68-4236-8fcb-dcf5e8ebe29f",
   "metadata": {},
   "outputs": [
    {
     "data": {
      "text/plain": [
       "((1771, 11), (34, 11), (269, 11))"
      ]
     },
     "execution_count": 26,
     "metadata": {},
     "output_type": "execute_result"
    }
   ],
   "source": [
    "X_train.shape, X_test.shape, X_test_all_remaining.shape"
   ]
  },
  {
   "cell_type": "markdown",
   "id": "bd2b3df9-363d-4c0a-8a1b-ce561ee29b23",
   "metadata": {},
   "source": [
    "# Model"
   ]
  },
  {
   "cell_type": "code",
   "execution_count": 27,
   "id": "869c69e0-56ad-4baf-a403-dcdc61f7adec",
   "metadata": {},
   "outputs": [],
   "source": [
    "model = GradientBoostingRegressor(random_state=42)\n",
    "# model = XGBRegressor(random_state=42)\n",
    "# model = RandomForestRegressor(random_state=42)"
   ]
  },
  {
   "cell_type": "code",
   "execution_count": 28,
   "id": "8531e1e4-92af-494b-b5b7-7a48f2796fa6",
   "metadata": {},
   "outputs": [
    {
     "name": "stdout",
     "output_type": "stream",
     "text": [
      "CPU times: total: 109 ms\n",
      "Wall time: 101 ms\n"
     ]
    },
    {
     "data": {
      "text/html": [
       "<style>#sk-container-id-1 {color: black;background-color: white;}#sk-container-id-1 pre{padding: 0;}#sk-container-id-1 div.sk-toggleable {background-color: white;}#sk-container-id-1 label.sk-toggleable__label {cursor: pointer;display: block;width: 100%;margin-bottom: 0;padding: 0.3em;box-sizing: border-box;text-align: center;}#sk-container-id-1 label.sk-toggleable__label-arrow:before {content: \"▸\";float: left;margin-right: 0.25em;color: #696969;}#sk-container-id-1 label.sk-toggleable__label-arrow:hover:before {color: black;}#sk-container-id-1 div.sk-estimator:hover label.sk-toggleable__label-arrow:before {color: black;}#sk-container-id-1 div.sk-toggleable__content {max-height: 0;max-width: 0;overflow: hidden;text-align: left;background-color: #f0f8ff;}#sk-container-id-1 div.sk-toggleable__content pre {margin: 0.2em;color: black;border-radius: 0.25em;background-color: #f0f8ff;}#sk-container-id-1 input.sk-toggleable__control:checked~div.sk-toggleable__content {max-height: 200px;max-width: 100%;overflow: auto;}#sk-container-id-1 input.sk-toggleable__control:checked~label.sk-toggleable__label-arrow:before {content: \"▾\";}#sk-container-id-1 div.sk-estimator input.sk-toggleable__control:checked~label.sk-toggleable__label {background-color: #d4ebff;}#sk-container-id-1 div.sk-label input.sk-toggleable__control:checked~label.sk-toggleable__label {background-color: #d4ebff;}#sk-container-id-1 input.sk-hidden--visually {border: 0;clip: rect(1px 1px 1px 1px);clip: rect(1px, 1px, 1px, 1px);height: 1px;margin: -1px;overflow: hidden;padding: 0;position: absolute;width: 1px;}#sk-container-id-1 div.sk-estimator {font-family: monospace;background-color: #f0f8ff;border: 1px dotted black;border-radius: 0.25em;box-sizing: border-box;margin-bottom: 0.5em;}#sk-container-id-1 div.sk-estimator:hover {background-color: #d4ebff;}#sk-container-id-1 div.sk-parallel-item::after {content: \"\";width: 100%;border-bottom: 1px solid gray;flex-grow: 1;}#sk-container-id-1 div.sk-label:hover label.sk-toggleable__label {background-color: #d4ebff;}#sk-container-id-1 div.sk-serial::before {content: \"\";position: absolute;border-left: 1px solid gray;box-sizing: border-box;top: 0;bottom: 0;left: 50%;z-index: 0;}#sk-container-id-1 div.sk-serial {display: flex;flex-direction: column;align-items: center;background-color: white;padding-right: 0.2em;padding-left: 0.2em;position: relative;}#sk-container-id-1 div.sk-item {position: relative;z-index: 1;}#sk-container-id-1 div.sk-parallel {display: flex;align-items: stretch;justify-content: center;background-color: white;position: relative;}#sk-container-id-1 div.sk-item::before, #sk-container-id-1 div.sk-parallel-item::before {content: \"\";position: absolute;border-left: 1px solid gray;box-sizing: border-box;top: 0;bottom: 0;left: 50%;z-index: -1;}#sk-container-id-1 div.sk-parallel-item {display: flex;flex-direction: column;z-index: 1;position: relative;background-color: white;}#sk-container-id-1 div.sk-parallel-item:first-child::after {align-self: flex-end;width: 50%;}#sk-container-id-1 div.sk-parallel-item:last-child::after {align-self: flex-start;width: 50%;}#sk-container-id-1 div.sk-parallel-item:only-child::after {width: 0;}#sk-container-id-1 div.sk-dashed-wrapped {border: 1px dashed gray;margin: 0 0.4em 0.5em 0.4em;box-sizing: border-box;padding-bottom: 0.4em;background-color: white;}#sk-container-id-1 div.sk-label label {font-family: monospace;font-weight: bold;display: inline-block;line-height: 1.2em;}#sk-container-id-1 div.sk-label-container {text-align: center;}#sk-container-id-1 div.sk-container {/* jupyter's `normalize.less` sets `[hidden] { display: none; }` but bootstrap.min.css set `[hidden] { display: none !important; }` so we also need the `!important` here to be able to override the default hidden behavior on the sphinx rendered scikit-learn.org. See: https://github.com/scikit-learn/scikit-learn/issues/21755 */display: inline-block !important;position: relative;}#sk-container-id-1 div.sk-text-repr-fallback {display: none;}</style><div id=\"sk-container-id-1\" class=\"sk-top-container\"><div class=\"sk-text-repr-fallback\"><pre>GradientBoostingRegressor(random_state=42)</pre><b>In a Jupyter environment, please rerun this cell to show the HTML representation or trust the notebook. <br />On GitHub, the HTML representation is unable to render, please try loading this page with nbviewer.org.</b></div><div class=\"sk-container\" hidden><div class=\"sk-item\"><div class=\"sk-estimator sk-toggleable\"><input class=\"sk-toggleable__control sk-hidden--visually\" id=\"sk-estimator-id-1\" type=\"checkbox\" checked><label for=\"sk-estimator-id-1\" class=\"sk-toggleable__label sk-toggleable__label-arrow\">GradientBoostingRegressor</label><div class=\"sk-toggleable__content\"><pre>GradientBoostingRegressor(random_state=42)</pre></div></div></div></div></div>"
      ],
      "text/plain": [
       "GradientBoostingRegressor(random_state=42)"
      ]
     },
     "execution_count": 28,
     "metadata": {},
     "output_type": "execute_result"
    }
   ],
   "source": [
    "%%time\n",
    "model.fit(X_train, np.array(y_train).ravel())"
   ]
  },
  {
   "cell_type": "markdown",
   "id": "438dc7ca-6134-429b-bd5e-4a99261c2781",
   "metadata": {
    "tags": []
   },
   "source": [
    "# Getting predictions"
   ]
  },
  {
   "cell_type": "code",
   "execution_count": 29,
   "id": "ecff920f-d510-4f46-ae3e-6316aca350bb",
   "metadata": {},
   "outputs": [],
   "source": [
    "def get_predictions(model, df, X, all_remaining=False):\n",
    "    # make predictions on the test data and glues them to the rest of the dataframe\n",
    "    predictions = model.predict(X)\n",
    "    \n",
    "    if all_remaining:\n",
    "        df_predictions = df[(df[\"GW\"] >= CUT_OFF_GAMEWEEK) & (df[\"Season\"] == SEASON_TO_PREDICT)].reset_index(drop=True)\n",
    "    else:\n",
    "        df_predictions = df[(df[\"GW\"] == CUT_OFF_GAMEWEEK) & (df[\"Season\"] == SEASON_TO_PREDICT)].reset_index(drop=True)\n",
    "        \n",
    "    df_predictions.loc[:, \"Pred\"] = predictions\n",
    "    \n",
    "    preds = df_predictions[info + to_predict + [\"Pred\"]].sort_values(by=[\"Pred\"], ascending = False)\n",
    "    \n",
    "    return preds, predictions"
   ]
  },
  {
   "cell_type": "code",
   "execution_count": 30,
   "id": "29a85736-1e9d-4dc0-b82c-9cceba36bb65",
   "metadata": {},
   "outputs": [
    {
     "data": {
      "text/plain": [
       "(34, 11)"
      ]
     },
     "execution_count": 30,
     "metadata": {},
     "output_type": "execute_result"
    }
   ],
   "source": [
    "X_test.shape"
   ]
  },
  {
   "cell_type": "code",
   "execution_count": 31,
   "id": "fc15d678-d460-438b-8750-c00cd0321f31",
   "metadata": {},
   "outputs": [],
   "source": [
    "preds, predictions = get_predictions(model, df, X_test)"
   ]
  },
  {
   "cell_type": "code",
   "execution_count": 32,
   "id": "5b318f3a-f755-44af-9dcc-349b91a04bd6",
   "metadata": {},
   "outputs": [],
   "source": [
    "preds_all_gameweeks, predictions_all = get_predictions(model, df, X_test_all_remaining, True)"
   ]
  },
  {
   "cell_type": "code",
   "execution_count": 33,
   "id": "0de661d6-e6ab-4b10-aed9-2ed2713461af",
   "metadata": {},
   "outputs": [
    {
     "data": {
      "text/plain": [
       "Index(['FPL_points', 'FPL_points_2', 'FPL_points_4', 'FPL_pos', 'GW', 'Min_2',\n",
       "       'Min_4', 'Name_original', 'Opp_rating', 'Opponent', 'Player_CS_2',\n",
       "       'Player_CS_4', 'Saves_2', 'Saves_4', 'Season', 'Start_2', 'Start_4',\n",
       "       'Team', 'Team_rating', 'Was_home'],\n",
       "      dtype='object')"
      ]
     },
     "execution_count": 33,
     "metadata": {},
     "output_type": "execute_result"
    }
   ],
   "source": [
    "df.columns"
   ]
  },
  {
   "cell_type": "markdown",
   "id": "bcb4ce5d-b258-4626-ba7e-3d232df036b2",
   "metadata": {},
   "source": [
    "# Custom metric\n",
    "Such models are usually used to compare players and decide who to pick for upcoming gameweek(s). For each player pair in a subset of players model can either predict the outcome well (e.g. player A scores more than player B and model predicts exactly that) or predict wrongly (e.g. player A scores more than player B but model predicts player B > player A). Pairwise_accuracy returns the percentage of corrected predicted pairs. Pairwise_accuracy_topX is a variation of this metric calculated only for X highest scoring players of last two seasons."
   ]
  },
  {
   "cell_type": "code",
   "execution_count": 34,
   "id": "30d87d10-ae71-4fc6-aa37-455fa45be613",
   "metadata": {},
   "outputs": [],
   "source": [
    "def get_top_performer_names(df, no_top, no_gws):\n",
    "    # takes no_top players that recorded highest average FPL points in no_gws last gameweeks\n",
    "    return df.reset_index(drop=True).groupby(\"Name_original\")[\"FPL_points\"].mean().groupby(\"Name_original\").tail(no_gws).sort_values(ascending=False).head(no_top).index.to_list()"
   ]
  },
  {
   "cell_type": "code",
   "execution_count": 35,
   "id": "ad049ca6-a774-4dc9-95f4-e981ba0ed254",
   "metadata": {},
   "outputs": [],
   "source": [
    "def pairwise_accuracy(predicted_scores, true_scores):\n",
    "    if len(predicted_scores) != len(true_scores):\n",
    "        raise ValueError(\"The length of predicted_scores and true_scores must be the same.\")\n",
    "\n",
    "    num_pairs = 0\n",
    "    num_correct_pairs = 0\n",
    "\n",
    "    for i in range(len(predicted_scores)):\n",
    "        for j in range(i + 1, len(predicted_scores)):\n",
    "            # Check if the predicted order matches the true order\n",
    "            if (predicted_scores[i] > predicted_scores[j] and true_scores[i] > true_scores[j]) or \\\n",
    "               (predicted_scores[i] < predicted_scores[j] and true_scores[i] < true_scores[j]):\n",
    "                num_correct_pairs += 1\n",
    "            num_pairs += 1\n",
    "\n",
    "    pairwise_accuracy = num_correct_pairs / num_pairs\n",
    "    return pairwise_accuracy"
   ]
  },
  {
   "cell_type": "code",
   "execution_count": 36,
   "id": "0dcbdf3b-8f16-432d-a9d4-ca4b93888927",
   "metadata": {},
   "outputs": [],
   "source": [
    "def pairwise_accuracy_topX(model, df, top_x, all_gw=False):\n",
    "    # pairwise_accuracy for top_X players\n",
    "    if all_gw:\n",
    "        top_performers = df[(df[\"GW\"] == CUT_OFF_GAMEWEEK) & (df[\"Season\"] == SEASON_TO_PREDICT) & (df[\"Name_original\"].isin(get_top_performer_names(df, top_x, 50)))]\n",
    "    else:\n",
    "        top_performers = df[(df[\"GW\"] >= CUT_OFF_GAMEWEEK) & (df[\"Season\"] == SEASON_TO_PREDICT) & (df[\"Name_original\"].isin(get_top_performer_names(df, top_x, 50)))]\n",
    "\n",
    "    X = top_performers[features].reset_index(drop=True)\n",
    "    y = np.array(top_performers[to_predict].reset_index(drop=True))\n",
    "    preds = model.predict(X)\n",
    "    \n",
    "    return  pairwise_accuracy(preds, y)"
   ]
  },
  {
   "cell_type": "markdown",
   "id": "434ed227-7346-4124-8cc6-4b7e8c99606b",
   "metadata": {},
   "source": [
    "# Evaluation"
   ]
  },
  {
   "cell_type": "code",
   "execution_count": 37,
   "id": "6764621d-0288-45d0-95a3-36c29e6c95c4",
   "metadata": {},
   "outputs": [],
   "source": [
    "def evaluate(model, df, predictions, y_true, all_gw=False):\n",
    "    # function to calculate different metrics for a given model\n",
    "    mae = mean_absolute_error(y_true, predictions)\n",
    "    mse = mean_squared_error(y_true, predictions)\n",
    "\n",
    "    pairwise_acc = pairwise_accuracy(np.array(y_true), predictions)\n",
    "    pairwise_accuracy_top20 = pairwise_accuracy_topX(model, df, 20, all_gw)\n",
    "    \n",
    "    print(\"MAE:\", mae)\n",
    "    print(\"MSE:\", mse)\n",
    "    print(\"Pairwise accuracy:\", pairwise_acc)\n",
    "    print(\"Pairwise accuracy @TOP20:\", pairwise_accuracy_top20)\n",
    "    print(\"Avg pred vs avg true:\", np.mean(predictions).round(2), \"vs\", np.mean(y_true).round(2).item())"
   ]
  },
  {
   "cell_type": "code",
   "execution_count": 38,
   "id": "2264d7a3-28e2-4864-b02a-eb521e567e46",
   "metadata": {},
   "outputs": [
    {
     "name": "stdout",
     "output_type": "stream",
     "text": [
      "MAE: 1.5648532506017239\n",
      "MSE: 5.148775114622611\n",
      "Pairwise accuracy: 0.5675803140431671\n",
      "Pairwise accuracy @TOP20: 0.5730994152046783\n",
      "Avg pred vs avg true: 2.18 vs 1.87\n"
     ]
    }
   ],
   "source": [
    "# all remaining gameweeks\n",
    "evaluate(model, df, predictions_all, y_test_all_remaining, all_gw=True)"
   ]
  },
  {
   "cell_type": "markdown",
   "id": "09ff9469-b50e-44d3-9e08-2b9fb4c8e8ba",
   "metadata": {},
   "source": [
    "# Predictions - next gameweek only"
   ]
  },
  {
   "cell_type": "code",
   "execution_count": 39,
   "id": "6df93768-16bb-495b-94ab-f240d07e9b4e",
   "metadata": {},
   "outputs": [
    {
     "data": {
      "text/html": [
       "<div>\n",
       "<style scoped>\n",
       "    .dataframe tbody tr th:only-of-type {\n",
       "        vertical-align: middle;\n",
       "    }\n",
       "\n",
       "    .dataframe tbody tr th {\n",
       "        vertical-align: top;\n",
       "    }\n",
       "\n",
       "    .dataframe thead th {\n",
       "        text-align: right;\n",
       "    }\n",
       "</style>\n",
       "<table border=\"1\" class=\"dataframe\">\n",
       "  <thead>\n",
       "    <tr style=\"text-align: right;\">\n",
       "      <th></th>\n",
       "      <th>Name_original</th>\n",
       "      <th>GW</th>\n",
       "      <th>Season</th>\n",
       "      <th>Team</th>\n",
       "      <th>Opponent</th>\n",
       "      <th>Was_home</th>\n",
       "      <th>Team_rating</th>\n",
       "      <th>Opp_rating</th>\n",
       "      <th>FPL_pos</th>\n",
       "      <th>FPL_points</th>\n",
       "      <th>Pred</th>\n",
       "    </tr>\n",
       "  </thead>\n",
       "  <tbody>\n",
       "    <tr>\n",
       "      <th>32</th>\n",
       "      <td>Sam Johnstone</td>\n",
       "      <td>31</td>\n",
       "      <td>2022-23</td>\n",
       "      <td>Crystal Palace</td>\n",
       "      <td>Southampton</td>\n",
       "      <td>0.0</td>\n",
       "      <td>1757.188232</td>\n",
       "      <td>1654.943359</td>\n",
       "      <td>GK</td>\n",
       "      <td>9.0</td>\n",
       "      <td>11.295546</td>\n",
       "    </tr>\n",
       "    <tr>\n",
       "      <th>17</th>\n",
       "      <td>Hugo Lloris</td>\n",
       "      <td>31</td>\n",
       "      <td>2022-23</td>\n",
       "      <td>Tottenham</td>\n",
       "      <td>Bournemouth</td>\n",
       "      <td>1.0</td>\n",
       "      <td>1854.798462</td>\n",
       "      <td>1668.258545</td>\n",
       "      <td>GK</td>\n",
       "      <td>2.0</td>\n",
       "      <td>4.398360</td>\n",
       "    </tr>\n",
       "    <tr>\n",
       "      <th>20</th>\n",
       "      <td>Jordan Pickford</td>\n",
       "      <td>31</td>\n",
       "      <td>2022-23</td>\n",
       "      <td>Everton</td>\n",
       "      <td>Fulham</td>\n",
       "      <td>1.0</td>\n",
       "      <td>1690.919678</td>\n",
       "      <td>1713.854858</td>\n",
       "      <td>GK</td>\n",
       "      <td>2.0</td>\n",
       "      <td>4.354203</td>\n",
       "    </tr>\n",
       "    <tr>\n",
       "      <th>21</th>\n",
       "      <td>José Malheiro de Sá</td>\n",
       "      <td>31</td>\n",
       "      <td>2022-23</td>\n",
       "      <td>Wolves</td>\n",
       "      <td>Brentford</td>\n",
       "      <td>1.0</td>\n",
       "      <td>1720.871338</td>\n",
       "      <td>1785.234741</td>\n",
       "      <td>GK</td>\n",
       "      <td>7.0</td>\n",
       "      <td>3.951501</td>\n",
       "    </tr>\n",
       "    <tr>\n",
       "      <th>11</th>\n",
       "      <td>David De Gea Quintana</td>\n",
       "      <td>31</td>\n",
       "      <td>2022-23</td>\n",
       "      <td>Manchester Utd</td>\n",
       "      <td>Nott'ham Forest</td>\n",
       "      <td>0.0</td>\n",
       "      <td>1882.111816</td>\n",
       "      <td>1638.596069</td>\n",
       "      <td>GK</td>\n",
       "      <td>6.0</td>\n",
       "      <td>3.924957</td>\n",
       "    </tr>\n",
       "    <tr>\n",
       "      <th>28</th>\n",
       "      <td>Norberto Murara Neto</td>\n",
       "      <td>31</td>\n",
       "      <td>2022-23</td>\n",
       "      <td>Bournemouth</td>\n",
       "      <td>Tottenham</td>\n",
       "      <td>0.0</td>\n",
       "      <td>1668.258545</td>\n",
       "      <td>1854.798462</td>\n",
       "      <td>GK</td>\n",
       "      <td>3.0</td>\n",
       "      <td>3.869632</td>\n",
       "    </tr>\n",
       "    <tr>\n",
       "      <th>2</th>\n",
       "      <td>Alisson Ramses Becker</td>\n",
       "      <td>31</td>\n",
       "      <td>2022-23</td>\n",
       "      <td>Liverpool</td>\n",
       "      <td>Leeds United</td>\n",
       "      <td>0.0</td>\n",
       "      <td>1928.520996</td>\n",
       "      <td>1698.080566</td>\n",
       "      <td>GK</td>\n",
       "      <td>2.0</td>\n",
       "      <td>3.721795</td>\n",
       "    </tr>\n",
       "    <tr>\n",
       "      <th>23</th>\n",
       "      <td>Keylor Navas</td>\n",
       "      <td>31</td>\n",
       "      <td>2022-23</td>\n",
       "      <td>Nott'ham Forest</td>\n",
       "      <td>Manchester Utd</td>\n",
       "      <td>1.0</td>\n",
       "      <td>1638.596069</td>\n",
       "      <td>1882.111816</td>\n",
       "      <td>GK</td>\n",
       "      <td>2.0</td>\n",
       "      <td>3.677533</td>\n",
       "    </tr>\n",
       "    <tr>\n",
       "      <th>16</th>\n",
       "      <td>Gavin Bazunu</td>\n",
       "      <td>31</td>\n",
       "      <td>2022-23</td>\n",
       "      <td>Southampton</td>\n",
       "      <td>Crystal Palace</td>\n",
       "      <td>1.0</td>\n",
       "      <td>1654.943359</td>\n",
       "      <td>1757.188232</td>\n",
       "      <td>GK</td>\n",
       "      <td>1.0</td>\n",
       "      <td>3.631999</td>\n",
       "    </tr>\n",
       "    <tr>\n",
       "      <th>22</th>\n",
       "      <td>Kepa Arrizabalaga</td>\n",
       "      <td>31</td>\n",
       "      <td>2022-23</td>\n",
       "      <td>Chelsea</td>\n",
       "      <td>Brighton</td>\n",
       "      <td>1.0</td>\n",
       "      <td>1830.078003</td>\n",
       "      <td>1829.562256</td>\n",
       "      <td>GK</td>\n",
       "      <td>6.0</td>\n",
       "      <td>3.630150</td>\n",
       "    </tr>\n",
       "    <tr>\n",
       "      <th>24</th>\n",
       "      <td>Lukasz Fabianski</td>\n",
       "      <td>31</td>\n",
       "      <td>2022-23</td>\n",
       "      <td>West Ham</td>\n",
       "      <td>Arsenal</td>\n",
       "      <td>1.0</td>\n",
       "      <td>1754.553955</td>\n",
       "      <td>1957.524048</td>\n",
       "      <td>GK</td>\n",
       "      <td>2.0</td>\n",
       "      <td>3.595088</td>\n",
       "    </tr>\n",
       "    <tr>\n",
       "      <th>8</th>\n",
       "      <td>Daniel Iversen</td>\n",
       "      <td>31</td>\n",
       "      <td>2022-23</td>\n",
       "      <td>Leicester City</td>\n",
       "      <td>Manchester City</td>\n",
       "      <td>0.0</td>\n",
       "      <td>1725.040527</td>\n",
       "      <td>2063.473633</td>\n",
       "      <td>GK</td>\n",
       "      <td>1.0</td>\n",
       "      <td>3.594625</td>\n",
       "    </tr>\n",
       "    <tr>\n",
       "      <th>5</th>\n",
       "      <td>Bernd Leno</td>\n",
       "      <td>31</td>\n",
       "      <td>2022-23</td>\n",
       "      <td>Fulham</td>\n",
       "      <td>Everton</td>\n",
       "      <td>0.0</td>\n",
       "      <td>1713.854858</td>\n",
       "      <td>1690.919678</td>\n",
       "      <td>GK</td>\n",
       "      <td>3.0</td>\n",
       "      <td>3.587472</td>\n",
       "    </tr>\n",
       "    <tr>\n",
       "      <th>12</th>\n",
       "      <td>Ederson Santana de Moraes</td>\n",
       "      <td>31</td>\n",
       "      <td>2022-23</td>\n",
       "      <td>Manchester City</td>\n",
       "      <td>Leicester City</td>\n",
       "      <td>1.0</td>\n",
       "      <td>2063.473633</td>\n",
       "      <td>1725.040527</td>\n",
       "      <td>GK</td>\n",
       "      <td>3.0</td>\n",
       "      <td>3.535930</td>\n",
       "    </tr>\n",
       "    <tr>\n",
       "      <th>10</th>\n",
       "      <td>David Raya Martin</td>\n",
       "      <td>31</td>\n",
       "      <td>2022-23</td>\n",
       "      <td>Brentford</td>\n",
       "      <td>Wolves</td>\n",
       "      <td>0.0</td>\n",
       "      <td>1785.234741</td>\n",
       "      <td>1720.871338</td>\n",
       "      <td>GK</td>\n",
       "      <td>5.0</td>\n",
       "      <td>3.341686</td>\n",
       "    </tr>\n",
       "    <tr>\n",
       "      <th>0</th>\n",
       "      <td>Aaron Ramsdale</td>\n",
       "      <td>31</td>\n",
       "      <td>2022-23</td>\n",
       "      <td>Arsenal</td>\n",
       "      <td>West Ham</td>\n",
       "      <td>0.0</td>\n",
       "      <td>1957.524048</td>\n",
       "      <td>1754.553955</td>\n",
       "      <td>GK</td>\n",
       "      <td>1.0</td>\n",
       "      <td>3.318155</td>\n",
       "    </tr>\n",
       "    <tr>\n",
       "      <th>14</th>\n",
       "      <td>Emiliano Martínez Romero</td>\n",
       "      <td>31</td>\n",
       "      <td>2022-23</td>\n",
       "      <td>Aston Villa</td>\n",
       "      <td>Newcastle Utd</td>\n",
       "      <td>1.0</td>\n",
       "      <td>1804.471680</td>\n",
       "      <td>1879.303101</td>\n",
       "      <td>GK</td>\n",
       "      <td>6.0</td>\n",
       "      <td>3.062591</td>\n",
       "    </tr>\n",
       "    <tr>\n",
       "      <th>29</th>\n",
       "      <td>Nick Pope</td>\n",
       "      <td>31</td>\n",
       "      <td>2022-23</td>\n",
       "      <td>Newcastle Utd</td>\n",
       "      <td>Aston Villa</td>\n",
       "      <td>0.0</td>\n",
       "      <td>1879.303101</td>\n",
       "      <td>1804.471680</td>\n",
       "      <td>GK</td>\n",
       "      <td>2.0</td>\n",
       "      <td>2.705307</td>\n",
       "    </tr>\n",
       "    <tr>\n",
       "      <th>18</th>\n",
       "      <td>Illan Meslier</td>\n",
       "      <td>31</td>\n",
       "      <td>2022-23</td>\n",
       "      <td>Leeds United</td>\n",
       "      <td>Liverpool</td>\n",
       "      <td>1.0</td>\n",
       "      <td>1698.080566</td>\n",
       "      <td>1928.520996</td>\n",
       "      <td>GK</td>\n",
       "      <td>-1.0</td>\n",
       "      <td>2.597635</td>\n",
       "    </tr>\n",
       "    <tr>\n",
       "      <th>15</th>\n",
       "      <td>Fraser Forster</td>\n",
       "      <td>31</td>\n",
       "      <td>2022-23</td>\n",
       "      <td>Tottenham</td>\n",
       "      <td>Bournemouth</td>\n",
       "      <td>1.0</td>\n",
       "      <td>1854.798462</td>\n",
       "      <td>1668.258545</td>\n",
       "      <td>GK</td>\n",
       "      <td>0.0</td>\n",
       "      <td>0.279967</td>\n",
       "    </tr>\n",
       "    <tr>\n",
       "      <th>26</th>\n",
       "      <td>Mark Travers</td>\n",
       "      <td>31</td>\n",
       "      <td>2022-23</td>\n",
       "      <td>Bournemouth</td>\n",
       "      <td>Tottenham</td>\n",
       "      <td>0.0</td>\n",
       "      <td>1668.258545</td>\n",
       "      <td>1854.798462</td>\n",
       "      <td>GK</td>\n",
       "      <td>0.0</td>\n",
       "      <td>0.212086</td>\n",
       "    </tr>\n",
       "    <tr>\n",
       "      <th>31</th>\n",
       "      <td>Robin Olsen</td>\n",
       "      <td>31</td>\n",
       "      <td>2022-23</td>\n",
       "      <td>Aston Villa</td>\n",
       "      <td>Newcastle Utd</td>\n",
       "      <td>1.0</td>\n",
       "      <td>1804.471680</td>\n",
       "      <td>1879.303101</td>\n",
       "      <td>GK</td>\n",
       "      <td>0.0</td>\n",
       "      <td>0.212086</td>\n",
       "    </tr>\n",
       "    <tr>\n",
       "      <th>30</th>\n",
       "      <td>Robert Sánchez</td>\n",
       "      <td>31</td>\n",
       "      <td>2022-23</td>\n",
       "      <td>Brighton</td>\n",
       "      <td>Chelsea</td>\n",
       "      <td>0.0</td>\n",
       "      <td>1829.562256</td>\n",
       "      <td>1830.078003</td>\n",
       "      <td>GK</td>\n",
       "      <td>1.0</td>\n",
       "      <td>0.212086</td>\n",
       "    </tr>\n",
       "    <tr>\n",
       "      <th>4</th>\n",
       "      <td>Asmir Begović</td>\n",
       "      <td>31</td>\n",
       "      <td>2022-23</td>\n",
       "      <td>Everton</td>\n",
       "      <td>Fulham</td>\n",
       "      <td>1.0</td>\n",
       "      <td>1690.919678</td>\n",
       "      <td>1713.854858</td>\n",
       "      <td>GK</td>\n",
       "      <td>0.0</td>\n",
       "      <td>0.212086</td>\n",
       "    </tr>\n",
       "    <tr>\n",
       "      <th>27</th>\n",
       "      <td>Martin Dubravka</td>\n",
       "      <td>31</td>\n",
       "      <td>2022-23</td>\n",
       "      <td>Newcastle Utd</td>\n",
       "      <td>Aston Villa</td>\n",
       "      <td>0.0</td>\n",
       "      <td>1879.303101</td>\n",
       "      <td>1804.471680</td>\n",
       "      <td>GK</td>\n",
       "      <td>0.0</td>\n",
       "      <td>0.212086</td>\n",
       "    </tr>\n",
       "    <tr>\n",
       "      <th>25</th>\n",
       "      <td>Marek Rodák</td>\n",
       "      <td>31</td>\n",
       "      <td>2022-23</td>\n",
       "      <td>Fulham</td>\n",
       "      <td>Everton</td>\n",
       "      <td>0.0</td>\n",
       "      <td>1713.854858</td>\n",
       "      <td>1690.919678</td>\n",
       "      <td>GK</td>\n",
       "      <td>0.0</td>\n",
       "      <td>0.212086</td>\n",
       "    </tr>\n",
       "    <tr>\n",
       "      <th>1</th>\n",
       "      <td>Alex McCarthy</td>\n",
       "      <td>31</td>\n",
       "      <td>2022-23</td>\n",
       "      <td>Southampton</td>\n",
       "      <td>Crystal Palace</td>\n",
       "      <td>1.0</td>\n",
       "      <td>1654.943359</td>\n",
       "      <td>1757.188232</td>\n",
       "      <td>GK</td>\n",
       "      <td>0.0</td>\n",
       "      <td>0.212086</td>\n",
       "    </tr>\n",
       "    <tr>\n",
       "      <th>6</th>\n",
       "      <td>Caoimhin Kelleher</td>\n",
       "      <td>31</td>\n",
       "      <td>2022-23</td>\n",
       "      <td>Liverpool</td>\n",
       "      <td>Leeds United</td>\n",
       "      <td>0.0</td>\n",
       "      <td>1928.520996</td>\n",
       "      <td>1698.080566</td>\n",
       "      <td>GK</td>\n",
       "      <td>0.0</td>\n",
       "      <td>0.212086</td>\n",
       "    </tr>\n",
       "    <tr>\n",
       "      <th>7</th>\n",
       "      <td>Daniel Bentley</td>\n",
       "      <td>31</td>\n",
       "      <td>2022-23</td>\n",
       "      <td>Wolves</td>\n",
       "      <td>Brentford</td>\n",
       "      <td>1.0</td>\n",
       "      <td>1720.871338</td>\n",
       "      <td>1785.234741</td>\n",
       "      <td>GK</td>\n",
       "      <td>0.0</td>\n",
       "      <td>0.212086</td>\n",
       "    </tr>\n",
       "    <tr>\n",
       "      <th>9</th>\n",
       "      <td>Danny Ward</td>\n",
       "      <td>31</td>\n",
       "      <td>2022-23</td>\n",
       "      <td>Leicester City</td>\n",
       "      <td>Manchester City</td>\n",
       "      <td>0.0</td>\n",
       "      <td>1725.040527</td>\n",
       "      <td>2063.473633</td>\n",
       "      <td>GK</td>\n",
       "      <td>0.0</td>\n",
       "      <td>0.212086</td>\n",
       "    </tr>\n",
       "  </tbody>\n",
       "</table>\n",
       "</div>"
      ],
      "text/plain": [
       "                Name_original  GW   Season             Team         Opponent  \\\n",
       "32              Sam Johnstone  31  2022-23   Crystal Palace      Southampton   \n",
       "17                Hugo Lloris  31  2022-23        Tottenham      Bournemouth   \n",
       "20            Jordan Pickford  31  2022-23          Everton           Fulham   \n",
       "21        José Malheiro de Sá  31  2022-23           Wolves        Brentford   \n",
       "11      David De Gea Quintana  31  2022-23   Manchester Utd  Nott'ham Forest   \n",
       "28       Norberto Murara Neto  31  2022-23      Bournemouth        Tottenham   \n",
       "2       Alisson Ramses Becker  31  2022-23        Liverpool     Leeds United   \n",
       "23               Keylor Navas  31  2022-23  Nott'ham Forest   Manchester Utd   \n",
       "16               Gavin Bazunu  31  2022-23      Southampton   Crystal Palace   \n",
       "22          Kepa Arrizabalaga  31  2022-23          Chelsea         Brighton   \n",
       "24           Lukasz Fabianski  31  2022-23         West Ham          Arsenal   \n",
       "8              Daniel Iversen  31  2022-23   Leicester City  Manchester City   \n",
       "5                  Bernd Leno  31  2022-23           Fulham          Everton   \n",
       "12  Ederson Santana de Moraes  31  2022-23  Manchester City   Leicester City   \n",
       "10          David Raya Martin  31  2022-23        Brentford           Wolves   \n",
       "0              Aaron Ramsdale  31  2022-23          Arsenal         West Ham   \n",
       "14   Emiliano Martínez Romero  31  2022-23      Aston Villa    Newcastle Utd   \n",
       "29                  Nick Pope  31  2022-23    Newcastle Utd      Aston Villa   \n",
       "18              Illan Meslier  31  2022-23     Leeds United        Liverpool   \n",
       "15             Fraser Forster  31  2022-23        Tottenham      Bournemouth   \n",
       "26               Mark Travers  31  2022-23      Bournemouth        Tottenham   \n",
       "31                Robin Olsen  31  2022-23      Aston Villa    Newcastle Utd   \n",
       "30             Robert Sánchez  31  2022-23         Brighton          Chelsea   \n",
       "4               Asmir Begović  31  2022-23          Everton           Fulham   \n",
       "27            Martin Dubravka  31  2022-23    Newcastle Utd      Aston Villa   \n",
       "25                Marek Rodák  31  2022-23           Fulham          Everton   \n",
       "1               Alex McCarthy  31  2022-23      Southampton   Crystal Palace   \n",
       "6           Caoimhin Kelleher  31  2022-23        Liverpool     Leeds United   \n",
       "7              Daniel Bentley  31  2022-23           Wolves        Brentford   \n",
       "9                  Danny Ward  31  2022-23   Leicester City  Manchester City   \n",
       "\n",
       "    Was_home  Team_rating   Opp_rating FPL_pos  FPL_points       Pred  \n",
       "32       0.0  1757.188232  1654.943359      GK         9.0  11.295546  \n",
       "17       1.0  1854.798462  1668.258545      GK         2.0   4.398360  \n",
       "20       1.0  1690.919678  1713.854858      GK         2.0   4.354203  \n",
       "21       1.0  1720.871338  1785.234741      GK         7.0   3.951501  \n",
       "11       0.0  1882.111816  1638.596069      GK         6.0   3.924957  \n",
       "28       0.0  1668.258545  1854.798462      GK         3.0   3.869632  \n",
       "2        0.0  1928.520996  1698.080566      GK         2.0   3.721795  \n",
       "23       1.0  1638.596069  1882.111816      GK         2.0   3.677533  \n",
       "16       1.0  1654.943359  1757.188232      GK         1.0   3.631999  \n",
       "22       1.0  1830.078003  1829.562256      GK         6.0   3.630150  \n",
       "24       1.0  1754.553955  1957.524048      GK         2.0   3.595088  \n",
       "8        0.0  1725.040527  2063.473633      GK         1.0   3.594625  \n",
       "5        0.0  1713.854858  1690.919678      GK         3.0   3.587472  \n",
       "12       1.0  2063.473633  1725.040527      GK         3.0   3.535930  \n",
       "10       0.0  1785.234741  1720.871338      GK         5.0   3.341686  \n",
       "0        0.0  1957.524048  1754.553955      GK         1.0   3.318155  \n",
       "14       1.0  1804.471680  1879.303101      GK         6.0   3.062591  \n",
       "29       0.0  1879.303101  1804.471680      GK         2.0   2.705307  \n",
       "18       1.0  1698.080566  1928.520996      GK        -1.0   2.597635  \n",
       "15       1.0  1854.798462  1668.258545      GK         0.0   0.279967  \n",
       "26       0.0  1668.258545  1854.798462      GK         0.0   0.212086  \n",
       "31       1.0  1804.471680  1879.303101      GK         0.0   0.212086  \n",
       "30       0.0  1829.562256  1830.078003      GK         1.0   0.212086  \n",
       "4        1.0  1690.919678  1713.854858      GK         0.0   0.212086  \n",
       "27       0.0  1879.303101  1804.471680      GK         0.0   0.212086  \n",
       "25       0.0  1713.854858  1690.919678      GK         0.0   0.212086  \n",
       "1        1.0  1654.943359  1757.188232      GK         0.0   0.212086  \n",
       "6        0.0  1928.520996  1698.080566      GK         0.0   0.212086  \n",
       "7        1.0  1720.871338  1785.234741      GK         0.0   0.212086  \n",
       "9        0.0  1725.040527  2063.473633      GK         0.0   0.212086  "
      ]
     },
     "execution_count": 39,
     "metadata": {},
     "output_type": "execute_result"
    }
   ],
   "source": [
    "preds.head(30)"
   ]
  },
  {
   "cell_type": "code",
   "execution_count": 40,
   "id": "3fe1c712-ea38-4a91-9717-d4f520ffcb82",
   "metadata": {},
   "outputs": [
    {
     "data": {
      "text/html": [
       "<div>\n",
       "<style scoped>\n",
       "    .dataframe tbody tr th:only-of-type {\n",
       "        vertical-align: middle;\n",
       "    }\n",
       "\n",
       "    .dataframe tbody tr th {\n",
       "        vertical-align: top;\n",
       "    }\n",
       "\n",
       "    .dataframe thead th {\n",
       "        text-align: right;\n",
       "    }\n",
       "</style>\n",
       "<table border=\"1\" class=\"dataframe\">\n",
       "  <thead>\n",
       "    <tr style=\"text-align: right;\">\n",
       "      <th></th>\n",
       "      <th>Name_original</th>\n",
       "      <th>GW</th>\n",
       "      <th>Season</th>\n",
       "      <th>Team</th>\n",
       "      <th>Opponent</th>\n",
       "      <th>Was_home</th>\n",
       "      <th>Team_rating</th>\n",
       "      <th>Opp_rating</th>\n",
       "      <th>FPL_pos</th>\n",
       "      <th>FPL_points</th>\n",
       "      <th>Pred</th>\n",
       "    </tr>\n",
       "  </thead>\n",
       "  <tbody>\n",
       "    <tr>\n",
       "      <th>12</th>\n",
       "      <td>Ederson Santana de Moraes</td>\n",
       "      <td>31</td>\n",
       "      <td>2022-23</td>\n",
       "      <td>Manchester City</td>\n",
       "      <td>Leicester City</td>\n",
       "      <td>1.0</td>\n",
       "      <td>2063.473633</td>\n",
       "      <td>1725.040527</td>\n",
       "      <td>GK</td>\n",
       "      <td>3.0</td>\n",
       "      <td>3.53593</td>\n",
       "    </tr>\n",
       "  </tbody>\n",
       "</table>\n",
       "</div>"
      ],
      "text/plain": [
       "                Name_original  GW   Season             Team        Opponent  \\\n",
       "12  Ederson Santana de Moraes  31  2022-23  Manchester City  Leicester City   \n",
       "\n",
       "    Was_home  Team_rating   Opp_rating FPL_pos  FPL_points     Pred  \n",
       "12       1.0  2063.473633  1725.040527      GK         3.0  3.53593  "
      ]
     },
     "execution_count": 40,
     "metadata": {},
     "output_type": "execute_result"
    }
   ],
   "source": [
    "preds[preds[\"Team\"] == \"Manchester City\"].head(20)"
   ]
  },
  {
   "cell_type": "markdown",
   "id": "14ee9f8b-6918-4e6b-805d-f19abde9c3a4",
   "metadata": {},
   "source": [
    "# Predictions - all remaining gameweeks"
   ]
  },
  {
   "cell_type": "code",
   "execution_count": 41,
   "id": "ecf030c0-6e9c-40b0-81e4-9cc03ef695bc",
   "metadata": {},
   "outputs": [
    {
     "data": {
      "text/html": [
       "<div>\n",
       "<style scoped>\n",
       "    .dataframe tbody tr th:only-of-type {\n",
       "        vertical-align: middle;\n",
       "    }\n",
       "\n",
       "    .dataframe tbody tr th {\n",
       "        vertical-align: top;\n",
       "    }\n",
       "\n",
       "    .dataframe thead th {\n",
       "        text-align: right;\n",
       "    }\n",
       "</style>\n",
       "<table border=\"1\" class=\"dataframe\">\n",
       "  <thead>\n",
       "    <tr style=\"text-align: right;\">\n",
       "      <th></th>\n",
       "      <th>Name_original</th>\n",
       "      <th>GW</th>\n",
       "      <th>Season</th>\n",
       "      <th>Team</th>\n",
       "      <th>Opponent</th>\n",
       "      <th>Was_home</th>\n",
       "      <th>Team_rating</th>\n",
       "      <th>Opp_rating</th>\n",
       "      <th>FPL_pos</th>\n",
       "      <th>FPL_points</th>\n",
       "      <th>Pred</th>\n",
       "    </tr>\n",
       "  </thead>\n",
       "  <tbody>\n",
       "    <tr>\n",
       "      <th>61</th>\n",
       "      <td>Daniel Bentley</td>\n",
       "      <td>37</td>\n",
       "      <td>2022-23</td>\n",
       "      <td>Wolves</td>\n",
       "      <td>Everton</td>\n",
       "      <td>1.0</td>\n",
       "      <td>1726.977295</td>\n",
       "      <td>1699.427124</td>\n",
       "      <td>GK</td>\n",
       "      <td>3.0</td>\n",
       "      <td>12.218934</td>\n",
       "    </tr>\n",
       "    <tr>\n",
       "      <th>248</th>\n",
       "      <td>Sam Johnstone</td>\n",
       "      <td>31</td>\n",
       "      <td>2022-23</td>\n",
       "      <td>Crystal Palace</td>\n",
       "      <td>Southampton</td>\n",
       "      <td>0.0</td>\n",
       "      <td>1757.188232</td>\n",
       "      <td>1654.943359</td>\n",
       "      <td>GK</td>\n",
       "      <td>9.0</td>\n",
       "      <td>11.295546</td>\n",
       "    </tr>\n",
       "    <tr>\n",
       "      <th>171</th>\n",
       "      <td>José Malheiro de Sá</td>\n",
       "      <td>37</td>\n",
       "      <td>2022-23</td>\n",
       "      <td>Wolves</td>\n",
       "      <td>Everton</td>\n",
       "      <td>1.0</td>\n",
       "      <td>1726.977295</td>\n",
       "      <td>1699.427124</td>\n",
       "      <td>GK</td>\n",
       "      <td>0.0</td>\n",
       "      <td>7.412800</td>\n",
       "    </tr>\n",
       "    <tr>\n",
       "      <th>135</th>\n",
       "      <td>Illan Meslier</td>\n",
       "      <td>32</td>\n",
       "      <td>2022-23</td>\n",
       "      <td>Leeds United</td>\n",
       "      <td>Fulham</td>\n",
       "      <td>0.0</td>\n",
       "      <td>1682.987427</td>\n",
       "      <td>1719.543945</td>\n",
       "      <td>GK</td>\n",
       "      <td>3.0</td>\n",
       "      <td>5.473634</td>\n",
       "    </tr>\n",
       "    <tr>\n",
       "      <th>144</th>\n",
       "      <td>Jason Steele</td>\n",
       "      <td>35</td>\n",
       "      <td>2022-23</td>\n",
       "      <td>Brighton</td>\n",
       "      <td>Everton</td>\n",
       "      <td>1.0</td>\n",
       "      <td>1834.817749</td>\n",
       "      <td>1670.439819</td>\n",
       "      <td>GK</td>\n",
       "      <td>-2.0</td>\n",
       "      <td>4.969477</td>\n",
       "    </tr>\n",
       "    <tr>\n",
       "      <th>250</th>\n",
       "      <td>Sam Johnstone</td>\n",
       "      <td>33</td>\n",
       "      <td>2022-23</td>\n",
       "      <td>Crystal Palace</td>\n",
       "      <td>Wolves</td>\n",
       "      <td>0.0</td>\n",
       "      <td>1756.213135</td>\n",
       "      <td>1719.007446</td>\n",
       "      <td>GK</td>\n",
       "      <td>0.0</td>\n",
       "      <td>4.853039</td>\n",
       "    </tr>\n",
       "    <tr>\n",
       "      <th>22</th>\n",
       "      <td>Alisson Ramses Becker</td>\n",
       "      <td>37</td>\n",
       "      <td>2022-23</td>\n",
       "      <td>Liverpool</td>\n",
       "      <td>Aston Villa</td>\n",
       "      <td>1.0</td>\n",
       "      <td>1958.159424</td>\n",
       "      <td>1815.086426</td>\n",
       "      <td>GK</td>\n",
       "      <td>2.0</td>\n",
       "      <td>4.565722</td>\n",
       "    </tr>\n",
       "    <tr>\n",
       "      <th>109</th>\n",
       "      <td>Emiliano Martínez Romero</td>\n",
       "      <td>32</td>\n",
       "      <td>2022-23</td>\n",
       "      <td>Aston Villa</td>\n",
       "      <td>Brentford</td>\n",
       "      <td>0.0</td>\n",
       "      <td>1812.850708</td>\n",
       "      <td>1766.344727</td>\n",
       "      <td>GK</td>\n",
       "      <td>1.0</td>\n",
       "      <td>4.481827</td>\n",
       "    </tr>\n",
       "    <tr>\n",
       "      <th>226</th>\n",
       "      <td>Norberto Murara Neto</td>\n",
       "      <td>35</td>\n",
       "      <td>2022-23</td>\n",
       "      <td>Bournemouth</td>\n",
       "      <td>Chelsea</td>\n",
       "      <td>1.0</td>\n",
       "      <td>1681.843018</td>\n",
       "      <td>1787.411499</td>\n",
       "      <td>GK</td>\n",
       "      <td>1.0</td>\n",
       "      <td>4.440641</td>\n",
       "    </tr>\n",
       "    <tr>\n",
       "      <th>132</th>\n",
       "      <td>Hugo Lloris</td>\n",
       "      <td>31</td>\n",
       "      <td>2022-23</td>\n",
       "      <td>Tottenham</td>\n",
       "      <td>Bournemouth</td>\n",
       "      <td>1.0</td>\n",
       "      <td>1854.798462</td>\n",
       "      <td>1668.258545</td>\n",
       "      <td>GK</td>\n",
       "      <td>2.0</td>\n",
       "      <td>4.398360</td>\n",
       "    </tr>\n",
       "    <tr>\n",
       "      <th>157</th>\n",
       "      <td>Jordan Pickford</td>\n",
       "      <td>31</td>\n",
       "      <td>2022-23</td>\n",
       "      <td>Everton</td>\n",
       "      <td>Fulham</td>\n",
       "      <td>1.0</td>\n",
       "      <td>1690.919678</td>\n",
       "      <td>1713.854858</td>\n",
       "      <td>GK</td>\n",
       "      <td>2.0</td>\n",
       "      <td>4.354203</td>\n",
       "    </tr>\n",
       "    <tr>\n",
       "      <th>169</th>\n",
       "      <td>José Malheiro de Sá</td>\n",
       "      <td>35</td>\n",
       "      <td>2022-23</td>\n",
       "      <td>Wolves</td>\n",
       "      <td>Aston Villa</td>\n",
       "      <td>1.0</td>\n",
       "      <td>1718.182007</td>\n",
       "      <td>1811.740356</td>\n",
       "      <td>GK</td>\n",
       "      <td>9.0</td>\n",
       "      <td>4.342271</td>\n",
       "    </tr>\n",
       "    <tr>\n",
       "      <th>192</th>\n",
       "      <td>Lukasz Fabianski</td>\n",
       "      <td>33</td>\n",
       "      <td>2022-23</td>\n",
       "      <td>West Ham</td>\n",
       "      <td>Liverpool</td>\n",
       "      <td>1.0</td>\n",
       "      <td>1774.066772</td>\n",
       "      <td>1931.599731</td>\n",
       "      <td>GK</td>\n",
       "      <td>1.0</td>\n",
       "      <td>4.304622</td>\n",
       "    </tr>\n",
       "    <tr>\n",
       "      <th>225</th>\n",
       "      <td>Norberto Murara Neto</td>\n",
       "      <td>34</td>\n",
       "      <td>2022-23</td>\n",
       "      <td>Bournemouth</td>\n",
       "      <td>Leeds United</td>\n",
       "      <td>1.0</td>\n",
       "      <td>1669.811157</td>\n",
       "      <td>1677.227539</td>\n",
       "      <td>GK</td>\n",
       "      <td>3.0</td>\n",
       "      <td>4.301661</td>\n",
       "    </tr>\n",
       "    <tr>\n",
       "      <th>167</th>\n",
       "      <td>José Malheiro de Sá</td>\n",
       "      <td>33</td>\n",
       "      <td>2022-23</td>\n",
       "      <td>Wolves</td>\n",
       "      <td>Crystal Palace</td>\n",
       "      <td>1.0</td>\n",
       "      <td>1719.007446</td>\n",
       "      <td>1756.213135</td>\n",
       "      <td>GK</td>\n",
       "      <td>8.0</td>\n",
       "      <td>4.252466</td>\n",
       "    </tr>\n",
       "  </tbody>\n",
       "</table>\n",
       "</div>"
      ],
      "text/plain": [
       "                Name_original  GW   Season            Team        Opponent  \\\n",
       "61             Daniel Bentley  37  2022-23          Wolves         Everton   \n",
       "248             Sam Johnstone  31  2022-23  Crystal Palace     Southampton   \n",
       "171       José Malheiro de Sá  37  2022-23          Wolves         Everton   \n",
       "135             Illan Meslier  32  2022-23    Leeds United          Fulham   \n",
       "144              Jason Steele  35  2022-23        Brighton         Everton   \n",
       "250             Sam Johnstone  33  2022-23  Crystal Palace          Wolves   \n",
       "22      Alisson Ramses Becker  37  2022-23       Liverpool     Aston Villa   \n",
       "109  Emiliano Martínez Romero  32  2022-23     Aston Villa       Brentford   \n",
       "226      Norberto Murara Neto  35  2022-23     Bournemouth         Chelsea   \n",
       "132               Hugo Lloris  31  2022-23       Tottenham     Bournemouth   \n",
       "157           Jordan Pickford  31  2022-23         Everton          Fulham   \n",
       "169       José Malheiro de Sá  35  2022-23          Wolves     Aston Villa   \n",
       "192          Lukasz Fabianski  33  2022-23        West Ham       Liverpool   \n",
       "225      Norberto Murara Neto  34  2022-23     Bournemouth    Leeds United   \n",
       "167       José Malheiro de Sá  33  2022-23          Wolves  Crystal Palace   \n",
       "\n",
       "     Was_home  Team_rating   Opp_rating FPL_pos  FPL_points       Pred  \n",
       "61        1.0  1726.977295  1699.427124      GK         3.0  12.218934  \n",
       "248       0.0  1757.188232  1654.943359      GK         9.0  11.295546  \n",
       "171       1.0  1726.977295  1699.427124      GK         0.0   7.412800  \n",
       "135       0.0  1682.987427  1719.543945      GK         3.0   5.473634  \n",
       "144       1.0  1834.817749  1670.439819      GK        -2.0   4.969477  \n",
       "250       0.0  1756.213135  1719.007446      GK         0.0   4.853039  \n",
       "22        1.0  1958.159424  1815.086426      GK         2.0   4.565722  \n",
       "109       0.0  1812.850708  1766.344727      GK         1.0   4.481827  \n",
       "226       1.0  1681.843018  1787.411499      GK         1.0   4.440641  \n",
       "132       1.0  1854.798462  1668.258545      GK         2.0   4.398360  \n",
       "157       1.0  1690.919678  1713.854858      GK         2.0   4.354203  \n",
       "169       1.0  1718.182007  1811.740356      GK         9.0   4.342271  \n",
       "192       1.0  1774.066772  1931.599731      GK         1.0   4.304622  \n",
       "225       1.0  1669.811157  1677.227539      GK         3.0   4.301661  \n",
       "167       1.0  1719.007446  1756.213135      GK         8.0   4.252466  "
      ]
     },
     "execution_count": 41,
     "metadata": {},
     "output_type": "execute_result"
    }
   ],
   "source": [
    "preds_all_gameweeks.head(15)"
   ]
  },
  {
   "cell_type": "code",
   "execution_count": 42,
   "id": "64cc1e96-c3b9-4140-ac1f-4ef3517dcc14",
   "metadata": {},
   "outputs": [
    {
     "data": {
      "text/html": [
       "<div>\n",
       "<style scoped>\n",
       "    .dataframe tbody tr th:only-of-type {\n",
       "        vertical-align: middle;\n",
       "    }\n",
       "\n",
       "    .dataframe tbody tr th {\n",
       "        vertical-align: top;\n",
       "    }\n",
       "\n",
       "    .dataframe thead th {\n",
       "        text-align: right;\n",
       "    }\n",
       "</style>\n",
       "<table border=\"1\" class=\"dataframe\">\n",
       "  <thead>\n",
       "    <tr style=\"text-align: right;\">\n",
       "      <th></th>\n",
       "      <th>Name_original</th>\n",
       "      <th>GW</th>\n",
       "      <th>Season</th>\n",
       "      <th>Team</th>\n",
       "      <th>Opponent</th>\n",
       "      <th>Was_home</th>\n",
       "      <th>Team_rating</th>\n",
       "      <th>Opp_rating</th>\n",
       "      <th>FPL_pos</th>\n",
       "      <th>FPL_points</th>\n",
       "      <th>Pred</th>\n",
       "    </tr>\n",
       "  </thead>\n",
       "  <tbody>\n",
       "    <tr>\n",
       "      <th>94</th>\n",
       "      <td>Ederson Santana de Moraes</td>\n",
       "      <td>34</td>\n",
       "      <td>2022-23</td>\n",
       "      <td>Manchester City</td>\n",
       "      <td>Fulham</td>\n",
       "      <td>0.0</td>\n",
       "      <td>2067.576904</td>\n",
       "      <td>1720.540771</td>\n",
       "      <td>GK</td>\n",
       "      <td>1.0</td>\n",
       "      <td>4.000314</td>\n",
       "    </tr>\n",
       "    <tr>\n",
       "      <th>92</th>\n",
       "      <td>Ederson Santana de Moraes</td>\n",
       "      <td>31</td>\n",
       "      <td>2022-23</td>\n",
       "      <td>Manchester City</td>\n",
       "      <td>Leicester City</td>\n",
       "      <td>1.0</td>\n",
       "      <td>2063.473633</td>\n",
       "      <td>1725.040527</td>\n",
       "      <td>GK</td>\n",
       "      <td>3.0</td>\n",
       "      <td>3.535930</td>\n",
       "    </tr>\n",
       "    <tr>\n",
       "      <th>93</th>\n",
       "      <td>Ederson Santana de Moraes</td>\n",
       "      <td>33</td>\n",
       "      <td>2022-23</td>\n",
       "      <td>Manchester City</td>\n",
       "      <td>Arsenal</td>\n",
       "      <td>1.0</td>\n",
       "      <td>2060.745117</td>\n",
       "      <td>1938.854858</td>\n",
       "      <td>GK</td>\n",
       "      <td>2.0</td>\n",
       "      <td>3.127562</td>\n",
       "    </tr>\n",
       "    <tr>\n",
       "      <th>97</th>\n",
       "      <td>Ederson Santana de Moraes</td>\n",
       "      <td>37</td>\n",
       "      <td>2022-23</td>\n",
       "      <td>Manchester City</td>\n",
       "      <td>Chelsea</td>\n",
       "      <td>1.0</td>\n",
       "      <td>2090.251709</td>\n",
       "      <td>1797.171265</td>\n",
       "      <td>GK</td>\n",
       "      <td>0.0</td>\n",
       "      <td>2.993633</td>\n",
       "    </tr>\n",
       "    <tr>\n",
       "      <th>98</th>\n",
       "      <td>Ederson Santana de Moraes</td>\n",
       "      <td>32</td>\n",
       "      <td>2022-23</td>\n",
       "      <td>Manchester City</td>\n",
       "      <td>Brighton</td>\n",
       "      <td>0.0</td>\n",
       "      <td>2091.929932</td>\n",
       "      <td>1829.306519</td>\n",
       "      <td>GK</td>\n",
       "      <td>0.0</td>\n",
       "      <td>0.824577</td>\n",
       "    </tr>\n",
       "    <tr>\n",
       "      <th>96</th>\n",
       "      <td>Ederson Santana de Moraes</td>\n",
       "      <td>36</td>\n",
       "      <td>2022-23</td>\n",
       "      <td>Manchester City</td>\n",
       "      <td>Everton</td>\n",
       "      <td>0.0</td>\n",
       "      <td>2074.110596</td>\n",
       "      <td>1697.794434</td>\n",
       "      <td>GK</td>\n",
       "      <td>8.0</td>\n",
       "      <td>0.558706</td>\n",
       "    </tr>\n",
       "    <tr>\n",
       "      <th>95</th>\n",
       "      <td>Ederson Santana de Moraes</td>\n",
       "      <td>35</td>\n",
       "      <td>2022-23</td>\n",
       "      <td>Manchester City</td>\n",
       "      <td>Leeds United</td>\n",
       "      <td>1.0</td>\n",
       "      <td>2072.109375</td>\n",
       "      <td>1665.195679</td>\n",
       "      <td>GK</td>\n",
       "      <td>2.0</td>\n",
       "      <td>0.520011</td>\n",
       "    </tr>\n",
       "    <tr>\n",
       "      <th>99</th>\n",
       "      <td>Ederson Santana de Moraes</td>\n",
       "      <td>38</td>\n",
       "      <td>2022-23</td>\n",
       "      <td>Manchester City</td>\n",
       "      <td>Brentford</td>\n",
       "      <td>0.0</td>\n",
       "      <td>2086.425293</td>\n",
       "      <td>1809.881592</td>\n",
       "      <td>GK</td>\n",
       "      <td>3.0</td>\n",
       "      <td>0.404444</td>\n",
       "    </tr>\n",
       "  </tbody>\n",
       "</table>\n",
       "</div>"
      ],
      "text/plain": [
       "                Name_original  GW   Season             Team        Opponent  \\\n",
       "94  Ederson Santana de Moraes  34  2022-23  Manchester City          Fulham   \n",
       "92  Ederson Santana de Moraes  31  2022-23  Manchester City  Leicester City   \n",
       "93  Ederson Santana de Moraes  33  2022-23  Manchester City         Arsenal   \n",
       "97  Ederson Santana de Moraes  37  2022-23  Manchester City         Chelsea   \n",
       "98  Ederson Santana de Moraes  32  2022-23  Manchester City        Brighton   \n",
       "96  Ederson Santana de Moraes  36  2022-23  Manchester City         Everton   \n",
       "95  Ederson Santana de Moraes  35  2022-23  Manchester City    Leeds United   \n",
       "99  Ederson Santana de Moraes  38  2022-23  Manchester City       Brentford   \n",
       "\n",
       "    Was_home  Team_rating   Opp_rating FPL_pos  FPL_points      Pred  \n",
       "94       0.0  2067.576904  1720.540771      GK         1.0  4.000314  \n",
       "92       1.0  2063.473633  1725.040527      GK         3.0  3.535930  \n",
       "93       1.0  2060.745117  1938.854858      GK         2.0  3.127562  \n",
       "97       1.0  2090.251709  1797.171265      GK         0.0  2.993633  \n",
       "98       0.0  2091.929932  1829.306519      GK         0.0  0.824577  \n",
       "96       0.0  2074.110596  1697.794434      GK         8.0  0.558706  \n",
       "95       1.0  2072.109375  1665.195679      GK         2.0  0.520011  \n",
       "99       0.0  2086.425293  1809.881592      GK         3.0  0.404444  "
      ]
     },
     "execution_count": 42,
     "metadata": {},
     "output_type": "execute_result"
    }
   ],
   "source": [
    "preds_all_gameweeks[preds_all_gameweeks[\"Team\"] == \"Manchester City\"].head(20)"
   ]
  },
  {
   "cell_type": "markdown",
   "id": "e58b989a-0632-49d7-b3af-418ce8d6a3b5",
   "metadata": {},
   "source": [
    "# Saving to file"
   ]
  },
  {
   "cell_type": "code",
   "execution_count": 43,
   "id": "8383d841-c3c5-4466-b896-447c645d5d6a",
   "metadata": {},
   "outputs": [],
   "source": [
    "preds_all_gameweeks.to_csv(\"predictions/all_predictions_gk.csv\", index=False)"
   ]
  },
  {
   "cell_type": "code",
   "execution_count": 44,
   "id": "fd95c3e5-c311-4740-a54e-efaa267fbefd",
   "metadata": {},
   "outputs": [],
   "source": [
    "pickle.dump(model, open(\"models/GBR_gk.pkl\", 'wb'))"
   ]
  },
  {
   "cell_type": "markdown",
   "id": "3ed6461a-a67a-4068-984b-c17e9a1d8c7b",
   "metadata": {},
   "source": [
    "# Feature importance and influence"
   ]
  },
  {
   "cell_type": "code",
   "execution_count": 45,
   "id": "c90e9b27-43c3-4253-830d-53c3532c5197",
   "metadata": {},
   "outputs": [
    {
     "name": "stderr",
     "output_type": "stream",
     "text": [
      "Permutation explainer: 270it [00:22,  7.48it/s]                                                                                                     \n"
     ]
    }
   ],
   "source": [
    "explainer = shap.Explainer(model.predict, X_test_all_remaining)\n",
    "shap_values = explainer(X_test_all_remaining)"
   ]
  },
  {
   "cell_type": "code",
   "execution_count": 46,
   "id": "f73757e7-4125-4657-8b78-914b5324a9e9",
   "metadata": {},
   "outputs": [
    {
     "data": {
      "image/png": "[encoded data removed]",
      "text/plain": [
       "<Figure size 576x504 with 1 Axes>"
      ]
     },
     "metadata": {},
     "output_type": "display_data"
    }
   ],
   "source": [
    "shap.plots.bar(shap_values, max_display=15)"
   ]
  },
  {
   "cell_type": "code",
   "execution_count": 47,
   "id": "4d1a6591-e086-4156-a51a-3ccfd3489561",
   "metadata": {},
   "outputs": [
    {
     "data": {
      "image/png": "[encoded data removed]",
      "text/plain": [
       "<Figure size 576x424.8 with 2 Axes>"
      ]
     },
     "metadata": {
      "needs_background": "light"
     },
     "output_type": "display_data"
    }
   ],
   "source": [
    "shap.plots.beeswarm(shap_values, max_display=15)"
   ]
  },
  {
   "cell_type": "code",
   "execution_count": 48,
   "id": "b1d832a7-6e45-4286-a102-029a56916c45",
   "metadata": {},
   "outputs": [
    {
     "data": {
      "image/png": "[encoded data removed]",
      "text/plain": [
       "<Figure size 576x504 with 1 Axes>"
      ]
     },
     "metadata": {},
     "output_type": "display_data"
    }
   ],
   "source": [
    "# explaining Erling Haaland`s score in gameweek 30\n",
    "shap.plots.bar(shap_values[99], max_display=15)"
   ]
  },
  {
   "cell_type": "code",
   "execution_count": null,
   "id": "e76c089c-ac6b-4a1d-993a-55ec3c5bfa8a",
   "metadata": {},
   "outputs": [],
   "source": []
  }
 ],
 "metadata": {
  "kernelspec": {
   "display_name": "Python 3 (ipykernel)",
   "language": "python",
   "name": "python3"
  },
  "language_info": {
   "codemirror_mode": {
    "name": "ipython",
    "version": 3
   },
   "file_extension": ".py",
   "mimetype": "text/x-python",
   "name": "python",
   "nbconvert_exporter": "python",
   "pygments_lexer": "ipython3",
   "version": "3.8.0"
  }
 },
 "nbformat": 4,
 "nbformat_minor": 5
}
