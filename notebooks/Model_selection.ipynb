{
 "cells": [
  {
   "cell_type": "markdown",
   "id": "e61cf721-96f7-4f7c-a5c5-343917267d91",
   "metadata": {},
   "source": [
    "\n",
    "# Imports"
   ]
  },
  {
   "cell_type": "code",
   "execution_count": null,
   "id": "c2b67ee7-f81a-4a96-bd38-8149efc725cf",
   "metadata": {},
   "outputs": [],
   "source": [
    "import os\n",
    "os.chdir(\"D:\\PulpitE\\FPL_ML\")"
   ]
  },
  {
   "cell_type": "code",
   "execution_count": null,
   "id": "3f447fc0-41e6-4c50-967e-2cc314a1e81f",
   "metadata": {},
   "outputs": [],
   "source": [
    "import matplotlib.pyplot as plt\n",
    "import pandas as pd\n",
    "import numpy as np\n",
    "import shap\n",
    "\n",
    "from sklearn.ensemble import GradientBoostingRegressor\n",
    "from sklearn.linear_model import SGDRegressor\n",
    "from xgboost import XGBRegressor\n",
    "from sklearn.ensemble import AdaBoostRegressor\n",
    "from sklearn.linear_model import ElasticNet\n",
    "from sklearn.neighbors import KNeighborsRegressor\n",
    "from sklearn.ensemble import RandomForestRegressor\n",
    "from sklearn.svm import SVR\n",
    "from lightgbm import LGBMRegressor\n",
    "\n",
    "from statistics import mean\n",
    "from scipy.stats import tmean\n",
    "from sklearn.metrics import mean_absolute_error, mean_squared_error\n",
    "\n",
    "from sklearn.preprocessing import LabelEncoder\n",
    "from xgboost import plot_importance\n",
    "from sklearn.inspection import plot_partial_dependence"
   ]
  },
  {
   "cell_type": "code",
   "execution_count": null,
   "id": "217927df-909e-4a95-9e59-651d57e312db",
   "metadata": {},
   "outputs": [],
   "source": [
    "# loading csv\n",
    "df_original = pd.read_csv('data/final_dataset.csv').drop(\"Unnamed: 0\", axis=1)\n",
    "\n",
    "df = df_original.copy()"
   ]
  },
  {
   "cell_type": "code",
   "execution_count": null,
   "id": "5cb7bf65-349a-41e0-a292-57068e080a71",
   "metadata": {},
   "outputs": [],
   "source": [
    "# df_original[df_original[\"Name\"] == \"Mohamed-Salah\"].groupby([\"Pos\"]).mean()[\"Total Points\"]"
   ]
  },
  {
   "cell_type": "code",
   "execution_count": null,
   "id": "cf3dd6ae-ffd6-4a9c-8fa4-a61d313f793c",
   "metadata": {},
   "outputs": [],
   "source": [
    "df.columns"
   ]
  },
  {
   "cell_type": "markdown",
   "id": "fe7a4ac1-336c-4ea4-ad91-24489c66e789",
   "metadata": {},
   "source": [
    "# Preparing dataset"
   ]
  },
  {
   "cell_type": "code",
   "execution_count": null,
   "id": "66b7afe7-5607-45e9-824f-6bd834691076",
   "metadata": {},
   "outputs": [],
   "source": [
    "# features = [\"Was Home\", \"Team rating\", \"Opp rating\", 'ScoreForLast5', 'ScoreAgainstLast5', \n",
    "#         'MinAvgOverall', 'GlsAvgOverall',\n",
    "#        'AstAvgOverall', 'CrdYAvgOverall', 'CrdRAvgOverall', 'xGAvgOverall',\n",
    "#        'xAGAvgOverall', 'CSAvgOverall', 'Team ScoreAvgOverall',\n",
    "#        'Opp ScoreAvgOverall']"
   ]
  },
  {
   "cell_type": "code",
   "execution_count": null,
   "id": "da07449d-3b7f-49f2-bd03-563846abec7b",
   "metadata": {},
   "outputs": [],
   "source": [
    "def calculate_xg_points(row):\n",
    "    if row[\"FPL position\"] == \"GK\":\n",
    "        return row[\"xG\"] * 6\n",
    "    elif row[\"FPL position\"] == \"DEF\":\n",
    "        return row[\"xG\"] * 6\n",
    "    elif row[\"FPL position\"] == \"MID\":\n",
    "        return row[\"xG\"] * 5\n",
    "    elif row[\"FPL position\"] == \"FWD\":\n",
    "        return row[\"xG\"] * 4\n",
    "    else:\n",
    "        return row[\"xG\"] * 5\n",
    "\n",
    "df[\"xGPoints\"] = df.apply(calculate_xg_points, axis=1)"
   ]
  },
  {
   "cell_type": "code",
   "execution_count": null,
   "id": "9b278ffd-e7d7-47fe-88a0-47d9598fa159",
   "metadata": {},
   "outputs": [],
   "source": [
    "def calculate_cs_points(row):\n",
    "    if row[\"FPL position\"] == \"GK\":\n",
    "        return row[\"xG\"] * 4\n",
    "    elif row[\"FPL position\"] == \"DEF\":\n",
    "        return row[\"xG\"] * 4\n",
    "    elif row[\"FPL position\"] == \"MID\":\n",
    "        return row[\"xG\"] * 1\n",
    "    elif row[\"FPL position\"] == \"FWD\":\n",
    "        return row[\"xG\"] * 0\n",
    "    else:\n",
    "        return row[\"xG\"] * 1\n",
    "\n",
    "df[\"CSPoints\"] = df.apply(calculate_cs_points, axis=1)"
   ]
  },
  {
   "cell_type": "code",
   "execution_count": null,
   "id": "7337f459-8099-4bbc-945a-82eb6928fa4d",
   "metadata": {},
   "outputs": [],
   "source": [
    "to_predict = [\"Total Points\"]\n",
    "features1 = [\"Was Home\", \"Team rating\", \"Opp rating\", \n",
    "             # 'ScoreForLast5', 'ScoreAgainstLast5',\n",
    "             ]\n",
    "features_to_roll = [\n",
    "                \"Min\", \"Start\",\n",
    "                'Gls', 'Ast', 'Sh',\n",
    "                'SoT', 'CrdY', 'CrdR', 'xAG', \n",
    "                # 'CS', \"xG\",\n",
    "                'Team Score', 'Opp Score',\n",
    "                \"xGPoints\", \"CSPoints\",\n",
    "                # \"Cmp%\", \"PrgP\", \"PrgC\", \"Succ\", \"PKwon\",\n",
    "                \"Total Points\"\n",
    "            ]\n",
    "info = [\"Name\", \"GW\", \"Season\", \"Squad\", \"Opponent\", \"Was Home\", \"Team rating\", \"Opp rating\", \"FPL position\"]"
   ]
  },
  {
   "cell_type": "code",
   "execution_count": null,
   "id": "2fe53aca-b1c7-4f24-87ae-81fe1ab6f532",
   "metadata": {},
   "outputs": [],
   "source": [
    "def add_rolling_features(df, features1, features_to_roll):\n",
    "    rolling_gameweeks = [2,5]\n",
    "    features = features1\n",
    "    \n",
    "    for r in rolling_gameweeks:\n",
    "        form_means = df.groupby([\"Name\"])[features_to_roll].rolling(r, min_periods=1).mean().reset_index()\n",
    "        form_means = form_means.shift(1)\n",
    "        \n",
    "        form_means.columns = [f'{col}{\"_\"}{r}' for col in form_means.columns]\n",
    "        features += form_means.columns.tolist()\n",
    "        features = list(filter(lambda x: x not in [\"Name_\" + str(r)], features))\n",
    "        df = pd.concat([df, form_means], axis=1)\n",
    "        \n",
    "    return df, features"
   ]
  },
  {
   "cell_type": "code",
   "execution_count": null,
   "id": "2e46c21c-3984-42e5-a6ff-a4118cb1f802",
   "metadata": {},
   "outputs": [],
   "source": [
    "def ohe(df, ohe_columns, features):\n",
    "    # one hot encoding\n",
    "    for c in ohe_columns:\n",
    "        ohe_c = pd.get_dummies(df[c], dtype=\"int64\")\n",
    "        df = pd.concat([df, ohe_c], axis=1)\n",
    "        df = df.drop(c, axis=1)\n",
    "\n",
    "        features += ohe_c.columns.tolist()\n",
    "        \n",
    "    return df, features"
   ]
  },
  {
   "cell_type": "code",
   "execution_count": null,
   "id": "026526dc-1fdd-4eb4-854e-c3e383197574",
   "metadata": {},
   "outputs": [],
   "source": [
    "def label_encoding(df, column_to_encode):\n",
    "    \n",
    "    mapping_dict = {\n",
    "        'Y': 2,\n",
    "        'Y*': 1,\n",
    "        'N': 0,\n",
    "    }\n",
    "    \n",
    "    df[column_to_encode] = df[column_to_encode].map(mapping_dict)\n",
    "    \n",
    "    return df"
   ]
  },
  {
   "cell_type": "code",
   "execution_count": null,
   "id": "c963831b-e2ec-4958-b2da-99c9eb5cf759",
   "metadata": {},
   "outputs": [],
   "source": [
    "df, features = add_rolling_features(df, features1, features_to_roll)"
   ]
  },
  {
   "cell_type": "code",
   "execution_count": null,
   "id": "b0dd88c1-dbbe-41f8-8159-b8e73f7f5c0d",
   "metadata": {},
   "outputs": [],
   "source": [
    "df, features = ohe(df, [\"FPL position\"], features)"
   ]
  },
  {
   "cell_type": "code",
   "execution_count": null,
   "id": "dc05870f-c6a1-4340-b061-6b0f9da5ff46",
   "metadata": {},
   "outputs": [],
   "source": [
    "df = label_encoding(df, \"Start\")"
   ]
  },
  {
   "cell_type": "code",
   "execution_count": null,
   "id": "871534cf-bd8d-49ed-bb56-d3ffaa9d8478",
   "metadata": {},
   "outputs": [],
   "source": [
    "df = df[np.unique(features + info + to_predict)]"
   ]
  },
  {
   "cell_type": "code",
   "execution_count": null,
   "id": "269a1373-9fbd-4aa3-a095-5ad1c74be587",
   "metadata": {},
   "outputs": [],
   "source": [
    "df = df[pd.to_numeric(df[\"GW\"], errors=\"coerce\").notna()]\n",
    "df[\"GW\"] = df[\"GW\"].astype(\"uint64\")"
   ]
  },
  {
   "cell_type": "code",
   "execution_count": null,
   "id": "dbd5108b-c4b3-4268-9a8d-6e0ebdbe7a8d",
   "metadata": {},
   "outputs": [],
   "source": [
    "# dropping NaNs\n",
    "df = df.dropna(axis=0)"
   ]
  },
  {
   "cell_type": "code",
   "execution_count": null,
   "id": "eb1b8f09-495e-4f39-abec-238b6ff2d3d2",
   "metadata": {},
   "outputs": [],
   "source": [
    "df = df.set_index([\"Name\", \"Season\", \"GW\"], drop=False)"
   ]
  },
  {
   "cell_type": "code",
   "execution_count": null,
   "id": "aa7edd40-4433-4d9d-bc95-747fd5fcc118",
   "metadata": {},
   "outputs": [],
   "source": [
    "df.columns"
   ]
  },
  {
   "cell_type": "markdown",
   "id": "fc895e8b-ed8c-4c03-89fe-eccde0b4c26e",
   "metadata": {},
   "source": [
    "# Choosing features and splitting data"
   ]
  },
  {
   "cell_type": "code",
   "execution_count": null,
   "id": "1a46a038-a0b2-4348-b87c-2ca15569f6eb",
   "metadata": {},
   "outputs": [],
   "source": [
    "GAMEWEEK_TO_PREDICT = 31\n",
    "SEASON_TO_PREDICT = \"2022-23\""
   ]
  },
  {
   "cell_type": "code",
   "execution_count": null,
   "id": "45b9f614-d91d-491f-b5d0-d278db561c2d",
   "metadata": {},
   "outputs": [],
   "source": [
    "# gameweeks 6-14 is training data, gw 15 is test data\n",
    "X_train = df[((df[\"Season\"] <= SEASON_TO_PREDICT) & (df[\"GW\"] >= 1) & (df[\"GW\"] <= GAMEWEEK_TO_PREDICT - 1))][features].reset_index(drop=True)\n",
    "y_train = df[((df[\"Season\"] <= SEASON_TO_PREDICT) & (df[\"GW\"] >= 1) & (df[\"GW\"] <= GAMEWEEK_TO_PREDICT - 1))][to_predict].reset_index(drop=True)"
   ]
  },
  {
   "cell_type": "code",
   "execution_count": null,
   "id": "7996012d-2bf5-45da-a29e-e75932313172",
   "metadata": {},
   "outputs": [],
   "source": [
    "X_test = df[(df[\"GW\"] == GAMEWEEK_TO_PREDICT) & (df[\"Season\"] == SEASON_TO_PREDICT) ][features].reset_index(drop=True)\n",
    "y_test = df[(df[\"GW\"] == GAMEWEEK_TO_PREDICT) & (df[\"Season\"] == SEASON_TO_PREDICT) ][to_predict].reset_index(drop=True)"
   ]
  },
  {
   "cell_type": "code",
   "execution_count": null,
   "id": "dcf0a862-ff68-4236-8fcb-dcf5e8ebe29f",
   "metadata": {},
   "outputs": [],
   "source": [
    "X_train.shape, X_test.shape"
   ]
  },
  {
   "cell_type": "markdown",
   "id": "bd2b3df9-363d-4c0a-8a1b-ce561ee29b23",
   "metadata": {},
   "source": [
    "# Model"
   ]
  },
  {
   "cell_type": "code",
   "execution_count": null,
   "id": "6e50771d-93f9-4474-9cfa-a02cfde8c162",
   "metadata": {},
   "outputs": [],
   "source": [
    "class HybridModel:\n",
    "    def __init__(self, models, names, weights):\n",
    "        self.models = models\n",
    "        self.model_names = names\n",
    "        self.weights = weights\n",
    "    \n",
    "    def fit(self, X, y):\n",
    "        for model in self.models:\n",
    "            model.fit(X, y)\n",
    "        \n",
    "    def predict(self, X):\n",
    "        model_preds = [model.predict(X) for model in self.models]\n",
    "        preds = []\n",
    "        for i in range(len(model_preds[0])):\n",
    "            preds.append(np.mean([x[i] for x in model_preds]))\n",
    "        return preds\n",
    "    \n",
    "    def evaluate(self, X, y):\n",
    "        ys = [np.expm1(model.predict(X)) for model in self.models]\n",
    "        y_ensemble = self.predict(X)\n",
    "        \n",
    "        rmsle_ys = [(mean_squared_log_error(y, y_model) ** 0.5) for y_model in ys]\n",
    "        rmsle_ensemble = mean_squared_log_error(y, y_ensemble) ** 0.5\n",
    "        \n",
    "        for i in range(0, len(self.models)):\n",
    "            print(f\"RMSLE on {self.model_names[i]} model: {rmsle_ys[i]}\")\n",
    "        print(f\"RMSLE on ensemble model: {rmsle_ensemble}\")"
   ]
  },
  {
   "cell_type": "code",
   "execution_count": null,
   "id": "55b762b9-12bb-4b40-94f7-9c1681a8ad69",
   "metadata": {},
   "outputs": [],
   "source": [
    "lgbm = LGBMRegressor(random_state=42)\n",
    "xgb = XGBRegressor(random_state=42)\n",
    "gbr = GradientBoostingRegressor(random_state=42)\n",
    "\n",
    "names = [\n",
    "    \"LGBM\",\n",
    "    \"XGB\",\n",
    "    \"GBR\"\n",
    "]\n",
    "\n",
    "weights = [\n",
    "    1,\n",
    "    1,\n",
    "    1\n",
    "]\n",
    "\n",
    "# hybrid arguments\n",
    "models = [\n",
    "    lgbm, \n",
    "    xgb, \n",
    "    gbr\n",
    "]\n",
    "\n",
    "model = HybridModel(models, names, weights)"
   ]
  },
  {
   "cell_type": "code",
   "execution_count": null,
   "id": "869c69e0-56ad-4baf-a403-dcdc61f7adec",
   "metadata": {},
   "outputs": [],
   "source": [
    "# model = GradientBoostingRegressor(random_state=42)\n",
    "# model = LGBMRegressor(random_state=42)\n",
    "# model = XGBRegressor(random_state=42)\n",
    "# model = RandomForestRegressor()"
   ]
  },
  {
   "cell_type": "code",
   "execution_count": null,
   "id": "8531e1e4-92af-494b-b5b7-7a48f2796fa6",
   "metadata": {},
   "outputs": [],
   "source": [
    "%%time\n",
    "model.fit(X_train, np.array(y_train).ravel())"
   ]
  },
  {
   "cell_type": "markdown",
   "id": "438dc7ca-6134-429b-bd5e-4a99261c2781",
   "metadata": {},
   "source": [
    "# Evaluation"
   ]
  },
  {
   "cell_type": "code",
   "execution_count": null,
   "id": "6d8c65fd-59b4-46c6-b92a-a59358edff95",
   "metadata": {},
   "outputs": [],
   "source": [
    "# make predictions on the test data\n",
    "predictions = model.predict(X_test)"
   ]
  },
  {
   "cell_type": "code",
   "execution_count": null,
   "id": "ad049ca6-a774-4dc9-95f4-e981ba0ed254",
   "metadata": {},
   "outputs": [],
   "source": [
    "def pairwise_accuracy(predicted_scores, true_scores):\n",
    "    if len(predicted_scores) != len(true_scores):\n",
    "        raise ValueError(\"The length of predicted_scores and true_scores must be the same.\")\n",
    "\n",
    "    num_pairs = 0\n",
    "    num_correct_pairs = 0\n",
    "\n",
    "    for i in range(len(predicted_scores)):\n",
    "        for j in range(i + 1, len(predicted_scores)):\n",
    "            # Check if the predicted order matches the true order\n",
    "            if (predicted_scores[i] > predicted_scores[j] and true_scores[i] > true_scores[j]) or \\\n",
    "               (predicted_scores[i] < predicted_scores[j] and true_scores[i] < true_scores[j]):\n",
    "                num_correct_pairs += 1\n",
    "            num_pairs += 1\n",
    "\n",
    "    pairwise_accuracy = num_correct_pairs / num_pairs\n",
    "    return pairwise_accuracy"
   ]
  },
  {
   "cell_type": "code",
   "execution_count": null,
   "id": "bf22664f-1602-456b-a4bc-3e56cb02a6a6",
   "metadata": {},
   "outputs": [],
   "source": [
    "df_predictions = df[(df[\"GW\"] == GAMEWEEK_TO_PREDICT) & (df[\"Season\"] == SEASON_TO_PREDICT)].reset_index(drop=True)\n",
    "df_predictions.loc[:, \"pred\"] = predictions"
   ]
  },
  {
   "cell_type": "code",
   "execution_count": null,
   "id": "30d87d10-ae71-4fc6-aa37-455fa45be613",
   "metadata": {},
   "outputs": [],
   "source": [
    "def get_top_performer_names(df, no_top, no_gws):\n",
    "    return df.reset_index(drop=True).groupby(\"Name\")[\"Total Points\"].mean().groupby(\"Name\").tail(no_gws).sort_values(ascending=False).head(no_top).index.to_list()"
   ]
  },
  {
   "cell_type": "code",
   "execution_count": null,
   "id": "0dcbdf3b-8f16-432d-a9d4-ca4b93888927",
   "metadata": {},
   "outputs": [],
   "source": [
    "def pairwise_accuracy_topX(model, df, top_x):\n",
    "    top_performers = df[(df[\"GW\"] == GAMEWEEK_TO_PREDICT) & (df[\"Season\"] == SEASON_TO_PREDICT) & (df[\"Name\"].isin(get_top_performer_names(df, top_x, 50)))]\n",
    "    X = top_performers[features].reset_index(drop=True)\n",
    "    y = np.array(top_performers[to_predict].reset_index(drop=True))\n",
    "    preds = model.predict(X)\n",
    "    # print(preds)\n",
    "    # print(y)\n",
    "    \n",
    "    return  pairwise_accuracy(preds, y)"
   ]
  },
  {
   "cell_type": "code",
   "execution_count": null,
   "id": "2f9841b1-66d7-4b01-b878-a1a21114e9f9",
   "metadata": {},
   "outputs": [],
   "source": [
    "# df[(df[\"GW\"] == GAMEWEEK_TO_PREDICT) & (df[\"Season\"] == SEASON_TO_PREDICT) & (df[\"Name\"].isin(get_top_performer_names(df, 20, 50)))].columns"
   ]
  },
  {
   "cell_type": "code",
   "execution_count": null,
   "id": "83691e67-febd-4b46-bcd0-326aaecd7284",
   "metadata": {},
   "outputs": [],
   "source": [
    "mae = mean_absolute_error(y_test, predictions)\n",
    "mse = mean_squared_error(y_test, predictions)\n",
    "\n",
    "pairwise_acc = pairwise_accuracy(np.array(y_test), predictions)\n",
    "pairwise_accuracy_top20 = pairwise_accuracy_topX(model, df, 20)\n",
    "pairwise_accuracy_top100 = pairwise_accuracy_topX(model, df, 100)"
   ]
  },
  {
   "cell_type": "code",
   "execution_count": null,
   "id": "6f09c27b-0f51-4774-bcb0-bbe22b48a852",
   "metadata": {},
   "outputs": [],
   "source": [
    "print(\"MAE:\", mae)\n",
    "print(\"MSE:\", mse)\n",
    "print(\"Pairwise accuracy:\", pairwise_acc)\n",
    "print(\"Pairwise accuracy @TOP100:\", pairwise_accuracy_top100)\n",
    "print(\"Pairwise accuracy @TOP20:\", pairwise_accuracy_top20)"
   ]
  },
  {
   "cell_type": "code",
   "execution_count": null,
   "id": "f5cf7c0e-b7d8-483d-b565-fc1260f26f1e",
   "metadata": {},
   "outputs": [],
   "source": [
    "# df[df[\"Name\"] == \"Abdoulaye-Doucoure\"][info]"
   ]
  },
  {
   "cell_type": "code",
   "execution_count": null,
   "id": "1de0dbe5-2b5f-472d-9f2d-2300dab2b19c",
   "metadata": {},
   "outputs": [],
   "source": [
    "# model.predict(df[df[\"GW\"] == GAMEWEEK_TO_PREDICT][df[\"Name\"] == \"Mohamed-Salah\"][features])"
   ]
  },
  {
   "cell_type": "code",
   "execution_count": null,
   "id": "df65adae-80ea-4963-9a60-20cd64f7ae1c",
   "metadata": {},
   "outputs": [],
   "source": [
    "preds = df_predictions[info + to_predict + [\"pred\"]].sort_values(by=[\"pred\"], ascending = False)"
   ]
  },
  {
   "cell_type": "code",
   "execution_count": null,
   "id": "6df93768-16bb-495b-94ab-f240d07e9b4e",
   "metadata": {},
   "outputs": [],
   "source": [
    "preds.head(30)"
   ]
  },
  {
   "cell_type": "code",
   "execution_count": null,
   "id": "3fe1c712-ea38-4a91-9717-d4f520ffcb82",
   "metadata": {},
   "outputs": [],
   "source": [
    "preds[preds[\"Squad\"] == \"Manchester City\"].head(20)"
   ]
  },
  {
   "cell_type": "code",
   "execution_count": null,
   "id": "59f25158-05b0-41d2-ad7d-2eb99aafc1e2",
   "metadata": {},
   "outputs": [],
   "source": [
    "preds[preds[\"FPL position\"] == \"FWD\"].head(10)"
   ]
  },
  {
   "cell_type": "markdown",
   "id": "3ed6461a-a67a-4068-984b-c17e9a1d8c7b",
   "metadata": {},
   "source": [
    "# Feature importance and influence"
   ]
  },
  {
   "cell_type": "code",
   "execution_count": null,
   "id": "7f0acc94-8661-4933-926c-859679ba5d4f",
   "metadata": {},
   "outputs": [],
   "source": [
    "# plot_importance(model)"
   ]
  },
  {
   "cell_type": "code",
   "execution_count": null,
   "id": "fc68979d-f8e7-4f44-ae50-22ef7b92b9e1",
   "metadata": {},
   "outputs": [],
   "source": [
    "# fig, ax = plt.subplots(figsize=(16, 8))\n",
    "# plot_partial_dependence(model, X_train, features, ax=ax)"
   ]
  },
  {
   "cell_type": "code",
   "execution_count": null,
   "id": "c90e9b27-43c3-4253-830d-53c3532c5197",
   "metadata": {},
   "outputs": [],
   "source": [
    "explainer = shap.Explainer(model.predict, X_test)\n",
    "shap_values = explainer(X_test)"
   ]
  },
  {
   "cell_type": "code",
   "execution_count": null,
   "id": "f73757e7-4125-4657-8b78-914b5324a9e9",
   "metadata": {},
   "outputs": [],
   "source": [
    "shap.plots.bar(shap_values)"
   ]
  },
  {
   "cell_type": "code",
   "execution_count": null,
   "id": "4d1a6591-e086-4156-a51a-3ccfd3489561",
   "metadata": {},
   "outputs": [],
   "source": [
    "shap.plots.beeswarm(shap_values)"
   ]
  },
  {
   "cell_type": "code",
   "execution_count": null,
   "id": "b1d832a7-6e45-4286-a102-029a56916c45",
   "metadata": {},
   "outputs": [],
   "source": [
    "shap.plots.bar(shap_values[218], max_display=15)"
   ]
  },
  {
   "cell_type": "code",
   "execution_count": null,
   "id": "69b9c146-dd21-4c69-bda7-1dca7959b933",
   "metadata": {},
   "outputs": [],
   "source": [
    "# get_top_performer_names(df, 20, 50)"
   ]
  },
  {
   "cell_type": "code",
   "execution_count": null,
   "id": "daf06fab-29cc-4752-9120-8d42bee3cb6e",
   "metadata": {},
   "outputs": [],
   "source": [
    "# df[(df[\"GW\"] == GAMEWEEK_TO_PREDICT) & (df[\"Season\"] == SEASON_TO_PREDICT) & (df[\"Name\"].isin(get_top_performer_names(df, 50, 50)))]"
   ]
  },
  {
   "cell_type": "code",
   "execution_count": null,
   "id": "b4ded1cd-6066-4fa0-9799-33107a7a53a8",
   "metadata": {},
   "outputs": [],
   "source": []
  }
 ],
 "metadata": {
  "kernelspec": {
   "display_name": "Python 3 (ipykernel)",
   "language": "python",
   "name": "python3"
  },
  "language_info": {
   "codemirror_mode": {
    "name": "ipython",
    "version": 3
   },
   "file_extension": ".py",
   "mimetype": "text/x-python",
   "name": "python",
   "nbconvert_exporter": "python",
   "pygments_lexer": "ipython3",
   "version": "3.8.0"
  }
 },
 "nbformat": 4,
 "nbformat_minor": 5
}
