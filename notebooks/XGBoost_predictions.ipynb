{
 "cells": [
  {
   "cell_type": "markdown",
   "id": "e61cf721-96f7-4f7c-a5c5-343917267d91",
   "metadata": {},
   "source": [
    "# Imports"
   ]
  },
  {
   "cell_type": "code",
   "execution_count": 1,
   "id": "c2b67ee7-f81a-4a96-bd38-8149efc725cf",
   "metadata": {},
   "outputs": [],
   "source": [
    "import os\n",
    "os.chdir(\"D:\\PulpitE\\FPL_ML\")"
   ]
  },
  {
   "cell_type": "code",
   "execution_count": 2,
   "id": "3f447fc0-41e6-4c50-967e-2cc314a1e81f",
   "metadata": {},
   "outputs": [],
   "source": [
    "import xgboost as xgb\n",
    "from xgboost import plot_importance\n",
    "from sklearn.inspection import plot_partial_dependence\n",
    "import matplotlib.pyplot as plt\n",
    "import pandas as pd\n",
    "import shap\n",
    "from sklearn.metrics import mean_absolute_error, mean_squared_error"
   ]
  },
  {
   "cell_type": "markdown",
   "id": "fe7a4ac1-336c-4ea4-ad91-24489c66e789",
   "metadata": {},
   "source": [
    "# Reading data and pre-processing"
   ]
  },
  {
   "cell_type": "code",
   "execution_count": 3,
   "id": "fc1f5877-02b9-46cd-aaaa-4c1a09f00b3d",
   "metadata": {},
   "outputs": [],
   "source": [
    "def read_data(file_name):\n",
    "    # loading csv\n",
    "    df = pd.read_csv(file_name)\n",
    "    \n",
    "    # removing unnamed columns\n",
    "    df = df.loc[:, ~df.columns.str.contains('^Unnamed')]\n",
    "    \n",
    "    return df"
   ]
  },
  {
   "cell_type": "code",
   "execution_count": 4,
   "id": "14d68e95-43ba-469b-a85a-7cdddfc37173",
   "metadata": {},
   "outputs": [],
   "source": [
    "# loading csv\n",
    "df_general = read_data('predictions/train_predictions_general.csv')\n",
    "\n",
    "df_gk = read_data('predictions/train_predictions_gk.csv')\n",
    "df_def = read_data('predictions/train_predictions_def.csv')\n",
    "df_mid = read_data('predictions/train_predictions_mid.csv')\n",
    "df_fwd = read_data('predictions/train_predictions_fwd.csv')"
   ]
  },
  {
   "cell_type": "code",
   "execution_count": 51,
   "id": "50139624-8230-42cf-96a0-aa73d455f0d8",
   "metadata": {},
   "outputs": [
    {
     "data": {
      "text/plain": [
       "array(['Che-Adams', 'Michail-Antonio', 'Adam-Armstrong', 'Taiwo-Awoniyi',\n",
       "       'Patson-Daka', 'Emmanuel-Dennis', 'Joe-Gelhardt', 'Sam-Greenwood',\n",
       "       'Kai-Havertz', 'Kelechi-Iheanacho', 'Danny-Ings',\n",
       "       'Brennan-Johnson', 'Sekou-Mara', 'Neal-Maupay', 'Bryan-Mbeumo',\n",
       "       'Aleksandar-Mitrovic', 'Kieffer-Moore', 'Eddie-Nketiah',\n",
       "       'Gianluca-Scamacca', 'Dominic-Solanke', 'Sam-Surridge',\n",
       "       'Ivan-Toney', 'Deniz-Undav', 'Jamie-Vardy', 'Carlos-Vinicius',\n",
       "       'Ollie-Watkins', 'Danny-Welbeck', 'Callum-Wilson', 'Chris-Wood'],\n",
       "      dtype=object)"
      ]
     },
     "execution_count": 51,
     "metadata": {},
     "output_type": "execute_result"
    }
   ],
   "source": [
    "df_fwd[\"Name\"].unique()"
   ]
  },
  {
   "cell_type": "code",
   "execution_count": 5,
   "id": "1dba8279-70e7-43f4-8e2a-3d9709095de4",
   "metadata": {},
   "outputs": [],
   "source": [
    "# df.columns"
   ]
  },
  {
   "cell_type": "code",
   "execution_count": 6,
   "id": "5b452271-588b-4965-b471-60902fdc39e4",
   "metadata": {},
   "outputs": [],
   "source": [
    "# df[\"Name\"].unique()"
   ]
  },
  {
   "cell_type": "code",
   "execution_count": 7,
   "id": "dbd5108b-c4b3-4268-9a8d-6e0ebdbe7a8d",
   "metadata": {},
   "outputs": [],
   "source": [
    "# dropping NaNs\n",
    "# df = df.dropna(axis=0)"
   ]
  },
  {
   "cell_type": "code",
   "execution_count": 8,
   "id": "84b7d730-6070-4c95-8b1f-733b0f9e0624",
   "metadata": {},
   "outputs": [],
   "source": [
    "# df.shape"
   ]
  },
  {
   "cell_type": "code",
   "execution_count": 9,
   "id": "5c96da82-a472-4846-8fe5-553aec3b2a09",
   "metadata": {},
   "outputs": [],
   "source": [
    "# df[df[\"Name\"] == \"Erling-Haaland\"]"
   ]
  },
  {
   "cell_type": "code",
   "execution_count": 10,
   "id": "aaf57399-ca92-45dd-918c-194d980270d9",
   "metadata": {},
   "outputs": [],
   "source": [
    "# df[\"GW\"].hist()"
   ]
  },
  {
   "cell_type": "markdown",
   "id": "fc895e8b-ed8c-4c03-89fe-eccde0b4c26e",
   "metadata": {},
   "source": [
    "# Choosing features and splitting data"
   ]
  },
  {
   "cell_type": "code",
   "execution_count": 11,
   "id": "027d048f-36be-4c56-b00f-ce93d0e33c44",
   "metadata": {},
   "outputs": [],
   "source": [
    "features = [\"Points\", \"Was Home\", \"Opp rating\", 'ScoreForLast5', 'ScoreAgainstLast5']\n",
    "info = [\"Name\", \"GW\", \"Squad\", \"Opponent\", \"Was Home\", \"Opp rating\"]\n",
    "to_predict = [\"Total Points\"]"
   ]
  },
  {
   "cell_type": "code",
   "execution_count": 12,
   "id": "1a46a038-a0b2-4348-b87c-2ca15569f6eb",
   "metadata": {},
   "outputs": [],
   "source": [
    "START_GAMEWEEK = 8\n",
    "GAMEWEEK_TO_PREDICT = 19"
   ]
  },
  {
   "cell_type": "code",
   "execution_count": 13,
   "id": "e64ad68c-4dc2-4cbe-b27a-f7a8757d7ce5",
   "metadata": {},
   "outputs": [],
   "source": [
    "def split_data(df, start_gw, gw_to_predict, features, to_predict):\n",
    "    X_train = df[(df[\"GW\"] >= start_gw) & (df[\"GW\"] <= gw_to_predict - 1)][features]\n",
    "    y_train = df[(df[\"GW\"] >= start_gw) & (df[\"GW\"] <= gw_to_predict - 1)][to_predict]\n",
    "    \n",
    "    X_test = df[df[\"GW\"] == gw_to_predict][features]\n",
    "    y_test = df[df[\"GW\"] == gw_to_predict][to_predict]\n",
    "\n",
    "    return X_train, y_train, X_test, y_test"
   ]
  },
  {
   "cell_type": "code",
   "execution_count": 14,
   "id": "dda77c7e-1b10-40a1-9bb0-2956cb9ae9a1",
   "metadata": {},
   "outputs": [],
   "source": [
    "X_train_general, y_train_general, X_test_general, y_test_general = split_data(df_general, START_GAMEWEEK, GAMEWEEK_TO_PREDICT, features, to_predict)\n",
    "\n",
    "X_train_gk, y_train_gk, X_test_gk, y_test_gk = split_data(df_gk, START_GAMEWEEK, GAMEWEEK_TO_PREDICT, features, to_predict)\n",
    "X_train_def, y_train_def, X_test_def, y_test_def = split_data(df_def, START_GAMEWEEK, GAMEWEEK_TO_PREDICT, features, to_predict)\n",
    "X_train_mid, y_train_mid, X_test_mid, y_test_mid = split_data(df_mid, START_GAMEWEEK, GAMEWEEK_TO_PREDICT, features, to_predict)\n",
    "X_train_fwd, y_train_fwd, X_test_fwd, y_test_fwd = split_data(df_fwd, START_GAMEWEEK, GAMEWEEK_TO_PREDICT, features, to_predict)"
   ]
  },
  {
   "cell_type": "code",
   "execution_count": 15,
   "id": "8c4c09d9-6bf1-4b5e-ba4a-b93b0cea8bd3",
   "metadata": {},
   "outputs": [
    {
     "data": {
      "text/plain": [
       "(10215, 2043, 505, 101)"
      ]
     },
     "execution_count": 15,
     "metadata": {},
     "output_type": "execute_result"
    }
   ],
   "source": [
    "X_train_general.size, y_train_general.size, X_test_general.size, y_test_general.size"
   ]
  },
  {
   "cell_type": "code",
   "execution_count": 16,
   "id": "04b6f0ce-4abb-4849-a92c-d453f1a4ef2a",
   "metadata": {},
   "outputs": [
    {
     "data": {
      "text/plain": [
       "(900, 180, 65, 13)"
      ]
     },
     "execution_count": 16,
     "metadata": {},
     "output_type": "execute_result"
    }
   ],
   "source": [
    "X_train_gk.size, y_train_gk.size, X_test_gk.size, y_test_gk.size"
   ]
  },
  {
   "cell_type": "code",
   "execution_count": 17,
   "id": "4c1c6a16-aa72-4d9a-97b5-d7db8e24997f",
   "metadata": {},
   "outputs": [
    {
     "data": {
      "text/plain": [
       "(3470, 694, 155, 31)"
      ]
     },
     "execution_count": 17,
     "metadata": {},
     "output_type": "execute_result"
    }
   ],
   "source": [
    "X_train_def.size, y_train_def.size, X_test_def.size, y_test_def.size"
   ]
  },
  {
   "cell_type": "code",
   "execution_count": 18,
   "id": "1aadefb5-3edc-445a-a841-29dead381a7b",
   "metadata": {},
   "outputs": [
    {
     "data": {
      "text/plain": [
       "(4620, 924, 220, 44)"
      ]
     },
     "execution_count": 18,
     "metadata": {},
     "output_type": "execute_result"
    }
   ],
   "source": [
    "X_train_mid.size, y_train_mid.size, X_test_mid.size, y_test_mid.size"
   ]
  },
  {
   "cell_type": "code",
   "execution_count": 19,
   "id": "3bf021f2-75ac-4910-86c3-aa59517b8ae5",
   "metadata": {},
   "outputs": [
    {
     "data": {
      "text/plain": [
       "(1225, 245, 65, 13)"
      ]
     },
     "execution_count": 19,
     "metadata": {},
     "output_type": "execute_result"
    }
   ],
   "source": [
    "X_train_fwd.size, y_train_fwd.size, X_test_fwd.size, y_test_fwd.size"
   ]
  },
  {
   "cell_type": "markdown",
   "id": "bd2b3df9-363d-4c0a-8a1b-ce561ee29b23",
   "metadata": {},
   "source": [
    "# Model and training"
   ]
  },
  {
   "cell_type": "code",
   "execution_count": 20,
   "id": "869c69e0-56ad-4baf-a403-dcdc61f7adec",
   "metadata": {},
   "outputs": [],
   "source": [
    "model_general = xgb.XGBRegressor(random_state=42)\n",
    "\n",
    "model_gk = xgb.XGBRegressor(random_state=42)\n",
    "model_def = xgb.XGBRegressor(random_state=42)\n",
    "model_mid = xgb.XGBRegressor(random_state=42)\n",
    "model_fwd = xgb.XGBRegressor(random_state=42)"
   ]
  },
  {
   "cell_type": "code",
   "execution_count": 21,
   "id": "8531e1e4-92af-494b-b5b7-7a48f2796fa6",
   "metadata": {},
   "outputs": [
    {
     "name": "stdout",
     "output_type": "stream",
     "text": [
      "CPU times: total: 625 ms\n",
      "Wall time: 162 ms\n"
     ]
    },
    {
     "data": {
      "text/html": [
       "<style>#sk-container-id-1 {color: black;background-color: white;}#sk-container-id-1 pre{padding: 0;}#sk-container-id-1 div.sk-toggleable {background-color: white;}#sk-container-id-1 label.sk-toggleable__label {cursor: pointer;display: block;width: 100%;margin-bottom: 0;padding: 0.3em;box-sizing: border-box;text-align: center;}#sk-container-id-1 label.sk-toggleable__label-arrow:before {content: \"▸\";float: left;margin-right: 0.25em;color: #696969;}#sk-container-id-1 label.sk-toggleable__label-arrow:hover:before {color: black;}#sk-container-id-1 div.sk-estimator:hover label.sk-toggleable__label-arrow:before {color: black;}#sk-container-id-1 div.sk-toggleable__content {max-height: 0;max-width: 0;overflow: hidden;text-align: left;background-color: #f0f8ff;}#sk-container-id-1 div.sk-toggleable__content pre {margin: 0.2em;color: black;border-radius: 0.25em;background-color: #f0f8ff;}#sk-container-id-1 input.sk-toggleable__control:checked~div.sk-toggleable__content {max-height: 200px;max-width: 100%;overflow: auto;}#sk-container-id-1 input.sk-toggleable__control:checked~label.sk-toggleable__label-arrow:before {content: \"▾\";}#sk-container-id-1 div.sk-estimator input.sk-toggleable__control:checked~label.sk-toggleable__label {background-color: #d4ebff;}#sk-container-id-1 div.sk-label input.sk-toggleable__control:checked~label.sk-toggleable__label {background-color: #d4ebff;}#sk-container-id-1 input.sk-hidden--visually {border: 0;clip: rect(1px 1px 1px 1px);clip: rect(1px, 1px, 1px, 1px);height: 1px;margin: -1px;overflow: hidden;padding: 0;position: absolute;width: 1px;}#sk-container-id-1 div.sk-estimator {font-family: monospace;background-color: #f0f8ff;border: 1px dotted black;border-radius: 0.25em;box-sizing: border-box;margin-bottom: 0.5em;}#sk-container-id-1 div.sk-estimator:hover {background-color: #d4ebff;}#sk-container-id-1 div.sk-parallel-item::after {content: \"\";width: 100%;border-bottom: 1px solid gray;flex-grow: 1;}#sk-container-id-1 div.sk-label:hover label.sk-toggleable__label {background-color: #d4ebff;}#sk-container-id-1 div.sk-serial::before {content: \"\";position: absolute;border-left: 1px solid gray;box-sizing: border-box;top: 0;bottom: 0;left: 50%;z-index: 0;}#sk-container-id-1 div.sk-serial {display: flex;flex-direction: column;align-items: center;background-color: white;padding-right: 0.2em;padding-left: 0.2em;position: relative;}#sk-container-id-1 div.sk-item {position: relative;z-index: 1;}#sk-container-id-1 div.sk-parallel {display: flex;align-items: stretch;justify-content: center;background-color: white;position: relative;}#sk-container-id-1 div.sk-item::before, #sk-container-id-1 div.sk-parallel-item::before {content: \"\";position: absolute;border-left: 1px solid gray;box-sizing: border-box;top: 0;bottom: 0;left: 50%;z-index: -1;}#sk-container-id-1 div.sk-parallel-item {display: flex;flex-direction: column;z-index: 1;position: relative;background-color: white;}#sk-container-id-1 div.sk-parallel-item:first-child::after {align-self: flex-end;width: 50%;}#sk-container-id-1 div.sk-parallel-item:last-child::after {align-self: flex-start;width: 50%;}#sk-container-id-1 div.sk-parallel-item:only-child::after {width: 0;}#sk-container-id-1 div.sk-dashed-wrapped {border: 1px dashed gray;margin: 0 0.4em 0.5em 0.4em;box-sizing: border-box;padding-bottom: 0.4em;background-color: white;}#sk-container-id-1 div.sk-label label {font-family: monospace;font-weight: bold;display: inline-block;line-height: 1.2em;}#sk-container-id-1 div.sk-label-container {text-align: center;}#sk-container-id-1 div.sk-container {/* jupyter's `normalize.less` sets `[hidden] { display: none; }` but bootstrap.min.css set `[hidden] { display: none !important; }` so we also need the `!important` here to be able to override the default hidden behavior on the sphinx rendered scikit-learn.org. See: https://github.com/scikit-learn/scikit-learn/issues/21755 */display: inline-block !important;position: relative;}#sk-container-id-1 div.sk-text-repr-fallback {display: none;}</style><div id=\"sk-container-id-1\" class=\"sk-top-container\"><div class=\"sk-text-repr-fallback\"><pre>XGBRegressor(base_score=None, booster=None, callbacks=None,\n",
       "             colsample_bylevel=None, colsample_bynode=None,\n",
       "             colsample_bytree=None, early_stopping_rounds=None,\n",
       "             enable_categorical=False, eval_metric=None, feature_types=None,\n",
       "             gamma=None, gpu_id=None, grow_policy=None, importance_type=None,\n",
       "             interaction_constraints=None, learning_rate=None, max_bin=None,\n",
       "             max_cat_threshold=None, max_cat_to_onehot=None,\n",
       "             max_delta_step=None, max_depth=None, max_leaves=None,\n",
       "             min_child_weight=None, missing=nan, monotone_constraints=None,\n",
       "             n_estimators=100, n_jobs=None, num_parallel_tree=None,\n",
       "             predictor=None, random_state=42, ...)</pre><b>In a Jupyter environment, please rerun this cell to show the HTML representation or trust the notebook. <br />On GitHub, the HTML representation is unable to render, please try loading this page with nbviewer.org.</b></div><div class=\"sk-container\" hidden><div class=\"sk-item\"><div class=\"sk-estimator sk-toggleable\"><input class=\"sk-toggleable__control sk-hidden--visually\" id=\"sk-estimator-id-1\" type=\"checkbox\" checked><label for=\"sk-estimator-id-1\" class=\"sk-toggleable__label sk-toggleable__label-arrow\">XGBRegressor</label><div class=\"sk-toggleable__content\"><pre>XGBRegressor(base_score=None, booster=None, callbacks=None,\n",
       "             colsample_bylevel=None, colsample_bynode=None,\n",
       "             colsample_bytree=None, early_stopping_rounds=None,\n",
       "             enable_categorical=False, eval_metric=None, feature_types=None,\n",
       "             gamma=None, gpu_id=None, grow_policy=None, importance_type=None,\n",
       "             interaction_constraints=None, learning_rate=None, max_bin=None,\n",
       "             max_cat_threshold=None, max_cat_to_onehot=None,\n",
       "             max_delta_step=None, max_depth=None, max_leaves=None,\n",
       "             min_child_weight=None, missing=nan, monotone_constraints=None,\n",
       "             n_estimators=100, n_jobs=None, num_parallel_tree=None,\n",
       "             predictor=None, random_state=42, ...)</pre></div></div></div></div></div>"
      ],
      "text/plain": [
       "XGBRegressor(base_score=None, booster=None, callbacks=None,\n",
       "             colsample_bylevel=None, colsample_bynode=None,\n",
       "             colsample_bytree=None, early_stopping_rounds=None,\n",
       "             enable_categorical=False, eval_metric=None, feature_types=None,\n",
       "             gamma=None, gpu_id=None, grow_policy=None, importance_type=None,\n",
       "             interaction_constraints=None, learning_rate=None, max_bin=None,\n",
       "             max_cat_threshold=None, max_cat_to_onehot=None,\n",
       "             max_delta_step=None, max_depth=None, max_leaves=None,\n",
       "             min_child_weight=None, missing=nan, monotone_constraints=None,\n",
       "             n_estimators=100, n_jobs=None, num_parallel_tree=None,\n",
       "             predictor=None, random_state=42, ...)"
      ]
     },
     "execution_count": 21,
     "metadata": {},
     "output_type": "execute_result"
    }
   ],
   "source": [
    "%%time\n",
    "model_general.fit(X_train_general, y_train_general)"
   ]
  },
  {
   "cell_type": "code",
   "execution_count": 22,
   "id": "d2704a63-3cdd-4eb4-a44a-6fcab7150165",
   "metadata": {},
   "outputs": [
    {
     "name": "stdout",
     "output_type": "stream",
     "text": [
      "CPU times: total: 281 ms\n",
      "Wall time: 68.8 ms\n"
     ]
    },
    {
     "data": {
      "text/html": [
       "<style>#sk-container-id-2 {color: black;background-color: white;}#sk-container-id-2 pre{padding: 0;}#sk-container-id-2 div.sk-toggleable {background-color: white;}#sk-container-id-2 label.sk-toggleable__label {cursor: pointer;display: block;width: 100%;margin-bottom: 0;padding: 0.3em;box-sizing: border-box;text-align: center;}#sk-container-id-2 label.sk-toggleable__label-arrow:before {content: \"▸\";float: left;margin-right: 0.25em;color: #696969;}#sk-container-id-2 label.sk-toggleable__label-arrow:hover:before {color: black;}#sk-container-id-2 div.sk-estimator:hover label.sk-toggleable__label-arrow:before {color: black;}#sk-container-id-2 div.sk-toggleable__content {max-height: 0;max-width: 0;overflow: hidden;text-align: left;background-color: #f0f8ff;}#sk-container-id-2 div.sk-toggleable__content pre {margin: 0.2em;color: black;border-radius: 0.25em;background-color: #f0f8ff;}#sk-container-id-2 input.sk-toggleable__control:checked~div.sk-toggleable__content {max-height: 200px;max-width: 100%;overflow: auto;}#sk-container-id-2 input.sk-toggleable__control:checked~label.sk-toggleable__label-arrow:before {content: \"▾\";}#sk-container-id-2 div.sk-estimator input.sk-toggleable__control:checked~label.sk-toggleable__label {background-color: #d4ebff;}#sk-container-id-2 div.sk-label input.sk-toggleable__control:checked~label.sk-toggleable__label {background-color: #d4ebff;}#sk-container-id-2 input.sk-hidden--visually {border: 0;clip: rect(1px 1px 1px 1px);clip: rect(1px, 1px, 1px, 1px);height: 1px;margin: -1px;overflow: hidden;padding: 0;position: absolute;width: 1px;}#sk-container-id-2 div.sk-estimator {font-family: monospace;background-color: #f0f8ff;border: 1px dotted black;border-radius: 0.25em;box-sizing: border-box;margin-bottom: 0.5em;}#sk-container-id-2 div.sk-estimator:hover {background-color: #d4ebff;}#sk-container-id-2 div.sk-parallel-item::after {content: \"\";width: 100%;border-bottom: 1px solid gray;flex-grow: 1;}#sk-container-id-2 div.sk-label:hover label.sk-toggleable__label {background-color: #d4ebff;}#sk-container-id-2 div.sk-serial::before {content: \"\";position: absolute;border-left: 1px solid gray;box-sizing: border-box;top: 0;bottom: 0;left: 50%;z-index: 0;}#sk-container-id-2 div.sk-serial {display: flex;flex-direction: column;align-items: center;background-color: white;padding-right: 0.2em;padding-left: 0.2em;position: relative;}#sk-container-id-2 div.sk-item {position: relative;z-index: 1;}#sk-container-id-2 div.sk-parallel {display: flex;align-items: stretch;justify-content: center;background-color: white;position: relative;}#sk-container-id-2 div.sk-item::before, #sk-container-id-2 div.sk-parallel-item::before {content: \"\";position: absolute;border-left: 1px solid gray;box-sizing: border-box;top: 0;bottom: 0;left: 50%;z-index: -1;}#sk-container-id-2 div.sk-parallel-item {display: flex;flex-direction: column;z-index: 1;position: relative;background-color: white;}#sk-container-id-2 div.sk-parallel-item:first-child::after {align-self: flex-end;width: 50%;}#sk-container-id-2 div.sk-parallel-item:last-child::after {align-self: flex-start;width: 50%;}#sk-container-id-2 div.sk-parallel-item:only-child::after {width: 0;}#sk-container-id-2 div.sk-dashed-wrapped {border: 1px dashed gray;margin: 0 0.4em 0.5em 0.4em;box-sizing: border-box;padding-bottom: 0.4em;background-color: white;}#sk-container-id-2 div.sk-label label {font-family: monospace;font-weight: bold;display: inline-block;line-height: 1.2em;}#sk-container-id-2 div.sk-label-container {text-align: center;}#sk-container-id-2 div.sk-container {/* jupyter's `normalize.less` sets `[hidden] { display: none; }` but bootstrap.min.css set `[hidden] { display: none !important; }` so we also need the `!important` here to be able to override the default hidden behavior on the sphinx rendered scikit-learn.org. See: https://github.com/scikit-learn/scikit-learn/issues/21755 */display: inline-block !important;position: relative;}#sk-container-id-2 div.sk-text-repr-fallback {display: none;}</style><div id=\"sk-container-id-2\" class=\"sk-top-container\"><div class=\"sk-text-repr-fallback\"><pre>XGBRegressor(base_score=None, booster=None, callbacks=None,\n",
       "             colsample_bylevel=None, colsample_bynode=None,\n",
       "             colsample_bytree=None, early_stopping_rounds=None,\n",
       "             enable_categorical=False, eval_metric=None, feature_types=None,\n",
       "             gamma=None, gpu_id=None, grow_policy=None, importance_type=None,\n",
       "             interaction_constraints=None, learning_rate=None, max_bin=None,\n",
       "             max_cat_threshold=None, max_cat_to_onehot=None,\n",
       "             max_delta_step=None, max_depth=None, max_leaves=None,\n",
       "             min_child_weight=None, missing=nan, monotone_constraints=None,\n",
       "             n_estimators=100, n_jobs=None, num_parallel_tree=None,\n",
       "             predictor=None, random_state=42, ...)</pre><b>In a Jupyter environment, please rerun this cell to show the HTML representation or trust the notebook. <br />On GitHub, the HTML representation is unable to render, please try loading this page with nbviewer.org.</b></div><div class=\"sk-container\" hidden><div class=\"sk-item\"><div class=\"sk-estimator sk-toggleable\"><input class=\"sk-toggleable__control sk-hidden--visually\" id=\"sk-estimator-id-2\" type=\"checkbox\" checked><label for=\"sk-estimator-id-2\" class=\"sk-toggleable__label sk-toggleable__label-arrow\">XGBRegressor</label><div class=\"sk-toggleable__content\"><pre>XGBRegressor(base_score=None, booster=None, callbacks=None,\n",
       "             colsample_bylevel=None, colsample_bynode=None,\n",
       "             colsample_bytree=None, early_stopping_rounds=None,\n",
       "             enable_categorical=False, eval_metric=None, feature_types=None,\n",
       "             gamma=None, gpu_id=None, grow_policy=None, importance_type=None,\n",
       "             interaction_constraints=None, learning_rate=None, max_bin=None,\n",
       "             max_cat_threshold=None, max_cat_to_onehot=None,\n",
       "             max_delta_step=None, max_depth=None, max_leaves=None,\n",
       "             min_child_weight=None, missing=nan, monotone_constraints=None,\n",
       "             n_estimators=100, n_jobs=None, num_parallel_tree=None,\n",
       "             predictor=None, random_state=42, ...)</pre></div></div></div></div></div>"
      ],
      "text/plain": [
       "XGBRegressor(base_score=None, booster=None, callbacks=None,\n",
       "             colsample_bylevel=None, colsample_bynode=None,\n",
       "             colsample_bytree=None, early_stopping_rounds=None,\n",
       "             enable_categorical=False, eval_metric=None, feature_types=None,\n",
       "             gamma=None, gpu_id=None, grow_policy=None, importance_type=None,\n",
       "             interaction_constraints=None, learning_rate=None, max_bin=None,\n",
       "             max_cat_threshold=None, max_cat_to_onehot=None,\n",
       "             max_delta_step=None, max_depth=None, max_leaves=None,\n",
       "             min_child_weight=None, missing=nan, monotone_constraints=None,\n",
       "             n_estimators=100, n_jobs=None, num_parallel_tree=None,\n",
       "             predictor=None, random_state=42, ...)"
      ]
     },
     "execution_count": 22,
     "metadata": {},
     "output_type": "execute_result"
    }
   ],
   "source": [
    "%%time\n",
    "model_gk.fit(X_train_gk, y_train_gk)"
   ]
  },
  {
   "cell_type": "code",
   "execution_count": 23,
   "id": "acea20cf-c519-4551-ac4b-bea0f78a4602",
   "metadata": {},
   "outputs": [
    {
     "name": "stdout",
     "output_type": "stream",
     "text": [
      "CPU times: total: 344 ms\n",
      "Wall time: 111 ms\n"
     ]
    },
    {
     "data": {
      "text/html": [
       "<style>#sk-container-id-3 {color: black;background-color: white;}#sk-container-id-3 pre{padding: 0;}#sk-container-id-3 div.sk-toggleable {background-color: white;}#sk-container-id-3 label.sk-toggleable__label {cursor: pointer;display: block;width: 100%;margin-bottom: 0;padding: 0.3em;box-sizing: border-box;text-align: center;}#sk-container-id-3 label.sk-toggleable__label-arrow:before {content: \"▸\";float: left;margin-right: 0.25em;color: #696969;}#sk-container-id-3 label.sk-toggleable__label-arrow:hover:before {color: black;}#sk-container-id-3 div.sk-estimator:hover label.sk-toggleable__label-arrow:before {color: black;}#sk-container-id-3 div.sk-toggleable__content {max-height: 0;max-width: 0;overflow: hidden;text-align: left;background-color: #f0f8ff;}#sk-container-id-3 div.sk-toggleable__content pre {margin: 0.2em;color: black;border-radius: 0.25em;background-color: #f0f8ff;}#sk-container-id-3 input.sk-toggleable__control:checked~div.sk-toggleable__content {max-height: 200px;max-width: 100%;overflow: auto;}#sk-container-id-3 input.sk-toggleable__control:checked~label.sk-toggleable__label-arrow:before {content: \"▾\";}#sk-container-id-3 div.sk-estimator input.sk-toggleable__control:checked~label.sk-toggleable__label {background-color: #d4ebff;}#sk-container-id-3 div.sk-label input.sk-toggleable__control:checked~label.sk-toggleable__label {background-color: #d4ebff;}#sk-container-id-3 input.sk-hidden--visually {border: 0;clip: rect(1px 1px 1px 1px);clip: rect(1px, 1px, 1px, 1px);height: 1px;margin: -1px;overflow: hidden;padding: 0;position: absolute;width: 1px;}#sk-container-id-3 div.sk-estimator {font-family: monospace;background-color: #f0f8ff;border: 1px dotted black;border-radius: 0.25em;box-sizing: border-box;margin-bottom: 0.5em;}#sk-container-id-3 div.sk-estimator:hover {background-color: #d4ebff;}#sk-container-id-3 div.sk-parallel-item::after {content: \"\";width: 100%;border-bottom: 1px solid gray;flex-grow: 1;}#sk-container-id-3 div.sk-label:hover label.sk-toggleable__label {background-color: #d4ebff;}#sk-container-id-3 div.sk-serial::before {content: \"\";position: absolute;border-left: 1px solid gray;box-sizing: border-box;top: 0;bottom: 0;left: 50%;z-index: 0;}#sk-container-id-3 div.sk-serial {display: flex;flex-direction: column;align-items: center;background-color: white;padding-right: 0.2em;padding-left: 0.2em;position: relative;}#sk-container-id-3 div.sk-item {position: relative;z-index: 1;}#sk-container-id-3 div.sk-parallel {display: flex;align-items: stretch;justify-content: center;background-color: white;position: relative;}#sk-container-id-3 div.sk-item::before, #sk-container-id-3 div.sk-parallel-item::before {content: \"\";position: absolute;border-left: 1px solid gray;box-sizing: border-box;top: 0;bottom: 0;left: 50%;z-index: -1;}#sk-container-id-3 div.sk-parallel-item {display: flex;flex-direction: column;z-index: 1;position: relative;background-color: white;}#sk-container-id-3 div.sk-parallel-item:first-child::after {align-self: flex-end;width: 50%;}#sk-container-id-3 div.sk-parallel-item:last-child::after {align-self: flex-start;width: 50%;}#sk-container-id-3 div.sk-parallel-item:only-child::after {width: 0;}#sk-container-id-3 div.sk-dashed-wrapped {border: 1px dashed gray;margin: 0 0.4em 0.5em 0.4em;box-sizing: border-box;padding-bottom: 0.4em;background-color: white;}#sk-container-id-3 div.sk-label label {font-family: monospace;font-weight: bold;display: inline-block;line-height: 1.2em;}#sk-container-id-3 div.sk-label-container {text-align: center;}#sk-container-id-3 div.sk-container {/* jupyter's `normalize.less` sets `[hidden] { display: none; }` but bootstrap.min.css set `[hidden] { display: none !important; }` so we also need the `!important` here to be able to override the default hidden behavior on the sphinx rendered scikit-learn.org. See: https://github.com/scikit-learn/scikit-learn/issues/21755 */display: inline-block !important;position: relative;}#sk-container-id-3 div.sk-text-repr-fallback {display: none;}</style><div id=\"sk-container-id-3\" class=\"sk-top-container\"><div class=\"sk-text-repr-fallback\"><pre>XGBRegressor(base_score=None, booster=None, callbacks=None,\n",
       "             colsample_bylevel=None, colsample_bynode=None,\n",
       "             colsample_bytree=None, early_stopping_rounds=None,\n",
       "             enable_categorical=False, eval_metric=None, feature_types=None,\n",
       "             gamma=None, gpu_id=None, grow_policy=None, importance_type=None,\n",
       "             interaction_constraints=None, learning_rate=None, max_bin=None,\n",
       "             max_cat_threshold=None, max_cat_to_onehot=None,\n",
       "             max_delta_step=None, max_depth=None, max_leaves=None,\n",
       "             min_child_weight=None, missing=nan, monotone_constraints=None,\n",
       "             n_estimators=100, n_jobs=None, num_parallel_tree=None,\n",
       "             predictor=None, random_state=42, ...)</pre><b>In a Jupyter environment, please rerun this cell to show the HTML representation or trust the notebook. <br />On GitHub, the HTML representation is unable to render, please try loading this page with nbviewer.org.</b></div><div class=\"sk-container\" hidden><div class=\"sk-item\"><div class=\"sk-estimator sk-toggleable\"><input class=\"sk-toggleable__control sk-hidden--visually\" id=\"sk-estimator-id-3\" type=\"checkbox\" checked><label for=\"sk-estimator-id-3\" class=\"sk-toggleable__label sk-toggleable__label-arrow\">XGBRegressor</label><div class=\"sk-toggleable__content\"><pre>XGBRegressor(base_score=None, booster=None, callbacks=None,\n",
       "             colsample_bylevel=None, colsample_bynode=None,\n",
       "             colsample_bytree=None, early_stopping_rounds=None,\n",
       "             enable_categorical=False, eval_metric=None, feature_types=None,\n",
       "             gamma=None, gpu_id=None, grow_policy=None, importance_type=None,\n",
       "             interaction_constraints=None, learning_rate=None, max_bin=None,\n",
       "             max_cat_threshold=None, max_cat_to_onehot=None,\n",
       "             max_delta_step=None, max_depth=None, max_leaves=None,\n",
       "             min_child_weight=None, missing=nan, monotone_constraints=None,\n",
       "             n_estimators=100, n_jobs=None, num_parallel_tree=None,\n",
       "             predictor=None, random_state=42, ...)</pre></div></div></div></div></div>"
      ],
      "text/plain": [
       "XGBRegressor(base_score=None, booster=None, callbacks=None,\n",
       "             colsample_bylevel=None, colsample_bynode=None,\n",
       "             colsample_bytree=None, early_stopping_rounds=None,\n",
       "             enable_categorical=False, eval_metric=None, feature_types=None,\n",
       "             gamma=None, gpu_id=None, grow_policy=None, importance_type=None,\n",
       "             interaction_constraints=None, learning_rate=None, max_bin=None,\n",
       "             max_cat_threshold=None, max_cat_to_onehot=None,\n",
       "             max_delta_step=None, max_depth=None, max_leaves=None,\n",
       "             min_child_weight=None, missing=nan, monotone_constraints=None,\n",
       "             n_estimators=100, n_jobs=None, num_parallel_tree=None,\n",
       "             predictor=None, random_state=42, ...)"
      ]
     },
     "execution_count": 23,
     "metadata": {},
     "output_type": "execute_result"
    }
   ],
   "source": [
    "%%time\n",
    "model_def.fit(X_train_def, y_train_def)"
   ]
  },
  {
   "cell_type": "code",
   "execution_count": 24,
   "id": "63c7feba-e7e5-416e-9c5e-53cffe79bd21",
   "metadata": {},
   "outputs": [
    {
     "name": "stdout",
     "output_type": "stream",
     "text": [
      "CPU times: total: 406 ms\n",
      "Wall time: 141 ms\n"
     ]
    },
    {
     "data": {
      "text/html": [
       "<style>#sk-container-id-4 {color: black;background-color: white;}#sk-container-id-4 pre{padding: 0;}#sk-container-id-4 div.sk-toggleable {background-color: white;}#sk-container-id-4 label.sk-toggleable__label {cursor: pointer;display: block;width: 100%;margin-bottom: 0;padding: 0.3em;box-sizing: border-box;text-align: center;}#sk-container-id-4 label.sk-toggleable__label-arrow:before {content: \"▸\";float: left;margin-right: 0.25em;color: #696969;}#sk-container-id-4 label.sk-toggleable__label-arrow:hover:before {color: black;}#sk-container-id-4 div.sk-estimator:hover label.sk-toggleable__label-arrow:before {color: black;}#sk-container-id-4 div.sk-toggleable__content {max-height: 0;max-width: 0;overflow: hidden;text-align: left;background-color: #f0f8ff;}#sk-container-id-4 div.sk-toggleable__content pre {margin: 0.2em;color: black;border-radius: 0.25em;background-color: #f0f8ff;}#sk-container-id-4 input.sk-toggleable__control:checked~div.sk-toggleable__content {max-height: 200px;max-width: 100%;overflow: auto;}#sk-container-id-4 input.sk-toggleable__control:checked~label.sk-toggleable__label-arrow:before {content: \"▾\";}#sk-container-id-4 div.sk-estimator input.sk-toggleable__control:checked~label.sk-toggleable__label {background-color: #d4ebff;}#sk-container-id-4 div.sk-label input.sk-toggleable__control:checked~label.sk-toggleable__label {background-color: #d4ebff;}#sk-container-id-4 input.sk-hidden--visually {border: 0;clip: rect(1px 1px 1px 1px);clip: rect(1px, 1px, 1px, 1px);height: 1px;margin: -1px;overflow: hidden;padding: 0;position: absolute;width: 1px;}#sk-container-id-4 div.sk-estimator {font-family: monospace;background-color: #f0f8ff;border: 1px dotted black;border-radius: 0.25em;box-sizing: border-box;margin-bottom: 0.5em;}#sk-container-id-4 div.sk-estimator:hover {background-color: #d4ebff;}#sk-container-id-4 div.sk-parallel-item::after {content: \"\";width: 100%;border-bottom: 1px solid gray;flex-grow: 1;}#sk-container-id-4 div.sk-label:hover label.sk-toggleable__label {background-color: #d4ebff;}#sk-container-id-4 div.sk-serial::before {content: \"\";position: absolute;border-left: 1px solid gray;box-sizing: border-box;top: 0;bottom: 0;left: 50%;z-index: 0;}#sk-container-id-4 div.sk-serial {display: flex;flex-direction: column;align-items: center;background-color: white;padding-right: 0.2em;padding-left: 0.2em;position: relative;}#sk-container-id-4 div.sk-item {position: relative;z-index: 1;}#sk-container-id-4 div.sk-parallel {display: flex;align-items: stretch;justify-content: center;background-color: white;position: relative;}#sk-container-id-4 div.sk-item::before, #sk-container-id-4 div.sk-parallel-item::before {content: \"\";position: absolute;border-left: 1px solid gray;box-sizing: border-box;top: 0;bottom: 0;left: 50%;z-index: -1;}#sk-container-id-4 div.sk-parallel-item {display: flex;flex-direction: column;z-index: 1;position: relative;background-color: white;}#sk-container-id-4 div.sk-parallel-item:first-child::after {align-self: flex-end;width: 50%;}#sk-container-id-4 div.sk-parallel-item:last-child::after {align-self: flex-start;width: 50%;}#sk-container-id-4 div.sk-parallel-item:only-child::after {width: 0;}#sk-container-id-4 div.sk-dashed-wrapped {border: 1px dashed gray;margin: 0 0.4em 0.5em 0.4em;box-sizing: border-box;padding-bottom: 0.4em;background-color: white;}#sk-container-id-4 div.sk-label label {font-family: monospace;font-weight: bold;display: inline-block;line-height: 1.2em;}#sk-container-id-4 div.sk-label-container {text-align: center;}#sk-container-id-4 div.sk-container {/* jupyter's `normalize.less` sets `[hidden] { display: none; }` but bootstrap.min.css set `[hidden] { display: none !important; }` so we also need the `!important` here to be able to override the default hidden behavior on the sphinx rendered scikit-learn.org. See: https://github.com/scikit-learn/scikit-learn/issues/21755 */display: inline-block !important;position: relative;}#sk-container-id-4 div.sk-text-repr-fallback {display: none;}</style><div id=\"sk-container-id-4\" class=\"sk-top-container\"><div class=\"sk-text-repr-fallback\"><pre>XGBRegressor(base_score=None, booster=None, callbacks=None,\n",
       "             colsample_bylevel=None, colsample_bynode=None,\n",
       "             colsample_bytree=None, early_stopping_rounds=None,\n",
       "             enable_categorical=False, eval_metric=None, feature_types=None,\n",
       "             gamma=None, gpu_id=None, grow_policy=None, importance_type=None,\n",
       "             interaction_constraints=None, learning_rate=None, max_bin=None,\n",
       "             max_cat_threshold=None, max_cat_to_onehot=None,\n",
       "             max_delta_step=None, max_depth=None, max_leaves=None,\n",
       "             min_child_weight=None, missing=nan, monotone_constraints=None,\n",
       "             n_estimators=100, n_jobs=None, num_parallel_tree=None,\n",
       "             predictor=None, random_state=42, ...)</pre><b>In a Jupyter environment, please rerun this cell to show the HTML representation or trust the notebook. <br />On GitHub, the HTML representation is unable to render, please try loading this page with nbviewer.org.</b></div><div class=\"sk-container\" hidden><div class=\"sk-item\"><div class=\"sk-estimator sk-toggleable\"><input class=\"sk-toggleable__control sk-hidden--visually\" id=\"sk-estimator-id-4\" type=\"checkbox\" checked><label for=\"sk-estimator-id-4\" class=\"sk-toggleable__label sk-toggleable__label-arrow\">XGBRegressor</label><div class=\"sk-toggleable__content\"><pre>XGBRegressor(base_score=None, booster=None, callbacks=None,\n",
       "             colsample_bylevel=None, colsample_bynode=None,\n",
       "             colsample_bytree=None, early_stopping_rounds=None,\n",
       "             enable_categorical=False, eval_metric=None, feature_types=None,\n",
       "             gamma=None, gpu_id=None, grow_policy=None, importance_type=None,\n",
       "             interaction_constraints=None, learning_rate=None, max_bin=None,\n",
       "             max_cat_threshold=None, max_cat_to_onehot=None,\n",
       "             max_delta_step=None, max_depth=None, max_leaves=None,\n",
       "             min_child_weight=None, missing=nan, monotone_constraints=None,\n",
       "             n_estimators=100, n_jobs=None, num_parallel_tree=None,\n",
       "             predictor=None, random_state=42, ...)</pre></div></div></div></div></div>"
      ],
      "text/plain": [
       "XGBRegressor(base_score=None, booster=None, callbacks=None,\n",
       "             colsample_bylevel=None, colsample_bynode=None,\n",
       "             colsample_bytree=None, early_stopping_rounds=None,\n",
       "             enable_categorical=False, eval_metric=None, feature_types=None,\n",
       "             gamma=None, gpu_id=None, grow_policy=None, importance_type=None,\n",
       "             interaction_constraints=None, learning_rate=None, max_bin=None,\n",
       "             max_cat_threshold=None, max_cat_to_onehot=None,\n",
       "             max_delta_step=None, max_depth=None, max_leaves=None,\n",
       "             min_child_weight=None, missing=nan, monotone_constraints=None,\n",
       "             n_estimators=100, n_jobs=None, num_parallel_tree=None,\n",
       "             predictor=None, random_state=42, ...)"
      ]
     },
     "execution_count": 24,
     "metadata": {},
     "output_type": "execute_result"
    }
   ],
   "source": [
    "%%time\n",
    "model_mid.fit(X_train_mid, y_train_mid)"
   ]
  },
  {
   "cell_type": "code",
   "execution_count": 25,
   "id": "31bcbef4-68f2-4f13-9b17-47b54a0b0ea6",
   "metadata": {},
   "outputs": [
    {
     "name": "stdout",
     "output_type": "stream",
     "text": [
      "CPU times: total: 484 ms\n",
      "Wall time: 127 ms\n"
     ]
    },
    {
     "data": {
      "text/html": [
       "<style>#sk-container-id-5 {color: black;background-color: white;}#sk-container-id-5 pre{padding: 0;}#sk-container-id-5 div.sk-toggleable {background-color: white;}#sk-container-id-5 label.sk-toggleable__label {cursor: pointer;display: block;width: 100%;margin-bottom: 0;padding: 0.3em;box-sizing: border-box;text-align: center;}#sk-container-id-5 label.sk-toggleable__label-arrow:before {content: \"▸\";float: left;margin-right: 0.25em;color: #696969;}#sk-container-id-5 label.sk-toggleable__label-arrow:hover:before {color: black;}#sk-container-id-5 div.sk-estimator:hover label.sk-toggleable__label-arrow:before {color: black;}#sk-container-id-5 div.sk-toggleable__content {max-height: 0;max-width: 0;overflow: hidden;text-align: left;background-color: #f0f8ff;}#sk-container-id-5 div.sk-toggleable__content pre {margin: 0.2em;color: black;border-radius: 0.25em;background-color: #f0f8ff;}#sk-container-id-5 input.sk-toggleable__control:checked~div.sk-toggleable__content {max-height: 200px;max-width: 100%;overflow: auto;}#sk-container-id-5 input.sk-toggleable__control:checked~label.sk-toggleable__label-arrow:before {content: \"▾\";}#sk-container-id-5 div.sk-estimator input.sk-toggleable__control:checked~label.sk-toggleable__label {background-color: #d4ebff;}#sk-container-id-5 div.sk-label input.sk-toggleable__control:checked~label.sk-toggleable__label {background-color: #d4ebff;}#sk-container-id-5 input.sk-hidden--visually {border: 0;clip: rect(1px 1px 1px 1px);clip: rect(1px, 1px, 1px, 1px);height: 1px;margin: -1px;overflow: hidden;padding: 0;position: absolute;width: 1px;}#sk-container-id-5 div.sk-estimator {font-family: monospace;background-color: #f0f8ff;border: 1px dotted black;border-radius: 0.25em;box-sizing: border-box;margin-bottom: 0.5em;}#sk-container-id-5 div.sk-estimator:hover {background-color: #d4ebff;}#sk-container-id-5 div.sk-parallel-item::after {content: \"\";width: 100%;border-bottom: 1px solid gray;flex-grow: 1;}#sk-container-id-5 div.sk-label:hover label.sk-toggleable__label {background-color: #d4ebff;}#sk-container-id-5 div.sk-serial::before {content: \"\";position: absolute;border-left: 1px solid gray;box-sizing: border-box;top: 0;bottom: 0;left: 50%;z-index: 0;}#sk-container-id-5 div.sk-serial {display: flex;flex-direction: column;align-items: center;background-color: white;padding-right: 0.2em;padding-left: 0.2em;position: relative;}#sk-container-id-5 div.sk-item {position: relative;z-index: 1;}#sk-container-id-5 div.sk-parallel {display: flex;align-items: stretch;justify-content: center;background-color: white;position: relative;}#sk-container-id-5 div.sk-item::before, #sk-container-id-5 div.sk-parallel-item::before {content: \"\";position: absolute;border-left: 1px solid gray;box-sizing: border-box;top: 0;bottom: 0;left: 50%;z-index: -1;}#sk-container-id-5 div.sk-parallel-item {display: flex;flex-direction: column;z-index: 1;position: relative;background-color: white;}#sk-container-id-5 div.sk-parallel-item:first-child::after {align-self: flex-end;width: 50%;}#sk-container-id-5 div.sk-parallel-item:last-child::after {align-self: flex-start;width: 50%;}#sk-container-id-5 div.sk-parallel-item:only-child::after {width: 0;}#sk-container-id-5 div.sk-dashed-wrapped {border: 1px dashed gray;margin: 0 0.4em 0.5em 0.4em;box-sizing: border-box;padding-bottom: 0.4em;background-color: white;}#sk-container-id-5 div.sk-label label {font-family: monospace;font-weight: bold;display: inline-block;line-height: 1.2em;}#sk-container-id-5 div.sk-label-container {text-align: center;}#sk-container-id-5 div.sk-container {/* jupyter's `normalize.less` sets `[hidden] { display: none; }` but bootstrap.min.css set `[hidden] { display: none !important; }` so we also need the `!important` here to be able to override the default hidden behavior on the sphinx rendered scikit-learn.org. See: https://github.com/scikit-learn/scikit-learn/issues/21755 */display: inline-block !important;position: relative;}#sk-container-id-5 div.sk-text-repr-fallback {display: none;}</style><div id=\"sk-container-id-5\" class=\"sk-top-container\"><div class=\"sk-text-repr-fallback\"><pre>XGBRegressor(base_score=None, booster=None, callbacks=None,\n",
       "             colsample_bylevel=None, colsample_bynode=None,\n",
       "             colsample_bytree=None, early_stopping_rounds=None,\n",
       "             enable_categorical=False, eval_metric=None, feature_types=None,\n",
       "             gamma=None, gpu_id=None, grow_policy=None, importance_type=None,\n",
       "             interaction_constraints=None, learning_rate=None, max_bin=None,\n",
       "             max_cat_threshold=None, max_cat_to_onehot=None,\n",
       "             max_delta_step=None, max_depth=None, max_leaves=None,\n",
       "             min_child_weight=None, missing=nan, monotone_constraints=None,\n",
       "             n_estimators=100, n_jobs=None, num_parallel_tree=None,\n",
       "             predictor=None, random_state=42, ...)</pre><b>In a Jupyter environment, please rerun this cell to show the HTML representation or trust the notebook. <br />On GitHub, the HTML representation is unable to render, please try loading this page with nbviewer.org.</b></div><div class=\"sk-container\" hidden><div class=\"sk-item\"><div class=\"sk-estimator sk-toggleable\"><input class=\"sk-toggleable__control sk-hidden--visually\" id=\"sk-estimator-id-5\" type=\"checkbox\" checked><label for=\"sk-estimator-id-5\" class=\"sk-toggleable__label sk-toggleable__label-arrow\">XGBRegressor</label><div class=\"sk-toggleable__content\"><pre>XGBRegressor(base_score=None, booster=None, callbacks=None,\n",
       "             colsample_bylevel=None, colsample_bynode=None,\n",
       "             colsample_bytree=None, early_stopping_rounds=None,\n",
       "             enable_categorical=False, eval_metric=None, feature_types=None,\n",
       "             gamma=None, gpu_id=None, grow_policy=None, importance_type=None,\n",
       "             interaction_constraints=None, learning_rate=None, max_bin=None,\n",
       "             max_cat_threshold=None, max_cat_to_onehot=None,\n",
       "             max_delta_step=None, max_depth=None, max_leaves=None,\n",
       "             min_child_weight=None, missing=nan, monotone_constraints=None,\n",
       "             n_estimators=100, n_jobs=None, num_parallel_tree=None,\n",
       "             predictor=None, random_state=42, ...)</pre></div></div></div></div></div>"
      ],
      "text/plain": [
       "XGBRegressor(base_score=None, booster=None, callbacks=None,\n",
       "             colsample_bylevel=None, colsample_bynode=None,\n",
       "             colsample_bytree=None, early_stopping_rounds=None,\n",
       "             enable_categorical=False, eval_metric=None, feature_types=None,\n",
       "             gamma=None, gpu_id=None, grow_policy=None, importance_type=None,\n",
       "             interaction_constraints=None, learning_rate=None, max_bin=None,\n",
       "             max_cat_threshold=None, max_cat_to_onehot=None,\n",
       "             max_delta_step=None, max_depth=None, max_leaves=None,\n",
       "             min_child_weight=None, missing=nan, monotone_constraints=None,\n",
       "             n_estimators=100, n_jobs=None, num_parallel_tree=None,\n",
       "             predictor=None, random_state=42, ...)"
      ]
     },
     "execution_count": 25,
     "metadata": {},
     "output_type": "execute_result"
    }
   ],
   "source": [
    "%%time\n",
    "model_fwd.fit(X_train_fwd, y_train_fwd)"
   ]
  },
  {
   "cell_type": "markdown",
   "id": "b23ef18c-0583-48b5-9ace-139cab7111d4",
   "metadata": {},
   "source": [
    "# Predicting and calculating metrics"
   ]
  },
  {
   "cell_type": "code",
   "execution_count": 26,
   "id": "6d8c65fd-59b4-46c6-b92a-a59358edff95",
   "metadata": {},
   "outputs": [],
   "source": [
    "# make predictions on the test data\n",
    "predictions_general = model_general.predict(X_test_general)\n",
    "\n",
    "predictions_gk = model_gk.predict(X_test_gk)\n",
    "predictions_def = model_def.predict(X_test_def)\n",
    "predictions_mid = model_mid.predict(X_test_mid)\n",
    "predictions_fwd = model_fwd.predict(X_test_fwd)"
   ]
  },
  {
   "cell_type": "code",
   "execution_count": 27,
   "id": "da09cbcd-37df-4849-8a07-3c263f5c5ac9",
   "metadata": {},
   "outputs": [],
   "source": [
    "def calculate_mae_mse(y_test, predictions, title):\n",
    "    mae = mean_absolute_error(y_test, predictions)\n",
    "    mse = mean_squared_error(y_test, predictions)\n",
    "    \n",
    "    print(\"MAE: \", title, \":\", mae)\n",
    "    print(\"MSE: \", title, \":\", mse)"
   ]
  },
  {
   "cell_type": "code",
   "execution_count": 28,
   "id": "e5f1bbb1-bbbf-4714-a103-9f1205f3d51a",
   "metadata": {},
   "outputs": [
    {
     "name": "stdout",
     "output_type": "stream",
     "text": [
      "MAE:  General : 2.0156616789132062\n",
      "MSE:  General : 7.292697578725087\n"
     ]
    }
   ],
   "source": [
    "calculate_mae_mse(y_test_general, predictions_general, \"General\")"
   ]
  },
  {
   "cell_type": "code",
   "execution_count": 29,
   "id": "e3ba1ea0-b44d-41a6-83a0-7a1fe2b60502",
   "metadata": {},
   "outputs": [
    {
     "name": "stdout",
     "output_type": "stream",
     "text": [
      "MAE:  GK : 2.698174183185284\n",
      "MSE:  GK : 12.954949744863702\n"
     ]
    }
   ],
   "source": [
    "calculate_mae_mse(y_test_gk, predictions_gk, \"GK\")"
   ]
  },
  {
   "cell_type": "code",
   "execution_count": 30,
   "id": "a77a2510-ff80-45cb-bdb7-8f84ad8de260",
   "metadata": {},
   "outputs": [
    {
     "name": "stdout",
     "output_type": "stream",
     "text": [
      "MAE:  DEF : 1.8957080759348408\n",
      "MSE:  DEF : 5.352729038342859\n"
     ]
    }
   ],
   "source": [
    "calculate_mae_mse(y_test_def, predictions_def, \"DEF\")"
   ]
  },
  {
   "cell_type": "code",
   "execution_count": 31,
   "id": "1549f3fe-61b8-4b0f-acb6-a79f7d9ee025",
   "metadata": {},
   "outputs": [
    {
     "name": "stdout",
     "output_type": "stream",
     "text": [
      "MAE:  MID : 2.2256895764307543\n",
      "MSE:  MID : 8.322197527608141\n"
     ]
    }
   ],
   "source": [
    "calculate_mae_mse(y_test_mid, predictions_mid, \"MID\")"
   ]
  },
  {
   "cell_type": "code",
   "execution_count": 32,
   "id": "6b051810-0e1b-4d88-ab4a-d824195ac116",
   "metadata": {},
   "outputs": [
    {
     "name": "stdout",
     "output_type": "stream",
     "text": [
      "MAE:  FWD : 2.402178154541896\n",
      "MSE:  FWD : 11.355456529052866\n"
     ]
    }
   ],
   "source": [
    "calculate_mae_mse(y_test_fwd, predictions_fwd, \"FWD\")"
   ]
  },
  {
   "cell_type": "markdown",
   "id": "438dc7ca-6134-429b-bd5e-4a99261c2781",
   "metadata": {},
   "source": [
    "# Predictions - general"
   ]
  },
  {
   "cell_type": "code",
   "execution_count": 33,
   "id": "47919814-647b-499c-bd85-622590b952e5",
   "metadata": {},
   "outputs": [],
   "source": [
    "# X_test = df[df[\"GW\"] == GAMEWEEK_TO_PREDICT][features]\n",
    "# y_test = df[df[\"GW\"] == GAMEWEEK_TO_PREDICT][to_predict]"
   ]
  },
  {
   "cell_type": "code",
   "execution_count": 34,
   "id": "858c128b-d905-4544-9a20-5fb6cac3bfcb",
   "metadata": {},
   "outputs": [
    {
     "data": {
      "text/plain": [
       "array([2.6650984, 3.4984636, 0.8322028, 2.5347183, 2.9547577, 2.826534 ,\n",
       "       7.3674645, 3.1322207, 1.7301573, 2.5547783, 1.7841712, 4.255741 ,\n",
       "       1.9235464], dtype=float32)"
      ]
     },
     "execution_count": 34,
     "metadata": {},
     "output_type": "execute_result"
    }
   ],
   "source": [
    "predictions_gk"
   ]
  },
  {
   "cell_type": "code",
   "execution_count": 35,
   "id": "bf22664f-1602-456b-a4bc-3e56cb02a6a6",
   "metadata": {},
   "outputs": [],
   "source": [
    "df_predictions_general = df_general[df_general[\"GW\"] == GAMEWEEK_TO_PREDICT]\n",
    "\n",
    "df_predictions_gk = df_gk[df_gk[\"GW\"] == GAMEWEEK_TO_PREDICT]\n",
    "df_predictions_def = df_def[df_def[\"GW\"] == GAMEWEEK_TO_PREDICT]\n",
    "df_predictions_mid = df_mid[df_mid[\"GW\"] == GAMEWEEK_TO_PREDICT]\n",
    "df_predictions_fwd = df_fwd[df_fwd[\"GW\"] == GAMEWEEK_TO_PREDICT]"
   ]
  },
  {
   "cell_type": "code",
   "execution_count": 36,
   "id": "a3d777c8-c05c-40fa-aa70-bd5e5765854f",
   "metadata": {},
   "outputs": [
    {
     "data": {
      "text/plain": [
       "((101, 53), (13, 53), (31, 53), (44, 53), (13, 53))"
      ]
     },
     "execution_count": 36,
     "metadata": {},
     "output_type": "execute_result"
    }
   ],
   "source": [
    "df_predictions_general.shape, df_predictions_gk.shape, df_predictions_def.shape, df_predictions_mid.shape, df_predictions_fwd.shape"
   ]
  },
  {
   "cell_type": "code",
   "execution_count": 37,
   "id": "756054e4-d6dc-4cd3-92d3-d4cee5276f20",
   "metadata": {},
   "outputs": [
    {
     "data": {
      "text/plain": [
       "(101, 13, 31, 44, 13)"
      ]
     },
     "execution_count": 37,
     "metadata": {},
     "output_type": "execute_result"
    }
   ],
   "source": [
    "len(predictions_general), len(predictions_gk), len(predictions_def), len(predictions_mid), len(predictions_fwd)"
   ]
  },
  {
   "cell_type": "code",
   "execution_count": 38,
   "id": "d8da22c9-ad65-42b0-8e33-cb89395761f9",
   "metadata": {},
   "outputs": [
    {
     "name": "stderr",
     "output_type": "stream",
     "text": [
      "\n",
      "A value is trying to be set on a copy of a slice from a DataFrame.\n",
      "Try using .loc[row_indexer,col_indexer] = value instead\n",
      "\n",
      "See the caveats in the documentation: https://pandas.pydata.org/pandas-docs/stable/user_guide/indexing.html#returning-a-view-versus-a-copy\n",
      "\n",
      "A value is trying to be set on a copy of a slice from a DataFrame.\n",
      "Try using .loc[row_indexer,col_indexer] = value instead\n",
      "\n",
      "See the caveats in the documentation: https://pandas.pydata.org/pandas-docs/stable/user_guide/indexing.html#returning-a-view-versus-a-copy\n",
      "\n",
      "A value is trying to be set on a copy of a slice from a DataFrame.\n",
      "Try using .loc[row_indexer,col_indexer] = value instead\n",
      "\n",
      "See the caveats in the documentation: https://pandas.pydata.org/pandas-docs/stable/user_guide/indexing.html#returning-a-view-versus-a-copy\n",
      "\n",
      "A value is trying to be set on a copy of a slice from a DataFrame.\n",
      "Try using .loc[row_indexer,col_indexer] = value instead\n",
      "\n",
      "See the caveats in the documentation: https://pandas.pydata.org/pandas-docs/stable/user_guide/indexing.html#returning-a-view-versus-a-copy\n",
      "\n",
      "A value is trying to be set on a copy of a slice from a DataFrame.\n",
      "Try using .loc[row_indexer,col_indexer] = value instead\n",
      "\n",
      "See the caveats in the documentation: https://pandas.pydata.org/pandas-docs/stable/user_guide/indexing.html#returning-a-view-versus-a-copy\n"
     ]
    }
   ],
   "source": [
    "df_predictions_general[\"pred\"] = predictions_general\n",
    "\n",
    "df_predictions_gk[\"pred\"] = predictions_gk\n",
    "df_predictions_def[\"pred\"] = predictions_def\n",
    "df_predictions_mid[\"pred\"] = predictions_mid\n",
    "df_predictions_fwd[\"pred\"] = predictions_fwd"
   ]
  },
  {
   "cell_type": "code",
   "execution_count": 39,
   "id": "1de0dbe5-2b5f-472d-9f2d-2300dab2b19c",
   "metadata": {},
   "outputs": [],
   "source": [
    "# model.predict(df[df[\"GW\"] == GAMEWEEK_TO_PREDICT][df[\"Name\"] == \"Mohamed-Salah\"][features])"
   ]
  },
  {
   "cell_type": "code",
   "execution_count": 40,
   "id": "3fe1c712-ea38-4a91-9717-d4f520ffcb82",
   "metadata": {},
   "outputs": [
    {
     "data": {
      "text/html": [
       "<div>\n",
       "<style scoped>\n",
       "    .dataframe tbody tr th:only-of-type {\n",
       "        vertical-align: middle;\n",
       "    }\n",
       "\n",
       "    .dataframe tbody tr th {\n",
       "        vertical-align: top;\n",
       "    }\n",
       "\n",
       "    .dataframe thead th {\n",
       "        text-align: right;\n",
       "    }\n",
       "</style>\n",
       "<table border=\"1\" class=\"dataframe\">\n",
       "  <thead>\n",
       "    <tr style=\"text-align: right;\">\n",
       "      <th></th>\n",
       "      <th>Name</th>\n",
       "      <th>GW</th>\n",
       "      <th>Squad</th>\n",
       "      <th>Opponent</th>\n",
       "      <th>Was Home</th>\n",
       "      <th>Opp rating</th>\n",
       "      <th>Total Points</th>\n",
       "      <th>pred</th>\n",
       "    </tr>\n",
       "  </thead>\n",
       "  <tbody>\n",
       "    <tr>\n",
       "      <th>1508</th>\n",
       "      <td>Nick-Pope</td>\n",
       "      <td>19</td>\n",
       "      <td>Newcastle Utd</td>\n",
       "      <td>Arsenal</td>\n",
       "      <td>0.0</td>\n",
       "      <td>1934.447754</td>\n",
       "      <td>10.0</td>\n",
       "      <td>6.330171</td>\n",
       "    </tr>\n",
       "    <tr>\n",
       "      <th>663</th>\n",
       "      <td>Lukasz-Fabianski</td>\n",
       "      <td>19</td>\n",
       "      <td>West Ham</td>\n",
       "      <td>Leeds United</td>\n",
       "      <td>0.0</td>\n",
       "      <td>1712.961670</td>\n",
       "      <td>2.0</td>\n",
       "      <td>6.155674</td>\n",
       "    </tr>\n",
       "    <tr>\n",
       "      <th>1567</th>\n",
       "      <td>Declan-Rice</td>\n",
       "      <td>19</td>\n",
       "      <td>West Ham</td>\n",
       "      <td>Leeds United</td>\n",
       "      <td>0.0</td>\n",
       "      <td>1712.961670</td>\n",
       "      <td>2.0</td>\n",
       "      <td>6.155674</td>\n",
       "    </tr>\n",
       "    <tr>\n",
       "      <th>1254</th>\n",
       "      <td>Ben-Mee</td>\n",
       "      <td>19</td>\n",
       "      <td>Brentford</td>\n",
       "      <td>Liverpool</td>\n",
       "      <td>1.0</td>\n",
       "      <td>2006.804077</td>\n",
       "      <td>2.0</td>\n",
       "      <td>5.785633</td>\n",
       "    </tr>\n",
       "    <tr>\n",
       "      <th>834</th>\n",
       "      <td>Dean-Henderson</td>\n",
       "      <td>19</td>\n",
       "      <td>Nott'ham Forest</td>\n",
       "      <td>Southampton</td>\n",
       "      <td>0.0</td>\n",
       "      <td>1658.088989</td>\n",
       "      <td>7.0</td>\n",
       "      <td>5.751150</td>\n",
       "    </tr>\n",
       "    <tr>\n",
       "      <th>443</th>\n",
       "      <td>Lewis-Cook</td>\n",
       "      <td>19</td>\n",
       "      <td>Bournemouth</td>\n",
       "      <td>Manchester Utd</td>\n",
       "      <td>0.0</td>\n",
       "      <td>1859.299194</td>\n",
       "      <td>2.0</td>\n",
       "      <td>4.843160</td>\n",
       "    </tr>\n",
       "    <tr>\n",
       "      <th>1322</th>\n",
       "      <td>Kieffer-Moore</td>\n",
       "      <td>19</td>\n",
       "      <td>Bournemouth</td>\n",
       "      <td>Manchester Utd</td>\n",
       "      <td>0.0</td>\n",
       "      <td>1859.299194</td>\n",
       "      <td>1.0</td>\n",
       "      <td>4.843160</td>\n",
       "    </tr>\n",
       "    <tr>\n",
       "      <th>327</th>\n",
       "      <td>Dan-Burn</td>\n",
       "      <td>19</td>\n",
       "      <td>Newcastle Utd</td>\n",
       "      <td>Arsenal</td>\n",
       "      <td>0.0</td>\n",
       "      <td>1934.447754</td>\n",
       "      <td>6.0</td>\n",
       "      <td>4.842260</td>\n",
       "    </tr>\n",
       "    <tr>\n",
       "      <th>1696</th>\n",
       "      <td>Fabian-Schar</td>\n",
       "      <td>19</td>\n",
       "      <td>Newcastle Utd</td>\n",
       "      <td>Arsenal</td>\n",
       "      <td>0.0</td>\n",
       "      <td>1934.447754</td>\n",
       "      <td>6.0</td>\n",
       "      <td>4.842260</td>\n",
       "    </tr>\n",
       "    <tr>\n",
       "      <th>279</th>\n",
       "      <td>Sven-Botman</td>\n",
       "      <td>19</td>\n",
       "      <td>Newcastle Utd</td>\n",
       "      <td>Arsenal</td>\n",
       "      <td>0.0</td>\n",
       "      <td>1934.447754</td>\n",
       "      <td>6.0</td>\n",
       "      <td>4.842260</td>\n",
       "    </tr>\n",
       "    <tr>\n",
       "      <th>1847</th>\n",
       "      <td>Youri-Tielemans</td>\n",
       "      <td>19</td>\n",
       "      <td>Leicester City</td>\n",
       "      <td>Fulham</td>\n",
       "      <td>1.0</td>\n",
       "      <td>1705.027588</td>\n",
       "      <td>2.0</td>\n",
       "      <td>4.482217</td>\n",
       "    </tr>\n",
       "    <tr>\n",
       "      <th>79</th>\n",
       "      <td>Miguel-Almiron</td>\n",
       "      <td>19</td>\n",
       "      <td>Newcastle Utd</td>\n",
       "      <td>Arsenal</td>\n",
       "      <td>0.0</td>\n",
       "      <td>1934.447754</td>\n",
       "      <td>2.0</td>\n",
       "      <td>4.438728</td>\n",
       "    </tr>\n",
       "    <tr>\n",
       "      <th>2075</th>\n",
       "      <td>Chris-Wood</td>\n",
       "      <td>19</td>\n",
       "      <td>Newcastle Utd</td>\n",
       "      <td>Arsenal</td>\n",
       "      <td>0.0</td>\n",
       "      <td>1934.447754</td>\n",
       "      <td>1.0</td>\n",
       "      <td>4.438728</td>\n",
       "    </tr>\n",
       "    <tr>\n",
       "      <th>2047</th>\n",
       "      <td>Joe-Willock</td>\n",
       "      <td>19</td>\n",
       "      <td>Newcastle Utd</td>\n",
       "      <td>Arsenal</td>\n",
       "      <td>0.0</td>\n",
       "      <td>1934.447754</td>\n",
       "      <td>3.0</td>\n",
       "      <td>4.438728</td>\n",
       "    </tr>\n",
       "    <tr>\n",
       "      <th>260</th>\n",
       "      <td>Philip-Billing</td>\n",
       "      <td>19</td>\n",
       "      <td>Bournemouth</td>\n",
       "      <td>Manchester Utd</td>\n",
       "      <td>0.0</td>\n",
       "      <td>1859.299194</td>\n",
       "      <td>1.0</td>\n",
       "      <td>4.384287</td>\n",
       "    </tr>\n",
       "    <tr>\n",
       "      <th>1883</th>\n",
       "      <td>Mark-Travers</td>\n",
       "      <td>19</td>\n",
       "      <td>Bournemouth</td>\n",
       "      <td>Manchester Utd</td>\n",
       "      <td>0.0</td>\n",
       "      <td>1859.299194</td>\n",
       "      <td>2.0</td>\n",
       "      <td>4.384287</td>\n",
       "    </tr>\n",
       "    <tr>\n",
       "      <th>955</th>\n",
       "      <td>Brennan-Johnson</td>\n",
       "      <td>19</td>\n",
       "      <td>Nott'ham Forest</td>\n",
       "      <td>Southampton</td>\n",
       "      <td>0.0</td>\n",
       "      <td>1658.088989</td>\n",
       "      <td>4.0</td>\n",
       "      <td>4.356599</td>\n",
       "    </tr>\n",
       "    <tr>\n",
       "      <th>2086</th>\n",
       "      <td>Joe-Worrall</td>\n",
       "      <td>19</td>\n",
       "      <td>Nott'ham Forest</td>\n",
       "      <td>Southampton</td>\n",
       "      <td>0.0</td>\n",
       "      <td>1658.088989</td>\n",
       "      <td>6.0</td>\n",
       "      <td>4.356599</td>\n",
       "    </tr>\n",
       "    <tr>\n",
       "      <th>1232</th>\n",
       "      <td>Scott-McKenna</td>\n",
       "      <td>19</td>\n",
       "      <td>Nott'ham Forest</td>\n",
       "      <td>Southampton</td>\n",
       "      <td>0.0</td>\n",
       "      <td>1658.088989</td>\n",
       "      <td>0.0</td>\n",
       "      <td>4.005859</td>\n",
       "    </tr>\n",
       "    <tr>\n",
       "      <th>210</th>\n",
       "      <td>Gavin-Bazunu</td>\n",
       "      <td>19</td>\n",
       "      <td>Southampton</td>\n",
       "      <td>Nott'ham Forest</td>\n",
       "      <td>1.0</td>\n",
       "      <td>1630.994873</td>\n",
       "      <td>2.0</td>\n",
       "      <td>3.747025</td>\n",
       "    </tr>\n",
       "  </tbody>\n",
       "</table>\n",
       "</div>"
      ],
      "text/plain": [
       "                  Name  GW            Squad         Opponent  Was Home  \\\n",
       "1508         Nick-Pope  19    Newcastle Utd          Arsenal       0.0   \n",
       "663   Lukasz-Fabianski  19         West Ham     Leeds United       0.0   \n",
       "1567       Declan-Rice  19         West Ham     Leeds United       0.0   \n",
       "1254           Ben-Mee  19        Brentford        Liverpool       1.0   \n",
       "834     Dean-Henderson  19  Nott'ham Forest      Southampton       0.0   \n",
       "443         Lewis-Cook  19      Bournemouth   Manchester Utd       0.0   \n",
       "1322     Kieffer-Moore  19      Bournemouth   Manchester Utd       0.0   \n",
       "327           Dan-Burn  19    Newcastle Utd          Arsenal       0.0   \n",
       "1696      Fabian-Schar  19    Newcastle Utd          Arsenal       0.0   \n",
       "279        Sven-Botman  19    Newcastle Utd          Arsenal       0.0   \n",
       "1847   Youri-Tielemans  19   Leicester City           Fulham       1.0   \n",
       "79      Miguel-Almiron  19    Newcastle Utd          Arsenal       0.0   \n",
       "2075        Chris-Wood  19    Newcastle Utd          Arsenal       0.0   \n",
       "2047       Joe-Willock  19    Newcastle Utd          Arsenal       0.0   \n",
       "260     Philip-Billing  19      Bournemouth   Manchester Utd       0.0   \n",
       "1883      Mark-Travers  19      Bournemouth   Manchester Utd       0.0   \n",
       "955    Brennan-Johnson  19  Nott'ham Forest      Southampton       0.0   \n",
       "2086       Joe-Worrall  19  Nott'ham Forest      Southampton       0.0   \n",
       "1232     Scott-McKenna  19  Nott'ham Forest      Southampton       0.0   \n",
       "210       Gavin-Bazunu  19      Southampton  Nott'ham Forest       1.0   \n",
       "\n",
       "       Opp rating  Total Points      pred  \n",
       "1508  1934.447754          10.0  6.330171  \n",
       "663   1712.961670           2.0  6.155674  \n",
       "1567  1712.961670           2.0  6.155674  \n",
       "1254  2006.804077           2.0  5.785633  \n",
       "834   1658.088989           7.0  5.751150  \n",
       "443   1859.299194           2.0  4.843160  \n",
       "1322  1859.299194           1.0  4.843160  \n",
       "327   1934.447754           6.0  4.842260  \n",
       "1696  1934.447754           6.0  4.842260  \n",
       "279   1934.447754           6.0  4.842260  \n",
       "1847  1705.027588           2.0  4.482217  \n",
       "79    1934.447754           2.0  4.438728  \n",
       "2075  1934.447754           1.0  4.438728  \n",
       "2047  1934.447754           3.0  4.438728  \n",
       "260   1859.299194           1.0  4.384287  \n",
       "1883  1859.299194           2.0  4.384287  \n",
       "955   1658.088989           4.0  4.356599  \n",
       "2086  1658.088989           6.0  4.356599  \n",
       "1232  1658.088989           0.0  4.005859  \n",
       "210   1630.994873           2.0  3.747025  "
      ]
     },
     "execution_count": 40,
     "metadata": {},
     "output_type": "execute_result"
    }
   ],
   "source": [
    "df_predictions_general[info + to_predict + [\"pred\"]].sort_values(by=[\"pred\"], ascending = False).head(20)"
   ]
  },
  {
   "cell_type": "code",
   "execution_count": 41,
   "id": "c7c6bd31-e344-4b5d-8368-ffcae8acb1f7",
   "metadata": {},
   "outputs": [
    {
     "data": {
      "text/html": [
       "<div>\n",
       "<style scoped>\n",
       "    .dataframe tbody tr th:only-of-type {\n",
       "        vertical-align: middle;\n",
       "    }\n",
       "\n",
       "    .dataframe tbody tr th {\n",
       "        vertical-align: top;\n",
       "    }\n",
       "\n",
       "    .dataframe thead th {\n",
       "        text-align: right;\n",
       "    }\n",
       "</style>\n",
       "<table border=\"1\" class=\"dataframe\">\n",
       "  <thead>\n",
       "    <tr style=\"text-align: right;\">\n",
       "      <th></th>\n",
       "      <th>Name</th>\n",
       "      <th>GW</th>\n",
       "      <th>Squad</th>\n",
       "      <th>Opponent</th>\n",
       "      <th>Was Home</th>\n",
       "      <th>Opp rating</th>\n",
       "      <th>Total Points</th>\n",
       "      <th>pred</th>\n",
       "    </tr>\n",
       "  </thead>\n",
       "  <tbody>\n",
       "    <tr>\n",
       "      <th>106</th>\n",
       "      <td>Robin-Olsen</td>\n",
       "      <td>19</td>\n",
       "      <td>Aston Villa</td>\n",
       "      <td>Wolves</td>\n",
       "      <td>1.0</td>\n",
       "      <td>1686.353516</td>\n",
       "      <td>0.0</td>\n",
       "      <td>7.367465</td>\n",
       "    </tr>\n",
       "    <tr>\n",
       "      <th>181</th>\n",
       "      <td>Mark-Travers</td>\n",
       "      <td>19</td>\n",
       "      <td>Bournemouth</td>\n",
       "      <td>Manchester Utd</td>\n",
       "      <td>0.0</td>\n",
       "      <td>1859.299194</td>\n",
       "      <td>2.0</td>\n",
       "      <td>4.255741</td>\n",
       "    </tr>\n",
       "    <tr>\n",
       "      <th>42</th>\n",
       "      <td>Asmir-Begovic</td>\n",
       "      <td>19</td>\n",
       "      <td>Everton</td>\n",
       "      <td>Brighton</td>\n",
       "      <td>1.0</td>\n",
       "      <td>1791.688232</td>\n",
       "      <td>0.0</td>\n",
       "      <td>3.498464</td>\n",
       "    </tr>\n",
       "    <tr>\n",
       "      <th>127</th>\n",
       "      <td>Nick-Pope</td>\n",
       "      <td>19</td>\n",
       "      <td>Newcastle Utd</td>\n",
       "      <td>Arsenal</td>\n",
       "      <td>0.0</td>\n",
       "      <td>1934.447754</td>\n",
       "      <td>10.0</td>\n",
       "      <td>3.132221</td>\n",
       "    </tr>\n",
       "    <tr>\n",
       "      <th>74</th>\n",
       "      <td>Wayne-Hennessey</td>\n",
       "      <td>19</td>\n",
       "      <td>Nott'ham Forest</td>\n",
       "      <td>Southampton</td>\n",
       "      <td>0.0</td>\n",
       "      <td>1658.088989</td>\n",
       "      <td>0.0</td>\n",
       "      <td>2.954758</td>\n",
       "    </tr>\n",
       "    <tr>\n",
       "      <th>85</th>\n",
       "      <td>Emiliano-Martinez</td>\n",
       "      <td>19</td>\n",
       "      <td>Aston Villa</td>\n",
       "      <td>Wolves</td>\n",
       "      <td>1.0</td>\n",
       "      <td>1686.353516</td>\n",
       "      <td>2.0</td>\n",
       "      <td>2.826534</td>\n",
       "    </tr>\n",
       "    <tr>\n",
       "      <th>31</th>\n",
       "      <td>Gavin-Bazunu</td>\n",
       "      <td>19</td>\n",
       "      <td>Southampton</td>\n",
       "      <td>Nott'ham Forest</td>\n",
       "      <td>1.0</td>\n",
       "      <td>1630.994873</td>\n",
       "      <td>2.0</td>\n",
       "      <td>2.665098</td>\n",
       "    </tr>\n",
       "    <tr>\n",
       "      <th>148</th>\n",
       "      <td>David-Raya</td>\n",
       "      <td>19</td>\n",
       "      <td>Brentford</td>\n",
       "      <td>Liverpool</td>\n",
       "      <td>1.0</td>\n",
       "      <td>2006.804077</td>\n",
       "      <td>3.0</td>\n",
       "      <td>2.554778</td>\n",
       "    </tr>\n",
       "    <tr>\n",
       "      <th>63</th>\n",
       "      <td>Dean-Henderson</td>\n",
       "      <td>19</td>\n",
       "      <td>Nott'ham Forest</td>\n",
       "      <td>Southampton</td>\n",
       "      <td>0.0</td>\n",
       "      <td>1658.088989</td>\n",
       "      <td>7.0</td>\n",
       "      <td>2.534718</td>\n",
       "    </tr>\n",
       "    <tr>\n",
       "      <th>192</th>\n",
       "      <td>Danny-Ward</td>\n",
       "      <td>19</td>\n",
       "      <td>Leicester City</td>\n",
       "      <td>Fulham</td>\n",
       "      <td>1.0</td>\n",
       "      <td>1705.027588</td>\n",
       "      <td>2.0</td>\n",
       "      <td>1.923546</td>\n",
       "    </tr>\n",
       "    <tr>\n",
       "      <th>160</th>\n",
       "      <td>Jose-Sa</td>\n",
       "      <td>19</td>\n",
       "      <td>Wolves</td>\n",
       "      <td>Aston Villa</td>\n",
       "      <td>0.0</td>\n",
       "      <td>1757.067871</td>\n",
       "      <td>2.0</td>\n",
       "      <td>1.784171</td>\n",
       "    </tr>\n",
       "    <tr>\n",
       "      <th>137</th>\n",
       "      <td>Aaron-Ramsdale</td>\n",
       "      <td>19</td>\n",
       "      <td>Arsenal</td>\n",
       "      <td>Newcastle Utd</td>\n",
       "      <td>1.0</td>\n",
       "      <td>1850.296631</td>\n",
       "      <td>6.0</td>\n",
       "      <td>1.730157</td>\n",
       "    </tr>\n",
       "    <tr>\n",
       "      <th>53</th>\n",
       "      <td>Lukasz-Fabianski</td>\n",
       "      <td>19</td>\n",
       "      <td>West Ham</td>\n",
       "      <td>Leeds United</td>\n",
       "      <td>0.0</td>\n",
       "      <td>1712.961670</td>\n",
       "      <td>2.0</td>\n",
       "      <td>0.832203</td>\n",
       "    </tr>\n",
       "  </tbody>\n",
       "</table>\n",
       "</div>"
      ],
      "text/plain": [
       "                  Name  GW            Squad         Opponent  Was Home  \\\n",
       "106        Robin-Olsen  19      Aston Villa           Wolves       1.0   \n",
       "181       Mark-Travers  19      Bournemouth   Manchester Utd       0.0   \n",
       "42       Asmir-Begovic  19          Everton         Brighton       1.0   \n",
       "127          Nick-Pope  19    Newcastle Utd          Arsenal       0.0   \n",
       "74     Wayne-Hennessey  19  Nott'ham Forest      Southampton       0.0   \n",
       "85   Emiliano-Martinez  19      Aston Villa           Wolves       1.0   \n",
       "31        Gavin-Bazunu  19      Southampton  Nott'ham Forest       1.0   \n",
       "148         David-Raya  19        Brentford        Liverpool       1.0   \n",
       "63      Dean-Henderson  19  Nott'ham Forest      Southampton       0.0   \n",
       "192         Danny-Ward  19   Leicester City           Fulham       1.0   \n",
       "160            Jose-Sa  19           Wolves      Aston Villa       0.0   \n",
       "137     Aaron-Ramsdale  19          Arsenal    Newcastle Utd       1.0   \n",
       "53    Lukasz-Fabianski  19         West Ham     Leeds United       0.0   \n",
       "\n",
       "      Opp rating  Total Points      pred  \n",
       "106  1686.353516           0.0  7.367465  \n",
       "181  1859.299194           2.0  4.255741  \n",
       "42   1791.688232           0.0  3.498464  \n",
       "127  1934.447754          10.0  3.132221  \n",
       "74   1658.088989           0.0  2.954758  \n",
       "85   1686.353516           2.0  2.826534  \n",
       "31   1630.994873           2.0  2.665098  \n",
       "148  2006.804077           3.0  2.554778  \n",
       "63   1658.088989           7.0  2.534718  \n",
       "192  1705.027588           2.0  1.923546  \n",
       "160  1757.067871           2.0  1.784171  \n",
       "137  1850.296631           6.0  1.730157  \n",
       "53   1712.961670           2.0  0.832203  "
      ]
     },
     "execution_count": 41,
     "metadata": {},
     "output_type": "execute_result"
    }
   ],
   "source": [
    "df_predictions_gk[info + to_predict + [\"pred\"]].sort_values(by=[\"pred\"], ascending = False).head(20)"
   ]
  },
  {
   "cell_type": "code",
   "execution_count": 42,
   "id": "4790492a-c8da-437c-b963-2ad5113e4aa9",
   "metadata": {},
   "outputs": [
    {
     "data": {
      "text/html": [
       "<div>\n",
       "<style scoped>\n",
       "    .dataframe tbody tr th:only-of-type {\n",
       "        vertical-align: middle;\n",
       "    }\n",
       "\n",
       "    .dataframe tbody tr th {\n",
       "        vertical-align: top;\n",
       "    }\n",
       "\n",
       "    .dataframe thead th {\n",
       "        text-align: right;\n",
       "    }\n",
       "</style>\n",
       "<table border=\"1\" class=\"dataframe\">\n",
       "  <thead>\n",
       "    <tr style=\"text-align: right;\">\n",
       "      <th></th>\n",
       "      <th>Name</th>\n",
       "      <th>GW</th>\n",
       "      <th>Squad</th>\n",
       "      <th>Opponent</th>\n",
       "      <th>Was Home</th>\n",
       "      <th>Opp rating</th>\n",
       "      <th>Total Points</th>\n",
       "      <th>pred</th>\n",
       "    </tr>\n",
       "  </thead>\n",
       "  <tbody>\n",
       "    <tr>\n",
       "      <th>618</th>\n",
       "      <td>Kieran-Trippier</td>\n",
       "      <td>19</td>\n",
       "      <td>Newcastle Utd</td>\n",
       "      <td>Arsenal</td>\n",
       "      <td>0.0</td>\n",
       "      <td>1934.447754</td>\n",
       "      <td>8.0</td>\n",
       "      <td>5.293732</td>\n",
       "    </tr>\n",
       "    <tr>\n",
       "      <th>94</th>\n",
       "      <td>Dan-Burn</td>\n",
       "      <td>19</td>\n",
       "      <td>Newcastle Utd</td>\n",
       "      <td>Arsenal</td>\n",
       "      <td>0.0</td>\n",
       "      <td>1934.447754</td>\n",
       "      <td>6.0</td>\n",
       "      <td>4.313558</td>\n",
       "    </tr>\n",
       "    <tr>\n",
       "      <th>76</th>\n",
       "      <td>Sven-Botman</td>\n",
       "      <td>19</td>\n",
       "      <td>Newcastle Utd</td>\n",
       "      <td>Arsenal</td>\n",
       "      <td>0.0</td>\n",
       "      <td>1934.447754</td>\n",
       "      <td>6.0</td>\n",
       "      <td>4.240762</td>\n",
       "    </tr>\n",
       "    <tr>\n",
       "      <th>392</th>\n",
       "      <td>Scott-McKenna</td>\n",
       "      <td>19</td>\n",
       "      <td>Nott'ham Forest</td>\n",
       "      <td>Southampton</td>\n",
       "      <td>0.0</td>\n",
       "      <td>1658.088989</td>\n",
       "      <td>0.0</td>\n",
       "      <td>4.232279</td>\n",
       "    </tr>\n",
       "    <tr>\n",
       "      <th>696</th>\n",
       "      <td>Joe-Worrall</td>\n",
       "      <td>19</td>\n",
       "      <td>Nott'ham Forest</td>\n",
       "      <td>Southampton</td>\n",
       "      <td>0.0</td>\n",
       "      <td>1658.088989</td>\n",
       "      <td>6.0</td>\n",
       "      <td>3.836002</td>\n",
       "    </tr>\n",
       "    <tr>\n",
       "      <th>511</th>\n",
       "      <td>Fabian-Schar</td>\n",
       "      <td>19</td>\n",
       "      <td>Newcastle Utd</td>\n",
       "      <td>Arsenal</td>\n",
       "      <td>0.0</td>\n",
       "      <td>1934.447754</td>\n",
       "      <td>6.0</td>\n",
       "      <td>3.513605</td>\n",
       "    </tr>\n",
       "    <tr>\n",
       "      <th>113</th>\n",
       "      <td>Timothy-Castagne</td>\n",
       "      <td>19</td>\n",
       "      <td>Leicester City</td>\n",
       "      <td>Fulham</td>\n",
       "      <td>1.0</td>\n",
       "      <td>1705.027588</td>\n",
       "      <td>1.0</td>\n",
       "      <td>3.261279</td>\n",
       "    </tr>\n",
       "    <tr>\n",
       "      <th>685</th>\n",
       "      <td>Neco-Williams</td>\n",
       "      <td>19</td>\n",
       "      <td>Nott'ham Forest</td>\n",
       "      <td>Southampton</td>\n",
       "      <td>0.0</td>\n",
       "      <td>1658.088989</td>\n",
       "      <td>1.0</td>\n",
       "      <td>3.082120</td>\n",
       "    </tr>\n",
       "    <tr>\n",
       "      <th>143</th>\n",
       "      <td>Conor-Coady</td>\n",
       "      <td>19</td>\n",
       "      <td>Everton</td>\n",
       "      <td>Brighton</td>\n",
       "      <td>1.0</td>\n",
       "      <td>1791.688232</td>\n",
       "      <td>0.0</td>\n",
       "      <td>2.651594</td>\n",
       "    </tr>\n",
       "    <tr>\n",
       "      <th>412</th>\n",
       "      <td>Chris-Mepham</td>\n",
       "      <td>19</td>\n",
       "      <td>Bournemouth</td>\n",
       "      <td>Manchester Utd</td>\n",
       "      <td>0.0</td>\n",
       "      <td>1859.299194</td>\n",
       "      <td>1.0</td>\n",
       "      <td>2.587540</td>\n",
       "    </tr>\n",
       "    <tr>\n",
       "      <th>591</th>\n",
       "      <td>Luke-Thomas</td>\n",
       "      <td>19</td>\n",
       "      <td>Leicester City</td>\n",
       "      <td>Fulham</td>\n",
       "      <td>1.0</td>\n",
       "      <td>1705.027588</td>\n",
       "      <td>2.0</td>\n",
       "      <td>2.426279</td>\n",
       "    </tr>\n",
       "    <tr>\n",
       "      <th>281</th>\n",
       "      <td>Rob-Holding</td>\n",
       "      <td>19</td>\n",
       "      <td>Arsenal</td>\n",
       "      <td>Newcastle Utd</td>\n",
       "      <td>1.0</td>\n",
       "      <td>1850.296631</td>\n",
       "      <td>0.0</td>\n",
       "      <td>2.360912</td>\n",
       "    </tr>\n",
       "    <tr>\n",
       "      <th>489</th>\n",
       "      <td>William-Saliba</td>\n",
       "      <td>19</td>\n",
       "      <td>Arsenal</td>\n",
       "      <td>Newcastle Utd</td>\n",
       "      <td>1.0</td>\n",
       "      <td>1850.296631</td>\n",
       "      <td>7.0</td>\n",
       "      <td>2.100668</td>\n",
       "    </tr>\n",
       "    <tr>\n",
       "      <th>552</th>\n",
       "      <td>Jack-Stacey</td>\n",
       "      <td>19</td>\n",
       "      <td>Bournemouth</td>\n",
       "      <td>Manchester Utd</td>\n",
       "      <td>0.0</td>\n",
       "      <td>1859.299194</td>\n",
       "      <td>0.0</td>\n",
       "      <td>2.059168</td>\n",
       "    </tr>\n",
       "    <tr>\n",
       "      <th>211</th>\n",
       "      <td>Gabriel-Dos-Santos</td>\n",
       "      <td>19</td>\n",
       "      <td>Arsenal</td>\n",
       "      <td>Newcastle Utd</td>\n",
       "      <td>1.0</td>\n",
       "      <td>1850.296631</td>\n",
       "      <td>6.0</td>\n",
       "      <td>1.741206</td>\n",
       "    </tr>\n",
       "    <tr>\n",
       "      <th>122</th>\n",
       "      <td>Jonny-Castro</td>\n",
       "      <td>19</td>\n",
       "      <td>Wolves</td>\n",
       "      <td>Aston Villa</td>\n",
       "      <td>0.0</td>\n",
       "      <td>1757.067871</td>\n",
       "      <td>0.0</td>\n",
       "      <td>1.691997</td>\n",
       "    </tr>\n",
       "    <tr>\n",
       "      <th>403</th>\n",
       "      <td>Ben-Mee</td>\n",
       "      <td>19</td>\n",
       "      <td>Brentford</td>\n",
       "      <td>Liverpool</td>\n",
       "      <td>1.0</td>\n",
       "      <td>2006.804077</td>\n",
       "      <td>2.0</td>\n",
       "      <td>1.677363</td>\n",
       "    </tr>\n",
       "    <tr>\n",
       "      <th>479</th>\n",
       "      <td>Mads-Roerslev</td>\n",
       "      <td>19</td>\n",
       "      <td>Brentford</td>\n",
       "      <td>Liverpool</td>\n",
       "      <td>1.0</td>\n",
       "      <td>2006.804077</td>\n",
       "      <td>2.0</td>\n",
       "      <td>1.677363</td>\n",
       "    </tr>\n",
       "    <tr>\n",
       "      <th>601</th>\n",
       "      <td>Kieran-Tierney</td>\n",
       "      <td>19</td>\n",
       "      <td>Arsenal</td>\n",
       "      <td>Newcastle Utd</td>\n",
       "      <td>1.0</td>\n",
       "      <td>1850.296631</td>\n",
       "      <td>0.0</td>\n",
       "      <td>1.661020</td>\n",
       "    </tr>\n",
       "    <tr>\n",
       "      <th>674</th>\n",
       "      <td>Ben-White</td>\n",
       "      <td>19</td>\n",
       "      <td>Arsenal</td>\n",
       "      <td>Newcastle Utd</td>\n",
       "      <td>1.0</td>\n",
       "      <td>1850.296631</td>\n",
       "      <td>7.0</td>\n",
       "      <td>1.597814</td>\n",
       "    </tr>\n",
       "  </tbody>\n",
       "</table>\n",
       "</div>"
      ],
      "text/plain": [
       "                   Name  GW            Squad        Opponent  Was Home  \\\n",
       "618     Kieran-Trippier  19    Newcastle Utd         Arsenal       0.0   \n",
       "94             Dan-Burn  19    Newcastle Utd         Arsenal       0.0   \n",
       "76          Sven-Botman  19    Newcastle Utd         Arsenal       0.0   \n",
       "392       Scott-McKenna  19  Nott'ham Forest     Southampton       0.0   \n",
       "696         Joe-Worrall  19  Nott'ham Forest     Southampton       0.0   \n",
       "511        Fabian-Schar  19    Newcastle Utd         Arsenal       0.0   \n",
       "113    Timothy-Castagne  19   Leicester City          Fulham       1.0   \n",
       "685       Neco-Williams  19  Nott'ham Forest     Southampton       0.0   \n",
       "143         Conor-Coady  19          Everton        Brighton       1.0   \n",
       "412        Chris-Mepham  19      Bournemouth  Manchester Utd       0.0   \n",
       "591         Luke-Thomas  19   Leicester City          Fulham       1.0   \n",
       "281         Rob-Holding  19          Arsenal   Newcastle Utd       1.0   \n",
       "489      William-Saliba  19          Arsenal   Newcastle Utd       1.0   \n",
       "552         Jack-Stacey  19      Bournemouth  Manchester Utd       0.0   \n",
       "211  Gabriel-Dos-Santos  19          Arsenal   Newcastle Utd       1.0   \n",
       "122        Jonny-Castro  19           Wolves     Aston Villa       0.0   \n",
       "403             Ben-Mee  19        Brentford       Liverpool       1.0   \n",
       "479       Mads-Roerslev  19        Brentford       Liverpool       1.0   \n",
       "601      Kieran-Tierney  19          Arsenal   Newcastle Utd       1.0   \n",
       "674           Ben-White  19          Arsenal   Newcastle Utd       1.0   \n",
       "\n",
       "      Opp rating  Total Points      pred  \n",
       "618  1934.447754           8.0  5.293732  \n",
       "94   1934.447754           6.0  4.313558  \n",
       "76   1934.447754           6.0  4.240762  \n",
       "392  1658.088989           0.0  4.232279  \n",
       "696  1658.088989           6.0  3.836002  \n",
       "511  1934.447754           6.0  3.513605  \n",
       "113  1705.027588           1.0  3.261279  \n",
       "685  1658.088989           1.0  3.082120  \n",
       "143  1791.688232           0.0  2.651594  \n",
       "412  1859.299194           1.0  2.587540  \n",
       "591  1705.027588           2.0  2.426279  \n",
       "281  1850.296631           0.0  2.360912  \n",
       "489  1850.296631           7.0  2.100668  \n",
       "552  1859.299194           0.0  2.059168  \n",
       "211  1850.296631           6.0  1.741206  \n",
       "122  1757.067871           0.0  1.691997  \n",
       "403  2006.804077           2.0  1.677363  \n",
       "479  2006.804077           2.0  1.677363  \n",
       "601  1850.296631           0.0  1.661020  \n",
       "674  1850.296631           7.0  1.597814  "
      ]
     },
     "execution_count": 42,
     "metadata": {},
     "output_type": "execute_result"
    }
   ],
   "source": [
    "df_predictions_def[info + to_predict + [\"pred\"]].sort_values(by=[\"pred\"], ascending = False).head(20)"
   ]
  },
  {
   "cell_type": "code",
   "execution_count": 43,
   "id": "f07c9467-49dd-4f65-a433-81aa15615855",
   "metadata": {},
   "outputs": [
    {
     "data": {
      "text/html": [
       "<div>\n",
       "<style scoped>\n",
       "    .dataframe tbody tr th:only-of-type {\n",
       "        vertical-align: middle;\n",
       "    }\n",
       "\n",
       "    .dataframe tbody tr th {\n",
       "        vertical-align: top;\n",
       "    }\n",
       "\n",
       "    .dataframe thead th {\n",
       "        text-align: right;\n",
       "    }\n",
       "</style>\n",
       "<table border=\"1\" class=\"dataframe\">\n",
       "  <thead>\n",
       "    <tr style=\"text-align: right;\">\n",
       "      <th></th>\n",
       "      <th>Name</th>\n",
       "      <th>GW</th>\n",
       "      <th>Squad</th>\n",
       "      <th>Opponent</th>\n",
       "      <th>Was Home</th>\n",
       "      <th>Opp rating</th>\n",
       "      <th>Total Points</th>\n",
       "      <th>pred</th>\n",
       "    </tr>\n",
       "  </thead>\n",
       "  <tbody>\n",
       "    <tr>\n",
       "      <th>816</th>\n",
       "      <td>Bukayo-Saka</td>\n",
       "      <td>19</td>\n",
       "      <td>Arsenal</td>\n",
       "      <td>Newcastle Utd</td>\n",
       "      <td>1.0</td>\n",
       "      <td>1850.296631</td>\n",
       "      <td>3.0</td>\n",
       "      <td>8.070437</td>\n",
       "    </tr>\n",
       "    <tr>\n",
       "      <th>603</th>\n",
       "      <td>Martinelli</td>\n",
       "      <td>19</td>\n",
       "      <td>Arsenal</td>\n",
       "      <td>Newcastle Utd</td>\n",
       "      <td>1.0</td>\n",
       "      <td>1850.296631</td>\n",
       "      <td>3.0</td>\n",
       "      <td>7.083120</td>\n",
       "    </tr>\n",
       "    <tr>\n",
       "      <th>480</th>\n",
       "      <td>Joelinton</td>\n",
       "      <td>19</td>\n",
       "      <td>Newcastle Utd</td>\n",
       "      <td>Arsenal</td>\n",
       "      <td>0.0</td>\n",
       "      <td>1934.447754</td>\n",
       "      <td>2.0</td>\n",
       "      <td>7.074327</td>\n",
       "    </tr>\n",
       "    <tr>\n",
       "      <th>117</th>\n",
       "      <td>Philip-Billing</td>\n",
       "      <td>19</td>\n",
       "      <td>Bournemouth</td>\n",
       "      <td>Manchester Utd</td>\n",
       "      <td>0.0</td>\n",
       "      <td>1859.299194</td>\n",
       "      <td>1.0</td>\n",
       "      <td>7.021463</td>\n",
       "    </tr>\n",
       "    <tr>\n",
       "      <th>66</th>\n",
       "      <td>Joe-Aribo</td>\n",
       "      <td>19</td>\n",
       "      <td>Southampton</td>\n",
       "      <td>Nott'ham Forest</td>\n",
       "      <td>1.0</td>\n",
       "      <td>1630.994873</td>\n",
       "      <td>1.0</td>\n",
       "      <td>6.850260</td>\n",
       "    </tr>\n",
       "    <tr>\n",
       "      <th>916</th>\n",
       "      <td>James-Ward-Prowse</td>\n",
       "      <td>19</td>\n",
       "      <td>Southampton</td>\n",
       "      <td>Nott'ham Forest</td>\n",
       "      <td>1.0</td>\n",
       "      <td>1630.994873</td>\n",
       "      <td>2.0</td>\n",
       "      <td>6.850260</td>\n",
       "    </tr>\n",
       "    <tr>\n",
       "      <th>178</th>\n",
       "      <td>Ryan-Christie</td>\n",
       "      <td>19</td>\n",
       "      <td>Bournemouth</td>\n",
       "      <td>Manchester Utd</td>\n",
       "      <td>0.0</td>\n",
       "      <td>1859.299194</td>\n",
       "      <td>2.0</td>\n",
       "      <td>4.849339</td>\n",
       "    </tr>\n",
       "    <tr>\n",
       "      <th>519</th>\n",
       "      <td>Jefferson-Lerma</td>\n",
       "      <td>19</td>\n",
       "      <td>Bournemouth</td>\n",
       "      <td>Manchester Utd</td>\n",
       "      <td>0.0</td>\n",
       "      <td>1859.299194</td>\n",
       "      <td>2.0</td>\n",
       "      <td>4.849339</td>\n",
       "    </tr>\n",
       "    <tr>\n",
       "      <th>189</th>\n",
       "      <td>Lewis-Cook</td>\n",
       "      <td>19</td>\n",
       "      <td>Bournemouth</td>\n",
       "      <td>Manchester Utd</td>\n",
       "      <td>0.0</td>\n",
       "      <td>1859.299194</td>\n",
       "      <td>2.0</td>\n",
       "      <td>4.849339</td>\n",
       "    </tr>\n",
       "    <tr>\n",
       "      <th>948</th>\n",
       "      <td>Granit-Xhaka</td>\n",
       "      <td>19</td>\n",
       "      <td>Arsenal</td>\n",
       "      <td>Newcastle Utd</td>\n",
       "      <td>1.0</td>\n",
       "      <td>1850.296631</td>\n",
       "      <td>2.0</td>\n",
       "      <td>4.820427</td>\n",
       "    </tr>\n",
       "    <tr>\n",
       "      <th>106</th>\n",
       "      <td>Said-Benrahma</td>\n",
       "      <td>19</td>\n",
       "      <td>West Ham</td>\n",
       "      <td>Leeds United</td>\n",
       "      <td>0.0</td>\n",
       "      <td>1712.961670</td>\n",
       "      <td>1.0</td>\n",
       "      <td>3.125743</td>\n",
       "    </tr>\n",
       "    <tr>\n",
       "      <th>331</th>\n",
       "      <td>Pablo-Fornals</td>\n",
       "      <td>19</td>\n",
       "      <td>West Ham</td>\n",
       "      <td>Leeds United</td>\n",
       "      <td>0.0</td>\n",
       "      <td>1712.961670</td>\n",
       "      <td>2.0</td>\n",
       "      <td>3.125743</td>\n",
       "    </tr>\n",
       "    <tr>\n",
       "      <th>787</th>\n",
       "      <td>Declan-Rice</td>\n",
       "      <td>19</td>\n",
       "      <td>West Ham</td>\n",
       "      <td>Leeds United</td>\n",
       "      <td>0.0</td>\n",
       "      <td>1712.961670</td>\n",
       "      <td>2.0</td>\n",
       "      <td>3.125743</td>\n",
       "    </tr>\n",
       "    <tr>\n",
       "      <th>261</th>\n",
       "      <td>Ibrahima-Diallo</td>\n",
       "      <td>19</td>\n",
       "      <td>Southampton</td>\n",
       "      <td>Nott'ham Forest</td>\n",
       "      <td>1.0</td>\n",
       "      <td>1630.994873</td>\n",
       "      <td>0.0</td>\n",
       "      <td>3.036191</td>\n",
       "    </tr>\n",
       "    <tr>\n",
       "      <th>311</th>\n",
       "      <td>Mohamed-Elyounoussi</td>\n",
       "      <td>19</td>\n",
       "      <td>Southampton</td>\n",
       "      <td>Nott'ham Forest</td>\n",
       "      <td>1.0</td>\n",
       "      <td>1630.994873</td>\n",
       "      <td>2.0</td>\n",
       "      <td>3.036191</td>\n",
       "    </tr>\n",
       "    <tr>\n",
       "      <th>55</th>\n",
       "      <td>Jaidon-Anthony</td>\n",
       "      <td>19</td>\n",
       "      <td>Bournemouth</td>\n",
       "      <td>Manchester Utd</td>\n",
       "      <td>0.0</td>\n",
       "      <td>1859.299194</td>\n",
       "      <td>2.0</td>\n",
       "      <td>2.953254</td>\n",
       "    </tr>\n",
       "    <tr>\n",
       "      <th>128</th>\n",
       "      <td>Jarrod-Bowen</td>\n",
       "      <td>19</td>\n",
       "      <td>West Ham</td>\n",
       "      <td>Leeds United</td>\n",
       "      <td>0.0</td>\n",
       "      <td>1712.961670</td>\n",
       "      <td>5.0</td>\n",
       "      <td>2.833854</td>\n",
       "    </tr>\n",
       "    <tr>\n",
       "      <th>281</th>\n",
       "      <td>Flynn-Downes</td>\n",
       "      <td>19</td>\n",
       "      <td>West Ham</td>\n",
       "      <td>Leeds United</td>\n",
       "      <td>0.0</td>\n",
       "      <td>1712.961670</td>\n",
       "      <td>1.0</td>\n",
       "      <td>2.833854</td>\n",
       "    </tr>\n",
       "    <tr>\n",
       "      <th>508</th>\n",
       "      <td>Manuel-Lanzini</td>\n",
       "      <td>19</td>\n",
       "      <td>West Ham</td>\n",
       "      <td>Leeds United</td>\n",
       "      <td>0.0</td>\n",
       "      <td>1712.961670</td>\n",
       "      <td>0.0</td>\n",
       "      <td>2.833854</td>\n",
       "    </tr>\n",
       "    <tr>\n",
       "      <th>429</th>\n",
       "      <td>Hwang-Hee-chan</td>\n",
       "      <td>19</td>\n",
       "      <td>Wolves</td>\n",
       "      <td>Aston Villa</td>\n",
       "      <td>0.0</td>\n",
       "      <td>1757.067871</td>\n",
       "      <td>0.0</td>\n",
       "      <td>2.731813</td>\n",
       "    </tr>\n",
       "  </tbody>\n",
       "</table>\n",
       "</div>"
      ],
      "text/plain": [
       "                    Name  GW          Squad         Opponent  Was Home  \\\n",
       "816          Bukayo-Saka  19        Arsenal    Newcastle Utd       1.0   \n",
       "603           Martinelli  19        Arsenal    Newcastle Utd       1.0   \n",
       "480            Joelinton  19  Newcastle Utd          Arsenal       0.0   \n",
       "117       Philip-Billing  19    Bournemouth   Manchester Utd       0.0   \n",
       "66             Joe-Aribo  19    Southampton  Nott'ham Forest       1.0   \n",
       "916    James-Ward-Prowse  19    Southampton  Nott'ham Forest       1.0   \n",
       "178        Ryan-Christie  19    Bournemouth   Manchester Utd       0.0   \n",
       "519      Jefferson-Lerma  19    Bournemouth   Manchester Utd       0.0   \n",
       "189           Lewis-Cook  19    Bournemouth   Manchester Utd       0.0   \n",
       "948         Granit-Xhaka  19        Arsenal    Newcastle Utd       1.0   \n",
       "106        Said-Benrahma  19       West Ham     Leeds United       0.0   \n",
       "331        Pablo-Fornals  19       West Ham     Leeds United       0.0   \n",
       "787          Declan-Rice  19       West Ham     Leeds United       0.0   \n",
       "261      Ibrahima-Diallo  19    Southampton  Nott'ham Forest       1.0   \n",
       "311  Mohamed-Elyounoussi  19    Southampton  Nott'ham Forest       1.0   \n",
       "55        Jaidon-Anthony  19    Bournemouth   Manchester Utd       0.0   \n",
       "128         Jarrod-Bowen  19       West Ham     Leeds United       0.0   \n",
       "281         Flynn-Downes  19       West Ham     Leeds United       0.0   \n",
       "508       Manuel-Lanzini  19       West Ham     Leeds United       0.0   \n",
       "429       Hwang-Hee-chan  19         Wolves      Aston Villa       0.0   \n",
       "\n",
       "      Opp rating  Total Points      pred  \n",
       "816  1850.296631           3.0  8.070437  \n",
       "603  1850.296631           3.0  7.083120  \n",
       "480  1934.447754           2.0  7.074327  \n",
       "117  1859.299194           1.0  7.021463  \n",
       "66   1630.994873           1.0  6.850260  \n",
       "916  1630.994873           2.0  6.850260  \n",
       "178  1859.299194           2.0  4.849339  \n",
       "519  1859.299194           2.0  4.849339  \n",
       "189  1859.299194           2.0  4.849339  \n",
       "948  1850.296631           2.0  4.820427  \n",
       "106  1712.961670           1.0  3.125743  \n",
       "331  1712.961670           2.0  3.125743  \n",
       "787  1712.961670           2.0  3.125743  \n",
       "261  1630.994873           0.0  3.036191  \n",
       "311  1630.994873           2.0  3.036191  \n",
       "55   1859.299194           2.0  2.953254  \n",
       "128  1712.961670           5.0  2.833854  \n",
       "281  1712.961670           1.0  2.833854  \n",
       "508  1712.961670           0.0  2.833854  \n",
       "429  1757.067871           0.0  2.731813  "
      ]
     },
     "execution_count": 43,
     "metadata": {},
     "output_type": "execute_result"
    }
   ],
   "source": [
    "df_predictions_mid[info + to_predict + [\"pred\"]].sort_values(by=[\"pred\"], ascending = False).head(20)"
   ]
  },
  {
   "cell_type": "code",
   "execution_count": 44,
   "id": "3d4ed989-c6ef-49ae-84f4-5d3d27c2e147",
   "metadata": {},
   "outputs": [
    {
     "data": {
      "text/html": [
       "<div>\n",
       "<style scoped>\n",
       "    .dataframe tbody tr th:only-of-type {\n",
       "        vertical-align: middle;\n",
       "    }\n",
       "\n",
       "    .dataframe tbody tr th {\n",
       "        vertical-align: top;\n",
       "    }\n",
       "\n",
       "    .dataframe thead th {\n",
       "        text-align: right;\n",
       "    }\n",
       "</style>\n",
       "<table border=\"1\" class=\"dataframe\">\n",
       "  <thead>\n",
       "    <tr style=\"text-align: right;\">\n",
       "      <th></th>\n",
       "      <th>Name</th>\n",
       "      <th>GW</th>\n",
       "      <th>Squad</th>\n",
       "      <th>Opponent</th>\n",
       "      <th>Was Home</th>\n",
       "      <th>Opp rating</th>\n",
       "      <th>Total Points</th>\n",
       "      <th>pred</th>\n",
       "    </tr>\n",
       "  </thead>\n",
       "  <tbody>\n",
       "    <tr>\n",
       "      <th>148</th>\n",
       "      <td>Aleksandar-Mitrovic</td>\n",
       "      <td>19</td>\n",
       "      <td>Fulham</td>\n",
       "      <td>Leicester City</td>\n",
       "      <td>0.0</td>\n",
       "      <td>1770.339966</td>\n",
       "      <td>5.0</td>\n",
       "      <td>5.977027</td>\n",
       "    </tr>\n",
       "    <tr>\n",
       "      <th>111</th>\n",
       "      <td>Brennan-Johnson</td>\n",
       "      <td>19</td>\n",
       "      <td>Nott'ham Forest</td>\n",
       "      <td>Southampton</td>\n",
       "      <td>0.0</td>\n",
       "      <td>1658.088989</td>\n",
       "      <td>4.0</td>\n",
       "      <td>5.891595</td>\n",
       "    </tr>\n",
       "    <tr>\n",
       "      <th>10</th>\n",
       "      <td>Che-Adams</td>\n",
       "      <td>19</td>\n",
       "      <td>Southampton</td>\n",
       "      <td>Nott'ham Forest</td>\n",
       "      <td>1.0</td>\n",
       "      <td>1630.994873</td>\n",
       "      <td>2.0</td>\n",
       "      <td>5.284222</td>\n",
       "    </tr>\n",
       "    <tr>\n",
       "      <th>257</th>\n",
       "      <td>Chris-Wood</td>\n",
       "      <td>19</td>\n",
       "      <td>Newcastle Utd</td>\n",
       "      <td>Arsenal</td>\n",
       "      <td>0.0</td>\n",
       "      <td>1934.447754</td>\n",
       "      <td>1.0</td>\n",
       "      <td>5.147178</td>\n",
       "    </tr>\n",
       "    <tr>\n",
       "      <th>140</th>\n",
       "      <td>Bryan-Mbeumo</td>\n",
       "      <td>19</td>\n",
       "      <td>Brentford</td>\n",
       "      <td>Liverpool</td>\n",
       "      <td>1.0</td>\n",
       "      <td>2006.804077</td>\n",
       "      <td>12.0</td>\n",
       "      <td>4.314576</td>\n",
       "    </tr>\n",
       "    <tr>\n",
       "      <th>169</th>\n",
       "      <td>Eddie-Nketiah</td>\n",
       "      <td>19</td>\n",
       "      <td>Arsenal</td>\n",
       "      <td>Newcastle Utd</td>\n",
       "      <td>1.0</td>\n",
       "      <td>1850.296631</td>\n",
       "      <td>1.0</td>\n",
       "      <td>3.613919</td>\n",
       "    </tr>\n",
       "    <tr>\n",
       "      <th>159</th>\n",
       "      <td>Kieffer-Moore</td>\n",
       "      <td>19</td>\n",
       "      <td>Bournemouth</td>\n",
       "      <td>Manchester Utd</td>\n",
       "      <td>0.0</td>\n",
       "      <td>1859.299194</td>\n",
       "      <td>1.0</td>\n",
       "      <td>1.453202</td>\n",
       "    </tr>\n",
       "    <tr>\n",
       "      <th>100</th>\n",
       "      <td>Danny-Ings</td>\n",
       "      <td>19</td>\n",
       "      <td>Aston Villa</td>\n",
       "      <td>Wolves</td>\n",
       "      <td>1.0</td>\n",
       "      <td>1686.353516</td>\n",
       "      <td>8.0</td>\n",
       "      <td>1.312001</td>\n",
       "    </tr>\n",
       "    <tr>\n",
       "      <th>31</th>\n",
       "      <td>Adam-Armstrong</td>\n",
       "      <td>19</td>\n",
       "      <td>Southampton</td>\n",
       "      <td>Nott'ham Forest</td>\n",
       "      <td>1.0</td>\n",
       "      <td>1630.994873</td>\n",
       "      <td>1.0</td>\n",
       "      <td>1.006238</td>\n",
       "    </tr>\n",
       "    <tr>\n",
       "      <th>89</th>\n",
       "      <td>Kelechi-Iheanacho</td>\n",
       "      <td>19</td>\n",
       "      <td>Leicester City</td>\n",
       "      <td>Fulham</td>\n",
       "      <td>1.0</td>\n",
       "      <td>1705.027588</td>\n",
       "      <td>1.0</td>\n",
       "      <td>0.788541</td>\n",
       "    </tr>\n",
       "    <tr>\n",
       "      <th>223</th>\n",
       "      <td>Jamie-Vardy</td>\n",
       "      <td>19</td>\n",
       "      <td>Leicester City</td>\n",
       "      <td>Fulham</td>\n",
       "      <td>1.0</td>\n",
       "      <td>1705.027588</td>\n",
       "      <td>2.0</td>\n",
       "      <td>0.581804</td>\n",
       "    </tr>\n",
       "    <tr>\n",
       "      <th>234</th>\n",
       "      <td>Ollie-Watkins</td>\n",
       "      <td>19</td>\n",
       "      <td>Aston Villa</td>\n",
       "      <td>Wolves</td>\n",
       "      <td>1.0</td>\n",
       "      <td>1686.353516</td>\n",
       "      <td>2.0</td>\n",
       "      <td>0.574440</td>\n",
       "    </tr>\n",
       "    <tr>\n",
       "      <th>20</th>\n",
       "      <td>Michail-Antonio</td>\n",
       "      <td>19</td>\n",
       "      <td>West Ham</td>\n",
       "      <td>Leeds United</td>\n",
       "      <td>0.0</td>\n",
       "      <td>1712.961670</td>\n",
       "      <td>1.0</td>\n",
       "      <td>0.573703</td>\n",
       "    </tr>\n",
       "  </tbody>\n",
       "</table>\n",
       "</div>"
      ],
      "text/plain": [
       "                    Name  GW            Squad         Opponent  Was Home  \\\n",
       "148  Aleksandar-Mitrovic  19           Fulham   Leicester City       0.0   \n",
       "111      Brennan-Johnson  19  Nott'ham Forest      Southampton       0.0   \n",
       "10             Che-Adams  19      Southampton  Nott'ham Forest       1.0   \n",
       "257           Chris-Wood  19    Newcastle Utd          Arsenal       0.0   \n",
       "140         Bryan-Mbeumo  19        Brentford        Liverpool       1.0   \n",
       "169        Eddie-Nketiah  19          Arsenal    Newcastle Utd       1.0   \n",
       "159        Kieffer-Moore  19      Bournemouth   Manchester Utd       0.0   \n",
       "100           Danny-Ings  19      Aston Villa           Wolves       1.0   \n",
       "31        Adam-Armstrong  19      Southampton  Nott'ham Forest       1.0   \n",
       "89     Kelechi-Iheanacho  19   Leicester City           Fulham       1.0   \n",
       "223          Jamie-Vardy  19   Leicester City           Fulham       1.0   \n",
       "234        Ollie-Watkins  19      Aston Villa           Wolves       1.0   \n",
       "20       Michail-Antonio  19         West Ham     Leeds United       0.0   \n",
       "\n",
       "      Opp rating  Total Points      pred  \n",
       "148  1770.339966           5.0  5.977027  \n",
       "111  1658.088989           4.0  5.891595  \n",
       "10   1630.994873           2.0  5.284222  \n",
       "257  1934.447754           1.0  5.147178  \n",
       "140  2006.804077          12.0  4.314576  \n",
       "169  1850.296631           1.0  3.613919  \n",
       "159  1859.299194           1.0  1.453202  \n",
       "100  1686.353516           8.0  1.312001  \n",
       "31   1630.994873           1.0  1.006238  \n",
       "89   1705.027588           1.0  0.788541  \n",
       "223  1705.027588           2.0  0.581804  \n",
       "234  1686.353516           2.0  0.574440  \n",
       "20   1712.961670           1.0  0.573703  "
      ]
     },
     "execution_count": 44,
     "metadata": {},
     "output_type": "execute_result"
    }
   ],
   "source": [
    "df_predictions_fwd[info + to_predict + [\"pred\"]].sort_values(by=[\"pred\"], ascending = False).head(20)"
   ]
  },
  {
   "cell_type": "markdown",
   "id": "3ed6461a-a67a-4068-984b-c17e9a1d8c7b",
   "metadata": {
    "tags": []
   },
   "source": [
    "# Feature importance and influence"
   ]
  },
  {
   "cell_type": "code",
   "execution_count": 45,
   "id": "7f0acc94-8661-4933-926c-859679ba5d4f",
   "metadata": {},
   "outputs": [
    {
     "data": {
      "text/plain": [
       "<AxesSubplot:title={'center':'Feature importance'}, xlabel='F score', ylabel='Features'>"
      ]
     },
     "execution_count": 45,
     "metadata": {},
     "output_type": "execute_result"
    },
    {
     "data": {
      "image/png": "[encoded data removed]",
      "text/plain": [
       "<Figure size 432x288 with 1 Axes>"
      ]
     },
     "metadata": {
      "needs_background": "light"
     },
     "output_type": "display_data"
    }
   ],
   "source": [
    "plot_importance(model_fwd)"
   ]
  },
  {
   "cell_type": "code",
   "execution_count": 46,
   "id": "fc68979d-f8e7-4f44-ae50-22ef7b92b9e1",
   "metadata": {},
   "outputs": [
    {
     "name": "stderr",
     "output_type": "stream",
     "text": [
      "Function plot_partial_dependence is deprecated; Function `plot_partial_dependence` is deprecated in 1.0 and will be removed in 1.2. Use PartialDependenceDisplay.from_estimator instead\n"
     ]
    },
    {
     "data": {
      "text/plain": [
       "<sklearn.inspection._plot.partial_dependence.PartialDependenceDisplay at 0x1fe898575b0>"
      ]
     },
     "execution_count": 46,
     "metadata": {},
     "output_type": "execute_result"
    },
    {
     "data": {
      "image/png": "[encoded data removed]",
      "text/plain": [
       "<Figure size 1152x576 with 6 Axes>"
      ]
     },
     "metadata": {
      "needs_background": "light"
     },
     "output_type": "display_data"
    }
   ],
   "source": [
    "fig, ax = plt.subplots(figsize=(16, 8))\n",
    "plot_partial_dependence(model_fwd, X_train_fwd, features, ax=ax)"
   ]
  },
  {
   "cell_type": "code",
   "execution_count": 47,
   "id": "c90e9b27-43c3-4253-830d-53c3532c5197",
   "metadata": {},
   "outputs": [],
   "source": [
    "explainer = shap.Explainer(model_fwd, X_train_fwd)\n",
    "shap_values = explainer(X_train_fwd)"
   ]
  },
  {
   "cell_type": "code",
   "execution_count": 48,
   "id": "f73757e7-4125-4657-8b78-914b5324a9e9",
   "metadata": {},
   "outputs": [
    {
     "data": {
      "image/png": "[encoded data removed]",
      "text/plain": [
       "<Figure size 576x288 with 1 Axes>"
      ]
     },
     "metadata": {},
     "output_type": "display_data"
    }
   ],
   "source": [
    "shap.plots.bar(shap_values)"
   ]
  },
  {
   "cell_type": "code",
   "execution_count": 49,
   "id": "4d1a6591-e086-4156-a51a-3ccfd3489561",
   "metadata": {},
   "outputs": [
    {
     "data": {
      "image/png": "[encoded data removed]",
      "text/plain": [
       "<Figure size 576x252 with 2 Axes>"
      ]
     },
     "metadata": {
      "needs_background": "light"
     },
     "output_type": "display_data"
    }
   ],
   "source": [
    "shap.plots.beeswarm(shap_values)"
   ]
  },
  {
   "cell_type": "code",
   "execution_count": 50,
   "id": "b1d832a7-6e45-4286-a102-029a56916c45",
   "metadata": {},
   "outputs": [
    {
     "data": {
      "image/png": "[encoded data removed]",
      "text/plain": [
       "<Figure size 576x288 with 1 Axes>"
      ]
     },
     "metadata": {},
     "output_type": "display_data"
    }
   ],
   "source": [
    "shap.plots.bar(shap_values[3])"
   ]
  },
  {
   "cell_type": "code",
   "execution_count": null,
   "id": "30d87d10-ae71-4fc6-aa37-455fa45be613",
   "metadata": {},
   "outputs": [],
   "source": []
  },
  {
   "cell_type": "code",
   "execution_count": null,
   "id": "bd48e593-6e80-42dd-a735-b0815e5694c9",
   "metadata": {},
   "outputs": [],
   "source": []
  }
 ],
 "metadata": {
  "kernelspec": {
   "display_name": "Python 3 (ipykernel)",
   "language": "python",
   "name": "python3"
  },
  "language_info": {
   "codemirror_mode": {
    "name": "ipython",
    "version": 3
   },
   "file_extension": ".py",
   "mimetype": "text/x-python",
   "name": "python",
   "nbconvert_exporter": "python",
   "pygments_lexer": "ipython3",
   "version": "3.8.0"
  }
 },
 "nbformat": 4,
 "nbformat_minor": 5
}
