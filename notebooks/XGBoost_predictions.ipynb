{
 "cells": [
  {
   "cell_type": "markdown",
   "id": "e61cf721-96f7-4f7c-a5c5-343917267d91",
   "metadata": {},
   "source": [
    "# Imports"
   ]
  },
  {
   "cell_type": "code",
   "execution_count": 1,
   "id": "c2b67ee7-f81a-4a96-bd38-8149efc725cf",
   "metadata": {},
   "outputs": [],
   "source": [
    "import os\n",
    "os.chdir(\"D:\\PulpitE\\FPL_ML\")"
   ]
  },
  {
   "cell_type": "code",
   "execution_count": 2,
   "id": "3f447fc0-41e6-4c50-967e-2cc314a1e81f",
   "metadata": {},
   "outputs": [],
   "source": [
    "import xgboost as xgb\n",
    "from xgboost import plot_importance\n",
    "from sklearn.inspection import plot_partial_dependence\n",
    "import matplotlib.pyplot as plt\n",
    "import pandas as pd\n",
    "import shap"
   ]
  },
  {
   "cell_type": "markdown",
   "id": "fe7a4ac1-336c-4ea4-ad91-24489c66e789",
   "metadata": {},
   "source": [
    "# Reading data and pre-processing"
   ]
  },
  {
   "cell_type": "code",
   "execution_count": 3,
   "id": "14d68e95-43ba-469b-a85a-7cdddfc37173",
   "metadata": {},
   "outputs": [],
   "source": [
    "# loading csv\n",
    "df = pd.read_csv('data/fpl_fbref_elo_lstm.csv')"
   ]
  },
  {
   "cell_type": "code",
   "execution_count": 4,
   "id": "bb78c2e6-100f-4794-a0c8-ceb4d3dfc89b",
   "metadata": {},
   "outputs": [],
   "source": [
    "# removing unnamed columns\n",
    "df = df.loc[:, ~df.columns.str.contains('^Unnamed')]"
   ]
  },
  {
   "cell_type": "code",
   "execution_count": 5,
   "id": "1dba8279-70e7-43f4-8e2a-3d9709095de4",
   "metadata": {},
   "outputs": [
    {
     "data": {
      "text/plain": [
       "Index(['Date', 'Day', 'Comp', 'Round', 'Venue', 'Squad', 'Opponent', 'Start',\n",
       "       'Pos', 'Min', 'Gls', 'Ast', 'PK', 'PKatt', 'Sh', 'SoT', 'CrdY', 'CrdR',\n",
       "       'Touches', 'Tkl', 'Int', 'Blocks', 'xG', 'npxG', 'xAG', 'SCA', 'GCA',\n",
       "       'Cmp', 'Att', 'Cmp%', 'Prog', 'Succ', 'Att.1', 'Match Report', 'Name',\n",
       "       'Season', 'WDL', 'GoalsTeams', 'Team Score', 'Opp Score', 'CS',\n",
       "       'Was Home', 'GW', 'FPL', 'neutral_name', 'Total Points', 'Opp rating',\n",
       "       'LSTM'],\n",
       "      dtype='object')"
      ]
     },
     "execution_count": 5,
     "metadata": {},
     "output_type": "execute_result"
    }
   ],
   "source": [
    "df.columns"
   ]
  },
  {
   "cell_type": "code",
   "execution_count": 46,
   "id": "f1dec9a1-5650-45dc-a0c2-76a7c8e05314",
   "metadata": {},
   "outputs": [
    {
     "data": {
      "text/plain": [
       "Date                       2022-08-06\n",
       "Day                               Sat\n",
       "Comp                   Premier League\n",
       "Round                     Matchweek 1\n",
       "Venue                            Home\n",
       "Squad                    Leeds United\n",
       "Opponent                       Wolves\n",
       "Start                               Y\n",
       "Pos                                RW\n",
       "Min                              83.0\n",
       "Gls                               0.0\n",
       "Ast                               0.0\n",
       "PK                                0.0\n",
       "PKatt                             0.0\n",
       "Sh                                1.0\n",
       "SoT                               0.0\n",
       "CrdY                              0.0\n",
       "CrdR                              0.0\n",
       "Touches                          35.0\n",
       "Tkl                               2.0\n",
       "Int                               0.0\n",
       "Blocks                            2.0\n",
       "xG                                0.0\n",
       "npxG                              0.0\n",
       "xAG                               0.0\n",
       "SCA                               1.0\n",
       "GCA                               0.0\n",
       "Cmp                              15.0\n",
       "Att                              27.0\n",
       "Cmp%                             55.6\n",
       "Prog                              4.0\n",
       "Succ                              0.0\n",
       "Att.1                             0.0\n",
       "Match Report             Match Report\n",
       "Name                 Brenden-Aaronson\n",
       "Season                        2022-23\n",
       "WDL                                 W\n",
       "GoalsTeams                        2–1\n",
       "Team Score                          2\n",
       "Opp Score                           1\n",
       "CS                                0.0\n",
       "Was Home                          1.0\n",
       "GW                                  1\n",
       "FPL                               2.0\n",
       "neutral_name         Brenden-Aaronson\n",
       "Total Points                      2.0\n",
       "Opp rating                1725.276489\n",
       "LSTM                              NaN\n",
       "ScoreForLast5                     NaN\n",
       "ScoreAgainstLast5                 NaN\n",
       "Name: 0, dtype: object"
      ]
     },
     "execution_count": 46,
     "metadata": {},
     "output_type": "execute_result"
    }
   ],
   "source": [
    "df.iloc[0]"
   ]
  },
  {
   "cell_type": "code",
   "execution_count": 6,
   "id": "dbd5108b-c4b3-4268-9a8d-6e0ebdbe7a8d",
   "metadata": {},
   "outputs": [],
   "source": [
    "# dropping NaNs\n",
    "# df = df.dropna(axis=0)"
   ]
  },
  {
   "cell_type": "code",
   "execution_count": 7,
   "id": "5c96da82-a472-4846-8fe5-553aec3b2a09",
   "metadata": {},
   "outputs": [],
   "source": [
    "# df[df[\"Name\"] == \"Mohamed-Salah\"]"
   ]
  },
  {
   "cell_type": "markdown",
   "id": "fc895e8b-ed8c-4c03-89fe-eccde0b4c26e",
   "metadata": {},
   "source": [
    "# Choosing features and splitting data"
   ]
  },
  {
   "cell_type": "code",
   "execution_count": 13,
   "id": "027d048f-36be-4c56-b00f-ce93d0e33c44",
   "metadata": {},
   "outputs": [],
   "source": [
    "features = [\"LSTM\", \"Was Home\", \"Opp rating\", 'ScoreForLast5', 'ScoreAgainstLast5']\n",
    "info = [\"Name\", \"GW\", \"Squad\", \"Opponent\", \"Was Home\", \"Opp rating\"]\n",
    "to_predict = [\"FPL\"]"
   ]
  },
  {
   "cell_type": "code",
   "execution_count": 14,
   "id": "1a46a038-a0b2-4348-b87c-2ca15569f6eb",
   "metadata": {},
   "outputs": [],
   "source": [
    "GAMEWEEK_TO_PREDICT = 18"
   ]
  },
  {
   "cell_type": "code",
   "execution_count": 15,
   "id": "45b9f614-d91d-491f-b5d0-d278db561c2d",
   "metadata": {},
   "outputs": [],
   "source": [
    "# gameweeks 9-14 is training data, gw 15 is test data\n",
    "X_train = df[(df[\"GW\"] >= 9) & (df[\"GW\"] <= GAMEWEEK_TO_PREDICT - 1)][features]\n",
    "y_train = df[(df[\"GW\"] >= 9) & (df[\"GW\"] <= GAMEWEEK_TO_PREDICT - 1)][to_predict]"
   ]
  },
  {
   "cell_type": "code",
   "execution_count": 16,
   "id": "7996012d-2bf5-45da-a29e-e75932313172",
   "metadata": {},
   "outputs": [],
   "source": [
    "X_test = df[df[\"GW\"] == GAMEWEEK_TO_PREDICT][features]\n",
    "y_test = df[df[\"GW\"] == GAMEWEEK_TO_PREDICT][to_predict]"
   ]
  },
  {
   "cell_type": "markdown",
   "id": "bd2b3df9-363d-4c0a-8a1b-ce561ee29b23",
   "metadata": {},
   "source": [
    "# Model"
   ]
  },
  {
   "cell_type": "code",
   "execution_count": 17,
   "id": "869c69e0-56ad-4baf-a403-dcdc61f7adec",
   "metadata": {},
   "outputs": [],
   "source": [
    "model = xgb.XGBRegressor()"
   ]
  },
  {
   "cell_type": "code",
   "execution_count": 18,
   "id": "8531e1e4-92af-494b-b5b7-7a48f2796fa6",
   "metadata": {},
   "outputs": [
    {
     "name": "stdout",
     "output_type": "stream",
     "text": [
      "CPU times: total: 1.09 s\n",
      "Wall time: 213 ms\n"
     ]
    },
    {
     "data": {
      "text/html": [
       "<style>#sk-container-id-1 {color: black;background-color: white;}#sk-container-id-1 pre{padding: 0;}#sk-container-id-1 div.sk-toggleable {background-color: white;}#sk-container-id-1 label.sk-toggleable__label {cursor: pointer;display: block;width: 100%;margin-bottom: 0;padding: 0.3em;box-sizing: border-box;text-align: center;}#sk-container-id-1 label.sk-toggleable__label-arrow:before {content: \"▸\";float: left;margin-right: 0.25em;color: #696969;}#sk-container-id-1 label.sk-toggleable__label-arrow:hover:before {color: black;}#sk-container-id-1 div.sk-estimator:hover label.sk-toggleable__label-arrow:before {color: black;}#sk-container-id-1 div.sk-toggleable__content {max-height: 0;max-width: 0;overflow: hidden;text-align: left;background-color: #f0f8ff;}#sk-container-id-1 div.sk-toggleable__content pre {margin: 0.2em;color: black;border-radius: 0.25em;background-color: #f0f8ff;}#sk-container-id-1 input.sk-toggleable__control:checked~div.sk-toggleable__content {max-height: 200px;max-width: 100%;overflow: auto;}#sk-container-id-1 input.sk-toggleable__control:checked~label.sk-toggleable__label-arrow:before {content: \"▾\";}#sk-container-id-1 div.sk-estimator input.sk-toggleable__control:checked~label.sk-toggleable__label {background-color: #d4ebff;}#sk-container-id-1 div.sk-label input.sk-toggleable__control:checked~label.sk-toggleable__label {background-color: #d4ebff;}#sk-container-id-1 input.sk-hidden--visually {border: 0;clip: rect(1px 1px 1px 1px);clip: rect(1px, 1px, 1px, 1px);height: 1px;margin: -1px;overflow: hidden;padding: 0;position: absolute;width: 1px;}#sk-container-id-1 div.sk-estimator {font-family: monospace;background-color: #f0f8ff;border: 1px dotted black;border-radius: 0.25em;box-sizing: border-box;margin-bottom: 0.5em;}#sk-container-id-1 div.sk-estimator:hover {background-color: #d4ebff;}#sk-container-id-1 div.sk-parallel-item::after {content: \"\";width: 100%;border-bottom: 1px solid gray;flex-grow: 1;}#sk-container-id-1 div.sk-label:hover label.sk-toggleable__label {background-color: #d4ebff;}#sk-container-id-1 div.sk-serial::before {content: \"\";position: absolute;border-left: 1px solid gray;box-sizing: border-box;top: 0;bottom: 0;left: 50%;z-index: 0;}#sk-container-id-1 div.sk-serial {display: flex;flex-direction: column;align-items: center;background-color: white;padding-right: 0.2em;padding-left: 0.2em;position: relative;}#sk-container-id-1 div.sk-item {position: relative;z-index: 1;}#sk-container-id-1 div.sk-parallel {display: flex;align-items: stretch;justify-content: center;background-color: white;position: relative;}#sk-container-id-1 div.sk-item::before, #sk-container-id-1 div.sk-parallel-item::before {content: \"\";position: absolute;border-left: 1px solid gray;box-sizing: border-box;top: 0;bottom: 0;left: 50%;z-index: -1;}#sk-container-id-1 div.sk-parallel-item {display: flex;flex-direction: column;z-index: 1;position: relative;background-color: white;}#sk-container-id-1 div.sk-parallel-item:first-child::after {align-self: flex-end;width: 50%;}#sk-container-id-1 div.sk-parallel-item:last-child::after {align-self: flex-start;width: 50%;}#sk-container-id-1 div.sk-parallel-item:only-child::after {width: 0;}#sk-container-id-1 div.sk-dashed-wrapped {border: 1px dashed gray;margin: 0 0.4em 0.5em 0.4em;box-sizing: border-box;padding-bottom: 0.4em;background-color: white;}#sk-container-id-1 div.sk-label label {font-family: monospace;font-weight: bold;display: inline-block;line-height: 1.2em;}#sk-container-id-1 div.sk-label-container {text-align: center;}#sk-container-id-1 div.sk-container {/* jupyter's `normalize.less` sets `[hidden] { display: none; }` but bootstrap.min.css set `[hidden] { display: none !important; }` so we also need the `!important` here to be able to override the default hidden behavior on the sphinx rendered scikit-learn.org. See: https://github.com/scikit-learn/scikit-learn/issues/21755 */display: inline-block !important;position: relative;}#sk-container-id-1 div.sk-text-repr-fallback {display: none;}</style><div id=\"sk-container-id-1\" class=\"sk-top-container\"><div class=\"sk-text-repr-fallback\"><pre>XGBRegressor(base_score=None, booster=None, callbacks=None,\n",
       "             colsample_bylevel=None, colsample_bynode=None,\n",
       "             colsample_bytree=None, early_stopping_rounds=None,\n",
       "             enable_categorical=False, eval_metric=None, feature_types=None,\n",
       "             gamma=None, gpu_id=None, grow_policy=None, importance_type=None,\n",
       "             interaction_constraints=None, learning_rate=None, max_bin=None,\n",
       "             max_cat_threshold=None, max_cat_to_onehot=None,\n",
       "             max_delta_step=None, max_depth=None, max_leaves=None,\n",
       "             min_child_weight=None, missing=nan, monotone_constraints=None,\n",
       "             n_estimators=100, n_jobs=None, num_parallel_tree=None,\n",
       "             predictor=None, random_state=None, ...)</pre><b>In a Jupyter environment, please rerun this cell to show the HTML representation or trust the notebook. <br />On GitHub, the HTML representation is unable to render, please try loading this page with nbviewer.org.</b></div><div class=\"sk-container\" hidden><div class=\"sk-item\"><div class=\"sk-estimator sk-toggleable\"><input class=\"sk-toggleable__control sk-hidden--visually\" id=\"sk-estimator-id-1\" type=\"checkbox\" checked><label for=\"sk-estimator-id-1\" class=\"sk-toggleable__label sk-toggleable__label-arrow\">XGBRegressor</label><div class=\"sk-toggleable__content\"><pre>XGBRegressor(base_score=None, booster=None, callbacks=None,\n",
       "             colsample_bylevel=None, colsample_bynode=None,\n",
       "             colsample_bytree=None, early_stopping_rounds=None,\n",
       "             enable_categorical=False, eval_metric=None, feature_types=None,\n",
       "             gamma=None, gpu_id=None, grow_policy=None, importance_type=None,\n",
       "             interaction_constraints=None, learning_rate=None, max_bin=None,\n",
       "             max_cat_threshold=None, max_cat_to_onehot=None,\n",
       "             max_delta_step=None, max_depth=None, max_leaves=None,\n",
       "             min_child_weight=None, missing=nan, monotone_constraints=None,\n",
       "             n_estimators=100, n_jobs=None, num_parallel_tree=None,\n",
       "             predictor=None, random_state=None, ...)</pre></div></div></div></div></div>"
      ],
      "text/plain": [
       "XGBRegressor(base_score=None, booster=None, callbacks=None,\n",
       "             colsample_bylevel=None, colsample_bynode=None,\n",
       "             colsample_bytree=None, early_stopping_rounds=None,\n",
       "             enable_categorical=False, eval_metric=None, feature_types=None,\n",
       "             gamma=None, gpu_id=None, grow_policy=None, importance_type=None,\n",
       "             interaction_constraints=None, learning_rate=None, max_bin=None,\n",
       "             max_cat_threshold=None, max_cat_to_onehot=None,\n",
       "             max_delta_step=None, max_depth=None, max_leaves=None,\n",
       "             min_child_weight=None, missing=nan, monotone_constraints=None,\n",
       "             n_estimators=100, n_jobs=None, num_parallel_tree=None,\n",
       "             predictor=None, random_state=None, ...)"
      ]
     },
     "execution_count": 18,
     "metadata": {},
     "output_type": "execute_result"
    }
   ],
   "source": [
    "%%time\n",
    "model.fit(X_train, y_train)"
   ]
  },
  {
   "cell_type": "code",
   "execution_count": 19,
   "id": "6d8c65fd-59b4-46c6-b92a-a59358edff95",
   "metadata": {},
   "outputs": [],
   "source": [
    "# make predictions on the test data\n",
    "predictions = model.predict(X_test)"
   ]
  },
  {
   "cell_type": "code",
   "execution_count": 20,
   "id": "a284f2f1-4f86-476a-a027-620eb7a5c297",
   "metadata": {},
   "outputs": [],
   "source": [
    "from sklearn.metrics import mean_absolute_error, mean_squared_error\n",
    "# calculate the MAE and MSE scores\n",
    "mae = mean_absolute_error(y_test, predictions)\n",
    "mse = mean_squared_error(y_test, predictions)"
   ]
  },
  {
   "cell_type": "code",
   "execution_count": 21,
   "id": "6f09c27b-0f51-4774-bcb0-bbe22b48a852",
   "metadata": {},
   "outputs": [
    {
     "name": "stdout",
     "output_type": "stream",
     "text": [
      "MAE:  1.078505639361326\n",
      "MSE:  2.4083870425557667\n"
     ]
    }
   ],
   "source": [
    "print(\"MAE: \", mae)\n",
    "print(\"MSE: \", mse)"
   ]
  },
  {
   "cell_type": "markdown",
   "id": "438dc7ca-6134-429b-bd5e-4a99261c2781",
   "metadata": {},
   "source": [
    "# Predictions"
   ]
  },
  {
   "cell_type": "code",
   "execution_count": 27,
   "id": "47919814-647b-499c-bd85-622590b952e5",
   "metadata": {},
   "outputs": [],
   "source": [
    "X_test = df[df[\"GW\"] == GAMEWEEK_TO_PREDICT][features]\n",
    "y_test = df[df[\"GW\"] == GAMEWEEK_TO_PREDICT][to_predict]"
   ]
  },
  {
   "cell_type": "code",
   "execution_count": 28,
   "id": "bf22664f-1602-456b-a4bc-3e56cb02a6a6",
   "metadata": {},
   "outputs": [],
   "source": [
    "df_predictions = df[df[\"GW\"] == GAMEWEEK_TO_PREDICT]"
   ]
  },
  {
   "cell_type": "code",
   "execution_count": 29,
   "id": "a3d777c8-c05c-40fa-aa70-bd5e5765854f",
   "metadata": {},
   "outputs": [
    {
     "data": {
      "text/plain": [
       "(378, 50)"
      ]
     },
     "execution_count": 29,
     "metadata": {},
     "output_type": "execute_result"
    }
   ],
   "source": [
    "df_predictions.shape"
   ]
  },
  {
   "cell_type": "code",
   "execution_count": 30,
   "id": "756054e4-d6dc-4cd3-92d3-d4cee5276f20",
   "metadata": {},
   "outputs": [
    {
     "data": {
      "text/plain": [
       "378"
      ]
     },
     "execution_count": 30,
     "metadata": {},
     "output_type": "execute_result"
    }
   ],
   "source": [
    "len(predictions)"
   ]
  },
  {
   "cell_type": "code",
   "execution_count": 31,
   "id": "d8da22c9-ad65-42b0-8e33-cb89395761f9",
   "metadata": {},
   "outputs": [
    {
     "name": "stderr",
     "output_type": "stream",
     "text": [
      "\n",
      "A value is trying to be set on a copy of a slice from a DataFrame.\n",
      "Try using .loc[row_indexer,col_indexer] = value instead\n",
      "\n",
      "See the caveats in the documentation: https://pandas.pydata.org/pandas-docs/stable/user_guide/indexing.html#returning-a-view-versus-a-copy\n"
     ]
    }
   ],
   "source": [
    "df_predictions[\"pred\"] = predictions"
   ]
  },
  {
   "cell_type": "code",
   "execution_count": 32,
   "id": "1de0dbe5-2b5f-472d-9f2d-2300dab2b19c",
   "metadata": {},
   "outputs": [
    {
     "name": "stderr",
     "output_type": "stream",
     "text": [
      "Boolean Series key will be reindexed to match DataFrame index.\n"
     ]
    },
    {
     "data": {
      "text/plain": [
       "array([5.074069], dtype=float32)"
      ]
     },
     "execution_count": 32,
     "metadata": {},
     "output_type": "execute_result"
    }
   ],
   "source": [
    "model.predict(df[df[\"GW\"] == 18][df[\"Name\"] == \"Mohamed-Salah\"][features])"
   ]
  },
  {
   "cell_type": "code",
   "execution_count": 33,
   "id": "3fe1c712-ea38-4a91-9717-d4f520ffcb82",
   "metadata": {},
   "outputs": [
    {
     "data": {
      "text/html": [
       "<div>\n",
       "<style scoped>\n",
       "    .dataframe tbody tr th:only-of-type {\n",
       "        vertical-align: middle;\n",
       "    }\n",
       "\n",
       "    .dataframe tbody tr th {\n",
       "        vertical-align: top;\n",
       "    }\n",
       "\n",
       "    .dataframe thead th {\n",
       "        text-align: right;\n",
       "    }\n",
       "</style>\n",
       "<table border=\"1\" class=\"dataframe\">\n",
       "  <thead>\n",
       "    <tr style=\"text-align: right;\">\n",
       "      <th></th>\n",
       "      <th>Name</th>\n",
       "      <th>GW</th>\n",
       "      <th>Squad</th>\n",
       "      <th>Opponent</th>\n",
       "      <th>Was Home</th>\n",
       "      <th>Opp rating</th>\n",
       "      <th>FPL</th>\n",
       "      <th>pred</th>\n",
       "    </tr>\n",
       "  </thead>\n",
       "  <tbody>\n",
       "    <tr>\n",
       "      <th>6712</th>\n",
       "      <td>Ivan-Toney</td>\n",
       "      <td>18</td>\n",
       "      <td>Brentford</td>\n",
       "      <td>West Ham</td>\n",
       "      <td>0.0</td>\n",
       "      <td>1763.013794</td>\n",
       "      <td>11.0</td>\n",
       "      <td>15.764972</td>\n",
       "    </tr>\n",
       "    <tr>\n",
       "      <th>3497</th>\n",
       "      <td>Harry-Kane</td>\n",
       "      <td>18</td>\n",
       "      <td>Tottenham</td>\n",
       "      <td>Aston Villa</td>\n",
       "      <td>1.0</td>\n",
       "      <td>1739.823853</td>\n",
       "      <td>2.0</td>\n",
       "      <td>8.614942</td>\n",
       "    </tr>\n",
       "    <tr>\n",
       "      <th>2307</th>\n",
       "      <td>Bruno-Fernandes</td>\n",
       "      <td>18</td>\n",
       "      <td>Manchester Utd</td>\n",
       "      <td>Wolves</td>\n",
       "      <td>0.0</td>\n",
       "      <td>1691.323364</td>\n",
       "      <td>6.0</td>\n",
       "      <td>8.560822</td>\n",
       "    </tr>\n",
       "    <tr>\n",
       "      <th>5492</th>\n",
       "      <td>Marcus-Rashford</td>\n",
       "      <td>18</td>\n",
       "      <td>Manchester Utd</td>\n",
       "      <td>Wolves</td>\n",
       "      <td>0.0</td>\n",
       "      <td>1691.323364</td>\n",
       "      <td>7.0</td>\n",
       "      <td>7.864028</td>\n",
       "    </tr>\n",
       "    <tr>\n",
       "      <th>2900</th>\n",
       "      <td>Erling-Haaland</td>\n",
       "      <td>18</td>\n",
       "      <td>Manchester City</td>\n",
       "      <td>Everton</td>\n",
       "      <td>1.0</td>\n",
       "      <td>1688.246216</td>\n",
       "      <td>7.0</td>\n",
       "      <td>7.395182</td>\n",
       "    </tr>\n",
       "    <tr>\n",
       "      <th>1914</th>\n",
       "      <td>Gabriel-Dos-Santos</td>\n",
       "      <td>18</td>\n",
       "      <td>Arsenal</td>\n",
       "      <td>Brighton</td>\n",
       "      <td>0.0</td>\n",
       "      <td>1799.850708</td>\n",
       "      <td>2.0</td>\n",
       "      <td>7.070316</td>\n",
       "    </tr>\n",
       "    <tr>\n",
       "      <th>4313</th>\n",
       "      <td>Martinelli</td>\n",
       "      <td>18</td>\n",
       "      <td>Arsenal</td>\n",
       "      <td>Brighton</td>\n",
       "      <td>0.0</td>\n",
       "      <td>1799.850708</td>\n",
       "      <td>7.0</td>\n",
       "      <td>7.048484</td>\n",
       "    </tr>\n",
       "    <tr>\n",
       "      <th>5042</th>\n",
       "      <td>Michael-Olise</td>\n",
       "      <td>18</td>\n",
       "      <td>Crystal Palace</td>\n",
       "      <td>Bournemouth</td>\n",
       "      <td>0.0</td>\n",
       "      <td>1656.823120</td>\n",
       "      <td>9.0</td>\n",
       "      <td>6.742164</td>\n",
       "    </tr>\n",
       "    <tr>\n",
       "      <th>7453</th>\n",
       "      <td>Martin-Odegaard</td>\n",
       "      <td>18</td>\n",
       "      <td>Arsenal</td>\n",
       "      <td>Brighton</td>\n",
       "      <td>0.0</td>\n",
       "      <td>1799.850708</td>\n",
       "      <td>10.0</td>\n",
       "      <td>5.759643</td>\n",
       "    </tr>\n",
       "    <tr>\n",
       "      <th>3086</th>\n",
       "      <td>Son-Heung-min</td>\n",
       "      <td>18</td>\n",
       "      <td>Tottenham</td>\n",
       "      <td>Aston Villa</td>\n",
       "      <td>1.0</td>\n",
       "      <td>1739.823853</td>\n",
       "      <td>2.0</td>\n",
       "      <td>5.747201</td>\n",
       "    </tr>\n",
       "    <tr>\n",
       "      <th>2145</th>\n",
       "      <td>Mohamed-Elyounoussi</td>\n",
       "      <td>18</td>\n",
       "      <td>Southampton</td>\n",
       "      <td>Fulham</td>\n",
       "      <td>0.0</td>\n",
       "      <td>1698.989868</td>\n",
       "      <td>2.0</td>\n",
       "      <td>5.686983</td>\n",
       "    </tr>\n",
       "    <tr>\n",
       "      <th>1567</th>\n",
       "      <td>Patson-Daka</td>\n",
       "      <td>18</td>\n",
       "      <td>Leicester City</td>\n",
       "      <td>Liverpool</td>\n",
       "      <td>0.0</td>\n",
       "      <td>2004.431885</td>\n",
       "      <td>4.0</td>\n",
       "      <td>5.656330</td>\n",
       "    </tr>\n",
       "    <tr>\n",
       "      <th>2228</th>\n",
       "      <td>Eberechi-Eze</td>\n",
       "      <td>18</td>\n",
       "      <td>Crystal Palace</td>\n",
       "      <td>Bournemouth</td>\n",
       "      <td>0.0</td>\n",
       "      <td>1656.823120</td>\n",
       "      <td>8.0</td>\n",
       "      <td>5.376133</td>\n",
       "    </tr>\n",
       "    <tr>\n",
       "      <th>4159</th>\n",
       "      <td>Riyad-Mahrez</td>\n",
       "      <td>18</td>\n",
       "      <td>Manchester City</td>\n",
       "      <td>Everton</td>\n",
       "      <td>1.0</td>\n",
       "      <td>1688.246216</td>\n",
       "      <td>5.0</td>\n",
       "      <td>5.116406</td>\n",
       "    </tr>\n",
       "    <tr>\n",
       "      <th>5911</th>\n",
       "      <td>Mohamed-Salah</td>\n",
       "      <td>18</td>\n",
       "      <td>Liverpool</td>\n",
       "      <td>Leicester City</td>\n",
       "      <td>1.0</td>\n",
       "      <td>1772.712280</td>\n",
       "      <td>2.0</td>\n",
       "      <td>5.074069</td>\n",
       "    </tr>\n",
       "    <tr>\n",
       "      <th>325</th>\n",
       "      <td>Jaidon-Anthony</td>\n",
       "      <td>18</td>\n",
       "      <td>Bournemouth</td>\n",
       "      <td>Crystal Palace</td>\n",
       "      <td>1.0</td>\n",
       "      <td>1744.357544</td>\n",
       "      <td>2.0</td>\n",
       "      <td>4.975416</td>\n",
       "    </tr>\n",
       "    <tr>\n",
       "      <th>5269</th>\n",
       "      <td>Ayoze-Perez</td>\n",
       "      <td>18</td>\n",
       "      <td>Leicester City</td>\n",
       "      <td>Liverpool</td>\n",
       "      <td>0.0</td>\n",
       "      <td>2004.431885</td>\n",
       "      <td>2.0</td>\n",
       "      <td>4.879882</td>\n",
       "    </tr>\n",
       "    <tr>\n",
       "      <th>7359</th>\n",
       "      <td>Wilfried-Zaha</td>\n",
       "      <td>18</td>\n",
       "      <td>Crystal Palace</td>\n",
       "      <td>Bournemouth</td>\n",
       "      <td>0.0</td>\n",
       "      <td>1656.823120</td>\n",
       "      <td>3.0</td>\n",
       "      <td>4.847404</td>\n",
       "    </tr>\n",
       "    <tr>\n",
       "      <th>4949</th>\n",
       "      <td>Eddie-Nketiah</td>\n",
       "      <td>18</td>\n",
       "      <td>Arsenal</td>\n",
       "      <td>Brighton</td>\n",
       "      <td>0.0</td>\n",
       "      <td>1799.850708</td>\n",
       "      <td>7.0</td>\n",
       "      <td>4.707146</td>\n",
       "    </tr>\n",
       "    <tr>\n",
       "      <th>2181</th>\n",
       "      <td>Christian-Eriksen</td>\n",
       "      <td>18</td>\n",
       "      <td>Manchester Utd</td>\n",
       "      <td>Wolves</td>\n",
       "      <td>0.0</td>\n",
       "      <td>1691.323364</td>\n",
       "      <td>3.0</td>\n",
       "      <td>4.673160</td>\n",
       "    </tr>\n",
       "  </tbody>\n",
       "</table>\n",
       "</div>"
      ],
      "text/plain": [
       "                     Name  GW            Squad        Opponent  Was Home  \\\n",
       "6712           Ivan-Toney  18        Brentford        West Ham       0.0   \n",
       "3497           Harry-Kane  18        Tottenham     Aston Villa       1.0   \n",
       "2307      Bruno-Fernandes  18   Manchester Utd          Wolves       0.0   \n",
       "5492      Marcus-Rashford  18   Manchester Utd          Wolves       0.0   \n",
       "2900       Erling-Haaland  18  Manchester City         Everton       1.0   \n",
       "1914   Gabriel-Dos-Santos  18          Arsenal        Brighton       0.0   \n",
       "4313           Martinelli  18          Arsenal        Brighton       0.0   \n",
       "5042        Michael-Olise  18   Crystal Palace     Bournemouth       0.0   \n",
       "7453      Martin-Odegaard  18          Arsenal        Brighton       0.0   \n",
       "3086        Son-Heung-min  18        Tottenham     Aston Villa       1.0   \n",
       "2145  Mohamed-Elyounoussi  18      Southampton          Fulham       0.0   \n",
       "1567          Patson-Daka  18   Leicester City       Liverpool       0.0   \n",
       "2228         Eberechi-Eze  18   Crystal Palace     Bournemouth       0.0   \n",
       "4159         Riyad-Mahrez  18  Manchester City         Everton       1.0   \n",
       "5911        Mohamed-Salah  18        Liverpool  Leicester City       1.0   \n",
       "325        Jaidon-Anthony  18      Bournemouth  Crystal Palace       1.0   \n",
       "5269          Ayoze-Perez  18   Leicester City       Liverpool       0.0   \n",
       "7359        Wilfried-Zaha  18   Crystal Palace     Bournemouth       0.0   \n",
       "4949        Eddie-Nketiah  18          Arsenal        Brighton       0.0   \n",
       "2181    Christian-Eriksen  18   Manchester Utd          Wolves       0.0   \n",
       "\n",
       "       Opp rating   FPL       pred  \n",
       "6712  1763.013794  11.0  15.764972  \n",
       "3497  1739.823853   2.0   8.614942  \n",
       "2307  1691.323364   6.0   8.560822  \n",
       "5492  1691.323364   7.0   7.864028  \n",
       "2900  1688.246216   7.0   7.395182  \n",
       "1914  1799.850708   2.0   7.070316  \n",
       "4313  1799.850708   7.0   7.048484  \n",
       "5042  1656.823120   9.0   6.742164  \n",
       "7453  1799.850708  10.0   5.759643  \n",
       "3086  1739.823853   2.0   5.747201  \n",
       "2145  1698.989868   2.0   5.686983  \n",
       "1567  2004.431885   4.0   5.656330  \n",
       "2228  1656.823120   8.0   5.376133  \n",
       "4159  1688.246216   5.0   5.116406  \n",
       "5911  1772.712280   2.0   5.074069  \n",
       "325   1744.357544   2.0   4.975416  \n",
       "5269  2004.431885   2.0   4.879882  \n",
       "7359  1656.823120   3.0   4.847404  \n",
       "4949  1799.850708   7.0   4.707146  \n",
       "2181  1691.323364   3.0   4.673160  "
      ]
     },
     "execution_count": 33,
     "metadata": {},
     "output_type": "execute_result"
    }
   ],
   "source": [
    "df_predictions[info + to_predict + [\"pred\"]].sort_values(by=[\"pred\"], ascending = False).head(20)"
   ]
  },
  {
   "cell_type": "markdown",
   "id": "3ed6461a-a67a-4068-984b-c17e9a1d8c7b",
   "metadata": {},
   "source": [
    "# Feature importance and influence"
   ]
  },
  {
   "cell_type": "code",
   "execution_count": 34,
   "id": "7f0acc94-8661-4933-926c-859679ba5d4f",
   "metadata": {},
   "outputs": [
    {
     "data": {
      "text/plain": [
       "<AxesSubplot:title={'center':'Feature importance'}, xlabel='F score', ylabel='Features'>"
      ]
     },
     "execution_count": 34,
     "metadata": {},
     "output_type": "execute_result"
    },
    {
     "data": {
      "image/png": "[encoded data removed]",
      "text/plain": [
       "<Figure size 432x288 with 1 Axes>"
      ]
     },
     "metadata": {
      "needs_background": "light"
     },
     "output_type": "display_data"
    }
   ],
   "source": [
    "plot_importance(model)"
   ]
  },
  {
   "cell_type": "code",
   "execution_count": 35,
   "id": "fc68979d-f8e7-4f44-ae50-22ef7b92b9e1",
   "metadata": {},
   "outputs": [
    {
     "name": "stderr",
     "output_type": "stream",
     "text": [
      "Function plot_partial_dependence is deprecated; Function `plot_partial_dependence` is deprecated in 1.0 and will be removed in 1.2. Use PartialDependenceDisplay.from_estimator instead\n"
     ]
    },
    {
     "data": {
      "text/plain": [
       "<sklearn.inspection._plot.partial_dependence.PartialDependenceDisplay at 0x24a045ec730>"
      ]
     },
     "execution_count": 35,
     "metadata": {},
     "output_type": "execute_result"
    },
    {
     "data": {
      "image/png": "[encoded data removed]",
      "text/plain": [
       "<Figure size 1152x576 with 6 Axes>"
      ]
     },
     "metadata": {
      "needs_background": "light"
     },
     "output_type": "display_data"
    }
   ],
   "source": [
    "fig, ax = plt.subplots(figsize=(16, 8))\n",
    "plot_partial_dependence(model, X_train, features, ax=ax)"
   ]
  },
  {
   "cell_type": "code",
   "execution_count": 36,
   "id": "c90e9b27-43c3-4253-830d-53c3532c5197",
   "metadata": {},
   "outputs": [],
   "source": [
    "explainer = shap.Explainer(model, X_train)\n",
    "shap_values = explainer(X_train)"
   ]
  },
  {
   "cell_type": "code",
   "execution_count": 37,
   "id": "f73757e7-4125-4657-8b78-914b5324a9e9",
   "metadata": {},
   "outputs": [
    {
     "data": {
      "image/png": "[encoded data removed]",
      "text/plain": [
       "<Figure size 576x288 with 1 Axes>"
      ]
     },
     "metadata": {},
     "output_type": "display_data"
    }
   ],
   "source": [
    "shap.plots.bar(shap_values)"
   ]
  },
  {
   "cell_type": "code",
   "execution_count": 38,
   "id": "4d1a6591-e086-4156-a51a-3ccfd3489561",
   "metadata": {},
   "outputs": [
    {
     "data": {
      "image/png": "[encoded data removed]",
      "text/plain": [
       "<Figure size 576x252 with 2 Axes>"
      ]
     },
     "metadata": {
      "needs_background": "light"
     },
     "output_type": "display_data"
    }
   ],
   "source": [
    "shap.plots.beeswarm(shap_values)"
   ]
  },
  {
   "cell_type": "code",
   "execution_count": 45,
   "id": "b1d832a7-6e45-4286-a102-029a56916c45",
   "metadata": {},
   "outputs": [
    {
     "data": {
      "image/png": "[encoded data removed]",
      "text/plain": [
       "<Figure size 576x288 with 1 Axes>"
      ]
     },
     "metadata": {},
     "output_type": "display_data"
    }
   ],
   "source": [
    "shap.plots.bar(shap_values[124])"
   ]
  },
  {
   "cell_type": "code",
   "execution_count": null,
   "id": "30d87d10-ae71-4fc6-aa37-455fa45be613",
   "metadata": {},
   "outputs": [],
   "source": []
  },
  {
   "cell_type": "code",
   "execution_count": null,
   "id": "bd48e593-6e80-42dd-a735-b0815e5694c9",
   "metadata": {},
   "outputs": [],
   "source": []
  }
 ],
 "metadata": {
  "kernelspec": {
   "display_name": "Python 3 (ipykernel)",
   "language": "python",
   "name": "python3"
  },
  "language_info": {
   "codemirror_mode": {
    "name": "ipython",
    "version": 3
   },
   "file_extension": ".py",
   "mimetype": "text/x-python",
   "name": "python",
   "nbconvert_exporter": "python",
   "pygments_lexer": "ipython3",
   "version": "3.8.0"
  }
 },
 "nbformat": 4,
 "nbformat_minor": 5
}
