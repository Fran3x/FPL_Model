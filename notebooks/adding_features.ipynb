{
 "cells": [
  {
   "cell_type": "markdown",
   "id": "d3031e9f-55bc-4ab6-8e94-6f9331825fa4",
   "metadata": {},
   "source": [
    "# Imports"
   ]
  },
  {
   "cell_type": "code",
   "execution_count": 1,
   "id": "c480e298-fef2-4828-aea8-9cb4d3d06729",
   "metadata": {},
   "outputs": [],
   "source": [
    "import os\n",
    "os.chdir(\"D:\\PulpitE\\FPL_ML\")"
   ]
  },
  {
   "cell_type": "code",
   "execution_count": 2,
   "id": "bd3f33a0-5cda-4afe-be15-d3622d94093c",
   "metadata": {},
   "outputs": [],
   "source": [
    "import pandas as pd\n",
    "\n",
    "import torch\n",
    "import torch.nn as nn\n",
    "\n",
    "import torchvision\n",
    "import torchvision.transforms\n",
    "\n",
    "from torch.utils.data import Dataset, DataLoader\n",
    "import torch.optim as optim\n",
    "\n",
    "import matplotlib.pyplot as plt\n",
    "\n",
    "import numpy as np\n",
    "import random"
   ]
  },
  {
   "cell_type": "markdown",
   "id": "edc5bf88-7d04-4f09-90eb-a91870d6c05b",
   "metadata": {},
   "source": [
    "# Reading data"
   ]
  },
  {
   "cell_type": "code",
   "execution_count": 3,
   "id": "c8de1144-8895-4885-aa56-eaa6a4c4c972",
   "metadata": {},
   "outputs": [],
   "source": [
    "df = pd.read_csv('data/fpl_fbref_elo_players.csv')"
   ]
  },
  {
   "cell_type": "code",
   "execution_count": 4,
   "id": "1b2441dd-daf9-4c9a-ba3d-4978ca1baa1d",
   "metadata": {},
   "outputs": [],
   "source": [
    "df = df.loc[:, ~df.columns.str.contains('^Unnamed')]"
   ]
  },
  {
   "cell_type": "markdown",
   "id": "94d71555-d8b1-4a55-9efa-252f7fee0092",
   "metadata": {},
   "source": [
    "# New features"
   ]
  },
  {
   "cell_type": "code",
   "execution_count": 5,
   "id": "5fc916b9-1fe4-460b-9854-6eefbecf64fe",
   "metadata": {},
   "outputs": [],
   "source": [
    "# average goals for and against team in last 5 matches\n",
    "grouped = df.groupby('Name')"
   ]
  },
  {
   "cell_type": "code",
   "execution_count": 6,
   "id": "f7498180-823c-4109-b67f-cd2c8bc945f3",
   "metadata": {},
   "outputs": [],
   "source": [
    "df['ScoreForLast5'] = grouped['Team Score'].rolling(5, min_periods=1).mean().reset_index(level=0, drop=True)"
   ]
  },
  {
   "cell_type": "code",
   "execution_count": 7,
   "id": "9ce06b3d-a43c-457d-b51e-e5bd8170935d",
   "metadata": {},
   "outputs": [],
   "source": [
    "df['ScoreAgainstLast5'] = grouped['Opp Score'].rolling(5, min_periods=1).mean().reset_index(level=0, drop=True)"
   ]
  },
  {
   "cell_type": "code",
   "execution_count": 8,
   "id": "73af934c-56c2-482b-97cf-497af0201195",
   "metadata": {},
   "outputs": [],
   "source": [
    "df['ScoreForLast5'] = df['ScoreForLast5'].shift(1)\n",
    "df['ScoreAgainstLast5'] = df['ScoreAgainstLast5'].shift(1)"
   ]
  },
  {
   "cell_type": "code",
   "execution_count": 9,
   "id": "3ad82e0f-df09-4155-93b5-c5796d7e0b10",
   "metadata": {},
   "outputs": [
    {
     "data": {
      "text/html": [
       "<div>\n",
       "<style scoped>\n",
       "    .dataframe tbody tr th:only-of-type {\n",
       "        vertical-align: middle;\n",
       "    }\n",
       "\n",
       "    .dataframe tbody tr th {\n",
       "        vertical-align: top;\n",
       "    }\n",
       "\n",
       "    .dataframe thead th {\n",
       "        text-align: right;\n",
       "    }\n",
       "</style>\n",
       "<table border=\"1\" class=\"dataframe\">\n",
       "  <thead>\n",
       "    <tr style=\"text-align: right;\">\n",
       "      <th></th>\n",
       "      <th>ScoreForLast5</th>\n",
       "      <th>ScoreAgainstLast5</th>\n",
       "      <th>Team Score</th>\n",
       "      <th>Opp Score</th>\n",
       "    </tr>\n",
       "  </thead>\n",
       "  <tbody>\n",
       "    <tr>\n",
       "      <th>0</th>\n",
       "      <td>NaN</td>\n",
       "      <td>NaN</td>\n",
       "      <td>2</td>\n",
       "      <td>2</td>\n",
       "    </tr>\n",
       "    <tr>\n",
       "      <th>1</th>\n",
       "      <td>2.000000</td>\n",
       "      <td>2.000000</td>\n",
       "      <td>1</td>\n",
       "      <td>1</td>\n",
       "    </tr>\n",
       "    <tr>\n",
       "      <th>2</th>\n",
       "      <td>1.500000</td>\n",
       "      <td>1.500000</td>\n",
       "      <td>1</td>\n",
       "      <td>2</td>\n",
       "    </tr>\n",
       "    <tr>\n",
       "      <th>3</th>\n",
       "      <td>1.333333</td>\n",
       "      <td>1.666667</td>\n",
       "      <td>9</td>\n",
       "      <td>0</td>\n",
       "    </tr>\n",
       "    <tr>\n",
       "      <th>4</th>\n",
       "      <td>3.250000</td>\n",
       "      <td>1.250000</td>\n",
       "      <td>2</td>\n",
       "      <td>1</td>\n",
       "    </tr>\n",
       "    <tr>\n",
       "      <th>5</th>\n",
       "      <td>3.000000</td>\n",
       "      <td>1.200000</td>\n",
       "      <td>0</td>\n",
       "      <td>0</td>\n",
       "    </tr>\n",
       "    <tr>\n",
       "      <th>6</th>\n",
       "      <td>2.600000</td>\n",
       "      <td>0.800000</td>\n",
       "      <td>3</td>\n",
       "      <td>3</td>\n",
       "    </tr>\n",
       "    <tr>\n",
       "      <th>7</th>\n",
       "      <td>3.000000</td>\n",
       "      <td>1.200000</td>\n",
       "      <td>2</td>\n",
       "      <td>3</td>\n",
       "    </tr>\n",
       "    <tr>\n",
       "      <th>8</th>\n",
       "      <td>3.200000</td>\n",
       "      <td>1.400000</td>\n",
       "      <td>1</td>\n",
       "      <td>0</td>\n",
       "    </tr>\n",
       "    <tr>\n",
       "      <th>9</th>\n",
       "      <td>1.600000</td>\n",
       "      <td>1.400000</td>\n",
       "      <td>1</td>\n",
       "      <td>0</td>\n",
       "    </tr>\n",
       "    <tr>\n",
       "      <th>10</th>\n",
       "      <td>1.400000</td>\n",
       "      <td>1.200000</td>\n",
       "      <td>0</td>\n",
       "      <td>1</td>\n",
       "    </tr>\n",
       "    <tr>\n",
       "      <th>11</th>\n",
       "      <td>1.400000</td>\n",
       "      <td>1.400000</td>\n",
       "      <td>1</td>\n",
       "      <td>2</td>\n",
       "    </tr>\n",
       "    <tr>\n",
       "      <th>12</th>\n",
       "      <td>1.000000</td>\n",
       "      <td>1.200000</td>\n",
       "      <td>2</td>\n",
       "      <td>1</td>\n",
       "    </tr>\n",
       "    <tr>\n",
       "      <th>13</th>\n",
       "      <td>1.000000</td>\n",
       "      <td>0.800000</td>\n",
       "      <td>3</td>\n",
       "      <td>1</td>\n",
       "    </tr>\n",
       "    <tr>\n",
       "      <th>14</th>\n",
       "      <td>1.400000</td>\n",
       "      <td>1.000000</td>\n",
       "      <td>3</td>\n",
       "      <td>1</td>\n",
       "    </tr>\n",
       "    <tr>\n",
       "      <th>15</th>\n",
       "      <td>1.800000</td>\n",
       "      <td>1.200000</td>\n",
       "      <td>2</td>\n",
       "      <td>1</td>\n",
       "    </tr>\n",
       "    <tr>\n",
       "      <th>16</th>\n",
       "      <td>2.200000</td>\n",
       "      <td>1.200000</td>\n",
       "      <td>1</td>\n",
       "      <td>3</td>\n",
       "    </tr>\n",
       "    <tr>\n",
       "      <th>17</th>\n",
       "      <td>2.200000</td>\n",
       "      <td>1.400000</td>\n",
       "      <td>0</td>\n",
       "      <td>3</td>\n",
       "    </tr>\n",
       "    <tr>\n",
       "      <th>18</th>\n",
       "      <td>1.800000</td>\n",
       "      <td>1.800000</td>\n",
       "      <td>0</td>\n",
       "      <td>0</td>\n",
       "    </tr>\n",
       "  </tbody>\n",
       "</table>\n",
       "</div>"
      ],
      "text/plain": [
       "    ScoreForLast5  ScoreAgainstLast5  Team Score  Opp Score\n",
       "0             NaN                NaN           2          2\n",
       "1        2.000000           2.000000           1          1\n",
       "2        1.500000           1.500000           1          2\n",
       "3        1.333333           1.666667           9          0\n",
       "4        3.250000           1.250000           2          1\n",
       "5        3.000000           1.200000           0          0\n",
       "6        2.600000           0.800000           3          3\n",
       "7        3.000000           1.200000           2          3\n",
       "8        3.200000           1.400000           1          0\n",
       "9        1.600000           1.400000           1          0\n",
       "10       1.400000           1.200000           0          1\n",
       "11       1.400000           1.400000           1          2\n",
       "12       1.000000           1.200000           2          1\n",
       "13       1.000000           0.800000           3          1\n",
       "14       1.400000           1.000000           3          1\n",
       "15       1.800000           1.200000           2          1\n",
       "16       2.200000           1.200000           1          3\n",
       "17       2.200000           1.400000           0          3\n",
       "18       1.800000           1.800000           0          0"
      ]
     },
     "execution_count": 9,
     "metadata": {},
     "output_type": "execute_result"
    }
   ],
   "source": [
    "df[df[\"Name\"] == \"Mohamed-Salah\"][[\"ScoreForLast5\", \"ScoreAgainstLast5\", \"Team Score\", \"Opp Score\"]]"
   ]
  },
  {
   "cell_type": "markdown",
   "id": "db9e64be-1eb6-44d2-ba3d-5ab3124b93e8",
   "metadata": {},
   "source": [
    "# Saving df to file"
   ]
  },
  {
   "cell_type": "code",
   "execution_count": 10,
   "id": "f68cae3e-48ee-4d4b-99bf-581dad12924a",
   "metadata": {},
   "outputs": [],
   "source": [
    "df.to_csv('data/final_dataset.csv')"
   ]
  },
  {
   "cell_type": "code",
   "execution_count": 12,
   "id": "5c32ba1b-c7e1-4096-bb5b-c28cb890a536",
   "metadata": {},
   "outputs": [
    {
     "data": {
      "text/plain": [
       "Date                     2022-08-15\n",
       "Day                             Mon\n",
       "Comp                 Premier League\n",
       "Round                   Matchweek 2\n",
       "Venue                          Home\n",
       "Squad                     Liverpool\n",
       "Opponent             Crystal Palace\n",
       "Start                             Y\n",
       "Pos                           RW,FW\n",
       "Min                            90.0\n",
       "Gls                             0.0\n",
       "Ast                             0.0\n",
       "PK                              0.0\n",
       "PKatt                           0.0\n",
       "Sh                              3.0\n",
       "SoT                             1.0\n",
       "CrdY                            0.0\n",
       "CrdR                            0.0\n",
       "Touches                        51.0\n",
       "Tkl                             0.0\n",
       "Int                             0.0\n",
       "Blocks                          0.0\n",
       "xG                              0.3\n",
       "npxG                            0.3\n",
       "xAG                             0.8\n",
       "SCA                             9.0\n",
       "GCA                             0.0\n",
       "Cmp                            27.0\n",
       "Att                            35.0\n",
       "Cmp%                           77.1\n",
       "PrgP                            9.0\n",
       "Carries                        37.0\n",
       "PrgC                            0.0\n",
       "Att.1                           6.0\n",
       "Succ                            1.0\n",
       "Match Report           Match Report\n",
       "Name                  Mohamed-Salah\n",
       "Season                      2022-23\n",
       "WDL                               D\n",
       "GoalsTeams                      1–1\n",
       "Team Score                        1\n",
       "Opp Score                         1\n",
       "CS                              0.0\n",
       "Was Home                        1.0\n",
       "GW                                2\n",
       "FPL                             2.0\n",
       "neutral_name          Mohamed-Salah\n",
       "Total Points                    2.0\n",
       "FPL position                    NaN\n",
       "Opp rating               1744.51062\n",
       "ScoreForLast5                   2.0\n",
       "ScoreAgainstLast5               2.0\n",
       "Name: 1, dtype: object"
      ]
     },
     "execution_count": 12,
     "metadata": {},
     "output_type": "execute_result"
    }
   ],
   "source": [
    "df.iloc[1]"
   ]
  },
  {
   "cell_type": "code",
   "execution_count": null,
   "id": "bb89f147-6db1-4df1-8296-e71391e4fe0a",
   "metadata": {},
   "outputs": [],
   "source": []
  }
 ],
 "metadata": {
  "kernelspec": {
   "display_name": "Python 3 (ipykernel)",
   "language": "python",
   "name": "python3"
  },
  "language_info": {
   "codemirror_mode": {
    "name": "ipython",
    "version": 3
   },
   "file_extension": ".py",
   "mimetype": "text/x-python",
   "name": "python",
   "nbconvert_exporter": "python",
   "pygments_lexer": "ipython3",
   "version": "3.8.0"
  }
 },
 "nbformat": 4,
 "nbformat_minor": 5
}
