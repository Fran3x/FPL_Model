{
 "cells": [
  {
   "cell_type": "markdown",
   "id": "d3031e9f-55bc-4ab6-8e94-6f9331825fa4",
   "metadata": {},
   "source": [
    "# Imports"
   ]
  },
  {
   "cell_type": "code",
   "execution_count": 1,
   "id": "c480e298-fef2-4828-aea8-9cb4d3d06729",
   "metadata": {},
   "outputs": [],
   "source": [
    "import os\n",
    "os.chdir(\"D:\\PulpitE\\FPL_ML\")"
   ]
  },
  {
   "cell_type": "code",
   "execution_count": 2,
   "id": "bd3f33a0-5cda-4afe-be15-d3622d94093c",
   "metadata": {},
   "outputs": [],
   "source": [
    "import pandas as pd\n",
    "\n",
    "import torch\n",
    "import torch.nn as nn\n",
    "\n",
    "import torchvision\n",
    "import torchvision.transforms\n",
    "\n",
    "from torch.utils.data import Dataset, DataLoader\n",
    "import torch.optim as optim\n",
    "\n",
    "import matplotlib.pyplot as plt\n",
    "\n",
    "import numpy as np\n",
    "import random"
   ]
  },
  {
   "cell_type": "markdown",
   "id": "edc5bf88-7d04-4f09-90eb-a91870d6c05b",
   "metadata": {},
   "source": [
    "# Reading data"
   ]
  },
  {
   "cell_type": "code",
   "execution_count": 3,
   "id": "c8de1144-8895-4885-aa56-eaa6a4c4c972",
   "metadata": {},
   "outputs": [],
   "source": [
    "df = pd.read_csv('data/fpl_fbref_elo_players.csv')"
   ]
  },
  {
   "cell_type": "code",
   "execution_count": 4,
   "id": "1b2441dd-daf9-4c9a-ba3d-4978ca1baa1d",
   "metadata": {},
   "outputs": [],
   "source": [
    "df = df.loc[:, ~df.columns.str.contains('^Unnamed')]"
   ]
  },
  {
   "cell_type": "code",
   "execution_count": 5,
   "id": "25c25a7d-5785-41fb-93cc-fe3e89d615ba",
   "metadata": {},
   "outputs": [
    {
     "data": {
      "text/plain": [
       "Index(['Date', 'Day', 'Comp', 'Round', 'Venue', 'Squad', 'Opponent', 'Start',\n",
       "       'Pos', 'Min', 'Gls', 'Ast', 'PK', 'PKatt', 'Sh', 'SoT', 'CrdY', 'CrdR',\n",
       "       'Touches', 'Tkl', 'Int', 'Blocks', 'xG', 'npxG', 'xAG', 'SCA', 'GCA',\n",
       "       'Cmp', 'Att', 'Cmp%', 'PrgP', 'Carries', 'PrgC', 'Att.1', 'Succ',\n",
       "       'Match Report', 'Name', 'Season', 'Fls', 'Fld', 'Off', 'Crs', 'TklW',\n",
       "       'OG', 'PKwon', 'PKcon', 'WDL', 'GoalsTeams', 'Team Score', 'Opp Score',\n",
       "       'CS', 'Was Home', 'GW', 'neutral_name', 'Total Points', 'FPL position',\n",
       "       'Opp rating', 'Team rating'],\n",
       "      dtype='object')"
      ]
     },
     "execution_count": 5,
     "metadata": {},
     "output_type": "execute_result"
    }
   ],
   "source": [
    "df.columns"
   ]
  },
  {
   "cell_type": "markdown",
   "id": "94d71555-d8b1-4a55-9efa-252f7fee0092",
   "metadata": {},
   "source": [
    "# New features"
   ]
  },
  {
   "cell_type": "code",
   "execution_count": 6,
   "id": "5fc916b9-1fe4-460b-9854-6eefbecf64fe",
   "metadata": {},
   "outputs": [],
   "source": [
    "# average goals for and against team in last 5 matches\n",
    "grouped = df.groupby('Name')"
   ]
  },
  {
   "cell_type": "code",
   "execution_count": 7,
   "id": "f7498180-823c-4109-b67f-cd2c8bc945f3",
   "metadata": {},
   "outputs": [],
   "source": [
    "df['ScoreForLast5'] = grouped['Team Score'].rolling(5, min_periods=1).mean().reset_index(level=0, drop=True)"
   ]
  },
  {
   "cell_type": "code",
   "execution_count": 8,
   "id": "9ce06b3d-a43c-457d-b51e-e5bd8170935d",
   "metadata": {},
   "outputs": [],
   "source": [
    "df['ScoreAgainstLast5'] = grouped['Opp Score'].rolling(5, min_periods=1).mean().reset_index(level=0, drop=True)"
   ]
  },
  {
   "cell_type": "code",
   "execution_count": 9,
   "id": "73af934c-56c2-482b-97cf-497af0201195",
   "metadata": {},
   "outputs": [],
   "source": [
    "df['ScoreForLast5'] = df['ScoreForLast5'].shift(1)\n",
    "df['ScoreAgainstLast5'] = df['ScoreAgainstLast5'].shift(1)"
   ]
  },
  {
   "cell_type": "code",
   "execution_count": 10,
   "id": "df3ec479-c968-4743-a29c-166755b1dcae",
   "metadata": {},
   "outputs": [],
   "source": [
    "df[\"Min_points\"] = (df[\"Min\"] > 0) + (df[\"Min\"] > 60)"
   ]
  },
  {
   "cell_type": "code",
   "execution_count": null,
   "id": "92004864-b129-4e88-913c-3f3d1c0a9f16",
   "metadata": {},
   "outputs": [],
   "source": [
    "%%time\n",
    "# calculates the average of a feature for all fixtures that took place before that game\n",
    "overall_average_columns = [\"Min\", \"Gls\", \"Ast\", \"CrdY\", \"CrdR\", \"xG\", \"xAG\", \"CS\", \"Team Score\", \"Opp Score\"]\n",
    "\n",
    "for i, row in df.iterrows():\n",
    "    name = row[\"Name\"]\n",
    "    date = row[\"Date\"]\n",
    "    for col in overall_average_columns:\n",
    "        df.loc[i, col + \"AvgOverall\"] = df[(df[\"Date\"] < date) & (df[\"Name\"] == name)][col].mean()"
   ]
  },
  {
   "cell_type": "code",
   "execution_count": null,
   "id": "8b438ce8-7fbf-4c72-a30e-9900e13feeba",
   "metadata": {},
   "outputs": [],
   "source": [
    "df[df[\"Name\"] == \"Mohamed-Salah\"][[\"ScoreForLast5\", \"ScoreAgainstLast5\", \"Team Score\", \"Opp Score\", \"GlsAvgOverall\", \"Gls\"]]"
   ]
  },
  {
   "cell_type": "code",
   "execution_count": null,
   "id": "27c78f28-3538-47ce-be34-96e6112212c5",
   "metadata": {},
   "outputs": [],
   "source": [
    "df.columns"
   ]
  },
  {
   "cell_type": "markdown",
   "id": "db9e64be-1eb6-44d2-ba3d-5ab3124b93e8",
   "metadata": {},
   "source": [
    "# Saving df to file"
   ]
  },
  {
   "cell_type": "code",
   "execution_count": null,
   "id": "c831a15d-6703-4adf-a3ce-2737682b7166",
   "metadata": {},
   "outputs": [],
   "source": [
    "df = df.loc[:, ~df.columns.str.contains('^Unnamed')]"
   ]
  },
  {
   "cell_type": "code",
   "execution_count": null,
   "id": "f68cae3e-48ee-4d4b-99bf-581dad12924a",
   "metadata": {},
   "outputs": [],
   "source": [
    "df.to_csv('data/final_dataset.csv')"
   ]
  },
  {
   "cell_type": "code",
   "execution_count": null,
   "id": "5c32ba1b-c7e1-4096-bb5b-c28cb890a536",
   "metadata": {},
   "outputs": [],
   "source": [
    "df"
   ]
  },
  {
   "cell_type": "code",
   "execution_count": null,
   "id": "796bd4ea-db01-45f0-91aa-17f443f4e478",
   "metadata": {},
   "outputs": [],
   "source": []
  }
 ],
 "metadata": {
  "kernelspec": {
   "display_name": "Python 3 (ipykernel)",
   "language": "python",
   "name": "python3"
  },
  "language_info": {
   "codemirror_mode": {
    "name": "ipython",
    "version": 3
   },
   "file_extension": ".py",
   "mimetype": "text/x-python",
   "name": "python",
   "nbconvert_exporter": "python",
   "pygments_lexer": "ipython3",
   "version": "3.8.0"
  }
 },
 "nbformat": 4,
 "nbformat_minor": 5
}
