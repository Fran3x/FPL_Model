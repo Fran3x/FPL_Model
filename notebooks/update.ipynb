{
 "cells": [
  {
   "cell_type": "markdown",
   "id": "e76bb578-0c28-4aa7-bda9-3de10b959655",
   "metadata": {},
   "source": [
    "# Imports and setup\n",
    "### This file merges logs from previous seasons with logs from ongoing season"
   ]
  },
  {
   "cell_type": "code",
   "execution_count": 1,
   "id": "4f4f6732-8c69-48db-844c-62a42918b33d",
   "metadata": {},
   "outputs": [],
   "source": [
    "import os\n",
    "os.chdir(\"D:\\PulpitE\\FPL_ML\")"
   ]
  },
  {
   "cell_type": "code",
   "execution_count": 2,
   "id": "bf1d0802-fdac-4ff6-aa56-6c27e0ab02e5",
   "metadata": {},
   "outputs": [],
   "source": [
    "from vaastav.mergers import *\n",
    "import pandas as pd\n",
    "import numpy as np\n",
    "from models.commons import *\n",
    "from src.data_prep import *"
   ]
  },
  {
   "cell_type": "code",
   "execution_count": 3,
   "id": "714c5efe-fd55-47b5-8d2d-564688e87607",
   "metadata": {},
   "outputs": [],
   "source": [
    "current_season = \"2023-24\""
   ]
  },
  {
   "cell_type": "markdown",
   "id": "eb7052e8-3343-4632-833d-92dfbb75d017",
   "metadata": {},
   "source": [
    "# Reading files"
   ]
  },
  {
   "cell_type": "code",
   "execution_count": 4,
   "id": "a953e772-f817-43c6-8717-7efbd37cd5cc",
   "metadata": {},
   "outputs": [
    {
     "name": "stderr",
     "output_type": "stream",
     "text": [
      "C:\\users\\user\\appdata\\local\\programs\\python\\python38\\lib\\site-packages\\IPython\\core\\interactiveshell.py:3369: DtypeWarning: Columns (4) have mixed types.Specify dtype option on import or set low_memory=False.\n",
      "  exec(code_obj, self.user_global_ns, self.user_ns)\n"
     ]
    }
   ],
   "source": [
    "# updating fpl_player.csv\n",
    "previous_seasons = pd.read_csv('data/cleaned_merged_seasons.csv')\n",
    "this_season = pd.read_csv('data/' + current_season  + '/gws/merged_gw.csv')"
   ]
  },
  {
   "cell_type": "code",
   "execution_count": 5,
   "id": "47234b7c-75a4-4e7b-a04c-a53a3ec8bd67",
   "metadata": {},
   "outputs": [
    {
     "data": {
      "text/plain": [
       "((127993, 38), (658, 41))"
      ]
     },
     "execution_count": 5,
     "metadata": {},
     "output_type": "execute_result"
    }
   ],
   "source": [
    "previous_seasons.shape, this_season.shape"
   ]
  },
  {
   "cell_type": "code",
   "execution_count": 6,
   "id": "5ebc12a4-73d2-41a0-a58c-afc965447669",
   "metadata": {
    "tags": []
   },
   "outputs": [],
   "source": [
    "# previous_seasons.iloc[0]"
   ]
  },
  {
   "cell_type": "code",
   "execution_count": 7,
   "id": "6df4b592-5839-447e-b3b3-c591e1a7a976",
   "metadata": {},
   "outputs": [],
   "source": [
    "# previous_seasons.iloc[-1]"
   ]
  },
  {
   "cell_type": "code",
   "execution_count": 8,
   "id": "b43b210a-2895-45a4-aee1-22eb90e57541",
   "metadata": {},
   "outputs": [],
   "source": [
    "previous_seasons = previous_seasons[previous_seasons['team_x'].notnull()]\n",
    "previous_seasons = previous_seasons.rename(columns = {\n",
    "        'season_x': 'season',\n",
    "        'team_x': 'team'\n",
    "    })\n",
    "this_season['season'] = current_season"
   ]
  },
  {
   "cell_type": "code",
   "execution_count": 9,
   "id": "5e189c69-16f8-4782-acbf-66db16e74271",
   "metadata": {},
   "outputs": [],
   "source": [
    "# previous_seasons"
   ]
  },
  {
   "cell_type": "code",
   "execution_count": 10,
   "id": "e6bb3896-a3b1-4bd4-a58d-41879252da8f",
   "metadata": {},
   "outputs": [],
   "source": [
    "# this_season[this_season.name == \"Nick Pope\"]"
   ]
  },
  {
   "cell_type": "code",
   "execution_count": 11,
   "id": "1418f495-fd53-4335-8008-cf5774edbdf0",
   "metadata": {},
   "outputs": [],
   "source": [
    "# this_season.iloc[0]"
   ]
  },
  {
   "cell_type": "code",
   "execution_count": 12,
   "id": "f45e13c9-d752-4b62-aa8c-9b2911ad6e3f",
   "metadata": {},
   "outputs": [
    {
     "name": "stdout",
     "output_type": "stream",
     "text": [
      "LENGTH (0, 42)\n"
     ]
    }
   ],
   "source": [
    "this_season = add_opp_team_for_current_season(this_season)"
   ]
  },
  {
   "cell_type": "code",
   "execution_count": 13,
   "id": "a9ebad98-80f9-4cab-a68a-0eca239edbe1",
   "metadata": {},
   "outputs": [],
   "source": [
    "# this_season.iloc[0]"
   ]
  },
  {
   "cell_type": "markdown",
   "id": "0960e2ea-6784-433e-b32c-a71e181273da",
   "metadata": {},
   "source": [
    "# Merging"
   ]
  },
  {
   "cell_type": "code",
   "execution_count": 14,
   "id": "62af7b19-1aba-4be2-984c-4fe3ac07f92f",
   "metadata": {},
   "outputs": [],
   "source": [
    "merged_seasons = pd.concat([previous_seasons, this_season])"
   ]
  },
  {
   "cell_type": "code",
   "execution_count": 15,
   "id": "01b7101c-dbae-48cb-b2d4-0dba8f003571",
   "metadata": {},
   "outputs": [
    {
     "data": {
      "text/plain": [
       "array(['Chelsea', 'Newcastle', 'Wolves', 'Spurs', 'Arsenal',\n",
       "       'Sheffield Utd', 'Liverpool', 'West Brom', 'Leeds', 'Leicester',\n",
       "       'Fulham', 'Crystal Palace', 'West Ham', 'Brighton', 'Southampton',\n",
       "       'Everton', 'Aston Villa', 'Man City', 'Burnley', 'Man Utd',\n",
       "       'Watford', 'Norwich', 'Brentford', \"Nott'm Forest\", 'Luton',\n",
       "       'Bournemouth', nan], dtype=object)"
      ]
     },
     "execution_count": 15,
     "metadata": {},
     "output_type": "execute_result"
    }
   ],
   "source": [
    "merged_seasons['opp_team_name'].unique()"
   ]
  },
  {
   "cell_type": "code",
   "execution_count": 16,
   "id": "fdb6c83d-3944-4883-bb16-1d921b61d5a1",
   "metadata": {},
   "outputs": [],
   "source": [
    "merged_seasons = merged_seasons.reset_index(drop=True)"
   ]
  },
  {
   "cell_type": "code",
   "execution_count": 17,
   "id": "db300cef-cbad-4d11-bd18-3756b4ebfac5",
   "metadata": {},
   "outputs": [
    {
     "data": {
      "text/plain": [
       "(76975, 44)"
      ]
     },
     "execution_count": 17,
     "metadata": {},
     "output_type": "execute_result"
    }
   ],
   "source": [
    "merged_seasons.shape"
   ]
  },
  {
   "cell_type": "code",
   "execution_count": 18,
   "id": "7be7648c-f814-456d-9417-4846836a71c7",
   "metadata": {},
   "outputs": [],
   "source": [
    "assert(merged_seasons.shape[0] == previous_seasons.shape[0] + this_season.shape[0])"
   ]
  },
  {
   "cell_type": "markdown",
   "id": "58f4d193-9011-4d9b-a23a-e9e4017ee09e",
   "metadata": {},
   "source": [
    "# Saving to file"
   ]
  },
  {
   "cell_type": "code",
   "execution_count": 19,
   "id": "abf7a76a-3c78-41ff-b03d-db9352215041",
   "metadata": {},
   "outputs": [],
   "source": [
    "merged_seasons.to_csv('data/fpl_players.csv')"
   ]
  }
 ],
 "metadata": {
  "kernelspec": {
   "display_name": "Python 3 (ipykernel)",
   "language": "python",
   "name": "python3"
  },
  "language_info": {
   "codemirror_mode": {
    "name": "ipython",
    "version": 3
   },
   "file_extension": ".py",
   "mimetype": "text/x-python",
   "name": "python",
   "nbconvert_exporter": "python",
   "pygments_lexer": "ipython3",
   "version": "3.8.0"
  }
 },
 "nbformat": 4,
 "nbformat_minor": 5
}
