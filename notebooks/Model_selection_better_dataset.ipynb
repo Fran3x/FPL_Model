{
 "cells": [
  {
   "cell_type": "markdown",
   "id": "e61cf721-96f7-4f7c-a5c5-343917267d91",
   "metadata": {},
   "source": [
    "\n",
    "# Imports"
   ]
  },
  {
   "cell_type": "code",
   "execution_count": 1,
   "id": "c2b67ee7-f81a-4a96-bd38-8149efc725cf",
   "metadata": {},
   "outputs": [],
   "source": [
    "import os\n",
    "os.chdir(\"D:\\PulpitE\\FPL_ML\")"
   ]
  },
  {
   "cell_type": "code",
   "execution_count": 2,
   "id": "3f447fc0-41e6-4c50-967e-2cc314a1e81f",
   "metadata": {},
   "outputs": [],
   "source": [
    "import matplotlib.pyplot as plt\n",
    "import pandas as pd\n",
    "import numpy as np\n",
    "import shap\n",
    "\n",
    "from sklearn.ensemble import GradientBoostingRegressor\n",
    "from sklearn.linear_model import SGDRegressor\n",
    "from xgboost import XGBRegressor\n",
    "from sklearn.ensemble import AdaBoostRegressor\n",
    "from sklearn.linear_model import ElasticNet\n",
    "from sklearn.neighbors import KNeighborsRegressor\n",
    "from sklearn.ensemble import RandomForestRegressor\n",
    "from sklearn.svm import SVR\n",
    "from lightgbm import LGBMRegressor\n",
    "\n",
    "from statistics import mean\n",
    "from scipy.stats import tmean\n",
    "from sklearn.metrics import mean_absolute_error, mean_squared_error\n",
    "\n",
    "from sklearn.preprocessing import LabelEncoder\n",
    "from xgboost import plot_importance\n",
    "from sklearn.inspection import plot_partial_dependence"
   ]
  },
  {
   "cell_type": "code",
   "execution_count": 3,
   "id": "217927df-909e-4a95-9e59-651d57e312db",
   "metadata": {},
   "outputs": [
    {
     "name": "stderr",
     "output_type": "stream",
     "text": [
      "Columns (53) have mixed types.Specify dtype option on import or set low_memory=False.\n"
     ]
    }
   ],
   "source": [
    "# loading csv\n",
    "df_original = pd.read_csv('data/final_dataset.csv').drop(\"Unnamed: 0\", axis=1)\n",
    "\n",
    "df = df_original.copy()"
   ]
  },
  {
   "cell_type": "code",
   "execution_count": 4,
   "id": "5cb7bf65-349a-41e0-a292-57068e080a71",
   "metadata": {},
   "outputs": [],
   "source": [
    "# df_original[df_original[\"Name\"] == \"Mohamed-Salah\"].groupby([\"Pos\"]).mean()[\"Total Points\"]"
   ]
  },
  {
   "cell_type": "code",
   "execution_count": 5,
   "id": "dca8a691-f6e5-4b02-9285-aaaaf998f8f2",
   "metadata": {},
   "outputs": [],
   "source": [
    "df = df.rename(columns={'GW_x': 'GW'})\n",
    "# df = df[~(df['position'].isin(['GK']))]\n",
    "df = df[df['position'].isin(['FWD'])]"
   ]
  },
  {
   "cell_type": "code",
   "execution_count": 6,
   "id": "a283588a-ee6e-4ceb-8f44-02c68a49d0bb",
   "metadata": {},
   "outputs": [
    {
     "data": {
      "text/html": [
       "<div>\n",
       "<style scoped>\n",
       "    .dataframe tbody tr th:only-of-type {\n",
       "        vertical-align: middle;\n",
       "    }\n",
       "\n",
       "    .dataframe tbody tr th {\n",
       "        vertical-align: top;\n",
       "    }\n",
       "\n",
       "    .dataframe thead th {\n",
       "        text-align: right;\n",
       "    }\n",
       "</style>\n",
       "<table border=\"1\" class=\"dataframe\">\n",
       "  <thead>\n",
       "    <tr style=\"text-align: right;\">\n",
       "      <th></th>\n",
       "      <th>expected_goals</th>\n",
       "      <th>xG</th>\n",
       "    </tr>\n",
       "  </thead>\n",
       "  <tbody>\n",
       "    <tr>\n",
       "      <th>0</th>\n",
       "      <td>NaN</td>\n",
       "      <td>0.1</td>\n",
       "    </tr>\n",
       "    <tr>\n",
       "      <th>1</th>\n",
       "      <td>NaN</td>\n",
       "      <td>0.1</td>\n",
       "    </tr>\n",
       "    <tr>\n",
       "      <th>2</th>\n",
       "      <td>NaN</td>\n",
       "      <td>0.0</td>\n",
       "    </tr>\n",
       "    <tr>\n",
       "      <th>3</th>\n",
       "      <td>NaN</td>\n",
       "      <td>0.1</td>\n",
       "    </tr>\n",
       "    <tr>\n",
       "      <th>4</th>\n",
       "      <td>NaN</td>\n",
       "      <td>0.0</td>\n",
       "    </tr>\n",
       "    <tr>\n",
       "      <th>...</th>\n",
       "      <td>...</td>\n",
       "      <td>...</td>\n",
       "    </tr>\n",
       "    <tr>\n",
       "      <th>24678</th>\n",
       "      <td>0.00</td>\n",
       "      <td>0.0</td>\n",
       "    </tr>\n",
       "    <tr>\n",
       "      <th>24679</th>\n",
       "      <td>0.00</td>\n",
       "      <td>0.0</td>\n",
       "    </tr>\n",
       "    <tr>\n",
       "      <th>24680</th>\n",
       "      <td>0.00</td>\n",
       "      <td>0.0</td>\n",
       "    </tr>\n",
       "    <tr>\n",
       "      <th>24681</th>\n",
       "      <td>0.00</td>\n",
       "      <td>0.0</td>\n",
       "    </tr>\n",
       "    <tr>\n",
       "      <th>24682</th>\n",
       "      <td>0.02</td>\n",
       "      <td>0.0</td>\n",
       "    </tr>\n",
       "  </tbody>\n",
       "</table>\n",
       "<p>24683 rows × 2 columns</p>\n",
       "</div>"
      ],
      "text/plain": [
       "       expected_goals   xG\n",
       "0                 NaN  0.1\n",
       "1                 NaN  0.1\n",
       "2                 NaN  0.0\n",
       "3                 NaN  0.1\n",
       "4                 NaN  0.0\n",
       "...               ...  ...\n",
       "24678            0.00  0.0\n",
       "24679            0.00  0.0\n",
       "24680            0.00  0.0\n",
       "24681            0.00  0.0\n",
       "24682            0.02  0.0\n",
       "\n",
       "[24683 rows x 2 columns]"
      ]
     },
     "execution_count": 6,
     "metadata": {},
     "output_type": "execute_result"
    }
   ],
   "source": [
    "df_original[[\"expected_goals\", \"xG\"]]"
   ]
  },
  {
   "cell_type": "code",
   "execution_count": 7,
   "id": "9d26510c-dba9-4395-b0e9-c610765c2fbd",
   "metadata": {},
   "outputs": [
    {
     "data": {
      "text/plain": [
       "array([ 2.,  1.,  0., nan,  3.,  4.,  5.,  7.,  6.,  8.,  9.])"
      ]
     },
     "execution_count": 7,
     "metadata": {},
     "output_type": "execute_result"
    }
   ],
   "source": [
    "df_original[\"goals_conceded\"].unique()"
   ]
  },
  {
   "cell_type": "code",
   "execution_count": 8,
   "id": "cf3dd6ae-ffd6-4a9c-8fa4-a61d313f793c",
   "metadata": {},
   "outputs": [],
   "source": [
    "# df_original.columns.to_list()"
   ]
  },
  {
   "cell_type": "code",
   "execution_count": 9,
   "id": "247a5fe7-171c-41c4-bde3-d33a0dff195c",
   "metadata": {},
   "outputs": [
    {
     "data": {
      "text/plain": [
       "array(['FWD'], dtype=object)"
      ]
     },
     "execution_count": 9,
     "metadata": {},
     "output_type": "execute_result"
    }
   ],
   "source": [
    "df[\"position\"].unique()"
   ]
  },
  {
   "cell_type": "code",
   "execution_count": 10,
   "id": "5c1b9133-98f1-4547-aa9a-01dac513f0e0",
   "metadata": {},
   "outputs": [
    {
     "data": {
      "text/plain": [
       "(2589, 117)"
      ]
     },
     "execution_count": 10,
     "metadata": {},
     "output_type": "execute_result"
    }
   ],
   "source": [
    "df.shape"
   ]
  },
  {
   "cell_type": "code",
   "execution_count": 11,
   "id": "29b66688-3e11-4ea5-a9ed-77be552e5e4a",
   "metadata": {},
   "outputs": [],
   "source": [
    "to_predict = [\"total_points\"]\n",
    "features1 = [\"Was Home\", \"Team rating\", \"Opp rating\", \n",
    "             # 'ScoreForLast5', 'ScoreAgainstLast5',\n",
    "             ]\n",
    "features_to_roll = [\n",
    "                \"Min\", \"Start\", # time played\n",
    "                'Gls', 'Sh', 'SoT', # Goals\n",
    "                'Ast', # Assists\n",
    "                'CrdY', 'CrdR', # Cards\n",
    "                \"xG\", 'xAG', # Expected\n",
    "                'CS', # Defence\n",
    "                'Team Score', 'Opp Score', # Team form\n",
    "                # \"xGPoints\", \"CSPoints\", # Position-scaled\n",
    "                # \"Cmp%\", \"PrgP\", \"PrgC\", \"Succ\", \"PKwon\",\n",
    "                'bonus', 'bps', # Bonus\n",
    "                'influence', 'creativity', 'threat', 'ict_index', #ICT\n",
    "                \"total_points\" # FPL points\n",
    "            ]\n",
    "features_to_roll = \"Min\"\n",
    "info = [\"Name\", \"GW\", \"Season\", \"Squad\", \"Opponent\", \"Was Home\", \"Team rating\", \"Opp rating\", \"position\"]"
   ]
  },
  {
   "cell_type": "code",
   "execution_count": 12,
   "id": "49cfcf71-b36d-4df2-ab4b-4d37b31f63c5",
   "metadata": {},
   "outputs": [],
   "source": [
    "# df[features_to_roll + info].isnull().sum(axis=0).sort_values(ascending=False).head(30)"
   ]
  },
  {
   "cell_type": "markdown",
   "id": "fe7a4ac1-336c-4ea4-ad91-24489c66e789",
   "metadata": {},
   "source": [
    "# Preparing dataset"
   ]
  },
  {
   "cell_type": "code",
   "execution_count": 13,
   "id": "66b7afe7-5607-45e9-824f-6bd834691076",
   "metadata": {},
   "outputs": [],
   "source": [
    "# features = [\"Was Home\", \"Team rating\", \"Opp rating\", 'ScoreForLast5', 'ScoreAgainstLast5', \n",
    "#         'MinAvgOverall', 'GlsAvgOverall',\n",
    "#        'AstAvgOverall', 'CrdYAvgOverall', 'CrdRAvgOverall', 'xGAvgOverall',\n",
    "#        'xAGAvgOverall', 'CSAvgOverall', 'Team ScoreAvgOverall',\n",
    "#        'Opp ScoreAvgOverall']"
   ]
  },
  {
   "cell_type": "code",
   "execution_count": 14,
   "id": "da07449d-3b7f-49f2-bd03-563846abec7b",
   "metadata": {},
   "outputs": [],
   "source": [
    "def calculate_xg_points(row):\n",
    "    if row[\"position\"] == \"GK\":\n",
    "        return row[\"xG\"] * 6\n",
    "    elif row[\"position\"] == \"DEF\":\n",
    "        return row[\"xG\"] * 6\n",
    "    elif row[\"position\"] == \"MID\":\n",
    "        return row[\"xG\"] * 5\n",
    "    elif row[\"position\"] == \"FWD\":\n",
    "        return row[\"xG\"] * 4\n",
    "    else:\n",
    "        return row[\"xG\"] * 5\n",
    "\n",
    "df[\"xGPoints\"] = df.apply(calculate_xg_points, axis=1)"
   ]
  },
  {
   "cell_type": "code",
   "execution_count": 15,
   "id": "9b278ffd-e7d7-47fe-88a0-47d9598fa159",
   "metadata": {},
   "outputs": [],
   "source": [
    "def calculate_cs_points(row):\n",
    "    if row[\"position\"] == \"GK\":\n",
    "        return row[\"xG\"] * 4\n",
    "    elif row[\"position\"] == \"DEF\":\n",
    "        return row[\"xG\"] * 4\n",
    "    elif row[\"position\"] == \"MID\":\n",
    "        return row[\"xG\"] * 1\n",
    "    elif row[\"position\"] == \"FWD\":\n",
    "        return row[\"xG\"] * 0\n",
    "    else:\n",
    "        return row[\"xG\"] * 1\n",
    "\n",
    "df[\"CSPoints\"] = df.apply(calculate_cs_points, axis=1)"
   ]
  },
  {
   "cell_type": "code",
   "execution_count": 16,
   "id": "3b9ebefd-ec2c-4ca8-b9ed-f57f1c13d983",
   "metadata": {},
   "outputs": [
    {
     "data": {
      "text/plain": [
       "(2589, 119)"
      ]
     },
     "execution_count": 16,
     "metadata": {},
     "output_type": "execute_result"
    }
   ],
   "source": [
    "df.shape"
   ]
  },
  {
   "cell_type": "code",
   "execution_count": 17,
   "id": "2fe53aca-b1c7-4f24-87ae-81fe1ab6f532",
   "metadata": {},
   "outputs": [],
   "source": [
    "def add_rolling_features(df, features1, features_to_roll):\n",
    "    rolling_gameweeks = [2, 5]\n",
    "    rolling_gameweeks = [2]\n",
    "    features = features1\n",
    "    \n",
    "    for r in rolling_gameweeks:\n",
    "        form_means = df.groupby([\"Name\"])[features_to_roll].rolling(r, min_periods=1).mean().groupby([\"Name\"]).shift(1).reset_index()\n",
    "        # form_means = df.groupby(\"Name\")[features_to_roll].rolling(window=r, min_periods=1).mean().shift(1).reset_index()\n",
    "        # df['Min_2'] = df.groupby('Name')['Min'].transform(lambda x: x.rolling(2, 1).mean())\n",
    "        # form_means = pd.DataFrame( df[features_to_roll].groupby(df['Name']).shift(1).rolling(r, min_periods=1).mean() )\n",
    "        # print(form_means.isna().sum())\n",
    "        # form_means = form_means.shift(1)\n",
    "        form_means = form_means.fillna(method='bfill')\n",
    "        \n",
    "        form_means.columns = [f'{col}{\"_\"}{r}' for col in form_means.columns]\n",
    "        features += form_means.columns.tolist()\n",
    "        features = list(filter(lambda x: x not in [\"Name_\" + str(r)], features))\n",
    "        df = pd.concat([df, form_means], axis=1)\n",
    "        # features += [\"Min_2\"]\n",
    "        print(r, df.shape)\n",
    "        \n",
    "    return df, features"
   ]
  },
  {
   "cell_type": "code",
   "execution_count": 18,
   "id": "2e46c21c-3984-42e5-a6ff-a4118cb1f802",
   "metadata": {},
   "outputs": [],
   "source": [
    "def ohe(df, ohe_columns, features):\n",
    "    # one hot encoding\n",
    "    for c in ohe_columns:\n",
    "        ohe_c = pd.get_dummies(df[c], dtype=\"int64\")\n",
    "        df = pd.concat([df, ohe_c], axis=1)\n",
    "        # df = df.drop(c, axis=1)\n",
    "\n",
    "        features += ohe_c.columns.tolist()\n",
    "        \n",
    "    return df, features"
   ]
  },
  {
   "cell_type": "code",
   "execution_count": 19,
   "id": "026526dc-1fdd-4eb4-854e-c3e383197574",
   "metadata": {},
   "outputs": [],
   "source": [
    "def label_encoding(df, column_to_encode):\n",
    "    \n",
    "    mapping_dict = {\n",
    "        'Y': 2,\n",
    "        'Y*': 1,\n",
    "        'N': 0,\n",
    "    }\n",
    "    \n",
    "    df[column_to_encode] = df[column_to_encode].map(mapping_dict)\n",
    "    \n",
    "    return df"
   ]
  },
  {
   "cell_type": "code",
   "execution_count": 20,
   "id": "aeefc061-5f68-4e0c-953b-3033c967b01f",
   "metadata": {},
   "outputs": [],
   "source": [
    "df = df.reset_index()"
   ]
  },
  {
   "cell_type": "code",
   "execution_count": 21,
   "id": "dbc446b2-8d55-471c-a4cf-eca1df6bb594",
   "metadata": {},
   "outputs": [],
   "source": [
    "# df.head(30)"
   ]
  },
  {
   "cell_type": "code",
   "execution_count": 22,
   "id": "c963831b-e2ec-4958-b2da-99c9eb5cf759",
   "metadata": {},
   "outputs": [
    {
     "name": "stdout",
     "output_type": "stream",
     "text": [
      "2 (2589, 123)\n"
     ]
    }
   ],
   "source": [
    "df, features = add_rolling_features(df, features1, features_to_roll)"
   ]
  },
  {
   "cell_type": "code",
   "execution_count": 23,
   "id": "b0dd88c1-dbbe-41f8-8159-b8e73f7f5c0d",
   "metadata": {},
   "outputs": [],
   "source": [
    "df, features = ohe(df, [\"position\"], features)"
   ]
  },
  {
   "cell_type": "code",
   "execution_count": 24,
   "id": "dc05870f-c6a1-4340-b061-6b0f9da5ff46",
   "metadata": {},
   "outputs": [],
   "source": [
    "df = label_encoding(df, \"Start\")"
   ]
  },
  {
   "cell_type": "code",
   "execution_count": 25,
   "id": "871534cf-bd8d-49ed-bb56-d3ffaa9d8478",
   "metadata": {},
   "outputs": [],
   "source": [
    "df = df[np.unique([\"Min\"] + features + info + to_predict)]"
   ]
  },
  {
   "cell_type": "code",
   "execution_count": 26,
   "id": "269a1373-9fbd-4aa3-a095-5ad1c74be587",
   "metadata": {},
   "outputs": [],
   "source": [
    "df = df[pd.to_numeric(df[\"GW\"], errors=\"coerce\").notna()]\n",
    "df[\"GW\"] = df[\"GW\"].astype(\"uint64\")"
   ]
  },
  {
   "cell_type": "code",
   "execution_count": 63,
   "id": "946a233f-fb19-447c-baa1-f92a87f76441",
   "metadata": {},
   "outputs": [],
   "source": [
    "# df.head(90).tail(30)"
   ]
  },
  {
   "cell_type": "code",
   "execution_count": 64,
   "id": "f016229d-c29a-48c9-a385-7883ae6064dd",
   "metadata": {},
   "outputs": [],
   "source": [
    "# df.tail(40)"
   ]
  },
  {
   "cell_type": "code",
   "execution_count": 29,
   "id": "dbd5108b-c4b3-4268-9a8d-6e0ebdbe7a8d",
   "metadata": {},
   "outputs": [],
   "source": [
    "# dropping NaNs\n",
    "df = df.dropna(axis=0)"
   ]
  },
  {
   "cell_type": "code",
   "execution_count": 30,
   "id": "eb1b8f09-495e-4f39-abec-238b6ff2d3d2",
   "metadata": {},
   "outputs": [],
   "source": [
    "df = df.set_index([\"Name\", \"Season\", \"GW\"], drop=False)"
   ]
  },
  {
   "cell_type": "code",
   "execution_count": 31,
   "id": "aa7edd40-4433-4d9d-bc95-747fd5fcc118",
   "metadata": {},
   "outputs": [
    {
     "data": {
      "text/plain": [
       "Index(['FWD', 'GW', 'Min', 'Min_2', 'Name', 'Opp rating', 'Opponent', 'Season',\n",
       "       'Squad', 'Team rating', 'Was Home', 'level_1_2', 'position',\n",
       "       'total_points'],\n",
       "      dtype='object')"
      ]
     },
     "execution_count": 31,
     "metadata": {},
     "output_type": "execute_result"
    }
   ],
   "source": [
    "df.columns"
   ]
  },
  {
   "cell_type": "code",
   "execution_count": 32,
   "id": "f9ac2b91-59ee-4d56-97be-b9a374d36604",
   "metadata": {},
   "outputs": [
    {
     "data": {
      "text/plain": [
       "(2589, 14)"
      ]
     },
     "execution_count": 32,
     "metadata": {},
     "output_type": "execute_result"
    }
   ],
   "source": [
    "df.shape"
   ]
  },
  {
   "cell_type": "markdown",
   "id": "fc895e8b-ed8c-4c03-89fe-eccde0b4c26e",
   "metadata": {},
   "source": [
    "# Choosing features and splitting data"
   ]
  },
  {
   "cell_type": "code",
   "execution_count": 33,
   "id": "1a46a038-a0b2-4348-b87c-2ca15569f6eb",
   "metadata": {},
   "outputs": [],
   "source": [
    "GAMEWEEK_TO_PREDICT = 31\n",
    "SEASON_TO_PREDICT = \"2022-23\""
   ]
  },
  {
   "cell_type": "code",
   "execution_count": 34,
   "id": "45b9f614-d91d-491f-b5d0-d278db561c2d",
   "metadata": {},
   "outputs": [],
   "source": [
    "# gameweeks 6-14 is training data, gw 15 is test data\n",
    "X_train = df[((df[\"Season\"] <= SEASON_TO_PREDICT) & (df[\"GW\"] >= 1) & (df[\"GW\"] <= GAMEWEEK_TO_PREDICT - 1))][features].reset_index(drop=True)\n",
    "y_train = df[((df[\"Season\"] <= SEASON_TO_PREDICT) & (df[\"GW\"] >= 1) & (df[\"GW\"] <= GAMEWEEK_TO_PREDICT - 1))][to_predict].reset_index(drop=True)"
   ]
  },
  {
   "cell_type": "code",
   "execution_count": 35,
   "id": "7996012d-2bf5-45da-a29e-e75932313172",
   "metadata": {},
   "outputs": [],
   "source": [
    "X_test = df[(df[\"GW\"] == GAMEWEEK_TO_PREDICT) & (df[\"Season\"] == SEASON_TO_PREDICT) ][features].reset_index(drop=True)\n",
    "y_test = df[(df[\"GW\"] == GAMEWEEK_TO_PREDICT) & (df[\"Season\"] == SEASON_TO_PREDICT) ][to_predict].reset_index(drop=True)"
   ]
  },
  {
   "cell_type": "code",
   "execution_count": 36,
   "id": "dcf0a862-ff68-4236-8fcb-dcf5e8ebe29f",
   "metadata": {},
   "outputs": [
    {
     "data": {
      "text/plain": [
       "((2045, 6), (44, 6))"
      ]
     },
     "execution_count": 36,
     "metadata": {},
     "output_type": "execute_result"
    }
   ],
   "source": [
    "X_train.shape, X_test.shape"
   ]
  },
  {
   "cell_type": "markdown",
   "id": "bd2b3df9-363d-4c0a-8a1b-ce561ee29b23",
   "metadata": {},
   "source": [
    "# Model"
   ]
  },
  {
   "cell_type": "code",
   "execution_count": 37,
   "id": "6e50771d-93f9-4474-9cfa-a02cfde8c162",
   "metadata": {},
   "outputs": [],
   "source": [
    "class HybridModel:\n",
    "    def __init__(self, models, names, weights):\n",
    "        self.models = models\n",
    "        self.model_names = names\n",
    "        self.weights = weights\n",
    "    \n",
    "    def fit(self, X, y):\n",
    "        for model in self.models:\n",
    "            model.fit(X, y)\n",
    "        \n",
    "    def predict(self, X):\n",
    "        model_preds = [model.predict(X) for model in self.models]\n",
    "        preds = []\n",
    "        for i in range(len(model_preds[0])):\n",
    "            preds.append(np.mean([x[i] for x in model_preds]))\n",
    "        return preds\n",
    "    \n",
    "    def evaluate(self, X, y):\n",
    "        ys = [np.expm1(model.predict(X)) for model in self.models]\n",
    "        y_ensemble = self.predict(X)\n",
    "        \n",
    "        rmsle_ys = [(mean_squared_log_error(y, y_model) ** 0.5) for y_model in ys]\n",
    "        rmsle_ensemble = mean_squared_log_error(y, y_ensemble) ** 0.5\n",
    "        \n",
    "        for i in range(0, len(self.models)):\n",
    "            print(f\"RMSLE on {self.model_names[i]} model: {rmsle_ys[i]}\")\n",
    "        print(f\"RMSLE on ensemble model: {rmsle_ensemble}\")"
   ]
  },
  {
   "cell_type": "code",
   "execution_count": 38,
   "id": "55b762b9-12bb-4b40-94f7-9c1681a8ad69",
   "metadata": {},
   "outputs": [],
   "source": [
    "lgbm = LGBMRegressor(random_state=42)\n",
    "xgb = XGBRegressor(random_state=42)\n",
    "gbr = GradientBoostingRegressor(random_state=42)\n",
    "\n",
    "names = [\n",
    "    \"LGBM\",\n",
    "    \"XGB\",\n",
    "    \"GBR\"\n",
    "]\n",
    "\n",
    "weights = [\n",
    "    1,\n",
    "    1,\n",
    "    1\n",
    "]\n",
    "\n",
    "# hybrid arguments\n",
    "models = [\n",
    "    lgbm, \n",
    "    xgb, \n",
    "    gbr\n",
    "]\n",
    "\n",
    "model = HybridModel(models, names, weights)"
   ]
  },
  {
   "cell_type": "code",
   "execution_count": 39,
   "id": "869c69e0-56ad-4baf-a403-dcdc61f7adec",
   "metadata": {},
   "outputs": [],
   "source": [
    "# model = GradientBoostingRegressor(random_state=42)\n",
    "# model = LGBMRegressor(random_state=42)\n",
    "# model = XGBRegressor(random_state=42)\n",
    "# model = RandomForestRegressor()"
   ]
  },
  {
   "cell_type": "code",
   "execution_count": 40,
   "id": "8531e1e4-92af-494b-b5b7-7a48f2796fa6",
   "metadata": {},
   "outputs": [
    {
     "name": "stdout",
     "output_type": "stream",
     "text": [
      "[LightGBM] [Warning] Found whitespace in feature_names, replace with underlines\n",
      "[LightGBM] [Warning] Auto-choosing col-wise multi-threading, the overhead of testing was 0.000162 seconds.\n",
      "You can set `force_col_wise=true` to remove the overhead.\n",
      "[LightGBM] [Info] Total Bins 941\n",
      "[LightGBM] [Info] Number of data points in the train set: 2045, number of used features: 5\n",
      "[LightGBM] [Info] Start training from score 2.609291\n",
      "CPU times: total: 1.31 s\n",
      "Wall time: 516 ms\n"
     ]
    }
   ],
   "source": [
    "%%time\n",
    "model.fit(X_train, np.array(y_train).ravel())"
   ]
  },
  {
   "cell_type": "markdown",
   "id": "438dc7ca-6134-429b-bd5e-4a99261c2781",
   "metadata": {},
   "source": [
    "# Evaluation"
   ]
  },
  {
   "cell_type": "code",
   "execution_count": 41,
   "id": "6d8c65fd-59b4-46c6-b92a-a59358edff95",
   "metadata": {},
   "outputs": [],
   "source": [
    "# make predictions on the test data\n",
    "predictions = model.predict(X_test)"
   ]
  },
  {
   "cell_type": "code",
   "execution_count": 42,
   "id": "ad049ca6-a774-4dc9-95f4-e981ba0ed254",
   "metadata": {},
   "outputs": [],
   "source": [
    "def pairwise_accuracy(predicted_scores, true_scores):\n",
    "    if len(predicted_scores) != len(true_scores):\n",
    "        raise ValueError(\"The length of predicted_scores and true_scores must be the same.\")\n",
    "\n",
    "    num_pairs = 0\n",
    "    num_correct_pairs = 0\n",
    "\n",
    "    for i in range(len(predicted_scores)):\n",
    "        for j in range(i + 1, len(predicted_scores)):\n",
    "            # Check if the predicted order matches the true order\n",
    "            if (predicted_scores[i] > predicted_scores[j] and true_scores[i] > true_scores[j]) or \\\n",
    "               (predicted_scores[i] < predicted_scores[j] and true_scores[i] < true_scores[j]):\n",
    "                num_correct_pairs += 1\n",
    "            num_pairs += 1\n",
    "\n",
    "    pairwise_accuracy = num_correct_pairs / num_pairs\n",
    "    return pairwise_accuracy"
   ]
  },
  {
   "cell_type": "code",
   "execution_count": 43,
   "id": "bf22664f-1602-456b-a4bc-3e56cb02a6a6",
   "metadata": {},
   "outputs": [],
   "source": [
    "df_predictions = df[(df[\"GW\"] == GAMEWEEK_TO_PREDICT) & (df[\"Season\"] == SEASON_TO_PREDICT)].reset_index(drop=True)\n",
    "df_predictions.loc[:, \"pred\"] = predictions"
   ]
  },
  {
   "cell_type": "code",
   "execution_count": 44,
   "id": "30d87d10-ae71-4fc6-aa37-455fa45be613",
   "metadata": {},
   "outputs": [],
   "source": [
    "def get_top_performer_names(df, no_top, no_gws):\n",
    "    return df.reset_index(drop=True).groupby(\"Name\")[\"total_points\"].mean().groupby(\"Name\").tail(no_gws).sort_values(ascending=False).head(no_top).index.to_list()"
   ]
  },
  {
   "cell_type": "code",
   "execution_count": 45,
   "id": "0dcbdf3b-8f16-432d-a9d4-ca4b93888927",
   "metadata": {},
   "outputs": [],
   "source": [
    "def pairwise_accuracy_topX(model, df, top_x):\n",
    "    top_performers = df[(df[\"GW\"] == GAMEWEEK_TO_PREDICT) & (df[\"Season\"] == SEASON_TO_PREDICT) & (df[\"Name\"].isin(get_top_performer_names(df, top_x, 50)))]\n",
    "    X = top_performers[features].reset_index(drop=True)\n",
    "    y = np.array(top_performers[to_predict].reset_index(drop=True))\n",
    "    preds = model.predict(X)\n",
    "    # print(preds)\n",
    "    # print(y)\n",
    "    \n",
    "    return  pairwise_accuracy(preds, y)"
   ]
  },
  {
   "cell_type": "code",
   "execution_count": 46,
   "id": "2f9841b1-66d7-4b01-b878-a1a21114e9f9",
   "metadata": {},
   "outputs": [],
   "source": [
    "# df[(df[\"GW\"] == GAMEWEEK_TO_PREDICT) & (df[\"Season\"] == SEASON_TO_PREDICT) & (df[\"Name\"].isin(get_top_performer_names(df, 20, 50)))].columns"
   ]
  },
  {
   "cell_type": "code",
   "execution_count": 47,
   "id": "83691e67-febd-4b46-bcd0-326aaecd7284",
   "metadata": {},
   "outputs": [],
   "source": [
    "mae = mean_absolute_error(y_test, predictions)\n",
    "mse = mean_squared_error(y_test, predictions)\n",
    "\n",
    "pairwise_acc = pairwise_accuracy(np.array(y_test), predictions)\n",
    "pairwise_accuracy_top20 = pairwise_accuracy_topX(model, df, 20)\n",
    "pairwise_accuracy_top100 = pairwise_accuracy_topX(model, df, 100)"
   ]
  },
  {
   "cell_type": "code",
   "execution_count": 48,
   "id": "6f09c27b-0f51-4774-bcb0-bbe22b48a852",
   "metadata": {},
   "outputs": [
    {
     "name": "stdout",
     "output_type": "stream",
     "text": [
      "MAE: 2.6379185035198383\n",
      "MSE: 17.102003797359263\n",
      "Pairwise accuracy: 0.5486257928118393\n",
      "Pairwise accuracy @TOP100: 0.5486257928118393\n",
      "Pairwise accuracy @TOP20: 0.5147058823529411\n"
     ]
    }
   ],
   "source": [
    "print(\"MAE:\", mae)\n",
    "print(\"MSE:\", mse)\n",
    "print(\"Pairwise accuracy:\", pairwise_acc)\n",
    "print(\"Pairwise accuracy @TOP100:\", pairwise_accuracy_top100)\n",
    "print(\"Pairwise accuracy @TOP20:\", pairwise_accuracy_top20)"
   ]
  },
  {
   "cell_type": "code",
   "execution_count": 49,
   "id": "f5cf7c0e-b7d8-483d-b565-fc1260f26f1e",
   "metadata": {},
   "outputs": [],
   "source": [
    "# df[df[\"Name\"] == \"Abdoulaye-Doucoure\"][info]"
   ]
  },
  {
   "cell_type": "code",
   "execution_count": 50,
   "id": "1de0dbe5-2b5f-472d-9f2d-2300dab2b19c",
   "metadata": {},
   "outputs": [],
   "source": [
    "# model.predict(df[df[\"GW\"] == GAMEWEEK_TO_PREDICT][df[\"Name\"] == \"Mohamed-Salah\"][features])"
   ]
  },
  {
   "cell_type": "code",
   "execution_count": 51,
   "id": "df65adae-80ea-4963-9a60-20cd64f7ae1c",
   "metadata": {},
   "outputs": [],
   "source": [
    "preds = df_predictions[info + to_predict + [\"pred\"]].sort_values(by=[\"pred\"], ascending = False)"
   ]
  },
  {
   "cell_type": "code",
   "execution_count": 52,
   "id": "6df93768-16bb-495b-94ab-f240d07e9b4e",
   "metadata": {},
   "outputs": [
    {
     "data": {
      "text/html": [
       "<div>\n",
       "<style scoped>\n",
       "    .dataframe tbody tr th:only-of-type {\n",
       "        vertical-align: middle;\n",
       "    }\n",
       "\n",
       "    .dataframe tbody tr th {\n",
       "        vertical-align: top;\n",
       "    }\n",
       "\n",
       "    .dataframe thead th {\n",
       "        text-align: right;\n",
       "    }\n",
       "</style>\n",
       "<table border=\"1\" class=\"dataframe\">\n",
       "  <thead>\n",
       "    <tr style=\"text-align: right;\">\n",
       "      <th></th>\n",
       "      <th>Name</th>\n",
       "      <th>GW</th>\n",
       "      <th>Season</th>\n",
       "      <th>Squad</th>\n",
       "      <th>Opponent</th>\n",
       "      <th>Was Home</th>\n",
       "      <th>Team rating</th>\n",
       "      <th>Opp rating</th>\n",
       "      <th>position</th>\n",
       "      <th>total_points</th>\n",
       "      <th>pred</th>\n",
       "    </tr>\n",
       "  </thead>\n",
       "  <tbody>\n",
       "    <tr>\n",
       "      <th>17</th>\n",
       "      <td>Erling-Haaland</td>\n",
       "      <td>31</td>\n",
       "      <td>2022-23</td>\n",
       "      <td>Manchester City</td>\n",
       "      <td>Leicester City</td>\n",
       "      <td>1.0</td>\n",
       "      <td>2063.473633</td>\n",
       "      <td>1725.040527</td>\n",
       "      <td>FWD</td>\n",
       "      <td>12.0</td>\n",
       "      <td>6.965257</td>\n",
       "    </tr>\n",
       "    <tr>\n",
       "      <th>21</th>\n",
       "      <td>Harry-Kane</td>\n",
       "      <td>31</td>\n",
       "      <td>2022-23</td>\n",
       "      <td>Tottenham</td>\n",
       "      <td>Bournemouth</td>\n",
       "      <td>1.0</td>\n",
       "      <td>1854.798462</td>\n",
       "      <td>1668.258545</td>\n",
       "      <td>FWD</td>\n",
       "      <td>2.0</td>\n",
       "      <td>6.159525</td>\n",
       "    </tr>\n",
       "    <tr>\n",
       "      <th>22</th>\n",
       "      <td>Ivan-Toney</td>\n",
       "      <td>31</td>\n",
       "      <td>2022-23</td>\n",
       "      <td>Brentford</td>\n",
       "      <td>Wolves</td>\n",
       "      <td>0.0</td>\n",
       "      <td>1785.234741</td>\n",
       "      <td>1720.871338</td>\n",
       "      <td>FWD</td>\n",
       "      <td>2.0</td>\n",
       "      <td>6.032191</td>\n",
       "    </tr>\n",
       "    <tr>\n",
       "      <th>5</th>\n",
       "      <td>Callum-Wilson</td>\n",
       "      <td>31</td>\n",
       "      <td>2022-23</td>\n",
       "      <td>Newcastle Utd</td>\n",
       "      <td>Aston Villa</td>\n",
       "      <td>0.0</td>\n",
       "      <td>1879.303101</td>\n",
       "      <td>1804.471680</td>\n",
       "      <td>FWD</td>\n",
       "      <td>1.0</td>\n",
       "      <td>5.738616</td>\n",
       "    </tr>\n",
       "    <tr>\n",
       "      <th>33</th>\n",
       "      <td>Ollie-Watkins</td>\n",
       "      <td>31</td>\n",
       "      <td>2022-23</td>\n",
       "      <td>Aston Villa</td>\n",
       "      <td>Newcastle Utd</td>\n",
       "      <td>1.0</td>\n",
       "      <td>1804.471680</td>\n",
       "      <td>1879.303101</td>\n",
       "      <td>FWD</td>\n",
       "      <td>16.0</td>\n",
       "      <td>5.456153</td>\n",
       "    </tr>\n",
       "    <tr>\n",
       "      <th>0</th>\n",
       "      <td>Alexander-Isak</td>\n",
       "      <td>31</td>\n",
       "      <td>2022-23</td>\n",
       "      <td>Newcastle Utd</td>\n",
       "      <td>Aston Villa</td>\n",
       "      <td>0.0</td>\n",
       "      <td>1879.303101</td>\n",
       "      <td>1804.471680</td>\n",
       "      <td>FWD</td>\n",
       "      <td>2.0</td>\n",
       "      <td>5.115699</td>\n",
       "    </tr>\n",
       "    <tr>\n",
       "      <th>19</th>\n",
       "      <td>Gabriel-Jesus</td>\n",
       "      <td>31</td>\n",
       "      <td>2022-23</td>\n",
       "      <td>Arsenal</td>\n",
       "      <td>West Ham</td>\n",
       "      <td>0.0</td>\n",
       "      <td>1957.524048</td>\n",
       "      <td>1754.553955</td>\n",
       "      <td>FWD</td>\n",
       "      <td>7.0</td>\n",
       "      <td>3.957874</td>\n",
       "    </tr>\n",
       "    <tr>\n",
       "      <th>6</th>\n",
       "      <td>Carlos-Vinicius</td>\n",
       "      <td>31</td>\n",
       "      <td>2022-23</td>\n",
       "      <td>Fulham</td>\n",
       "      <td>Everton</td>\n",
       "      <td>0.0</td>\n",
       "      <td>1713.854858</td>\n",
       "      <td>1690.919678</td>\n",
       "      <td>FWD</td>\n",
       "      <td>1.0</td>\n",
       "      <td>3.514711</td>\n",
       "    </tr>\n",
       "    <tr>\n",
       "      <th>3</th>\n",
       "      <td>Brennan-Johnson</td>\n",
       "      <td>31</td>\n",
       "      <td>2022-23</td>\n",
       "      <td>Nott'ham Forest</td>\n",
       "      <td>Manchester Utd</td>\n",
       "      <td>1.0</td>\n",
       "      <td>1638.596069</td>\n",
       "      <td>1882.111816</td>\n",
       "      <td>FWD</td>\n",
       "      <td>2.0</td>\n",
       "      <td>3.403676</td>\n",
       "    </tr>\n",
       "    <tr>\n",
       "      <th>14</th>\n",
       "      <td>Eddie-Nketiah</td>\n",
       "      <td>31</td>\n",
       "      <td>2022-23</td>\n",
       "      <td>Arsenal</td>\n",
       "      <td>West Ham</td>\n",
       "      <td>0.0</td>\n",
       "      <td>1957.524048</td>\n",
       "      <td>1754.553955</td>\n",
       "      <td>FWD</td>\n",
       "      <td>1.0</td>\n",
       "      <td>3.363196</td>\n",
       "    </tr>\n",
       "    <tr>\n",
       "      <th>32</th>\n",
       "      <td>Odsonne-Edouard</td>\n",
       "      <td>31</td>\n",
       "      <td>2022-23</td>\n",
       "      <td>Crystal Palace</td>\n",
       "      <td>Southampton</td>\n",
       "      <td>0.0</td>\n",
       "      <td>1757.188232</td>\n",
       "      <td>1654.943359</td>\n",
       "      <td>FWD</td>\n",
       "      <td>2.0</td>\n",
       "      <td>3.032327</td>\n",
       "    </tr>\n",
       "    <tr>\n",
       "      <th>30</th>\n",
       "      <td>Michail-Antonio</td>\n",
       "      <td>31</td>\n",
       "      <td>2022-23</td>\n",
       "      <td>West Ham</td>\n",
       "      <td>Arsenal</td>\n",
       "      <td>1.0</td>\n",
       "      <td>1754.553955</td>\n",
       "      <td>1957.524048</td>\n",
       "      <td>FWD</td>\n",
       "      <td>2.0</td>\n",
       "      <td>2.962249</td>\n",
       "    </tr>\n",
       "    <tr>\n",
       "      <th>13</th>\n",
       "      <td>Dominic-Solanke</td>\n",
       "      <td>31</td>\n",
       "      <td>2022-23</td>\n",
       "      <td>Bournemouth</td>\n",
       "      <td>Tottenham</td>\n",
       "      <td>0.0</td>\n",
       "      <td>1668.258545</td>\n",
       "      <td>1854.798462</td>\n",
       "      <td>FWD</td>\n",
       "      <td>15.0</td>\n",
       "      <td>2.766498</td>\n",
       "    </tr>\n",
       "    <tr>\n",
       "      <th>1</th>\n",
       "      <td>Anthony-Martial</td>\n",
       "      <td>31</td>\n",
       "      <td>2022-23</td>\n",
       "      <td>Manchester Utd</td>\n",
       "      <td>Nott'ham Forest</td>\n",
       "      <td>0.0</td>\n",
       "      <td>1882.111816</td>\n",
       "      <td>1638.596069</td>\n",
       "      <td>FWD</td>\n",
       "      <td>5.0</td>\n",
       "      <td>2.699249</td>\n",
       "    </tr>\n",
       "    <tr>\n",
       "      <th>18</th>\n",
       "      <td>Evan-Ferguson</td>\n",
       "      <td>31</td>\n",
       "      <td>2022-23</td>\n",
       "      <td>Brighton</td>\n",
       "      <td>Chelsea</td>\n",
       "      <td>0.0</td>\n",
       "      <td>1829.562256</td>\n",
       "      <td>1830.078003</td>\n",
       "      <td>FWD</td>\n",
       "      <td>1.0</td>\n",
       "      <td>2.648696</td>\n",
       "    </tr>\n",
       "    <tr>\n",
       "      <th>42</th>\n",
       "      <td>Taiwo-Awoniyi</td>\n",
       "      <td>31</td>\n",
       "      <td>2022-23</td>\n",
       "      <td>Nott'ham Forest</td>\n",
       "      <td>Manchester Utd</td>\n",
       "      <td>1.0</td>\n",
       "      <td>1638.596069</td>\n",
       "      <td>1882.111816</td>\n",
       "      <td>FWD</td>\n",
       "      <td>2.0</td>\n",
       "      <td>2.423975</td>\n",
       "    </tr>\n",
       "    <tr>\n",
       "      <th>25</th>\n",
       "      <td>Jhon-Duran</td>\n",
       "      <td>31</td>\n",
       "      <td>2022-23</td>\n",
       "      <td>Aston Villa</td>\n",
       "      <td>Newcastle Utd</td>\n",
       "      <td>1.0</td>\n",
       "      <td>1804.471680</td>\n",
       "      <td>1879.303101</td>\n",
       "      <td>FWD</td>\n",
       "      <td>0.0</td>\n",
       "      <td>2.387851</td>\n",
       "    </tr>\n",
       "    <tr>\n",
       "      <th>15</th>\n",
       "      <td>Ellis-Simms</td>\n",
       "      <td>31</td>\n",
       "      <td>2022-23</td>\n",
       "      <td>Everton</td>\n",
       "      <td>Fulham</td>\n",
       "      <td>1.0</td>\n",
       "      <td>1690.919678</td>\n",
       "      <td>1713.854858</td>\n",
       "      <td>FWD</td>\n",
       "      <td>1.0</td>\n",
       "      <td>2.221723</td>\n",
       "    </tr>\n",
       "    <tr>\n",
       "      <th>12</th>\n",
       "      <td>Diogo-Jota</td>\n",
       "      <td>31</td>\n",
       "      <td>2022-23</td>\n",
       "      <td>Liverpool</td>\n",
       "      <td>Leeds United</td>\n",
       "      <td>0.0</td>\n",
       "      <td>1928.520996</td>\n",
       "      <td>1698.080566</td>\n",
       "      <td>FWD</td>\n",
       "      <td>16.0</td>\n",
       "      <td>2.212195</td>\n",
       "    </tr>\n",
       "    <tr>\n",
       "      <th>4</th>\n",
       "      <td>Bryan-Mbeumo</td>\n",
       "      <td>31</td>\n",
       "      <td>2022-23</td>\n",
       "      <td>Brentford</td>\n",
       "      <td>Wolves</td>\n",
       "      <td>0.0</td>\n",
       "      <td>1785.234741</td>\n",
       "      <td>1720.871338</td>\n",
       "      <td>FWD</td>\n",
       "      <td>2.0</td>\n",
       "      <td>2.210223</td>\n",
       "    </tr>\n",
       "    <tr>\n",
       "      <th>31</th>\n",
       "      <td>Neal-Maupay</td>\n",
       "      <td>31</td>\n",
       "      <td>2022-23</td>\n",
       "      <td>Everton</td>\n",
       "      <td>Fulham</td>\n",
       "      <td>1.0</td>\n",
       "      <td>1690.919678</td>\n",
       "      <td>1713.854858</td>\n",
       "      <td>FWD</td>\n",
       "      <td>2.0</td>\n",
       "      <td>2.147885</td>\n",
       "    </tr>\n",
       "    <tr>\n",
       "      <th>8</th>\n",
       "      <td>Danny-Welbeck</td>\n",
       "      <td>31</td>\n",
       "      <td>2022-23</td>\n",
       "      <td>Brighton</td>\n",
       "      <td>Chelsea</td>\n",
       "      <td>0.0</td>\n",
       "      <td>1829.562256</td>\n",
       "      <td>1830.078003</td>\n",
       "      <td>FWD</td>\n",
       "      <td>5.0</td>\n",
       "      <td>2.097270</td>\n",
       "    </tr>\n",
       "    <tr>\n",
       "      <th>7</th>\n",
       "      <td>Danny-Ings</td>\n",
       "      <td>31</td>\n",
       "      <td>2022-23</td>\n",
       "      <td>West Ham</td>\n",
       "      <td>Arsenal</td>\n",
       "      <td>1.0</td>\n",
       "      <td>1754.553955</td>\n",
       "      <td>1957.524048</td>\n",
       "      <td>FWD</td>\n",
       "      <td>0.0</td>\n",
       "      <td>2.011655</td>\n",
       "    </tr>\n",
       "    <tr>\n",
       "      <th>23</th>\n",
       "      <td>Jamie-Vardy</td>\n",
       "      <td>31</td>\n",
       "      <td>2022-23</td>\n",
       "      <td>Leicester City</td>\n",
       "      <td>Manchester City</td>\n",
       "      <td>0.0</td>\n",
       "      <td>1725.040527</td>\n",
       "      <td>2063.473633</td>\n",
       "      <td>FWD</td>\n",
       "      <td>1.0</td>\n",
       "      <td>1.946940</td>\n",
       "    </tr>\n",
       "    <tr>\n",
       "      <th>37</th>\n",
       "      <td>Richarlison</td>\n",
       "      <td>31</td>\n",
       "      <td>2022-23</td>\n",
       "      <td>Tottenham</td>\n",
       "      <td>Bournemouth</td>\n",
       "      <td>1.0</td>\n",
       "      <td>1854.798462</td>\n",
       "      <td>1668.258545</td>\n",
       "      <td>FWD</td>\n",
       "      <td>1.0</td>\n",
       "      <td>1.870352</td>\n",
       "    </tr>\n",
       "    <tr>\n",
       "      <th>41</th>\n",
       "      <td>Sekou-Mara</td>\n",
       "      <td>31</td>\n",
       "      <td>2022-23</td>\n",
       "      <td>Southampton</td>\n",
       "      <td>Crystal Palace</td>\n",
       "      <td>1.0</td>\n",
       "      <td>1654.943359</td>\n",
       "      <td>1757.188232</td>\n",
       "      <td>FWD</td>\n",
       "      <td>0.0</td>\n",
       "      <td>1.780250</td>\n",
       "    </tr>\n",
       "    <tr>\n",
       "      <th>36</th>\n",
       "      <td>Pierre-Emerick-Aubameyang</td>\n",
       "      <td>31</td>\n",
       "      <td>2022-23</td>\n",
       "      <td>Chelsea</td>\n",
       "      <td>Brighton</td>\n",
       "      <td>1.0</td>\n",
       "      <td>1830.078003</td>\n",
       "      <td>1829.562256</td>\n",
       "      <td>FWD</td>\n",
       "      <td>0.0</td>\n",
       "      <td>1.637614</td>\n",
       "    </tr>\n",
       "    <tr>\n",
       "      <th>43</th>\n",
       "      <td>Wout-Weghorst</td>\n",
       "      <td>31</td>\n",
       "      <td>2022-23</td>\n",
       "      <td>Manchester Utd</td>\n",
       "      <td>Nott'ham Forest</td>\n",
       "      <td>0.0</td>\n",
       "      <td>1882.111816</td>\n",
       "      <td>1638.596069</td>\n",
       "      <td>FWD</td>\n",
       "      <td>0.0</td>\n",
       "      <td>1.630625</td>\n",
       "    </tr>\n",
       "    <tr>\n",
       "      <th>16</th>\n",
       "      <td>Emmanuel-Dennis</td>\n",
       "      <td>31</td>\n",
       "      <td>2022-23</td>\n",
       "      <td>Nott'ham Forest</td>\n",
       "      <td>Manchester Utd</td>\n",
       "      <td>1.0</td>\n",
       "      <td>1638.596069</td>\n",
       "      <td>1882.111816</td>\n",
       "      <td>FWD</td>\n",
       "      <td>1.0</td>\n",
       "      <td>1.587162</td>\n",
       "    </tr>\n",
       "    <tr>\n",
       "      <th>26</th>\n",
       "      <td>Julian-Alvarez</td>\n",
       "      <td>31</td>\n",
       "      <td>2022-23</td>\n",
       "      <td>Manchester City</td>\n",
       "      <td>Leicester City</td>\n",
       "      <td>1.0</td>\n",
       "      <td>2063.473633</td>\n",
       "      <td>1725.040527</td>\n",
       "      <td>FWD</td>\n",
       "      <td>1.0</td>\n",
       "      <td>1.545390</td>\n",
       "    </tr>\n",
       "  </tbody>\n",
       "</table>\n",
       "</div>"
      ],
      "text/plain": [
       "                         Name  GW   Season            Squad         Opponent  \\\n",
       "17             Erling-Haaland  31  2022-23  Manchester City   Leicester City   \n",
       "21                 Harry-Kane  31  2022-23        Tottenham      Bournemouth   \n",
       "22                 Ivan-Toney  31  2022-23        Brentford           Wolves   \n",
       "5               Callum-Wilson  31  2022-23    Newcastle Utd      Aston Villa   \n",
       "33              Ollie-Watkins  31  2022-23      Aston Villa    Newcastle Utd   \n",
       "0              Alexander-Isak  31  2022-23    Newcastle Utd      Aston Villa   \n",
       "19              Gabriel-Jesus  31  2022-23          Arsenal         West Ham   \n",
       "6             Carlos-Vinicius  31  2022-23           Fulham          Everton   \n",
       "3             Brennan-Johnson  31  2022-23  Nott'ham Forest   Manchester Utd   \n",
       "14              Eddie-Nketiah  31  2022-23          Arsenal         West Ham   \n",
       "32            Odsonne-Edouard  31  2022-23   Crystal Palace      Southampton   \n",
       "30            Michail-Antonio  31  2022-23         West Ham          Arsenal   \n",
       "13            Dominic-Solanke  31  2022-23      Bournemouth        Tottenham   \n",
       "1             Anthony-Martial  31  2022-23   Manchester Utd  Nott'ham Forest   \n",
       "18              Evan-Ferguson  31  2022-23         Brighton          Chelsea   \n",
       "42              Taiwo-Awoniyi  31  2022-23  Nott'ham Forest   Manchester Utd   \n",
       "25                 Jhon-Duran  31  2022-23      Aston Villa    Newcastle Utd   \n",
       "15                Ellis-Simms  31  2022-23          Everton           Fulham   \n",
       "12                 Diogo-Jota  31  2022-23        Liverpool     Leeds United   \n",
       "4                Bryan-Mbeumo  31  2022-23        Brentford           Wolves   \n",
       "31                Neal-Maupay  31  2022-23          Everton           Fulham   \n",
       "8               Danny-Welbeck  31  2022-23         Brighton          Chelsea   \n",
       "7                  Danny-Ings  31  2022-23         West Ham          Arsenal   \n",
       "23                Jamie-Vardy  31  2022-23   Leicester City  Manchester City   \n",
       "37                Richarlison  31  2022-23        Tottenham      Bournemouth   \n",
       "41                 Sekou-Mara  31  2022-23      Southampton   Crystal Palace   \n",
       "36  Pierre-Emerick-Aubameyang  31  2022-23          Chelsea         Brighton   \n",
       "43              Wout-Weghorst  31  2022-23   Manchester Utd  Nott'ham Forest   \n",
       "16            Emmanuel-Dennis  31  2022-23  Nott'ham Forest   Manchester Utd   \n",
       "26             Julian-Alvarez  31  2022-23  Manchester City   Leicester City   \n",
       "\n",
       "    Was Home  Team rating   Opp rating position  total_points      pred  \n",
       "17       1.0  2063.473633  1725.040527      FWD          12.0  6.965257  \n",
       "21       1.0  1854.798462  1668.258545      FWD           2.0  6.159525  \n",
       "22       0.0  1785.234741  1720.871338      FWD           2.0  6.032191  \n",
       "5        0.0  1879.303101  1804.471680      FWD           1.0  5.738616  \n",
       "33       1.0  1804.471680  1879.303101      FWD          16.0  5.456153  \n",
       "0        0.0  1879.303101  1804.471680      FWD           2.0  5.115699  \n",
       "19       0.0  1957.524048  1754.553955      FWD           7.0  3.957874  \n",
       "6        0.0  1713.854858  1690.919678      FWD           1.0  3.514711  \n",
       "3        1.0  1638.596069  1882.111816      FWD           2.0  3.403676  \n",
       "14       0.0  1957.524048  1754.553955      FWD           1.0  3.363196  \n",
       "32       0.0  1757.188232  1654.943359      FWD           2.0  3.032327  \n",
       "30       1.0  1754.553955  1957.524048      FWD           2.0  2.962249  \n",
       "13       0.0  1668.258545  1854.798462      FWD          15.0  2.766498  \n",
       "1        0.0  1882.111816  1638.596069      FWD           5.0  2.699249  \n",
       "18       0.0  1829.562256  1830.078003      FWD           1.0  2.648696  \n",
       "42       1.0  1638.596069  1882.111816      FWD           2.0  2.423975  \n",
       "25       1.0  1804.471680  1879.303101      FWD           0.0  2.387851  \n",
       "15       1.0  1690.919678  1713.854858      FWD           1.0  2.221723  \n",
       "12       0.0  1928.520996  1698.080566      FWD          16.0  2.212195  \n",
       "4        0.0  1785.234741  1720.871338      FWD           2.0  2.210223  \n",
       "31       1.0  1690.919678  1713.854858      FWD           2.0  2.147885  \n",
       "8        0.0  1829.562256  1830.078003      FWD           5.0  2.097270  \n",
       "7        1.0  1754.553955  1957.524048      FWD           0.0  2.011655  \n",
       "23       0.0  1725.040527  2063.473633      FWD           1.0  1.946940  \n",
       "37       1.0  1854.798462  1668.258545      FWD           1.0  1.870352  \n",
       "41       1.0  1654.943359  1757.188232      FWD           0.0  1.780250  \n",
       "36       1.0  1830.078003  1829.562256      FWD           0.0  1.637614  \n",
       "43       0.0  1882.111816  1638.596069      FWD           0.0  1.630625  \n",
       "16       1.0  1638.596069  1882.111816      FWD           1.0  1.587162  \n",
       "26       1.0  2063.473633  1725.040527      FWD           1.0  1.545390  "
      ]
     },
     "execution_count": 52,
     "metadata": {},
     "output_type": "execute_result"
    }
   ],
   "source": [
    "preds.head(30)"
   ]
  },
  {
   "cell_type": "code",
   "execution_count": 53,
   "id": "3fe1c712-ea38-4a91-9717-d4f520ffcb82",
   "metadata": {},
   "outputs": [
    {
     "data": {
      "text/html": [
       "<div>\n",
       "<style scoped>\n",
       "    .dataframe tbody tr th:only-of-type {\n",
       "        vertical-align: middle;\n",
       "    }\n",
       "\n",
       "    .dataframe tbody tr th {\n",
       "        vertical-align: top;\n",
       "    }\n",
       "\n",
       "    .dataframe thead th {\n",
       "        text-align: right;\n",
       "    }\n",
       "</style>\n",
       "<table border=\"1\" class=\"dataframe\">\n",
       "  <thead>\n",
       "    <tr style=\"text-align: right;\">\n",
       "      <th></th>\n",
       "      <th>Name</th>\n",
       "      <th>GW</th>\n",
       "      <th>Season</th>\n",
       "      <th>Squad</th>\n",
       "      <th>Opponent</th>\n",
       "      <th>Was Home</th>\n",
       "      <th>Team rating</th>\n",
       "      <th>Opp rating</th>\n",
       "      <th>position</th>\n",
       "      <th>total_points</th>\n",
       "      <th>pred</th>\n",
       "    </tr>\n",
       "  </thead>\n",
       "  <tbody>\n",
       "    <tr>\n",
       "      <th>17</th>\n",
       "      <td>Erling-Haaland</td>\n",
       "      <td>31</td>\n",
       "      <td>2022-23</td>\n",
       "      <td>Manchester City</td>\n",
       "      <td>Leicester City</td>\n",
       "      <td>1.0</td>\n",
       "      <td>2063.473633</td>\n",
       "      <td>1725.040527</td>\n",
       "      <td>FWD</td>\n",
       "      <td>12.0</td>\n",
       "      <td>6.965257</td>\n",
       "    </tr>\n",
       "    <tr>\n",
       "      <th>26</th>\n",
       "      <td>Julian-Alvarez</td>\n",
       "      <td>31</td>\n",
       "      <td>2022-23</td>\n",
       "      <td>Manchester City</td>\n",
       "      <td>Leicester City</td>\n",
       "      <td>1.0</td>\n",
       "      <td>2063.473633</td>\n",
       "      <td>1725.040527</td>\n",
       "      <td>FWD</td>\n",
       "      <td>1.0</td>\n",
       "      <td>1.545390</td>\n",
       "    </tr>\n",
       "  </tbody>\n",
       "</table>\n",
       "</div>"
      ],
      "text/plain": [
       "              Name  GW   Season            Squad        Opponent  Was Home  \\\n",
       "17  Erling-Haaland  31  2022-23  Manchester City  Leicester City       1.0   \n",
       "26  Julian-Alvarez  31  2022-23  Manchester City  Leicester City       1.0   \n",
       "\n",
       "    Team rating   Opp rating position  total_points      pred  \n",
       "17  2063.473633  1725.040527      FWD          12.0  6.965257  \n",
       "26  2063.473633  1725.040527      FWD           1.0  1.545390  "
      ]
     },
     "execution_count": 53,
     "metadata": {},
     "output_type": "execute_result"
    }
   ],
   "source": [
    "preds[preds[\"Squad\"] == \"Manchester City\"].head(20)"
   ]
  },
  {
   "cell_type": "code",
   "execution_count": 54,
   "id": "59f25158-05b0-41d2-ad7d-2eb99aafc1e2",
   "metadata": {},
   "outputs": [
    {
     "data": {
      "text/html": [
       "<div>\n",
       "<style scoped>\n",
       "    .dataframe tbody tr th:only-of-type {\n",
       "        vertical-align: middle;\n",
       "    }\n",
       "\n",
       "    .dataframe tbody tr th {\n",
       "        vertical-align: top;\n",
       "    }\n",
       "\n",
       "    .dataframe thead th {\n",
       "        text-align: right;\n",
       "    }\n",
       "</style>\n",
       "<table border=\"1\" class=\"dataframe\">\n",
       "  <thead>\n",
       "    <tr style=\"text-align: right;\">\n",
       "      <th></th>\n",
       "      <th>Name</th>\n",
       "      <th>GW</th>\n",
       "      <th>Season</th>\n",
       "      <th>Squad</th>\n",
       "      <th>Opponent</th>\n",
       "      <th>Was Home</th>\n",
       "      <th>Team rating</th>\n",
       "      <th>Opp rating</th>\n",
       "      <th>position</th>\n",
       "      <th>total_points</th>\n",
       "      <th>pred</th>\n",
       "    </tr>\n",
       "  </thead>\n",
       "  <tbody>\n",
       "    <tr>\n",
       "      <th>17</th>\n",
       "      <td>Erling-Haaland</td>\n",
       "      <td>31</td>\n",
       "      <td>2022-23</td>\n",
       "      <td>Manchester City</td>\n",
       "      <td>Leicester City</td>\n",
       "      <td>1.0</td>\n",
       "      <td>2063.473633</td>\n",
       "      <td>1725.040527</td>\n",
       "      <td>FWD</td>\n",
       "      <td>12.0</td>\n",
       "      <td>6.965257</td>\n",
       "    </tr>\n",
       "    <tr>\n",
       "      <th>21</th>\n",
       "      <td>Harry-Kane</td>\n",
       "      <td>31</td>\n",
       "      <td>2022-23</td>\n",
       "      <td>Tottenham</td>\n",
       "      <td>Bournemouth</td>\n",
       "      <td>1.0</td>\n",
       "      <td>1854.798462</td>\n",
       "      <td>1668.258545</td>\n",
       "      <td>FWD</td>\n",
       "      <td>2.0</td>\n",
       "      <td>6.159525</td>\n",
       "    </tr>\n",
       "    <tr>\n",
       "      <th>22</th>\n",
       "      <td>Ivan-Toney</td>\n",
       "      <td>31</td>\n",
       "      <td>2022-23</td>\n",
       "      <td>Brentford</td>\n",
       "      <td>Wolves</td>\n",
       "      <td>0.0</td>\n",
       "      <td>1785.234741</td>\n",
       "      <td>1720.871338</td>\n",
       "      <td>FWD</td>\n",
       "      <td>2.0</td>\n",
       "      <td>6.032191</td>\n",
       "    </tr>\n",
       "    <tr>\n",
       "      <th>5</th>\n",
       "      <td>Callum-Wilson</td>\n",
       "      <td>31</td>\n",
       "      <td>2022-23</td>\n",
       "      <td>Newcastle Utd</td>\n",
       "      <td>Aston Villa</td>\n",
       "      <td>0.0</td>\n",
       "      <td>1879.303101</td>\n",
       "      <td>1804.471680</td>\n",
       "      <td>FWD</td>\n",
       "      <td>1.0</td>\n",
       "      <td>5.738616</td>\n",
       "    </tr>\n",
       "    <tr>\n",
       "      <th>33</th>\n",
       "      <td>Ollie-Watkins</td>\n",
       "      <td>31</td>\n",
       "      <td>2022-23</td>\n",
       "      <td>Aston Villa</td>\n",
       "      <td>Newcastle Utd</td>\n",
       "      <td>1.0</td>\n",
       "      <td>1804.471680</td>\n",
       "      <td>1879.303101</td>\n",
       "      <td>FWD</td>\n",
       "      <td>16.0</td>\n",
       "      <td>5.456153</td>\n",
       "    </tr>\n",
       "    <tr>\n",
       "      <th>0</th>\n",
       "      <td>Alexander-Isak</td>\n",
       "      <td>31</td>\n",
       "      <td>2022-23</td>\n",
       "      <td>Newcastle Utd</td>\n",
       "      <td>Aston Villa</td>\n",
       "      <td>0.0</td>\n",
       "      <td>1879.303101</td>\n",
       "      <td>1804.471680</td>\n",
       "      <td>FWD</td>\n",
       "      <td>2.0</td>\n",
       "      <td>5.115699</td>\n",
       "    </tr>\n",
       "    <tr>\n",
       "      <th>19</th>\n",
       "      <td>Gabriel-Jesus</td>\n",
       "      <td>31</td>\n",
       "      <td>2022-23</td>\n",
       "      <td>Arsenal</td>\n",
       "      <td>West Ham</td>\n",
       "      <td>0.0</td>\n",
       "      <td>1957.524048</td>\n",
       "      <td>1754.553955</td>\n",
       "      <td>FWD</td>\n",
       "      <td>7.0</td>\n",
       "      <td>3.957874</td>\n",
       "    </tr>\n",
       "    <tr>\n",
       "      <th>6</th>\n",
       "      <td>Carlos-Vinicius</td>\n",
       "      <td>31</td>\n",
       "      <td>2022-23</td>\n",
       "      <td>Fulham</td>\n",
       "      <td>Everton</td>\n",
       "      <td>0.0</td>\n",
       "      <td>1713.854858</td>\n",
       "      <td>1690.919678</td>\n",
       "      <td>FWD</td>\n",
       "      <td>1.0</td>\n",
       "      <td>3.514711</td>\n",
       "    </tr>\n",
       "    <tr>\n",
       "      <th>3</th>\n",
       "      <td>Brennan-Johnson</td>\n",
       "      <td>31</td>\n",
       "      <td>2022-23</td>\n",
       "      <td>Nott'ham Forest</td>\n",
       "      <td>Manchester Utd</td>\n",
       "      <td>1.0</td>\n",
       "      <td>1638.596069</td>\n",
       "      <td>1882.111816</td>\n",
       "      <td>FWD</td>\n",
       "      <td>2.0</td>\n",
       "      <td>3.403676</td>\n",
       "    </tr>\n",
       "    <tr>\n",
       "      <th>14</th>\n",
       "      <td>Eddie-Nketiah</td>\n",
       "      <td>31</td>\n",
       "      <td>2022-23</td>\n",
       "      <td>Arsenal</td>\n",
       "      <td>West Ham</td>\n",
       "      <td>0.0</td>\n",
       "      <td>1957.524048</td>\n",
       "      <td>1754.553955</td>\n",
       "      <td>FWD</td>\n",
       "      <td>1.0</td>\n",
       "      <td>3.363196</td>\n",
       "    </tr>\n",
       "  </tbody>\n",
       "</table>\n",
       "</div>"
      ],
      "text/plain": [
       "               Name  GW   Season            Squad        Opponent  Was Home  \\\n",
       "17   Erling-Haaland  31  2022-23  Manchester City  Leicester City       1.0   \n",
       "21       Harry-Kane  31  2022-23        Tottenham     Bournemouth       1.0   \n",
       "22       Ivan-Toney  31  2022-23        Brentford          Wolves       0.0   \n",
       "5     Callum-Wilson  31  2022-23    Newcastle Utd     Aston Villa       0.0   \n",
       "33    Ollie-Watkins  31  2022-23      Aston Villa   Newcastle Utd       1.0   \n",
       "0    Alexander-Isak  31  2022-23    Newcastle Utd     Aston Villa       0.0   \n",
       "19    Gabriel-Jesus  31  2022-23          Arsenal        West Ham       0.0   \n",
       "6   Carlos-Vinicius  31  2022-23           Fulham         Everton       0.0   \n",
       "3   Brennan-Johnson  31  2022-23  Nott'ham Forest  Manchester Utd       1.0   \n",
       "14    Eddie-Nketiah  31  2022-23          Arsenal        West Ham       0.0   \n",
       "\n",
       "    Team rating   Opp rating position  total_points      pred  \n",
       "17  2063.473633  1725.040527      FWD          12.0  6.965257  \n",
       "21  1854.798462  1668.258545      FWD           2.0  6.159525  \n",
       "22  1785.234741  1720.871338      FWD           2.0  6.032191  \n",
       "5   1879.303101  1804.471680      FWD           1.0  5.738616  \n",
       "33  1804.471680  1879.303101      FWD          16.0  5.456153  \n",
       "0   1879.303101  1804.471680      FWD           2.0  5.115699  \n",
       "19  1957.524048  1754.553955      FWD           7.0  3.957874  \n",
       "6   1713.854858  1690.919678      FWD           1.0  3.514711  \n",
       "3   1638.596069  1882.111816      FWD           2.0  3.403676  \n",
       "14  1957.524048  1754.553955      FWD           1.0  3.363196  "
      ]
     },
     "execution_count": 54,
     "metadata": {},
     "output_type": "execute_result"
    }
   ],
   "source": [
    "preds[preds[\"position\"] == \"FWD\"].head(10)"
   ]
  },
  {
   "cell_type": "markdown",
   "id": "3ed6461a-a67a-4068-984b-c17e9a1d8c7b",
   "metadata": {},
   "source": [
    "# Feature importance and influence"
   ]
  },
  {
   "cell_type": "code",
   "execution_count": 55,
   "id": "7f0acc94-8661-4933-926c-859679ba5d4f",
   "metadata": {},
   "outputs": [],
   "source": [
    "# plot_importance(model)"
   ]
  },
  {
   "cell_type": "code",
   "execution_count": 56,
   "id": "fc68979d-f8e7-4f44-ae50-22ef7b92b9e1",
   "metadata": {},
   "outputs": [],
   "source": [
    "# fig, ax = plt.subplots(figsize=(16, 8))\n",
    "# plot_partial_dependence(model, X_train, features, ax=ax)"
   ]
  },
  {
   "cell_type": "code",
   "execution_count": 57,
   "id": "c90e9b27-43c3-4253-830d-53c3532c5197",
   "metadata": {},
   "outputs": [],
   "source": [
    "# explainer = shap.Explainer(model.predict, X_test)\n",
    "# shap_values = explainer(X_test)"
   ]
  },
  {
   "cell_type": "code",
   "execution_count": 58,
   "id": "f73757e7-4125-4657-8b78-914b5324a9e9",
   "metadata": {},
   "outputs": [],
   "source": [
    "# shap.plots.bar(shap_values)"
   ]
  },
  {
   "cell_type": "code",
   "execution_count": 59,
   "id": "4d1a6591-e086-4156-a51a-3ccfd3489561",
   "metadata": {},
   "outputs": [],
   "source": [
    "# shap.plots.beeswarm(shap_values)"
   ]
  },
  {
   "cell_type": "code",
   "execution_count": 60,
   "id": "b1d832a7-6e45-4286-a102-029a56916c45",
   "metadata": {},
   "outputs": [],
   "source": [
    "# shap.plots.bar(shap_values[218], max_display=15)"
   ]
  },
  {
   "cell_type": "code",
   "execution_count": 61,
   "id": "69b9c146-dd21-4c69-bda7-1dca7959b933",
   "metadata": {},
   "outputs": [],
   "source": [
    "# get_top_performer_names(df, 20, 50)"
   ]
  },
  {
   "cell_type": "code",
   "execution_count": 62,
   "id": "daf06fab-29cc-4752-9120-8d42bee3cb6e",
   "metadata": {},
   "outputs": [],
   "source": [
    "# df[(df[\"GW\"] == GAMEWEEK_TO_PREDICT) & (df[\"Season\"] == SEASON_TO_PREDICT) & (df[\"Name\"].isin(get_top_performer_names(df, 50, 50)))]"
   ]
  },
  {
   "cell_type": "code",
   "execution_count": null,
   "id": "b4ded1cd-6066-4fa0-9799-33107a7a53a8",
   "metadata": {},
   "outputs": [],
   "source": []
  }
 ],
 "metadata": {
  "kernelspec": {
   "display_name": "Python 3 (ipykernel)",
   "language": "python",
   "name": "python3"
  },
  "language_info": {
   "codemirror_mode": {
    "name": "ipython",
    "version": 3
   },
   "file_extension": ".py",
   "mimetype": "text/x-python",
   "name": "python",
   "nbconvert_exporter": "python",
   "pygments_lexer": "ipython3",
   "version": "3.8.0"
  }
 },
 "nbformat": 4,
 "nbformat_minor": 5
}
