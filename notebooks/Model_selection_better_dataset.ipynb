{
 "cells": [
  {
   "cell_type": "markdown",
   "id": "e61cf721-96f7-4f7c-a5c5-343917267d91",
   "metadata": {},
   "source": [
    "\n",
    "# Imports"
   ]
  },
  {
   "cell_type": "code",
   "execution_count": 1,
   "id": "c2b67ee7-f81a-4a96-bd38-8149efc725cf",
   "metadata": {},
   "outputs": [],
   "source": [
    "import os\n",
    "os.chdir(\"D:\\PulpitE\\FPL_ML\")"
   ]
  },
  {
   "cell_type": "code",
   "execution_count": 2,
   "id": "3f447fc0-41e6-4c50-967e-2cc314a1e81f",
   "metadata": {},
   "outputs": [],
   "source": [
    "import matplotlib.pyplot as plt\n",
    "import pandas as pd\n",
    "import numpy as np\n",
    "import shap\n",
    "\n",
    "from sklearn.ensemble import GradientBoostingRegressor\n",
    "from sklearn.linear_model import SGDRegressor\n",
    "from xgboost import XGBRegressor\n",
    "from sklearn.ensemble import AdaBoostRegressor\n",
    "from sklearn.linear_model import ElasticNet\n",
    "from sklearn.neighbors import KNeighborsRegressor\n",
    "from sklearn.ensemble import RandomForestRegressor\n",
    "from sklearn.svm import SVR\n",
    "from lightgbm import LGBMRegressor\n",
    "\n",
    "from statistics import mean\n",
    "from scipy.stats import tmean\n",
    "from sklearn.metrics import mean_absolute_error, mean_squared_error\n",
    "\n",
    "from sklearn.preprocessing import LabelEncoder\n",
    "from xgboost import plot_importance\n",
    "from sklearn.inspection import plot_partial_dependence"
   ]
  },
  {
   "cell_type": "code",
   "execution_count": 3,
   "id": "217927df-909e-4a95-9e59-651d57e312db",
   "metadata": {},
   "outputs": [
    {
     "name": "stderr",
     "output_type": "stream",
     "text": [
      "Columns (53) have mixed types.Specify dtype option on import or set low_memory=False.\n"
     ]
    }
   ],
   "source": [
    "# loading csv\n",
    "df_original = pd.read_csv('data/final_dataset.csv').drop(\"Unnamed: 0\", axis=1)\n",
    "\n",
    "df = df_original.copy()"
   ]
  },
  {
   "cell_type": "code",
   "execution_count": 4,
   "id": "5cb7bf65-349a-41e0-a292-57068e080a71",
   "metadata": {},
   "outputs": [],
   "source": [
    "# df_original[df_original[\"Name\"] == \"Mohamed-Salah\"].groupby([\"Pos\"]).mean()[\"Total Points\"]"
   ]
  },
  {
   "cell_type": "code",
   "execution_count": 5,
   "id": "dca8a691-f6e5-4b02-9285-aaaaf998f8f2",
   "metadata": {},
   "outputs": [],
   "source": [
    "df = df.rename(columns={'GW_x': 'GW'})\n",
    "# df = df[~(df['position'].isin(['GK']))]\n",
    "df = df[df['position'].isin(['MID'])]"
   ]
  },
  {
   "cell_type": "code",
   "execution_count": 60,
   "id": "a283588a-ee6e-4ceb-8f44-02c68a49d0bb",
   "metadata": {},
   "outputs": [],
   "source": [
    "# df_original[[\"expected_goals\", \"xG\"]]"
   ]
  },
  {
   "cell_type": "code",
   "execution_count": 7,
   "id": "9d26510c-dba9-4395-b0e9-c610765c2fbd",
   "metadata": {},
   "outputs": [
    {
     "data": {
      "text/plain": [
       "array([ 2.,  1.,  0., nan,  3.,  4.,  5.,  7.,  6.,  8.,  9.])"
      ]
     },
     "execution_count": 7,
     "metadata": {},
     "output_type": "execute_result"
    }
   ],
   "source": [
    "df_original[\"goals_conceded\"].unique()"
   ]
  },
  {
   "cell_type": "code",
   "execution_count": 8,
   "id": "cf3dd6ae-ffd6-4a9c-8fa4-a61d313f793c",
   "metadata": {},
   "outputs": [],
   "source": [
    "# df_original.columns.to_list()"
   ]
  },
  {
   "cell_type": "code",
   "execution_count": 9,
   "id": "247a5fe7-171c-41c4-bde3-d33a0dff195c",
   "metadata": {},
   "outputs": [
    {
     "data": {
      "text/plain": [
       "array(['FWD'], dtype=object)"
      ]
     },
     "execution_count": 9,
     "metadata": {},
     "output_type": "execute_result"
    }
   ],
   "source": [
    "df[\"position\"].unique()"
   ]
  },
  {
   "cell_type": "code",
   "execution_count": 10,
   "id": "5c1b9133-98f1-4547-aa9a-01dac513f0e0",
   "metadata": {},
   "outputs": [
    {
     "data": {
      "text/plain": [
       "(2589, 117)"
      ]
     },
     "execution_count": 10,
     "metadata": {},
     "output_type": "execute_result"
    }
   ],
   "source": [
    "df.shape"
   ]
  },
  {
   "cell_type": "code",
   "execution_count": 11,
   "id": "29b66688-3e11-4ea5-a9ed-77be552e5e4a",
   "metadata": {},
   "outputs": [],
   "source": [
    "to_predict = [\"total_points\"]\n",
    "features1 = [\"Was Home\", \"Team rating\", \"Opp rating\", \n",
    "             # 'ScoreForLast5', 'ScoreAgainstLast5',\n",
    "             ]\n",
    "features_to_roll = [\n",
    "                \"Min\", \"Start\", # time played\n",
    "                'Gls', 'Sh', 'SoT', # Goals\n",
    "                'Ast', # Assists\n",
    "                'CrdY', 'CrdR', # Cards\n",
    "                \"xG\", 'xAG', # Expected\n",
    "                'CS', # Defence\n",
    "                'Team Score', 'Opp Score', # Team form\n",
    "                # \"xGPoints\", \"CSPoints\", # Position-scaled\n",
    "                # \"Cmp%\", \"PrgP\", \"PrgC\", \"Succ\", \"PKwon\",\n",
    "                'bonus', 'bps', # Bonus\n",
    "                'influence', 'creativity', 'threat', 'ict_index', # ICT\n",
    "                \"total_points\" # FPL points\n",
    "            ]\n",
    "# features_to_roll = \"Min\"\n",
    "info = [\"Name\", \"GW\", \"Season\", \"Squad\", \"Opponent\", \"Was Home\", \"Team rating\", \"Opp rating\", \"position\"]"
   ]
  },
  {
   "cell_type": "code",
   "execution_count": 12,
   "id": "49cfcf71-b36d-4df2-ab4b-4d37b31f63c5",
   "metadata": {},
   "outputs": [],
   "source": [
    "# df[features_to_roll + info].isnull().sum(axis=0).sort_values(ascending=False).head(30)"
   ]
  },
  {
   "cell_type": "markdown",
   "id": "fe7a4ac1-336c-4ea4-ad91-24489c66e789",
   "metadata": {},
   "source": [
    "# Preparing dataset"
   ]
  },
  {
   "cell_type": "code",
   "execution_count": 13,
   "id": "da07449d-3b7f-49f2-bd03-563846abec7b",
   "metadata": {},
   "outputs": [],
   "source": [
    "def calculate_xg_points(row):\n",
    "    if row[\"position\"] == \"GK\":\n",
    "        return row[\"xG\"] * 6\n",
    "    elif row[\"position\"] == \"DEF\":\n",
    "        return row[\"xG\"] * 6\n",
    "    elif row[\"position\"] == \"MID\":\n",
    "        return row[\"xG\"] * 5\n",
    "    elif row[\"position\"] == \"FWD\":\n",
    "        return row[\"xG\"] * 4\n",
    "    else:\n",
    "        return row[\"xG\"] * 5\n",
    "\n",
    "df[\"xGPoints\"] = df.apply(calculate_xg_points, axis=1)"
   ]
  },
  {
   "cell_type": "code",
   "execution_count": 14,
   "id": "9b278ffd-e7d7-47fe-88a0-47d9598fa159",
   "metadata": {},
   "outputs": [],
   "source": [
    "def calculate_cs_points(row):\n",
    "    if row[\"position\"] == \"GK\":\n",
    "        return row[\"xG\"] * 4\n",
    "    elif row[\"position\"] == \"DEF\":\n",
    "        return row[\"xG\"] * 4\n",
    "    elif row[\"position\"] == \"MID\":\n",
    "        return row[\"xG\"] * 1\n",
    "    elif row[\"position\"] == \"FWD\":\n",
    "        return row[\"xG\"] * 0\n",
    "    else:\n",
    "        return row[\"xG\"] * 1\n",
    "\n",
    "df[\"CSPoints\"] = df.apply(calculate_cs_points, axis=1)"
   ]
  },
  {
   "cell_type": "code",
   "execution_count": 15,
   "id": "3b9ebefd-ec2c-4ca8-b9ed-f57f1c13d983",
   "metadata": {},
   "outputs": [
    {
     "data": {
      "text/plain": [
       "(2589, 119)"
      ]
     },
     "execution_count": 15,
     "metadata": {},
     "output_type": "execute_result"
    }
   ],
   "source": [
    "df.shape"
   ]
  },
  {
   "cell_type": "code",
   "execution_count": 16,
   "id": "2fe53aca-b1c7-4f24-87ae-81fe1ab6f532",
   "metadata": {},
   "outputs": [],
   "source": [
    "def add_rolling_features(df, features1, features_to_roll):\n",
    "    rolling_gameweeks = [2, 5]\n",
    "    features = features1\n",
    "    \n",
    "    for r in rolling_gameweeks:\n",
    "        form_means = df.groupby([\"Name\"])[features_to_roll].rolling(r, min_periods=1).mean().groupby([\"Name\"]).shift(1).reset_index()\n",
    "        form_means = form_means.fillna(method='bfill')\n",
    "        \n",
    "        \n",
    "        \n",
    "        \n",
    "        \n",
    "        \n",
    "        form_means.columns = [f'{col}{\"_\"}{r}' for col in form_means.columns]\n",
    "        \n",
    "        print(form_means.columns)\n",
    "        features += form_means.columns.tolist()\n",
    "        features = list(filter(lambda x: x not in [\"Name_\" + str(r)], features))\n",
    "        df = pd.concat([df, form_means], axis=1)\n",
    "        \n",
    "        \n",
    "    return df, features"
   ]
  },
  {
   "cell_type": "code",
   "execution_count": 17,
   "id": "2e46c21c-3984-42e5-a6ff-a4118cb1f802",
   "metadata": {},
   "outputs": [],
   "source": [
    "def ohe(df, ohe_columns, features):\n",
    "    # one hot encoding\n",
    "    for c in ohe_columns:\n",
    "        ohe_c = pd.get_dummies(df[c], dtype=\"int64\")\n",
    "        df = pd.concat([df, ohe_c], axis=1)\n",
    "        # df = df.drop(c, axis=1)\n",
    "        print(\"OHE\", ohe_c.columns)\n",
    "\n",
    "        features += ohe_c.columns.tolist()\n",
    "        \n",
    "    return df, features"
   ]
  },
  {
   "cell_type": "code",
   "execution_count": 18,
   "id": "026526dc-1fdd-4eb4-854e-c3e383197574",
   "metadata": {},
   "outputs": [],
   "source": [
    "def label_encoding(df, column_to_encode):\n",
    "    \n",
    "    mapping_dict = {\n",
    "        'Y': 2,\n",
    "        'Y*': 1,\n",
    "        'N': 0,\n",
    "    }\n",
    "    \n",
    "    df[column_to_encode] = df[column_to_encode].map(mapping_dict)\n",
    "    \n",
    "    return df"
   ]
  },
  {
   "cell_type": "code",
   "execution_count": 19,
   "id": "aeefc061-5f68-4e0c-953b-3033c967b01f",
   "metadata": {},
   "outputs": [],
   "source": [
    "df = df.reset_index()"
   ]
  },
  {
   "cell_type": "code",
   "execution_count": 20,
   "id": "dbc446b2-8d55-471c-a4cf-eca1df6bb594",
   "metadata": {},
   "outputs": [],
   "source": [
    "# df.head(30)"
   ]
  },
  {
   "cell_type": "code",
   "execution_count": 21,
   "id": "c963831b-e2ec-4958-b2da-99c9eb5cf759",
   "metadata": {},
   "outputs": [
    {
     "name": "stdout",
     "output_type": "stream",
     "text": [
      "Index(['Name_2', 'level_1_2', 'Min_2', 'Gls_2', 'Sh_2', 'SoT_2', 'Ast_2',\n",
      "       'CrdY_2', 'CrdR_2', 'xG_2', 'xAG_2', 'CS_2', 'Team Score_2',\n",
      "       'Opp Score_2', 'bonus_2', 'bps_2', 'influence_2', 'creativity_2',\n",
      "       'threat_2', 'ict_index_2', 'total_points_2'],\n",
      "      dtype='object')\n",
      "Index(['Name_5', 'level_1_5', 'Min_5', 'Gls_5', 'Sh_5', 'SoT_5', 'Ast_5',\n",
      "       'CrdY_5', 'CrdR_5', 'xG_5', 'xAG_5', 'CS_5', 'Team Score_5',\n",
      "       'Opp Score_5', 'bonus_5', 'bps_5', 'influence_5', 'creativity_5',\n",
      "       'threat_5', 'ict_index_5', 'total_points_5'],\n",
      "      dtype='object')\n"
     ]
    }
   ],
   "source": [
    "df, features = add_rolling_features(df, features1, features_to_roll)"
   ]
  },
  {
   "cell_type": "code",
   "execution_count": 22,
   "id": "b0dd88c1-dbbe-41f8-8159-b8e73f7f5c0d",
   "metadata": {},
   "outputs": [
    {
     "name": "stdout",
     "output_type": "stream",
     "text": [
      "OHE Index(['FWD'], dtype='object')\n"
     ]
    }
   ],
   "source": [
    "df, features = ohe(df, [\"position\"], features)"
   ]
  },
  {
   "cell_type": "code",
   "execution_count": 23,
   "id": "dc05870f-c6a1-4340-b061-6b0f9da5ff46",
   "metadata": {},
   "outputs": [],
   "source": [
    "df = label_encoding(df, \"Start\")"
   ]
  },
  {
   "cell_type": "code",
   "execution_count": 24,
   "id": "871534cf-bd8d-49ed-bb56-d3ffaa9d8478",
   "metadata": {},
   "outputs": [],
   "source": [
    "# dropping unwanted columns\n",
    "# non_level_columns = [col for col in df.columns if not col.startswith('level')]\n",
    "features = [col for col in features if not col.startswith('level')]\n",
    "# df = df[non_level_columns]\n",
    "df = df[np.unique(features + info + to_predict)]"
   ]
  },
  {
   "cell_type": "code",
   "execution_count": 25,
   "id": "269a1373-9fbd-4aa3-a095-5ad1c74be587",
   "metadata": {},
   "outputs": [],
   "source": [
    "df = df[pd.to_numeric(df[\"GW\"], errors=\"coerce\").notna()]\n",
    "df[\"GW\"] = df[\"GW\"].astype(\"uint64\")"
   ]
  },
  {
   "cell_type": "code",
   "execution_count": 26,
   "id": "946a233f-fb19-447c-baa1-f92a87f76441",
   "metadata": {},
   "outputs": [],
   "source": [
    "# df.head(90).tail(30)"
   ]
  },
  {
   "cell_type": "code",
   "execution_count": 27,
   "id": "f016229d-c29a-48c9-a385-7883ae6064dd",
   "metadata": {},
   "outputs": [],
   "source": [
    "# df.tail(40)"
   ]
  },
  {
   "cell_type": "code",
   "execution_count": 28,
   "id": "dbd5108b-c4b3-4268-9a8d-6e0ebdbe7a8d",
   "metadata": {},
   "outputs": [],
   "source": [
    "# dropping NaNs\n",
    "df = df.dropna(axis=0)"
   ]
  },
  {
   "cell_type": "code",
   "execution_count": 29,
   "id": "eb1b8f09-495e-4f39-abec-238b6ff2d3d2",
   "metadata": {},
   "outputs": [],
   "source": [
    "df = df.set_index([\"Name\", \"Season\", \"GW\"], drop=False)"
   ]
  },
  {
   "cell_type": "code",
   "execution_count": 30,
   "id": "aa7edd40-4433-4d9d-bc95-747fd5fcc118",
   "metadata": {},
   "outputs": [
    {
     "data": {
      "text/plain": [
       "Index(['Ast_2', 'Ast_5', 'CS_2', 'CS_5', 'CrdR_2', 'CrdR_5', 'CrdY_2',\n",
       "       'CrdY_5', 'FWD', 'GW', 'Gls_2', 'Gls_5', 'Min_2', 'Min_5', 'Name',\n",
       "       'Opp Score_2', 'Opp Score_5', 'Opp rating', 'Opponent', 'Season',\n",
       "       'Sh_2', 'Sh_5', 'SoT_2', 'SoT_5', 'Squad', 'Team Score_2',\n",
       "       'Team Score_5', 'Team rating', 'Was Home', 'bonus_2', 'bonus_5',\n",
       "       'bps_2', 'bps_5', 'creativity_2', 'creativity_5', 'ict_index_2',\n",
       "       'ict_index_5', 'influence_2', 'influence_5', 'position', 'threat_2',\n",
       "       'threat_5', 'total_points', 'total_points_2', 'total_points_5', 'xAG_2',\n",
       "       'xAG_5', 'xG_2', 'xG_5'],\n",
       "      dtype='object')"
      ]
     },
     "execution_count": 30,
     "metadata": {},
     "output_type": "execute_result"
    }
   ],
   "source": [
    "df.columns"
   ]
  },
  {
   "cell_type": "code",
   "execution_count": 31,
   "id": "f9ac2b91-59ee-4d56-97be-b9a374d36604",
   "metadata": {},
   "outputs": [
    {
     "data": {
      "text/plain": [
       "(2589, 49)"
      ]
     },
     "execution_count": 31,
     "metadata": {},
     "output_type": "execute_result"
    }
   ],
   "source": [
    "df.shape"
   ]
  },
  {
   "cell_type": "markdown",
   "id": "fc895e8b-ed8c-4c03-89fe-eccde0b4c26e",
   "metadata": {},
   "source": [
    "# Choosing features and splitting data"
   ]
  },
  {
   "cell_type": "code",
   "execution_count": 32,
   "id": "1a46a038-a0b2-4348-b87c-2ca15569f6eb",
   "metadata": {},
   "outputs": [],
   "source": [
    "GAMEWEEK_TO_PREDICT = 33\n",
    "SEASON_TO_PREDICT = \"2022-23\""
   ]
  },
  {
   "cell_type": "code",
   "execution_count": 33,
   "id": "45b9f614-d91d-491f-b5d0-d278db561c2d",
   "metadata": {},
   "outputs": [],
   "source": [
    "# gameweeks 6-14 is training data, gw 15 is test data\n",
    "X_train = df[((df[\"Season\"] <= SEASON_TO_PREDICT) & (df[\"GW\"] >= 1) & (df[\"GW\"] <= GAMEWEEK_TO_PREDICT - 1))][features].reset_index(drop=True)\n",
    "y_train = df[((df[\"Season\"] <= SEASON_TO_PREDICT) & (df[\"GW\"] >= 1) & (df[\"GW\"] <= GAMEWEEK_TO_PREDICT - 1))][to_predict].reset_index(drop=True)"
   ]
  },
  {
   "cell_type": "code",
   "execution_count": 34,
   "id": "7996012d-2bf5-45da-a29e-e75932313172",
   "metadata": {},
   "outputs": [],
   "source": [
    "X_test = df[(df[\"GW\"] == GAMEWEEK_TO_PREDICT) & (df[\"Season\"] == SEASON_TO_PREDICT) ][features].reset_index(drop=True)\n",
    "y_test = df[(df[\"GW\"] == GAMEWEEK_TO_PREDICT) & (df[\"Season\"] == SEASON_TO_PREDICT) ][to_predict].reset_index(drop=True)"
   ]
  },
  {
   "cell_type": "code",
   "execution_count": 35,
   "id": "dcf0a862-ff68-4236-8fcb-dcf5e8ebe29f",
   "metadata": {},
   "outputs": [
    {
     "data": {
      "text/plain": [
       "((2185, 42), (45, 42))"
      ]
     },
     "execution_count": 35,
     "metadata": {},
     "output_type": "execute_result"
    }
   ],
   "source": [
    "X_train.shape, X_test.shape"
   ]
  },
  {
   "cell_type": "markdown",
   "id": "bd2b3df9-363d-4c0a-8a1b-ce561ee29b23",
   "metadata": {},
   "source": [
    "# Model"
   ]
  },
  {
   "cell_type": "code",
   "execution_count": 36,
   "id": "6e50771d-93f9-4474-9cfa-a02cfde8c162",
   "metadata": {},
   "outputs": [],
   "source": [
    "class HybridModel:\n",
    "    def __init__(self, models, names, weights):\n",
    "        self.models = models\n",
    "        self.model_names = names\n",
    "        self.weights = weights\n",
    "    \n",
    "    def fit(self, X, y):\n",
    "        for model in self.models:\n",
    "            model.fit(X, y)\n",
    "        \n",
    "    def predict(self, X):\n",
    "        model_preds = [model.predict(X) for model in self.models]\n",
    "        preds = []\n",
    "        for i in range(len(model_preds[0])):\n",
    "            preds.append(np.mean([x[i] for x in model_preds]))\n",
    "        return preds\n",
    "    \n",
    "    def evaluate(self, X, y):\n",
    "        ys = [np.expm1(model.predict(X)) for model in self.models]\n",
    "        y_ensemble = self.predict(X)\n",
    "        \n",
    "        rmsle_ys = [(mean_squared_log_error(y, y_model) ** 0.5) for y_model in ys]\n",
    "        rmsle_ensemble = mean_squared_log_error(y, y_ensemble) ** 0.5\n",
    "        \n",
    "        for i in range(0, len(self.models)):\n",
    "            print(f\"RMSLE on {self.model_names[i]} model: {rmsle_ys[i]}\")\n",
    "        print(f\"RMSLE on ensemble model: {rmsle_ensemble}\")"
   ]
  },
  {
   "cell_type": "code",
   "execution_count": 37,
   "id": "55b762b9-12bb-4b40-94f7-9c1681a8ad69",
   "metadata": {},
   "outputs": [],
   "source": [
    "lgbm = LGBMRegressor(random_state=42)\n",
    "xgb = XGBRegressor(random_state=42)\n",
    "gbr = GradientBoostingRegressor(random_state=42)\n",
    "\n",
    "names = [\n",
    "    \"LGBM\",\n",
    "    \"XGB\",\n",
    "    \"GBR\"\n",
    "]\n",
    "\n",
    "weights = [\n",
    "    1,\n",
    "    1,\n",
    "    1\n",
    "]\n",
    "\n",
    "# hybrid arguments\n",
    "models = [\n",
    "    lgbm, \n",
    "    xgb, \n",
    "    gbr\n",
    "]\n",
    "\n",
    "model = HybridModel(models, names, weights)"
   ]
  },
  {
   "cell_type": "code",
   "execution_count": 38,
   "id": "869c69e0-56ad-4baf-a403-dcdc61f7adec",
   "metadata": {},
   "outputs": [],
   "source": [
    "# model = GradientBoostingRegressor(random_state=42)\n",
    "# model = LGBMRegressor(random_state=42)\n",
    "model = XGBRegressor(random_state=42)\n",
    "# model = RandomForestRegressor()"
   ]
  },
  {
   "cell_type": "code",
   "execution_count": 39,
   "id": "8531e1e4-92af-494b-b5b7-7a48f2796fa6",
   "metadata": {},
   "outputs": [
    {
     "name": "stdout",
     "output_type": "stream",
     "text": [
      "CPU times: total: 1.8 s\n",
      "Wall time: 257 ms\n"
     ]
    },
    {
     "data": {
      "text/html": [
       "<style>#sk-container-id-1 {color: black;background-color: white;}#sk-container-id-1 pre{padding: 0;}#sk-container-id-1 div.sk-toggleable {background-color: white;}#sk-container-id-1 label.sk-toggleable__label {cursor: pointer;display: block;width: 100%;margin-bottom: 0;padding: 0.3em;box-sizing: border-box;text-align: center;}#sk-container-id-1 label.sk-toggleable__label-arrow:before {content: \"▸\";float: left;margin-right: 0.25em;color: #696969;}#sk-container-id-1 label.sk-toggleable__label-arrow:hover:before {color: black;}#sk-container-id-1 div.sk-estimator:hover label.sk-toggleable__label-arrow:before {color: black;}#sk-container-id-1 div.sk-toggleable__content {max-height: 0;max-width: 0;overflow: hidden;text-align: left;background-color: #f0f8ff;}#sk-container-id-1 div.sk-toggleable__content pre {margin: 0.2em;color: black;border-radius: 0.25em;background-color: #f0f8ff;}#sk-container-id-1 input.sk-toggleable__control:checked~div.sk-toggleable__content {max-height: 200px;max-width: 100%;overflow: auto;}#sk-container-id-1 input.sk-toggleable__control:checked~label.sk-toggleable__label-arrow:before {content: \"▾\";}#sk-container-id-1 div.sk-estimator input.sk-toggleable__control:checked~label.sk-toggleable__label {background-color: #d4ebff;}#sk-container-id-1 div.sk-label input.sk-toggleable__control:checked~label.sk-toggleable__label {background-color: #d4ebff;}#sk-container-id-1 input.sk-hidden--visually {border: 0;clip: rect(1px 1px 1px 1px);clip: rect(1px, 1px, 1px, 1px);height: 1px;margin: -1px;overflow: hidden;padding: 0;position: absolute;width: 1px;}#sk-container-id-1 div.sk-estimator {font-family: monospace;background-color: #f0f8ff;border: 1px dotted black;border-radius: 0.25em;box-sizing: border-box;margin-bottom: 0.5em;}#sk-container-id-1 div.sk-estimator:hover {background-color: #d4ebff;}#sk-container-id-1 div.sk-parallel-item::after {content: \"\";width: 100%;border-bottom: 1px solid gray;flex-grow: 1;}#sk-container-id-1 div.sk-label:hover label.sk-toggleable__label {background-color: #d4ebff;}#sk-container-id-1 div.sk-serial::before {content: \"\";position: absolute;border-left: 1px solid gray;box-sizing: border-box;top: 0;bottom: 0;left: 50%;z-index: 0;}#sk-container-id-1 div.sk-serial {display: flex;flex-direction: column;align-items: center;background-color: white;padding-right: 0.2em;padding-left: 0.2em;position: relative;}#sk-container-id-1 div.sk-item {position: relative;z-index: 1;}#sk-container-id-1 div.sk-parallel {display: flex;align-items: stretch;justify-content: center;background-color: white;position: relative;}#sk-container-id-1 div.sk-item::before, #sk-container-id-1 div.sk-parallel-item::before {content: \"\";position: absolute;border-left: 1px solid gray;box-sizing: border-box;top: 0;bottom: 0;left: 50%;z-index: -1;}#sk-container-id-1 div.sk-parallel-item {display: flex;flex-direction: column;z-index: 1;position: relative;background-color: white;}#sk-container-id-1 div.sk-parallel-item:first-child::after {align-self: flex-end;width: 50%;}#sk-container-id-1 div.sk-parallel-item:last-child::after {align-self: flex-start;width: 50%;}#sk-container-id-1 div.sk-parallel-item:only-child::after {width: 0;}#sk-container-id-1 div.sk-dashed-wrapped {border: 1px dashed gray;margin: 0 0.4em 0.5em 0.4em;box-sizing: border-box;padding-bottom: 0.4em;background-color: white;}#sk-container-id-1 div.sk-label label {font-family: monospace;font-weight: bold;display: inline-block;line-height: 1.2em;}#sk-container-id-1 div.sk-label-container {text-align: center;}#sk-container-id-1 div.sk-container {/* jupyter's `normalize.less` sets `[hidden] { display: none; }` but bootstrap.min.css set `[hidden] { display: none !important; }` so we also need the `!important` here to be able to override the default hidden behavior on the sphinx rendered scikit-learn.org. See: https://github.com/scikit-learn/scikit-learn/issues/21755 */display: inline-block !important;position: relative;}#sk-container-id-1 div.sk-text-repr-fallback {display: none;}</style><div id=\"sk-container-id-1\" class=\"sk-top-container\"><div class=\"sk-text-repr-fallback\"><pre>XGBRegressor(base_score=None, booster=None, callbacks=None,\n",
       "             colsample_bylevel=None, colsample_bynode=None,\n",
       "             colsample_bytree=None, early_stopping_rounds=None,\n",
       "             enable_categorical=False, eval_metric=None, feature_types=None,\n",
       "             gamma=None, gpu_id=None, grow_policy=None, importance_type=None,\n",
       "             interaction_constraints=None, learning_rate=None, max_bin=None,\n",
       "             max_cat_threshold=None, max_cat_to_onehot=None,\n",
       "             max_delta_step=None, max_depth=None, max_leaves=None,\n",
       "             min_child_weight=None, missing=nan, monotone_constraints=None,\n",
       "             n_estimators=100, n_jobs=None, num_parallel_tree=None,\n",
       "             predictor=None, random_state=42, ...)</pre><b>In a Jupyter environment, please rerun this cell to show the HTML representation or trust the notebook. <br />On GitHub, the HTML representation is unable to render, please try loading this page with nbviewer.org.</b></div><div class=\"sk-container\" hidden><div class=\"sk-item\"><div class=\"sk-estimator sk-toggleable\"><input class=\"sk-toggleable__control sk-hidden--visually\" id=\"sk-estimator-id-1\" type=\"checkbox\" checked><label for=\"sk-estimator-id-1\" class=\"sk-toggleable__label sk-toggleable__label-arrow\">XGBRegressor</label><div class=\"sk-toggleable__content\"><pre>XGBRegressor(base_score=None, booster=None, callbacks=None,\n",
       "             colsample_bylevel=None, colsample_bynode=None,\n",
       "             colsample_bytree=None, early_stopping_rounds=None,\n",
       "             enable_categorical=False, eval_metric=None, feature_types=None,\n",
       "             gamma=None, gpu_id=None, grow_policy=None, importance_type=None,\n",
       "             interaction_constraints=None, learning_rate=None, max_bin=None,\n",
       "             max_cat_threshold=None, max_cat_to_onehot=None,\n",
       "             max_delta_step=None, max_depth=None, max_leaves=None,\n",
       "             min_child_weight=None, missing=nan, monotone_constraints=None,\n",
       "             n_estimators=100, n_jobs=None, num_parallel_tree=None,\n",
       "             predictor=None, random_state=42, ...)</pre></div></div></div></div></div>"
      ],
      "text/plain": [
       "XGBRegressor(base_score=None, booster=None, callbacks=None,\n",
       "             colsample_bylevel=None, colsample_bynode=None,\n",
       "             colsample_bytree=None, early_stopping_rounds=None,\n",
       "             enable_categorical=False, eval_metric=None, feature_types=None,\n",
       "             gamma=None, gpu_id=None, grow_policy=None, importance_type=None,\n",
       "             interaction_constraints=None, learning_rate=None, max_bin=None,\n",
       "             max_cat_threshold=None, max_cat_to_onehot=None,\n",
       "             max_delta_step=None, max_depth=None, max_leaves=None,\n",
       "             min_child_weight=None, missing=nan, monotone_constraints=None,\n",
       "             n_estimators=100, n_jobs=None, num_parallel_tree=None,\n",
       "             predictor=None, random_state=42, ...)"
      ]
     },
     "execution_count": 39,
     "metadata": {},
     "output_type": "execute_result"
    }
   ],
   "source": [
    "%%time\n",
    "model.fit(X_train, np.array(y_train).ravel())"
   ]
  },
  {
   "cell_type": "markdown",
   "id": "438dc7ca-6134-429b-bd5e-4a99261c2781",
   "metadata": {},
   "source": [
    "# Evaluation"
   ]
  },
  {
   "cell_type": "code",
   "execution_count": 40,
   "id": "6d8c65fd-59b4-46c6-b92a-a59358edff95",
   "metadata": {},
   "outputs": [],
   "source": [
    "# make predictions on the test data\n",
    "predictions = model.predict(X_test)"
   ]
  },
  {
   "cell_type": "code",
   "execution_count": 41,
   "id": "ad049ca6-a774-4dc9-95f4-e981ba0ed254",
   "metadata": {},
   "outputs": [],
   "source": [
    "def pairwise_accuracy(predicted_scores, true_scores):\n",
    "    if len(predicted_scores) != len(true_scores):\n",
    "        raise ValueError(\"The length of predicted_scores and true_scores must be the same.\")\n",
    "\n",
    "    num_pairs = 0\n",
    "    num_correct_pairs = 0\n",
    "\n",
    "    for i in range(len(predicted_scores)):\n",
    "        for j in range(i + 1, len(predicted_scores)):\n",
    "            # Check if the predicted order matches the true order\n",
    "            if (predicted_scores[i] > predicted_scores[j] and true_scores[i] > true_scores[j]) or \\\n",
    "               (predicted_scores[i] < predicted_scores[j] and true_scores[i] < true_scores[j]):\n",
    "                num_correct_pairs += 1\n",
    "            num_pairs += 1\n",
    "\n",
    "    pairwise_accuracy = num_correct_pairs / num_pairs\n",
    "    return pairwise_accuracy"
   ]
  },
  {
   "cell_type": "code",
   "execution_count": 42,
   "id": "bf22664f-1602-456b-a4bc-3e56cb02a6a6",
   "metadata": {},
   "outputs": [],
   "source": [
    "df_predictions = df[(df[\"GW\"] == GAMEWEEK_TO_PREDICT) & (df[\"Season\"] == SEASON_TO_PREDICT)].reset_index(drop=True)\n",
    "df_predictions.loc[:, \"pred\"] = predictions"
   ]
  },
  {
   "cell_type": "code",
   "execution_count": 43,
   "id": "30d87d10-ae71-4fc6-aa37-455fa45be613",
   "metadata": {},
   "outputs": [],
   "source": [
    "def get_top_performer_names(df, no_top, no_gws):\n",
    "    return df.reset_index(drop=True).groupby(\"Name\")[\"total_points\"].mean().groupby(\"Name\").tail(no_gws).sort_values(ascending=False).head(no_top).index.to_list()"
   ]
  },
  {
   "cell_type": "code",
   "execution_count": 44,
   "id": "0dcbdf3b-8f16-432d-a9d4-ca4b93888927",
   "metadata": {},
   "outputs": [],
   "source": [
    "def pairwise_accuracy_topX(model, df, top_x):\n",
    "    top_performers = df[(df[\"GW\"] == GAMEWEEK_TO_PREDICT) & (df[\"Season\"] == SEASON_TO_PREDICT) & (df[\"Name\"].isin(get_top_performer_names(df, top_x, 50)))]\n",
    "    X = top_performers[features].reset_index(drop=True)\n",
    "    y = np.array(top_performers[to_predict].reset_index(drop=True))\n",
    "    preds = model.predict(X)\n",
    "    \n",
    "    return  pairwise_accuracy(preds, y)"
   ]
  },
  {
   "cell_type": "code",
   "execution_count": 45,
   "id": "6764621d-0288-45d0-95a3-36c29e6c95c4",
   "metadata": {},
   "outputs": [],
   "source": [
    "def evaluate(model, df, predictions, y_true):\n",
    "    mae = mean_absolute_error(y_true, predictions)\n",
    "    mse = mean_squared_error(y_true, predictions)\n",
    "\n",
    "    pairwise_acc = pairwise_accuracy(np.array(y_true), predictions)\n",
    "    pairwise_accuracy_top20 = pairwise_accuracy_topX(model, df, 20)\n",
    "    pairwise_accuracy_top100 = pairwise_accuracy_topX(model, df, 100)\n",
    "    \n",
    "    print(\"MAE:\", mae)\n",
    "    print(\"MSE:\", mse)\n",
    "    print(\"Pairwise accuracy:\", pairwise_acc)\n",
    "    print(\"Pairwise accuracy @TOP100:\", pairwise_accuracy_top100)\n",
    "    print(\"Pairwise accuracy @TOP20:\", pairwise_accuracy_top20)"
   ]
  },
  {
   "cell_type": "code",
   "execution_count": 46,
   "id": "2f9841b1-66d7-4b01-b878-a1a21114e9f9",
   "metadata": {},
   "outputs": [],
   "source": [
    "# df[(df[\"GW\"] == GAMEWEEK_TO_PREDICT) & (df[\"Season\"] == SEASON_TO_PREDICT) & (df[\"Name\"].isin(get_top_performer_names(df, 20, 50)))].columns"
   ]
  },
  {
   "cell_type": "code",
   "execution_count": 47,
   "id": "620d667e-0f67-4a3e-9d17-13f775d06b5e",
   "metadata": {},
   "outputs": [
    {
     "name": "stdout",
     "output_type": "stream",
     "text": [
      "MAE: 1.9888589647081163\n",
      "MSE: 8.433773662802789\n",
      "Pairwise accuracy: 0.5414141414141415\n",
      "Pairwise accuracy @TOP100: 0.5414141414141415\n",
      "Pairwise accuracy @TOP20: 0.45588235294117646\n"
     ]
    }
   ],
   "source": [
    "evaluate(model, df, predictions, y_test)"
   ]
  },
  {
   "cell_type": "code",
   "execution_count": 48,
   "id": "f5cf7c0e-b7d8-483d-b565-fc1260f26f1e",
   "metadata": {},
   "outputs": [],
   "source": [
    "# df[df[\"Name\"] == \"Abdoulaye-Doucoure\"][info]"
   ]
  },
  {
   "cell_type": "code",
   "execution_count": 49,
   "id": "1de0dbe5-2b5f-472d-9f2d-2300dab2b19c",
   "metadata": {},
   "outputs": [],
   "source": [
    "# model.predict(df[df[\"GW\"] == GAMEWEEK_TO_PREDICT][df[\"Name\"] == \"Mohamed-Salah\"][features])"
   ]
  },
  {
   "cell_type": "code",
   "execution_count": 50,
   "id": "df65adae-80ea-4963-9a60-20cd64f7ae1c",
   "metadata": {},
   "outputs": [],
   "source": [
    "preds = df_predictions[info + to_predict + [\"pred\"]].sort_values(by=[\"pred\"], ascending = False)"
   ]
  },
  {
   "cell_type": "code",
   "execution_count": 51,
   "id": "6df93768-16bb-495b-94ab-f240d07e9b4e",
   "metadata": {},
   "outputs": [
    {
     "data": {
      "text/html": [
       "<div>\n",
       "<style scoped>\n",
       "    .dataframe tbody tr th:only-of-type {\n",
       "        vertical-align: middle;\n",
       "    }\n",
       "\n",
       "    .dataframe tbody tr th {\n",
       "        vertical-align: top;\n",
       "    }\n",
       "\n",
       "    .dataframe thead th {\n",
       "        text-align: right;\n",
       "    }\n",
       "</style>\n",
       "<table border=\"1\" class=\"dataframe\">\n",
       "  <thead>\n",
       "    <tr style=\"text-align: right;\">\n",
       "      <th></th>\n",
       "      <th>Name</th>\n",
       "      <th>GW</th>\n",
       "      <th>Season</th>\n",
       "      <th>Squad</th>\n",
       "      <th>Opponent</th>\n",
       "      <th>Was Home</th>\n",
       "      <th>Team rating</th>\n",
       "      <th>Opp rating</th>\n",
       "      <th>position</th>\n",
       "      <th>total_points</th>\n",
       "      <th>pred</th>\n",
       "    </tr>\n",
       "  </thead>\n",
       "  <tbody>\n",
       "    <tr>\n",
       "      <th>23</th>\n",
       "      <td>Harry-Kane</td>\n",
       "      <td>33</td>\n",
       "      <td>2022-23</td>\n",
       "      <td>Tottenham</td>\n",
       "      <td>Manchester Utd</td>\n",
       "      <td>1.0</td>\n",
       "      <td>1820.470093</td>\n",
       "      <td>1854.124756</td>\n",
       "      <td>FWD</td>\n",
       "      <td>11.0</td>\n",
       "      <td>7.730473</td>\n",
       "    </tr>\n",
       "    <tr>\n",
       "      <th>35</th>\n",
       "      <td>Ollie-Watkins</td>\n",
       "      <td>33</td>\n",
       "      <td>2022-23</td>\n",
       "      <td>Aston Villa</td>\n",
       "      <td>Fulham</td>\n",
       "      <td>1.0</td>\n",
       "      <td>1812.839722</td>\n",
       "      <td>1725.331177</td>\n",
       "      <td>FWD</td>\n",
       "      <td>2.0</td>\n",
       "      <td>6.979200</td>\n",
       "    </tr>\n",
       "    <tr>\n",
       "      <th>1</th>\n",
       "      <td>Alexander-Isak</td>\n",
       "      <td>33</td>\n",
       "      <td>2022-23</td>\n",
       "      <td>Newcastle Utd</td>\n",
       "      <td>Everton</td>\n",
       "      <td>0.0</td>\n",
       "      <td>1871.329468</td>\n",
       "      <td>1675.308716</td>\n",
       "      <td>FWD</td>\n",
       "      <td>1.0</td>\n",
       "      <td>6.137272</td>\n",
       "    </tr>\n",
       "    <tr>\n",
       "      <th>34</th>\n",
       "      <td>Odsonne-Edouard</td>\n",
       "      <td>33</td>\n",
       "      <td>2022-23</td>\n",
       "      <td>Crystal Palace</td>\n",
       "      <td>Wolves</td>\n",
       "      <td>0.0</td>\n",
       "      <td>1756.213135</td>\n",
       "      <td>1719.007446</td>\n",
       "      <td>FWD</td>\n",
       "      <td>1.0</td>\n",
       "      <td>6.057947</td>\n",
       "    </tr>\n",
       "    <tr>\n",
       "      <th>20</th>\n",
       "      <td>Erling-Haaland</td>\n",
       "      <td>33</td>\n",
       "      <td>2022-23</td>\n",
       "      <td>Manchester City</td>\n",
       "      <td>Arsenal</td>\n",
       "      <td>1.0</td>\n",
       "      <td>2060.745117</td>\n",
       "      <td>1938.854858</td>\n",
       "      <td>FWD</td>\n",
       "      <td>14.0</td>\n",
       "      <td>5.887871</td>\n",
       "    </tr>\n",
       "    <tr>\n",
       "      <th>10</th>\n",
       "      <td>Danny-Welbeck</td>\n",
       "      <td>33</td>\n",
       "      <td>2022-23</td>\n",
       "      <td>Brighton</td>\n",
       "      <td>Nott'ham Forest</td>\n",
       "      <td>0.0</td>\n",
       "      <td>1832.275635</td>\n",
       "      <td>1625.085327</td>\n",
       "      <td>FWD</td>\n",
       "      <td>1.0</td>\n",
       "      <td>5.590204</td>\n",
       "    </tr>\n",
       "    <tr>\n",
       "      <th>14</th>\n",
       "      <td>Diogo-Jota</td>\n",
       "      <td>33</td>\n",
       "      <td>2022-23</td>\n",
       "      <td>Liverpool</td>\n",
       "      <td>West Ham</td>\n",
       "      <td>0.0</td>\n",
       "      <td>1931.599731</td>\n",
       "      <td>1774.066772</td>\n",
       "      <td>FWD</td>\n",
       "      <td>1.0</td>\n",
       "      <td>3.907359</td>\n",
       "    </tr>\n",
       "    <tr>\n",
       "      <th>24</th>\n",
       "      <td>Ivan-Toney</td>\n",
       "      <td>33</td>\n",
       "      <td>2022-23</td>\n",
       "      <td>Brentford</td>\n",
       "      <td>Chelsea</td>\n",
       "      <td>0.0</td>\n",
       "      <td>1766.355835</td>\n",
       "      <td>1807.366211</td>\n",
       "      <td>FWD</td>\n",
       "      <td>2.0</td>\n",
       "      <td>3.787186</td>\n",
       "    </tr>\n",
       "    <tr>\n",
       "      <th>16</th>\n",
       "      <td>Dominic-Solanke</td>\n",
       "      <td>33</td>\n",
       "      <td>2022-23</td>\n",
       "      <td>Bournemouth</td>\n",
       "      <td>Southampton</td>\n",
       "      <td>0.0</td>\n",
       "      <td>1660.826782</td>\n",
       "      <td>1646.325439</td>\n",
       "      <td>FWD</td>\n",
       "      <td>5.0</td>\n",
       "      <td>3.394029</td>\n",
       "    </tr>\n",
       "    <tr>\n",
       "      <th>39</th>\n",
       "      <td>Richarlison</td>\n",
       "      <td>33</td>\n",
       "      <td>2022-23</td>\n",
       "      <td>Tottenham</td>\n",
       "      <td>Manchester Utd</td>\n",
       "      <td>1.0</td>\n",
       "      <td>1820.470093</td>\n",
       "      <td>1854.124756</td>\n",
       "      <td>FWD</td>\n",
       "      <td>2.0</td>\n",
       "      <td>3.338918</td>\n",
       "    </tr>\n",
       "    <tr>\n",
       "      <th>8</th>\n",
       "      <td>Che-Adams</td>\n",
       "      <td>33</td>\n",
       "      <td>2022-23</td>\n",
       "      <td>Southampton</td>\n",
       "      <td>Bournemouth</td>\n",
       "      <td>1.0</td>\n",
       "      <td>1646.325439</td>\n",
       "      <td>1660.826782</td>\n",
       "      <td>FWD</td>\n",
       "      <td>1.0</td>\n",
       "      <td>3.292898</td>\n",
       "    </tr>\n",
       "    <tr>\n",
       "      <th>21</th>\n",
       "      <td>Gabriel-Jesus</td>\n",
       "      <td>33</td>\n",
       "      <td>2022-23</td>\n",
       "      <td>Arsenal</td>\n",
       "      <td>Manchester City</td>\n",
       "      <td>0.0</td>\n",
       "      <td>1938.854858</td>\n",
       "      <td>2060.745117</td>\n",
       "      <td>FWD</td>\n",
       "      <td>2.0</td>\n",
       "      <td>3.174877</td>\n",
       "    </tr>\n",
       "    <tr>\n",
       "      <th>12</th>\n",
       "      <td>Deniz-Undav</td>\n",
       "      <td>33</td>\n",
       "      <td>2022-23</td>\n",
       "      <td>Brighton</td>\n",
       "      <td>Nott'ham Forest</td>\n",
       "      <td>0.0</td>\n",
       "      <td>1832.275635</td>\n",
       "      <td>1625.085327</td>\n",
       "      <td>FWD</td>\n",
       "      <td>1.0</td>\n",
       "      <td>3.109046</td>\n",
       "    </tr>\n",
       "    <tr>\n",
       "      <th>5</th>\n",
       "      <td>Bryan-Mbeumo</td>\n",
       "      <td>33</td>\n",
       "      <td>2022-23</td>\n",
       "      <td>Brentford</td>\n",
       "      <td>Chelsea</td>\n",
       "      <td>0.0</td>\n",
       "      <td>1766.355835</td>\n",
       "      <td>1807.366211</td>\n",
       "      <td>FWD</td>\n",
       "      <td>6.0</td>\n",
       "      <td>3.087487</td>\n",
       "    </tr>\n",
       "    <tr>\n",
       "      <th>6</th>\n",
       "      <td>Callum-Wilson</td>\n",
       "      <td>33</td>\n",
       "      <td>2022-23</td>\n",
       "      <td>Newcastle Utd</td>\n",
       "      <td>Everton</td>\n",
       "      <td>0.0</td>\n",
       "      <td>1871.329468</td>\n",
       "      <td>1675.308716</td>\n",
       "      <td>FWD</td>\n",
       "      <td>13.0</td>\n",
       "      <td>2.799208</td>\n",
       "    </tr>\n",
       "    <tr>\n",
       "      <th>36</th>\n",
       "      <td>Patrick-Bamford</td>\n",
       "      <td>33</td>\n",
       "      <td>2022-23</td>\n",
       "      <td>Leeds United</td>\n",
       "      <td>Leicester City</td>\n",
       "      <td>1.0</td>\n",
       "      <td>1677.200195</td>\n",
       "      <td>1723.670654</td>\n",
       "      <td>FWD</td>\n",
       "      <td>2.0</td>\n",
       "      <td>2.732481</td>\n",
       "    </tr>\n",
       "    <tr>\n",
       "      <th>37</th>\n",
       "      <td>Patson-Daka</td>\n",
       "      <td>33</td>\n",
       "      <td>2022-23</td>\n",
       "      <td>Leicester City</td>\n",
       "      <td>Leeds United</td>\n",
       "      <td>0.0</td>\n",
       "      <td>1723.670654</td>\n",
       "      <td>1677.200195</td>\n",
       "      <td>FWD</td>\n",
       "      <td>1.0</td>\n",
       "      <td>2.363529</td>\n",
       "    </tr>\n",
       "    <tr>\n",
       "      <th>25</th>\n",
       "      <td>Jamie-Vardy</td>\n",
       "      <td>33</td>\n",
       "      <td>2022-23</td>\n",
       "      <td>Leicester City</td>\n",
       "      <td>Leeds United</td>\n",
       "      <td>0.0</td>\n",
       "      <td>1723.670654</td>\n",
       "      <td>1677.200195</td>\n",
       "      <td>FWD</td>\n",
       "      <td>7.0</td>\n",
       "      <td>2.246466</td>\n",
       "    </tr>\n",
       "    <tr>\n",
       "      <th>32</th>\n",
       "      <td>Michail-Antonio</td>\n",
       "      <td>33</td>\n",
       "      <td>2022-23</td>\n",
       "      <td>West Ham</td>\n",
       "      <td>Liverpool</td>\n",
       "      <td>1.0</td>\n",
       "      <td>1774.066772</td>\n",
       "      <td>1931.599731</td>\n",
       "      <td>FWD</td>\n",
       "      <td>5.0</td>\n",
       "      <td>2.091097</td>\n",
       "    </tr>\n",
       "    <tr>\n",
       "      <th>4</th>\n",
       "      <td>Brennan-Johnson</td>\n",
       "      <td>33</td>\n",
       "      <td>2022-23</td>\n",
       "      <td>Nott'ham Forest</td>\n",
       "      <td>Brighton</td>\n",
       "      <td>1.0</td>\n",
       "      <td>1625.085327</td>\n",
       "      <td>1832.275635</td>\n",
       "      <td>FWD</td>\n",
       "      <td>0.0</td>\n",
       "      <td>1.981198</td>\n",
       "    </tr>\n",
       "    <tr>\n",
       "      <th>31</th>\n",
       "      <td>Kieffer-Moore</td>\n",
       "      <td>33</td>\n",
       "      <td>2022-23</td>\n",
       "      <td>Bournemouth</td>\n",
       "      <td>Southampton</td>\n",
       "      <td>0.0</td>\n",
       "      <td>1660.826782</td>\n",
       "      <td>1646.325439</td>\n",
       "      <td>FWD</td>\n",
       "      <td>1.0</td>\n",
       "      <td>1.893461</td>\n",
       "    </tr>\n",
       "    <tr>\n",
       "      <th>43</th>\n",
       "      <td>Taiwo-Awoniyi</td>\n",
       "      <td>33</td>\n",
       "      <td>2022-23</td>\n",
       "      <td>Nott'ham Forest</td>\n",
       "      <td>Brighton</td>\n",
       "      <td>1.0</td>\n",
       "      <td>1625.085327</td>\n",
       "      <td>1832.275635</td>\n",
       "      <td>FWD</td>\n",
       "      <td>5.0</td>\n",
       "      <td>1.796261</td>\n",
       "    </tr>\n",
       "    <tr>\n",
       "      <th>11</th>\n",
       "      <td>Degnand-Gnonto</td>\n",
       "      <td>33</td>\n",
       "      <td>2022-23</td>\n",
       "      <td>Leeds United</td>\n",
       "      <td>Leicester City</td>\n",
       "      <td>1.0</td>\n",
       "      <td>1677.200195</td>\n",
       "      <td>1723.670654</td>\n",
       "      <td>FWD</td>\n",
       "      <td>0.0</td>\n",
       "      <td>1.793892</td>\n",
       "    </tr>\n",
       "    <tr>\n",
       "      <th>19</th>\n",
       "      <td>Emmanuel-Dennis</td>\n",
       "      <td>33</td>\n",
       "      <td>2022-23</td>\n",
       "      <td>Nott'ham Forest</td>\n",
       "      <td>Brighton</td>\n",
       "      <td>1.0</td>\n",
       "      <td>1625.085327</td>\n",
       "      <td>1832.275635</td>\n",
       "      <td>FWD</td>\n",
       "      <td>0.0</td>\n",
       "      <td>1.767962</td>\n",
       "    </tr>\n",
       "    <tr>\n",
       "      <th>15</th>\n",
       "      <td>Dominic-Calvert-Lewin</td>\n",
       "      <td>33</td>\n",
       "      <td>2022-23</td>\n",
       "      <td>Everton</td>\n",
       "      <td>Newcastle Utd</td>\n",
       "      <td>1.0</td>\n",
       "      <td>1675.308716</td>\n",
       "      <td>1871.329468</td>\n",
       "      <td>FWD</td>\n",
       "      <td>2.0</td>\n",
       "      <td>1.733693</td>\n",
       "    </tr>\n",
       "    <tr>\n",
       "      <th>30</th>\n",
       "      <td>Kelechi-Iheanacho</td>\n",
       "      <td>33</td>\n",
       "      <td>2022-23</td>\n",
       "      <td>Leicester City</td>\n",
       "      <td>Leeds United</td>\n",
       "      <td>0.0</td>\n",
       "      <td>1723.670654</td>\n",
       "      <td>1677.200195</td>\n",
       "      <td>FWD</td>\n",
       "      <td>2.0</td>\n",
       "      <td>1.715994</td>\n",
       "    </tr>\n",
       "    <tr>\n",
       "      <th>33</th>\n",
       "      <td>Neal-Maupay</td>\n",
       "      <td>33</td>\n",
       "      <td>2022-23</td>\n",
       "      <td>Everton</td>\n",
       "      <td>Newcastle Utd</td>\n",
       "      <td>1.0</td>\n",
       "      <td>1675.308716</td>\n",
       "      <td>1871.329468</td>\n",
       "      <td>FWD</td>\n",
       "      <td>0.0</td>\n",
       "      <td>1.498970</td>\n",
       "    </tr>\n",
       "    <tr>\n",
       "      <th>26</th>\n",
       "      <td>Jean-Philippe-Mateta</td>\n",
       "      <td>33</td>\n",
       "      <td>2022-23</td>\n",
       "      <td>Crystal Palace</td>\n",
       "      <td>Wolves</td>\n",
       "      <td>0.0</td>\n",
       "      <td>1756.213135</td>\n",
       "      <td>1719.007446</td>\n",
       "      <td>FWD</td>\n",
       "      <td>1.0</td>\n",
       "      <td>1.383634</td>\n",
       "    </tr>\n",
       "    <tr>\n",
       "      <th>2</th>\n",
       "      <td>Anthony-Martial</td>\n",
       "      <td>33</td>\n",
       "      <td>2022-23</td>\n",
       "      <td>Manchester Utd</td>\n",
       "      <td>Tottenham</td>\n",
       "      <td>0.0</td>\n",
       "      <td>1854.124756</td>\n",
       "      <td>1820.470093</td>\n",
       "      <td>FWD</td>\n",
       "      <td>1.0</td>\n",
       "      <td>1.380929</td>\n",
       "    </tr>\n",
       "    <tr>\n",
       "      <th>29</th>\n",
       "      <td>Julio-Cesar-Enciso</td>\n",
       "      <td>33</td>\n",
       "      <td>2022-23</td>\n",
       "      <td>Brighton</td>\n",
       "      <td>Nott'ham Forest</td>\n",
       "      <td>0.0</td>\n",
       "      <td>1832.275635</td>\n",
       "      <td>1625.085327</td>\n",
       "      <td>FWD</td>\n",
       "      <td>2.0</td>\n",
       "      <td>1.364351</td>\n",
       "    </tr>\n",
       "  </tbody>\n",
       "</table>\n",
       "</div>"
      ],
      "text/plain": [
       "                     Name  GW   Season            Squad         Opponent  \\\n",
       "23             Harry-Kane  33  2022-23        Tottenham   Manchester Utd   \n",
       "35          Ollie-Watkins  33  2022-23      Aston Villa           Fulham   \n",
       "1          Alexander-Isak  33  2022-23    Newcastle Utd          Everton   \n",
       "34        Odsonne-Edouard  33  2022-23   Crystal Palace           Wolves   \n",
       "20         Erling-Haaland  33  2022-23  Manchester City          Arsenal   \n",
       "10          Danny-Welbeck  33  2022-23         Brighton  Nott'ham Forest   \n",
       "14             Diogo-Jota  33  2022-23        Liverpool         West Ham   \n",
       "24             Ivan-Toney  33  2022-23        Brentford          Chelsea   \n",
       "16        Dominic-Solanke  33  2022-23      Bournemouth      Southampton   \n",
       "39            Richarlison  33  2022-23        Tottenham   Manchester Utd   \n",
       "8               Che-Adams  33  2022-23      Southampton      Bournemouth   \n",
       "21          Gabriel-Jesus  33  2022-23          Arsenal  Manchester City   \n",
       "12            Deniz-Undav  33  2022-23         Brighton  Nott'ham Forest   \n",
       "5            Bryan-Mbeumo  33  2022-23        Brentford          Chelsea   \n",
       "6           Callum-Wilson  33  2022-23    Newcastle Utd          Everton   \n",
       "36        Patrick-Bamford  33  2022-23     Leeds United   Leicester City   \n",
       "37            Patson-Daka  33  2022-23   Leicester City     Leeds United   \n",
       "25            Jamie-Vardy  33  2022-23   Leicester City     Leeds United   \n",
       "32        Michail-Antonio  33  2022-23         West Ham        Liverpool   \n",
       "4         Brennan-Johnson  33  2022-23  Nott'ham Forest         Brighton   \n",
       "31          Kieffer-Moore  33  2022-23      Bournemouth      Southampton   \n",
       "43          Taiwo-Awoniyi  33  2022-23  Nott'ham Forest         Brighton   \n",
       "11         Degnand-Gnonto  33  2022-23     Leeds United   Leicester City   \n",
       "19        Emmanuel-Dennis  33  2022-23  Nott'ham Forest         Brighton   \n",
       "15  Dominic-Calvert-Lewin  33  2022-23          Everton    Newcastle Utd   \n",
       "30      Kelechi-Iheanacho  33  2022-23   Leicester City     Leeds United   \n",
       "33            Neal-Maupay  33  2022-23          Everton    Newcastle Utd   \n",
       "26   Jean-Philippe-Mateta  33  2022-23   Crystal Palace           Wolves   \n",
       "2         Anthony-Martial  33  2022-23   Manchester Utd        Tottenham   \n",
       "29     Julio-Cesar-Enciso  33  2022-23         Brighton  Nott'ham Forest   \n",
       "\n",
       "    Was Home  Team rating   Opp rating position  total_points      pred  \n",
       "23       1.0  1820.470093  1854.124756      FWD          11.0  7.730473  \n",
       "35       1.0  1812.839722  1725.331177      FWD           2.0  6.979200  \n",
       "1        0.0  1871.329468  1675.308716      FWD           1.0  6.137272  \n",
       "34       0.0  1756.213135  1719.007446      FWD           1.0  6.057947  \n",
       "20       1.0  2060.745117  1938.854858      FWD          14.0  5.887871  \n",
       "10       0.0  1832.275635  1625.085327      FWD           1.0  5.590204  \n",
       "14       0.0  1931.599731  1774.066772      FWD           1.0  3.907359  \n",
       "24       0.0  1766.355835  1807.366211      FWD           2.0  3.787186  \n",
       "16       0.0  1660.826782  1646.325439      FWD           5.0  3.394029  \n",
       "39       1.0  1820.470093  1854.124756      FWD           2.0  3.338918  \n",
       "8        1.0  1646.325439  1660.826782      FWD           1.0  3.292898  \n",
       "21       0.0  1938.854858  2060.745117      FWD           2.0  3.174877  \n",
       "12       0.0  1832.275635  1625.085327      FWD           1.0  3.109046  \n",
       "5        0.0  1766.355835  1807.366211      FWD           6.0  3.087487  \n",
       "6        0.0  1871.329468  1675.308716      FWD          13.0  2.799208  \n",
       "36       1.0  1677.200195  1723.670654      FWD           2.0  2.732481  \n",
       "37       0.0  1723.670654  1677.200195      FWD           1.0  2.363529  \n",
       "25       0.0  1723.670654  1677.200195      FWD           7.0  2.246466  \n",
       "32       1.0  1774.066772  1931.599731      FWD           5.0  2.091097  \n",
       "4        1.0  1625.085327  1832.275635      FWD           0.0  1.981198  \n",
       "31       0.0  1660.826782  1646.325439      FWD           1.0  1.893461  \n",
       "43       1.0  1625.085327  1832.275635      FWD           5.0  1.796261  \n",
       "11       1.0  1677.200195  1723.670654      FWD           0.0  1.793892  \n",
       "19       1.0  1625.085327  1832.275635      FWD           0.0  1.767962  \n",
       "15       1.0  1675.308716  1871.329468      FWD           2.0  1.733693  \n",
       "30       0.0  1723.670654  1677.200195      FWD           2.0  1.715994  \n",
       "33       1.0  1675.308716  1871.329468      FWD           0.0  1.498970  \n",
       "26       0.0  1756.213135  1719.007446      FWD           1.0  1.383634  \n",
       "2        0.0  1854.124756  1820.470093      FWD           1.0  1.380929  \n",
       "29       0.0  1832.275635  1625.085327      FWD           2.0  1.364351  "
      ]
     },
     "execution_count": 51,
     "metadata": {},
     "output_type": "execute_result"
    }
   ],
   "source": [
    "preds.head(30)"
   ]
  },
  {
   "cell_type": "code",
   "execution_count": 52,
   "id": "3fe1c712-ea38-4a91-9717-d4f520ffcb82",
   "metadata": {},
   "outputs": [
    {
     "data": {
      "text/html": [
       "<div>\n",
       "<style scoped>\n",
       "    .dataframe tbody tr th:only-of-type {\n",
       "        vertical-align: middle;\n",
       "    }\n",
       "\n",
       "    .dataframe tbody tr th {\n",
       "        vertical-align: top;\n",
       "    }\n",
       "\n",
       "    .dataframe thead th {\n",
       "        text-align: right;\n",
       "    }\n",
       "</style>\n",
       "<table border=\"1\" class=\"dataframe\">\n",
       "  <thead>\n",
       "    <tr style=\"text-align: right;\">\n",
       "      <th></th>\n",
       "      <th>Name</th>\n",
       "      <th>GW</th>\n",
       "      <th>Season</th>\n",
       "      <th>Squad</th>\n",
       "      <th>Opponent</th>\n",
       "      <th>Was Home</th>\n",
       "      <th>Team rating</th>\n",
       "      <th>Opp rating</th>\n",
       "      <th>position</th>\n",
       "      <th>total_points</th>\n",
       "      <th>pred</th>\n",
       "    </tr>\n",
       "  </thead>\n",
       "  <tbody>\n",
       "    <tr>\n",
       "      <th>20</th>\n",
       "      <td>Erling-Haaland</td>\n",
       "      <td>33</td>\n",
       "      <td>2022-23</td>\n",
       "      <td>Manchester City</td>\n",
       "      <td>Arsenal</td>\n",
       "      <td>1.0</td>\n",
       "      <td>2060.745117</td>\n",
       "      <td>1938.854858</td>\n",
       "      <td>FWD</td>\n",
       "      <td>14.0</td>\n",
       "      <td>5.887871</td>\n",
       "    </tr>\n",
       "    <tr>\n",
       "      <th>28</th>\n",
       "      <td>Julian-Alvarez</td>\n",
       "      <td>33</td>\n",
       "      <td>2022-23</td>\n",
       "      <td>Manchester City</td>\n",
       "      <td>Arsenal</td>\n",
       "      <td>1.0</td>\n",
       "      <td>2060.745117</td>\n",
       "      <td>1938.854858</td>\n",
       "      <td>FWD</td>\n",
       "      <td>1.0</td>\n",
       "      <td>0.780339</td>\n",
       "    </tr>\n",
       "  </tbody>\n",
       "</table>\n",
       "</div>"
      ],
      "text/plain": [
       "              Name  GW   Season            Squad Opponent  Was Home  \\\n",
       "20  Erling-Haaland  33  2022-23  Manchester City  Arsenal       1.0   \n",
       "28  Julian-Alvarez  33  2022-23  Manchester City  Arsenal       1.0   \n",
       "\n",
       "    Team rating   Opp rating position  total_points      pred  \n",
       "20  2060.745117  1938.854858      FWD          14.0  5.887871  \n",
       "28  2060.745117  1938.854858      FWD           1.0  0.780339  "
      ]
     },
     "execution_count": 52,
     "metadata": {},
     "output_type": "execute_result"
    }
   ],
   "source": [
    "preds[preds[\"Squad\"] == \"Manchester City\"].head(20)"
   ]
  },
  {
   "cell_type": "code",
   "execution_count": 53,
   "id": "59f25158-05b0-41d2-ad7d-2eb99aafc1e2",
   "metadata": {},
   "outputs": [
    {
     "data": {
      "text/html": [
       "<div>\n",
       "<style scoped>\n",
       "    .dataframe tbody tr th:only-of-type {\n",
       "        vertical-align: middle;\n",
       "    }\n",
       "\n",
       "    .dataframe tbody tr th {\n",
       "        vertical-align: top;\n",
       "    }\n",
       "\n",
       "    .dataframe thead th {\n",
       "        text-align: right;\n",
       "    }\n",
       "</style>\n",
       "<table border=\"1\" class=\"dataframe\">\n",
       "  <thead>\n",
       "    <tr style=\"text-align: right;\">\n",
       "      <th></th>\n",
       "      <th>Name</th>\n",
       "      <th>GW</th>\n",
       "      <th>Season</th>\n",
       "      <th>Squad</th>\n",
       "      <th>Opponent</th>\n",
       "      <th>Was Home</th>\n",
       "      <th>Team rating</th>\n",
       "      <th>Opp rating</th>\n",
       "      <th>position</th>\n",
       "      <th>total_points</th>\n",
       "      <th>pred</th>\n",
       "    </tr>\n",
       "  </thead>\n",
       "  <tbody>\n",
       "    <tr>\n",
       "      <th>23</th>\n",
       "      <td>Harry-Kane</td>\n",
       "      <td>33</td>\n",
       "      <td>2022-23</td>\n",
       "      <td>Tottenham</td>\n",
       "      <td>Manchester Utd</td>\n",
       "      <td>1.0</td>\n",
       "      <td>1820.470093</td>\n",
       "      <td>1854.124756</td>\n",
       "      <td>FWD</td>\n",
       "      <td>11.0</td>\n",
       "      <td>7.730473</td>\n",
       "    </tr>\n",
       "    <tr>\n",
       "      <th>35</th>\n",
       "      <td>Ollie-Watkins</td>\n",
       "      <td>33</td>\n",
       "      <td>2022-23</td>\n",
       "      <td>Aston Villa</td>\n",
       "      <td>Fulham</td>\n",
       "      <td>1.0</td>\n",
       "      <td>1812.839722</td>\n",
       "      <td>1725.331177</td>\n",
       "      <td>FWD</td>\n",
       "      <td>2.0</td>\n",
       "      <td>6.979200</td>\n",
       "    </tr>\n",
       "    <tr>\n",
       "      <th>1</th>\n",
       "      <td>Alexander-Isak</td>\n",
       "      <td>33</td>\n",
       "      <td>2022-23</td>\n",
       "      <td>Newcastle Utd</td>\n",
       "      <td>Everton</td>\n",
       "      <td>0.0</td>\n",
       "      <td>1871.329468</td>\n",
       "      <td>1675.308716</td>\n",
       "      <td>FWD</td>\n",
       "      <td>1.0</td>\n",
       "      <td>6.137272</td>\n",
       "    </tr>\n",
       "    <tr>\n",
       "      <th>34</th>\n",
       "      <td>Odsonne-Edouard</td>\n",
       "      <td>33</td>\n",
       "      <td>2022-23</td>\n",
       "      <td>Crystal Palace</td>\n",
       "      <td>Wolves</td>\n",
       "      <td>0.0</td>\n",
       "      <td>1756.213135</td>\n",
       "      <td>1719.007446</td>\n",
       "      <td>FWD</td>\n",
       "      <td>1.0</td>\n",
       "      <td>6.057947</td>\n",
       "    </tr>\n",
       "    <tr>\n",
       "      <th>20</th>\n",
       "      <td>Erling-Haaland</td>\n",
       "      <td>33</td>\n",
       "      <td>2022-23</td>\n",
       "      <td>Manchester City</td>\n",
       "      <td>Arsenal</td>\n",
       "      <td>1.0</td>\n",
       "      <td>2060.745117</td>\n",
       "      <td>1938.854858</td>\n",
       "      <td>FWD</td>\n",
       "      <td>14.0</td>\n",
       "      <td>5.887871</td>\n",
       "    </tr>\n",
       "    <tr>\n",
       "      <th>10</th>\n",
       "      <td>Danny-Welbeck</td>\n",
       "      <td>33</td>\n",
       "      <td>2022-23</td>\n",
       "      <td>Brighton</td>\n",
       "      <td>Nott'ham Forest</td>\n",
       "      <td>0.0</td>\n",
       "      <td>1832.275635</td>\n",
       "      <td>1625.085327</td>\n",
       "      <td>FWD</td>\n",
       "      <td>1.0</td>\n",
       "      <td>5.590204</td>\n",
       "    </tr>\n",
       "    <tr>\n",
       "      <th>14</th>\n",
       "      <td>Diogo-Jota</td>\n",
       "      <td>33</td>\n",
       "      <td>2022-23</td>\n",
       "      <td>Liverpool</td>\n",
       "      <td>West Ham</td>\n",
       "      <td>0.0</td>\n",
       "      <td>1931.599731</td>\n",
       "      <td>1774.066772</td>\n",
       "      <td>FWD</td>\n",
       "      <td>1.0</td>\n",
       "      <td>3.907359</td>\n",
       "    </tr>\n",
       "    <tr>\n",
       "      <th>24</th>\n",
       "      <td>Ivan-Toney</td>\n",
       "      <td>33</td>\n",
       "      <td>2022-23</td>\n",
       "      <td>Brentford</td>\n",
       "      <td>Chelsea</td>\n",
       "      <td>0.0</td>\n",
       "      <td>1766.355835</td>\n",
       "      <td>1807.366211</td>\n",
       "      <td>FWD</td>\n",
       "      <td>2.0</td>\n",
       "      <td>3.787186</td>\n",
       "    </tr>\n",
       "    <tr>\n",
       "      <th>16</th>\n",
       "      <td>Dominic-Solanke</td>\n",
       "      <td>33</td>\n",
       "      <td>2022-23</td>\n",
       "      <td>Bournemouth</td>\n",
       "      <td>Southampton</td>\n",
       "      <td>0.0</td>\n",
       "      <td>1660.826782</td>\n",
       "      <td>1646.325439</td>\n",
       "      <td>FWD</td>\n",
       "      <td>5.0</td>\n",
       "      <td>3.394029</td>\n",
       "    </tr>\n",
       "    <tr>\n",
       "      <th>39</th>\n",
       "      <td>Richarlison</td>\n",
       "      <td>33</td>\n",
       "      <td>2022-23</td>\n",
       "      <td>Tottenham</td>\n",
       "      <td>Manchester Utd</td>\n",
       "      <td>1.0</td>\n",
       "      <td>1820.470093</td>\n",
       "      <td>1854.124756</td>\n",
       "      <td>FWD</td>\n",
       "      <td>2.0</td>\n",
       "      <td>3.338918</td>\n",
       "    </tr>\n",
       "    <tr>\n",
       "      <th>8</th>\n",
       "      <td>Che-Adams</td>\n",
       "      <td>33</td>\n",
       "      <td>2022-23</td>\n",
       "      <td>Southampton</td>\n",
       "      <td>Bournemouth</td>\n",
       "      <td>1.0</td>\n",
       "      <td>1646.325439</td>\n",
       "      <td>1660.826782</td>\n",
       "      <td>FWD</td>\n",
       "      <td>1.0</td>\n",
       "      <td>3.292898</td>\n",
       "    </tr>\n",
       "    <tr>\n",
       "      <th>21</th>\n",
       "      <td>Gabriel-Jesus</td>\n",
       "      <td>33</td>\n",
       "      <td>2022-23</td>\n",
       "      <td>Arsenal</td>\n",
       "      <td>Manchester City</td>\n",
       "      <td>0.0</td>\n",
       "      <td>1938.854858</td>\n",
       "      <td>2060.745117</td>\n",
       "      <td>FWD</td>\n",
       "      <td>2.0</td>\n",
       "      <td>3.174877</td>\n",
       "    </tr>\n",
       "    <tr>\n",
       "      <th>12</th>\n",
       "      <td>Deniz-Undav</td>\n",
       "      <td>33</td>\n",
       "      <td>2022-23</td>\n",
       "      <td>Brighton</td>\n",
       "      <td>Nott'ham Forest</td>\n",
       "      <td>0.0</td>\n",
       "      <td>1832.275635</td>\n",
       "      <td>1625.085327</td>\n",
       "      <td>FWD</td>\n",
       "      <td>1.0</td>\n",
       "      <td>3.109046</td>\n",
       "    </tr>\n",
       "    <tr>\n",
       "      <th>5</th>\n",
       "      <td>Bryan-Mbeumo</td>\n",
       "      <td>33</td>\n",
       "      <td>2022-23</td>\n",
       "      <td>Brentford</td>\n",
       "      <td>Chelsea</td>\n",
       "      <td>0.0</td>\n",
       "      <td>1766.355835</td>\n",
       "      <td>1807.366211</td>\n",
       "      <td>FWD</td>\n",
       "      <td>6.0</td>\n",
       "      <td>3.087487</td>\n",
       "    </tr>\n",
       "    <tr>\n",
       "      <th>6</th>\n",
       "      <td>Callum-Wilson</td>\n",
       "      <td>33</td>\n",
       "      <td>2022-23</td>\n",
       "      <td>Newcastle Utd</td>\n",
       "      <td>Everton</td>\n",
       "      <td>0.0</td>\n",
       "      <td>1871.329468</td>\n",
       "      <td>1675.308716</td>\n",
       "      <td>FWD</td>\n",
       "      <td>13.0</td>\n",
       "      <td>2.799208</td>\n",
       "    </tr>\n",
       "  </tbody>\n",
       "</table>\n",
       "</div>"
      ],
      "text/plain": [
       "               Name  GW   Season            Squad         Opponent  Was Home  \\\n",
       "23       Harry-Kane  33  2022-23        Tottenham   Manchester Utd       1.0   \n",
       "35    Ollie-Watkins  33  2022-23      Aston Villa           Fulham       1.0   \n",
       "1    Alexander-Isak  33  2022-23    Newcastle Utd          Everton       0.0   \n",
       "34  Odsonne-Edouard  33  2022-23   Crystal Palace           Wolves       0.0   \n",
       "20   Erling-Haaland  33  2022-23  Manchester City          Arsenal       1.0   \n",
       "10    Danny-Welbeck  33  2022-23         Brighton  Nott'ham Forest       0.0   \n",
       "14       Diogo-Jota  33  2022-23        Liverpool         West Ham       0.0   \n",
       "24       Ivan-Toney  33  2022-23        Brentford          Chelsea       0.0   \n",
       "16  Dominic-Solanke  33  2022-23      Bournemouth      Southampton       0.0   \n",
       "39      Richarlison  33  2022-23        Tottenham   Manchester Utd       1.0   \n",
       "8         Che-Adams  33  2022-23      Southampton      Bournemouth       1.0   \n",
       "21    Gabriel-Jesus  33  2022-23          Arsenal  Manchester City       0.0   \n",
       "12      Deniz-Undav  33  2022-23         Brighton  Nott'ham Forest       0.0   \n",
       "5      Bryan-Mbeumo  33  2022-23        Brentford          Chelsea       0.0   \n",
       "6     Callum-Wilson  33  2022-23    Newcastle Utd          Everton       0.0   \n",
       "\n",
       "    Team rating   Opp rating position  total_points      pred  \n",
       "23  1820.470093  1854.124756      FWD          11.0  7.730473  \n",
       "35  1812.839722  1725.331177      FWD           2.0  6.979200  \n",
       "1   1871.329468  1675.308716      FWD           1.0  6.137272  \n",
       "34  1756.213135  1719.007446      FWD           1.0  6.057947  \n",
       "20  2060.745117  1938.854858      FWD          14.0  5.887871  \n",
       "10  1832.275635  1625.085327      FWD           1.0  5.590204  \n",
       "14  1931.599731  1774.066772      FWD           1.0  3.907359  \n",
       "24  1766.355835  1807.366211      FWD           2.0  3.787186  \n",
       "16  1660.826782  1646.325439      FWD           5.0  3.394029  \n",
       "39  1820.470093  1854.124756      FWD           2.0  3.338918  \n",
       "8   1646.325439  1660.826782      FWD           1.0  3.292898  \n",
       "21  1938.854858  2060.745117      FWD           2.0  3.174877  \n",
       "12  1832.275635  1625.085327      FWD           1.0  3.109046  \n",
       "5   1766.355835  1807.366211      FWD           6.0  3.087487  \n",
       "6   1871.329468  1675.308716      FWD          13.0  2.799208  "
      ]
     },
     "execution_count": 53,
     "metadata": {},
     "output_type": "execute_result"
    }
   ],
   "source": [
    "preds[preds[\"position\"] == \"FWD\"].head(15)"
   ]
  },
  {
   "cell_type": "markdown",
   "id": "3ed6461a-a67a-4068-984b-c17e9a1d8c7b",
   "metadata": {},
   "source": [
    "# Feature importance and influence"
   ]
  },
  {
   "cell_type": "code",
   "execution_count": 54,
   "id": "7f0acc94-8661-4933-926c-859679ba5d4f",
   "metadata": {},
   "outputs": [],
   "source": [
    "# plot_importance(model)"
   ]
  },
  {
   "cell_type": "code",
   "execution_count": 55,
   "id": "fc68979d-f8e7-4f44-ae50-22ef7b92b9e1",
   "metadata": {},
   "outputs": [],
   "source": [
    "# fig, ax = plt.subplots(figsize=(16, 8))\n",
    "# plot_partial_dependence(model, X_train, features, ax=ax)"
   ]
  },
  {
   "cell_type": "code",
   "execution_count": 56,
   "id": "c90e9b27-43c3-4253-830d-53c3532c5197",
   "metadata": {},
   "outputs": [],
   "source": [
    "explainer = shap.Explainer(model.predict, X_test)\n",
    "shap_values = explainer(X_test)"
   ]
  },
  {
   "cell_type": "code",
   "execution_count": 57,
   "id": "f73757e7-4125-4657-8b78-914b5324a9e9",
   "metadata": {},
   "outputs": [
    {
     "data": {
      "image/png": "[encoded data removed]",
      "text/plain": [
       "<Figure size 576x468 with 1 Axes>"
      ]
     },
     "metadata": {},
     "output_type": "display_data"
    }
   ],
   "source": [
    "shap.plots.bar(shap_values)"
   ]
  },
  {
   "cell_type": "code",
   "execution_count": 58,
   "id": "4d1a6591-e086-4156-a51a-3ccfd3489561",
   "metadata": {},
   "outputs": [
    {
     "data": {
      "image/png": "[encoded data removed]",
      "text/plain": [
       "<Figure size 576x396 with 2 Axes>"
      ]
     },
     "metadata": {
      "needs_background": "light"
     },
     "output_type": "display_data"
    }
   ],
   "source": [
    "shap.plots.beeswarm(shap_values)"
   ]
  },
  {
   "cell_type": "code",
   "execution_count": 59,
   "id": "b1d832a7-6e45-4286-a102-029a56916c45",
   "metadata": {},
   "outputs": [
    {
     "data": {
      "image/png": "[encoded data removed]",
      "text/plain": [
       "<Figure size 576x648 with 1 Axes>"
      ]
     },
     "metadata": {},
     "output_type": "display_data"
    }
   ],
   "source": [
    "shap.plots.bar(shap_values[1], max_display=15)"
   ]
  }
 ],
 "metadata": {
  "kernelspec": {
   "display_name": "Python 3 (ipykernel)",
   "language": "python",
   "name": "python3"
  },
  "language_info": {
   "codemirror_mode": {
    "name": "ipython",
    "version": 3
   },
   "file_extension": ".py",
   "mimetype": "text/x-python",
   "name": "python",
   "nbconvert_exporter": "python",
   "pygments_lexer": "ipython3",
   "version": "3.8.0"
  }
 },
 "nbformat": 4,
 "nbformat_minor": 5
}
