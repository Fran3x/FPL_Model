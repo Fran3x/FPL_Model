{
 "cells": [
  {
   "cell_type": "markdown",
   "id": "e61cf721-96f7-4f7c-a5c5-343917267d91",
   "metadata": {},
   "source": [
    "\n",
    "# Imports"
   ]
  },
  {
   "cell_type": "code",
   "execution_count": 1,
   "id": "c2b67ee7-f81a-4a96-bd38-8149efc725cf",
   "metadata": {},
   "outputs": [],
   "source": [
    "import os\n",
    "os.chdir(\"D:\\PulpitE\\FPL_ML\")"
   ]
  },
  {
   "cell_type": "code",
   "execution_count": 2,
   "id": "3f447fc0-41e6-4c50-967e-2cc314a1e81f",
   "metadata": {},
   "outputs": [],
   "source": [
    "import matplotlib.pyplot as plt\n",
    "import pandas as pd\n",
    "import numpy as np\n",
    "import shap\n",
    "\n",
    "from sklearn.ensemble import GradientBoostingRegressor\n",
    "from sklearn.linear_model import SGDRegressor\n",
    "from xgboost import XGBRegressor\n",
    "from sklearn.ensemble import AdaBoostRegressor\n",
    "from sklearn.linear_model import ElasticNet\n",
    "from sklearn.neighbors import KNeighborsRegressor\n",
    "from sklearn.ensemble import RandomForestRegressor\n",
    "from sklearn.svm import SVR\n",
    "from lightgbm import LGBMRegressor\n",
    "\n",
    "from statistics import mean\n",
    "from scipy.stats import tmean\n",
    "from sklearn.metrics import mean_absolute_error, mean_squared_error\n",
    "\n",
    "from sklearn.preprocessing import LabelEncoder\n",
    "from xgboost import plot_importance\n",
    "from sklearn.inspection import plot_partial_dependence"
   ]
  },
  {
   "cell_type": "code",
   "execution_count": 3,
   "id": "217927df-909e-4a95-9e59-651d57e312db",
   "metadata": {},
   "outputs": [
    {
     "name": "stderr",
     "output_type": "stream",
     "text": [
      "Columns (53) have mixed types.Specify dtype option on import or set low_memory=False.\n"
     ]
    }
   ],
   "source": [
    "# loading csv\n",
    "df_original = pd.read_csv('data/final_dataset.csv').drop(\"Unnamed: 0\", axis=1)\n",
    "\n",
    "df = df_original.copy()"
   ]
  },
  {
   "cell_type": "code",
   "execution_count": 4,
   "id": "5cb7bf65-349a-41e0-a292-57068e080a71",
   "metadata": {},
   "outputs": [],
   "source": [
    "# df_original[df_original[\"Name\"] == \"Mohamed-Salah\"][[\"xP\"]].head(80).tail(40)"
   ]
  },
  {
   "cell_type": "code",
   "execution_count": 5,
   "id": "dca8a691-f6e5-4b02-9285-aaaaf998f8f2",
   "metadata": {},
   "outputs": [],
   "source": [
    "df = df.rename(columns={'GW_x': 'GW'})\n",
    "# df = df[~(df['position'].isin(['GK']))]\n",
    "# df = df[df['position'].isin(['MID'])]"
   ]
  },
  {
   "cell_type": "code",
   "execution_count": 6,
   "id": "a283588a-ee6e-4ceb-8f44-02c68a49d0bb",
   "metadata": {},
   "outputs": [],
   "source": [
    "# df_original[[\"expected_goals\", \"xG\"]]"
   ]
  },
  {
   "cell_type": "code",
   "execution_count": 7,
   "id": "9d26510c-dba9-4395-b0e9-c610765c2fbd",
   "metadata": {},
   "outputs": [],
   "source": [
    "# df_original[\"goals_conceded\"].unique()"
   ]
  },
  {
   "cell_type": "code",
   "execution_count": 8,
   "id": "4022d1cc-076b-429f-bc44-861db75617d0",
   "metadata": {},
   "outputs": [],
   "source": [
    "# df_original.isnull().sum(axis=0).sort_values(ascending=False).head(60)"
   ]
  },
  {
   "cell_type": "code",
   "execution_count": 9,
   "id": "cf3dd6ae-ffd6-4a9c-8fa4-a61d313f793c",
   "metadata": {},
   "outputs": [],
   "source": [
    "# df_original.columns.to_list()"
   ]
  },
  {
   "cell_type": "code",
   "execution_count": 10,
   "id": "247a5fe7-171c-41c4-bde3-d33a0dff195c",
   "metadata": {},
   "outputs": [],
   "source": [
    "# df[\"position\"].unique()"
   ]
  },
  {
   "cell_type": "code",
   "execution_count": 11,
   "id": "5c1b9133-98f1-4547-aa9a-01dac513f0e0",
   "metadata": {},
   "outputs": [
    {
     "data": {
      "text/plain": [
       "(24683, 117)"
      ]
     },
     "execution_count": 11,
     "metadata": {},
     "output_type": "execute_result"
    }
   ],
   "source": [
    "df.shape"
   ]
  },
  {
   "cell_type": "markdown",
   "id": "32eaa7fb-e3cc-4e17-a8b1-cc301aa3a766",
   "metadata": {},
   "source": [
    "# Features"
   ]
  },
  {
   "cell_type": "code",
   "execution_count": 12,
   "id": "29b66688-3e11-4ea5-a9ed-77be552e5e4a",
   "metadata": {},
   "outputs": [],
   "source": [
    "# rolling_gameweeks = [2, 3, 5, 10, 20, 30]\n",
    "rolling_gameweeks = [2, 4, 30]\n",
    "\n",
    "to_predict = [\"total_points\"]\n",
    "features1 = [\n",
    "             \"Was Home\", # Home/Away\n",
    "             \"Team rating\", \"Opp rating\", \"Rating Difference\" # Team ratings\n",
    "             ]\n",
    "features_to_roll = [\n",
    "                \"Min\", \"Start\", # time played\n",
    "                'Gls', 'Sh', 'SoT', # Goals\n",
    "                'Ast', # Assists\n",
    "                'CrdY', 'CrdR', # Cards\n",
    "                \"xG\", 'xAG', # Expected\n",
    "                'CS', # Defence\n",
    "                'Team Score', 'Opp Score', 'Team Result', # Team form\n",
    "                # \"xGPoints\", \"CSPoints\", # Position-scaled\n",
    "                # \"Cmp%\", \"PrgP\", \"PrgC\", \"Succ\", \"PKwon\",\n",
    "                # 'bonus', 'bps', # Bonus\n",
    "                # 'influence', 'creativity', 'threat', 'ict_index', # ICT\n",
    "                \"total_points\", \"Baseline Points\", \"bonus\" # FPL points\n",
    "            ]\n",
    "info = [\"Name\", \"GW\", \"Season\", \"Squad\", \"Opponent\", \"Was Home\", \"Team rating\", \"Opp rating\", \"position\"]"
   ]
  },
  {
   "cell_type": "code",
   "execution_count": 13,
   "id": "49cfcf71-b36d-4df2-ab4b-4d37b31f63c5",
   "metadata": {},
   "outputs": [],
   "source": [
    "# df[features_to_roll + info].isnull().sum(axis=0).sort_values(ascending=False).head(30)"
   ]
  },
  {
   "cell_type": "markdown",
   "id": "fe7a4ac1-336c-4ea4-ad91-24489c66e789",
   "metadata": {},
   "source": [
    "# Preparing dataset"
   ]
  },
  {
   "cell_type": "code",
   "execution_count": 14,
   "id": "338fb226-ffc9-4431-b9e2-5e4a1dd5592b",
   "metadata": {},
   "outputs": [],
   "source": [
    "df[\"Rating Difference\"] = df[\"Team rating\"] / df[\"Opp rating\"]\n",
    "# df[\"Rating Difference2\"] = df[\"Team rating\"] > df[\"Opp rating\"]\n",
    "df[\"Baseline Points\"] = df[\"total_points\"] - df[\"bonus\"]"
   ]
  },
  {
   "cell_type": "code",
   "execution_count": 15,
   "id": "f3a73ddc-31da-4c0d-93f1-e2f53e14c6ef",
   "metadata": {},
   "outputs": [],
   "source": [
    "def calculate_team_points(row):\n",
    "    if row['Team Score'] > row['Opp Score']:\n",
    "        return 3\n",
    "    elif row['Team Score'] == row['Opp Score']:\n",
    "        return 1\n",
    "    else:\n",
    "        return 0\n",
    "    \n",
    "df['Team Result'] = df.apply(calculate_team_points, axis=1)"
   ]
  },
  {
   "cell_type": "code",
   "execution_count": 16,
   "id": "da07449d-3b7f-49f2-bd03-563846abec7b",
   "metadata": {},
   "outputs": [],
   "source": [
    "def calculate_xg_points(row):\n",
    "    if row[\"position\"] == \"GK\":\n",
    "        return row[\"xG\"] * 6\n",
    "    elif row[\"position\"] == \"DEF\":\n",
    "        return row[\"xG\"] * 6\n",
    "    elif row[\"position\"] == \"MID\":\n",
    "        return row[\"xG\"] * 5\n",
    "    elif row[\"position\"] == \"FWD\":\n",
    "        return row[\"xG\"] * 4\n",
    "    else:\n",
    "        return row[\"xG\"] * 5\n",
    "\n",
    "df[\"xGPoints\"] = df.apply(calculate_xg_points, axis=1)"
   ]
  },
  {
   "cell_type": "code",
   "execution_count": 17,
   "id": "9b278ffd-e7d7-47fe-88a0-47d9598fa159",
   "metadata": {},
   "outputs": [],
   "source": [
    "def calculate_cs_points(row):\n",
    "    if row[\"position\"] == \"GK\":\n",
    "        return row[\"xG\"] * 4\n",
    "    elif row[\"position\"] == \"DEF\":\n",
    "        return row[\"xG\"] * 4\n",
    "    elif row[\"position\"] == \"MID\":\n",
    "        return row[\"xG\"] * 1\n",
    "    elif row[\"position\"] == \"FWD\":\n",
    "        return row[\"xG\"] * 0\n",
    "    else:\n",
    "        return row[\"xG\"] * 1\n",
    "\n",
    "df[\"CSPoints\"] = df.apply(calculate_cs_points, axis=1)"
   ]
  },
  {
   "cell_type": "code",
   "execution_count": 18,
   "id": "2fe53aca-b1c7-4f24-87ae-81fe1ab6f532",
   "metadata": {},
   "outputs": [],
   "source": [
    "def add_rolling_features(df, features1, features_to_roll):\n",
    "    features = features1\n",
    "    \n",
    "    for r in rolling_gameweeks:\n",
    "        form_means = df.groupby([\"Name\"])[features_to_roll].rolling(r, min_periods=1).mean().groupby([\"Name\"]).shift(1).reset_index()\n",
    "        form_means = form_means.fillna(method='bfill')\n",
    "        \n",
    "        form_means.columns = [f'{col}{\"_\"}{r}' for col in form_means.columns]\n",
    "        features += form_means.columns.tolist()\n",
    "        features = list(filter(lambda x: x not in [\"Name_\" + str(r)], features))\n",
    "        df = pd.concat([df, form_means], axis=1)\n",
    "        \n",
    "    return df, features"
   ]
  },
  {
   "cell_type": "code",
   "execution_count": 19,
   "id": "2e46c21c-3984-42e5-a6ff-a4118cb1f802",
   "metadata": {},
   "outputs": [],
   "source": [
    "def ohe(df, ohe_columns, features):\n",
    "    # one hot encoding\n",
    "    for c in ohe_columns:\n",
    "        ohe_c = pd.get_dummies(df[c], dtype=\"int64\")\n",
    "        df = pd.concat([df, ohe_c], axis=1)\n",
    "\n",
    "        features += ohe_c.columns.tolist()\n",
    "        \n",
    "    return df, features"
   ]
  },
  {
   "cell_type": "code",
   "execution_count": 20,
   "id": "026526dc-1fdd-4eb4-854e-c3e383197574",
   "metadata": {},
   "outputs": [],
   "source": [
    "def label_encoding(df, column_to_encode):\n",
    "    \n",
    "    mapping_dict = {\n",
    "        'Y': 2,\n",
    "        'Y*': 1,\n",
    "        'N': 0,\n",
    "    }\n",
    "    \n",
    "    df[column_to_encode] = df[column_to_encode].map(mapping_dict)\n",
    "    \n",
    "    return df"
   ]
  },
  {
   "cell_type": "code",
   "execution_count": 21,
   "id": "aeefc061-5f68-4e0c-953b-3033c967b01f",
   "metadata": {},
   "outputs": [],
   "source": [
    "df = df.reset_index()"
   ]
  },
  {
   "cell_type": "code",
   "execution_count": 22,
   "id": "c963831b-e2ec-4958-b2da-99c9eb5cf759",
   "metadata": {},
   "outputs": [],
   "source": [
    "df, features = add_rolling_features(df, features1, features_to_roll)"
   ]
  },
  {
   "cell_type": "code",
   "execution_count": 23,
   "id": "b0dd88c1-dbbe-41f8-8159-b8e73f7f5c0d",
   "metadata": {},
   "outputs": [],
   "source": [
    "# df, features = ohe(df, [\"position\"], features)"
   ]
  },
  {
   "cell_type": "code",
   "execution_count": 24,
   "id": "dc05870f-c6a1-4340-b061-6b0f9da5ff46",
   "metadata": {},
   "outputs": [],
   "source": [
    "df = label_encoding(df, \"Start\")"
   ]
  },
  {
   "cell_type": "code",
   "execution_count": 25,
   "id": "871534cf-bd8d-49ed-bb56-d3ffaa9d8478",
   "metadata": {},
   "outputs": [],
   "source": [
    "# dropping unwanted columns\n",
    "features = [col for col in features if not col.startswith('level')]\n",
    "df = df[np.unique(features + info + to_predict)]"
   ]
  },
  {
   "cell_type": "code",
   "execution_count": 26,
   "id": "269a1373-9fbd-4aa3-a095-5ad1c74be587",
   "metadata": {},
   "outputs": [],
   "source": [
    "df = df[pd.to_numeric(df[\"GW\"], errors=\"coerce\").notna()]\n",
    "df[\"GW\"] = df[\"GW\"].astype(\"uint64\")"
   ]
  },
  {
   "cell_type": "code",
   "execution_count": 27,
   "id": "dbd5108b-c4b3-4268-9a8d-6e0ebdbe7a8d",
   "metadata": {},
   "outputs": [],
   "source": [
    "# dropping NaNs\n",
    "df = df.dropna(axis=0)"
   ]
  },
  {
   "cell_type": "code",
   "execution_count": 28,
   "id": "eb1b8f09-495e-4f39-abec-238b6ff2d3d2",
   "metadata": {},
   "outputs": [],
   "source": [
    "df = df.set_index([\"Name\", \"Season\", \"GW\"], drop=False)"
   ]
  },
  {
   "cell_type": "code",
   "execution_count": 29,
   "id": "aa7edd40-4433-4d9d-bc95-747fd5fcc118",
   "metadata": {},
   "outputs": [
    {
     "data": {
      "text/plain": [
       "Index(['Ast_2', 'Ast_30', 'Ast_4', 'Baseline Points_2', 'Baseline Points_30',\n",
       "       'Baseline Points_4', 'CS_2', 'CS_30', 'CS_4', 'CrdR_2', 'CrdR_30',\n",
       "       'CrdR_4', 'CrdY_2', 'CrdY_30', 'CrdY_4', 'GW', 'Gls_2', 'Gls_30',\n",
       "       'Gls_4', 'Min_2', 'Min_30', 'Min_4', 'Name', 'Opp Score_2',\n",
       "       'Opp Score_30', 'Opp Score_4', 'Opp rating', 'Opponent',\n",
       "       'Rating Difference', 'Season', 'Sh_2', 'Sh_30', 'Sh_4', 'SoT_2',\n",
       "       'SoT_30', 'SoT_4', 'Squad', 'Team Result_2', 'Team Result_30',\n",
       "       'Team Result_4', 'Team Score_2', 'Team Score_30', 'Team Score_4',\n",
       "       'Team rating', 'Was Home', 'bonus_2', 'bonus_30', 'bonus_4', 'position',\n",
       "       'total_points', 'total_points_2', 'total_points_30', 'total_points_4',\n",
       "       'xAG_2', 'xAG_30', 'xAG_4', 'xG_2', 'xG_30', 'xG_4'],\n",
       "      dtype='object')"
      ]
     },
     "execution_count": 29,
     "metadata": {},
     "output_type": "execute_result"
    }
   ],
   "source": [
    "df.columns"
   ]
  },
  {
   "cell_type": "code",
   "execution_count": 30,
   "id": "f9ac2b91-59ee-4d56-97be-b9a374d36604",
   "metadata": {},
   "outputs": [
    {
     "data": {
      "text/plain": [
       "(22151, 59)"
      ]
     },
     "execution_count": 30,
     "metadata": {},
     "output_type": "execute_result"
    }
   ],
   "source": [
    "df.shape"
   ]
  },
  {
   "cell_type": "markdown",
   "id": "fc895e8b-ed8c-4c03-89fe-eccde0b4c26e",
   "metadata": {},
   "source": [
    "# Choosing features and splitting data"
   ]
  },
  {
   "cell_type": "code",
   "execution_count": 31,
   "id": "1a46a038-a0b2-4348-b87c-2ca15569f6eb",
   "metadata": {},
   "outputs": [],
   "source": [
    "GAMEWEEK_TO_PREDICT = 38\n",
    "SEASON_TO_PREDICT = \"2022-23\""
   ]
  },
  {
   "cell_type": "code",
   "execution_count": 32,
   "id": "45b9f614-d91d-491f-b5d0-d278db561c2d",
   "metadata": {},
   "outputs": [],
   "source": [
    "# gameweeks 6-14 is training data, gw 15 is test data\n",
    "X_train = df[((df[\"Season\"] < SEASON_TO_PREDICT) | (df[\"GW\"] <= GAMEWEEK_TO_PREDICT - 1))][features].reset_index(drop=True)\n",
    "y_train = df[((df[\"Season\"] < SEASON_TO_PREDICT) | (df[\"GW\"] <= GAMEWEEK_TO_PREDICT - 1))][to_predict].reset_index(drop=True)"
   ]
  },
  {
   "cell_type": "code",
   "execution_count": 33,
   "id": "7996012d-2bf5-45da-a29e-e75932313172",
   "metadata": {},
   "outputs": [],
   "source": [
    "X_test = df[(df[\"GW\"] == GAMEWEEK_TO_PREDICT) & (df[\"Season\"] == SEASON_TO_PREDICT) ][features].reset_index(drop=True)\n",
    "y_test = df[(df[\"GW\"] == GAMEWEEK_TO_PREDICT) & (df[\"Season\"] == SEASON_TO_PREDICT) ][to_predict].reset_index(drop=True)"
   ]
  },
  {
   "cell_type": "code",
   "execution_count": 34,
   "id": "dcf0a862-ff68-4236-8fcb-dcf5e8ebe29f",
   "metadata": {},
   "outputs": [
    {
     "data": {
      "text/plain": [
       "((21797, 52), (354, 52))"
      ]
     },
     "execution_count": 34,
     "metadata": {},
     "output_type": "execute_result"
    }
   ],
   "source": [
    "X_train.shape, X_test.shape"
   ]
  },
  {
   "cell_type": "markdown",
   "id": "bd2b3df9-363d-4c0a-8a1b-ce561ee29b23",
   "metadata": {},
   "source": [
    "# Model"
   ]
  },
  {
   "cell_type": "code",
   "execution_count": 35,
   "id": "6e50771d-93f9-4474-9cfa-a02cfde8c162",
   "metadata": {},
   "outputs": [],
   "source": [
    "class HybridModel:\n",
    "    def __init__(self, models, names, weights):\n",
    "        self.models = models\n",
    "        self.model_names = names\n",
    "        self.weights = weights\n",
    "    \n",
    "    def fit(self, X, y):\n",
    "        for model in self.models:\n",
    "            model.fit(X, y)\n",
    "        \n",
    "    def predict(self, X):\n",
    "        model_preds = [model.predict(X) for model in self.models]\n",
    "        preds = []\n",
    "        for i in range(len(model_preds[0])):\n",
    "            preds.append(np.mean([x[i] for x in model_preds]))\n",
    "        return preds\n",
    "    \n",
    "    def evaluate(self, X, y):\n",
    "        ys = [np.expm1(model.predict(X)) for model in self.models]\n",
    "        y_ensemble = self.predict(X)\n",
    "        \n",
    "        rmsle_ys = [(mean_squared_log_error(y, y_model) ** 0.5) for y_model in ys]\n",
    "        rmsle_ensemble = mean_squared_log_error(y, y_ensemble) ** 0.5\n",
    "        \n",
    "        for i in range(0, len(self.models)):\n",
    "            print(f\"RMSLE on {self.model_names[i]} model: {rmsle_ys[i]}\")\n",
    "        print(f\"RMSLE on ensemble model: {rmsle_ensemble}\")"
   ]
  },
  {
   "cell_type": "code",
   "execution_count": 36,
   "id": "55b762b9-12bb-4b40-94f7-9c1681a8ad69",
   "metadata": {},
   "outputs": [],
   "source": [
    "lgbm = LGBMRegressor(random_state=42)\n",
    "xgb = XGBRegressor(random_state=42)\n",
    "gbr = GradientBoostingRegressor(random_state=42)\n",
    "\n",
    "names = [\n",
    "    \"LGBM\",\n",
    "    \"XGB\",\n",
    "    \"GBR\"\n",
    "]\n",
    "\n",
    "weights = [\n",
    "    1,\n",
    "    1,\n",
    "    1\n",
    "]\n",
    "\n",
    "# hybrid arguments\n",
    "models = [\n",
    "    lgbm, \n",
    "    xgb, \n",
    "    gbr\n",
    "]\n",
    "\n",
    "model = HybridModel(models, names, weights)"
   ]
  },
  {
   "cell_type": "code",
   "execution_count": 37,
   "id": "869c69e0-56ad-4baf-a403-dcdc61f7adec",
   "metadata": {},
   "outputs": [],
   "source": [
    "model = GradientBoostingRegressor(random_state=42)\n",
    "# model = LGBMRegressor(random_state=42)\n",
    "# model = XGBRegressor(random_state=42)\n",
    "# model = RandomForestRegressor()"
   ]
  },
  {
   "cell_type": "code",
   "execution_count": 38,
   "id": "8531e1e4-92af-494b-b5b7-7a48f2796fa6",
   "metadata": {},
   "outputs": [
    {
     "name": "stdout",
     "output_type": "stream",
     "text": [
      "CPU times: total: 8.36 s\n",
      "Wall time: 8.68 s\n"
     ]
    },
    {
     "data": {
      "text/html": [
       "<style>#sk-container-id-1 {color: black;background-color: white;}#sk-container-id-1 pre{padding: 0;}#sk-container-id-1 div.sk-toggleable {background-color: white;}#sk-container-id-1 label.sk-toggleable__label {cursor: pointer;display: block;width: 100%;margin-bottom: 0;padding: 0.3em;box-sizing: border-box;text-align: center;}#sk-container-id-1 label.sk-toggleable__label-arrow:before {content: \"▸\";float: left;margin-right: 0.25em;color: #696969;}#sk-container-id-1 label.sk-toggleable__label-arrow:hover:before {color: black;}#sk-container-id-1 div.sk-estimator:hover label.sk-toggleable__label-arrow:before {color: black;}#sk-container-id-1 div.sk-toggleable__content {max-height: 0;max-width: 0;overflow: hidden;text-align: left;background-color: #f0f8ff;}#sk-container-id-1 div.sk-toggleable__content pre {margin: 0.2em;color: black;border-radius: 0.25em;background-color: #f0f8ff;}#sk-container-id-1 input.sk-toggleable__control:checked~div.sk-toggleable__content {max-height: 200px;max-width: 100%;overflow: auto;}#sk-container-id-1 input.sk-toggleable__control:checked~label.sk-toggleable__label-arrow:before {content: \"▾\";}#sk-container-id-1 div.sk-estimator input.sk-toggleable__control:checked~label.sk-toggleable__label {background-color: #d4ebff;}#sk-container-id-1 div.sk-label input.sk-toggleable__control:checked~label.sk-toggleable__label {background-color: #d4ebff;}#sk-container-id-1 input.sk-hidden--visually {border: 0;clip: rect(1px 1px 1px 1px);clip: rect(1px, 1px, 1px, 1px);height: 1px;margin: -1px;overflow: hidden;padding: 0;position: absolute;width: 1px;}#sk-container-id-1 div.sk-estimator {font-family: monospace;background-color: #f0f8ff;border: 1px dotted black;border-radius: 0.25em;box-sizing: border-box;margin-bottom: 0.5em;}#sk-container-id-1 div.sk-estimator:hover {background-color: #d4ebff;}#sk-container-id-1 div.sk-parallel-item::after {content: \"\";width: 100%;border-bottom: 1px solid gray;flex-grow: 1;}#sk-container-id-1 div.sk-label:hover label.sk-toggleable__label {background-color: #d4ebff;}#sk-container-id-1 div.sk-serial::before {content: \"\";position: absolute;border-left: 1px solid gray;box-sizing: border-box;top: 0;bottom: 0;left: 50%;z-index: 0;}#sk-container-id-1 div.sk-serial {display: flex;flex-direction: column;align-items: center;background-color: white;padding-right: 0.2em;padding-left: 0.2em;position: relative;}#sk-container-id-1 div.sk-item {position: relative;z-index: 1;}#sk-container-id-1 div.sk-parallel {display: flex;align-items: stretch;justify-content: center;background-color: white;position: relative;}#sk-container-id-1 div.sk-item::before, #sk-container-id-1 div.sk-parallel-item::before {content: \"\";position: absolute;border-left: 1px solid gray;box-sizing: border-box;top: 0;bottom: 0;left: 50%;z-index: -1;}#sk-container-id-1 div.sk-parallel-item {display: flex;flex-direction: column;z-index: 1;position: relative;background-color: white;}#sk-container-id-1 div.sk-parallel-item:first-child::after {align-self: flex-end;width: 50%;}#sk-container-id-1 div.sk-parallel-item:last-child::after {align-self: flex-start;width: 50%;}#sk-container-id-1 div.sk-parallel-item:only-child::after {width: 0;}#sk-container-id-1 div.sk-dashed-wrapped {border: 1px dashed gray;margin: 0 0.4em 0.5em 0.4em;box-sizing: border-box;padding-bottom: 0.4em;background-color: white;}#sk-container-id-1 div.sk-label label {font-family: monospace;font-weight: bold;display: inline-block;line-height: 1.2em;}#sk-container-id-1 div.sk-label-container {text-align: center;}#sk-container-id-1 div.sk-container {/* jupyter's `normalize.less` sets `[hidden] { display: none; }` but bootstrap.min.css set `[hidden] { display: none !important; }` so we also need the `!important` here to be able to override the default hidden behavior on the sphinx rendered scikit-learn.org. See: https://github.com/scikit-learn/scikit-learn/issues/21755 */display: inline-block !important;position: relative;}#sk-container-id-1 div.sk-text-repr-fallback {display: none;}</style><div id=\"sk-container-id-1\" class=\"sk-top-container\"><div class=\"sk-text-repr-fallback\"><pre>GradientBoostingRegressor(random_state=42)</pre><b>In a Jupyter environment, please rerun this cell to show the HTML representation or trust the notebook. <br />On GitHub, the HTML representation is unable to render, please try loading this page with nbviewer.org.</b></div><div class=\"sk-container\" hidden><div class=\"sk-item\"><div class=\"sk-estimator sk-toggleable\"><input class=\"sk-toggleable__control sk-hidden--visually\" id=\"sk-estimator-id-1\" type=\"checkbox\" checked><label for=\"sk-estimator-id-1\" class=\"sk-toggleable__label sk-toggleable__label-arrow\">GradientBoostingRegressor</label><div class=\"sk-toggleable__content\"><pre>GradientBoostingRegressor(random_state=42)</pre></div></div></div></div></div>"
      ],
      "text/plain": [
       "GradientBoostingRegressor(random_state=42)"
      ]
     },
     "execution_count": 38,
     "metadata": {},
     "output_type": "execute_result"
    }
   ],
   "source": [
    "%%time\n",
    "model.fit(X_train, np.array(y_train).ravel())"
   ]
  },
  {
   "cell_type": "markdown",
   "id": "438dc7ca-6134-429b-bd5e-4a99261c2781",
   "metadata": {},
   "source": [
    "# Evaluation"
   ]
  },
  {
   "cell_type": "code",
   "execution_count": 39,
   "id": "6d8c65fd-59b4-46c6-b92a-a59358edff95",
   "metadata": {},
   "outputs": [],
   "source": [
    "# make predictions on the test data\n",
    "predictions = model.predict(X_test)"
   ]
  },
  {
   "cell_type": "code",
   "execution_count": 40,
   "id": "ad049ca6-a774-4dc9-95f4-e981ba0ed254",
   "metadata": {},
   "outputs": [],
   "source": [
    "def pairwise_accuracy(predicted_scores, true_scores):\n",
    "    if len(predicted_scores) != len(true_scores):\n",
    "        raise ValueError(\"The length of predicted_scores and true_scores must be the same.\")\n",
    "\n",
    "    num_pairs = 0\n",
    "    num_correct_pairs = 0\n",
    "\n",
    "    for i in range(len(predicted_scores)):\n",
    "        for j in range(i + 1, len(predicted_scores)):\n",
    "            # Check if the predicted order matches the true order\n",
    "            if (predicted_scores[i] > predicted_scores[j] and true_scores[i] > true_scores[j]) or \\\n",
    "               (predicted_scores[i] < predicted_scores[j] and true_scores[i] < true_scores[j]):\n",
    "                num_correct_pairs += 1\n",
    "            num_pairs += 1\n",
    "\n",
    "    pairwise_accuracy = num_correct_pairs / num_pairs\n",
    "    return pairwise_accuracy"
   ]
  },
  {
   "cell_type": "code",
   "execution_count": 41,
   "id": "bf22664f-1602-456b-a4bc-3e56cb02a6a6",
   "metadata": {},
   "outputs": [],
   "source": [
    "df_predictions = df[(df[\"GW\"] == GAMEWEEK_TO_PREDICT) & (df[\"Season\"] == SEASON_TO_PREDICT)].reset_index(drop=True)\n",
    "df_predictions.loc[:, \"pred\"] = predictions"
   ]
  },
  {
   "cell_type": "code",
   "execution_count": 42,
   "id": "30d87d10-ae71-4fc6-aa37-455fa45be613",
   "metadata": {},
   "outputs": [],
   "source": [
    "def get_top_performer_names(df, no_top, no_gws):\n",
    "    return df.reset_index(drop=True).groupby(\"Name\")[\"total_points\"].mean().groupby(\"Name\").tail(no_gws).sort_values(ascending=False).head(no_top).index.to_list()"
   ]
  },
  {
   "cell_type": "code",
   "execution_count": 43,
   "id": "0dcbdf3b-8f16-432d-a9d4-ca4b93888927",
   "metadata": {},
   "outputs": [],
   "source": [
    "def pairwise_accuracy_topX(model, df, top_x):\n",
    "    top_performers = df[(df[\"GW\"] == GAMEWEEK_TO_PREDICT) & (df[\"Season\"] == SEASON_TO_PREDICT) & (df[\"Name\"].isin(get_top_performer_names(df, top_x, 50)))]\n",
    "    X = top_performers[features].reset_index(drop=True)\n",
    "    y = np.array(top_performers[to_predict].reset_index(drop=True))\n",
    "    preds = model.predict(X)\n",
    "    \n",
    "    return  pairwise_accuracy(preds, y)"
   ]
  },
  {
   "cell_type": "code",
   "execution_count": 44,
   "id": "6764621d-0288-45d0-95a3-36c29e6c95c4",
   "metadata": {},
   "outputs": [],
   "source": [
    "def evaluate(model, df, predictions, y_true):\n",
    "    mae = mean_absolute_error(y_true, predictions)\n",
    "    mse = mean_squared_error(y_true, predictions)\n",
    "\n",
    "    pairwise_acc = pairwise_accuracy(np.array(y_true), predictions)\n",
    "    pairwise_accuracy_top20 = pairwise_accuracy_topX(model, df, 20)\n",
    "    pairwise_accuracy_top100 = pairwise_accuracy_topX(model, df, 100)\n",
    "    \n",
    "    print(\"MAE:\", mae)\n",
    "    print(\"MSE:\", mse)\n",
    "    print(\"Pairwise accuracy:\", pairwise_acc)\n",
    "    print(\"Pairwise accuracy @TOP100:\", pairwise_accuracy_top100)\n",
    "    print(\"Pairwise accuracy @TOP20:\", pairwise_accuracy_top20)"
   ]
  },
  {
   "cell_type": "code",
   "execution_count": 45,
   "id": "2f9841b1-66d7-4b01-b878-a1a21114e9f9",
   "metadata": {},
   "outputs": [],
   "source": [
    "# df[(df[\"GW\"] == GAMEWEEK_TO_PREDICT) & (df[\"Season\"] == SEASON_TO_PREDICT) & (df[\"Name\"].isin(get_top_performer_names(df, 20, 50)))].columns"
   ]
  },
  {
   "cell_type": "code",
   "execution_count": 46,
   "id": "620d667e-0f67-4a3e-9d17-13f775d06b5e",
   "metadata": {},
   "outputs": [
    {
     "name": "stdout",
     "output_type": "stream",
     "text": [
      "MAE: 1.7312269395885784\n",
      "MSE: 6.9261481666210765\n",
      "Pairwise accuracy: 0.562186904819065\n",
      "Pairwise accuracy @TOP100: 0.5\n",
      "Pairwise accuracy @TOP20: 0.6282051282051282\n"
     ]
    }
   ],
   "source": [
    "evaluate(model, df, predictions, y_test)"
   ]
  },
  {
   "cell_type": "code",
   "execution_count": 47,
   "id": "f5cf7c0e-b7d8-483d-b565-fc1260f26f1e",
   "metadata": {},
   "outputs": [],
   "source": [
    "# df[df[\"Name\"] == \"Abdoulaye-Doucoure\"][info]"
   ]
  },
  {
   "cell_type": "code",
   "execution_count": 48,
   "id": "1de0dbe5-2b5f-472d-9f2d-2300dab2b19c",
   "metadata": {},
   "outputs": [],
   "source": [
    "# model.predict(df[df[\"GW\"] == GAMEWEEK_TO_PREDICT][df[\"Name\"] == \"Mohamed-Salah\"][features])"
   ]
  },
  {
   "cell_type": "markdown",
   "id": "09ff9469-b50e-44d3-9e08-2b9fb4c8e8ba",
   "metadata": {},
   "source": [
    "# Valid predictions"
   ]
  },
  {
   "cell_type": "code",
   "execution_count": 49,
   "id": "df65adae-80ea-4963-9a60-20cd64f7ae1c",
   "metadata": {},
   "outputs": [],
   "source": [
    "preds = df_predictions[info + to_predict + [\"pred\"]].sort_values(by=[\"pred\"], ascending = False)"
   ]
  },
  {
   "cell_type": "code",
   "execution_count": 50,
   "id": "6df93768-16bb-495b-94ab-f240d07e9b4e",
   "metadata": {},
   "outputs": [
    {
     "data": {
      "text/html": [
       "<div>\n",
       "<style scoped>\n",
       "    .dataframe tbody tr th:only-of-type {\n",
       "        vertical-align: middle;\n",
       "    }\n",
       "\n",
       "    .dataframe tbody tr th {\n",
       "        vertical-align: top;\n",
       "    }\n",
       "\n",
       "    .dataframe thead th {\n",
       "        text-align: right;\n",
       "    }\n",
       "</style>\n",
       "<table border=\"1\" class=\"dataframe\">\n",
       "  <thead>\n",
       "    <tr style=\"text-align: right;\">\n",
       "      <th></th>\n",
       "      <th>Name</th>\n",
       "      <th>GW</th>\n",
       "      <th>Season</th>\n",
       "      <th>Squad</th>\n",
       "      <th>Opponent</th>\n",
       "      <th>Was Home</th>\n",
       "      <th>Team rating</th>\n",
       "      <th>Opp rating</th>\n",
       "      <th>position</th>\n",
       "      <th>total_points</th>\n",
       "      <th>pred</th>\n",
       "    </tr>\n",
       "  </thead>\n",
       "  <tbody>\n",
       "    <tr>\n",
       "      <th>257</th>\n",
       "      <td>Mohamed-Salah</td>\n",
       "      <td>38</td>\n",
       "      <td>2022-23</td>\n",
       "      <td>Liverpool</td>\n",
       "      <td>Southampton</td>\n",
       "      <td>0.0</td>\n",
       "      <td>1953.153564</td>\n",
       "      <td>1619.777344</td>\n",
       "      <td>MID</td>\n",
       "      <td>5.0</td>\n",
       "      <td>6.673126</td>\n",
       "    </tr>\n",
       "    <tr>\n",
       "      <th>126</th>\n",
       "      <td>Harry-Kane</td>\n",
       "      <td>38</td>\n",
       "      <td>2022-23</td>\n",
       "      <td>Tottenham</td>\n",
       "      <td>Leeds United</td>\n",
       "      <td>0.0</td>\n",
       "      <td>1805.765259</td>\n",
       "      <td>1667.934448</td>\n",
       "      <td>FWD</td>\n",
       "      <td>16.0</td>\n",
       "      <td>5.497363</td>\n",
       "    </tr>\n",
       "    <tr>\n",
       "      <th>105</th>\n",
       "      <td>Erling-Haaland</td>\n",
       "      <td>38</td>\n",
       "      <td>2022-23</td>\n",
       "      <td>Manchester City</td>\n",
       "      <td>Brentford</td>\n",
       "      <td>0.0</td>\n",
       "      <td>2086.425293</td>\n",
       "      <td>1809.881592</td>\n",
       "      <td>FWD</td>\n",
       "      <td>0.0</td>\n",
       "      <td>5.394333</td>\n",
       "    </tr>\n",
       "    <tr>\n",
       "      <th>239</th>\n",
       "      <td>Martin-Odegaard</td>\n",
       "      <td>38</td>\n",
       "      <td>2022-23</td>\n",
       "      <td>Arsenal</td>\n",
       "      <td>Wolves</td>\n",
       "      <td>1.0</td>\n",
       "      <td>1918.309692</td>\n",
       "      <td>1724.835327</td>\n",
       "      <td>MID</td>\n",
       "      <td>3.0</td>\n",
       "      <td>5.224923</td>\n",
       "    </tr>\n",
       "    <tr>\n",
       "      <th>43</th>\n",
       "      <td>Bukayo-Saka</td>\n",
       "      <td>38</td>\n",
       "      <td>2022-23</td>\n",
       "      <td>Arsenal</td>\n",
       "      <td>Wolves</td>\n",
       "      <td>1.0</td>\n",
       "      <td>1918.309692</td>\n",
       "      <td>1724.835327</td>\n",
       "      <td>MID</td>\n",
       "      <td>6.0</td>\n",
       "      <td>4.806306</td>\n",
       "    </tr>\n",
       "    <tr>\n",
       "      <th>119</th>\n",
       "      <td>Gabriel-Jesus</td>\n",
       "      <td>38</td>\n",
       "      <td>2022-23</td>\n",
       "      <td>Arsenal</td>\n",
       "      <td>Wolves</td>\n",
       "      <td>1.0</td>\n",
       "      <td>1918.309692</td>\n",
       "      <td>1724.835327</td>\n",
       "      <td>FWD</td>\n",
       "      <td>12.0</td>\n",
       "      <td>4.804287</td>\n",
       "    </tr>\n",
       "    <tr>\n",
       "      <th>234</th>\n",
       "      <td>Marcus-Rashford</td>\n",
       "      <td>38</td>\n",
       "      <td>2022-23</td>\n",
       "      <td>Manchester Utd</td>\n",
       "      <td>Fulham</td>\n",
       "      <td>1.0</td>\n",
       "      <td>1869.084473</td>\n",
       "      <td>1739.748901</td>\n",
       "      <td>MID</td>\n",
       "      <td>2.0</td>\n",
       "      <td>4.740747</td>\n",
       "    </tr>\n",
       "    <tr>\n",
       "      <th>92</th>\n",
       "      <td>Eberechi-Eze</td>\n",
       "      <td>38</td>\n",
       "      <td>2022-23</td>\n",
       "      <td>Crystal Palace</td>\n",
       "      <td>Nott'ham Forest</td>\n",
       "      <td>1.0</td>\n",
       "      <td>1760.637085</td>\n",
       "      <td>1669.525391</td>\n",
       "      <td>MID</td>\n",
       "      <td>2.0</td>\n",
       "      <td>4.617099</td>\n",
       "    </tr>\n",
       "    <tr>\n",
       "      <th>202</th>\n",
       "      <td>Kieran-Trippier</td>\n",
       "      <td>38</td>\n",
       "      <td>2022-23</td>\n",
       "      <td>Newcastle Utd</td>\n",
       "      <td>Chelsea</td>\n",
       "      <td>0.0</td>\n",
       "      <td>1876.791626</td>\n",
       "      <td>1786.207886</td>\n",
       "      <td>DEF</td>\n",
       "      <td>0.0</td>\n",
       "      <td>4.603546</td>\n",
       "    </tr>\n",
       "    <tr>\n",
       "      <th>40</th>\n",
       "      <td>Bruno-Fernandes</td>\n",
       "      <td>38</td>\n",
       "      <td>2022-23</td>\n",
       "      <td>Manchester Utd</td>\n",
       "      <td>Fulham</td>\n",
       "      <td>1.0</td>\n",
       "      <td>1869.084473</td>\n",
       "      <td>1739.748901</td>\n",
       "      <td>MID</td>\n",
       "      <td>10.0</td>\n",
       "      <td>4.595982</td>\n",
       "    </tr>\n",
       "    <tr>\n",
       "      <th>44</th>\n",
       "      <td>Callum-Wilson</td>\n",
       "      <td>38</td>\n",
       "      <td>2022-23</td>\n",
       "      <td>Newcastle Utd</td>\n",
       "      <td>Chelsea</td>\n",
       "      <td>0.0</td>\n",
       "      <td>1876.791626</td>\n",
       "      <td>1786.207886</td>\n",
       "      <td>FWD</td>\n",
       "      <td>1.0</td>\n",
       "      <td>4.549903</td>\n",
       "    </tr>\n",
       "    <tr>\n",
       "      <th>91</th>\n",
       "      <td>Dwight-McNeil</td>\n",
       "      <td>38</td>\n",
       "      <td>2022-23</td>\n",
       "      <td>Everton</td>\n",
       "      <td>Bournemouth</td>\n",
       "      <td>1.0</td>\n",
       "      <td>1701.569092</td>\n",
       "      <td>1665.807007</td>\n",
       "      <td>MID</td>\n",
       "      <td>3.0</td>\n",
       "      <td>4.545028</td>\n",
       "    </tr>\n",
       "    <tr>\n",
       "      <th>320</th>\n",
       "      <td>Son-Heung-min</td>\n",
       "      <td>38</td>\n",
       "      <td>2022-23</td>\n",
       "      <td>Tottenham</td>\n",
       "      <td>Leeds United</td>\n",
       "      <td>0.0</td>\n",
       "      <td>1805.765259</td>\n",
       "      <td>1667.934448</td>\n",
       "      <td>MID</td>\n",
       "      <td>5.0</td>\n",
       "      <td>4.238553</td>\n",
       "    </tr>\n",
       "    <tr>\n",
       "      <th>274</th>\n",
       "      <td>Ollie-Watkins</td>\n",
       "      <td>38</td>\n",
       "      <td>2022-23</td>\n",
       "      <td>Aston Villa</td>\n",
       "      <td>Brighton</td>\n",
       "      <td>1.0</td>\n",
       "      <td>1820.092163</td>\n",
       "      <td>1834.811157</td>\n",
       "      <td>FWD</td>\n",
       "      <td>9.0</td>\n",
       "      <td>4.228574</td>\n",
       "    </tr>\n",
       "    <tr>\n",
       "      <th>12</th>\n",
       "      <td>Alex-Iwobi</td>\n",
       "      <td>38</td>\n",
       "      <td>2022-23</td>\n",
       "      <td>Everton</td>\n",
       "      <td>Bournemouth</td>\n",
       "      <td>1.0</td>\n",
       "      <td>1701.569092</td>\n",
       "      <td>1665.807007</td>\n",
       "      <td>MID</td>\n",
       "      <td>3.0</td>\n",
       "      <td>4.217087</td>\n",
       "    </tr>\n",
       "    <tr>\n",
       "      <th>252</th>\n",
       "      <td>Michael-Olise</td>\n",
       "      <td>38</td>\n",
       "      <td>2022-23</td>\n",
       "      <td>Crystal Palace</td>\n",
       "      <td>Nott'ham Forest</td>\n",
       "      <td>1.0</td>\n",
       "      <td>1760.637085</td>\n",
       "      <td>1669.525391</td>\n",
       "      <td>MID</td>\n",
       "      <td>6.0</td>\n",
       "      <td>4.171809</td>\n",
       "    </tr>\n",
       "    <tr>\n",
       "      <th>333</th>\n",
       "      <td>Trent-Alexander-Arnold</td>\n",
       "      <td>38</td>\n",
       "      <td>2022-23</td>\n",
       "      <td>Liverpool</td>\n",
       "      <td>Southampton</td>\n",
       "      <td>0.0</td>\n",
       "      <td>1953.153564</td>\n",
       "      <td>1619.777344</td>\n",
       "      <td>DEF</td>\n",
       "      <td>4.0</td>\n",
       "      <td>4.107874</td>\n",
       "    </tr>\n",
       "    <tr>\n",
       "      <th>42</th>\n",
       "      <td>Bryan-Mbeumo</td>\n",
       "      <td>38</td>\n",
       "      <td>2022-23</td>\n",
       "      <td>Brentford</td>\n",
       "      <td>Manchester City</td>\n",
       "      <td>1.0</td>\n",
       "      <td>1809.881592</td>\n",
       "      <td>2086.425293</td>\n",
       "      <td>FWD</td>\n",
       "      <td>5.0</td>\n",
       "      <td>4.060423</td>\n",
       "    </tr>\n",
       "    <tr>\n",
       "      <th>77</th>\n",
       "      <td>David-de-Gea</td>\n",
       "      <td>38</td>\n",
       "      <td>2022-23</td>\n",
       "      <td>Manchester Utd</td>\n",
       "      <td>Fulham</td>\n",
       "      <td>1.0</td>\n",
       "      <td>1869.084473</td>\n",
       "      <td>1739.748901</td>\n",
       "      <td>GK</td>\n",
       "      <td>7.0</td>\n",
       "      <td>3.984894</td>\n",
       "    </tr>\n",
       "    <tr>\n",
       "      <th>147</th>\n",
       "      <td>Jadon-Sancho</td>\n",
       "      <td>38</td>\n",
       "      <td>2022-23</td>\n",
       "      <td>Manchester Utd</td>\n",
       "      <td>Fulham</td>\n",
       "      <td>1.0</td>\n",
       "      <td>1869.084473</td>\n",
       "      <td>1739.748901</td>\n",
       "      <td>MID</td>\n",
       "      <td>9.0</td>\n",
       "      <td>3.964744</td>\n",
       "    </tr>\n",
       "    <tr>\n",
       "      <th>254</th>\n",
       "      <td>Miguel-Almiron</td>\n",
       "      <td>38</td>\n",
       "      <td>2022-23</td>\n",
       "      <td>Newcastle Utd</td>\n",
       "      <td>Chelsea</td>\n",
       "      <td>0.0</td>\n",
       "      <td>1876.791626</td>\n",
       "      <td>1786.207886</td>\n",
       "      <td>MID</td>\n",
       "      <td>2.0</td>\n",
       "      <td>3.952286</td>\n",
       "    </tr>\n",
       "    <tr>\n",
       "      <th>222</th>\n",
       "      <td>Luis-Diaz</td>\n",
       "      <td>38</td>\n",
       "      <td>2022-23</td>\n",
       "      <td>Liverpool</td>\n",
       "      <td>Southampton</td>\n",
       "      <td>0.0</td>\n",
       "      <td>1953.153564</td>\n",
       "      <td>1619.777344</td>\n",
       "      <td>MID</td>\n",
       "      <td>1.0</td>\n",
       "      <td>3.898673</td>\n",
       "    </tr>\n",
       "    <tr>\n",
       "      <th>210</th>\n",
       "      <td>Leandro-Trossard</td>\n",
       "      <td>38</td>\n",
       "      <td>2022-23</td>\n",
       "      <td>Arsenal</td>\n",
       "      <td>Wolves</td>\n",
       "      <td>1.0</td>\n",
       "      <td>1918.309692</td>\n",
       "      <td>1724.835327</td>\n",
       "      <td>MID</td>\n",
       "      <td>9.0</td>\n",
       "      <td>3.883740</td>\n",
       "    </tr>\n",
       "    <tr>\n",
       "      <th>284</th>\n",
       "      <td>Phil-Foden</td>\n",
       "      <td>38</td>\n",
       "      <td>2022-23</td>\n",
       "      <td>Manchester City</td>\n",
       "      <td>Brentford</td>\n",
       "      <td>0.0</td>\n",
       "      <td>2086.425293</td>\n",
       "      <td>1809.881592</td>\n",
       "      <td>MID</td>\n",
       "      <td>2.0</td>\n",
       "      <td>3.872297</td>\n",
       "    </tr>\n",
       "    <tr>\n",
       "      <th>2</th>\n",
       "      <td>Aaron-Ramsdale</td>\n",
       "      <td>38</td>\n",
       "      <td>2022-23</td>\n",
       "      <td>Arsenal</td>\n",
       "      <td>Wolves</td>\n",
       "      <td>1.0</td>\n",
       "      <td>1918.309692</td>\n",
       "      <td>1724.835327</td>\n",
       "      <td>GK</td>\n",
       "      <td>6.0</td>\n",
       "      <td>3.848688</td>\n",
       "    </tr>\n",
       "    <tr>\n",
       "      <th>286</th>\n",
       "      <td>Raheem-Sterling</td>\n",
       "      <td>38</td>\n",
       "      <td>2022-23</td>\n",
       "      <td>Chelsea</td>\n",
       "      <td>Newcastle Utd</td>\n",
       "      <td>1.0</td>\n",
       "      <td>1786.207886</td>\n",
       "      <td>1876.791626</td>\n",
       "      <td>MID</td>\n",
       "      <td>5.0</td>\n",
       "      <td>3.806765</td>\n",
       "    </tr>\n",
       "    <tr>\n",
       "      <th>89</th>\n",
       "      <td>Douglas-Luiz</td>\n",
       "      <td>38</td>\n",
       "      <td>2022-23</td>\n",
       "      <td>Aston Villa</td>\n",
       "      <td>Brighton</td>\n",
       "      <td>1.0</td>\n",
       "      <td>1820.092163</td>\n",
       "      <td>1834.811157</td>\n",
       "      <td>MID</td>\n",
       "      <td>7.0</td>\n",
       "      <td>3.802503</td>\n",
       "    </tr>\n",
       "    <tr>\n",
       "      <th>57</th>\n",
       "      <td>Christian-Eriksen</td>\n",
       "      <td>38</td>\n",
       "      <td>2022-23</td>\n",
       "      <td>Manchester Utd</td>\n",
       "      <td>Fulham</td>\n",
       "      <td>1.0</td>\n",
       "      <td>1869.084473</td>\n",
       "      <td>1739.748901</td>\n",
       "      <td>MID</td>\n",
       "      <td>1.0</td>\n",
       "      <td>3.795169</td>\n",
       "    </tr>\n",
       "    <tr>\n",
       "      <th>81</th>\n",
       "      <td>Dejan-Kulusevski</td>\n",
       "      <td>38</td>\n",
       "      <td>2022-23</td>\n",
       "      <td>Tottenham</td>\n",
       "      <td>Leeds United</td>\n",
       "      <td>0.0</td>\n",
       "      <td>1805.765259</td>\n",
       "      <td>1667.934448</td>\n",
       "      <td>MID</td>\n",
       "      <td>3.0</td>\n",
       "      <td>3.792364</td>\n",
       "    </tr>\n",
       "    <tr>\n",
       "      <th>195</th>\n",
       "      <td>Kaoru-Mitoma</td>\n",
       "      <td>38</td>\n",
       "      <td>2022-23</td>\n",
       "      <td>Brighton</td>\n",
       "      <td>Aston Villa</td>\n",
       "      <td>0.0</td>\n",
       "      <td>1834.811157</td>\n",
       "      <td>1820.092163</td>\n",
       "      <td>MID</td>\n",
       "      <td>1.0</td>\n",
       "      <td>3.777417</td>\n",
       "    </tr>\n",
       "  </tbody>\n",
       "</table>\n",
       "</div>"
      ],
      "text/plain": [
       "                       Name  GW   Season            Squad         Opponent  \\\n",
       "257           Mohamed-Salah  38  2022-23        Liverpool      Southampton   \n",
       "126              Harry-Kane  38  2022-23        Tottenham     Leeds United   \n",
       "105          Erling-Haaland  38  2022-23  Manchester City        Brentford   \n",
       "239         Martin-Odegaard  38  2022-23          Arsenal           Wolves   \n",
       "43              Bukayo-Saka  38  2022-23          Arsenal           Wolves   \n",
       "119           Gabriel-Jesus  38  2022-23          Arsenal           Wolves   \n",
       "234         Marcus-Rashford  38  2022-23   Manchester Utd           Fulham   \n",
       "92             Eberechi-Eze  38  2022-23   Crystal Palace  Nott'ham Forest   \n",
       "202         Kieran-Trippier  38  2022-23    Newcastle Utd          Chelsea   \n",
       "40          Bruno-Fernandes  38  2022-23   Manchester Utd           Fulham   \n",
       "44            Callum-Wilson  38  2022-23    Newcastle Utd          Chelsea   \n",
       "91            Dwight-McNeil  38  2022-23          Everton      Bournemouth   \n",
       "320           Son-Heung-min  38  2022-23        Tottenham     Leeds United   \n",
       "274           Ollie-Watkins  38  2022-23      Aston Villa         Brighton   \n",
       "12               Alex-Iwobi  38  2022-23          Everton      Bournemouth   \n",
       "252           Michael-Olise  38  2022-23   Crystal Palace  Nott'ham Forest   \n",
       "333  Trent-Alexander-Arnold  38  2022-23        Liverpool      Southampton   \n",
       "42             Bryan-Mbeumo  38  2022-23        Brentford  Manchester City   \n",
       "77             David-de-Gea  38  2022-23   Manchester Utd           Fulham   \n",
       "147            Jadon-Sancho  38  2022-23   Manchester Utd           Fulham   \n",
       "254          Miguel-Almiron  38  2022-23    Newcastle Utd          Chelsea   \n",
       "222               Luis-Diaz  38  2022-23        Liverpool      Southampton   \n",
       "210        Leandro-Trossard  38  2022-23          Arsenal           Wolves   \n",
       "284              Phil-Foden  38  2022-23  Manchester City        Brentford   \n",
       "2            Aaron-Ramsdale  38  2022-23          Arsenal           Wolves   \n",
       "286         Raheem-Sterling  38  2022-23          Chelsea    Newcastle Utd   \n",
       "89             Douglas-Luiz  38  2022-23      Aston Villa         Brighton   \n",
       "57        Christian-Eriksen  38  2022-23   Manchester Utd           Fulham   \n",
       "81         Dejan-Kulusevski  38  2022-23        Tottenham     Leeds United   \n",
       "195            Kaoru-Mitoma  38  2022-23         Brighton      Aston Villa   \n",
       "\n",
       "     Was Home  Team rating   Opp rating position  total_points      pred  \n",
       "257       0.0  1953.153564  1619.777344      MID           5.0  6.673126  \n",
       "126       0.0  1805.765259  1667.934448      FWD          16.0  5.497363  \n",
       "105       0.0  2086.425293  1809.881592      FWD           0.0  5.394333  \n",
       "239       1.0  1918.309692  1724.835327      MID           3.0  5.224923  \n",
       "43        1.0  1918.309692  1724.835327      MID           6.0  4.806306  \n",
       "119       1.0  1918.309692  1724.835327      FWD          12.0  4.804287  \n",
       "234       1.0  1869.084473  1739.748901      MID           2.0  4.740747  \n",
       "92        1.0  1760.637085  1669.525391      MID           2.0  4.617099  \n",
       "202       0.0  1876.791626  1786.207886      DEF           0.0  4.603546  \n",
       "40        1.0  1869.084473  1739.748901      MID          10.0  4.595982  \n",
       "44        0.0  1876.791626  1786.207886      FWD           1.0  4.549903  \n",
       "91        1.0  1701.569092  1665.807007      MID           3.0  4.545028  \n",
       "320       0.0  1805.765259  1667.934448      MID           5.0  4.238553  \n",
       "274       1.0  1820.092163  1834.811157      FWD           9.0  4.228574  \n",
       "12        1.0  1701.569092  1665.807007      MID           3.0  4.217087  \n",
       "252       1.0  1760.637085  1669.525391      MID           6.0  4.171809  \n",
       "333       0.0  1953.153564  1619.777344      DEF           4.0  4.107874  \n",
       "42        1.0  1809.881592  2086.425293      FWD           5.0  4.060423  \n",
       "77        1.0  1869.084473  1739.748901       GK           7.0  3.984894  \n",
       "147       1.0  1869.084473  1739.748901      MID           9.0  3.964744  \n",
       "254       0.0  1876.791626  1786.207886      MID           2.0  3.952286  \n",
       "222       0.0  1953.153564  1619.777344      MID           1.0  3.898673  \n",
       "210       1.0  1918.309692  1724.835327      MID           9.0  3.883740  \n",
       "284       0.0  2086.425293  1809.881592      MID           2.0  3.872297  \n",
       "2         1.0  1918.309692  1724.835327       GK           6.0  3.848688  \n",
       "286       1.0  1786.207886  1876.791626      MID           5.0  3.806765  \n",
       "89        1.0  1820.092163  1834.811157      MID           7.0  3.802503  \n",
       "57        1.0  1869.084473  1739.748901      MID           1.0  3.795169  \n",
       "81        0.0  1805.765259  1667.934448      MID           3.0  3.792364  \n",
       "195       0.0  1834.811157  1820.092163      MID           1.0  3.777417  "
      ]
     },
     "execution_count": 50,
     "metadata": {},
     "output_type": "execute_result"
    }
   ],
   "source": [
    "preds.head(30)"
   ]
  },
  {
   "cell_type": "code",
   "execution_count": 51,
   "id": "3fe1c712-ea38-4a91-9717-d4f520ffcb82",
   "metadata": {},
   "outputs": [
    {
     "data": {
      "text/html": [
       "<div>\n",
       "<style scoped>\n",
       "    .dataframe tbody tr th:only-of-type {\n",
       "        vertical-align: middle;\n",
       "    }\n",
       "\n",
       "    .dataframe tbody tr th {\n",
       "        vertical-align: top;\n",
       "    }\n",
       "\n",
       "    .dataframe thead th {\n",
       "        text-align: right;\n",
       "    }\n",
       "</style>\n",
       "<table border=\"1\" class=\"dataframe\">\n",
       "  <thead>\n",
       "    <tr style=\"text-align: right;\">\n",
       "      <th></th>\n",
       "      <th>Name</th>\n",
       "      <th>GW</th>\n",
       "      <th>Season</th>\n",
       "      <th>Squad</th>\n",
       "      <th>Opponent</th>\n",
       "      <th>Was Home</th>\n",
       "      <th>Team rating</th>\n",
       "      <th>Opp rating</th>\n",
       "      <th>position</th>\n",
       "      <th>total_points</th>\n",
       "      <th>pred</th>\n",
       "    </tr>\n",
       "  </thead>\n",
       "  <tbody>\n",
       "    <tr>\n",
       "      <th>105</th>\n",
       "      <td>Erling-Haaland</td>\n",
       "      <td>38</td>\n",
       "      <td>2022-23</td>\n",
       "      <td>Manchester City</td>\n",
       "      <td>Brentford</td>\n",
       "      <td>0.0</td>\n",
       "      <td>2086.425293</td>\n",
       "      <td>1809.881592</td>\n",
       "      <td>FWD</td>\n",
       "      <td>0.0</td>\n",
       "      <td>5.394333</td>\n",
       "    </tr>\n",
       "    <tr>\n",
       "      <th>284</th>\n",
       "      <td>Phil-Foden</td>\n",
       "      <td>38</td>\n",
       "      <td>2022-23</td>\n",
       "      <td>Manchester City</td>\n",
       "      <td>Brentford</td>\n",
       "      <td>0.0</td>\n",
       "      <td>2086.425293</td>\n",
       "      <td>1809.881592</td>\n",
       "      <td>MID</td>\n",
       "      <td>2.0</td>\n",
       "      <td>3.872297</td>\n",
       "    </tr>\n",
       "    <tr>\n",
       "      <th>296</th>\n",
       "      <td>Riyad-Mahrez</td>\n",
       "      <td>38</td>\n",
       "      <td>2022-23</td>\n",
       "      <td>Manchester City</td>\n",
       "      <td>Brentford</td>\n",
       "      <td>0.0</td>\n",
       "      <td>2086.425293</td>\n",
       "      <td>1809.881592</td>\n",
       "      <td>MID</td>\n",
       "      <td>2.0</td>\n",
       "      <td>3.320165</td>\n",
       "    </tr>\n",
       "    <tr>\n",
       "      <th>137</th>\n",
       "      <td>Ilkay-Gundogan</td>\n",
       "      <td>38</td>\n",
       "      <td>2022-23</td>\n",
       "      <td>Manchester City</td>\n",
       "      <td>Brentford</td>\n",
       "      <td>0.0</td>\n",
       "      <td>2086.425293</td>\n",
       "      <td>1809.881592</td>\n",
       "      <td>MID</td>\n",
       "      <td>0.0</td>\n",
       "      <td>3.187457</td>\n",
       "    </tr>\n",
       "    <tr>\n",
       "      <th>188</th>\n",
       "      <td>Julian-Alvarez</td>\n",
       "      <td>38</td>\n",
       "      <td>2022-23</td>\n",
       "      <td>Manchester City</td>\n",
       "      <td>Brentford</td>\n",
       "      <td>0.0</td>\n",
       "      <td>2086.425293</td>\n",
       "      <td>1809.881592</td>\n",
       "      <td>FWD</td>\n",
       "      <td>2.0</td>\n",
       "      <td>3.077919</td>\n",
       "    </tr>\n",
       "    <tr>\n",
       "      <th>264</th>\n",
       "      <td>Nathan-Ake</td>\n",
       "      <td>38</td>\n",
       "      <td>2022-23</td>\n",
       "      <td>Manchester City</td>\n",
       "      <td>Brentford</td>\n",
       "      <td>0.0</td>\n",
       "      <td>2086.425293</td>\n",
       "      <td>1809.881592</td>\n",
       "      <td>DEF</td>\n",
       "      <td>8.0</td>\n",
       "      <td>2.820810</td>\n",
       "    </tr>\n",
       "    <tr>\n",
       "      <th>207</th>\n",
       "      <td>Kyle-Walker</td>\n",
       "      <td>38</td>\n",
       "      <td>2022-23</td>\n",
       "      <td>Manchester City</td>\n",
       "      <td>Brentford</td>\n",
       "      <td>0.0</td>\n",
       "      <td>2086.425293</td>\n",
       "      <td>1809.881592</td>\n",
       "      <td>DEF</td>\n",
       "      <td>2.0</td>\n",
       "      <td>2.789834</td>\n",
       "    </tr>\n",
       "    <tr>\n",
       "      <th>27</th>\n",
       "      <td>Aymeric-Laporte</td>\n",
       "      <td>38</td>\n",
       "      <td>2022-23</td>\n",
       "      <td>Manchester City</td>\n",
       "      <td>Brentford</td>\n",
       "      <td>0.0</td>\n",
       "      <td>2086.425293</td>\n",
       "      <td>1809.881592</td>\n",
       "      <td>DEF</td>\n",
       "      <td>2.0</td>\n",
       "      <td>2.712513</td>\n",
       "    </tr>\n",
       "    <tr>\n",
       "      <th>295</th>\n",
       "      <td>Rico-Lewis</td>\n",
       "      <td>38</td>\n",
       "      <td>2022-23</td>\n",
       "      <td>Manchester City</td>\n",
       "      <td>Brentford</td>\n",
       "      <td>0.0</td>\n",
       "      <td>2086.425293</td>\n",
       "      <td>1809.881592</td>\n",
       "      <td>DEF</td>\n",
       "      <td>2.0</td>\n",
       "      <td>2.631621</td>\n",
       "    </tr>\n",
       "    <tr>\n",
       "      <th>301</th>\n",
       "      <td>Rodri</td>\n",
       "      <td>38</td>\n",
       "      <td>2022-23</td>\n",
       "      <td>Manchester City</td>\n",
       "      <td>Brentford</td>\n",
       "      <td>0.0</td>\n",
       "      <td>2086.425293</td>\n",
       "      <td>1809.881592</td>\n",
       "      <td>MID</td>\n",
       "      <td>0.0</td>\n",
       "      <td>2.514393</td>\n",
       "    </tr>\n",
       "    <tr>\n",
       "      <th>178</th>\n",
       "      <td>John-Stones</td>\n",
       "      <td>38</td>\n",
       "      <td>2022-23</td>\n",
       "      <td>Manchester City</td>\n",
       "      <td>Brentford</td>\n",
       "      <td>0.0</td>\n",
       "      <td>2086.425293</td>\n",
       "      <td>1809.881592</td>\n",
       "      <td>DEF</td>\n",
       "      <td>0.0</td>\n",
       "      <td>2.425311</td>\n",
       "    </tr>\n",
       "    <tr>\n",
       "      <th>61</th>\n",
       "      <td>Cole-Palmer</td>\n",
       "      <td>38</td>\n",
       "      <td>2022-23</td>\n",
       "      <td>Manchester City</td>\n",
       "      <td>Brentford</td>\n",
       "      <td>0.0</td>\n",
       "      <td>2086.425293</td>\n",
       "      <td>1809.881592</td>\n",
       "      <td>MID</td>\n",
       "      <td>2.0</td>\n",
       "      <td>2.272401</td>\n",
       "    </tr>\n",
       "    <tr>\n",
       "      <th>193</th>\n",
       "      <td>Kalvin-Phillips</td>\n",
       "      <td>38</td>\n",
       "      <td>2022-23</td>\n",
       "      <td>Manchester City</td>\n",
       "      <td>Brentford</td>\n",
       "      <td>0.0</td>\n",
       "      <td>2086.425293</td>\n",
       "      <td>1809.881592</td>\n",
       "      <td>MID</td>\n",
       "      <td>2.0</td>\n",
       "      <td>2.270176</td>\n",
       "    </tr>\n",
       "    <tr>\n",
       "      <th>94</th>\n",
       "      <td>Ederson</td>\n",
       "      <td>38</td>\n",
       "      <td>2022-23</td>\n",
       "      <td>Manchester City</td>\n",
       "      <td>Brentford</td>\n",
       "      <td>0.0</td>\n",
       "      <td>2086.425293</td>\n",
       "      <td>1809.881592</td>\n",
       "      <td>GK</td>\n",
       "      <td>3.0</td>\n",
       "      <td>1.767205</td>\n",
       "    </tr>\n",
       "    <tr>\n",
       "      <th>31</th>\n",
       "      <td>Bernardo-Silva</td>\n",
       "      <td>38</td>\n",
       "      <td>2022-23</td>\n",
       "      <td>Manchester City</td>\n",
       "      <td>Brentford</td>\n",
       "      <td>0.0</td>\n",
       "      <td>2086.425293</td>\n",
       "      <td>1809.881592</td>\n",
       "      <td>MID</td>\n",
       "      <td>0.0</td>\n",
       "      <td>1.736383</td>\n",
       "    </tr>\n",
       "    <tr>\n",
       "      <th>317</th>\n",
       "      <td>Sergio-Gomez</td>\n",
       "      <td>38</td>\n",
       "      <td>2022-23</td>\n",
       "      <td>Manchester City</td>\n",
       "      <td>Brentford</td>\n",
       "      <td>0.0</td>\n",
       "      <td>2086.425293</td>\n",
       "      <td>1809.881592</td>\n",
       "      <td>DEF</td>\n",
       "      <td>2.0</td>\n",
       "      <td>1.622263</td>\n",
       "    </tr>\n",
       "    <tr>\n",
       "      <th>319</th>\n",
       "      <td>Shea-Charles</td>\n",
       "      <td>38</td>\n",
       "      <td>2022-23</td>\n",
       "      <td>Manchester City</td>\n",
       "      <td>Brentford</td>\n",
       "      <td>0.0</td>\n",
       "      <td>2086.425293</td>\n",
       "      <td>1809.881592</td>\n",
       "      <td>MID</td>\n",
       "      <td>1.0</td>\n",
       "      <td>0.487471</td>\n",
       "    </tr>\n",
       "  </tbody>\n",
       "</table>\n",
       "</div>"
      ],
      "text/plain": [
       "                Name  GW   Season            Squad   Opponent  Was Home  \\\n",
       "105   Erling-Haaland  38  2022-23  Manchester City  Brentford       0.0   \n",
       "284       Phil-Foden  38  2022-23  Manchester City  Brentford       0.0   \n",
       "296     Riyad-Mahrez  38  2022-23  Manchester City  Brentford       0.0   \n",
       "137   Ilkay-Gundogan  38  2022-23  Manchester City  Brentford       0.0   \n",
       "188   Julian-Alvarez  38  2022-23  Manchester City  Brentford       0.0   \n",
       "264       Nathan-Ake  38  2022-23  Manchester City  Brentford       0.0   \n",
       "207      Kyle-Walker  38  2022-23  Manchester City  Brentford       0.0   \n",
       "27   Aymeric-Laporte  38  2022-23  Manchester City  Brentford       0.0   \n",
       "295       Rico-Lewis  38  2022-23  Manchester City  Brentford       0.0   \n",
       "301            Rodri  38  2022-23  Manchester City  Brentford       0.0   \n",
       "178      John-Stones  38  2022-23  Manchester City  Brentford       0.0   \n",
       "61       Cole-Palmer  38  2022-23  Manchester City  Brentford       0.0   \n",
       "193  Kalvin-Phillips  38  2022-23  Manchester City  Brentford       0.0   \n",
       "94           Ederson  38  2022-23  Manchester City  Brentford       0.0   \n",
       "31    Bernardo-Silva  38  2022-23  Manchester City  Brentford       0.0   \n",
       "317     Sergio-Gomez  38  2022-23  Manchester City  Brentford       0.0   \n",
       "319     Shea-Charles  38  2022-23  Manchester City  Brentford       0.0   \n",
       "\n",
       "     Team rating   Opp rating position  total_points      pred  \n",
       "105  2086.425293  1809.881592      FWD           0.0  5.394333  \n",
       "284  2086.425293  1809.881592      MID           2.0  3.872297  \n",
       "296  2086.425293  1809.881592      MID           2.0  3.320165  \n",
       "137  2086.425293  1809.881592      MID           0.0  3.187457  \n",
       "188  2086.425293  1809.881592      FWD           2.0  3.077919  \n",
       "264  2086.425293  1809.881592      DEF           8.0  2.820810  \n",
       "207  2086.425293  1809.881592      DEF           2.0  2.789834  \n",
       "27   2086.425293  1809.881592      DEF           2.0  2.712513  \n",
       "295  2086.425293  1809.881592      DEF           2.0  2.631621  \n",
       "301  2086.425293  1809.881592      MID           0.0  2.514393  \n",
       "178  2086.425293  1809.881592      DEF           0.0  2.425311  \n",
       "61   2086.425293  1809.881592      MID           2.0  2.272401  \n",
       "193  2086.425293  1809.881592      MID           2.0  2.270176  \n",
       "94   2086.425293  1809.881592       GK           3.0  1.767205  \n",
       "31   2086.425293  1809.881592      MID           0.0  1.736383  \n",
       "317  2086.425293  1809.881592      DEF           2.0  1.622263  \n",
       "319  2086.425293  1809.881592      MID           1.0  0.487471  "
      ]
     },
     "execution_count": 51,
     "metadata": {},
     "output_type": "execute_result"
    }
   ],
   "source": [
    "preds[preds[\"Squad\"] == \"Manchester City\"].head(20)"
   ]
  },
  {
   "cell_type": "code",
   "execution_count": 52,
   "id": "59f25158-05b0-41d2-ad7d-2eb99aafc1e2",
   "metadata": {},
   "outputs": [],
   "source": [
    "# preds[preds[\"position\"] == \"FWD\"].head(15)"
   ]
  },
  {
   "cell_type": "markdown",
   "id": "3ed6461a-a67a-4068-984b-c17e9a1d8c7b",
   "metadata": {},
   "source": [
    "# Feature importance and influence"
   ]
  },
  {
   "cell_type": "code",
   "execution_count": 53,
   "id": "7f0acc94-8661-4933-926c-859679ba5d4f",
   "metadata": {},
   "outputs": [],
   "source": [
    "# plot_importance(model)"
   ]
  },
  {
   "cell_type": "code",
   "execution_count": 54,
   "id": "fc68979d-f8e7-4f44-ae50-22ef7b92b9e1",
   "metadata": {},
   "outputs": [],
   "source": [
    "# fig, ax = plt.subplots(figsize=(16, 8))\n",
    "# plot_partial_dependence(model, X_train, features, ax=ax)"
   ]
  },
  {
   "cell_type": "code",
   "execution_count": 55,
   "id": "c90e9b27-43c3-4253-830d-53c3532c5197",
   "metadata": {},
   "outputs": [
    {
     "name": "stderr",
     "output_type": "stream",
     "text": [
      "Permutation explainer: 355it [00:28,  8.73it/s]                                                                                                                                    \n"
     ]
    }
   ],
   "source": [
    "explainer = shap.Explainer(model.predict, X_test)\n",
    "shap_values = explainer(X_test)"
   ]
  },
  {
   "cell_type": "code",
   "execution_count": 56,
   "id": "f73757e7-4125-4657-8b78-914b5324a9e9",
   "metadata": {},
   "outputs": [
    {
     "data": {
      "image/png": "[encoded data removed]",
      "text/plain": [
       "<Figure size 576x648 with 1 Axes>"
      ]
     },
     "metadata": {},
     "output_type": "display_data"
    }
   ],
   "source": [
    "shap.plots.bar(shap_values, max_display=15)"
   ]
  },
  {
   "cell_type": "code",
   "execution_count": 57,
   "id": "4d1a6591-e086-4156-a51a-3ccfd3489561",
   "metadata": {},
   "outputs": [
    {
     "data": {
      "image/png": "[encoded data removed]",
      "text/plain": [
       "<Figure size 576x396 with 2 Axes>"
      ]
     },
     "metadata": {
      "needs_background": "light"
     },
     "output_type": "display_data"
    }
   ],
   "source": [
    "shap.plots.beeswarm(shap_values)"
   ]
  },
  {
   "cell_type": "code",
   "execution_count": 58,
   "id": "b1d832a7-6e45-4286-a102-029a56916c45",
   "metadata": {},
   "outputs": [
    {
     "data": {
      "image/png": "[encoded data removed]",
      "text/plain": [
       "<Figure size 576x648 with 1 Axes>"
      ]
     },
     "metadata": {},
     "output_type": "display_data"
    }
   ],
   "source": [
    "shap.plots.bar(shap_values[105], max_display=15)"
   ]
  },
  {
   "cell_type": "code",
   "execution_count": null,
   "id": "7a499fd2-fa5b-46a4-aa25-83b74622b7b4",
   "metadata": {},
   "outputs": [],
   "source": []
  }
 ],
 "metadata": {
  "kernelspec": {
   "display_name": "Python 3 (ipykernel)",
   "language": "python",
   "name": "python3"
  },
  "language_info": {
   "codemirror_mode": {
    "name": "ipython",
    "version": 3
   },
   "file_extension": ".py",
   "mimetype": "text/x-python",
   "name": "python",
   "nbconvert_exporter": "python",
   "pygments_lexer": "ipython3",
   "version": "3.8.0"
  }
 },
 "nbformat": 4,
 "nbformat_minor": 5
}
