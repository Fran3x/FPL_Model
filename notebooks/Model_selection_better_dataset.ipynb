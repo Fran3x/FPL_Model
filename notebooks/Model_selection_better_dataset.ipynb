{
 "cells": [
  {
   "cell_type": "markdown",
   "id": "e61cf721-96f7-4f7c-a5c5-343917267d91",
   "metadata": {},
   "source": [
    "\n",
    "# Imports"
   ]
  },
  {
   "cell_type": "code",
   "execution_count": 1,
   "id": "c2b67ee7-f81a-4a96-bd38-8149efc725cf",
   "metadata": {},
   "outputs": [],
   "source": [
    "import os\n",
    "os.chdir(\"D:\\PulpitE\\FPL_ML\")"
   ]
  },
  {
   "cell_type": "code",
   "execution_count": 2,
   "id": "3f447fc0-41e6-4c50-967e-2cc314a1e81f",
   "metadata": {},
   "outputs": [],
   "source": [
    "import matplotlib.pyplot as plt\n",
    "import pandas as pd\n",
    "import numpy as np\n",
    "import shap\n",
    "\n",
    "from sklearn.ensemble import GradientBoostingRegressor\n",
    "from sklearn.linear_model import SGDRegressor\n",
    "from xgboost import XGBRegressor\n",
    "from sklearn.ensemble import AdaBoostRegressor\n",
    "from sklearn.linear_model import ElasticNet\n",
    "from sklearn.neighbors import KNeighborsRegressor\n",
    "from sklearn.ensemble import RandomForestRegressor\n",
    "from sklearn.svm import SVR\n",
    "from lightgbm import LGBMRegressor\n",
    "\n",
    "from statistics import mean\n",
    "from scipy.stats import tmean\n",
    "from sklearn.metrics import mean_absolute_error, mean_squared_error\n",
    "\n",
    "from sklearn.preprocessing import LabelEncoder\n",
    "from xgboost import plot_importance\n",
    "from sklearn.inspection import plot_partial_dependence"
   ]
  },
  {
   "cell_type": "code",
   "execution_count": 3,
   "id": "217927df-909e-4a95-9e59-651d57e312db",
   "metadata": {},
   "outputs": [
    {
     "name": "stderr",
     "output_type": "stream",
     "text": [
      "Columns (53) have mixed types.Specify dtype option on import or set low_memory=False.\n"
     ]
    }
   ],
   "source": [
    "# loading csv\n",
    "df_original = pd.read_csv('data/final_dataset.csv').drop(\"Unnamed: 0\", axis=1)\n",
    "\n",
    "df = df_original.copy()"
   ]
  },
  {
   "cell_type": "code",
   "execution_count": 4,
   "id": "5cb7bf65-349a-41e0-a292-57068e080a71",
   "metadata": {},
   "outputs": [],
   "source": [
    "# df_original[df_original[\"Name\"] == \"Mohamed-Salah\"].groupby([\"Pos\"]).mean()[\"Total Points\"]"
   ]
  },
  {
   "cell_type": "code",
   "execution_count": 5,
   "id": "dca8a691-f6e5-4b02-9285-aaaaf998f8f2",
   "metadata": {},
   "outputs": [],
   "source": [
    "df = df.rename(columns={'GW_x': 'GW'})\n",
    "# df = df[~(df['position'].isin(['GK']))]\n",
    "# df = df[df['position'].isin(['MID'])]"
   ]
  },
  {
   "cell_type": "code",
   "execution_count": 6,
   "id": "a283588a-ee6e-4ceb-8f44-02c68a49d0bb",
   "metadata": {},
   "outputs": [],
   "source": [
    "# df_original[[\"expected_goals\", \"xG\"]]"
   ]
  },
  {
   "cell_type": "code",
   "execution_count": 7,
   "id": "9d26510c-dba9-4395-b0e9-c610765c2fbd",
   "metadata": {},
   "outputs": [
    {
     "data": {
      "text/plain": [
       "array([ 2.,  1.,  0., nan,  3.,  4.,  5.,  7.,  6.,  8.,  9.])"
      ]
     },
     "execution_count": 7,
     "metadata": {},
     "output_type": "execute_result"
    }
   ],
   "source": [
    "df_original[\"goals_conceded\"].unique()"
   ]
  },
  {
   "cell_type": "code",
   "execution_count": 8,
   "id": "cf3dd6ae-ffd6-4a9c-8fa4-a61d313f793c",
   "metadata": {},
   "outputs": [],
   "source": [
    "# df_original.columns.to_list()"
   ]
  },
  {
   "cell_type": "code",
   "execution_count": 9,
   "id": "247a5fe7-171c-41c4-bde3-d33a0dff195c",
   "metadata": {},
   "outputs": [
    {
     "data": {
      "text/plain": [
       "array(['DEF', nan, 'GK', 'MID', 'FWD'], dtype=object)"
      ]
     },
     "execution_count": 9,
     "metadata": {},
     "output_type": "execute_result"
    }
   ],
   "source": [
    "df[\"position\"].unique()"
   ]
  },
  {
   "cell_type": "code",
   "execution_count": 10,
   "id": "5c1b9133-98f1-4547-aa9a-01dac513f0e0",
   "metadata": {},
   "outputs": [
    {
     "data": {
      "text/plain": [
       "(24683, 117)"
      ]
     },
     "execution_count": 10,
     "metadata": {},
     "output_type": "execute_result"
    }
   ],
   "source": [
    "df.shape"
   ]
  },
  {
   "cell_type": "markdown",
   "id": "32eaa7fb-e3cc-4e17-a8b1-cc301aa3a766",
   "metadata": {},
   "source": [
    "# Features"
   ]
  },
  {
   "cell_type": "code",
   "execution_count": 11,
   "id": "29b66688-3e11-4ea5-a9ed-77be552e5e4a",
   "metadata": {},
   "outputs": [],
   "source": [
    "# rolling_gameweeks = [2, 3, 5, 10, 20, 30]\n",
    "rolling_gameweeks = [2, 4, 30]\n",
    "\n",
    "to_predict = [\"total_points\"]\n",
    "features1 = [\n",
    "             \"Was Home\", # Home/Away\n",
    "             \"Team rating\", \"Opp rating\", # Team ratings\n",
    "             ]\n",
    "features_to_roll = [\n",
    "                \"Min\", \"Start\", # time played\n",
    "                'Gls', 'Sh', 'SoT', # Goals\n",
    "                'Ast', # Assists\n",
    "    #             'CrdY', 'CrdR', # Cards\n",
    "                \"xG\", 'xAG', # Expected\n",
    "    #             'CS', # Defence\n",
    "    #             'Team Score', 'Opp Score', # Team form\n",
    "    #             # \"xGPoints\", \"CSPoints\", # Position-scaled\n",
    "    #             # \"Cmp%\", \"PrgP\", \"PrgC\", \"Succ\", \"PKwon\",\n",
    "    #             'bonus', \n",
    "    # # 'bps', # Bonus\n",
    "                # 'influence', 'creativity', 'threat', 'ict_index', # ICT\n",
    "                # \"total_points\" # FPL points\n",
    "            ]\n",
    "# features_to_roll = \"Min\"\n",
    "info = [\"Name\", \"GW\", \"Season\", \"Squad\", \"Opponent\", \"Was Home\", \"Team rating\", \"Opp rating\", \"position\"]"
   ]
  },
  {
   "cell_type": "code",
   "execution_count": 12,
   "id": "49cfcf71-b36d-4df2-ab4b-4d37b31f63c5",
   "metadata": {},
   "outputs": [],
   "source": [
    "# df[features_to_roll + info].isnull().sum(axis=0).sort_values(ascending=False).head(30)"
   ]
  },
  {
   "cell_type": "markdown",
   "id": "fe7a4ac1-336c-4ea4-ad91-24489c66e789",
   "metadata": {},
   "source": [
    "# Preparing dataset"
   ]
  },
  {
   "cell_type": "code",
   "execution_count": 13,
   "id": "da07449d-3b7f-49f2-bd03-563846abec7b",
   "metadata": {},
   "outputs": [],
   "source": [
    "def calculate_xg_points(row):\n",
    "    if row[\"position\"] == \"GK\":\n",
    "        return row[\"xG\"] * 6\n",
    "    elif row[\"position\"] == \"DEF\":\n",
    "        return row[\"xG\"] * 6\n",
    "    elif row[\"position\"] == \"MID\":\n",
    "        return row[\"xG\"] * 5\n",
    "    elif row[\"position\"] == \"FWD\":\n",
    "        return row[\"xG\"] * 4\n",
    "    else:\n",
    "        return row[\"xG\"] * 5\n",
    "\n",
    "df[\"xGPoints\"] = df.apply(calculate_xg_points, axis=1)"
   ]
  },
  {
   "cell_type": "code",
   "execution_count": 14,
   "id": "9b278ffd-e7d7-47fe-88a0-47d9598fa159",
   "metadata": {},
   "outputs": [],
   "source": [
    "def calculate_cs_points(row):\n",
    "    if row[\"position\"] == \"GK\":\n",
    "        return row[\"xG\"] * 4\n",
    "    elif row[\"position\"] == \"DEF\":\n",
    "        return row[\"xG\"] * 4\n",
    "    elif row[\"position\"] == \"MID\":\n",
    "        return row[\"xG\"] * 1\n",
    "    elif row[\"position\"] == \"FWD\":\n",
    "        return row[\"xG\"] * 0\n",
    "    else:\n",
    "        return row[\"xG\"] * 1\n",
    "\n",
    "df[\"CSPoints\"] = df.apply(calculate_cs_points, axis=1)"
   ]
  },
  {
   "cell_type": "code",
   "execution_count": 15,
   "id": "2fe53aca-b1c7-4f24-87ae-81fe1ab6f532",
   "metadata": {},
   "outputs": [],
   "source": [
    "def add_rolling_features(df, features1, features_to_roll):\n",
    "    features = features1\n",
    "    \n",
    "    for r in rolling_gameweeks:\n",
    "        form_means = df.groupby([\"Name\"])[features_to_roll].rolling(r, min_periods=1).mean().groupby([\"Name\"]).shift(1).reset_index()\n",
    "        form_means = form_means.fillna(method='bfill')\n",
    "        \n",
    "        form_means.columns = [f'{col}{\"_\"}{r}' for col in form_means.columns]\n",
    "        features += form_means.columns.tolist()\n",
    "        features = list(filter(lambda x: x not in [\"Name_\" + str(r)], features))\n",
    "        df = pd.concat([df, form_means], axis=1)\n",
    "        \n",
    "    return df, features"
   ]
  },
  {
   "cell_type": "code",
   "execution_count": 16,
   "id": "2e46c21c-3984-42e5-a6ff-a4118cb1f802",
   "metadata": {},
   "outputs": [],
   "source": [
    "def ohe(df, ohe_columns, features):\n",
    "    # one hot encoding\n",
    "    for c in ohe_columns:\n",
    "        ohe_c = pd.get_dummies(df[c], dtype=\"int64\")\n",
    "        df = pd.concat([df, ohe_c], axis=1)\n",
    "\n",
    "        features += ohe_c.columns.tolist()\n",
    "        \n",
    "    return df, features"
   ]
  },
  {
   "cell_type": "code",
   "execution_count": 17,
   "id": "026526dc-1fdd-4eb4-854e-c3e383197574",
   "metadata": {},
   "outputs": [],
   "source": [
    "def label_encoding(df, column_to_encode):\n",
    "    \n",
    "    mapping_dict = {\n",
    "        'Y': 2,\n",
    "        'Y*': 1,\n",
    "        'N': 0,\n",
    "    }\n",
    "    \n",
    "    df[column_to_encode] = df[column_to_encode].map(mapping_dict)\n",
    "    \n",
    "    return df"
   ]
  },
  {
   "cell_type": "code",
   "execution_count": 18,
   "id": "aeefc061-5f68-4e0c-953b-3033c967b01f",
   "metadata": {},
   "outputs": [],
   "source": [
    "df = df.reset_index()"
   ]
  },
  {
   "cell_type": "code",
   "execution_count": 19,
   "id": "c963831b-e2ec-4958-b2da-99c9eb5cf759",
   "metadata": {},
   "outputs": [],
   "source": [
    "df, features = add_rolling_features(df, features1, features_to_roll)"
   ]
  },
  {
   "cell_type": "code",
   "execution_count": 20,
   "id": "b0dd88c1-dbbe-41f8-8159-b8e73f7f5c0d",
   "metadata": {},
   "outputs": [],
   "source": [
    "# df, features = ohe(df, [\"position\"], features)"
   ]
  },
  {
   "cell_type": "code",
   "execution_count": 21,
   "id": "dc05870f-c6a1-4340-b061-6b0f9da5ff46",
   "metadata": {},
   "outputs": [],
   "source": [
    "df = label_encoding(df, \"Start\")"
   ]
  },
  {
   "cell_type": "code",
   "execution_count": 22,
   "id": "871534cf-bd8d-49ed-bb56-d3ffaa9d8478",
   "metadata": {},
   "outputs": [],
   "source": [
    "# dropping unwanted columns\n",
    "features = [col for col in features if not col.startswith('level')]\n",
    "df = df[np.unique(features + info + to_predict)]"
   ]
  },
  {
   "cell_type": "code",
   "execution_count": 23,
   "id": "269a1373-9fbd-4aa3-a095-5ad1c74be587",
   "metadata": {},
   "outputs": [],
   "source": [
    "df = df[pd.to_numeric(df[\"GW\"], errors=\"coerce\").notna()]\n",
    "df[\"GW\"] = df[\"GW\"].astype(\"uint64\")"
   ]
  },
  {
   "cell_type": "code",
   "execution_count": 24,
   "id": "dbd5108b-c4b3-4268-9a8d-6e0ebdbe7a8d",
   "metadata": {},
   "outputs": [],
   "source": [
    "# dropping NaNs\n",
    "df = df.dropna(axis=0)"
   ]
  },
  {
   "cell_type": "code",
   "execution_count": 25,
   "id": "eb1b8f09-495e-4f39-abec-238b6ff2d3d2",
   "metadata": {},
   "outputs": [],
   "source": [
    "df = df.set_index([\"Name\", \"Season\", \"GW\"], drop=False)"
   ]
  },
  {
   "cell_type": "code",
   "execution_count": 26,
   "id": "aa7edd40-4433-4d9d-bc95-747fd5fcc118",
   "metadata": {},
   "outputs": [
    {
     "data": {
      "text/plain": [
       "Index(['Ast_2', 'Ast_30', 'Ast_4', 'GW', 'Gls_2', 'Gls_30', 'Gls_4', 'Min_2',\n",
       "       'Min_30', 'Min_4', 'Name', 'Opp rating', 'Opponent', 'Season', 'Sh_2',\n",
       "       'Sh_30', 'Sh_4', 'SoT_2', 'SoT_30', 'SoT_4', 'Squad', 'Team rating',\n",
       "       'Was Home', 'position', 'total_points', 'xAG_2', 'xAG_30', 'xAG_4',\n",
       "       'xG_2', 'xG_30', 'xG_4'],\n",
       "      dtype='object')"
      ]
     },
     "execution_count": 26,
     "metadata": {},
     "output_type": "execute_result"
    }
   ],
   "source": [
    "df.columns"
   ]
  },
  {
   "cell_type": "code",
   "execution_count": 27,
   "id": "f9ac2b91-59ee-4d56-97be-b9a374d36604",
   "metadata": {},
   "outputs": [
    {
     "data": {
      "text/plain": [
       "(22151, 31)"
      ]
     },
     "execution_count": 27,
     "metadata": {},
     "output_type": "execute_result"
    }
   ],
   "source": [
    "df.shape"
   ]
  },
  {
   "cell_type": "markdown",
   "id": "fc895e8b-ed8c-4c03-89fe-eccde0b4c26e",
   "metadata": {},
   "source": [
    "# Choosing features and splitting data"
   ]
  },
  {
   "cell_type": "code",
   "execution_count": 28,
   "id": "1a46a038-a0b2-4348-b87c-2ca15569f6eb",
   "metadata": {},
   "outputs": [],
   "source": [
    "GAMEWEEK_TO_PREDICT = 32\n",
    "SEASON_TO_PREDICT = \"2022-23\""
   ]
  },
  {
   "cell_type": "code",
   "execution_count": 29,
   "id": "45b9f614-d91d-491f-b5d0-d278db561c2d",
   "metadata": {},
   "outputs": [],
   "source": [
    "# gameweeks 6-14 is training data, gw 15 is test data\n",
    "X_train = df[((df[\"Season\"] <= SEASON_TO_PREDICT) & (df[\"GW\"] >= 1) & (df[\"GW\"] <= GAMEWEEK_TO_PREDICT - 1))][features].reset_index(drop=True)\n",
    "y_train = df[((df[\"Season\"] <= SEASON_TO_PREDICT) & (df[\"GW\"] >= 1) & (df[\"GW\"] <= GAMEWEEK_TO_PREDICT - 1))][to_predict].reset_index(drop=True)"
   ]
  },
  {
   "cell_type": "code",
   "execution_count": 30,
   "id": "7996012d-2bf5-45da-a29e-e75932313172",
   "metadata": {},
   "outputs": [],
   "source": [
    "X_test = df[(df[\"GW\"] == GAMEWEEK_TO_PREDICT) & (df[\"Season\"] == SEASON_TO_PREDICT) ][features].reset_index(drop=True)\n",
    "y_test = df[(df[\"GW\"] == GAMEWEEK_TO_PREDICT) & (df[\"Season\"] == SEASON_TO_PREDICT) ][to_predict].reset_index(drop=True)"
   ]
  },
  {
   "cell_type": "code",
   "execution_count": 31,
   "id": "dcf0a862-ff68-4236-8fcb-dcf5e8ebe29f",
   "metadata": {},
   "outputs": [
    {
     "data": {
      "text/plain": [
       "((18220, 24), (370, 24))"
      ]
     },
     "execution_count": 31,
     "metadata": {},
     "output_type": "execute_result"
    }
   ],
   "source": [
    "X_train.shape, X_test.shape"
   ]
  },
  {
   "cell_type": "markdown",
   "id": "bd2b3df9-363d-4c0a-8a1b-ce561ee29b23",
   "metadata": {},
   "source": [
    "# Model"
   ]
  },
  {
   "cell_type": "code",
   "execution_count": 32,
   "id": "6e50771d-93f9-4474-9cfa-a02cfde8c162",
   "metadata": {},
   "outputs": [],
   "source": [
    "class HybridModel:\n",
    "    def __init__(self, models, names, weights):\n",
    "        self.models = models\n",
    "        self.model_names = names\n",
    "        self.weights = weights\n",
    "    \n",
    "    def fit(self, X, y):\n",
    "        for model in self.models:\n",
    "            model.fit(X, y)\n",
    "        \n",
    "    def predict(self, X):\n",
    "        model_preds = [model.predict(X) for model in self.models]\n",
    "        preds = []\n",
    "        for i in range(len(model_preds[0])):\n",
    "            preds.append(np.mean([x[i] for x in model_preds]))\n",
    "        return preds\n",
    "    \n",
    "    def evaluate(self, X, y):\n",
    "        ys = [np.expm1(model.predict(X)) for model in self.models]\n",
    "        y_ensemble = self.predict(X)\n",
    "        \n",
    "        rmsle_ys = [(mean_squared_log_error(y, y_model) ** 0.5) for y_model in ys]\n",
    "        rmsle_ensemble = mean_squared_log_error(y, y_ensemble) ** 0.5\n",
    "        \n",
    "        for i in range(0, len(self.models)):\n",
    "            print(f\"RMSLE on {self.model_names[i]} model: {rmsle_ys[i]}\")\n",
    "        print(f\"RMSLE on ensemble model: {rmsle_ensemble}\")"
   ]
  },
  {
   "cell_type": "code",
   "execution_count": 33,
   "id": "55b762b9-12bb-4b40-94f7-9c1681a8ad69",
   "metadata": {},
   "outputs": [],
   "source": [
    "lgbm = LGBMRegressor(random_state=42)\n",
    "xgb = XGBRegressor(random_state=42)\n",
    "gbr = GradientBoostingRegressor(random_state=42)\n",
    "\n",
    "names = [\n",
    "    \"LGBM\",\n",
    "    \"XGB\",\n",
    "    \"GBR\"\n",
    "]\n",
    "\n",
    "weights = [\n",
    "    1,\n",
    "    1,\n",
    "    1\n",
    "]\n",
    "\n",
    "# hybrid arguments\n",
    "models = [\n",
    "    lgbm, \n",
    "    xgb, \n",
    "    gbr\n",
    "]\n",
    "\n",
    "model = HybridModel(models, names, weights)"
   ]
  },
  {
   "cell_type": "code",
   "execution_count": 34,
   "id": "869c69e0-56ad-4baf-a403-dcdc61f7adec",
   "metadata": {},
   "outputs": [],
   "source": [
    "model = GradientBoostingRegressor(random_state=42)\n",
    "# model = LGBMRegressor(random_state=42)\n",
    "# model = XGBRegressor(random_state=42)\n",
    "# model = RandomForestRegressor()"
   ]
  },
  {
   "cell_type": "code",
   "execution_count": 35,
   "id": "8531e1e4-92af-494b-b5b7-7a48f2796fa6",
   "metadata": {},
   "outputs": [
    {
     "name": "stdout",
     "output_type": "stream",
     "text": [
      "CPU times: total: 3.59 s\n",
      "Wall time: 3.75 s\n"
     ]
    },
    {
     "data": {
      "text/html": [
       "<style>#sk-container-id-1 {color: black;background-color: white;}#sk-container-id-1 pre{padding: 0;}#sk-container-id-1 div.sk-toggleable {background-color: white;}#sk-container-id-1 label.sk-toggleable__label {cursor: pointer;display: block;width: 100%;margin-bottom: 0;padding: 0.3em;box-sizing: border-box;text-align: center;}#sk-container-id-1 label.sk-toggleable__label-arrow:before {content: \"▸\";float: left;margin-right: 0.25em;color: #696969;}#sk-container-id-1 label.sk-toggleable__label-arrow:hover:before {color: black;}#sk-container-id-1 div.sk-estimator:hover label.sk-toggleable__label-arrow:before {color: black;}#sk-container-id-1 div.sk-toggleable__content {max-height: 0;max-width: 0;overflow: hidden;text-align: left;background-color: #f0f8ff;}#sk-container-id-1 div.sk-toggleable__content pre {margin: 0.2em;color: black;border-radius: 0.25em;background-color: #f0f8ff;}#sk-container-id-1 input.sk-toggleable__control:checked~div.sk-toggleable__content {max-height: 200px;max-width: 100%;overflow: auto;}#sk-container-id-1 input.sk-toggleable__control:checked~label.sk-toggleable__label-arrow:before {content: \"▾\";}#sk-container-id-1 div.sk-estimator input.sk-toggleable__control:checked~label.sk-toggleable__label {background-color: #d4ebff;}#sk-container-id-1 div.sk-label input.sk-toggleable__control:checked~label.sk-toggleable__label {background-color: #d4ebff;}#sk-container-id-1 input.sk-hidden--visually {border: 0;clip: rect(1px 1px 1px 1px);clip: rect(1px, 1px, 1px, 1px);height: 1px;margin: -1px;overflow: hidden;padding: 0;position: absolute;width: 1px;}#sk-container-id-1 div.sk-estimator {font-family: monospace;background-color: #f0f8ff;border: 1px dotted black;border-radius: 0.25em;box-sizing: border-box;margin-bottom: 0.5em;}#sk-container-id-1 div.sk-estimator:hover {background-color: #d4ebff;}#sk-container-id-1 div.sk-parallel-item::after {content: \"\";width: 100%;border-bottom: 1px solid gray;flex-grow: 1;}#sk-container-id-1 div.sk-label:hover label.sk-toggleable__label {background-color: #d4ebff;}#sk-container-id-1 div.sk-serial::before {content: \"\";position: absolute;border-left: 1px solid gray;box-sizing: border-box;top: 0;bottom: 0;left: 50%;z-index: 0;}#sk-container-id-1 div.sk-serial {display: flex;flex-direction: column;align-items: center;background-color: white;padding-right: 0.2em;padding-left: 0.2em;position: relative;}#sk-container-id-1 div.sk-item {position: relative;z-index: 1;}#sk-container-id-1 div.sk-parallel {display: flex;align-items: stretch;justify-content: center;background-color: white;position: relative;}#sk-container-id-1 div.sk-item::before, #sk-container-id-1 div.sk-parallel-item::before {content: \"\";position: absolute;border-left: 1px solid gray;box-sizing: border-box;top: 0;bottom: 0;left: 50%;z-index: -1;}#sk-container-id-1 div.sk-parallel-item {display: flex;flex-direction: column;z-index: 1;position: relative;background-color: white;}#sk-container-id-1 div.sk-parallel-item:first-child::after {align-self: flex-end;width: 50%;}#sk-container-id-1 div.sk-parallel-item:last-child::after {align-self: flex-start;width: 50%;}#sk-container-id-1 div.sk-parallel-item:only-child::after {width: 0;}#sk-container-id-1 div.sk-dashed-wrapped {border: 1px dashed gray;margin: 0 0.4em 0.5em 0.4em;box-sizing: border-box;padding-bottom: 0.4em;background-color: white;}#sk-container-id-1 div.sk-label label {font-family: monospace;font-weight: bold;display: inline-block;line-height: 1.2em;}#sk-container-id-1 div.sk-label-container {text-align: center;}#sk-container-id-1 div.sk-container {/* jupyter's `normalize.less` sets `[hidden] { display: none; }` but bootstrap.min.css set `[hidden] { display: none !important; }` so we also need the `!important` here to be able to override the default hidden behavior on the sphinx rendered scikit-learn.org. See: https://github.com/scikit-learn/scikit-learn/issues/21755 */display: inline-block !important;position: relative;}#sk-container-id-1 div.sk-text-repr-fallback {display: none;}</style><div id=\"sk-container-id-1\" class=\"sk-top-container\"><div class=\"sk-text-repr-fallback\"><pre>GradientBoostingRegressor(random_state=42)</pre><b>In a Jupyter environment, please rerun this cell to show the HTML representation or trust the notebook. <br />On GitHub, the HTML representation is unable to render, please try loading this page with nbviewer.org.</b></div><div class=\"sk-container\" hidden><div class=\"sk-item\"><div class=\"sk-estimator sk-toggleable\"><input class=\"sk-toggleable__control sk-hidden--visually\" id=\"sk-estimator-id-1\" type=\"checkbox\" checked><label for=\"sk-estimator-id-1\" class=\"sk-toggleable__label sk-toggleable__label-arrow\">GradientBoostingRegressor</label><div class=\"sk-toggleable__content\"><pre>GradientBoostingRegressor(random_state=42)</pre></div></div></div></div></div>"
      ],
      "text/plain": [
       "GradientBoostingRegressor(random_state=42)"
      ]
     },
     "execution_count": 35,
     "metadata": {},
     "output_type": "execute_result"
    }
   ],
   "source": [
    "%%time\n",
    "model.fit(X_train, np.array(y_train).ravel())"
   ]
  },
  {
   "cell_type": "markdown",
   "id": "438dc7ca-6134-429b-bd5e-4a99261c2781",
   "metadata": {},
   "source": [
    "# Evaluation"
   ]
  },
  {
   "cell_type": "code",
   "execution_count": 36,
   "id": "6d8c65fd-59b4-46c6-b92a-a59358edff95",
   "metadata": {},
   "outputs": [],
   "source": [
    "# make predictions on the test data\n",
    "predictions = model.predict(X_test)"
   ]
  },
  {
   "cell_type": "code",
   "execution_count": 37,
   "id": "ad049ca6-a774-4dc9-95f4-e981ba0ed254",
   "metadata": {},
   "outputs": [],
   "source": [
    "def pairwise_accuracy(predicted_scores, true_scores):\n",
    "    if len(predicted_scores) != len(true_scores):\n",
    "        raise ValueError(\"The length of predicted_scores and true_scores must be the same.\")\n",
    "\n",
    "    num_pairs = 0\n",
    "    num_correct_pairs = 0\n",
    "\n",
    "    for i in range(len(predicted_scores)):\n",
    "        for j in range(i + 1, len(predicted_scores)):\n",
    "            # Check if the predicted order matches the true order\n",
    "            if (predicted_scores[i] > predicted_scores[j] and true_scores[i] > true_scores[j]) or \\\n",
    "               (predicted_scores[i] < predicted_scores[j] and true_scores[i] < true_scores[j]):\n",
    "                num_correct_pairs += 1\n",
    "            num_pairs += 1\n",
    "\n",
    "    pairwise_accuracy = num_correct_pairs / num_pairs\n",
    "    return pairwise_accuracy"
   ]
  },
  {
   "cell_type": "code",
   "execution_count": 38,
   "id": "bf22664f-1602-456b-a4bc-3e56cb02a6a6",
   "metadata": {},
   "outputs": [],
   "source": [
    "df_predictions = df[(df[\"GW\"] == GAMEWEEK_TO_PREDICT) & (df[\"Season\"] == SEASON_TO_PREDICT)].reset_index(drop=True)\n",
    "df_predictions.loc[:, \"pred\"] = predictions"
   ]
  },
  {
   "cell_type": "code",
   "execution_count": 39,
   "id": "30d87d10-ae71-4fc6-aa37-455fa45be613",
   "metadata": {},
   "outputs": [],
   "source": [
    "def get_top_performer_names(df, no_top, no_gws):\n",
    "    return df.reset_index(drop=True).groupby(\"Name\")[\"total_points\"].mean().groupby(\"Name\").tail(no_gws).sort_values(ascending=False).head(no_top).index.to_list()"
   ]
  },
  {
   "cell_type": "code",
   "execution_count": 40,
   "id": "0dcbdf3b-8f16-432d-a9d4-ca4b93888927",
   "metadata": {},
   "outputs": [],
   "source": [
    "def pairwise_accuracy_topX(model, df, top_x):\n",
    "    top_performers = df[(df[\"GW\"] == GAMEWEEK_TO_PREDICT) & (df[\"Season\"] == SEASON_TO_PREDICT) & (df[\"Name\"].isin(get_top_performer_names(df, top_x, 50)))]\n",
    "    X = top_performers[features].reset_index(drop=True)\n",
    "    y = np.array(top_performers[to_predict].reset_index(drop=True))\n",
    "    preds = model.predict(X)\n",
    "    \n",
    "    return  pairwise_accuracy(preds, y)"
   ]
  },
  {
   "cell_type": "code",
   "execution_count": 41,
   "id": "6764621d-0288-45d0-95a3-36c29e6c95c4",
   "metadata": {},
   "outputs": [],
   "source": [
    "def evaluate(model, df, predictions, y_true):\n",
    "    mae = mean_absolute_error(y_true, predictions)\n",
    "    mse = mean_squared_error(y_true, predictions)\n",
    "\n",
    "    pairwise_acc = pairwise_accuracy(np.array(y_true), predictions)\n",
    "    pairwise_accuracy_top20 = pairwise_accuracy_topX(model, df, 20)\n",
    "    pairwise_accuracy_top100 = pairwise_accuracy_topX(model, df, 100)\n",
    "    \n",
    "    print(\"MAE:\", mae)\n",
    "    print(\"MSE:\", mse)\n",
    "    print(\"Pairwise accuracy:\", pairwise_acc)\n",
    "    print(\"Pairwise accuracy @TOP100:\", pairwise_accuracy_top100)\n",
    "    print(\"Pairwise accuracy @TOP20:\", pairwise_accuracy_top20)"
   ]
  },
  {
   "cell_type": "code",
   "execution_count": 42,
   "id": "2f9841b1-66d7-4b01-b878-a1a21114e9f9",
   "metadata": {},
   "outputs": [],
   "source": [
    "# df[(df[\"GW\"] == GAMEWEEK_TO_PREDICT) & (df[\"Season\"] == SEASON_TO_PREDICT) & (df[\"Name\"].isin(get_top_performer_names(df, 20, 50)))].columns"
   ]
  },
  {
   "cell_type": "code",
   "execution_count": 43,
   "id": "620d667e-0f67-4a3e-9d17-13f775d06b5e",
   "metadata": {},
   "outputs": [
    {
     "name": "stdout",
     "output_type": "stream",
     "text": [
      "MAE: 1.6498740115039152\n",
      "MSE: 5.711435439640201\n",
      "Pairwise accuracy: 0.5954735223027906\n",
      "Pairwise accuracy @TOP100: 0.5482900136798906\n",
      "Pairwise accuracy @TOP20: 0.6544117647058824\n"
     ]
    }
   ],
   "source": [
    "evaluate(model, df, predictions, y_test)"
   ]
  },
  {
   "cell_type": "code",
   "execution_count": 44,
   "id": "f5cf7c0e-b7d8-483d-b565-fc1260f26f1e",
   "metadata": {},
   "outputs": [],
   "source": [
    "# df[df[\"Name\"] == \"Abdoulaye-Doucoure\"][info]"
   ]
  },
  {
   "cell_type": "code",
   "execution_count": 45,
   "id": "1de0dbe5-2b5f-472d-9f2d-2300dab2b19c",
   "metadata": {},
   "outputs": [],
   "source": [
    "# model.predict(df[df[\"GW\"] == GAMEWEEK_TO_PREDICT][df[\"Name\"] == \"Mohamed-Salah\"][features])"
   ]
  },
  {
   "cell_type": "markdown",
   "id": "09ff9469-b50e-44d3-9e08-2b9fb4c8e8ba",
   "metadata": {},
   "source": [
    "# Valid predictions"
   ]
  },
  {
   "cell_type": "code",
   "execution_count": 46,
   "id": "df65adae-80ea-4963-9a60-20cd64f7ae1c",
   "metadata": {},
   "outputs": [],
   "source": [
    "preds = df_predictions[info + to_predict + [\"pred\"]].sort_values(by=[\"pred\"], ascending = False)"
   ]
  },
  {
   "cell_type": "code",
   "execution_count": 47,
   "id": "6df93768-16bb-495b-94ab-f240d07e9b4e",
   "metadata": {},
   "outputs": [
    {
     "data": {
      "text/html": [
       "<div>\n",
       "<style scoped>\n",
       "    .dataframe tbody tr th:only-of-type {\n",
       "        vertical-align: middle;\n",
       "    }\n",
       "\n",
       "    .dataframe tbody tr th {\n",
       "        vertical-align: top;\n",
       "    }\n",
       "\n",
       "    .dataframe thead th {\n",
       "        text-align: right;\n",
       "    }\n",
       "</style>\n",
       "<table border=\"1\" class=\"dataframe\">\n",
       "  <thead>\n",
       "    <tr style=\"text-align: right;\">\n",
       "      <th></th>\n",
       "      <th>Name</th>\n",
       "      <th>GW</th>\n",
       "      <th>Season</th>\n",
       "      <th>Squad</th>\n",
       "      <th>Opponent</th>\n",
       "      <th>Was Home</th>\n",
       "      <th>Team rating</th>\n",
       "      <th>Opp rating</th>\n",
       "      <th>position</th>\n",
       "      <th>total_points</th>\n",
       "      <th>pred</th>\n",
       "    </tr>\n",
       "  </thead>\n",
       "  <tbody>\n",
       "    <tr>\n",
       "      <th>111</th>\n",
       "      <td>Erling-Haaland</td>\n",
       "      <td>32</td>\n",
       "      <td>2022-23</td>\n",
       "      <td>Manchester City</td>\n",
       "      <td>Brighton</td>\n",
       "      <td>0.0</td>\n",
       "      <td>2091.929932</td>\n",
       "      <td>1829.306519</td>\n",
       "      <td>FWD</td>\n",
       "      <td>5.0</td>\n",
       "      <td>6.200745</td>\n",
       "    </tr>\n",
       "    <tr>\n",
       "      <th>43</th>\n",
       "      <td>Bukayo-Saka</td>\n",
       "      <td>32</td>\n",
       "      <td>2022-23</td>\n",
       "      <td>Arsenal</td>\n",
       "      <td>Southampton</td>\n",
       "      <td>1.0</td>\n",
       "      <td>1946.556396</td>\n",
       "      <td>1638.623901</td>\n",
       "      <td>MID</td>\n",
       "      <td>13.0</td>\n",
       "      <td>5.740645</td>\n",
       "    </tr>\n",
       "    <tr>\n",
       "      <th>266</th>\n",
       "      <td>Mohamed-Salah</td>\n",
       "      <td>32</td>\n",
       "      <td>2022-23</td>\n",
       "      <td>Liverpool</td>\n",
       "      <td>Nott'ham Forest</td>\n",
       "      <td>1.0</td>\n",
       "      <td>1930.005737</td>\n",
       "      <td>1626.679321</td>\n",
       "      <td>MID</td>\n",
       "      <td>7.0</td>\n",
       "      <td>5.559678</td>\n",
       "    </tr>\n",
       "    <tr>\n",
       "      <th>129</th>\n",
       "      <td>Harry-Kane</td>\n",
       "      <td>32</td>\n",
       "      <td>2022-23</td>\n",
       "      <td>Tottenham</td>\n",
       "      <td>Newcastle Utd</td>\n",
       "      <td>0.0</td>\n",
       "      <td>1834.483765</td>\n",
       "      <td>1857.315674</td>\n",
       "      <td>FWD</td>\n",
       "      <td>6.0</td>\n",
       "      <td>5.531446</td>\n",
       "    </tr>\n",
       "    <tr>\n",
       "      <th>40</th>\n",
       "      <td>Bruno-Fernandes</td>\n",
       "      <td>32</td>\n",
       "      <td>2022-23</td>\n",
       "      <td>Manchester Utd</td>\n",
       "      <td>Chelsea</td>\n",
       "      <td>1.0</td>\n",
       "      <td>1859.799316</td>\n",
       "      <td>1795.493042</td>\n",
       "      <td>MID</td>\n",
       "      <td>8.0</td>\n",
       "      <td>5.473929</td>\n",
       "    </tr>\n",
       "    <tr>\n",
       "      <th>248</th>\n",
       "      <td>Martinelli</td>\n",
       "      <td>32</td>\n",
       "      <td>2022-23</td>\n",
       "      <td>Arsenal</td>\n",
       "      <td>Southampton</td>\n",
       "      <td>1.0</td>\n",
       "      <td>1946.556396</td>\n",
       "      <td>1638.623901</td>\n",
       "      <td>MID</td>\n",
       "      <td>9.0</td>\n",
       "      <td>5.459473</td>\n",
       "    </tr>\n",
       "    <tr>\n",
       "      <th>247</th>\n",
       "      <td>Martin-Odegaard</td>\n",
       "      <td>32</td>\n",
       "      <td>2022-23</td>\n",
       "      <td>Arsenal</td>\n",
       "      <td>Southampton</td>\n",
       "      <td>1.0</td>\n",
       "      <td>1946.556396</td>\n",
       "      <td>1638.623901</td>\n",
       "      <td>MID</td>\n",
       "      <td>7.0</td>\n",
       "      <td>5.414817</td>\n",
       "    </tr>\n",
       "    <tr>\n",
       "      <th>146</th>\n",
       "      <td>Ivan-Toney</td>\n",
       "      <td>32</td>\n",
       "      <td>2022-23</td>\n",
       "      <td>Brentford</td>\n",
       "      <td>Aston Villa</td>\n",
       "      <td>1.0</td>\n",
       "      <td>1766.344727</td>\n",
       "      <td>1812.850708</td>\n",
       "      <td>FWD</td>\n",
       "      <td>9.0</td>\n",
       "      <td>5.051440</td>\n",
       "    </tr>\n",
       "    <tr>\n",
       "      <th>94</th>\n",
       "      <td>Dominic-Solanke</td>\n",
       "      <td>32</td>\n",
       "      <td>2022-23</td>\n",
       "      <td>Bournemouth</td>\n",
       "      <td>West Ham</td>\n",
       "      <td>1.0</td>\n",
       "      <td>1674.964966</td>\n",
       "      <td>1759.928589</td>\n",
       "      <td>FWD</td>\n",
       "      <td>2.0</td>\n",
       "      <td>5.001139</td>\n",
       "    </tr>\n",
       "    <tr>\n",
       "      <th>241</th>\n",
       "      <td>Marcus-Rashford</td>\n",
       "      <td>32</td>\n",
       "      <td>2022-23</td>\n",
       "      <td>Manchester Utd</td>\n",
       "      <td>Chelsea</td>\n",
       "      <td>1.0</td>\n",
       "      <td>1859.799316</td>\n",
       "      <td>1795.493042</td>\n",
       "      <td>MID</td>\n",
       "      <td>7.0</td>\n",
       "      <td>4.730713</td>\n",
       "    </tr>\n",
       "    <tr>\n",
       "      <th>14</th>\n",
       "      <td>Alisson</td>\n",
       "      <td>32</td>\n",
       "      <td>2022-23</td>\n",
       "      <td>Liverpool</td>\n",
       "      <td>Nott'ham Forest</td>\n",
       "      <td>1.0</td>\n",
       "      <td>1930.005737</td>\n",
       "      <td>1626.679321</td>\n",
       "      <td>GK</td>\n",
       "      <td>2.0</td>\n",
       "      <td>4.542827</td>\n",
       "    </tr>\n",
       "    <tr>\n",
       "      <th>2</th>\n",
       "      <td>Aaron-Ramsdale</td>\n",
       "      <td>32</td>\n",
       "      <td>2022-23</td>\n",
       "      <td>Arsenal</td>\n",
       "      <td>Southampton</td>\n",
       "      <td>1.0</td>\n",
       "      <td>1946.556396</td>\n",
       "      <td>1638.623901</td>\n",
       "      <td>GK</td>\n",
       "      <td>2.0</td>\n",
       "      <td>4.542827</td>\n",
       "    </tr>\n",
       "    <tr>\n",
       "      <th>92</th>\n",
       "      <td>Diogo-Jota</td>\n",
       "      <td>32</td>\n",
       "      <td>2022-23</td>\n",
       "      <td>Liverpool</td>\n",
       "      <td>Nott'ham Forest</td>\n",
       "      <td>1.0</td>\n",
       "      <td>1930.005737</td>\n",
       "      <td>1626.679321</td>\n",
       "      <td>FWD</td>\n",
       "      <td>13.0</td>\n",
       "      <td>4.409792</td>\n",
       "    </tr>\n",
       "    <tr>\n",
       "      <th>62</th>\n",
       "      <td>Cody-Gakpo</td>\n",
       "      <td>32</td>\n",
       "      <td>2022-23</td>\n",
       "      <td>Liverpool</td>\n",
       "      <td>Nott'ham Forest</td>\n",
       "      <td>1.0</td>\n",
       "      <td>1930.005737</td>\n",
       "      <td>1626.679321</td>\n",
       "      <td>MID</td>\n",
       "      <td>1.0</td>\n",
       "      <td>4.379807</td>\n",
       "    </tr>\n",
       "    <tr>\n",
       "      <th>285</th>\n",
       "      <td>Ollie-Watkins</td>\n",
       "      <td>32</td>\n",
       "      <td>2022-23</td>\n",
       "      <td>Aston Villa</td>\n",
       "      <td>Brentford</td>\n",
       "      <td>0.0</td>\n",
       "      <td>1812.850708</td>\n",
       "      <td>1766.344727</td>\n",
       "      <td>FWD</td>\n",
       "      <td>2.0</td>\n",
       "      <td>4.349218</td>\n",
       "    </tr>\n",
       "    <tr>\n",
       "      <th>347</th>\n",
       "      <td>Trent-Alexander-Arnold</td>\n",
       "      <td>32</td>\n",
       "      <td>2022-23</td>\n",
       "      <td>Liverpool</td>\n",
       "      <td>Nott'ham Forest</td>\n",
       "      <td>1.0</td>\n",
       "      <td>1930.005737</td>\n",
       "      <td>1626.679321</td>\n",
       "      <td>DEF</td>\n",
       "      <td>5.0</td>\n",
       "      <td>4.320315</td>\n",
       "    </tr>\n",
       "    <tr>\n",
       "      <th>12</th>\n",
       "      <td>Alexander-Isak</td>\n",
       "      <td>32</td>\n",
       "      <td>2022-23</td>\n",
       "      <td>Newcastle Utd</td>\n",
       "      <td>Tottenham</td>\n",
       "      <td>1.0</td>\n",
       "      <td>1857.315674</td>\n",
       "      <td>1834.483765</td>\n",
       "      <td>FWD</td>\n",
       "      <td>13.0</td>\n",
       "      <td>4.309621</td>\n",
       "    </tr>\n",
       "    <tr>\n",
       "      <th>124</th>\n",
       "      <td>Gabriel-Jesus</td>\n",
       "      <td>32</td>\n",
       "      <td>2022-23</td>\n",
       "      <td>Arsenal</td>\n",
       "      <td>Southampton</td>\n",
       "      <td>1.0</td>\n",
       "      <td>1946.556396</td>\n",
       "      <td>1638.623901</td>\n",
       "      <td>FWD</td>\n",
       "      <td>2.0</td>\n",
       "      <td>4.277744</td>\n",
       "    </tr>\n",
       "    <tr>\n",
       "      <th>18</th>\n",
       "      <td>Andrew-Robertson</td>\n",
       "      <td>32</td>\n",
       "      <td>2022-23</td>\n",
       "      <td>Liverpool</td>\n",
       "      <td>Nott'ham Forest</td>\n",
       "      <td>1.0</td>\n",
       "      <td>1930.005737</td>\n",
       "      <td>1626.679321</td>\n",
       "      <td>DEF</td>\n",
       "      <td>4.0</td>\n",
       "      <td>4.239070</td>\n",
       "    </tr>\n",
       "    <tr>\n",
       "      <th>32</th>\n",
       "      <td>Ben-White</td>\n",
       "      <td>32</td>\n",
       "      <td>2022-23</td>\n",
       "      <td>Arsenal</td>\n",
       "      <td>Southampton</td>\n",
       "      <td>1.0</td>\n",
       "      <td>1946.556396</td>\n",
       "      <td>1638.623901</td>\n",
       "      <td>DEF</td>\n",
       "      <td>4.0</td>\n",
       "      <td>4.230368</td>\n",
       "    </tr>\n",
       "    <tr>\n",
       "      <th>123</th>\n",
       "      <td>Gabriel-Dos-Santos</td>\n",
       "      <td>32</td>\n",
       "      <td>2022-23</td>\n",
       "      <td>Arsenal</td>\n",
       "      <td>Southampton</td>\n",
       "      <td>1.0</td>\n",
       "      <td>1946.556396</td>\n",
       "      <td>1638.623901</td>\n",
       "      <td>DEF</td>\n",
       "      <td>1.0</td>\n",
       "      <td>4.198610</td>\n",
       "    </tr>\n",
       "    <tr>\n",
       "      <th>331</th>\n",
       "      <td>Son-Heung-min</td>\n",
       "      <td>32</td>\n",
       "      <td>2022-23</td>\n",
       "      <td>Tottenham</td>\n",
       "      <td>Newcastle Utd</td>\n",
       "      <td>0.0</td>\n",
       "      <td>1834.483765</td>\n",
       "      <td>1857.315674</td>\n",
       "      <td>MID</td>\n",
       "      <td>2.0</td>\n",
       "      <td>4.196394</td>\n",
       "    </tr>\n",
       "    <tr>\n",
       "      <th>354</th>\n",
       "      <td>Virgil-van-Dijk</td>\n",
       "      <td>32</td>\n",
       "      <td>2022-23</td>\n",
       "      <td>Liverpool</td>\n",
       "      <td>Nott'ham Forest</td>\n",
       "      <td>1.0</td>\n",
       "      <td>1930.005737</td>\n",
       "      <td>1626.679321</td>\n",
       "      <td>DEF</td>\n",
       "      <td>1.0</td>\n",
       "      <td>4.095775</td>\n",
       "    </tr>\n",
       "    <tr>\n",
       "      <th>166</th>\n",
       "      <td>Jarrod-Bowen</td>\n",
       "      <td>32</td>\n",
       "      <td>2022-23</td>\n",
       "      <td>West Ham</td>\n",
       "      <td>Bournemouth</td>\n",
       "      <td>0.0</td>\n",
       "      <td>1759.928589</td>\n",
       "      <td>1674.964966</td>\n",
       "      <td>MID</td>\n",
       "      <td>6.0</td>\n",
       "      <td>4.083122</td>\n",
       "    </tr>\n",
       "    <tr>\n",
       "      <th>98</th>\n",
       "      <td>Eberechi-Eze</td>\n",
       "      <td>32</td>\n",
       "      <td>2022-23</td>\n",
       "      <td>Crystal Palace</td>\n",
       "      <td>Everton</td>\n",
       "      <td>1.0</td>\n",
       "      <td>1759.899414</td>\n",
       "      <td>1671.622437</td>\n",
       "      <td>MID</td>\n",
       "      <td>3.0</td>\n",
       "      <td>4.064694</td>\n",
       "    </tr>\n",
       "    <tr>\n",
       "      <th>283</th>\n",
       "      <td>Oleksandr-Zinchenko</td>\n",
       "      <td>32</td>\n",
       "      <td>2022-23</td>\n",
       "      <td>Arsenal</td>\n",
       "      <td>Southampton</td>\n",
       "      <td>1.0</td>\n",
       "      <td>1946.556396</td>\n",
       "      <td>1638.623901</td>\n",
       "      <td>DEF</td>\n",
       "      <td>0.0</td>\n",
       "      <td>4.036949</td>\n",
       "    </tr>\n",
       "    <tr>\n",
       "      <th>24</th>\n",
       "      <td>Antony</td>\n",
       "      <td>32</td>\n",
       "      <td>2022-23</td>\n",
       "      <td>Manchester Utd</td>\n",
       "      <td>Chelsea</td>\n",
       "      <td>1.0</td>\n",
       "      <td>1859.799316</td>\n",
       "      <td>1795.493042</td>\n",
       "      <td>MID</td>\n",
       "      <td>1.0</td>\n",
       "      <td>4.023215</td>\n",
       "    </tr>\n",
       "    <tr>\n",
       "      <th>42</th>\n",
       "      <td>Bryan-Mbeumo</td>\n",
       "      <td>32</td>\n",
       "      <td>2022-23</td>\n",
       "      <td>Brentford</td>\n",
       "      <td>Aston Villa</td>\n",
       "      <td>1.0</td>\n",
       "      <td>1766.344727</td>\n",
       "      <td>1812.850708</td>\n",
       "      <td>FWD</td>\n",
       "      <td>7.0</td>\n",
       "      <td>3.934041</td>\n",
       "    </tr>\n",
       "    <tr>\n",
       "      <th>363</th>\n",
       "      <td>Willian</td>\n",
       "      <td>32</td>\n",
       "      <td>2022-23</td>\n",
       "      <td>Fulham</td>\n",
       "      <td>Leeds United</td>\n",
       "      <td>1.0</td>\n",
       "      <td>1719.543945</td>\n",
       "      <td>1682.987427</td>\n",
       "      <td>MID</td>\n",
       "      <td>5.0</td>\n",
       "      <td>3.919811</td>\n",
       "    </tr>\n",
       "    <tr>\n",
       "      <th>319</th>\n",
       "      <td>Said-Benrahma</td>\n",
       "      <td>32</td>\n",
       "      <td>2022-23</td>\n",
       "      <td>West Ham</td>\n",
       "      <td>Bournemouth</td>\n",
       "      <td>0.0</td>\n",
       "      <td>1759.928589</td>\n",
       "      <td>1674.964966</td>\n",
       "      <td>MID</td>\n",
       "      <td>3.0</td>\n",
       "      <td>3.820375</td>\n",
       "    </tr>\n",
       "  </tbody>\n",
       "</table>\n",
       "</div>"
      ],
      "text/plain": [
       "                       Name  GW   Season            Squad         Opponent  \\\n",
       "111          Erling-Haaland  32  2022-23  Manchester City         Brighton   \n",
       "43              Bukayo-Saka  32  2022-23          Arsenal      Southampton   \n",
       "266           Mohamed-Salah  32  2022-23        Liverpool  Nott'ham Forest   \n",
       "129              Harry-Kane  32  2022-23        Tottenham    Newcastle Utd   \n",
       "40          Bruno-Fernandes  32  2022-23   Manchester Utd          Chelsea   \n",
       "248              Martinelli  32  2022-23          Arsenal      Southampton   \n",
       "247         Martin-Odegaard  32  2022-23          Arsenal      Southampton   \n",
       "146              Ivan-Toney  32  2022-23        Brentford      Aston Villa   \n",
       "94          Dominic-Solanke  32  2022-23      Bournemouth         West Ham   \n",
       "241         Marcus-Rashford  32  2022-23   Manchester Utd          Chelsea   \n",
       "14                  Alisson  32  2022-23        Liverpool  Nott'ham Forest   \n",
       "2            Aaron-Ramsdale  32  2022-23          Arsenal      Southampton   \n",
       "92               Diogo-Jota  32  2022-23        Liverpool  Nott'ham Forest   \n",
       "62               Cody-Gakpo  32  2022-23        Liverpool  Nott'ham Forest   \n",
       "285           Ollie-Watkins  32  2022-23      Aston Villa        Brentford   \n",
       "347  Trent-Alexander-Arnold  32  2022-23        Liverpool  Nott'ham Forest   \n",
       "12           Alexander-Isak  32  2022-23    Newcastle Utd        Tottenham   \n",
       "124           Gabriel-Jesus  32  2022-23          Arsenal      Southampton   \n",
       "18         Andrew-Robertson  32  2022-23        Liverpool  Nott'ham Forest   \n",
       "32                Ben-White  32  2022-23          Arsenal      Southampton   \n",
       "123      Gabriel-Dos-Santos  32  2022-23          Arsenal      Southampton   \n",
       "331           Son-Heung-min  32  2022-23        Tottenham    Newcastle Utd   \n",
       "354         Virgil-van-Dijk  32  2022-23        Liverpool  Nott'ham Forest   \n",
       "166            Jarrod-Bowen  32  2022-23         West Ham      Bournemouth   \n",
       "98             Eberechi-Eze  32  2022-23   Crystal Palace          Everton   \n",
       "283     Oleksandr-Zinchenko  32  2022-23          Arsenal      Southampton   \n",
       "24                   Antony  32  2022-23   Manchester Utd          Chelsea   \n",
       "42             Bryan-Mbeumo  32  2022-23        Brentford      Aston Villa   \n",
       "363                 Willian  32  2022-23           Fulham     Leeds United   \n",
       "319           Said-Benrahma  32  2022-23         West Ham      Bournemouth   \n",
       "\n",
       "     Was Home  Team rating   Opp rating position  total_points      pred  \n",
       "111       0.0  2091.929932  1829.306519      FWD           5.0  6.200745  \n",
       "43        1.0  1946.556396  1638.623901      MID          13.0  5.740645  \n",
       "266       1.0  1930.005737  1626.679321      MID           7.0  5.559678  \n",
       "129       0.0  1834.483765  1857.315674      FWD           6.0  5.531446  \n",
       "40        1.0  1859.799316  1795.493042      MID           8.0  5.473929  \n",
       "248       1.0  1946.556396  1638.623901      MID           9.0  5.459473  \n",
       "247       1.0  1946.556396  1638.623901      MID           7.0  5.414817  \n",
       "146       1.0  1766.344727  1812.850708      FWD           9.0  5.051440  \n",
       "94        1.0  1674.964966  1759.928589      FWD           2.0  5.001139  \n",
       "241       1.0  1859.799316  1795.493042      MID           7.0  4.730713  \n",
       "14        1.0  1930.005737  1626.679321       GK           2.0  4.542827  \n",
       "2         1.0  1946.556396  1638.623901       GK           2.0  4.542827  \n",
       "92        1.0  1930.005737  1626.679321      FWD          13.0  4.409792  \n",
       "62        1.0  1930.005737  1626.679321      MID           1.0  4.379807  \n",
       "285       0.0  1812.850708  1766.344727      FWD           2.0  4.349218  \n",
       "347       1.0  1930.005737  1626.679321      DEF           5.0  4.320315  \n",
       "12        1.0  1857.315674  1834.483765      FWD          13.0  4.309621  \n",
       "124       1.0  1946.556396  1638.623901      FWD           2.0  4.277744  \n",
       "18        1.0  1930.005737  1626.679321      DEF           4.0  4.239070  \n",
       "32        1.0  1946.556396  1638.623901      DEF           4.0  4.230368  \n",
       "123       1.0  1946.556396  1638.623901      DEF           1.0  4.198610  \n",
       "331       0.0  1834.483765  1857.315674      MID           2.0  4.196394  \n",
       "354       1.0  1930.005737  1626.679321      DEF           1.0  4.095775  \n",
       "166       0.0  1759.928589  1674.964966      MID           6.0  4.083122  \n",
       "98        1.0  1759.899414  1671.622437      MID           3.0  4.064694  \n",
       "283       1.0  1946.556396  1638.623901      DEF           0.0  4.036949  \n",
       "24        1.0  1859.799316  1795.493042      MID           1.0  4.023215  \n",
       "42        1.0  1766.344727  1812.850708      FWD           7.0  3.934041  \n",
       "363       1.0  1719.543945  1682.987427      MID           5.0  3.919811  \n",
       "319       0.0  1759.928589  1674.964966      MID           3.0  3.820375  "
      ]
     },
     "execution_count": 47,
     "metadata": {},
     "output_type": "execute_result"
    }
   ],
   "source": [
    "preds.head(30)"
   ]
  },
  {
   "cell_type": "code",
   "execution_count": 48,
   "id": "3fe1c712-ea38-4a91-9717-d4f520ffcb82",
   "metadata": {},
   "outputs": [
    {
     "data": {
      "text/html": [
       "<div>\n",
       "<style scoped>\n",
       "    .dataframe tbody tr th:only-of-type {\n",
       "        vertical-align: middle;\n",
       "    }\n",
       "\n",
       "    .dataframe tbody tr th {\n",
       "        vertical-align: top;\n",
       "    }\n",
       "\n",
       "    .dataframe thead th {\n",
       "        text-align: right;\n",
       "    }\n",
       "</style>\n",
       "<table border=\"1\" class=\"dataframe\">\n",
       "  <thead>\n",
       "    <tr style=\"text-align: right;\">\n",
       "      <th></th>\n",
       "      <th>Name</th>\n",
       "      <th>GW</th>\n",
       "      <th>Season</th>\n",
       "      <th>Squad</th>\n",
       "      <th>Opponent</th>\n",
       "      <th>Was Home</th>\n",
       "      <th>Team rating</th>\n",
       "      <th>Opp rating</th>\n",
       "      <th>position</th>\n",
       "      <th>total_points</th>\n",
       "      <th>pred</th>\n",
       "    </tr>\n",
       "  </thead>\n",
       "  <tbody>\n",
       "    <tr>\n",
       "      <th>111</th>\n",
       "      <td>Erling-Haaland</td>\n",
       "      <td>32</td>\n",
       "      <td>2022-23</td>\n",
       "      <td>Manchester City</td>\n",
       "      <td>Brighton</td>\n",
       "      <td>0.0</td>\n",
       "      <td>2091.929932</td>\n",
       "      <td>1829.306519</td>\n",
       "      <td>FWD</td>\n",
       "      <td>5.0</td>\n",
       "      <td>6.200745</td>\n",
       "    </tr>\n",
       "    <tr>\n",
       "      <th>308</th>\n",
       "      <td>Riyad-Mahrez</td>\n",
       "      <td>32</td>\n",
       "      <td>2022-23</td>\n",
       "      <td>Manchester City</td>\n",
       "      <td>Brighton</td>\n",
       "      <td>0.0</td>\n",
       "      <td>2091.929932</td>\n",
       "      <td>1829.306519</td>\n",
       "      <td>MID</td>\n",
       "      <td>2.0</td>\n",
       "      <td>3.633562</td>\n",
       "    </tr>\n",
       "    <tr>\n",
       "      <th>298</th>\n",
       "      <td>Phil-Foden</td>\n",
       "      <td>32</td>\n",
       "      <td>2022-23</td>\n",
       "      <td>Manchester City</td>\n",
       "      <td>Brighton</td>\n",
       "      <td>0.0</td>\n",
       "      <td>2091.929932</td>\n",
       "      <td>1829.306519</td>\n",
       "      <td>MID</td>\n",
       "      <td>9.0</td>\n",
       "      <td>3.111144</td>\n",
       "    </tr>\n",
       "    <tr>\n",
       "      <th>206</th>\n",
       "      <td>Kevin-De-Bruyne</td>\n",
       "      <td>32</td>\n",
       "      <td>2022-23</td>\n",
       "      <td>Manchester City</td>\n",
       "      <td>Brighton</td>\n",
       "      <td>0.0</td>\n",
       "      <td>2091.929932</td>\n",
       "      <td>1829.306519</td>\n",
       "      <td>MID</td>\n",
       "      <td>1.0</td>\n",
       "      <td>3.065194</td>\n",
       "    </tr>\n",
       "    <tr>\n",
       "      <th>195</th>\n",
       "      <td>Julian-Alvarez</td>\n",
       "      <td>32</td>\n",
       "      <td>2022-23</td>\n",
       "      <td>Manchester City</td>\n",
       "      <td>Brighton</td>\n",
       "      <td>0.0</td>\n",
       "      <td>2091.929932</td>\n",
       "      <td>1829.306519</td>\n",
       "      <td>FWD</td>\n",
       "      <td>1.0</td>\n",
       "      <td>2.769742</td>\n",
       "    </tr>\n",
       "    <tr>\n",
       "      <th>215</th>\n",
       "      <td>Kyle-Walker</td>\n",
       "      <td>32</td>\n",
       "      <td>2022-23</td>\n",
       "      <td>Manchester City</td>\n",
       "      <td>Brighton</td>\n",
       "      <td>0.0</td>\n",
       "      <td>2091.929932</td>\n",
       "      <td>1829.306519</td>\n",
       "      <td>DEF</td>\n",
       "      <td>2.0</td>\n",
       "      <td>2.122381</td>\n",
       "    </tr>\n",
       "    <tr>\n",
       "      <th>141</th>\n",
       "      <td>Ilkay-Gundogan</td>\n",
       "      <td>32</td>\n",
       "      <td>2022-23</td>\n",
       "      <td>Manchester City</td>\n",
       "      <td>Brighton</td>\n",
       "      <td>0.0</td>\n",
       "      <td>2091.929932</td>\n",
       "      <td>1829.306519</td>\n",
       "      <td>MID</td>\n",
       "      <td>2.0</td>\n",
       "      <td>2.075580</td>\n",
       "    </tr>\n",
       "    <tr>\n",
       "      <th>312</th>\n",
       "      <td>Rodri</td>\n",
       "      <td>32</td>\n",
       "      <td>2022-23</td>\n",
       "      <td>Manchester City</td>\n",
       "      <td>Brighton</td>\n",
       "      <td>0.0</td>\n",
       "      <td>2091.929932</td>\n",
       "      <td>1829.306519</td>\n",
       "      <td>MID</td>\n",
       "      <td>2.0</td>\n",
       "      <td>1.861889</td>\n",
       "    </tr>\n",
       "    <tr>\n",
       "      <th>33</th>\n",
       "      <td>Bernardo-Silva</td>\n",
       "      <td>32</td>\n",
       "      <td>2022-23</td>\n",
       "      <td>Manchester City</td>\n",
       "      <td>Brighton</td>\n",
       "      <td>0.0</td>\n",
       "      <td>2091.929932</td>\n",
       "      <td>1829.306519</td>\n",
       "      <td>MID</td>\n",
       "      <td>1.0</td>\n",
       "      <td>1.148280</td>\n",
       "    </tr>\n",
       "    <tr>\n",
       "      <th>100</th>\n",
       "      <td>Ederson</td>\n",
       "      <td>32</td>\n",
       "      <td>2022-23</td>\n",
       "      <td>Manchester City</td>\n",
       "      <td>Brighton</td>\n",
       "      <td>0.0</td>\n",
       "      <td>2091.929932</td>\n",
       "      <td>1829.306519</td>\n",
       "      <td>GK</td>\n",
       "      <td>0.0</td>\n",
       "      <td>1.125166</td>\n",
       "    </tr>\n",
       "    <tr>\n",
       "      <th>200</th>\n",
       "      <td>Kalvin-Phillips</td>\n",
       "      <td>32</td>\n",
       "      <td>2022-23</td>\n",
       "      <td>Manchester City</td>\n",
       "      <td>Brighton</td>\n",
       "      <td>0.0</td>\n",
       "      <td>2091.929932</td>\n",
       "      <td>1829.306519</td>\n",
       "      <td>MID</td>\n",
       "      <td>1.0</td>\n",
       "      <td>1.031968</td>\n",
       "    </tr>\n",
       "    <tr>\n",
       "      <th>188</th>\n",
       "      <td>John-Stones</td>\n",
       "      <td>32</td>\n",
       "      <td>2022-23</td>\n",
       "      <td>Manchester City</td>\n",
       "      <td>Brighton</td>\n",
       "      <td>0.0</td>\n",
       "      <td>2091.929932</td>\n",
       "      <td>1829.306519</td>\n",
       "      <td>DEF</td>\n",
       "      <td>2.0</td>\n",
       "      <td>0.940266</td>\n",
       "    </tr>\n",
       "    <tr>\n",
       "      <th>307</th>\n",
       "      <td>Rico-Lewis</td>\n",
       "      <td>32</td>\n",
       "      <td>2022-23</td>\n",
       "      <td>Manchester City</td>\n",
       "      <td>Brighton</td>\n",
       "      <td>0.0</td>\n",
       "      <td>2091.929932</td>\n",
       "      <td>1829.306519</td>\n",
       "      <td>DEF</td>\n",
       "      <td>2.0</td>\n",
       "      <td>0.911227</td>\n",
       "    </tr>\n",
       "    <tr>\n",
       "      <th>63</th>\n",
       "      <td>Cole-Palmer</td>\n",
       "      <td>32</td>\n",
       "      <td>2022-23</td>\n",
       "      <td>Manchester City</td>\n",
       "      <td>Brighton</td>\n",
       "      <td>0.0</td>\n",
       "      <td>2091.929932</td>\n",
       "      <td>1829.306519</td>\n",
       "      <td>MID</td>\n",
       "      <td>1.0</td>\n",
       "      <td>0.837129</td>\n",
       "    </tr>\n",
       "    <tr>\n",
       "      <th>327</th>\n",
       "      <td>Sergio-Gomez</td>\n",
       "      <td>32</td>\n",
       "      <td>2022-23</td>\n",
       "      <td>Manchester City</td>\n",
       "      <td>Brighton</td>\n",
       "      <td>0.0</td>\n",
       "      <td>2091.929932</td>\n",
       "      <td>1829.306519</td>\n",
       "      <td>DEF</td>\n",
       "      <td>1.0</td>\n",
       "      <td>0.662968</td>\n",
       "    </tr>\n",
       "    <tr>\n",
       "      <th>330</th>\n",
       "      <td>Shea-Charles</td>\n",
       "      <td>32</td>\n",
       "      <td>2022-23</td>\n",
       "      <td>Manchester City</td>\n",
       "      <td>Brighton</td>\n",
       "      <td>0.0</td>\n",
       "      <td>2091.929932</td>\n",
       "      <td>1829.306519</td>\n",
       "      <td>MID</td>\n",
       "      <td>0.0</td>\n",
       "      <td>-0.074430</td>\n",
       "    </tr>\n",
       "  </tbody>\n",
       "</table>\n",
       "</div>"
      ],
      "text/plain": [
       "                Name  GW   Season            Squad  Opponent  Was Home  \\\n",
       "111   Erling-Haaland  32  2022-23  Manchester City  Brighton       0.0   \n",
       "308     Riyad-Mahrez  32  2022-23  Manchester City  Brighton       0.0   \n",
       "298       Phil-Foden  32  2022-23  Manchester City  Brighton       0.0   \n",
       "206  Kevin-De-Bruyne  32  2022-23  Manchester City  Brighton       0.0   \n",
       "195   Julian-Alvarez  32  2022-23  Manchester City  Brighton       0.0   \n",
       "215      Kyle-Walker  32  2022-23  Manchester City  Brighton       0.0   \n",
       "141   Ilkay-Gundogan  32  2022-23  Manchester City  Brighton       0.0   \n",
       "312            Rodri  32  2022-23  Manchester City  Brighton       0.0   \n",
       "33    Bernardo-Silva  32  2022-23  Manchester City  Brighton       0.0   \n",
       "100          Ederson  32  2022-23  Manchester City  Brighton       0.0   \n",
       "200  Kalvin-Phillips  32  2022-23  Manchester City  Brighton       0.0   \n",
       "188      John-Stones  32  2022-23  Manchester City  Brighton       0.0   \n",
       "307       Rico-Lewis  32  2022-23  Manchester City  Brighton       0.0   \n",
       "63       Cole-Palmer  32  2022-23  Manchester City  Brighton       0.0   \n",
       "327     Sergio-Gomez  32  2022-23  Manchester City  Brighton       0.0   \n",
       "330     Shea-Charles  32  2022-23  Manchester City  Brighton       0.0   \n",
       "\n",
       "     Team rating   Opp rating position  total_points      pred  \n",
       "111  2091.929932  1829.306519      FWD           5.0  6.200745  \n",
       "308  2091.929932  1829.306519      MID           2.0  3.633562  \n",
       "298  2091.929932  1829.306519      MID           9.0  3.111144  \n",
       "206  2091.929932  1829.306519      MID           1.0  3.065194  \n",
       "195  2091.929932  1829.306519      FWD           1.0  2.769742  \n",
       "215  2091.929932  1829.306519      DEF           2.0  2.122381  \n",
       "141  2091.929932  1829.306519      MID           2.0  2.075580  \n",
       "312  2091.929932  1829.306519      MID           2.0  1.861889  \n",
       "33   2091.929932  1829.306519      MID           1.0  1.148280  \n",
       "100  2091.929932  1829.306519       GK           0.0  1.125166  \n",
       "200  2091.929932  1829.306519      MID           1.0  1.031968  \n",
       "188  2091.929932  1829.306519      DEF           2.0  0.940266  \n",
       "307  2091.929932  1829.306519      DEF           2.0  0.911227  \n",
       "63   2091.929932  1829.306519      MID           1.0  0.837129  \n",
       "327  2091.929932  1829.306519      DEF           1.0  0.662968  \n",
       "330  2091.929932  1829.306519      MID           0.0 -0.074430  "
      ]
     },
     "execution_count": 48,
     "metadata": {},
     "output_type": "execute_result"
    }
   ],
   "source": [
    "preds[preds[\"Squad\"] == \"Manchester City\"].head(20)"
   ]
  },
  {
   "cell_type": "code",
   "execution_count": 49,
   "id": "59f25158-05b0-41d2-ad7d-2eb99aafc1e2",
   "metadata": {},
   "outputs": [],
   "source": [
    "# preds[preds[\"position\"] == \"FWD\"].head(15)"
   ]
  },
  {
   "cell_type": "markdown",
   "id": "3ed6461a-a67a-4068-984b-c17e9a1d8c7b",
   "metadata": {},
   "source": [
    "# Feature importance and influence"
   ]
  },
  {
   "cell_type": "code",
   "execution_count": 50,
   "id": "7f0acc94-8661-4933-926c-859679ba5d4f",
   "metadata": {},
   "outputs": [],
   "source": [
    "# plot_importance(model)"
   ]
  },
  {
   "cell_type": "code",
   "execution_count": 51,
   "id": "fc68979d-f8e7-4f44-ae50-22ef7b92b9e1",
   "metadata": {},
   "outputs": [],
   "source": [
    "# fig, ax = plt.subplots(figsize=(16, 8))\n",
    "# plot_partial_dependence(model, X_train, features, ax=ax)"
   ]
  },
  {
   "cell_type": "code",
   "execution_count": null,
   "id": "c90e9b27-43c3-4253-830d-53c3532c5197",
   "metadata": {},
   "outputs": [
    {
     "name": "stderr",
     "output_type": "stream",
     "text": [
      "Permutation explainer:  58%|███████████████████████████████████████████████████████████████████▋                                                 | 214/370 [00:16<00:09, 16.44it/s]"
     ]
    }
   ],
   "source": [
    "explainer = shap.Explainer(model.predict, X_test)\n",
    "shap_values = explainer(X_test)"
   ]
  },
  {
   "cell_type": "code",
   "execution_count": null,
   "id": "f73757e7-4125-4657-8b78-914b5324a9e9",
   "metadata": {},
   "outputs": [],
   "source": [
    "shap.plots.bar(shap_values, max_display=15)"
   ]
  },
  {
   "cell_type": "code",
   "execution_count": null,
   "id": "4d1a6591-e086-4156-a51a-3ccfd3489561",
   "metadata": {},
   "outputs": [],
   "source": [
    "shap.plots.beeswarm(shap_values)"
   ]
  },
  {
   "cell_type": "code",
   "execution_count": null,
   "id": "b1d832a7-6e45-4286-a102-029a56916c45",
   "metadata": {},
   "outputs": [],
   "source": [
    "shap.plots.bar(shap_values[285], max_display=15)"
   ]
  },
  {
   "cell_type": "code",
   "execution_count": null,
   "id": "7a499fd2-fa5b-46a4-aa25-83b74622b7b4",
   "metadata": {},
   "outputs": [],
   "source": []
  }
 ],
 "metadata": {
  "kernelspec": {
   "display_name": "Python 3 (ipykernel)",
   "language": "python",
   "name": "python3"
  },
  "language_info": {
   "codemirror_mode": {
    "name": "ipython",
    "version": 3
   },
   "file_extension": ".py",
   "mimetype": "text/x-python",
   "name": "python",
   "nbconvert_exporter": "python",
   "pygments_lexer": "ipython3",
   "version": "3.8.0"
  }
 },
 "nbformat": 4,
 "nbformat_minor": 5
}
