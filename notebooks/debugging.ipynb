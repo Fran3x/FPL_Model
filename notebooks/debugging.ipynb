{
 "cells": [
  {
   "cell_type": "code",
   "execution_count": 1,
   "id": "018d25c8-1454-4864-8cd4-58997a9f3c0d",
   "metadata": {},
   "outputs": [],
   "source": [
    "import os\n",
    "os.chdir(\"D:\\PulpitE\\FPL_ML\")"
   ]
  },
  {
   "cell_type": "code",
   "execution_count": 2,
   "id": "232fcb4e-2cef-4524-98f0-5f985d2afa8e",
   "metadata": {},
   "outputs": [],
   "source": [
    "import pandas as pd\n",
    "import numpy as np"
   ]
  },
  {
   "cell_type": "code",
   "execution_count": 3,
   "id": "3816d8b0-7414-4323-af01-e6b61485beaf",
   "metadata": {},
   "outputs": [],
   "source": [
    "# generate_schedule()"
   ]
  },
  {
   "cell_type": "code",
   "execution_count": 4,
   "id": "1ae8489d-647f-44b5-8ce4-f1f60e78e5e7",
   "metadata": {},
   "outputs": [],
   "source": [
    "df = pd.read_csv(\"data/final_dataset.csv\")"
   ]
  },
  {
   "cell_type": "code",
   "execution_count": 5,
   "id": "22d8ad28-a00c-4b29-a8a4-067fcc9e73f2",
   "metadata": {},
   "outputs": [
    {
     "data": {
      "text/plain": [
       "Index(['Unnamed: 0', 'Date', 'Day', 'Comp', 'Round', 'Venue', 'Squad',\n",
       "       'Opponent', 'Start', 'Pos', 'Min', 'Gls', 'Ast', 'PK', 'PKatt', 'Sh',\n",
       "       'SoT', 'CrdY', 'CrdR', 'Touches', 'Tkl', 'Int', 'Blocks', 'xG', 'npxG',\n",
       "       'xAG', 'SCA', 'GCA', 'Cmp', 'Att', 'Cmp%', 'PrgP', 'Carries', 'PrgC',\n",
       "       'Att.1', 'Succ', 'Match Report', 'Name', 'Season', 'WDL', 'GoalsTeams',\n",
       "       'Team Score', 'Opp Score', 'CS', 'Was Home', 'GW', 'FPL',\n",
       "       'neutral_name', 'Total Points', 'FPL position', 'Opp rating',\n",
       "       'Team rating', 'ScoreForLast5', 'ScoreAgainstLast5', 'MinAvgOverall',\n",
       "       'GlsAvgOverall', 'AstAvgOverall', 'CrdYAvgOverall', 'CrdRAvgOverall',\n",
       "       'xGAvgOverall', 'xAGAvgOverall', 'CSAvgOverall', 'Team ScoreAvgOverall',\n",
       "       'Opp ScoreAvgOverall', 'FPLAvgOverall'],\n",
       "      dtype='object')"
      ]
     },
     "execution_count": 5,
     "metadata": {},
     "output_type": "execute_result"
    }
   ],
   "source": [
    "df.columns"
   ]
  },
  {
   "cell_type": "code",
   "execution_count": null,
   "id": "5ffd3728-8a69-46b2-8aa6-1d6823a4af4a",
   "metadata": {},
   "outputs": [],
   "source": []
  }
 ],
 "metadata": {
  "kernelspec": {
   "display_name": "Python 3 (ipykernel)",
   "language": "python",
   "name": "python3"
  },
  "language_info": {
   "codemirror_mode": {
    "name": "ipython",
    "version": 3
   },
   "file_extension": ".py",
   "mimetype": "text/x-python",
   "name": "python",
   "nbconvert_exporter": "python",
   "pygments_lexer": "ipython3",
   "version": "3.8.0"
  }
 },
 "nbformat": 4,
 "nbformat_minor": 5
}
