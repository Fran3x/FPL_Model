{
 "cells": [
  {
   "cell_type": "markdown",
   "id": "d12bbe47-9dce-4f2e-8a82-0a7d54f7c717",
   "metadata": {},
   "source": [
    "# Imports"
   ]
  },
  {
   "cell_type": "code",
   "execution_count": 1,
   "id": "55ed8570-4e8b-4ec9-9058-1ef260909fd2",
   "metadata": {},
   "outputs": [],
   "source": [
    "import os\n",
    "os.chdir(\"D:\\PulpitE\\FPL_ML\")"
   ]
  },
  {
   "cell_type": "code",
   "execution_count": 2,
   "id": "7c54b255-0ae1-4127-9971-dede89f8bfd6",
   "metadata": {},
   "outputs": [],
   "source": [
    "import matplotlib.pyplot as plt\n",
    "import pandas as pd\n",
    "import numpy as np\n",
    "from vaastav.understat import *\n",
    "from vaastav.getters import *\n",
    "from src.match_names import *\n",
    "from config import *"
   ]
  },
  {
   "cell_type": "code",
   "execution_count": 3,
   "id": "1d4bd6c4-80cf-464d-8847-156f649477ef",
   "metadata": {},
   "outputs": [],
   "source": [
    "SEASONS = [\"2021\", \"2022\", \"2023\"]"
   ]
  },
  {
   "cell_type": "markdown",
   "id": "c69045f6-51c1-4dc0-88d3-8bc8c0856985",
   "metadata": {},
   "source": [
    "# Getting data"
   ]
  },
  {
   "cell_type": "code",
   "execution_count": 4,
   "id": "44dce048-617b-445a-b6c0-722b8be91fde",
   "metadata": {},
   "outputs": [],
   "source": [
    "fixtures = get_fixtures_data()"
   ]
  },
  {
   "cell_type": "code",
   "execution_count": 5,
   "id": "0e12e48e-e64b-4a72-a578-2befd51400f6",
   "metadata": {},
   "outputs": [],
   "source": [
    "df_fixtures = pd.DataFrame(fixtures).dropna()"
   ]
  },
  {
   "cell_type": "code",
   "execution_count": 6,
   "id": "2c27e3fa-fd73-4943-9da0-d16feaf4614e",
   "metadata": {},
   "outputs": [],
   "source": [
    "def team_id_to_name(current_teams, team_id):\n",
    "    return current_teams[team_id - 1]"
   ]
  },
  {
   "cell_type": "code",
   "execution_count": 7,
   "id": "036ee0bb-d55a-407b-a39a-dfc095173f80",
   "metadata": {},
   "outputs": [],
   "source": [
    "df_fixtures[\"Squad H\"] = df_fixtures[\"team_h\"].apply(lambda x: team_id_to_name(current_teams, x))\n",
    "df_fixtures[\"Squad A\"] = df_fixtures[\"team_a\"].apply(lambda x: team_id_to_name(current_teams, x))\n",
    "df_fixtures[\"date\"] = df_fixtures[\"kickoff_time\"].str[:10]"
   ]
  },
  {
   "cell_type": "code",
   "execution_count": 8,
   "id": "9037c6e5-9afc-46d5-b28c-0f3709b15ebe",
   "metadata": {},
   "outputs": [],
   "source": [
    "epl_seasons = []\n",
    "for season in SEASONS:\n",
    "    epl_season = get_epl_data(season)\n",
    "    epl_season = epl_season[0]\n",
    "    epl_seasons.append(epl_season)"
   ]
  },
  {
   "cell_type": "code",
   "execution_count": 9,
   "id": "c47aeff2-5029-41e9-a257-d8f3cd2b8a21",
   "metadata": {},
   "outputs": [],
   "source": [
    "# epl_data"
   ]
  },
  {
   "cell_type": "markdown",
   "id": "17eead9e-1b70-464b-b66d-35230d8ed388",
   "metadata": {},
   "source": [
    "# Fixture DF"
   ]
  },
  {
   "cell_type": "code",
   "execution_count": 10,
   "id": "0ea7068e-498d-44d9-8203-71d040561d51",
   "metadata": {},
   "outputs": [],
   "source": [
    "df = pd.DataFrame(columns=[\"Team\", \"xG\", \"xGA\", \"Date\", \"GW\"])\n",
    "\n",
    "for season in epl_seasons:\n",
    "    for k in season.keys():\n",
    "        title = team_understat_to_fpl(season[k]['title'])\n",
    "        for h in season[k]['history']:\n",
    "            xG = h[\"xG\"]\n",
    "            xGA = h[\"xGA\"]\n",
    "            date = h[\"date\"][:10]\n",
    "\n",
    "            new_row = {\n",
    "                        \"Team\": title,\n",
    "                        \"xG\": xG,\n",
    "                        \"xGA\": xGA,\n",
    "                        \"Date\": date\n",
    "                      }\n",
    "            df = df.append(new_row, ignore_index=True)"
   ]
  },
  {
   "cell_type": "code",
   "execution_count": 11,
   "id": "c69e3ee3-6f59-4201-806f-3e275450db23",
   "metadata": {},
   "outputs": [],
   "source": [
    "def assign_opponent(x):\n",
    "    r1 = df_fixtures[ (df_fixtures[\"date\"] == x[\"Date\"]) & (df_fixtures[\"Squad H\"] == x[\"Team\"]) ]\n",
    "    r2 = df_fixtures[ (df_fixtures[\"date\"] == x[\"Date\"]) & (df_fixtures[\"Squad A\"] == x[\"Team\"]) ]\n",
    "    if r1.size > 0:\n",
    "        return r1[\"Squad A\"].item()\n",
    "    if r2.size > 0:\n",
    "        return r2[\"Squad H\"].item()\n",
    "    return None"
   ]
  },
  {
   "cell_type": "code",
   "execution_count": 12,
   "id": "ab20ac86-232d-4f94-9643-cc864b9c64e5",
   "metadata": {},
   "outputs": [],
   "source": [
    "for i, row in df.iterrows():\n",
    "    df.loc[i, \"Opponent\"] = assign_opponent(row)"
   ]
  },
  {
   "cell_type": "code",
   "execution_count": 13,
   "id": "e2a5b93d-cc02-4bb7-ab99-078ce95b6597",
   "metadata": {},
   "outputs": [
    {
     "data": {
      "text/plain": [
       "array(['Aston Villa', 'Everton', 'Southampton', 'Leicester City',\n",
       "       'Crystal Palace', 'Norwich City', 'Chelsea', 'West Ham',\n",
       "       'Tottenham', 'Arsenal', 'Newcastle Utd', 'Liverpool',\n",
       "       'Manchester City', 'Manchester Utd', 'Watford', 'Burnley',\n",
       "       'Brighton', 'Wolves', 'Brentford', 'Leeds United', 'Bournemouth',\n",
       "       'Fulham', \"Nott'ham Forest\", 'Sheffield Utd', 'Luton Town'],\n",
       "      dtype=object)"
      ]
     },
     "execution_count": 13,
     "metadata": {},
     "output_type": "execute_result"
    }
   ],
   "source": [
    "df[\"Team\"].apply(lambda x: team_understat_to_fpl(x)).unique()"
   ]
  },
  {
   "cell_type": "code",
   "execution_count": 14,
   "id": "5c7dbcee-4d9a-4c9f-8613-0f51f6a3997b",
   "metadata": {},
   "outputs": [],
   "source": [
    "df[\"Team\"] = df[\"Team\"].apply(lambda x: team_understat_to_fpl(x))"
   ]
  },
  {
   "cell_type": "code",
   "execution_count": 15,
   "id": "a85a4886-cd5d-4579-b269-b535d10c74e7",
   "metadata": {},
   "outputs": [
    {
     "data": {
      "text/plain": [
       "'Sheffield Utd'"
      ]
     },
     "execution_count": 15,
     "metadata": {},
     "output_type": "execute_result"
    }
   ],
   "source": [
    "team_understat_to_fpl('Sheffield United')"
   ]
  },
  {
   "cell_type": "code",
   "execution_count": 16,
   "id": "2a90255e-de0a-4ccb-beb0-bb26ee06bb0c",
   "metadata": {},
   "outputs": [
    {
     "data": {
      "text/plain": [
       "array(['Aston Villa', 'Everton', 'Southampton', 'Leicester City',\n",
       "       'Crystal Palace', 'Norwich City', 'Chelsea', 'West Ham',\n",
       "       'Tottenham', 'Arsenal', 'Newcastle Utd', 'Liverpool',\n",
       "       'Manchester City', 'Manchester Utd', 'Watford', 'Burnley',\n",
       "       'Brighton', 'Wolves', 'Brentford', 'Leeds United', 'Bournemouth',\n",
       "       'Fulham', \"Nott'ham Forest\", 'Sheffield Utd', 'Luton Town'],\n",
       "      dtype=object)"
      ]
     },
     "execution_count": 16,
     "metadata": {},
     "output_type": "execute_result"
    }
   ],
   "source": [
    "df[\"Team\"].unique()"
   ]
  },
  {
   "cell_type": "code",
   "execution_count": 17,
   "id": "0df1cbef-654f-4436-b9bc-ac5d6534c004",
   "metadata": {},
   "outputs": [],
   "source": [
    "df = df.drop(columns=[\"GW\", \"Opponent\"])"
   ]
  },
  {
   "cell_type": "code",
   "execution_count": 18,
   "id": "1f8e7d40-3539-4861-b825-b4e928656c7f",
   "metadata": {},
   "outputs": [
    {
     "data": {
      "text/html": [
       "<div>\n",
       "<style scoped>\n",
       "    .dataframe tbody tr th:only-of-type {\n",
       "        vertical-align: middle;\n",
       "    }\n",
       "\n",
       "    .dataframe tbody tr th {\n",
       "        vertical-align: top;\n",
       "    }\n",
       "\n",
       "    .dataframe thead th {\n",
       "        text-align: right;\n",
       "    }\n",
       "</style>\n",
       "<table border=\"1\" class=\"dataframe\">\n",
       "  <thead>\n",
       "    <tr style=\"text-align: right;\">\n",
       "      <th></th>\n",
       "      <th>Team</th>\n",
       "      <th>xG</th>\n",
       "      <th>xGA</th>\n",
       "      <th>Date</th>\n",
       "    </tr>\n",
       "  </thead>\n",
       "  <tbody>\n",
       "    <tr>\n",
       "      <th>0</th>\n",
       "      <td>Aston Villa</td>\n",
       "      <td>1.137180</td>\n",
       "      <td>1.350360</td>\n",
       "      <td>2021-08-14</td>\n",
       "    </tr>\n",
       "    <tr>\n",
       "      <th>1</th>\n",
       "      <td>Aston Villa</td>\n",
       "      <td>1.184260</td>\n",
       "      <td>0.631630</td>\n",
       "      <td>2021-08-21</td>\n",
       "    </tr>\n",
       "    <tr>\n",
       "      <th>2</th>\n",
       "      <td>Aston Villa</td>\n",
       "      <td>0.431464</td>\n",
       "      <td>1.133120</td>\n",
       "      <td>2021-08-28</td>\n",
       "    </tr>\n",
       "    <tr>\n",
       "      <th>3</th>\n",
       "      <td>Aston Villa</td>\n",
       "      <td>1.173490</td>\n",
       "      <td>1.221530</td>\n",
       "      <td>2021-09-11</td>\n",
       "    </tr>\n",
       "    <tr>\n",
       "      <th>4</th>\n",
       "      <td>Aston Villa</td>\n",
       "      <td>0.777716</td>\n",
       "      <td>0.755035</td>\n",
       "      <td>2021-09-18</td>\n",
       "    </tr>\n",
       "    <tr>\n",
       "      <th>...</th>\n",
       "      <td>...</td>\n",
       "      <td>...</td>\n",
       "      <td>...</td>\n",
       "      <td>...</td>\n",
       "    </tr>\n",
       "    <tr>\n",
       "      <th>1575</th>\n",
       "      <td>Nott'ham Forest</td>\n",
       "      <td>1.371810</td>\n",
       "      <td>0.551038</td>\n",
       "      <td>2023-08-18</td>\n",
       "    </tr>\n",
       "    <tr>\n",
       "      <th>1576</th>\n",
       "      <td>Nott'ham Forest</td>\n",
       "      <td>0.960354</td>\n",
       "      <td>3.028030</td>\n",
       "      <td>2023-08-26</td>\n",
       "    </tr>\n",
       "    <tr>\n",
       "      <th>1577</th>\n",
       "      <td>Luton Town</td>\n",
       "      <td>1.885940</td>\n",
       "      <td>4.367480</td>\n",
       "      <td>2023-08-12</td>\n",
       "    </tr>\n",
       "    <tr>\n",
       "      <th>1578</th>\n",
       "      <td>Luton Town</td>\n",
       "      <td>0.465741</td>\n",
       "      <td>3.414190</td>\n",
       "      <td>2023-08-25</td>\n",
       "    </tr>\n",
       "    <tr>\n",
       "      <th>1579</th>\n",
       "      <td>Luton Town</td>\n",
       "      <td>2.022440</td>\n",
       "      <td>1.225280</td>\n",
       "      <td>2023-09-01</td>\n",
       "    </tr>\n",
       "  </tbody>\n",
       "</table>\n",
       "<p>1580 rows × 4 columns</p>\n",
       "</div>"
      ],
      "text/plain": [
       "                 Team        xG       xGA        Date\n",
       "0         Aston Villa  1.137180  1.350360  2021-08-14\n",
       "1         Aston Villa  1.184260  0.631630  2021-08-21\n",
       "2         Aston Villa  0.431464  1.133120  2021-08-28\n",
       "3         Aston Villa  1.173490  1.221530  2021-09-11\n",
       "4         Aston Villa  0.777716  0.755035  2021-09-18\n",
       "...               ...       ...       ...         ...\n",
       "1575  Nott'ham Forest  1.371810  0.551038  2023-08-18\n",
       "1576  Nott'ham Forest  0.960354  3.028030  2023-08-26\n",
       "1577       Luton Town  1.885940  4.367480  2023-08-12\n",
       "1578       Luton Town  0.465741  3.414190  2023-08-25\n",
       "1579       Luton Town  2.022440  1.225280  2023-09-01\n",
       "\n",
       "[1580 rows x 4 columns]"
      ]
     },
     "execution_count": 18,
     "metadata": {},
     "output_type": "execute_result"
    }
   ],
   "source": [
    "df"
   ]
  },
  {
   "cell_type": "code",
   "execution_count": 19,
   "id": "fbe63c37-75fb-4670-8fca-9ef7a8a50cf5",
   "metadata": {},
   "outputs": [
    {
     "data": {
      "text/plain": [
       "array(['Aston Villa', 'Everton', 'Southampton', 'Leicester City',\n",
       "       'Crystal Palace', 'Norwich City', 'Chelsea', 'West Ham',\n",
       "       'Tottenham', 'Arsenal', 'Newcastle Utd', 'Liverpool',\n",
       "       'Manchester City', 'Manchester Utd', 'Watford', 'Burnley',\n",
       "       'Brighton', 'Wolves', 'Brentford', 'Leeds United', 'Bournemouth',\n",
       "       'Fulham', \"Nott'ham Forest\", 'Sheffield Utd', 'Luton Town'],\n",
       "      dtype=object)"
      ]
     },
     "execution_count": 19,
     "metadata": {},
     "output_type": "execute_result"
    }
   ],
   "source": [
    "df[\"Team\"].unique()"
   ]
  },
  {
   "cell_type": "markdown",
   "id": "0594e5b9-e7f0-4b88-8ff7-c8fc021a3cbd",
   "metadata": {},
   "source": [
    "# Saving to file"
   ]
  },
  {
   "cell_type": "code",
   "execution_count": 20,
   "id": "5698ea70-c4d5-4c04-a6cb-9343466ed9f7",
   "metadata": {},
   "outputs": [],
   "source": [
    "df.to_csv(\"data/completed_fixtures.csv\")"
   ]
  },
  {
   "cell_type": "code",
   "execution_count": null,
   "id": "3a91993d-9150-46cb-a168-494d858b7ec0",
   "metadata": {},
   "outputs": [],
   "source": []
  }
 ],
 "metadata": {
  "kernelspec": {
   "display_name": "Python 3 (ipykernel)",
   "language": "python",
   "name": "python3"
  },
  "language_info": {
   "codemirror_mode": {
    "name": "ipython",
    "version": 3
   },
   "file_extension": ".py",
   "mimetype": "text/x-python",
   "name": "python",
   "nbconvert_exporter": "python",
   "pygments_lexer": "ipython3",
   "version": "3.8.0"
  }
 },
 "nbformat": 4,
 "nbformat_minor": 5
}
