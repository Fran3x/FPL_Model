{
 "cells": [
  {
   "cell_type": "markdown",
   "id": "d12bbe47-9dce-4f2e-8a82-0a7d54f7c717",
   "metadata": {},
   "source": [
    "# Imports"
   ]
  },
  {
   "cell_type": "code",
   "execution_count": 1,
   "id": "55ed8570-4e8b-4ec9-9058-1ef260909fd2",
   "metadata": {},
   "outputs": [],
   "source": [
    "import os\n",
    "os.chdir(\"D:\\PulpitE\\FPL_ML\")"
   ]
  },
  {
   "cell_type": "code",
   "execution_count": 2,
   "id": "7c54b255-0ae1-4127-9971-dede89f8bfd6",
   "metadata": {},
   "outputs": [],
   "source": [
    "import matplotlib.pyplot as plt\n",
    "import pandas as pd\n",
    "import numpy as np\n",
    "from vaastav.understat import *\n",
    "from vaastav.getters import *\n",
    "from src.match_names import *\n",
    "from config import *"
   ]
  },
  {
   "cell_type": "code",
   "execution_count": 3,
   "id": "1d4bd6c4-80cf-464d-8847-156f649477ef",
   "metadata": {},
   "outputs": [],
   "source": [
    "SEASONS = [\"2021\", \"2022\", \"2023\"]"
   ]
  },
  {
   "cell_type": "markdown",
   "id": "c69045f6-51c1-4dc0-88d3-8bc8c0856985",
   "metadata": {},
   "source": [
    "# Getting data"
   ]
  },
  {
   "cell_type": "code",
   "execution_count": 4,
   "id": "44dce048-617b-445a-b6c0-722b8be91fde",
   "metadata": {},
   "outputs": [],
   "source": [
    "fixtures = get_fixtures_data()"
   ]
  },
  {
   "cell_type": "code",
   "execution_count": 5,
   "id": "0e12e48e-e64b-4a72-a578-2befd51400f6",
   "metadata": {},
   "outputs": [],
   "source": [
    "df_fixtures = pd.DataFrame(fixtures).dropna()"
   ]
  },
  {
   "cell_type": "code",
   "execution_count": 6,
   "id": "2c27e3fa-fd73-4943-9da0-d16feaf4614e",
   "metadata": {},
   "outputs": [],
   "source": [
    "def team_id_to_name(current_teams, team_id):\n",
    "    return current_teams[team_id - 1]"
   ]
  },
  {
   "cell_type": "code",
   "execution_count": 7,
   "id": "036ee0bb-d55a-407b-a39a-dfc095173f80",
   "metadata": {},
   "outputs": [],
   "source": [
    "df_fixtures[\"Squad H\"] = df_fixtures[\"team_h\"].apply(lambda x: team_id_to_name(current_teams, x))\n",
    "df_fixtures[\"Squad A\"] = df_fixtures[\"team_a\"].apply(lambda x: team_id_to_name(current_teams, x))\n",
    "df_fixtures[\"date\"] = df_fixtures[\"kickoff_time\"].str[:10]"
   ]
  },
  {
   "cell_type": "code",
   "execution_count": 8,
   "id": "9037c6e5-9afc-46d5-b28c-0f3709b15ebe",
   "metadata": {},
   "outputs": [],
   "source": [
    "epl_seasons = []\n",
    "for season in SEASONS:\n",
    "    epl_season = get_epl_data(season)\n",
    "    epl_season = epl_season[0]\n",
    "    epl_seasons.append(epl_season)"
   ]
  },
  {
   "cell_type": "code",
   "execution_count": 9,
   "id": "c47aeff2-5029-41e9-a257-d8f3cd2b8a21",
   "metadata": {},
   "outputs": [],
   "source": [
    "# epl_data"
   ]
  },
  {
   "cell_type": "markdown",
   "id": "17eead9e-1b70-464b-b66d-35230d8ed388",
   "metadata": {},
   "source": [
    "# Fixture DF"
   ]
  },
  {
   "cell_type": "code",
   "execution_count": 10,
   "id": "0ea7068e-498d-44d9-8203-71d040561d51",
   "metadata": {},
   "outputs": [],
   "source": [
    "df = pd.DataFrame(columns=[\"Team\", \"xG\", \"xGA\", \"Date\", \"GW\"])\n",
    "\n",
    "for season in epl_seasons:\n",
    "    for k in season.keys():\n",
    "        title = team_understat_to_fpl(season[k]['title'])\n",
    "        for h in season[k]['history']:\n",
    "            xG = h[\"xG\"]\n",
    "            xGA = h[\"xGA\"]\n",
    "            date = h[\"date\"][:10]\n",
    "\n",
    "            new_row = {\n",
    "                        \"Team\": title,\n",
    "                        \"xG\": xG,\n",
    "                        \"xGA\": xGA,\n",
    "                        \"Date\": date\n",
    "                      }\n",
    "            df = df.append(new_row, ignore_index=True)"
   ]
  },
  {
   "cell_type": "code",
   "execution_count": 11,
   "id": "c69e3ee3-6f59-4201-806f-3e275450db23",
   "metadata": {},
   "outputs": [],
   "source": [
    "def assign_opponent(x):\n",
    "    r1 = df_fixtures[ (df_fixtures[\"date\"] == x[\"Date\"]) & (df_fixtures[\"Squad H\"] == x[\"Team\"]) ]\n",
    "    r2 = df_fixtures[ (df_fixtures[\"date\"] == x[\"Date\"]) & (df_fixtures[\"Squad A\"] == x[\"Team\"]) ]\n",
    "    if r1.size > 0:\n",
    "        return r1[\"Squad A\"].item()\n",
    "    if r2.size > 0:\n",
    "        return r2[\"Squad H\"].item()\n",
    "    return None"
   ]
  },
  {
   "cell_type": "code",
   "execution_count": 12,
   "id": "ab20ac86-232d-4f94-9643-cc864b9c64e5",
   "metadata": {},
   "outputs": [],
   "source": [
    "for i, row in df.iterrows():\n",
    "    df.loc[i, \"Opponent\"] = assign_opponent(row)"
   ]
  },
  {
   "cell_type": "code",
   "execution_count": 13,
   "id": "e2a5b93d-cc02-4bb7-ab99-078ce95b6597",
   "metadata": {},
   "outputs": [
    {
     "data": {
      "text/plain": [
       "array(['Aston Villa', 'Everton', 'Southampton', 'Leicester City',\n",
       "       'Crystal Palace', 'Norwich City', 'Chelsea', 'West Ham',\n",
       "       'Tottenham', 'Arsenal', 'Newcastle Utd', 'Liverpool',\n",
       "       'Manchester City', 'Manchester Utd', 'Watford', 'Burnley',\n",
       "       'Brighton', 'Wolves', 'Brentford', 'Leeds United', 'Bournemouth',\n",
       "       'Fulham', \"Nott'ham Forest\", 'Sheffield Utd', 'Luton Town'],\n",
       "      dtype=object)"
      ]
     },
     "execution_count": 13,
     "metadata": {},
     "output_type": "execute_result"
    }
   ],
   "source": [
    "df[\"Team\"].apply(lambda x: team_understat_to_fpl(x)).unique()"
   ]
  },
  {
   "cell_type": "code",
   "execution_count": 14,
   "id": "5c7dbcee-4d9a-4c9f-8613-0f51f6a3997b",
   "metadata": {},
   "outputs": [],
   "source": [
    "df[\"Team\"] = df[\"Team\"].apply(lambda x: team_understat_to_fpl(x))"
   ]
  },
  {
   "cell_type": "code",
   "execution_count": 15,
   "id": "a85a4886-cd5d-4579-b269-b535d10c74e7",
   "metadata": {},
   "outputs": [
    {
     "data": {
      "text/plain": [
       "'Sheffield Utd'"
      ]
     },
     "execution_count": 15,
     "metadata": {},
     "output_type": "execute_result"
    }
   ],
   "source": [
    "team_understat_to_fpl('Sheffield United')"
   ]
  },
  {
   "cell_type": "code",
   "execution_count": 16,
   "id": "2a90255e-de0a-4ccb-beb0-bb26ee06bb0c",
   "metadata": {},
   "outputs": [
    {
     "data": {
      "text/plain": [
       "array(['Aston Villa', 'Everton', 'Southampton', 'Leicester City',\n",
       "       'Crystal Palace', 'Norwich City', 'Chelsea', 'West Ham',\n",
       "       'Tottenham', 'Arsenal', 'Newcastle Utd', 'Liverpool',\n",
       "       'Manchester City', 'Manchester Utd', 'Watford', 'Burnley',\n",
       "       'Brighton', 'Wolves', 'Brentford', 'Leeds United', 'Bournemouth',\n",
       "       'Fulham', \"Nott'ham Forest\", 'Sheffield Utd', 'Luton Town'],\n",
       "      dtype=object)"
      ]
     },
     "execution_count": 16,
     "metadata": {},
     "output_type": "execute_result"
    }
   ],
   "source": [
    "df[\"Team\"].unique()"
   ]
  },
  {
   "cell_type": "code",
   "execution_count": 17,
   "id": "0df1cbef-654f-4436-b9bc-ac5d6534c004",
   "metadata": {},
   "outputs": [],
   "source": [
    "df = df.drop(columns=[\"GW\", \"Opponent\"])"
   ]
  },
  {
   "cell_type": "code",
   "execution_count": 18,
   "id": "1f8e7d40-3539-4861-b825-b4e928656c7f",
   "metadata": {},
   "outputs": [
    {
     "data": {
      "text/html": [
       "<div>\n",
       "<style scoped>\n",
       "    .dataframe tbody tr th:only-of-type {\n",
       "        vertical-align: middle;\n",
       "    }\n",
       "\n",
       "    .dataframe tbody tr th {\n",
       "        vertical-align: top;\n",
       "    }\n",
       "\n",
       "    .dataframe thead th {\n",
       "        text-align: right;\n",
       "    }\n",
       "</style>\n",
       "<table border=\"1\" class=\"dataframe\">\n",
       "  <thead>\n",
       "    <tr style=\"text-align: right;\">\n",
       "      <th></th>\n",
       "      <th>Team</th>\n",
       "      <th>xG</th>\n",
       "      <th>xGA</th>\n",
       "      <th>Date</th>\n",
       "    </tr>\n",
       "  </thead>\n",
       "  <tbody>\n",
       "    <tr>\n",
       "      <th>0</th>\n",
       "      <td>Aston Villa</td>\n",
       "      <td>1.137180</td>\n",
       "      <td>1.350360</td>\n",
       "      <td>2021-08-14</td>\n",
       "    </tr>\n",
       "    <tr>\n",
       "      <th>1</th>\n",
       "      <td>Aston Villa</td>\n",
       "      <td>1.184260</td>\n",
       "      <td>0.631630</td>\n",
       "      <td>2021-08-21</td>\n",
       "    </tr>\n",
       "    <tr>\n",
       "      <th>2</th>\n",
       "      <td>Aston Villa</td>\n",
       "      <td>0.431464</td>\n",
       "      <td>1.133120</td>\n",
       "      <td>2021-08-28</td>\n",
       "    </tr>\n",
       "    <tr>\n",
       "      <th>3</th>\n",
       "      <td>Aston Villa</td>\n",
       "      <td>1.173490</td>\n",
       "      <td>1.221530</td>\n",
       "      <td>2021-09-11</td>\n",
       "    </tr>\n",
       "    <tr>\n",
       "      <th>4</th>\n",
       "      <td>Aston Villa</td>\n",
       "      <td>0.777716</td>\n",
       "      <td>0.755035</td>\n",
       "      <td>2021-09-18</td>\n",
       "    </tr>\n",
       "    <tr>\n",
       "      <th>...</th>\n",
       "      <td>...</td>\n",
       "      <td>...</td>\n",
       "      <td>...</td>\n",
       "      <td>...</td>\n",
       "    </tr>\n",
       "    <tr>\n",
       "      <th>1587</th>\n",
       "      <td>Nott'ham Forest</td>\n",
       "      <td>0.960354</td>\n",
       "      <td>3.028030</td>\n",
       "      <td>2023-08-26</td>\n",
       "    </tr>\n",
       "    <tr>\n",
       "      <th>1588</th>\n",
       "      <td>Nott'ham Forest</td>\n",
       "      <td>1.150500</td>\n",
       "      <td>2.284420</td>\n",
       "      <td>2023-09-02</td>\n",
       "    </tr>\n",
       "    <tr>\n",
       "      <th>1589</th>\n",
       "      <td>Luton Town</td>\n",
       "      <td>1.885940</td>\n",
       "      <td>4.367480</td>\n",
       "      <td>2023-08-12</td>\n",
       "    </tr>\n",
       "    <tr>\n",
       "      <th>1590</th>\n",
       "      <td>Luton Town</td>\n",
       "      <td>0.465741</td>\n",
       "      <td>3.414190</td>\n",
       "      <td>2023-08-25</td>\n",
       "    </tr>\n",
       "    <tr>\n",
       "      <th>1591</th>\n",
       "      <td>Luton Town</td>\n",
       "      <td>2.022440</td>\n",
       "      <td>1.225280</td>\n",
       "      <td>2023-09-01</td>\n",
       "    </tr>\n",
       "  </tbody>\n",
       "</table>\n",
       "<p>1592 rows × 4 columns</p>\n",
       "</div>"
      ],
      "text/plain": [
       "                 Team        xG       xGA        Date\n",
       "0         Aston Villa  1.137180  1.350360  2021-08-14\n",
       "1         Aston Villa  1.184260  0.631630  2021-08-21\n",
       "2         Aston Villa  0.431464  1.133120  2021-08-28\n",
       "3         Aston Villa  1.173490  1.221530  2021-09-11\n",
       "4         Aston Villa  0.777716  0.755035  2021-09-18\n",
       "...               ...       ...       ...         ...\n",
       "1587  Nott'ham Forest  0.960354  3.028030  2023-08-26\n",
       "1588  Nott'ham Forest  1.150500  2.284420  2023-09-02\n",
       "1589       Luton Town  1.885940  4.367480  2023-08-12\n",
       "1590       Luton Town  0.465741  3.414190  2023-08-25\n",
       "1591       Luton Town  2.022440  1.225280  2023-09-01\n",
       "\n",
       "[1592 rows x 4 columns]"
      ]
     },
     "execution_count": 18,
     "metadata": {},
     "output_type": "execute_result"
    }
   ],
   "source": [
    "df"
   ]
  },
  {
   "cell_type": "code",
   "execution_count": 19,
   "id": "fbe63c37-75fb-4670-8fca-9ef7a8a50cf5",
   "metadata": {},
   "outputs": [
    {
     "data": {
      "text/plain": [
       "array(['Aston Villa', 'Everton', 'Southampton', 'Leicester City',\n",
       "       'Crystal Palace', 'Norwich City', 'Chelsea', 'West Ham',\n",
       "       'Tottenham', 'Arsenal', 'Newcastle Utd', 'Liverpool',\n",
       "       'Manchester City', 'Manchester Utd', 'Watford', 'Burnley',\n",
       "       'Brighton', 'Wolves', 'Brentford', 'Leeds United', 'Bournemouth',\n",
       "       'Fulham', \"Nott'ham Forest\", 'Sheffield Utd', 'Luton Town'],\n",
       "      dtype=object)"
      ]
     },
     "execution_count": 19,
     "metadata": {},
     "output_type": "execute_result"
    }
   ],
   "source": [
    "df[\"Team\"].unique()"
   ]
  },
  {
   "cell_type": "code",
   "execution_count": 20,
   "id": "477b5814-1626-4a3a-8a73-3403a7bd614b",
   "metadata": {},
   "outputs": [],
   "source": [
    "df = df.sort_values(by=[\"Team\", \"Date\"])"
   ]
  },
  {
   "cell_type": "code",
   "execution_count": 21,
   "id": "54b34cc8-308c-4d0b-ad01-b01c432517ef",
   "metadata": {},
   "outputs": [],
   "source": [
    "df = df.reset_index(drop=True)"
   ]
  },
  {
   "cell_type": "code",
   "execution_count": 22,
   "id": "d1a36f4c-a963-48f7-aad6-8ba1d5f907f4",
   "metadata": {},
   "outputs": [
    {
     "data": {
      "text/html": [
       "<div>\n",
       "<style scoped>\n",
       "    .dataframe tbody tr th:only-of-type {\n",
       "        vertical-align: middle;\n",
       "    }\n",
       "\n",
       "    .dataframe tbody tr th {\n",
       "        vertical-align: top;\n",
       "    }\n",
       "\n",
       "    .dataframe thead th {\n",
       "        text-align: right;\n",
       "    }\n",
       "</style>\n",
       "<table border=\"1\" class=\"dataframe\">\n",
       "  <thead>\n",
       "    <tr style=\"text-align: right;\">\n",
       "      <th></th>\n",
       "      <th>Team</th>\n",
       "      <th>xG</th>\n",
       "      <th>xGA</th>\n",
       "      <th>Date</th>\n",
       "    </tr>\n",
       "  </thead>\n",
       "  <tbody>\n",
       "    <tr>\n",
       "      <th>0</th>\n",
       "      <td>Arsenal</td>\n",
       "      <td>1.023850</td>\n",
       "      <td>1.888180</td>\n",
       "      <td>2021-08-13</td>\n",
       "    </tr>\n",
       "    <tr>\n",
       "      <th>1</th>\n",
       "      <td>Arsenal</td>\n",
       "      <td>0.630099</td>\n",
       "      <td>3.641320</td>\n",
       "      <td>2021-08-22</td>\n",
       "    </tr>\n",
       "    <tr>\n",
       "      <th>2</th>\n",
       "      <td>Arsenal</td>\n",
       "      <td>0.116805</td>\n",
       "      <td>4.472730</td>\n",
       "      <td>2021-08-28</td>\n",
       "    </tr>\n",
       "    <tr>\n",
       "      <th>3</th>\n",
       "      <td>Arsenal</td>\n",
       "      <td>2.685150</td>\n",
       "      <td>0.577292</td>\n",
       "      <td>2021-09-11</td>\n",
       "    </tr>\n",
       "    <tr>\n",
       "      <th>4</th>\n",
       "      <td>Arsenal</td>\n",
       "      <td>1.099280</td>\n",
       "      <td>0.775574</td>\n",
       "      <td>2021-09-18</td>\n",
       "    </tr>\n",
       "    <tr>\n",
       "      <th>...</th>\n",
       "      <td>...</td>\n",
       "      <td>...</td>\n",
       "      <td>...</td>\n",
       "      <td>...</td>\n",
       "    </tr>\n",
       "    <tr>\n",
       "      <th>1587</th>\n",
       "      <td>Wolves</td>\n",
       "      <td>1.289760</td>\n",
       "      <td>2.469760</td>\n",
       "      <td>2023-05-20</td>\n",
       "    </tr>\n",
       "    <tr>\n",
       "      <th>1588</th>\n",
       "      <td>Wolves</td>\n",
       "      <td>0.387720</td>\n",
       "      <td>3.024660</td>\n",
       "      <td>2023-05-28</td>\n",
       "    </tr>\n",
       "    <tr>\n",
       "      <th>1589</th>\n",
       "      <td>Wolves</td>\n",
       "      <td>1.722280</td>\n",
       "      <td>1.970870</td>\n",
       "      <td>2023-08-14</td>\n",
       "    </tr>\n",
       "    <tr>\n",
       "      <th>1590</th>\n",
       "      <td>Wolves</td>\n",
       "      <td>2.688210</td>\n",
       "      <td>3.155620</td>\n",
       "      <td>2023-08-19</td>\n",
       "    </tr>\n",
       "    <tr>\n",
       "      <th>1591</th>\n",
       "      <td>Wolves</td>\n",
       "      <td>1.402280</td>\n",
       "      <td>1.897920</td>\n",
       "      <td>2023-08-26</td>\n",
       "    </tr>\n",
       "  </tbody>\n",
       "</table>\n",
       "<p>1592 rows × 4 columns</p>\n",
       "</div>"
      ],
      "text/plain": [
       "         Team        xG       xGA        Date\n",
       "0     Arsenal  1.023850  1.888180  2021-08-13\n",
       "1     Arsenal  0.630099  3.641320  2021-08-22\n",
       "2     Arsenal  0.116805  4.472730  2021-08-28\n",
       "3     Arsenal  2.685150  0.577292  2021-09-11\n",
       "4     Arsenal  1.099280  0.775574  2021-09-18\n",
       "...       ...       ...       ...         ...\n",
       "1587   Wolves  1.289760  2.469760  2023-05-20\n",
       "1588   Wolves  0.387720  3.024660  2023-05-28\n",
       "1589   Wolves  1.722280  1.970870  2023-08-14\n",
       "1590   Wolves  2.688210  3.155620  2023-08-19\n",
       "1591   Wolves  1.402280  1.897920  2023-08-26\n",
       "\n",
       "[1592 rows x 4 columns]"
      ]
     },
     "execution_count": 22,
     "metadata": {},
     "output_type": "execute_result"
    }
   ],
   "source": [
    "df"
   ]
  },
  {
   "cell_type": "code",
   "execution_count": 23,
   "id": "1a0f6d53-6281-4e1a-87ae-0a753505419c",
   "metadata": {},
   "outputs": [],
   "source": [
    "rolling_gameweeks = [2, 4, 5, 8, 10, 15, 30]\n",
    "for r in rolling_gameweeks:\n",
    "    form_means_xG = df.groupby([\"Team\"])[\"xG\"].rolling(r, min_periods=1).mean().groupby([\"Team\"]).shift(1).reset_index()[\"xG\"]\n",
    "    df[\"xG_\" + str(r)] = form_means_xG.values\n",
    "    \n",
    "    form_means_xGA = df.groupby([\"Team\"])[\"xGA\"].rolling(r, min_periods=1).mean().groupby([\"Team\"]).shift(1).reset_index()[\"xGA\"]\n",
    "    df[\"xGA_\" + str(r)] = form_means_xGA.values"
   ]
  },
  {
   "cell_type": "code",
   "execution_count": 24,
   "id": "5dfa8614-862b-4dbc-bcfa-e34f6cc5540f",
   "metadata": {},
   "outputs": [
    {
     "data": {
      "text/html": [
       "<div>\n",
       "<style scoped>\n",
       "    .dataframe tbody tr th:only-of-type {\n",
       "        vertical-align: middle;\n",
       "    }\n",
       "\n",
       "    .dataframe tbody tr th {\n",
       "        vertical-align: top;\n",
       "    }\n",
       "\n",
       "    .dataframe thead th {\n",
       "        text-align: right;\n",
       "    }\n",
       "</style>\n",
       "<table border=\"1\" class=\"dataframe\">\n",
       "  <thead>\n",
       "    <tr style=\"text-align: right;\">\n",
       "      <th></th>\n",
       "      <th>Team</th>\n",
       "      <th>xG</th>\n",
       "      <th>xGA</th>\n",
       "      <th>Date</th>\n",
       "      <th>xG_2</th>\n",
       "      <th>xGA_2</th>\n",
       "      <th>xG_4</th>\n",
       "      <th>xGA_4</th>\n",
       "      <th>xG_5</th>\n",
       "      <th>xGA_5</th>\n",
       "      <th>xG_8</th>\n",
       "      <th>xGA_8</th>\n",
       "      <th>xG_10</th>\n",
       "      <th>xGA_10</th>\n",
       "      <th>xG_15</th>\n",
       "      <th>xGA_15</th>\n",
       "      <th>xG_30</th>\n",
       "      <th>xGA_30</th>\n",
       "    </tr>\n",
       "  </thead>\n",
       "  <tbody>\n",
       "    <tr>\n",
       "      <th>1511</th>\n",
       "      <td>West Ham</td>\n",
       "      <td>2.95270</td>\n",
       "      <td>1.374300</td>\n",
       "      <td>2023-08-26</td>\n",
       "      <td>1.597870</td>\n",
       "      <td>1.559705</td>\n",
       "      <td>1.661526</td>\n",
       "      <td>1.448842</td>\n",
       "      <td>1.369883</td>\n",
       "      <td>2.044216</td>\n",
       "      <td>1.386286</td>\n",
       "      <td>2.091655</td>\n",
       "      <td>1.455286</td>\n",
       "      <td>1.941242</td>\n",
       "      <td>1.475320</td>\n",
       "      <td>1.849155</td>\n",
       "      <td>1.372991</td>\n",
       "      <td>1.608761</td>\n",
       "    </tr>\n",
       "    <tr>\n",
       "      <th>1512</th>\n",
       "      <td>West Ham</td>\n",
       "      <td>1.22528</td>\n",
       "      <td>2.022440</td>\n",
       "      <td>2023-09-01</td>\n",
       "      <td>2.332520</td>\n",
       "      <td>1.491730</td>\n",
       "      <td>1.779698</td>\n",
       "      <td>1.630960</td>\n",
       "      <td>1.919760</td>\n",
       "      <td>1.433934</td>\n",
       "      <td>1.507546</td>\n",
       "      <td>1.973582</td>\n",
       "      <td>1.498234</td>\n",
       "      <td>1.981204</td>\n",
       "      <td>1.529078</td>\n",
       "      <td>1.808016</td>\n",
       "      <td>1.388531</td>\n",
       "      <td>1.579882</td>\n",
       "    </tr>\n",
       "    <tr>\n",
       "      <th>1513</th>\n",
       "      <td>Wolves</td>\n",
       "      <td>1.32714</td>\n",
       "      <td>0.668082</td>\n",
       "      <td>2021-08-14</td>\n",
       "      <td>NaN</td>\n",
       "      <td>NaN</td>\n",
       "      <td>NaN</td>\n",
       "      <td>NaN</td>\n",
       "      <td>NaN</td>\n",
       "      <td>NaN</td>\n",
       "      <td>NaN</td>\n",
       "      <td>NaN</td>\n",
       "      <td>NaN</td>\n",
       "      <td>NaN</td>\n",
       "      <td>NaN</td>\n",
       "      <td>NaN</td>\n",
       "      <td>NaN</td>\n",
       "      <td>NaN</td>\n",
       "    </tr>\n",
       "    <tr>\n",
       "      <th>1514</th>\n",
       "      <td>Wolves</td>\n",
       "      <td>1.51127</td>\n",
       "      <td>1.726360</td>\n",
       "      <td>2021-08-22</td>\n",
       "      <td>1.327140</td>\n",
       "      <td>0.668082</td>\n",
       "      <td>1.327140</td>\n",
       "      <td>0.668082</td>\n",
       "      <td>1.327140</td>\n",
       "      <td>0.668082</td>\n",
       "      <td>1.327140</td>\n",
       "      <td>0.668082</td>\n",
       "      <td>1.327140</td>\n",
       "      <td>0.668082</td>\n",
       "      <td>1.327140</td>\n",
       "      <td>0.668082</td>\n",
       "      <td>1.327140</td>\n",
       "      <td>0.668082</td>\n",
       "    </tr>\n",
       "    <tr>\n",
       "      <th>1515</th>\n",
       "      <td>Wolves</td>\n",
       "      <td>1.79575</td>\n",
       "      <td>0.944083</td>\n",
       "      <td>2021-08-29</td>\n",
       "      <td>1.419205</td>\n",
       "      <td>1.197221</td>\n",
       "      <td>1.419205</td>\n",
       "      <td>1.197221</td>\n",
       "      <td>1.419205</td>\n",
       "      <td>1.197221</td>\n",
       "      <td>1.419205</td>\n",
       "      <td>1.197221</td>\n",
       "      <td>1.419205</td>\n",
       "      <td>1.197221</td>\n",
       "      <td>1.419205</td>\n",
       "      <td>1.197221</td>\n",
       "      <td>1.419205</td>\n",
       "      <td>1.197221</td>\n",
       "    </tr>\n",
       "    <tr>\n",
       "      <th>...</th>\n",
       "      <td>...</td>\n",
       "      <td>...</td>\n",
       "      <td>...</td>\n",
       "      <td>...</td>\n",
       "      <td>...</td>\n",
       "      <td>...</td>\n",
       "      <td>...</td>\n",
       "      <td>...</td>\n",
       "      <td>...</td>\n",
       "      <td>...</td>\n",
       "      <td>...</td>\n",
       "      <td>...</td>\n",
       "      <td>...</td>\n",
       "      <td>...</td>\n",
       "      <td>...</td>\n",
       "      <td>...</td>\n",
       "      <td>...</td>\n",
       "      <td>...</td>\n",
       "    </tr>\n",
       "    <tr>\n",
       "      <th>1587</th>\n",
       "      <td>Wolves</td>\n",
       "      <td>1.28976</td>\n",
       "      <td>2.469760</td>\n",
       "      <td>2023-05-20</td>\n",
       "      <td>0.537419</td>\n",
       "      <td>2.301380</td>\n",
       "      <td>0.701779</td>\n",
       "      <td>2.196941</td>\n",
       "      <td>0.680675</td>\n",
       "      <td>2.291411</td>\n",
       "      <td>0.665923</td>\n",
       "      <td>1.862509</td>\n",
       "      <td>0.880086</td>\n",
       "      <td>1.901024</td>\n",
       "      <td>0.844954</td>\n",
       "      <td>1.755729</td>\n",
       "      <td>0.897377</td>\n",
       "      <td>1.674673</td>\n",
       "    </tr>\n",
       "    <tr>\n",
       "      <th>1588</th>\n",
       "      <td>Wolves</td>\n",
       "      <td>0.38772</td>\n",
       "      <td>3.024660</td>\n",
       "      <td>2023-05-28</td>\n",
       "      <td>0.779274</td>\n",
       "      <td>2.785470</td>\n",
       "      <td>0.742146</td>\n",
       "      <td>2.669307</td>\n",
       "      <td>0.819375</td>\n",
       "      <td>2.251505</td>\n",
       "      <td>0.779176</td>\n",
       "      <td>2.031928</td>\n",
       "      <td>0.938073</td>\n",
       "      <td>1.902473</td>\n",
       "      <td>0.889895</td>\n",
       "      <td>1.833578</td>\n",
       "      <td>0.930003</td>\n",
       "      <td>1.709526</td>\n",
       "    </tr>\n",
       "    <tr>\n",
       "      <th>1589</th>\n",
       "      <td>Wolves</td>\n",
       "      <td>1.72228</td>\n",
       "      <td>1.970870</td>\n",
       "      <td>2023-08-14</td>\n",
       "      <td>0.838740</td>\n",
       "      <td>2.747210</td>\n",
       "      <td>0.688080</td>\n",
       "      <td>2.524295</td>\n",
       "      <td>0.671261</td>\n",
       "      <td>2.740378</td>\n",
       "      <td>0.752497</td>\n",
       "      <td>2.308097</td>\n",
       "      <td>0.700487</td>\n",
       "      <td>2.039449</td>\n",
       "      <td>0.854982</td>\n",
       "      <td>1.958372</td>\n",
       "      <td>0.923727</td>\n",
       "      <td>1.775703</td>\n",
       "    </tr>\n",
       "    <tr>\n",
       "      <th>1590</th>\n",
       "      <td>Wolves</td>\n",
       "      <td>2.68821</td>\n",
       "      <td>3.155620</td>\n",
       "      <td>2023-08-19</td>\n",
       "      <td>1.055000</td>\n",
       "      <td>2.497765</td>\n",
       "      <td>0.917137</td>\n",
       "      <td>2.641617</td>\n",
       "      <td>0.894920</td>\n",
       "      <td>2.413610</td>\n",
       "      <td>0.850392</td>\n",
       "      <td>2.365293</td>\n",
       "      <td>0.834341</td>\n",
       "      <td>2.125095</td>\n",
       "      <td>0.903327</td>\n",
       "      <td>2.028888</td>\n",
       "      <td>0.956188</td>\n",
       "      <td>1.760368</td>\n",
       "    </tr>\n",
       "    <tr>\n",
       "      <th>1591</th>\n",
       "      <td>Wolves</td>\n",
       "      <td>1.40228</td>\n",
       "      <td>1.897920</td>\n",
       "      <td>2023-08-26</td>\n",
       "      <td>2.205245</td>\n",
       "      <td>2.563245</td>\n",
       "      <td>1.521993</td>\n",
       "      <td>2.655227</td>\n",
       "      <td>1.271352</td>\n",
       "      <td>2.744418</td>\n",
       "      <td>1.111886</td>\n",
       "      <td>2.426084</td>\n",
       "      <td>1.043046</td>\n",
       "      <td>2.359126</td>\n",
       "      <td>1.030087</td>\n",
       "      <td>2.059135</td>\n",
       "      <td>1.005006</td>\n",
       "      <td>1.823968</td>\n",
       "    </tr>\n",
       "  </tbody>\n",
       "</table>\n",
       "<p>81 rows × 18 columns</p>\n",
       "</div>"
      ],
      "text/plain": [
       "          Team       xG       xGA        Date      xG_2     xGA_2      xG_4  \\\n",
       "1511  West Ham  2.95270  1.374300  2023-08-26  1.597870  1.559705  1.661526   \n",
       "1512  West Ham  1.22528  2.022440  2023-09-01  2.332520  1.491730  1.779698   \n",
       "1513    Wolves  1.32714  0.668082  2021-08-14       NaN       NaN       NaN   \n",
       "1514    Wolves  1.51127  1.726360  2021-08-22  1.327140  0.668082  1.327140   \n",
       "1515    Wolves  1.79575  0.944083  2021-08-29  1.419205  1.197221  1.419205   \n",
       "...        ...      ...       ...         ...       ...       ...       ...   \n",
       "1587    Wolves  1.28976  2.469760  2023-05-20  0.537419  2.301380  0.701779   \n",
       "1588    Wolves  0.38772  3.024660  2023-05-28  0.779274  2.785470  0.742146   \n",
       "1589    Wolves  1.72228  1.970870  2023-08-14  0.838740  2.747210  0.688080   \n",
       "1590    Wolves  2.68821  3.155620  2023-08-19  1.055000  2.497765  0.917137   \n",
       "1591    Wolves  1.40228  1.897920  2023-08-26  2.205245  2.563245  1.521993   \n",
       "\n",
       "         xGA_4      xG_5     xGA_5      xG_8     xGA_8     xG_10    xGA_10  \\\n",
       "1511  1.448842  1.369883  2.044216  1.386286  2.091655  1.455286  1.941242   \n",
       "1512  1.630960  1.919760  1.433934  1.507546  1.973582  1.498234  1.981204   \n",
       "1513       NaN       NaN       NaN       NaN       NaN       NaN       NaN   \n",
       "1514  0.668082  1.327140  0.668082  1.327140  0.668082  1.327140  0.668082   \n",
       "1515  1.197221  1.419205  1.197221  1.419205  1.197221  1.419205  1.197221   \n",
       "...        ...       ...       ...       ...       ...       ...       ...   \n",
       "1587  2.196941  0.680675  2.291411  0.665923  1.862509  0.880086  1.901024   \n",
       "1588  2.669307  0.819375  2.251505  0.779176  2.031928  0.938073  1.902473   \n",
       "1589  2.524295  0.671261  2.740378  0.752497  2.308097  0.700487  2.039449   \n",
       "1590  2.641617  0.894920  2.413610  0.850392  2.365293  0.834341  2.125095   \n",
       "1591  2.655227  1.271352  2.744418  1.111886  2.426084  1.043046  2.359126   \n",
       "\n",
       "         xG_15    xGA_15     xG_30    xGA_30  \n",
       "1511  1.475320  1.849155  1.372991  1.608761  \n",
       "1512  1.529078  1.808016  1.388531  1.579882  \n",
       "1513       NaN       NaN       NaN       NaN  \n",
       "1514  1.327140  0.668082  1.327140  0.668082  \n",
       "1515  1.419205  1.197221  1.419205  1.197221  \n",
       "...        ...       ...       ...       ...  \n",
       "1587  0.844954  1.755729  0.897377  1.674673  \n",
       "1588  0.889895  1.833578  0.930003  1.709526  \n",
       "1589  0.854982  1.958372  0.923727  1.775703  \n",
       "1590  0.903327  2.028888  0.956188  1.760368  \n",
       "1591  1.030087  2.059135  1.005006  1.823968  \n",
       "\n",
       "[81 rows x 18 columns]"
      ]
     },
     "execution_count": 24,
     "metadata": {},
     "output_type": "execute_result"
    }
   ],
   "source": [
    "df.tail(81)"
   ]
  },
  {
   "cell_type": "markdown",
   "id": "0594e5b9-e7f0-4b88-8ff7-c8fc021a3cbd",
   "metadata": {},
   "source": [
    "# Saving to file"
   ]
  },
  {
   "cell_type": "code",
   "execution_count": 25,
   "id": "5698ea70-c4d5-4c04-a6cb-9343466ed9f7",
   "metadata": {},
   "outputs": [],
   "source": [
    "df.to_csv(\"data/completed_fixtures.csv\")"
   ]
  },
  {
   "cell_type": "markdown",
   "id": "4d574a83-7872-4eed-bf36-24716c6ee0cc",
   "metadata": {},
   "source": [
    "# Plots"
   ]
  },
  {
   "cell_type": "code",
   "execution_count": 26,
   "id": "6a9f3f0f-7024-40da-9095-d6664c383260",
   "metadata": {},
   "outputs": [],
   "source": [
    "import seaborn as sns"
   ]
  },
  {
   "cell_type": "code",
   "execution_count": 29,
   "id": "a4bd2887-02ae-48b6-96ab-f89af6d43ca7",
   "metadata": {},
   "outputs": [
    {
     "data": {
      "text/plain": [
       "<AxesSubplot:ylabel='xGA'>"
      ]
     },
     "execution_count": 29,
     "metadata": {},
     "output_type": "execute_result"
    },
    {
     "data": {
      "image/png": "[encoded data removed]",
      "text/plain": [
       "<Figure size 432x288 with 1 Axes>"
      ]
     },
     "metadata": {
      "needs_background": "light"
     },
     "output_type": "display_data"
    }
   ],
   "source": [
    "sns.lineplot(data=df[df[\"Team\"]== \"Aston Villa\"][\"xGA\"])"
   ]
  },
  {
   "cell_type": "code",
   "execution_count": null,
   "id": "f7160fee-34fe-4c92-846a-e3e16bf66a2b",
   "metadata": {},
   "outputs": [],
   "source": []
  },
  {
   "cell_type": "code",
   "execution_count": null,
   "id": "801874aa-7db5-4c66-9b78-e908e5d5abd3",
   "metadata": {},
   "outputs": [],
   "source": []
  }
 ],
 "metadata": {
  "kernelspec": {
   "display_name": "Python 3 (ipykernel)",
   "language": "python",
   "name": "python3"
  },
  "language_info": {
   "codemirror_mode": {
    "name": "ipython",
    "version": 3
   },
   "file_extension": ".py",
   "mimetype": "text/x-python",
   "name": "python",
   "nbconvert_exporter": "python",
   "pygments_lexer": "ipython3",
   "version": "3.8.0"
  }
 },
 "nbformat": 4,
 "nbformat_minor": 5
}
