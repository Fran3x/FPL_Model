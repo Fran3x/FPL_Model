{
  "cells": [
    {
      "cell_type": "markdown",
      "source": [
        "# Google Colab"
      ],
      "metadata": {
        "id": "HQv7wn2lGRxJ"
      },
      "id": "HQv7wn2lGRxJ"
    },
    {
      "cell_type": "code",
      "source": [
        "Google_Colab = True"
      ],
      "metadata": {
        "id": "lWcbiCoePjwh"
      },
      "id": "lWcbiCoePjwh",
      "execution_count": 70,
      "outputs": []
    },
    {
      "cell_type": "code",
      "source": [
        "import os\n",
        "\n",
        "if Google_Colab:\n",
        "  from google.colab import drive\n",
        "  drive.mount('/content/gdrive')\n",
        "  os.chdir(\"/content/gdrive/My Drive/FPL_ML\")\n",
        "else:\n",
        "  os.chdir(\"D:\\PulpitE\\FPL_ML\")"
      ],
      "metadata": {
        "colab": {
          "base_uri": "https://localhost:8080/"
        },
        "id": "iIMFBRbFGTex",
        "outputId": "9894608f-c0bc-4065-92e5-0b32d2437ad0"
      },
      "id": "iIMFBRbFGTex",
      "execution_count": 71,
      "outputs": [
        {
          "output_type": "stream",
          "name": "stdout",
          "text": [
            "Drive already mounted at /content/gdrive; to attempt to forcibly remount, call drive.mount(\"/content/gdrive\", force_remount=True).\n"
          ]
        }
      ]
    },
    {
      "cell_type": "markdown",
      "id": "b403b39e-b749-4730-a880-75a6b9ddfe83",
      "metadata": {
        "id": "b403b39e-b749-4730-a880-75a6b9ddfe83"
      },
      "source": [
        "# Imports"
      ]
    },
    {
      "cell_type": "code",
      "execution_count": 72,
      "id": "1382f0d0-60a4-4f2a-b4ce-c54205b18d21",
      "metadata": {
        "id": "1382f0d0-60a4-4f2a-b4ce-c54205b18d21"
      },
      "outputs": [],
      "source": [
        "import pandas as pd\n",
        "\n",
        "import torch\n",
        "import torch.nn as nn\n",
        "\n",
        "import torchvision\n",
        "import torchvision.transforms\n",
        "from torchvision.transforms import ToTensor\n",
        "\n",
        "from torch.utils.data import Dataset, DataLoader\n",
        "import torch.optim as optim\n",
        "\n",
        "import matplotlib.pyplot as plt\n",
        "\n",
        "import numpy as np\n",
        "import random"
      ]
    },
    {
      "cell_type": "markdown",
      "id": "7dd9d155-95e4-4e3d-86ad-c46a6fbb5c95",
      "metadata": {
        "id": "7dd9d155-95e4-4e3d-86ad-c46a6fbb5c95"
      },
      "source": [
        "# Constants and seeds"
      ]
    },
    {
      "cell_type": "code",
      "execution_count": 73,
      "id": "7239f9ad-7a6d-4a3d-9da5-4bac972e1537",
      "metadata": {
        "id": "7239f9ad-7a6d-4a3d-9da5-4bac972e1537"
      },
      "outputs": [],
      "source": [
        "# FIXTURES_IN_SAMPLE\n",
        "FIS = 8\n",
        "\n",
        "# FIXTURES_FOR_PLAYER - number of gameweeks required\n",
        "FFP = 15\n",
        "\n",
        "NEXT_GAMEWEEK = 19"
      ]
    },
    {
      "cell_type": "code",
      "execution_count": 74,
      "id": "2d44df04-be21-4e7b-aaa5-612a6210bd44",
      "metadata": {
        "id": "2d44df04-be21-4e7b-aaa5-612a6210bd44"
      },
      "outputs": [],
      "source": [
        "def set_all_seeds(seed):\n",
        "    os.environ[\"PL_GLOBAL_SEED\"] = str(seed)\n",
        "    random.seed(seed)\n",
        "    np.random.seed(seed)\n",
        "    torch.manual_seed(seed)\n",
        "    torch.cuda.manual_seed_all(seed)\n",
        "    torch.backends.cudnn.deterministic = True\n",
        "\n",
        "set_all_seeds(42)"
      ]
    },
    {
      "cell_type": "markdown",
      "id": "83206c3d-ea25-42ca-81df-c388d247ffe3",
      "metadata": {
        "id": "83206c3d-ea25-42ca-81df-c388d247ffe3"
      },
      "source": [
        "# Device"
      ]
    },
    {
      "cell_type": "code",
      "execution_count": 75,
      "id": "0a673f70-8843-4b1a-ad07-ccfea4306d84",
      "metadata": {
        "id": "0a673f70-8843-4b1a-ad07-ccfea4306d84"
      },
      "outputs": [],
      "source": [
        "device = torch.device(\"cuda\")\n",
        "# device = torch.device('mps')\n",
        "# device = torch.device('cpu')"
      ]
    },
    {
      "cell_type": "markdown",
      "id": "83fe6a68-8e90-42af-94c8-c886a1f95c77",
      "metadata": {
        "id": "83fe6a68-8e90-42af-94c8-c886a1f95c77"
      },
      "source": [
        "# Getting data and choosing features"
      ]
    },
    {
      "cell_type": "code",
      "execution_count": 76,
      "id": "4bb7008e-7daa-41ce-b71c-ff06abd53b86",
      "metadata": {
        "id": "4bb7008e-7daa-41ce-b71c-ff06abd53b86"
      },
      "outputs": [],
      "source": [
        "df = pd.read_csv('data/final_dataset.csv')"
      ]
    },
    {
      "cell_type": "code",
      "execution_count": 77,
      "id": "bc939518-2991-4de9-ae25-e0f986522243",
      "metadata": {
        "id": "bc939518-2991-4de9-ae25-e0f986522243"
      },
      "outputs": [],
      "source": [
        "# remembering original df\n",
        "df_original = df"
      ]
    },
    {
      "cell_type": "code",
      "source": [
        "df_original.iloc[0]"
      ],
      "metadata": {
        "colab": {
          "base_uri": "https://localhost:8080/"
        },
        "id": "PWzStYOfoo2G",
        "outputId": "931041b0-9ca2-473e-9f16-561bb77deb07"
      },
      "id": "PWzStYOfoo2G",
      "execution_count": 78,
      "outputs": [
        {
          "output_type": "execute_result",
          "data": {
            "text/plain": [
              "Unnamed: 0                          0\n",
              "Date                       2022-08-06\n",
              "Day                               Sat\n",
              "Comp                   Premier League\n",
              "Round                     Matchweek 1\n",
              "Venue                            Home\n",
              "Squad                    Leeds United\n",
              "Opponent                       Wolves\n",
              "Start                               Y\n",
              "Pos                                RW\n",
              "Min                              83.0\n",
              "Gls                               0.0\n",
              "Ast                               0.0\n",
              "PK                                0.0\n",
              "PKatt                             0.0\n",
              "Sh                                1.0\n",
              "SoT                               0.0\n",
              "CrdY                              0.0\n",
              "CrdR                              0.0\n",
              "Touches                          36.0\n",
              "Tkl                               2.0\n",
              "Int                               0.0\n",
              "Blocks                            2.0\n",
              "xG                                0.0\n",
              "npxG                              0.0\n",
              "xAG                               0.0\n",
              "SCA                               1.0\n",
              "GCA                               0.0\n",
              "Cmp                              15.0\n",
              "Att                              27.0\n",
              "Cmp%                             55.6\n",
              "PrgP                              5.0\n",
              "Carries                          22.0\n",
              "PrgC                              2.0\n",
              "Att.1                             0.0\n",
              "Succ                              0.0\n",
              "Match Report             Match Report\n",
              "Name                 Brenden-Aaronson\n",
              "Season                        2022-23\n",
              "WDL                                 W\n",
              "GoalsTeams                        2–1\n",
              "Team Score                          2\n",
              "Opp Score                           1\n",
              "CS                                0.0\n",
              "Was Home                          1.0\n",
              "GW                                  1\n",
              "FPL                               2.0\n",
              "neutral_name         Brenden-Aaronson\n",
              "Total Points                      2.0\n",
              "FPL position                      MID\n",
              "Opp rating                1725.276489\n",
              "ScoreForLast5                     NaN\n",
              "ScoreAgainstLast5                 NaN\n",
              "Name: 0, dtype: object"
            ]
          },
          "metadata": {},
          "execution_count": 78
        }
      ]
    },
    {
      "cell_type": "code",
      "execution_count": 79,
      "id": "8e0c8995-bbf3-4bf2-9123-e6b35c6b0cd8",
      "metadata": {
        "id": "8e0c8995-bbf3-4bf2-9123-e6b35c6b0cd8"
      },
      "outputs": [],
      "source": [
        "info = [\"Name\", \"GW\", \"FPL position\"]\n",
        "other = [\"LSTM\"]\n",
        "features = [\"Min\", \"Gls\", \"Ast\", \"Sh\", \"SoT\", \"xG\", \"npxG\", \"xAG\", \"SCA\", \"GCA\", \"CS\", \"CrdY\", \"CrdR\", \"Opp rating\", \"Team Score\", \"Opp Score\", \"Was Home\"]\n",
        "to_predict = [\"FPL\"]"
      ]
    },
    {
      "cell_type": "code",
      "execution_count": 80,
      "id": "c4eeb6d7-d07b-4f1c-9c86-52095b7cf379",
      "metadata": {
        "colab": {
          "base_uri": "https://localhost:8080/"
        },
        "id": "c4eeb6d7-d07b-4f1c-9c86-52095b7cf379",
        "outputId": "cb37b8a5-1831-428c-9447-e2353912cfff"
      },
      "outputs": [
        {
          "output_type": "stream",
          "name": "stderr",
          "text": [
            "/usr/local/lib/python3.8/dist-packages/pandas/core/frame.py:3641: SettingWithCopyWarning: \n",
            "A value is trying to be set on a copy of a slice from a DataFrame.\n",
            "Try using .loc[row_indexer,col_indexer] = value instead\n",
            "\n",
            "See the caveats in the documentation: https://pandas.pydata.org/pandas-docs/stable/user_guide/indexing.html#returning-a-view-versus-a-copy\n",
            "  self[k1] = value[k2]\n"
          ]
        }
      ],
      "source": [
        "df = df[info + features + to_predict]\n",
        "df[features + to_predict] = df[features + to_predict].astype(\"float32\")"
      ]
    },
    {
      "cell_type": "code",
      "execution_count": 81,
      "id": "d63ed15f-1efb-4c00-b646-8c55a6c347d1",
      "metadata": {
        "colab": {
          "base_uri": "https://localhost:8080/"
        },
        "id": "d63ed15f-1efb-4c00-b646-8c55a6c347d1",
        "outputId": "d76e7d3e-0f80-43e3-9179-3e0e9ee63efd"
      },
      "outputs": [
        {
          "output_type": "execute_result",
          "data": {
            "text/plain": [
              "(7457, 21)"
            ]
          },
          "metadata": {},
          "execution_count": 81
        }
      ],
      "source": [
        "df.shape"
      ]
    },
    {
      "cell_type": "code",
      "execution_count": 82,
      "id": "f36cc7ed-88c3-4ee4-baf1-85393aa3d15d",
      "metadata": {
        "id": "f36cc7ed-88c3-4ee4-baf1-85393aa3d15d"
      },
      "outputs": [],
      "source": [
        "# removing NaN rows and players that appear less than 15 times\n",
        "df = df.dropna()\n",
        "grouped = df.groupby('Name')\n",
        "\n",
        "# taking onyl players with at least FFP matches in logs\n",
        "df = grouped.filter(lambda x: len(x) >= FFP)"
      ]
    },
    {
      "cell_type": "code",
      "execution_count": 83,
      "id": "06c42b4b-58dd-48fe-a162-14e7564a4441",
      "metadata": {
        "colab": {
          "base_uri": "https://localhost:8080/"
        },
        "id": "06c42b4b-58dd-48fe-a162-14e7564a4441",
        "outputId": "064d345a-4e32-4856-b633-b76028cd3360"
      },
      "outputs": [
        {
          "output_type": "execute_result",
          "data": {
            "text/plain": [
              "(5771, 21)"
            ]
          },
          "metadata": {},
          "execution_count": 83
        }
      ],
      "source": [
        "df.shape"
      ]
    },
    {
      "cell_type": "code",
      "execution_count": 84,
      "id": "24fff899-a809-4659-b51e-f1431688507c",
      "metadata": {
        "colab": {
          "base_uri": "https://localhost:8080/",
          "height": 706
        },
        "id": "24fff899-a809-4659-b51e-f1431688507c",
        "outputId": "c6da6af7-b009-40fe-f166-ec8eb9ae67f0"
      },
      "outputs": [
        {
          "output_type": "execute_result",
          "data": {
            "text/plain": [
              "                Name  GW FPL position   Min  Gls  Ast   Sh  SoT   xG  npxG  \\\n",
              "0   Brenden-Aaronson   1          MID  83.0  0.0  0.0  1.0  0.0  0.0   0.0   \n",
              "1   Brenden-Aaronson   2          MID  90.0  0.0  0.0  2.0  0.0  0.1   0.1   \n",
              "2   Brenden-Aaronson   3          MID  82.0  1.0  0.0  2.0  2.0  1.0   1.0   \n",
              "3   Brenden-Aaronson   4          MID  81.0  0.0  0.0  0.0  0.0  0.0   0.0   \n",
              "4   Brenden-Aaronson   5          MID  75.0  0.0  1.0  1.0  1.0  0.1   0.1   \n",
              "5   Brenden-Aaronson   6          MID  90.0  0.0  0.0  1.0  0.0  0.0   0.0   \n",
              "6   Brenden-Aaronson   9          MID  78.0  0.0  0.0  0.0  0.0  0.0   0.0   \n",
              "7   Brenden-Aaronson  10          MID  75.0  0.0  0.0  2.0  0.0  0.1   0.1   \n",
              "8   Brenden-Aaronson  11          MID  90.0  0.0  0.0  2.0  1.0  0.1   0.1   \n",
              "9   Brenden-Aaronson  12          MID  90.0  0.0  0.0  1.0  0.0  0.1   0.1   \n",
              "10  Brenden-Aaronson  13          MID  90.0  0.0  0.0  1.0  0.0  0.1   0.1   \n",
              "11  Brenden-Aaronson  14          MID  90.0  0.0  0.0  2.0  0.0  0.2   0.2   \n",
              "12  Brenden-Aaronson  15          MID  85.0  0.0  0.0  2.0  0.0  0.1   0.1   \n",
              "13  Brenden-Aaronson  16          MID  90.0  0.0  1.0  2.0  0.0  0.1   0.1   \n",
              "14  Brenden-Aaronson  17          MID  82.0  0.0  0.0  1.0  0.0  0.0   0.0   \n",
              "15  Brenden-Aaronson  18          MID  90.0  0.0  0.0  1.0  0.0  0.1   0.1   \n",
              "16  Brenden-Aaronson  19          MID  62.0  0.0  0.0  1.0  0.0  0.1   0.1   \n",
              "17  Brenden-Aaronson  20          MID  76.0  0.0  0.0  2.0  0.0  0.1   0.1   \n",
              "18  Brenden-Aaronson  21          MID  69.0  0.0  0.0  2.0  1.0  0.1   0.1   \n",
              "19         Che-Adams   1          FWD   0.0  0.0  0.0  0.0  0.0  0.0   0.0   \n",
              "\n",
              "    ...  SCA  GCA   CS  CrdY  CrdR   Opp rating  Team Score  Opp Score  \\\n",
              "0   ...  1.0  0.0  0.0   0.0   0.0  1725.276489         2.0        1.0   \n",
              "1   ...  4.0  0.0  0.0   1.0   0.0  1667.049927         2.0        2.0   \n",
              "2   ...  5.0  1.0  1.0   0.0   0.0  1901.388306         3.0        0.0   \n",
              "3   ...  3.0  0.0  0.0   1.0   0.0  1783.540161         0.0        1.0   \n",
              "4   ...  4.0  1.0  0.0   0.0   0.0  1688.922485         1.0        1.0   \n",
              "5   ...  2.0  0.0  0.0   0.0   0.0  1727.113647         2.0        5.0   \n",
              "6   ...  2.0  0.0  1.0   0.0   0.0  1716.016846         0.0        0.0   \n",
              "7   ...  3.0  1.0  0.0   0.0   0.0  1748.905396         1.0        2.0   \n",
              "8   ...  4.0  0.0  0.0   0.0   0.0  1908.041016         0.0        1.0   \n",
              "9   ...  3.0  0.0  0.0   0.0   0.0  1730.854736         0.0        2.0   \n",
              "10  ...  7.0  0.0  0.0   0.0   0.0  1669.831543         2.0        3.0   \n",
              "11  ...  5.0  0.0  0.0   0.0   0.0  1992.204224         2.0        1.0   \n",
              "12  ...  4.0  1.0  0.0   0.0   0.0  1650.858398         4.0        3.0   \n",
              "13  ...  4.0  1.0  0.0   0.0   0.0  1872.840210         3.0        4.0   \n",
              "14  ...  3.0  0.0  0.0   0.0   0.0  2029.863770         1.0        3.0   \n",
              "15  ...  4.0  0.0  1.0   0.0   0.0  1855.153564         0.0        0.0   \n",
              "16  ...  1.0  0.0  0.0   0.0   0.0  1749.588989         2.0        2.0   \n",
              "17  ...  2.0  0.0  0.0   0.0   0.0  1754.206787         1.0        2.0   \n",
              "18  ...  3.0  0.0  1.0   0.0   0.0  1780.160156         0.0        0.0   \n",
              "19  ...  0.0  0.0  0.0   0.0   0.0  1866.826172         1.0        4.0   \n",
              "\n",
              "    Was Home  FPL  \n",
              "0        1.0  2.0  \n",
              "1        0.0  2.0  \n",
              "2        1.0  8.0  \n",
              "3        0.0  2.0  \n",
              "4        1.0  5.0  \n",
              "5        0.0  2.0  \n",
              "6        1.0  3.0  \n",
              "7        0.0  2.0  \n",
              "8        1.0  2.0  \n",
              "9        0.0  2.0  \n",
              "10       1.0  2.0  \n",
              "11       0.0  2.0  \n",
              "12       1.0  2.0  \n",
              "13       0.0  5.0  \n",
              "14       1.0  2.0  \n",
              "15       0.0  3.0  \n",
              "16       1.0  2.0  \n",
              "17       0.0  2.0  \n",
              "18       1.0  3.0  \n",
              "19       0.0  1.0  \n",
              "\n",
              "[20 rows x 21 columns]"
            ],
            "text/html": [
              "\n",
              "  <div id=\"df-b7bea31e-7e0a-4162-a2bf-9618c83032f0\">\n",
              "    <div class=\"colab-df-container\">\n",
              "      <div>\n",
              "<style scoped>\n",
              "    .dataframe tbody tr th:only-of-type {\n",
              "        vertical-align: middle;\n",
              "    }\n",
              "\n",
              "    .dataframe tbody tr th {\n",
              "        vertical-align: top;\n",
              "    }\n",
              "\n",
              "    .dataframe thead th {\n",
              "        text-align: right;\n",
              "    }\n",
              "</style>\n",
              "<table border=\"1\" class=\"dataframe\">\n",
              "  <thead>\n",
              "    <tr style=\"text-align: right;\">\n",
              "      <th></th>\n",
              "      <th>Name</th>\n",
              "      <th>GW</th>\n",
              "      <th>FPL position</th>\n",
              "      <th>Min</th>\n",
              "      <th>Gls</th>\n",
              "      <th>Ast</th>\n",
              "      <th>Sh</th>\n",
              "      <th>SoT</th>\n",
              "      <th>xG</th>\n",
              "      <th>npxG</th>\n",
              "      <th>...</th>\n",
              "      <th>SCA</th>\n",
              "      <th>GCA</th>\n",
              "      <th>CS</th>\n",
              "      <th>CrdY</th>\n",
              "      <th>CrdR</th>\n",
              "      <th>Opp rating</th>\n",
              "      <th>Team Score</th>\n",
              "      <th>Opp Score</th>\n",
              "      <th>Was Home</th>\n",
              "      <th>FPL</th>\n",
              "    </tr>\n",
              "  </thead>\n",
              "  <tbody>\n",
              "    <tr>\n",
              "      <th>0</th>\n",
              "      <td>Brenden-Aaronson</td>\n",
              "      <td>1</td>\n",
              "      <td>MID</td>\n",
              "      <td>83.0</td>\n",
              "      <td>0.0</td>\n",
              "      <td>0.0</td>\n",
              "      <td>1.0</td>\n",
              "      <td>0.0</td>\n",
              "      <td>0.0</td>\n",
              "      <td>0.0</td>\n",
              "      <td>...</td>\n",
              "      <td>1.0</td>\n",
              "      <td>0.0</td>\n",
              "      <td>0.0</td>\n",
              "      <td>0.0</td>\n",
              "      <td>0.0</td>\n",
              "      <td>1725.276489</td>\n",
              "      <td>2.0</td>\n",
              "      <td>1.0</td>\n",
              "      <td>1.0</td>\n",
              "      <td>2.0</td>\n",
              "    </tr>\n",
              "    <tr>\n",
              "      <th>1</th>\n",
              "      <td>Brenden-Aaronson</td>\n",
              "      <td>2</td>\n",
              "      <td>MID</td>\n",
              "      <td>90.0</td>\n",
              "      <td>0.0</td>\n",
              "      <td>0.0</td>\n",
              "      <td>2.0</td>\n",
              "      <td>0.0</td>\n",
              "      <td>0.1</td>\n",
              "      <td>0.1</td>\n",
              "      <td>...</td>\n",
              "      <td>4.0</td>\n",
              "      <td>0.0</td>\n",
              "      <td>0.0</td>\n",
              "      <td>1.0</td>\n",
              "      <td>0.0</td>\n",
              "      <td>1667.049927</td>\n",
              "      <td>2.0</td>\n",
              "      <td>2.0</td>\n",
              "      <td>0.0</td>\n",
              "      <td>2.0</td>\n",
              "    </tr>\n",
              "    <tr>\n",
              "      <th>2</th>\n",
              "      <td>Brenden-Aaronson</td>\n",
              "      <td>3</td>\n",
              "      <td>MID</td>\n",
              "      <td>82.0</td>\n",
              "      <td>1.0</td>\n",
              "      <td>0.0</td>\n",
              "      <td>2.0</td>\n",
              "      <td>2.0</td>\n",
              "      <td>1.0</td>\n",
              "      <td>1.0</td>\n",
              "      <td>...</td>\n",
              "      <td>5.0</td>\n",
              "      <td>1.0</td>\n",
              "      <td>1.0</td>\n",
              "      <td>0.0</td>\n",
              "      <td>0.0</td>\n",
              "      <td>1901.388306</td>\n",
              "      <td>3.0</td>\n",
              "      <td>0.0</td>\n",
              "      <td>1.0</td>\n",
              "      <td>8.0</td>\n",
              "    </tr>\n",
              "    <tr>\n",
              "      <th>3</th>\n",
              "      <td>Brenden-Aaronson</td>\n",
              "      <td>4</td>\n",
              "      <td>MID</td>\n",
              "      <td>81.0</td>\n",
              "      <td>0.0</td>\n",
              "      <td>0.0</td>\n",
              "      <td>0.0</td>\n",
              "      <td>0.0</td>\n",
              "      <td>0.0</td>\n",
              "      <td>0.0</td>\n",
              "      <td>...</td>\n",
              "      <td>3.0</td>\n",
              "      <td>0.0</td>\n",
              "      <td>0.0</td>\n",
              "      <td>1.0</td>\n",
              "      <td>0.0</td>\n",
              "      <td>1783.540161</td>\n",
              "      <td>0.0</td>\n",
              "      <td>1.0</td>\n",
              "      <td>0.0</td>\n",
              "      <td>2.0</td>\n",
              "    </tr>\n",
              "    <tr>\n",
              "      <th>4</th>\n",
              "      <td>Brenden-Aaronson</td>\n",
              "      <td>5</td>\n",
              "      <td>MID</td>\n",
              "      <td>75.0</td>\n",
              "      <td>0.0</td>\n",
              "      <td>1.0</td>\n",
              "      <td>1.0</td>\n",
              "      <td>1.0</td>\n",
              "      <td>0.1</td>\n",
              "      <td>0.1</td>\n",
              "      <td>...</td>\n",
              "      <td>4.0</td>\n",
              "      <td>1.0</td>\n",
              "      <td>0.0</td>\n",
              "      <td>0.0</td>\n",
              "      <td>0.0</td>\n",
              "      <td>1688.922485</td>\n",
              "      <td>1.0</td>\n",
              "      <td>1.0</td>\n",
              "      <td>1.0</td>\n",
              "      <td>5.0</td>\n",
              "    </tr>\n",
              "    <tr>\n",
              "      <th>5</th>\n",
              "      <td>Brenden-Aaronson</td>\n",
              "      <td>6</td>\n",
              "      <td>MID</td>\n",
              "      <td>90.0</td>\n",
              "      <td>0.0</td>\n",
              "      <td>0.0</td>\n",
              "      <td>1.0</td>\n",
              "      <td>0.0</td>\n",
              "      <td>0.0</td>\n",
              "      <td>0.0</td>\n",
              "      <td>...</td>\n",
              "      <td>2.0</td>\n",
              "      <td>0.0</td>\n",
              "      <td>0.0</td>\n",
              "      <td>0.0</td>\n",
              "      <td>0.0</td>\n",
              "      <td>1727.113647</td>\n",
              "      <td>2.0</td>\n",
              "      <td>5.0</td>\n",
              "      <td>0.0</td>\n",
              "      <td>2.0</td>\n",
              "    </tr>\n",
              "    <tr>\n",
              "      <th>6</th>\n",
              "      <td>Brenden-Aaronson</td>\n",
              "      <td>9</td>\n",
              "      <td>MID</td>\n",
              "      <td>78.0</td>\n",
              "      <td>0.0</td>\n",
              "      <td>0.0</td>\n",
              "      <td>0.0</td>\n",
              "      <td>0.0</td>\n",
              "      <td>0.0</td>\n",
              "      <td>0.0</td>\n",
              "      <td>...</td>\n",
              "      <td>2.0</td>\n",
              "      <td>0.0</td>\n",
              "      <td>1.0</td>\n",
              "      <td>0.0</td>\n",
              "      <td>0.0</td>\n",
              "      <td>1716.016846</td>\n",
              "      <td>0.0</td>\n",
              "      <td>0.0</td>\n",
              "      <td>1.0</td>\n",
              "      <td>3.0</td>\n",
              "    </tr>\n",
              "    <tr>\n",
              "      <th>7</th>\n",
              "      <td>Brenden-Aaronson</td>\n",
              "      <td>10</td>\n",
              "      <td>MID</td>\n",
              "      <td>75.0</td>\n",
              "      <td>0.0</td>\n",
              "      <td>0.0</td>\n",
              "      <td>2.0</td>\n",
              "      <td>0.0</td>\n",
              "      <td>0.1</td>\n",
              "      <td>0.1</td>\n",
              "      <td>...</td>\n",
              "      <td>3.0</td>\n",
              "      <td>1.0</td>\n",
              "      <td>0.0</td>\n",
              "      <td>0.0</td>\n",
              "      <td>0.0</td>\n",
              "      <td>1748.905396</td>\n",
              "      <td>1.0</td>\n",
              "      <td>2.0</td>\n",
              "      <td>0.0</td>\n",
              "      <td>2.0</td>\n",
              "    </tr>\n",
              "    <tr>\n",
              "      <th>8</th>\n",
              "      <td>Brenden-Aaronson</td>\n",
              "      <td>11</td>\n",
              "      <td>MID</td>\n",
              "      <td>90.0</td>\n",
              "      <td>0.0</td>\n",
              "      <td>0.0</td>\n",
              "      <td>2.0</td>\n",
              "      <td>1.0</td>\n",
              "      <td>0.1</td>\n",
              "      <td>0.1</td>\n",
              "      <td>...</td>\n",
              "      <td>4.0</td>\n",
              "      <td>0.0</td>\n",
              "      <td>0.0</td>\n",
              "      <td>0.0</td>\n",
              "      <td>0.0</td>\n",
              "      <td>1908.041016</td>\n",
              "      <td>0.0</td>\n",
              "      <td>1.0</td>\n",
              "      <td>1.0</td>\n",
              "      <td>2.0</td>\n",
              "    </tr>\n",
              "    <tr>\n",
              "      <th>9</th>\n",
              "      <td>Brenden-Aaronson</td>\n",
              "      <td>12</td>\n",
              "      <td>MID</td>\n",
              "      <td>90.0</td>\n",
              "      <td>0.0</td>\n",
              "      <td>0.0</td>\n",
              "      <td>1.0</td>\n",
              "      <td>0.0</td>\n",
              "      <td>0.1</td>\n",
              "      <td>0.1</td>\n",
              "      <td>...</td>\n",
              "      <td>3.0</td>\n",
              "      <td>0.0</td>\n",
              "      <td>0.0</td>\n",
              "      <td>0.0</td>\n",
              "      <td>0.0</td>\n",
              "      <td>1730.854736</td>\n",
              "      <td>0.0</td>\n",
              "      <td>2.0</td>\n",
              "      <td>0.0</td>\n",
              "      <td>2.0</td>\n",
              "    </tr>\n",
              "    <tr>\n",
              "      <th>10</th>\n",
              "      <td>Brenden-Aaronson</td>\n",
              "      <td>13</td>\n",
              "      <td>MID</td>\n",
              "      <td>90.0</td>\n",
              "      <td>0.0</td>\n",
              "      <td>0.0</td>\n",
              "      <td>1.0</td>\n",
              "      <td>0.0</td>\n",
              "      <td>0.1</td>\n",
              "      <td>0.1</td>\n",
              "      <td>...</td>\n",
              "      <td>7.0</td>\n",
              "      <td>0.0</td>\n",
              "      <td>0.0</td>\n",
              "      <td>0.0</td>\n",
              "      <td>0.0</td>\n",
              "      <td>1669.831543</td>\n",
              "      <td>2.0</td>\n",
              "      <td>3.0</td>\n",
              "      <td>1.0</td>\n",
              "      <td>2.0</td>\n",
              "    </tr>\n",
              "    <tr>\n",
              "      <th>11</th>\n",
              "      <td>Brenden-Aaronson</td>\n",
              "      <td>14</td>\n",
              "      <td>MID</td>\n",
              "      <td>90.0</td>\n",
              "      <td>0.0</td>\n",
              "      <td>0.0</td>\n",
              "      <td>2.0</td>\n",
              "      <td>0.0</td>\n",
              "      <td>0.2</td>\n",
              "      <td>0.2</td>\n",
              "      <td>...</td>\n",
              "      <td>5.0</td>\n",
              "      <td>0.0</td>\n",
              "      <td>0.0</td>\n",
              "      <td>0.0</td>\n",
              "      <td>0.0</td>\n",
              "      <td>1992.204224</td>\n",
              "      <td>2.0</td>\n",
              "      <td>1.0</td>\n",
              "      <td>0.0</td>\n",
              "      <td>2.0</td>\n",
              "    </tr>\n",
              "    <tr>\n",
              "      <th>12</th>\n",
              "      <td>Brenden-Aaronson</td>\n",
              "      <td>15</td>\n",
              "      <td>MID</td>\n",
              "      <td>85.0</td>\n",
              "      <td>0.0</td>\n",
              "      <td>0.0</td>\n",
              "      <td>2.0</td>\n",
              "      <td>0.0</td>\n",
              "      <td>0.1</td>\n",
              "      <td>0.1</td>\n",
              "      <td>...</td>\n",
              "      <td>4.0</td>\n",
              "      <td>1.0</td>\n",
              "      <td>0.0</td>\n",
              "      <td>0.0</td>\n",
              "      <td>0.0</td>\n",
              "      <td>1650.858398</td>\n",
              "      <td>4.0</td>\n",
              "      <td>3.0</td>\n",
              "      <td>1.0</td>\n",
              "      <td>2.0</td>\n",
              "    </tr>\n",
              "    <tr>\n",
              "      <th>13</th>\n",
              "      <td>Brenden-Aaronson</td>\n",
              "      <td>16</td>\n",
              "      <td>MID</td>\n",
              "      <td>90.0</td>\n",
              "      <td>0.0</td>\n",
              "      <td>1.0</td>\n",
              "      <td>2.0</td>\n",
              "      <td>0.0</td>\n",
              "      <td>0.1</td>\n",
              "      <td>0.1</td>\n",
              "      <td>...</td>\n",
              "      <td>4.0</td>\n",
              "      <td>1.0</td>\n",
              "      <td>0.0</td>\n",
              "      <td>0.0</td>\n",
              "      <td>0.0</td>\n",
              "      <td>1872.840210</td>\n",
              "      <td>3.0</td>\n",
              "      <td>4.0</td>\n",
              "      <td>0.0</td>\n",
              "      <td>5.0</td>\n",
              "    </tr>\n",
              "    <tr>\n",
              "      <th>14</th>\n",
              "      <td>Brenden-Aaronson</td>\n",
              "      <td>17</td>\n",
              "      <td>MID</td>\n",
              "      <td>82.0</td>\n",
              "      <td>0.0</td>\n",
              "      <td>0.0</td>\n",
              "      <td>1.0</td>\n",
              "      <td>0.0</td>\n",
              "      <td>0.0</td>\n",
              "      <td>0.0</td>\n",
              "      <td>...</td>\n",
              "      <td>3.0</td>\n",
              "      <td>0.0</td>\n",
              "      <td>0.0</td>\n",
              "      <td>0.0</td>\n",
              "      <td>0.0</td>\n",
              "      <td>2029.863770</td>\n",
              "      <td>1.0</td>\n",
              "      <td>3.0</td>\n",
              "      <td>1.0</td>\n",
              "      <td>2.0</td>\n",
              "    </tr>\n",
              "    <tr>\n",
              "      <th>15</th>\n",
              "      <td>Brenden-Aaronson</td>\n",
              "      <td>18</td>\n",
              "      <td>MID</td>\n",
              "      <td>90.0</td>\n",
              "      <td>0.0</td>\n",
              "      <td>0.0</td>\n",
              "      <td>1.0</td>\n",
              "      <td>0.0</td>\n",
              "      <td>0.1</td>\n",
              "      <td>0.1</td>\n",
              "      <td>...</td>\n",
              "      <td>4.0</td>\n",
              "      <td>0.0</td>\n",
              "      <td>1.0</td>\n",
              "      <td>0.0</td>\n",
              "      <td>0.0</td>\n",
              "      <td>1855.153564</td>\n",
              "      <td>0.0</td>\n",
              "      <td>0.0</td>\n",
              "      <td>0.0</td>\n",
              "      <td>3.0</td>\n",
              "    </tr>\n",
              "    <tr>\n",
              "      <th>16</th>\n",
              "      <td>Brenden-Aaronson</td>\n",
              "      <td>19</td>\n",
              "      <td>MID</td>\n",
              "      <td>62.0</td>\n",
              "      <td>0.0</td>\n",
              "      <td>0.0</td>\n",
              "      <td>1.0</td>\n",
              "      <td>0.0</td>\n",
              "      <td>0.1</td>\n",
              "      <td>0.1</td>\n",
              "      <td>...</td>\n",
              "      <td>1.0</td>\n",
              "      <td>0.0</td>\n",
              "      <td>0.0</td>\n",
              "      <td>0.0</td>\n",
              "      <td>0.0</td>\n",
              "      <td>1749.588989</td>\n",
              "      <td>2.0</td>\n",
              "      <td>2.0</td>\n",
              "      <td>1.0</td>\n",
              "      <td>2.0</td>\n",
              "    </tr>\n",
              "    <tr>\n",
              "      <th>17</th>\n",
              "      <td>Brenden-Aaronson</td>\n",
              "      <td>20</td>\n",
              "      <td>MID</td>\n",
              "      <td>76.0</td>\n",
              "      <td>0.0</td>\n",
              "      <td>0.0</td>\n",
              "      <td>2.0</td>\n",
              "      <td>0.0</td>\n",
              "      <td>0.1</td>\n",
              "      <td>0.1</td>\n",
              "      <td>...</td>\n",
              "      <td>2.0</td>\n",
              "      <td>0.0</td>\n",
              "      <td>0.0</td>\n",
              "      <td>0.0</td>\n",
              "      <td>0.0</td>\n",
              "      <td>1754.206787</td>\n",
              "      <td>1.0</td>\n",
              "      <td>2.0</td>\n",
              "      <td>0.0</td>\n",
              "      <td>2.0</td>\n",
              "    </tr>\n",
              "    <tr>\n",
              "      <th>18</th>\n",
              "      <td>Brenden-Aaronson</td>\n",
              "      <td>21</td>\n",
              "      <td>MID</td>\n",
              "      <td>69.0</td>\n",
              "      <td>0.0</td>\n",
              "      <td>0.0</td>\n",
              "      <td>2.0</td>\n",
              "      <td>1.0</td>\n",
              "      <td>0.1</td>\n",
              "      <td>0.1</td>\n",
              "      <td>...</td>\n",
              "      <td>3.0</td>\n",
              "      <td>0.0</td>\n",
              "      <td>1.0</td>\n",
              "      <td>0.0</td>\n",
              "      <td>0.0</td>\n",
              "      <td>1780.160156</td>\n",
              "      <td>0.0</td>\n",
              "      <td>0.0</td>\n",
              "      <td>1.0</td>\n",
              "      <td>3.0</td>\n",
              "    </tr>\n",
              "    <tr>\n",
              "      <th>19</th>\n",
              "      <td>Che-Adams</td>\n",
              "      <td>1</td>\n",
              "      <td>FWD</td>\n",
              "      <td>0.0</td>\n",
              "      <td>0.0</td>\n",
              "      <td>0.0</td>\n",
              "      <td>0.0</td>\n",
              "      <td>0.0</td>\n",
              "      <td>0.0</td>\n",
              "      <td>0.0</td>\n",
              "      <td>...</td>\n",
              "      <td>0.0</td>\n",
              "      <td>0.0</td>\n",
              "      <td>0.0</td>\n",
              "      <td>0.0</td>\n",
              "      <td>0.0</td>\n",
              "      <td>1866.826172</td>\n",
              "      <td>1.0</td>\n",
              "      <td>4.0</td>\n",
              "      <td>0.0</td>\n",
              "      <td>1.0</td>\n",
              "    </tr>\n",
              "  </tbody>\n",
              "</table>\n",
              "<p>20 rows × 21 columns</p>\n",
              "</div>\n",
              "      <button class=\"colab-df-convert\" onclick=\"convertToInteractive('df-b7bea31e-7e0a-4162-a2bf-9618c83032f0')\"\n",
              "              title=\"Convert this dataframe to an interactive table.\"\n",
              "              style=\"display:none;\">\n",
              "        \n",
              "  <svg xmlns=\"http://www.w3.org/2000/svg\" height=\"24px\"viewBox=\"0 0 24 24\"\n",
              "       width=\"24px\">\n",
              "    <path d=\"M0 0h24v24H0V0z\" fill=\"none\"/>\n",
              "    <path d=\"M18.56 5.44l.94 2.06.94-2.06 2.06-.94-2.06-.94-.94-2.06-.94 2.06-2.06.94zm-11 1L8.5 8.5l.94-2.06 2.06-.94-2.06-.94L8.5 2.5l-.94 2.06-2.06.94zm10 10l.94 2.06.94-2.06 2.06-.94-2.06-.94-.94-2.06-.94 2.06-2.06.94z\"/><path d=\"M17.41 7.96l-1.37-1.37c-.4-.4-.92-.59-1.43-.59-.52 0-1.04.2-1.43.59L10.3 9.45l-7.72 7.72c-.78.78-.78 2.05 0 2.83L4 21.41c.39.39.9.59 1.41.59.51 0 1.02-.2 1.41-.59l7.78-7.78 2.81-2.81c.8-.78.8-2.07 0-2.86zM5.41 20L4 18.59l7.72-7.72 1.47 1.35L5.41 20z\"/>\n",
              "  </svg>\n",
              "      </button>\n",
              "      \n",
              "  <style>\n",
              "    .colab-df-container {\n",
              "      display:flex;\n",
              "      flex-wrap:wrap;\n",
              "      gap: 12px;\n",
              "    }\n",
              "\n",
              "    .colab-df-convert {\n",
              "      background-color: #E8F0FE;\n",
              "      border: none;\n",
              "      border-radius: 50%;\n",
              "      cursor: pointer;\n",
              "      display: none;\n",
              "      fill: #1967D2;\n",
              "      height: 32px;\n",
              "      padding: 0 0 0 0;\n",
              "      width: 32px;\n",
              "    }\n",
              "\n",
              "    .colab-df-convert:hover {\n",
              "      background-color: #E2EBFA;\n",
              "      box-shadow: 0px 1px 2px rgba(60, 64, 67, 0.3), 0px 1px 3px 1px rgba(60, 64, 67, 0.15);\n",
              "      fill: #174EA6;\n",
              "    }\n",
              "\n",
              "    [theme=dark] .colab-df-convert {\n",
              "      background-color: #3B4455;\n",
              "      fill: #D2E3FC;\n",
              "    }\n",
              "\n",
              "    [theme=dark] .colab-df-convert:hover {\n",
              "      background-color: #434B5C;\n",
              "      box-shadow: 0px 1px 3px 1px rgba(0, 0, 0, 0.15);\n",
              "      filter: drop-shadow(0px 1px 2px rgba(0, 0, 0, 0.3));\n",
              "      fill: #FFFFFF;\n",
              "    }\n",
              "  </style>\n",
              "\n",
              "      <script>\n",
              "        const buttonEl =\n",
              "          document.querySelector('#df-b7bea31e-7e0a-4162-a2bf-9618c83032f0 button.colab-df-convert');\n",
              "        buttonEl.style.display =\n",
              "          google.colab.kernel.accessAllowed ? 'block' : 'none';\n",
              "\n",
              "        async function convertToInteractive(key) {\n",
              "          const element = document.querySelector('#df-b7bea31e-7e0a-4162-a2bf-9618c83032f0');\n",
              "          const dataTable =\n",
              "            await google.colab.kernel.invokeFunction('convertToInteractive',\n",
              "                                                     [key], {});\n",
              "          if (!dataTable) return;\n",
              "\n",
              "          const docLinkHtml = 'Like what you see? Visit the ' +\n",
              "            '<a target=\"_blank\" href=https://colab.research.google.com/notebooks/data_table.ipynb>data table notebook</a>'\n",
              "            + ' to learn more about interactive tables.';\n",
              "          element.innerHTML = '';\n",
              "          dataTable['output_type'] = 'display_data';\n",
              "          await google.colab.output.renderOutput(dataTable, element);\n",
              "          const docLink = document.createElement('div');\n",
              "          docLink.innerHTML = docLinkHtml;\n",
              "          element.appendChild(docLink);\n",
              "        }\n",
              "      </script>\n",
              "    </div>\n",
              "  </div>\n",
              "  "
            ]
          },
          "metadata": {},
          "execution_count": 84
        }
      ],
      "source": [
        "df.head(20)"
      ]
    },
    {
      "cell_type": "code",
      "execution_count": 85,
      "id": "a56bb28e-5b7a-4a99-b18f-73cdf0d41c03",
      "metadata": {
        "id": "a56bb28e-5b7a-4a99-b18f-73cdf0d41c03"
      },
      "outputs": [],
      "source": [
        "last_names = df[\"Name\"].unique()"
      ]
    },
    {
      "cell_type": "code",
      "execution_count": 86,
      "id": "d9d18105-d801-47bd-ac75-bcf80098c76a",
      "metadata": {
        "colab": {
          "base_uri": "https://localhost:8080/"
        },
        "id": "d9d18105-d801-47bd-ac75-bcf80098c76a",
        "outputId": "1ba6004f-8cbd-4fff-bb37-613227761dc0"
      },
      "outputs": [
        {
          "output_type": "execute_result",
          "data": {
            "text/plain": [
              "Index(['Name', 'GW', 'FPL position', 'Min', 'Gls', 'Ast', 'Sh', 'SoT', 'xG',\n",
              "       'npxG', 'xAG', 'SCA', 'GCA', 'CS', 'CrdY', 'CrdR', 'Opp rating',\n",
              "       'Team Score', 'Opp Score', 'Was Home', 'FPL'],\n",
              "      dtype='object')"
            ]
          },
          "metadata": {},
          "execution_count": 86
        }
      ],
      "source": [
        "df.columns"
      ]
    },
    {
      "cell_type": "code",
      "execution_count": 87,
      "id": "c301df86-7098-4f5f-adad-58f5de13e700",
      "metadata": {
        "colab": {
          "base_uri": "https://localhost:8080/"
        },
        "id": "c301df86-7098-4f5f-adad-58f5de13e700",
        "outputId": "37d9b156-398a-49fa-dfe6-22c2268722d5"
      },
      "outputs": [
        {
          "output_type": "execute_result",
          "data": {
            "text/plain": [
              "array(['MID', 'FWD', 'DEF', 'GK'], dtype=object)"
            ]
          },
          "metadata": {},
          "execution_count": 87
        }
      ],
      "source": [
        "df[\"FPL position\"].unique()"
      ]
    },
    {
      "cell_type": "markdown",
      "id": "6e4319b4-355b-4121-a0ed-e6cbbdaf93a6",
      "metadata": {
        "id": "6e4319b4-355b-4121-a0ed-e6cbbdaf93a6"
      },
      "source": [
        "# DF to DataLoader"
      ]
    },
    {
      "cell_type": "code",
      "execution_count": 88,
      "id": "d87f8b66-cd79-4fd9-a0eb-a4d229912268",
      "metadata": {
        "id": "d87f8b66-cd79-4fd9-a0eb-a4d229912268"
      },
      "outputs": [],
      "source": [
        "# gk, def, mid, fwd\n",
        "df_gk = df[df[\"FPL position\"] == \"GK\"]\n",
        "df_def = df[df[\"FPL position\"] == \"DEF\"]\n",
        "df_mid = df[df[\"FPL position\"] == \"MID\"]\n",
        "df_fwd = df[df[\"FPL position\"] == \"FWD\"]"
      ]
    },
    {
      "cell_type": "code",
      "execution_count": 89,
      "id": "b0dabde8-fb92-4607-85c2-dd0dd141fca1",
      "metadata": {
        "colab": {
          "base_uri": "https://localhost:8080/"
        },
        "id": "b0dabde8-fb92-4607-85c2-dd0dd141fca1",
        "outputId": "40e48a2b-7279-4ee3-b50b-7adbe3fb0096"
      },
      "outputs": [
        {
          "output_type": "execute_result",
          "data": {
            "text/plain": [
              "(5771, 21)"
            ]
          },
          "metadata": {},
          "execution_count": 89
        }
      ],
      "source": [
        "df.shape"
      ]
    },
    {
      "cell_type": "code",
      "execution_count": 90,
      "id": "75b6dda5-b74e-4ca8-a5e9-ac338cea6f20",
      "metadata": {
        "id": "75b6dda5-b74e-4ca8-a5e9-ac338cea6f20"
      },
      "outputs": [],
      "source": [
        "def init_index_table(df):\n",
        "    names = df[\"Name\"].unique()\n",
        "    result_dict = {}\n",
        "    \n",
        "    current_index = 0\n",
        "    player_index = 0\n",
        "    \n",
        "    for name in names:\n",
        "        sample_index = 0\n",
        "        samples_for_names = df[df[\"Name\"] == name].shape[0] - FIS\n",
        "        for i in range(samples_for_names):\n",
        "            result_dict[current_index] = [player_index, sample_index]\n",
        "            current_index += 1\n",
        "            sample_index += 1\n",
        "        player_index += 1\n",
        "    \n",
        "    return result_dict"
      ]
    },
    {
      "cell_type": "code",
      "execution_count": 91,
      "id": "15fc117a-0b9a-442e-a653-530a52486ff0",
      "metadata": {
        "id": "15fc117a-0b9a-442e-a653-530a52486ff0"
      },
      "outputs": [],
      "source": [
        "class PandasDataset(Dataset):\n",
        "    def __init__(self, dataframe):\n",
        "        self.dataframe = dataframe\n",
        "        self.names = dataframe[\"Name\"].unique()\n",
        "        self.index_table = init_index_table(dataframe)\n",
        "        self.transform = torchvision.transforms.Compose([torchvision.transforms.ToTensor()])\n",
        "\n",
        "    def __len__(self):\n",
        "        length = 0\n",
        "        for name in self.names:\n",
        "            length += (self.dataframe[self.dataframe[\"Name\"] == name].shape[0] - FIS)\n",
        "        return length\n",
        "\n",
        "    def __getitem__(self, idx):\n",
        "        # print(idx)\n",
        "        player_id, sample_id = self.index_table[idx]\n",
        "        name = self.names[player_id]\n",
        "        # print(name)\n",
        "        features = self.dataframe[self.dataframe[\"Name\"] == name]\n",
        "        # print(self.dataframe[self.dataframe[\"Name\"] == name])\n",
        "        # print(features[sample_id: (sample_id + 4)])\n",
        "        features = features[sample_id: (sample_id + FIS)].drop(columns=info).values[:, :-1]\n",
        "        # print(features)\n",
        "        # print(features)\n",
        "        # print(type(features))\n",
        "        # print(self.dataframe[self.dataframe[\"Name\"] == name].values[:, -1])\n",
        "        # print(type(self.dataframe[self.dataframe[\"Name\"] == name].values[:, -1]))\n",
        "        # target = self.dataframe[self.dataframe[\"Name\"] == name].values[:, -1]\n",
        "        # target = target.astype(np.float32)\n",
        "        # target = torch.from_numpy(target)\n",
        "        target = np.float32(self.dataframe[self.dataframe[\"Name\"] == name].values[(sample_id + FIS), -1])\n",
        "        # print(name, idx, target, sample_id)\n",
        "        # print(type(target))\n",
        "        return features, target"
      ]
    },
    {
      "cell_type": "code",
      "execution_count": 92,
      "id": "c6f37972-8a77-4ce4-8498-19cab99c4074",
      "metadata": {
        "id": "c6f37972-8a77-4ce4-8498-19cab99c4074"
      },
      "outputs": [],
      "source": [
        "# df[[\"Name\", \"FPL position\"]].drop_duplicates().head(20)"
      ]
    },
    {
      "cell_type": "code",
      "execution_count": 93,
      "id": "430e5e7d-972d-4eee-9bc0-a6f43ed05e7b",
      "metadata": {
        "id": "430e5e7d-972d-4eee-9bc0-a6f43ed05e7b"
      },
      "outputs": [],
      "source": [
        "dataset = PandasDataset(df)\n",
        "dataset_gk = PandasDataset(df_gk)\n",
        "dataset_def = PandasDataset(df_def)\n",
        "dataset_mid = PandasDataset(df_mid)\n",
        "dataset_fwd = PandasDataset(df_fwd)"
      ]
    },
    {
      "cell_type": "code",
      "execution_count": 94,
      "id": "56a36688-989a-4840-8428-5180a9c74d46",
      "metadata": {
        "colab": {
          "base_uri": "https://localhost:8080/"
        },
        "id": "56a36688-989a-4840-8428-5180a9c74d46",
        "outputId": "131b0fbd-ab1b-40dd-8150-839fe50bdbab"
      },
      "outputs": [
        {
          "output_type": "execute_result",
          "data": {
            "text/plain": [
              "(array([[8.3000000e+01, 0.0000000e+00, 0.0000000e+00, 1.0000000e+00,\n",
              "         0.0000000e+00, 0.0000000e+00, 0.0000000e+00, 0.0000000e+00,\n",
              "         1.0000000e+00, 0.0000000e+00, 0.0000000e+00, 0.0000000e+00,\n",
              "         0.0000000e+00, 1.7252765e+03, 2.0000000e+00, 1.0000000e+00,\n",
              "         1.0000000e+00],\n",
              "        [9.0000000e+01, 0.0000000e+00, 0.0000000e+00, 2.0000000e+00,\n",
              "         0.0000000e+00, 1.0000000e-01, 1.0000000e-01, 1.0000000e-01,\n",
              "         4.0000000e+00, 0.0000000e+00, 0.0000000e+00, 1.0000000e+00,\n",
              "         0.0000000e+00, 1.6670499e+03, 2.0000000e+00, 2.0000000e+00,\n",
              "         0.0000000e+00],\n",
              "        [8.2000000e+01, 1.0000000e+00, 0.0000000e+00, 2.0000000e+00,\n",
              "         2.0000000e+00, 1.0000000e+00, 1.0000000e+00, 1.0000000e-01,\n",
              "         5.0000000e+00, 1.0000000e+00, 1.0000000e+00, 0.0000000e+00,\n",
              "         0.0000000e+00, 1.9013883e+03, 3.0000000e+00, 0.0000000e+00,\n",
              "         1.0000000e+00],\n",
              "        [8.1000000e+01, 0.0000000e+00, 0.0000000e+00, 0.0000000e+00,\n",
              "         0.0000000e+00, 0.0000000e+00, 0.0000000e+00, 0.0000000e+00,\n",
              "         3.0000000e+00, 0.0000000e+00, 0.0000000e+00, 1.0000000e+00,\n",
              "         0.0000000e+00, 1.7835402e+03, 0.0000000e+00, 1.0000000e+00,\n",
              "         0.0000000e+00],\n",
              "        [7.5000000e+01, 0.0000000e+00, 1.0000000e+00, 1.0000000e+00,\n",
              "         1.0000000e+00, 1.0000000e-01, 1.0000000e-01, 1.0000000e-01,\n",
              "         4.0000000e+00, 1.0000000e+00, 0.0000000e+00, 0.0000000e+00,\n",
              "         0.0000000e+00, 1.6889225e+03, 1.0000000e+00, 1.0000000e+00,\n",
              "         1.0000000e+00],\n",
              "        [9.0000000e+01, 0.0000000e+00, 0.0000000e+00, 1.0000000e+00,\n",
              "         0.0000000e+00, 0.0000000e+00, 0.0000000e+00, 3.0000001e-01,\n",
              "         2.0000000e+00, 0.0000000e+00, 0.0000000e+00, 0.0000000e+00,\n",
              "         0.0000000e+00, 1.7271136e+03, 2.0000000e+00, 5.0000000e+00,\n",
              "         0.0000000e+00],\n",
              "        [7.8000000e+01, 0.0000000e+00, 0.0000000e+00, 0.0000000e+00,\n",
              "         0.0000000e+00, 0.0000000e+00, 0.0000000e+00, 1.0000000e-01,\n",
              "         2.0000000e+00, 0.0000000e+00, 1.0000000e+00, 0.0000000e+00,\n",
              "         0.0000000e+00, 1.7160168e+03, 0.0000000e+00, 0.0000000e+00,\n",
              "         1.0000000e+00],\n",
              "        [7.5000000e+01, 0.0000000e+00, 0.0000000e+00, 2.0000000e+00,\n",
              "         0.0000000e+00, 1.0000000e-01, 1.0000000e-01, 0.0000000e+00,\n",
              "         3.0000000e+00, 1.0000000e+00, 0.0000000e+00, 0.0000000e+00,\n",
              "         0.0000000e+00, 1.7489054e+03, 1.0000000e+00, 2.0000000e+00,\n",
              "         0.0000000e+00]], dtype=float32), 2.0)"
            ]
          },
          "metadata": {},
          "execution_count": 94
        }
      ],
      "source": [
        "dataset.__getitem__(0)"
      ]
    },
    {
      "cell_type": "code",
      "execution_count": 95,
      "id": "511603b4-1b28-4cc6-9847-1eb47a26493a",
      "metadata": {
        "colab": {
          "base_uri": "https://localhost:8080/"
        },
        "id": "511603b4-1b28-4cc6-9847-1eb47a26493a",
        "outputId": "f30264f1-ae63-4033-c33d-b24f7a1f03f5"
      },
      "outputs": [
        {
          "output_type": "execute_result",
          "data": {
            "text/plain": [
              "(array([[9.0000000e+01, 1.0000000e+00, 0.0000000e+00, 2.0000000e+00,\n",
              "         1.0000000e+00, 4.0000001e-01, 4.0000001e-01, 0.0000000e+00,\n",
              "         1.0000000e+00, 0.0000000e+00, 1.0000000e+00, 0.0000000e+00,\n",
              "         0.0000000e+00, 1.6624321e+03, 1.0000000e+00, 0.0000000e+00,\n",
              "         0.0000000e+00],\n",
              "        [1.8000000e+01, 0.0000000e+00, 0.0000000e+00, 0.0000000e+00,\n",
              "         0.0000000e+00, 0.0000000e+00, 0.0000000e+00, 0.0000000e+00,\n",
              "         0.0000000e+00, 0.0000000e+00, 0.0000000e+00, 0.0000000e+00,\n",
              "         0.0000000e+00, 1.9162506e+03, 1.0000000e+00, 1.0000000e+00,\n",
              "         1.0000000e+00],\n",
              "        [9.0000000e+01, 0.0000000e+00, 0.0000000e+00, 5.0000000e+00,\n",
              "         2.0000000e+00, 6.9999999e-01, 6.9999999e-01, 1.0000000e-01,\n",
              "         6.0000000e+00, 0.0000000e+00, 0.0000000e+00, 0.0000000e+00,\n",
              "         0.0000000e+00, 1.7513988e+03, 0.0000000e+00, 1.0000000e+00,\n",
              "         0.0000000e+00],\n",
              "        [6.3000000e+01, 0.0000000e+00, 0.0000000e+00, 2.0000000e+00,\n",
              "         0.0000000e+00, 2.0000000e-01, 2.0000000e-01, 1.0000000e-01,\n",
              "         2.0000000e+00, 0.0000000e+00, 0.0000000e+00, 0.0000000e+00,\n",
              "         0.0000000e+00, 1.8236182e+03, 1.0000000e+00, 4.0000000e+00,\n",
              "         1.0000000e+00],\n",
              "        [9.0000000e+01, 1.0000000e+00, 0.0000000e+00, 3.0000000e+00,\n",
              "         2.0000000e+00, 6.0000002e-01, 6.0000002e-01, 2.0000000e-01,\n",
              "         1.0000000e+00, 0.0000000e+00, 0.0000000e+00, 0.0000000e+00,\n",
              "         0.0000000e+00, 1.9979252e+03, 1.0000000e+00, 3.0000000e+00,\n",
              "         0.0000000e+00],\n",
              "        [9.0000000e+01, 0.0000000e+00, 0.0000000e+00, 1.0000000e+00,\n",
              "         0.0000000e+00, 2.0000000e-01, 2.0000000e-01, 1.0000000e-01,\n",
              "         2.0000000e+00, 0.0000000e+00, 0.0000000e+00, 0.0000000e+00,\n",
              "         0.0000000e+00, 1.7912549e+03, 1.0000000e+00, 3.0000000e+00,\n",
              "         1.0000000e+00],\n",
              "        [9.0000000e+01, 0.0000000e+00, 0.0000000e+00, 3.0000000e+00,\n",
              "         1.0000000e+00, 4.0000001e-01, 4.0000001e-01, 1.0000000e-01,\n",
              "         3.0000000e+00, 1.0000000e+00, 0.0000000e+00, 0.0000000e+00,\n",
              "         0.0000000e+00, 1.6989899e+03, 1.0000000e+00, 2.0000000e+00,\n",
              "         0.0000000e+00],\n",
              "        [9.0000000e+01, 0.0000000e+00, 0.0000000e+00, 1.0000000e+00,\n",
              "         0.0000000e+00, 1.0000000e-01, 1.0000000e-01, 0.0000000e+00,\n",
              "         1.0000000e+00, 0.0000000e+00, 0.0000000e+00, 0.0000000e+00,\n",
              "         0.0000000e+00, 1.6309949e+03, 0.0000000e+00, 1.0000000e+00,\n",
              "         1.0000000e+00]], dtype=float32), 5.0)"
            ]
          },
          "metadata": {},
          "execution_count": 95
        }
      ],
      "source": [
        "dataset_fwd.__getitem__(10)"
      ]
    },
    {
      "cell_type": "code",
      "execution_count": 96,
      "id": "4ce0452d-89c3-4ec0-bfcd-79ae7587e36b",
      "metadata": {
        "colab": {
          "base_uri": "https://localhost:8080/"
        },
        "id": "4ce0452d-89c3-4ec0-bfcd-79ae7587e36b",
        "outputId": "c0f66bb7-df1c-4cb0-b99d-263d427b5d46"
      },
      "outputs": [
        {
          "output_type": "execute_result",
          "data": {
            "text/plain": [
              "305"
            ]
          },
          "metadata": {},
          "execution_count": 96
        }
      ],
      "source": [
        "dataset_gk.__len__()"
      ]
    },
    {
      "cell_type": "code",
      "execution_count": 97,
      "id": "dad3baac-8574-4dd0-af3c-f2d544295f67",
      "metadata": {
        "colab": {
          "base_uri": "https://localhost:8080/"
        },
        "id": "dad3baac-8574-4dd0-af3c-f2d544295f67",
        "outputId": "20b698cf-7e45-4873-a4de-8ed438a56d28"
      },
      "outputs": [
        {
          "output_type": "execute_result",
          "data": {
            "text/plain": [
              "1137"
            ]
          },
          "metadata": {},
          "execution_count": 97
        }
      ],
      "source": [
        "dataset_def.__len__()"
      ]
    },
    {
      "cell_type": "code",
      "execution_count": 98,
      "id": "65a42e4a-3f39-43bd-843b-d0225a124342",
      "metadata": {
        "colab": {
          "base_uri": "https://localhost:8080/"
        },
        "id": "65a42e4a-3f39-43bd-843b-d0225a124342",
        "outputId": "3c4291c3-2694-458d-a2b2-6f155b48c27e"
      },
      "outputs": [
        {
          "output_type": "execute_result",
          "data": {
            "text/plain": [
              "1469"
            ]
          },
          "metadata": {},
          "execution_count": 98
        }
      ],
      "source": [
        "dataset_mid.__len__()"
      ]
    },
    {
      "cell_type": "code",
      "execution_count": 99,
      "id": "89def15b-7eec-492a-a773-e87ebe22ea18",
      "metadata": {
        "colab": {
          "base_uri": "https://localhost:8080/"
        },
        "id": "89def15b-7eec-492a-a773-e87ebe22ea18",
        "outputId": "0c126b9d-49b4-4e19-d1c0-45c9be2054f4"
      },
      "outputs": [
        {
          "output_type": "execute_result",
          "data": {
            "text/plain": [
              "356"
            ]
          },
          "metadata": {},
          "execution_count": 99
        }
      ],
      "source": [
        "dataset_fwd.__len__()"
      ]
    },
    {
      "cell_type": "code",
      "execution_count": 100,
      "id": "fd3a4639-a6c7-40bf-ad2f-72569dfeac42",
      "metadata": {
        "id": "fd3a4639-a6c7-40bf-ad2f-72569dfeac42"
      },
      "outputs": [],
      "source": [
        "batch_size = 16"
      ]
    },
    {
      "cell_type": "code",
      "execution_count": 101,
      "id": "3ef8a258-452d-4ce9-b44f-3370fa58f750",
      "metadata": {
        "id": "3ef8a258-452d-4ce9-b44f-3370fa58f750"
      },
      "outputs": [],
      "source": [
        "dataloader = DataLoader(dataset, batch_size=batch_size, shuffle=False)\n",
        "dataloader_gk = DataLoader(dataset_gk, batch_size=batch_size, shuffle=False)\n",
        "dataloader_def = DataLoader(dataset_def, batch_size=batch_size, shuffle=False)\n",
        "dataloader_mid = DataLoader(dataset_mid, batch_size=batch_size, shuffle=False)\n",
        "dataloader_fwd = DataLoader(dataset_fwd, batch_size=batch_size, shuffle=False)"
      ]
    },
    {
      "cell_type": "code",
      "execution_count": 102,
      "id": "129bf3ea-1303-4d3b-b577-573735ae78df",
      "metadata": {
        "id": "129bf3ea-1303-4d3b-b577-573735ae78df"
      },
      "outputs": [],
      "source": [
        "# next(iter(dataloader_mid))"
      ]
    },
    {
      "cell_type": "code",
      "execution_count": 103,
      "id": "066d4f81-bc84-4a58-9bcd-fcaa6cfbeb4c",
      "metadata": {
        "id": "066d4f81-bc84-4a58-9bcd-fcaa6cfbeb4c"
      },
      "outputs": [],
      "source": [
        "# next(iter(dataloader))[1]"
      ]
    },
    {
      "cell_type": "markdown",
      "id": "44290e57-5279-400f-bd5d-8bcbf0db2f99",
      "metadata": {
        "id": "44290e57-5279-400f-bd5d-8bcbf0db2f99"
      },
      "source": [
        "# LSTM Model"
      ]
    },
    {
      "cell_type": "code",
      "execution_count": 104,
      "id": "95c48496-4a3d-4dd6-a789-abb04d921dc6",
      "metadata": {
        "id": "95c48496-4a3d-4dd6-a789-abb04d921dc6"
      },
      "outputs": [],
      "source": [
        "class LSTMNetwork(nn.Module):\n",
        "    def __init__(self, input_size, hidden_size, num_layers, output_size, dropout=0.2):\n",
        "        super(LSTMNetwork, self).__init__()\n",
        "        self.lstm = nn.LSTM(input_size, hidden_size, num_layers, dropout=dropout)\n",
        "        self.fc = nn.Linear(hidden_size, output_size)\n",
        "\n",
        "    def forward(self, x):\n",
        "        x = torch.transpose(x, 0, 1)\n",
        "        # x = x.view(-1, batch_size)\n",
        "        # x = torch.transpose(x, 0, 1)\n",
        "        # print(\"FOR\", x.shape)\n",
        "        # print(x.shape)\n",
        "        # print(x.shape)\n",
        "        out, _ = self.lstm(x)\n",
        "        # print(out.shape)\n",
        "        out = self.fc(out[-1])\n",
        "        return out"
      ]
    },
    {
      "cell_type": "code",
      "execution_count": 105,
      "id": "231626de-b520-4d08-a1c8-eeca06133061",
      "metadata": {
        "colab": {
          "base_uri": "https://localhost:8080/"
        },
        "id": "231626de-b520-4d08-a1c8-eeca06133061",
        "outputId": "577430c3-558c-4430-ecdc-16d0e53a1b80"
      },
      "outputs": [
        {
          "output_type": "execute_result",
          "data": {
            "text/plain": [
              "205"
            ]
          },
          "metadata": {},
          "execution_count": 105
        }
      ],
      "source": [
        "len(dataloader)"
      ]
    },
    {
      "cell_type": "markdown",
      "id": "ca697492-5632-47ca-b7ef-7ef7f83f483e",
      "metadata": {
        "id": "ca697492-5632-47ca-b7ef-7ef7f83f483e"
      },
      "source": [
        "# Training loops"
      ]
    },
    {
      "cell_type": "code",
      "execution_count": 106,
      "id": "3e5d6365-866b-497d-9f3d-fff942c03266",
      "metadata": {
        "id": "3e5d6365-866b-497d-9f3d-fff942c03266"
      },
      "outputs": [],
      "source": [
        "criterion = nn.MSELoss()"
      ]
    },
    {
      "cell_type": "code",
      "execution_count": 107,
      "id": "3fc8e104-6c5d-4e09-a238-73e06346286b",
      "metadata": {
        "id": "3fc8e104-6c5d-4e09-a238-73e06346286b"
      },
      "outputs": [],
      "source": [
        "def train_net(net, num_epochs, dataloader, optimizer):\n",
        "    loss_history = []\n",
        "    for epoch in range(num_epochs):\n",
        "        running_loss = 0\n",
        "        for i, (inputs, targets) in enumerate(dataloader):\n",
        "            inputs = torch.flatten(inputs, 1, 2)\n",
        "            inputs = inputs.unsqueeze(2).to(device)\n",
        "            targets = targets.to(device)\n",
        "            # print(\"INPUTS\", inputs.shape)\n",
        "            # print(\"TARGETS\", targets.shape)\n",
        "            # print(targets)\n",
        "            optimizer.zero_grad()\n",
        "            outputs = net(inputs).flatten().to(device)\n",
        "            # print(\"OUTPUTS\", outputs.shape)\n",
        "            loss = criterion(outputs, targets)\n",
        "            running_loss += loss.item()\n",
        "            loss.backward()\n",
        "            optimizer.step()\n",
        "\n",
        "        loss_history.append(running_loss / len(dataloader))\n",
        "        if epoch % 5 == 0:\n",
        "            print(f'Epoch {epoch} Loss: {running_loss / len(dataloader)}')\n",
        "    \n",
        "    return loss_history"
      ]
    },
    {
      "cell_type": "code",
      "execution_count": 108,
      "id": "c29562d5-abfe-4028-b09a-78d9fbdc5c64",
      "metadata": {
        "id": "c29562d5-abfe-4028-b09a-78d9fbdc5c64"
      },
      "outputs": [],
      "source": [
        "def plot_loss_history(loss_history):\n",
        "    plt.plot(loss_history)\n",
        "    plt.xlabel('Epoch')\n",
        "    plt.ylabel('Loss')\n",
        "    plt.show()"
      ]
    },
    {
      "cell_type": "markdown",
      "id": "e6a2f684-5906-4cf1-8cd4-6f342fb3daf5",
      "metadata": {
        "id": "e6a2f684-5906-4cf1-8cd4-6f342fb3daf5"
      },
      "source": [
        "## Training loop - general net"
      ]
    },
    {
      "cell_type": "code",
      "execution_count": 109,
      "id": "8d1ac896-0465-4422-b291-a13f32f3d3b5",
      "metadata": {
        "colab": {
          "base_uri": "https://localhost:8080/"
        },
        "id": "8d1ac896-0465-4422-b291-a13f32f3d3b5",
        "outputId": "178d3335-2d74-4a3d-9616-4a4484c34cca"
      },
      "outputs": [
        {
          "output_type": "stream",
          "name": "stdout",
          "text": [
            "Epoch 0 Loss: 3.8219702576718677\n",
            "Epoch 5 Loss: 3.4718593077688684\n",
            "Epoch 10 Loss: 3.0795653294499328\n",
            "Epoch 15 Loss: 3.09020839500718\n",
            "Epoch 20 Loss: 3.033646007863487\n",
            "Epoch 25 Loss: 3.055859406837603\n",
            "CPU times: user 3min 35s, sys: 2.13 s, total: 3min 37s\n",
            "Wall time: 3min 37s\n"
          ]
        }
      ],
      "source": [
        "%%time\n",
        "net = LSTMNetwork(1, 20, 2, 1, dropout=0.4).to(device)\n",
        "optimizer = optim.Adam(net.parameters(), lr=0.005)\n",
        "loss_history = train_net(net, 30, dataloader, optimizer)"
      ]
    },
    {
      "cell_type": "code",
      "execution_count": 110,
      "id": "ac88d75b-3cb0-4747-9efe-c498dd2efdd3",
      "metadata": {
        "colab": {
          "base_uri": "https://localhost:8080/",
          "height": 279
        },
        "id": "ac88d75b-3cb0-4747-9efe-c498dd2efdd3",
        "outputId": "62329a45-eeb6-45d7-d006-ee564bf206c2"
      },
      "outputs": [
        {
          "output_type": "display_data",
          "data": {
            "text/plain": [
              "<Figure size 432x288 with 1 Axes>"
            ],
            "image/png": "[encoded data removed]"
          },
          "metadata": {
            "needs_background": "light"
          }
        }
      ],
      "source": [
        "plot_loss_history(loss_history)"
      ]
    },
    {
      "cell_type": "markdown",
      "id": "8e1645fc-dd44-4891-a0db-8686d1ac588a",
      "metadata": {
        "id": "8e1645fc-dd44-4891-a0db-8686d1ac588a"
      },
      "source": [
        "## Training loop - goalkeeper net"
      ]
    },
    {
      "cell_type": "code",
      "source": [
        "net_gk = LSTMNetwork(1, 20, 2, 1, dropout=0.4).to(device)"
      ],
      "metadata": {
        "id": "p_HrS0-WL5oC"
      },
      "id": "p_HrS0-WL5oC",
      "execution_count": 111,
      "outputs": []
    },
    {
      "cell_type": "code",
      "execution_count": 112,
      "id": "85757dc2-113a-4a46-b17f-600293d87a90",
      "metadata": {
        "colab": {
          "base_uri": "https://localhost:8080/"
        },
        "id": "85757dc2-113a-4a46-b17f-600293d87a90",
        "outputId": "4aeec002-4528-47e6-d64b-8855c990cad6"
      },
      "outputs": [
        {
          "output_type": "stream",
          "name": "stdout",
          "text": [
            "Epoch 0 Loss: 1.4476423459127545\n",
            "Epoch 5 Loss: 0.5034158806316554\n",
            "Epoch 10 Loss: 0.5038231655955314\n",
            "Epoch 15 Loss: 0.5001771382987499\n",
            "Epoch 20 Loss: 0.49920430248603226\n",
            "Epoch 25 Loss: 0.4987034362740815\n",
            "Epoch 30 Loss: 0.49944283068180084\n",
            "Epoch 35 Loss: 0.49996499381959436\n",
            "Epoch 40 Loss: 0.5003919153474271\n",
            "Epoch 45 Loss: 0.4985835093073547\n",
            "CPU times: user 22.9 s, sys: 235 ms, total: 23.2 s\n",
            "Wall time: 23.1 s\n"
          ]
        }
      ],
      "source": [
        "%%time\n",
        "optimizer_gk = optim.Adam(net_gk.parameters(), lr=0.01)\n",
        "loss_history_gk = train_net(net_gk, 50, dataloader_gk, optimizer_gk)"
      ]
    },
    {
      "cell_type": "code",
      "execution_count": 113,
      "id": "8ff0d12f-9099-4d9d-9d10-49dd81ec6a1c",
      "metadata": {
        "colab": {
          "base_uri": "https://localhost:8080/",
          "height": 279
        },
        "id": "8ff0d12f-9099-4d9d-9d10-49dd81ec6a1c",
        "outputId": "91711d7b-ce57-4d20-f1cb-aa7376b0a1b8"
      },
      "outputs": [
        {
          "output_type": "display_data",
          "data": {
            "text/plain": [
              "<Figure size 432x288 with 1 Axes>"
            ],
            "image/png": "[encoded data removed]"
          },
          "metadata": {
            "needs_background": "light"
          }
        }
      ],
      "source": [
        "plot_loss_history(loss_history_gk)"
      ]
    },
    {
      "cell_type": "markdown",
      "id": "a11943ae-8c43-4169-91a8-fd51445ac5b4",
      "metadata": {
        "id": "a11943ae-8c43-4169-91a8-fd51445ac5b4"
      },
      "source": [
        "## Training loop - defender net"
      ]
    },
    {
      "cell_type": "code",
      "source": [
        "net_def = LSTMNetwork(1, 20, 2, 1, dropout=0.4).to(device)"
      ],
      "metadata": {
        "id": "rcHl1HFoL3uy"
      },
      "id": "rcHl1HFoL3uy",
      "execution_count": 114,
      "outputs": []
    },
    {
      "cell_type": "code",
      "execution_count": 115,
      "id": "19b30491-7cf8-4572-abe0-388cb58de9b8",
      "metadata": {
        "colab": {
          "base_uri": "https://localhost:8080/"
        },
        "id": "19b30491-7cf8-4572-abe0-388cb58de9b8",
        "outputId": "7b636ea8-b307-4c3c-f8ca-5e4e3bab4ec9"
      },
      "outputs": [
        {
          "output_type": "stream",
          "name": "stdout",
          "text": [
            "Epoch 0 Loss: 1.696814784159263\n",
            "Epoch 5 Loss: 1.2569491902573242\n",
            "Epoch 10 Loss: 1.2536016862011619\n",
            "Epoch 15 Loss: 1.252280994421906\n",
            "Epoch 20 Loss: 1.2512522836526234\n",
            "Epoch 25 Loss: 1.2495777969145112\n",
            "Epoch 30 Loss: 1.2510743610974815\n",
            "Epoch 35 Loss: 1.25068816025224\n",
            "Epoch 40 Loss: 1.2511507434149582\n",
            "Epoch 45 Loss: 1.2506959858453937\n",
            "CPU times: user 1min 37s, sys: 855 ms, total: 1min 38s\n",
            "Wall time: 1min 37s\n"
          ]
        }
      ],
      "source": [
        "%%time\n",
        "optimizer_def = optim.Adam(net_def.parameters(), lr=0.005)\n",
        "loss_history_def = train_net(net_def, 50, dataloader_def, optimizer_def)"
      ]
    },
    {
      "cell_type": "code",
      "execution_count": 116,
      "id": "a6ebe5b1-712d-46c4-a773-9782a9ae8689",
      "metadata": {
        "colab": {
          "base_uri": "https://localhost:8080/",
          "height": 279
        },
        "id": "a6ebe5b1-712d-46c4-a773-9782a9ae8689",
        "outputId": "e0cf93bf-fce3-467e-c2e9-ab7ebffe1f7a"
      },
      "outputs": [
        {
          "output_type": "display_data",
          "data": {
            "text/plain": [
              "<Figure size 432x288 with 1 Axes>"
            ],
            "image/png": "[encoded data removed]"
          },
          "metadata": {
            "needs_background": "light"
          }
        }
      ],
      "source": [
        "plot_loss_history(loss_history_def)"
      ]
    },
    {
      "cell_type": "markdown",
      "id": "63c27abd-c720-4dff-bfe4-ad20a3d0a48e",
      "metadata": {
        "id": "63c27abd-c720-4dff-bfe4-ad20a3d0a48e"
      },
      "source": [
        "## Training loop - midfielder net"
      ]
    },
    {
      "cell_type": "code",
      "source": [
        "net_mid = LSTMNetwork(1, 20, 2, 1, dropout=0.4).to(device)"
      ],
      "metadata": {
        "id": "MmN-IwSvL1vO"
      },
      "id": "MmN-IwSvL1vO",
      "execution_count": 117,
      "outputs": []
    },
    {
      "cell_type": "code",
      "execution_count": 118,
      "id": "154a2ea8-d2f8-48c3-86fd-278be6c26475",
      "metadata": {
        "colab": {
          "base_uri": "https://localhost:8080/"
        },
        "id": "154a2ea8-d2f8-48c3-86fd-278be6c26475",
        "outputId": "699d0d74-776c-4662-c8fe-c73bec030a72"
      },
      "outputs": [
        {
          "output_type": "stream",
          "name": "stdout",
          "text": [
            "Epoch 0 Loss: 5.245470082630282\n",
            "Epoch 5 Loss: 4.721383534047915\n",
            "Epoch 10 Loss: 4.71558418351671\n",
            "Epoch 15 Loss: 4.728342440465222\n",
            "Epoch 20 Loss: 4.728956550359726\n",
            "Epoch 25 Loss: 4.727977408663087\n",
            "Epoch 30 Loss: 4.728496669427209\n",
            "Epoch 35 Loss: 4.728728236711544\n",
            "Epoch 40 Loss: 4.7270859026390575\n",
            "Epoch 45 Loss: 4.727594199387924\n",
            "CPU times: user 2min 10s, sys: 1.29 s, total: 2min 12s\n",
            "Wall time: 2min 11s\n"
          ]
        }
      ],
      "source": [
        "%%time\n",
        "optimizer_mid = optim.Adam(net_mid.parameters(), lr=0.005)\n",
        "loss_history_mid = train_net(net_mid, 50, dataloader_mid, optimizer_mid)"
      ]
    },
    {
      "cell_type": "code",
      "execution_count": 119,
      "id": "fff0d3ef-bb1d-4d13-a192-3d76f129914f",
      "metadata": {
        "colab": {
          "base_uri": "https://localhost:8080/",
          "height": 279
        },
        "id": "fff0d3ef-bb1d-4d13-a192-3d76f129914f",
        "outputId": "a992e511-9553-48f7-b427-ed74f16ab97f"
      },
      "outputs": [
        {
          "output_type": "display_data",
          "data": {
            "text/plain": [
              "<Figure size 432x288 with 1 Axes>"
            ],
            "image/png": "[encoded data removed]"
          },
          "metadata": {
            "needs_background": "light"
          }
        }
      ],
      "source": [
        "plot_loss_history(loss_history_mid)"
      ]
    },
    {
      "cell_type": "markdown",
      "id": "01bca3ac-0da4-41eb-a3bb-5c4b14df2cc0",
      "metadata": {
        "id": "01bca3ac-0da4-41eb-a3bb-5c4b14df2cc0"
      },
      "source": [
        "## Training loop - forward net"
      ]
    },
    {
      "cell_type": "code",
      "source": [
        "net_fwd = LSTMNetwork(1, 20, 2, 1, dropout=0.4).to(device)"
      ],
      "metadata": {
        "id": "NTwS6zsfLxQ2"
      },
      "id": "NTwS6zsfLxQ2",
      "execution_count": 120,
      "outputs": []
    },
    {
      "cell_type": "code",
      "execution_count": 121,
      "id": "2bcb7afb-f3f1-4a81-bbea-6da2b512967d",
      "metadata": {
        "colab": {
          "base_uri": "https://localhost:8080/"
        },
        "id": "2bcb7afb-f3f1-4a81-bbea-6da2b512967d",
        "outputId": "9c8e8034-2468-4ac3-a8e6-7330cc0ed60c"
      },
      "outputs": [
        {
          "output_type": "stream",
          "name": "stdout",
          "text": [
            "Epoch 0 Loss: 11.871081915886506\n",
            "Epoch 5 Loss: 8.340499338896379\n",
            "Epoch 10 Loss: 8.337865596232207\n",
            "Epoch 15 Loss: 8.31169675225797\n",
            "Epoch 20 Loss: 8.367100565329842\n",
            "Epoch 25 Loss: 8.340113388455432\n",
            "Epoch 30 Loss: 8.342138528823853\n",
            "Epoch 35 Loss: 8.326797506083613\n",
            "Epoch 40 Loss: 8.313344978767892\n",
            "Epoch 45 Loss: 8.325807882391889\n",
            "Epoch 50 Loss: 8.350577287051989\n",
            "Epoch 55 Loss: 8.28042566517125\n",
            "Epoch 60 Loss: 8.304268536360368\n",
            "Epoch 65 Loss: 8.178259336430093\n",
            "Epoch 70 Loss: 8.146291538425114\n",
            "Epoch 75 Loss: 8.266287503035173\n",
            "Epoch 80 Loss: 7.980785800063091\n",
            "Epoch 85 Loss: 7.863771607046542\n",
            "Epoch 90 Loss: 7.229605499816977\n",
            "Epoch 95 Loss: 7.619630509096643\n",
            "CPU times: user 53.9 s, sys: 526 ms, total: 54.4 s\n",
            "Wall time: 54.2 s\n"
          ]
        }
      ],
      "source": [
        "%%time\n",
        "optimizer_fwd = optim.Adam(net_fwd.parameters(), lr=0.005)\n",
        "loss_history_fwd = train_net(net_fwd, 100, dataloader_fwd, optimizer_fwd)"
      ]
    },
    {
      "cell_type": "code",
      "execution_count": 122,
      "id": "b4915930-85c2-475e-8af8-820f1d32f5c1",
      "metadata": {
        "colab": {
          "base_uri": "https://localhost:8080/",
          "height": 279
        },
        "id": "b4915930-85c2-475e-8af8-820f1d32f5c1",
        "outputId": "23e719dc-0635-4eda-81d2-14f0b91bd0f0"
      },
      "outputs": [
        {
          "output_type": "display_data",
          "data": {
            "text/plain": [
              "<Figure size 432x288 with 1 Axes>"
            ],
            "image/png": "[encoded data removed]"
          },
          "metadata": {
            "needs_background": "light"
          }
        }
      ],
      "source": [
        "plot_loss_history(loss_history_fwd)"
      ]
    },
    {
      "cell_type": "markdown",
      "source": [
        "# Saving models to files"
      ],
      "metadata": {
        "id": "aEg01NBwVZu8"
      },
      "id": "aEg01NBwVZu8"
    },
    {
      "cell_type": "code",
      "source": [
        "torch.save(net.state_dict(), 'models/lstm_general.pt')\n",
        "\n",
        "torch.save(net_gk.state_dict(), 'models/lstm_gk.pt')\n",
        "torch.save(net_def.state_dict(), 'models/lstm_def.pt')\n",
        "torch.save(net_mid.state_dict(), 'models/lstm_mid.pt')\n",
        "torch.save(net_fwd.state_dict(), 'models/lstm_fwd.pt')"
      ],
      "metadata": {
        "id": "qHSzIWHFVbX3"
      },
      "id": "qHSzIWHFVbX3",
      "execution_count": 123,
      "outputs": []
    },
    {
      "cell_type": "markdown",
      "id": "222c6cfd-5148-4793-a9f7-6dfa76115a68",
      "metadata": {
        "id": "222c6cfd-5148-4793-a9f7-6dfa76115a68"
      },
      "source": [
        "# Predictions - general model"
      ]
    },
    {
      "cell_type": "code",
      "execution_count": 124,
      "id": "3c0aef7e-f7d8-4337-8cd8-f88afab90872",
      "metadata": {
        "id": "3c0aef7e-f7d8-4337-8cd8-f88afab90872"
      },
      "outputs": [],
      "source": [
        "def generate_predictions(dataloader_pos, dataset_pos, net_pos):\n",
        "    index = 0\n",
        "    predictions_pos = []\n",
        "    for inputs, target in dataloader_pos:\n",
        "        inputs = torch.flatten(inputs, 1, 2)\n",
        "        inputs = inputs.unsqueeze(2).to(device)\n",
        "        # print(\"INPUTS\", inputs)\n",
        "        # print(inputs)\n",
        "        outputs = net_pos(inputs).to(device)\n",
        "        # print(\"OUTPUTS\", outputs)\n",
        "        for output in outputs:\n",
        "            player_id, sample_id = dataset_pos.index_table[index]\n",
        "            name = dataset_pos.names[player_id]\n",
        "            points = round(output.item(), 2)\n",
        "            gw = sample_id + FIS + 1\n",
        "            predictions_pos.append([name, gw, points])\n",
        "            # df.loc[(df[\"Name\"] == name) & (df[\"GW\"] == gw), \"LSTM\"] = points\n",
        "            index += 1\n",
        "    \n",
        "    return predictions_pos"
      ]
    },
    {
      "cell_type": "code",
      "source": [
        "predictions = generate_predictions(dataloader, dataset, net)"
      ],
      "metadata": {
        "id": "ZOJBQIAXMqIV"
      },
      "id": "ZOJBQIAXMqIV",
      "execution_count": 125,
      "outputs": []
    },
    {
      "cell_type": "code",
      "execution_count": 126,
      "id": "e6d3171e-f813-411c-ba7e-492163af5009",
      "metadata": {
        "colab": {
          "base_uri": "https://localhost:8080/",
          "height": 677
        },
        "id": "e6d3171e-f813-411c-ba7e-492163af5009",
        "outputId": "2c1492be-e9af-4f0f-834a-506c7600d857"
      },
      "outputs": [
        {
          "output_type": "execute_result",
          "data": {
            "text/plain": [
              "                  Name  GW  Points\n",
              "724    Kevin-De-Bruyne  10    5.17\n",
              "1552        Harry-Kane  15    5.16\n",
              "3218     Wilfried-Zaha  10    5.16\n",
              "2568     Mohamed-Salah  15    5.16\n",
              "1029   Bruno-Fernandes  18    5.16\n",
              "2912        Ivan-Toney  11    5.16\n",
              "1887        Martinelli  13    5.16\n",
              "2917        Ivan-Toney  16    5.16\n",
              "1381     Son-Heung-min   9    5.16\n",
              "731    Kevin-De-Bruyne  17    5.16\n",
              "1386     Son-Heung-min  14    5.15\n",
              "1022   Bruno-Fernandes  11    5.15\n",
              "1025   Bruno-Fernandes  14    5.15\n",
              "3185      Granit-Xhaka  10    5.15\n",
              "1296    Erling-Haaland  17    5.15\n",
              "1558        Harry-Kane  21    5.15\n",
              "1549        Harry-Kane  12    5.15\n",
              "1556        Harry-Kane  19    5.15\n",
              "3221     Wilfried-Zaha  13    5.15\n",
              "2948  Leandro-Trossard  13    5.15"
            ],
            "text/html": [
              "\n",
              "  <div id=\"df-f244a32b-e5ce-4370-9106-9f2c02c0dede\">\n",
              "    <div class=\"colab-df-container\">\n",
              "      <div>\n",
              "<style scoped>\n",
              "    .dataframe tbody tr th:only-of-type {\n",
              "        vertical-align: middle;\n",
              "    }\n",
              "\n",
              "    .dataframe tbody tr th {\n",
              "        vertical-align: top;\n",
              "    }\n",
              "\n",
              "    .dataframe thead th {\n",
              "        text-align: right;\n",
              "    }\n",
              "</style>\n",
              "<table border=\"1\" class=\"dataframe\">\n",
              "  <thead>\n",
              "    <tr style=\"text-align: right;\">\n",
              "      <th></th>\n",
              "      <th>Name</th>\n",
              "      <th>GW</th>\n",
              "      <th>Points</th>\n",
              "    </tr>\n",
              "  </thead>\n",
              "  <tbody>\n",
              "    <tr>\n",
              "      <th>724</th>\n",
              "      <td>Kevin-De-Bruyne</td>\n",
              "      <td>10</td>\n",
              "      <td>5.17</td>\n",
              "    </tr>\n",
              "    <tr>\n",
              "      <th>1552</th>\n",
              "      <td>Harry-Kane</td>\n",
              "      <td>15</td>\n",
              "      <td>5.16</td>\n",
              "    </tr>\n",
              "    <tr>\n",
              "      <th>3218</th>\n",
              "      <td>Wilfried-Zaha</td>\n",
              "      <td>10</td>\n",
              "      <td>5.16</td>\n",
              "    </tr>\n",
              "    <tr>\n",
              "      <th>2568</th>\n",
              "      <td>Mohamed-Salah</td>\n",
              "      <td>15</td>\n",
              "      <td>5.16</td>\n",
              "    </tr>\n",
              "    <tr>\n",
              "      <th>1029</th>\n",
              "      <td>Bruno-Fernandes</td>\n",
              "      <td>18</td>\n",
              "      <td>5.16</td>\n",
              "    </tr>\n",
              "    <tr>\n",
              "      <th>2912</th>\n",
              "      <td>Ivan-Toney</td>\n",
              "      <td>11</td>\n",
              "      <td>5.16</td>\n",
              "    </tr>\n",
              "    <tr>\n",
              "      <th>1887</th>\n",
              "      <td>Martinelli</td>\n",
              "      <td>13</td>\n",
              "      <td>5.16</td>\n",
              "    </tr>\n",
              "    <tr>\n",
              "      <th>2917</th>\n",
              "      <td>Ivan-Toney</td>\n",
              "      <td>16</td>\n",
              "      <td>5.16</td>\n",
              "    </tr>\n",
              "    <tr>\n",
              "      <th>1381</th>\n",
              "      <td>Son-Heung-min</td>\n",
              "      <td>9</td>\n",
              "      <td>5.16</td>\n",
              "    </tr>\n",
              "    <tr>\n",
              "      <th>731</th>\n",
              "      <td>Kevin-De-Bruyne</td>\n",
              "      <td>17</td>\n",
              "      <td>5.16</td>\n",
              "    </tr>\n",
              "    <tr>\n",
              "      <th>1386</th>\n",
              "      <td>Son-Heung-min</td>\n",
              "      <td>14</td>\n",
              "      <td>5.15</td>\n",
              "    </tr>\n",
              "    <tr>\n",
              "      <th>1022</th>\n",
              "      <td>Bruno-Fernandes</td>\n",
              "      <td>11</td>\n",
              "      <td>5.15</td>\n",
              "    </tr>\n",
              "    <tr>\n",
              "      <th>1025</th>\n",
              "      <td>Bruno-Fernandes</td>\n",
              "      <td>14</td>\n",
              "      <td>5.15</td>\n",
              "    </tr>\n",
              "    <tr>\n",
              "      <th>3185</th>\n",
              "      <td>Granit-Xhaka</td>\n",
              "      <td>10</td>\n",
              "      <td>5.15</td>\n",
              "    </tr>\n",
              "    <tr>\n",
              "      <th>1296</th>\n",
              "      <td>Erling-Haaland</td>\n",
              "      <td>17</td>\n",
              "      <td>5.15</td>\n",
              "    </tr>\n",
              "    <tr>\n",
              "      <th>1558</th>\n",
              "      <td>Harry-Kane</td>\n",
              "      <td>21</td>\n",
              "      <td>5.15</td>\n",
              "    </tr>\n",
              "    <tr>\n",
              "      <th>1549</th>\n",
              "      <td>Harry-Kane</td>\n",
              "      <td>12</td>\n",
              "      <td>5.15</td>\n",
              "    </tr>\n",
              "    <tr>\n",
              "      <th>1556</th>\n",
              "      <td>Harry-Kane</td>\n",
              "      <td>19</td>\n",
              "      <td>5.15</td>\n",
              "    </tr>\n",
              "    <tr>\n",
              "      <th>3221</th>\n",
              "      <td>Wilfried-Zaha</td>\n",
              "      <td>13</td>\n",
              "      <td>5.15</td>\n",
              "    </tr>\n",
              "    <tr>\n",
              "      <th>2948</th>\n",
              "      <td>Leandro-Trossard</td>\n",
              "      <td>13</td>\n",
              "      <td>5.15</td>\n",
              "    </tr>\n",
              "  </tbody>\n",
              "</table>\n",
              "</div>\n",
              "      <button class=\"colab-df-convert\" onclick=\"convertToInteractive('df-f244a32b-e5ce-4370-9106-9f2c02c0dede')\"\n",
              "              title=\"Convert this dataframe to an interactive table.\"\n",
              "              style=\"display:none;\">\n",
              "        \n",
              "  <svg xmlns=\"http://www.w3.org/2000/svg\" height=\"24px\"viewBox=\"0 0 24 24\"\n",
              "       width=\"24px\">\n",
              "    <path d=\"M0 0h24v24H0V0z\" fill=\"none\"/>\n",
              "    <path d=\"M18.56 5.44l.94 2.06.94-2.06 2.06-.94-2.06-.94-.94-2.06-.94 2.06-2.06.94zm-11 1L8.5 8.5l.94-2.06 2.06-.94-2.06-.94L8.5 2.5l-.94 2.06-2.06.94zm10 10l.94 2.06.94-2.06 2.06-.94-2.06-.94-.94-2.06-.94 2.06-2.06.94z\"/><path d=\"M17.41 7.96l-1.37-1.37c-.4-.4-.92-.59-1.43-.59-.52 0-1.04.2-1.43.59L10.3 9.45l-7.72 7.72c-.78.78-.78 2.05 0 2.83L4 21.41c.39.39.9.59 1.41.59.51 0 1.02-.2 1.41-.59l7.78-7.78 2.81-2.81c.8-.78.8-2.07 0-2.86zM5.41 20L4 18.59l7.72-7.72 1.47 1.35L5.41 20z\"/>\n",
              "  </svg>\n",
              "      </button>\n",
              "      \n",
              "  <style>\n",
              "    .colab-df-container {\n",
              "      display:flex;\n",
              "      flex-wrap:wrap;\n",
              "      gap: 12px;\n",
              "    }\n",
              "\n",
              "    .colab-df-convert {\n",
              "      background-color: #E8F0FE;\n",
              "      border: none;\n",
              "      border-radius: 50%;\n",
              "      cursor: pointer;\n",
              "      display: none;\n",
              "      fill: #1967D2;\n",
              "      height: 32px;\n",
              "      padding: 0 0 0 0;\n",
              "      width: 32px;\n",
              "    }\n",
              "\n",
              "    .colab-df-convert:hover {\n",
              "      background-color: #E2EBFA;\n",
              "      box-shadow: 0px 1px 2px rgba(60, 64, 67, 0.3), 0px 1px 3px 1px rgba(60, 64, 67, 0.15);\n",
              "      fill: #174EA6;\n",
              "    }\n",
              "\n",
              "    [theme=dark] .colab-df-convert {\n",
              "      background-color: #3B4455;\n",
              "      fill: #D2E3FC;\n",
              "    }\n",
              "\n",
              "    [theme=dark] .colab-df-convert:hover {\n",
              "      background-color: #434B5C;\n",
              "      box-shadow: 0px 1px 3px 1px rgba(0, 0, 0, 0.15);\n",
              "      filter: drop-shadow(0px 1px 2px rgba(0, 0, 0, 0.3));\n",
              "      fill: #FFFFFF;\n",
              "    }\n",
              "  </style>\n",
              "\n",
              "      <script>\n",
              "        const buttonEl =\n",
              "          document.querySelector('#df-f244a32b-e5ce-4370-9106-9f2c02c0dede button.colab-df-convert');\n",
              "        buttonEl.style.display =\n",
              "          google.colab.kernel.accessAllowed ? 'block' : 'none';\n",
              "\n",
              "        async function convertToInteractive(key) {\n",
              "          const element = document.querySelector('#df-f244a32b-e5ce-4370-9106-9f2c02c0dede');\n",
              "          const dataTable =\n",
              "            await google.colab.kernel.invokeFunction('convertToInteractive',\n",
              "                                                     [key], {});\n",
              "          if (!dataTable) return;\n",
              "\n",
              "          const docLinkHtml = 'Like what you see? Visit the ' +\n",
              "            '<a target=\"_blank\" href=https://colab.research.google.com/notebooks/data_table.ipynb>data table notebook</a>'\n",
              "            + ' to learn more about interactive tables.';\n",
              "          element.innerHTML = '';\n",
              "          dataTable['output_type'] = 'display_data';\n",
              "          await google.colab.output.renderOutput(dataTable, element);\n",
              "          const docLink = document.createElement('div');\n",
              "          docLink.innerHTML = docLinkHtml;\n",
              "          element.appendChild(docLink);\n",
              "        }\n",
              "      </script>\n",
              "    </div>\n",
              "  </div>\n",
              "  "
            ]
          },
          "metadata": {},
          "execution_count": 126
        }
      ],
      "source": [
        "# results sorted\n",
        "pd.DataFrame(predictions, columns=[\"Name\", \"GW\", \"Points\"]).sort_values(by=[\"Points\"], ascending = False).head(20)"
      ]
    },
    {
      "cell_type": "code",
      "execution_count": 127,
      "id": "297cfbd4-0fbe-46b4-9fc4-d79eeaadf70d",
      "metadata": {
        "id": "297cfbd4-0fbe-46b4-9fc4-d79eeaadf70d"
      },
      "outputs": [],
      "source": [
        "# appending results to original df\n",
        "for name, gw, points in predictions:\n",
        "    df_original.loc[(df_original[\"Name\"] == name) & (df[\"GW\"] == gw), \"LSTM\"] = points"
      ]
    },
    {
      "cell_type": "code",
      "execution_count": 128,
      "id": "ce5882f0-aff6-4ae9-9cba-8b4e816bec07",
      "metadata": {
        "id": "ce5882f0-aff6-4ae9-9cba-8b4e816bec07"
      },
      "outputs": [],
      "source": [
        "df_original.to_csv(\"data/fpl_fbref_elo_lstm.csv\")"
      ]
    },
    {
      "cell_type": "markdown",
      "id": "07f29a9a-1341-4a6f-a3eb-10685dfb6b0d",
      "metadata": {
        "id": "07f29a9a-1341-4a6f-a3eb-10685dfb6b0d"
      },
      "source": [
        "# Predictions for each position"
      ]
    },
    {
      "cell_type": "markdown",
      "id": "a59960f5-efe3-453f-97de-8973cf73ee70",
      "metadata": {
        "id": "a59960f5-efe3-453f-97de-8973cf73ee70"
      },
      "source": [
        "## Goalkeepers"
      ]
    },
    {
      "cell_type": "code",
      "execution_count": 129,
      "id": "de13487b-b45b-43fb-9c94-9dc91033ddd9",
      "metadata": {
        "id": "de13487b-b45b-43fb-9c94-9dc91033ddd9"
      },
      "outputs": [],
      "source": [
        "predictions_gk = generate_predictions(dataloader_gk, dataset_gk, net_gk)"
      ]
    },
    {
      "cell_type": "code",
      "execution_count": 130,
      "id": "df13c078-9794-4a74-bafc-4826e352394d",
      "metadata": {
        "colab": {
          "base_uri": "https://localhost:8080/",
          "height": 677
        },
        "id": "df13c078-9794-4a74-bafc-4826e352394d",
        "outputId": "228f9b42-bec3-4de3-efcb-50ea6e742bb3"
      },
      "outputs": [
        {
          "output_type": "execute_result",
          "data": {
            "text/plain": [
              "                  Name  GW  Points\n",
              "121     Dean-Henderson  13    2.17\n",
              "61             Ederson  14    2.17\n",
              "291       Mark-Travers  19    2.16\n",
              "206    Jordan-Pickford  16    2.16\n",
              "265            Jose-Sa  16    2.16\n",
              "170  Emiliano-Martinez  14    2.16\n",
              "276     Robert-Sanchez  15    2.16\n",
              "91      Fraser-Forster  20    2.15\n",
              "199    Jordan-Pickford   9    2.15\n",
              "203    Jordan-Pickford  13    2.15\n",
              "204    Jordan-Pickford  14    2.15\n",
              "55       Asmir-Begovic  20    2.15\n",
              "215          Nick-Pope  14    2.15\n",
              "104       David-de-Gea  20    2.15\n",
              "37        Gavin-Bazunu  14    2.15\n",
              "209    Jordan-Pickford  19    2.15\n",
              "210          Nick-Pope   9    2.15\n",
              "228     Aaron-Ramsdale  15    2.15\n",
              "213          Nick-Pope  12    2.15\n",
              "289       Mark-Travers  17    2.15"
            ],
            "text/html": [
              "\n",
              "  <div id=\"df-e30874c1-2713-4c85-aa5d-84bbd1a1c723\">\n",
              "    <div class=\"colab-df-container\">\n",
              "      <div>\n",
              "<style scoped>\n",
              "    .dataframe tbody tr th:only-of-type {\n",
              "        vertical-align: middle;\n",
              "    }\n",
              "\n",
              "    .dataframe tbody tr th {\n",
              "        vertical-align: top;\n",
              "    }\n",
              "\n",
              "    .dataframe thead th {\n",
              "        text-align: right;\n",
              "    }\n",
              "</style>\n",
              "<table border=\"1\" class=\"dataframe\">\n",
              "  <thead>\n",
              "    <tr style=\"text-align: right;\">\n",
              "      <th></th>\n",
              "      <th>Name</th>\n",
              "      <th>GW</th>\n",
              "      <th>Points</th>\n",
              "    </tr>\n",
              "  </thead>\n",
              "  <tbody>\n",
              "    <tr>\n",
              "      <th>121</th>\n",
              "      <td>Dean-Henderson</td>\n",
              "      <td>13</td>\n",
              "      <td>2.17</td>\n",
              "    </tr>\n",
              "    <tr>\n",
              "      <th>61</th>\n",
              "      <td>Ederson</td>\n",
              "      <td>14</td>\n",
              "      <td>2.17</td>\n",
              "    </tr>\n",
              "    <tr>\n",
              "      <th>291</th>\n",
              "      <td>Mark-Travers</td>\n",
              "      <td>19</td>\n",
              "      <td>2.16</td>\n",
              "    </tr>\n",
              "    <tr>\n",
              "      <th>206</th>\n",
              "      <td>Jordan-Pickford</td>\n",
              "      <td>16</td>\n",
              "      <td>2.16</td>\n",
              "    </tr>\n",
              "    <tr>\n",
              "      <th>265</th>\n",
              "      <td>Jose-Sa</td>\n",
              "      <td>16</td>\n",
              "      <td>2.16</td>\n",
              "    </tr>\n",
              "    <tr>\n",
              "      <th>170</th>\n",
              "      <td>Emiliano-Martinez</td>\n",
              "      <td>14</td>\n",
              "      <td>2.16</td>\n",
              "    </tr>\n",
              "    <tr>\n",
              "      <th>276</th>\n",
              "      <td>Robert-Sanchez</td>\n",
              "      <td>15</td>\n",
              "      <td>2.16</td>\n",
              "    </tr>\n",
              "    <tr>\n",
              "      <th>91</th>\n",
              "      <td>Fraser-Forster</td>\n",
              "      <td>20</td>\n",
              "      <td>2.15</td>\n",
              "    </tr>\n",
              "    <tr>\n",
              "      <th>199</th>\n",
              "      <td>Jordan-Pickford</td>\n",
              "      <td>9</td>\n",
              "      <td>2.15</td>\n",
              "    </tr>\n",
              "    <tr>\n",
              "      <th>203</th>\n",
              "      <td>Jordan-Pickford</td>\n",
              "      <td>13</td>\n",
              "      <td>2.15</td>\n",
              "    </tr>\n",
              "    <tr>\n",
              "      <th>204</th>\n",
              "      <td>Jordan-Pickford</td>\n",
              "      <td>14</td>\n",
              "      <td>2.15</td>\n",
              "    </tr>\n",
              "    <tr>\n",
              "      <th>55</th>\n",
              "      <td>Asmir-Begovic</td>\n",
              "      <td>20</td>\n",
              "      <td>2.15</td>\n",
              "    </tr>\n",
              "    <tr>\n",
              "      <th>215</th>\n",
              "      <td>Nick-Pope</td>\n",
              "      <td>14</td>\n",
              "      <td>2.15</td>\n",
              "    </tr>\n",
              "    <tr>\n",
              "      <th>104</th>\n",
              "      <td>David-de-Gea</td>\n",
              "      <td>20</td>\n",
              "      <td>2.15</td>\n",
              "    </tr>\n",
              "    <tr>\n",
              "      <th>37</th>\n",
              "      <td>Gavin-Bazunu</td>\n",
              "      <td>14</td>\n",
              "      <td>2.15</td>\n",
              "    </tr>\n",
              "    <tr>\n",
              "      <th>209</th>\n",
              "      <td>Jordan-Pickford</td>\n",
              "      <td>19</td>\n",
              "      <td>2.15</td>\n",
              "    </tr>\n",
              "    <tr>\n",
              "      <th>210</th>\n",
              "      <td>Nick-Pope</td>\n",
              "      <td>9</td>\n",
              "      <td>2.15</td>\n",
              "    </tr>\n",
              "    <tr>\n",
              "      <th>228</th>\n",
              "      <td>Aaron-Ramsdale</td>\n",
              "      <td>15</td>\n",
              "      <td>2.15</td>\n",
              "    </tr>\n",
              "    <tr>\n",
              "      <th>213</th>\n",
              "      <td>Nick-Pope</td>\n",
              "      <td>12</td>\n",
              "      <td>2.15</td>\n",
              "    </tr>\n",
              "    <tr>\n",
              "      <th>289</th>\n",
              "      <td>Mark-Travers</td>\n",
              "      <td>17</td>\n",
              "      <td>2.15</td>\n",
              "    </tr>\n",
              "  </tbody>\n",
              "</table>\n",
              "</div>\n",
              "      <button class=\"colab-df-convert\" onclick=\"convertToInteractive('df-e30874c1-2713-4c85-aa5d-84bbd1a1c723')\"\n",
              "              title=\"Convert this dataframe to an interactive table.\"\n",
              "              style=\"display:none;\">\n",
              "        \n",
              "  <svg xmlns=\"http://www.w3.org/2000/svg\" height=\"24px\"viewBox=\"0 0 24 24\"\n",
              "       width=\"24px\">\n",
              "    <path d=\"M0 0h24v24H0V0z\" fill=\"none\"/>\n",
              "    <path d=\"M18.56 5.44l.94 2.06.94-2.06 2.06-.94-2.06-.94-.94-2.06-.94 2.06-2.06.94zm-11 1L8.5 8.5l.94-2.06 2.06-.94-2.06-.94L8.5 2.5l-.94 2.06-2.06.94zm10 10l.94 2.06.94-2.06 2.06-.94-2.06-.94-.94-2.06-.94 2.06-2.06.94z\"/><path d=\"M17.41 7.96l-1.37-1.37c-.4-.4-.92-.59-1.43-.59-.52 0-1.04.2-1.43.59L10.3 9.45l-7.72 7.72c-.78.78-.78 2.05 0 2.83L4 21.41c.39.39.9.59 1.41.59.51 0 1.02-.2 1.41-.59l7.78-7.78 2.81-2.81c.8-.78.8-2.07 0-2.86zM5.41 20L4 18.59l7.72-7.72 1.47 1.35L5.41 20z\"/>\n",
              "  </svg>\n",
              "      </button>\n",
              "      \n",
              "  <style>\n",
              "    .colab-df-container {\n",
              "      display:flex;\n",
              "      flex-wrap:wrap;\n",
              "      gap: 12px;\n",
              "    }\n",
              "\n",
              "    .colab-df-convert {\n",
              "      background-color: #E8F0FE;\n",
              "      border: none;\n",
              "      border-radius: 50%;\n",
              "      cursor: pointer;\n",
              "      display: none;\n",
              "      fill: #1967D2;\n",
              "      height: 32px;\n",
              "      padding: 0 0 0 0;\n",
              "      width: 32px;\n",
              "    }\n",
              "\n",
              "    .colab-df-convert:hover {\n",
              "      background-color: #E2EBFA;\n",
              "      box-shadow: 0px 1px 2px rgba(60, 64, 67, 0.3), 0px 1px 3px 1px rgba(60, 64, 67, 0.15);\n",
              "      fill: #174EA6;\n",
              "    }\n",
              "\n",
              "    [theme=dark] .colab-df-convert {\n",
              "      background-color: #3B4455;\n",
              "      fill: #D2E3FC;\n",
              "    }\n",
              "\n",
              "    [theme=dark] .colab-df-convert:hover {\n",
              "      background-color: #434B5C;\n",
              "      box-shadow: 0px 1px 3px 1px rgba(0, 0, 0, 0.15);\n",
              "      filter: drop-shadow(0px 1px 2px rgba(0, 0, 0, 0.3));\n",
              "      fill: #FFFFFF;\n",
              "    }\n",
              "  </style>\n",
              "\n",
              "      <script>\n",
              "        const buttonEl =\n",
              "          document.querySelector('#df-e30874c1-2713-4c85-aa5d-84bbd1a1c723 button.colab-df-convert');\n",
              "        buttonEl.style.display =\n",
              "          google.colab.kernel.accessAllowed ? 'block' : 'none';\n",
              "\n",
              "        async function convertToInteractive(key) {\n",
              "          const element = document.querySelector('#df-e30874c1-2713-4c85-aa5d-84bbd1a1c723');\n",
              "          const dataTable =\n",
              "            await google.colab.kernel.invokeFunction('convertToInteractive',\n",
              "                                                     [key], {});\n",
              "          if (!dataTable) return;\n",
              "\n",
              "          const docLinkHtml = 'Like what you see? Visit the ' +\n",
              "            '<a target=\"_blank\" href=https://colab.research.google.com/notebooks/data_table.ipynb>data table notebook</a>'\n",
              "            + ' to learn more about interactive tables.';\n",
              "          element.innerHTML = '';\n",
              "          dataTable['output_type'] = 'display_data';\n",
              "          await google.colab.output.renderOutput(dataTable, element);\n",
              "          const docLink = document.createElement('div');\n",
              "          docLink.innerHTML = docLinkHtml;\n",
              "          element.appendChild(docLink);\n",
              "        }\n",
              "      </script>\n",
              "    </div>\n",
              "  </div>\n",
              "  "
            ]
          },
          "metadata": {},
          "execution_count": 130
        }
      ],
      "source": [
        "# results sorted\n",
        "pd.DataFrame(predictions_gk, columns=[\"Name\", \"GW\", \"Points\"]).sort_values(by=[\"Points\"], ascending = False).head(20)"
      ]
    },
    {
      "cell_type": "markdown",
      "id": "809d11e1-257e-4fd0-905b-536f95dca4e5",
      "metadata": {
        "id": "809d11e1-257e-4fd0-905b-536f95dca4e5"
      },
      "source": [
        "## Defenders"
      ]
    },
    {
      "cell_type": "code",
      "execution_count": 131,
      "id": "b67e50ec-26a2-44c2-8ef0-f7b841845ed4",
      "metadata": {
        "id": "b67e50ec-26a2-44c2-8ef0-f7b841845ed4"
      },
      "outputs": [],
      "source": [
        "predictions_def = generate_predictions(dataloader_def, dataset_def, net_def)"
      ]
    },
    {
      "cell_type": "code",
      "execution_count": 132,
      "id": "098f83a8-cd7e-4d2b-8583-44f0f43ef1d7",
      "metadata": {
        "colab": {
          "base_uri": "https://localhost:8080/",
          "height": 677
        },
        "id": "098f83a8-cd7e-4d2b-8583-44f0f43ef1d7",
        "outputId": "d9c184f1-75ea-4f7b-dac4-1a4ae8e85f6e"
      },
      "outputs": [
        {
          "output_type": "execute_result",
          "data": {
            "text/plain": [
              "                  Name  GW  Points\n",
              "0     Tosin-Adarabioyo   9    2.24\n",
              "1029      Joel-Veltman  11    2.24\n",
              "1028      Joel-Veltman  10    2.24\n",
              "676    Tyrick-Mitchell  15    2.24\n",
              "496         Max-Kilman  17    2.24\n",
              "895        Jack-Stacey  11    2.24\n",
              "1021    Raphael-Varane  12    2.24\n",
              "393   Pervis-Estupinan  15    2.24\n",
              "1017   Virgil-van-Dijk  17    2.24\n",
              "1016   Virgil-van-Dijk  16    2.24\n",
              "130           Dan-Burn  17    2.24\n",
              "902        Jack-Stacey  18    2.24\n",
              "396         Toti-Gomes   9    2.24\n",
              "1009   Virgil-van-Dijk   9    2.24\n",
              "136       Joao-Cancelo  11    2.24\n",
              "398         Toti-Gomes  11    2.24\n",
              "908      Jack-Stephens  13    2.24\n",
              "115         Hugo-Bueno  10    2.24\n",
              "892         Adam-Smith  19    2.24\n",
              "1065      Adam-Webster  10    2.24"
            ],
            "text/html": [
              "\n",
              "  <div id=\"df-0d78463f-25c3-4564-a11e-c701adb8144e\">\n",
              "    <div class=\"colab-df-container\">\n",
              "      <div>\n",
              "<style scoped>\n",
              "    .dataframe tbody tr th:only-of-type {\n",
              "        vertical-align: middle;\n",
              "    }\n",
              "\n",
              "    .dataframe tbody tr th {\n",
              "        vertical-align: top;\n",
              "    }\n",
              "\n",
              "    .dataframe thead th {\n",
              "        text-align: right;\n",
              "    }\n",
              "</style>\n",
              "<table border=\"1\" class=\"dataframe\">\n",
              "  <thead>\n",
              "    <tr style=\"text-align: right;\">\n",
              "      <th></th>\n",
              "      <th>Name</th>\n",
              "      <th>GW</th>\n",
              "      <th>Points</th>\n",
              "    </tr>\n",
              "  </thead>\n",
              "  <tbody>\n",
              "    <tr>\n",
              "      <th>0</th>\n",
              "      <td>Tosin-Adarabioyo</td>\n",
              "      <td>9</td>\n",
              "      <td>2.24</td>\n",
              "    </tr>\n",
              "    <tr>\n",
              "      <th>1029</th>\n",
              "      <td>Joel-Veltman</td>\n",
              "      <td>11</td>\n",
              "      <td>2.24</td>\n",
              "    </tr>\n",
              "    <tr>\n",
              "      <th>1028</th>\n",
              "      <td>Joel-Veltman</td>\n",
              "      <td>10</td>\n",
              "      <td>2.24</td>\n",
              "    </tr>\n",
              "    <tr>\n",
              "      <th>676</th>\n",
              "      <td>Tyrick-Mitchell</td>\n",
              "      <td>15</td>\n",
              "      <td>2.24</td>\n",
              "    </tr>\n",
              "    <tr>\n",
              "      <th>496</th>\n",
              "      <td>Max-Kilman</td>\n",
              "      <td>17</td>\n",
              "      <td>2.24</td>\n",
              "    </tr>\n",
              "    <tr>\n",
              "      <th>895</th>\n",
              "      <td>Jack-Stacey</td>\n",
              "      <td>11</td>\n",
              "      <td>2.24</td>\n",
              "    </tr>\n",
              "    <tr>\n",
              "      <th>1021</th>\n",
              "      <td>Raphael-Varane</td>\n",
              "      <td>12</td>\n",
              "      <td>2.24</td>\n",
              "    </tr>\n",
              "    <tr>\n",
              "      <th>393</th>\n",
              "      <td>Pervis-Estupinan</td>\n",
              "      <td>15</td>\n",
              "      <td>2.24</td>\n",
              "    </tr>\n",
              "    <tr>\n",
              "      <th>1017</th>\n",
              "      <td>Virgil-van-Dijk</td>\n",
              "      <td>17</td>\n",
              "      <td>2.24</td>\n",
              "    </tr>\n",
              "    <tr>\n",
              "      <th>1016</th>\n",
              "      <td>Virgil-van-Dijk</td>\n",
              "      <td>16</td>\n",
              "      <td>2.24</td>\n",
              "    </tr>\n",
              "    <tr>\n",
              "      <th>130</th>\n",
              "      <td>Dan-Burn</td>\n",
              "      <td>17</td>\n",
              "      <td>2.24</td>\n",
              "    </tr>\n",
              "    <tr>\n",
              "      <th>902</th>\n",
              "      <td>Jack-Stacey</td>\n",
              "      <td>18</td>\n",
              "      <td>2.24</td>\n",
              "    </tr>\n",
              "    <tr>\n",
              "      <th>396</th>\n",
              "      <td>Toti-Gomes</td>\n",
              "      <td>9</td>\n",
              "      <td>2.24</td>\n",
              "    </tr>\n",
              "    <tr>\n",
              "      <th>1009</th>\n",
              "      <td>Virgil-van-Dijk</td>\n",
              "      <td>9</td>\n",
              "      <td>2.24</td>\n",
              "    </tr>\n",
              "    <tr>\n",
              "      <th>136</th>\n",
              "      <td>Joao-Cancelo</td>\n",
              "      <td>11</td>\n",
              "      <td>2.24</td>\n",
              "    </tr>\n",
              "    <tr>\n",
              "      <th>398</th>\n",
              "      <td>Toti-Gomes</td>\n",
              "      <td>11</td>\n",
              "      <td>2.24</td>\n",
              "    </tr>\n",
              "    <tr>\n",
              "      <th>908</th>\n",
              "      <td>Jack-Stephens</td>\n",
              "      <td>13</td>\n",
              "      <td>2.24</td>\n",
              "    </tr>\n",
              "    <tr>\n",
              "      <th>115</th>\n",
              "      <td>Hugo-Bueno</td>\n",
              "      <td>10</td>\n",
              "      <td>2.24</td>\n",
              "    </tr>\n",
              "    <tr>\n",
              "      <th>892</th>\n",
              "      <td>Adam-Smith</td>\n",
              "      <td>19</td>\n",
              "      <td>2.24</td>\n",
              "    </tr>\n",
              "    <tr>\n",
              "      <th>1065</th>\n",
              "      <td>Adam-Webster</td>\n",
              "      <td>10</td>\n",
              "      <td>2.24</td>\n",
              "    </tr>\n",
              "  </tbody>\n",
              "</table>\n",
              "</div>\n",
              "      <button class=\"colab-df-convert\" onclick=\"convertToInteractive('df-0d78463f-25c3-4564-a11e-c701adb8144e')\"\n",
              "              title=\"Convert this dataframe to an interactive table.\"\n",
              "              style=\"display:none;\">\n",
              "        \n",
              "  <svg xmlns=\"http://www.w3.org/2000/svg\" height=\"24px\"viewBox=\"0 0 24 24\"\n",
              "       width=\"24px\">\n",
              "    <path d=\"M0 0h24v24H0V0z\" fill=\"none\"/>\n",
              "    <path d=\"M18.56 5.44l.94 2.06.94-2.06 2.06-.94-2.06-.94-.94-2.06-.94 2.06-2.06.94zm-11 1L8.5 8.5l.94-2.06 2.06-.94-2.06-.94L8.5 2.5l-.94 2.06-2.06.94zm10 10l.94 2.06.94-2.06 2.06-.94-2.06-.94-.94-2.06-.94 2.06-2.06.94z\"/><path d=\"M17.41 7.96l-1.37-1.37c-.4-.4-.92-.59-1.43-.59-.52 0-1.04.2-1.43.59L10.3 9.45l-7.72 7.72c-.78.78-.78 2.05 0 2.83L4 21.41c.39.39.9.59 1.41.59.51 0 1.02-.2 1.41-.59l7.78-7.78 2.81-2.81c.8-.78.8-2.07 0-2.86zM5.41 20L4 18.59l7.72-7.72 1.47 1.35L5.41 20z\"/>\n",
              "  </svg>\n",
              "      </button>\n",
              "      \n",
              "  <style>\n",
              "    .colab-df-container {\n",
              "      display:flex;\n",
              "      flex-wrap:wrap;\n",
              "      gap: 12px;\n",
              "    }\n",
              "\n",
              "    .colab-df-convert {\n",
              "      background-color: #E8F0FE;\n",
              "      border: none;\n",
              "      border-radius: 50%;\n",
              "      cursor: pointer;\n",
              "      display: none;\n",
              "      fill: #1967D2;\n",
              "      height: 32px;\n",
              "      padding: 0 0 0 0;\n",
              "      width: 32px;\n",
              "    }\n",
              "\n",
              "    .colab-df-convert:hover {\n",
              "      background-color: #E2EBFA;\n",
              "      box-shadow: 0px 1px 2px rgba(60, 64, 67, 0.3), 0px 1px 3px 1px rgba(60, 64, 67, 0.15);\n",
              "      fill: #174EA6;\n",
              "    }\n",
              "\n",
              "    [theme=dark] .colab-df-convert {\n",
              "      background-color: #3B4455;\n",
              "      fill: #D2E3FC;\n",
              "    }\n",
              "\n",
              "    [theme=dark] .colab-df-convert:hover {\n",
              "      background-color: #434B5C;\n",
              "      box-shadow: 0px 1px 3px 1px rgba(0, 0, 0, 0.15);\n",
              "      filter: drop-shadow(0px 1px 2px rgba(0, 0, 0, 0.3));\n",
              "      fill: #FFFFFF;\n",
              "    }\n",
              "  </style>\n",
              "\n",
              "      <script>\n",
              "        const buttonEl =\n",
              "          document.querySelector('#df-0d78463f-25c3-4564-a11e-c701adb8144e button.colab-df-convert');\n",
              "        buttonEl.style.display =\n",
              "          google.colab.kernel.accessAllowed ? 'block' : 'none';\n",
              "\n",
              "        async function convertToInteractive(key) {\n",
              "          const element = document.querySelector('#df-0d78463f-25c3-4564-a11e-c701adb8144e');\n",
              "          const dataTable =\n",
              "            await google.colab.kernel.invokeFunction('convertToInteractive',\n",
              "                                                     [key], {});\n",
              "          if (!dataTable) return;\n",
              "\n",
              "          const docLinkHtml = 'Like what you see? Visit the ' +\n",
              "            '<a target=\"_blank\" href=https://colab.research.google.com/notebooks/data_table.ipynb>data table notebook</a>'\n",
              "            + ' to learn more about interactive tables.';\n",
              "          element.innerHTML = '';\n",
              "          dataTable['output_type'] = 'display_data';\n",
              "          await google.colab.output.renderOutput(dataTable, element);\n",
              "          const docLink = document.createElement('div');\n",
              "          docLink.innerHTML = docLinkHtml;\n",
              "          element.appendChild(docLink);\n",
              "        }\n",
              "      </script>\n",
              "    </div>\n",
              "  </div>\n",
              "  "
            ]
          },
          "metadata": {},
          "execution_count": 132
        }
      ],
      "source": [
        "# results sorted\n",
        "pd.DataFrame(predictions_def, columns=[\"Name\", \"GW\", \"Points\"]).sort_values(by=[\"Points\"], ascending = False).head(20)"
      ]
    },
    {
      "cell_type": "markdown",
      "id": "e098be91-df44-4aba-b619-de4a11ad91db",
      "metadata": {
        "id": "e098be91-df44-4aba-b619-de4a11ad91db"
      },
      "source": [
        "## Midfielders"
      ]
    },
    {
      "cell_type": "code",
      "execution_count": 133,
      "id": "37c5faa1-e7ba-4048-a3ae-39472de0e646",
      "metadata": {
        "id": "37c5faa1-e7ba-4048-a3ae-39472de0e646"
      },
      "outputs": [],
      "source": [
        "predictions_mid = generate_predictions(dataloader_mid, dataset_mid, net_mid)"
      ]
    },
    {
      "cell_type": "code",
      "execution_count": 134,
      "id": "a8a940bf-1f53-4130-831f-ad6010b92cef",
      "metadata": {
        "colab": {
          "base_uri": "https://localhost:8080/",
          "height": 677
        },
        "id": "a8a940bf-1f53-4130-831f-ad6010b92cef",
        "outputId": "cf3c87f9-7431-4462-9020-2e41d12f3cb5"
      },
      "outputs": [
        {
          "output_type": "execute_result",
          "data": {
            "text/plain": [
              "                    Name  GW  Points\n",
              "746       Mathias-Jensen  19    3.02\n",
              "136    Rodrigo-Bentancur  15    3.01\n",
              "722         Daniel-James  18    3.01\n",
              "137    Rodrigo-Bentancur  16    3.01\n",
              "177                Bryan  13    3.01\n",
              "1098         Cole-Palmer  11    3.01\n",
              "640          Luke-Harris  17    3.01\n",
              "646        Jack-Harrison  14    3.01\n",
              "15           Tyler-Adams  13    3.01\n",
              "560   Morgan-Gibbs-White  17    3.00\n",
              "1348    Marcus-Tavernier  14    3.00\n",
              "567        Billy-Gilmour  13    3.00\n",
              "939        Dwight-McNeil  14    3.00\n",
              "769             Jorginho  19    3.00\n",
              "932          John-McGinn  16    3.00\n",
              "946      Scott-McTominay   9    3.00\n",
              "770             Jorginho  20    3.00\n",
              "774        Mateusz-Klich  12    3.00\n",
              "776        Mateusz-Klich  14    3.00\n",
              "431    Christian-Eriksen  15    3.00"
            ],
            "text/html": [
              "\n",
              "  <div id=\"df-630cdd2d-f37a-476d-bc19-b73073e1c62a\">\n",
              "    <div class=\"colab-df-container\">\n",
              "      <div>\n",
              "<style scoped>\n",
              "    .dataframe tbody tr th:only-of-type {\n",
              "        vertical-align: middle;\n",
              "    }\n",
              "\n",
              "    .dataframe tbody tr th {\n",
              "        vertical-align: top;\n",
              "    }\n",
              "\n",
              "    .dataframe thead th {\n",
              "        text-align: right;\n",
              "    }\n",
              "</style>\n",
              "<table border=\"1\" class=\"dataframe\">\n",
              "  <thead>\n",
              "    <tr style=\"text-align: right;\">\n",
              "      <th></th>\n",
              "      <th>Name</th>\n",
              "      <th>GW</th>\n",
              "      <th>Points</th>\n",
              "    </tr>\n",
              "  </thead>\n",
              "  <tbody>\n",
              "    <tr>\n",
              "      <th>746</th>\n",
              "      <td>Mathias-Jensen</td>\n",
              "      <td>19</td>\n",
              "      <td>3.02</td>\n",
              "    </tr>\n",
              "    <tr>\n",
              "      <th>136</th>\n",
              "      <td>Rodrigo-Bentancur</td>\n",
              "      <td>15</td>\n",
              "      <td>3.01</td>\n",
              "    </tr>\n",
              "    <tr>\n",
              "      <th>722</th>\n",
              "      <td>Daniel-James</td>\n",
              "      <td>18</td>\n",
              "      <td>3.01</td>\n",
              "    </tr>\n",
              "    <tr>\n",
              "      <th>137</th>\n",
              "      <td>Rodrigo-Bentancur</td>\n",
              "      <td>16</td>\n",
              "      <td>3.01</td>\n",
              "    </tr>\n",
              "    <tr>\n",
              "      <th>177</th>\n",
              "      <td>Bryan</td>\n",
              "      <td>13</td>\n",
              "      <td>3.01</td>\n",
              "    </tr>\n",
              "    <tr>\n",
              "      <th>1098</th>\n",
              "      <td>Cole-Palmer</td>\n",
              "      <td>11</td>\n",
              "      <td>3.01</td>\n",
              "    </tr>\n",
              "    <tr>\n",
              "      <th>640</th>\n",
              "      <td>Luke-Harris</td>\n",
              "      <td>17</td>\n",
              "      <td>3.01</td>\n",
              "    </tr>\n",
              "    <tr>\n",
              "      <th>646</th>\n",
              "      <td>Jack-Harrison</td>\n",
              "      <td>14</td>\n",
              "      <td>3.01</td>\n",
              "    </tr>\n",
              "    <tr>\n",
              "      <th>15</th>\n",
              "      <td>Tyler-Adams</td>\n",
              "      <td>13</td>\n",
              "      <td>3.01</td>\n",
              "    </tr>\n",
              "    <tr>\n",
              "      <th>560</th>\n",
              "      <td>Morgan-Gibbs-White</td>\n",
              "      <td>17</td>\n",
              "      <td>3.00</td>\n",
              "    </tr>\n",
              "    <tr>\n",
              "      <th>1348</th>\n",
              "      <td>Marcus-Tavernier</td>\n",
              "      <td>14</td>\n",
              "      <td>3.00</td>\n",
              "    </tr>\n",
              "    <tr>\n",
              "      <th>567</th>\n",
              "      <td>Billy-Gilmour</td>\n",
              "      <td>13</td>\n",
              "      <td>3.00</td>\n",
              "    </tr>\n",
              "    <tr>\n",
              "      <th>939</th>\n",
              "      <td>Dwight-McNeil</td>\n",
              "      <td>14</td>\n",
              "      <td>3.00</td>\n",
              "    </tr>\n",
              "    <tr>\n",
              "      <th>769</th>\n",
              "      <td>Jorginho</td>\n",
              "      <td>19</td>\n",
              "      <td>3.00</td>\n",
              "    </tr>\n",
              "    <tr>\n",
              "      <th>932</th>\n",
              "      <td>John-McGinn</td>\n",
              "      <td>16</td>\n",
              "      <td>3.00</td>\n",
              "    </tr>\n",
              "    <tr>\n",
              "      <th>946</th>\n",
              "      <td>Scott-McTominay</td>\n",
              "      <td>9</td>\n",
              "      <td>3.00</td>\n",
              "    </tr>\n",
              "    <tr>\n",
              "      <th>770</th>\n",
              "      <td>Jorginho</td>\n",
              "      <td>20</td>\n",
              "      <td>3.00</td>\n",
              "    </tr>\n",
              "    <tr>\n",
              "      <th>774</th>\n",
              "      <td>Mateusz-Klich</td>\n",
              "      <td>12</td>\n",
              "      <td>3.00</td>\n",
              "    </tr>\n",
              "    <tr>\n",
              "      <th>776</th>\n",
              "      <td>Mateusz-Klich</td>\n",
              "      <td>14</td>\n",
              "      <td>3.00</td>\n",
              "    </tr>\n",
              "    <tr>\n",
              "      <th>431</th>\n",
              "      <td>Christian-Eriksen</td>\n",
              "      <td>15</td>\n",
              "      <td>3.00</td>\n",
              "    </tr>\n",
              "  </tbody>\n",
              "</table>\n",
              "</div>\n",
              "      <button class=\"colab-df-convert\" onclick=\"convertToInteractive('df-630cdd2d-f37a-476d-bc19-b73073e1c62a')\"\n",
              "              title=\"Convert this dataframe to an interactive table.\"\n",
              "              style=\"display:none;\">\n",
              "        \n",
              "  <svg xmlns=\"http://www.w3.org/2000/svg\" height=\"24px\"viewBox=\"0 0 24 24\"\n",
              "       width=\"24px\">\n",
              "    <path d=\"M0 0h24v24H0V0z\" fill=\"none\"/>\n",
              "    <path d=\"M18.56 5.44l.94 2.06.94-2.06 2.06-.94-2.06-.94-.94-2.06-.94 2.06-2.06.94zm-11 1L8.5 8.5l.94-2.06 2.06-.94-2.06-.94L8.5 2.5l-.94 2.06-2.06.94zm10 10l.94 2.06.94-2.06 2.06-.94-2.06-.94-.94-2.06-.94 2.06-2.06.94z\"/><path d=\"M17.41 7.96l-1.37-1.37c-.4-.4-.92-.59-1.43-.59-.52 0-1.04.2-1.43.59L10.3 9.45l-7.72 7.72c-.78.78-.78 2.05 0 2.83L4 21.41c.39.39.9.59 1.41.59.51 0 1.02-.2 1.41-.59l7.78-7.78 2.81-2.81c.8-.78.8-2.07 0-2.86zM5.41 20L4 18.59l7.72-7.72 1.47 1.35L5.41 20z\"/>\n",
              "  </svg>\n",
              "      </button>\n",
              "      \n",
              "  <style>\n",
              "    .colab-df-container {\n",
              "      display:flex;\n",
              "      flex-wrap:wrap;\n",
              "      gap: 12px;\n",
              "    }\n",
              "\n",
              "    .colab-df-convert {\n",
              "      background-color: #E8F0FE;\n",
              "      border: none;\n",
              "      border-radius: 50%;\n",
              "      cursor: pointer;\n",
              "      display: none;\n",
              "      fill: #1967D2;\n",
              "      height: 32px;\n",
              "      padding: 0 0 0 0;\n",
              "      width: 32px;\n",
              "    }\n",
              "\n",
              "    .colab-df-convert:hover {\n",
              "      background-color: #E2EBFA;\n",
              "      box-shadow: 0px 1px 2px rgba(60, 64, 67, 0.3), 0px 1px 3px 1px rgba(60, 64, 67, 0.15);\n",
              "      fill: #174EA6;\n",
              "    }\n",
              "\n",
              "    [theme=dark] .colab-df-convert {\n",
              "      background-color: #3B4455;\n",
              "      fill: #D2E3FC;\n",
              "    }\n",
              "\n",
              "    [theme=dark] .colab-df-convert:hover {\n",
              "      background-color: #434B5C;\n",
              "      box-shadow: 0px 1px 3px 1px rgba(0, 0, 0, 0.15);\n",
              "      filter: drop-shadow(0px 1px 2px rgba(0, 0, 0, 0.3));\n",
              "      fill: #FFFFFF;\n",
              "    }\n",
              "  </style>\n",
              "\n",
              "      <script>\n",
              "        const buttonEl =\n",
              "          document.querySelector('#df-630cdd2d-f37a-476d-bc19-b73073e1c62a button.colab-df-convert');\n",
              "        buttonEl.style.display =\n",
              "          google.colab.kernel.accessAllowed ? 'block' : 'none';\n",
              "\n",
              "        async function convertToInteractive(key) {\n",
              "          const element = document.querySelector('#df-630cdd2d-f37a-476d-bc19-b73073e1c62a');\n",
              "          const dataTable =\n",
              "            await google.colab.kernel.invokeFunction('convertToInteractive',\n",
              "                                                     [key], {});\n",
              "          if (!dataTable) return;\n",
              "\n",
              "          const docLinkHtml = 'Like what you see? Visit the ' +\n",
              "            '<a target=\"_blank\" href=https://colab.research.google.com/notebooks/data_table.ipynb>data table notebook</a>'\n",
              "            + ' to learn more about interactive tables.';\n",
              "          element.innerHTML = '';\n",
              "          dataTable['output_type'] = 'display_data';\n",
              "          await google.colab.output.renderOutput(dataTable, element);\n",
              "          const docLink = document.createElement('div');\n",
              "          docLink.innerHTML = docLinkHtml;\n",
              "          element.appendChild(docLink);\n",
              "        }\n",
              "      </script>\n",
              "    </div>\n",
              "  </div>\n",
              "  "
            ]
          },
          "metadata": {},
          "execution_count": 134
        }
      ],
      "source": [
        "# results sorted\n",
        "pd.DataFrame(predictions_mid, columns=[\"Name\", \"GW\", \"Points\"]).sort_values(by=[\"Points\"], ascending = False).head(20)"
      ]
    },
    {
      "cell_type": "markdown",
      "id": "9921aabf-4769-4350-a3e5-bbaacd60b4d5",
      "metadata": {
        "id": "9921aabf-4769-4350-a3e5-bbaacd60b4d5"
      },
      "source": [
        "## Forwards"
      ]
    },
    {
      "cell_type": "code",
      "execution_count": 135,
      "id": "ef689219-6923-4a23-88ea-0331a33eb2a3",
      "metadata": {
        "id": "ef689219-6923-4a23-88ea-0331a33eb2a3"
      },
      "outputs": [],
      "source": [
        "predictions_fwd = generate_predictions(dataloader_fwd, dataset_fwd, net_fwd)"
      ]
    },
    {
      "cell_type": "code",
      "execution_count": 136,
      "id": "9d88c704-50eb-42c1-8b92-7008cdb8d83e",
      "metadata": {
        "colab": {
          "base_uri": "https://localhost:8080/",
          "height": 677
        },
        "id": "9d88c704-50eb-42c1-8b92-7008cdb8d83e",
        "outputId": "64e4fb72-4fdd-4133-dd5a-3df40bfd92cf"
      },
      "outputs": [
        {
          "output_type": "execute_result",
          "data": {
            "text/plain": [
              "                    Name  GW  Points\n",
              "106       Erling-Haaland   9    5.81\n",
              "109       Erling-Haaland  12    5.79\n",
              "223  Aleksandar-Mitrovic  11    5.75\n",
              "226  Aleksandar-Mitrovic  14    5.72\n",
              "224  Aleksandar-Mitrovic  12    5.67\n",
              "337        Callum-Wilson   9    5.64\n",
              "110       Erling-Haaland  13    5.60\n",
              "221  Aleksandar-Mitrovic   9    5.57\n",
              "116       Erling-Haaland  19    5.50\n",
              "170           Harry-Kane  14    5.48\n",
              "108       Erling-Haaland  11    5.40\n",
              "168           Harry-Kane  12    5.38\n",
              "113       Erling-Haaland  16    5.27\n",
              "289           Ivan-Toney  18    5.25\n",
              "176           Harry-Kane  20    5.17\n",
              "326        Ollie-Watkins  16    5.16\n",
              "165           Harry-Kane   9    5.13\n",
              "107       Erling-Haaland  10    5.01\n",
              "111       Erling-Haaland  14    4.95\n",
              "169           Harry-Kane  13    4.90"
            ],
            "text/html": [
              "\n",
              "  <div id=\"df-9ec8c9ba-1383-4a69-9c9b-ca2bfb6ff7e6\">\n",
              "    <div class=\"colab-df-container\">\n",
              "      <div>\n",
              "<style scoped>\n",
              "    .dataframe tbody tr th:only-of-type {\n",
              "        vertical-align: middle;\n",
              "    }\n",
              "\n",
              "    .dataframe tbody tr th {\n",
              "        vertical-align: top;\n",
              "    }\n",
              "\n",
              "    .dataframe thead th {\n",
              "        text-align: right;\n",
              "    }\n",
              "</style>\n",
              "<table border=\"1\" class=\"dataframe\">\n",
              "  <thead>\n",
              "    <tr style=\"text-align: right;\">\n",
              "      <th></th>\n",
              "      <th>Name</th>\n",
              "      <th>GW</th>\n",
              "      <th>Points</th>\n",
              "    </tr>\n",
              "  </thead>\n",
              "  <tbody>\n",
              "    <tr>\n",
              "      <th>106</th>\n",
              "      <td>Erling-Haaland</td>\n",
              "      <td>9</td>\n",
              "      <td>5.81</td>\n",
              "    </tr>\n",
              "    <tr>\n",
              "      <th>109</th>\n",
              "      <td>Erling-Haaland</td>\n",
              "      <td>12</td>\n",
              "      <td>5.79</td>\n",
              "    </tr>\n",
              "    <tr>\n",
              "      <th>223</th>\n",
              "      <td>Aleksandar-Mitrovic</td>\n",
              "      <td>11</td>\n",
              "      <td>5.75</td>\n",
              "    </tr>\n",
              "    <tr>\n",
              "      <th>226</th>\n",
              "      <td>Aleksandar-Mitrovic</td>\n",
              "      <td>14</td>\n",
              "      <td>5.72</td>\n",
              "    </tr>\n",
              "    <tr>\n",
              "      <th>224</th>\n",
              "      <td>Aleksandar-Mitrovic</td>\n",
              "      <td>12</td>\n",
              "      <td>5.67</td>\n",
              "    </tr>\n",
              "    <tr>\n",
              "      <th>337</th>\n",
              "      <td>Callum-Wilson</td>\n",
              "      <td>9</td>\n",
              "      <td>5.64</td>\n",
              "    </tr>\n",
              "    <tr>\n",
              "      <th>110</th>\n",
              "      <td>Erling-Haaland</td>\n",
              "      <td>13</td>\n",
              "      <td>5.60</td>\n",
              "    </tr>\n",
              "    <tr>\n",
              "      <th>221</th>\n",
              "      <td>Aleksandar-Mitrovic</td>\n",
              "      <td>9</td>\n",
              "      <td>5.57</td>\n",
              "    </tr>\n",
              "    <tr>\n",
              "      <th>116</th>\n",
              "      <td>Erling-Haaland</td>\n",
              "      <td>19</td>\n",
              "      <td>5.50</td>\n",
              "    </tr>\n",
              "    <tr>\n",
              "      <th>170</th>\n",
              "      <td>Harry-Kane</td>\n",
              "      <td>14</td>\n",
              "      <td>5.48</td>\n",
              "    </tr>\n",
              "    <tr>\n",
              "      <th>108</th>\n",
              "      <td>Erling-Haaland</td>\n",
              "      <td>11</td>\n",
              "      <td>5.40</td>\n",
              "    </tr>\n",
              "    <tr>\n",
              "      <th>168</th>\n",
              "      <td>Harry-Kane</td>\n",
              "      <td>12</td>\n",
              "      <td>5.38</td>\n",
              "    </tr>\n",
              "    <tr>\n",
              "      <th>113</th>\n",
              "      <td>Erling-Haaland</td>\n",
              "      <td>16</td>\n",
              "      <td>5.27</td>\n",
              "    </tr>\n",
              "    <tr>\n",
              "      <th>289</th>\n",
              "      <td>Ivan-Toney</td>\n",
              "      <td>18</td>\n",
              "      <td>5.25</td>\n",
              "    </tr>\n",
              "    <tr>\n",
              "      <th>176</th>\n",
              "      <td>Harry-Kane</td>\n",
              "      <td>20</td>\n",
              "      <td>5.17</td>\n",
              "    </tr>\n",
              "    <tr>\n",
              "      <th>326</th>\n",
              "      <td>Ollie-Watkins</td>\n",
              "      <td>16</td>\n",
              "      <td>5.16</td>\n",
              "    </tr>\n",
              "    <tr>\n",
              "      <th>165</th>\n",
              "      <td>Harry-Kane</td>\n",
              "      <td>9</td>\n",
              "      <td>5.13</td>\n",
              "    </tr>\n",
              "    <tr>\n",
              "      <th>107</th>\n",
              "      <td>Erling-Haaland</td>\n",
              "      <td>10</td>\n",
              "      <td>5.01</td>\n",
              "    </tr>\n",
              "    <tr>\n",
              "      <th>111</th>\n",
              "      <td>Erling-Haaland</td>\n",
              "      <td>14</td>\n",
              "      <td>4.95</td>\n",
              "    </tr>\n",
              "    <tr>\n",
              "      <th>169</th>\n",
              "      <td>Harry-Kane</td>\n",
              "      <td>13</td>\n",
              "      <td>4.90</td>\n",
              "    </tr>\n",
              "  </tbody>\n",
              "</table>\n",
              "</div>\n",
              "      <button class=\"colab-df-convert\" onclick=\"convertToInteractive('df-9ec8c9ba-1383-4a69-9c9b-ca2bfb6ff7e6')\"\n",
              "              title=\"Convert this dataframe to an interactive table.\"\n",
              "              style=\"display:none;\">\n",
              "        \n",
              "  <svg xmlns=\"http://www.w3.org/2000/svg\" height=\"24px\"viewBox=\"0 0 24 24\"\n",
              "       width=\"24px\">\n",
              "    <path d=\"M0 0h24v24H0V0z\" fill=\"none\"/>\n",
              "    <path d=\"M18.56 5.44l.94 2.06.94-2.06 2.06-.94-2.06-.94-.94-2.06-.94 2.06-2.06.94zm-11 1L8.5 8.5l.94-2.06 2.06-.94-2.06-.94L8.5 2.5l-.94 2.06-2.06.94zm10 10l.94 2.06.94-2.06 2.06-.94-2.06-.94-.94-2.06-.94 2.06-2.06.94z\"/><path d=\"M17.41 7.96l-1.37-1.37c-.4-.4-.92-.59-1.43-.59-.52 0-1.04.2-1.43.59L10.3 9.45l-7.72 7.72c-.78.78-.78 2.05 0 2.83L4 21.41c.39.39.9.59 1.41.59.51 0 1.02-.2 1.41-.59l7.78-7.78 2.81-2.81c.8-.78.8-2.07 0-2.86zM5.41 20L4 18.59l7.72-7.72 1.47 1.35L5.41 20z\"/>\n",
              "  </svg>\n",
              "      </button>\n",
              "      \n",
              "  <style>\n",
              "    .colab-df-container {\n",
              "      display:flex;\n",
              "      flex-wrap:wrap;\n",
              "      gap: 12px;\n",
              "    }\n",
              "\n",
              "    .colab-df-convert {\n",
              "      background-color: #E8F0FE;\n",
              "      border: none;\n",
              "      border-radius: 50%;\n",
              "      cursor: pointer;\n",
              "      display: none;\n",
              "      fill: #1967D2;\n",
              "      height: 32px;\n",
              "      padding: 0 0 0 0;\n",
              "      width: 32px;\n",
              "    }\n",
              "\n",
              "    .colab-df-convert:hover {\n",
              "      background-color: #E2EBFA;\n",
              "      box-shadow: 0px 1px 2px rgba(60, 64, 67, 0.3), 0px 1px 3px 1px rgba(60, 64, 67, 0.15);\n",
              "      fill: #174EA6;\n",
              "    }\n",
              "\n",
              "    [theme=dark] .colab-df-convert {\n",
              "      background-color: #3B4455;\n",
              "      fill: #D2E3FC;\n",
              "    }\n",
              "\n",
              "    [theme=dark] .colab-df-convert:hover {\n",
              "      background-color: #434B5C;\n",
              "      box-shadow: 0px 1px 3px 1px rgba(0, 0, 0, 0.15);\n",
              "      filter: drop-shadow(0px 1px 2px rgba(0, 0, 0, 0.3));\n",
              "      fill: #FFFFFF;\n",
              "    }\n",
              "  </style>\n",
              "\n",
              "      <script>\n",
              "        const buttonEl =\n",
              "          document.querySelector('#df-9ec8c9ba-1383-4a69-9c9b-ca2bfb6ff7e6 button.colab-df-convert');\n",
              "        buttonEl.style.display =\n",
              "          google.colab.kernel.accessAllowed ? 'block' : 'none';\n",
              "\n",
              "        async function convertToInteractive(key) {\n",
              "          const element = document.querySelector('#df-9ec8c9ba-1383-4a69-9c9b-ca2bfb6ff7e6');\n",
              "          const dataTable =\n",
              "            await google.colab.kernel.invokeFunction('convertToInteractive',\n",
              "                                                     [key], {});\n",
              "          if (!dataTable) return;\n",
              "\n",
              "          const docLinkHtml = 'Like what you see? Visit the ' +\n",
              "            '<a target=\"_blank\" href=https://colab.research.google.com/notebooks/data_table.ipynb>data table notebook</a>'\n",
              "            + ' to learn more about interactive tables.';\n",
              "          element.innerHTML = '';\n",
              "          dataTable['output_type'] = 'display_data';\n",
              "          await google.colab.output.renderOutput(dataTable, element);\n",
              "          const docLink = document.createElement('div');\n",
              "          docLink.innerHTML = docLinkHtml;\n",
              "          element.appendChild(docLink);\n",
              "        }\n",
              "      </script>\n",
              "    </div>\n",
              "  </div>\n",
              "  "
            ]
          },
          "metadata": {},
          "execution_count": 136
        }
      ],
      "source": [
        "# results sorted\n",
        "pd.DataFrame(predictions_fwd, columns=[\"Name\", \"GW\", \"Points\"]).sort_values(by=[\"Points\"], ascending = False).head(20)"
      ]
    },
    {
      "cell_type": "code",
      "execution_count": 136,
      "id": "3ac8bbdb-979e-409d-8564-678cd5a3b968",
      "metadata": {
        "id": "3ac8bbdb-979e-409d-8564-678cd5a3b968"
      },
      "outputs": [],
      "source": []
    },
    {
      "cell_type": "code",
      "execution_count": 136,
      "id": "43368445-5cc4-45c3-8d46-90935ab138fc",
      "metadata": {
        "id": "43368445-5cc4-45c3-8d46-90935ab138fc"
      },
      "outputs": [],
      "source": []
    },
    {
      "cell_type": "code",
      "execution_count": 136,
      "id": "fa55a4ad-748a-4862-a02b-511bef68c9cb",
      "metadata": {
        "id": "fa55a4ad-748a-4862-a02b-511bef68c9cb"
      },
      "outputs": [],
      "source": []
    }
  ],
  "metadata": {
    "kernelspec": {
      "display_name": "Python 3 (ipykernel)",
      "language": "python",
      "name": "python3"
    },
    "language_info": {
      "codemirror_mode": {
        "name": "ipython",
        "version": 3
      },
      "file_extension": ".py",
      "mimetype": "text/x-python",
      "name": "python",
      "nbconvert_exporter": "python",
      "pygments_lexer": "ipython3",
      "version": "3.8.0"
    },
    "colab": {
      "provenance": []
    },
    "accelerator": "GPU",
    "gpuClass": "standard"
  },
  "nbformat": 4,
  "nbformat_minor": 5
}