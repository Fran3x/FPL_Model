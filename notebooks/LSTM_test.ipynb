{
 "cells": [
  {
   "cell_type": "markdown",
   "id": "b403b39e-b749-4730-a880-75a6b9ddfe83",
   "metadata": {},
   "source": [
    "# Imports"
   ]
  },
  {
   "cell_type": "code",
   "execution_count": 1,
   "id": "d83ab433-7a24-43c5-aeb7-51b94ccdcc05",
   "metadata": {},
   "outputs": [],
   "source": [
    "import os\n",
    "os.chdir(\"D:\\PulpitE\\FPL_ML\")"
   ]
  },
  {
   "cell_type": "code",
   "execution_count": 2,
   "id": "1382f0d0-60a4-4f2a-b4ce-c54205b18d21",
   "metadata": {},
   "outputs": [],
   "source": [
    "import pandas as pd\n",
    "\n",
    "import torch\n",
    "import torch.nn as nn\n",
    "\n",
    "import torchvision\n",
    "import torchvision.transforms\n",
    "\n",
    "from torch.utils.data import Dataset, DataLoader\n",
    "import torch.optim as optim\n",
    "\n",
    "import matplotlib.pyplot as plt\n",
    "\n",
    "import numpy as np"
   ]
  },
  {
   "cell_type": "markdown",
   "id": "83fe6a68-8e90-42af-94c8-c886a1f95c77",
   "metadata": {},
   "source": [
    "# Data"
   ]
  },
  {
   "cell_type": "code",
   "execution_count": 3,
   "id": "4bb7008e-7daa-41ce-b71c-ff06abd53b86",
   "metadata": {},
   "outputs": [],
   "source": [
    "df = pd.read_csv('data/logs_all.csv')"
   ]
  },
  {
   "cell_type": "code",
   "execution_count": 4,
   "id": "8e0c8995-bbf3-4bf2-9123-e6b35c6b0cd8",
   "metadata": {},
   "outputs": [],
   "source": [
    "info = [\"Name\"]\n",
    "features = [\"Min\", \"Gls\", \"Sh\", \"SoT\", \"xG\", \"npxG\", \"xAG\", \"CS\", \"Was Home\"]\n",
    "to_predict = [\"FPL\"]"
   ]
  },
  {
   "cell_type": "code",
   "execution_count": 5,
   "id": "c4eeb6d7-d07b-4f1c-9c86-52095b7cf379",
   "metadata": {},
   "outputs": [],
   "source": [
    "df = df[info + features + to_predict]\n",
    "df[features + to_predict] = df[features + to_predict].astype(\"float32\")"
   ]
  },
  {
   "cell_type": "code",
   "execution_count": 6,
   "id": "a56bb28e-5b7a-4a99-b18f-73cdf0d41c03",
   "metadata": {},
   "outputs": [],
   "source": [
    "last_names = df[\"Name\"].unique()"
   ]
  },
  {
   "cell_type": "code",
   "execution_count": 7,
   "id": "1ec52f24-993c-418d-8961-193f1f479720",
   "metadata": {},
   "outputs": [
    {
     "data": {
      "text/html": [
       "<div>\n",
       "<style scoped>\n",
       "    .dataframe tbody tr th:only-of-type {\n",
       "        vertical-align: middle;\n",
       "    }\n",
       "\n",
       "    .dataframe tbody tr th {\n",
       "        vertical-align: top;\n",
       "    }\n",
       "\n",
       "    .dataframe thead th {\n",
       "        text-align: right;\n",
       "    }\n",
       "</style>\n",
       "<table border=\"1\" class=\"dataframe\">\n",
       "  <thead>\n",
       "    <tr style=\"text-align: right;\">\n",
       "      <th></th>\n",
       "      <th>Name</th>\n",
       "      <th>Min</th>\n",
       "      <th>Gls</th>\n",
       "      <th>Sh</th>\n",
       "      <th>SoT</th>\n",
       "      <th>xG</th>\n",
       "      <th>npxG</th>\n",
       "      <th>xAG</th>\n",
       "      <th>CS</th>\n",
       "      <th>Was Home</th>\n",
       "      <th>FPL</th>\n",
       "    </tr>\n",
       "  </thead>\n",
       "  <tbody>\n",
       "    <tr>\n",
       "      <th>0</th>\n",
       "      <td>Miguel-Almiron</td>\n",
       "      <td>83.0</td>\n",
       "      <td>0.0</td>\n",
       "      <td>3.0</td>\n",
       "      <td>0.0</td>\n",
       "      <td>0.2</td>\n",
       "      <td>0.2</td>\n",
       "      <td>0.0</td>\n",
       "      <td>0.0</td>\n",
       "      <td>0.0</td>\n",
       "      <td>2.0</td>\n",
       "    </tr>\n",
       "    <tr>\n",
       "      <th>1</th>\n",
       "      <td>Miguel-Almiron</td>\n",
       "      <td>83.0</td>\n",
       "      <td>0.0</td>\n",
       "      <td>0.0</td>\n",
       "      <td>0.0</td>\n",
       "      <td>0.0</td>\n",
       "      <td>0.0</td>\n",
       "      <td>0.0</td>\n",
       "      <td>0.0</td>\n",
       "      <td>0.0</td>\n",
       "      <td>2.0</td>\n",
       "    </tr>\n",
       "    <tr>\n",
       "      <th>2</th>\n",
       "      <td>Miguel-Almiron</td>\n",
       "      <td>69.0</td>\n",
       "      <td>0.0</td>\n",
       "      <td>3.0</td>\n",
       "      <td>0.0</td>\n",
       "      <td>0.2</td>\n",
       "      <td>0.2</td>\n",
       "      <td>0.1</td>\n",
       "      <td>1.0</td>\n",
       "      <td>1.0</td>\n",
       "      <td>3.0</td>\n",
       "    </tr>\n",
       "    <tr>\n",
       "      <th>3</th>\n",
       "      <td>Miguel-Almiron</td>\n",
       "      <td>88.0</td>\n",
       "      <td>0.0</td>\n",
       "      <td>2.0</td>\n",
       "      <td>1.0</td>\n",
       "      <td>0.2</td>\n",
       "      <td>0.2</td>\n",
       "      <td>0.1</td>\n",
       "      <td>0.0</td>\n",
       "      <td>1.0</td>\n",
       "      <td>2.0</td>\n",
       "    </tr>\n",
       "    <tr>\n",
       "      <th>4</th>\n",
       "      <td>Miguel-Almiron</td>\n",
       "      <td>90.0</td>\n",
       "      <td>2.0</td>\n",
       "      <td>4.0</td>\n",
       "      <td>2.0</td>\n",
       "      <td>1.0</td>\n",
       "      <td>1.0</td>\n",
       "      <td>0.0</td>\n",
       "      <td>0.0</td>\n",
       "      <td>0.0</td>\n",
       "      <td>12.0</td>\n",
       "    </tr>\n",
       "    <tr>\n",
       "      <th>...</th>\n",
       "      <td>...</td>\n",
       "      <td>...</td>\n",
       "      <td>...</td>\n",
       "      <td>...</td>\n",
       "      <td>...</td>\n",
       "      <td>...</td>\n",
       "      <td>...</td>\n",
       "      <td>...</td>\n",
       "      <td>...</td>\n",
       "      <td>...</td>\n",
       "      <td>...</td>\n",
       "    </tr>\n",
       "    <tr>\n",
       "      <th>100</th>\n",
       "      <td>Wilfried-Zaha</td>\n",
       "      <td>90.0</td>\n",
       "      <td>1.0</td>\n",
       "      <td>4.0</td>\n",
       "      <td>2.0</td>\n",
       "      <td>0.3</td>\n",
       "      <td>0.3</td>\n",
       "      <td>0.1</td>\n",
       "      <td>0.0</td>\n",
       "      <td>0.0</td>\n",
       "      <td>10.0</td>\n",
       "    </tr>\n",
       "    <tr>\n",
       "      <th>101</th>\n",
       "      <td>Wilfried-Zaha</td>\n",
       "      <td>90.0</td>\n",
       "      <td>0.0</td>\n",
       "      <td>2.0</td>\n",
       "      <td>0.0</td>\n",
       "      <td>0.9</td>\n",
       "      <td>0.1</td>\n",
       "      <td>0.1</td>\n",
       "      <td>0.0</td>\n",
       "      <td>0.0</td>\n",
       "      <td>2.0</td>\n",
       "    </tr>\n",
       "    <tr>\n",
       "      <th>102</th>\n",
       "      <td>Wilfried-Zaha</td>\n",
       "      <td>90.0</td>\n",
       "      <td>0.0</td>\n",
       "      <td>0.0</td>\n",
       "      <td>0.0</td>\n",
       "      <td>0.0</td>\n",
       "      <td>0.0</td>\n",
       "      <td>0.0</td>\n",
       "      <td>0.0</td>\n",
       "      <td>1.0</td>\n",
       "      <td>2.0</td>\n",
       "    </tr>\n",
       "    <tr>\n",
       "      <th>103</th>\n",
       "      <td>Wilfried-Zaha</td>\n",
       "      <td>90.0</td>\n",
       "      <td>0.0</td>\n",
       "      <td>1.0</td>\n",
       "      <td>0.0</td>\n",
       "      <td>0.1</td>\n",
       "      <td>0.1</td>\n",
       "      <td>0.6</td>\n",
       "      <td>1.0</td>\n",
       "      <td>0.0</td>\n",
       "      <td>3.0</td>\n",
       "    </tr>\n",
       "    <tr>\n",
       "      <th>104</th>\n",
       "      <td>Wilfried-Zaha</td>\n",
       "      <td>90.0</td>\n",
       "      <td>0.0</td>\n",
       "      <td>2.0</td>\n",
       "      <td>1.0</td>\n",
       "      <td>0.2</td>\n",
       "      <td>0.2</td>\n",
       "      <td>0.1</td>\n",
       "      <td>0.0</td>\n",
       "      <td>1.0</td>\n",
       "      <td>2.0</td>\n",
       "    </tr>\n",
       "  </tbody>\n",
       "</table>\n",
       "<p>105 rows × 11 columns</p>\n",
       "</div>"
      ],
      "text/plain": [
       "               Name   Min  Gls   Sh  SoT   xG  npxG  xAG   CS  Was Home   FPL\n",
       "0    Miguel-Almiron  83.0  0.0  3.0  0.0  0.2   0.2  0.0  0.0       0.0   2.0\n",
       "1    Miguel-Almiron  83.0  0.0  0.0  0.0  0.0   0.0  0.0  0.0       0.0   2.0\n",
       "2    Miguel-Almiron  69.0  0.0  3.0  0.0  0.2   0.2  0.1  1.0       1.0   3.0\n",
       "3    Miguel-Almiron  88.0  0.0  2.0  1.0  0.2   0.2  0.1  0.0       1.0   2.0\n",
       "4    Miguel-Almiron  90.0  2.0  4.0  2.0  1.0   1.0  0.0  0.0       0.0  12.0\n",
       "..              ...   ...  ...  ...  ...  ...   ...  ...  ...       ...   ...\n",
       "100   Wilfried-Zaha  90.0  1.0  4.0  2.0  0.3   0.3  0.1  0.0       0.0  10.0\n",
       "101   Wilfried-Zaha  90.0  0.0  2.0  0.0  0.9   0.1  0.1  0.0       0.0   2.0\n",
       "102   Wilfried-Zaha  90.0  0.0  0.0  0.0  0.0   0.0  0.0  0.0       1.0   2.0\n",
       "103   Wilfried-Zaha  90.0  0.0  1.0  0.0  0.1   0.1  0.6  1.0       0.0   3.0\n",
       "104   Wilfried-Zaha  90.0  0.0  2.0  1.0  0.2   0.2  0.1  0.0       1.0   2.0\n",
       "\n",
       "[105 rows x 11 columns]"
      ]
     },
     "execution_count": 7,
     "metadata": {},
     "output_type": "execute_result"
    }
   ],
   "source": [
    "df"
   ]
  },
  {
   "cell_type": "code",
   "execution_count": 8,
   "id": "16411293-fe77-4005-9fa1-ae399422defd",
   "metadata": {},
   "outputs": [
    {
     "name": "stdout",
     "output_type": "stream",
     "text": [
      "Miguel-Almiron (15, 11)\n",
      "Kevin-De-Bruyne (15, 11)\n",
      "Bruno-Fernandes (15, 11)\n",
      "Mason-Mount (15, 11)\n",
      "Bukayo-Saka (15, 11)\n",
      "Mohamed-Salah (15, 11)\n",
      "Wilfried-Zaha (15, 11)\n"
     ]
    }
   ],
   "source": [
    "for p in df[\"Name\"].unique():\n",
    "    print (p, df[df[\"Name\"] == p].shape)"
   ]
  },
  {
   "cell_type": "code",
   "execution_count": 9,
   "id": "b1e48728-7e3d-4994-943f-85c43df9db25",
   "metadata": {},
   "outputs": [],
   "source": [
    "# shifting\n",
    "# df['FPL'] = df['FPL'].shift(-1)\n",
    "# test_row = df[-1]\n",
    "# df = df[:-1]"
   ]
  },
  {
   "cell_type": "markdown",
   "id": "6e4319b4-355b-4121-a0ed-e6cbbdaf93a6",
   "metadata": {},
   "source": [
    "# DF to DataLoader"
   ]
  },
  {
   "cell_type": "code",
   "execution_count": 10,
   "id": "15fc117a-0b9a-442e-a653-530a52486ff0",
   "metadata": {},
   "outputs": [],
   "source": [
    "from torchvision.transforms import ToTensor\n",
    "\n",
    "class PandasDataset(Dataset):\n",
    "    def __init__(self, dataframe):\n",
    "        self.dataframe = dataframe\n",
    "        self.names = dataframe[\"Name\"].unique()\n",
    "        self.transform = torchvision.transforms.Compose([torchvision.transforms.ToTensor()])\n",
    "\n",
    "    def __len__(self):\n",
    "        return len(self.names)\n",
    "\n",
    "    def __getitem__(self, idx):\n",
    "        # print(idx)\n",
    "        name = self.names[idx]\n",
    "        # print(name)\n",
    "        features = self.dataframe[self.dataframe[\"Name\"] == name].drop(columns=[\"Name\"]).values[:, :-1]\n",
    "        # print(features)\n",
    "        # print(type(features))\n",
    "        # print(self.dataframe[self.dataframe[\"Name\"] == name].values[:, -1])\n",
    "        # print(type(self.dataframe[self.dataframe[\"Name\"] == name].values[:, -1]))\n",
    "        # target = self.dataframe[self.dataframe[\"Name\"] == name].values[:, -1]\n",
    "        # target = target.astype(np.float32)\n",
    "        # target = torch.from_numpy(target)\n",
    "        target = np.float32(self.dataframe[self.dataframe[\"Name\"] == name].values[-1, -1])\n",
    "        # print(type(target))\n",
    "        return features, target"
   ]
  },
  {
   "cell_type": "code",
   "execution_count": 11,
   "id": "430e5e7d-972d-4eee-9bc0-a6f43ed05e7b",
   "metadata": {},
   "outputs": [
    {
     "data": {
      "text/plain": [
       "(array([[90. ,  0. ,  2. ,  0. ,  0.2,  0.2,  0.1,  0. ,  1. ],\n",
       "        [76. ,  0. ,  3. ,  1. ,  0.3,  0.3,  0.3,  0. ,  0. ],\n",
       "        [45. ,  0. ,  0. ,  0. ,  0. ,  0. ,  0. ,  0. ,  1. ],\n",
       "        [90. ,  0. ,  2. ,  0. ,  0.1,  0.1,  0.3,  0. ,  0. ],\n",
       "        [31. ,  0. ,  0. ,  0. ,  0. ,  0. ,  0. ,  0. ,  1. ],\n",
       "        [83. ,  0. ,  3. ,  0. ,  0.2,  0.2,  0.1,  0. ,  0. ],\n",
       "        [71. ,  0. ,  3. ,  0. ,  0.1,  0.1,  0.5,  1. ,  1. ],\n",
       "        [90. ,  2. ,  3. ,  2. ,  0.4,  0.4,  0. ,  1. ,  0. ],\n",
       "        [61. ,  0. ,  0. ,  0. ,  0. ,  0. ,  0. ,  1. ,  0. ],\n",
       "        [90. ,  0. ,  0. ,  0. ,  0. ,  0. ,  0.1,  0. ,  1. ],\n",
       "        [90. ,  0. ,  3. ,  2. ,  0.1,  0.1,  0. ,  0. ,  0. ],\n",
       "        [77. ,  0. ,  1. ,  0. ,  0. ,  0. ,  0.1,  0. ,  1. ],\n",
       "        [72. ,  0. ,  0. ,  0. ,  0. ,  0. ,  0. ,  0. ,  0. ],\n",
       "        [90. ,  1. ,  2. ,  2. ,  0.1,  0.1,  0.3,  1. ,  1. ],\n",
       "        [72. ,  0. ,  2. ,  0. ,  0.1,  0.1,  0. ,  0. ,  0. ]],\n",
       "       dtype=float32),\n",
       " 2.0)"
      ]
     },
     "execution_count": 11,
     "metadata": {},
     "output_type": "execute_result"
    }
   ],
   "source": [
    "dataset = PandasDataset(df)\n",
    "dataset.__getitem__(3)"
   ]
  },
  {
   "cell_type": "code",
   "execution_count": 12,
   "id": "3ef8a258-452d-4ce9-b44f-3370fa58f750",
   "metadata": {},
   "outputs": [],
   "source": [
    "dataloader = DataLoader(dataset, batch_size=1, shuffle=False)"
   ]
  },
  {
   "cell_type": "code",
   "execution_count": 13,
   "id": "066d4f81-bc84-4a58-9bcd-fcaa6cfbeb4c",
   "metadata": {},
   "outputs": [
    {
     "data": {
      "text/plain": [
       "torch.Size([135])"
      ]
     },
     "execution_count": 13,
     "metadata": {},
     "output_type": "execute_result"
    }
   ],
   "source": [
    "torch.flatten(next(iter(dataloader))[0]).shape"
   ]
  },
  {
   "cell_type": "markdown",
   "id": "44290e57-5279-400f-bd5d-8bcbf0db2f99",
   "metadata": {},
   "source": [
    "# LSTM Model"
   ]
  },
  {
   "cell_type": "code",
   "execution_count": 14,
   "id": "95c48496-4a3d-4dd6-a789-abb04d921dc6",
   "metadata": {},
   "outputs": [],
   "source": [
    "class LSTMNetwork(nn.Module):\n",
    "    def __init__(self, input_size, hidden_size, num_layers, output_size, dropout=0.2):\n",
    "        super(LSTMNetwork, self).__init__()\n",
    "        self.lstm = nn.LSTM(input_size, hidden_size, num_layers, dropout=dropout)\n",
    "        self.fc = nn.Linear(hidden_size, output_size)\n",
    "\n",
    "    def forward(self, x):\n",
    "        x = torch.flatten(x, 1)\n",
    "        # print(x.shape)\n",
    "        out, _ = self.lstm(x)\n",
    "        out = self.fc(out[-1])\n",
    "        return out"
   ]
  },
  {
   "cell_type": "code",
   "execution_count": 15,
   "id": "083d4a4d-f747-4d56-a2a7-416282c53b77",
   "metadata": {},
   "outputs": [],
   "source": [
    "net = LSTMNetwork(9 * 15, 20, 2, 1, dropout=0.2)"
   ]
  },
  {
   "cell_type": "markdown",
   "id": "e6a2f684-5906-4cf1-8cd4-6f342fb3daf5",
   "metadata": {},
   "source": [
    "# Training loop"
   ]
  },
  {
   "cell_type": "code",
   "execution_count": 16,
   "id": "9f926a02-0546-46c0-ac12-db2990d20172",
   "metadata": {},
   "outputs": [],
   "source": [
    "criterion = nn.MSELoss()\n",
    "optimizer = optim.Adam(net.parameters(), lr=0.001)"
   ]
  },
  {
   "cell_type": "code",
   "execution_count": 17,
   "id": "8d1ac896-0465-4422-b291-a13f32f3d3b5",
   "metadata": {},
   "outputs": [
    {
     "name": "stdout",
     "output_type": "stream",
     "text": [
      "Epoch 0 Loss: 9.975805180413383\n",
      "Epoch 100 Loss: 1.4085560307971068\n",
      "Epoch 200 Loss: 1.21439722409871\n",
      "Epoch 300 Loss: 0.5940864044906837\n",
      "Epoch 400 Loss: 1.7240036928227969\n",
      "Epoch 500 Loss: 0.04364801570773125\n",
      "Epoch 600 Loss: 0.2078789723704436\n",
      "Epoch 700 Loss: 0.24999981187283993\n",
      "Epoch 800 Loss: 1.7329769212561328\n",
      "Epoch 900 Loss: 1.7175012836399088\n",
      "Epoch 1000 Loss: 1.7515727389535252\n",
      "Epoch 1100 Loss: 1.7173107102974297\n",
      "Epoch 1200 Loss: 1.791128098646368\n",
      "Epoch 1300 Loss: 1.7565036053835814\n",
      "Epoch 1400 Loss: 1.7740191022499598\n",
      "Epoch 1500 Loss: 1.7433272840142828\n",
      "Epoch 1600 Loss: 1.8100845211218777\n",
      "Epoch 1700 Loss: 1.7333125690929592\n",
      "Epoch 1800 Loss: 1.760327510510771\n",
      "Epoch 1900 Loss: 1.6434308535673543\n",
      "Epoch 2000 Loss: 1.6822689552115793\n",
      "Epoch 2100 Loss: 1.7212317448242433\n",
      "Epoch 2200 Loss: 1.7534211000893265\n",
      "Epoch 2300 Loss: 1.697232247538133\n",
      "Epoch 2400 Loss: 1.7252456978395847\n",
      "Epoch 2500 Loss: 1.726519612728485\n",
      "Epoch 2600 Loss: 1.7551618515395344\n",
      "Epoch 2700 Loss: 1.7780924710303745\n",
      "Epoch 2800 Loss: 1.6682702787095747\n",
      "Epoch 2900 Loss: 1.716208871285614\n",
      "Epoch 3000 Loss: 1.7129763684788486\n",
      "Epoch 3100 Loss: 1.9077392646909825\n",
      "Epoch 3200 Loss: 1.7166854432517928\n",
      "Epoch 3300 Loss: 1.7264891267782982\n",
      "Epoch 3400 Loss: 1.6542746135133453\n",
      "Epoch 3500 Loss: 1.6736767648191224\n",
      "Epoch 3600 Loss: 1.7718959109125925\n",
      "Epoch 3700 Loss: 1.7467605915693898\n",
      "Epoch 3800 Loss: 1.8427786785344193\n",
      "Epoch 3900 Loss: 1.6985311587507437\n",
      "Epoch 4000 Loss: 1.6575931270296809\n",
      "Epoch 4100 Loss: 1.735172988296134\n",
      "Epoch 4200 Loss: 1.7168156603053961\n",
      "Epoch 4300 Loss: 1.7189830289408161\n",
      "Epoch 4400 Loss: 0.26968143082090784\n",
      "Epoch 4500 Loss: 1.7181690555740456\n",
      "Epoch 4600 Loss: 1.7409080208079624\n",
      "Epoch 4700 Loss: 1.7134245030756574\n",
      "Epoch 4800 Loss: 1.6763797336690394\n",
      "Epoch 4900 Loss: 1.6814413207487502\n",
      "Epoch 5000 Loss: 1.7660859066693644\n",
      "Epoch 5100 Loss: 1.67994748188981\n",
      "Epoch 5200 Loss: 1.877988647559375\n",
      "Epoch 5300 Loss: 1.7022916268599926\n",
      "Epoch 5400 Loss: 1.6069010416081906\n",
      "Epoch 5500 Loss: 1.8191325336322604\n",
      "Epoch 5600 Loss: 1.7092613849090412\n",
      "Epoch 5700 Loss: 1.7235090785626588\n",
      "Epoch 5800 Loss: 1.7102861074554312\n",
      "Epoch 5900 Loss: 1.7336483890957683\n",
      "Epoch 6000 Loss: 1.7369498852307774\n",
      "Epoch 6100 Loss: 1.7138104827931133\n",
      "Epoch 6200 Loss: 1.6645229966167594\n",
      "Epoch 6300 Loss: 1.729224591532589\n",
      "Epoch 6400 Loss: 1.7587654733215459\n",
      "Epoch 6500 Loss: 1.7680823811067188\n",
      "Epoch 6600 Loss: 1.7461935613038284\n",
      "Epoch 6700 Loss: 1.7002761304777647\n",
      "Epoch 6800 Loss: 1.6666682898619132\n",
      "Epoch 6900 Loss: 1.61252241863154\n",
      "Epoch 7000 Loss: 1.8581073555895793\n",
      "Epoch 7100 Loss: 1.641337519190399\n",
      "Epoch 7200 Loss: 1.6785674514384092\n",
      "Epoch 7300 Loss: 1.741472238604079\n",
      "Epoch 7400 Loss: 1.7237699011558496\n",
      "Epoch 7500 Loss: 1.7421788158868108\n",
      "Epoch 7600 Loss: 1.6173676513292645\n",
      "Epoch 7700 Loss: 1.7058791952398937\n",
      "Epoch 7800 Loss: 1.7420082514499882\n",
      "Epoch 7900 Loss: 1.7527293644379824\n",
      "Epoch 8000 Loss: 1.7217267327692494\n",
      "Epoch 8100 Loss: 1.7215524001294398\n",
      "Epoch 8200 Loss: 1.7321164689762685\n",
      "Epoch 8300 Loss: 1.7118517788365304\n",
      "Epoch 8400 Loss: 1.7782357238855135\n",
      "Epoch 8500 Loss: 1.7314924721951164\n",
      "Epoch 8600 Loss: 1.6494704988539783\n",
      "Epoch 8700 Loss: 1.7169946552015662\n",
      "Epoch 8800 Loss: 1.6925332308414258\n",
      "Epoch 8900 Loss: 1.6837448057319437\n",
      "Epoch 9000 Loss: 1.7639617012661932\n",
      "Epoch 9100 Loss: 1.6898584396929957\n",
      "Epoch 9200 Loss: 1.9010570155722755\n",
      "Epoch 9300 Loss: 0.2208209259967719\n",
      "Epoch 9400 Loss: 0.28151750527155983\n",
      "Epoch 9500 Loss: 0.19411814651851142\n",
      "Epoch 9600 Loss: 0.27204757218714803\n",
      "Epoch 9700 Loss: 0.21687315611468097\n",
      "Epoch 9800 Loss: 0.22579871730080672\n",
      "Epoch 9900 Loss: 0.23948247323278338\n"
     ]
    }
   ],
   "source": [
    "num_epochs = 10000\n",
    "loss_history = []\n",
    "for epoch in range(num_epochs):\n",
    "    running_loss = 0\n",
    "    for i, (inputs, targets) in enumerate(dataloader):\n",
    "        # print(inputs.shape)\n",
    "        # print(targets.shape)\n",
    "        # print(targets)\n",
    "        optimizer.zero_grad()\n",
    "        outputs = net(inputs)\n",
    "        # print(outputs)\n",
    "        loss = criterion(outputs, targets)\n",
    "        running_loss += loss.item()\n",
    "        loss.backward()\n",
    "        optimizer.step()\n",
    "    \n",
    "    loss_history.append(running_loss / len(dataloader))\n",
    "    if epoch % 100 == 0:\n",
    "        print(f'Epoch {epoch} Loss: {running_loss / len(dataloader)}')"
   ]
  },
  {
   "cell_type": "code",
   "execution_count": 18,
   "id": "ac88d75b-3cb0-4747-9efe-c498dd2efdd3",
   "metadata": {},
   "outputs": [
    {
     "data": {
      "image/png": "[encoded data removed]",
      "text/plain": [
       "<Figure size 432x288 with 1 Axes>"
      ]
     },
     "metadata": {
      "needs_background": "light"
     },
     "output_type": "display_data"
    }
   ],
   "source": [
    "plt.plot(loss_history[25:])\n",
    "plt.xlabel('Epoch')\n",
    "plt.ylabel('Loss')\n",
    "plt.show()"
   ]
  },
  {
   "cell_type": "code",
   "execution_count": null,
   "id": "cd915acc-7ef2-4d51-9292-53d0e7abafeb",
   "metadata": {},
   "outputs": [],
   "source": []
  },
  {
   "cell_type": "markdown",
   "id": "222c6cfd-5148-4793-a9f7-6dfa76115a68",
   "metadata": {},
   "source": [
    "# Predictions"
   ]
  },
  {
   "cell_type": "code",
   "execution_count": 19,
   "id": "864f4e1f-63ad-4e18-86e0-6d733744c8a9",
   "metadata": {},
   "outputs": [
    {
     "name": "stdout",
     "output_type": "stream",
     "text": [
      "Miguel-Almiron 2.58\n",
      "Kevin-De-Bruyne 2.58\n",
      "Bruno-Fernandes 5.98\n",
      "Mason-Mount 2.48\n",
      "Bukayo-Saka 2.58\n",
      "Mohamed-Salah 2.58\n",
      "Wilfried-Zaha 2.64\n"
     ]
    }
   ],
   "source": [
    "for name, (input, target) in zip (last_names, dataloader):\n",
    "    output = net(input)\n",
    "    print(name, round(output.item(), 2))"
   ]
  },
  {
   "cell_type": "code",
   "execution_count": null,
   "id": "e6d3171e-f813-411c-ba7e-492163af5009",
   "metadata": {},
   "outputs": [],
   "source": []
  }
 ],
 "metadata": {
  "kernelspec": {
   "display_name": "Python 3 (ipykernel)",
   "language": "python",
   "name": "python3"
  },
  "language_info": {
   "codemirror_mode": {
    "name": "ipython",
    "version": 3
   },
   "file_extension": ".py",
   "mimetype": "text/x-python",
   "name": "python",
   "nbconvert_exporter": "python",
   "pygments_lexer": "ipython3",
   "version": "3.8.0"
  }
 },
 "nbformat": 4,
 "nbformat_minor": 5
}
