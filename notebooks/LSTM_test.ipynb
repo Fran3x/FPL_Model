{
 "cells": [
  {
   "cell_type": "markdown",
   "id": "b403b39e-b749-4730-a880-75a6b9ddfe83",
   "metadata": {},
   "source": [
    "# Imports"
   ]
  },
  {
   "cell_type": "code",
   "execution_count": 1,
   "id": "d83ab433-7a24-43c5-aeb7-51b94ccdcc05",
   "metadata": {},
   "outputs": [],
   "source": [
    "import os\n",
    "os.chdir(\"D:\\PulpitE\\FPL_ML\")"
   ]
  },
  {
   "cell_type": "code",
   "execution_count": 2,
   "id": "1382f0d0-60a4-4f2a-b4ce-c54205b18d21",
   "metadata": {},
   "outputs": [],
   "source": [
    "import pandas as pd\n",
    "\n",
    "import torch\n",
    "import torch.nn as nn\n",
    "\n",
    "import torchvision\n",
    "import torchvision.transforms\n",
    "\n",
    "from torch.utils.data import Dataset, DataLoader\n",
    "import torch.optim as optim\n",
    "\n",
    "import matplotlib.pyplot as plt\n",
    "\n",
    "import numpy as np"
   ]
  },
  {
   "cell_type": "markdown",
   "id": "7dd9d155-95e4-4e3d-86ad-c46a6fbb5c95",
   "metadata": {},
   "source": [
    "# Constants"
   ]
  },
  {
   "cell_type": "code",
   "execution_count": 3,
   "id": "7239f9ad-7a6d-4a3d-9da5-4bac972e1537",
   "metadata": {},
   "outputs": [],
   "source": [
    "# FIXTURES_IN_SAMPLE\n",
    "FIS = 5\n",
    "# FIXTURES_FOR_PLAYER\n",
    "FFP = 15"
   ]
  },
  {
   "cell_type": "markdown",
   "id": "83fe6a68-8e90-42af-94c8-c886a1f95c77",
   "metadata": {},
   "source": [
    "# Data"
   ]
  },
  {
   "cell_type": "code",
   "execution_count": 4,
   "id": "4bb7008e-7daa-41ce-b71c-ff06abd53b86",
   "metadata": {},
   "outputs": [],
   "source": [
    "df = pd.read_csv('data/fpl_fbref_players.csv')"
   ]
  },
  {
   "cell_type": "code",
   "execution_count": 5,
   "id": "8e0c8995-bbf3-4bf2-9123-e6b35c6b0cd8",
   "metadata": {},
   "outputs": [],
   "source": [
    "info = [\"Name\", \"GW\"]\n",
    "features = [\"Min\", \"Gls\", \"Sh\", \"SoT\", \"xG\", \"npxG\", \"xAG\", \"CS\", \"Was Home\"]\n",
    "to_predict = [\"FPL\"]"
   ]
  },
  {
   "cell_type": "code",
   "execution_count": 6,
   "id": "c4eeb6d7-d07b-4f1c-9c86-52095b7cf379",
   "metadata": {},
   "outputs": [],
   "source": [
    "df = df[info + features + to_predict]\n",
    "df[features + to_predict] = df[features + to_predict].astype(\"float32\")"
   ]
  },
  {
   "cell_type": "code",
   "execution_count": 7,
   "id": "d63ed15f-1efb-4c00-b646-8c55a6c347d1",
   "metadata": {},
   "outputs": [
    {
     "data": {
      "text/plain": [
       "(6104, 12)"
      ]
     },
     "execution_count": 7,
     "metadata": {},
     "output_type": "execute_result"
    }
   ],
   "source": [
    "df.shape"
   ]
  },
  {
   "cell_type": "code",
   "execution_count": 8,
   "id": "f36cc7ed-88c3-4ee4-baf1-85393aa3d15d",
   "metadata": {},
   "outputs": [],
   "source": [
    "# removing NaN rows and players that appear less than 15 times\n",
    "df = df.dropna()\n",
    "grouped = df.groupby('Name')\n",
    "df = grouped.filter(lambda x: len(x) >= FFP)"
   ]
  },
  {
   "cell_type": "code",
   "execution_count": 9,
   "id": "06c42b4b-58dd-48fe-a162-14e7564a4441",
   "metadata": {},
   "outputs": [
    {
     "data": {
      "text/plain": [
       "(4080, 12)"
      ]
     },
     "execution_count": 9,
     "metadata": {},
     "output_type": "execute_result"
    }
   ],
   "source": [
    "df.shape"
   ]
  },
  {
   "cell_type": "code",
   "execution_count": 10,
   "id": "24fff899-a809-4659-b51e-f1431688507c",
   "metadata": {},
   "outputs": [
    {
     "data": {
      "text/html": [
       "<div>\n",
       "<style scoped>\n",
       "    .dataframe tbody tr th:only-of-type {\n",
       "        vertical-align: middle;\n",
       "    }\n",
       "\n",
       "    .dataframe tbody tr th {\n",
       "        vertical-align: top;\n",
       "    }\n",
       "\n",
       "    .dataframe thead th {\n",
       "        text-align: right;\n",
       "    }\n",
       "</style>\n",
       "<table border=\"1\" class=\"dataframe\">\n",
       "  <thead>\n",
       "    <tr style=\"text-align: right;\">\n",
       "      <th></th>\n",
       "      <th>Name</th>\n",
       "      <th>GW</th>\n",
       "      <th>Min</th>\n",
       "      <th>Gls</th>\n",
       "      <th>Sh</th>\n",
       "      <th>SoT</th>\n",
       "      <th>xG</th>\n",
       "      <th>npxG</th>\n",
       "      <th>xAG</th>\n",
       "      <th>CS</th>\n",
       "      <th>Was Home</th>\n",
       "      <th>FPL</th>\n",
       "    </tr>\n",
       "  </thead>\n",
       "  <tbody>\n",
       "    <tr>\n",
       "      <th>0</th>\n",
       "      <td>Brenden-Aaronson</td>\n",
       "      <td>4</td>\n",
       "      <td>81.0</td>\n",
       "      <td>0.0</td>\n",
       "      <td>0.0</td>\n",
       "      <td>0.0</td>\n",
       "      <td>0.0</td>\n",
       "      <td>0.0</td>\n",
       "      <td>0.0</td>\n",
       "      <td>0.0</td>\n",
       "      <td>0.0</td>\n",
       "      <td>2.0</td>\n",
       "    </tr>\n",
       "    <tr>\n",
       "      <th>1</th>\n",
       "      <td>Brenden-Aaronson</td>\n",
       "      <td>5</td>\n",
       "      <td>75.0</td>\n",
       "      <td>0.0</td>\n",
       "      <td>1.0</td>\n",
       "      <td>1.0</td>\n",
       "      <td>0.1</td>\n",
       "      <td>0.1</td>\n",
       "      <td>0.1</td>\n",
       "      <td>0.0</td>\n",
       "      <td>1.0</td>\n",
       "      <td>5.0</td>\n",
       "    </tr>\n",
       "    <tr>\n",
       "      <th>2</th>\n",
       "      <td>Brenden-Aaronson</td>\n",
       "      <td>6</td>\n",
       "      <td>90.0</td>\n",
       "      <td>0.0</td>\n",
       "      <td>1.0</td>\n",
       "      <td>0.0</td>\n",
       "      <td>0.0</td>\n",
       "      <td>0.0</td>\n",
       "      <td>0.3</td>\n",
       "      <td>0.0</td>\n",
       "      <td>0.0</td>\n",
       "      <td>2.0</td>\n",
       "    </tr>\n",
       "    <tr>\n",
       "      <th>3</th>\n",
       "      <td>Brenden-Aaronson</td>\n",
       "      <td>9</td>\n",
       "      <td>78.0</td>\n",
       "      <td>0.0</td>\n",
       "      <td>0.0</td>\n",
       "      <td>0.0</td>\n",
       "      <td>0.0</td>\n",
       "      <td>0.0</td>\n",
       "      <td>0.1</td>\n",
       "      <td>1.0</td>\n",
       "      <td>1.0</td>\n",
       "      <td>3.0</td>\n",
       "    </tr>\n",
       "    <tr>\n",
       "      <th>4</th>\n",
       "      <td>Brenden-Aaronson</td>\n",
       "      <td>10</td>\n",
       "      <td>75.0</td>\n",
       "      <td>0.0</td>\n",
       "      <td>2.0</td>\n",
       "      <td>0.0</td>\n",
       "      <td>0.1</td>\n",
       "      <td>0.1</td>\n",
       "      <td>0.0</td>\n",
       "      <td>0.0</td>\n",
       "      <td>0.0</td>\n",
       "      <td>2.0</td>\n",
       "    </tr>\n",
       "    <tr>\n",
       "      <th>5</th>\n",
       "      <td>Brenden-Aaronson</td>\n",
       "      <td>11</td>\n",
       "      <td>90.0</td>\n",
       "      <td>0.0</td>\n",
       "      <td>2.0</td>\n",
       "      <td>1.0</td>\n",
       "      <td>0.1</td>\n",
       "      <td>0.1</td>\n",
       "      <td>0.3</td>\n",
       "      <td>0.0</td>\n",
       "      <td>1.0</td>\n",
       "      <td>2.0</td>\n",
       "    </tr>\n",
       "    <tr>\n",
       "      <th>6</th>\n",
       "      <td>Brenden-Aaronson</td>\n",
       "      <td>12</td>\n",
       "      <td>90.0</td>\n",
       "      <td>0.0</td>\n",
       "      <td>1.0</td>\n",
       "      <td>0.0</td>\n",
       "      <td>0.1</td>\n",
       "      <td>0.1</td>\n",
       "      <td>0.4</td>\n",
       "      <td>0.0</td>\n",
       "      <td>0.0</td>\n",
       "      <td>2.0</td>\n",
       "    </tr>\n",
       "    <tr>\n",
       "      <th>7</th>\n",
       "      <td>Brenden-Aaronson</td>\n",
       "      <td>13</td>\n",
       "      <td>90.0</td>\n",
       "      <td>0.0</td>\n",
       "      <td>1.0</td>\n",
       "      <td>0.0</td>\n",
       "      <td>0.1</td>\n",
       "      <td>0.1</td>\n",
       "      <td>0.9</td>\n",
       "      <td>0.0</td>\n",
       "      <td>1.0</td>\n",
       "      <td>2.0</td>\n",
       "    </tr>\n",
       "    <tr>\n",
       "      <th>8</th>\n",
       "      <td>Brenden-Aaronson</td>\n",
       "      <td>14</td>\n",
       "      <td>90.0</td>\n",
       "      <td>0.0</td>\n",
       "      <td>2.0</td>\n",
       "      <td>0.0</td>\n",
       "      <td>0.2</td>\n",
       "      <td>0.2</td>\n",
       "      <td>0.2</td>\n",
       "      <td>0.0</td>\n",
       "      <td>0.0</td>\n",
       "      <td>2.0</td>\n",
       "    </tr>\n",
       "    <tr>\n",
       "      <th>9</th>\n",
       "      <td>Brenden-Aaronson</td>\n",
       "      <td>15</td>\n",
       "      <td>85.0</td>\n",
       "      <td>0.0</td>\n",
       "      <td>2.0</td>\n",
       "      <td>0.0</td>\n",
       "      <td>0.1</td>\n",
       "      <td>0.1</td>\n",
       "      <td>0.0</td>\n",
       "      <td>0.0</td>\n",
       "      <td>1.0</td>\n",
       "      <td>2.0</td>\n",
       "    </tr>\n",
       "    <tr>\n",
       "      <th>10</th>\n",
       "      <td>Brenden-Aaronson</td>\n",
       "      <td>16</td>\n",
       "      <td>90.0</td>\n",
       "      <td>0.0</td>\n",
       "      <td>2.0</td>\n",
       "      <td>0.0</td>\n",
       "      <td>0.1</td>\n",
       "      <td>0.1</td>\n",
       "      <td>0.4</td>\n",
       "      <td>0.0</td>\n",
       "      <td>0.0</td>\n",
       "      <td>5.0</td>\n",
       "    </tr>\n",
       "    <tr>\n",
       "      <th>11</th>\n",
       "      <td>Brenden-Aaronson</td>\n",
       "      <td>17</td>\n",
       "      <td>82.0</td>\n",
       "      <td>0.0</td>\n",
       "      <td>1.0</td>\n",
       "      <td>0.0</td>\n",
       "      <td>0.0</td>\n",
       "      <td>0.0</td>\n",
       "      <td>0.0</td>\n",
       "      <td>0.0</td>\n",
       "      <td>1.0</td>\n",
       "      <td>2.0</td>\n",
       "    </tr>\n",
       "    <tr>\n",
       "      <th>12</th>\n",
       "      <td>Brenden-Aaronson</td>\n",
       "      <td>18</td>\n",
       "      <td>90.0</td>\n",
       "      <td>0.0</td>\n",
       "      <td>1.0</td>\n",
       "      <td>0.0</td>\n",
       "      <td>0.1</td>\n",
       "      <td>0.1</td>\n",
       "      <td>0.1</td>\n",
       "      <td>1.0</td>\n",
       "      <td>0.0</td>\n",
       "      <td>3.0</td>\n",
       "    </tr>\n",
       "    <tr>\n",
       "      <th>13</th>\n",
       "      <td>Brenden-Aaronson</td>\n",
       "      <td>19</td>\n",
       "      <td>62.0</td>\n",
       "      <td>0.0</td>\n",
       "      <td>1.0</td>\n",
       "      <td>0.0</td>\n",
       "      <td>0.1</td>\n",
       "      <td>0.1</td>\n",
       "      <td>0.0</td>\n",
       "      <td>0.0</td>\n",
       "      <td>1.0</td>\n",
       "      <td>2.0</td>\n",
       "    </tr>\n",
       "    <tr>\n",
       "      <th>14</th>\n",
       "      <td>Brenden-Aaronson</td>\n",
       "      <td>20</td>\n",
       "      <td>76.0</td>\n",
       "      <td>0.0</td>\n",
       "      <td>2.0</td>\n",
       "      <td>0.0</td>\n",
       "      <td>0.1</td>\n",
       "      <td>0.1</td>\n",
       "      <td>0.1</td>\n",
       "      <td>0.0</td>\n",
       "      <td>0.0</td>\n",
       "      <td>2.0</td>\n",
       "    </tr>\n",
       "  </tbody>\n",
       "</table>\n",
       "</div>"
      ],
      "text/plain": [
       "                Name  GW   Min  Gls   Sh  SoT   xG  npxG  xAG   CS  Was Home  \\\n",
       "0   Brenden-Aaronson   4  81.0  0.0  0.0  0.0  0.0   0.0  0.0  0.0       0.0   \n",
       "1   Brenden-Aaronson   5  75.0  0.0  1.0  1.0  0.1   0.1  0.1  0.0       1.0   \n",
       "2   Brenden-Aaronson   6  90.0  0.0  1.0  0.0  0.0   0.0  0.3  0.0       0.0   \n",
       "3   Brenden-Aaronson   9  78.0  0.0  0.0  0.0  0.0   0.0  0.1  1.0       1.0   \n",
       "4   Brenden-Aaronson  10  75.0  0.0  2.0  0.0  0.1   0.1  0.0  0.0       0.0   \n",
       "5   Brenden-Aaronson  11  90.0  0.0  2.0  1.0  0.1   0.1  0.3  0.0       1.0   \n",
       "6   Brenden-Aaronson  12  90.0  0.0  1.0  0.0  0.1   0.1  0.4  0.0       0.0   \n",
       "7   Brenden-Aaronson  13  90.0  0.0  1.0  0.0  0.1   0.1  0.9  0.0       1.0   \n",
       "8   Brenden-Aaronson  14  90.0  0.0  2.0  0.0  0.2   0.2  0.2  0.0       0.0   \n",
       "9   Brenden-Aaronson  15  85.0  0.0  2.0  0.0  0.1   0.1  0.0  0.0       1.0   \n",
       "10  Brenden-Aaronson  16  90.0  0.0  2.0  0.0  0.1   0.1  0.4  0.0       0.0   \n",
       "11  Brenden-Aaronson  17  82.0  0.0  1.0  0.0  0.0   0.0  0.0  0.0       1.0   \n",
       "12  Brenden-Aaronson  18  90.0  0.0  1.0  0.0  0.1   0.1  0.1  1.0       0.0   \n",
       "13  Brenden-Aaronson  19  62.0  0.0  1.0  0.0  0.1   0.1  0.0  0.0       1.0   \n",
       "14  Brenden-Aaronson  20  76.0  0.0  2.0  0.0  0.1   0.1  0.1  0.0       0.0   \n",
       "\n",
       "    FPL  \n",
       "0   2.0  \n",
       "1   5.0  \n",
       "2   2.0  \n",
       "3   3.0  \n",
       "4   2.0  \n",
       "5   2.0  \n",
       "6   2.0  \n",
       "7   2.0  \n",
       "8   2.0  \n",
       "9   2.0  \n",
       "10  5.0  \n",
       "11  2.0  \n",
       "12  3.0  \n",
       "13  2.0  \n",
       "14  2.0  "
      ]
     },
     "execution_count": 10,
     "metadata": {},
     "output_type": "execute_result"
    }
   ],
   "source": [
    "df.head(FFP)"
   ]
  },
  {
   "cell_type": "code",
   "execution_count": 11,
   "id": "a56bb28e-5b7a-4a99-b18f-73cdf0d41c03",
   "metadata": {},
   "outputs": [],
   "source": [
    "last_names = df[\"Name\"].unique()"
   ]
  },
  {
   "cell_type": "markdown",
   "id": "6e4319b4-355b-4121-a0ed-e6cbbdaf93a6",
   "metadata": {},
   "source": [
    "# DF to DataLoader"
   ]
  },
  {
   "cell_type": "code",
   "execution_count": 12,
   "id": "e1f6061f-5613-42bd-bae7-8b8024acf549",
   "metadata": {},
   "outputs": [],
   "source": [
    "def split_indices(index):\n",
    "    return (index // (FFP-FIS)), (index % (FFP-FIS))"
   ]
  },
  {
   "cell_type": "code",
   "execution_count": 13,
   "id": "528df6c0-5b04-4193-b19e-d6529963a355",
   "metadata": {},
   "outputs": [
    {
     "data": {
      "text/plain": [
       "(1, 1)"
      ]
     },
     "execution_count": 13,
     "metadata": {},
     "output_type": "execute_result"
    }
   ],
   "source": [
    "split_indices(11)"
   ]
  },
  {
   "cell_type": "code",
   "execution_count": 14,
   "id": "15fc117a-0b9a-442e-a653-530a52486ff0",
   "metadata": {},
   "outputs": [],
   "source": [
    "from torchvision.transforms import ToTensor\n",
    "\n",
    "class PandasDataset(Dataset):\n",
    "    def __init__(self, dataframe):\n",
    "        self.dataframe = dataframe\n",
    "        self.names = dataframe[\"Name\"].unique()\n",
    "        self.transform = torchvision.transforms.Compose([torchvision.transforms.ToTensor()])\n",
    "\n",
    "    def __len__(self):\n",
    "        return len(self.names) * (FFP-FIS)\n",
    "\n",
    "    def __getitem__(self, idx):\n",
    "        # print(idx)\n",
    "        player_id, sample_id = split_indices(idx)\n",
    "        name = self.names[player_id]\n",
    "        # print(name)\n",
    "        features = self.dataframe[self.dataframe[\"Name\"] == name]\n",
    "        # print(self.dataframe[self.dataframe[\"Name\"] == name])\n",
    "        # print(features[sample_id: (sample_id + 4)])\n",
    "        features = features[sample_id: (sample_id + FIS - 1)].drop(columns=info).values[:, :-1]\n",
    "        # print(features)\n",
    "        # print(features)\n",
    "        # print(type(features))\n",
    "        # print(self.dataframe[self.dataframe[\"Name\"] == name].values[:, -1])\n",
    "        # print(type(self.dataframe[self.dataframe[\"Name\"] == name].values[:, -1]))\n",
    "        # target = self.dataframe[self.dataframe[\"Name\"] == name].values[:, -1]\n",
    "        # target = target.astype(np.float32)\n",
    "        # target = torch.from_numpy(target)\n",
    "        target = np.float32(self.dataframe[self.dataframe[\"Name\"] == name].values[(sample_id + FIS), -1])\n",
    "        # print(name, idx, target, sample_id)\n",
    "        # print(type(target))\n",
    "        return features, target"
   ]
  },
  {
   "cell_type": "code",
   "execution_count": 15,
   "id": "430e5e7d-972d-4eee-9bc0-a6f43ed05e7b",
   "metadata": {},
   "outputs": [
    {
     "data": {
      "text/plain": [
       "(array([[90. ,  0. ,  2. ,  1. ,  0.1,  0.1,  0.3,  0. ,  1. ],\n",
       "        [90. ,  0. ,  1. ,  0. ,  0.1,  0.1,  0.4,  0. ,  0. ],\n",
       "        [90. ,  0. ,  1. ,  0. ,  0.1,  0.1,  0.9,  0. ,  1. ],\n",
       "        [90. ,  0. ,  2. ,  0. ,  0.2,  0.2,  0.2,  0. ,  0. ]],\n",
       "       dtype=float32),\n",
       " 5.0)"
      ]
     },
     "execution_count": 15,
     "metadata": {},
     "output_type": "execute_result"
    }
   ],
   "source": [
    "dataset = PandasDataset(df)\n",
    "dataset.__getitem__(5)"
   ]
  },
  {
   "cell_type": "code",
   "execution_count": 16,
   "id": "fd3a4639-a6c7-40bf-ad2f-72569dfeac42",
   "metadata": {},
   "outputs": [],
   "source": [
    "batch_size = 16"
   ]
  },
  {
   "cell_type": "code",
   "execution_count": 17,
   "id": "3ef8a258-452d-4ce9-b44f-3370fa58f750",
   "metadata": {},
   "outputs": [],
   "source": [
    "dataloader = DataLoader(dataset, batch_size=batch_size, shuffle=False)"
   ]
  },
  {
   "cell_type": "code",
   "execution_count": 18,
   "id": "066d4f81-bc84-4a58-9bcd-fcaa6cfbeb4c",
   "metadata": {},
   "outputs": [
    {
     "data": {
      "text/plain": [
       "tensor([2., 2., 2., 2., 2., 5., 2., 3., 2., 2., 2., 2., 8., 1., 2., 2.])"
      ]
     },
     "execution_count": 18,
     "metadata": {},
     "output_type": "execute_result"
    }
   ],
   "source": [
    "next(iter(dataloader))[1]"
   ]
  },
  {
   "cell_type": "markdown",
   "id": "44290e57-5279-400f-bd5d-8bcbf0db2f99",
   "metadata": {},
   "source": [
    "# LSTM Model"
   ]
  },
  {
   "cell_type": "code",
   "execution_count": 19,
   "id": "95c48496-4a3d-4dd6-a789-abb04d921dc6",
   "metadata": {},
   "outputs": [],
   "source": [
    "class LSTMNetwork(nn.Module):\n",
    "    def __init__(self, input_size, hidden_size, num_layers, output_size, dropout=0.2):\n",
    "        super(LSTMNetwork, self).__init__()\n",
    "        self.lstm = nn.LSTM(input_size, hidden_size, num_layers, dropout=dropout)\n",
    "        self.fc = nn.Linear(hidden_size, output_size)\n",
    "\n",
    "    def forward(self, x):\n",
    "        x = torch.transpose(x, 0, 1)\n",
    "        # x = x.view(-1, batch_size)\n",
    "        # x = torch.transpose(x, 0, 1)\n",
    "        # print(\"FOR\", x.shape)\n",
    "        # print(x.shape)\n",
    "        # print(x.shape)\n",
    "        out, _ = self.lstm(x)\n",
    "        # print(out.shape)\n",
    "        out = self.fc(out[-1])\n",
    "        return out"
   ]
  },
  {
   "cell_type": "code",
   "execution_count": 20,
   "id": "231626de-b520-4d08-a1c8-eeca06133061",
   "metadata": {},
   "outputs": [
    {
     "data": {
      "text/plain": [
       "170"
      ]
     },
     "execution_count": 20,
     "metadata": {},
     "output_type": "execute_result"
    }
   ],
   "source": [
    "len(dataloader)"
   ]
  },
  {
   "cell_type": "code",
   "execution_count": 21,
   "id": "aa6120f7-4cf3-4b11-ac41-4ebaa2a49321",
   "metadata": {},
   "outputs": [
    {
     "data": {
      "text/plain": [
       "torch.Size([4, 16, 9])"
      ]
     },
     "execution_count": 21,
     "metadata": {},
     "output_type": "execute_result"
    }
   ],
   "source": [
    "torch.transpose(next(iter(dataloader))[0], 0, 1).shape"
   ]
  },
  {
   "cell_type": "code",
   "execution_count": 22,
   "id": "083d4a4d-f747-4d56-a2a7-416282c53b77",
   "metadata": {},
   "outputs": [],
   "source": [
    "net = LSTMNetwork(1, 20, 2, 1, dropout=0.4)"
   ]
  },
  {
   "cell_type": "markdown",
   "id": "e6a2f684-5906-4cf1-8cd4-6f342fb3daf5",
   "metadata": {},
   "source": [
    "# Training loop"
   ]
  },
  {
   "cell_type": "code",
   "execution_count": 23,
   "id": "9f926a02-0546-46c0-ac12-db2990d20172",
   "metadata": {},
   "outputs": [],
   "source": [
    "criterion = nn.MSELoss()\n",
    "optimizer = optim.Adam(net.parameters(), lr=0.005)"
   ]
  },
  {
   "cell_type": "code",
   "execution_count": 24,
   "id": "8d1ac896-0465-4422-b291-a13f32f3d3b5",
   "metadata": {},
   "outputs": [
    {
     "name": "stdout",
     "output_type": "stream",
     "text": [
      "Epoch 0 Loss: 4.189383476271349\n",
      "Epoch 5 Loss: 3.9144315509235157\n",
      "Epoch 10 Loss: 3.612061737214818\n",
      "Epoch 15 Loss: 3.396572691903395\n",
      "Epoch 20 Loss: 3.3540463760495185\n",
      "Epoch 25 Loss: 3.3190994030412506\n",
      "Epoch 30 Loss: 3.3191415330942937\n",
      "Epoch 35 Loss: 3.299492210850996\n",
      "Epoch 40 Loss: 3.39948075685431\n",
      "Epoch 45 Loss: 3.257497309586581\n",
      "Epoch 50 Loss: 3.235050747061477\n",
      "Epoch 55 Loss: 3.195567208090249\n",
      "Epoch 60 Loss: 3.2103827896363595\n",
      "Epoch 65 Loss: 3.203804448159302\n",
      "Epoch 70 Loss: 3.1589634294895563\n",
      "Epoch 75 Loss: 3.167178951379131\n",
      "Epoch 80 Loss: 3.1801269797717824\n",
      "Epoch 85 Loss: 3.1654108686482205\n",
      "Epoch 90 Loss: 3.0848404861548366\n",
      "Epoch 95 Loss: 3.1272476566188474\n",
      "CPU times: total: 49min 8s\n",
      "Wall time: 12min 38s\n"
     ]
    }
   ],
   "source": [
    "%%time\n",
    "num_epochs = 100\n",
    "loss_history = []\n",
    "for epoch in range(num_epochs):\n",
    "    running_loss = 0\n",
    "    for i, (inputs, targets) in enumerate(dataloader):\n",
    "        inputs = torch.flatten(inputs, 1, 2)\n",
    "        inputs = inputs.unsqueeze(2)\n",
    "        # print(\"INPUTS\", inputs.shape)\n",
    "        # print(\"TARGETS\", targets.shape)\n",
    "        # print(targets)\n",
    "        optimizer.zero_grad()\n",
    "        outputs = net(inputs).flatten()\n",
    "        # print(\"OUTPUTS\", outputs.shape)\n",
    "        loss = criterion(outputs, targets)\n",
    "        running_loss += loss.item()\n",
    "        loss.backward()\n",
    "        optimizer.step()\n",
    "    \n",
    "    loss_history.append(running_loss / len(dataloader))\n",
    "    if epoch % 5 == 0:\n",
    "        print(f'Epoch {epoch} Loss: {running_loss / len(dataloader)}')"
   ]
  },
  {
   "cell_type": "code",
   "execution_count": 25,
   "id": "ac88d75b-3cb0-4747-9efe-c498dd2efdd3",
   "metadata": {},
   "outputs": [
    {
     "data": {
      "image/png": "[encoded data removed]",
      "text/plain": [
       "<Figure size 432x288 with 1 Axes>"
      ]
     },
     "metadata": {
      "needs_background": "light"
     },
     "output_type": "display_data"
    }
   ],
   "source": [
    "plt.plot(loss_history)\n",
    "plt.xlabel('Epoch')\n",
    "plt.ylabel('Loss')\n",
    "plt.show()"
   ]
  },
  {
   "cell_type": "code",
   "execution_count": null,
   "id": "cd915acc-7ef2-4d51-9292-53d0e7abafeb",
   "metadata": {},
   "outputs": [],
   "source": []
  },
  {
   "cell_type": "markdown",
   "id": "222c6cfd-5148-4793-a9f7-6dfa76115a68",
   "metadata": {},
   "source": [
    "# Predictions"
   ]
  },
  {
   "cell_type": "code",
   "execution_count": 26,
   "id": "864f4e1f-63ad-4e18-86e0-6d733744c8a9",
   "metadata": {},
   "outputs": [],
   "source": [
    "index = 0\n",
    "predictions = []\n",
    "for inputs, target in dataloader:\n",
    "    inputs = torch.flatten(inputs, 1, 2)\n",
    "    inputs = inputs.unsqueeze(2)\n",
    "    outputs = net(inputs)\n",
    "    for output in outputs:\n",
    "        player_id, sample_id = split_indices(index)\n",
    "        name = last_names[player_id]\n",
    "        points = round(output.item(), 2)\n",
    "        gw = sample_id + FIS + 1\n",
    "        predictions.append([name, gw, points])\n",
    "        index += 1"
   ]
  },
  {
   "cell_type": "code",
   "execution_count": 29,
   "id": "e6d3171e-f813-411c-ba7e-492163af5009",
   "metadata": {},
   "outputs": [
    {
     "data": {
      "text/html": [
       "<div>\n",
       "<style scoped>\n",
       "    .dataframe tbody tr th:only-of-type {\n",
       "        vertical-align: middle;\n",
       "    }\n",
       "\n",
       "    .dataframe tbody tr th {\n",
       "        vertical-align: top;\n",
       "    }\n",
       "\n",
       "    .dataframe thead th {\n",
       "        text-align: right;\n",
       "    }\n",
       "</style>\n",
       "<table border=\"1\" class=\"dataframe\">\n",
       "  <thead>\n",
       "    <tr style=\"text-align: right;\">\n",
       "      <th></th>\n",
       "      <th>Name</th>\n",
       "      <th>GW</th>\n",
       "      <th>Points</th>\n",
       "    </tr>\n",
       "  </thead>\n",
       "  <tbody>\n",
       "    <tr>\n",
       "      <th>1180</th>\n",
       "      <td>Son-Heung-min</td>\n",
       "      <td>6</td>\n",
       "      <td>9.96</td>\n",
       "    </tr>\n",
       "    <tr>\n",
       "      <th>1105</th>\n",
       "      <td>Erling-Haaland</td>\n",
       "      <td>11</td>\n",
       "      <td>9.82</td>\n",
       "    </tr>\n",
       "    <tr>\n",
       "      <th>2449</th>\n",
       "      <td>Ivan-Toney</td>\n",
       "      <td>15</td>\n",
       "      <td>9.72</td>\n",
       "    </tr>\n",
       "    <tr>\n",
       "      <th>2680</th>\n",
       "      <td>Wilfried-Zaha</td>\n",
       "      <td>6</td>\n",
       "      <td>9.69</td>\n",
       "    </tr>\n",
       "    <tr>\n",
       "      <th>2160</th>\n",
       "      <td>Mohamed-Salah</td>\n",
       "      <td>6</td>\n",
       "      <td>9.65</td>\n",
       "    </tr>\n",
       "    <tr>\n",
       "      <th>1101</th>\n",
       "      <td>Erling-Haaland</td>\n",
       "      <td>7</td>\n",
       "      <td>9.62</td>\n",
       "    </tr>\n",
       "    <tr>\n",
       "      <th>1729</th>\n",
       "      <td>Aleksandar-Mitrovic</td>\n",
       "      <td>15</td>\n",
       "      <td>9.52</td>\n",
       "    </tr>\n",
       "    <tr>\n",
       "      <th>2443</th>\n",
       "      <td>Ivan-Toney</td>\n",
       "      <td>9</td>\n",
       "      <td>9.51</td>\n",
       "    </tr>\n",
       "    <tr>\n",
       "      <th>2017</th>\n",
       "      <td>Marcus-Rashford</td>\n",
       "      <td>13</td>\n",
       "      <td>9.42</td>\n",
       "    </tr>\n",
       "    <tr>\n",
       "      <th>2167</th>\n",
       "      <td>Mohamed-Salah</td>\n",
       "      <td>13</td>\n",
       "      <td>9.33</td>\n",
       "    </tr>\n",
       "    <tr>\n",
       "      <th>2717</th>\n",
       "      <td>Martin-Odegaard</td>\n",
       "      <td>13</td>\n",
       "      <td>9.08</td>\n",
       "    </tr>\n",
       "    <tr>\n",
       "      <th>2151</th>\n",
       "      <td>Bukayo-Saka</td>\n",
       "      <td>7</td>\n",
       "      <td>9.01</td>\n",
       "    </tr>\n",
       "    <tr>\n",
       "      <th>1104</th>\n",
       "      <td>Erling-Haaland</td>\n",
       "      <td>10</td>\n",
       "      <td>8.99</td>\n",
       "    </tr>\n",
       "    <tr>\n",
       "      <th>242</th>\n",
       "      <td>Harvey-Barnes</td>\n",
       "      <td>8</td>\n",
       "      <td>8.95</td>\n",
       "    </tr>\n",
       "    <tr>\n",
       "      <th>1314</th>\n",
       "      <td>Harry-Kane</td>\n",
       "      <td>10</td>\n",
       "      <td>8.81</td>\n",
       "    </tr>\n",
       "    <tr>\n",
       "      <th>1010</th>\n",
       "      <td>Anthony-Gordon</td>\n",
       "      <td>6</td>\n",
       "      <td>8.70</td>\n",
       "    </tr>\n",
       "    <tr>\n",
       "      <th>1722</th>\n",
       "      <td>Aleksandar-Mitrovic</td>\n",
       "      <td>8</td>\n",
       "      <td>8.70</td>\n",
       "    </tr>\n",
       "    <tr>\n",
       "      <th>2714</th>\n",
       "      <td>Martin-Odegaard</td>\n",
       "      <td>10</td>\n",
       "      <td>8.56</td>\n",
       "    </tr>\n",
       "    <tr>\n",
       "      <th>1189</th>\n",
       "      <td>Son-Heung-min</td>\n",
       "      <td>15</td>\n",
       "      <td>8.42</td>\n",
       "    </tr>\n",
       "    <tr>\n",
       "      <th>1570</th>\n",
       "      <td>Martinelli</td>\n",
       "      <td>6</td>\n",
       "      <td>7.91</td>\n",
       "    </tr>\n",
       "  </tbody>\n",
       "</table>\n",
       "</div>"
      ],
      "text/plain": [
       "                     Name  GW  Points\n",
       "1180        Son-Heung-min   6    9.96\n",
       "1105       Erling-Haaland  11    9.82\n",
       "2449           Ivan-Toney  15    9.72\n",
       "2680        Wilfried-Zaha   6    9.69\n",
       "2160        Mohamed-Salah   6    9.65\n",
       "1101       Erling-Haaland   7    9.62\n",
       "1729  Aleksandar-Mitrovic  15    9.52\n",
       "2443           Ivan-Toney   9    9.51\n",
       "2017      Marcus-Rashford  13    9.42\n",
       "2167        Mohamed-Salah  13    9.33\n",
       "2717      Martin-Odegaard  13    9.08\n",
       "2151          Bukayo-Saka   7    9.01\n",
       "1104       Erling-Haaland  10    8.99\n",
       "242         Harvey-Barnes   8    8.95\n",
       "1314           Harry-Kane  10    8.81\n",
       "1010       Anthony-Gordon   6    8.70\n",
       "1722  Aleksandar-Mitrovic   8    8.70\n",
       "2714      Martin-Odegaard  10    8.56\n",
       "1189        Son-Heung-min  15    8.42\n",
       "1570           Martinelli   6    7.91"
      ]
     },
     "execution_count": 29,
     "metadata": {},
     "output_type": "execute_result"
    }
   ],
   "source": [
    "pd.DataFrame(predictions, columns=[\"Name\", \"GW\", \"Points\"]).sort_values(by=[\"Points\"], ascending = False).head(20)"
   ]
  },
  {
   "cell_type": "code",
   "execution_count": null,
   "id": "c2c03327-c028-4c0a-97a1-9eeec243370d",
   "metadata": {},
   "outputs": [],
   "source": []
  }
 ],
 "metadata": {
  "kernelspec": {
   "display_name": "Python 3 (ipykernel)",
   "language": "python",
   "name": "python3"
  },
  "language_info": {
   "codemirror_mode": {
    "name": "ipython",
    "version": 3
   },
   "file_extension": ".py",
   "mimetype": "text/x-python",
   "name": "python",
   "nbconvert_exporter": "python",
   "pygments_lexer": "ipython3",
   "version": "3.8.0"
  }
 },
 "nbformat": 4,
 "nbformat_minor": 5
}
