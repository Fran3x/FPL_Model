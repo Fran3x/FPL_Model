{
  "cells": [
    {
      "cell_type": "markdown",
      "source": [
        "# Train / load pretrained models"
      ],
      "metadata": {
        "id": "NGPT5xAMvNP0"
      },
      "id": "NGPT5xAMvNP0"
    },
    {
      "cell_type": "code",
      "source": [
        "train_general = True\n",
        "\n",
        "train_gk = False\n",
        "train_def = False\n",
        "train_mid = True\n",
        "train_fwd = False"
      ],
      "metadata": {
        "id": "mDubFMIUvK96"
      },
      "id": "mDubFMIUvK96",
      "execution_count": 1,
      "outputs": []
    },
    {
      "cell_type": "markdown",
      "source": [
        "# Google Colab / Kaggle / PC"
      ],
      "metadata": {
        "id": "HQv7wn2lGRxJ"
      },
      "id": "HQv7wn2lGRxJ"
    },
    {
      "cell_type": "code",
      "source": [
        "mode = \"Colab\""
      ],
      "metadata": {
        "id": "lWcbiCoePjwh"
      },
      "id": "lWcbiCoePjwh",
      "execution_count": 2,
      "outputs": []
    },
    {
      "cell_type": "code",
      "source": [
        "import os\n",
        "\n",
        "if mode == \"Colab\":\n",
        "    from google.colab import drive\n",
        "    drive.mount('/content/gdrive')\n",
        "    os.chdir(\"/content/gdrive/My Drive/FPL_ML\")\n",
        "    TRAIN_PATH = \"data/final_dataset.csv\"\n",
        "if mode == \"PC\":\n",
        "    os.chdir(\"D:\\PulpitE\\FPL_ML\")\n",
        "    TRAIN_PATH = \"data/final_dataset.csv\"\n",
        "if mode == \"Kaggle\":\n",
        "    TRAIN_PATH = \"/kaggle/input/fpl-dataset/final_dataset.csv\""
      ],
      "metadata": {
        "colab": {
          "base_uri": "https://localhost:8080/"
        },
        "id": "iIMFBRbFGTex",
        "outputId": "8b86871a-6a5b-4d2f-f1ca-a56ac8c9aef9"
      },
      "id": "iIMFBRbFGTex",
      "execution_count": 3,
      "outputs": [
        {
          "output_type": "stream",
          "name": "stdout",
          "text": [
            "Drive already mounted at /content/gdrive; to attempt to forcibly remount, call drive.mount(\"/content/gdrive\", force_remount=True).\n"
          ]
        }
      ]
    },
    {
      "cell_type": "markdown",
      "id": "b403b39e-b749-4730-a880-75a6b9ddfe83",
      "metadata": {
        "id": "b403b39e-b749-4730-a880-75a6b9ddfe83"
      },
      "source": [
        "# Imports"
      ]
    },
    {
      "cell_type": "code",
      "execution_count": 4,
      "id": "1382f0d0-60a4-4f2a-b4ce-c54205b18d21",
      "metadata": {
        "id": "1382f0d0-60a4-4f2a-b4ce-c54205b18d21"
      },
      "outputs": [],
      "source": [
        "import pandas as pd\n",
        "\n",
        "import torch\n",
        "import torch.nn as nn\n",
        "\n",
        "import torchvision\n",
        "import torchvision.transforms\n",
        "from torchvision.transforms import ToTensor\n",
        "\n",
        "from torch.utils.data import Dataset, DataLoader\n",
        "import torch.optim as optim\n",
        "\n",
        "import matplotlib.pyplot as plt\n",
        "\n",
        "import numpy as np\n",
        "import random"
      ]
    },
    {
      "cell_type": "markdown",
      "id": "7dd9d155-95e4-4e3d-86ad-c46a6fbb5c95",
      "metadata": {
        "id": "7dd9d155-95e4-4e3d-86ad-c46a6fbb5c95"
      },
      "source": [
        "# Constants and seeds"
      ]
    },
    {
      "cell_type": "code",
      "execution_count": 5,
      "id": "7239f9ad-7a6d-4a3d-9da5-4bac972e1537",
      "metadata": {
        "id": "7239f9ad-7a6d-4a3d-9da5-4bac972e1537"
      },
      "outputs": [],
      "source": [
        "# FIXTURES_IN_SAMPLE\n",
        "FIS = 8\n",
        "\n",
        "# FIXTURES_FOR_PLAYER - minimal number of gameweeks required for a player\n",
        "FFP = 15\n",
        "\n",
        "FIRST_TRAIN_GW = 1\n",
        "LAST_TRAIN_GW = 20\n",
        "\n",
        "FIRST_VALID_GW = 21\n",
        "LAST_VALID_GW = 21\n",
        "\n",
        "# NEXT_GAMEWEEK = 22\n",
        "# LAST_GAMEWEEK = NEXT_GAMEWEEK - 1"
      ]
    },
    {
      "cell_type": "code",
      "execution_count": 6,
      "id": "2d44df04-be21-4e7b-aaa5-612a6210bd44",
      "metadata": {
        "id": "2d44df04-be21-4e7b-aaa5-612a6210bd44"
      },
      "outputs": [],
      "source": [
        "def set_all_seeds(seed):\n",
        "    os.environ[\"PL_GLOBAL_SEED\"] = str(seed)\n",
        "    random.seed(seed)\n",
        "    np.random.seed(seed)\n",
        "    torch.manual_seed(seed)\n",
        "    torch.cuda.manual_seed_all(seed)\n",
        "    torch.backends.cudnn.deterministic = True\n",
        "\n",
        "set_all_seeds(42)"
      ]
    },
    {
      "cell_type": "markdown",
      "id": "83206c3d-ea25-42ca-81df-c388d247ffe3",
      "metadata": {
        "id": "83206c3d-ea25-42ca-81df-c388d247ffe3"
      },
      "source": [
        "# Device"
      ]
    },
    {
      "cell_type": "code",
      "execution_count": 7,
      "id": "0a673f70-8843-4b1a-ad07-ccfea4306d84",
      "metadata": {
        "id": "0a673f70-8843-4b1a-ad07-ccfea4306d84"
      },
      "outputs": [],
      "source": [
        "device = torch.device(\"cuda\")\n",
        "# device = torch.device('mps')\n",
        "# device = torch.device('cpu')"
      ]
    },
    {
      "cell_type": "markdown",
      "id": "83fe6a68-8e90-42af-94c8-c886a1f95c77",
      "metadata": {
        "id": "83fe6a68-8e90-42af-94c8-c886a1f95c77"
      },
      "source": [
        "# Getting data and choosing features"
      ]
    },
    {
      "cell_type": "code",
      "execution_count": 8,
      "id": "4bb7008e-7daa-41ce-b71c-ff06abd53b86",
      "metadata": {
        "id": "4bb7008e-7daa-41ce-b71c-ff06abd53b86"
      },
      "outputs": [],
      "source": [
        "df = pd.read_csv('data/final_dataset.csv')"
      ]
    },
    {
      "cell_type": "code",
      "execution_count": 9,
      "id": "bc939518-2991-4de9-ae25-e0f986522243",
      "metadata": {
        "id": "bc939518-2991-4de9-ae25-e0f986522243"
      },
      "outputs": [],
      "source": [
        "# remembering original dataframes\n",
        "df_original = df\n",
        "\n",
        "df_gk_original = df[df[\"FPL position\"] == \"GK\"]\n",
        "df_def_original = df[df[\"FPL position\"] == \"DEF\"]\n",
        "df_mid_original = df[df[\"FPL position\"] == \"MID\"]\n",
        "df_fwd_original = df[df[\"FPL position\"] == \"FWD\"]"
      ]
    },
    {
      "cell_type": "code",
      "source": [
        "# df_original.columns"
      ],
      "metadata": {
        "id": "PWzStYOfoo2G"
      },
      "id": "PWzStYOfoo2G",
      "execution_count": 10,
      "outputs": []
    },
    {
      "cell_type": "code",
      "execution_count": 11,
      "id": "8e0c8995-bbf3-4bf2-9123-e6b35c6b0cd8",
      "metadata": {
        "id": "8e0c8995-bbf3-4bf2-9123-e6b35c6b0cd8"
      },
      "outputs": [],
      "source": [
        "info = [\"Name\", \"GW\", \"FPL position\"]\n",
        "other = [\"LSTM\"]\n",
        "features = [\"Min\", \"Gls\", \"Ast\", \"Sh\", \"SoT\", \"xG\", \"npxG\", \"xAG\", \"SCA\", \"GCA\", \"CS\", \"CrdY\", \"CrdR\", \"Opp rating\", \"Team Score\", \"Opp Score\", \"Was Home\"]\n",
        "to_predict = [\"Total Points\"]"
      ]
    },
    {
      "cell_type": "code",
      "execution_count": 12,
      "id": "c4eeb6d7-d07b-4f1c-9c86-52095b7cf379",
      "metadata": {
        "colab": {
          "base_uri": "https://localhost:8080/"
        },
        "id": "c4eeb6d7-d07b-4f1c-9c86-52095b7cf379",
        "outputId": "07302e89-b9e1-47c1-b7a2-8ad09d254997"
      },
      "outputs": [
        {
          "output_type": "stream",
          "name": "stderr",
          "text": [
            "/usr/local/lib/python3.8/dist-packages/pandas/core/frame.py:3641: SettingWithCopyWarning: \n",
            "A value is trying to be set on a copy of a slice from a DataFrame.\n",
            "Try using .loc[row_indexer,col_indexer] = value instead\n",
            "\n",
            "See the caveats in the documentation: https://pandas.pydata.org/pandas-docs/stable/user_guide/indexing.html#returning-a-view-versus-a-copy\n",
            "  self[k1] = value[k2]\n"
          ]
        }
      ],
      "source": [
        "df = df[info + features + to_predict]\n",
        "df[features + to_predict] = df[features + to_predict].astype(\"float32\")"
      ]
    },
    {
      "cell_type": "code",
      "execution_count": 13,
      "id": "d63ed15f-1efb-4c00-b646-8c55a6c347d1",
      "metadata": {
        "colab": {
          "base_uri": "https://localhost:8080/"
        },
        "id": "d63ed15f-1efb-4c00-b646-8c55a6c347d1",
        "outputId": "3fc50baf-e26d-4ee9-ea23-56c081411a9e"
      },
      "outputs": [
        {
          "output_type": "execute_result",
          "data": {
            "text/plain": [
              "(7457, 21)"
            ]
          },
          "metadata": {},
          "execution_count": 13
        }
      ],
      "source": [
        "df.shape"
      ]
    },
    {
      "cell_type": "code",
      "execution_count": 14,
      "id": "f36cc7ed-88c3-4ee4-baf1-85393aa3d15d",
      "metadata": {
        "id": "f36cc7ed-88c3-4ee4-baf1-85393aa3d15d"
      },
      "outputs": [],
      "source": [
        "# removing NaN rows and players that appear less than 15 times\n",
        "df = df.dropna()\n",
        "grouped = df.groupby('Name')\n",
        "\n",
        "# taking only players with at least FFP matches in logs\n",
        "df = grouped.filter(lambda x: len(x) >= FFP)"
      ]
    },
    {
      "cell_type": "code",
      "execution_count": 15,
      "id": "06c42b4b-58dd-48fe-a162-14e7564a4441",
      "metadata": {
        "colab": {
          "base_uri": "https://localhost:8080/"
        },
        "id": "06c42b4b-58dd-48fe-a162-14e7564a4441",
        "outputId": "c66eceed-e91c-4e7c-829d-8cf9fd6862fc"
      },
      "outputs": [
        {
          "output_type": "execute_result",
          "data": {
            "text/plain": [
              "(5771, 21)"
            ]
          },
          "metadata": {},
          "execution_count": 15
        }
      ],
      "source": [
        "df.shape"
      ]
    },
    {
      "cell_type": "code",
      "execution_count": 16,
      "id": "24fff899-a809-4659-b51e-f1431688507c",
      "metadata": {
        "id": "24fff899-a809-4659-b51e-f1431688507c"
      },
      "outputs": [],
      "source": [
        "# df.head(20)"
      ]
    },
    {
      "cell_type": "code",
      "execution_count": 17,
      "id": "a56bb28e-5b7a-4a99-b18f-73cdf0d41c03",
      "metadata": {
        "id": "a56bb28e-5b7a-4a99-b18f-73cdf0d41c03"
      },
      "outputs": [],
      "source": [
        "last_names = df[\"Name\"].unique()"
      ]
    },
    {
      "cell_type": "markdown",
      "id": "6e4319b4-355b-4121-a0ed-e6cbbdaf93a6",
      "metadata": {
        "id": "6e4319b4-355b-4121-a0ed-e6cbbdaf93a6"
      },
      "source": [
        "# DF to DataLoader"
      ]
    },
    {
      "cell_type": "code",
      "execution_count": 18,
      "id": "d87f8b66-cd79-4fd9-a0eb-a4d229912268",
      "metadata": {
        "id": "d87f8b66-cd79-4fd9-a0eb-a4d229912268"
      },
      "outputs": [],
      "source": [
        "df_train = df[df[\"GW\"] <= LAST_TRAIN_GW]\n",
        "df_valid = df\n",
        "\n",
        "# gk, def, mid, fwd\n",
        "df_gk_train = df[(df[\"FPL position\"] == \"GK\") & (df[\"GW\"] <= LAST_TRAIN_GW)]\n",
        "df_gk_valid = df[(df[\"FPL position\"] == \"GK\") ]\n",
        "\n",
        "df_def_train = df[(df[\"FPL position\"] == \"DEF\") & (df[\"GW\"] <= LAST_TRAIN_GW)]\n",
        "df_def_valid = df[(df[\"FPL position\"] == \"DEF\") ]\n",
        "\n",
        "df_mid_train = df[(df[\"FPL position\"] == \"MID\") & (df[\"GW\"] <= LAST_TRAIN_GW)]\n",
        "df_mid_valid = df[(df[\"FPL position\"] == \"MID\") ]\n",
        "\n",
        "df_fwd_train = df[(df[\"FPL position\"] == \"FWD\") & (df[\"GW\"] <= LAST_TRAIN_GW)]\n",
        "df_fwd_valid = df[(df[\"FPL position\"] == \"FWD\")]"
      ]
    },
    {
      "cell_type": "code",
      "execution_count": 19,
      "id": "75b6dda5-b74e-4ca8-a5e9-ac338cea6f20",
      "metadata": {
        "id": "75b6dda5-b74e-4ca8-a5e9-ac338cea6f20"
      },
      "outputs": [],
      "source": [
        "def init_index_table(df):\n",
        "    names = df[\"Name\"].unique()\n",
        "    result_dict = {}\n",
        "    \n",
        "    current_index = 0\n",
        "    player_index = 0\n",
        "    \n",
        "    for name in names:\n",
        "        sample_index = 0\n",
        "        samples_for_names = df[df[\"Name\"] == name].shape[0] - FIS\n",
        "        for i in range(samples_for_names):\n",
        "            result_dict[current_index] = [player_index, sample_index]\n",
        "            current_index += 1\n",
        "            sample_index += 1\n",
        "        player_index += 1\n",
        "    \n",
        "    return result_dict"
      ]
    },
    {
      "cell_type": "code",
      "execution_count": 20,
      "id": "15fc117a-0b9a-442e-a653-530a52486ff0",
      "metadata": {
        "id": "15fc117a-0b9a-442e-a653-530a52486ff0"
      },
      "outputs": [],
      "source": [
        "class PandasDataset(Dataset):\n",
        "    def __init__(self, dataframe, starting_gw, ending_gw):\n",
        "        self.dataframe = dataframe\n",
        "        self.names = dataframe[\"Name\"].unique()\n",
        "        \n",
        "        self.starting_gw = starting_gw\n",
        "        self.ending_gw = ending_gw\n",
        "        self.cut_unused_rows()\n",
        "        self.length = self.calculate_length()\n",
        "\n",
        "        self.index_table = init_index_table(self.dataframe)\n",
        "        self.transform = torchvision.transforms.Compose([torchvision.transforms.ToTensor()])\n",
        "\n",
        "    def cut_unused_rows(self):\n",
        "        for name in self.names:\n",
        "            df_name = self.dataframe[self.dataframe[\"Name\"] == name]\n",
        "            name_length = df_name.shape[0]\n",
        "            # print(\"NAME LENGTH\", name, name_length, FIS + 1)\n",
        "            if name_length >= FIS + 1:\n",
        "                try:\n",
        "                    first_index = df_name.index.tolist()[0]\n",
        "                except IndexError:\n",
        "                    first_index = None\n",
        "\n",
        "                try:\n",
        "                    last_index = max(FIS, df_name.index[df_name['GW'] < self.starting_gw].tolist()[-1]) - FIS\n",
        "                except:\n",
        "                    last_index = None\n",
        "\n",
        "                # print(\"FIRST LAST INDEX\", name, first_index, last_index)\n",
        "                if first_index != None and last_index != None:\n",
        "                    # print(\"WYCIETO\", name, range(first_index, last_index + 1))\n",
        "                    self.dataframe = self.dataframe.drop(range(first_index, last_index + 1))\n",
        "            else:\n",
        "                # print(\"DROPPING\", name, [df_name.index.tolist()])\n",
        "                self.dataframe = self.dataframe.drop([df_name.index.tolist()])\n",
        "                \n",
        "\n",
        "            # print(\"CUTTING\", name, first_index, last_index, name_length)\n",
        "            # print(\"CUT2\", df_name.index[df_name['GW'] < self.starting_gw].tolist())\n",
        "            # print(self.dataframe.shape)\n",
        "            # print(\"\")\n",
        "\n",
        "    def calculate_length(self):\n",
        "        length = 0\n",
        "        for name in self.names:\n",
        "            # print(name, (self.dataframe[self.dataframe[\"Name\"] == name].shape[0] - FIS))\n",
        "            length += (self.dataframe[self.dataframe[\"Name\"] == name].shape[0] - FIS)\n",
        "        return length\n",
        "\n",
        "    def __len__(self):\n",
        "        return self.length\n",
        "\n",
        "    def __getitem__(self, idx):\n",
        "        # print(idx)\n",
        "        player_id, sample_id = self.index_table[idx]\n",
        "        name = self.names[player_id]\n",
        "        # print(name)\n",
        "        # print(\"GETITEM DF\", name, player_id, sample_id)\n",
        "\n",
        "        features = self.dataframe[self.dataframe[\"Name\"] == name]\n",
        "        # print(self.dataframe[self.dataframe[\"Name\"] == name])\n",
        "        # print(features[sample_id: (sample_id + 4)])\n",
        "        features = features[sample_id: (sample_id + FIS)].drop(columns=info).values[:, :-1]\n",
        "        # print(features)\n",
        "        # print(features)\n",
        "        # print(type(features))\n",
        "        # print(self.dataframe[self.dataframe[\"Name\"] == name].values[:, -1])\n",
        "        # print(type(self.dataframe[self.dataframe[\"Name\"] == name].values[:, -1]))\n",
        "        # target = self.dataframe[self.dataframe[\"Name\"] == name].values[:, -1]\n",
        "        # target = target.astype(np.float32)\n",
        "        # target = torch.from_numpy(target)\n",
        "        # print(\"GETITEM\", idx, player_id, sample_id, name)\n",
        "        target = np.float32(self.dataframe[self.dataframe[\"Name\"] == name].values[(sample_id + FIS), -1])\n",
        "        # print(name, idx, target, sample_id)\n",
        "        # print(type(target))\n",
        "        return features, target"
      ]
    },
    {
      "cell_type": "code",
      "execution_count": 21,
      "id": "430e5e7d-972d-4eee-9bc0-a6f43ed05e7b",
      "metadata": {
        "id": "430e5e7d-972d-4eee-9bc0-a6f43ed05e7b"
      },
      "outputs": [],
      "source": [
        "dataset_general_train = PandasDataset(df_train, FIRST_TRAIN_GW, LAST_TRAIN_GW)\n",
        "dataset_general_valid = PandasDataset(df_valid, FIRST_VALID_GW, LAST_VALID_GW)\n",
        "\n",
        "dataset_gk_train = PandasDataset(df_gk_train, FIRST_TRAIN_GW, LAST_TRAIN_GW)\n",
        "dataset_gk_valid = PandasDataset(df_gk_valid, FIRST_VALID_GW, LAST_VALID_GW)\n",
        "\n",
        "dataset_def_train = PandasDataset(df_def_train, FIRST_TRAIN_GW, LAST_TRAIN_GW)\n",
        "dataset_def_valid = PandasDataset(df_def_valid, FIRST_VALID_GW, LAST_VALID_GW)\n",
        "\n",
        "dataset_mid_train = PandasDataset(df_mid_train, FIRST_TRAIN_GW, LAST_TRAIN_GW)\n",
        "dataset_mid_valid = PandasDataset(df_mid_valid, FIRST_VALID_GW, LAST_VALID_GW)\n",
        "\n",
        "dataset_fwd_train = PandasDataset(df_fwd_train, FIRST_TRAIN_GW, LAST_TRAIN_GW)\n",
        "dataset_fwd_valid = PandasDataset(df_fwd_valid, FIRST_VALID_GW, LAST_VALID_GW)"
      ]
    },
    {
      "cell_type": "code",
      "execution_count": 22,
      "id": "4ce0452d-89c3-4ec0-bfcd-79ae7587e36b",
      "metadata": {
        "colab": {
          "base_uri": "https://localhost:8080/"
        },
        "id": "4ce0452d-89c3-4ec0-bfcd-79ae7587e36b",
        "outputId": "887d60ec-0122-4293-899e-59ba702c0ecd"
      },
      "outputs": [
        {
          "output_type": "execute_result",
          "data": {
            "text/plain": [
              "(280, 25)"
            ]
          },
          "metadata": {},
          "execution_count": 22
        }
      ],
      "source": [
        "dataset_gk_train.__len__(), dataset_gk_valid.__len__()"
      ]
    },
    {
      "cell_type": "code",
      "execution_count": 23,
      "id": "dad3baac-8574-4dd0-af3c-f2d544295f67",
      "metadata": {
        "colab": {
          "base_uri": "https://localhost:8080/"
        },
        "id": "dad3baac-8574-4dd0-af3c-f2d544295f67",
        "outputId": "a3c9e850-b7c9-419e-a25f-da408fd2ff53"
      },
      "outputs": [
        {
          "output_type": "execute_result",
          "data": {
            "text/plain": [
              "(1035, 100)"
            ]
          },
          "metadata": {},
          "execution_count": 23
        }
      ],
      "source": [
        "dataset_def_train.__len__(), dataset_def_valid.__len__()"
      ]
    },
    {
      "cell_type": "code",
      "execution_count": 24,
      "id": "65a42e4a-3f39-43bd-843b-d0225a124342",
      "metadata": {
        "colab": {
          "base_uri": "https://localhost:8080/"
        },
        "id": "65a42e4a-3f39-43bd-843b-d0225a124342",
        "outputId": "9082b1f4-f4bc-424f-b4af-e4cc166e1abb"
      },
      "outputs": [
        {
          "output_type": "execute_result",
          "data": {
            "text/plain": [
              "(1346, 123)"
            ]
          },
          "metadata": {},
          "execution_count": 24
        }
      ],
      "source": [
        "dataset_mid_train.__len__(), dataset_mid_valid.__len__()"
      ]
    },
    {
      "cell_type": "code",
      "execution_count": 25,
      "id": "89def15b-7eec-492a-a773-e87ebe22ea18",
      "metadata": {
        "colab": {
          "base_uri": "https://localhost:8080/"
        },
        "id": "89def15b-7eec-492a-a773-e87ebe22ea18",
        "outputId": "0862f6ee-7f21-4273-9e25-f8f4f9e2a67c"
      },
      "outputs": [
        {
          "output_type": "execute_result",
          "data": {
            "text/plain": [
              "(326, 30)"
            ]
          },
          "metadata": {},
          "execution_count": 25
        }
      ],
      "source": [
        "dataset_fwd_train.__len__(), dataset_fwd_valid.__len__()"
      ]
    },
    {
      "cell_type": "code",
      "execution_count": 26,
      "id": "fd3a4639-a6c7-40bf-ad2f-72569dfeac42",
      "metadata": {
        "id": "fd3a4639-a6c7-40bf-ad2f-72569dfeac42"
      },
      "outputs": [],
      "source": [
        "batch_size = 16"
      ]
    },
    {
      "cell_type": "code",
      "execution_count": 27,
      "id": "3ef8a258-452d-4ce9-b44f-3370fa58f750",
      "metadata": {
        "id": "3ef8a258-452d-4ce9-b44f-3370fa58f750"
      },
      "outputs": [],
      "source": [
        "dataloader_general_train = DataLoader(dataset_general_train, batch_size=batch_size, shuffle=False)\n",
        "dataloader_general_valid = DataLoader(dataset_general_valid, batch_size=batch_size, shuffle=False)\n",
        "\n",
        "dataloader_gk_train = DataLoader(dataset_gk_train, batch_size=batch_size, shuffle=False)\n",
        "dataloader_def_train = DataLoader(dataset_def_train, batch_size=batch_size, shuffle=False)\n",
        "dataloader_mid_train = DataLoader(dataset_mid_train, batch_size=batch_size, shuffle=False)\n",
        "dataloader_fwd_train = DataLoader(dataset_fwd_train, batch_size=batch_size, shuffle=False)\n",
        "\n",
        "dataloader_gk_valid = DataLoader(dataset_gk_valid, batch_size=batch_size, shuffle=False)\n",
        "dataloader_def_valid = DataLoader(dataset_def_valid, batch_size=batch_size, shuffle=False)\n",
        "dataloader_mid_valid = DataLoader(dataset_mid_valid, batch_size=batch_size, shuffle=False)\n",
        "dataloader_fwd_valid = DataLoader(dataset_fwd_valid, batch_size=batch_size, shuffle=False)"
      ]
    },
    {
      "cell_type": "code",
      "execution_count": 28,
      "id": "231626de-b520-4d08-a1c8-eeca06133061",
      "metadata": {
        "colab": {
          "base_uri": "https://localhost:8080/"
        },
        "id": "231626de-b520-4d08-a1c8-eeca06133061",
        "outputId": "4727de64-303d-4dab-b560-fcc0ad012cfc"
      },
      "outputs": [
        {
          "output_type": "execute_result",
          "data": {
            "text/plain": [
              "(187, 18, 65, 85, 21)"
            ]
          },
          "metadata": {},
          "execution_count": 28
        }
      ],
      "source": [
        "len(dataloader_general_train), len(dataloader_gk_train), len(dataloader_def_train), len(dataloader_mid_train), len(dataloader_fwd_train)"
      ]
    },
    {
      "cell_type": "code",
      "source": [
        "len(dataloader_general_valid), len(dataloader_gk_valid), len(dataloader_def_valid), len(dataloader_mid_valid), len(dataloader_fwd_valid)"
      ],
      "metadata": {
        "colab": {
          "base_uri": "https://localhost:8080/"
        },
        "id": "RbftCpHBBhi6",
        "outputId": "3cac693b-8c17-4526-f66d-1fba4adb27af"
      },
      "id": "RbftCpHBBhi6",
      "execution_count": 29,
      "outputs": [
        {
          "output_type": "execute_result",
          "data": {
            "text/plain": [
              "(18, 2, 7, 8, 2)"
            ]
          },
          "metadata": {},
          "execution_count": 29
        }
      ]
    },
    {
      "cell_type": "markdown",
      "id": "44290e57-5279-400f-bd5d-8bcbf0db2f99",
      "metadata": {
        "id": "44290e57-5279-400f-bd5d-8bcbf0db2f99"
      },
      "source": [
        "# LSTM Model"
      ]
    },
    {
      "cell_type": "code",
      "execution_count": 30,
      "id": "95c48496-4a3d-4dd6-a789-abb04d921dc6",
      "metadata": {
        "id": "95c48496-4a3d-4dd6-a789-abb04d921dc6"
      },
      "outputs": [],
      "source": [
        "class LSTMNetwork(nn.Module):\n",
        "    def __init__(self, input_size, hidden_size, num_layers, output_size, dropout=0.2):\n",
        "        super(LSTMNetwork, self).__init__()\n",
        "        self.lstm = nn.LSTM(input_size, hidden_size, num_layers, dropout=dropout)\n",
        "        self.fc = nn.Linear(hidden_size, output_size)\n",
        "\n",
        "    def forward(self, x):\n",
        "        x = torch.transpose(x, 0, 1)\n",
        "        # x = x.view(-1, batch_size)\n",
        "        # x = torch.transpose(x, 0, 1)\n",
        "        # print(\"FOR\", x.shape)\n",
        "        # print(x.shape)\n",
        "        # print(x.shape)\n",
        "        out, _ = self.lstm(x)\n",
        "        # print(out.shape)\n",
        "        out = self.fc(out[-1])\n",
        "        return out"
      ]
    },
    {
      "cell_type": "markdown",
      "id": "ca697492-5632-47ca-b7ef-7ef7f83f483e",
      "metadata": {
        "id": "ca697492-5632-47ca-b7ef-7ef7f83f483e"
      },
      "source": [
        "# Training loops"
      ]
    },
    {
      "cell_type": "code",
      "execution_count": 31,
      "id": "3e5d6365-866b-497d-9f3d-fff942c03266",
      "metadata": {
        "id": "3e5d6365-866b-497d-9f3d-fff942c03266"
      },
      "outputs": [],
      "source": [
        "criterion = nn.MSELoss()"
      ]
    },
    {
      "cell_type": "code",
      "execution_count": 32,
      "id": "3fc8e104-6c5d-4e09-a238-73e06346286b",
      "metadata": {
        "id": "3fc8e104-6c5d-4e09-a238-73e06346286b"
      },
      "outputs": [],
      "source": [
        "def train_net(net, num_epochs, dataloader_train, dataloader_valid, optimizer):\n",
        "    if len(dataloader_train) <= 0:\n",
        "        print(\"Dataloader has no elements\")\n",
        "        return []\n",
        "\n",
        "    best_model = None\n",
        "    best_val_loss = None\n",
        "\n",
        "    loss_history_train = []\n",
        "    loss_history_valid = []\n",
        "\n",
        "    for epoch in range(num_epochs):\n",
        "        running_loss_train = 0\n",
        "        running_loss_valid = 0\n",
        "\n",
        "        # training\n",
        "        for i, (inputs, targets) in enumerate(dataloader_train):\n",
        "            inputs = torch.flatten(inputs, 1, 2)\n",
        "            inputs = inputs.unsqueeze(2).to(device)\n",
        "            targets = targets.to(device)\n",
        "            # print(\"INPUTS\", inputs.shape)\n",
        "            # print(\"TARGETS\", targets.shape)\n",
        "            # print(targets)\n",
        "            optimizer.zero_grad()\n",
        "            outputs = net(inputs).flatten().to(device)\n",
        "            # print(\"OUTPUTS\", outputs.shape)\n",
        "            loss = criterion(outputs, targets)\n",
        "            running_loss_train += loss.item()\n",
        "            loss.backward()\n",
        "            optimizer.step()\n",
        "\n",
        "        with torch.no_grad():\n",
        "          # valid\n",
        "          for i, (inputs, targets) in enumerate(dataloader_valid):\n",
        "              inputs = torch.flatten(inputs, 1, 2)\n",
        "              inputs = inputs.unsqueeze(2).to(device)\n",
        "              targets = targets.to(device)\n",
        "              # print(\"INPUTS\", inputs.shape)\n",
        "              # print(\"TARGETS\", targets.shape)\n",
        "              # print(targets)\n",
        "              optimizer.zero_grad()\n",
        "              outputs = net(inputs).flatten().to(device)\n",
        "              # print(\"OUTPUTS\", outputs.shape)\n",
        "              loss = criterion(outputs, targets)\n",
        "              running_loss_valid += loss.item()\n",
        "\n",
        "        epoch_valid_loss = running_loss_valid / len(dataloader_valid)\n",
        "\n",
        "        loss_history_train.append(running_loss_train / len(dataloader_train))\n",
        "        loss_history_valid.append(epoch_valid_loss)\n",
        "\n",
        "        if not best_model or epoch_valid_loss < best_val_loss:\n",
        "            best_model = net\n",
        "            best_val_loss = epoch_valid_loss\n",
        "\n",
        "\n",
        "        if epoch % 5 == 0:\n",
        "            print(f'Epoch {epoch} Train: {running_loss_train / len(dataloader_train)} Valid: {running_loss_valid / len(dataloader_valid)}')\n",
        "    \n",
        "    return loss_history_train, loss_history_valid, best_model"
      ]
    },
    {
      "cell_type": "code",
      "execution_count": 33,
      "id": "c29562d5-abfe-4028-b09a-78d9fbdc5c64",
      "metadata": {
        "id": "c29562d5-abfe-4028-b09a-78d9fbdc5c64"
      },
      "outputs": [],
      "source": [
        "def plot_loss_history(loss_history_train, loss_history_valid):\n",
        "    plt.plot(loss_history_train, color='blue', label='Training Loss')\n",
        "    plt.plot(loss_history_valid, color='orange', label='Validation Loss')\n",
        "    plt.xlabel('Epoch')\n",
        "    plt.ylabel('Loss')\n",
        "    plt.legend()\n",
        "    plt.show()"
      ]
    },
    {
      "cell_type": "markdown",
      "id": "e6a2f684-5906-4cf1-8cd4-6f342fb3daf5",
      "metadata": {
        "id": "e6a2f684-5906-4cf1-8cd4-6f342fb3daf5"
      },
      "source": [
        "## Training loop - general net"
      ]
    },
    {
      "cell_type": "code",
      "execution_count": 34,
      "id": "8d1ac896-0465-4422-b291-a13f32f3d3b5",
      "metadata": {
        "id": "8d1ac896-0465-4422-b291-a13f32f3d3b5"
      },
      "outputs": [],
      "source": [
        "net = LSTMNetwork(1, 20, 2, 1, dropout=0.4).to(device)\n",
        "if not train_general:\n",
        "    net.load_state_dict(torch.load('models/best/best_lstm_general.pt'))\n",
        "    best_model_general = net"
      ]
    },
    {
      "cell_type": "code",
      "source": [
        "%%time\n",
        "if train_general:\n",
        "    optimizer = optim.Adam(net.parameters(), lr=0.005)\n",
        "    loss_history_train, loss_history_valid, best_model_general = train_net(net, 10, dataloader_general_train, dataloader_general_valid, optimizer)"
      ],
      "metadata": {
        "colab": {
          "base_uri": "https://localhost:8080/"
        },
        "id": "3pjPCNF93P8i",
        "outputId": "738aaa47-2b6b-45aa-8e77-5f3fe6535c92"
      },
      "id": "3pjPCNF93P8i",
      "execution_count": 35,
      "outputs": [
        {
          "output_type": "stream",
          "name": "stdout",
          "text": [
            "Epoch 0 Train: 9.059177205524342 Valid: 8.710018104977078\n",
            "Epoch 5 Train: 8.82690004677696 Valid: 8.724292172325981\n",
            "CPU times: user 1min 8s, sys: 867 ms, total: 1min 9s\n",
            "Wall time: 1min 10s\n"
          ]
        }
      ]
    },
    {
      "cell_type": "code",
      "execution_count": 36,
      "id": "ac88d75b-3cb0-4747-9efe-c498dd2efdd3",
      "metadata": {
        "colab": {
          "base_uri": "https://localhost:8080/",
          "height": 279
        },
        "id": "ac88d75b-3cb0-4747-9efe-c498dd2efdd3",
        "outputId": "53eff8f5-586e-4119-b314-7ef5f1d0f2c1"
      },
      "outputs": [
        {
          "output_type": "display_data",
          "data": {
            "text/plain": [
              "<Figure size 432x288 with 1 Axes>"
            ],
            "image/png": "[encoded data removed]"
          },
          "metadata": {
            "needs_background": "light"
          }
        }
      ],
      "source": [
        "if train_general:\n",
        "    plot_loss_history(loss_history_train, loss_history_valid)"
      ]
    },
    {
      "cell_type": "markdown",
      "id": "8e1645fc-dd44-4891-a0db-8686d1ac588a",
      "metadata": {
        "id": "8e1645fc-dd44-4891-a0db-8686d1ac588a"
      },
      "source": [
        "## Training loop - goalkeeper net"
      ]
    },
    {
      "cell_type": "code",
      "source": [
        "net_gk = LSTMNetwork(1, 20, 2, 1, dropout=0.4).to(device)\n",
        "if not train_gk:\n",
        "    net_gk.load_state_dict(torch.load('models/best/best_lstm_gk.pt'))\n",
        "    best_model_gk = net_gk"
      ],
      "metadata": {
        "id": "p_HrS0-WL5oC"
      },
      "id": "p_HrS0-WL5oC",
      "execution_count": 37,
      "outputs": []
    },
    {
      "cell_type": "code",
      "execution_count": 38,
      "id": "85757dc2-113a-4a46-b17f-600293d87a90",
      "metadata": {
        "colab": {
          "base_uri": "https://localhost:8080/"
        },
        "id": "85757dc2-113a-4a46-b17f-600293d87a90",
        "outputId": "3cd366d9-74db-48b8-bc9a-ebfdac76ab09"
      },
      "outputs": [
        {
          "output_type": "stream",
          "name": "stdout",
          "text": [
            "CPU times: user 4 µs, sys: 0 ns, total: 4 µs\n",
            "Wall time: 7.87 µs\n"
          ]
        }
      ],
      "source": [
        "%%time\n",
        "if train_gk:\n",
        "    optimizer_gk = optim.Adam(net_gk.parameters(), lr=0.01)\n",
        "    loss_history_gk_train, loss_history_gk_valid, best_model_gk = train_net(net_gk, 5, dataloader_gk_train, dataloader_gk_valid, optimizer_gk)"
      ]
    },
    {
      "cell_type": "code",
      "execution_count": 39,
      "id": "8ff0d12f-9099-4d9d-9d10-49dd81ec6a1c",
      "metadata": {
        "id": "8ff0d12f-9099-4d9d-9d10-49dd81ec6a1c"
      },
      "outputs": [],
      "source": [
        "if train_gk:\n",
        "    plot_loss_history(loss_history_gk_train, loss_history_gk_valid)"
      ]
    },
    {
      "cell_type": "markdown",
      "id": "a11943ae-8c43-4169-91a8-fd51445ac5b4",
      "metadata": {
        "id": "a11943ae-8c43-4169-91a8-fd51445ac5b4"
      },
      "source": [
        "## Training loop - defender net"
      ]
    },
    {
      "cell_type": "code",
      "source": [
        "net_def = LSTMNetwork(1, 20, 2, 1, dropout=0.4).to(device)\n",
        "if not train_def:\n",
        "    net_def.load_state_dict(torch.load('models/best/best_lstm_def.pt'))\n",
        "    best_model_def = net_def"
      ],
      "metadata": {
        "id": "rcHl1HFoL3uy"
      },
      "id": "rcHl1HFoL3uy",
      "execution_count": 40,
      "outputs": []
    },
    {
      "cell_type": "code",
      "execution_count": 41,
      "id": "19b30491-7cf8-4572-abe0-388cb58de9b8",
      "metadata": {
        "colab": {
          "base_uri": "https://localhost:8080/"
        },
        "id": "19b30491-7cf8-4572-abe0-388cb58de9b8",
        "outputId": "ad6eb507-6a09-43fc-d1cf-249de9f1dfaa"
      },
      "outputs": [
        {
          "output_type": "stream",
          "name": "stdout",
          "text": [
            "CPU times: user 3 µs, sys: 0 ns, total: 3 µs\n",
            "Wall time: 6.91 µs\n"
          ]
        }
      ],
      "source": [
        "%%time\n",
        "if train_def:\n",
        "    optimizer_def = optim.Adam(net_def.parameters(), lr=0.005)\n",
        "    loss_history_def_train, loss_history_def_valid, best_model_def = train_net(net_def, 5, dataloader_def_train, dataloader_def_valid, optimizer_def)"
      ]
    },
    {
      "cell_type": "code",
      "execution_count": 42,
      "id": "a6ebe5b1-712d-46c4-a773-9782a9ae8689",
      "metadata": {
        "id": "a6ebe5b1-712d-46c4-a773-9782a9ae8689"
      },
      "outputs": [],
      "source": [
        "if train_def:    \n",
        "    plot_loss_history(loss_history_def_train, loss_history_def_valid)"
      ]
    },
    {
      "cell_type": "markdown",
      "id": "63c27abd-c720-4dff-bfe4-ad20a3d0a48e",
      "metadata": {
        "id": "63c27abd-c720-4dff-bfe4-ad20a3d0a48e"
      },
      "source": [
        "## Training loop - midfielder net"
      ]
    },
    {
      "cell_type": "code",
      "source": [
        "net_mid = LSTMNetwork(1, 20, 2, 1, dropout=0.4).to(device)\n",
        "if not train_mid:\n",
        "    net_mid.load_state_dict(torch.load('models/best/best_lstm_mid.pt'))\n",
        "    best_model_mid = net_mid"
      ],
      "metadata": {
        "id": "MmN-IwSvL1vO"
      },
      "id": "MmN-IwSvL1vO",
      "execution_count": 43,
      "outputs": []
    },
    {
      "cell_type": "code",
      "execution_count": 44,
      "id": "154a2ea8-d2f8-48c3-86fd-278be6c26475",
      "metadata": {
        "colab": {
          "base_uri": "https://localhost:8080/"
        },
        "id": "154a2ea8-d2f8-48c3-86fd-278be6c26475",
        "outputId": "c1991ff0-fc24-4cb2-db5d-2b26e25cc7bd"
      },
      "outputs": [
        {
          "output_type": "stream",
          "name": "stdout",
          "text": [
            "Epoch 0 Train: 9.103056018492754 Valid: 6.176212966442108\n",
            "Epoch 5 Train: 8.597636469672707 Valid: 5.842436969280243\n",
            "Epoch 10 Train: 8.58915650844574 Valid: 5.832203030586243\n",
            "Epoch 15 Train: 8.57157317610348 Valid: 6.254208981990814\n",
            "Epoch 20 Train: 8.575420672753278 Valid: 5.729956358671188\n",
            "Epoch 25 Train: 8.57832765158485 Valid: 5.726670265197754\n",
            "CPU times: user 1min 16s, sys: 708 ms, total: 1min 16s\n",
            "Wall time: 1min 18s\n"
          ]
        }
      ],
      "source": [
        "%%time\n",
        "if train_mid:\n",
        "    optimizer_mid = optim.Adam(net_mid.parameters(), lr=0.005)\n",
        "    loss_history_mid_train, loss_history_mid_valid, best_model_mid = train_net(net_mid, 30, dataloader_mid_train, dataloader_mid_valid, optimizer_mid)"
      ]
    },
    {
      "cell_type": "code",
      "execution_count": 45,
      "id": "fff0d3ef-bb1d-4d13-a192-3d76f129914f",
      "metadata": {
        "colab": {
          "base_uri": "https://localhost:8080/",
          "height": 279
        },
        "id": "fff0d3ef-bb1d-4d13-a192-3d76f129914f",
        "outputId": "b21a9e17-38e3-405b-dd50-b03b2b46f672"
      },
      "outputs": [
        {
          "output_type": "display_data",
          "data": {
            "text/plain": [
              "<Figure size 432x288 with 1 Axes>"
            ],
            "image/png": "[encoded data removed]"
          },
          "metadata": {
            "needs_background": "light"
          }
        }
      ],
      "source": [
        "if train_mid:\n",
        "    plot_loss_history(loss_history_mid_train, loss_history_mid_valid)"
      ]
    },
    {
      "cell_type": "markdown",
      "id": "01bca3ac-0da4-41eb-a3bb-5c4b14df2cc0",
      "metadata": {
        "id": "01bca3ac-0da4-41eb-a3bb-5c4b14df2cc0"
      },
      "source": [
        "## Training loop - forward net"
      ]
    },
    {
      "cell_type": "code",
      "source": [
        "net_fwd = LSTMNetwork(1, 8, 2, 1, dropout=0.5).to(device)\n",
        "if not train_fwd:\n",
        "    net_fwd.load_state_dict(torch.load('models/best/best_lstm_fwd.pt'))\n",
        "    best_model_fwd = net_fwd"
      ],
      "metadata": {
        "id": "NTwS6zsfLxQ2"
      },
      "id": "NTwS6zsfLxQ2",
      "execution_count": 46,
      "outputs": []
    },
    {
      "cell_type": "code",
      "execution_count": 47,
      "id": "2bcb7afb-f3f1-4a81-bbea-6da2b512967d",
      "metadata": {
        "colab": {
          "base_uri": "https://localhost:8080/"
        },
        "id": "2bcb7afb-f3f1-4a81-bbea-6da2b512967d",
        "outputId": "e483d28e-5ab2-4033-f553-1e9d960b878b"
      },
      "outputs": [
        {
          "output_type": "stream",
          "name": "stdout",
          "text": [
            "CPU times: user 5 µs, sys: 0 ns, total: 5 µs\n",
            "Wall time: 9.06 µs\n"
          ]
        }
      ],
      "source": [
        "%%time\n",
        "if train_fwd:\n",
        "    optimizer_fwd = optim.Adam(net_fwd.parameters(), lr=0.0001)\n",
        "    loss_history_fwd_train, loss_history_fwd_valid, best_model_fwd = train_net(net_fwd, 1200, dataloader_fwd_train, dataloader_fwd_valid, optimizer_fwd)"
      ]
    },
    {
      "cell_type": "code",
      "execution_count": 48,
      "id": "b4915930-85c2-475e-8af8-820f1d32f5c1",
      "metadata": {
        "id": "b4915930-85c2-475e-8af8-820f1d32f5c1"
      },
      "outputs": [],
      "source": [
        "if train_fwd:\n",
        "    plot_loss_history(loss_history_fwd_train, loss_history_fwd_valid)"
      ]
    },
    {
      "cell_type": "markdown",
      "source": [
        "# Saving models to files"
      ],
      "metadata": {
        "id": "aEg01NBwVZu8"
      },
      "id": "aEg01NBwVZu8"
    },
    {
      "cell_type": "code",
      "source": [
        "# general model\n",
        "torch.save(net.state_dict(), 'models/regular/lstm_general.pt')\n",
        "torch.save(best_model_general.state_dict(), 'models/best/best_lstm_general.pt')\n",
        "\n",
        "# positional models\n",
        "if train_gk:\n",
        "    torch.save(net_gk.state_dict(), 'models/regular/lstm_gk.pt')\n",
        "    torch.save(best_model_gk.state_dict(), 'models/best/best_lstm_gk.pt')\n",
        "\n",
        "if train_def:\n",
        "    torch.save(net_def.state_dict(), 'models/regular/lstm_def.pt')\n",
        "    torch.save(best_model_def.state_dict(), 'models/best/best_lstm_def.pt')\n",
        "\n",
        "if train_mid:\n",
        "    torch.save(net_mid.state_dict(), 'models/regular/lstm_mid.pt')\n",
        "    torch.save(best_model_mid.state_dict(), 'models/best/best_lstm_mid.pt')\n",
        "\n",
        "if train_fwd:\n",
        "    torch.save(net_fwd.state_dict(), 'models/regular/lstm_fwd.pt')\n",
        "    torch.save(best_model_fwd.state_dict(), 'models/best/best_lstm_fwd.pt')"
      ],
      "metadata": {
        "id": "qHSzIWHFVbX3"
      },
      "id": "qHSzIWHFVbX3",
      "execution_count": 49,
      "outputs": []
    },
    {
      "cell_type": "markdown",
      "id": "222c6cfd-5148-4793-a9f7-6dfa76115a68",
      "metadata": {
        "id": "222c6cfd-5148-4793-a9f7-6dfa76115a68"
      },
      "source": [
        "# Next GW predictions - general model"
      ]
    },
    {
      "cell_type": "code",
      "execution_count": 50,
      "id": "3c0aef7e-f7d8-4337-8cd8-f88afab90872",
      "metadata": {
        "id": "3c0aef7e-f7d8-4337-8cd8-f88afab90872"
      },
      "outputs": [],
      "source": [
        "def generate_predictions(dataloader_pos, dataset_pos, net_pos, df_original, first_gw):\n",
        "    index = 0\n",
        "    predictions_pos = []\n",
        "    for inputs, target in dataloader_pos:\n",
        "        inputs = torch.flatten(inputs, 1, 2)\n",
        "        inputs = inputs.unsqueeze(2).to(device)\n",
        "\n",
        "        # print(\"Inputs\", inputs)\n",
        "        # print(\"Target\", target)\n",
        "        # print(\"INPUTS\", inputs)\n",
        "        # print(inputs)\n",
        "        outputs = net_pos(inputs).to(device)\n",
        "        # print(\"OUTPUTS\", outputs)\n",
        "        for output in outputs:\n",
        "            player_id, sample_id = dataset_pos.index_table[index]\n",
        "            name = dataset_pos.names[player_id]\n",
        "            points = round(output.item(), 2)\n",
        "            # print(\"DFORW NEXT\", player_id, sample_id, name, points)\n",
        "            df_row = df_original[(df_original[\"Name\"] == name) & (df_original[\"GW\"] >= first_gw)].iloc[sample_id]\n",
        "            # print(\"DFROW\", df_row)\n",
        "            df_row[\"Points\"] = points\n",
        "            df_gw = df_row[\"GW\"]\n",
        "            df_opp = df_row[\"Opponent\"]\n",
        "\n",
        "            # print(\"GEN PRED\", player_id, sample_id, name, points, df_gw, df_opp)\n",
        "            \n",
        "            gw = sample_id + FIS + 1 # wrong\n",
        "            predictions_pos.append(df_row)\n",
        "            # df.loc[(df[\"Name\"] == name) & (df[\"GW\"] == gw), \"LSTM\"] = points\n",
        "            index += 1\n",
        "    \n",
        "    output_df = pd.DataFrame(predictions_pos)\n",
        "    output_df = output_df.loc[:, ~output_df.columns.str.contains('^Unnamed')]\n",
        "    return output_df"
      ]
    },
    {
      "cell_type": "code",
      "source": [
        "prediction_columns = [\"Name\", \"GW\", \"Opponent\", \"Was Home\", \"Total Points\", \"Points\"]"
      ],
      "metadata": {
        "id": "4oNphdyqzFsE"
      },
      "id": "4oNphdyqzFsE",
      "execution_count": 51,
      "outputs": []
    },
    {
      "cell_type": "code",
      "source": [
        "predictions = generate_predictions(dataloader_general_valid, dataset_general_valid, net, df_original, FIRST_VALID_GW)"
      ],
      "metadata": {
        "id": "ZOJBQIAXMqIV"
      },
      "id": "ZOJBQIAXMqIV",
      "execution_count": 52,
      "outputs": []
    },
    {
      "cell_type": "code",
      "source": [
        "# dataset_general_valid.__getitem__(279)"
      ],
      "metadata": {
        "id": "Nb5LI03pbVe1"
      },
      "id": "Nb5LI03pbVe1",
      "execution_count": 53,
      "outputs": []
    },
    {
      "cell_type": "code",
      "source": [
        "predictions.sort_values(by=[\"Points\"], ascending = False).head(20)[prediction_columns]"
      ],
      "metadata": {
        "colab": {
          "base_uri": "https://localhost:8080/",
          "height": 677
        },
        "id": "i00d2_cSHh5u",
        "outputId": "e7b84c5b-5172-4028-8e7a-b56559e1b108"
      },
      "id": "i00d2_cSHh5u",
      "execution_count": 54,
      "outputs": [
        {
          "output_type": "execute_result",
          "data": {
            "text/plain": [
              "                     Name  GW        Opponent  Was Home  Total Points  Points\n",
              "3663    Kalidou-Koulibaly  21       Liverpool       0.0           0.0    2.83\n",
              "6189            Luke-Shaw  21         Arsenal       0.0           0.0    2.83\n",
              "1776      Ibrahima-Diallo  21     Aston Villa       1.0           2.0    2.83\n",
              "1949      Cheick-Doucoure  21   Newcastle Utd       1.0           2.0    2.83\n",
              "7050            Joel-Ward  21   Newcastle Utd       1.0           6.0    2.83\n",
              "3160          Will-Hughes  21   Newcastle Utd       1.0           0.0    2.83\n",
              "18       Brenden-Aaronson  21       Brentford       1.0           3.0    2.82\n",
              "2066      Odsonne-Edouard  21   Newcastle Utd       1.0           2.0    2.82\n",
              "5252      Andreas-Pereira  21       Tottenham       1.0           2.0    2.82\n",
              "2311      Bruno-Fernandes  21         Arsenal       0.0           5.0    2.82\n",
              "2270              Fabinho  21         Chelsea       1.0           1.0    2.82\n",
              "5537             Tim-Ream  21       Tottenham       1.0           2.0    2.82\n",
              "2185    Christian-Eriksen  21         Arsenal       0.0           2.0    2.82\n",
              "5558        Harrison-Reed  21       Tottenham       1.0           2.0    2.82\n",
              "2148  Mohamed-Elyounoussi  21     Aston Villa       1.0           1.0    2.82\n",
              "5598          Declan-Rice  21         Everton       1.0           3.0    2.82\n",
              "2010           Lewis-Dunk  21  Leicester City       0.0           1.0    2.82\n",
              "2047              Ederson  21          Wolves       1.0           6.0    2.82\n",
              "5046        Michael-Olise  21   Newcastle Utd       1.0           0.0    2.82\n",
              "5704            Marc-Roca  21       Brentford       1.0           3.0    2.82"
            ],
            "text/html": [
              "\n",
              "  <div id=\"df-d71a9f46-ee62-45bc-8da4-e88eac4983c0\">\n",
              "    <div class=\"colab-df-container\">\n",
              "      <div>\n",
              "<style scoped>\n",
              "    .dataframe tbody tr th:only-of-type {\n",
              "        vertical-align: middle;\n",
              "    }\n",
              "\n",
              "    .dataframe tbody tr th {\n",
              "        vertical-align: top;\n",
              "    }\n",
              "\n",
              "    .dataframe thead th {\n",
              "        text-align: right;\n",
              "    }\n",
              "</style>\n",
              "<table border=\"1\" class=\"dataframe\">\n",
              "  <thead>\n",
              "    <tr style=\"text-align: right;\">\n",
              "      <th></th>\n",
              "      <th>Name</th>\n",
              "      <th>GW</th>\n",
              "      <th>Opponent</th>\n",
              "      <th>Was Home</th>\n",
              "      <th>Total Points</th>\n",
              "      <th>Points</th>\n",
              "    </tr>\n",
              "  </thead>\n",
              "  <tbody>\n",
              "    <tr>\n",
              "      <th>3663</th>\n",
              "      <td>Kalidou-Koulibaly</td>\n",
              "      <td>21</td>\n",
              "      <td>Liverpool</td>\n",
              "      <td>0.0</td>\n",
              "      <td>0.0</td>\n",
              "      <td>2.83</td>\n",
              "    </tr>\n",
              "    <tr>\n",
              "      <th>6189</th>\n",
              "      <td>Luke-Shaw</td>\n",
              "      <td>21</td>\n",
              "      <td>Arsenal</td>\n",
              "      <td>0.0</td>\n",
              "      <td>0.0</td>\n",
              "      <td>2.83</td>\n",
              "    </tr>\n",
              "    <tr>\n",
              "      <th>1776</th>\n",
              "      <td>Ibrahima-Diallo</td>\n",
              "      <td>21</td>\n",
              "      <td>Aston Villa</td>\n",
              "      <td>1.0</td>\n",
              "      <td>2.0</td>\n",
              "      <td>2.83</td>\n",
              "    </tr>\n",
              "    <tr>\n",
              "      <th>1949</th>\n",
              "      <td>Cheick-Doucoure</td>\n",
              "      <td>21</td>\n",
              "      <td>Newcastle Utd</td>\n",
              "      <td>1.0</td>\n",
              "      <td>2.0</td>\n",
              "      <td>2.83</td>\n",
              "    </tr>\n",
              "    <tr>\n",
              "      <th>7050</th>\n",
              "      <td>Joel-Ward</td>\n",
              "      <td>21</td>\n",
              "      <td>Newcastle Utd</td>\n",
              "      <td>1.0</td>\n",
              "      <td>6.0</td>\n",
              "      <td>2.83</td>\n",
              "    </tr>\n",
              "    <tr>\n",
              "      <th>3160</th>\n",
              "      <td>Will-Hughes</td>\n",
              "      <td>21</td>\n",
              "      <td>Newcastle Utd</td>\n",
              "      <td>1.0</td>\n",
              "      <td>0.0</td>\n",
              "      <td>2.83</td>\n",
              "    </tr>\n",
              "    <tr>\n",
              "      <th>18</th>\n",
              "      <td>Brenden-Aaronson</td>\n",
              "      <td>21</td>\n",
              "      <td>Brentford</td>\n",
              "      <td>1.0</td>\n",
              "      <td>3.0</td>\n",
              "      <td>2.82</td>\n",
              "    </tr>\n",
              "    <tr>\n",
              "      <th>2066</th>\n",
              "      <td>Odsonne-Edouard</td>\n",
              "      <td>21</td>\n",
              "      <td>Newcastle Utd</td>\n",
              "      <td>1.0</td>\n",
              "      <td>2.0</td>\n",
              "      <td>2.82</td>\n",
              "    </tr>\n",
              "    <tr>\n",
              "      <th>5252</th>\n",
              "      <td>Andreas-Pereira</td>\n",
              "      <td>21</td>\n",
              "      <td>Tottenham</td>\n",
              "      <td>1.0</td>\n",
              "      <td>2.0</td>\n",
              "      <td>2.82</td>\n",
              "    </tr>\n",
              "    <tr>\n",
              "      <th>2311</th>\n",
              "      <td>Bruno-Fernandes</td>\n",
              "      <td>21</td>\n",
              "      <td>Arsenal</td>\n",
              "      <td>0.0</td>\n",
              "      <td>5.0</td>\n",
              "      <td>2.82</td>\n",
              "    </tr>\n",
              "    <tr>\n",
              "      <th>2270</th>\n",
              "      <td>Fabinho</td>\n",
              "      <td>21</td>\n",
              "      <td>Chelsea</td>\n",
              "      <td>1.0</td>\n",
              "      <td>1.0</td>\n",
              "      <td>2.82</td>\n",
              "    </tr>\n",
              "    <tr>\n",
              "      <th>5537</th>\n",
              "      <td>Tim-Ream</td>\n",
              "      <td>21</td>\n",
              "      <td>Tottenham</td>\n",
              "      <td>1.0</td>\n",
              "      <td>2.0</td>\n",
              "      <td>2.82</td>\n",
              "    </tr>\n",
              "    <tr>\n",
              "      <th>2185</th>\n",
              "      <td>Christian-Eriksen</td>\n",
              "      <td>21</td>\n",
              "      <td>Arsenal</td>\n",
              "      <td>0.0</td>\n",
              "      <td>2.0</td>\n",
              "      <td>2.82</td>\n",
              "    </tr>\n",
              "    <tr>\n",
              "      <th>5558</th>\n",
              "      <td>Harrison-Reed</td>\n",
              "      <td>21</td>\n",
              "      <td>Tottenham</td>\n",
              "      <td>1.0</td>\n",
              "      <td>2.0</td>\n",
              "      <td>2.82</td>\n",
              "    </tr>\n",
              "    <tr>\n",
              "      <th>2148</th>\n",
              "      <td>Mohamed-Elyounoussi</td>\n",
              "      <td>21</td>\n",
              "      <td>Aston Villa</td>\n",
              "      <td>1.0</td>\n",
              "      <td>1.0</td>\n",
              "      <td>2.82</td>\n",
              "    </tr>\n",
              "    <tr>\n",
              "      <th>5598</th>\n",
              "      <td>Declan-Rice</td>\n",
              "      <td>21</td>\n",
              "      <td>Everton</td>\n",
              "      <td>1.0</td>\n",
              "      <td>3.0</td>\n",
              "      <td>2.82</td>\n",
              "    </tr>\n",
              "    <tr>\n",
              "      <th>2010</th>\n",
              "      <td>Lewis-Dunk</td>\n",
              "      <td>21</td>\n",
              "      <td>Leicester City</td>\n",
              "      <td>0.0</td>\n",
              "      <td>1.0</td>\n",
              "      <td>2.82</td>\n",
              "    </tr>\n",
              "    <tr>\n",
              "      <th>2047</th>\n",
              "      <td>Ederson</td>\n",
              "      <td>21</td>\n",
              "      <td>Wolves</td>\n",
              "      <td>1.0</td>\n",
              "      <td>6.0</td>\n",
              "      <td>2.82</td>\n",
              "    </tr>\n",
              "    <tr>\n",
              "      <th>5046</th>\n",
              "      <td>Michael-Olise</td>\n",
              "      <td>21</td>\n",
              "      <td>Newcastle Utd</td>\n",
              "      <td>1.0</td>\n",
              "      <td>0.0</td>\n",
              "      <td>2.82</td>\n",
              "    </tr>\n",
              "    <tr>\n",
              "      <th>5704</th>\n",
              "      <td>Marc-Roca</td>\n",
              "      <td>21</td>\n",
              "      <td>Brentford</td>\n",
              "      <td>1.0</td>\n",
              "      <td>3.0</td>\n",
              "      <td>2.82</td>\n",
              "    </tr>\n",
              "  </tbody>\n",
              "</table>\n",
              "</div>\n",
              "      <button class=\"colab-df-convert\" onclick=\"convertToInteractive('df-d71a9f46-ee62-45bc-8da4-e88eac4983c0')\"\n",
              "              title=\"Convert this dataframe to an interactive table.\"\n",
              "              style=\"display:none;\">\n",
              "        \n",
              "  <svg xmlns=\"http://www.w3.org/2000/svg\" height=\"24px\"viewBox=\"0 0 24 24\"\n",
              "       width=\"24px\">\n",
              "    <path d=\"M0 0h24v24H0V0z\" fill=\"none\"/>\n",
              "    <path d=\"M18.56 5.44l.94 2.06.94-2.06 2.06-.94-2.06-.94-.94-2.06-.94 2.06-2.06.94zm-11 1L8.5 8.5l.94-2.06 2.06-.94-2.06-.94L8.5 2.5l-.94 2.06-2.06.94zm10 10l.94 2.06.94-2.06 2.06-.94-2.06-.94-.94-2.06-.94 2.06-2.06.94z\"/><path d=\"M17.41 7.96l-1.37-1.37c-.4-.4-.92-.59-1.43-.59-.52 0-1.04.2-1.43.59L10.3 9.45l-7.72 7.72c-.78.78-.78 2.05 0 2.83L4 21.41c.39.39.9.59 1.41.59.51 0 1.02-.2 1.41-.59l7.78-7.78 2.81-2.81c.8-.78.8-2.07 0-2.86zM5.41 20L4 18.59l7.72-7.72 1.47 1.35L5.41 20z\"/>\n",
              "  </svg>\n",
              "      </button>\n",
              "      \n",
              "  <style>\n",
              "    .colab-df-container {\n",
              "      display:flex;\n",
              "      flex-wrap:wrap;\n",
              "      gap: 12px;\n",
              "    }\n",
              "\n",
              "    .colab-df-convert {\n",
              "      background-color: #E8F0FE;\n",
              "      border: none;\n",
              "      border-radius: 50%;\n",
              "      cursor: pointer;\n",
              "      display: none;\n",
              "      fill: #1967D2;\n",
              "      height: 32px;\n",
              "      padding: 0 0 0 0;\n",
              "      width: 32px;\n",
              "    }\n",
              "\n",
              "    .colab-df-convert:hover {\n",
              "      background-color: #E2EBFA;\n",
              "      box-shadow: 0px 1px 2px rgba(60, 64, 67, 0.3), 0px 1px 3px 1px rgba(60, 64, 67, 0.15);\n",
              "      fill: #174EA6;\n",
              "    }\n",
              "\n",
              "    [theme=dark] .colab-df-convert {\n",
              "      background-color: #3B4455;\n",
              "      fill: #D2E3FC;\n",
              "    }\n",
              "\n",
              "    [theme=dark] .colab-df-convert:hover {\n",
              "      background-color: #434B5C;\n",
              "      box-shadow: 0px 1px 3px 1px rgba(0, 0, 0, 0.15);\n",
              "      filter: drop-shadow(0px 1px 2px rgba(0, 0, 0, 0.3));\n",
              "      fill: #FFFFFF;\n",
              "    }\n",
              "  </style>\n",
              "\n",
              "      <script>\n",
              "        const buttonEl =\n",
              "          document.querySelector('#df-d71a9f46-ee62-45bc-8da4-e88eac4983c0 button.colab-df-convert');\n",
              "        buttonEl.style.display =\n",
              "          google.colab.kernel.accessAllowed ? 'block' : 'none';\n",
              "\n",
              "        async function convertToInteractive(key) {\n",
              "          const element = document.querySelector('#df-d71a9f46-ee62-45bc-8da4-e88eac4983c0');\n",
              "          const dataTable =\n",
              "            await google.colab.kernel.invokeFunction('convertToInteractive',\n",
              "                                                     [key], {});\n",
              "          if (!dataTable) return;\n",
              "\n",
              "          const docLinkHtml = 'Like what you see? Visit the ' +\n",
              "            '<a target=\"_blank\" href=https://colab.research.google.com/notebooks/data_table.ipynb>data table notebook</a>'\n",
              "            + ' to learn more about interactive tables.';\n",
              "          element.innerHTML = '';\n",
              "          dataTable['output_type'] = 'display_data';\n",
              "          await google.colab.output.renderOutput(dataTable, element);\n",
              "          const docLink = document.createElement('div');\n",
              "          docLink.innerHTML = docLinkHtml;\n",
              "          element.appendChild(docLink);\n",
              "        }\n",
              "      </script>\n",
              "    </div>\n",
              "  </div>\n",
              "  "
            ]
          },
          "metadata": {},
          "execution_count": 54
        }
      ]
    },
    {
      "cell_type": "code",
      "execution_count": 55,
      "id": "297cfbd4-0fbe-46b4-9fc4-d79eeaadf70d",
      "metadata": {
        "id": "297cfbd4-0fbe-46b4-9fc4-d79eeaadf70d"
      },
      "outputs": [],
      "source": [
        "# # appending results to original df\n",
        "# for df_gw, df_opp, name, gw, points in predictions:\n",
        "#     df_original.loc[(df_original[\"Name\"] == name) & (df[\"GW\"] == gw), \"LSTM\"] = points"
      ]
    },
    {
      "cell_type": "code",
      "execution_count": 56,
      "id": "ce5882f0-aff6-4ae9-9cba-8b4e816bec07",
      "metadata": {
        "id": "ce5882f0-aff6-4ae9-9cba-8b4e816bec07"
      },
      "outputs": [],
      "source": [
        "# df_original.to_csv(\"data/fpl_fbref_elo_lstm.csv\")"
      ]
    },
    {
      "cell_type": "markdown",
      "id": "07f29a9a-1341-4a6f-a3eb-10685dfb6b0d",
      "metadata": {
        "id": "07f29a9a-1341-4a6f-a3eb-10685dfb6b0d"
      },
      "source": [
        "# Next GW predictions for each position"
      ]
    },
    {
      "cell_type": "markdown",
      "id": "a59960f5-efe3-453f-97de-8973cf73ee70",
      "metadata": {
        "id": "a59960f5-efe3-453f-97de-8973cf73ee70"
      },
      "source": [
        "## Goalkeepers"
      ]
    },
    {
      "cell_type": "code",
      "execution_count": 57,
      "id": "de13487b-b45b-43fb-9c94-9dc91033ddd9",
      "metadata": {
        "id": "de13487b-b45b-43fb-9c94-9dc91033ddd9"
      },
      "outputs": [],
      "source": [
        "predictions_gk = generate_predictions(dataloader_gk_valid, dataset_gk_valid, net_gk, df_gk_original, FIRST_VALID_GW)"
      ]
    },
    {
      "cell_type": "code",
      "execution_count": 58,
      "id": "df13c078-9794-4a74-bafc-4826e352394d",
      "metadata": {
        "id": "df13c078-9794-4a74-bafc-4826e352394d",
        "colab": {
          "base_uri": "https://localhost:8080/",
          "height": 677
        },
        "outputId": "8df89875-a84e-45c8-fc5e-2f492bcc03f3"
      },
      "outputs": [
        {
          "output_type": "execute_result",
          "data": {
            "text/plain": [
              "                   Name  GW         Opponent  Was Home  Total Points  Points\n",
              "5725        Marek-Rodak  21        Tottenham       1.0           0.0    3.13\n",
              "5516         David-Raya  21     Leeds United       0.0          10.0    3.13\n",
              "7030         Danny-Ward  21         Brighton       1.0           1.0    3.12\n",
              "731       Asmir-Begovic  21         West Ham       0.0           0.0    3.12\n",
              "3052    Wayne-Hennessey  21      Bournemouth       0.0           2.0    3.09\n",
              "2047            Ederson  21           Wolves       1.0           6.0    3.09\n",
              "5459     Aaron-Ramsdale  21   Manchester Utd       1.0           1.0    3.09\n",
              "4335  Emiliano-Martinez  21      Southampton       0.0          10.0    3.09\n",
              "2806     Vicente-Guaita  21    Newcastle Utd       1.0          10.0    3.08\n",
              "5863            Jose-Sa  21  Manchester City       0.0           2.0    3.07\n",
              "4000        Hugo-Lloris  21           Fulham       0.0           9.0    3.07\n",
              "4603      Illan-Meslier  21        Brentford       1.0           6.0    3.06\n",
              "5351    Jordan-Pickford  21         West Ham       0.0           1.0    3.05\n",
              "6761       Mark-Travers  21  Nott'ham Forest       1.0           0.0    3.05\n",
              "214             Alisson  21          Chelsea       1.0           9.0    3.05\n",
              "675        Gavin-Bazunu  21      Aston Villa       1.0           3.0    3.04\n",
              "467   Kepa-Arrizabalaga  21        Liverpool       0.0           9.0    3.04\n",
              "391     Alphonse-Areola  21          Everton       1.0           0.0    3.03\n",
              "5066        Robin-Olsen  21      Southampton       0.0           0.0    3.02\n",
              "6011     Robert-Sanchez  21   Leicester City       0.0           1.0    3.02"
            ],
            "text/html": [
              "\n",
              "  <div id=\"df-6f042e6f-85a6-4e2e-894a-332bf6739b7a\">\n",
              "    <div class=\"colab-df-container\">\n",
              "      <div>\n",
              "<style scoped>\n",
              "    .dataframe tbody tr th:only-of-type {\n",
              "        vertical-align: middle;\n",
              "    }\n",
              "\n",
              "    .dataframe tbody tr th {\n",
              "        vertical-align: top;\n",
              "    }\n",
              "\n",
              "    .dataframe thead th {\n",
              "        text-align: right;\n",
              "    }\n",
              "</style>\n",
              "<table border=\"1\" class=\"dataframe\">\n",
              "  <thead>\n",
              "    <tr style=\"text-align: right;\">\n",
              "      <th></th>\n",
              "      <th>Name</th>\n",
              "      <th>GW</th>\n",
              "      <th>Opponent</th>\n",
              "      <th>Was Home</th>\n",
              "      <th>Total Points</th>\n",
              "      <th>Points</th>\n",
              "    </tr>\n",
              "  </thead>\n",
              "  <tbody>\n",
              "    <tr>\n",
              "      <th>5725</th>\n",
              "      <td>Marek-Rodak</td>\n",
              "      <td>21</td>\n",
              "      <td>Tottenham</td>\n",
              "      <td>1.0</td>\n",
              "      <td>0.0</td>\n",
              "      <td>3.13</td>\n",
              "    </tr>\n",
              "    <tr>\n",
              "      <th>5516</th>\n",
              "      <td>David-Raya</td>\n",
              "      <td>21</td>\n",
              "      <td>Leeds United</td>\n",
              "      <td>0.0</td>\n",
              "      <td>10.0</td>\n",
              "      <td>3.13</td>\n",
              "    </tr>\n",
              "    <tr>\n",
              "      <th>7030</th>\n",
              "      <td>Danny-Ward</td>\n",
              "      <td>21</td>\n",
              "      <td>Brighton</td>\n",
              "      <td>1.0</td>\n",
              "      <td>1.0</td>\n",
              "      <td>3.12</td>\n",
              "    </tr>\n",
              "    <tr>\n",
              "      <th>731</th>\n",
              "      <td>Asmir-Begovic</td>\n",
              "      <td>21</td>\n",
              "      <td>West Ham</td>\n",
              "      <td>0.0</td>\n",
              "      <td>0.0</td>\n",
              "      <td>3.12</td>\n",
              "    </tr>\n",
              "    <tr>\n",
              "      <th>3052</th>\n",
              "      <td>Wayne-Hennessey</td>\n",
              "      <td>21</td>\n",
              "      <td>Bournemouth</td>\n",
              "      <td>0.0</td>\n",
              "      <td>2.0</td>\n",
              "      <td>3.09</td>\n",
              "    </tr>\n",
              "    <tr>\n",
              "      <th>2047</th>\n",
              "      <td>Ederson</td>\n",
              "      <td>21</td>\n",
              "      <td>Wolves</td>\n",
              "      <td>1.0</td>\n",
              "      <td>6.0</td>\n",
              "      <td>3.09</td>\n",
              "    </tr>\n",
              "    <tr>\n",
              "      <th>5459</th>\n",
              "      <td>Aaron-Ramsdale</td>\n",
              "      <td>21</td>\n",
              "      <td>Manchester Utd</td>\n",
              "      <td>1.0</td>\n",
              "      <td>1.0</td>\n",
              "      <td>3.09</td>\n",
              "    </tr>\n",
              "    <tr>\n",
              "      <th>4335</th>\n",
              "      <td>Emiliano-Martinez</td>\n",
              "      <td>21</td>\n",
              "      <td>Southampton</td>\n",
              "      <td>0.0</td>\n",
              "      <td>10.0</td>\n",
              "      <td>3.09</td>\n",
              "    </tr>\n",
              "    <tr>\n",
              "      <th>2806</th>\n",
              "      <td>Vicente-Guaita</td>\n",
              "      <td>21</td>\n",
              "      <td>Newcastle Utd</td>\n",
              "      <td>1.0</td>\n",
              "      <td>10.0</td>\n",
              "      <td>3.08</td>\n",
              "    </tr>\n",
              "    <tr>\n",
              "      <th>5863</th>\n",
              "      <td>Jose-Sa</td>\n",
              "      <td>21</td>\n",
              "      <td>Manchester City</td>\n",
              "      <td>0.0</td>\n",
              "      <td>2.0</td>\n",
              "      <td>3.07</td>\n",
              "    </tr>\n",
              "    <tr>\n",
              "      <th>4000</th>\n",
              "      <td>Hugo-Lloris</td>\n",
              "      <td>21</td>\n",
              "      <td>Fulham</td>\n",
              "      <td>0.0</td>\n",
              "      <td>9.0</td>\n",
              "      <td>3.07</td>\n",
              "    </tr>\n",
              "    <tr>\n",
              "      <th>4603</th>\n",
              "      <td>Illan-Meslier</td>\n",
              "      <td>21</td>\n",
              "      <td>Brentford</td>\n",
              "      <td>1.0</td>\n",
              "      <td>6.0</td>\n",
              "      <td>3.06</td>\n",
              "    </tr>\n",
              "    <tr>\n",
              "      <th>5351</th>\n",
              "      <td>Jordan-Pickford</td>\n",
              "      <td>21</td>\n",
              "      <td>West Ham</td>\n",
              "      <td>0.0</td>\n",
              "      <td>1.0</td>\n",
              "      <td>3.05</td>\n",
              "    </tr>\n",
              "    <tr>\n",
              "      <th>6761</th>\n",
              "      <td>Mark-Travers</td>\n",
              "      <td>21</td>\n",
              "      <td>Nott'ham Forest</td>\n",
              "      <td>1.0</td>\n",
              "      <td>0.0</td>\n",
              "      <td>3.05</td>\n",
              "    </tr>\n",
              "    <tr>\n",
              "      <th>214</th>\n",
              "      <td>Alisson</td>\n",
              "      <td>21</td>\n",
              "      <td>Chelsea</td>\n",
              "      <td>1.0</td>\n",
              "      <td>9.0</td>\n",
              "      <td>3.05</td>\n",
              "    </tr>\n",
              "    <tr>\n",
              "      <th>675</th>\n",
              "      <td>Gavin-Bazunu</td>\n",
              "      <td>21</td>\n",
              "      <td>Aston Villa</td>\n",
              "      <td>1.0</td>\n",
              "      <td>3.0</td>\n",
              "      <td>3.04</td>\n",
              "    </tr>\n",
              "    <tr>\n",
              "      <th>467</th>\n",
              "      <td>Kepa-Arrizabalaga</td>\n",
              "      <td>21</td>\n",
              "      <td>Liverpool</td>\n",
              "      <td>0.0</td>\n",
              "      <td>9.0</td>\n",
              "      <td>3.04</td>\n",
              "    </tr>\n",
              "    <tr>\n",
              "      <th>391</th>\n",
              "      <td>Alphonse-Areola</td>\n",
              "      <td>21</td>\n",
              "      <td>Everton</td>\n",
              "      <td>1.0</td>\n",
              "      <td>0.0</td>\n",
              "      <td>3.03</td>\n",
              "    </tr>\n",
              "    <tr>\n",
              "      <th>5066</th>\n",
              "      <td>Robin-Olsen</td>\n",
              "      <td>21</td>\n",
              "      <td>Southampton</td>\n",
              "      <td>0.0</td>\n",
              "      <td>0.0</td>\n",
              "      <td>3.02</td>\n",
              "    </tr>\n",
              "    <tr>\n",
              "      <th>6011</th>\n",
              "      <td>Robert-Sanchez</td>\n",
              "      <td>21</td>\n",
              "      <td>Leicester City</td>\n",
              "      <td>0.0</td>\n",
              "      <td>1.0</td>\n",
              "      <td>3.02</td>\n",
              "    </tr>\n",
              "  </tbody>\n",
              "</table>\n",
              "</div>\n",
              "      <button class=\"colab-df-convert\" onclick=\"convertToInteractive('df-6f042e6f-85a6-4e2e-894a-332bf6739b7a')\"\n",
              "              title=\"Convert this dataframe to an interactive table.\"\n",
              "              style=\"display:none;\">\n",
              "        \n",
              "  <svg xmlns=\"http://www.w3.org/2000/svg\" height=\"24px\"viewBox=\"0 0 24 24\"\n",
              "       width=\"24px\">\n",
              "    <path d=\"M0 0h24v24H0V0z\" fill=\"none\"/>\n",
              "    <path d=\"M18.56 5.44l.94 2.06.94-2.06 2.06-.94-2.06-.94-.94-2.06-.94 2.06-2.06.94zm-11 1L8.5 8.5l.94-2.06 2.06-.94-2.06-.94L8.5 2.5l-.94 2.06-2.06.94zm10 10l.94 2.06.94-2.06 2.06-.94-2.06-.94-.94-2.06-.94 2.06-2.06.94z\"/><path d=\"M17.41 7.96l-1.37-1.37c-.4-.4-.92-.59-1.43-.59-.52 0-1.04.2-1.43.59L10.3 9.45l-7.72 7.72c-.78.78-.78 2.05 0 2.83L4 21.41c.39.39.9.59 1.41.59.51 0 1.02-.2 1.41-.59l7.78-7.78 2.81-2.81c.8-.78.8-2.07 0-2.86zM5.41 20L4 18.59l7.72-7.72 1.47 1.35L5.41 20z\"/>\n",
              "  </svg>\n",
              "      </button>\n",
              "      \n",
              "  <style>\n",
              "    .colab-df-container {\n",
              "      display:flex;\n",
              "      flex-wrap:wrap;\n",
              "      gap: 12px;\n",
              "    }\n",
              "\n",
              "    .colab-df-convert {\n",
              "      background-color: #E8F0FE;\n",
              "      border: none;\n",
              "      border-radius: 50%;\n",
              "      cursor: pointer;\n",
              "      display: none;\n",
              "      fill: #1967D2;\n",
              "      height: 32px;\n",
              "      padding: 0 0 0 0;\n",
              "      width: 32px;\n",
              "    }\n",
              "\n",
              "    .colab-df-convert:hover {\n",
              "      background-color: #E2EBFA;\n",
              "      box-shadow: 0px 1px 2px rgba(60, 64, 67, 0.3), 0px 1px 3px 1px rgba(60, 64, 67, 0.15);\n",
              "      fill: #174EA6;\n",
              "    }\n",
              "\n",
              "    [theme=dark] .colab-df-convert {\n",
              "      background-color: #3B4455;\n",
              "      fill: #D2E3FC;\n",
              "    }\n",
              "\n",
              "    [theme=dark] .colab-df-convert:hover {\n",
              "      background-color: #434B5C;\n",
              "      box-shadow: 0px 1px 3px 1px rgba(0, 0, 0, 0.15);\n",
              "      filter: drop-shadow(0px 1px 2px rgba(0, 0, 0, 0.3));\n",
              "      fill: #FFFFFF;\n",
              "    }\n",
              "  </style>\n",
              "\n",
              "      <script>\n",
              "        const buttonEl =\n",
              "          document.querySelector('#df-6f042e6f-85a6-4e2e-894a-332bf6739b7a button.colab-df-convert');\n",
              "        buttonEl.style.display =\n",
              "          google.colab.kernel.accessAllowed ? 'block' : 'none';\n",
              "\n",
              "        async function convertToInteractive(key) {\n",
              "          const element = document.querySelector('#df-6f042e6f-85a6-4e2e-894a-332bf6739b7a');\n",
              "          const dataTable =\n",
              "            await google.colab.kernel.invokeFunction('convertToInteractive',\n",
              "                                                     [key], {});\n",
              "          if (!dataTable) return;\n",
              "\n",
              "          const docLinkHtml = 'Like what you see? Visit the ' +\n",
              "            '<a target=\"_blank\" href=https://colab.research.google.com/notebooks/data_table.ipynb>data table notebook</a>'\n",
              "            + ' to learn more about interactive tables.';\n",
              "          element.innerHTML = '';\n",
              "          dataTable['output_type'] = 'display_data';\n",
              "          await google.colab.output.renderOutput(dataTable, element);\n",
              "          const docLink = document.createElement('div');\n",
              "          docLink.innerHTML = docLinkHtml;\n",
              "          element.appendChild(docLink);\n",
              "        }\n",
              "      </script>\n",
              "    </div>\n",
              "  </div>\n",
              "  "
            ]
          },
          "metadata": {},
          "execution_count": 58
        }
      ],
      "source": [
        "# results sorted\n",
        "predictions_gk_sorted = predictions_gk.sort_values(by=[\"Points\"], ascending = False).head(20)\n",
        "predictions_gk_sorted[prediction_columns]"
      ]
    },
    {
      "cell_type": "markdown",
      "id": "809d11e1-257e-4fd0-905b-536f95dca4e5",
      "metadata": {
        "id": "809d11e1-257e-4fd0-905b-536f95dca4e5"
      },
      "source": [
        "## Defenders"
      ]
    },
    {
      "cell_type": "code",
      "execution_count": 59,
      "id": "b67e50ec-26a2-44c2-8ef0-f7b841845ed4",
      "metadata": {
        "id": "b67e50ec-26a2-44c2-8ef0-f7b841845ed4"
      },
      "outputs": [],
      "source": [
        "predictions_def = generate_predictions(dataloader_def_valid, dataset_def_valid, net_def, df_def_original, FIRST_VALID_GW)"
      ]
    },
    {
      "cell_type": "code",
      "execution_count": 60,
      "id": "098f83a8-cd7e-4d2b-8583-44f0f43ef1d7",
      "metadata": {
        "id": "098f83a8-cd7e-4d2b-8583-44f0f43ef1d7",
        "colab": {
          "base_uri": "https://localhost:8080/",
          "height": 677
        },
        "outputId": "18039d89-3a5a-46d6-8bad-2285eb8b43c1"
      },
      "outputs": [
        {
          "output_type": "execute_result",
          "data": {
            "text/plain": [
              "                   Name  GW         Opponent  Was Home  Total Points  Points\n",
              "1228    Trevoh-Chalobah  21        Liverpool       0.0           5.0    2.38\n",
              "4850  Vitaliy-Mykolenko  21         West Ham       0.0           0.0    2.38\n",
              "3548       Thilo-Kehrer  21          Everton       1.0           0.0    2.38\n",
              "3381        Ben-Johnson  21          Everton       1.0           1.0    2.37\n",
              "5027     Angelo-Ogbonna  21          Everton       1.0           7.0    2.37\n",
              "6911       Joel-Veltman  21   Leicester City       0.0           1.0    2.37\n",
              "6189          Luke-Shaw  21          Arsenal       0.0           0.0    2.37\n",
              "3747      Tariq-Lamptey  21   Leicester City       0.0           1.0    2.37\n",
              "6873     Raphael-Varane  21          Arsenal       0.0           1.0    2.37\n",
              "6943      Ruben-Vinagre  21         West Ham       0.0           0.0    2.37\n",
              "1528    Aaron-Cresswell  21          Everton       1.0           0.0    2.37\n",
              "7050          Joel-Ward  21    Newcastle Utd       1.0           6.0    2.37\n",
              "5685   Antonee-Robinson  21        Tottenham       1.0           2.0    2.37\n",
              "5953    Mohammed-Salisu  21      Aston Villa       1.0           2.0    2.36\n",
              "6817    Kostas-Tsimikas  21          Chelsea       1.0           0.0    2.36\n",
              "1547     Marc-Cucurella  21        Liverpool       0.0           6.0    2.36\n",
              "6170     Ryan-Sessegnon  21           Fulham       0.0           0.0    2.36\n",
              "2010         Lewis-Dunk  21   Leicester City       0.0           1.0    2.36\n",
              "1430         Steve-Cook  21      Bournemouth       0.0           0.0    2.36\n",
              "6430      Jack-Stephens  21  Nott'ham Forest       1.0           2.0    2.36"
            ],
            "text/html": [
              "\n",
              "  <div id=\"df-09ebd394-7243-496c-b312-9970927aa18e\">\n",
              "    <div class=\"colab-df-container\">\n",
              "      <div>\n",
              "<style scoped>\n",
              "    .dataframe tbody tr th:only-of-type {\n",
              "        vertical-align: middle;\n",
              "    }\n",
              "\n",
              "    .dataframe tbody tr th {\n",
              "        vertical-align: top;\n",
              "    }\n",
              "\n",
              "    .dataframe thead th {\n",
              "        text-align: right;\n",
              "    }\n",
              "</style>\n",
              "<table border=\"1\" class=\"dataframe\">\n",
              "  <thead>\n",
              "    <tr style=\"text-align: right;\">\n",
              "      <th></th>\n",
              "      <th>Name</th>\n",
              "      <th>GW</th>\n",
              "      <th>Opponent</th>\n",
              "      <th>Was Home</th>\n",
              "      <th>Total Points</th>\n",
              "      <th>Points</th>\n",
              "    </tr>\n",
              "  </thead>\n",
              "  <tbody>\n",
              "    <tr>\n",
              "      <th>1228</th>\n",
              "      <td>Trevoh-Chalobah</td>\n",
              "      <td>21</td>\n",
              "      <td>Liverpool</td>\n",
              "      <td>0.0</td>\n",
              "      <td>5.0</td>\n",
              "      <td>2.38</td>\n",
              "    </tr>\n",
              "    <tr>\n",
              "      <th>4850</th>\n",
              "      <td>Vitaliy-Mykolenko</td>\n",
              "      <td>21</td>\n",
              "      <td>West Ham</td>\n",
              "      <td>0.0</td>\n",
              "      <td>0.0</td>\n",
              "      <td>2.38</td>\n",
              "    </tr>\n",
              "    <tr>\n",
              "      <th>3548</th>\n",
              "      <td>Thilo-Kehrer</td>\n",
              "      <td>21</td>\n",
              "      <td>Everton</td>\n",
              "      <td>1.0</td>\n",
              "      <td>0.0</td>\n",
              "      <td>2.38</td>\n",
              "    </tr>\n",
              "    <tr>\n",
              "      <th>3381</th>\n",
              "      <td>Ben-Johnson</td>\n",
              "      <td>21</td>\n",
              "      <td>Everton</td>\n",
              "      <td>1.0</td>\n",
              "      <td>1.0</td>\n",
              "      <td>2.37</td>\n",
              "    </tr>\n",
              "    <tr>\n",
              "      <th>5027</th>\n",
              "      <td>Angelo-Ogbonna</td>\n",
              "      <td>21</td>\n",
              "      <td>Everton</td>\n",
              "      <td>1.0</td>\n",
              "      <td>7.0</td>\n",
              "      <td>2.37</td>\n",
              "    </tr>\n",
              "    <tr>\n",
              "      <th>6911</th>\n",
              "      <td>Joel-Veltman</td>\n",
              "      <td>21</td>\n",
              "      <td>Leicester City</td>\n",
              "      <td>0.0</td>\n",
              "      <td>1.0</td>\n",
              "      <td>2.37</td>\n",
              "    </tr>\n",
              "    <tr>\n",
              "      <th>6189</th>\n",
              "      <td>Luke-Shaw</td>\n",
              "      <td>21</td>\n",
              "      <td>Arsenal</td>\n",
              "      <td>0.0</td>\n",
              "      <td>0.0</td>\n",
              "      <td>2.37</td>\n",
              "    </tr>\n",
              "    <tr>\n",
              "      <th>3747</th>\n",
              "      <td>Tariq-Lamptey</td>\n",
              "      <td>21</td>\n",
              "      <td>Leicester City</td>\n",
              "      <td>0.0</td>\n",
              "      <td>1.0</td>\n",
              "      <td>2.37</td>\n",
              "    </tr>\n",
              "    <tr>\n",
              "      <th>6873</th>\n",
              "      <td>Raphael-Varane</td>\n",
              "      <td>21</td>\n",
              "      <td>Arsenal</td>\n",
              "      <td>0.0</td>\n",
              "      <td>1.0</td>\n",
              "      <td>2.37</td>\n",
              "    </tr>\n",
              "    <tr>\n",
              "      <th>6943</th>\n",
              "      <td>Ruben-Vinagre</td>\n",
              "      <td>21</td>\n",
              "      <td>West Ham</td>\n",
              "      <td>0.0</td>\n",
              "      <td>0.0</td>\n",
              "      <td>2.37</td>\n",
              "    </tr>\n",
              "    <tr>\n",
              "      <th>1528</th>\n",
              "      <td>Aaron-Cresswell</td>\n",
              "      <td>21</td>\n",
              "      <td>Everton</td>\n",
              "      <td>1.0</td>\n",
              "      <td>0.0</td>\n",
              "      <td>2.37</td>\n",
              "    </tr>\n",
              "    <tr>\n",
              "      <th>7050</th>\n",
              "      <td>Joel-Ward</td>\n",
              "      <td>21</td>\n",
              "      <td>Newcastle Utd</td>\n",
              "      <td>1.0</td>\n",
              "      <td>6.0</td>\n",
              "      <td>2.37</td>\n",
              "    </tr>\n",
              "    <tr>\n",
              "      <th>5685</th>\n",
              "      <td>Antonee-Robinson</td>\n",
              "      <td>21</td>\n",
              "      <td>Tottenham</td>\n",
              "      <td>1.0</td>\n",
              "      <td>2.0</td>\n",
              "      <td>2.37</td>\n",
              "    </tr>\n",
              "    <tr>\n",
              "      <th>5953</th>\n",
              "      <td>Mohammed-Salisu</td>\n",
              "      <td>21</td>\n",
              "      <td>Aston Villa</td>\n",
              "      <td>1.0</td>\n",
              "      <td>2.0</td>\n",
              "      <td>2.36</td>\n",
              "    </tr>\n",
              "    <tr>\n",
              "      <th>6817</th>\n",
              "      <td>Kostas-Tsimikas</td>\n",
              "      <td>21</td>\n",
              "      <td>Chelsea</td>\n",
              "      <td>1.0</td>\n",
              "      <td>0.0</td>\n",
              "      <td>2.36</td>\n",
              "    </tr>\n",
              "    <tr>\n",
              "      <th>1547</th>\n",
              "      <td>Marc-Cucurella</td>\n",
              "      <td>21</td>\n",
              "      <td>Liverpool</td>\n",
              "      <td>0.0</td>\n",
              "      <td>6.0</td>\n",
              "      <td>2.36</td>\n",
              "    </tr>\n",
              "    <tr>\n",
              "      <th>6170</th>\n",
              "      <td>Ryan-Sessegnon</td>\n",
              "      <td>21</td>\n",
              "      <td>Fulham</td>\n",
              "      <td>0.0</td>\n",
              "      <td>0.0</td>\n",
              "      <td>2.36</td>\n",
              "    </tr>\n",
              "    <tr>\n",
              "      <th>2010</th>\n",
              "      <td>Lewis-Dunk</td>\n",
              "      <td>21</td>\n",
              "      <td>Leicester City</td>\n",
              "      <td>0.0</td>\n",
              "      <td>1.0</td>\n",
              "      <td>2.36</td>\n",
              "    </tr>\n",
              "    <tr>\n",
              "      <th>1430</th>\n",
              "      <td>Steve-Cook</td>\n",
              "      <td>21</td>\n",
              "      <td>Bournemouth</td>\n",
              "      <td>0.0</td>\n",
              "      <td>0.0</td>\n",
              "      <td>2.36</td>\n",
              "    </tr>\n",
              "    <tr>\n",
              "      <th>6430</th>\n",
              "      <td>Jack-Stephens</td>\n",
              "      <td>21</td>\n",
              "      <td>Nott'ham Forest</td>\n",
              "      <td>1.0</td>\n",
              "      <td>2.0</td>\n",
              "      <td>2.36</td>\n",
              "    </tr>\n",
              "  </tbody>\n",
              "</table>\n",
              "</div>\n",
              "      <button class=\"colab-df-convert\" onclick=\"convertToInteractive('df-09ebd394-7243-496c-b312-9970927aa18e')\"\n",
              "              title=\"Convert this dataframe to an interactive table.\"\n",
              "              style=\"display:none;\">\n",
              "        \n",
              "  <svg xmlns=\"http://www.w3.org/2000/svg\" height=\"24px\"viewBox=\"0 0 24 24\"\n",
              "       width=\"24px\">\n",
              "    <path d=\"M0 0h24v24H0V0z\" fill=\"none\"/>\n",
              "    <path d=\"M18.56 5.44l.94 2.06.94-2.06 2.06-.94-2.06-.94-.94-2.06-.94 2.06-2.06.94zm-11 1L8.5 8.5l.94-2.06 2.06-.94-2.06-.94L8.5 2.5l-.94 2.06-2.06.94zm10 10l.94 2.06.94-2.06 2.06-.94-2.06-.94-.94-2.06-.94 2.06-2.06.94z\"/><path d=\"M17.41 7.96l-1.37-1.37c-.4-.4-.92-.59-1.43-.59-.52 0-1.04.2-1.43.59L10.3 9.45l-7.72 7.72c-.78.78-.78 2.05 0 2.83L4 21.41c.39.39.9.59 1.41.59.51 0 1.02-.2 1.41-.59l7.78-7.78 2.81-2.81c.8-.78.8-2.07 0-2.86zM5.41 20L4 18.59l7.72-7.72 1.47 1.35L5.41 20z\"/>\n",
              "  </svg>\n",
              "      </button>\n",
              "      \n",
              "  <style>\n",
              "    .colab-df-container {\n",
              "      display:flex;\n",
              "      flex-wrap:wrap;\n",
              "      gap: 12px;\n",
              "    }\n",
              "\n",
              "    .colab-df-convert {\n",
              "      background-color: #E8F0FE;\n",
              "      border: none;\n",
              "      border-radius: 50%;\n",
              "      cursor: pointer;\n",
              "      display: none;\n",
              "      fill: #1967D2;\n",
              "      height: 32px;\n",
              "      padding: 0 0 0 0;\n",
              "      width: 32px;\n",
              "    }\n",
              "\n",
              "    .colab-df-convert:hover {\n",
              "      background-color: #E2EBFA;\n",
              "      box-shadow: 0px 1px 2px rgba(60, 64, 67, 0.3), 0px 1px 3px 1px rgba(60, 64, 67, 0.15);\n",
              "      fill: #174EA6;\n",
              "    }\n",
              "\n",
              "    [theme=dark] .colab-df-convert {\n",
              "      background-color: #3B4455;\n",
              "      fill: #D2E3FC;\n",
              "    }\n",
              "\n",
              "    [theme=dark] .colab-df-convert:hover {\n",
              "      background-color: #434B5C;\n",
              "      box-shadow: 0px 1px 3px 1px rgba(0, 0, 0, 0.15);\n",
              "      filter: drop-shadow(0px 1px 2px rgba(0, 0, 0, 0.3));\n",
              "      fill: #FFFFFF;\n",
              "    }\n",
              "  </style>\n",
              "\n",
              "      <script>\n",
              "        const buttonEl =\n",
              "          document.querySelector('#df-09ebd394-7243-496c-b312-9970927aa18e button.colab-df-convert');\n",
              "        buttonEl.style.display =\n",
              "          google.colab.kernel.accessAllowed ? 'block' : 'none';\n",
              "\n",
              "        async function convertToInteractive(key) {\n",
              "          const element = document.querySelector('#df-09ebd394-7243-496c-b312-9970927aa18e');\n",
              "          const dataTable =\n",
              "            await google.colab.kernel.invokeFunction('convertToInteractive',\n",
              "                                                     [key], {});\n",
              "          if (!dataTable) return;\n",
              "\n",
              "          const docLinkHtml = 'Like what you see? Visit the ' +\n",
              "            '<a target=\"_blank\" href=https://colab.research.google.com/notebooks/data_table.ipynb>data table notebook</a>'\n",
              "            + ' to learn more about interactive tables.';\n",
              "          element.innerHTML = '';\n",
              "          dataTable['output_type'] = 'display_data';\n",
              "          await google.colab.output.renderOutput(dataTable, element);\n",
              "          const docLink = document.createElement('div');\n",
              "          docLink.innerHTML = docLinkHtml;\n",
              "          element.appendChild(docLink);\n",
              "        }\n",
              "      </script>\n",
              "    </div>\n",
              "  </div>\n",
              "  "
            ]
          },
          "metadata": {},
          "execution_count": 60
        }
      ],
      "source": [
        "# results sorted\n",
        "predictions_def_sorted = predictions_def.sort_values(by=[\"Points\"], ascending = False).head(20)\n",
        "predictions_def_sorted[prediction_columns]"
      ]
    },
    {
      "cell_type": "markdown",
      "id": "e098be91-df44-4aba-b619-de4a11ad91db",
      "metadata": {
        "id": "e098be91-df44-4aba-b619-de4a11ad91db"
      },
      "source": [
        "## Midfielders"
      ]
    },
    {
      "cell_type": "code",
      "execution_count": 61,
      "id": "37c5faa1-e7ba-4048-a3ae-39472de0e646",
      "metadata": {
        "id": "37c5faa1-e7ba-4048-a3ae-39472de0e646"
      },
      "outputs": [],
      "source": [
        "predictions_mid = generate_predictions(dataloader_mid_valid, dataset_mid_valid, net_mid, df_mid_original, FIRST_VALID_GW)"
      ]
    },
    {
      "cell_type": "code",
      "execution_count": 62,
      "id": "a8a940bf-1f53-4130-831f-ad6010b92cef",
      "metadata": {
        "id": "a8a940bf-1f53-4130-831f-ad6010b92cef",
        "colab": {
          "base_uri": "https://localhost:8080/",
          "height": 677
        },
        "outputId": "7cfe5957-5ef7-41b6-94ed-d2acc22de6ab"
      },
      "outputs": [
        {
          "output_type": "execute_result",
          "data": {
            "text/plain": [
              "                    Name  GW         Opponent  Was Home  Total Points  Points\n",
              "3325      Mathias-Jensen  21     Leeds United       0.0           3.0    2.85\n",
              "2859     Bruno-Guimaraes  21   Crystal Palace       0.0           3.0    2.85\n",
              "2270             Fabinho  21          Chelsea       1.0           1.0    2.85\n",
              "2311     Bruno-Fernandes  21          Arsenal       0.0           5.0    2.85\n",
              "2448                Fred  21          Arsenal       0.0           1.0    2.85\n",
              "2475        Remo-Freuler  21      Bournemouth       0.0           2.0    2.85\n",
              "2496     Conor-Gallagher  21        Liverpool       0.0           3.0    2.85\n",
              "5084        Amadou-Onana  21         West Ham       0.0           2.0    2.85\n",
              "2613  Morgan-Gibbs-White  21      Bournemouth       0.0           2.0    2.85\n",
              "4913         Ruben-Neves  21  Manchester City       0.0           2.0    2.85\n",
              "4824        Jacob-Murphy  21   Crystal Palace       0.0           1.0    2.85\n",
              "2731        Demarai-Gray  21         West Ham       0.0           2.0    2.85\n",
              "4790       Joao-Moutinho  21  Manchester City       0.0           1.0    2.85\n",
              "4763         Mason-Mount  21        Liverpool       0.0           3.0    2.85\n",
              "4517     Scott-McTominay  21          Arsenal       0.0           2.0    2.85\n",
              "1969        Flynn-Downes  21          Everton       1.0           1.0    2.85\n",
              "2947       Jack-Harrison  21        Brentford       1.0           3.0    2.85\n",
              "3032    Jordan-Henderson  21          Chelsea       1.0           1.0    2.85\n",
              "3090       Son-Heung-min  21           Fulham       0.0           5.0    2.85\n",
              "4316          Martinelli  21   Manchester Utd       1.0           2.0    2.85"
            ],
            "text/html": [
              "\n",
              "  <div id=\"df-acc573a9-ff02-40fd-a9ca-01e3e21b0dcc\">\n",
              "    <div class=\"colab-df-container\">\n",
              "      <div>\n",
              "<style scoped>\n",
              "    .dataframe tbody tr th:only-of-type {\n",
              "        vertical-align: middle;\n",
              "    }\n",
              "\n",
              "    .dataframe tbody tr th {\n",
              "        vertical-align: top;\n",
              "    }\n",
              "\n",
              "    .dataframe thead th {\n",
              "        text-align: right;\n",
              "    }\n",
              "</style>\n",
              "<table border=\"1\" class=\"dataframe\">\n",
              "  <thead>\n",
              "    <tr style=\"text-align: right;\">\n",
              "      <th></th>\n",
              "      <th>Name</th>\n",
              "      <th>GW</th>\n",
              "      <th>Opponent</th>\n",
              "      <th>Was Home</th>\n",
              "      <th>Total Points</th>\n",
              "      <th>Points</th>\n",
              "    </tr>\n",
              "  </thead>\n",
              "  <tbody>\n",
              "    <tr>\n",
              "      <th>3325</th>\n",
              "      <td>Mathias-Jensen</td>\n",
              "      <td>21</td>\n",
              "      <td>Leeds United</td>\n",
              "      <td>0.0</td>\n",
              "      <td>3.0</td>\n",
              "      <td>2.85</td>\n",
              "    </tr>\n",
              "    <tr>\n",
              "      <th>2859</th>\n",
              "      <td>Bruno-Guimaraes</td>\n",
              "      <td>21</td>\n",
              "      <td>Crystal Palace</td>\n",
              "      <td>0.0</td>\n",
              "      <td>3.0</td>\n",
              "      <td>2.85</td>\n",
              "    </tr>\n",
              "    <tr>\n",
              "      <th>2270</th>\n",
              "      <td>Fabinho</td>\n",
              "      <td>21</td>\n",
              "      <td>Chelsea</td>\n",
              "      <td>1.0</td>\n",
              "      <td>1.0</td>\n",
              "      <td>2.85</td>\n",
              "    </tr>\n",
              "    <tr>\n",
              "      <th>2311</th>\n",
              "      <td>Bruno-Fernandes</td>\n",
              "      <td>21</td>\n",
              "      <td>Arsenal</td>\n",
              "      <td>0.0</td>\n",
              "      <td>5.0</td>\n",
              "      <td>2.85</td>\n",
              "    </tr>\n",
              "    <tr>\n",
              "      <th>2448</th>\n",
              "      <td>Fred</td>\n",
              "      <td>21</td>\n",
              "      <td>Arsenal</td>\n",
              "      <td>0.0</td>\n",
              "      <td>1.0</td>\n",
              "      <td>2.85</td>\n",
              "    </tr>\n",
              "    <tr>\n",
              "      <th>2475</th>\n",
              "      <td>Remo-Freuler</td>\n",
              "      <td>21</td>\n",
              "      <td>Bournemouth</td>\n",
              "      <td>0.0</td>\n",
              "      <td>2.0</td>\n",
              "      <td>2.85</td>\n",
              "    </tr>\n",
              "    <tr>\n",
              "      <th>2496</th>\n",
              "      <td>Conor-Gallagher</td>\n",
              "      <td>21</td>\n",
              "      <td>Liverpool</td>\n",
              "      <td>0.0</td>\n",
              "      <td>3.0</td>\n",
              "      <td>2.85</td>\n",
              "    </tr>\n",
              "    <tr>\n",
              "      <th>5084</th>\n",
              "      <td>Amadou-Onana</td>\n",
              "      <td>21</td>\n",
              "      <td>West Ham</td>\n",
              "      <td>0.0</td>\n",
              "      <td>2.0</td>\n",
              "      <td>2.85</td>\n",
              "    </tr>\n",
              "    <tr>\n",
              "      <th>2613</th>\n",
              "      <td>Morgan-Gibbs-White</td>\n",
              "      <td>21</td>\n",
              "      <td>Bournemouth</td>\n",
              "      <td>0.0</td>\n",
              "      <td>2.0</td>\n",
              "      <td>2.85</td>\n",
              "    </tr>\n",
              "    <tr>\n",
              "      <th>4913</th>\n",
              "      <td>Ruben-Neves</td>\n",
              "      <td>21</td>\n",
              "      <td>Manchester City</td>\n",
              "      <td>0.0</td>\n",
              "      <td>2.0</td>\n",
              "      <td>2.85</td>\n",
              "    </tr>\n",
              "    <tr>\n",
              "      <th>4824</th>\n",
              "      <td>Jacob-Murphy</td>\n",
              "      <td>21</td>\n",
              "      <td>Crystal Palace</td>\n",
              "      <td>0.0</td>\n",
              "      <td>1.0</td>\n",
              "      <td>2.85</td>\n",
              "    </tr>\n",
              "    <tr>\n",
              "      <th>2731</th>\n",
              "      <td>Demarai-Gray</td>\n",
              "      <td>21</td>\n",
              "      <td>West Ham</td>\n",
              "      <td>0.0</td>\n",
              "      <td>2.0</td>\n",
              "      <td>2.85</td>\n",
              "    </tr>\n",
              "    <tr>\n",
              "      <th>4790</th>\n",
              "      <td>Joao-Moutinho</td>\n",
              "      <td>21</td>\n",
              "      <td>Manchester City</td>\n",
              "      <td>0.0</td>\n",
              "      <td>1.0</td>\n",
              "      <td>2.85</td>\n",
              "    </tr>\n",
              "    <tr>\n",
              "      <th>4763</th>\n",
              "      <td>Mason-Mount</td>\n",
              "      <td>21</td>\n",
              "      <td>Liverpool</td>\n",
              "      <td>0.0</td>\n",
              "      <td>3.0</td>\n",
              "      <td>2.85</td>\n",
              "    </tr>\n",
              "    <tr>\n",
              "      <th>4517</th>\n",
              "      <td>Scott-McTominay</td>\n",
              "      <td>21</td>\n",
              "      <td>Arsenal</td>\n",
              "      <td>0.0</td>\n",
              "      <td>2.0</td>\n",
              "      <td>2.85</td>\n",
              "    </tr>\n",
              "    <tr>\n",
              "      <th>1969</th>\n",
              "      <td>Flynn-Downes</td>\n",
              "      <td>21</td>\n",
              "      <td>Everton</td>\n",
              "      <td>1.0</td>\n",
              "      <td>1.0</td>\n",
              "      <td>2.85</td>\n",
              "    </tr>\n",
              "    <tr>\n",
              "      <th>2947</th>\n",
              "      <td>Jack-Harrison</td>\n",
              "      <td>21</td>\n",
              "      <td>Brentford</td>\n",
              "      <td>1.0</td>\n",
              "      <td>3.0</td>\n",
              "      <td>2.85</td>\n",
              "    </tr>\n",
              "    <tr>\n",
              "      <th>3032</th>\n",
              "      <td>Jordan-Henderson</td>\n",
              "      <td>21</td>\n",
              "      <td>Chelsea</td>\n",
              "      <td>1.0</td>\n",
              "      <td>1.0</td>\n",
              "      <td>2.85</td>\n",
              "    </tr>\n",
              "    <tr>\n",
              "      <th>3090</th>\n",
              "      <td>Son-Heung-min</td>\n",
              "      <td>21</td>\n",
              "      <td>Fulham</td>\n",
              "      <td>0.0</td>\n",
              "      <td>5.0</td>\n",
              "      <td>2.85</td>\n",
              "    </tr>\n",
              "    <tr>\n",
              "      <th>4316</th>\n",
              "      <td>Martinelli</td>\n",
              "      <td>21</td>\n",
              "      <td>Manchester Utd</td>\n",
              "      <td>1.0</td>\n",
              "      <td>2.0</td>\n",
              "      <td>2.85</td>\n",
              "    </tr>\n",
              "  </tbody>\n",
              "</table>\n",
              "</div>\n",
              "      <button class=\"colab-df-convert\" onclick=\"convertToInteractive('df-acc573a9-ff02-40fd-a9ca-01e3e21b0dcc')\"\n",
              "              title=\"Convert this dataframe to an interactive table.\"\n",
              "              style=\"display:none;\">\n",
              "        \n",
              "  <svg xmlns=\"http://www.w3.org/2000/svg\" height=\"24px\"viewBox=\"0 0 24 24\"\n",
              "       width=\"24px\">\n",
              "    <path d=\"M0 0h24v24H0V0z\" fill=\"none\"/>\n",
              "    <path d=\"M18.56 5.44l.94 2.06.94-2.06 2.06-.94-2.06-.94-.94-2.06-.94 2.06-2.06.94zm-11 1L8.5 8.5l.94-2.06 2.06-.94-2.06-.94L8.5 2.5l-.94 2.06-2.06.94zm10 10l.94 2.06.94-2.06 2.06-.94-2.06-.94-.94-2.06-.94 2.06-2.06.94z\"/><path d=\"M17.41 7.96l-1.37-1.37c-.4-.4-.92-.59-1.43-.59-.52 0-1.04.2-1.43.59L10.3 9.45l-7.72 7.72c-.78.78-.78 2.05 0 2.83L4 21.41c.39.39.9.59 1.41.59.51 0 1.02-.2 1.41-.59l7.78-7.78 2.81-2.81c.8-.78.8-2.07 0-2.86zM5.41 20L4 18.59l7.72-7.72 1.47 1.35L5.41 20z\"/>\n",
              "  </svg>\n",
              "      </button>\n",
              "      \n",
              "  <style>\n",
              "    .colab-df-container {\n",
              "      display:flex;\n",
              "      flex-wrap:wrap;\n",
              "      gap: 12px;\n",
              "    }\n",
              "\n",
              "    .colab-df-convert {\n",
              "      background-color: #E8F0FE;\n",
              "      border: none;\n",
              "      border-radius: 50%;\n",
              "      cursor: pointer;\n",
              "      display: none;\n",
              "      fill: #1967D2;\n",
              "      height: 32px;\n",
              "      padding: 0 0 0 0;\n",
              "      width: 32px;\n",
              "    }\n",
              "\n",
              "    .colab-df-convert:hover {\n",
              "      background-color: #E2EBFA;\n",
              "      box-shadow: 0px 1px 2px rgba(60, 64, 67, 0.3), 0px 1px 3px 1px rgba(60, 64, 67, 0.15);\n",
              "      fill: #174EA6;\n",
              "    }\n",
              "\n",
              "    [theme=dark] .colab-df-convert {\n",
              "      background-color: #3B4455;\n",
              "      fill: #D2E3FC;\n",
              "    }\n",
              "\n",
              "    [theme=dark] .colab-df-convert:hover {\n",
              "      background-color: #434B5C;\n",
              "      box-shadow: 0px 1px 3px 1px rgba(0, 0, 0, 0.15);\n",
              "      filter: drop-shadow(0px 1px 2px rgba(0, 0, 0, 0.3));\n",
              "      fill: #FFFFFF;\n",
              "    }\n",
              "  </style>\n",
              "\n",
              "      <script>\n",
              "        const buttonEl =\n",
              "          document.querySelector('#df-acc573a9-ff02-40fd-a9ca-01e3e21b0dcc button.colab-df-convert');\n",
              "        buttonEl.style.display =\n",
              "          google.colab.kernel.accessAllowed ? 'block' : 'none';\n",
              "\n",
              "        async function convertToInteractive(key) {\n",
              "          const element = document.querySelector('#df-acc573a9-ff02-40fd-a9ca-01e3e21b0dcc');\n",
              "          const dataTable =\n",
              "            await google.colab.kernel.invokeFunction('convertToInteractive',\n",
              "                                                     [key], {});\n",
              "          if (!dataTable) return;\n",
              "\n",
              "          const docLinkHtml = 'Like what you see? Visit the ' +\n",
              "            '<a target=\"_blank\" href=https://colab.research.google.com/notebooks/data_table.ipynb>data table notebook</a>'\n",
              "            + ' to learn more about interactive tables.';\n",
              "          element.innerHTML = '';\n",
              "          dataTable['output_type'] = 'display_data';\n",
              "          await google.colab.output.renderOutput(dataTable, element);\n",
              "          const docLink = document.createElement('div');\n",
              "          docLink.innerHTML = docLinkHtml;\n",
              "          element.appendChild(docLink);\n",
              "        }\n",
              "      </script>\n",
              "    </div>\n",
              "  </div>\n",
              "  "
            ]
          },
          "metadata": {},
          "execution_count": 62
        }
      ],
      "source": [
        "# results sorted\n",
        "predictions_mid_sorted = predictions_mid.sort_values(by=[\"Points\"], ascending = False).head(20)\n",
        "predictions_mid_sorted[prediction_columns]"
      ]
    },
    {
      "cell_type": "markdown",
      "id": "9921aabf-4769-4350-a3e5-bbaacd60b4d5",
      "metadata": {
        "id": "9921aabf-4769-4350-a3e5-bbaacd60b4d5"
      },
      "source": [
        "## Forwards"
      ]
    },
    {
      "cell_type": "code",
      "execution_count": 63,
      "id": "ef689219-6923-4a23-88ea-0331a33eb2a3",
      "metadata": {
        "id": "ef689219-6923-4a23-88ea-0331a33eb2a3"
      },
      "outputs": [],
      "source": [
        "predictions_fwd = generate_predictions(dataloader_fwd_valid, dataset_fwd_valid, net_fwd, df_fwd_original, FIRST_VALID_GW)"
      ]
    },
    {
      "cell_type": "code",
      "execution_count": 64,
      "id": "9d88c704-50eb-42c1-8b92-7008cdb8d83e",
      "metadata": {
        "id": "9d88c704-50eb-42c1-8b92-7008cdb8d83e",
        "colab": {
          "base_uri": "https://localhost:8080/",
          "height": 990
        },
        "outputId": "6c51c2fc-23e8-47ca-a251-8f4b21a6e15c"
      },
      "outputs": [
        {
          "output_type": "execute_result",
          "data": {
            "text/plain": [
              "                      Name  GW         Opponent  Was Home  Total Points  \\\n",
              "3501            Harry-Kane  21           Fulham       0.0           6.0   \n",
              "38               Che-Adams  21      Aston Villa       1.0           2.0   \n",
              "4718   Aleksandar-Mitrovic  21        Tottenham       1.0           2.0   \n",
              "6714            Ivan-Toney  21     Leeds United       0.0           1.0   \n",
              "3401       Brennan-Johnson  21      Bournemouth       0.0           5.0   \n",
              "2904        Erling-Haaland  21           Wolves       1.0          17.0   \n",
              "4443          Bryan-Mbeumo  21     Leeds United       0.0           2.0   \n",
              "4952         Eddie-Nketiah  21   Manchester Utd       1.0          13.0   \n",
              "7121         Danny-Welbeck  21   Leicester City       0.0           2.0   \n",
              "7212         Callum-Wilson  21   Crystal Palace       0.0           2.0   \n",
              "256         Julian-Alvarez  21           Wolves       1.0           1.0   \n",
              "2967           Kai-Havertz  21        Liverpool       0.0           2.0   \n",
              "2066       Odsonne-Edouard  21    Newcastle Utd       1.0           2.0   \n",
              "347        Michail-Antonio  21          Everton       1.0           5.0   \n",
              "4382  Jean-Philippe-Mateta  21    Newcastle Utd       1.0           1.0   \n",
              "4244            Sekou-Mara  21      Aston Villa       1.0           1.0   \n",
              "1569           Patson-Daka  21         Brighton       1.0           1.0   \n",
              "3225            Danny-Ings  21          Everton       1.0           1.0   \n",
              "7267            Chris-Wood  21      Bournemouth       0.0           2.0   \n",
              "7089         Ollie-Watkins  21      Southampton       0.0           8.0   \n",
              "6516          Sam-Surridge  21      Bournemouth       0.0           8.0   \n",
              "2575          Joe-Gelhardt  21        Brentford       1.0           0.0   \n",
              "4738         Kieffer-Moore  21  Nott'ham Forest       1.0           2.0   \n",
              "6893           Jamie-Vardy  21         Brighton       1.0           2.0   \n",
              "3205     Kelechi-Iheanacho  21         Brighton       1.0           0.0   \n",
              "6834           Deniz-Undav  21   Leicester City       0.0           0.0   \n",
              "2767         Sam-Greenwood  21        Brentford       1.0           1.0   \n",
              "431         Adam-Armstrong  21      Aston Villa       1.0           2.0   \n",
              "4409           Neal-Maupay  21         West Ham       0.0           0.0   \n",
              "6959       Carlos-Vinicius  21        Tottenham       1.0           1.0   \n",
              "\n",
              "      Points  \n",
              "3501    3.29  \n",
              "38      3.27  \n",
              "4718    3.23  \n",
              "6714    3.20  \n",
              "3401    3.20  \n",
              "2904    3.17  \n",
              "4443    3.15  \n",
              "4952    2.86  \n",
              "7121    2.82  \n",
              "7212    2.51  \n",
              "256     2.39  \n",
              "2967    2.31  \n",
              "2066    2.21  \n",
              "347     2.19  \n",
              "4382    2.17  \n",
              "4244    2.17  \n",
              "1569    2.17  \n",
              "3225    2.16  \n",
              "7267    2.16  \n",
              "7089    2.15  \n",
              "6516    2.14  \n",
              "2575    2.14  \n",
              "4738    2.13  \n",
              "6893    2.13  \n",
              "3205    2.12  \n",
              "6834    2.10  \n",
              "2767    2.09  \n",
              "431     2.08  \n",
              "4409    2.01  \n",
              "6959    1.99  "
            ],
            "text/html": [
              "\n",
              "  <div id=\"df-56174be9-f781-4d2c-b7a6-db12f8a6faf2\">\n",
              "    <div class=\"colab-df-container\">\n",
              "      <div>\n",
              "<style scoped>\n",
              "    .dataframe tbody tr th:only-of-type {\n",
              "        vertical-align: middle;\n",
              "    }\n",
              "\n",
              "    .dataframe tbody tr th {\n",
              "        vertical-align: top;\n",
              "    }\n",
              "\n",
              "    .dataframe thead th {\n",
              "        text-align: right;\n",
              "    }\n",
              "</style>\n",
              "<table border=\"1\" class=\"dataframe\">\n",
              "  <thead>\n",
              "    <tr style=\"text-align: right;\">\n",
              "      <th></th>\n",
              "      <th>Name</th>\n",
              "      <th>GW</th>\n",
              "      <th>Opponent</th>\n",
              "      <th>Was Home</th>\n",
              "      <th>Total Points</th>\n",
              "      <th>Points</th>\n",
              "    </tr>\n",
              "  </thead>\n",
              "  <tbody>\n",
              "    <tr>\n",
              "      <th>3501</th>\n",
              "      <td>Harry-Kane</td>\n",
              "      <td>21</td>\n",
              "      <td>Fulham</td>\n",
              "      <td>0.0</td>\n",
              "      <td>6.0</td>\n",
              "      <td>3.29</td>\n",
              "    </tr>\n",
              "    <tr>\n",
              "      <th>38</th>\n",
              "      <td>Che-Adams</td>\n",
              "      <td>21</td>\n",
              "      <td>Aston Villa</td>\n",
              "      <td>1.0</td>\n",
              "      <td>2.0</td>\n",
              "      <td>3.27</td>\n",
              "    </tr>\n",
              "    <tr>\n",
              "      <th>4718</th>\n",
              "      <td>Aleksandar-Mitrovic</td>\n",
              "      <td>21</td>\n",
              "      <td>Tottenham</td>\n",
              "      <td>1.0</td>\n",
              "      <td>2.0</td>\n",
              "      <td>3.23</td>\n",
              "    </tr>\n",
              "    <tr>\n",
              "      <th>6714</th>\n",
              "      <td>Ivan-Toney</td>\n",
              "      <td>21</td>\n",
              "      <td>Leeds United</td>\n",
              "      <td>0.0</td>\n",
              "      <td>1.0</td>\n",
              "      <td>3.20</td>\n",
              "    </tr>\n",
              "    <tr>\n",
              "      <th>3401</th>\n",
              "      <td>Brennan-Johnson</td>\n",
              "      <td>21</td>\n",
              "      <td>Bournemouth</td>\n",
              "      <td>0.0</td>\n",
              "      <td>5.0</td>\n",
              "      <td>3.20</td>\n",
              "    </tr>\n",
              "    <tr>\n",
              "      <th>2904</th>\n",
              "      <td>Erling-Haaland</td>\n",
              "      <td>21</td>\n",
              "      <td>Wolves</td>\n",
              "      <td>1.0</td>\n",
              "      <td>17.0</td>\n",
              "      <td>3.17</td>\n",
              "    </tr>\n",
              "    <tr>\n",
              "      <th>4443</th>\n",
              "      <td>Bryan-Mbeumo</td>\n",
              "      <td>21</td>\n",
              "      <td>Leeds United</td>\n",
              "      <td>0.0</td>\n",
              "      <td>2.0</td>\n",
              "      <td>3.15</td>\n",
              "    </tr>\n",
              "    <tr>\n",
              "      <th>4952</th>\n",
              "      <td>Eddie-Nketiah</td>\n",
              "      <td>21</td>\n",
              "      <td>Manchester Utd</td>\n",
              "      <td>1.0</td>\n",
              "      <td>13.0</td>\n",
              "      <td>2.86</td>\n",
              "    </tr>\n",
              "    <tr>\n",
              "      <th>7121</th>\n",
              "      <td>Danny-Welbeck</td>\n",
              "      <td>21</td>\n",
              "      <td>Leicester City</td>\n",
              "      <td>0.0</td>\n",
              "      <td>2.0</td>\n",
              "      <td>2.82</td>\n",
              "    </tr>\n",
              "    <tr>\n",
              "      <th>7212</th>\n",
              "      <td>Callum-Wilson</td>\n",
              "      <td>21</td>\n",
              "      <td>Crystal Palace</td>\n",
              "      <td>0.0</td>\n",
              "      <td>2.0</td>\n",
              "      <td>2.51</td>\n",
              "    </tr>\n",
              "    <tr>\n",
              "      <th>256</th>\n",
              "      <td>Julian-Alvarez</td>\n",
              "      <td>21</td>\n",
              "      <td>Wolves</td>\n",
              "      <td>1.0</td>\n",
              "      <td>1.0</td>\n",
              "      <td>2.39</td>\n",
              "    </tr>\n",
              "    <tr>\n",
              "      <th>2967</th>\n",
              "      <td>Kai-Havertz</td>\n",
              "      <td>21</td>\n",
              "      <td>Liverpool</td>\n",
              "      <td>0.0</td>\n",
              "      <td>2.0</td>\n",
              "      <td>2.31</td>\n",
              "    </tr>\n",
              "    <tr>\n",
              "      <th>2066</th>\n",
              "      <td>Odsonne-Edouard</td>\n",
              "      <td>21</td>\n",
              "      <td>Newcastle Utd</td>\n",
              "      <td>1.0</td>\n",
              "      <td>2.0</td>\n",
              "      <td>2.21</td>\n",
              "    </tr>\n",
              "    <tr>\n",
              "      <th>347</th>\n",
              "      <td>Michail-Antonio</td>\n",
              "      <td>21</td>\n",
              "      <td>Everton</td>\n",
              "      <td>1.0</td>\n",
              "      <td>5.0</td>\n",
              "      <td>2.19</td>\n",
              "    </tr>\n",
              "    <tr>\n",
              "      <th>4382</th>\n",
              "      <td>Jean-Philippe-Mateta</td>\n",
              "      <td>21</td>\n",
              "      <td>Newcastle Utd</td>\n",
              "      <td>1.0</td>\n",
              "      <td>1.0</td>\n",
              "      <td>2.17</td>\n",
              "    </tr>\n",
              "    <tr>\n",
              "      <th>4244</th>\n",
              "      <td>Sekou-Mara</td>\n",
              "      <td>21</td>\n",
              "      <td>Aston Villa</td>\n",
              "      <td>1.0</td>\n",
              "      <td>1.0</td>\n",
              "      <td>2.17</td>\n",
              "    </tr>\n",
              "    <tr>\n",
              "      <th>1569</th>\n",
              "      <td>Patson-Daka</td>\n",
              "      <td>21</td>\n",
              "      <td>Brighton</td>\n",
              "      <td>1.0</td>\n",
              "      <td>1.0</td>\n",
              "      <td>2.17</td>\n",
              "    </tr>\n",
              "    <tr>\n",
              "      <th>3225</th>\n",
              "      <td>Danny-Ings</td>\n",
              "      <td>21</td>\n",
              "      <td>Everton</td>\n",
              "      <td>1.0</td>\n",
              "      <td>1.0</td>\n",
              "      <td>2.16</td>\n",
              "    </tr>\n",
              "    <tr>\n",
              "      <th>7267</th>\n",
              "      <td>Chris-Wood</td>\n",
              "      <td>21</td>\n",
              "      <td>Bournemouth</td>\n",
              "      <td>0.0</td>\n",
              "      <td>2.0</td>\n",
              "      <td>2.16</td>\n",
              "    </tr>\n",
              "    <tr>\n",
              "      <th>7089</th>\n",
              "      <td>Ollie-Watkins</td>\n",
              "      <td>21</td>\n",
              "      <td>Southampton</td>\n",
              "      <td>0.0</td>\n",
              "      <td>8.0</td>\n",
              "      <td>2.15</td>\n",
              "    </tr>\n",
              "    <tr>\n",
              "      <th>6516</th>\n",
              "      <td>Sam-Surridge</td>\n",
              "      <td>21</td>\n",
              "      <td>Bournemouth</td>\n",
              "      <td>0.0</td>\n",
              "      <td>8.0</td>\n",
              "      <td>2.14</td>\n",
              "    </tr>\n",
              "    <tr>\n",
              "      <th>2575</th>\n",
              "      <td>Joe-Gelhardt</td>\n",
              "      <td>21</td>\n",
              "      <td>Brentford</td>\n",
              "      <td>1.0</td>\n",
              "      <td>0.0</td>\n",
              "      <td>2.14</td>\n",
              "    </tr>\n",
              "    <tr>\n",
              "      <th>4738</th>\n",
              "      <td>Kieffer-Moore</td>\n",
              "      <td>21</td>\n",
              "      <td>Nott'ham Forest</td>\n",
              "      <td>1.0</td>\n",
              "      <td>2.0</td>\n",
              "      <td>2.13</td>\n",
              "    </tr>\n",
              "    <tr>\n",
              "      <th>6893</th>\n",
              "      <td>Jamie-Vardy</td>\n",
              "      <td>21</td>\n",
              "      <td>Brighton</td>\n",
              "      <td>1.0</td>\n",
              "      <td>2.0</td>\n",
              "      <td>2.13</td>\n",
              "    </tr>\n",
              "    <tr>\n",
              "      <th>3205</th>\n",
              "      <td>Kelechi-Iheanacho</td>\n",
              "      <td>21</td>\n",
              "      <td>Brighton</td>\n",
              "      <td>1.0</td>\n",
              "      <td>0.0</td>\n",
              "      <td>2.12</td>\n",
              "    </tr>\n",
              "    <tr>\n",
              "      <th>6834</th>\n",
              "      <td>Deniz-Undav</td>\n",
              "      <td>21</td>\n",
              "      <td>Leicester City</td>\n",
              "      <td>0.0</td>\n",
              "      <td>0.0</td>\n",
              "      <td>2.10</td>\n",
              "    </tr>\n",
              "    <tr>\n",
              "      <th>2767</th>\n",
              "      <td>Sam-Greenwood</td>\n",
              "      <td>21</td>\n",
              "      <td>Brentford</td>\n",
              "      <td>1.0</td>\n",
              "      <td>1.0</td>\n",
              "      <td>2.09</td>\n",
              "    </tr>\n",
              "    <tr>\n",
              "      <th>431</th>\n",
              "      <td>Adam-Armstrong</td>\n",
              "      <td>21</td>\n",
              "      <td>Aston Villa</td>\n",
              "      <td>1.0</td>\n",
              "      <td>2.0</td>\n",
              "      <td>2.08</td>\n",
              "    </tr>\n",
              "    <tr>\n",
              "      <th>4409</th>\n",
              "      <td>Neal-Maupay</td>\n",
              "      <td>21</td>\n",
              "      <td>West Ham</td>\n",
              "      <td>0.0</td>\n",
              "      <td>0.0</td>\n",
              "      <td>2.01</td>\n",
              "    </tr>\n",
              "    <tr>\n",
              "      <th>6959</th>\n",
              "      <td>Carlos-Vinicius</td>\n",
              "      <td>21</td>\n",
              "      <td>Tottenham</td>\n",
              "      <td>1.0</td>\n",
              "      <td>1.0</td>\n",
              "      <td>1.99</td>\n",
              "    </tr>\n",
              "  </tbody>\n",
              "</table>\n",
              "</div>\n",
              "      <button class=\"colab-df-convert\" onclick=\"convertToInteractive('df-56174be9-f781-4d2c-b7a6-db12f8a6faf2')\"\n",
              "              title=\"Convert this dataframe to an interactive table.\"\n",
              "              style=\"display:none;\">\n",
              "        \n",
              "  <svg xmlns=\"http://www.w3.org/2000/svg\" height=\"24px\"viewBox=\"0 0 24 24\"\n",
              "       width=\"24px\">\n",
              "    <path d=\"M0 0h24v24H0V0z\" fill=\"none\"/>\n",
              "    <path d=\"M18.56 5.44l.94 2.06.94-2.06 2.06-.94-2.06-.94-.94-2.06-.94 2.06-2.06.94zm-11 1L8.5 8.5l.94-2.06 2.06-.94-2.06-.94L8.5 2.5l-.94 2.06-2.06.94zm10 10l.94 2.06.94-2.06 2.06-.94-2.06-.94-.94-2.06-.94 2.06-2.06.94z\"/><path d=\"M17.41 7.96l-1.37-1.37c-.4-.4-.92-.59-1.43-.59-.52 0-1.04.2-1.43.59L10.3 9.45l-7.72 7.72c-.78.78-.78 2.05 0 2.83L4 21.41c.39.39.9.59 1.41.59.51 0 1.02-.2 1.41-.59l7.78-7.78 2.81-2.81c.8-.78.8-2.07 0-2.86zM5.41 20L4 18.59l7.72-7.72 1.47 1.35L5.41 20z\"/>\n",
              "  </svg>\n",
              "      </button>\n",
              "      \n",
              "  <style>\n",
              "    .colab-df-container {\n",
              "      display:flex;\n",
              "      flex-wrap:wrap;\n",
              "      gap: 12px;\n",
              "    }\n",
              "\n",
              "    .colab-df-convert {\n",
              "      background-color: #E8F0FE;\n",
              "      border: none;\n",
              "      border-radius: 50%;\n",
              "      cursor: pointer;\n",
              "      display: none;\n",
              "      fill: #1967D2;\n",
              "      height: 32px;\n",
              "      padding: 0 0 0 0;\n",
              "      width: 32px;\n",
              "    }\n",
              "\n",
              "    .colab-df-convert:hover {\n",
              "      background-color: #E2EBFA;\n",
              "      box-shadow: 0px 1px 2px rgba(60, 64, 67, 0.3), 0px 1px 3px 1px rgba(60, 64, 67, 0.15);\n",
              "      fill: #174EA6;\n",
              "    }\n",
              "\n",
              "    [theme=dark] .colab-df-convert {\n",
              "      background-color: #3B4455;\n",
              "      fill: #D2E3FC;\n",
              "    }\n",
              "\n",
              "    [theme=dark] .colab-df-convert:hover {\n",
              "      background-color: #434B5C;\n",
              "      box-shadow: 0px 1px 3px 1px rgba(0, 0, 0, 0.15);\n",
              "      filter: drop-shadow(0px 1px 2px rgba(0, 0, 0, 0.3));\n",
              "      fill: #FFFFFF;\n",
              "    }\n",
              "  </style>\n",
              "\n",
              "      <script>\n",
              "        const buttonEl =\n",
              "          document.querySelector('#df-56174be9-f781-4d2c-b7a6-db12f8a6faf2 button.colab-df-convert');\n",
              "        buttonEl.style.display =\n",
              "          google.colab.kernel.accessAllowed ? 'block' : 'none';\n",
              "\n",
              "        async function convertToInteractive(key) {\n",
              "          const element = document.querySelector('#df-56174be9-f781-4d2c-b7a6-db12f8a6faf2');\n",
              "          const dataTable =\n",
              "            await google.colab.kernel.invokeFunction('convertToInteractive',\n",
              "                                                     [key], {});\n",
              "          if (!dataTable) return;\n",
              "\n",
              "          const docLinkHtml = 'Like what you see? Visit the ' +\n",
              "            '<a target=\"_blank\" href=https://colab.research.google.com/notebooks/data_table.ipynb>data table notebook</a>'\n",
              "            + ' to learn more about interactive tables.';\n",
              "          element.innerHTML = '';\n",
              "          dataTable['output_type'] = 'display_data';\n",
              "          await google.colab.output.renderOutput(dataTable, element);\n",
              "          const docLink = document.createElement('div');\n",
              "          docLink.innerHTML = docLinkHtml;\n",
              "          element.appendChild(docLink);\n",
              "        }\n",
              "      </script>\n",
              "    </div>\n",
              "  </div>\n",
              "  "
            ]
          },
          "metadata": {},
          "execution_count": 64
        }
      ],
      "source": [
        "# results sorted\n",
        "predictions_fwd_sorted = predictions_fwd.sort_values(by=[\"Points\"], ascending = False).head(30)\n",
        "predictions_fwd_sorted[prediction_columns]"
      ]
    },
    {
      "cell_type": "markdown",
      "source": [
        "# Saving predictions to files"
      ],
      "metadata": {
        "id": "NYitzLDzcduZ"
      },
      "id": "NYitzLDzcduZ"
    },
    {
      "cell_type": "code",
      "execution_count": 65,
      "id": "43368445-5cc4-45c3-8d46-90935ab138fc",
      "metadata": {
        "id": "43368445-5cc4-45c3-8d46-90935ab138fc"
      },
      "outputs": [],
      "source": [
        "predictions_gk_sorted.to_csv(\"predictions/predictions_gk.csv\")\n",
        "predictions_def_sorted.to_csv(\"predictions/predictions_def.csv\")\n",
        "predictions_mid_sorted.to_csv(\"predictions/predictions_mid.csv\")\n",
        "predictions_fwd_sorted.to_csv(\"predictions/predictions_fwd.csv\")"
      ]
    },
    {
      "cell_type": "code",
      "execution_count": 65,
      "id": "fa55a4ad-748a-4862-a02b-511bef68c9cb",
      "metadata": {
        "id": "fa55a4ad-748a-4862-a02b-511bef68c9cb"
      },
      "outputs": [],
      "source": []
    },
    {
      "cell_type": "markdown",
      "source": [
        "# Predictions for train dataloaders\n",
        "\n"
      ],
      "metadata": {
        "id": "x6Hbsv8JO7rv"
      },
      "id": "x6Hbsv8JO7rv"
    },
    {
      "cell_type": "markdown",
      "source": [
        "## General model"
      ],
      "metadata": {
        "id": "_VMfJx5qPQ-n"
      },
      "id": "_VMfJx5qPQ-n"
    },
    {
      "cell_type": "code",
      "source": [
        "train_predictions_general = generate_predictions(dataloader_general_train, dataset_general_train, net, df_original, FIRST_TRAIN_GW)"
      ],
      "metadata": {
        "id": "WDGzBLFFO_VR"
      },
      "id": "WDGzBLFFO_VR",
      "execution_count": 66,
      "outputs": []
    },
    {
      "cell_type": "code",
      "source": [
        "train_predictions_general.to_csv(\"predictions/train_predictions_general.csv\")"
      ],
      "metadata": {
        "id": "S-tfIcrPO-w0"
      },
      "id": "S-tfIcrPO-w0",
      "execution_count": 67,
      "outputs": []
    },
    {
      "cell_type": "markdown",
      "source": [
        "## Positional models"
      ],
      "metadata": {
        "id": "xpGyA8AvRWBz"
      },
      "id": "xpGyA8AvRWBz"
    },
    {
      "cell_type": "code",
      "source": [
        "train_predictions_gk = generate_predictions(dataloader_gk_train, dataset_gk_train, net_gk, df_gk_original, FIRST_TRAIN_GW)"
      ],
      "metadata": {
        "id": "hSky1pvcRVfA"
      },
      "id": "hSky1pvcRVfA",
      "execution_count": 68,
      "outputs": []
    },
    {
      "cell_type": "code",
      "source": [
        "train_predictions_def = generate_predictions(dataloader_def_train, dataset_def_train, net_def, df_def_original, FIRST_TRAIN_GW)"
      ],
      "metadata": {
        "id": "oMpIL_auRVhv"
      },
      "id": "oMpIL_auRVhv",
      "execution_count": 69,
      "outputs": []
    },
    {
      "cell_type": "code",
      "source": [
        "train_predictions_mid = generate_predictions(dataloader_mid_train, dataset_mid_train, net_mid, df_mid_original, FIRST_TRAIN_GW)"
      ],
      "metadata": {
        "id": "wu_qhhoTSNYk"
      },
      "id": "wu_qhhoTSNYk",
      "execution_count": 70,
      "outputs": []
    },
    {
      "cell_type": "code",
      "source": [
        "train_predictions_fwd = generate_predictions(dataloader_fwd_train, dataset_fwd_train, net_fwd, df_fwd_original, FIRST_TRAIN_GW)"
      ],
      "metadata": {
        "id": "k57vb1rQSt-a"
      },
      "id": "k57vb1rQSt-a",
      "execution_count": 71,
      "outputs": []
    },
    {
      "cell_type": "code",
      "source": [
        "train_predictions_gk.to_csv(\"predictions/train_predictions_gk.csv\")\n",
        "train_predictions_def.to_csv(\"predictions/train_predictions_def.csv\")\n",
        "train_predictions_mid.to_csv(\"predictions/train_predictions_mid.csv\")\n",
        "train_predictions_fwd.to_csv(\"predictions/train_predictions_fwd.csv\")"
      ],
      "metadata": {
        "id": "K0hZmtgZSuBb"
      },
      "id": "K0hZmtgZSuBb",
      "execution_count": 72,
      "outputs": []
    }
  ],
  "metadata": {
    "kernelspec": {
      "display_name": "Python 3 (ipykernel)",
      "language": "python",
      "name": "python3"
    },
    "language_info": {
      "codemirror_mode": {
        "name": "ipython",
        "version": 3
      },
      "file_extension": ".py",
      "mimetype": "text/x-python",
      "name": "python",
      "nbconvert_exporter": "python",
      "pygments_lexer": "ipython3",
      "version": "3.8.0"
    },
    "colab": {
      "provenance": []
    },
    "accelerator": "GPU",
    "gpuClass": "standard"
  },
  "nbformat": 4,
  "nbformat_minor": 5
}