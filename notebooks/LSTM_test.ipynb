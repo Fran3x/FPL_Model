{
  "cells": [
    {
      "cell_type": "markdown",
      "id": "NGPT5xAMvNP0",
      "metadata": {
        "id": "NGPT5xAMvNP0"
      },
      "source": [
        "# Train / load pretrained models"
      ]
    },
    {
      "cell_type": "code",
      "execution_count": 75,
      "id": "mDubFMIUvK96",
      "metadata": {
        "id": "mDubFMIUvK96"
      },
      "outputs": [],
      "source": [
        "train_general = False\n",
        "\n",
        "train_gk = False\n",
        "train_def = False\n",
        "train_mid = False\n",
        "train_fwd = False"
      ]
    },
    {
      "cell_type": "markdown",
      "id": "HQv7wn2lGRxJ",
      "metadata": {
        "id": "HQv7wn2lGRxJ"
      },
      "source": [
        "# Google Colab / Kaggle / PC"
      ]
    },
    {
      "cell_type": "code",
      "execution_count": 76,
      "id": "lWcbiCoePjwh",
      "metadata": {
        "id": "lWcbiCoePjwh"
      },
      "outputs": [],
      "source": [
        "mode = \"Colab\""
      ]
    },
    {
      "cell_type": "code",
      "execution_count": 77,
      "id": "iIMFBRbFGTex",
      "metadata": {
        "colab": {
          "base_uri": "https://localhost:8080/"
        },
        "id": "iIMFBRbFGTex",
        "outputId": "136fc65b-dbd1-48c6-cbad-cea75beb5c70"
      },
      "outputs": [
        {
          "name": "stdout",
          "output_type": "stream",
          "text": [
            "Drive already mounted at /content/gdrive; to attempt to forcibly remount, call drive.mount(\"/content/gdrive\", force_remount=True).\n"
          ]
        }
      ],
      "source": [
        "import os\n",
        "\n",
        "if mode == \"Colab\":\n",
        "    from google.colab import drive\n",
        "    drive.mount('/content/gdrive')\n",
        "    os.chdir(\"/content/gdrive/My Drive/FPL_ML\")\n",
        "    TRAIN_PATH = \"data/final_dataset.csv\"\n",
        "if mode == \"PC\":\n",
        "    os.chdir(\"D:\\PulpitE\\FPL_ML\")\n",
        "    TRAIN_PATH = \"data/final_dataset.csv\"\n",
        "if mode == \"Kaggle\":\n",
        "    TRAIN_PATH = \"/kaggle/input/fpl-dataset/final_dataset.csv\""
      ]
    },
    {
      "cell_type": "markdown",
      "id": "b403b39e-b749-4730-a880-75a6b9ddfe83",
      "metadata": {
        "id": "b403b39e-b749-4730-a880-75a6b9ddfe83"
      },
      "source": [
        "# Imports"
      ]
    },
    {
      "cell_type": "code",
      "execution_count": 78,
      "id": "1382f0d0-60a4-4f2a-b4ce-c54205b18d21",
      "metadata": {
        "id": "1382f0d0-60a4-4f2a-b4ce-c54205b18d21"
      },
      "outputs": [],
      "source": [
        "import pandas as pd\n",
        "\n",
        "import torch\n",
        "import torch.nn as nn\n",
        "\n",
        "import torchvision\n",
        "import torchvision.transforms\n",
        "from torchvision.transforms import ToTensor\n",
        "\n",
        "from torch.utils.data import Dataset, DataLoader\n",
        "import torch.optim as optim\n",
        "\n",
        "import matplotlib.pyplot as plt\n",
        "\n",
        "import numpy as np\n",
        "import random"
      ]
    },
    {
      "cell_type": "markdown",
      "id": "7dd9d155-95e4-4e3d-86ad-c46a6fbb5c95",
      "metadata": {
        "id": "7dd9d155-95e4-4e3d-86ad-c46a6fbb5c95"
      },
      "source": [
        "# Constants and seeds"
      ]
    },
    {
      "cell_type": "code",
      "execution_count": 79,
      "id": "7239f9ad-7a6d-4a3d-9da5-4bac972e1537",
      "metadata": {
        "id": "7239f9ad-7a6d-4a3d-9da5-4bac972e1537"
      },
      "outputs": [],
      "source": [
        "# FIXTURES_IN_SAMPLE\n",
        "FIS = 8\n",
        "\n",
        "# FIXTURES_FOR_PLAYER - minimal number of gameweeks required for a player\n",
        "FFP = 15\n",
        "\n",
        "FIRST_TRAIN_GW = 9\n",
        "LAST_TRAIN_GW = 20\n",
        "\n",
        "FIRST_VALID_GW = 21\n",
        "LAST_VALID_GW = 21\n",
        "\n",
        "# NEXT_GAMEWEEK = 22\n",
        "# LAST_GAMEWEEK = NEXT_GAMEWEEK - 1"
      ]
    },
    {
      "cell_type": "code",
      "execution_count": 80,
      "id": "2d44df04-be21-4e7b-aaa5-612a6210bd44",
      "metadata": {
        "id": "2d44df04-be21-4e7b-aaa5-612a6210bd44"
      },
      "outputs": [],
      "source": [
        "def set_all_seeds(seed):\n",
        "    os.environ[\"PL_GLOBAL_SEED\"] = str(seed)\n",
        "    random.seed(seed)\n",
        "    np.random.seed(seed)\n",
        "    torch.manual_seed(seed)\n",
        "    torch.cuda.manual_seed_all(seed)\n",
        "    torch.backends.cudnn.deterministic = True\n",
        "\n",
        "set_all_seeds(42)"
      ]
    },
    {
      "cell_type": "markdown",
      "id": "83206c3d-ea25-42ca-81df-c388d247ffe3",
      "metadata": {
        "id": "83206c3d-ea25-42ca-81df-c388d247ffe3"
      },
      "source": [
        "# Device"
      ]
    },
    {
      "cell_type": "code",
      "execution_count": 81,
      "id": "0a673f70-8843-4b1a-ad07-ccfea4306d84",
      "metadata": {
        "id": "0a673f70-8843-4b1a-ad07-ccfea4306d84"
      },
      "outputs": [],
      "source": [
        "device = torch.device(\"cuda\")\n",
        "# device = torch.device('mps')\n",
        "# device = torch.device('cpu')"
      ]
    },
    {
      "cell_type": "markdown",
      "id": "83fe6a68-8e90-42af-94c8-c886a1f95c77",
      "metadata": {
        "id": "83fe6a68-8e90-42af-94c8-c886a1f95c77"
      },
      "source": [
        "# Getting data and choosing features"
      ]
    },
    {
      "cell_type": "code",
      "execution_count": 82,
      "id": "4bb7008e-7daa-41ce-b71c-ff06abd53b86",
      "metadata": {
        "id": "4bb7008e-7daa-41ce-b71c-ff06abd53b86"
      },
      "outputs": [],
      "source": [
        "df = pd.read_csv('data/final_dataset.csv')"
      ]
    },
    {
      "cell_type": "code",
      "execution_count": 83,
      "id": "bc939518-2991-4de9-ae25-e0f986522243",
      "metadata": {
        "id": "bc939518-2991-4de9-ae25-e0f986522243"
      },
      "outputs": [],
      "source": [
        "# remembering original dataframes\n",
        "df_original = df\n",
        "\n",
        "df_gk_original = df[df[\"FPL position\"] == \"GK\"]\n",
        "df_def_original = df[df[\"FPL position\"] == \"DEF\"]\n",
        "df_mid_original = df[df[\"FPL position\"] == \"MID\"]\n",
        "df_fwd_original = df[df[\"FPL position\"] == \"FWD\"]"
      ]
    },
    {
      "cell_type": "code",
      "execution_count": 84,
      "id": "PWzStYOfoo2G",
      "metadata": {
        "id": "PWzStYOfoo2G"
      },
      "outputs": [],
      "source": [
        "# df_original.columns"
      ]
    },
    {
      "cell_type": "code",
      "execution_count": 85,
      "id": "8e0c8995-bbf3-4bf2-9123-e6b35c6b0cd8",
      "metadata": {
        "id": "8e0c8995-bbf3-4bf2-9123-e6b35c6b0cd8"
      },
      "outputs": [],
      "source": [
        "info = [\"Name\", \"GW\", \"FPL position\"]\n",
        "other = [\"LSTM\"]\n",
        "features = [\"Min\", \"Gls\", \"Ast\", \"Sh\", \"SoT\", \"xG\", \"npxG\", \"xAG\", \"SCA\", \"GCA\", \"CS\", \"CrdY\", \"CrdR\", \"Opp rating\", \"Team Score\", \"Opp Score\", \"Was Home\"]\n",
        "to_predict = [\"Total Points\"]"
      ]
    },
    {
      "cell_type": "code",
      "execution_count": 86,
      "id": "c4eeb6d7-d07b-4f1c-9c86-52095b7cf379",
      "metadata": {
        "colab": {
          "base_uri": "https://localhost:8080/"
        },
        "id": "c4eeb6d7-d07b-4f1c-9c86-52095b7cf379",
        "outputId": "68e5aac4-84f7-4fd3-dbd1-05dd91a60e3c"
      },
      "outputs": [
        {
          "name": "stderr",
          "output_type": "stream",
          "text": [
            "/usr/local/lib/python3.8/dist-packages/pandas/core/frame.py:3641: SettingWithCopyWarning: \n",
            "A value is trying to be set on a copy of a slice from a DataFrame.\n",
            "Try using .loc[row_indexer,col_indexer] = value instead\n",
            "\n",
            "See the caveats in the documentation: https://pandas.pydata.org/pandas-docs/stable/user_guide/indexing.html#returning-a-view-versus-a-copy\n",
            "  self[k1] = value[k2]\n"
          ]
        }
      ],
      "source": [
        "df = df[info + features + to_predict]\n",
        "df[features + to_predict] = df[features + to_predict].astype(\"float32\")"
      ]
    },
    {
      "cell_type": "code",
      "execution_count": 87,
      "id": "d63ed15f-1efb-4c00-b646-8c55a6c347d1",
      "metadata": {
        "colab": {
          "base_uri": "https://localhost:8080/"
        },
        "id": "d63ed15f-1efb-4c00-b646-8c55a6c347d1",
        "outputId": "54ec36f2-ac05-4359-bb23-786242c8abba"
      },
      "outputs": [
        {
          "data": {
            "text/plain": [
              "(7457, 21)"
            ]
          },
          "execution_count": 87,
          "metadata": {},
          "output_type": "execute_result"
        }
      ],
      "source": [
        "df.shape"
      ]
    },
    {
      "cell_type": "code",
      "execution_count": 88,
      "id": "f36cc7ed-88c3-4ee4-baf1-85393aa3d15d",
      "metadata": {
        "id": "f36cc7ed-88c3-4ee4-baf1-85393aa3d15d"
      },
      "outputs": [],
      "source": [
        "# removing NaN rows and players that appear less than 15 times\n",
        "df = df.dropna()\n",
        "grouped = df.groupby('Name')\n",
        "\n",
        "# taking only players with at least FFP matches in logs\n",
        "df = grouped.filter(lambda x: len(x) >= FFP)"
      ]
    },
    {
      "cell_type": "code",
      "execution_count": 89,
      "id": "06c42b4b-58dd-48fe-a162-14e7564a4441",
      "metadata": {
        "colab": {
          "base_uri": "https://localhost:8080/"
        },
        "id": "06c42b4b-58dd-48fe-a162-14e7564a4441",
        "outputId": "130978a0-fe89-40ca-fd49-6def74be4919"
      },
      "outputs": [
        {
          "data": {
            "text/plain": [
              "(5771, 21)"
            ]
          },
          "execution_count": 89,
          "metadata": {},
          "output_type": "execute_result"
        }
      ],
      "source": [
        "df.shape"
      ]
    },
    {
      "cell_type": "code",
      "execution_count": 90,
      "id": "24fff899-a809-4659-b51e-f1431688507c",
      "metadata": {
        "id": "24fff899-a809-4659-b51e-f1431688507c"
      },
      "outputs": [],
      "source": [
        "# df.head(20)"
      ]
    },
    {
      "cell_type": "code",
      "execution_count": 91,
      "id": "a56bb28e-5b7a-4a99-b18f-73cdf0d41c03",
      "metadata": {
        "id": "a56bb28e-5b7a-4a99-b18f-73cdf0d41c03"
      },
      "outputs": [],
      "source": [
        "last_names = df[\"Name\"].unique()"
      ]
    },
    {
      "cell_type": "markdown",
      "id": "6e4319b4-355b-4121-a0ed-e6cbbdaf93a6",
      "metadata": {
        "id": "6e4319b4-355b-4121-a0ed-e6cbbdaf93a6"
      },
      "source": [
        "# DF to DataLoader"
      ]
    },
    {
      "cell_type": "code",
      "execution_count": 92,
      "id": "d87f8b66-cd79-4fd9-a0eb-a4d229912268",
      "metadata": {
        "id": "d87f8b66-cd79-4fd9-a0eb-a4d229912268"
      },
      "outputs": [],
      "source": [
        "df_train = df[df[\"GW\"] <= LAST_TRAIN_GW]\n",
        "df_valid = df\n",
        "\n",
        "# gk, def, mid, fwd\n",
        "df_gk_train = df[(df[\"FPL position\"] == \"GK\") & (df[\"GW\"] <= LAST_TRAIN_GW)]\n",
        "df_gk_valid = df[(df[\"FPL position\"] == \"GK\") ]\n",
        "\n",
        "df_def_train = df[(df[\"FPL position\"] == \"DEF\") & (df[\"GW\"] <= LAST_TRAIN_GW)]\n",
        "df_def_valid = df[(df[\"FPL position\"] == \"DEF\") ]\n",
        "\n",
        "df_mid_train = df[(df[\"FPL position\"] == \"MID\") & (df[\"GW\"] <= LAST_TRAIN_GW)]\n",
        "df_mid_valid = df[(df[\"FPL position\"] == \"MID\") ]\n",
        "\n",
        "df_fwd_train = df[(df[\"FPL position\"] == \"FWD\") & (df[\"GW\"] <= LAST_TRAIN_GW)]\n",
        "df_fwd_valid = df[(df[\"FPL position\"] == \"FWD\")]"
      ]
    },
    {
      "cell_type": "code",
      "execution_count": 93,
      "id": "75b6dda5-b74e-4ca8-a5e9-ac338cea6f20",
      "metadata": {
        "id": "75b6dda5-b74e-4ca8-a5e9-ac338cea6f20"
      },
      "outputs": [],
      "source": [
        "def init_index_table(df):\n",
        "    names = df[\"Name\"].unique()\n",
        "    result_dict = {}\n",
        "    \n",
        "    current_index = 0\n",
        "    player_index = 0\n",
        "    \n",
        "    for name in names:\n",
        "        sample_index = 0\n",
        "        samples_for_names = df[df[\"Name\"] == name].shape[0] - FIS\n",
        "        for i in range(samples_for_names):\n",
        "            result_dict[current_index] = [player_index, sample_index]\n",
        "            current_index += 1\n",
        "            sample_index += 1\n",
        "        player_index += 1\n",
        "    \n",
        "    return result_dict"
      ]
    },
    {
      "cell_type": "code",
      "execution_count": 94,
      "id": "15fc117a-0b9a-442e-a653-530a52486ff0",
      "metadata": {
        "id": "15fc117a-0b9a-442e-a653-530a52486ff0"
      },
      "outputs": [],
      "source": [
        "class PandasDataset(Dataset):\n",
        "    def __init__(self, dataframe, starting_gw, ending_gw):\n",
        "        self.dataframe = dataframe\n",
        "        self.names = dataframe[\"Name\"].unique()\n",
        "        \n",
        "        self.starting_gw = starting_gw\n",
        "        self.ending_gw = ending_gw\n",
        "        self.cut_unused_rows()\n",
        "        self.length = self.calculate_length()\n",
        "\n",
        "        self.index_table = init_index_table(self.dataframe)\n",
        "        self.transform = torchvision.transforms.Compose([torchvision.transforms.ToTensor()])\n",
        "\n",
        "    def cut_unused_rows(self):\n",
        "        for name in self.names:\n",
        "            df_name = self.dataframe[self.dataframe[\"Name\"] == name]\n",
        "            name_length = df_name.shape[0]\n",
        "            # print(\"NAME LENGTH\", name, name_length, FIS + 1)\n",
        "            if name_length >= FIS + 1:\n",
        "                try:\n",
        "                    first_index = df_name.index.tolist()[0]\n",
        "                except IndexError:\n",
        "                    first_index = None\n",
        "\n",
        "                try:\n",
        "                    last_index = max(FIS, df_name.index[df_name['GW'] < self.starting_gw].tolist()[-1]) - FIS\n",
        "                except:\n",
        "                    last_index = None\n",
        "\n",
        "                # print(\"FIRST LAST INDEX\", name, first_index, last_index)\n",
        "                if first_index != None and last_index != None:\n",
        "                    # print(\"WYCIETO\", name, range(first_index, last_index + 1))\n",
        "                    self.dataframe = self.dataframe.drop(range(first_index, last_index + 1))\n",
        "            else:\n",
        "                # print(\"DROPPING\", name, [df_name.index.tolist()])\n",
        "                self.dataframe = self.dataframe.drop([df_name.index.tolist()])\n",
        "                \n",
        "\n",
        "            # print(\"CUTTING\", name, first_index, last_index, name_length)\n",
        "            # print(\"CUT2\", df_name.index[df_name['GW'] < self.starting_gw].tolist())\n",
        "            # print(self.dataframe.shape)\n",
        "            # print(\"\")\n",
        "\n",
        "    def calculate_length(self):\n",
        "        length = 0\n",
        "        for name in self.names:\n",
        "            # print(name, (self.dataframe[self.dataframe[\"Name\"] == name].shape[0] - FIS))\n",
        "            length += (self.dataframe[self.dataframe[\"Name\"] == name].shape[0] - FIS)\n",
        "        return length\n",
        "\n",
        "    def get_items_info(self):\n",
        "        gws = []\n",
        "        for i in range(self.__len__()):\n",
        "            player_id, sample_id = self.index_table[i]\n",
        "            name = self.names[player_id]\n",
        "            gw = self.dataframe[self.dataframe[\"Name\"] == name].iloc[(sample_id + FIS)][\"GW\"]\n",
        "            gws.append(gw)\n",
        "        return pd.DataFrame(gws)\n",
        "\n",
        "    def __len__(self):\n",
        "        return self.length\n",
        "\n",
        "    def __getitem__(self, idx):\n",
        "        # print(idx)\n",
        "        player_id, sample_id = self.index_table[idx]\n",
        "        name = self.names[player_id]\n",
        "        # print(name)\n",
        "        # print(\"GETITEM DF\", name, player_id, sample_id)\n",
        "\n",
        "        features = self.dataframe[self.dataframe[\"Name\"] == name]\n",
        "        # print(self.dataframe[self.dataframe[\"Name\"] == name])\n",
        "        # print(features[sample_id: (sample_id + 4)])\n",
        "        features = features[sample_id: (sample_id + FIS)].drop(columns=info).values[:, :-1]\n",
        "        # print(features)\n",
        "        # print(features)\n",
        "        # print(type(features))\n",
        "        # print(self.dataframe[self.dataframe[\"Name\"] == name].values[:, -1])\n",
        "        # print(type(self.dataframe[self.dataframe[\"Name\"] == name].values[:, -1]))\n",
        "        # target = self.dataframe[self.dataframe[\"Name\"] == name].values[:, -1]\n",
        "        # target = target.astype(np.float32)\n",
        "        # target = torch.from_numpy(target)\n",
        "        # print(\"GETITEM\", idx, player_id, sample_id, name)\n",
        "        target = np.float32(self.dataframe[self.dataframe[\"Name\"] == name].values[(sample_id + FIS), -1])\n",
        "        # print(name, idx, target, sample_id)\n",
        "        # print(type(target))\n",
        "        return features, target"
      ]
    },
    {
      "cell_type": "code",
      "execution_count": 95,
      "id": "430e5e7d-972d-4eee-9bc0-a6f43ed05e7b",
      "metadata": {
        "id": "430e5e7d-972d-4eee-9bc0-a6f43ed05e7b"
      },
      "outputs": [],
      "source": [
        "dataset_general_train = PandasDataset(df_train, FIRST_TRAIN_GW, LAST_TRAIN_GW)\n",
        "dataset_general_valid = PandasDataset(df_valid, FIRST_VALID_GW, LAST_VALID_GW)\n",
        "\n",
        "dataset_gk_train = PandasDataset(df_gk_train, FIRST_TRAIN_GW, LAST_TRAIN_GW)\n",
        "dataset_gk_valid = PandasDataset(df_gk_valid, FIRST_VALID_GW, LAST_VALID_GW)\n",
        "\n",
        "dataset_def_train = PandasDataset(df_def_train, FIRST_TRAIN_GW, LAST_TRAIN_GW)\n",
        "dataset_def_valid = PandasDataset(df_def_valid, FIRST_VALID_GW, LAST_VALID_GW)\n",
        "\n",
        "dataset_mid_train = PandasDataset(df_mid_train, FIRST_TRAIN_GW, LAST_TRAIN_GW)\n",
        "dataset_mid_valid = PandasDataset(df_mid_valid, FIRST_VALID_GW, LAST_VALID_GW)\n",
        "\n",
        "dataset_fwd_train = PandasDataset(df_fwd_train, FIRST_TRAIN_GW, LAST_TRAIN_GW)\n",
        "dataset_fwd_valid = PandasDataset(df_fwd_valid, FIRST_VALID_GW, LAST_VALID_GW)"
      ]
    },
    {
      "cell_type": "code",
      "execution_count": 96,
      "id": "4ce0452d-89c3-4ec0-bfcd-79ae7587e36b",
      "metadata": {
        "colab": {
          "base_uri": "https://localhost:8080/"
        },
        "id": "4ce0452d-89c3-4ec0-bfcd-79ae7587e36b",
        "outputId": "06d5f1ec-08f8-4587-df4c-04886db5b486"
      },
      "outputs": [
        {
          "data": {
            "text/plain": [
              "(193, 25)"
            ]
          },
          "execution_count": 96,
          "metadata": {},
          "output_type": "execute_result"
        }
      ],
      "source": [
        "dataset_gk_train.__len__(), dataset_gk_valid.__len__()"
      ]
    },
    {
      "cell_type": "code",
      "execution_count": 97,
      "id": "dad3baac-8574-4dd0-af3c-f2d544295f67",
      "metadata": {
        "colab": {
          "base_uri": "https://localhost:8080/"
        },
        "id": "dad3baac-8574-4dd0-af3c-f2d544295f67",
        "outputId": "5ac29019-ee26-4791-ffe1-e14c14856992"
      },
      "outputs": [
        {
          "data": {
            "text/plain": [
              "(725, 100)"
            ]
          },
          "execution_count": 97,
          "metadata": {},
          "output_type": "execute_result"
        }
      ],
      "source": [
        "dataset_def_train.__len__(), dataset_def_valid.__len__()"
      ]
    },
    {
      "cell_type": "code",
      "execution_count": 98,
      "id": "65a42e4a-3f39-43bd-843b-d0225a124342",
      "metadata": {
        "colab": {
          "base_uri": "https://localhost:8080/"
        },
        "id": "65a42e4a-3f39-43bd-843b-d0225a124342",
        "outputId": "963b11dc-04ed-48ad-e040-3f83cf8c3f77"
      },
      "outputs": [
        {
          "data": {
            "text/plain": [
              "(968, 123)"
            ]
          },
          "execution_count": 98,
          "metadata": {},
          "output_type": "execute_result"
        }
      ],
      "source": [
        "dataset_mid_train.__len__(), dataset_mid_valid.__len__()"
      ]
    },
    {
      "cell_type": "code",
      "execution_count": 99,
      "id": "89def15b-7eec-492a-a773-e87ebe22ea18",
      "metadata": {
        "colab": {
          "base_uri": "https://localhost:8080/"
        },
        "id": "89def15b-7eec-492a-a773-e87ebe22ea18",
        "outputId": "9cee4f9b-6028-417c-ad1f-d46764fa5c70"
      },
      "outputs": [
        {
          "data": {
            "text/plain": [
              "(258, 30)"
            ]
          },
          "execution_count": 99,
          "metadata": {},
          "output_type": "execute_result"
        }
      ],
      "source": [
        "dataset_fwd_train.__len__(), dataset_fwd_valid.__len__()"
      ]
    },
    {
      "cell_type": "code",
      "execution_count": 100,
      "id": "HjDPOzwjH3ft",
      "metadata": {
        "colab": {
          "base_uri": "https://localhost:8080/",
          "height": 316
        },
        "id": "HjDPOzwjH3ft",
        "outputId": "9e2c6683-6157-4573-e71a-22d31ae0d820"
      },
      "outputs": [
        {
          "data": {
            "text/plain": [
              "array([[<matplotlib.axes._subplots.AxesSubplot object at 0x7fd9185ad370>]],\n",
              "      dtype=object)"
            ]
          },
          "execution_count": 100,
          "metadata": {},
          "output_type": "execute_result"
        },
        {
          "data": {
            "image/png": "[encoded data removed]",
            "text/plain": [
              "<Figure size 432x288 with 1 Axes>"
            ]
          },
          "metadata": {
            "needs_background": "light"
          },
          "output_type": "display_data"
        }
      ],
      "source": [
        "dataset_fwd_train.get_items_info().hist()"
      ]
    },
    {
      "cell_type": "code",
      "execution_count": 100,
      "id": "N8XUssaXH3i8",
      "metadata": {
        "id": "N8XUssaXH3i8"
      },
      "outputs": [],
      "source": []
    },
    {
      "cell_type": "code",
      "execution_count": 100,
      "id": "lRasKX_SH3mO",
      "metadata": {
        "id": "lRasKX_SH3mO"
      },
      "outputs": [],
      "source": []
    },
    {
      "cell_type": "code",
      "execution_count": 101,
      "id": "fd3a4639-a6c7-40bf-ad2f-72569dfeac42",
      "metadata": {
        "id": "fd3a4639-a6c7-40bf-ad2f-72569dfeac42"
      },
      "outputs": [],
      "source": [
        "batch_size = 16"
      ]
    },
    {
      "cell_type": "code",
      "execution_count": 102,
      "id": "3ef8a258-452d-4ce9-b44f-3370fa58f750",
      "metadata": {
        "id": "3ef8a258-452d-4ce9-b44f-3370fa58f750"
      },
      "outputs": [],
      "source": [
        "dataloader_general_train = DataLoader(dataset_general_train, batch_size=batch_size, shuffle=False)\n",
        "dataloader_general_valid = DataLoader(dataset_general_valid, batch_size=batch_size, shuffle=False)\n",
        "\n",
        "dataloader_gk_train = DataLoader(dataset_gk_train, batch_size=batch_size, shuffle=False)\n",
        "dataloader_def_train = DataLoader(dataset_def_train, batch_size=batch_size, shuffle=False)\n",
        "dataloader_mid_train = DataLoader(dataset_mid_train, batch_size=batch_size, shuffle=False)\n",
        "dataloader_fwd_train = DataLoader(dataset_fwd_train, batch_size=batch_size, shuffle=False)\n",
        "\n",
        "dataloader_gk_valid = DataLoader(dataset_gk_valid, batch_size=batch_size, shuffle=False)\n",
        "dataloader_def_valid = DataLoader(dataset_def_valid, batch_size=batch_size, shuffle=False)\n",
        "dataloader_mid_valid = DataLoader(dataset_mid_valid, batch_size=batch_size, shuffle=False)\n",
        "dataloader_fwd_valid = DataLoader(dataset_fwd_valid, batch_size=batch_size, shuffle=False)"
      ]
    },
    {
      "cell_type": "code",
      "execution_count": 103,
      "id": "231626de-b520-4d08-a1c8-eeca06133061",
      "metadata": {
        "colab": {
          "base_uri": "https://localhost:8080/"
        },
        "id": "231626de-b520-4d08-a1c8-eeca06133061",
        "outputId": "4b1434c8-72c8-4986-c15c-aac4d0b8ea9c"
      },
      "outputs": [
        {
          "data": {
            "text/plain": [
              "(134, 13, 46, 61, 17)"
            ]
          },
          "execution_count": 103,
          "metadata": {},
          "output_type": "execute_result"
        }
      ],
      "source": [
        "len(dataloader_general_train), len(dataloader_gk_train), len(dataloader_def_train), len(dataloader_mid_train), len(dataloader_fwd_train)"
      ]
    },
    {
      "cell_type": "code",
      "execution_count": 104,
      "id": "RbftCpHBBhi6",
      "metadata": {
        "colab": {
          "base_uri": "https://localhost:8080/"
        },
        "id": "RbftCpHBBhi6",
        "outputId": "af1b2e30-4cc8-4776-9a6f-89e82ed290b3"
      },
      "outputs": [
        {
          "data": {
            "text/plain": [
              "(18, 2, 7, 8, 2)"
            ]
          },
          "execution_count": 104,
          "metadata": {},
          "output_type": "execute_result"
        }
      ],
      "source": [
        "len(dataloader_general_valid), len(dataloader_gk_valid), len(dataloader_def_valid), len(dataloader_mid_valid), len(dataloader_fwd_valid)"
      ]
    },
    {
      "cell_type": "markdown",
      "id": "44290e57-5279-400f-bd5d-8bcbf0db2f99",
      "metadata": {
        "id": "44290e57-5279-400f-bd5d-8bcbf0db2f99"
      },
      "source": [
        "# LSTM Model"
      ]
    },
    {
      "cell_type": "code",
      "execution_count": 105,
      "id": "95c48496-4a3d-4dd6-a789-abb04d921dc6",
      "metadata": {
        "id": "95c48496-4a3d-4dd6-a789-abb04d921dc6"
      },
      "outputs": [],
      "source": [
        "class LSTMNetwork(nn.Module):\n",
        "    def __init__(self, input_size, hidden_size, num_layers, output_size, dropout=0.2):\n",
        "        super(LSTMNetwork, self).__init__()\n",
        "        self.lstm = nn.LSTM(input_size, hidden_size, num_layers, dropout=dropout)\n",
        "        self.fc = nn.Linear(hidden_size, output_size)\n",
        "\n",
        "    def forward(self, x):\n",
        "        x = torch.transpose(x, 0, 1)\n",
        "        # x = x.view(-1, batch_size)\n",
        "        # x = torch.transpose(x, 0, 1)\n",
        "        # print(\"FOR\", x.shape)\n",
        "        # print(x.shape)\n",
        "        # print(x.shape)\n",
        "        out, _ = self.lstm(x)\n",
        "        # print(out.shape)\n",
        "        out = self.fc(out[-1])\n",
        "        return out"
      ]
    },
    {
      "cell_type": "markdown",
      "id": "ca697492-5632-47ca-b7ef-7ef7f83f483e",
      "metadata": {
        "id": "ca697492-5632-47ca-b7ef-7ef7f83f483e"
      },
      "source": [
        "# Training loops"
      ]
    },
    {
      "cell_type": "code",
      "execution_count": 106,
      "id": "3e5d6365-866b-497d-9f3d-fff942c03266",
      "metadata": {
        "id": "3e5d6365-866b-497d-9f3d-fff942c03266"
      },
      "outputs": [],
      "source": [
        "criterion = nn.MSELoss()"
      ]
    },
    {
      "cell_type": "code",
      "execution_count": 107,
      "id": "3fc8e104-6c5d-4e09-a238-73e06346286b",
      "metadata": {
        "id": "3fc8e104-6c5d-4e09-a238-73e06346286b"
      },
      "outputs": [],
      "source": [
        "def train_net(net, num_epochs, dataloader_train, dataloader_valid, optimizer):\n",
        "    if len(dataloader_train) <= 0:\n",
        "        print(\"Dataloader has no elements\")\n",
        "        return []\n",
        "\n",
        "    best_model = None\n",
        "    best_val_loss = None\n",
        "\n",
        "    loss_history_train = []\n",
        "    loss_history_valid = []\n",
        "\n",
        "    for epoch in range(num_epochs):\n",
        "        running_loss_train = 0\n",
        "        running_loss_valid = 0\n",
        "\n",
        "        # training\n",
        "        for i, (inputs, targets) in enumerate(dataloader_train):\n",
        "            inputs = torch.flatten(inputs, 1, 2)\n",
        "            inputs = inputs.unsqueeze(2).to(device)\n",
        "            targets = targets.to(device)\n",
        "            # print(\"INPUTS\", inputs.shape)\n",
        "            # print(\"TARGETS\", targets.shape)\n",
        "            # print(targets)\n",
        "            optimizer.zero_grad()\n",
        "            outputs = net(inputs).flatten().to(device)\n",
        "            # print(\"OUTPUTS\", outputs.shape)\n",
        "            loss = criterion(outputs, targets)\n",
        "            running_loss_train += loss.item()\n",
        "            loss.backward()\n",
        "            optimizer.step()\n",
        "\n",
        "        with torch.no_grad():\n",
        "          # valid\n",
        "          for i, (inputs, targets) in enumerate(dataloader_valid):\n",
        "              inputs = torch.flatten(inputs, 1, 2)\n",
        "              inputs = inputs.unsqueeze(2).to(device)\n",
        "              targets = targets.to(device)\n",
        "              # print(\"INPUTS\", inputs.shape)\n",
        "              # print(\"TARGETS\", targets.shape)\n",
        "              # print(targets)\n",
        "              optimizer.zero_grad()\n",
        "              outputs = net(inputs).flatten().to(device)\n",
        "              # print(\"OUTPUTS\", outputs.shape)\n",
        "              loss = criterion(outputs, targets)\n",
        "              running_loss_valid += loss.item()\n",
        "\n",
        "        epoch_valid_loss = running_loss_valid / len(dataloader_valid)\n",
        "\n",
        "        loss_history_train.append(running_loss_train / len(dataloader_train))\n",
        "        loss_history_valid.append(epoch_valid_loss)\n",
        "\n",
        "        if not best_model or epoch_valid_loss < best_val_loss:\n",
        "            best_model = net\n",
        "            best_val_loss = epoch_valid_loss\n",
        "\n",
        "\n",
        "        if epoch % 5 == 0:\n",
        "            print(f'Epoch {epoch} Train: {running_loss_train / len(dataloader_train)} Valid: {running_loss_valid / len(dataloader_valid)}')\n",
        "    \n",
        "    return loss_history_train, loss_history_valid, best_model"
      ]
    },
    {
      "cell_type": "code",
      "execution_count": 108,
      "id": "c29562d5-abfe-4028-b09a-78d9fbdc5c64",
      "metadata": {
        "id": "c29562d5-abfe-4028-b09a-78d9fbdc5c64"
      },
      "outputs": [],
      "source": [
        "def plot_loss_history(loss_history_train, loss_history_valid):\n",
        "    plt.plot(loss_history_train, color='blue', label='Training Loss')\n",
        "    plt.plot(loss_history_valid, color='orange', label='Validation Loss')\n",
        "    plt.xlabel('Epoch')\n",
        "    plt.ylabel('Loss')\n",
        "    plt.legend()\n",
        "    plt.show()"
      ]
    },
    {
      "cell_type": "markdown",
      "id": "e6a2f684-5906-4cf1-8cd4-6f342fb3daf5",
      "metadata": {
        "id": "e6a2f684-5906-4cf1-8cd4-6f342fb3daf5"
      },
      "source": [
        "## Training loop - general net"
      ]
    },
    {
      "cell_type": "code",
      "execution_count": 109,
      "id": "8d1ac896-0465-4422-b291-a13f32f3d3b5",
      "metadata": {
        "id": "8d1ac896-0465-4422-b291-a13f32f3d3b5"
      },
      "outputs": [],
      "source": [
        "net = LSTMNetwork(1, 20, 2, 1, dropout=0.4).to(device)\n",
        "if not train_general:\n",
        "    net.load_state_dict(torch.load('models/best/best_lstm_general.pt'))\n",
        "    best_model_general = net"
      ]
    },
    {
      "cell_type": "code",
      "execution_count": 110,
      "id": "3pjPCNF93P8i",
      "metadata": {
        "colab": {
          "base_uri": "https://localhost:8080/"
        },
        "id": "3pjPCNF93P8i",
        "outputId": "13446147-ef7a-45c7-8ff1-2e86aa3f30c1"
      },
      "outputs": [
        {
          "name": "stdout",
          "output_type": "stream",
          "text": [
            "CPU times: user 4 µs, sys: 0 ns, total: 4 µs\n",
            "Wall time: 8.34 µs\n"
          ]
        }
      ],
      "source": [
        "%%time\n",
        "if train_general:\n",
        "    optimizer = optim.Adam(net.parameters(), lr=0.005)\n",
        "    loss_history_train, loss_history_valid, best_model_general = train_net(net, 10, dataloader_general_train, dataloader_general_valid, optimizer)"
      ]
    },
    {
      "cell_type": "code",
      "execution_count": 111,
      "id": "ac88d75b-3cb0-4747-9efe-c498dd2efdd3",
      "metadata": {
        "id": "ac88d75b-3cb0-4747-9efe-c498dd2efdd3"
      },
      "outputs": [],
      "source": [
        "if train_general:\n",
        "    plot_loss_history(loss_history_train, loss_history_valid)"
      ]
    },
    {
      "cell_type": "markdown",
      "id": "8e1645fc-dd44-4891-a0db-8686d1ac588a",
      "metadata": {
        "id": "8e1645fc-dd44-4891-a0db-8686d1ac588a"
      },
      "source": [
        "## Training loop - goalkeeper net"
      ]
    },
    {
      "cell_type": "code",
      "execution_count": 112,
      "id": "p_HrS0-WL5oC",
      "metadata": {
        "id": "p_HrS0-WL5oC"
      },
      "outputs": [],
      "source": [
        "net_gk = LSTMNetwork(1, 20, 2, 1, dropout=0.4).to(device)\n",
        "if not train_gk:\n",
        "    net_gk.load_state_dict(torch.load('models/best/best_lstm_gk.pt'))\n",
        "    best_model_gk = net_gk"
      ]
    },
    {
      "cell_type": "code",
      "execution_count": 113,
      "id": "85757dc2-113a-4a46-b17f-600293d87a90",
      "metadata": {
        "colab": {
          "base_uri": "https://localhost:8080/"
        },
        "id": "85757dc2-113a-4a46-b17f-600293d87a90",
        "outputId": "b5f6a26f-2f8b-4f13-9c8d-c23a8cd7cffa"
      },
      "outputs": [
        {
          "name": "stdout",
          "output_type": "stream",
          "text": [
            "CPU times: user 3 µs, sys: 1 µs, total: 4 µs\n",
            "Wall time: 5.72 µs\n"
          ]
        }
      ],
      "source": [
        "%%time\n",
        "if train_gk:\n",
        "    optimizer_gk = optim.Adam(net_gk.parameters(), lr=0.01)\n",
        "    loss_history_gk_train, loss_history_gk_valid, best_model_gk = train_net(net_gk, 5, dataloader_gk_train, dataloader_gk_valid, optimizer_gk)"
      ]
    },
    {
      "cell_type": "code",
      "execution_count": 114,
      "id": "8ff0d12f-9099-4d9d-9d10-49dd81ec6a1c",
      "metadata": {
        "id": "8ff0d12f-9099-4d9d-9d10-49dd81ec6a1c"
      },
      "outputs": [],
      "source": [
        "if train_gk:\n",
        "    plot_loss_history(loss_history_gk_train, loss_history_gk_valid)"
      ]
    },
    {
      "cell_type": "markdown",
      "id": "a11943ae-8c43-4169-91a8-fd51445ac5b4",
      "metadata": {
        "id": "a11943ae-8c43-4169-91a8-fd51445ac5b4"
      },
      "source": [
        "## Training loop - defender net"
      ]
    },
    {
      "cell_type": "code",
      "execution_count": 115,
      "id": "rcHl1HFoL3uy",
      "metadata": {
        "id": "rcHl1HFoL3uy"
      },
      "outputs": [],
      "source": [
        "net_def = LSTMNetwork(1, 20, 2, 1, dropout=0.4).to(device)\n",
        "if not train_def:\n",
        "    net_def.load_state_dict(torch.load('models/best/best_lstm_def.pt'))\n",
        "    best_model_def = net_def"
      ]
    },
    {
      "cell_type": "code",
      "execution_count": 116,
      "id": "19b30491-7cf8-4572-abe0-388cb58de9b8",
      "metadata": {
        "colab": {
          "base_uri": "https://localhost:8080/"
        },
        "id": "19b30491-7cf8-4572-abe0-388cb58de9b8",
        "outputId": "69e4b00a-ff18-4888-c96c-d0b20833ffe6"
      },
      "outputs": [
        {
          "name": "stdout",
          "output_type": "stream",
          "text": [
            "CPU times: user 3 µs, sys: 0 ns, total: 3 µs\n",
            "Wall time: 6.2 µs\n"
          ]
        }
      ],
      "source": [
        "%%time\n",
        "if train_def:\n",
        "    optimizer_def = optim.Adam(net_def.parameters(), lr=0.005)\n",
        "    loss_history_def_train, loss_history_def_valid, best_model_def = train_net(net_def, 5, dataloader_def_train, dataloader_def_valid, optimizer_def)"
      ]
    },
    {
      "cell_type": "code",
      "execution_count": 117,
      "id": "a6ebe5b1-712d-46c4-a773-9782a9ae8689",
      "metadata": {
        "id": "a6ebe5b1-712d-46c4-a773-9782a9ae8689"
      },
      "outputs": [],
      "source": [
        "if train_def:    \n",
        "    plot_loss_history(loss_history_def_train, loss_history_def_valid)"
      ]
    },
    {
      "cell_type": "markdown",
      "id": "63c27abd-c720-4dff-bfe4-ad20a3d0a48e",
      "metadata": {
        "id": "63c27abd-c720-4dff-bfe4-ad20a3d0a48e"
      },
      "source": [
        "## Training loop - midfielder net"
      ]
    },
    {
      "cell_type": "code",
      "execution_count": 118,
      "id": "MmN-IwSvL1vO",
      "metadata": {
        "id": "MmN-IwSvL1vO"
      },
      "outputs": [],
      "source": [
        "net_mid = LSTMNetwork(1, 20, 2, 1, dropout=0.4).to(device)\n",
        "if not train_mid:\n",
        "    net_mid.load_state_dict(torch.load('models/best/best_lstm_mid.pt'))\n",
        "    best_model_mid = net_mid"
      ]
    },
    {
      "cell_type": "code",
      "execution_count": 119,
      "id": "154a2ea8-d2f8-48c3-86fd-278be6c26475",
      "metadata": {
        "colab": {
          "base_uri": "https://localhost:8080/"
        },
        "id": "154a2ea8-d2f8-48c3-86fd-278be6c26475",
        "outputId": "000c56ce-6a62-458d-d5ad-45b75f080f13"
      },
      "outputs": [
        {
          "name": "stdout",
          "output_type": "stream",
          "text": [
            "CPU times: user 4 µs, sys: 0 ns, total: 4 µs\n",
            "Wall time: 6.91 µs\n"
          ]
        }
      ],
      "source": [
        "%%time\n",
        "if train_mid:\n",
        "    optimizer_mid = optim.Adam(net_mid.parameters(), lr=0.005)\n",
        "    loss_history_mid_train, loss_history_mid_valid, best_model_mid = train_net(net_mid, 30, dataloader_mid_train, dataloader_mid_valid, optimizer_mid)"
      ]
    },
    {
      "cell_type": "code",
      "execution_count": 120,
      "id": "fff0d3ef-bb1d-4d13-a192-3d76f129914f",
      "metadata": {
        "id": "fff0d3ef-bb1d-4d13-a192-3d76f129914f"
      },
      "outputs": [],
      "source": [
        "if train_mid:\n",
        "    plot_loss_history(loss_history_mid_train, loss_history_mid_valid)"
      ]
    },
    {
      "cell_type": "markdown",
      "id": "01bca3ac-0da4-41eb-a3bb-5c4b14df2cc0",
      "metadata": {
        "id": "01bca3ac-0da4-41eb-a3bb-5c4b14df2cc0"
      },
      "source": [
        "## Training loop - forward net"
      ]
    },
    {
      "cell_type": "code",
      "execution_count": 121,
      "id": "NTwS6zsfLxQ2",
      "metadata": {
        "id": "NTwS6zsfLxQ2"
      },
      "outputs": [],
      "source": [
        "net_fwd = LSTMNetwork(1, 8, 2, 1, dropout=0.5).to(device)\n",
        "if not train_fwd:\n",
        "    net_fwd.load_state_dict(torch.load('models/best/best_lstm_fwd.pt'))\n",
        "    best_model_fwd = net_fwd"
      ]
    },
    {
      "cell_type": "code",
      "execution_count": 149,
      "id": "2bcb7afb-f3f1-4a81-bbea-6da2b512967d",
      "metadata": {
        "colab": {
          "base_uri": "https://localhost:8080/"
        },
        "id": "2bcb7afb-f3f1-4a81-bbea-6da2b512967d",
        "outputId": "47085496-19f9-457b-8d9c-96eb806fa923"
      },
      "outputs": [
        {
          "name": "stdout",
          "output_type": "stream",
          "text": [
            "Epoch 0 Train: 7.809520816101747 Valid: 12.609905242919922\n",
            "Epoch 5 Train: 7.912437745753457 Valid: 13.177128314971924\n",
            "Epoch 10 Train: 7.777547497959698 Valid: 12.084552764892578\n",
            "Epoch 15 Train: 7.72531617213698 Valid: 12.475408554077148\n",
            "Epoch 20 Train: 7.785195931353989 Valid: 12.436337947845459\n",
            "Epoch 25 Train: 7.587983311975703 Valid: 12.961256980895996\n",
            "Epoch 30 Train: 7.826092095936046 Valid: 13.01713228225708\n",
            "Epoch 35 Train: 7.761821967713973 Valid: 13.466744899749756\n",
            "Epoch 40 Train: 7.53772047950941 Valid: 12.274722576141357\n",
            "Epoch 45 Train: 7.805465398465886 Valid: 12.98293399810791\n",
            "Epoch 50 Train: 7.491556397693999 Valid: 12.847684860229492\n",
            "Epoch 55 Train: 7.63367563661407 Valid: 12.89367151260376\n",
            "Epoch 60 Train: 7.571826919475022 Valid: 13.024363040924072\n",
            "Epoch 65 Train: 7.785777205930037 Valid: 13.056885242462158\n",
            "Epoch 70 Train: 7.633624942863689 Valid: 13.19374132156372\n",
            "Epoch 75 Train: 7.663119546630803 Valid: 13.167367458343506\n",
            "Epoch 80 Train: 7.859812012490104 Valid: 12.61832046508789\n",
            "Epoch 85 Train: 7.485793997259701 Valid: 12.749678134918213\n",
            "Epoch 90 Train: 7.837856342687326 Valid: 12.754306316375732\n",
            "Epoch 95 Train: 7.54373702582191 Valid: 12.658531665802002\n",
            "Epoch 100 Train: 7.661691413206213 Valid: 12.480952739715576\n",
            "Epoch 105 Train: 8.314245904193205 Valid: 12.770619869232178\n",
            "Epoch 110 Train: 7.7942704891457275 Valid: 13.128729820251465\n",
            "Epoch 115 Train: 7.5486406359602425 Valid: 12.936980724334717\n",
            "Epoch 120 Train: 7.859905696967068 Valid: 13.064643859863281\n",
            "Epoch 125 Train: 7.6274983707596276 Valid: 12.965373992919922\n",
            "Epoch 130 Train: 7.733601586783633 Valid: 12.870747089385986\n",
            "Epoch 135 Train: 7.788432403522379 Valid: 12.908007144927979\n",
            "Epoch 140 Train: 7.6699853451812965 Valid: 13.372143268585205\n",
            "Epoch 145 Train: 7.623800691436319 Valid: 13.150407314300537\n",
            "Epoch 150 Train: 7.804447692983291 Valid: 12.846150398254395\n",
            "Epoch 155 Train: 8.351932397660088 Valid: 12.530742645263672\n",
            "Epoch 160 Train: 7.7032369094736435 Valid: 12.858750343322754\n",
            "Epoch 165 Train: 7.686568802770446 Valid: 12.667831897735596\n",
            "Epoch 170 Train: 7.7521203554728455 Valid: 12.85460901260376\n",
            "Epoch 175 Train: 7.678427032688084 Valid: 12.956846714019775\n",
            "Epoch 180 Train: 7.622739886536317 Valid: 12.91735029220581\n",
            "Epoch 185 Train: 7.555950294522678 Valid: 12.840534210205078\n",
            "Epoch 190 Train: 7.744090045199675 Valid: 13.1123366355896\n",
            "Epoch 195 Train: 7.643395260852926 Valid: 12.882006168365479\n",
            "Epoch 200 Train: 7.711138048592736 Valid: 12.57717752456665\n",
            "Epoch 205 Train: 7.646484045421376 Valid: 12.99466609954834\n",
            "Epoch 210 Train: 7.56490231086226 Valid: 12.673157691955566\n",
            "Epoch 215 Train: 10.232310070711023 Valid: 14.965371131896973\n",
            "Epoch 220 Train: 9.435850760515999 Valid: 13.460060119628906\n",
            "Epoch 225 Train: 8.297080502790564 Valid: 13.570873260498047\n",
            "Epoch 230 Train: 7.890562934034011 Valid: 13.503250122070312\n",
            "Epoch 235 Train: 8.142340586465949 Valid: 13.54536485671997\n",
            "Epoch 240 Train: 7.727468737784554 Valid: 13.457484245300293\n",
            "Epoch 245 Train: 7.690222827827229 Valid: 13.276701927185059\n",
            "Epoch 250 Train: 7.592185940812616 Valid: 13.195114612579346\n",
            "Epoch 255 Train: 7.6064104805974395 Valid: 13.369447231292725\n",
            "Epoch 260 Train: 7.567612611195621 Valid: 13.17237377166748\n",
            "Epoch 265 Train: 7.604536659577313 Valid: 13.370823860168457\n",
            "Epoch 270 Train: 7.467539342010722 Valid: 13.009479999542236\n",
            "Epoch 275 Train: 7.462462747798247 Valid: 13.14635944366455\n",
            "Epoch 280 Train: 7.502974506686716 Valid: 13.327953815460205\n",
            "Epoch 285 Train: 7.67425139336025 Valid: 12.786518573760986\n",
            "Epoch 290 Train: 7.672719617100323 Valid: 13.365288257598877\n",
            "Epoch 295 Train: 7.639055767480065 Valid: 13.278383731842041\n",
            "Epoch 300 Train: 7.460656539482229 Valid: 12.94591236114502\n",
            "Epoch 305 Train: 7.610045829240014 Valid: 12.703860759735107\n",
            "Epoch 310 Train: 7.6228490734801575 Valid: 13.279902458190918\n",
            "Epoch 315 Train: 7.575663066962186 Valid: 12.95526933670044\n",
            "Epoch 320 Train: 7.503196782925549 Valid: 12.791918277740479\n",
            "Epoch 325 Train: 7.608237655723796 Valid: 12.828187942504883\n",
            "Epoch 330 Train: 7.584769550491782 Valid: 13.287114143371582\n",
            "Epoch 335 Train: 7.527111113071442 Valid: 13.017077922821045\n",
            "Epoch 340 Train: 7.415863573551178 Valid: 12.897804260253906\n",
            "Epoch 345 Train: 7.641338954077048 Valid: 13.21969985961914\n",
            "Epoch 350 Train: 7.595292636576821 Valid: 12.707370281219482\n",
            "Epoch 355 Train: 7.530693925478879 Valid: 13.282272338867188\n",
            "Epoch 360 Train: 7.485652544919183 Valid: 13.140255451202393\n",
            "Epoch 365 Train: 7.368044674396515 Valid: 12.90995979309082\n",
            "Epoch 370 Train: 7.769230484962463 Valid: 13.166079044342041\n",
            "Epoch 375 Train: 7.3751780793947335 Valid: 12.856478214263916\n",
            "Epoch 380 Train: 7.550445121000795 Valid: 13.003886699676514\n",
            "Epoch 385 Train: 7.544806029866724 Valid: 12.992380619049072\n",
            "Epoch 390 Train: 7.5768668997813675 Valid: 12.971696376800537\n",
            "Epoch 395 Train: 7.371025641174877 Valid: 13.042500972747803\n",
            "Epoch 400 Train: 7.536869390045895 Valid: 12.821699619293213\n",
            "Epoch 405 Train: 7.5721177020493675 Valid: 12.812017440795898\n",
            "Epoch 410 Train: 7.723009669605424 Valid: 13.02273416519165\n",
            "Epoch 415 Train: 7.573030545431025 Valid: 12.853625297546387\n",
            "Epoch 420 Train: 7.409625932574272 Valid: 12.678557395935059\n",
            "Epoch 425 Train: 7.318468667128506 Valid: 13.16309928894043\n",
            "Epoch 430 Train: 7.45270799100399 Valid: 13.099677085876465\n",
            "Epoch 435 Train: 7.523428748635685 Valid: 12.89530086517334\n",
            "Epoch 440 Train: 7.509055261664531 Valid: 12.516679763793945\n",
            "Epoch 445 Train: 7.612300166312386 Valid: 13.050026893615723\n",
            "Epoch 450 Train: 7.457618602935006 Valid: 12.88664197921753\n",
            "Epoch 455 Train: 7.679845040335374 Valid: 12.838324546813965\n",
            "Epoch 460 Train: 7.557863091721254 Valid: 12.64287519454956\n",
            "Epoch 465 Train: 7.625786276424632 Valid: 13.132364749908447\n",
            "Epoch 470 Train: 7.487811721423093 Valid: 12.860157489776611\n",
            "Epoch 475 Train: 7.455974954016068 Valid: 12.569208145141602\n",
            "Epoch 480 Train: 7.529703091172611 Valid: 12.825506687164307\n",
            "Epoch 485 Train: 7.5172989561277275 Valid: 12.856231212615967\n",
            "Epoch 490 Train: 7.463805498445735 Valid: 14.090453147888184\n",
            "Epoch 495 Train: 7.449446615050821 Valid: 12.810047149658203\n",
            "Epoch 500 Train: 7.438493544564528 Valid: 14.069018363952637\n",
            "Epoch 505 Train: 7.3420741698321175 Valid: 12.720034122467041\n",
            "Epoch 510 Train: 7.600995528347352 Valid: 12.782615184783936\n",
            "Epoch 515 Train: 7.643194942789919 Valid: 12.66556692123413\n",
            "Epoch 520 Train: 7.67117294143228 Valid: 13.342058181762695\n",
            "Epoch 525 Train: 7.5417200063957885 Valid: 14.169587135314941\n",
            "Epoch 530 Train: 7.717626869678497 Valid: 13.0877046585083\n",
            "Epoch 535 Train: 7.4900363026296395 Valid: 12.14513349533081\n",
            "Epoch 540 Train: 7.573117633952814 Valid: 12.02971601486206\n",
            "Epoch 545 Train: 7.641098001424004 Valid: 13.13073444366455\n",
            "Epoch 550 Train: 7.551066135658937 Valid: 12.829070568084717\n",
            "Epoch 555 Train: 7.87853279709816 Valid: 12.772282123565674\n",
            "Epoch 560 Train: 7.823760050184586 Valid: 12.549530506134033\n",
            "Epoch 565 Train: 7.6383537825416115 Valid: 12.49712324142456\n",
            "Epoch 570 Train: 7.955628293402055 Valid: 12.609789371490479\n",
            "Epoch 575 Train: 7.603322750505279 Valid: 12.913279056549072\n",
            "Epoch 580 Train: 7.9242635088808395 Valid: 12.263719081878662\n",
            "Epoch 585 Train: 8.033378885072821 Valid: 13.38163423538208\n",
            "Epoch 590 Train: 7.65646433216684 Valid: 12.80766773223877\n",
            "Epoch 595 Train: 7.926278783118024 Valid: 13.738789081573486\n",
            "Epoch 600 Train: 8.23580046436366 Valid: 13.986529350280762\n",
            "Epoch 605 Train: 7.458760561311946 Valid: 13.744861602783203\n",
            "Epoch 610 Train: 7.537236381979549 Valid: 12.068066120147705\n",
            "Epoch 615 Train: 7.307148137513329 Valid: 12.188617706298828\n",
            "Epoch 620 Train: 7.339765683254775 Valid: 12.713250160217285\n",
            "Epoch 625 Train: 7.5337843051289815 Valid: 13.668569087982178\n",
            "Epoch 630 Train: 7.618717470589806 Valid: 12.45815658569336\n",
            "Epoch 635 Train: 7.49209557123044 Valid: 12.58122444152832\n",
            "Epoch 640 Train: 7.50725652014508 Valid: 12.844560146331787\n",
            "Epoch 645 Train: 7.632495725417838 Valid: 12.59237003326416\n",
            "Epoch 650 Train: 7.35230681475471 Valid: 12.54786729812622\n",
            "Epoch 655 Train: 7.639444822774214 Valid: 12.562941074371338\n",
            "Epoch 660 Train: 7.557978844817947 Valid: 12.697227001190186\n",
            "Epoch 665 Train: 7.507989285623326 Valid: 13.66553544998169\n",
            "Epoch 670 Train: 7.408113424173173 Valid: 12.858179092407227\n",
            "Epoch 675 Train: 7.547479498912306 Valid: 12.996081352233887\n",
            "Epoch 680 Train: 7.734264677938293 Valid: 12.46624231338501\n",
            "Epoch 685 Train: 7.57271321906763 Valid: 12.622267246246338\n",
            "Epoch 690 Train: 7.370331592419568 Valid: 12.511252880096436\n",
            "Epoch 695 Train: 7.339518236763337 Valid: 12.645499229431152\n",
            "Epoch 700 Train: 7.533486385117559 Valid: 12.41743516921997\n",
            "Epoch 705 Train: 7.47470035272486 Valid: 12.254805088043213\n",
            "Epoch 710 Train: 7.666078868157723 Valid: 12.736788272857666\n",
            "Epoch 715 Train: 7.37696975688724 Valid: 12.603558540344238\n",
            "Epoch 720 Train: 7.382332603721058 Valid: 12.506100177764893\n",
            "Epoch 725 Train: 7.583653554320335 Valid: 12.88807487487793\n",
            "Epoch 730 Train: 7.459137057556825 Valid: 12.74235200881958\n",
            "Epoch 735 Train: 7.563893770470338 Valid: 13.483985900878906\n",
            "Epoch 740 Train: 7.318825791863834 Valid: 12.171361446380615\n",
            "Epoch 745 Train: 7.46040120983825 Valid: 12.816707134246826\n",
            "Epoch 750 Train: 7.3820372749777405 Valid: 12.614280700683594\n",
            "Epoch 755 Train: 7.312392635380521 Valid: 12.232555866241455\n",
            "Epoch 760 Train: 7.59283322095871 Valid: 12.505126953125\n",
            "Epoch 765 Train: 7.461253304691875 Valid: 12.414029121398926\n",
            "Epoch 770 Train: 7.5371940749533035 Valid: 12.413377285003662\n",
            "Epoch 775 Train: 7.61146266670788 Valid: 12.78053331375122\n",
            "Epoch 780 Train: 7.4745233409545 Valid: 13.58640193939209\n",
            "Epoch 785 Train: 7.555884480476379 Valid: 13.966485500335693\n",
            "Epoch 790 Train: 7.592341629021308 Valid: 12.417949199676514\n",
            "Epoch 795 Train: 7.27933446449392 Valid: 13.672863483428955\n",
            "Epoch 800 Train: 7.561081561972113 Valid: 12.442614078521729\n",
            "Epoch 805 Train: 7.592735598192496 Valid: 12.86211109161377\n",
            "Epoch 810 Train: 7.471857592463493 Valid: 12.484898090362549\n",
            "Epoch 815 Train: 7.502628748031223 Valid: 12.409564018249512\n",
            "Epoch 820 Train: 7.313643122420592 Valid: 12.391548156738281\n",
            "Epoch 825 Train: 7.415681416497511 Valid: 12.452058792114258\n",
            "Epoch 830 Train: 7.611757504589417 Valid: 12.342129707336426\n",
            "Epoch 835 Train: 8.877139512230368 Valid: 12.57942819595337\n",
            "Epoch 840 Train: 7.65937221400878 Valid: 12.753003597259521\n",
            "Epoch 845 Train: 7.617750311599059 Valid: 13.666208267211914\n",
            "Epoch 850 Train: 7.3750456755652145 Valid: 12.709233283996582\n",
            "Epoch 855 Train: 7.520049351103165 Valid: 12.182531356811523\n",
            "Epoch 860 Train: 7.516722450361533 Valid: 12.515583515167236\n",
            "Epoch 865 Train: 7.490953909123645 Valid: 13.717603206634521\n",
            "Epoch 870 Train: 7.448286561404958 Valid: 13.574701309204102\n",
            "Epoch 875 Train: 7.622489843298407 Valid: 12.383216381072998\n",
            "Epoch 880 Train: 7.331822279621573 Valid: 14.156312942504883\n",
            "Epoch 885 Train: 7.333533919909421 Valid: 12.007857322692871\n",
            "Epoch 890 Train: 7.783337412511601 Valid: 12.666495323181152\n",
            "Epoch 895 Train: 7.2454648841829865 Valid: 12.30931043624878\n",
            "Epoch 900 Train: 7.793491850881016 Valid: 14.05860948562622\n",
            "Epoch 905 Train: 7.564135795130449 Valid: 12.152878761291504\n",
            "Epoch 910 Train: 7.713761631180258 Valid: 13.37564992904663\n",
            "Epoch 915 Train: 7.51911387724035 Valid: 11.373387336730957\n",
            "Epoch 920 Train: 7.412697409882265 Valid: 11.818161964416504\n",
            "Epoch 925 Train: 7.307262730949065 Valid: 12.618547916412354\n",
            "Epoch 930 Train: 7.455004493979847 Valid: 12.488715171813965\n",
            "Epoch 935 Train: 7.105538392329917 Valid: 12.14020299911499\n",
            "Epoch 940 Train: 7.569049879032023 Valid: 11.511138439178467\n",
            "Epoch 945 Train: 7.712300457498607 Valid: 13.80287218093872\n",
            "Epoch 950 Train: 7.541051592020428 Valid: 12.102985858917236\n",
            "Epoch 955 Train: 7.541864189154961 Valid: 13.092640399932861\n",
            "Epoch 960 Train: 7.346482162966447 Valid: 12.458751678466797\n",
            "Epoch 965 Train: 7.549795913345673 Valid: 12.98770523071289\n",
            "Epoch 970 Train: 7.362891991348827 Valid: 12.615414142608643\n",
            "Epoch 975 Train: 7.711571182398235 Valid: 11.336455821990967\n",
            "Epoch 980 Train: 7.483963840148029 Valid: 12.544400215148926\n",
            "Epoch 985 Train: 9.03368545455091 Valid: 13.630258560180664\n",
            "Epoch 990 Train: 7.824959539753549 Valid: 12.875889301300049\n",
            "Epoch 995 Train: 7.666245767298867 Valid: 12.77435827255249\n",
            "Epoch 1000 Train: 7.501865074915044 Valid: 13.37992525100708\n",
            "Epoch 1005 Train: 8.432926374761497 Valid: 13.419134140014648\n",
            "Epoch 1010 Train: 8.355121889535118 Valid: 13.039947509765625\n",
            "Epoch 1015 Train: 8.069623521145653 Valid: 12.719635009765625\n",
            "Epoch 1020 Train: 7.972101693644243 Valid: 13.026895523071289\n",
            "Epoch 1025 Train: 8.210951657856212 Valid: 12.668810367584229\n",
            "Epoch 1030 Train: 8.13171223507208 Valid: 12.849750995635986\n",
            "Epoch 1035 Train: 8.129325347788194 Valid: 14.057236671447754\n",
            "Epoch 1040 Train: 7.974580424673417 Valid: 12.810361862182617\n",
            "Epoch 1045 Train: 8.098142725579878 Valid: 12.983534336090088\n",
            "Epoch 1050 Train: 7.583753557766185 Valid: 13.608235359191895\n",
            "Epoch 1055 Train: 7.383092887261334 Valid: 12.400272369384766\n",
            "Epoch 1060 Train: 7.428111728499918 Valid: 12.492542266845703\n",
            "Epoch 1065 Train: 7.380223126972423 Valid: 12.589013576507568\n",
            "Epoch 1070 Train: 7.349369951907327 Valid: 12.497549057006836\n",
            "Epoch 1075 Train: 7.362114327795365 Valid: 12.160269737243652\n",
            "Epoch 1080 Train: 7.465148659313426 Valid: 12.386120796203613\n",
            "Epoch 1085 Train: 7.259862068821402 Valid: 12.433259010314941\n",
            "Epoch 1090 Train: 7.250071436166763 Valid: 13.580731391906738\n",
            "Epoch 1095 Train: 7.440592455951607 Valid: 12.527067184448242\n",
            "Epoch 1100 Train: 7.367802879389594 Valid: 13.071314334869385\n",
            "Epoch 1105 Train: 7.488793830661213 Valid: 12.484137535095215\n",
            "Epoch 1110 Train: 7.488255672595081 Valid: 12.046055793762207\n",
            "Epoch 1115 Train: 7.331066888921401 Valid: 12.094014644622803\n",
            "Epoch 1120 Train: 7.4849588033907555 Valid: 12.373668670654297\n",
            "Epoch 1125 Train: 7.345845468780574 Valid: 12.59703016281128\n",
            "Epoch 1130 Train: 7.443003202624181 Valid: 12.26794719696045\n",
            "Epoch 1135 Train: 7.444810031091466 Valid: 12.717511653900146\n",
            "Epoch 1140 Train: 7.249086125808604 Valid: 12.33481216430664\n",
            "Epoch 1145 Train: 7.420146561720792 Valid: 12.666168689727783\n",
            "Epoch 1150 Train: 7.28924684138859 Valid: 12.719250202178955\n",
            "Epoch 1155 Train: 7.251969463684979 Valid: 12.340728759765625\n",
            "Epoch 1160 Train: 7.33173006772995 Valid: 12.79481029510498\n",
            "Epoch 1165 Train: 7.319836378097534 Valid: 12.931622982025146\n",
            "Epoch 1170 Train: 7.438692909829757 Valid: 12.506590843200684\n",
            "Epoch 1175 Train: 7.200238803730292 Valid: 12.693393230438232\n",
            "Epoch 1180 Train: 7.692966909969554 Valid: 12.831211566925049\n",
            "Epoch 1185 Train: 7.368188510046286 Valid: 13.528010845184326\n",
            "Epoch 1190 Train: 7.327710931791978 Valid: 12.189237594604492\n",
            "Epoch 1195 Train: 7.537614346865346 Valid: 12.44270658493042\n",
            "Epoch 1200 Train: 7.209317384397282 Valid: 12.77844524383545\n",
            "Epoch 1205 Train: 7.509460067924331 Valid: 12.786751747131348\n",
            "Epoch 1210 Train: 7.304349035024643 Valid: 12.714035034179688\n",
            "Epoch 1215 Train: 7.30301915547427 Valid: 12.762859344482422\n",
            "Epoch 1220 Train: 7.272823235567878 Valid: 13.560640335083008\n",
            "Epoch 1225 Train: 7.604741966023164 Valid: 14.091306209564209\n",
            "Epoch 1230 Train: 7.255516385330873 Valid: 12.564673900604248\n",
            "Epoch 1235 Train: 7.221968116129146 Valid: 11.896160125732422\n",
            "Epoch 1240 Train: 7.667375923079603 Valid: 12.512571334838867\n",
            "Epoch 1245 Train: 7.355860618983998 Valid: 12.408647060394287\n",
            "Epoch 1250 Train: 7.39416934199193 Valid: 12.812116622924805\n",
            "Epoch 1255 Train: 7.295458129223655 Valid: 13.300546646118164\n",
            "Epoch 1260 Train: 7.340800415943651 Valid: 12.534506797790527\n",
            "Epoch 1265 Train: 7.443364067989237 Valid: 12.559978485107422\n",
            "Epoch 1270 Train: 7.2945485781220825 Valid: 12.50388765335083\n",
            "Epoch 1275 Train: 7.385350809377782 Valid: 13.085689067840576\n",
            "Epoch 1280 Train: 7.383514960022533 Valid: 14.403185367584229\n",
            "Epoch 1285 Train: 7.419674089726279 Valid: 12.873455047607422\n",
            "Epoch 1290 Train: 7.315765445723253 Valid: 12.807297706604004\n",
            "Epoch 1295 Train: 7.450716924141435 Valid: 12.892198085784912\n",
            "Epoch 1300 Train: 7.51913164117757 Valid: 12.626388549804688\n",
            "Epoch 1305 Train: 7.76760129367604 Valid: 12.720133304595947\n",
            "Epoch 1310 Train: 7.638654210988213 Valid: 12.702909469604492\n",
            "Epoch 1315 Train: 7.329080776256673 Valid: 12.101314544677734\n",
            "Epoch 1320 Train: 7.364926746662925 Valid: 12.61012315750122\n",
            "Epoch 1325 Train: 7.334192905355902 Valid: 12.700675964355469\n",
            "Epoch 1330 Train: 7.465407929876271 Valid: 13.859067440032959\n",
            "Epoch 1335 Train: 7.3673798687317795 Valid: 12.638839721679688\n",
            "Epoch 1340 Train: 7.401297236190123 Valid: 12.770041942596436\n",
            "Epoch 1345 Train: 7.317383522496504 Valid: 12.141786098480225\n",
            "Epoch 1350 Train: 7.3415502835722535 Valid: 12.618138313293457\n",
            "Epoch 1355 Train: 7.373952493948095 Valid: 12.66655969619751\n",
            "Epoch 1360 Train: 7.755066683187204 Valid: 12.575963973999023\n",
            "Epoch 1365 Train: 7.362022028249853 Valid: 12.752501964569092\n",
            "Epoch 1370 Train: 8.374166534227484 Valid: 14.108451843261719\n",
            "Epoch 1375 Train: 8.141039041911855 Valid: 13.655431747436523\n",
            "Epoch 1380 Train: 8.290066273773418 Valid: 13.906365394592285\n",
            "Epoch 1385 Train: 8.18710943179972 Valid: 13.72253704071045\n",
            "Epoch 1390 Train: 7.99024706027087 Valid: 13.6395845413208\n",
            "Epoch 1395 Train: 8.14372047957252 Valid: 12.311850547790527\n",
            "Epoch 1400 Train: 8.027087173041176 Valid: 13.43929386138916\n",
            "Epoch 1405 Train: 8.144446741132175 Valid: 12.201694011688232\n",
            "Epoch 1410 Train: 8.056128950680003 Valid: 12.54591703414917\n",
            "Epoch 1415 Train: 8.15991472496706 Valid: 12.379733562469482\n",
            "Epoch 1420 Train: 8.040353098336388 Valid: 13.09224557876587\n",
            "Epoch 1425 Train: 8.25638131534352 Valid: 13.485228538513184\n",
            "Epoch 1430 Train: 7.980219802435706 Valid: 12.306288242340088\n",
            "Epoch 1435 Train: 8.233201265335083 Valid: 12.898860454559326\n",
            "Epoch 1440 Train: 8.061559479026233 Valid: 13.26780891418457\n",
            "Epoch 1445 Train: 8.057147253962125 Valid: 12.905503749847412\n",
            "Epoch 1450 Train: 8.170079332940718 Valid: 12.977891445159912\n",
            "Epoch 1455 Train: 8.020059746854445 Valid: 13.268234252929688\n",
            "Epoch 1460 Train: 8.22293862174539 Valid: 13.077743530273438\n",
            "Epoch 1465 Train: 8.076136515421027 Valid: 13.308425903320312\n",
            "Epoch 1470 Train: 8.143612805534811 Valid: 13.032459259033203\n",
            "Epoch 1475 Train: 8.115269783665152 Valid: 12.896590232849121\n",
            "Epoch 1480 Train: 8.152645528316498 Valid: 12.593767642974854\n",
            "Epoch 1485 Train: 7.957188697422252 Valid: 12.856122970581055\n",
            "Epoch 1490 Train: 7.962586346794577 Valid: 13.194181442260742\n",
            "Epoch 1495 Train: 7.779967409722945 Valid: 13.275667667388916\n",
            "CPU times: user 10min 21s, sys: 6.03 s, total: 10min 27s\n",
            "Wall time: 10min 24s\n"
          ]
        }
      ],
      "source": [
        "%%time\n",
        "if train_fwd:\n",
        "    optimizer_fwd = optim.Adam(net_fwd.parameters(), lr=0.0001)\n",
        "    loss_history_fwd_train, loss_history_fwd_valid, best_model_fwd = train_net(net_fwd, 1500, dataloader_fwd_train, dataloader_fwd_valid, optimizer_fwd)"
      ]
    },
    {
      "cell_type": "code",
      "execution_count": 150,
      "id": "b4915930-85c2-475e-8af8-820f1d32f5c1",
      "metadata": {
        "colab": {
          "base_uri": "https://localhost:8080/",
          "height": 279
        },
        "id": "b4915930-85c2-475e-8af8-820f1d32f5c1",
        "outputId": "fe89c5c3-fe17-4217-9ccc-3d992fd108d3"
      },
      "outputs": [
        {
          "data": {
            "image/png": "[encoded data removed]",
            "text/plain": [
              "<Figure size 432x288 with 1 Axes>"
            ]
          },
          "metadata": {
            "needs_background": "light"
          },
          "output_type": "display_data"
        }
      ],
      "source": [
        "if train_fwd:\n",
        "    plot_loss_history(loss_history_fwd_train, loss_history_fwd_valid)"
      ]
    },
    {
      "cell_type": "markdown",
      "id": "aEg01NBwVZu8",
      "metadata": {
        "id": "aEg01NBwVZu8"
      },
      "source": [
        "# Saving models to files"
      ]
    },
    {
      "cell_type": "code",
      "execution_count": 124,
      "id": "qHSzIWHFVbX3",
      "metadata": {
        "id": "qHSzIWHFVbX3"
      },
      "outputs": [],
      "source": [
        "# general model\n",
        "torch.save(net.state_dict(), 'models/regular/lstm_general.pt')\n",
        "torch.save(best_model_general.state_dict(), 'models/best/best_lstm_general.pt')\n",
        "\n",
        "# positional models\n",
        "if train_gk:\n",
        "    torch.save(net_gk.state_dict(), 'models/regular/lstm_gk.pt')\n",
        "    torch.save(best_model_gk.state_dict(), 'models/best/best_lstm_gk.pt')\n",
        "\n",
        "if train_def:\n",
        "    torch.save(net_def.state_dict(), 'models/regular/lstm_def.pt')\n",
        "    torch.save(best_model_def.state_dict(), 'models/best/best_lstm_def.pt')\n",
        "\n",
        "if train_mid:\n",
        "    torch.save(net_mid.state_dict(), 'models/regular/lstm_mid.pt')\n",
        "    torch.save(best_model_mid.state_dict(), 'models/best/best_lstm_mid.pt')\n",
        "\n",
        "if train_fwd:\n",
        "    torch.save(net_fwd.state_dict(), 'models/regular/lstm_fwd.pt')\n",
        "    torch.save(best_model_fwd.state_dict(), 'models/best/best_lstm_fwd.pt')"
      ]
    },
    {
      "cell_type": "markdown",
      "id": "222c6cfd-5148-4793-a9f7-6dfa76115a68",
      "metadata": {
        "id": "222c6cfd-5148-4793-a9f7-6dfa76115a68"
      },
      "source": [
        "# Next GW predictions - general model"
      ]
    },
    {
      "cell_type": "code",
      "execution_count": 125,
      "id": "3c0aef7e-f7d8-4337-8cd8-f88afab90872",
      "metadata": {
        "id": "3c0aef7e-f7d8-4337-8cd8-f88afab90872"
      },
      "outputs": [],
      "source": [
        "def generate_predictions(dataloader_pos, dataset_pos, net_pos, df_original, first_gw):\n",
        "    index = 0\n",
        "    predictions_pos = []\n",
        "    for inputs, target in dataloader_pos:\n",
        "        inputs = torch.flatten(inputs, 1, 2)\n",
        "        inputs = inputs.unsqueeze(2).to(device)\n",
        "\n",
        "        # print(\"Inputs\", inputs)\n",
        "        # print(\"Target\", target)\n",
        "        # print(\"INPUTS\", inputs)\n",
        "        # print(inputs)\n",
        "        outputs = net_pos(inputs).to(device)\n",
        "        # print(\"OUTPUTS\", outputs)\n",
        "        for output in outputs:\n",
        "            player_id, sample_id = dataset_pos.index_table[index]\n",
        "            name = dataset_pos.names[player_id]\n",
        "            points = round(output.item(), 2)\n",
        "            # print(\"DFORW NEXT\", player_id, sample_id, name, points)\n",
        "            df_row = df_original[(df_original[\"Name\"] == name) & (df_original[\"GW\"] >= first_gw)].iloc[sample_id]\n",
        "            # print(\"DFROW\", df_row)\n",
        "            df_row[\"Points\"] = points\n",
        "            df_gw = df_row[\"GW\"]\n",
        "            df_opp = df_row[\"Opponent\"]\n",
        "\n",
        "            # print(\"GEN PRED\", player_id, sample_id, name, points, df_gw, df_opp)\n",
        "            \n",
        "            gw = sample_id + FIS + 1 # wrong\n",
        "            predictions_pos.append(df_row)\n",
        "            # df.loc[(df[\"Name\"] == name) & (df[\"GW\"] == gw), \"LSTM\"] = points\n",
        "            index += 1\n",
        "    \n",
        "    output_df = pd.DataFrame(predictions_pos)\n",
        "    output_df = output_df.loc[:, ~output_df.columns.str.contains('^Unnamed')]\n",
        "    return output_df"
      ]
    },
    {
      "cell_type": "code",
      "execution_count": 126,
      "id": "4oNphdyqzFsE",
      "metadata": {
        "id": "4oNphdyqzFsE"
      },
      "outputs": [],
      "source": [
        "prediction_columns = [\"Name\", \"GW\", \"Opponent\", \"Was Home\", \"Total Points\", \"Points\"]"
      ]
    },
    {
      "cell_type": "code",
      "execution_count": 127,
      "id": "ZOJBQIAXMqIV",
      "metadata": {
        "id": "ZOJBQIAXMqIV"
      },
      "outputs": [],
      "source": [
        "predictions = generate_predictions(dataloader_general_valid, dataset_general_valid, net, df_original, FIRST_VALID_GW)"
      ]
    },
    {
      "cell_type": "code",
      "execution_count": 128,
      "id": "Nb5LI03pbVe1",
      "metadata": {
        "id": "Nb5LI03pbVe1"
      },
      "outputs": [],
      "source": [
        "# dataset_general_valid.__getitem__(279)"
      ]
    },
    {
      "cell_type": "code",
      "execution_count": 129,
      "id": "i00d2_cSHh5u",
      "metadata": {
        "colab": {
          "base_uri": "https://localhost:8080/",
          "height": 677
        },
        "id": "i00d2_cSHh5u",
        "outputId": "d0e1f79f-c14c-4be4-a88e-24729db33a8f"
      },
      "outputs": [
        {
          "data": {
            "text/html": [
              "\n",
              "  <div id=\"df-71782594-2b31-4467-a899-83e4524875b9\">\n",
              "    <div class=\"colab-df-container\">\n",
              "      <div>\n",
              "<style scoped>\n",
              "    .dataframe tbody tr th:only-of-type {\n",
              "        vertical-align: middle;\n",
              "    }\n",
              "\n",
              "    .dataframe tbody tr th {\n",
              "        vertical-align: top;\n",
              "    }\n",
              "\n",
              "    .dataframe thead th {\n",
              "        text-align: right;\n",
              "    }\n",
              "</style>\n",
              "<table border=\"1\" class=\"dataframe\">\n",
              "  <thead>\n",
              "    <tr style=\"text-align: right;\">\n",
              "      <th></th>\n",
              "      <th>Name</th>\n",
              "      <th>GW</th>\n",
              "      <th>Opponent</th>\n",
              "      <th>Was Home</th>\n",
              "      <th>Total Points</th>\n",
              "      <th>Points</th>\n",
              "    </tr>\n",
              "  </thead>\n",
              "  <tbody>\n",
              "    <tr>\n",
              "      <th>3401</th>\n",
              "      <td>Brennan-Johnson</td>\n",
              "      <td>21</td>\n",
              "      <td>Bournemouth</td>\n",
              "      <td>0.0</td>\n",
              "      <td>5.0</td>\n",
              "      <td>2.83</td>\n",
              "    </tr>\n",
              "    <tr>\n",
              "      <th>6684</th>\n",
              "      <td>Takehiro-Tomiyasu</td>\n",
              "      <td>21</td>\n",
              "      <td>Manchester Utd</td>\n",
              "      <td>1.0</td>\n",
              "      <td>4.0</td>\n",
              "      <td>2.83</td>\n",
              "    </tr>\n",
              "    <tr>\n",
              "      <th>4790</th>\n",
              "      <td>Joao-Moutinho</td>\n",
              "      <td>21</td>\n",
              "      <td>Manchester City</td>\n",
              "      <td>0.0</td>\n",
              "      <td>1.0</td>\n",
              "      <td>2.83</td>\n",
              "    </tr>\n",
              "    <tr>\n",
              "      <th>7140</th>\n",
              "      <td>Ben-White</td>\n",
              "      <td>21</td>\n",
              "      <td>Manchester Utd</td>\n",
              "      <td>1.0</td>\n",
              "      <td>0.0</td>\n",
              "      <td>2.83</td>\n",
              "    </tr>\n",
              "    <tr>\n",
              "      <th>4850</th>\n",
              "      <td>Vitaliy-Mykolenko</td>\n",
              "      <td>21</td>\n",
              "      <td>West Ham</td>\n",
              "      <td>0.0</td>\n",
              "      <td>0.0</td>\n",
              "      <td>2.83</td>\n",
              "    </tr>\n",
              "    <tr>\n",
              "      <th>5383</th>\n",
              "      <td>Daniel-Podence</td>\n",
              "      <td>21</td>\n",
              "      <td>Manchester City</td>\n",
              "      <td>0.0</td>\n",
              "      <td>1.0</td>\n",
              "      <td>2.83</td>\n",
              "    </tr>\n",
              "    <tr>\n",
              "      <th>3882</th>\n",
              "      <td>Jefferson-Lerma</td>\n",
              "      <td>21</td>\n",
              "      <td>Nott'ham Forest</td>\n",
              "      <td>1.0</td>\n",
              "      <td>2.0</td>\n",
              "      <td>2.82</td>\n",
              "    </tr>\n",
              "    <tr>\n",
              "      <th>1917</th>\n",
              "      <td>Gabriel-Dos-Santos</td>\n",
              "      <td>21</td>\n",
              "      <td>Manchester Utd</td>\n",
              "      <td>1.0</td>\n",
              "      <td>1.0</td>\n",
              "      <td>2.82</td>\n",
              "    </tr>\n",
              "    <tr>\n",
              "      <th>6943</th>\n",
              "      <td>Ruben-Vinagre</td>\n",
              "      <td>21</td>\n",
              "      <td>West Ham</td>\n",
              "      <td>0.0</td>\n",
              "      <td>0.0</td>\n",
              "      <td>2.82</td>\n",
              "    </tr>\n",
              "    <tr>\n",
              "      <th>6959</th>\n",
              "      <td>Carlos-Vinicius</td>\n",
              "      <td>21</td>\n",
              "      <td>Tottenham</td>\n",
              "      <td>1.0</td>\n",
              "      <td>1.0</td>\n",
              "      <td>2.82</td>\n",
              "    </tr>\n",
              "    <tr>\n",
              "      <th>2166</th>\n",
              "      <td>Emerson</td>\n",
              "      <td>21</td>\n",
              "      <td>Fulham</td>\n",
              "      <td>0.0</td>\n",
              "      <td>9.0</td>\n",
              "      <td>2.82</td>\n",
              "    </tr>\n",
              "    <tr>\n",
              "      <th>2148</th>\n",
              "      <td>Mohamed-Elyounoussi</td>\n",
              "      <td>21</td>\n",
              "      <td>Aston Villa</td>\n",
              "      <td>1.0</td>\n",
              "      <td>1.0</td>\n",
              "      <td>2.82</td>\n",
              "    </tr>\n",
              "    <tr>\n",
              "      <th>7030</th>\n",
              "      <td>Danny-Ward</td>\n",
              "      <td>21</td>\n",
              "      <td>Brighton</td>\n",
              "      <td>1.0</td>\n",
              "      <td>1.0</td>\n",
              "      <td>2.82</td>\n",
              "    </tr>\n",
              "    <tr>\n",
              "      <th>1949</th>\n",
              "      <td>Cheick-Doucoure</td>\n",
              "      <td>21</td>\n",
              "      <td>Newcastle Utd</td>\n",
              "      <td>1.0</td>\n",
              "      <td>2.0</td>\n",
              "      <td>2.82</td>\n",
              "    </tr>\n",
              "    <tr>\n",
              "      <th>3325</th>\n",
              "      <td>Mathias-Jensen</td>\n",
              "      <td>21</td>\n",
              "      <td>Leeds United</td>\n",
              "      <td>0.0</td>\n",
              "      <td>3.0</td>\n",
              "      <td>2.82</td>\n",
              "    </tr>\n",
              "    <tr>\n",
              "      <th>1873</th>\n",
              "      <td>Moussa-Djenepo</td>\n",
              "      <td>21</td>\n",
              "      <td>Aston Villa</td>\n",
              "      <td>1.0</td>\n",
              "      <td>1.0</td>\n",
              "      <td>2.82</td>\n",
              "    </tr>\n",
              "    <tr>\n",
              "      <th>1792</th>\n",
              "      <td>Ruben-Dias</td>\n",
              "      <td>21</td>\n",
              "      <td>Wolves</td>\n",
              "      <td>1.0</td>\n",
              "      <td>0.0</td>\n",
              "      <td>2.82</td>\n",
              "    </tr>\n",
              "    <tr>\n",
              "      <th>6263</th>\n",
              "      <td>Oliver-Skipp</td>\n",
              "      <td>21</td>\n",
              "      <td>Fulham</td>\n",
              "      <td>0.0</td>\n",
              "      <td>0.0</td>\n",
              "      <td>2.82</td>\n",
              "    </tr>\n",
              "    <tr>\n",
              "      <th>1659</th>\n",
              "      <td>Tom-Davies</td>\n",
              "      <td>21</td>\n",
              "      <td>West Ham</td>\n",
              "      <td>0.0</td>\n",
              "      <td>1.0</td>\n",
              "      <td>2.82</td>\n",
              "    </tr>\n",
              "    <tr>\n",
              "      <th>6150</th>\n",
              "      <td>Marcos-Senesi</td>\n",
              "      <td>21</td>\n",
              "      <td>Nott'ham Forest</td>\n",
              "      <td>1.0</td>\n",
              "      <td>0.0</td>\n",
              "      <td>2.82</td>\n",
              "    </tr>\n",
              "  </tbody>\n",
              "</table>\n",
              "</div>\n",
              "      <button class=\"colab-df-convert\" onclick=\"convertToInteractive('df-71782594-2b31-4467-a899-83e4524875b9')\"\n",
              "              title=\"Convert this dataframe to an interactive table.\"\n",
              "              style=\"display:none;\">\n",
              "        \n",
              "  <svg xmlns=\"http://www.w3.org/2000/svg\" height=\"24px\"viewBox=\"0 0 24 24\"\n",
              "       width=\"24px\">\n",
              "    <path d=\"M0 0h24v24H0V0z\" fill=\"none\"/>\n",
              "    <path d=\"M18.56 5.44l.94 2.06.94-2.06 2.06-.94-2.06-.94-.94-2.06-.94 2.06-2.06.94zm-11 1L8.5 8.5l.94-2.06 2.06-.94-2.06-.94L8.5 2.5l-.94 2.06-2.06.94zm10 10l.94 2.06.94-2.06 2.06-.94-2.06-.94-.94-2.06-.94 2.06-2.06.94z\"/><path d=\"M17.41 7.96l-1.37-1.37c-.4-.4-.92-.59-1.43-.59-.52 0-1.04.2-1.43.59L10.3 9.45l-7.72 7.72c-.78.78-.78 2.05 0 2.83L4 21.41c.39.39.9.59 1.41.59.51 0 1.02-.2 1.41-.59l7.78-7.78 2.81-2.81c.8-.78.8-2.07 0-2.86zM5.41 20L4 18.59l7.72-7.72 1.47 1.35L5.41 20z\"/>\n",
              "  </svg>\n",
              "      </button>\n",
              "      \n",
              "  <style>\n",
              "    .colab-df-container {\n",
              "      display:flex;\n",
              "      flex-wrap:wrap;\n",
              "      gap: 12px;\n",
              "    }\n",
              "\n",
              "    .colab-df-convert {\n",
              "      background-color: #E8F0FE;\n",
              "      border: none;\n",
              "      border-radius: 50%;\n",
              "      cursor: pointer;\n",
              "      display: none;\n",
              "      fill: #1967D2;\n",
              "      height: 32px;\n",
              "      padding: 0 0 0 0;\n",
              "      width: 32px;\n",
              "    }\n",
              "\n",
              "    .colab-df-convert:hover {\n",
              "      background-color: #E2EBFA;\n",
              "      box-shadow: 0px 1px 2px rgba(60, 64, 67, 0.3), 0px 1px 3px 1px rgba(60, 64, 67, 0.15);\n",
              "      fill: #174EA6;\n",
              "    }\n",
              "\n",
              "    [theme=dark] .colab-df-convert {\n",
              "      background-color: #3B4455;\n",
              "      fill: #D2E3FC;\n",
              "    }\n",
              "\n",
              "    [theme=dark] .colab-df-convert:hover {\n",
              "      background-color: #434B5C;\n",
              "      box-shadow: 0px 1px 3px 1px rgba(0, 0, 0, 0.15);\n",
              "      filter: drop-shadow(0px 1px 2px rgba(0, 0, 0, 0.3));\n",
              "      fill: #FFFFFF;\n",
              "    }\n",
              "  </style>\n",
              "\n",
              "      <script>\n",
              "        const buttonEl =\n",
              "          document.querySelector('#df-71782594-2b31-4467-a899-83e4524875b9 button.colab-df-convert');\n",
              "        buttonEl.style.display =\n",
              "          google.colab.kernel.accessAllowed ? 'block' : 'none';\n",
              "\n",
              "        async function convertToInteractive(key) {\n",
              "          const element = document.querySelector('#df-71782594-2b31-4467-a899-83e4524875b9');\n",
              "          const dataTable =\n",
              "            await google.colab.kernel.invokeFunction('convertToInteractive',\n",
              "                                                     [key], {});\n",
              "          if (!dataTable) return;\n",
              "\n",
              "          const docLinkHtml = 'Like what you see? Visit the ' +\n",
              "            '<a target=\"_blank\" href=https://colab.research.google.com/notebooks/data_table.ipynb>data table notebook</a>'\n",
              "            + ' to learn more about interactive tables.';\n",
              "          element.innerHTML = '';\n",
              "          dataTable['output_type'] = 'display_data';\n",
              "          await google.colab.output.renderOutput(dataTable, element);\n",
              "          const docLink = document.createElement('div');\n",
              "          docLink.innerHTML = docLinkHtml;\n",
              "          element.appendChild(docLink);\n",
              "        }\n",
              "      </script>\n",
              "    </div>\n",
              "  </div>\n",
              "  "
            ],
            "text/plain": [
              "                     Name  GW         Opponent  Was Home  Total Points  Points\n",
              "3401      Brennan-Johnson  21      Bournemouth       0.0           5.0    2.83\n",
              "6684    Takehiro-Tomiyasu  21   Manchester Utd       1.0           4.0    2.83\n",
              "4790        Joao-Moutinho  21  Manchester City       0.0           1.0    2.83\n",
              "7140            Ben-White  21   Manchester Utd       1.0           0.0    2.83\n",
              "4850    Vitaliy-Mykolenko  21         West Ham       0.0           0.0    2.83\n",
              "5383       Daniel-Podence  21  Manchester City       0.0           1.0    2.83\n",
              "3882      Jefferson-Lerma  21  Nott'ham Forest       1.0           2.0    2.82\n",
              "1917   Gabriel-Dos-Santos  21   Manchester Utd       1.0           1.0    2.82\n",
              "6943        Ruben-Vinagre  21         West Ham       0.0           0.0    2.82\n",
              "6959      Carlos-Vinicius  21        Tottenham       1.0           1.0    2.82\n",
              "2166              Emerson  21           Fulham       0.0           9.0    2.82\n",
              "2148  Mohamed-Elyounoussi  21      Aston Villa       1.0           1.0    2.82\n",
              "7030           Danny-Ward  21         Brighton       1.0           1.0    2.82\n",
              "1949      Cheick-Doucoure  21    Newcastle Utd       1.0           2.0    2.82\n",
              "3325       Mathias-Jensen  21     Leeds United       0.0           3.0    2.82\n",
              "1873       Moussa-Djenepo  21      Aston Villa       1.0           1.0    2.82\n",
              "1792           Ruben-Dias  21           Wolves       1.0           0.0    2.82\n",
              "6263         Oliver-Skipp  21           Fulham       0.0           0.0    2.82\n",
              "1659           Tom-Davies  21         West Ham       0.0           1.0    2.82\n",
              "6150        Marcos-Senesi  21  Nott'ham Forest       1.0           0.0    2.82"
            ]
          },
          "execution_count": 129,
          "metadata": {},
          "output_type": "execute_result"
        }
      ],
      "source": [
        "predictions.sort_values(by=[\"Points\"], ascending = False).head(20)[prediction_columns]"
      ]
    },
    {
      "cell_type": "code",
      "execution_count": 130,
      "id": "297cfbd4-0fbe-46b4-9fc4-d79eeaadf70d",
      "metadata": {
        "id": "297cfbd4-0fbe-46b4-9fc4-d79eeaadf70d"
      },
      "outputs": [],
      "source": [
        "# # appending results to original df\n",
        "# for df_gw, df_opp, name, gw, points in predictions:\n",
        "#     df_original.loc[(df_original[\"Name\"] == name) & (df[\"GW\"] == gw), \"LSTM\"] = points"
      ]
    },
    {
      "cell_type": "code",
      "execution_count": 131,
      "id": "ce5882f0-aff6-4ae9-9cba-8b4e816bec07",
      "metadata": {
        "id": "ce5882f0-aff6-4ae9-9cba-8b4e816bec07"
      },
      "outputs": [],
      "source": [
        "# df_original.to_csv(\"data/fpl_fbref_elo_lstm.csv\")"
      ]
    },
    {
      "cell_type": "markdown",
      "id": "07f29a9a-1341-4a6f-a3eb-10685dfb6b0d",
      "metadata": {
        "id": "07f29a9a-1341-4a6f-a3eb-10685dfb6b0d"
      },
      "source": [
        "# Next GW predictions for each position"
      ]
    },
    {
      "cell_type": "markdown",
      "id": "a59960f5-efe3-453f-97de-8973cf73ee70",
      "metadata": {
        "id": "a59960f5-efe3-453f-97de-8973cf73ee70"
      },
      "source": [
        "## Goalkeepers"
      ]
    },
    {
      "cell_type": "code",
      "execution_count": 132,
      "id": "de13487b-b45b-43fb-9c94-9dc91033ddd9",
      "metadata": {
        "id": "de13487b-b45b-43fb-9c94-9dc91033ddd9"
      },
      "outputs": [],
      "source": [
        "predictions_gk = generate_predictions(dataloader_gk_valid, dataset_gk_valid, net_gk, df_gk_original, FIRST_VALID_GW)"
      ]
    },
    {
      "cell_type": "code",
      "execution_count": 133,
      "id": "df13c078-9794-4a74-bafc-4826e352394d",
      "metadata": {
        "colab": {
          "base_uri": "https://localhost:8080/",
          "height": 677
        },
        "id": "df13c078-9794-4a74-bafc-4826e352394d",
        "outputId": "875945ed-9c6b-46d5-a968-ea58a5c30810"
      },
      "outputs": [
        {
          "data": {
            "text/html": [
              "\n",
              "  <div id=\"df-c577a0d0-1a34-4f67-a45d-fdbf72b33a45\">\n",
              "    <div class=\"colab-df-container\">\n",
              "      <div>\n",
              "<style scoped>\n",
              "    .dataframe tbody tr th:only-of-type {\n",
              "        vertical-align: middle;\n",
              "    }\n",
              "\n",
              "    .dataframe tbody tr th {\n",
              "        vertical-align: top;\n",
              "    }\n",
              "\n",
              "    .dataframe thead th {\n",
              "        text-align: right;\n",
              "    }\n",
              "</style>\n",
              "<table border=\"1\" class=\"dataframe\">\n",
              "  <thead>\n",
              "    <tr style=\"text-align: right;\">\n",
              "      <th></th>\n",
              "      <th>Name</th>\n",
              "      <th>GW</th>\n",
              "      <th>Opponent</th>\n",
              "      <th>Was Home</th>\n",
              "      <th>Total Points</th>\n",
              "      <th>Points</th>\n",
              "    </tr>\n",
              "  </thead>\n",
              "  <tbody>\n",
              "    <tr>\n",
              "      <th>5863</th>\n",
              "      <td>Jose-Sa</td>\n",
              "      <td>21</td>\n",
              "      <td>Manchester City</td>\n",
              "      <td>0.0</td>\n",
              "      <td>2.0</td>\n",
              "      <td>3.16</td>\n",
              "    </tr>\n",
              "    <tr>\n",
              "      <th>6761</th>\n",
              "      <td>Mark-Travers</td>\n",
              "      <td>21</td>\n",
              "      <td>Nott'ham Forest</td>\n",
              "      <td>1.0</td>\n",
              "      <td>0.0</td>\n",
              "      <td>3.14</td>\n",
              "    </tr>\n",
              "    <tr>\n",
              "      <th>391</th>\n",
              "      <td>Alphonse-Areola</td>\n",
              "      <td>21</td>\n",
              "      <td>Everton</td>\n",
              "      <td>1.0</td>\n",
              "      <td>0.0</td>\n",
              "      <td>3.13</td>\n",
              "    </tr>\n",
              "    <tr>\n",
              "      <th>731</th>\n",
              "      <td>Asmir-Begovic</td>\n",
              "      <td>21</td>\n",
              "      <td>West Ham</td>\n",
              "      <td>0.0</td>\n",
              "      <td>0.0</td>\n",
              "      <td>3.12</td>\n",
              "    </tr>\n",
              "    <tr>\n",
              "      <th>7030</th>\n",
              "      <td>Danny-Ward</td>\n",
              "      <td>21</td>\n",
              "      <td>Brighton</td>\n",
              "      <td>1.0</td>\n",
              "      <td>1.0</td>\n",
              "      <td>3.11</td>\n",
              "    </tr>\n",
              "    <tr>\n",
              "      <th>3862</th>\n",
              "      <td>Bernd-Leno</td>\n",
              "      <td>21</td>\n",
              "      <td>Tottenham</td>\n",
              "      <td>1.0</td>\n",
              "      <td>2.0</td>\n",
              "      <td>3.10</td>\n",
              "    </tr>\n",
              "    <tr>\n",
              "      <th>4000</th>\n",
              "      <td>Hugo-Lloris</td>\n",
              "      <td>21</td>\n",
              "      <td>Fulham</td>\n",
              "      <td>0.0</td>\n",
              "      <td>9.0</td>\n",
              "      <td>3.10</td>\n",
              "    </tr>\n",
              "    <tr>\n",
              "      <th>2252</th>\n",
              "      <td>Lukasz-Fabianski</td>\n",
              "      <td>21</td>\n",
              "      <td>Everton</td>\n",
              "      <td>1.0</td>\n",
              "      <td>6.0</td>\n",
              "      <td>3.10</td>\n",
              "    </tr>\n",
              "    <tr>\n",
              "      <th>467</th>\n",
              "      <td>Kepa-Arrizabalaga</td>\n",
              "      <td>21</td>\n",
              "      <td>Liverpool</td>\n",
              "      <td>0.0</td>\n",
              "      <td>9.0</td>\n",
              "      <td>3.10</td>\n",
              "    </tr>\n",
              "    <tr>\n",
              "      <th>6011</th>\n",
              "      <td>Robert-Sanchez</td>\n",
              "      <td>21</td>\n",
              "      <td>Leicester City</td>\n",
              "      <td>0.0</td>\n",
              "      <td>1.0</td>\n",
              "      <td>3.09</td>\n",
              "    </tr>\n",
              "    <tr>\n",
              "      <th>4603</th>\n",
              "      <td>Illan-Meslier</td>\n",
              "      <td>21</td>\n",
              "      <td>Brentford</td>\n",
              "      <td>1.0</td>\n",
              "      <td>6.0</td>\n",
              "      <td>3.09</td>\n",
              "    </tr>\n",
              "    <tr>\n",
              "      <th>3052</th>\n",
              "      <td>Wayne-Hennessey</td>\n",
              "      <td>21</td>\n",
              "      <td>Bournemouth</td>\n",
              "      <td>0.0</td>\n",
              "      <td>2.0</td>\n",
              "      <td>3.08</td>\n",
              "    </tr>\n",
              "    <tr>\n",
              "      <th>2558</th>\n",
              "      <td>David-de-Gea</td>\n",
              "      <td>21</td>\n",
              "      <td>Arsenal</td>\n",
              "      <td>0.0</td>\n",
              "      <td>1.0</td>\n",
              "      <td>3.08</td>\n",
              "    </tr>\n",
              "    <tr>\n",
              "      <th>2047</th>\n",
              "      <td>Ederson</td>\n",
              "      <td>21</td>\n",
              "      <td>Wolves</td>\n",
              "      <td>1.0</td>\n",
              "      <td>6.0</td>\n",
              "      <td>3.07</td>\n",
              "    </tr>\n",
              "    <tr>\n",
              "      <th>5066</th>\n",
              "      <td>Robin-Olsen</td>\n",
              "      <td>21</td>\n",
              "      <td>Southampton</td>\n",
              "      <td>0.0</td>\n",
              "      <td>0.0</td>\n",
              "      <td>3.05</td>\n",
              "    </tr>\n",
              "    <tr>\n",
              "      <th>675</th>\n",
              "      <td>Gavin-Bazunu</td>\n",
              "      <td>21</td>\n",
              "      <td>Aston Villa</td>\n",
              "      <td>1.0</td>\n",
              "      <td>3.0</td>\n",
              "      <td>3.05</td>\n",
              "    </tr>\n",
              "    <tr>\n",
              "      <th>5351</th>\n",
              "      <td>Jordan-Pickford</td>\n",
              "      <td>21</td>\n",
              "      <td>West Ham</td>\n",
              "      <td>0.0</td>\n",
              "      <td>1.0</td>\n",
              "      <td>3.04</td>\n",
              "    </tr>\n",
              "    <tr>\n",
              "      <th>4335</th>\n",
              "      <td>Emiliano-Martinez</td>\n",
              "      <td>21</td>\n",
              "      <td>Southampton</td>\n",
              "      <td>0.0</td>\n",
              "      <td>10.0</td>\n",
              "      <td>3.04</td>\n",
              "    </tr>\n",
              "    <tr>\n",
              "      <th>5516</th>\n",
              "      <td>David-Raya</td>\n",
              "      <td>21</td>\n",
              "      <td>Leeds United</td>\n",
              "      <td>0.0</td>\n",
              "      <td>10.0</td>\n",
              "      <td>3.04</td>\n",
              "    </tr>\n",
              "    <tr>\n",
              "      <th>5403</th>\n",
              "      <td>Nick-Pope</td>\n",
              "      <td>21</td>\n",
              "      <td>Crystal Palace</td>\n",
              "      <td>0.0</td>\n",
              "      <td>6.0</td>\n",
              "      <td>3.02</td>\n",
              "    </tr>\n",
              "  </tbody>\n",
              "</table>\n",
              "</div>\n",
              "      <button class=\"colab-df-convert\" onclick=\"convertToInteractive('df-c577a0d0-1a34-4f67-a45d-fdbf72b33a45')\"\n",
              "              title=\"Convert this dataframe to an interactive table.\"\n",
              "              style=\"display:none;\">\n",
              "        \n",
              "  <svg xmlns=\"http://www.w3.org/2000/svg\" height=\"24px\"viewBox=\"0 0 24 24\"\n",
              "       width=\"24px\">\n",
              "    <path d=\"M0 0h24v24H0V0z\" fill=\"none\"/>\n",
              "    <path d=\"M18.56 5.44l.94 2.06.94-2.06 2.06-.94-2.06-.94-.94-2.06-.94 2.06-2.06.94zm-11 1L8.5 8.5l.94-2.06 2.06-.94-2.06-.94L8.5 2.5l-.94 2.06-2.06.94zm10 10l.94 2.06.94-2.06 2.06-.94-2.06-.94-.94-2.06-.94 2.06-2.06.94z\"/><path d=\"M17.41 7.96l-1.37-1.37c-.4-.4-.92-.59-1.43-.59-.52 0-1.04.2-1.43.59L10.3 9.45l-7.72 7.72c-.78.78-.78 2.05 0 2.83L4 21.41c.39.39.9.59 1.41.59.51 0 1.02-.2 1.41-.59l7.78-7.78 2.81-2.81c.8-.78.8-2.07 0-2.86zM5.41 20L4 18.59l7.72-7.72 1.47 1.35L5.41 20z\"/>\n",
              "  </svg>\n",
              "      </button>\n",
              "      \n",
              "  <style>\n",
              "    .colab-df-container {\n",
              "      display:flex;\n",
              "      flex-wrap:wrap;\n",
              "      gap: 12px;\n",
              "    }\n",
              "\n",
              "    .colab-df-convert {\n",
              "      background-color: #E8F0FE;\n",
              "      border: none;\n",
              "      border-radius: 50%;\n",
              "      cursor: pointer;\n",
              "      display: none;\n",
              "      fill: #1967D2;\n",
              "      height: 32px;\n",
              "      padding: 0 0 0 0;\n",
              "      width: 32px;\n",
              "    }\n",
              "\n",
              "    .colab-df-convert:hover {\n",
              "      background-color: #E2EBFA;\n",
              "      box-shadow: 0px 1px 2px rgba(60, 64, 67, 0.3), 0px 1px 3px 1px rgba(60, 64, 67, 0.15);\n",
              "      fill: #174EA6;\n",
              "    }\n",
              "\n",
              "    [theme=dark] .colab-df-convert {\n",
              "      background-color: #3B4455;\n",
              "      fill: #D2E3FC;\n",
              "    }\n",
              "\n",
              "    [theme=dark] .colab-df-convert:hover {\n",
              "      background-color: #434B5C;\n",
              "      box-shadow: 0px 1px 3px 1px rgba(0, 0, 0, 0.15);\n",
              "      filter: drop-shadow(0px 1px 2px rgba(0, 0, 0, 0.3));\n",
              "      fill: #FFFFFF;\n",
              "    }\n",
              "  </style>\n",
              "\n",
              "      <script>\n",
              "        const buttonEl =\n",
              "          document.querySelector('#df-c577a0d0-1a34-4f67-a45d-fdbf72b33a45 button.colab-df-convert');\n",
              "        buttonEl.style.display =\n",
              "          google.colab.kernel.accessAllowed ? 'block' : 'none';\n",
              "\n",
              "        async function convertToInteractive(key) {\n",
              "          const element = document.querySelector('#df-c577a0d0-1a34-4f67-a45d-fdbf72b33a45');\n",
              "          const dataTable =\n",
              "            await google.colab.kernel.invokeFunction('convertToInteractive',\n",
              "                                                     [key], {});\n",
              "          if (!dataTable) return;\n",
              "\n",
              "          const docLinkHtml = 'Like what you see? Visit the ' +\n",
              "            '<a target=\"_blank\" href=https://colab.research.google.com/notebooks/data_table.ipynb>data table notebook</a>'\n",
              "            + ' to learn more about interactive tables.';\n",
              "          element.innerHTML = '';\n",
              "          dataTable['output_type'] = 'display_data';\n",
              "          await google.colab.output.renderOutput(dataTable, element);\n",
              "          const docLink = document.createElement('div');\n",
              "          docLink.innerHTML = docLinkHtml;\n",
              "          element.appendChild(docLink);\n",
              "        }\n",
              "      </script>\n",
              "    </div>\n",
              "  </div>\n",
              "  "
            ],
            "text/plain": [
              "                   Name  GW         Opponent  Was Home  Total Points  Points\n",
              "5863            Jose-Sa  21  Manchester City       0.0           2.0    3.16\n",
              "6761       Mark-Travers  21  Nott'ham Forest       1.0           0.0    3.14\n",
              "391     Alphonse-Areola  21          Everton       1.0           0.0    3.13\n",
              "731       Asmir-Begovic  21         West Ham       0.0           0.0    3.12\n",
              "7030         Danny-Ward  21         Brighton       1.0           1.0    3.11\n",
              "3862         Bernd-Leno  21        Tottenham       1.0           2.0    3.10\n",
              "4000        Hugo-Lloris  21           Fulham       0.0           9.0    3.10\n",
              "2252   Lukasz-Fabianski  21          Everton       1.0           6.0    3.10\n",
              "467   Kepa-Arrizabalaga  21        Liverpool       0.0           9.0    3.10\n",
              "6011     Robert-Sanchez  21   Leicester City       0.0           1.0    3.09\n",
              "4603      Illan-Meslier  21        Brentford       1.0           6.0    3.09\n",
              "3052    Wayne-Hennessey  21      Bournemouth       0.0           2.0    3.08\n",
              "2558       David-de-Gea  21          Arsenal       0.0           1.0    3.08\n",
              "2047            Ederson  21           Wolves       1.0           6.0    3.07\n",
              "5066        Robin-Olsen  21      Southampton       0.0           0.0    3.05\n",
              "675        Gavin-Bazunu  21      Aston Villa       1.0           3.0    3.05\n",
              "5351    Jordan-Pickford  21         West Ham       0.0           1.0    3.04\n",
              "4335  Emiliano-Martinez  21      Southampton       0.0          10.0    3.04\n",
              "5516         David-Raya  21     Leeds United       0.0          10.0    3.04\n",
              "5403          Nick-Pope  21   Crystal Palace       0.0           6.0    3.02"
            ]
          },
          "execution_count": 133,
          "metadata": {},
          "output_type": "execute_result"
        }
      ],
      "source": [
        "# results sorted\n",
        "predictions_gk_sorted = predictions_gk.sort_values(by=[\"Points\"], ascending = False).head(20)\n",
        "predictions_gk_sorted[prediction_columns]"
      ]
    },
    {
      "cell_type": "markdown",
      "id": "809d11e1-257e-4fd0-905b-536f95dca4e5",
      "metadata": {
        "id": "809d11e1-257e-4fd0-905b-536f95dca4e5"
      },
      "source": [
        "## Defenders"
      ]
    },
    {
      "cell_type": "code",
      "execution_count": 134,
      "id": "b67e50ec-26a2-44c2-8ef0-f7b841845ed4",
      "metadata": {
        "id": "b67e50ec-26a2-44c2-8ef0-f7b841845ed4"
      },
      "outputs": [],
      "source": [
        "predictions_def = generate_predictions(dataloader_def_valid, dataset_def_valid, net_def, df_def_original, FIRST_VALID_GW)"
      ]
    },
    {
      "cell_type": "code",
      "execution_count": 135,
      "id": "098f83a8-cd7e-4d2b-8583-44f0f43ef1d7",
      "metadata": {
        "colab": {
          "base_uri": "https://localhost:8080/",
          "height": 677
        },
        "id": "098f83a8-cd7e-4d2b-8583-44f0f43ef1d7",
        "outputId": "9c3af9b1-a707-4df6-c3e8-3baf0f97fdb8"
      },
      "outputs": [
        {
          "data": {
            "text/html": [
              "\n",
              "  <div id=\"df-68e6365f-12d0-448e-abae-b290f23c73b2\">\n",
              "    <div class=\"colab-df-container\">\n",
              "      <div>\n",
              "<style scoped>\n",
              "    .dataframe tbody tr th:only-of-type {\n",
              "        vertical-align: middle;\n",
              "    }\n",
              "\n",
              "    .dataframe tbody tr th {\n",
              "        vertical-align: top;\n",
              "    }\n",
              "\n",
              "    .dataframe thead th {\n",
              "        text-align: right;\n",
              "    }\n",
              "</style>\n",
              "<table border=\"1\" class=\"dataframe\">\n",
              "  <thead>\n",
              "    <tr style=\"text-align: right;\">\n",
              "      <th></th>\n",
              "      <th>Name</th>\n",
              "      <th>GW</th>\n",
              "      <th>Opponent</th>\n",
              "      <th>Was Home</th>\n",
              "      <th>Total Points</th>\n",
              "      <th>Points</th>\n",
              "    </tr>\n",
              "  </thead>\n",
              "  <tbody>\n",
              "    <tr>\n",
              "      <th>3381</th>\n",
              "      <td>Ben-Johnson</td>\n",
              "      <td>21</td>\n",
              "      <td>Everton</td>\n",
              "      <td>1.0</td>\n",
              "      <td>1.0</td>\n",
              "      <td>2.38</td>\n",
              "    </tr>\n",
              "    <tr>\n",
              "      <th>3646</th>\n",
              "      <td>Ezri-Konsa</td>\n",
              "      <td>21</td>\n",
              "      <td>Southampton</td>\n",
              "      <td>0.0</td>\n",
              "      <td>7.0</td>\n",
              "      <td>2.38</td>\n",
              "    </tr>\n",
              "    <tr>\n",
              "      <th>2166</th>\n",
              "      <td>Emerson</td>\n",
              "      <td>21</td>\n",
              "      <td>Fulham</td>\n",
              "      <td>0.0</td>\n",
              "      <td>9.0</td>\n",
              "      <td>2.38</td>\n",
              "    </tr>\n",
              "    <tr>\n",
              "      <th>1898</th>\n",
              "      <td>Matt-Doherty</td>\n",
              "      <td>21</td>\n",
              "      <td>Fulham</td>\n",
              "      <td>0.0</td>\n",
              "      <td>0.0</td>\n",
              "      <td>2.37</td>\n",
              "    </tr>\n",
              "    <tr>\n",
              "      <th>1430</th>\n",
              "      <td>Steve-Cook</td>\n",
              "      <td>21</td>\n",
              "      <td>Bournemouth</td>\n",
              "      <td>0.0</td>\n",
              "      <td>0.0</td>\n",
              "      <td>2.37</td>\n",
              "    </tr>\n",
              "    <tr>\n",
              "      <th>6781</th>\n",
              "      <td>Kieran-Trippier</td>\n",
              "      <td>21</td>\n",
              "      <td>Crystal Palace</td>\n",
              "      <td>0.0</td>\n",
              "      <td>8.0</td>\n",
              "      <td>2.37</td>\n",
              "    </tr>\n",
              "    <tr>\n",
              "      <th>1183</th>\n",
              "      <td>Jonny-Castro</td>\n",
              "      <td>21</td>\n",
              "      <td>Manchester City</td>\n",
              "      <td>0.0</td>\n",
              "      <td>0.0</td>\n",
              "      <td>2.37</td>\n",
              "    </tr>\n",
              "    <tr>\n",
              "      <th>6596</th>\n",
              "      <td>Kenny-Tete</td>\n",
              "      <td>21</td>\n",
              "      <td>Tottenham</td>\n",
              "      <td>1.0</td>\n",
              "      <td>2.0</td>\n",
              "      <td>2.37</td>\n",
              "    </tr>\n",
              "    <tr>\n",
              "      <th>2678</th>\n",
              "      <td>Joe-Gomez</td>\n",
              "      <td>21</td>\n",
              "      <td>Chelsea</td>\n",
              "      <td>1.0</td>\n",
              "      <td>7.0</td>\n",
              "      <td>2.37</td>\n",
              "    </tr>\n",
              "    <tr>\n",
              "      <th>4667</th>\n",
              "      <td>Tyrone-Mings</td>\n",
              "      <td>21</td>\n",
              "      <td>Southampton</td>\n",
              "      <td>0.0</td>\n",
              "      <td>6.0</td>\n",
              "      <td>2.37</td>\n",
              "    </tr>\n",
              "    <tr>\n",
              "      <th>1917</th>\n",
              "      <td>Gabriel-Dos-Santos</td>\n",
              "      <td>21</td>\n",
              "      <td>Manchester Utd</td>\n",
              "      <td>1.0</td>\n",
              "      <td>1.0</td>\n",
              "      <td>2.37</td>\n",
              "    </tr>\n",
              "    <tr>\n",
              "      <th>2202</th>\n",
              "      <td>Pervis-Estupinan</td>\n",
              "      <td>21</td>\n",
              "      <td>Leicester City</td>\n",
              "      <td>0.0</td>\n",
              "      <td>9.0</td>\n",
              "      <td>2.37</td>\n",
              "    </tr>\n",
              "    <tr>\n",
              "      <th>2659</th>\n",
              "      <td>Toti-Gomes</td>\n",
              "      <td>21</td>\n",
              "      <td>Manchester City</td>\n",
              "      <td>0.0</td>\n",
              "      <td>0.0</td>\n",
              "      <td>2.37</td>\n",
              "    </tr>\n",
              "    <tr>\n",
              "      <th>6400</th>\n",
              "      <td>Jack-Stacey</td>\n",
              "      <td>21</td>\n",
              "      <td>Nott'ham Forest</td>\n",
              "      <td>1.0</td>\n",
              "      <td>0.0</td>\n",
              "      <td>2.37</td>\n",
              "    </tr>\n",
              "    <tr>\n",
              "      <th>4097</th>\n",
              "      <td>Lyanco</td>\n",
              "      <td>21</td>\n",
              "      <td>Aston Villa</td>\n",
              "      <td>1.0</td>\n",
              "      <td>1.0</td>\n",
              "      <td>2.36</td>\n",
              "    </tr>\n",
              "    <tr>\n",
              "      <th>3913</th>\n",
              "      <td>Rico-Lewis</td>\n",
              "      <td>21</td>\n",
              "      <td>Wolves</td>\n",
              "      <td>1.0</td>\n",
              "      <td>1.0</td>\n",
              "      <td>2.36</td>\n",
              "    </tr>\n",
              "    <tr>\n",
              "      <th>1547</th>\n",
              "      <td>Marc-Cucurella</td>\n",
              "      <td>21</td>\n",
              "      <td>Liverpool</td>\n",
              "      <td>0.0</td>\n",
              "      <td>6.0</td>\n",
              "      <td>2.36</td>\n",
              "    </tr>\n",
              "    <tr>\n",
              "      <th>1528</th>\n",
              "      <td>Aaron-Cresswell</td>\n",
              "      <td>21</td>\n",
              "      <td>Everton</td>\n",
              "      <td>1.0</td>\n",
              "      <td>0.0</td>\n",
              "      <td>2.36</td>\n",
              "    </tr>\n",
              "    <tr>\n",
              "      <th>3979</th>\n",
              "      <td>Diego-Llorente</td>\n",
              "      <td>21</td>\n",
              "      <td>Brentford</td>\n",
              "      <td>1.0</td>\n",
              "      <td>0.0</td>\n",
              "      <td>2.36</td>\n",
              "    </tr>\n",
              "    <tr>\n",
              "      <th>1360</th>\n",
              "      <td>Seamus-Coleman</td>\n",
              "      <td>21</td>\n",
              "      <td>West Ham</td>\n",
              "      <td>0.0</td>\n",
              "      <td>0.0</td>\n",
              "      <td>2.36</td>\n",
              "    </tr>\n",
              "  </tbody>\n",
              "</table>\n",
              "</div>\n",
              "      <button class=\"colab-df-convert\" onclick=\"convertToInteractive('df-68e6365f-12d0-448e-abae-b290f23c73b2')\"\n",
              "              title=\"Convert this dataframe to an interactive table.\"\n",
              "              style=\"display:none;\">\n",
              "        \n",
              "  <svg xmlns=\"http://www.w3.org/2000/svg\" height=\"24px\"viewBox=\"0 0 24 24\"\n",
              "       width=\"24px\">\n",
              "    <path d=\"M0 0h24v24H0V0z\" fill=\"none\"/>\n",
              "    <path d=\"M18.56 5.44l.94 2.06.94-2.06 2.06-.94-2.06-.94-.94-2.06-.94 2.06-2.06.94zm-11 1L8.5 8.5l.94-2.06 2.06-.94-2.06-.94L8.5 2.5l-.94 2.06-2.06.94zm10 10l.94 2.06.94-2.06 2.06-.94-2.06-.94-.94-2.06-.94 2.06-2.06.94z\"/><path d=\"M17.41 7.96l-1.37-1.37c-.4-.4-.92-.59-1.43-.59-.52 0-1.04.2-1.43.59L10.3 9.45l-7.72 7.72c-.78.78-.78 2.05 0 2.83L4 21.41c.39.39.9.59 1.41.59.51 0 1.02-.2 1.41-.59l7.78-7.78 2.81-2.81c.8-.78.8-2.07 0-2.86zM5.41 20L4 18.59l7.72-7.72 1.47 1.35L5.41 20z\"/>\n",
              "  </svg>\n",
              "      </button>\n",
              "      \n",
              "  <style>\n",
              "    .colab-df-container {\n",
              "      display:flex;\n",
              "      flex-wrap:wrap;\n",
              "      gap: 12px;\n",
              "    }\n",
              "\n",
              "    .colab-df-convert {\n",
              "      background-color: #E8F0FE;\n",
              "      border: none;\n",
              "      border-radius: 50%;\n",
              "      cursor: pointer;\n",
              "      display: none;\n",
              "      fill: #1967D2;\n",
              "      height: 32px;\n",
              "      padding: 0 0 0 0;\n",
              "      width: 32px;\n",
              "    }\n",
              "\n",
              "    .colab-df-convert:hover {\n",
              "      background-color: #E2EBFA;\n",
              "      box-shadow: 0px 1px 2px rgba(60, 64, 67, 0.3), 0px 1px 3px 1px rgba(60, 64, 67, 0.15);\n",
              "      fill: #174EA6;\n",
              "    }\n",
              "\n",
              "    [theme=dark] .colab-df-convert {\n",
              "      background-color: #3B4455;\n",
              "      fill: #D2E3FC;\n",
              "    }\n",
              "\n",
              "    [theme=dark] .colab-df-convert:hover {\n",
              "      background-color: #434B5C;\n",
              "      box-shadow: 0px 1px 3px 1px rgba(0, 0, 0, 0.15);\n",
              "      filter: drop-shadow(0px 1px 2px rgba(0, 0, 0, 0.3));\n",
              "      fill: #FFFFFF;\n",
              "    }\n",
              "  </style>\n",
              "\n",
              "      <script>\n",
              "        const buttonEl =\n",
              "          document.querySelector('#df-68e6365f-12d0-448e-abae-b290f23c73b2 button.colab-df-convert');\n",
              "        buttonEl.style.display =\n",
              "          google.colab.kernel.accessAllowed ? 'block' : 'none';\n",
              "\n",
              "        async function convertToInteractive(key) {\n",
              "          const element = document.querySelector('#df-68e6365f-12d0-448e-abae-b290f23c73b2');\n",
              "          const dataTable =\n",
              "            await google.colab.kernel.invokeFunction('convertToInteractive',\n",
              "                                                     [key], {});\n",
              "          if (!dataTable) return;\n",
              "\n",
              "          const docLinkHtml = 'Like what you see? Visit the ' +\n",
              "            '<a target=\"_blank\" href=https://colab.research.google.com/notebooks/data_table.ipynb>data table notebook</a>'\n",
              "            + ' to learn more about interactive tables.';\n",
              "          element.innerHTML = '';\n",
              "          dataTable['output_type'] = 'display_data';\n",
              "          await google.colab.output.renderOutput(dataTable, element);\n",
              "          const docLink = document.createElement('div');\n",
              "          docLink.innerHTML = docLinkHtml;\n",
              "          element.appendChild(docLink);\n",
              "        }\n",
              "      </script>\n",
              "    </div>\n",
              "  </div>\n",
              "  "
            ],
            "text/plain": [
              "                    Name  GW         Opponent  Was Home  Total Points  Points\n",
              "3381         Ben-Johnson  21          Everton       1.0           1.0    2.38\n",
              "3646          Ezri-Konsa  21      Southampton       0.0           7.0    2.38\n",
              "2166             Emerson  21           Fulham       0.0           9.0    2.38\n",
              "1898        Matt-Doherty  21           Fulham       0.0           0.0    2.37\n",
              "1430          Steve-Cook  21      Bournemouth       0.0           0.0    2.37\n",
              "6781     Kieran-Trippier  21   Crystal Palace       0.0           8.0    2.37\n",
              "1183        Jonny-Castro  21  Manchester City       0.0           0.0    2.37\n",
              "6596          Kenny-Tete  21        Tottenham       1.0           2.0    2.37\n",
              "2678           Joe-Gomez  21          Chelsea       1.0           7.0    2.37\n",
              "4667        Tyrone-Mings  21      Southampton       0.0           6.0    2.37\n",
              "1917  Gabriel-Dos-Santos  21   Manchester Utd       1.0           1.0    2.37\n",
              "2202    Pervis-Estupinan  21   Leicester City       0.0           9.0    2.37\n",
              "2659          Toti-Gomes  21  Manchester City       0.0           0.0    2.37\n",
              "6400         Jack-Stacey  21  Nott'ham Forest       1.0           0.0    2.37\n",
              "4097              Lyanco  21      Aston Villa       1.0           1.0    2.36\n",
              "3913          Rico-Lewis  21           Wolves       1.0           1.0    2.36\n",
              "1547      Marc-Cucurella  21        Liverpool       0.0           6.0    2.36\n",
              "1528     Aaron-Cresswell  21          Everton       1.0           0.0    2.36\n",
              "3979      Diego-Llorente  21        Brentford       1.0           0.0    2.36\n",
              "1360      Seamus-Coleman  21         West Ham       0.0           0.0    2.36"
            ]
          },
          "execution_count": 135,
          "metadata": {},
          "output_type": "execute_result"
        }
      ],
      "source": [
        "# results sorted\n",
        "predictions_def_sorted = predictions_def.sort_values(by=[\"Points\"], ascending = False).head(20)\n",
        "predictions_def_sorted[prediction_columns]"
      ]
    },
    {
      "cell_type": "markdown",
      "id": "e098be91-df44-4aba-b619-de4a11ad91db",
      "metadata": {
        "id": "e098be91-df44-4aba-b619-de4a11ad91db"
      },
      "source": [
        "## Midfielders"
      ]
    },
    {
      "cell_type": "code",
      "execution_count": 136,
      "id": "37c5faa1-e7ba-4048-a3ae-39472de0e646",
      "metadata": {
        "id": "37c5faa1-e7ba-4048-a3ae-39472de0e646"
      },
      "outputs": [],
      "source": [
        "predictions_mid = generate_predictions(dataloader_mid_valid, dataset_mid_valid, net_mid, df_mid_original, FIRST_VALID_GW)"
      ]
    },
    {
      "cell_type": "code",
      "execution_count": 137,
      "id": "a8a940bf-1f53-4130-831f-ad6010b92cef",
      "metadata": {
        "colab": {
          "base_uri": "https://localhost:8080/",
          "height": 677
        },
        "id": "a8a940bf-1f53-4130-831f-ad6010b92cef",
        "outputId": "67181352-9aab-42eb-8558-c335bbb7a54b"
      },
      "outputs": [
        {
          "data": {
            "text/html": [
              "\n",
              "  <div id=\"df-21b81be9-6e9c-48bc-ba9e-fc8738daf7e6\">\n",
              "    <div class=\"colab-df-container\">\n",
              "      <div>\n",
              "<style scoped>\n",
              "    .dataframe tbody tr th:only-of-type {\n",
              "        vertical-align: middle;\n",
              "    }\n",
              "\n",
              "    .dataframe tbody tr th {\n",
              "        vertical-align: top;\n",
              "    }\n",
              "\n",
              "    .dataframe thead th {\n",
              "        text-align: right;\n",
              "    }\n",
              "</style>\n",
              "<table border=\"1\" class=\"dataframe\">\n",
              "  <thead>\n",
              "    <tr style=\"text-align: right;\">\n",
              "      <th></th>\n",
              "      <th>Name</th>\n",
              "      <th>GW</th>\n",
              "      <th>Opponent</th>\n",
              "      <th>Was Home</th>\n",
              "      <th>Total Points</th>\n",
              "      <th>Points</th>\n",
              "    </tr>\n",
              "  </thead>\n",
              "  <tbody>\n",
              "    <tr>\n",
              "      <th>3325</th>\n",
              "      <td>Mathias-Jensen</td>\n",
              "      <td>21</td>\n",
              "      <td>Leeds United</td>\n",
              "      <td>0.0</td>\n",
              "      <td>3.0</td>\n",
              "      <td>2.85</td>\n",
              "    </tr>\n",
              "    <tr>\n",
              "      <th>2185</th>\n",
              "      <td>Christian-Eriksen</td>\n",
              "      <td>21</td>\n",
              "      <td>Arsenal</td>\n",
              "      <td>0.0</td>\n",
              "      <td>2.0</td>\n",
              "      <td>2.85</td>\n",
              "    </tr>\n",
              "    <tr>\n",
              "      <th>2786</th>\n",
              "      <td>Pascal-Gross</td>\n",
              "      <td>21</td>\n",
              "      <td>Leicester City</td>\n",
              "      <td>0.0</td>\n",
              "      <td>2.0</td>\n",
              "      <td>2.85</td>\n",
              "    </tr>\n",
              "    <tr>\n",
              "      <th>3269</th>\n",
              "      <td>Daniel-James</td>\n",
              "      <td>21</td>\n",
              "      <td>Tottenham</td>\n",
              "      <td>1.0</td>\n",
              "      <td>0.0</td>\n",
              "      <td>2.85</td>\n",
              "    </tr>\n",
              "    <tr>\n",
              "      <th>3297</th>\n",
              "      <td>Vitaly-Janelt</td>\n",
              "      <td>21</td>\n",
              "      <td>Leeds United</td>\n",
              "      <td>0.0</td>\n",
              "      <td>1.0</td>\n",
              "      <td>2.85</td>\n",
              "    </tr>\n",
              "    <tr>\n",
              "      <th>3430</th>\n",
              "      <td>Jorginho</td>\n",
              "      <td>21</td>\n",
              "      <td>Liverpool</td>\n",
              "      <td>0.0</td>\n",
              "      <td>3.0</td>\n",
              "      <td>2.85</td>\n",
              "    </tr>\n",
              "    <tr>\n",
              "      <th>3728</th>\n",
              "      <td>Adam-Lallana</td>\n",
              "      <td>21</td>\n",
              "      <td>Leicester City</td>\n",
              "      <td>0.0</td>\n",
              "      <td>1.0</td>\n",
              "      <td>2.85</td>\n",
              "    </tr>\n",
              "    <tr>\n",
              "      <th>3882</th>\n",
              "      <td>Jefferson-Lerma</td>\n",
              "      <td>21</td>\n",
              "      <td>Nott'ham Forest</td>\n",
              "      <td>1.0</td>\n",
              "      <td>2.0</td>\n",
              "      <td>2.85</td>\n",
              "    </tr>\n",
              "    <tr>\n",
              "      <th>3960</th>\n",
              "      <td>Jesse-Lingard</td>\n",
              "      <td>21</td>\n",
              "      <td>Bournemouth</td>\n",
              "      <td>0.0</td>\n",
              "      <td>0.0</td>\n",
              "      <td>2.85</td>\n",
              "    </tr>\n",
              "    <tr>\n",
              "      <th>4049</th>\n",
              "      <td>Sean-Longstaff</td>\n",
              "      <td>21</td>\n",
              "      <td>Crystal Palace</td>\n",
              "      <td>0.0</td>\n",
              "      <td>3.0</td>\n",
              "      <td>2.85</td>\n",
              "    </tr>\n",
              "    <tr>\n",
              "      <th>4079</th>\n",
              "      <td>Douglas-Luiz</td>\n",
              "      <td>21</td>\n",
              "      <td>Southampton</td>\n",
              "      <td>0.0</td>\n",
              "      <td>5.0</td>\n",
              "      <td>2.85</td>\n",
              "    </tr>\n",
              "    <tr>\n",
              "      <th>4163</th>\n",
              "      <td>Riyad-Mahrez</td>\n",
              "      <td>21</td>\n",
              "      <td>Wolves</td>\n",
              "      <td>1.0</td>\n",
              "      <td>6.0</td>\n",
              "      <td>2.85</td>\n",
              "    </tr>\n",
              "    <tr>\n",
              "      <th>4316</th>\n",
              "      <td>Martinelli</td>\n",
              "      <td>21</td>\n",
              "      <td>Manchester Utd</td>\n",
              "      <td>1.0</td>\n",
              "      <td>2.0</td>\n",
              "      <td>2.85</td>\n",
              "    </tr>\n",
              "    <tr>\n",
              "      <th>4517</th>\n",
              "      <td>Scott-McTominay</td>\n",
              "      <td>21</td>\n",
              "      <td>Arsenal</td>\n",
              "      <td>0.0</td>\n",
              "      <td>2.0</td>\n",
              "      <td>2.85</td>\n",
              "    </tr>\n",
              "    <tr>\n",
              "      <th>4566</th>\n",
              "      <td>Nampalys-Mendy</td>\n",
              "      <td>21</td>\n",
              "      <td>Brighton</td>\n",
              "      <td>1.0</td>\n",
              "      <td>2.0</td>\n",
              "      <td>2.85</td>\n",
              "    </tr>\n",
              "    <tr>\n",
              "      <th>4763</th>\n",
              "      <td>Mason-Mount</td>\n",
              "      <td>21</td>\n",
              "      <td>Liverpool</td>\n",
              "      <td>0.0</td>\n",
              "      <td>3.0</td>\n",
              "      <td>2.85</td>\n",
              "    </tr>\n",
              "    <tr>\n",
              "      <th>4790</th>\n",
              "      <td>Joao-Moutinho</td>\n",
              "      <td>21</td>\n",
              "      <td>Manchester City</td>\n",
              "      <td>0.0</td>\n",
              "      <td>1.0</td>\n",
              "      <td>2.85</td>\n",
              "    </tr>\n",
              "    <tr>\n",
              "      <th>4969</th>\n",
              "      <td>Matheus-Nunes</td>\n",
              "      <td>21</td>\n",
              "      <td>Manchester City</td>\n",
              "      <td>0.0</td>\n",
              "      <td>2.0</td>\n",
              "      <td>2.85</td>\n",
              "    </tr>\n",
              "    <tr>\n",
              "      <th>5084</th>\n",
              "      <td>Amadou-Onana</td>\n",
              "      <td>21</td>\n",
              "      <td>West Ham</td>\n",
              "      <td>0.0</td>\n",
              "      <td>2.0</td>\n",
              "      <td>2.85</td>\n",
              "    </tr>\n",
              "    <tr>\n",
              "      <th>5496</th>\n",
              "      <td>Marcus-Rashford</td>\n",
              "      <td>21</td>\n",
              "      <td>Arsenal</td>\n",
              "      <td>0.0</td>\n",
              "      <td>7.0</td>\n",
              "      <td>2.85</td>\n",
              "    </tr>\n",
              "  </tbody>\n",
              "</table>\n",
              "</div>\n",
              "      <button class=\"colab-df-convert\" onclick=\"convertToInteractive('df-21b81be9-6e9c-48bc-ba9e-fc8738daf7e6')\"\n",
              "              title=\"Convert this dataframe to an interactive table.\"\n",
              "              style=\"display:none;\">\n",
              "        \n",
              "  <svg xmlns=\"http://www.w3.org/2000/svg\" height=\"24px\"viewBox=\"0 0 24 24\"\n",
              "       width=\"24px\">\n",
              "    <path d=\"M0 0h24v24H0V0z\" fill=\"none\"/>\n",
              "    <path d=\"M18.56 5.44l.94 2.06.94-2.06 2.06-.94-2.06-.94-.94-2.06-.94 2.06-2.06.94zm-11 1L8.5 8.5l.94-2.06 2.06-.94-2.06-.94L8.5 2.5l-.94 2.06-2.06.94zm10 10l.94 2.06.94-2.06 2.06-.94-2.06-.94-.94-2.06-.94 2.06-2.06.94z\"/><path d=\"M17.41 7.96l-1.37-1.37c-.4-.4-.92-.59-1.43-.59-.52 0-1.04.2-1.43.59L10.3 9.45l-7.72 7.72c-.78.78-.78 2.05 0 2.83L4 21.41c.39.39.9.59 1.41.59.51 0 1.02-.2 1.41-.59l7.78-7.78 2.81-2.81c.8-.78.8-2.07 0-2.86zM5.41 20L4 18.59l7.72-7.72 1.47 1.35L5.41 20z\"/>\n",
              "  </svg>\n",
              "      </button>\n",
              "      \n",
              "  <style>\n",
              "    .colab-df-container {\n",
              "      display:flex;\n",
              "      flex-wrap:wrap;\n",
              "      gap: 12px;\n",
              "    }\n",
              "\n",
              "    .colab-df-convert {\n",
              "      background-color: #E8F0FE;\n",
              "      border: none;\n",
              "      border-radius: 50%;\n",
              "      cursor: pointer;\n",
              "      display: none;\n",
              "      fill: #1967D2;\n",
              "      height: 32px;\n",
              "      padding: 0 0 0 0;\n",
              "      width: 32px;\n",
              "    }\n",
              "\n",
              "    .colab-df-convert:hover {\n",
              "      background-color: #E2EBFA;\n",
              "      box-shadow: 0px 1px 2px rgba(60, 64, 67, 0.3), 0px 1px 3px 1px rgba(60, 64, 67, 0.15);\n",
              "      fill: #174EA6;\n",
              "    }\n",
              "\n",
              "    [theme=dark] .colab-df-convert {\n",
              "      background-color: #3B4455;\n",
              "      fill: #D2E3FC;\n",
              "    }\n",
              "\n",
              "    [theme=dark] .colab-df-convert:hover {\n",
              "      background-color: #434B5C;\n",
              "      box-shadow: 0px 1px 3px 1px rgba(0, 0, 0, 0.15);\n",
              "      filter: drop-shadow(0px 1px 2px rgba(0, 0, 0, 0.3));\n",
              "      fill: #FFFFFF;\n",
              "    }\n",
              "  </style>\n",
              "\n",
              "      <script>\n",
              "        const buttonEl =\n",
              "          document.querySelector('#df-21b81be9-6e9c-48bc-ba9e-fc8738daf7e6 button.colab-df-convert');\n",
              "        buttonEl.style.display =\n",
              "          google.colab.kernel.accessAllowed ? 'block' : 'none';\n",
              "\n",
              "        async function convertToInteractive(key) {\n",
              "          const element = document.querySelector('#df-21b81be9-6e9c-48bc-ba9e-fc8738daf7e6');\n",
              "          const dataTable =\n",
              "            await google.colab.kernel.invokeFunction('convertToInteractive',\n",
              "                                                     [key], {});\n",
              "          if (!dataTable) return;\n",
              "\n",
              "          const docLinkHtml = 'Like what you see? Visit the ' +\n",
              "            '<a target=\"_blank\" href=https://colab.research.google.com/notebooks/data_table.ipynb>data table notebook</a>'\n",
              "            + ' to learn more about interactive tables.';\n",
              "          element.innerHTML = '';\n",
              "          dataTable['output_type'] = 'display_data';\n",
              "          await google.colab.output.renderOutput(dataTable, element);\n",
              "          const docLink = document.createElement('div');\n",
              "          docLink.innerHTML = docLinkHtml;\n",
              "          element.appendChild(docLink);\n",
              "        }\n",
              "      </script>\n",
              "    </div>\n",
              "  </div>\n",
              "  "
            ],
            "text/plain": [
              "                   Name  GW         Opponent  Was Home  Total Points  Points\n",
              "3325     Mathias-Jensen  21     Leeds United       0.0           3.0    2.85\n",
              "2185  Christian-Eriksen  21          Arsenal       0.0           2.0    2.85\n",
              "2786       Pascal-Gross  21   Leicester City       0.0           2.0    2.85\n",
              "3269       Daniel-James  21        Tottenham       1.0           0.0    2.85\n",
              "3297      Vitaly-Janelt  21     Leeds United       0.0           1.0    2.85\n",
              "3430           Jorginho  21        Liverpool       0.0           3.0    2.85\n",
              "3728       Adam-Lallana  21   Leicester City       0.0           1.0    2.85\n",
              "3882    Jefferson-Lerma  21  Nott'ham Forest       1.0           2.0    2.85\n",
              "3960      Jesse-Lingard  21      Bournemouth       0.0           0.0    2.85\n",
              "4049     Sean-Longstaff  21   Crystal Palace       0.0           3.0    2.85\n",
              "4079       Douglas-Luiz  21      Southampton       0.0           5.0    2.85\n",
              "4163       Riyad-Mahrez  21           Wolves       1.0           6.0    2.85\n",
              "4316         Martinelli  21   Manchester Utd       1.0           2.0    2.85\n",
              "4517    Scott-McTominay  21          Arsenal       0.0           2.0    2.85\n",
              "4566     Nampalys-Mendy  21         Brighton       1.0           2.0    2.85\n",
              "4763        Mason-Mount  21        Liverpool       0.0           3.0    2.85\n",
              "4790      Joao-Moutinho  21  Manchester City       0.0           1.0    2.85\n",
              "4969      Matheus-Nunes  21  Manchester City       0.0           2.0    2.85\n",
              "5084       Amadou-Onana  21         West Ham       0.0           2.0    2.85\n",
              "5496    Marcus-Rashford  21          Arsenal       0.0           7.0    2.85"
            ]
          },
          "execution_count": 137,
          "metadata": {},
          "output_type": "execute_result"
        }
      ],
      "source": [
        "# results sorted\n",
        "predictions_mid_sorted = predictions_mid.sort_values(by=[\"Points\"], ascending = False).head(20)\n",
        "predictions_mid_sorted[prediction_columns]"
      ]
    },
    {
      "cell_type": "markdown",
      "id": "9921aabf-4769-4350-a3e5-bbaacd60b4d5",
      "metadata": {
        "id": "9921aabf-4769-4350-a3e5-bbaacd60b4d5"
      },
      "source": [
        "## Forwards"
      ]
    },
    {
      "cell_type": "code",
      "execution_count": 151,
      "id": "ef689219-6923-4a23-88ea-0331a33eb2a3",
      "metadata": {
        "id": "ef689219-6923-4a23-88ea-0331a33eb2a3"
      },
      "outputs": [],
      "source": [
        "predictions_fwd = generate_predictions(dataloader_fwd_valid, dataset_fwd_valid, net_fwd, df_fwd_original, FIRST_VALID_GW)"
      ]
    },
    {
      "cell_type": "code",
      "execution_count": 152,
      "id": "9d88c704-50eb-42c1-8b92-7008cdb8d83e",
      "metadata": {
        "colab": {
          "base_uri": "https://localhost:8080/",
          "height": 990
        },
        "id": "9d88c704-50eb-42c1-8b92-7008cdb8d83e",
        "outputId": "d675c8f0-b427-4efa-a266-669ebd76342d"
      },
      "outputs": [
        {
          "data": {
            "text/html": [
              "\n",
              "  <div id=\"df-00758218-63b6-4aad-9893-290d0a6f2e0a\">\n",
              "    <div class=\"colab-df-container\">\n",
              "      <div>\n",
              "<style scoped>\n",
              "    .dataframe tbody tr th:only-of-type {\n",
              "        vertical-align: middle;\n",
              "    }\n",
              "\n",
              "    .dataframe tbody tr th {\n",
              "        vertical-align: top;\n",
              "    }\n",
              "\n",
              "    .dataframe thead th {\n",
              "        text-align: right;\n",
              "    }\n",
              "</style>\n",
              "<table border=\"1\" class=\"dataframe\">\n",
              "  <thead>\n",
              "    <tr style=\"text-align: right;\">\n",
              "      <th></th>\n",
              "      <th>Name</th>\n",
              "      <th>GW</th>\n",
              "      <th>Opponent</th>\n",
              "      <th>Was Home</th>\n",
              "      <th>Total Points</th>\n",
              "      <th>Points</th>\n",
              "    </tr>\n",
              "  </thead>\n",
              "  <tbody>\n",
              "    <tr>\n",
              "      <th>3501</th>\n",
              "      <td>Harry-Kane</td>\n",
              "      <td>21</td>\n",
              "      <td>Fulham</td>\n",
              "      <td>0.0</td>\n",
              "      <td>6.0</td>\n",
              "      <td>5.47</td>\n",
              "    </tr>\n",
              "    <tr>\n",
              "      <th>2904</th>\n",
              "      <td>Erling-Haaland</td>\n",
              "      <td>21</td>\n",
              "      <td>Wolves</td>\n",
              "      <td>1.0</td>\n",
              "      <td>17.0</td>\n",
              "      <td>5.27</td>\n",
              "    </tr>\n",
              "    <tr>\n",
              "      <th>4443</th>\n",
              "      <td>Bryan-Mbeumo</td>\n",
              "      <td>21</td>\n",
              "      <td>Leeds United</td>\n",
              "      <td>0.0</td>\n",
              "      <td>2.0</td>\n",
              "      <td>3.89</td>\n",
              "    </tr>\n",
              "    <tr>\n",
              "      <th>7212</th>\n",
              "      <td>Callum-Wilson</td>\n",
              "      <td>21</td>\n",
              "      <td>Crystal Palace</td>\n",
              "      <td>0.0</td>\n",
              "      <td>2.0</td>\n",
              "      <td>3.83</td>\n",
              "    </tr>\n",
              "    <tr>\n",
              "      <th>6714</th>\n",
              "      <td>Ivan-Toney</td>\n",
              "      <td>21</td>\n",
              "      <td>Leeds United</td>\n",
              "      <td>0.0</td>\n",
              "      <td>1.0</td>\n",
              "      <td>3.76</td>\n",
              "    </tr>\n",
              "    <tr>\n",
              "      <th>4718</th>\n",
              "      <td>Aleksandar-Mitrovic</td>\n",
              "      <td>21</td>\n",
              "      <td>Tottenham</td>\n",
              "      <td>1.0</td>\n",
              "      <td>2.0</td>\n",
              "      <td>3.71</td>\n",
              "    </tr>\n",
              "    <tr>\n",
              "      <th>4952</th>\n",
              "      <td>Eddie-Nketiah</td>\n",
              "      <td>21</td>\n",
              "      <td>Manchester Utd</td>\n",
              "      <td>1.0</td>\n",
              "      <td>13.0</td>\n",
              "      <td>3.54</td>\n",
              "    </tr>\n",
              "    <tr>\n",
              "      <th>7121</th>\n",
              "      <td>Danny-Welbeck</td>\n",
              "      <td>21</td>\n",
              "      <td>Leicester City</td>\n",
              "      <td>0.0</td>\n",
              "      <td>2.0</td>\n",
              "      <td>3.22</td>\n",
              "    </tr>\n",
              "    <tr>\n",
              "      <th>7089</th>\n",
              "      <td>Ollie-Watkins</td>\n",
              "      <td>21</td>\n",
              "      <td>Southampton</td>\n",
              "      <td>0.0</td>\n",
              "      <td>8.0</td>\n",
              "      <td>3.11</td>\n",
              "    </tr>\n",
              "    <tr>\n",
              "      <th>2967</th>\n",
              "      <td>Kai-Havertz</td>\n",
              "      <td>21</td>\n",
              "      <td>Liverpool</td>\n",
              "      <td>0.0</td>\n",
              "      <td>2.0</td>\n",
              "      <td>3.10</td>\n",
              "    </tr>\n",
              "    <tr>\n",
              "      <th>38</th>\n",
              "      <td>Che-Adams</td>\n",
              "      <td>21</td>\n",
              "      <td>Aston Villa</td>\n",
              "      <td>1.0</td>\n",
              "      <td>2.0</td>\n",
              "      <td>2.97</td>\n",
              "    </tr>\n",
              "    <tr>\n",
              "      <th>3401</th>\n",
              "      <td>Brennan-Johnson</td>\n",
              "      <td>21</td>\n",
              "      <td>Bournemouth</td>\n",
              "      <td>0.0</td>\n",
              "      <td>5.0</td>\n",
              "      <td>2.93</td>\n",
              "    </tr>\n",
              "    <tr>\n",
              "      <th>4738</th>\n",
              "      <td>Kieffer-Moore</td>\n",
              "      <td>21</td>\n",
              "      <td>Nott'ham Forest</td>\n",
              "      <td>1.0</td>\n",
              "      <td>2.0</td>\n",
              "      <td>2.92</td>\n",
              "    </tr>\n",
              "    <tr>\n",
              "      <th>347</th>\n",
              "      <td>Michail-Antonio</td>\n",
              "      <td>21</td>\n",
              "      <td>Everton</td>\n",
              "      <td>1.0</td>\n",
              "      <td>5.0</td>\n",
              "      <td>2.28</td>\n",
              "    </tr>\n",
              "    <tr>\n",
              "      <th>6516</th>\n",
              "      <td>Sam-Surridge</td>\n",
              "      <td>21</td>\n",
              "      <td>Bournemouth</td>\n",
              "      <td>0.0</td>\n",
              "      <td>8.0</td>\n",
              "      <td>2.22</td>\n",
              "    </tr>\n",
              "    <tr>\n",
              "      <th>6893</th>\n",
              "      <td>Jamie-Vardy</td>\n",
              "      <td>21</td>\n",
              "      <td>Brighton</td>\n",
              "      <td>1.0</td>\n",
              "      <td>2.0</td>\n",
              "      <td>2.17</td>\n",
              "    </tr>\n",
              "    <tr>\n",
              "      <th>256</th>\n",
              "      <td>Julian-Alvarez</td>\n",
              "      <td>21</td>\n",
              "      <td>Wolves</td>\n",
              "      <td>1.0</td>\n",
              "      <td>1.0</td>\n",
              "      <td>2.11</td>\n",
              "    </tr>\n",
              "    <tr>\n",
              "      <th>2575</th>\n",
              "      <td>Joe-Gelhardt</td>\n",
              "      <td>21</td>\n",
              "      <td>Brentford</td>\n",
              "      <td>1.0</td>\n",
              "      <td>0.0</td>\n",
              "      <td>2.10</td>\n",
              "    </tr>\n",
              "    <tr>\n",
              "      <th>3225</th>\n",
              "      <td>Danny-Ings</td>\n",
              "      <td>21</td>\n",
              "      <td>Everton</td>\n",
              "      <td>1.0</td>\n",
              "      <td>1.0</td>\n",
              "      <td>2.00</td>\n",
              "    </tr>\n",
              "    <tr>\n",
              "      <th>4409</th>\n",
              "      <td>Neal-Maupay</td>\n",
              "      <td>21</td>\n",
              "      <td>West Ham</td>\n",
              "      <td>0.0</td>\n",
              "      <td>0.0</td>\n",
              "      <td>2.00</td>\n",
              "    </tr>\n",
              "    <tr>\n",
              "      <th>6834</th>\n",
              "      <td>Deniz-Undav</td>\n",
              "      <td>21</td>\n",
              "      <td>Leicester City</td>\n",
              "      <td>0.0</td>\n",
              "      <td>0.0</td>\n",
              "      <td>1.82</td>\n",
              "    </tr>\n",
              "    <tr>\n",
              "      <th>7267</th>\n",
              "      <td>Chris-Wood</td>\n",
              "      <td>21</td>\n",
              "      <td>Bournemouth</td>\n",
              "      <td>0.0</td>\n",
              "      <td>2.0</td>\n",
              "      <td>1.61</td>\n",
              "    </tr>\n",
              "    <tr>\n",
              "      <th>2767</th>\n",
              "      <td>Sam-Greenwood</td>\n",
              "      <td>21</td>\n",
              "      <td>Brentford</td>\n",
              "      <td>1.0</td>\n",
              "      <td>1.0</td>\n",
              "      <td>1.61</td>\n",
              "    </tr>\n",
              "    <tr>\n",
              "      <th>3205</th>\n",
              "      <td>Kelechi-Iheanacho</td>\n",
              "      <td>21</td>\n",
              "      <td>Brighton</td>\n",
              "      <td>1.0</td>\n",
              "      <td>0.0</td>\n",
              "      <td>1.57</td>\n",
              "    </tr>\n",
              "    <tr>\n",
              "      <th>1569</th>\n",
              "      <td>Patson-Daka</td>\n",
              "      <td>21</td>\n",
              "      <td>Brighton</td>\n",
              "      <td>1.0</td>\n",
              "      <td>1.0</td>\n",
              "      <td>1.50</td>\n",
              "    </tr>\n",
              "    <tr>\n",
              "      <th>6959</th>\n",
              "      <td>Carlos-Vinicius</td>\n",
              "      <td>21</td>\n",
              "      <td>Tottenham</td>\n",
              "      <td>1.0</td>\n",
              "      <td>1.0</td>\n",
              "      <td>1.48</td>\n",
              "    </tr>\n",
              "    <tr>\n",
              "      <th>2066</th>\n",
              "      <td>Odsonne-Edouard</td>\n",
              "      <td>21</td>\n",
              "      <td>Newcastle Utd</td>\n",
              "      <td>1.0</td>\n",
              "      <td>2.0</td>\n",
              "      <td>1.48</td>\n",
              "    </tr>\n",
              "    <tr>\n",
              "      <th>4244</th>\n",
              "      <td>Sekou-Mara</td>\n",
              "      <td>21</td>\n",
              "      <td>Aston Villa</td>\n",
              "      <td>1.0</td>\n",
              "      <td>1.0</td>\n",
              "      <td>1.47</td>\n",
              "    </tr>\n",
              "    <tr>\n",
              "      <th>4382</th>\n",
              "      <td>Jean-Philippe-Mateta</td>\n",
              "      <td>21</td>\n",
              "      <td>Newcastle Utd</td>\n",
              "      <td>1.0</td>\n",
              "      <td>1.0</td>\n",
              "      <td>1.46</td>\n",
              "    </tr>\n",
              "    <tr>\n",
              "      <th>431</th>\n",
              "      <td>Adam-Armstrong</td>\n",
              "      <td>21</td>\n",
              "      <td>Aston Villa</td>\n",
              "      <td>1.0</td>\n",
              "      <td>2.0</td>\n",
              "      <td>1.44</td>\n",
              "    </tr>\n",
              "  </tbody>\n",
              "</table>\n",
              "</div>\n",
              "      <button class=\"colab-df-convert\" onclick=\"convertToInteractive('df-00758218-63b6-4aad-9893-290d0a6f2e0a')\"\n",
              "              title=\"Convert this dataframe to an interactive table.\"\n",
              "              style=\"display:none;\">\n",
              "        \n",
              "  <svg xmlns=\"http://www.w3.org/2000/svg\" height=\"24px\"viewBox=\"0 0 24 24\"\n",
              "       width=\"24px\">\n",
              "    <path d=\"M0 0h24v24H0V0z\" fill=\"none\"/>\n",
              "    <path d=\"M18.56 5.44l.94 2.06.94-2.06 2.06-.94-2.06-.94-.94-2.06-.94 2.06-2.06.94zm-11 1L8.5 8.5l.94-2.06 2.06-.94-2.06-.94L8.5 2.5l-.94 2.06-2.06.94zm10 10l.94 2.06.94-2.06 2.06-.94-2.06-.94-.94-2.06-.94 2.06-2.06.94z\"/><path d=\"M17.41 7.96l-1.37-1.37c-.4-.4-.92-.59-1.43-.59-.52 0-1.04.2-1.43.59L10.3 9.45l-7.72 7.72c-.78.78-.78 2.05 0 2.83L4 21.41c.39.39.9.59 1.41.59.51 0 1.02-.2 1.41-.59l7.78-7.78 2.81-2.81c.8-.78.8-2.07 0-2.86zM5.41 20L4 18.59l7.72-7.72 1.47 1.35L5.41 20z\"/>\n",
              "  </svg>\n",
              "      </button>\n",
              "      \n",
              "  <style>\n",
              "    .colab-df-container {\n",
              "      display:flex;\n",
              "      flex-wrap:wrap;\n",
              "      gap: 12px;\n",
              "    }\n",
              "\n",
              "    .colab-df-convert {\n",
              "      background-color: #E8F0FE;\n",
              "      border: none;\n",
              "      border-radius: 50%;\n",
              "      cursor: pointer;\n",
              "      display: none;\n",
              "      fill: #1967D2;\n",
              "      height: 32px;\n",
              "      padding: 0 0 0 0;\n",
              "      width: 32px;\n",
              "    }\n",
              "\n",
              "    .colab-df-convert:hover {\n",
              "      background-color: #E2EBFA;\n",
              "      box-shadow: 0px 1px 2px rgba(60, 64, 67, 0.3), 0px 1px 3px 1px rgba(60, 64, 67, 0.15);\n",
              "      fill: #174EA6;\n",
              "    }\n",
              "\n",
              "    [theme=dark] .colab-df-convert {\n",
              "      background-color: #3B4455;\n",
              "      fill: #D2E3FC;\n",
              "    }\n",
              "\n",
              "    [theme=dark] .colab-df-convert:hover {\n",
              "      background-color: #434B5C;\n",
              "      box-shadow: 0px 1px 3px 1px rgba(0, 0, 0, 0.15);\n",
              "      filter: drop-shadow(0px 1px 2px rgba(0, 0, 0, 0.3));\n",
              "      fill: #FFFFFF;\n",
              "    }\n",
              "  </style>\n",
              "\n",
              "      <script>\n",
              "        const buttonEl =\n",
              "          document.querySelector('#df-00758218-63b6-4aad-9893-290d0a6f2e0a button.colab-df-convert');\n",
              "        buttonEl.style.display =\n",
              "          google.colab.kernel.accessAllowed ? 'block' : 'none';\n",
              "\n",
              "        async function convertToInteractive(key) {\n",
              "          const element = document.querySelector('#df-00758218-63b6-4aad-9893-290d0a6f2e0a');\n",
              "          const dataTable =\n",
              "            await google.colab.kernel.invokeFunction('convertToInteractive',\n",
              "                                                     [key], {});\n",
              "          if (!dataTable) return;\n",
              "\n",
              "          const docLinkHtml = 'Like what you see? Visit the ' +\n",
              "            '<a target=\"_blank\" href=https://colab.research.google.com/notebooks/data_table.ipynb>data table notebook</a>'\n",
              "            + ' to learn more about interactive tables.';\n",
              "          element.innerHTML = '';\n",
              "          dataTable['output_type'] = 'display_data';\n",
              "          await google.colab.output.renderOutput(dataTable, element);\n",
              "          const docLink = document.createElement('div');\n",
              "          docLink.innerHTML = docLinkHtml;\n",
              "          element.appendChild(docLink);\n",
              "        }\n",
              "      </script>\n",
              "    </div>\n",
              "  </div>\n",
              "  "
            ],
            "text/plain": [
              "                      Name  GW         Opponent  Was Home  Total Points  \\\n",
              "3501            Harry-Kane  21           Fulham       0.0           6.0   \n",
              "2904        Erling-Haaland  21           Wolves       1.0          17.0   \n",
              "4443          Bryan-Mbeumo  21     Leeds United       0.0           2.0   \n",
              "7212         Callum-Wilson  21   Crystal Palace       0.0           2.0   \n",
              "6714            Ivan-Toney  21     Leeds United       0.0           1.0   \n",
              "4718   Aleksandar-Mitrovic  21        Tottenham       1.0           2.0   \n",
              "4952         Eddie-Nketiah  21   Manchester Utd       1.0          13.0   \n",
              "7121         Danny-Welbeck  21   Leicester City       0.0           2.0   \n",
              "7089         Ollie-Watkins  21      Southampton       0.0           8.0   \n",
              "2967           Kai-Havertz  21        Liverpool       0.0           2.0   \n",
              "38               Che-Adams  21      Aston Villa       1.0           2.0   \n",
              "3401       Brennan-Johnson  21      Bournemouth       0.0           5.0   \n",
              "4738         Kieffer-Moore  21  Nott'ham Forest       1.0           2.0   \n",
              "347        Michail-Antonio  21          Everton       1.0           5.0   \n",
              "6516          Sam-Surridge  21      Bournemouth       0.0           8.0   \n",
              "6893           Jamie-Vardy  21         Brighton       1.0           2.0   \n",
              "256         Julian-Alvarez  21           Wolves       1.0           1.0   \n",
              "2575          Joe-Gelhardt  21        Brentford       1.0           0.0   \n",
              "3225            Danny-Ings  21          Everton       1.0           1.0   \n",
              "4409           Neal-Maupay  21         West Ham       0.0           0.0   \n",
              "6834           Deniz-Undav  21   Leicester City       0.0           0.0   \n",
              "7267            Chris-Wood  21      Bournemouth       0.0           2.0   \n",
              "2767         Sam-Greenwood  21        Brentford       1.0           1.0   \n",
              "3205     Kelechi-Iheanacho  21         Brighton       1.0           0.0   \n",
              "1569           Patson-Daka  21         Brighton       1.0           1.0   \n",
              "6959       Carlos-Vinicius  21        Tottenham       1.0           1.0   \n",
              "2066       Odsonne-Edouard  21    Newcastle Utd       1.0           2.0   \n",
              "4244            Sekou-Mara  21      Aston Villa       1.0           1.0   \n",
              "4382  Jean-Philippe-Mateta  21    Newcastle Utd       1.0           1.0   \n",
              "431         Adam-Armstrong  21      Aston Villa       1.0           2.0   \n",
              "\n",
              "      Points  \n",
              "3501    5.47  \n",
              "2904    5.27  \n",
              "4443    3.89  \n",
              "7212    3.83  \n",
              "6714    3.76  \n",
              "4718    3.71  \n",
              "4952    3.54  \n",
              "7121    3.22  \n",
              "7089    3.11  \n",
              "2967    3.10  \n",
              "38      2.97  \n",
              "3401    2.93  \n",
              "4738    2.92  \n",
              "347     2.28  \n",
              "6516    2.22  \n",
              "6893    2.17  \n",
              "256     2.11  \n",
              "2575    2.10  \n",
              "3225    2.00  \n",
              "4409    2.00  \n",
              "6834    1.82  \n",
              "7267    1.61  \n",
              "2767    1.61  \n",
              "3205    1.57  \n",
              "1569    1.50  \n",
              "6959    1.48  \n",
              "2066    1.48  \n",
              "4244    1.47  \n",
              "4382    1.46  \n",
              "431     1.44  "
            ]
          },
          "execution_count": 152,
          "metadata": {},
          "output_type": "execute_result"
        }
      ],
      "source": [
        "# results sorted\n",
        "predictions_fwd_sorted = predictions_fwd.sort_values(by=[\"Points\"], ascending = False).head(30)\n",
        "predictions_fwd_sorted[prediction_columns]"
      ]
    },
    {
      "cell_type": "markdown",
      "id": "NYitzLDzcduZ",
      "metadata": {
        "id": "NYitzLDzcduZ"
      },
      "source": [
        "# Saving predictions to files"
      ]
    },
    {
      "cell_type": "code",
      "execution_count": 140,
      "id": "43368445-5cc4-45c3-8d46-90935ab138fc",
      "metadata": {
        "id": "43368445-5cc4-45c3-8d46-90935ab138fc"
      },
      "outputs": [],
      "source": [
        "predictions_gk_sorted.to_csv(\"predictions/predictions_gk.csv\")\n",
        "predictions_def_sorted.to_csv(\"predictions/predictions_def.csv\")\n",
        "predictions_mid_sorted.to_csv(\"predictions/predictions_mid.csv\")\n",
        "predictions_fwd_sorted.to_csv(\"predictions/predictions_fwd.csv\")"
      ]
    },
    {
      "cell_type": "code",
      "execution_count": 140,
      "id": "fa55a4ad-748a-4862-a02b-511bef68c9cb",
      "metadata": {
        "id": "fa55a4ad-748a-4862-a02b-511bef68c9cb"
      },
      "outputs": [],
      "source": []
    },
    {
      "cell_type": "markdown",
      "id": "x6Hbsv8JO7rv",
      "metadata": {
        "id": "x6Hbsv8JO7rv"
      },
      "source": [
        "# Predictions for train dataloaders\n",
        "\n"
      ]
    },
    {
      "cell_type": "markdown",
      "id": "_VMfJx5qPQ-n",
      "metadata": {
        "id": "_VMfJx5qPQ-n"
      },
      "source": [
        "## General model"
      ]
    },
    {
      "cell_type": "code",
      "execution_count": 141,
      "id": "WDGzBLFFO_VR",
      "metadata": {
        "id": "WDGzBLFFO_VR"
      },
      "outputs": [],
      "source": [
        "train_predictions_general = generate_predictions(dataloader_general_train, dataset_general_train, net, df_original, FIRST_TRAIN_GW)"
      ]
    },
    {
      "cell_type": "code",
      "execution_count": 142,
      "id": "S-tfIcrPO-w0",
      "metadata": {
        "id": "S-tfIcrPO-w0"
      },
      "outputs": [],
      "source": [
        "train_predictions_general.to_csv(\"predictions/train_predictions_general.csv\")"
      ]
    },
    {
      "cell_type": "markdown",
      "id": "xpGyA8AvRWBz",
      "metadata": {
        "id": "xpGyA8AvRWBz"
      },
      "source": [
        "## Positional models"
      ]
    },
    {
      "cell_type": "code",
      "execution_count": 143,
      "id": "hSky1pvcRVfA",
      "metadata": {
        "id": "hSky1pvcRVfA"
      },
      "outputs": [],
      "source": [
        "train_predictions_gk = generate_predictions(dataloader_gk_train, dataset_gk_train, net_gk, df_gk_original, FIRST_TRAIN_GW)"
      ]
    },
    {
      "cell_type": "code",
      "execution_count": 144,
      "id": "oMpIL_auRVhv",
      "metadata": {
        "id": "oMpIL_auRVhv"
      },
      "outputs": [],
      "source": [
        "train_predictions_def = generate_predictions(dataloader_def_train, dataset_def_train, net_def, df_def_original, FIRST_TRAIN_GW)"
      ]
    },
    {
      "cell_type": "code",
      "execution_count": 145,
      "id": "wu_qhhoTSNYk",
      "metadata": {
        "id": "wu_qhhoTSNYk"
      },
      "outputs": [],
      "source": [
        "train_predictions_mid = generate_predictions(dataloader_mid_train, dataset_mid_train, net_mid, df_mid_original, FIRST_TRAIN_GW)"
      ]
    },
    {
      "cell_type": "code",
      "execution_count": 146,
      "id": "k57vb1rQSt-a",
      "metadata": {
        "id": "k57vb1rQSt-a"
      },
      "outputs": [],
      "source": [
        "train_predictions_fwd = generate_predictions(dataloader_fwd_train, dataset_fwd_train, net_fwd, df_fwd_original, FIRST_TRAIN_GW)"
      ]
    },
    {
      "cell_type": "code",
      "execution_count": 147,
      "id": "K0hZmtgZSuBb",
      "metadata": {
        "id": "K0hZmtgZSuBb"
      },
      "outputs": [],
      "source": [
        "train_predictions_gk.to_csv(\"predictions/train_predictions_gk.csv\")\n",
        "train_predictions_def.to_csv(\"predictions/train_predictions_def.csv\")\n",
        "train_predictions_mid.to_csv(\"predictions/train_predictions_mid.csv\")\n",
        "train_predictions_fwd.to_csv(\"predictions/train_predictions_fwd.csv\")"
      ]
    },
    {
      "cell_type": "code",
      "execution_count": 148,
      "id": "OBjspF9MuX3a",
      "metadata": {
        "colab": {
          "base_uri": "https://localhost:8080/",
          "height": 424
        },
        "id": "OBjspF9MuX3a",
        "outputId": "4eaa9c9d-54dd-4b2b-ae25-f547d1461d83"
      },
      "outputs": [
        {
          "data": {
            "text/html": [
              "\n",
              "  <div id=\"df-104fa9e6-edfa-4c19-92e6-544999c340a6\">\n",
              "    <div class=\"colab-df-container\">\n",
              "      <div>\n",
              "<style scoped>\n",
              "    .dataframe tbody tr th:only-of-type {\n",
              "        vertical-align: middle;\n",
              "    }\n",
              "\n",
              "    .dataframe tbody tr th {\n",
              "        vertical-align: top;\n",
              "    }\n",
              "\n",
              "    .dataframe thead th {\n",
              "        text-align: right;\n",
              "    }\n",
              "</style>\n",
              "<table border=\"1\" class=\"dataframe\">\n",
              "  <thead>\n",
              "    <tr style=\"text-align: right;\">\n",
              "      <th></th>\n",
              "      <th>Name</th>\n",
              "      <th>GW</th>\n",
              "      <th>Opponent</th>\n",
              "      <th>Was Home</th>\n",
              "      <th>Total Points</th>\n",
              "      <th>Points</th>\n",
              "    </tr>\n",
              "  </thead>\n",
              "  <tbody>\n",
              "    <tr>\n",
              "      <th>26</th>\n",
              "      <td>Che-Adams</td>\n",
              "      <td>9</td>\n",
              "      <td>Everton</td>\n",
              "      <td>1.0</td>\n",
              "      <td>5.0</td>\n",
              "      <td>2.66</td>\n",
              "    </tr>\n",
              "    <tr>\n",
              "      <th>27</th>\n",
              "      <td>Che-Adams</td>\n",
              "      <td>10</td>\n",
              "      <td>Manchester City</td>\n",
              "      <td>0.0</td>\n",
              "      <td>2.0</td>\n",
              "      <td>1.71</td>\n",
              "    </tr>\n",
              "    <tr>\n",
              "      <th>28</th>\n",
              "      <td>Che-Adams</td>\n",
              "      <td>11</td>\n",
              "      <td>West Ham</td>\n",
              "      <td>1.0</td>\n",
              "      <td>2.0</td>\n",
              "      <td>4.21</td>\n",
              "    </tr>\n",
              "    <tr>\n",
              "      <th>29</th>\n",
              "      <td>Che-Adams</td>\n",
              "      <td>12</td>\n",
              "      <td>Bournemouth</td>\n",
              "      <td>0.0</td>\n",
              "      <td>6.0</td>\n",
              "      <td>2.76</td>\n",
              "    </tr>\n",
              "    <tr>\n",
              "      <th>30</th>\n",
              "      <td>Che-Adams</td>\n",
              "      <td>13</td>\n",
              "      <td>Arsenal</td>\n",
              "      <td>1.0</td>\n",
              "      <td>1.0</td>\n",
              "      <td>1.56</td>\n",
              "    </tr>\n",
              "    <tr>\n",
              "      <th>...</th>\n",
              "      <td>...</td>\n",
              "      <td>...</td>\n",
              "      <td>...</td>\n",
              "      <td>...</td>\n",
              "      <td>...</td>\n",
              "      <td>...</td>\n",
              "    </tr>\n",
              "    <tr>\n",
              "      <th>7261</th>\n",
              "      <td>Chris-Wood</td>\n",
              "      <td>15</td>\n",
              "      <td>Southampton</td>\n",
              "      <td>0.0</td>\n",
              "      <td>7.0</td>\n",
              "      <td>1.65</td>\n",
              "    </tr>\n",
              "    <tr>\n",
              "      <th>7262</th>\n",
              "      <td>Chris-Wood</td>\n",
              "      <td>16</td>\n",
              "      <td>Chelsea</td>\n",
              "      <td>1.0</td>\n",
              "      <td>2.0</td>\n",
              "      <td>1.35</td>\n",
              "    </tr>\n",
              "    <tr>\n",
              "      <th>7263</th>\n",
              "      <td>Chris-Wood</td>\n",
              "      <td>17</td>\n",
              "      <td>Leicester City</td>\n",
              "      <td>0.0</td>\n",
              "      <td>8.0</td>\n",
              "      <td>1.28</td>\n",
              "    </tr>\n",
              "    <tr>\n",
              "      <th>7264</th>\n",
              "      <td>Chris-Wood</td>\n",
              "      <td>18</td>\n",
              "      <td>Leeds United</td>\n",
              "      <td>1.0</td>\n",
              "      <td>2.0</td>\n",
              "      <td>1.45</td>\n",
              "    </tr>\n",
              "    <tr>\n",
              "      <th>7265</th>\n",
              "      <td>Chris-Wood</td>\n",
              "      <td>19</td>\n",
              "      <td>Arsenal</td>\n",
              "      <td>0.0</td>\n",
              "      <td>1.0</td>\n",
              "      <td>1.20</td>\n",
              "    </tr>\n",
              "  </tbody>\n",
              "</table>\n",
              "<p>258 rows × 6 columns</p>\n",
              "</div>\n",
              "      <button class=\"colab-df-convert\" onclick=\"convertToInteractive('df-104fa9e6-edfa-4c19-92e6-544999c340a6')\"\n",
              "              title=\"Convert this dataframe to an interactive table.\"\n",
              "              style=\"display:none;\">\n",
              "        \n",
              "  <svg xmlns=\"http://www.w3.org/2000/svg\" height=\"24px\"viewBox=\"0 0 24 24\"\n",
              "       width=\"24px\">\n",
              "    <path d=\"M0 0h24v24H0V0z\" fill=\"none\"/>\n",
              "    <path d=\"M18.56 5.44l.94 2.06.94-2.06 2.06-.94-2.06-.94-.94-2.06-.94 2.06-2.06.94zm-11 1L8.5 8.5l.94-2.06 2.06-.94-2.06-.94L8.5 2.5l-.94 2.06-2.06.94zm10 10l.94 2.06.94-2.06 2.06-.94-2.06-.94-.94-2.06-.94 2.06-2.06.94z\"/><path d=\"M17.41 7.96l-1.37-1.37c-.4-.4-.92-.59-1.43-.59-.52 0-1.04.2-1.43.59L10.3 9.45l-7.72 7.72c-.78.78-.78 2.05 0 2.83L4 21.41c.39.39.9.59 1.41.59.51 0 1.02-.2 1.41-.59l7.78-7.78 2.81-2.81c.8-.78.8-2.07 0-2.86zM5.41 20L4 18.59l7.72-7.72 1.47 1.35L5.41 20z\"/>\n",
              "  </svg>\n",
              "      </button>\n",
              "      \n",
              "  <style>\n",
              "    .colab-df-container {\n",
              "      display:flex;\n",
              "      flex-wrap:wrap;\n",
              "      gap: 12px;\n",
              "    }\n",
              "\n",
              "    .colab-df-convert {\n",
              "      background-color: #E8F0FE;\n",
              "      border: none;\n",
              "      border-radius: 50%;\n",
              "      cursor: pointer;\n",
              "      display: none;\n",
              "      fill: #1967D2;\n",
              "      height: 32px;\n",
              "      padding: 0 0 0 0;\n",
              "      width: 32px;\n",
              "    }\n",
              "\n",
              "    .colab-df-convert:hover {\n",
              "      background-color: #E2EBFA;\n",
              "      box-shadow: 0px 1px 2px rgba(60, 64, 67, 0.3), 0px 1px 3px 1px rgba(60, 64, 67, 0.15);\n",
              "      fill: #174EA6;\n",
              "    }\n",
              "\n",
              "    [theme=dark] .colab-df-convert {\n",
              "      background-color: #3B4455;\n",
              "      fill: #D2E3FC;\n",
              "    }\n",
              "\n",
              "    [theme=dark] .colab-df-convert:hover {\n",
              "      background-color: #434B5C;\n",
              "      box-shadow: 0px 1px 3px 1px rgba(0, 0, 0, 0.15);\n",
              "      filter: drop-shadow(0px 1px 2px rgba(0, 0, 0, 0.3));\n",
              "      fill: #FFFFFF;\n",
              "    }\n",
              "  </style>\n",
              "\n",
              "      <script>\n",
              "        const buttonEl =\n",
              "          document.querySelector('#df-104fa9e6-edfa-4c19-92e6-544999c340a6 button.colab-df-convert');\n",
              "        buttonEl.style.display =\n",
              "          google.colab.kernel.accessAllowed ? 'block' : 'none';\n",
              "\n",
              "        async function convertToInteractive(key) {\n",
              "          const element = document.querySelector('#df-104fa9e6-edfa-4c19-92e6-544999c340a6');\n",
              "          const dataTable =\n",
              "            await google.colab.kernel.invokeFunction('convertToInteractive',\n",
              "                                                     [key], {});\n",
              "          if (!dataTable) return;\n",
              "\n",
              "          const docLinkHtml = 'Like what you see? Visit the ' +\n",
              "            '<a target=\"_blank\" href=https://colab.research.google.com/notebooks/data_table.ipynb>data table notebook</a>'\n",
              "            + ' to learn more about interactive tables.';\n",
              "          element.innerHTML = '';\n",
              "          dataTable['output_type'] = 'display_data';\n",
              "          await google.colab.output.renderOutput(dataTable, element);\n",
              "          const docLink = document.createElement('div');\n",
              "          docLink.innerHTML = docLinkHtml;\n",
              "          element.appendChild(docLink);\n",
              "        }\n",
              "      </script>\n",
              "    </div>\n",
              "  </div>\n",
              "  "
            ],
            "text/plain": [
              "            Name  GW         Opponent  Was Home  Total Points  Points\n",
              "26     Che-Adams   9          Everton       1.0           5.0    2.66\n",
              "27     Che-Adams  10  Manchester City       0.0           2.0    1.71\n",
              "28     Che-Adams  11         West Ham       1.0           2.0    4.21\n",
              "29     Che-Adams  12      Bournemouth       0.0           6.0    2.76\n",
              "30     Che-Adams  13          Arsenal       1.0           1.0    1.56\n",
              "...          ...  ..              ...       ...           ...     ...\n",
              "7261  Chris-Wood  15      Southampton       0.0           7.0    1.65\n",
              "7262  Chris-Wood  16          Chelsea       1.0           2.0    1.35\n",
              "7263  Chris-Wood  17   Leicester City       0.0           8.0    1.28\n",
              "7264  Chris-Wood  18     Leeds United       1.0           2.0    1.45\n",
              "7265  Chris-Wood  19          Arsenal       0.0           1.0    1.20\n",
              "\n",
              "[258 rows x 6 columns]"
            ]
          },
          "execution_count": 148,
          "metadata": {},
          "output_type": "execute_result"
        }
      ],
      "source": [
        "train_predictions_fwd[prediction_columns]"
      ]
    },
    {
      "cell_type": "code",
      "execution_count": 148,
      "id": "TqC-eg_vuX62",
      "metadata": {
        "id": "TqC-eg_vuX62"
      },
      "outputs": [],
      "source": []
    },
    {
      "cell_type": "code",
      "execution_count": 148,
      "id": "uxGC8xEwuX_M",
      "metadata": {
        "id": "uxGC8xEwuX_M"
      },
      "outputs": [],
      "source": []
    },
    {
      "cell_type": "code",
      "execution_count": 148,
      "id": "wh-Zbv5nuYCh",
      "metadata": {
        "id": "wh-Zbv5nuYCh"
      },
      "outputs": [],
      "source": []
    }
  ],
  "metadata": {
    "accelerator": "GPU",
    "colab": {
      "provenance": []
    },
    "gpuClass": "standard",
    "kernelspec": {
      "display_name": "Python 3",
      "language": "python",
      "name": "python3"
    },
    "language_info": {
      "codemirror_mode": {
        "name": "ipython",
        "version": 3
      },
      "file_extension": ".py",
      "mimetype": "text/x-python",
      "name": "python",
      "nbconvert_exporter": "python",
      "pygments_lexer": "ipython3",
      "version": "3.8.0"
    },
    "vscode": {
      "interpreter": {
        "hash": "6a926afa313b26ae1264fdcf81c726a97e69f6ba2ba780f6aa901948710f8d6e"
      }
    }
  },
  "nbformat": 4,
  "nbformat_minor": 5
}
