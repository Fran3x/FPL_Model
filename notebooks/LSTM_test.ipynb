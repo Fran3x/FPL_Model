{
 "cells": [
  {
   "cell_type": "markdown",
   "id": "b403b39e-b749-4730-a880-75a6b9ddfe83",
   "metadata": {},
   "source": [
    "# Imports"
   ]
  },
  {
   "cell_type": "code",
   "execution_count": 1,
   "id": "d83ab433-7a24-43c5-aeb7-51b94ccdcc05",
   "metadata": {},
   "outputs": [],
   "source": [
    "import os\n",
    "os.chdir(\"D:\\PulpitE\\FPL_ML\")"
   ]
  },
  {
   "cell_type": "code",
   "execution_count": 2,
   "id": "1382f0d0-60a4-4f2a-b4ce-c54205b18d21",
   "metadata": {},
   "outputs": [],
   "source": [
    "import pandas as pd\n",
    "\n",
    "import torch\n",
    "import torch.nn as nn\n",
    "\n",
    "import torchvision\n",
    "import torchvision.transforms\n",
    "\n",
    "from torch.utils.data import Dataset, DataLoader\n",
    "import torch.optim as optim\n",
    "\n",
    "import matplotlib.pyplot as plt\n",
    "\n",
    "import numpy as np"
   ]
  },
  {
   "cell_type": "markdown",
   "id": "83fe6a68-8e90-42af-94c8-c886a1f95c77",
   "metadata": {},
   "source": [
    "# Data"
   ]
  },
  {
   "cell_type": "code",
   "execution_count": 3,
   "id": "4bb7008e-7daa-41ce-b71c-ff06abd53b86",
   "metadata": {},
   "outputs": [],
   "source": [
    "df = pd.read_csv('data/logs_all.csv')"
   ]
  },
  {
   "cell_type": "code",
   "execution_count": 4,
   "id": "8e0c8995-bbf3-4bf2-9123-e6b35c6b0cd8",
   "metadata": {},
   "outputs": [],
   "source": [
    "info = [\"Name\"]\n",
    "features = [\"Min\", \"Gls\", \"Sh\", \"SoT\", \"xG\", \"npxG\", \"xAG\", \"CS\", \"Was Home\"]\n",
    "to_predict = [\"FPL\"]"
   ]
  },
  {
   "cell_type": "code",
   "execution_count": 5,
   "id": "c4eeb6d7-d07b-4f1c-9c86-52095b7cf379",
   "metadata": {},
   "outputs": [],
   "source": [
    "df = df[info + features + to_predict]\n",
    "df[features + to_predict] = df[features + to_predict].astype(\"float32\")"
   ]
  },
  {
   "cell_type": "code",
   "execution_count": 6,
   "id": "1ec52f24-993c-418d-8961-193f1f479720",
   "metadata": {},
   "outputs": [
    {
     "data": {
      "text/html": [
       "<div>\n",
       "<style scoped>\n",
       "    .dataframe tbody tr th:only-of-type {\n",
       "        vertical-align: middle;\n",
       "    }\n",
       "\n",
       "    .dataframe tbody tr th {\n",
       "        vertical-align: top;\n",
       "    }\n",
       "\n",
       "    .dataframe thead th {\n",
       "        text-align: right;\n",
       "    }\n",
       "</style>\n",
       "<table border=\"1\" class=\"dataframe\">\n",
       "  <thead>\n",
       "    <tr style=\"text-align: right;\">\n",
       "      <th></th>\n",
       "      <th>Name</th>\n",
       "      <th>Min</th>\n",
       "      <th>Gls</th>\n",
       "      <th>Sh</th>\n",
       "      <th>SoT</th>\n",
       "      <th>xG</th>\n",
       "      <th>npxG</th>\n",
       "      <th>xAG</th>\n",
       "      <th>CS</th>\n",
       "      <th>Was Home</th>\n",
       "      <th>FPL</th>\n",
       "    </tr>\n",
       "  </thead>\n",
       "  <tbody>\n",
       "    <tr>\n",
       "      <th>0</th>\n",
       "      <td>Miguel-Almiron</td>\n",
       "      <td>83.0</td>\n",
       "      <td>0.0</td>\n",
       "      <td>3.0</td>\n",
       "      <td>0.0</td>\n",
       "      <td>0.2</td>\n",
       "      <td>0.2</td>\n",
       "      <td>0.0</td>\n",
       "      <td>0.0</td>\n",
       "      <td>0.0</td>\n",
       "      <td>2.0</td>\n",
       "    </tr>\n",
       "    <tr>\n",
       "      <th>1</th>\n",
       "      <td>Miguel-Almiron</td>\n",
       "      <td>83.0</td>\n",
       "      <td>0.0</td>\n",
       "      <td>0.0</td>\n",
       "      <td>0.0</td>\n",
       "      <td>0.0</td>\n",
       "      <td>0.0</td>\n",
       "      <td>0.0</td>\n",
       "      <td>0.0</td>\n",
       "      <td>0.0</td>\n",
       "      <td>2.0</td>\n",
       "    </tr>\n",
       "    <tr>\n",
       "      <th>2</th>\n",
       "      <td>Miguel-Almiron</td>\n",
       "      <td>69.0</td>\n",
       "      <td>0.0</td>\n",
       "      <td>3.0</td>\n",
       "      <td>0.0</td>\n",
       "      <td>0.2</td>\n",
       "      <td>0.2</td>\n",
       "      <td>0.1</td>\n",
       "      <td>1.0</td>\n",
       "      <td>1.0</td>\n",
       "      <td>3.0</td>\n",
       "    </tr>\n",
       "    <tr>\n",
       "      <th>3</th>\n",
       "      <td>Miguel-Almiron</td>\n",
       "      <td>88.0</td>\n",
       "      <td>0.0</td>\n",
       "      <td>2.0</td>\n",
       "      <td>1.0</td>\n",
       "      <td>0.2</td>\n",
       "      <td>0.2</td>\n",
       "      <td>0.1</td>\n",
       "      <td>0.0</td>\n",
       "      <td>1.0</td>\n",
       "      <td>2.0</td>\n",
       "    </tr>\n",
       "    <tr>\n",
       "      <th>4</th>\n",
       "      <td>Miguel-Almiron</td>\n",
       "      <td>90.0</td>\n",
       "      <td>2.0</td>\n",
       "      <td>4.0</td>\n",
       "      <td>2.0</td>\n",
       "      <td>1.0</td>\n",
       "      <td>1.0</td>\n",
       "      <td>0.0</td>\n",
       "      <td>0.0</td>\n",
       "      <td>0.0</td>\n",
       "      <td>12.0</td>\n",
       "    </tr>\n",
       "    <tr>\n",
       "      <th>...</th>\n",
       "      <td>...</td>\n",
       "      <td>...</td>\n",
       "      <td>...</td>\n",
       "      <td>...</td>\n",
       "      <td>...</td>\n",
       "      <td>...</td>\n",
       "      <td>...</td>\n",
       "      <td>...</td>\n",
       "      <td>...</td>\n",
       "      <td>...</td>\n",
       "      <td>...</td>\n",
       "    </tr>\n",
       "    <tr>\n",
       "      <th>100</th>\n",
       "      <td>Wilfried-Zaha</td>\n",
       "      <td>90.0</td>\n",
       "      <td>1.0</td>\n",
       "      <td>4.0</td>\n",
       "      <td>2.0</td>\n",
       "      <td>0.3</td>\n",
       "      <td>0.3</td>\n",
       "      <td>0.1</td>\n",
       "      <td>0.0</td>\n",
       "      <td>0.0</td>\n",
       "      <td>10.0</td>\n",
       "    </tr>\n",
       "    <tr>\n",
       "      <th>101</th>\n",
       "      <td>Wilfried-Zaha</td>\n",
       "      <td>90.0</td>\n",
       "      <td>0.0</td>\n",
       "      <td>2.0</td>\n",
       "      <td>0.0</td>\n",
       "      <td>0.9</td>\n",
       "      <td>0.1</td>\n",
       "      <td>0.1</td>\n",
       "      <td>0.0</td>\n",
       "      <td>0.0</td>\n",
       "      <td>2.0</td>\n",
       "    </tr>\n",
       "    <tr>\n",
       "      <th>102</th>\n",
       "      <td>Wilfried-Zaha</td>\n",
       "      <td>90.0</td>\n",
       "      <td>0.0</td>\n",
       "      <td>0.0</td>\n",
       "      <td>0.0</td>\n",
       "      <td>0.0</td>\n",
       "      <td>0.0</td>\n",
       "      <td>0.0</td>\n",
       "      <td>0.0</td>\n",
       "      <td>1.0</td>\n",
       "      <td>2.0</td>\n",
       "    </tr>\n",
       "    <tr>\n",
       "      <th>103</th>\n",
       "      <td>Wilfried-Zaha</td>\n",
       "      <td>90.0</td>\n",
       "      <td>0.0</td>\n",
       "      <td>1.0</td>\n",
       "      <td>0.0</td>\n",
       "      <td>0.1</td>\n",
       "      <td>0.1</td>\n",
       "      <td>0.6</td>\n",
       "      <td>1.0</td>\n",
       "      <td>0.0</td>\n",
       "      <td>3.0</td>\n",
       "    </tr>\n",
       "    <tr>\n",
       "      <th>104</th>\n",
       "      <td>Wilfried-Zaha</td>\n",
       "      <td>90.0</td>\n",
       "      <td>0.0</td>\n",
       "      <td>2.0</td>\n",
       "      <td>1.0</td>\n",
       "      <td>0.2</td>\n",
       "      <td>0.2</td>\n",
       "      <td>0.1</td>\n",
       "      <td>0.0</td>\n",
       "      <td>1.0</td>\n",
       "      <td>2.0</td>\n",
       "    </tr>\n",
       "  </tbody>\n",
       "</table>\n",
       "<p>105 rows × 11 columns</p>\n",
       "</div>"
      ],
      "text/plain": [
       "               Name   Min  Gls   Sh  SoT   xG  npxG  xAG   CS  Was Home   FPL\n",
       "0    Miguel-Almiron  83.0  0.0  3.0  0.0  0.2   0.2  0.0  0.0       0.0   2.0\n",
       "1    Miguel-Almiron  83.0  0.0  0.0  0.0  0.0   0.0  0.0  0.0       0.0   2.0\n",
       "2    Miguel-Almiron  69.0  0.0  3.0  0.0  0.2   0.2  0.1  1.0       1.0   3.0\n",
       "3    Miguel-Almiron  88.0  0.0  2.0  1.0  0.2   0.2  0.1  0.0       1.0   2.0\n",
       "4    Miguel-Almiron  90.0  2.0  4.0  2.0  1.0   1.0  0.0  0.0       0.0  12.0\n",
       "..              ...   ...  ...  ...  ...  ...   ...  ...  ...       ...   ...\n",
       "100   Wilfried-Zaha  90.0  1.0  4.0  2.0  0.3   0.3  0.1  0.0       0.0  10.0\n",
       "101   Wilfried-Zaha  90.0  0.0  2.0  0.0  0.9   0.1  0.1  0.0       0.0   2.0\n",
       "102   Wilfried-Zaha  90.0  0.0  0.0  0.0  0.0   0.0  0.0  0.0       1.0   2.0\n",
       "103   Wilfried-Zaha  90.0  0.0  1.0  0.0  0.1   0.1  0.6  1.0       0.0   3.0\n",
       "104   Wilfried-Zaha  90.0  0.0  2.0  1.0  0.2   0.2  0.1  0.0       1.0   2.0\n",
       "\n",
       "[105 rows x 11 columns]"
      ]
     },
     "execution_count": 6,
     "metadata": {},
     "output_type": "execute_result"
    }
   ],
   "source": [
    "df"
   ]
  },
  {
   "cell_type": "code",
   "execution_count": 7,
   "id": "16411293-fe77-4005-9fa1-ae399422defd",
   "metadata": {},
   "outputs": [
    {
     "name": "stdout",
     "output_type": "stream",
     "text": [
      "Miguel-Almiron (15, 11)\n",
      "Kevin-De-Bruyne (15, 11)\n",
      "Bruno-Fernandes (15, 11)\n",
      "Mason-Mount (15, 11)\n",
      "Bukayo-Saka (15, 11)\n",
      "Mohamed-Salah (15, 11)\n",
      "Wilfried-Zaha (15, 11)\n"
     ]
    }
   ],
   "source": [
    "for p in df[\"Name\"].unique():\n",
    "    print (p, df[df[\"Name\"] == p].shape)"
   ]
  },
  {
   "cell_type": "code",
   "execution_count": 8,
   "id": "b1e48728-7e3d-4994-943f-85c43df9db25",
   "metadata": {},
   "outputs": [],
   "source": [
    "# shifting\n",
    "# df['FPL'] = df['FPL'].shift(-1)\n",
    "# test_row = df[-1]\n",
    "# df = df[:-1]"
   ]
  },
  {
   "cell_type": "markdown",
   "id": "6e4319b4-355b-4121-a0ed-e6cbbdaf93a6",
   "metadata": {},
   "source": [
    "# DF to DataLoader"
   ]
  },
  {
   "cell_type": "code",
   "execution_count": 9,
   "id": "15fc117a-0b9a-442e-a653-530a52486ff0",
   "metadata": {},
   "outputs": [],
   "source": [
    "from torchvision.transforms import ToTensor\n",
    "\n",
    "class PandasDataset(Dataset):\n",
    "    def __init__(self, dataframe):\n",
    "        self.dataframe = dataframe\n",
    "        self.names = dataframe[\"Name\"].unique()\n",
    "        self.transform = torchvision.transforms.Compose([torchvision.transforms.ToTensor()])\n",
    "\n",
    "    def __len__(self):\n",
    "        return len(self.names)\n",
    "\n",
    "    def __getitem__(self, idx):\n",
    "        # print(idx)\n",
    "        name = self.names[idx]\n",
    "        # print(name)\n",
    "        features = self.dataframe[self.dataframe[\"Name\"] == name].drop(columns=[\"Name\"]).values[:, :-1]\n",
    "        # print(features)\n",
    "        # print(type(features))\n",
    "        # print(self.dataframe[self.dataframe[\"Name\"] == name].values[:, -1])\n",
    "        # print(type(self.dataframe[self.dataframe[\"Name\"] == name].values[:, -1]))\n",
    "        target = self.dataframe[self.dataframe[\"Name\"] == name].values[:, -1]\n",
    "        target = target.astype(np.float32)\n",
    "        target = torch.from_numpy(target)\n",
    "        # print(type(target))\n",
    "        return features, target"
   ]
  },
  {
   "cell_type": "code",
   "execution_count": 10,
   "id": "430e5e7d-972d-4eee-9bc0-a6f43ed05e7b",
   "metadata": {},
   "outputs": [
    {
     "data": {
      "text/plain": [
       "(array([[90. ,  0. ,  2. ,  0. ,  0.2,  0.2,  0.1,  0. ,  1. ],\n",
       "        [76. ,  0. ,  3. ,  1. ,  0.3,  0.3,  0.3,  0. ,  0. ],\n",
       "        [45. ,  0. ,  0. ,  0. ,  0. ,  0. ,  0. ,  0. ,  1. ],\n",
       "        [90. ,  0. ,  2. ,  0. ,  0.1,  0.1,  0.3,  0. ,  0. ],\n",
       "        [31. ,  0. ,  0. ,  0. ,  0. ,  0. ,  0. ,  0. ,  1. ],\n",
       "        [83. ,  0. ,  3. ,  0. ,  0.2,  0.2,  0.1,  0. ,  0. ],\n",
       "        [71. ,  0. ,  3. ,  0. ,  0.1,  0.1,  0.5,  1. ,  1. ],\n",
       "        [90. ,  2. ,  3. ,  2. ,  0.4,  0.4,  0. ,  1. ,  0. ],\n",
       "        [61. ,  0. ,  0. ,  0. ,  0. ,  0. ,  0. ,  1. ,  0. ],\n",
       "        [90. ,  0. ,  0. ,  0. ,  0. ,  0. ,  0.1,  0. ,  1. ],\n",
       "        [90. ,  0. ,  3. ,  2. ,  0.1,  0.1,  0. ,  0. ,  0. ],\n",
       "        [77. ,  0. ,  1. ,  0. ,  0. ,  0. ,  0.1,  0. ,  1. ],\n",
       "        [72. ,  0. ,  0. ,  0. ,  0. ,  0. ,  0. ,  0. ,  0. ],\n",
       "        [90. ,  1. ,  2. ,  2. ,  0.1,  0.1,  0.3,  1. ,  1. ],\n",
       "        [72. ,  0. ,  2. ,  0. ,  0.1,  0.1,  0. ,  0. ,  0. ]],\n",
       "       dtype=float32),\n",
       " tensor([ 2.,  2.,  1.,  2.,  1.,  2.,  9., 13.,  3.,  2.,  2.,  2.,  2.,  8.,\n",
       "          2.]))"
      ]
     },
     "execution_count": 10,
     "metadata": {},
     "output_type": "execute_result"
    }
   ],
   "source": [
    "dataset = PandasDataset(df)\n",
    "# dataset.__getitem__(3)"
   ]
  },
  {
   "cell_type": "code",
   "execution_count": 11,
   "id": "3ef8a258-452d-4ce9-b44f-3370fa58f750",
   "metadata": {},
   "outputs": [],
   "source": [
    "dataloader = DataLoader(dataset, batch_size=1, shuffle=True)"
   ]
  },
  {
   "cell_type": "code",
   "execution_count": 12,
   "id": "066d4f81-bc84-4a58-9bcd-fcaa6cfbeb4c",
   "metadata": {},
   "outputs": [
    {
     "data": {
      "text/plain": [
       "[tensor([[[87.0000,  0.0000,  1.0000,  0.0000,  0.0000,  0.0000,  0.2000,\n",
       "            1.0000,  0.0000],\n",
       "          [90.0000,  0.0000,  2.0000,  1.0000,  0.5000,  0.5000,  0.2000,\n",
       "            0.0000,  1.0000],\n",
       "          [87.0000,  0.0000,  3.0000,  0.0000,  0.5000,  0.5000,  0.3000,\n",
       "            0.0000,  1.0000],\n",
       "          [90.0000,  1.0000,  4.0000,  1.0000,  0.4000,  0.4000,  0.0000,\n",
       "            0.0000,  0.0000],\n",
       "          [89.0000,  0.0000,  3.0000,  1.0000,  0.2000,  0.2000,  0.3000,\n",
       "            1.0000,  0.0000],\n",
       "          [90.0000,  0.0000,  3.0000,  1.0000,  0.3000,  0.3000,  0.3000,\n",
       "            0.0000,  1.0000],\n",
       "          [89.0000,  2.0000,  3.0000,  2.0000,  1.9000,  1.3000,  0.0000,\n",
       "            0.0000,  1.0000],\n",
       "          [81.0000,  1.0000,  1.0000,  1.0000,  0.1000,  0.1000,  0.1000,\n",
       "            1.0000,  0.0000],\n",
       "          [90.0000,  0.0000,  2.0000,  0.0000,  0.1000,  0.1000,  0.0000,\n",
       "            0.0000,  0.0000],\n",
       "          [26.0000,  0.0000,  1.0000,  0.0000,  0.2000,  0.2000,  0.2000,\n",
       "            1.0000,  1.0000],\n",
       "          [90.0000,  0.0000,  1.0000,  0.0000,  0.1000,  0.1000,  0.9000,\n",
       "            1.0000,  0.0000],\n",
       "          [89.0000,  0.0000,  0.0000,  0.0000,  0.0000,  0.0000,  0.3000,\n",
       "            1.0000,  0.0000],\n",
       "          [90.0000,  1.0000,  1.0000,  1.0000,  0.7000,  0.7000,  0.7000,\n",
       "            0.0000,  1.0000],\n",
       "          [90.0000,  1.0000,  1.0000,  1.0000,  0.4000,  0.4000,  0.1000,\n",
       "            0.0000,  0.0000],\n",
       "          [90.0000,  0.0000,  2.0000,  1.0000,  0.1000,  0.1000,  0.1000,\n",
       "            1.0000,  1.0000]]]),\n",
       " tensor([[ 3.,  5.,  5.,  7.,  9.,  2., 12.,  8.,  2.,  5.,  6.,  3.,  7.,  7.,\n",
       "           3.]])]"
      ]
     },
     "execution_count": 12,
     "metadata": {},
     "output_type": "execute_result"
    }
   ],
   "source": [
    "# next(iter(dataloader))"
   ]
  },
  {
   "cell_type": "markdown",
   "id": "44290e57-5279-400f-bd5d-8bcbf0db2f99",
   "metadata": {},
   "source": [
    "# LSTM Model"
   ]
  },
  {
   "cell_type": "code",
   "execution_count": 13,
   "id": "95c48496-4a3d-4dd6-a789-abb04d921dc6",
   "metadata": {},
   "outputs": [],
   "source": [
    "class LSTMNetwork(nn.Module):\n",
    "    def __init__(self, input_size, hidden_size, num_layers, output_size, dropout=0.2):\n",
    "        super(LSTMNetwork, self).__init__()\n",
    "        self.lstm = nn.LSTM(input_size, hidden_size, num_layers, dropout=dropout)\n",
    "        self.fc = nn.Linear(hidden_size, output_size)\n",
    "\n",
    "    def forward(self, x):\n",
    "        out, _ = self.lstm(x)\n",
    "        out = self.fc(out[-1])\n",
    "        return out"
   ]
  },
  {
   "cell_type": "code",
   "execution_count": 14,
   "id": "083d4a4d-f747-4d56-a2a7-416282c53b77",
   "metadata": {},
   "outputs": [],
   "source": [
    "net = LSTMNetwork(9, 20, 2, 1, dropout=0.2)"
   ]
  },
  {
   "cell_type": "markdown",
   "id": "e6a2f684-5906-4cf1-8cd4-6f342fb3daf5",
   "metadata": {},
   "source": [
    "# Training loop"
   ]
  },
  {
   "cell_type": "code",
   "execution_count": 15,
   "id": "9f926a02-0546-46c0-ac12-db2990d20172",
   "metadata": {},
   "outputs": [],
   "source": [
    "criterion = nn.MSELoss()\n",
    "optimizer = optim.Adam(net.parameters(), lr=0.001)"
   ]
  },
  {
   "cell_type": "code",
   "execution_count": 16,
   "id": "8d1ac896-0465-4422-b291-a13f32f3d3b5",
   "metadata": {},
   "outputs": [
    {
     "name": "stderr",
     "output_type": "stream",
     "text": [
      "C:\\users\\user\\appdata\\local\\programs\\python\\python38\\lib\\site-packages\\torch\\nn\\modules\\loss.py:530: UserWarning: Using a target size (torch.Size([1, 15])) that is different to the input size (torch.Size([15, 1])). This will likely lead to incorrect results due to broadcasting. Please ensure they have the same size.\n",
      "  return F.mse_loss(input, target, reduction=self.reduction)\n"
     ]
    },
    {
     "name": "stdout",
     "output_type": "stream",
     "text": [
      "Epoch 0 Loss: 30.94594464983259\n",
      "Epoch 50 Loss: 8.972484384264265\n",
      "Epoch 100 Loss: 8.971795763288226\n",
      "Epoch 150 Loss: 8.95136819566999\n",
      "Epoch 200 Loss: 8.929878779820033\n",
      "Epoch 250 Loss: 8.919289657047816\n",
      "Epoch 300 Loss: 8.89469303403582\n",
      "Epoch 350 Loss: 8.898208277566093\n",
      "Epoch 400 Loss: 8.864506380898613\n",
      "Epoch 450 Loss: 8.916294642857142\n",
      "Epoch 500 Loss: 8.915608610425677\n",
      "Epoch 550 Loss: 8.905636378696986\n",
      "Epoch 600 Loss: 8.862186636243548\n",
      "Epoch 650 Loss: 8.895719868796212\n",
      "Epoch 700 Loss: 8.869763919285365\n",
      "Epoch 750 Loss: 8.87104538508824\n",
      "Epoch 800 Loss: 8.822807516370501\n",
      "Epoch 850 Loss: 8.846661499568395\n",
      "Epoch 900 Loss: 8.847080162593297\n",
      "Epoch 950 Loss: 8.813506262642997\n"
     ]
    }
   ],
   "source": [
    "num_epochs = 1000\n",
    "loss_history = []\n",
    "for epoch in range(num_epochs):\n",
    "    running_loss = 0\n",
    "    for i, (inputs, targets) in enumerate(dataloader):\n",
    "        # print(inputs.shape)\n",
    "        # print(targets.shape)\n",
    "        # print(targets)\n",
    "        optimizer.zero_grad()\n",
    "        outputs = net(inputs)\n",
    "        # print(outputs)\n",
    "        loss = criterion(outputs, targets)\n",
    "        running_loss += loss.item()\n",
    "        loss.backward()\n",
    "        optimizer.step()\n",
    "    \n",
    "    loss_history.append(running_loss / len(dataloader))\n",
    "    if epoch % 50 == 0:\n",
    "        print(f'Epoch {epoch} Loss: {running_loss / len(dataloader)}')"
   ]
  },
  {
   "cell_type": "code",
   "execution_count": 17,
   "id": "ac88d75b-3cb0-4747-9efe-c498dd2efdd3",
   "metadata": {},
   "outputs": [
    {
     "data": {
      "image/png": "[encoded data removed]",
      "text/plain": [
       "<Figure size 432x288 with 1 Axes>"
      ]
     },
     "metadata": {
      "needs_background": "light"
     },
     "output_type": "display_data"
    }
   ],
   "source": [
    "plt.plot(loss_history)\n",
    "plt.xlabel('Epoch')\n",
    "plt.ylabel('Loss')\n",
    "plt.show()"
   ]
  },
  {
   "cell_type": "code",
   "execution_count": null,
   "id": "cd915acc-7ef2-4d51-9292-53d0e7abafeb",
   "metadata": {},
   "outputs": [],
   "source": []
  }
 ],
 "metadata": {
  "kernelspec": {
   "display_name": "Python 3 (ipykernel)",
   "language": "python",
   "name": "python3"
  },
  "language_info": {
   "codemirror_mode": {
    "name": "ipython",
    "version": 3
   },
   "file_extension": ".py",
   "mimetype": "text/x-python",
   "name": "python",
   "nbconvert_exporter": "python",
   "pygments_lexer": "ipython3",
   "version": "3.8.0"
  }
 },
 "nbformat": 4,
 "nbformat_minor": 5
}
