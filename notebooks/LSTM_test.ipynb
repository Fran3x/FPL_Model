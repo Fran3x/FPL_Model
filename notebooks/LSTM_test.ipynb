{
 "cells": [
  {
   "cell_type": "markdown",
   "id": "b403b39e-b749-4730-a880-75a6b9ddfe83",
   "metadata": {},
   "source": [
    "# Imports"
   ]
  },
  {
   "cell_type": "code",
   "execution_count": 1,
   "id": "d83ab433-7a24-43c5-aeb7-51b94ccdcc05",
   "metadata": {},
   "outputs": [],
   "source": [
    "import os\n",
    "os.chdir(\"D:\\PulpitE\\FPL_ML\")"
   ]
  },
  {
   "cell_type": "code",
   "execution_count": 2,
   "id": "1382f0d0-60a4-4f2a-b4ce-c54205b18d21",
   "metadata": {},
   "outputs": [],
   "source": [
    "import pandas as pd\n",
    "\n",
    "import torch\n",
    "import torch.nn as nn\n",
    "\n",
    "import torchvision\n",
    "import torchvision.transforms\n",
    "\n",
    "from torch.utils.data import Dataset, DataLoader\n",
    "import torch.optim as optim\n",
    "\n",
    "import matplotlib.pyplot as plt\n",
    "\n",
    "import numpy as np"
   ]
  },
  {
   "cell_type": "markdown",
   "id": "83fe6a68-8e90-42af-94c8-c886a1f95c77",
   "metadata": {},
   "source": [
    "# Data"
   ]
  },
  {
   "cell_type": "code",
   "execution_count": 3,
   "id": "4bb7008e-7daa-41ce-b71c-ff06abd53b86",
   "metadata": {},
   "outputs": [],
   "source": [
    "df = pd.read_csv('data/fpl_fbref_players.csv')"
   ]
  },
  {
   "cell_type": "code",
   "execution_count": 4,
   "id": "8e0c8995-bbf3-4bf2-9123-e6b35c6b0cd8",
   "metadata": {},
   "outputs": [],
   "source": [
    "info = [\"Name\"]\n",
    "features = [\"Min\", \"Gls\", \"Sh\", \"SoT\", \"xG\", \"npxG\", \"xAG\", \"CS\", \"Was Home\"]\n",
    "to_predict = [\"FPL\"]"
   ]
  },
  {
   "cell_type": "code",
   "execution_count": 5,
   "id": "c4eeb6d7-d07b-4f1c-9c86-52095b7cf379",
   "metadata": {},
   "outputs": [],
   "source": [
    "df = df[info + features + to_predict]\n",
    "df[features + to_predict] = df[features + to_predict].astype(\"float32\")"
   ]
  },
  {
   "cell_type": "code",
   "execution_count": 6,
   "id": "d63ed15f-1efb-4c00-b646-8c55a6c347d1",
   "metadata": {},
   "outputs": [
    {
     "data": {
      "text/plain": [
       "(6104, 11)"
      ]
     },
     "execution_count": 6,
     "metadata": {},
     "output_type": "execute_result"
    }
   ],
   "source": [
    "df.shape"
   ]
  },
  {
   "cell_type": "code",
   "execution_count": 7,
   "id": "f36cc7ed-88c3-4ee4-baf1-85393aa3d15d",
   "metadata": {},
   "outputs": [],
   "source": [
    "# removing NaN rows and players that appear less than 15 times\n",
    "df = df.dropna()\n",
    "grouped = df.groupby('Name')\n",
    "df = grouped.filter(lambda x: len(x) >= 15)"
   ]
  },
  {
   "cell_type": "code",
   "execution_count": 8,
   "id": "06c42b4b-58dd-48fe-a162-14e7564a4441",
   "metadata": {},
   "outputs": [
    {
     "data": {
      "text/plain": [
       "(4080, 11)"
      ]
     },
     "execution_count": 8,
     "metadata": {},
     "output_type": "execute_result"
    }
   ],
   "source": [
    "df.shape"
   ]
  },
  {
   "cell_type": "code",
   "execution_count": 9,
   "id": "a56bb28e-5b7a-4a99-b18f-73cdf0d41c03",
   "metadata": {},
   "outputs": [],
   "source": [
    "last_names = df[\"Name\"].unique()"
   ]
  },
  {
   "cell_type": "code",
   "execution_count": 10,
   "id": "16411293-fe77-4005-9fa1-ae399422defd",
   "metadata": {},
   "outputs": [],
   "source": [
    "# for p in df[\"Name\"].unique():\n",
    "#     print (p, df[df[\"Name\"] == p].shape)"
   ]
  },
  {
   "cell_type": "code",
   "execution_count": 11,
   "id": "b1e48728-7e3d-4994-943f-85c43df9db25",
   "metadata": {},
   "outputs": [],
   "source": [
    "# shifting\n",
    "# df['FPL'] = df['FPL'].shift(-1)\n",
    "# test_row = df[-1]\n",
    "# df = df[:-1]"
   ]
  },
  {
   "cell_type": "markdown",
   "id": "6e4319b4-355b-4121-a0ed-e6cbbdaf93a6",
   "metadata": {},
   "source": [
    "# DF to DataLoader"
   ]
  },
  {
   "cell_type": "code",
   "execution_count": 12,
   "id": "15fc117a-0b9a-442e-a653-530a52486ff0",
   "metadata": {},
   "outputs": [],
   "source": [
    "from torchvision.transforms import ToTensor\n",
    "\n",
    "class PandasDataset(Dataset):\n",
    "    def __init__(self, dataframe):\n",
    "        self.dataframe = dataframe\n",
    "        self.names = dataframe[\"Name\"].unique()\n",
    "        self.transform = torchvision.transforms.Compose([torchvision.transforms.ToTensor()])\n",
    "\n",
    "    def __len__(self):\n",
    "        return len(self.names)\n",
    "\n",
    "    def __getitem__(self, idx):\n",
    "        # print(idx)\n",
    "        name = self.names[idx]\n",
    "        # print(name)\n",
    "        features = self.dataframe[self.dataframe[\"Name\"] == name].drop(columns=[\"Name\"]).values[:, :-1]\n",
    "        # print(features)\n",
    "        # print(type(features))\n",
    "        # print(self.dataframe[self.dataframe[\"Name\"] == name].values[:, -1])\n",
    "        # print(type(self.dataframe[self.dataframe[\"Name\"] == name].values[:, -1]))\n",
    "        # target = self.dataframe[self.dataframe[\"Name\"] == name].values[:, -1]\n",
    "        # target = target.astype(np.float32)\n",
    "        # target = torch.from_numpy(target)\n",
    "        target = np.float32(self.dataframe[self.dataframe[\"Name\"] == name].values[-1, -1])\n",
    "        # print(type(target))\n",
    "        return features, target"
   ]
  },
  {
   "cell_type": "code",
   "execution_count": 13,
   "id": "430e5e7d-972d-4eee-9bc0-a6f43ed05e7b",
   "metadata": {},
   "outputs": [
    {
     "data": {
      "text/plain": [
       "(array([[90. ,  0. ,  0. ,  0. ,  0. ,  0. ,  0. ,  0. ,  1. ],\n",
       "        [90. ,  0. ,  0. ,  0. ,  0. ,  0. ,  0. ,  0. ,  0. ],\n",
       "        [90. ,  1. ,  2. ,  1. ,  0.1,  0.1,  0. ,  0. ,  0. ],\n",
       "        [90. ,  0. ,  0. ,  0. ,  0. ,  0. ,  0. ,  0. ,  1. ],\n",
       "        [90. ,  0. ,  0. ,  0. ,  0. ,  0. ,  0. ,  0. ,  0. ],\n",
       "        [ 0. ,  0. ,  0. ,  0. ,  0. ,  0. ,  0. ,  0. ,  1. ],\n",
       "        [ 0. ,  0. ,  0. ,  0. ,  0. ,  0. ,  0. ,  1. ,  1. ],\n",
       "        [90. ,  0. ,  1. ,  0. ,  0.1,  0.1,  0. ,  0. ,  0. ],\n",
       "        [ 0. ,  0. ,  0. ,  0. ,  0. ,  0. ,  0. ,  1. ,  1. ],\n",
       "        [ 0. ,  0. ,  0. ,  0. ,  0. ,  0. ,  0. ,  0. ,  0. ],\n",
       "        [ 0. ,  0. ,  0. ,  0. ,  0. ,  0. ,  0. ,  0. ,  1. ],\n",
       "        [ 0. ,  0. ,  0. ,  0. ,  0. ,  0. ,  0. ,  1. ,  0. ],\n",
       "        [ 1. ,  0. ,  0. ,  0. ,  0. ,  0. ,  0. ,  0. ,  1. ],\n",
       "        [90. ,  0. ,  1. ,  1. ,  0. ,  0. ,  0. ,  1. ,  0. ],\n",
       "        [90. ,  0. ,  0. ,  0. ,  0. ,  0. ,  0. ,  0. ,  1. ]],\n",
       "       dtype=float32),\n",
       " 2.0)"
      ]
     },
     "execution_count": 13,
     "metadata": {},
     "output_type": "execute_result"
    }
   ],
   "source": [
    "dataset = PandasDataset(df)\n",
    "dataset.__getitem__(3)"
   ]
  },
  {
   "cell_type": "code",
   "execution_count": 14,
   "id": "fd3a4639-a6c7-40bf-ad2f-72569dfeac42",
   "metadata": {},
   "outputs": [],
   "source": [
    "batch_size = 16"
   ]
  },
  {
   "cell_type": "code",
   "execution_count": 15,
   "id": "3ef8a258-452d-4ce9-b44f-3370fa58f750",
   "metadata": {},
   "outputs": [],
   "source": [
    "dataloader = DataLoader(dataset, batch_size=batch_size, shuffle=False)"
   ]
  },
  {
   "cell_type": "code",
   "execution_count": 16,
   "id": "066d4f81-bc84-4a58-9bcd-fcaa6cfbeb4c",
   "metadata": {},
   "outputs": [
    {
     "data": {
      "text/plain": [
       "tensor([2., 2., 2., 2., 1., 2., 5., 2., 3., 2., 2., 2., 2., 2., 1., 1.])"
      ]
     },
     "execution_count": 16,
     "metadata": {},
     "output_type": "execute_result"
    }
   ],
   "source": [
    "next(iter(dataloader))[1]"
   ]
  },
  {
   "cell_type": "markdown",
   "id": "44290e57-5279-400f-bd5d-8bcbf0db2f99",
   "metadata": {},
   "source": [
    "# LSTM Model"
   ]
  },
  {
   "cell_type": "code",
   "execution_count": 17,
   "id": "95c48496-4a3d-4dd6-a789-abb04d921dc6",
   "metadata": {},
   "outputs": [],
   "source": [
    "class LSTMNetwork(nn.Module):\n",
    "    def __init__(self, input_size, hidden_size, num_layers, output_size, dropout=0.2):\n",
    "        super(LSTMNetwork, self).__init__()\n",
    "        self.lstm = nn.LSTM(input_size, hidden_size, num_layers, dropout=dropout)\n",
    "        self.fc = nn.Linear(hidden_size, output_size)\n",
    "\n",
    "    def forward(self, x):\n",
    "        x = torch.transpose(x, 0, 1)\n",
    "        # x = x.view(-1, batch_size)\n",
    "        # x = torch.transpose(x, 0, 1)\n",
    "        # print(\"FOR\", x.shape)\n",
    "        # print(x.shape)\n",
    "        # print(x.shape)\n",
    "        out, _ = self.lstm(x)\n",
    "        # print(out.shape)\n",
    "        out = self.fc(out[-1])\n",
    "        return out"
   ]
  },
  {
   "cell_type": "code",
   "execution_count": 18,
   "id": "231626de-b520-4d08-a1c8-eeca06133061",
   "metadata": {},
   "outputs": [
    {
     "data": {
      "text/plain": [
       "17"
      ]
     },
     "execution_count": 18,
     "metadata": {},
     "output_type": "execute_result"
    }
   ],
   "source": [
    "len(dataloader)"
   ]
  },
  {
   "cell_type": "code",
   "execution_count": 19,
   "id": "aa6120f7-4cf3-4b11-ac41-4ebaa2a49321",
   "metadata": {},
   "outputs": [
    {
     "data": {
      "text/plain": [
       "torch.Size([15, 16, 9])"
      ]
     },
     "execution_count": 19,
     "metadata": {},
     "output_type": "execute_result"
    }
   ],
   "source": [
    "torch.transpose(next(iter(dataloader))[0], 0, 1).shape"
   ]
  },
  {
   "cell_type": "code",
   "execution_count": 20,
   "id": "083d4a4d-f747-4d56-a2a7-416282c53b77",
   "metadata": {},
   "outputs": [],
   "source": [
    "net = LSTMNetwork(1, 20, 2, 1, dropout=0.4)"
   ]
  },
  {
   "cell_type": "markdown",
   "id": "e6a2f684-5906-4cf1-8cd4-6f342fb3daf5",
   "metadata": {},
   "source": [
    "# Training loop"
   ]
  },
  {
   "cell_type": "code",
   "execution_count": 21,
   "id": "9f926a02-0546-46c0-ac12-db2990d20172",
   "metadata": {},
   "outputs": [],
   "source": [
    "criterion = nn.MSELoss()\n",
    "optimizer = optim.Adam(net.parameters(), lr=0.005)"
   ]
  },
  {
   "cell_type": "code",
   "execution_count": null,
   "id": "8d1ac896-0465-4422-b291-a13f32f3d3b5",
   "metadata": {},
   "outputs": [
    {
     "name": "stdout",
     "output_type": "stream",
     "text": [
      "Epoch 0 Loss: 0.29142020818065195\n"
     ]
    }
   ],
   "source": [
    "num_epochs = 100\n",
    "loss_history = []\n",
    "for epoch in range(num_epochs):\n",
    "    running_loss = 0\n",
    "    for i, (inputs, targets) in enumerate(dataloader):\n",
    "        inputs = torch.flatten(inputs, 1, 2)\n",
    "        inputs = inputs.unsqueeze(2)\n",
    "        # print(\"INPUTS\", inputs.shape)\n",
    "        # print(\"TARGETS\", targets.shape)\n",
    "        # print(targets)\n",
    "        optimizer.zero_grad()\n",
    "        outputs = net(inputs).flatten()\n",
    "        # print(\"OUTPUTS\", outputs.shape)\n",
    "        loss = criterion(outputs, targets)\n",
    "        running_loss += loss.item()\n",
    "        loss.backward()\n",
    "        optimizer.step()\n",
    "    \n",
    "    loss_history.append(running_loss / len(dataloader))\n",
    "    if epoch % 5 == 0:\n",
    "        print(f'Epoch {epoch} Loss: {running_loss / len(dataloader)}')"
   ]
  },
  {
   "cell_type": "code",
   "execution_count": null,
   "id": "ac88d75b-3cb0-4747-9efe-c498dd2efdd3",
   "metadata": {},
   "outputs": [],
   "source": [
    "plt.plot(loss_history[25:])\n",
    "plt.xlabel('Epoch')\n",
    "plt.ylabel('Loss')\n",
    "plt.show()"
   ]
  },
  {
   "cell_type": "code",
   "execution_count": null,
   "id": "cd915acc-7ef2-4d51-9292-53d0e7abafeb",
   "metadata": {},
   "outputs": [],
   "source": []
  },
  {
   "cell_type": "markdown",
   "id": "222c6cfd-5148-4793-a9f7-6dfa76115a68",
   "metadata": {},
   "source": [
    "# Predictions"
   ]
  },
  {
   "cell_type": "code",
   "execution_count": null,
   "id": "864f4e1f-63ad-4e18-86e0-6d733744c8a9",
   "metadata": {},
   "outputs": [],
   "source": [
    "# dataloader.batch_sampler.batch_size = 64\n",
    "index = 0\n",
    "for inputs, target in dataloader:\n",
    "    inputs = torch.flatten(inputs, 1, 2)\n",
    "    inputs = inputs.unsqueeze(2)\n",
    "    outputs = net(inputs)\n",
    "    for output in outputs:\n",
    "        print(last_names[index], \": \", round(output.item(), 2))\n",
    "        index += 1\n",
    "        \n",
    "    # print(name, round(output, 2))"
   ]
  },
  {
   "cell_type": "code",
   "execution_count": null,
   "id": "e6d3171e-f813-411c-ba7e-492163af5009",
   "metadata": {},
   "outputs": [],
   "source": []
  }
 ],
 "metadata": {
  "kernelspec": {
   "display_name": "Python 3 (ipykernel)",
   "language": "python",
   "name": "python3"
  },
  "language_info": {
   "codemirror_mode": {
    "name": "ipython",
    "version": 3
   },
   "file_extension": ".py",
   "mimetype": "text/x-python",
   "name": "python",
   "nbconvert_exporter": "python",
   "pygments_lexer": "ipython3",
   "version": "3.8.0"
  }
 },
 "nbformat": 4,
 "nbformat_minor": 5
}
