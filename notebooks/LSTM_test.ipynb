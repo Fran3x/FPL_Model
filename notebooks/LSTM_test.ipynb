{
 "cells": [
  {
   "cell_type": "markdown",
   "id": "b403b39e-b749-4730-a880-75a6b9ddfe83",
   "metadata": {},
   "source": [
    "# Imports"
   ]
  },
  {
   "cell_type": "code",
   "execution_count": 1,
   "id": "d83ab433-7a24-43c5-aeb7-51b94ccdcc05",
   "metadata": {},
   "outputs": [],
   "source": [
    "import os\n",
    "os.chdir(\"D:\\PulpitE\\FPL_ML\")"
   ]
  },
  {
   "cell_type": "code",
   "execution_count": 2,
   "id": "1382f0d0-60a4-4f2a-b4ce-c54205b18d21",
   "metadata": {},
   "outputs": [],
   "source": [
    "import pandas as pd\n",
    "\n",
    "import torch\n",
    "import torch.nn as nn\n",
    "\n",
    "import torchvision\n",
    "import torchvision.transforms\n",
    "from torchvision.transforms import ToTensor\n",
    "\n",
    "from torch.utils.data import Dataset, DataLoader\n",
    "import torch.optim as optim\n",
    "\n",
    "import matplotlib.pyplot as plt\n",
    "\n",
    "import numpy as np\n",
    "import random"
   ]
  },
  {
   "cell_type": "markdown",
   "id": "7dd9d155-95e4-4e3d-86ad-c46a6fbb5c95",
   "metadata": {},
   "source": [
    "# Constants and seeds"
   ]
  },
  {
   "cell_type": "code",
   "execution_count": 3,
   "id": "7239f9ad-7a6d-4a3d-9da5-4bac972e1537",
   "metadata": {},
   "outputs": [],
   "source": [
    "# FIXTURES_IN_SAMPLE\n",
    "FIS = 8\n",
    "\n",
    "# FIXTURES_FOR_PLAYER - number of gameweeks required\n",
    "FFP = 15\n",
    "\n",
    "NEXT_GAMEWEEK = 19"
   ]
  },
  {
   "cell_type": "code",
   "execution_count": 4,
   "id": "2d44df04-be21-4e7b-aaa5-612a6210bd44",
   "metadata": {},
   "outputs": [],
   "source": [
    "def set_all_seeds(seed):\n",
    "    os.environ[\"PL_GLOBAL_SEED\"] = str(seed)\n",
    "    random.seed(seed)\n",
    "    np.random.seed(seed)\n",
    "    torch.manual_seed(seed)\n",
    "    torch.cuda.manual_seed_all(seed)\n",
    "    torch.backends.cudnn.deterministic = True\n",
    "\n",
    "set_all_seeds(42)"
   ]
  },
  {
   "cell_type": "markdown",
   "id": "83fe6a68-8e90-42af-94c8-c886a1f95c77",
   "metadata": {},
   "source": [
    "# Getting data and choosing features"
   ]
  },
  {
   "cell_type": "code",
   "execution_count": 5,
   "id": "4bb7008e-7daa-41ce-b71c-ff06abd53b86",
   "metadata": {},
   "outputs": [],
   "source": [
    "df = pd.read_csv('data/final_dataset.csv')"
   ]
  },
  {
   "cell_type": "code",
   "execution_count": 6,
   "id": "bc939518-2991-4de9-ae25-e0f986522243",
   "metadata": {},
   "outputs": [],
   "source": [
    "# remembering original df\n",
    "df_original = df"
   ]
  },
  {
   "cell_type": "code",
   "execution_count": 7,
   "id": "7a05d2e3-a796-40c7-a8e8-a5f8fef1335a",
   "metadata": {},
   "outputs": [],
   "source": [
    "# df.iloc[1]"
   ]
  },
  {
   "cell_type": "code",
   "execution_count": 8,
   "id": "8e0c8995-bbf3-4bf2-9123-e6b35c6b0cd8",
   "metadata": {},
   "outputs": [],
   "source": [
    "info = [\"Name\", \"GW\", \"FPL position\"]\n",
    "other = [\"LSTM\"]\n",
    "features = [\"Min\", \"Gls\", \"Sh\", \"SoT\", \"xG\", \"npxG\", \"xAG\", \"CS\", \"Was Home\"]\n",
    "to_predict = [\"FPL\"]"
   ]
  },
  {
   "cell_type": "code",
   "execution_count": 9,
   "id": "c4eeb6d7-d07b-4f1c-9c86-52095b7cf379",
   "metadata": {},
   "outputs": [
    {
     "name": "stderr",
     "output_type": "stream",
     "text": [
      "C:\\users\\user\\appdata\\local\\programs\\python\\python38\\lib\\site-packages\\pandas\\core\\frame.py:3636: SettingWithCopyWarning: \n",
      "A value is trying to be set on a copy of a slice from a DataFrame.\n",
      "Try using .loc[row_indexer,col_indexer] = value instead\n",
      "\n",
      "See the caveats in the documentation: https://pandas.pydata.org/pandas-docs/stable/user_guide/indexing.html#returning-a-view-versus-a-copy\n",
      "  self[k1] = value[k2]\n"
     ]
    }
   ],
   "source": [
    "df = df[info + features + to_predict]\n",
    "df[features + to_predict] = df[features + to_predict].astype(\"float32\")"
   ]
  },
  {
   "cell_type": "code",
   "execution_count": 10,
   "id": "d63ed15f-1efb-4c00-b646-8c55a6c347d1",
   "metadata": {},
   "outputs": [
    {
     "data": {
      "text/plain": [
       "(7457, 13)"
      ]
     },
     "execution_count": 10,
     "metadata": {},
     "output_type": "execute_result"
    }
   ],
   "source": [
    "df.shape"
   ]
  },
  {
   "cell_type": "code",
   "execution_count": 11,
   "id": "f36cc7ed-88c3-4ee4-baf1-85393aa3d15d",
   "metadata": {},
   "outputs": [],
   "source": [
    "# removing NaN rows and players that appear less than 15 times\n",
    "df = df.dropna()\n",
    "grouped = df.groupby('Name')\n",
    "\n",
    "# taking onyl players with at least FFP matches in logs\n",
    "df = grouped.filter(lambda x: len(x) >= FFP)"
   ]
  },
  {
   "cell_type": "code",
   "execution_count": 12,
   "id": "06c42b4b-58dd-48fe-a162-14e7564a4441",
   "metadata": {},
   "outputs": [
    {
     "data": {
      "text/plain": [
       "(5771, 13)"
      ]
     },
     "execution_count": 12,
     "metadata": {},
     "output_type": "execute_result"
    }
   ],
   "source": [
    "df.shape"
   ]
  },
  {
   "cell_type": "code",
   "execution_count": 13,
   "id": "24fff899-a809-4659-b51e-f1431688507c",
   "metadata": {},
   "outputs": [
    {
     "data": {
      "text/html": [
       "<div>\n",
       "<style scoped>\n",
       "    .dataframe tbody tr th:only-of-type {\n",
       "        vertical-align: middle;\n",
       "    }\n",
       "\n",
       "    .dataframe tbody tr th {\n",
       "        vertical-align: top;\n",
       "    }\n",
       "\n",
       "    .dataframe thead th {\n",
       "        text-align: right;\n",
       "    }\n",
       "</style>\n",
       "<table border=\"1\" class=\"dataframe\">\n",
       "  <thead>\n",
       "    <tr style=\"text-align: right;\">\n",
       "      <th></th>\n",
       "      <th>Name</th>\n",
       "      <th>GW</th>\n",
       "      <th>FPL position</th>\n",
       "      <th>Min</th>\n",
       "      <th>Gls</th>\n",
       "      <th>Sh</th>\n",
       "      <th>SoT</th>\n",
       "      <th>xG</th>\n",
       "      <th>npxG</th>\n",
       "      <th>xAG</th>\n",
       "      <th>CS</th>\n",
       "      <th>Was Home</th>\n",
       "      <th>FPL</th>\n",
       "    </tr>\n",
       "  </thead>\n",
       "  <tbody>\n",
       "    <tr>\n",
       "      <th>0</th>\n",
       "      <td>Brenden-Aaronson</td>\n",
       "      <td>1</td>\n",
       "      <td>MID</td>\n",
       "      <td>83.0</td>\n",
       "      <td>0.0</td>\n",
       "      <td>1.0</td>\n",
       "      <td>0.0</td>\n",
       "      <td>0.0</td>\n",
       "      <td>0.0</td>\n",
       "      <td>0.0</td>\n",
       "      <td>0.0</td>\n",
       "      <td>1.0</td>\n",
       "      <td>2.0</td>\n",
       "    </tr>\n",
       "    <tr>\n",
       "      <th>1</th>\n",
       "      <td>Brenden-Aaronson</td>\n",
       "      <td>2</td>\n",
       "      <td>MID</td>\n",
       "      <td>90.0</td>\n",
       "      <td>0.0</td>\n",
       "      <td>2.0</td>\n",
       "      <td>0.0</td>\n",
       "      <td>0.1</td>\n",
       "      <td>0.1</td>\n",
       "      <td>0.1</td>\n",
       "      <td>0.0</td>\n",
       "      <td>0.0</td>\n",
       "      <td>2.0</td>\n",
       "    </tr>\n",
       "    <tr>\n",
       "      <th>2</th>\n",
       "      <td>Brenden-Aaronson</td>\n",
       "      <td>3</td>\n",
       "      <td>MID</td>\n",
       "      <td>82.0</td>\n",
       "      <td>1.0</td>\n",
       "      <td>2.0</td>\n",
       "      <td>2.0</td>\n",
       "      <td>1.0</td>\n",
       "      <td>1.0</td>\n",
       "      <td>0.1</td>\n",
       "      <td>1.0</td>\n",
       "      <td>1.0</td>\n",
       "      <td>8.0</td>\n",
       "    </tr>\n",
       "    <tr>\n",
       "      <th>3</th>\n",
       "      <td>Brenden-Aaronson</td>\n",
       "      <td>4</td>\n",
       "      <td>MID</td>\n",
       "      <td>81.0</td>\n",
       "      <td>0.0</td>\n",
       "      <td>0.0</td>\n",
       "      <td>0.0</td>\n",
       "      <td>0.0</td>\n",
       "      <td>0.0</td>\n",
       "      <td>0.0</td>\n",
       "      <td>0.0</td>\n",
       "      <td>0.0</td>\n",
       "      <td>2.0</td>\n",
       "    </tr>\n",
       "    <tr>\n",
       "      <th>4</th>\n",
       "      <td>Brenden-Aaronson</td>\n",
       "      <td>5</td>\n",
       "      <td>MID</td>\n",
       "      <td>75.0</td>\n",
       "      <td>0.0</td>\n",
       "      <td>1.0</td>\n",
       "      <td>1.0</td>\n",
       "      <td>0.1</td>\n",
       "      <td>0.1</td>\n",
       "      <td>0.1</td>\n",
       "      <td>0.0</td>\n",
       "      <td>1.0</td>\n",
       "      <td>5.0</td>\n",
       "    </tr>\n",
       "    <tr>\n",
       "      <th>5</th>\n",
       "      <td>Brenden-Aaronson</td>\n",
       "      <td>6</td>\n",
       "      <td>MID</td>\n",
       "      <td>90.0</td>\n",
       "      <td>0.0</td>\n",
       "      <td>1.0</td>\n",
       "      <td>0.0</td>\n",
       "      <td>0.0</td>\n",
       "      <td>0.0</td>\n",
       "      <td>0.3</td>\n",
       "      <td>0.0</td>\n",
       "      <td>0.0</td>\n",
       "      <td>2.0</td>\n",
       "    </tr>\n",
       "    <tr>\n",
       "      <th>6</th>\n",
       "      <td>Brenden-Aaronson</td>\n",
       "      <td>9</td>\n",
       "      <td>MID</td>\n",
       "      <td>78.0</td>\n",
       "      <td>0.0</td>\n",
       "      <td>0.0</td>\n",
       "      <td>0.0</td>\n",
       "      <td>0.0</td>\n",
       "      <td>0.0</td>\n",
       "      <td>0.1</td>\n",
       "      <td>1.0</td>\n",
       "      <td>1.0</td>\n",
       "      <td>3.0</td>\n",
       "    </tr>\n",
       "    <tr>\n",
       "      <th>7</th>\n",
       "      <td>Brenden-Aaronson</td>\n",
       "      <td>10</td>\n",
       "      <td>MID</td>\n",
       "      <td>75.0</td>\n",
       "      <td>0.0</td>\n",
       "      <td>2.0</td>\n",
       "      <td>0.0</td>\n",
       "      <td>0.1</td>\n",
       "      <td>0.1</td>\n",
       "      <td>0.0</td>\n",
       "      <td>0.0</td>\n",
       "      <td>0.0</td>\n",
       "      <td>2.0</td>\n",
       "    </tr>\n",
       "    <tr>\n",
       "      <th>8</th>\n",
       "      <td>Brenden-Aaronson</td>\n",
       "      <td>11</td>\n",
       "      <td>MID</td>\n",
       "      <td>90.0</td>\n",
       "      <td>0.0</td>\n",
       "      <td>2.0</td>\n",
       "      <td>1.0</td>\n",
       "      <td>0.1</td>\n",
       "      <td>0.1</td>\n",
       "      <td>0.3</td>\n",
       "      <td>0.0</td>\n",
       "      <td>1.0</td>\n",
       "      <td>2.0</td>\n",
       "    </tr>\n",
       "    <tr>\n",
       "      <th>9</th>\n",
       "      <td>Brenden-Aaronson</td>\n",
       "      <td>12</td>\n",
       "      <td>MID</td>\n",
       "      <td>90.0</td>\n",
       "      <td>0.0</td>\n",
       "      <td>1.0</td>\n",
       "      <td>0.0</td>\n",
       "      <td>0.1</td>\n",
       "      <td>0.1</td>\n",
       "      <td>0.4</td>\n",
       "      <td>0.0</td>\n",
       "      <td>0.0</td>\n",
       "      <td>2.0</td>\n",
       "    </tr>\n",
       "    <tr>\n",
       "      <th>10</th>\n",
       "      <td>Brenden-Aaronson</td>\n",
       "      <td>13</td>\n",
       "      <td>MID</td>\n",
       "      <td>90.0</td>\n",
       "      <td>0.0</td>\n",
       "      <td>1.0</td>\n",
       "      <td>0.0</td>\n",
       "      <td>0.1</td>\n",
       "      <td>0.1</td>\n",
       "      <td>0.9</td>\n",
       "      <td>0.0</td>\n",
       "      <td>1.0</td>\n",
       "      <td>2.0</td>\n",
       "    </tr>\n",
       "    <tr>\n",
       "      <th>11</th>\n",
       "      <td>Brenden-Aaronson</td>\n",
       "      <td>14</td>\n",
       "      <td>MID</td>\n",
       "      <td>90.0</td>\n",
       "      <td>0.0</td>\n",
       "      <td>2.0</td>\n",
       "      <td>0.0</td>\n",
       "      <td>0.2</td>\n",
       "      <td>0.2</td>\n",
       "      <td>0.2</td>\n",
       "      <td>0.0</td>\n",
       "      <td>0.0</td>\n",
       "      <td>2.0</td>\n",
       "    </tr>\n",
       "    <tr>\n",
       "      <th>12</th>\n",
       "      <td>Brenden-Aaronson</td>\n",
       "      <td>15</td>\n",
       "      <td>MID</td>\n",
       "      <td>85.0</td>\n",
       "      <td>0.0</td>\n",
       "      <td>2.0</td>\n",
       "      <td>0.0</td>\n",
       "      <td>0.1</td>\n",
       "      <td>0.1</td>\n",
       "      <td>0.0</td>\n",
       "      <td>0.0</td>\n",
       "      <td>1.0</td>\n",
       "      <td>2.0</td>\n",
       "    </tr>\n",
       "    <tr>\n",
       "      <th>13</th>\n",
       "      <td>Brenden-Aaronson</td>\n",
       "      <td>16</td>\n",
       "      <td>MID</td>\n",
       "      <td>90.0</td>\n",
       "      <td>0.0</td>\n",
       "      <td>2.0</td>\n",
       "      <td>0.0</td>\n",
       "      <td>0.1</td>\n",
       "      <td>0.1</td>\n",
       "      <td>0.4</td>\n",
       "      <td>0.0</td>\n",
       "      <td>0.0</td>\n",
       "      <td>5.0</td>\n",
       "    </tr>\n",
       "    <tr>\n",
       "      <th>14</th>\n",
       "      <td>Brenden-Aaronson</td>\n",
       "      <td>17</td>\n",
       "      <td>MID</td>\n",
       "      <td>82.0</td>\n",
       "      <td>0.0</td>\n",
       "      <td>1.0</td>\n",
       "      <td>0.0</td>\n",
       "      <td>0.0</td>\n",
       "      <td>0.0</td>\n",
       "      <td>0.0</td>\n",
       "      <td>0.0</td>\n",
       "      <td>1.0</td>\n",
       "      <td>2.0</td>\n",
       "    </tr>\n",
       "    <tr>\n",
       "      <th>15</th>\n",
       "      <td>Brenden-Aaronson</td>\n",
       "      <td>18</td>\n",
       "      <td>MID</td>\n",
       "      <td>90.0</td>\n",
       "      <td>0.0</td>\n",
       "      <td>1.0</td>\n",
       "      <td>0.0</td>\n",
       "      <td>0.1</td>\n",
       "      <td>0.1</td>\n",
       "      <td>0.1</td>\n",
       "      <td>1.0</td>\n",
       "      <td>0.0</td>\n",
       "      <td>3.0</td>\n",
       "    </tr>\n",
       "    <tr>\n",
       "      <th>16</th>\n",
       "      <td>Brenden-Aaronson</td>\n",
       "      <td>19</td>\n",
       "      <td>MID</td>\n",
       "      <td>62.0</td>\n",
       "      <td>0.0</td>\n",
       "      <td>1.0</td>\n",
       "      <td>0.0</td>\n",
       "      <td>0.1</td>\n",
       "      <td>0.1</td>\n",
       "      <td>0.0</td>\n",
       "      <td>0.0</td>\n",
       "      <td>1.0</td>\n",
       "      <td>2.0</td>\n",
       "    </tr>\n",
       "    <tr>\n",
       "      <th>17</th>\n",
       "      <td>Brenden-Aaronson</td>\n",
       "      <td>20</td>\n",
       "      <td>MID</td>\n",
       "      <td>76.0</td>\n",
       "      <td>0.0</td>\n",
       "      <td>2.0</td>\n",
       "      <td>0.0</td>\n",
       "      <td>0.1</td>\n",
       "      <td>0.1</td>\n",
       "      <td>0.1</td>\n",
       "      <td>0.0</td>\n",
       "      <td>0.0</td>\n",
       "      <td>2.0</td>\n",
       "    </tr>\n",
       "    <tr>\n",
       "      <th>18</th>\n",
       "      <td>Brenden-Aaronson</td>\n",
       "      <td>21</td>\n",
       "      <td>MID</td>\n",
       "      <td>69.0</td>\n",
       "      <td>0.0</td>\n",
       "      <td>2.0</td>\n",
       "      <td>1.0</td>\n",
       "      <td>0.1</td>\n",
       "      <td>0.1</td>\n",
       "      <td>0.1</td>\n",
       "      <td>1.0</td>\n",
       "      <td>1.0</td>\n",
       "      <td>3.0</td>\n",
       "    </tr>\n",
       "    <tr>\n",
       "      <th>19</th>\n",
       "      <td>Che-Adams</td>\n",
       "      <td>1</td>\n",
       "      <td>FWD</td>\n",
       "      <td>0.0</td>\n",
       "      <td>0.0</td>\n",
       "      <td>0.0</td>\n",
       "      <td>0.0</td>\n",
       "      <td>0.0</td>\n",
       "      <td>0.0</td>\n",
       "      <td>0.0</td>\n",
       "      <td>0.0</td>\n",
       "      <td>0.0</td>\n",
       "      <td>1.0</td>\n",
       "    </tr>\n",
       "  </tbody>\n",
       "</table>\n",
       "</div>"
      ],
      "text/plain": [
       "                Name  GW FPL position   Min  Gls   Sh  SoT   xG  npxG  xAG  \\\n",
       "0   Brenden-Aaronson   1          MID  83.0  0.0  1.0  0.0  0.0   0.0  0.0   \n",
       "1   Brenden-Aaronson   2          MID  90.0  0.0  2.0  0.0  0.1   0.1  0.1   \n",
       "2   Brenden-Aaronson   3          MID  82.0  1.0  2.0  2.0  1.0   1.0  0.1   \n",
       "3   Brenden-Aaronson   4          MID  81.0  0.0  0.0  0.0  0.0   0.0  0.0   \n",
       "4   Brenden-Aaronson   5          MID  75.0  0.0  1.0  1.0  0.1   0.1  0.1   \n",
       "5   Brenden-Aaronson   6          MID  90.0  0.0  1.0  0.0  0.0   0.0  0.3   \n",
       "6   Brenden-Aaronson   9          MID  78.0  0.0  0.0  0.0  0.0   0.0  0.1   \n",
       "7   Brenden-Aaronson  10          MID  75.0  0.0  2.0  0.0  0.1   0.1  0.0   \n",
       "8   Brenden-Aaronson  11          MID  90.0  0.0  2.0  1.0  0.1   0.1  0.3   \n",
       "9   Brenden-Aaronson  12          MID  90.0  0.0  1.0  0.0  0.1   0.1  0.4   \n",
       "10  Brenden-Aaronson  13          MID  90.0  0.0  1.0  0.0  0.1   0.1  0.9   \n",
       "11  Brenden-Aaronson  14          MID  90.0  0.0  2.0  0.0  0.2   0.2  0.2   \n",
       "12  Brenden-Aaronson  15          MID  85.0  0.0  2.0  0.0  0.1   0.1  0.0   \n",
       "13  Brenden-Aaronson  16          MID  90.0  0.0  2.0  0.0  0.1   0.1  0.4   \n",
       "14  Brenden-Aaronson  17          MID  82.0  0.0  1.0  0.0  0.0   0.0  0.0   \n",
       "15  Brenden-Aaronson  18          MID  90.0  0.0  1.0  0.0  0.1   0.1  0.1   \n",
       "16  Brenden-Aaronson  19          MID  62.0  0.0  1.0  0.0  0.1   0.1  0.0   \n",
       "17  Brenden-Aaronson  20          MID  76.0  0.0  2.0  0.0  0.1   0.1  0.1   \n",
       "18  Brenden-Aaronson  21          MID  69.0  0.0  2.0  1.0  0.1   0.1  0.1   \n",
       "19         Che-Adams   1          FWD   0.0  0.0  0.0  0.0  0.0   0.0  0.0   \n",
       "\n",
       "     CS  Was Home  FPL  \n",
       "0   0.0       1.0  2.0  \n",
       "1   0.0       0.0  2.0  \n",
       "2   1.0       1.0  8.0  \n",
       "3   0.0       0.0  2.0  \n",
       "4   0.0       1.0  5.0  \n",
       "5   0.0       0.0  2.0  \n",
       "6   1.0       1.0  3.0  \n",
       "7   0.0       0.0  2.0  \n",
       "8   0.0       1.0  2.0  \n",
       "9   0.0       0.0  2.0  \n",
       "10  0.0       1.0  2.0  \n",
       "11  0.0       0.0  2.0  \n",
       "12  0.0       1.0  2.0  \n",
       "13  0.0       0.0  5.0  \n",
       "14  0.0       1.0  2.0  \n",
       "15  1.0       0.0  3.0  \n",
       "16  0.0       1.0  2.0  \n",
       "17  0.0       0.0  2.0  \n",
       "18  1.0       1.0  3.0  \n",
       "19  0.0       0.0  1.0  "
      ]
     },
     "execution_count": 13,
     "metadata": {},
     "output_type": "execute_result"
    }
   ],
   "source": [
    "df.head(20)"
   ]
  },
  {
   "cell_type": "code",
   "execution_count": 14,
   "id": "a56bb28e-5b7a-4a99-b18f-73cdf0d41c03",
   "metadata": {},
   "outputs": [],
   "source": [
    "last_names = df[\"Name\"].unique()"
   ]
  },
  {
   "cell_type": "code",
   "execution_count": 15,
   "id": "d9d18105-d801-47bd-ac75-bcf80098c76a",
   "metadata": {},
   "outputs": [
    {
     "data": {
      "text/plain": [
       "Index(['Name', 'GW', 'FPL position', 'Min', 'Gls', 'Sh', 'SoT', 'xG', 'npxG',\n",
       "       'xAG', 'CS', 'Was Home', 'FPL'],\n",
       "      dtype='object')"
      ]
     },
     "execution_count": 15,
     "metadata": {},
     "output_type": "execute_result"
    }
   ],
   "source": [
    "df.columns"
   ]
  },
  {
   "cell_type": "code",
   "execution_count": 16,
   "id": "c301df86-7098-4f5f-adad-58f5de13e700",
   "metadata": {},
   "outputs": [
    {
     "data": {
      "text/plain": [
       "array(['MID', 'FWD', 'DEF', 'GK'], dtype=object)"
      ]
     },
     "execution_count": 16,
     "metadata": {},
     "output_type": "execute_result"
    }
   ],
   "source": [
    "df[\"FPL position\"].unique()"
   ]
  },
  {
   "cell_type": "markdown",
   "id": "6e4319b4-355b-4121-a0ed-e6cbbdaf93a6",
   "metadata": {},
   "source": [
    "# DF to DataLoader"
   ]
  },
  {
   "cell_type": "code",
   "execution_count": 17,
   "id": "d87f8b66-cd79-4fd9-a0eb-a4d229912268",
   "metadata": {},
   "outputs": [],
   "source": [
    "# gk, def, mid, fwd\n",
    "df_gk = df[df[\"FPL position\"] == \"GK\"]\n",
    "df_def = df[df[\"FPL position\"] == \"DEF\"]\n",
    "df_mid = df[df[\"FPL position\"] == \"MID\"]\n",
    "df_fwd = df[df[\"FPL position\"] == \"FWD\"]"
   ]
  },
  {
   "cell_type": "code",
   "execution_count": 18,
   "id": "b0dabde8-fb92-4607-85c2-dd0dd141fca1",
   "metadata": {},
   "outputs": [
    {
     "data": {
      "text/plain": [
       "(5771, 13)"
      ]
     },
     "execution_count": 18,
     "metadata": {},
     "output_type": "execute_result"
    }
   ],
   "source": [
    "df.shape"
   ]
  },
  {
   "cell_type": "code",
   "execution_count": 19,
   "id": "75b6dda5-b74e-4ca8-a5e9-ac338cea6f20",
   "metadata": {},
   "outputs": [],
   "source": [
    "def init_index_table(df):\n",
    "    names = df[\"Name\"].unique()\n",
    "    result_dict = {}\n",
    "    \n",
    "    current_index = 0\n",
    "    player_index = 0\n",
    "    \n",
    "    for name in names:\n",
    "        sample_index = 0\n",
    "        samples_for_names = df[df[\"Name\"] == name].shape[0] - FIS\n",
    "        for i in range(samples_for_names):\n",
    "            result_dict[current_index] = [player_index, sample_index]\n",
    "            current_index += 1\n",
    "            sample_index += 1\n",
    "        player_index += 1\n",
    "    \n",
    "    return result_dict"
   ]
  },
  {
   "cell_type": "code",
   "execution_count": 20,
   "id": "15fc117a-0b9a-442e-a653-530a52486ff0",
   "metadata": {},
   "outputs": [],
   "source": [
    "class PandasDataset(Dataset):\n",
    "    def __init__(self, dataframe):\n",
    "        self.dataframe = dataframe\n",
    "        self.names = dataframe[\"Name\"].unique()\n",
    "        self.index_table = init_index_table(dataframe)\n",
    "        self.transform = torchvision.transforms.Compose([torchvision.transforms.ToTensor()])\n",
    "\n",
    "    def __len__(self):\n",
    "        length = 0\n",
    "        for name in self.names:\n",
    "            length += (self.dataframe[self.dataframe[\"Name\"] == name].shape[0] - FIS)\n",
    "        return length\n",
    "\n",
    "    def __getitem__(self, idx):\n",
    "        # print(idx)\n",
    "        player_id, sample_id = self.index_table[idx]\n",
    "        name = self.names[player_id]\n",
    "        # print(name)\n",
    "        features = self.dataframe[self.dataframe[\"Name\"] == name]\n",
    "        # print(self.dataframe[self.dataframe[\"Name\"] == name])\n",
    "        # print(features[sample_id: (sample_id + 4)])\n",
    "        features = features[sample_id: (sample_id + FIS)].drop(columns=info).values[:, :-1]\n",
    "        # print(features)\n",
    "        # print(features)\n",
    "        # print(type(features))\n",
    "        # print(self.dataframe[self.dataframe[\"Name\"] == name].values[:, -1])\n",
    "        # print(type(self.dataframe[self.dataframe[\"Name\"] == name].values[:, -1]))\n",
    "        # target = self.dataframe[self.dataframe[\"Name\"] == name].values[:, -1]\n",
    "        # target = target.astype(np.float32)\n",
    "        # target = torch.from_numpy(target)\n",
    "        target = np.float32(self.dataframe[self.dataframe[\"Name\"] == name].values[(sample_id + FIS), -1])\n",
    "        # print(name, idx, target, sample_id)\n",
    "        # print(type(target))\n",
    "        return features, target"
   ]
  },
  {
   "cell_type": "code",
   "execution_count": 21,
   "id": "c6f37972-8a77-4ce4-8498-19cab99c4074",
   "metadata": {},
   "outputs": [
    {
     "data": {
      "text/html": [
       "<div>\n",
       "<style scoped>\n",
       "    .dataframe tbody tr th:only-of-type {\n",
       "        vertical-align: middle;\n",
       "    }\n",
       "\n",
       "    .dataframe tbody tr th {\n",
       "        vertical-align: top;\n",
       "    }\n",
       "\n",
       "    .dataframe thead th {\n",
       "        text-align: right;\n",
       "    }\n",
       "</style>\n",
       "<table border=\"1\" class=\"dataframe\">\n",
       "  <thead>\n",
       "    <tr style=\"text-align: right;\">\n",
       "      <th></th>\n",
       "      <th>Name</th>\n",
       "      <th>FPL position</th>\n",
       "    </tr>\n",
       "  </thead>\n",
       "  <tbody>\n",
       "    <tr>\n",
       "      <th>0</th>\n",
       "      <td>Brenden-Aaronson</td>\n",
       "      <td>MID</td>\n",
       "    </tr>\n",
       "    <tr>\n",
       "      <th>19</th>\n",
       "      <td>Che-Adams</td>\n",
       "      <td>FWD</td>\n",
       "    </tr>\n",
       "    <tr>\n",
       "      <th>39</th>\n",
       "      <td>Tyler-Adams</td>\n",
       "      <td>MID</td>\n",
       "    </tr>\n",
       "    <tr>\n",
       "      <th>56</th>\n",
       "      <td>Tosin-Adarabioyo</td>\n",
       "      <td>DEF</td>\n",
       "    </tr>\n",
       "    <tr>\n",
       "      <th>83</th>\n",
       "      <td>Rayan-Ait-Nouri</td>\n",
       "      <td>DEF</td>\n",
       "    </tr>\n",
       "    <tr>\n",
       "      <th>126</th>\n",
       "      <td>Nathan-Ake</td>\n",
       "      <td>DEF</td>\n",
       "    </tr>\n",
       "    <tr>\n",
       "      <th>143</th>\n",
       "      <td>Marc-Albrighton</td>\n",
       "      <td>MID</td>\n",
       "    </tr>\n",
       "    <tr>\n",
       "      <th>177</th>\n",
       "      <td>Trent-Alexander-Arnold</td>\n",
       "      <td>DEF</td>\n",
       "    </tr>\n",
       "    <tr>\n",
       "      <th>196</th>\n",
       "      <td>Alisson</td>\n",
       "      <td>GK</td>\n",
       "    </tr>\n",
       "    <tr>\n",
       "      <th>218</th>\n",
       "      <td>Miguel-Almiron</td>\n",
       "      <td>MID</td>\n",
       "    </tr>\n",
       "    <tr>\n",
       "      <th>238</th>\n",
       "      <td>Julian-Alvarez</td>\n",
       "      <td>FWD</td>\n",
       "    </tr>\n",
       "    <tr>\n",
       "      <th>257</th>\n",
       "      <td>Daniel-Amartey</td>\n",
       "      <td>DEF</td>\n",
       "    </tr>\n",
       "    <tr>\n",
       "      <th>276</th>\n",
       "      <td>Joachim-Andersen</td>\n",
       "      <td>DEF</td>\n",
       "    </tr>\n",
       "    <tr>\n",
       "      <th>293</th>\n",
       "      <td>Elliot-Anderson</td>\n",
       "      <td>MID</td>\n",
       "    </tr>\n",
       "    <tr>\n",
       "      <th>309</th>\n",
       "      <td>Jaidon-Anthony</td>\n",
       "      <td>MID</td>\n",
       "    </tr>\n",
       "    <tr>\n",
       "      <th>329</th>\n",
       "      <td>Michail-Antonio</td>\n",
       "      <td>FWD</td>\n",
       "    </tr>\n",
       "    <tr>\n",
       "      <th>373</th>\n",
       "      <td>Alphonse-Areola</td>\n",
       "      <td>GK</td>\n",
       "    </tr>\n",
       "    <tr>\n",
       "      <th>392</th>\n",
       "      <td>Joe-Aribo</td>\n",
       "      <td>MID</td>\n",
       "    </tr>\n",
       "    <tr>\n",
       "      <th>412</th>\n",
       "      <td>Adam-Armstrong</td>\n",
       "      <td>FWD</td>\n",
       "    </tr>\n",
       "    <tr>\n",
       "      <th>432</th>\n",
       "      <td>Stuart-Armstrong</td>\n",
       "      <td>MID</td>\n",
       "    </tr>\n",
       "  </tbody>\n",
       "</table>\n",
       "</div>"
      ],
      "text/plain": [
       "                       Name FPL position\n",
       "0          Brenden-Aaronson          MID\n",
       "19                Che-Adams          FWD\n",
       "39              Tyler-Adams          MID\n",
       "56         Tosin-Adarabioyo          DEF\n",
       "83          Rayan-Ait-Nouri          DEF\n",
       "126              Nathan-Ake          DEF\n",
       "143         Marc-Albrighton          MID\n",
       "177  Trent-Alexander-Arnold          DEF\n",
       "196                 Alisson           GK\n",
       "218          Miguel-Almiron          MID\n",
       "238          Julian-Alvarez          FWD\n",
       "257          Daniel-Amartey          DEF\n",
       "276        Joachim-Andersen          DEF\n",
       "293         Elliot-Anderson          MID\n",
       "309          Jaidon-Anthony          MID\n",
       "329         Michail-Antonio          FWD\n",
       "373         Alphonse-Areola           GK\n",
       "392               Joe-Aribo          MID\n",
       "412          Adam-Armstrong          FWD\n",
       "432        Stuart-Armstrong          MID"
      ]
     },
     "execution_count": 21,
     "metadata": {},
     "output_type": "execute_result"
    }
   ],
   "source": [
    "df[[\"Name\", \"FPL position\"]].drop_duplicates().head(20)"
   ]
  },
  {
   "cell_type": "code",
   "execution_count": 22,
   "id": "430e5e7d-972d-4eee-9bc0-a6f43ed05e7b",
   "metadata": {},
   "outputs": [],
   "source": [
    "dataset = PandasDataset(df)\n",
    "dataset_gk = PandasDataset(df_gk)\n",
    "dataset_def = PandasDataset(df_def)\n",
    "dataset_mid = PandasDataset(df_mid)\n",
    "dataset_fwd = PandasDataset(df_fwd)"
   ]
  },
  {
   "cell_type": "code",
   "execution_count": 23,
   "id": "56a36688-989a-4840-8428-5180a9c74d46",
   "metadata": {},
   "outputs": [
    {
     "data": {
      "text/plain": [
       "(array([[83. ,  0. ,  1. ,  0. ,  0. ,  0. ,  0. ,  0. ,  1. ],\n",
       "        [90. ,  0. ,  2. ,  0. ,  0.1,  0.1,  0.1,  0. ,  0. ],\n",
       "        [82. ,  1. ,  2. ,  2. ,  1. ,  1. ,  0.1,  1. ,  1. ],\n",
       "        [81. ,  0. ,  0. ,  0. ,  0. ,  0. ,  0. ,  0. ,  0. ],\n",
       "        [75. ,  0. ,  1. ,  1. ,  0.1,  0.1,  0.1,  0. ,  1. ],\n",
       "        [90. ,  0. ,  1. ,  0. ,  0. ,  0. ,  0.3,  0. ,  0. ],\n",
       "        [78. ,  0. ,  0. ,  0. ,  0. ,  0. ,  0.1,  1. ,  1. ],\n",
       "        [75. ,  0. ,  2. ,  0. ,  0.1,  0.1,  0. ,  0. ,  0. ]],\n",
       "       dtype=float32),\n",
       " 2.0)"
      ]
     },
     "execution_count": 23,
     "metadata": {},
     "output_type": "execute_result"
    }
   ],
   "source": [
    "dataset.__getitem__(0)"
   ]
  },
  {
   "cell_type": "code",
   "execution_count": 24,
   "id": "511603b4-1b28-4cc6-9847-1eb47a26493a",
   "metadata": {},
   "outputs": [
    {
     "data": {
      "text/plain": [
       "(array([[90. ,  0. ,  1. ,  0. ,  0.1,  0.1,  0.9,  0. ,  1. ],\n",
       "        [90. ,  0. ,  2. ,  0. ,  0.2,  0.2,  0.2,  0. ,  0. ],\n",
       "        [85. ,  0. ,  2. ,  0. ,  0.1,  0.1,  0. ,  0. ,  1. ],\n",
       "        [90. ,  0. ,  2. ,  0. ,  0.1,  0.1,  0.4,  0. ,  0. ],\n",
       "        [82. ,  0. ,  1. ,  0. ,  0. ,  0. ,  0. ,  0. ,  1. ],\n",
       "        [90. ,  0. ,  1. ,  0. ,  0.1,  0.1,  0.1,  1. ,  0. ],\n",
       "        [62. ,  0. ,  1. ,  0. ,  0.1,  0.1,  0. ,  0. ,  1. ],\n",
       "        [76. ,  0. ,  2. ,  0. ,  0.1,  0.1,  0.1,  0. ,  0. ]],\n",
       "       dtype=float32),\n",
       " 3.0)"
      ]
     },
     "execution_count": 24,
     "metadata": {},
     "output_type": "execute_result"
    }
   ],
   "source": [
    "dataset_mid.__getitem__(10)"
   ]
  },
  {
   "cell_type": "code",
   "execution_count": 25,
   "id": "4ce0452d-89c3-4ec0-bfcd-79ae7587e36b",
   "metadata": {},
   "outputs": [
    {
     "data": {
      "text/plain": [
       "305"
      ]
     },
     "execution_count": 25,
     "metadata": {},
     "output_type": "execute_result"
    }
   ],
   "source": [
    "dataset_gk.__len__()"
   ]
  },
  {
   "cell_type": "code",
   "execution_count": 26,
   "id": "dad3baac-8574-4dd0-af3c-f2d544295f67",
   "metadata": {},
   "outputs": [
    {
     "data": {
      "text/plain": [
       "1137"
      ]
     },
     "execution_count": 26,
     "metadata": {},
     "output_type": "execute_result"
    }
   ],
   "source": [
    "dataset_def.__len__()"
   ]
  },
  {
   "cell_type": "code",
   "execution_count": 27,
   "id": "65a42e4a-3f39-43bd-843b-d0225a124342",
   "metadata": {},
   "outputs": [
    {
     "data": {
      "text/plain": [
       "1469"
      ]
     },
     "execution_count": 27,
     "metadata": {},
     "output_type": "execute_result"
    }
   ],
   "source": [
    "dataset_mid.__len__()"
   ]
  },
  {
   "cell_type": "code",
   "execution_count": 28,
   "id": "89def15b-7eec-492a-a773-e87ebe22ea18",
   "metadata": {},
   "outputs": [
    {
     "data": {
      "text/plain": [
       "356"
      ]
     },
     "execution_count": 28,
     "metadata": {},
     "output_type": "execute_result"
    }
   ],
   "source": [
    "dataset_fwd.__len__()"
   ]
  },
  {
   "cell_type": "code",
   "execution_count": 29,
   "id": "fd3a4639-a6c7-40bf-ad2f-72569dfeac42",
   "metadata": {},
   "outputs": [],
   "source": [
    "batch_size = 16"
   ]
  },
  {
   "cell_type": "code",
   "execution_count": 30,
   "id": "3ef8a258-452d-4ce9-b44f-3370fa58f750",
   "metadata": {},
   "outputs": [],
   "source": [
    "dataloader = DataLoader(dataset, batch_size=batch_size, shuffle=False)\n",
    "dataloader_gk = DataLoader(dataset_gk, batch_size=batch_size, shuffle=False)\n",
    "dataloader_def = DataLoader(dataset_def, batch_size=batch_size, shuffle=False)\n",
    "dataloader_mid = DataLoader(dataset_mid, batch_size=batch_size, shuffle=False)\n",
    "dataloader_fwd = DataLoader(dataset_fwd, batch_size=batch_size, shuffle=False)"
   ]
  },
  {
   "cell_type": "code",
   "execution_count": 31,
   "id": "129bf3ea-1303-4d3b-b577-573735ae78df",
   "metadata": {},
   "outputs": [
    {
     "data": {
      "text/plain": [
       "[tensor([[[83.0000,  0.0000,  1.0000,  ...,  0.0000,  0.0000,  1.0000],\n",
       "          [90.0000,  0.0000,  2.0000,  ...,  0.1000,  0.0000,  0.0000],\n",
       "          [82.0000,  1.0000,  2.0000,  ...,  0.1000,  1.0000,  1.0000],\n",
       "          ...,\n",
       "          [90.0000,  0.0000,  1.0000,  ...,  0.3000,  0.0000,  0.0000],\n",
       "          [78.0000,  0.0000,  0.0000,  ...,  0.1000,  1.0000,  1.0000],\n",
       "          [75.0000,  0.0000,  2.0000,  ...,  0.0000,  0.0000,  0.0000]],\n",
       " \n",
       "         [[90.0000,  0.0000,  2.0000,  ...,  0.1000,  0.0000,  0.0000],\n",
       "          [82.0000,  1.0000,  2.0000,  ...,  0.1000,  1.0000,  1.0000],\n",
       "          [81.0000,  0.0000,  0.0000,  ...,  0.0000,  0.0000,  0.0000],\n",
       "          ...,\n",
       "          [78.0000,  0.0000,  0.0000,  ...,  0.1000,  1.0000,  1.0000],\n",
       "          [75.0000,  0.0000,  2.0000,  ...,  0.0000,  0.0000,  0.0000],\n",
       "          [90.0000,  0.0000,  2.0000,  ...,  0.3000,  0.0000,  1.0000]],\n",
       " \n",
       "         [[82.0000,  1.0000,  2.0000,  ...,  0.1000,  1.0000,  1.0000],\n",
       "          [81.0000,  0.0000,  0.0000,  ...,  0.0000,  0.0000,  0.0000],\n",
       "          [75.0000,  0.0000,  1.0000,  ...,  0.1000,  0.0000,  1.0000],\n",
       "          ...,\n",
       "          [75.0000,  0.0000,  2.0000,  ...,  0.0000,  0.0000,  0.0000],\n",
       "          [90.0000,  0.0000,  2.0000,  ...,  0.3000,  0.0000,  1.0000],\n",
       "          [90.0000,  0.0000,  1.0000,  ...,  0.4000,  0.0000,  0.0000]],\n",
       " \n",
       "         ...,\n",
       " \n",
       "         [[90.0000,  0.0000,  1.0000,  ...,  0.1000,  1.0000,  1.0000],\n",
       "          [90.0000,  0.0000,  0.0000,  ...,  0.0000,  0.0000,  0.0000],\n",
       "          [90.0000,  0.0000,  0.0000,  ...,  0.0000,  0.0000,  1.0000],\n",
       "          ...,\n",
       "          [90.0000,  0.0000,  0.0000,  ...,  0.4000,  0.0000,  0.0000],\n",
       "          [90.0000,  0.0000,  0.0000,  ...,  0.0000,  0.0000,  1.0000],\n",
       "          [90.0000,  0.0000,  0.0000,  ...,  0.1000,  0.0000,  0.0000]],\n",
       " \n",
       "         [[90.0000,  0.0000,  0.0000,  ...,  0.0000,  0.0000,  0.0000],\n",
       "          [90.0000,  0.0000,  0.0000,  ...,  0.0000,  0.0000,  1.0000],\n",
       "          [90.0000,  0.0000,  0.0000,  ...,  0.1000,  0.0000,  0.0000],\n",
       "          ...,\n",
       "          [90.0000,  0.0000,  0.0000,  ...,  0.0000,  0.0000,  1.0000],\n",
       "          [90.0000,  0.0000,  0.0000,  ...,  0.1000,  0.0000,  0.0000],\n",
       "          [90.0000,  0.0000,  0.0000,  ...,  0.0000,  0.0000,  0.0000]],\n",
       " \n",
       "         [[90.0000,  0.0000,  0.0000,  ...,  0.0000,  0.0000,  1.0000],\n",
       "          [90.0000,  0.0000,  0.0000,  ...,  0.1000,  0.0000,  0.0000],\n",
       "          [90.0000,  0.0000,  0.0000,  ...,  0.0000,  1.0000,  1.0000],\n",
       "          ...,\n",
       "          [90.0000,  0.0000,  0.0000,  ...,  0.1000,  0.0000,  0.0000],\n",
       "          [90.0000,  0.0000,  0.0000,  ...,  0.0000,  0.0000,  0.0000],\n",
       "          [90.0000,  0.0000,  0.0000,  ...,  0.0000,  0.0000,  1.0000]]]),\n",
       " tensor([2., 2., 2., 2., 2., 5., 2., 3., 2., 2., 3., 2., 2., 2., 2., 2.])]"
      ]
     },
     "execution_count": 31,
     "metadata": {},
     "output_type": "execute_result"
    }
   ],
   "source": [
    "next(iter(dataloader_mid))"
   ]
  },
  {
   "cell_type": "code",
   "execution_count": 32,
   "id": "066d4f81-bc84-4a58-9bcd-fcaa6cfbeb4c",
   "metadata": {},
   "outputs": [],
   "source": [
    "# next(iter(dataloader))[1]"
   ]
  },
  {
   "cell_type": "markdown",
   "id": "44290e57-5279-400f-bd5d-8bcbf0db2f99",
   "metadata": {},
   "source": [
    "# LSTM Model"
   ]
  },
  {
   "cell_type": "code",
   "execution_count": 33,
   "id": "95c48496-4a3d-4dd6-a789-abb04d921dc6",
   "metadata": {},
   "outputs": [],
   "source": [
    "class LSTMNetwork(nn.Module):\n",
    "    def __init__(self, input_size, hidden_size, num_layers, output_size, dropout=0.2):\n",
    "        super(LSTMNetwork, self).__init__()\n",
    "        self.lstm = nn.LSTM(input_size, hidden_size, num_layers, dropout=dropout)\n",
    "        self.fc = nn.Linear(hidden_size, output_size)\n",
    "\n",
    "    def forward(self, x):\n",
    "        x = torch.transpose(x, 0, 1)\n",
    "        # x = x.view(-1, batch_size)\n",
    "        # x = torch.transpose(x, 0, 1)\n",
    "        # print(\"FOR\", x.shape)\n",
    "        # print(x.shape)\n",
    "        # print(x.shape)\n",
    "        out, _ = self.lstm(x)\n",
    "        # print(out.shape)\n",
    "        out = self.fc(out[-1])\n",
    "        return out"
   ]
  },
  {
   "cell_type": "code",
   "execution_count": 34,
   "id": "231626de-b520-4d08-a1c8-eeca06133061",
   "metadata": {},
   "outputs": [
    {
     "data": {
      "text/plain": [
       "205"
      ]
     },
     "execution_count": 34,
     "metadata": {},
     "output_type": "execute_result"
    }
   ],
   "source": [
    "len(dataloader)"
   ]
  },
  {
   "cell_type": "code",
   "execution_count": 35,
   "id": "aa6120f7-4cf3-4b11-ac41-4ebaa2a49321",
   "metadata": {},
   "outputs": [],
   "source": [
    "# torch.transpose(next(iter(dataloader))[0], 0, 1).shape"
   ]
  },
  {
   "cell_type": "code",
   "execution_count": 36,
   "id": "083d4a4d-f747-4d56-a2a7-416282c53b77",
   "metadata": {},
   "outputs": [],
   "source": [
    "net = LSTMNetwork(1, 20, 2, 1, dropout=0.4)"
   ]
  },
  {
   "cell_type": "code",
   "execution_count": 37,
   "id": "28aa0b2a-25f3-4826-9618-325435112848",
   "metadata": {},
   "outputs": [],
   "source": [
    "net_gk = LSTMNetwork(1, 20, 2, 1, dropout=0.4)"
   ]
  },
  {
   "cell_type": "code",
   "execution_count": 38,
   "id": "2a6d8cac-a248-4517-811d-1237d21ef815",
   "metadata": {},
   "outputs": [],
   "source": [
    "net_def = LSTMNetwork(1, 20, 2, 1, dropout=0.4)"
   ]
  },
  {
   "cell_type": "code",
   "execution_count": 39,
   "id": "07eaa965-c873-44e0-9bf5-1421edc809ec",
   "metadata": {},
   "outputs": [],
   "source": [
    "net_mid = LSTMNetwork(1, 20, 2, 1, dropout=0.4)"
   ]
  },
  {
   "cell_type": "code",
   "execution_count": 40,
   "id": "48dce1fa-3838-4082-88b2-8d692c20b201",
   "metadata": {},
   "outputs": [],
   "source": [
    "net_fwd = LSTMNetwork(1, 20, 2, 1, dropout=0.4)"
   ]
  },
  {
   "cell_type": "markdown",
   "id": "ca697492-5632-47ca-b7ef-7ef7f83f483e",
   "metadata": {},
   "source": [
    "# Training loop defined"
   ]
  },
  {
   "cell_type": "code",
   "execution_count": 41,
   "id": "3e5d6365-866b-497d-9f3d-fff942c03266",
   "metadata": {},
   "outputs": [],
   "source": [
    "criterion = nn.MSELoss()"
   ]
  },
  {
   "cell_type": "code",
   "execution_count": 42,
   "id": "3fc8e104-6c5d-4e09-a238-73e06346286b",
   "metadata": {},
   "outputs": [],
   "source": [
    "def train_net(net, num_epochs, dataloader, optimizer):\n",
    "    loss_history = []\n",
    "    for epoch in range(num_epochs):\n",
    "        running_loss = 0\n",
    "        for i, (inputs, targets) in enumerate(dataloader):\n",
    "            inputs = torch.flatten(inputs, 1, 2)\n",
    "            inputs = inputs.unsqueeze(2)\n",
    "            # print(\"INPUTS\", inputs.shape)\n",
    "            # print(\"TARGETS\", targets.shape)\n",
    "            # print(targets)\n",
    "            optimizer.zero_grad()\n",
    "            outputs = net(inputs).flatten()\n",
    "            # print(\"OUTPUTS\", outputs.shape)\n",
    "            loss = criterion(outputs, targets)\n",
    "            running_loss += loss.item()\n",
    "            loss.backward()\n",
    "            optimizer.step()\n",
    "\n",
    "        loss_history.append(running_loss / len(dataloader))\n",
    "        if epoch % 5 == 0:\n",
    "            print(f'Epoch {epoch} Loss: {running_loss / len(dataloader)}')\n",
    "    \n",
    "    return loss_history"
   ]
  },
  {
   "cell_type": "code",
   "execution_count": 43,
   "id": "c29562d5-abfe-4028-b09a-78d9fbdc5c64",
   "metadata": {},
   "outputs": [],
   "source": [
    "def plot_loss_history(loss_history):\n",
    "    plt.plot(loss_history)\n",
    "    plt.xlabel('Epoch')\n",
    "    plt.ylabel('Loss')\n",
    "    plt.show()"
   ]
  },
  {
   "cell_type": "markdown",
   "id": "e6a2f684-5906-4cf1-8cd4-6f342fb3daf5",
   "metadata": {},
   "source": [
    "# Training loop - general net"
   ]
  },
  {
   "cell_type": "code",
   "execution_count": 44,
   "id": "8d1ac896-0465-4422-b291-a13f32f3d3b5",
   "metadata": {},
   "outputs": [
    {
     "name": "stdout",
     "output_type": "stream",
     "text": [
      "Epoch 0 Loss: 3.920207099580183\n",
      "Epoch 5 Loss: 3.695021712343867\n",
      "Epoch 10 Loss: 3.677349189796099\n",
      "Epoch 15 Loss: 3.5323258125200505\n",
      "Epoch 20 Loss: 3.1140235324458376\n",
      "Epoch 25 Loss: 3.0280237509710033\n",
      "CPU times: total: 29min 52s\n",
      "Wall time: 8min 59s\n"
     ]
    }
   ],
   "source": [
    "%%time\n",
    "net = LSTMNetwork(1, 20, 2, 1, dropout=0.4)\n",
    "optimizer = optim.Adam(net.parameters(), lr=0.005)\n",
    "loss_history = train_net(net, 30, dataloader, optimizer)"
   ]
  },
  {
   "cell_type": "code",
   "execution_count": 45,
   "id": "ac88d75b-3cb0-4747-9efe-c498dd2efdd3",
   "metadata": {},
   "outputs": [
    {
     "data": {
      "image/png": "[encoded data removed]",
      "text/plain": [
       "<Figure size 432x288 with 1 Axes>"
      ]
     },
     "metadata": {
      "needs_background": "light"
     },
     "output_type": "display_data"
    }
   ],
   "source": [
    "plot_loss_history(loss_history)"
   ]
  },
  {
   "cell_type": "markdown",
   "id": "8e1645fc-dd44-4891-a0db-8686d1ac588a",
   "metadata": {},
   "source": [
    "# Training loop - goalkeeper net"
   ]
  },
  {
   "cell_type": "code",
   "execution_count": null,
   "id": "85757dc2-113a-4a46-b17f-600293d87a90",
   "metadata": {},
   "outputs": [
    {
     "name": "stdout",
     "output_type": "stream",
     "text": [
      "Epoch 0 Loss: 1.4823186468333005\n",
      "Epoch 5 Loss: 0.5016054254025221\n",
      "Epoch 10 Loss: 0.502277669031173\n",
      "Epoch 15 Loss: 0.4998873141594231\n",
      "Epoch 20 Loss: 0.5039562572725117\n",
      "Epoch 25 Loss: 0.4997846018522978\n",
      "Epoch 30 Loss: 0.5030941782519222\n",
      "Epoch 35 Loss: 0.500559154804796\n"
     ]
    }
   ],
   "source": [
    "%%time\n",
    "net_gk = LSTMNetwork(1, 20, 2, 1, dropout=0.4)\n",
    "optimizer_gk = optim.Adam(net_gk.parameters(), lr=0.01)\n",
    "loss_history_gk = train_net(net_gk, 50, dataloader_gk, optimizer_gk)"
   ]
  },
  {
   "cell_type": "code",
   "execution_count": null,
   "id": "8ff0d12f-9099-4d9d-9d10-49dd81ec6a1c",
   "metadata": {},
   "outputs": [],
   "source": [
    "plot_loss_history(loss_history_gk)"
   ]
  },
  {
   "cell_type": "markdown",
   "id": "a11943ae-8c43-4169-91a8-fd51445ac5b4",
   "metadata": {},
   "source": [
    "# Training loop - defender net"
   ]
  },
  {
   "cell_type": "code",
   "execution_count": null,
   "id": "19b30491-7cf8-4572-abe0-388cb58de9b8",
   "metadata": {},
   "outputs": [],
   "source": [
    "%%time\n",
    "net_def = LSTMNetwork(1, 20, 2, 1, dropout=0.4)\n",
    "optimizer_def = optim.Adam(net_def.parameters(), lr=0.005)\n",
    "loss_history_def = train_net(net_def, 50, dataloader_def, optimizer_def)"
   ]
  },
  {
   "cell_type": "code",
   "execution_count": null,
   "id": "a6ebe5b1-712d-46c4-a773-9782a9ae8689",
   "metadata": {},
   "outputs": [],
   "source": [
    "plot_loss_history(loss_history_def)"
   ]
  },
  {
   "cell_type": "markdown",
   "id": "63c27abd-c720-4dff-bfe4-ad20a3d0a48e",
   "metadata": {},
   "source": [
    "# Training loop - midfielder net"
   ]
  },
  {
   "cell_type": "code",
   "execution_count": null,
   "id": "154a2ea8-d2f8-48c3-86fd-278be6c26475",
   "metadata": {},
   "outputs": [],
   "source": [
    "%%time\n",
    "net_mid = LSTMNetwork(1, 20, 2, 1, dropout=0.4)\n",
    "optimizer_mid = optim.Adam(net_mid.parameters(), lr=0.005)\n",
    "loss_history_mid = train_net(net_mid, 50, dataloader_mid, optimizer_mid)"
   ]
  },
  {
   "cell_type": "code",
   "execution_count": null,
   "id": "fff0d3ef-bb1d-4d13-a192-3d76f129914f",
   "metadata": {},
   "outputs": [],
   "source": [
    "plot_loss_history(loss_history_mid)"
   ]
  },
  {
   "cell_type": "markdown",
   "id": "01bca3ac-0da4-41eb-a3bb-5c4b14df2cc0",
   "metadata": {},
   "source": [
    "# Training loop - forward net"
   ]
  },
  {
   "cell_type": "code",
   "execution_count": null,
   "id": "2bcb7afb-f3f1-4a81-bbea-6da2b512967d",
   "metadata": {},
   "outputs": [],
   "source": [
    "%%time\n",
    "net_fwd = LSTMNetwork(1, 20, 2, 1, dropout=0.4)\n",
    "optimizer_fwd = optim.Adam(net_fwd.parameters(), lr=0.005)\n",
    "loss_history_fwd = train_net(net_fwd, 50, dataloader_fwd, optimizer_fwd)"
   ]
  },
  {
   "cell_type": "code",
   "execution_count": null,
   "id": "b4915930-85c2-475e-8af8-820f1d32f5c1",
   "metadata": {},
   "outputs": [],
   "source": [
    "plot_loss_history(loss_history_fwd)"
   ]
  },
  {
   "cell_type": "markdown",
   "id": "222c6cfd-5148-4793-a9f7-6dfa76115a68",
   "metadata": {},
   "source": [
    "# Predictions"
   ]
  },
  {
   "cell_type": "code",
   "execution_count": null,
   "id": "864f4e1f-63ad-4e18-86e0-6d733744c8a9",
   "metadata": {},
   "outputs": [],
   "source": [
    "index = 0\n",
    "predictions = []\n",
    "index_table = init_index_table(df) # index table for whole dataframe\n",
    "\n",
    "for inputs, target in dataloader:\n",
    "    inputs = torch.flatten(inputs, 1, 2)\n",
    "    inputs = inputs.unsqueeze(2)\n",
    "    # print(\"INPUTS\", inputs)\n",
    "    # print(inputs)\n",
    "    outputs = net(inputs)\n",
    "    # print(\"OUTPUTS\", outputs)\n",
    "    for output in outputs:\n",
    "        player_id, sample_id = index_table[index]\n",
    "        name = last_names[player_id]\n",
    "        points = round(output.item(), 2)\n",
    "        gw = sample_id + FIS + 1\n",
    "        predictions.append([name, gw, points])\n",
    "        # df.loc[(df[\"Name\"] == name) & (df[\"GW\"] == gw), \"LSTM\"] = points\n",
    "        index += 1"
   ]
  },
  {
   "cell_type": "code",
   "execution_count": null,
   "id": "297cfbd4-0fbe-46b4-9fc4-d79eeaadf70d",
   "metadata": {},
   "outputs": [],
   "source": [
    "# appending results to original df\n",
    "for name, gw, points in predictions:\n",
    "    df_original.loc[(df_original[\"Name\"] == name) & (df[\"GW\"] == gw), \"LSTM\"] = points"
   ]
  },
  {
   "cell_type": "code",
   "execution_count": null,
   "id": "13c4bb11-8ce5-41f7-beda-ed1838b83fe4",
   "metadata": {},
   "outputs": [],
   "source": [
    "df_original"
   ]
  },
  {
   "cell_type": "code",
   "execution_count": null,
   "id": "ce5882f0-aff6-4ae9-9cba-8b4e816bec07",
   "metadata": {},
   "outputs": [],
   "source": [
    "df_original.to_csv(\"data/fpl_fbref_elo_lstm.csv\")"
   ]
  },
  {
   "cell_type": "code",
   "execution_count": null,
   "id": "e6d3171e-f813-411c-ba7e-492163af5009",
   "metadata": {},
   "outputs": [],
   "source": [
    "# results sorted\n",
    "pd.DataFrame(predictions, columns=[\"Name\", \"GW\", \"Points\"]).sort_values(by=[\"Points\"], ascending = False).head(20)"
   ]
  },
  {
   "cell_type": "code",
   "execution_count": null,
   "id": "c2c03327-c028-4c0a-97a1-9eeec243370d",
   "metadata": {},
   "outputs": [],
   "source": []
  }
 ],
 "metadata": {
  "kernelspec": {
   "display_name": "Python 3 (ipykernel)",
   "language": "python",
   "name": "python3"
  },
  "language_info": {
   "codemirror_mode": {
    "name": "ipython",
    "version": 3
   },
   "file_extension": ".py",
   "mimetype": "text/x-python",
   "name": "python",
   "nbconvert_exporter": "python",
   "pygments_lexer": "ipython3",
   "version": "3.8.0"
  }
 },
 "nbformat": 4,
 "nbformat_minor": 5
}
