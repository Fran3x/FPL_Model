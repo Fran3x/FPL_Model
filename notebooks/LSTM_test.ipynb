{
  "cells": [
    {
      "cell_type": "markdown",
      "source": [
        "# Google Colab"
      ],
      "metadata": {
        "id": "HQv7wn2lGRxJ"
      },
      "id": "HQv7wn2lGRxJ"
    },
    {
      "cell_type": "code",
      "source": [
        "Google_Colab = True"
      ],
      "metadata": {
        "id": "lWcbiCoePjwh"
      },
      "id": "lWcbiCoePjwh",
      "execution_count": 44,
      "outputs": []
    },
    {
      "cell_type": "code",
      "source": [
        "import os\n",
        "\n",
        "if Google_Colab:\n",
        "    from google.colab import drive\n",
        "    drive.mount('/content/gdrive')\n",
        "    os.chdir(\"/content/gdrive/My Drive/FPL_ML\")\n",
        "else:\n",
        "    os.chdir(\"D:\\PulpitE\\FPL_ML\")"
      ],
      "metadata": {
        "colab": {
          "base_uri": "https://localhost:8080/"
        },
        "id": "iIMFBRbFGTex",
        "outputId": "b9f0d0a7-a0fb-4a64-9f06-59992bf19be1"
      },
      "id": "iIMFBRbFGTex",
      "execution_count": 45,
      "outputs": [
        {
          "output_type": "stream",
          "name": "stdout",
          "text": [
            "Drive already mounted at /content/gdrive; to attempt to forcibly remount, call drive.mount(\"/content/gdrive\", force_remount=True).\n"
          ]
        }
      ]
    },
    {
      "cell_type": "markdown",
      "id": "b403b39e-b749-4730-a880-75a6b9ddfe83",
      "metadata": {
        "id": "b403b39e-b749-4730-a880-75a6b9ddfe83"
      },
      "source": [
        "# Imports"
      ]
    },
    {
      "cell_type": "code",
      "execution_count": 46,
      "id": "1382f0d0-60a4-4f2a-b4ce-c54205b18d21",
      "metadata": {
        "id": "1382f0d0-60a4-4f2a-b4ce-c54205b18d21"
      },
      "outputs": [],
      "source": [
        "import pandas as pd\n",
        "\n",
        "import torch\n",
        "import torch.nn as nn\n",
        "\n",
        "import torchvision\n",
        "import torchvision.transforms\n",
        "from torchvision.transforms import ToTensor\n",
        "\n",
        "from torch.utils.data import Dataset, DataLoader\n",
        "import torch.optim as optim\n",
        "\n",
        "import matplotlib.pyplot as plt\n",
        "\n",
        "import numpy as np\n",
        "import random"
      ]
    },
    {
      "cell_type": "markdown",
      "id": "7dd9d155-95e4-4e3d-86ad-c46a6fbb5c95",
      "metadata": {
        "id": "7dd9d155-95e4-4e3d-86ad-c46a6fbb5c95"
      },
      "source": [
        "# Constants and seeds"
      ]
    },
    {
      "cell_type": "code",
      "execution_count": 47,
      "id": "7239f9ad-7a6d-4a3d-9da5-4bac972e1537",
      "metadata": {
        "id": "7239f9ad-7a6d-4a3d-9da5-4bac972e1537"
      },
      "outputs": [],
      "source": [
        "# FIXTURES_IN_SAMPLE\n",
        "FIS = 8\n",
        "\n",
        "# FIXTURES_FOR_PLAYER - number of gameweeks required\n",
        "FFP = 15\n",
        "\n",
        "NEXT_GAMEWEEK = 19"
      ]
    },
    {
      "cell_type": "code",
      "execution_count": 48,
      "id": "2d44df04-be21-4e7b-aaa5-612a6210bd44",
      "metadata": {
        "id": "2d44df04-be21-4e7b-aaa5-612a6210bd44"
      },
      "outputs": [],
      "source": [
        "def set_all_seeds(seed):\n",
        "    os.environ[\"PL_GLOBAL_SEED\"] = str(seed)\n",
        "    random.seed(seed)\n",
        "    np.random.seed(seed)\n",
        "    torch.manual_seed(seed)\n",
        "    torch.cuda.manual_seed_all(seed)\n",
        "    torch.backends.cudnn.deterministic = True\n",
        "\n",
        "set_all_seeds(42)"
      ]
    },
    {
      "cell_type": "markdown",
      "id": "83206c3d-ea25-42ca-81df-c388d247ffe3",
      "metadata": {
        "id": "83206c3d-ea25-42ca-81df-c388d247ffe3"
      },
      "source": [
        "# Device"
      ]
    },
    {
      "cell_type": "code",
      "execution_count": 49,
      "id": "0a673f70-8843-4b1a-ad07-ccfea4306d84",
      "metadata": {
        "id": "0a673f70-8843-4b1a-ad07-ccfea4306d84"
      },
      "outputs": [],
      "source": [
        "# device = torch.device(\"cuda\")\n",
        "# device = torch.device('mps')\n",
        "device = torch.device('cpu')"
      ]
    },
    {
      "cell_type": "markdown",
      "id": "83fe6a68-8e90-42af-94c8-c886a1f95c77",
      "metadata": {
        "id": "83fe6a68-8e90-42af-94c8-c886a1f95c77"
      },
      "source": [
        "# Getting data and choosing features"
      ]
    },
    {
      "cell_type": "code",
      "execution_count": 50,
      "id": "4bb7008e-7daa-41ce-b71c-ff06abd53b86",
      "metadata": {
        "id": "4bb7008e-7daa-41ce-b71c-ff06abd53b86"
      },
      "outputs": [],
      "source": [
        "df = pd.read_csv('data/final_dataset.csv')"
      ]
    },
    {
      "cell_type": "code",
      "execution_count": 51,
      "id": "bc939518-2991-4de9-ae25-e0f986522243",
      "metadata": {
        "id": "bc939518-2991-4de9-ae25-e0f986522243"
      },
      "outputs": [],
      "source": [
        "# remembering original dataframes\n",
        "df_original = df\n",
        "\n",
        "df_gk_original = df[df[\"FPL position\"] == \"GK\"]\n",
        "df_def_original = df[df[\"FPL position\"] == \"DEF\"]\n",
        "df_mid_original = df[df[\"FPL position\"] == \"MID\"]\n",
        "df_fwd_original = df[df[\"FPL position\"] == \"FWD\"]"
      ]
    },
    {
      "cell_type": "code",
      "source": [
        "df_original.columns"
      ],
      "metadata": {
        "colab": {
          "base_uri": "https://localhost:8080/"
        },
        "id": "PWzStYOfoo2G",
        "outputId": "a717242b-b141-4ebf-ecc3-535c74b4a8ba"
      },
      "id": "PWzStYOfoo2G",
      "execution_count": 52,
      "outputs": [
        {
          "output_type": "execute_result",
          "data": {
            "text/plain": [
              "Index(['Unnamed: 0', 'Date', 'Day', 'Comp', 'Round', 'Venue', 'Squad',\n",
              "       'Opponent', 'Start', 'Pos', 'Min', 'Gls', 'Ast', 'PK', 'PKatt', 'Sh',\n",
              "       'SoT', 'CrdY', 'CrdR', 'Touches', 'Tkl', 'Int', 'Blocks', 'xG', 'npxG',\n",
              "       'xAG', 'SCA', 'GCA', 'Cmp', 'Att', 'Cmp%', 'PrgP', 'Carries', 'PrgC',\n",
              "       'Att.1', 'Succ', 'Match Report', 'Name', 'Season', 'WDL', 'GoalsTeams',\n",
              "       'Team Score', 'Opp Score', 'CS', 'Was Home', 'GW', 'FPL',\n",
              "       'neutral_name', 'Total Points', 'FPL position', 'Opp rating',\n",
              "       'ScoreForLast5', 'ScoreAgainstLast5'],\n",
              "      dtype='object')"
            ]
          },
          "metadata": {},
          "execution_count": 52
        }
      ]
    },
    {
      "cell_type": "code",
      "execution_count": 53,
      "id": "8e0c8995-bbf3-4bf2-9123-e6b35c6b0cd8",
      "metadata": {
        "id": "8e0c8995-bbf3-4bf2-9123-e6b35c6b0cd8"
      },
      "outputs": [],
      "source": [
        "info = [\"Name\", \"GW\", \"FPL position\"]\n",
        "other = [\"LSTM\"]\n",
        "features = [\"Min\", \"Gls\", \"Ast\", \"Sh\", \"SoT\", \"xG\", \"npxG\", \"xAG\", \"SCA\", \"GCA\", \"CS\", \"CrdY\", \"CrdR\", \"Opp rating\", \"Team Score\", \"Opp Score\", \"Was Home\"]\n",
        "to_predict = [\"FPL\"]"
      ]
    },
    {
      "cell_type": "code",
      "execution_count": 54,
      "id": "c4eeb6d7-d07b-4f1c-9c86-52095b7cf379",
      "metadata": {
        "colab": {
          "base_uri": "https://localhost:8080/"
        },
        "id": "c4eeb6d7-d07b-4f1c-9c86-52095b7cf379",
        "outputId": "86a07354-7fc0-4db9-b5a2-3ec590560943"
      },
      "outputs": [
        {
          "output_type": "stream",
          "name": "stderr",
          "text": [
            "/usr/local/lib/python3.8/dist-packages/pandas/core/frame.py:3641: SettingWithCopyWarning: \n",
            "A value is trying to be set on a copy of a slice from a DataFrame.\n",
            "Try using .loc[row_indexer,col_indexer] = value instead\n",
            "\n",
            "See the caveats in the documentation: https://pandas.pydata.org/pandas-docs/stable/user_guide/indexing.html#returning-a-view-versus-a-copy\n",
            "  self[k1] = value[k2]\n"
          ]
        }
      ],
      "source": [
        "df = df[info + features + to_predict]\n",
        "df[features + to_predict] = df[features + to_predict].astype(\"float32\")"
      ]
    },
    {
      "cell_type": "code",
      "execution_count": 55,
      "id": "d63ed15f-1efb-4c00-b646-8c55a6c347d1",
      "metadata": {
        "colab": {
          "base_uri": "https://localhost:8080/"
        },
        "id": "d63ed15f-1efb-4c00-b646-8c55a6c347d1",
        "outputId": "e9a83cb6-4253-4f69-d26b-08b5910c1719"
      },
      "outputs": [
        {
          "output_type": "execute_result",
          "data": {
            "text/plain": [
              "(7457, 21)"
            ]
          },
          "metadata": {},
          "execution_count": 55
        }
      ],
      "source": [
        "df.shape"
      ]
    },
    {
      "cell_type": "code",
      "execution_count": 56,
      "id": "f36cc7ed-88c3-4ee4-baf1-85393aa3d15d",
      "metadata": {
        "id": "f36cc7ed-88c3-4ee4-baf1-85393aa3d15d"
      },
      "outputs": [],
      "source": [
        "# removing NaN rows and players that appear less than 15 times\n",
        "df = df.dropna()\n",
        "grouped = df.groupby('Name')\n",
        "\n",
        "# taking onyl players with at least FFP matches in logs\n",
        "df = grouped.filter(lambda x: len(x) >= FFP)"
      ]
    },
    {
      "cell_type": "code",
      "execution_count": 57,
      "id": "06c42b4b-58dd-48fe-a162-14e7564a4441",
      "metadata": {
        "colab": {
          "base_uri": "https://localhost:8080/"
        },
        "id": "06c42b4b-58dd-48fe-a162-14e7564a4441",
        "outputId": "f39ba0ec-ad82-49b8-d733-6f46a56e956c"
      },
      "outputs": [
        {
          "output_type": "execute_result",
          "data": {
            "text/plain": [
              "(5771, 21)"
            ]
          },
          "metadata": {},
          "execution_count": 57
        }
      ],
      "source": [
        "df.shape"
      ]
    },
    {
      "cell_type": "code",
      "execution_count": 58,
      "id": "24fff899-a809-4659-b51e-f1431688507c",
      "metadata": {
        "colab": {
          "base_uri": "https://localhost:8080/",
          "height": 706
        },
        "id": "24fff899-a809-4659-b51e-f1431688507c",
        "outputId": "1bbf234a-274a-46d9-9f57-92e969fcad87"
      },
      "outputs": [
        {
          "output_type": "execute_result",
          "data": {
            "text/plain": [
              "                Name  GW FPL position   Min  Gls  Ast   Sh  SoT   xG  npxG  \\\n",
              "0   Brenden-Aaronson   1          MID  83.0  0.0  0.0  1.0  0.0  0.0   0.0   \n",
              "1   Brenden-Aaronson   2          MID  90.0  0.0  0.0  2.0  0.0  0.1   0.1   \n",
              "2   Brenden-Aaronson   3          MID  82.0  1.0  0.0  2.0  2.0  1.0   1.0   \n",
              "3   Brenden-Aaronson   4          MID  81.0  0.0  0.0  0.0  0.0  0.0   0.0   \n",
              "4   Brenden-Aaronson   5          MID  75.0  0.0  1.0  1.0  1.0  0.1   0.1   \n",
              "5   Brenden-Aaronson   6          MID  90.0  0.0  0.0  1.0  0.0  0.0   0.0   \n",
              "6   Brenden-Aaronson   9          MID  78.0  0.0  0.0  0.0  0.0  0.0   0.0   \n",
              "7   Brenden-Aaronson  10          MID  75.0  0.0  0.0  2.0  0.0  0.1   0.1   \n",
              "8   Brenden-Aaronson  11          MID  90.0  0.0  0.0  2.0  1.0  0.1   0.1   \n",
              "9   Brenden-Aaronson  12          MID  90.0  0.0  0.0  1.0  0.0  0.1   0.1   \n",
              "10  Brenden-Aaronson  13          MID  90.0  0.0  0.0  1.0  0.0  0.1   0.1   \n",
              "11  Brenden-Aaronson  14          MID  90.0  0.0  0.0  2.0  0.0  0.2   0.2   \n",
              "12  Brenden-Aaronson  15          MID  85.0  0.0  0.0  2.0  0.0  0.1   0.1   \n",
              "13  Brenden-Aaronson  16          MID  90.0  0.0  1.0  2.0  0.0  0.1   0.1   \n",
              "14  Brenden-Aaronson  17          MID  82.0  0.0  0.0  1.0  0.0  0.0   0.0   \n",
              "15  Brenden-Aaronson  18          MID  90.0  0.0  0.0  1.0  0.0  0.1   0.1   \n",
              "16  Brenden-Aaronson  19          MID  62.0  0.0  0.0  1.0  0.0  0.1   0.1   \n",
              "17  Brenden-Aaronson  20          MID  76.0  0.0  0.0  2.0  0.0  0.1   0.1   \n",
              "18  Brenden-Aaronson  21          MID  69.0  0.0  0.0  2.0  1.0  0.1   0.1   \n",
              "19         Che-Adams   1          FWD   0.0  0.0  0.0  0.0  0.0  0.0   0.0   \n",
              "\n",
              "    ...  SCA  GCA   CS  CrdY  CrdR   Opp rating  Team Score  Opp Score  \\\n",
              "0   ...  1.0  0.0  0.0   0.0   0.0  1725.276489         2.0        1.0   \n",
              "1   ...  4.0  0.0  0.0   1.0   0.0  1667.049927         2.0        2.0   \n",
              "2   ...  5.0  1.0  1.0   0.0   0.0  1901.388306         3.0        0.0   \n",
              "3   ...  3.0  0.0  0.0   1.0   0.0  1783.540161         0.0        1.0   \n",
              "4   ...  4.0  1.0  0.0   0.0   0.0  1688.922485         1.0        1.0   \n",
              "5   ...  2.0  0.0  0.0   0.0   0.0  1727.113647         2.0        5.0   \n",
              "6   ...  2.0  0.0  1.0   0.0   0.0  1716.016846         0.0        0.0   \n",
              "7   ...  3.0  1.0  0.0   0.0   0.0  1748.905396         1.0        2.0   \n",
              "8   ...  4.0  0.0  0.0   0.0   0.0  1908.041016         0.0        1.0   \n",
              "9   ...  3.0  0.0  0.0   0.0   0.0  1730.854736         0.0        2.0   \n",
              "10  ...  7.0  0.0  0.0   0.0   0.0  1669.831543         2.0        3.0   \n",
              "11  ...  5.0  0.0  0.0   0.0   0.0  1992.204224         2.0        1.0   \n",
              "12  ...  4.0  1.0  0.0   0.0   0.0  1650.858398         4.0        3.0   \n",
              "13  ...  4.0  1.0  0.0   0.0   0.0  1872.840210         3.0        4.0   \n",
              "14  ...  3.0  0.0  0.0   0.0   0.0  2029.863770         1.0        3.0   \n",
              "15  ...  4.0  0.0  1.0   0.0   0.0  1855.153564         0.0        0.0   \n",
              "16  ...  1.0  0.0  0.0   0.0   0.0  1749.588989         2.0        2.0   \n",
              "17  ...  2.0  0.0  0.0   0.0   0.0  1754.206787         1.0        2.0   \n",
              "18  ...  3.0  0.0  1.0   0.0   0.0  1780.160156         0.0        0.0   \n",
              "19  ...  0.0  0.0  0.0   0.0   0.0  1866.826172         1.0        4.0   \n",
              "\n",
              "    Was Home  FPL  \n",
              "0        1.0  2.0  \n",
              "1        0.0  2.0  \n",
              "2        1.0  8.0  \n",
              "3        0.0  2.0  \n",
              "4        1.0  5.0  \n",
              "5        0.0  2.0  \n",
              "6        1.0  3.0  \n",
              "7        0.0  2.0  \n",
              "8        1.0  2.0  \n",
              "9        0.0  2.0  \n",
              "10       1.0  2.0  \n",
              "11       0.0  2.0  \n",
              "12       1.0  2.0  \n",
              "13       0.0  5.0  \n",
              "14       1.0  2.0  \n",
              "15       0.0  3.0  \n",
              "16       1.0  2.0  \n",
              "17       0.0  2.0  \n",
              "18       1.0  3.0  \n",
              "19       0.0  1.0  \n",
              "\n",
              "[20 rows x 21 columns]"
            ],
            "text/html": [
              "\n",
              "  <div id=\"df-a0b58b64-da50-4434-bef8-e24e562e0d8a\">\n",
              "    <div class=\"colab-df-container\">\n",
              "      <div>\n",
              "<style scoped>\n",
              "    .dataframe tbody tr th:only-of-type {\n",
              "        vertical-align: middle;\n",
              "    }\n",
              "\n",
              "    .dataframe tbody tr th {\n",
              "        vertical-align: top;\n",
              "    }\n",
              "\n",
              "    .dataframe thead th {\n",
              "        text-align: right;\n",
              "    }\n",
              "</style>\n",
              "<table border=\"1\" class=\"dataframe\">\n",
              "  <thead>\n",
              "    <tr style=\"text-align: right;\">\n",
              "      <th></th>\n",
              "      <th>Name</th>\n",
              "      <th>GW</th>\n",
              "      <th>FPL position</th>\n",
              "      <th>Min</th>\n",
              "      <th>Gls</th>\n",
              "      <th>Ast</th>\n",
              "      <th>Sh</th>\n",
              "      <th>SoT</th>\n",
              "      <th>xG</th>\n",
              "      <th>npxG</th>\n",
              "      <th>...</th>\n",
              "      <th>SCA</th>\n",
              "      <th>GCA</th>\n",
              "      <th>CS</th>\n",
              "      <th>CrdY</th>\n",
              "      <th>CrdR</th>\n",
              "      <th>Opp rating</th>\n",
              "      <th>Team Score</th>\n",
              "      <th>Opp Score</th>\n",
              "      <th>Was Home</th>\n",
              "      <th>FPL</th>\n",
              "    </tr>\n",
              "  </thead>\n",
              "  <tbody>\n",
              "    <tr>\n",
              "      <th>0</th>\n",
              "      <td>Brenden-Aaronson</td>\n",
              "      <td>1</td>\n",
              "      <td>MID</td>\n",
              "      <td>83.0</td>\n",
              "      <td>0.0</td>\n",
              "      <td>0.0</td>\n",
              "      <td>1.0</td>\n",
              "      <td>0.0</td>\n",
              "      <td>0.0</td>\n",
              "      <td>0.0</td>\n",
              "      <td>...</td>\n",
              "      <td>1.0</td>\n",
              "      <td>0.0</td>\n",
              "      <td>0.0</td>\n",
              "      <td>0.0</td>\n",
              "      <td>0.0</td>\n",
              "      <td>1725.276489</td>\n",
              "      <td>2.0</td>\n",
              "      <td>1.0</td>\n",
              "      <td>1.0</td>\n",
              "      <td>2.0</td>\n",
              "    </tr>\n",
              "    <tr>\n",
              "      <th>1</th>\n",
              "      <td>Brenden-Aaronson</td>\n",
              "      <td>2</td>\n",
              "      <td>MID</td>\n",
              "      <td>90.0</td>\n",
              "      <td>0.0</td>\n",
              "      <td>0.0</td>\n",
              "      <td>2.0</td>\n",
              "      <td>0.0</td>\n",
              "      <td>0.1</td>\n",
              "      <td>0.1</td>\n",
              "      <td>...</td>\n",
              "      <td>4.0</td>\n",
              "      <td>0.0</td>\n",
              "      <td>0.0</td>\n",
              "      <td>1.0</td>\n",
              "      <td>0.0</td>\n",
              "      <td>1667.049927</td>\n",
              "      <td>2.0</td>\n",
              "      <td>2.0</td>\n",
              "      <td>0.0</td>\n",
              "      <td>2.0</td>\n",
              "    </tr>\n",
              "    <tr>\n",
              "      <th>2</th>\n",
              "      <td>Brenden-Aaronson</td>\n",
              "      <td>3</td>\n",
              "      <td>MID</td>\n",
              "      <td>82.0</td>\n",
              "      <td>1.0</td>\n",
              "      <td>0.0</td>\n",
              "      <td>2.0</td>\n",
              "      <td>2.0</td>\n",
              "      <td>1.0</td>\n",
              "      <td>1.0</td>\n",
              "      <td>...</td>\n",
              "      <td>5.0</td>\n",
              "      <td>1.0</td>\n",
              "      <td>1.0</td>\n",
              "      <td>0.0</td>\n",
              "      <td>0.0</td>\n",
              "      <td>1901.388306</td>\n",
              "      <td>3.0</td>\n",
              "      <td>0.0</td>\n",
              "      <td>1.0</td>\n",
              "      <td>8.0</td>\n",
              "    </tr>\n",
              "    <tr>\n",
              "      <th>3</th>\n",
              "      <td>Brenden-Aaronson</td>\n",
              "      <td>4</td>\n",
              "      <td>MID</td>\n",
              "      <td>81.0</td>\n",
              "      <td>0.0</td>\n",
              "      <td>0.0</td>\n",
              "      <td>0.0</td>\n",
              "      <td>0.0</td>\n",
              "      <td>0.0</td>\n",
              "      <td>0.0</td>\n",
              "      <td>...</td>\n",
              "      <td>3.0</td>\n",
              "      <td>0.0</td>\n",
              "      <td>0.0</td>\n",
              "      <td>1.0</td>\n",
              "      <td>0.0</td>\n",
              "      <td>1783.540161</td>\n",
              "      <td>0.0</td>\n",
              "      <td>1.0</td>\n",
              "      <td>0.0</td>\n",
              "      <td>2.0</td>\n",
              "    </tr>\n",
              "    <tr>\n",
              "      <th>4</th>\n",
              "      <td>Brenden-Aaronson</td>\n",
              "      <td>5</td>\n",
              "      <td>MID</td>\n",
              "      <td>75.0</td>\n",
              "      <td>0.0</td>\n",
              "      <td>1.0</td>\n",
              "      <td>1.0</td>\n",
              "      <td>1.0</td>\n",
              "      <td>0.1</td>\n",
              "      <td>0.1</td>\n",
              "      <td>...</td>\n",
              "      <td>4.0</td>\n",
              "      <td>1.0</td>\n",
              "      <td>0.0</td>\n",
              "      <td>0.0</td>\n",
              "      <td>0.0</td>\n",
              "      <td>1688.922485</td>\n",
              "      <td>1.0</td>\n",
              "      <td>1.0</td>\n",
              "      <td>1.0</td>\n",
              "      <td>5.0</td>\n",
              "    </tr>\n",
              "    <tr>\n",
              "      <th>5</th>\n",
              "      <td>Brenden-Aaronson</td>\n",
              "      <td>6</td>\n",
              "      <td>MID</td>\n",
              "      <td>90.0</td>\n",
              "      <td>0.0</td>\n",
              "      <td>0.0</td>\n",
              "      <td>1.0</td>\n",
              "      <td>0.0</td>\n",
              "      <td>0.0</td>\n",
              "      <td>0.0</td>\n",
              "      <td>...</td>\n",
              "      <td>2.0</td>\n",
              "      <td>0.0</td>\n",
              "      <td>0.0</td>\n",
              "      <td>0.0</td>\n",
              "      <td>0.0</td>\n",
              "      <td>1727.113647</td>\n",
              "      <td>2.0</td>\n",
              "      <td>5.0</td>\n",
              "      <td>0.0</td>\n",
              "      <td>2.0</td>\n",
              "    </tr>\n",
              "    <tr>\n",
              "      <th>6</th>\n",
              "      <td>Brenden-Aaronson</td>\n",
              "      <td>9</td>\n",
              "      <td>MID</td>\n",
              "      <td>78.0</td>\n",
              "      <td>0.0</td>\n",
              "      <td>0.0</td>\n",
              "      <td>0.0</td>\n",
              "      <td>0.0</td>\n",
              "      <td>0.0</td>\n",
              "      <td>0.0</td>\n",
              "      <td>...</td>\n",
              "      <td>2.0</td>\n",
              "      <td>0.0</td>\n",
              "      <td>1.0</td>\n",
              "      <td>0.0</td>\n",
              "      <td>0.0</td>\n",
              "      <td>1716.016846</td>\n",
              "      <td>0.0</td>\n",
              "      <td>0.0</td>\n",
              "      <td>1.0</td>\n",
              "      <td>3.0</td>\n",
              "    </tr>\n",
              "    <tr>\n",
              "      <th>7</th>\n",
              "      <td>Brenden-Aaronson</td>\n",
              "      <td>10</td>\n",
              "      <td>MID</td>\n",
              "      <td>75.0</td>\n",
              "      <td>0.0</td>\n",
              "      <td>0.0</td>\n",
              "      <td>2.0</td>\n",
              "      <td>0.0</td>\n",
              "      <td>0.1</td>\n",
              "      <td>0.1</td>\n",
              "      <td>...</td>\n",
              "      <td>3.0</td>\n",
              "      <td>1.0</td>\n",
              "      <td>0.0</td>\n",
              "      <td>0.0</td>\n",
              "      <td>0.0</td>\n",
              "      <td>1748.905396</td>\n",
              "      <td>1.0</td>\n",
              "      <td>2.0</td>\n",
              "      <td>0.0</td>\n",
              "      <td>2.0</td>\n",
              "    </tr>\n",
              "    <tr>\n",
              "      <th>8</th>\n",
              "      <td>Brenden-Aaronson</td>\n",
              "      <td>11</td>\n",
              "      <td>MID</td>\n",
              "      <td>90.0</td>\n",
              "      <td>0.0</td>\n",
              "      <td>0.0</td>\n",
              "      <td>2.0</td>\n",
              "      <td>1.0</td>\n",
              "      <td>0.1</td>\n",
              "      <td>0.1</td>\n",
              "      <td>...</td>\n",
              "      <td>4.0</td>\n",
              "      <td>0.0</td>\n",
              "      <td>0.0</td>\n",
              "      <td>0.0</td>\n",
              "      <td>0.0</td>\n",
              "      <td>1908.041016</td>\n",
              "      <td>0.0</td>\n",
              "      <td>1.0</td>\n",
              "      <td>1.0</td>\n",
              "      <td>2.0</td>\n",
              "    </tr>\n",
              "    <tr>\n",
              "      <th>9</th>\n",
              "      <td>Brenden-Aaronson</td>\n",
              "      <td>12</td>\n",
              "      <td>MID</td>\n",
              "      <td>90.0</td>\n",
              "      <td>0.0</td>\n",
              "      <td>0.0</td>\n",
              "      <td>1.0</td>\n",
              "      <td>0.0</td>\n",
              "      <td>0.1</td>\n",
              "      <td>0.1</td>\n",
              "      <td>...</td>\n",
              "      <td>3.0</td>\n",
              "      <td>0.0</td>\n",
              "      <td>0.0</td>\n",
              "      <td>0.0</td>\n",
              "      <td>0.0</td>\n",
              "      <td>1730.854736</td>\n",
              "      <td>0.0</td>\n",
              "      <td>2.0</td>\n",
              "      <td>0.0</td>\n",
              "      <td>2.0</td>\n",
              "    </tr>\n",
              "    <tr>\n",
              "      <th>10</th>\n",
              "      <td>Brenden-Aaronson</td>\n",
              "      <td>13</td>\n",
              "      <td>MID</td>\n",
              "      <td>90.0</td>\n",
              "      <td>0.0</td>\n",
              "      <td>0.0</td>\n",
              "      <td>1.0</td>\n",
              "      <td>0.0</td>\n",
              "      <td>0.1</td>\n",
              "      <td>0.1</td>\n",
              "      <td>...</td>\n",
              "      <td>7.0</td>\n",
              "      <td>0.0</td>\n",
              "      <td>0.0</td>\n",
              "      <td>0.0</td>\n",
              "      <td>0.0</td>\n",
              "      <td>1669.831543</td>\n",
              "      <td>2.0</td>\n",
              "      <td>3.0</td>\n",
              "      <td>1.0</td>\n",
              "      <td>2.0</td>\n",
              "    </tr>\n",
              "    <tr>\n",
              "      <th>11</th>\n",
              "      <td>Brenden-Aaronson</td>\n",
              "      <td>14</td>\n",
              "      <td>MID</td>\n",
              "      <td>90.0</td>\n",
              "      <td>0.0</td>\n",
              "      <td>0.0</td>\n",
              "      <td>2.0</td>\n",
              "      <td>0.0</td>\n",
              "      <td>0.2</td>\n",
              "      <td>0.2</td>\n",
              "      <td>...</td>\n",
              "      <td>5.0</td>\n",
              "      <td>0.0</td>\n",
              "      <td>0.0</td>\n",
              "      <td>0.0</td>\n",
              "      <td>0.0</td>\n",
              "      <td>1992.204224</td>\n",
              "      <td>2.0</td>\n",
              "      <td>1.0</td>\n",
              "      <td>0.0</td>\n",
              "      <td>2.0</td>\n",
              "    </tr>\n",
              "    <tr>\n",
              "      <th>12</th>\n",
              "      <td>Brenden-Aaronson</td>\n",
              "      <td>15</td>\n",
              "      <td>MID</td>\n",
              "      <td>85.0</td>\n",
              "      <td>0.0</td>\n",
              "      <td>0.0</td>\n",
              "      <td>2.0</td>\n",
              "      <td>0.0</td>\n",
              "      <td>0.1</td>\n",
              "      <td>0.1</td>\n",
              "      <td>...</td>\n",
              "      <td>4.0</td>\n",
              "      <td>1.0</td>\n",
              "      <td>0.0</td>\n",
              "      <td>0.0</td>\n",
              "      <td>0.0</td>\n",
              "      <td>1650.858398</td>\n",
              "      <td>4.0</td>\n",
              "      <td>3.0</td>\n",
              "      <td>1.0</td>\n",
              "      <td>2.0</td>\n",
              "    </tr>\n",
              "    <tr>\n",
              "      <th>13</th>\n",
              "      <td>Brenden-Aaronson</td>\n",
              "      <td>16</td>\n",
              "      <td>MID</td>\n",
              "      <td>90.0</td>\n",
              "      <td>0.0</td>\n",
              "      <td>1.0</td>\n",
              "      <td>2.0</td>\n",
              "      <td>0.0</td>\n",
              "      <td>0.1</td>\n",
              "      <td>0.1</td>\n",
              "      <td>...</td>\n",
              "      <td>4.0</td>\n",
              "      <td>1.0</td>\n",
              "      <td>0.0</td>\n",
              "      <td>0.0</td>\n",
              "      <td>0.0</td>\n",
              "      <td>1872.840210</td>\n",
              "      <td>3.0</td>\n",
              "      <td>4.0</td>\n",
              "      <td>0.0</td>\n",
              "      <td>5.0</td>\n",
              "    </tr>\n",
              "    <tr>\n",
              "      <th>14</th>\n",
              "      <td>Brenden-Aaronson</td>\n",
              "      <td>17</td>\n",
              "      <td>MID</td>\n",
              "      <td>82.0</td>\n",
              "      <td>0.0</td>\n",
              "      <td>0.0</td>\n",
              "      <td>1.0</td>\n",
              "      <td>0.0</td>\n",
              "      <td>0.0</td>\n",
              "      <td>0.0</td>\n",
              "      <td>...</td>\n",
              "      <td>3.0</td>\n",
              "      <td>0.0</td>\n",
              "      <td>0.0</td>\n",
              "      <td>0.0</td>\n",
              "      <td>0.0</td>\n",
              "      <td>2029.863770</td>\n",
              "      <td>1.0</td>\n",
              "      <td>3.0</td>\n",
              "      <td>1.0</td>\n",
              "      <td>2.0</td>\n",
              "    </tr>\n",
              "    <tr>\n",
              "      <th>15</th>\n",
              "      <td>Brenden-Aaronson</td>\n",
              "      <td>18</td>\n",
              "      <td>MID</td>\n",
              "      <td>90.0</td>\n",
              "      <td>0.0</td>\n",
              "      <td>0.0</td>\n",
              "      <td>1.0</td>\n",
              "      <td>0.0</td>\n",
              "      <td>0.1</td>\n",
              "      <td>0.1</td>\n",
              "      <td>...</td>\n",
              "      <td>4.0</td>\n",
              "      <td>0.0</td>\n",
              "      <td>1.0</td>\n",
              "      <td>0.0</td>\n",
              "      <td>0.0</td>\n",
              "      <td>1855.153564</td>\n",
              "      <td>0.0</td>\n",
              "      <td>0.0</td>\n",
              "      <td>0.0</td>\n",
              "      <td>3.0</td>\n",
              "    </tr>\n",
              "    <tr>\n",
              "      <th>16</th>\n",
              "      <td>Brenden-Aaronson</td>\n",
              "      <td>19</td>\n",
              "      <td>MID</td>\n",
              "      <td>62.0</td>\n",
              "      <td>0.0</td>\n",
              "      <td>0.0</td>\n",
              "      <td>1.0</td>\n",
              "      <td>0.0</td>\n",
              "      <td>0.1</td>\n",
              "      <td>0.1</td>\n",
              "      <td>...</td>\n",
              "      <td>1.0</td>\n",
              "      <td>0.0</td>\n",
              "      <td>0.0</td>\n",
              "      <td>0.0</td>\n",
              "      <td>0.0</td>\n",
              "      <td>1749.588989</td>\n",
              "      <td>2.0</td>\n",
              "      <td>2.0</td>\n",
              "      <td>1.0</td>\n",
              "      <td>2.0</td>\n",
              "    </tr>\n",
              "    <tr>\n",
              "      <th>17</th>\n",
              "      <td>Brenden-Aaronson</td>\n",
              "      <td>20</td>\n",
              "      <td>MID</td>\n",
              "      <td>76.0</td>\n",
              "      <td>0.0</td>\n",
              "      <td>0.0</td>\n",
              "      <td>2.0</td>\n",
              "      <td>0.0</td>\n",
              "      <td>0.1</td>\n",
              "      <td>0.1</td>\n",
              "      <td>...</td>\n",
              "      <td>2.0</td>\n",
              "      <td>0.0</td>\n",
              "      <td>0.0</td>\n",
              "      <td>0.0</td>\n",
              "      <td>0.0</td>\n",
              "      <td>1754.206787</td>\n",
              "      <td>1.0</td>\n",
              "      <td>2.0</td>\n",
              "      <td>0.0</td>\n",
              "      <td>2.0</td>\n",
              "    </tr>\n",
              "    <tr>\n",
              "      <th>18</th>\n",
              "      <td>Brenden-Aaronson</td>\n",
              "      <td>21</td>\n",
              "      <td>MID</td>\n",
              "      <td>69.0</td>\n",
              "      <td>0.0</td>\n",
              "      <td>0.0</td>\n",
              "      <td>2.0</td>\n",
              "      <td>1.0</td>\n",
              "      <td>0.1</td>\n",
              "      <td>0.1</td>\n",
              "      <td>...</td>\n",
              "      <td>3.0</td>\n",
              "      <td>0.0</td>\n",
              "      <td>1.0</td>\n",
              "      <td>0.0</td>\n",
              "      <td>0.0</td>\n",
              "      <td>1780.160156</td>\n",
              "      <td>0.0</td>\n",
              "      <td>0.0</td>\n",
              "      <td>1.0</td>\n",
              "      <td>3.0</td>\n",
              "    </tr>\n",
              "    <tr>\n",
              "      <th>19</th>\n",
              "      <td>Che-Adams</td>\n",
              "      <td>1</td>\n",
              "      <td>FWD</td>\n",
              "      <td>0.0</td>\n",
              "      <td>0.0</td>\n",
              "      <td>0.0</td>\n",
              "      <td>0.0</td>\n",
              "      <td>0.0</td>\n",
              "      <td>0.0</td>\n",
              "      <td>0.0</td>\n",
              "      <td>...</td>\n",
              "      <td>0.0</td>\n",
              "      <td>0.0</td>\n",
              "      <td>0.0</td>\n",
              "      <td>0.0</td>\n",
              "      <td>0.0</td>\n",
              "      <td>1866.826172</td>\n",
              "      <td>1.0</td>\n",
              "      <td>4.0</td>\n",
              "      <td>0.0</td>\n",
              "      <td>1.0</td>\n",
              "    </tr>\n",
              "  </tbody>\n",
              "</table>\n",
              "<p>20 rows × 21 columns</p>\n",
              "</div>\n",
              "      <button class=\"colab-df-convert\" onclick=\"convertToInteractive('df-a0b58b64-da50-4434-bef8-e24e562e0d8a')\"\n",
              "              title=\"Convert this dataframe to an interactive table.\"\n",
              "              style=\"display:none;\">\n",
              "        \n",
              "  <svg xmlns=\"http://www.w3.org/2000/svg\" height=\"24px\"viewBox=\"0 0 24 24\"\n",
              "       width=\"24px\">\n",
              "    <path d=\"M0 0h24v24H0V0z\" fill=\"none\"/>\n",
              "    <path d=\"M18.56 5.44l.94 2.06.94-2.06 2.06-.94-2.06-.94-.94-2.06-.94 2.06-2.06.94zm-11 1L8.5 8.5l.94-2.06 2.06-.94-2.06-.94L8.5 2.5l-.94 2.06-2.06.94zm10 10l.94 2.06.94-2.06 2.06-.94-2.06-.94-.94-2.06-.94 2.06-2.06.94z\"/><path d=\"M17.41 7.96l-1.37-1.37c-.4-.4-.92-.59-1.43-.59-.52 0-1.04.2-1.43.59L10.3 9.45l-7.72 7.72c-.78.78-.78 2.05 0 2.83L4 21.41c.39.39.9.59 1.41.59.51 0 1.02-.2 1.41-.59l7.78-7.78 2.81-2.81c.8-.78.8-2.07 0-2.86zM5.41 20L4 18.59l7.72-7.72 1.47 1.35L5.41 20z\"/>\n",
              "  </svg>\n",
              "      </button>\n",
              "      \n",
              "  <style>\n",
              "    .colab-df-container {\n",
              "      display:flex;\n",
              "      flex-wrap:wrap;\n",
              "      gap: 12px;\n",
              "    }\n",
              "\n",
              "    .colab-df-convert {\n",
              "      background-color: #E8F0FE;\n",
              "      border: none;\n",
              "      border-radius: 50%;\n",
              "      cursor: pointer;\n",
              "      display: none;\n",
              "      fill: #1967D2;\n",
              "      height: 32px;\n",
              "      padding: 0 0 0 0;\n",
              "      width: 32px;\n",
              "    }\n",
              "\n",
              "    .colab-df-convert:hover {\n",
              "      background-color: #E2EBFA;\n",
              "      box-shadow: 0px 1px 2px rgba(60, 64, 67, 0.3), 0px 1px 3px 1px rgba(60, 64, 67, 0.15);\n",
              "      fill: #174EA6;\n",
              "    }\n",
              "\n",
              "    [theme=dark] .colab-df-convert {\n",
              "      background-color: #3B4455;\n",
              "      fill: #D2E3FC;\n",
              "    }\n",
              "\n",
              "    [theme=dark] .colab-df-convert:hover {\n",
              "      background-color: #434B5C;\n",
              "      box-shadow: 0px 1px 3px 1px rgba(0, 0, 0, 0.15);\n",
              "      filter: drop-shadow(0px 1px 2px rgba(0, 0, 0, 0.3));\n",
              "      fill: #FFFFFF;\n",
              "    }\n",
              "  </style>\n",
              "\n",
              "      <script>\n",
              "        const buttonEl =\n",
              "          document.querySelector('#df-a0b58b64-da50-4434-bef8-e24e562e0d8a button.colab-df-convert');\n",
              "        buttonEl.style.display =\n",
              "          google.colab.kernel.accessAllowed ? 'block' : 'none';\n",
              "\n",
              "        async function convertToInteractive(key) {\n",
              "          const element = document.querySelector('#df-a0b58b64-da50-4434-bef8-e24e562e0d8a');\n",
              "          const dataTable =\n",
              "            await google.colab.kernel.invokeFunction('convertToInteractive',\n",
              "                                                     [key], {});\n",
              "          if (!dataTable) return;\n",
              "\n",
              "          const docLinkHtml = 'Like what you see? Visit the ' +\n",
              "            '<a target=\"_blank\" href=https://colab.research.google.com/notebooks/data_table.ipynb>data table notebook</a>'\n",
              "            + ' to learn more about interactive tables.';\n",
              "          element.innerHTML = '';\n",
              "          dataTable['output_type'] = 'display_data';\n",
              "          await google.colab.output.renderOutput(dataTable, element);\n",
              "          const docLink = document.createElement('div');\n",
              "          docLink.innerHTML = docLinkHtml;\n",
              "          element.appendChild(docLink);\n",
              "        }\n",
              "      </script>\n",
              "    </div>\n",
              "  </div>\n",
              "  "
            ]
          },
          "metadata": {},
          "execution_count": 58
        }
      ],
      "source": [
        "df.head(20)"
      ]
    },
    {
      "cell_type": "code",
      "execution_count": 59,
      "id": "a56bb28e-5b7a-4a99-b18f-73cdf0d41c03",
      "metadata": {
        "id": "a56bb28e-5b7a-4a99-b18f-73cdf0d41c03"
      },
      "outputs": [],
      "source": [
        "last_names = df[\"Name\"].unique()"
      ]
    },
    {
      "cell_type": "code",
      "execution_count": 60,
      "id": "d9d18105-d801-47bd-ac75-bcf80098c76a",
      "metadata": {
        "colab": {
          "base_uri": "https://localhost:8080/"
        },
        "id": "d9d18105-d801-47bd-ac75-bcf80098c76a",
        "outputId": "321576c3-c2ac-4197-b188-4155911a6c4e"
      },
      "outputs": [
        {
          "output_type": "execute_result",
          "data": {
            "text/plain": [
              "Index(['Name', 'GW', 'FPL position', 'Min', 'Gls', 'Ast', 'Sh', 'SoT', 'xG',\n",
              "       'npxG', 'xAG', 'SCA', 'GCA', 'CS', 'CrdY', 'CrdR', 'Opp rating',\n",
              "       'Team Score', 'Opp Score', 'Was Home', 'FPL'],\n",
              "      dtype='object')"
            ]
          },
          "metadata": {},
          "execution_count": 60
        }
      ],
      "source": [
        "df.columns"
      ]
    },
    {
      "cell_type": "code",
      "execution_count": 61,
      "id": "c301df86-7098-4f5f-adad-58f5de13e700",
      "metadata": {
        "colab": {
          "base_uri": "https://localhost:8080/"
        },
        "id": "c301df86-7098-4f5f-adad-58f5de13e700",
        "outputId": "02fdffc8-6720-49e8-af39-592ec4f4cbb0"
      },
      "outputs": [
        {
          "output_type": "execute_result",
          "data": {
            "text/plain": [
              "array(['MID', 'FWD', 'DEF', 'GK'], dtype=object)"
            ]
          },
          "metadata": {},
          "execution_count": 61
        }
      ],
      "source": [
        "df[\"FPL position\"].unique()"
      ]
    },
    {
      "cell_type": "markdown",
      "id": "6e4319b4-355b-4121-a0ed-e6cbbdaf93a6",
      "metadata": {
        "id": "6e4319b4-355b-4121-a0ed-e6cbbdaf93a6"
      },
      "source": [
        "# DF to DataLoader"
      ]
    },
    {
      "cell_type": "code",
      "execution_count": 62,
      "id": "d87f8b66-cd79-4fd9-a0eb-a4d229912268",
      "metadata": {
        "id": "d87f8b66-cd79-4fd9-a0eb-a4d229912268"
      },
      "outputs": [],
      "source": [
        "# gk, def, mid, fwd\n",
        "df_gk = df[df[\"FPL position\"] == \"GK\"]\n",
        "df_def = df[df[\"FPL position\"] == \"DEF\"]\n",
        "df_mid = df[df[\"FPL position\"] == \"MID\"]\n",
        "df_fwd = df[df[\"FPL position\"] == \"FWD\"]"
      ]
    },
    {
      "cell_type": "code",
      "source": [
        "df_gk.iloc[0]"
      ],
      "metadata": {
        "colab": {
          "base_uri": "https://localhost:8080/"
        },
        "id": "hu4VokpM5ocm",
        "outputId": "0e331f40-789d-409a-a47b-97e821ce2781"
      },
      "id": "hu4VokpM5ocm",
      "execution_count": 63,
      "outputs": [
        {
          "output_type": "execute_result",
          "data": {
            "text/plain": [
              "Name                Alisson\n",
              "GW                        1\n",
              "FPL position             GK\n",
              "Min                    90.0\n",
              "Gls                     0.0\n",
              "Ast                     0.0\n",
              "Sh                      0.0\n",
              "SoT                     0.0\n",
              "xG                      0.0\n",
              "npxG                    0.0\n",
              "xAG                     0.0\n",
              "SCA                     0.0\n",
              "GCA                     0.0\n",
              "CS                      0.0\n",
              "CrdY                    0.0\n",
              "CrdR                    0.0\n",
              "Opp rating      1636.164673\n",
              "Team Score              2.0\n",
              "Opp Score               2.0\n",
              "Was Home                0.0\n",
              "FPL                     2.0\n",
              "Name: 196, dtype: object"
            ]
          },
          "metadata": {},
          "execution_count": 63
        }
      ]
    },
    {
      "cell_type": "code",
      "execution_count": 64,
      "id": "b0dabde8-fb92-4607-85c2-dd0dd141fca1",
      "metadata": {
        "colab": {
          "base_uri": "https://localhost:8080/"
        },
        "id": "b0dabde8-fb92-4607-85c2-dd0dd141fca1",
        "outputId": "cb547eec-56af-428e-de62-344bd58c7646"
      },
      "outputs": [
        {
          "output_type": "execute_result",
          "data": {
            "text/plain": [
              "(5771, 21)"
            ]
          },
          "metadata": {},
          "execution_count": 64
        }
      ],
      "source": [
        "df.shape"
      ]
    },
    {
      "cell_type": "code",
      "execution_count": 65,
      "id": "75b6dda5-b74e-4ca8-a5e9-ac338cea6f20",
      "metadata": {
        "id": "75b6dda5-b74e-4ca8-a5e9-ac338cea6f20"
      },
      "outputs": [],
      "source": [
        "def init_index_table(df):\n",
        "    names = df[\"Name\"].unique()\n",
        "    result_dict = {}\n",
        "    \n",
        "    current_index = 0\n",
        "    player_index = 0\n",
        "    \n",
        "    for name in names:\n",
        "        sample_index = 0\n",
        "        samples_for_names = df[df[\"Name\"] == name].shape[0] - FIS\n",
        "        for i in range(samples_for_names):\n",
        "            result_dict[current_index] = [player_index, sample_index]\n",
        "            current_index += 1\n",
        "            sample_index += 1\n",
        "        player_index += 1\n",
        "    \n",
        "    return result_dict"
      ]
    },
    {
      "cell_type": "code",
      "execution_count": 66,
      "id": "15fc117a-0b9a-442e-a653-530a52486ff0",
      "metadata": {
        "id": "15fc117a-0b9a-442e-a653-530a52486ff0"
      },
      "outputs": [],
      "source": [
        "class PandasDataset(Dataset):\n",
        "    def __init__(self, dataframe):\n",
        "        self.dataframe = dataframe\n",
        "        self.names = dataframe[\"Name\"].unique()\n",
        "        self.index_table = init_index_table(dataframe)\n",
        "        self.transform = torchvision.transforms.Compose([torchvision.transforms.ToTensor()])\n",
        "\n",
        "    def __len__(self):\n",
        "        length = 0\n",
        "        for name in self.names:\n",
        "            length += (self.dataframe[self.dataframe[\"Name\"] == name].shape[0] - FIS)\n",
        "        return length\n",
        "\n",
        "    def __getitem__(self, idx):\n",
        "        # print(idx)\n",
        "        player_id, sample_id = self.index_table[idx]\n",
        "        name = self.names[player_id]\n",
        "        # print(name)\n",
        "        features = self.dataframe[self.dataframe[\"Name\"] == name]\n",
        "        # print(self.dataframe[self.dataframe[\"Name\"] == name])\n",
        "        # print(features[sample_id: (sample_id + 4)])\n",
        "        features = features[sample_id: (sample_id + FIS)].drop(columns=info).values[:, :-1]\n",
        "        # print(features)\n",
        "        # print(features)\n",
        "        # print(type(features))\n",
        "        # print(self.dataframe[self.dataframe[\"Name\"] == name].values[:, -1])\n",
        "        # print(type(self.dataframe[self.dataframe[\"Name\"] == name].values[:, -1]))\n",
        "        # target = self.dataframe[self.dataframe[\"Name\"] == name].values[:, -1]\n",
        "        # target = target.astype(np.float32)\n",
        "        # target = torch.from_numpy(target)\n",
        "        target = np.float32(self.dataframe[self.dataframe[\"Name\"] == name].values[(sample_id + FIS), -1])\n",
        "        # print(name, idx, target, sample_id)\n",
        "        # print(type(target))\n",
        "        return features, target"
      ]
    },
    {
      "cell_type": "code",
      "execution_count": 67,
      "id": "c6f37972-8a77-4ce4-8498-19cab99c4074",
      "metadata": {
        "id": "c6f37972-8a77-4ce4-8498-19cab99c4074"
      },
      "outputs": [],
      "source": [
        "# df[[\"Name\", \"FPL position\"]].drop_duplicates().head(20)"
      ]
    },
    {
      "cell_type": "code",
      "execution_count": 68,
      "id": "430e5e7d-972d-4eee-9bc0-a6f43ed05e7b",
      "metadata": {
        "id": "430e5e7d-972d-4eee-9bc0-a6f43ed05e7b"
      },
      "outputs": [],
      "source": [
        "dataset = PandasDataset(df)\n",
        "dataset_gk = PandasDataset(df_gk)\n",
        "dataset_def = PandasDataset(df_def)\n",
        "dataset_mid = PandasDataset(df_mid)\n",
        "dataset_fwd = PandasDataset(df_fwd)"
      ]
    },
    {
      "cell_type": "code",
      "execution_count": 69,
      "id": "56a36688-989a-4840-8428-5180a9c74d46",
      "metadata": {
        "id": "56a36688-989a-4840-8428-5180a9c74d46"
      },
      "outputs": [],
      "source": [
        "# dataset.__getitem__(0)"
      ]
    },
    {
      "cell_type": "code",
      "execution_count": 70,
      "id": "511603b4-1b28-4cc6-9847-1eb47a26493a",
      "metadata": {
        "id": "511603b4-1b28-4cc6-9847-1eb47a26493a"
      },
      "outputs": [],
      "source": [
        "# dataset_fwd.__getitem__(10)"
      ]
    },
    {
      "cell_type": "code",
      "execution_count": 71,
      "id": "4ce0452d-89c3-4ec0-bfcd-79ae7587e36b",
      "metadata": {
        "colab": {
          "base_uri": "https://localhost:8080/"
        },
        "id": "4ce0452d-89c3-4ec0-bfcd-79ae7587e36b",
        "outputId": "4bbae3a1-42c9-4bc1-d00b-280e21ab6764"
      },
      "outputs": [
        {
          "output_type": "execute_result",
          "data": {
            "text/plain": [
              "305"
            ]
          },
          "metadata": {},
          "execution_count": 71
        }
      ],
      "source": [
        "dataset_gk.__len__()"
      ]
    },
    {
      "cell_type": "code",
      "execution_count": 72,
      "id": "dad3baac-8574-4dd0-af3c-f2d544295f67",
      "metadata": {
        "colab": {
          "base_uri": "https://localhost:8080/"
        },
        "id": "dad3baac-8574-4dd0-af3c-f2d544295f67",
        "outputId": "d0681a16-2264-49db-9929-36715f4d83fe"
      },
      "outputs": [
        {
          "output_type": "execute_result",
          "data": {
            "text/plain": [
              "1137"
            ]
          },
          "metadata": {},
          "execution_count": 72
        }
      ],
      "source": [
        "dataset_def.__len__()"
      ]
    },
    {
      "cell_type": "code",
      "execution_count": 73,
      "id": "65a42e4a-3f39-43bd-843b-d0225a124342",
      "metadata": {
        "colab": {
          "base_uri": "https://localhost:8080/"
        },
        "id": "65a42e4a-3f39-43bd-843b-d0225a124342",
        "outputId": "f9b39d48-88d5-4c39-d8de-9b8220c00075"
      },
      "outputs": [
        {
          "output_type": "execute_result",
          "data": {
            "text/plain": [
              "1469"
            ]
          },
          "metadata": {},
          "execution_count": 73
        }
      ],
      "source": [
        "dataset_mid.__len__()"
      ]
    },
    {
      "cell_type": "code",
      "execution_count": 74,
      "id": "89def15b-7eec-492a-a773-e87ebe22ea18",
      "metadata": {
        "colab": {
          "base_uri": "https://localhost:8080/"
        },
        "id": "89def15b-7eec-492a-a773-e87ebe22ea18",
        "outputId": "d8e4b208-fe7e-4369-8e61-d13472b3dfa0"
      },
      "outputs": [
        {
          "output_type": "execute_result",
          "data": {
            "text/plain": [
              "356"
            ]
          },
          "metadata": {},
          "execution_count": 74
        }
      ],
      "source": [
        "dataset_fwd.__len__()"
      ]
    },
    {
      "cell_type": "code",
      "execution_count": 75,
      "id": "fd3a4639-a6c7-40bf-ad2f-72569dfeac42",
      "metadata": {
        "id": "fd3a4639-a6c7-40bf-ad2f-72569dfeac42"
      },
      "outputs": [],
      "source": [
        "batch_size = 16"
      ]
    },
    {
      "cell_type": "code",
      "execution_count": 76,
      "id": "3ef8a258-452d-4ce9-b44f-3370fa58f750",
      "metadata": {
        "id": "3ef8a258-452d-4ce9-b44f-3370fa58f750"
      },
      "outputs": [],
      "source": [
        "dataloader = DataLoader(dataset, batch_size=batch_size, shuffle=False)\n",
        "dataloader_gk = DataLoader(dataset_gk, batch_size=batch_size, shuffle=False)\n",
        "dataloader_def = DataLoader(dataset_def, batch_size=batch_size, shuffle=False)\n",
        "dataloader_mid = DataLoader(dataset_mid, batch_size=batch_size, shuffle=False)\n",
        "dataloader_fwd = DataLoader(dataset_fwd, batch_size=batch_size, shuffle=False)"
      ]
    },
    {
      "cell_type": "code",
      "execution_count": 77,
      "id": "129bf3ea-1303-4d3b-b577-573735ae78df",
      "metadata": {
        "id": "129bf3ea-1303-4d3b-b577-573735ae78df"
      },
      "outputs": [],
      "source": [
        "# next(iter(dataloader_mid))"
      ]
    },
    {
      "cell_type": "code",
      "execution_count": 78,
      "id": "066d4f81-bc84-4a58-9bcd-fcaa6cfbeb4c",
      "metadata": {
        "id": "066d4f81-bc84-4a58-9bcd-fcaa6cfbeb4c"
      },
      "outputs": [],
      "source": [
        "# next(iter(dataloader))[1]"
      ]
    },
    {
      "cell_type": "markdown",
      "id": "44290e57-5279-400f-bd5d-8bcbf0db2f99",
      "metadata": {
        "id": "44290e57-5279-400f-bd5d-8bcbf0db2f99"
      },
      "source": [
        "# LSTM Model"
      ]
    },
    {
      "cell_type": "code",
      "execution_count": 79,
      "id": "95c48496-4a3d-4dd6-a789-abb04d921dc6",
      "metadata": {
        "id": "95c48496-4a3d-4dd6-a789-abb04d921dc6"
      },
      "outputs": [],
      "source": [
        "class LSTMNetwork(nn.Module):\n",
        "    def __init__(self, input_size, hidden_size, num_layers, output_size, dropout=0.2):\n",
        "        super(LSTMNetwork, self).__init__()\n",
        "        self.lstm = nn.LSTM(input_size, hidden_size, num_layers, dropout=dropout)\n",
        "        self.fc = nn.Linear(hidden_size, output_size)\n",
        "\n",
        "    def forward(self, x):\n",
        "        x = torch.transpose(x, 0, 1)\n",
        "        # x = x.view(-1, batch_size)\n",
        "        # x = torch.transpose(x, 0, 1)\n",
        "        # print(\"FOR\", x.shape)\n",
        "        # print(x.shape)\n",
        "        # print(x.shape)\n",
        "        out, _ = self.lstm(x)\n",
        "        # print(out.shape)\n",
        "        out = self.fc(out[-1])\n",
        "        return out"
      ]
    },
    {
      "cell_type": "code",
      "execution_count": 80,
      "id": "231626de-b520-4d08-a1c8-eeca06133061",
      "metadata": {
        "colab": {
          "base_uri": "https://localhost:8080/"
        },
        "id": "231626de-b520-4d08-a1c8-eeca06133061",
        "outputId": "7de57c80-3e72-47b8-e4cd-3ee1cbf3f98b"
      },
      "outputs": [
        {
          "output_type": "execute_result",
          "data": {
            "text/plain": [
              "205"
            ]
          },
          "metadata": {},
          "execution_count": 80
        }
      ],
      "source": [
        "len(dataloader)"
      ]
    },
    {
      "cell_type": "markdown",
      "id": "ca697492-5632-47ca-b7ef-7ef7f83f483e",
      "metadata": {
        "id": "ca697492-5632-47ca-b7ef-7ef7f83f483e"
      },
      "source": [
        "# Training loops"
      ]
    },
    {
      "cell_type": "code",
      "execution_count": 81,
      "id": "3e5d6365-866b-497d-9f3d-fff942c03266",
      "metadata": {
        "id": "3e5d6365-866b-497d-9f3d-fff942c03266"
      },
      "outputs": [],
      "source": [
        "criterion = nn.MSELoss()"
      ]
    },
    {
      "cell_type": "code",
      "execution_count": 82,
      "id": "3fc8e104-6c5d-4e09-a238-73e06346286b",
      "metadata": {
        "id": "3fc8e104-6c5d-4e09-a238-73e06346286b"
      },
      "outputs": [],
      "source": [
        "def train_net(net, num_epochs, dataloader, optimizer):\n",
        "    loss_history = []\n",
        "    for epoch in range(num_epochs):\n",
        "        running_loss = 0\n",
        "        for i, (inputs, targets) in enumerate(dataloader):\n",
        "            inputs = torch.flatten(inputs, 1, 2)\n",
        "            inputs = inputs.unsqueeze(2).to(device)\n",
        "            targets = targets.to(device)\n",
        "            # print(\"INPUTS\", inputs.shape)\n",
        "            # print(\"TARGETS\", targets.shape)\n",
        "            # print(targets)\n",
        "            optimizer.zero_grad()\n",
        "            outputs = net(inputs).flatten().to(device)\n",
        "            # print(\"OUTPUTS\", outputs.shape)\n",
        "            loss = criterion(outputs, targets)\n",
        "            running_loss += loss.item()\n",
        "            loss.backward()\n",
        "            optimizer.step()\n",
        "\n",
        "        loss_history.append(running_loss / len(dataloader))\n",
        "        if epoch % 5 == 0:\n",
        "            print(f'Epoch {epoch} Loss: {running_loss / len(dataloader)}')\n",
        "    \n",
        "    return loss_history"
      ]
    },
    {
      "cell_type": "code",
      "execution_count": 83,
      "id": "c29562d5-abfe-4028-b09a-78d9fbdc5c64",
      "metadata": {
        "id": "c29562d5-abfe-4028-b09a-78d9fbdc5c64"
      },
      "outputs": [],
      "source": [
        "def plot_loss_history(loss_history):\n",
        "    plt.plot(loss_history)\n",
        "    plt.xlabel('Epoch')\n",
        "    plt.ylabel('Loss')\n",
        "    plt.show()"
      ]
    },
    {
      "cell_type": "markdown",
      "id": "e6a2f684-5906-4cf1-8cd4-6f342fb3daf5",
      "metadata": {
        "id": "e6a2f684-5906-4cf1-8cd4-6f342fb3daf5"
      },
      "source": [
        "## Training loop - general net"
      ]
    },
    {
      "cell_type": "code",
      "execution_count": 84,
      "id": "8d1ac896-0465-4422-b291-a13f32f3d3b5",
      "metadata": {
        "colab": {
          "base_uri": "https://localhost:8080/"
        },
        "id": "8d1ac896-0465-4422-b291-a13f32f3d3b5",
        "outputId": "90825beb-f74a-4bcc-e553-e8b72eeb6109"
      },
      "outputs": [
        {
          "output_type": "stream",
          "name": "stdout",
          "text": [
            "Epoch 0 Loss: 3.8254568398725697\n",
            "Epoch 5 Loss: 3.6719020780266787\n",
            "Epoch 10 Loss: 3.6734810912027593\n",
            "Epoch 15 Loss: 3.672873644130986\n",
            "Epoch 20 Loss: 3.671972648399632\n",
            "Epoch 25 Loss: 3.670287078691692\n",
            "CPU times: user 13min 1s, sys: 3.06 s, total: 13min 4s\n",
            "Wall time: 13min 6s\n"
          ]
        }
      ],
      "source": [
        "%%time\n",
        "net = LSTMNetwork(1, 20, 2, 1, dropout=0.4).to(device)\n",
        "optimizer = optim.Adam(net.parameters(), lr=0.005)\n",
        "loss_history = train_net(net, 30, dataloader, optimizer)"
      ]
    },
    {
      "cell_type": "code",
      "execution_count": 85,
      "id": "ac88d75b-3cb0-4747-9efe-c498dd2efdd3",
      "metadata": {
        "colab": {
          "base_uri": "https://localhost:8080/",
          "height": 279
        },
        "id": "ac88d75b-3cb0-4747-9efe-c498dd2efdd3",
        "outputId": "76414599-4707-4015-890f-11aaa82b5291"
      },
      "outputs": [
        {
          "output_type": "display_data",
          "data": {
            "text/plain": [
              "<Figure size 432x288 with 1 Axes>"
            ],
            "image/png": "[encoded data removed]"
          },
          "metadata": {
            "needs_background": "light"
          }
        }
      ],
      "source": [
        "plot_loss_history(loss_history)"
      ]
    },
    {
      "cell_type": "markdown",
      "id": "8e1645fc-dd44-4891-a0db-8686d1ac588a",
      "metadata": {
        "id": "8e1645fc-dd44-4891-a0db-8686d1ac588a"
      },
      "source": [
        "## Training loop - goalkeeper net"
      ]
    },
    {
      "cell_type": "code",
      "source": [
        "net_gk = LSTMNetwork(1, 20, 2, 1, dropout=0.4).to(device)"
      ],
      "metadata": {
        "id": "p_HrS0-WL5oC"
      },
      "id": "p_HrS0-WL5oC",
      "execution_count": 86,
      "outputs": []
    },
    {
      "cell_type": "code",
      "execution_count": 87,
      "id": "85757dc2-113a-4a46-b17f-600293d87a90",
      "metadata": {
        "colab": {
          "base_uri": "https://localhost:8080/"
        },
        "id": "85757dc2-113a-4a46-b17f-600293d87a90",
        "outputId": "dee1ea08-3120-4a97-f869-05b3fefca5fc"
      },
      "outputs": [
        {
          "output_type": "stream",
          "name": "stdout",
          "text": [
            "Epoch 0 Loss: 2.034939735382795\n",
            "CPU times: user 12.3 s, sys: 54.8 ms, total: 12.3 s\n",
            "Wall time: 12.4 s\n"
          ]
        }
      ],
      "source": [
        "%%time\n",
        "optimizer_gk = optim.Adam(net_gk.parameters(), lr=0.01)\n",
        "loss_history_gk = train_net(net_gk, 5, dataloader_gk, optimizer_gk)"
      ]
    },
    {
      "cell_type": "code",
      "execution_count": 88,
      "id": "8ff0d12f-9099-4d9d-9d10-49dd81ec6a1c",
      "metadata": {
        "colab": {
          "base_uri": "https://localhost:8080/",
          "height": 279
        },
        "id": "8ff0d12f-9099-4d9d-9d10-49dd81ec6a1c",
        "outputId": "dd58945d-2eaa-488d-cc61-8ccede5aaaab"
      },
      "outputs": [
        {
          "output_type": "display_data",
          "data": {
            "text/plain": [
              "<Figure size 432x288 with 1 Axes>"
            ],
            "image/png": "[encoded data removed]"
          },
          "metadata": {
            "needs_background": "light"
          }
        }
      ],
      "source": [
        "plot_loss_history(loss_history_gk)"
      ]
    },
    {
      "cell_type": "markdown",
      "id": "a11943ae-8c43-4169-91a8-fd51445ac5b4",
      "metadata": {
        "id": "a11943ae-8c43-4169-91a8-fd51445ac5b4"
      },
      "source": [
        "## Training loop - defender net"
      ]
    },
    {
      "cell_type": "code",
      "source": [
        "net_def = LSTMNetwork(1, 20, 2, 1, dropout=0.4).to(device)"
      ],
      "metadata": {
        "id": "rcHl1HFoL3uy"
      },
      "id": "rcHl1HFoL3uy",
      "execution_count": 89,
      "outputs": []
    },
    {
      "cell_type": "code",
      "execution_count": 90,
      "id": "19b30491-7cf8-4572-abe0-388cb58de9b8",
      "metadata": {
        "colab": {
          "base_uri": "https://localhost:8080/"
        },
        "id": "19b30491-7cf8-4572-abe0-388cb58de9b8",
        "outputId": "355a90b0-2c06-44eb-f11f-cb4d0d0b691f"
      },
      "outputs": [
        {
          "output_type": "stream",
          "name": "stdout",
          "text": [
            "Epoch 0 Loss: 1.9098590057757165\n",
            "CPU times: user 42.6 s, sys: 160 ms, total: 42.8 s\n",
            "Wall time: 42.8 s\n"
          ]
        }
      ],
      "source": [
        "%%time\n",
        "optimizer_def = optim.Adam(net_def.parameters(), lr=0.005)\n",
        "loss_history_def = train_net(net_def, 5, dataloader_def, optimizer_def)"
      ]
    },
    {
      "cell_type": "code",
      "execution_count": 91,
      "id": "a6ebe5b1-712d-46c4-a773-9782a9ae8689",
      "metadata": {
        "colab": {
          "base_uri": "https://localhost:8080/",
          "height": 279
        },
        "id": "a6ebe5b1-712d-46c4-a773-9782a9ae8689",
        "outputId": "66d35011-ec39-4b8f-e19d-b8581cdd81a7"
      },
      "outputs": [
        {
          "output_type": "display_data",
          "data": {
            "text/plain": [
              "<Figure size 432x288 with 1 Axes>"
            ],
            "image/png": "[encoded data removed]"
          },
          "metadata": {
            "needs_background": "light"
          }
        }
      ],
      "source": [
        "plot_loss_history(loss_history_def)"
      ]
    },
    {
      "cell_type": "markdown",
      "id": "63c27abd-c720-4dff-bfe4-ad20a3d0a48e",
      "metadata": {
        "id": "63c27abd-c720-4dff-bfe4-ad20a3d0a48e"
      },
      "source": [
        "## Training loop - midfielder net"
      ]
    },
    {
      "cell_type": "code",
      "source": [
        "net_mid = LSTMNetwork(1, 20, 2, 1, dropout=0.4).to(device)"
      ],
      "metadata": {
        "id": "MmN-IwSvL1vO"
      },
      "id": "MmN-IwSvL1vO",
      "execution_count": 92,
      "outputs": []
    },
    {
      "cell_type": "code",
      "execution_count": 93,
      "id": "154a2ea8-d2f8-48c3-86fd-278be6c26475",
      "metadata": {
        "colab": {
          "base_uri": "https://localhost:8080/"
        },
        "id": "154a2ea8-d2f8-48c3-86fd-278be6c26475",
        "outputId": "b42fc9d3-eb1c-4fc0-e3f1-de9822ddccff"
      },
      "outputs": [
        {
          "output_type": "stream",
          "name": "stdout",
          "text": [
            "Epoch 0 Loss: 5.191942703464757\n",
            "Epoch 5 Loss: 4.728771607513013\n",
            "Epoch 10 Loss: 4.725838302270226\n",
            "Epoch 15 Loss: 4.726539453734523\n",
            "Epoch 20 Loss: 4.728411800835444\n",
            "Epoch 25 Loss: 4.7267072278520335\n",
            "Epoch 30 Loss: 4.7268379077963205\n",
            "Epoch 35 Loss: 4.728862484512121\n",
            "Epoch 40 Loss: 4.727018461927123\n",
            "Epoch 45 Loss: 4.72586067409619\n",
            "Epoch 50 Loss: 4.727801024265911\n",
            "Epoch 55 Loss: 4.72617189132649\n",
            "Epoch 60 Loss: 4.72775409338267\n",
            "Epoch 65 Loss: 4.728118963863539\n",
            "Epoch 70 Loss: 4.72818720470304\n",
            "Epoch 75 Loss: 4.7280812710523605\n",
            "Epoch 80 Loss: 4.728042306459469\n",
            "Epoch 85 Loss: 4.728009541397509\n",
            "Epoch 90 Loss: 4.7278144119874295\n",
            "Epoch 95 Loss: 4.727738788594371\n",
            "CPU times: user 17min 17s, sys: 3.67 s, total: 17min 21s\n",
            "Wall time: 17min 23s\n"
          ]
        }
      ],
      "source": [
        "%%time\n",
        "optimizer_mid = optim.Adam(net_mid.parameters(), lr=0.005)\n",
        "loss_history_mid = train_net(net_mid, 100, dataloader_mid, optimizer_mid)"
      ]
    },
    {
      "cell_type": "code",
      "execution_count": 94,
      "id": "fff0d3ef-bb1d-4d13-a192-3d76f129914f",
      "metadata": {
        "colab": {
          "base_uri": "https://localhost:8080/",
          "height": 279
        },
        "id": "fff0d3ef-bb1d-4d13-a192-3d76f129914f",
        "outputId": "b0fbdbca-2282-443c-c253-9cf38a2a8183"
      },
      "outputs": [
        {
          "output_type": "display_data",
          "data": {
            "text/plain": [
              "<Figure size 432x288 with 1 Axes>"
            ],
            "image/png": "[encoded data removed]"
          },
          "metadata": {
            "needs_background": "light"
          }
        }
      ],
      "source": [
        "plot_loss_history(loss_history_mid)"
      ]
    },
    {
      "cell_type": "markdown",
      "id": "01bca3ac-0da4-41eb-a3bb-5c4b14df2cc0",
      "metadata": {
        "id": "01bca3ac-0da4-41eb-a3bb-5c4b14df2cc0"
      },
      "source": [
        "## Training loop - forward net"
      ]
    },
    {
      "cell_type": "code",
      "source": [
        "net_fwd = LSTMNetwork(1, 20, 2, 1, dropout=0.4).to(device)"
      ],
      "metadata": {
        "id": "NTwS6zsfLxQ2"
      },
      "id": "NTwS6zsfLxQ2",
      "execution_count": 95,
      "outputs": []
    },
    {
      "cell_type": "code",
      "execution_count": null,
      "id": "2bcb7afb-f3f1-4a81-bbea-6da2b512967d",
      "metadata": {
        "colab": {
          "base_uri": "https://localhost:8080/"
        },
        "id": "2bcb7afb-f3f1-4a81-bbea-6da2b512967d",
        "outputId": "13cb4b48-4494-4db5-b82b-4a59c520c4b3"
      },
      "outputs": [
        {
          "output_type": "stream",
          "name": "stdout",
          "text": [
            "Epoch 0 Loss: 11.747184369875038\n",
            "Epoch 5 Loss: 8.334213928036068\n",
            "Epoch 10 Loss: 8.34347107876902\n",
            "Epoch 15 Loss: 8.341058762177177\n",
            "Epoch 20 Loss: 8.326221305391062\n",
            "Epoch 25 Loss: 8.347237897955853\n",
            "Epoch 30 Loss: 8.336912463540616\n",
            "Epoch 35 Loss: 8.354683093402697\n",
            "Epoch 40 Loss: 8.33936059474945\n",
            "Epoch 45 Loss: 8.323990824429885\n",
            "Epoch 50 Loss: 8.366993520570839\n",
            "Epoch 55 Loss: 7.992635533861492\n",
            "Epoch 60 Loss: 8.253067586732948\n",
            "Epoch 65 Loss: 8.28649952618972\n",
            "Epoch 70 Loss: 8.31243963604388\n",
            "Epoch 75 Loss: 8.359360223231109\n",
            "Epoch 80 Loss: 8.340004464854365\n"
          ]
        }
      ],
      "source": [
        "%%time\n",
        "optimizer_fwd = optim.Adam(net_fwd.parameters(), lr=0.005)\n",
        "loss_history_fwd = train_net(net_fwd, 500, dataloader_fwd, optimizer_fwd)"
      ]
    },
    {
      "cell_type": "code",
      "execution_count": null,
      "id": "b4915930-85c2-475e-8af8-820f1d32f5c1",
      "metadata": {
        "id": "b4915930-85c2-475e-8af8-820f1d32f5c1"
      },
      "outputs": [],
      "source": [
        "plot_loss_history(loss_history_fwd)"
      ]
    },
    {
      "cell_type": "markdown",
      "source": [
        "# Metrics"
      ],
      "metadata": {
        "id": "rN2vouO7FU4A"
      },
      "id": "rN2vouO7FU4A"
    },
    {
      "cell_type": "code",
      "source": [
        "# general model\n"
      ],
      "metadata": {
        "id": "ffVz1rlTFUbj"
      },
      "id": "ffVz1rlTFUbj",
      "execution_count": null,
      "outputs": []
    },
    {
      "cell_type": "code",
      "source": [],
      "metadata": {
        "id": "wRieKclSFUe4"
      },
      "id": "wRieKclSFUe4",
      "execution_count": null,
      "outputs": []
    },
    {
      "cell_type": "markdown",
      "source": [
        "# Saving models to files"
      ],
      "metadata": {
        "id": "aEg01NBwVZu8"
      },
      "id": "aEg01NBwVZu8"
    },
    {
      "cell_type": "code",
      "source": [
        "# general model\n",
        "torch.save(net.state_dict(), 'models/lstm_general.pt')\n",
        "\n",
        "# positional models\n",
        "torch.save(net_gk.state_dict(), 'models/lstm_gk.pt')\n",
        "torch.save(net_def.state_dict(), 'models/lstm_def.pt')\n",
        "torch.save(net_mid.state_dict(), 'models/lstm_mid.pt')\n",
        "torch.save(net_fwd.state_dict(), 'models/lstm_fwd.pt')"
      ],
      "metadata": {
        "id": "qHSzIWHFVbX3"
      },
      "id": "qHSzIWHFVbX3",
      "execution_count": null,
      "outputs": []
    },
    {
      "cell_type": "markdown",
      "id": "222c6cfd-5148-4793-a9f7-6dfa76115a68",
      "metadata": {
        "id": "222c6cfd-5148-4793-a9f7-6dfa76115a68"
      },
      "source": [
        "# Predictions - general model"
      ]
    },
    {
      "cell_type": "code",
      "execution_count": null,
      "id": "3c0aef7e-f7d8-4337-8cd8-f88afab90872",
      "metadata": {
        "id": "3c0aef7e-f7d8-4337-8cd8-f88afab90872"
      },
      "outputs": [],
      "source": [
        "def generate_predictions(dataloader_pos, dataset_pos, net_pos, df_original):\n",
        "    index = 0\n",
        "    predictions_pos = []\n",
        "    for inputs, target in dataloader_pos:\n",
        "        inputs = torch.flatten(inputs, 1, 2)\n",
        "        inputs = inputs.unsqueeze(2).to(device)\n",
        "        # print(\"INPUTS\", inputs)\n",
        "        # print(inputs)\n",
        "        outputs = net_pos(inputs).to(device)\n",
        "        # print(\"OUTPUTS\", outputs)\n",
        "        for output in outputs:\n",
        "            player_id, sample_id = dataset_pos.index_table[index]\n",
        "            name = dataset_pos.names[player_id]\n",
        "            df_row = df_original[df_original[\"Name\"] == name].iloc[sample_id + FIS]\n",
        "            df_gw = df_row[\"GW\"]\n",
        "            df_opp = df_row[\"Opponent\"]\n",
        "            points = round(output.item(), 2)\n",
        "            gw = sample_id + FIS + 1 # wrong\n",
        "            predictions_pos.append(df_row)\n",
        "            # df.loc[(df[\"Name\"] == name) & (df[\"GW\"] == gw), \"LSTM\"] = points\n",
        "            index += 1\n",
        "    \n",
        "    return predictions_pos"
      ]
    },
    {
      "cell_type": "code",
      "source": [
        "predictions = generate_predictions(dataloader, dataset, net, df_original)"
      ],
      "metadata": {
        "id": "ZOJBQIAXMqIV"
      },
      "id": "ZOJBQIAXMqIV",
      "execution_count": null,
      "outputs": []
    },
    {
      "cell_type": "code",
      "source": [
        "prediction_columns = [\"DF_GW\", \"DF_Opponent\", \"Name\", \"GW\", \"Points\"]"
      ],
      "metadata": {
        "id": "4oNphdyqzFsE"
      },
      "id": "4oNphdyqzFsE",
      "execution_count": null,
      "outputs": []
    },
    {
      "cell_type": "code",
      "execution_count": null,
      "id": "e6d3171e-f813-411c-ba7e-492163af5009",
      "metadata": {
        "id": "e6d3171e-f813-411c-ba7e-492163af5009"
      },
      "outputs": [],
      "source": [
        "# results sorted\n",
        "pd.DataFrame(predictions, columns=prediction_columns).sort_values(by=[\"Points\"], ascending = False).head(20)"
      ]
    },
    {
      "cell_type": "code",
      "execution_count": null,
      "id": "297cfbd4-0fbe-46b4-9fc4-d79eeaadf70d",
      "metadata": {
        "id": "297cfbd4-0fbe-46b4-9fc4-d79eeaadf70d"
      },
      "outputs": [],
      "source": [
        "# # appending results to original df\n",
        "# for df_gw, df_opp, name, gw, points in predictions:\n",
        "#     df_original.loc[(df_original[\"Name\"] == name) & (df[\"GW\"] == gw), \"LSTM\"] = points"
      ]
    },
    {
      "cell_type": "code",
      "execution_count": null,
      "id": "ce5882f0-aff6-4ae9-9cba-8b4e816bec07",
      "metadata": {
        "id": "ce5882f0-aff6-4ae9-9cba-8b4e816bec07"
      },
      "outputs": [],
      "source": [
        "df_original.to_csv(\"data/fpl_fbref_elo_lstm.csv\")"
      ]
    },
    {
      "cell_type": "markdown",
      "id": "07f29a9a-1341-4a6f-a3eb-10685dfb6b0d",
      "metadata": {
        "id": "07f29a9a-1341-4a6f-a3eb-10685dfb6b0d"
      },
      "source": [
        "# Predictions for each position"
      ]
    },
    {
      "cell_type": "markdown",
      "id": "a59960f5-efe3-453f-97de-8973cf73ee70",
      "metadata": {
        "id": "a59960f5-efe3-453f-97de-8973cf73ee70"
      },
      "source": [
        "## Goalkeepers"
      ]
    },
    {
      "cell_type": "code",
      "source": [
        "df_gk_original.iloc[0]"
      ],
      "metadata": {
        "id": "3anYhO1t3b6P"
      },
      "id": "3anYhO1t3b6P",
      "execution_count": null,
      "outputs": []
    },
    {
      "cell_type": "code",
      "execution_count": null,
      "id": "de13487b-b45b-43fb-9c94-9dc91033ddd9",
      "metadata": {
        "id": "de13487b-b45b-43fb-9c94-9dc91033ddd9"
      },
      "outputs": [],
      "source": [
        "predictions_gk = generate_predictions(dataloader_gk, dataset_gk, net_gk, df_gk_original)"
      ]
    },
    {
      "cell_type": "code",
      "execution_count": null,
      "id": "df13c078-9794-4a74-bafc-4826e352394d",
      "metadata": {
        "id": "df13c078-9794-4a74-bafc-4826e352394d"
      },
      "outputs": [],
      "source": [
        "# results sorted\n",
        "pd.DataFrame(predictions_gk, columns=prediction_columns).sort_values(by=[\"Points\"], ascending = False).head(20)"
      ]
    },
    {
      "cell_type": "markdown",
      "id": "809d11e1-257e-4fd0-905b-536f95dca4e5",
      "metadata": {
        "id": "809d11e1-257e-4fd0-905b-536f95dca4e5"
      },
      "source": [
        "## Defenders"
      ]
    },
    {
      "cell_type": "code",
      "execution_count": null,
      "id": "b67e50ec-26a2-44c2-8ef0-f7b841845ed4",
      "metadata": {
        "id": "b67e50ec-26a2-44c2-8ef0-f7b841845ed4"
      },
      "outputs": [],
      "source": [
        "predictions_def = generate_predictions(dataloader_def, dataset_def, net_def, df_def_original)"
      ]
    },
    {
      "cell_type": "code",
      "execution_count": null,
      "id": "098f83a8-cd7e-4d2b-8583-44f0f43ef1d7",
      "metadata": {
        "id": "098f83a8-cd7e-4d2b-8583-44f0f43ef1d7"
      },
      "outputs": [],
      "source": [
        "# results sorted\n",
        "pd.DataFrame(predictions_def, columns=prediction_columns).sort_values(by=[\"Points\"], ascending = False).head(20)"
      ]
    },
    {
      "cell_type": "markdown",
      "id": "e098be91-df44-4aba-b619-de4a11ad91db",
      "metadata": {
        "id": "e098be91-df44-4aba-b619-de4a11ad91db"
      },
      "source": [
        "## Midfielders"
      ]
    },
    {
      "cell_type": "code",
      "execution_count": null,
      "id": "37c5faa1-e7ba-4048-a3ae-39472de0e646",
      "metadata": {
        "id": "37c5faa1-e7ba-4048-a3ae-39472de0e646"
      },
      "outputs": [],
      "source": [
        "predictions_mid = generate_predictions(dataloader_mid, dataset_mid, net_mid, df_mid_original)"
      ]
    },
    {
      "cell_type": "code",
      "execution_count": null,
      "id": "a8a940bf-1f53-4130-831f-ad6010b92cef",
      "metadata": {
        "id": "a8a940bf-1f53-4130-831f-ad6010b92cef"
      },
      "outputs": [],
      "source": [
        "# results sorted\n",
        "pd.DataFrame(predictions_mid, columns=prediction_columns).sort_values(by=[\"Points\"], ascending = False).head(20)"
      ]
    },
    {
      "cell_type": "markdown",
      "id": "9921aabf-4769-4350-a3e5-bbaacd60b4d5",
      "metadata": {
        "id": "9921aabf-4769-4350-a3e5-bbaacd60b4d5"
      },
      "source": [
        "## Forwards"
      ]
    },
    {
      "cell_type": "code",
      "execution_count": null,
      "id": "ef689219-6923-4a23-88ea-0331a33eb2a3",
      "metadata": {
        "id": "ef689219-6923-4a23-88ea-0331a33eb2a3"
      },
      "outputs": [],
      "source": [
        "predictions_fwd = generate_predictions(dataloader_fwd, dataset_fwd, net_fwd, df_fwd_original)"
      ]
    },
    {
      "cell_type": "code",
      "execution_count": null,
      "id": "9d88c704-50eb-42c1-8b92-7008cdb8d83e",
      "metadata": {
        "id": "9d88c704-50eb-42c1-8b92-7008cdb8d83e"
      },
      "outputs": [],
      "source": [
        "# results sorted\n",
        "pd.DataFrame(predictions_fwd, columns=prediction_columns).sort_values(by=[\"Points\"], ascending = False).head(20)"
      ]
    },
    {
      "cell_type": "code",
      "execution_count": null,
      "id": "3ac8bbdb-979e-409d-8564-678cd5a3b968",
      "metadata": {
        "id": "3ac8bbdb-979e-409d-8564-678cd5a3b968"
      },
      "outputs": [],
      "source": []
    },
    {
      "cell_type": "code",
      "execution_count": null,
      "id": "43368445-5cc4-45c3-8d46-90935ab138fc",
      "metadata": {
        "id": "43368445-5cc4-45c3-8d46-90935ab138fc"
      },
      "outputs": [],
      "source": []
    },
    {
      "cell_type": "code",
      "execution_count": null,
      "id": "fa55a4ad-748a-4862-a02b-511bef68c9cb",
      "metadata": {
        "id": "fa55a4ad-748a-4862-a02b-511bef68c9cb"
      },
      "outputs": [],
      "source": []
    }
  ],
  "metadata": {
    "kernelspec": {
      "display_name": "Python 3 (ipykernel)",
      "language": "python",
      "name": "python3"
    },
    "language_info": {
      "codemirror_mode": {
        "name": "ipython",
        "version": 3
      },
      "file_extension": ".py",
      "mimetype": "text/x-python",
      "name": "python",
      "nbconvert_exporter": "python",
      "pygments_lexer": "ipython3",
      "version": "3.8.0"
    },
    "colab": {
      "provenance": []
    },
    "accelerator": "GPU",
    "gpuClass": "standard"
  },
  "nbformat": 4,
  "nbformat_minor": 5
}