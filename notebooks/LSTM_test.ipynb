{
  "cells": [
    {
      "cell_type": "markdown",
      "source": [
        "# Google Colab / Kaggle / PC"
      ],
      "metadata": {
        "id": "HQv7wn2lGRxJ"
      },
      "id": "HQv7wn2lGRxJ"
    },
    {
      "cell_type": "code",
      "source": [
        "mode = \"Colab\""
      ],
      "metadata": {
        "id": "lWcbiCoePjwh"
      },
      "id": "lWcbiCoePjwh",
      "execution_count": 1,
      "outputs": []
    },
    {
      "cell_type": "code",
      "source": [
        "import os\n",
        "\n",
        "if mode == \"Colab\":\n",
        "    from google.colab import drive\n",
        "    drive.mount('/content/gdrive')\n",
        "    os.chdir(\"/content/gdrive/My Drive/FPL_ML\")\n",
        "    TRAIN_PATH = \"data/final_dataset.csv\"\n",
        "if mode == \"PC\":\n",
        "    os.chdir(\"D:\\PulpitE\\FPL_ML\")\n",
        "    TRAIN_PATH = \"data/final_dataset.csv\"\n",
        "if mode == \"Kaggle\":\n",
        "    TRAIN_PATH = \"/kaggle/input/fpl-dataset/final_dataset.csv\""
      ],
      "metadata": {
        "colab": {
          "base_uri": "https://localhost:8080/"
        },
        "id": "iIMFBRbFGTex",
        "outputId": "6e6446e0-e28e-4708-8b62-7dcb5f573ecb"
      },
      "id": "iIMFBRbFGTex",
      "execution_count": 2,
      "outputs": [
        {
          "output_type": "stream",
          "name": "stdout",
          "text": [
            "Mounted at /content/gdrive\n"
          ]
        }
      ]
    },
    {
      "cell_type": "markdown",
      "id": "b403b39e-b749-4730-a880-75a6b9ddfe83",
      "metadata": {
        "id": "b403b39e-b749-4730-a880-75a6b9ddfe83"
      },
      "source": [
        "# Imports"
      ]
    },
    {
      "cell_type": "code",
      "execution_count": 3,
      "id": "1382f0d0-60a4-4f2a-b4ce-c54205b18d21",
      "metadata": {
        "id": "1382f0d0-60a4-4f2a-b4ce-c54205b18d21"
      },
      "outputs": [],
      "source": [
        "import pandas as pd\n",
        "\n",
        "import torch\n",
        "import torch.nn as nn\n",
        "\n",
        "import torchvision\n",
        "import torchvision.transforms\n",
        "from torchvision.transforms import ToTensor\n",
        "\n",
        "from torch.utils.data import Dataset, DataLoader\n",
        "import torch.optim as optim\n",
        "\n",
        "import matplotlib.pyplot as plt\n",
        "\n",
        "import numpy as np\n",
        "import random"
      ]
    },
    {
      "cell_type": "markdown",
      "id": "7dd9d155-95e4-4e3d-86ad-c46a6fbb5c95",
      "metadata": {
        "id": "7dd9d155-95e4-4e3d-86ad-c46a6fbb5c95"
      },
      "source": [
        "# Constants and seeds"
      ]
    },
    {
      "cell_type": "code",
      "execution_count": 4,
      "id": "7239f9ad-7a6d-4a3d-9da5-4bac972e1537",
      "metadata": {
        "id": "7239f9ad-7a6d-4a3d-9da5-4bac972e1537"
      },
      "outputs": [],
      "source": [
        "# FIXTURES_IN_SAMPLE\n",
        "FIS = 8\n",
        "\n",
        "# FIXTURES_FOR_PLAYER - minimal number of gameweeks required for a player\n",
        "FFP = 15\n",
        "\n",
        "FIRST_TRAIN_GW = 1\n",
        "LAST_TRAIN_GW = 20\n",
        "\n",
        "FIRST_VALID_GW = 21\n",
        "LAST_VALID_GW = 21\n",
        "\n",
        "# NEXT_GAMEWEEK = 22\n",
        "# LAST_GAMEWEEK = NEXT_GAMEWEEK - 1"
      ]
    },
    {
      "cell_type": "code",
      "execution_count": 5,
      "id": "2d44df04-be21-4e7b-aaa5-612a6210bd44",
      "metadata": {
        "id": "2d44df04-be21-4e7b-aaa5-612a6210bd44"
      },
      "outputs": [],
      "source": [
        "def set_all_seeds(seed):\n",
        "    os.environ[\"PL_GLOBAL_SEED\"] = str(seed)\n",
        "    random.seed(seed)\n",
        "    np.random.seed(seed)\n",
        "    torch.manual_seed(seed)\n",
        "    torch.cuda.manual_seed_all(seed)\n",
        "    torch.backends.cudnn.deterministic = True\n",
        "\n",
        "set_all_seeds(42)"
      ]
    },
    {
      "cell_type": "markdown",
      "id": "83206c3d-ea25-42ca-81df-c388d247ffe3",
      "metadata": {
        "id": "83206c3d-ea25-42ca-81df-c388d247ffe3"
      },
      "source": [
        "# Device"
      ]
    },
    {
      "cell_type": "code",
      "execution_count": 6,
      "id": "0a673f70-8843-4b1a-ad07-ccfea4306d84",
      "metadata": {
        "id": "0a673f70-8843-4b1a-ad07-ccfea4306d84"
      },
      "outputs": [],
      "source": [
        "device = torch.device(\"cuda\")\n",
        "# device = torch.device('mps')\n",
        "# device = torch.device('cpu')"
      ]
    },
    {
      "cell_type": "markdown",
      "id": "83fe6a68-8e90-42af-94c8-c886a1f95c77",
      "metadata": {
        "id": "83fe6a68-8e90-42af-94c8-c886a1f95c77"
      },
      "source": [
        "# Getting data and choosing features"
      ]
    },
    {
      "cell_type": "code",
      "execution_count": 7,
      "id": "4bb7008e-7daa-41ce-b71c-ff06abd53b86",
      "metadata": {
        "id": "4bb7008e-7daa-41ce-b71c-ff06abd53b86"
      },
      "outputs": [],
      "source": [
        "df = pd.read_csv('data/final_dataset.csv')"
      ]
    },
    {
      "cell_type": "code",
      "execution_count": 8,
      "id": "bc939518-2991-4de9-ae25-e0f986522243",
      "metadata": {
        "id": "bc939518-2991-4de9-ae25-e0f986522243"
      },
      "outputs": [],
      "source": [
        "# remembering original dataframes\n",
        "df_original = df\n",
        "\n",
        "df_gk_original = df[df[\"FPL position\"] == \"GK\"]\n",
        "df_def_original = df[df[\"FPL position\"] == \"DEF\"]\n",
        "df_mid_original = df[df[\"FPL position\"] == \"MID\"]\n",
        "df_fwd_original = df[df[\"FPL position\"] == \"FWD\"]"
      ]
    },
    {
      "cell_type": "code",
      "source": [
        "# df_original.columns"
      ],
      "metadata": {
        "id": "PWzStYOfoo2G"
      },
      "id": "PWzStYOfoo2G",
      "execution_count": 9,
      "outputs": []
    },
    {
      "cell_type": "code",
      "execution_count": 10,
      "id": "8e0c8995-bbf3-4bf2-9123-e6b35c6b0cd8",
      "metadata": {
        "id": "8e0c8995-bbf3-4bf2-9123-e6b35c6b0cd8"
      },
      "outputs": [],
      "source": [
        "info = [\"Name\", \"GW\", \"FPL position\"]\n",
        "other = [\"LSTM\"]\n",
        "features = [\"Min\", \"Gls\", \"Ast\", \"Sh\", \"SoT\", \"xG\", \"npxG\", \"xAG\", \"SCA\", \"GCA\", \"CS\", \"CrdY\", \"CrdR\", \"Opp rating\", \"Team Score\", \"Opp Score\", \"Was Home\"]\n",
        "to_predict = [\"Total Points\"]"
      ]
    },
    {
      "cell_type": "code",
      "execution_count": 11,
      "id": "c4eeb6d7-d07b-4f1c-9c86-52095b7cf379",
      "metadata": {
        "colab": {
          "base_uri": "https://localhost:8080/"
        },
        "id": "c4eeb6d7-d07b-4f1c-9c86-52095b7cf379",
        "outputId": "7058d3ad-c0cf-4568-db64-8d6ac63aa32a"
      },
      "outputs": [
        {
          "output_type": "stream",
          "name": "stderr",
          "text": [
            "/usr/local/lib/python3.8/dist-packages/pandas/core/frame.py:3641: SettingWithCopyWarning: \n",
            "A value is trying to be set on a copy of a slice from a DataFrame.\n",
            "Try using .loc[row_indexer,col_indexer] = value instead\n",
            "\n",
            "See the caveats in the documentation: https://pandas.pydata.org/pandas-docs/stable/user_guide/indexing.html#returning-a-view-versus-a-copy\n",
            "  self[k1] = value[k2]\n"
          ]
        }
      ],
      "source": [
        "df = df[info + features + to_predict]\n",
        "df[features + to_predict] = df[features + to_predict].astype(\"float32\")"
      ]
    },
    {
      "cell_type": "code",
      "execution_count": 12,
      "id": "d63ed15f-1efb-4c00-b646-8c55a6c347d1",
      "metadata": {
        "colab": {
          "base_uri": "https://localhost:8080/"
        },
        "id": "d63ed15f-1efb-4c00-b646-8c55a6c347d1",
        "outputId": "19d426bb-0d85-416f-a8a6-9aee4c61c0e1"
      },
      "outputs": [
        {
          "output_type": "execute_result",
          "data": {
            "text/plain": [
              "(7457, 21)"
            ]
          },
          "metadata": {},
          "execution_count": 12
        }
      ],
      "source": [
        "df.shape"
      ]
    },
    {
      "cell_type": "code",
      "execution_count": 13,
      "id": "f36cc7ed-88c3-4ee4-baf1-85393aa3d15d",
      "metadata": {
        "id": "f36cc7ed-88c3-4ee4-baf1-85393aa3d15d"
      },
      "outputs": [],
      "source": [
        "# removing NaN rows and players that appear less than 15 times\n",
        "df = df.dropna()\n",
        "grouped = df.groupby('Name')\n",
        "\n",
        "# taking only players with at least FFP matches in logs\n",
        "df = grouped.filter(lambda x: len(x) >= FFP)"
      ]
    },
    {
      "cell_type": "code",
      "execution_count": 14,
      "id": "06c42b4b-58dd-48fe-a162-14e7564a4441",
      "metadata": {
        "colab": {
          "base_uri": "https://localhost:8080/"
        },
        "id": "06c42b4b-58dd-48fe-a162-14e7564a4441",
        "outputId": "cf3da585-6be8-4e58-97bc-2f71a416f46f"
      },
      "outputs": [
        {
          "output_type": "execute_result",
          "data": {
            "text/plain": [
              "(5771, 21)"
            ]
          },
          "metadata": {},
          "execution_count": 14
        }
      ],
      "source": [
        "df.shape"
      ]
    },
    {
      "cell_type": "code",
      "execution_count": 15,
      "id": "24fff899-a809-4659-b51e-f1431688507c",
      "metadata": {
        "id": "24fff899-a809-4659-b51e-f1431688507c"
      },
      "outputs": [],
      "source": [
        "# df.head(20)"
      ]
    },
    {
      "cell_type": "code",
      "execution_count": 16,
      "id": "a56bb28e-5b7a-4a99-b18f-73cdf0d41c03",
      "metadata": {
        "id": "a56bb28e-5b7a-4a99-b18f-73cdf0d41c03"
      },
      "outputs": [],
      "source": [
        "last_names = df[\"Name\"].unique()"
      ]
    },
    {
      "cell_type": "markdown",
      "id": "6e4319b4-355b-4121-a0ed-e6cbbdaf93a6",
      "metadata": {
        "id": "6e4319b4-355b-4121-a0ed-e6cbbdaf93a6"
      },
      "source": [
        "# DF to DataLoader"
      ]
    },
    {
      "cell_type": "code",
      "execution_count": 17,
      "id": "d87f8b66-cd79-4fd9-a0eb-a4d229912268",
      "metadata": {
        "id": "d87f8b66-cd79-4fd9-a0eb-a4d229912268"
      },
      "outputs": [],
      "source": [
        "df_train = df[df[\"GW\"] <= LAST_TRAIN_GW]\n",
        "df_valid = df\n",
        "\n",
        "# gk, def, mid, fwd\n",
        "df_gk_train = df[(df[\"FPL position\"] == \"GK\") & (df[\"GW\"] <= LAST_TRAIN_GW)]\n",
        "df_gk_valid = df[(df[\"FPL position\"] == \"GK\") ]\n",
        "\n",
        "df_def_train = df[(df[\"FPL position\"] == \"DEF\") & (df[\"GW\"] <= LAST_TRAIN_GW)]\n",
        "df_def_valid = df[(df[\"FPL position\"] == \"DEF\") ]\n",
        "\n",
        "df_mid_train = df[(df[\"FPL position\"] == \"MID\") & (df[\"GW\"] <= LAST_TRAIN_GW)]\n",
        "df_mid_valid = df[(df[\"FPL position\"] == \"MID\") ]\n",
        "\n",
        "df_fwd_train = df[(df[\"FPL position\"] == \"FWD\") & (df[\"GW\"] <= LAST_TRAIN_GW)]\n",
        "df_fwd_valid = df[(df[\"FPL position\"] == \"FWD\")]"
      ]
    },
    {
      "cell_type": "code",
      "execution_count": 18,
      "id": "75b6dda5-b74e-4ca8-a5e9-ac338cea6f20",
      "metadata": {
        "id": "75b6dda5-b74e-4ca8-a5e9-ac338cea6f20"
      },
      "outputs": [],
      "source": [
        "def init_index_table(df):\n",
        "    names = df[\"Name\"].unique()\n",
        "    result_dict = {}\n",
        "    \n",
        "    current_index = 0\n",
        "    player_index = 0\n",
        "    \n",
        "    for name in names:\n",
        "        sample_index = 0\n",
        "        samples_for_names = df[df[\"Name\"] == name].shape[0] - FIS\n",
        "        for i in range(samples_for_names):\n",
        "            result_dict[current_index] = [player_index, sample_index]\n",
        "            current_index += 1\n",
        "            sample_index += 1\n",
        "        player_index += 1\n",
        "    \n",
        "    return result_dict"
      ]
    },
    {
      "cell_type": "code",
      "execution_count": 19,
      "id": "15fc117a-0b9a-442e-a653-530a52486ff0",
      "metadata": {
        "id": "15fc117a-0b9a-442e-a653-530a52486ff0"
      },
      "outputs": [],
      "source": [
        "class PandasDataset(Dataset):\n",
        "    def __init__(self, dataframe, starting_gw, ending_gw):\n",
        "        self.dataframe = dataframe\n",
        "        self.names = dataframe[\"Name\"].unique()\n",
        "        \n",
        "        self.starting_gw = starting_gw\n",
        "        self.ending_gw = ending_gw\n",
        "        self.cut_unused_rows()\n",
        "        self.length = self.calculate_length()\n",
        "\n",
        "        self.index_table = init_index_table(self.dataframe)\n",
        "        self.transform = torchvision.transforms.Compose([torchvision.transforms.ToTensor()])\n",
        "\n",
        "    def cut_unused_rows(self):\n",
        "        for name in self.names:\n",
        "            df_name = self.dataframe[self.dataframe[\"Name\"] == name]\n",
        "            name_length = df_name.shape[0]\n",
        "            # print(\"NAME LENGTH\", name, name_length, FIS + 1)\n",
        "            if name_length >= FIS + 1:\n",
        "                try:\n",
        "                    first_index = df_name.index.tolist()[0]\n",
        "                except IndexError:\n",
        "                    first_index = None\n",
        "\n",
        "                try:\n",
        "                    last_index = max(FIS, df_name.index[df_name['GW'] < self.starting_gw].tolist()[-1]) - FIS\n",
        "                except:\n",
        "                    last_index = None\n",
        "\n",
        "                # print(\"FIRST LAST INDEX\", name, first_index, last_index)\n",
        "                if first_index != None and last_index != None:\n",
        "                    # print(\"WYCIETO\", name, range(first_index, last_index + 1))\n",
        "                    self.dataframe = self.dataframe.drop(range(first_index, last_index + 1))\n",
        "            else:\n",
        "                # print(\"DROPPING\", name, [df_name.index.tolist()])\n",
        "                self.dataframe = self.dataframe.drop([df_name.index.tolist()])\n",
        "                \n",
        "\n",
        "            # print(\"CUTTING\", name, first_index, last_index, name_length)\n",
        "            # print(\"CUT2\", df_name.index[df_name['GW'] < self.starting_gw].tolist())\n",
        "            # print(self.dataframe.shape)\n",
        "            # print(\"\")\n",
        "\n",
        "    def calculate_length(self):\n",
        "        length = 0\n",
        "        for name in self.names:\n",
        "            # print(name, (self.dataframe[self.dataframe[\"Name\"] == name].shape[0] - FIS))\n",
        "            length += (self.dataframe[self.dataframe[\"Name\"] == name].shape[0] - FIS)\n",
        "        return length\n",
        "\n",
        "    def __len__(self):\n",
        "        return self.length\n",
        "\n",
        "    def __getitem__(self, idx):\n",
        "        # print(idx)\n",
        "        player_id, sample_id = self.index_table[idx]\n",
        "        name = self.names[player_id]\n",
        "        # print(name)\n",
        "        # print(\"GETITEM DF\", name, player_id, sample_id)\n",
        "\n",
        "        features = self.dataframe[self.dataframe[\"Name\"] == name]\n",
        "        # print(self.dataframe[self.dataframe[\"Name\"] == name])\n",
        "        # print(features[sample_id: (sample_id + 4)])\n",
        "        features = features[sample_id: (sample_id + FIS)].drop(columns=info).values[:, :-1]\n",
        "        # print(features)\n",
        "        # print(features)\n",
        "        # print(type(features))\n",
        "        # print(self.dataframe[self.dataframe[\"Name\"] == name].values[:, -1])\n",
        "        # print(type(self.dataframe[self.dataframe[\"Name\"] == name].values[:, -1]))\n",
        "        # target = self.dataframe[self.dataframe[\"Name\"] == name].values[:, -1]\n",
        "        # target = target.astype(np.float32)\n",
        "        # target = torch.from_numpy(target)\n",
        "        # print(\"GETITEM\", idx, player_id, sample_id, name)\n",
        "        target = np.float32(self.dataframe[self.dataframe[\"Name\"] == name].values[(sample_id + FIS), -1])\n",
        "        # print(name, idx, target, sample_id)\n",
        "        # print(type(target))\n",
        "        return features, target"
      ]
    },
    {
      "cell_type": "code",
      "execution_count": 20,
      "id": "430e5e7d-972d-4eee-9bc0-a6f43ed05e7b",
      "metadata": {
        "id": "430e5e7d-972d-4eee-9bc0-a6f43ed05e7b"
      },
      "outputs": [],
      "source": [
        "dataset_general_train = PandasDataset(df_train, FIRST_TRAIN_GW, LAST_TRAIN_GW)\n",
        "dataset_general_valid = PandasDataset(df_valid, FIRST_VALID_GW, LAST_VALID_GW)\n",
        "\n",
        "dataset_gk_train = PandasDataset(df_gk_train, FIRST_TRAIN_GW, LAST_TRAIN_GW)\n",
        "dataset_gk_valid = PandasDataset(df_gk_valid, FIRST_VALID_GW, LAST_VALID_GW)\n",
        "\n",
        "dataset_def_train = PandasDataset(df_def_train, FIRST_TRAIN_GW, LAST_TRAIN_GW)\n",
        "dataset_def_valid = PandasDataset(df_def_valid, FIRST_VALID_GW, LAST_VALID_GW)\n",
        "\n",
        "dataset_mid_train = PandasDataset(df_mid_train, FIRST_TRAIN_GW, LAST_TRAIN_GW)\n",
        "dataset_mid_valid = PandasDataset(df_mid_valid, FIRST_VALID_GW, LAST_VALID_GW)\n",
        "\n",
        "dataset_fwd_train = PandasDataset(df_fwd_train, FIRST_TRAIN_GW, LAST_TRAIN_GW)\n",
        "dataset_fwd_valid = PandasDataset(df_fwd_valid, FIRST_VALID_GW, LAST_VALID_GW)"
      ]
    },
    {
      "cell_type": "code",
      "execution_count": 21,
      "id": "4ce0452d-89c3-4ec0-bfcd-79ae7587e36b",
      "metadata": {
        "colab": {
          "base_uri": "https://localhost:8080/"
        },
        "id": "4ce0452d-89c3-4ec0-bfcd-79ae7587e36b",
        "outputId": "2869bdfe-12c0-4f85-c887-44c310c127cb"
      },
      "outputs": [
        {
          "output_type": "execute_result",
          "data": {
            "text/plain": [
              "(280, 25)"
            ]
          },
          "metadata": {},
          "execution_count": 21
        }
      ],
      "source": [
        "dataset_gk_train.__len__(), dataset_gk_valid.__len__()"
      ]
    },
    {
      "cell_type": "code",
      "execution_count": 22,
      "id": "dad3baac-8574-4dd0-af3c-f2d544295f67",
      "metadata": {
        "colab": {
          "base_uri": "https://localhost:8080/"
        },
        "id": "dad3baac-8574-4dd0-af3c-f2d544295f67",
        "outputId": "19b24cc4-d819-45ed-a349-4fcdd7287e3d"
      },
      "outputs": [
        {
          "output_type": "execute_result",
          "data": {
            "text/plain": [
              "(1035, 100)"
            ]
          },
          "metadata": {},
          "execution_count": 22
        }
      ],
      "source": [
        "dataset_def_train.__len__(), dataset_def_valid.__len__()"
      ]
    },
    {
      "cell_type": "code",
      "execution_count": 23,
      "id": "65a42e4a-3f39-43bd-843b-d0225a124342",
      "metadata": {
        "colab": {
          "base_uri": "https://localhost:8080/"
        },
        "id": "65a42e4a-3f39-43bd-843b-d0225a124342",
        "outputId": "a7413958-ea55-4876-ac6d-bc2b0f641132"
      },
      "outputs": [
        {
          "output_type": "execute_result",
          "data": {
            "text/plain": [
              "(1346, 123)"
            ]
          },
          "metadata": {},
          "execution_count": 23
        }
      ],
      "source": [
        "dataset_mid_train.__len__(), dataset_mid_valid.__len__()"
      ]
    },
    {
      "cell_type": "code",
      "execution_count": 24,
      "id": "89def15b-7eec-492a-a773-e87ebe22ea18",
      "metadata": {
        "colab": {
          "base_uri": "https://localhost:8080/"
        },
        "id": "89def15b-7eec-492a-a773-e87ebe22ea18",
        "outputId": "9dc9eb39-5770-450f-c612-5760bf1c5cd3"
      },
      "outputs": [
        {
          "output_type": "execute_result",
          "data": {
            "text/plain": [
              "(326, 30)"
            ]
          },
          "metadata": {},
          "execution_count": 24
        }
      ],
      "source": [
        "dataset_fwd_train.__len__(), dataset_fwd_valid.__len__()"
      ]
    },
    {
      "cell_type": "code",
      "execution_count": 25,
      "id": "fd3a4639-a6c7-40bf-ad2f-72569dfeac42",
      "metadata": {
        "id": "fd3a4639-a6c7-40bf-ad2f-72569dfeac42"
      },
      "outputs": [],
      "source": [
        "batch_size = 16"
      ]
    },
    {
      "cell_type": "code",
      "execution_count": 26,
      "id": "3ef8a258-452d-4ce9-b44f-3370fa58f750",
      "metadata": {
        "id": "3ef8a258-452d-4ce9-b44f-3370fa58f750"
      },
      "outputs": [],
      "source": [
        "dataloader_general_train = DataLoader(dataset_general_train, batch_size=batch_size, shuffle=False)\n",
        "dataloader_general_valid = DataLoader(dataset_general_valid, batch_size=batch_size, shuffle=False)\n",
        "\n",
        "dataloader_gk_train = DataLoader(dataset_gk_train, batch_size=batch_size, shuffle=False)\n",
        "dataloader_def_train = DataLoader(dataset_def_train, batch_size=batch_size, shuffle=False)\n",
        "dataloader_mid_train = DataLoader(dataset_mid_train, batch_size=batch_size, shuffle=False)\n",
        "dataloader_fwd_train = DataLoader(dataset_fwd_train, batch_size=batch_size, shuffle=False)\n",
        "\n",
        "dataloader_gk_valid = DataLoader(dataset_gk_valid, batch_size=batch_size, shuffle=False)\n",
        "dataloader_def_valid = DataLoader(dataset_def_valid, batch_size=batch_size, shuffle=False)\n",
        "dataloader_mid_valid = DataLoader(dataset_mid_valid, batch_size=batch_size, shuffle=False)\n",
        "dataloader_fwd_valid = DataLoader(dataset_fwd_valid, batch_size=batch_size, shuffle=False)"
      ]
    },
    {
      "cell_type": "code",
      "execution_count": 27,
      "id": "231626de-b520-4d08-a1c8-eeca06133061",
      "metadata": {
        "colab": {
          "base_uri": "https://localhost:8080/"
        },
        "id": "231626de-b520-4d08-a1c8-eeca06133061",
        "outputId": "70d14868-2b9f-438f-96f1-e9b0b2626eeb"
      },
      "outputs": [
        {
          "output_type": "execute_result",
          "data": {
            "text/plain": [
              "(187, 18, 65, 85, 21)"
            ]
          },
          "metadata": {},
          "execution_count": 27
        }
      ],
      "source": [
        "len(dataloader_general_train), len(dataloader_gk_train), len(dataloader_def_train), len(dataloader_mid_train), len(dataloader_fwd_train)"
      ]
    },
    {
      "cell_type": "code",
      "source": [
        "len(dataloader_general_valid), len(dataloader_gk_valid), len(dataloader_def_valid), len(dataloader_mid_valid), len(dataloader_fwd_valid)"
      ],
      "metadata": {
        "colab": {
          "base_uri": "https://localhost:8080/"
        },
        "id": "RbftCpHBBhi6",
        "outputId": "488692f7-40d2-4e49-af97-57a05f557402"
      },
      "id": "RbftCpHBBhi6",
      "execution_count": 28,
      "outputs": [
        {
          "output_type": "execute_result",
          "data": {
            "text/plain": [
              "(18, 2, 7, 8, 2)"
            ]
          },
          "metadata": {},
          "execution_count": 28
        }
      ]
    },
    {
      "cell_type": "markdown",
      "id": "44290e57-5279-400f-bd5d-8bcbf0db2f99",
      "metadata": {
        "id": "44290e57-5279-400f-bd5d-8bcbf0db2f99"
      },
      "source": [
        "# LSTM Model"
      ]
    },
    {
      "cell_type": "code",
      "execution_count": 29,
      "id": "95c48496-4a3d-4dd6-a789-abb04d921dc6",
      "metadata": {
        "id": "95c48496-4a3d-4dd6-a789-abb04d921dc6"
      },
      "outputs": [],
      "source": [
        "class LSTMNetwork(nn.Module):\n",
        "    def __init__(self, input_size, hidden_size, num_layers, output_size, dropout=0.2):\n",
        "        super(LSTMNetwork, self).__init__()\n",
        "        self.lstm = nn.LSTM(input_size, hidden_size, num_layers, dropout=dropout)\n",
        "        self.fc = nn.Linear(hidden_size, output_size)\n",
        "\n",
        "    def forward(self, x):\n",
        "        x = torch.transpose(x, 0, 1)\n",
        "        # x = x.view(-1, batch_size)\n",
        "        # x = torch.transpose(x, 0, 1)\n",
        "        # print(\"FOR\", x.shape)\n",
        "        # print(x.shape)\n",
        "        # print(x.shape)\n",
        "        out, _ = self.lstm(x)\n",
        "        # print(out.shape)\n",
        "        out = self.fc(out[-1])\n",
        "        return out"
      ]
    },
    {
      "cell_type": "markdown",
      "id": "ca697492-5632-47ca-b7ef-7ef7f83f483e",
      "metadata": {
        "id": "ca697492-5632-47ca-b7ef-7ef7f83f483e"
      },
      "source": [
        "# Training loops"
      ]
    },
    {
      "cell_type": "code",
      "execution_count": 30,
      "id": "3e5d6365-866b-497d-9f3d-fff942c03266",
      "metadata": {
        "id": "3e5d6365-866b-497d-9f3d-fff942c03266"
      },
      "outputs": [],
      "source": [
        "criterion = nn.MSELoss()"
      ]
    },
    {
      "cell_type": "code",
      "execution_count": 31,
      "id": "3fc8e104-6c5d-4e09-a238-73e06346286b",
      "metadata": {
        "id": "3fc8e104-6c5d-4e09-a238-73e06346286b"
      },
      "outputs": [],
      "source": [
        "def train_net(net, num_epochs, dataloader_train, dataloader_valid, optimizer):\n",
        "    if len(dataloader_train) <= 0:\n",
        "        print(\"Dataloader has no elements\")\n",
        "        return []\n",
        "\n",
        "    best_model = None\n",
        "    best_val_loss = None\n",
        "\n",
        "    loss_history_train = []\n",
        "    loss_history_valid = []\n",
        "\n",
        "    for epoch in range(num_epochs):\n",
        "        running_loss_train = 0\n",
        "        running_loss_valid = 0\n",
        "\n",
        "        # training\n",
        "        for i, (inputs, targets) in enumerate(dataloader_train):\n",
        "            inputs = torch.flatten(inputs, 1, 2)\n",
        "            inputs = inputs.unsqueeze(2).to(device)\n",
        "            targets = targets.to(device)\n",
        "            # print(\"INPUTS\", inputs.shape)\n",
        "            # print(\"TARGETS\", targets.shape)\n",
        "            # print(targets)\n",
        "            optimizer.zero_grad()\n",
        "            outputs = net(inputs).flatten().to(device)\n",
        "            # print(\"OUTPUTS\", outputs.shape)\n",
        "            loss = criterion(outputs, targets)\n",
        "            running_loss_train += loss.item()\n",
        "            loss.backward()\n",
        "            optimizer.step()\n",
        "\n",
        "        with torch.no_grad():\n",
        "          # valid\n",
        "          for i, (inputs, targets) in enumerate(dataloader_valid):\n",
        "              inputs = torch.flatten(inputs, 1, 2)\n",
        "              inputs = inputs.unsqueeze(2).to(device)\n",
        "              targets = targets.to(device)\n",
        "              # print(\"INPUTS\", inputs.shape)\n",
        "              # print(\"TARGETS\", targets.shape)\n",
        "              # print(targets)\n",
        "              optimizer.zero_grad()\n",
        "              outputs = net(inputs).flatten().to(device)\n",
        "              # print(\"OUTPUTS\", outputs.shape)\n",
        "              loss = criterion(outputs, targets)\n",
        "              running_loss_valid += loss.item()\n",
        "\n",
        "        epoch_valid_loss = running_loss_valid / len(dataloader_valid)\n",
        "\n",
        "        loss_history_train.append(running_loss_train / len(dataloader_train))\n",
        "        loss_history_valid.append(epoch_valid_loss)\n",
        "\n",
        "        if not best_model or epoch_valid_loss < best_val_loss:\n",
        "            best_model = net\n",
        "            best_val_loss = epoch_valid_loss\n",
        "\n",
        "\n",
        "        if epoch % 5 == 0:\n",
        "            print(f'Epoch {epoch} Train: {running_loss_train / len(dataloader_train)} Valid: {running_loss_valid / len(dataloader_valid)}')\n",
        "    \n",
        "    return loss_history_train, loss_history_valid, best_model"
      ]
    },
    {
      "cell_type": "code",
      "execution_count": 32,
      "id": "c29562d5-abfe-4028-b09a-78d9fbdc5c64",
      "metadata": {
        "id": "c29562d5-abfe-4028-b09a-78d9fbdc5c64"
      },
      "outputs": [],
      "source": [
        "def plot_loss_history(loss_history_train, loss_history_valid):\n",
        "    plt.plot(loss_history_train, color='blue', label='Training Loss')\n",
        "    plt.plot(loss_history_valid, color='orange', label='Validation Loss')\n",
        "    plt.xlabel('Epoch')\n",
        "    plt.ylabel('Loss')\n",
        "    plt.legend()\n",
        "    plt.show()"
      ]
    },
    {
      "cell_type": "markdown",
      "id": "e6a2f684-5906-4cf1-8cd4-6f342fb3daf5",
      "metadata": {
        "id": "e6a2f684-5906-4cf1-8cd4-6f342fb3daf5"
      },
      "source": [
        "## Training loop - general net"
      ]
    },
    {
      "cell_type": "code",
      "execution_count": 33,
      "id": "8d1ac896-0465-4422-b291-a13f32f3d3b5",
      "metadata": {
        "colab": {
          "base_uri": "https://localhost:8080/"
        },
        "id": "8d1ac896-0465-4422-b291-a13f32f3d3b5",
        "outputId": "e1d4a359-32dc-4c0b-fbe3-4796d2d8e03b"
      },
      "outputs": [
        {
          "output_type": "stream",
          "name": "stdout",
          "text": [
            "Epoch 0 Train: 9.059177205524342 Valid: 8.710018104977078\n",
            "Epoch 5 Train: 8.82690004677696 Valid: 8.724292172325981\n",
            "CPU times: user 1min 12s, sys: 2.28 s, total: 1min 14s\n",
            "Wall time: 1min 19s\n"
          ]
        }
      ],
      "source": [
        "%%time\n",
        "net = LSTMNetwork(1, 20, 2, 1, dropout=0.4).to(device)\n",
        "optimizer = optim.Adam(net.parameters(), lr=0.005)\n",
        "loss_history_train, loss_history_valid, best_model_general = train_net(net, 10, dataloader_general_train, dataloader_general_valid, optimizer)"
      ]
    },
    {
      "cell_type": "code",
      "execution_count": 34,
      "id": "ac88d75b-3cb0-4747-9efe-c498dd2efdd3",
      "metadata": {
        "colab": {
          "base_uri": "https://localhost:8080/",
          "height": 279
        },
        "id": "ac88d75b-3cb0-4747-9efe-c498dd2efdd3",
        "outputId": "d96cbd97-47ab-4a09-e89a-012ce39d9417"
      },
      "outputs": [
        {
          "output_type": "display_data",
          "data": {
            "text/plain": [
              "<Figure size 432x288 with 1 Axes>"
            ],
            "image/png": "[encoded data removed]"
          },
          "metadata": {
            "needs_background": "light"
          }
        }
      ],
      "source": [
        "plot_loss_history(loss_history_train, loss_history_valid)"
      ]
    },
    {
      "cell_type": "markdown",
      "id": "8e1645fc-dd44-4891-a0db-8686d1ac588a",
      "metadata": {
        "id": "8e1645fc-dd44-4891-a0db-8686d1ac588a"
      },
      "source": [
        "## Training loop - goalkeeper net"
      ]
    },
    {
      "cell_type": "code",
      "source": [
        "net_gk = LSTMNetwork(1, 20, 2, 1, dropout=0.4).to(device)"
      ],
      "metadata": {
        "id": "p_HrS0-WL5oC"
      },
      "id": "p_HrS0-WL5oC",
      "execution_count": 35,
      "outputs": []
    },
    {
      "cell_type": "code",
      "execution_count": 36,
      "id": "85757dc2-113a-4a46-b17f-600293d87a90",
      "metadata": {
        "colab": {
          "base_uri": "https://localhost:8080/"
        },
        "id": "85757dc2-113a-4a46-b17f-600293d87a90",
        "outputId": "033b0d0f-1f6a-4752-8825-16dbc0ef74bb"
      },
      "outputs": [
        {
          "output_type": "stream",
          "name": "stdout",
          "text": [
            "Epoch 0 Train: 13.226041197776794 Valid: 13.61018180847168\n",
            "CPU times: user 2.4 s, sys: 27 ms, total: 2.43 s\n",
            "Wall time: 2.45 s\n"
          ]
        }
      ],
      "source": [
        "%%time\n",
        "optimizer_gk = optim.Adam(net_gk.parameters(), lr=0.01)\n",
        "loss_history_gk_train, loss_history_gk_valid, best_model_gk = train_net(net_gk, 5, dataloader_gk_train, dataloader_gk_valid, optimizer_gk)"
      ]
    },
    {
      "cell_type": "code",
      "execution_count": 37,
      "id": "8ff0d12f-9099-4d9d-9d10-49dd81ec6a1c",
      "metadata": {
        "colab": {
          "base_uri": "https://localhost:8080/",
          "height": 282
        },
        "id": "8ff0d12f-9099-4d9d-9d10-49dd81ec6a1c",
        "outputId": "f41d2a50-a137-4057-f960-04aefa9eea15"
      },
      "outputs": [
        {
          "output_type": "display_data",
          "data": {
            "text/plain": [
              "<Figure size 432x288 with 1 Axes>"
            ],
            "image/png": "[encoded data removed]"
          },
          "metadata": {
            "needs_background": "light"
          }
        }
      ],
      "source": [
        "plot_loss_history(loss_history_gk_train, loss_history_gk_valid)"
      ]
    },
    {
      "cell_type": "markdown",
      "id": "a11943ae-8c43-4169-91a8-fd51445ac5b4",
      "metadata": {
        "id": "a11943ae-8c43-4169-91a8-fd51445ac5b4"
      },
      "source": [
        "## Training loop - defender net"
      ]
    },
    {
      "cell_type": "code",
      "source": [
        "net_def = LSTMNetwork(1, 20, 2, 1, dropout=0.4).to(device)"
      ],
      "metadata": {
        "id": "rcHl1HFoL3uy"
      },
      "id": "rcHl1HFoL3uy",
      "execution_count": 38,
      "outputs": []
    },
    {
      "cell_type": "code",
      "execution_count": 39,
      "id": "19b30491-7cf8-4572-abe0-388cb58de9b8",
      "metadata": {
        "colab": {
          "base_uri": "https://localhost:8080/"
        },
        "id": "19b30491-7cf8-4572-abe0-388cb58de9b8",
        "outputId": "635f8da1-6a23-4500-f69d-1a9b38ae2e8a"
      },
      "outputs": [
        {
          "output_type": "stream",
          "name": "stdout",
          "text": [
            "Epoch 0 Train: 8.86055102944374 Valid: 7.333229746137347\n",
            "CPU times: user 9.75 s, sys: 98.5 ms, total: 9.85 s\n",
            "Wall time: 9.81 s\n"
          ]
        }
      ],
      "source": [
        "%%time\n",
        "optimizer_def = optim.Adam(net_def.parameters(), lr=0.005)\n",
        "loss_history_def_train, loss_history_def_valid, best_model_def = train_net(net_def, 5, dataloader_def_train, dataloader_def_valid, optimizer_def)"
      ]
    },
    {
      "cell_type": "code",
      "execution_count": 40,
      "id": "a6ebe5b1-712d-46c4-a773-9782a9ae8689",
      "metadata": {
        "colab": {
          "base_uri": "https://localhost:8080/",
          "height": 279
        },
        "id": "a6ebe5b1-712d-46c4-a773-9782a9ae8689",
        "outputId": "1ce2d02c-0ea7-4cf2-8460-e43820868da7"
      },
      "outputs": [
        {
          "output_type": "display_data",
          "data": {
            "text/plain": [
              "<Figure size 432x288 with 1 Axes>"
            ],
            "image/png": "[encoded data removed]"
          },
          "metadata": {
            "needs_background": "light"
          }
        }
      ],
      "source": [
        "plot_loss_history(loss_history_def_train, loss_history_def_valid)"
      ]
    },
    {
      "cell_type": "markdown",
      "id": "63c27abd-c720-4dff-bfe4-ad20a3d0a48e",
      "metadata": {
        "id": "63c27abd-c720-4dff-bfe4-ad20a3d0a48e"
      },
      "source": [
        "## Training loop - midfielder net"
      ]
    },
    {
      "cell_type": "code",
      "source": [
        "net_mid = LSTMNetwork(1, 20, 2, 1, dropout=0.4).to(device)"
      ],
      "metadata": {
        "id": "MmN-IwSvL1vO"
      },
      "id": "MmN-IwSvL1vO",
      "execution_count": 41,
      "outputs": []
    },
    {
      "cell_type": "code",
      "execution_count": 42,
      "id": "154a2ea8-d2f8-48c3-86fd-278be6c26475",
      "metadata": {
        "colab": {
          "base_uri": "https://localhost:8080/"
        },
        "id": "154a2ea8-d2f8-48c3-86fd-278be6c26475",
        "outputId": "299351e4-f170-43d9-b2bd-33680c44a36b"
      },
      "outputs": [
        {
          "output_type": "stream",
          "name": "stdout",
          "text": [
            "Epoch 0 Train: 9.194421863555908 Valid: 6.260515183210373\n",
            "Epoch 5 Train: 8.593121256547816 Valid: 5.880041122436523\n",
            "Epoch 10 Train: 8.587371692937964 Valid: 5.858483821153641\n",
            "Epoch 15 Train: 8.584014125431285 Valid: 5.811483711004257\n",
            "Epoch 20 Train: 8.584341486762552 Valid: 5.815948963165283\n",
            "Epoch 25 Train: 8.585866552240708 Valid: 5.81481745839119\n",
            "CPU times: user 1min 18s, sys: 697 ms, total: 1min 18s\n",
            "Wall time: 1min 18s\n"
          ]
        }
      ],
      "source": [
        "%%time\n",
        "optimizer_mid = optim.Adam(net_mid.parameters(), lr=0.005)\n",
        "loss_history_mid_train, loss_history_mid_valid, best_model_mid = train_net(net_mid, 30, dataloader_mid_train, dataloader_mid_valid, optimizer_mid)"
      ]
    },
    {
      "cell_type": "code",
      "execution_count": 43,
      "id": "fff0d3ef-bb1d-4d13-a192-3d76f129914f",
      "metadata": {
        "colab": {
          "base_uri": "https://localhost:8080/",
          "height": 279
        },
        "id": "fff0d3ef-bb1d-4d13-a192-3d76f129914f",
        "outputId": "be13a46e-d7b9-44cb-b2fe-b4873245e50f"
      },
      "outputs": [
        {
          "output_type": "display_data",
          "data": {
            "text/plain": [
              "<Figure size 432x288 with 1 Axes>"
            ],
            "image/png": "[encoded data removed]"
          },
          "metadata": {
            "needs_background": "light"
          }
        }
      ],
      "source": [
        "plot_loss_history(loss_history_mid_train, loss_history_mid_valid)"
      ]
    },
    {
      "cell_type": "markdown",
      "id": "01bca3ac-0da4-41eb-a3bb-5c4b14df2cc0",
      "metadata": {
        "id": "01bca3ac-0da4-41eb-a3bb-5c4b14df2cc0"
      },
      "source": [
        "## Training loop - forward net"
      ]
    },
    {
      "cell_type": "code",
      "source": [
        "net_fwd = LSTMNetwork(1, 8, 2, 1, dropout=0.5).to(device)"
      ],
      "metadata": {
        "id": "NTwS6zsfLxQ2"
      },
      "id": "NTwS6zsfLxQ2",
      "execution_count": 44,
      "outputs": []
    },
    {
      "cell_type": "code",
      "execution_count": 64,
      "id": "2bcb7afb-f3f1-4a81-bbea-6da2b512967d",
      "metadata": {
        "colab": {
          "base_uri": "https://localhost:8080/"
        },
        "id": "2bcb7afb-f3f1-4a81-bbea-6da2b512967d",
        "outputId": "16e6ce57-5439-4d5e-ae05-f74c24bebc10"
      },
      "outputs": [
        {
          "output_type": "stream",
          "name": "stdout",
          "text": [
            "Epoch 0 Train: 9.810981285004388 Valid: 13.816833019256592\n",
            "Epoch 5 Train: 9.787925470443 Valid: 13.411724090576172\n",
            "Epoch 10 Train: 9.766383909043812 Valid: 13.309293270111084\n",
            "Epoch 15 Train: 9.703287703650338 Valid: 13.463666439056396\n",
            "Epoch 20 Train: 9.665344669705345 Valid: 13.063751697540283\n",
            "Epoch 25 Train: 9.611168532144456 Valid: 13.532602310180664\n",
            "Epoch 30 Train: 9.735669839949836 Valid: 14.061310291290283\n",
            "Epoch 35 Train: 9.633324112210955 Valid: 13.322072505950928\n",
            "Epoch 40 Train: 9.626199449811663 Valid: 13.392540454864502\n",
            "Epoch 45 Train: 9.624065149398078 Valid: 13.247011184692383\n",
            "Epoch 50 Train: 9.601456051781064 Valid: 14.016996383666992\n",
            "Epoch 55 Train: 9.620624190285092 Valid: 14.011563301086426\n",
            "Epoch 60 Train: 9.665998220443726 Valid: 13.445754528045654\n",
            "Epoch 65 Train: 9.63053492137364 Valid: 14.171572208404541\n",
            "Epoch 70 Train: 9.602173816590081 Valid: 13.176522254943848\n",
            "Epoch 75 Train: 9.592738673800515 Valid: 13.327014923095703\n",
            "Epoch 80 Train: 9.578933545521327 Valid: 13.091777801513672\n",
            "Epoch 85 Train: 9.533502408436366 Valid: 13.542883396148682\n",
            "Epoch 90 Train: 9.553605715433756 Valid: 13.098918914794922\n",
            "Epoch 95 Train: 9.749546278090705 Valid: 13.015151500701904\n",
            "Epoch 100 Train: 9.455267134166899 Valid: 13.170990943908691\n",
            "Epoch 105 Train: 9.641549961907524 Valid: 13.0442214012146\n",
            "Epoch 110 Train: 9.45979000273205 Valid: 13.35040283203125\n",
            "Epoch 115 Train: 9.453129081499009 Valid: 12.946133613586426\n",
            "Epoch 120 Train: 9.531492097037178 Valid: 13.027771472930908\n",
            "Epoch 125 Train: 9.708640518642607 Valid: 12.6582932472229\n",
            "Epoch 130 Train: 9.660768656503587 Valid: 12.597687721252441\n",
            "Epoch 135 Train: 9.703929770560492 Valid: 13.11858320236206\n",
            "Epoch 140 Train: 9.461834197952633 Valid: 12.727978229522705\n",
            "Epoch 145 Train: 9.478521880649385 Valid: 13.106665134429932\n",
            "Epoch 150 Train: 9.424560512815203 Valid: 12.742385387420654\n",
            "Epoch 155 Train: 9.576536712192354 Valid: 12.363643169403076\n",
            "Epoch 160 Train: 9.515578207515535 Valid: 13.48553466796875\n",
            "Epoch 165 Train: 9.416249405770074 Valid: 13.710300922393799\n",
            "Epoch 170 Train: 9.392625331878662 Valid: 12.539621353149414\n",
            "Epoch 175 Train: 9.513825325738816 Valid: 12.642231464385986\n",
            "Epoch 180 Train: 9.443075549034845 Valid: 12.411202430725098\n",
            "Epoch 185 Train: 9.46693998291379 Valid: 13.685298919677734\n",
            "Epoch 190 Train: 9.313675857725597 Valid: 12.233949184417725\n",
            "Epoch 195 Train: 9.370920646758307 Valid: 12.87991189956665\n",
            "Epoch 200 Train: 9.57539567493257 Valid: 12.39011001586914\n",
            "Epoch 205 Train: 9.571876321520124 Valid: 12.580212593078613\n",
            "Epoch 210 Train: 9.316345930099487 Valid: 12.65245532989502\n",
            "Epoch 215 Train: 9.306599821363177 Valid: 12.508271217346191\n",
            "Epoch 220 Train: 9.438997064317975 Valid: 12.769388198852539\n",
            "Epoch 225 Train: 9.484067939576649 Valid: 12.30218505859375\n",
            "Epoch 230 Train: 9.636370499928793 Valid: 12.899487018585205\n",
            "Epoch 235 Train: 9.4072440578824 Valid: 13.859463214874268\n",
            "Epoch 240 Train: 9.581461270650228 Valid: 13.66641616821289\n",
            "Epoch 245 Train: 9.43335517247518 Valid: 12.343478202819824\n",
            "Epoch 250 Train: 9.414270401000977 Valid: 12.27751111984253\n",
            "Epoch 255 Train: 9.605111621675038 Valid: 12.79135799407959\n",
            "Epoch 260 Train: 9.478168056124733 Valid: 12.1321382522583\n",
            "Epoch 265 Train: 9.249643303099132 Valid: 12.532105445861816\n",
            "Epoch 270 Train: 9.248005685352144 Valid: 12.222804546356201\n",
            "Epoch 275 Train: 9.379987262544178 Valid: 12.781957149505615\n",
            "Epoch 280 Train: 9.564551966530937 Valid: 12.880911350250244\n",
            "Epoch 285 Train: 9.485747683615912 Valid: 12.854499816894531\n",
            "Epoch 290 Train: 9.378586133321127 Valid: 13.38809585571289\n",
            "Epoch 295 Train: 9.472099974041893 Valid: 13.39487361907959\n",
            "Epoch 300 Train: 9.307011831374396 Valid: 12.557133197784424\n",
            "Epoch 305 Train: 9.27076446442377 Valid: 11.9280686378479\n",
            "Epoch 310 Train: 9.394638379414877 Valid: 11.551791191101074\n",
            "Epoch 315 Train: 9.009806655702137 Valid: 12.078618049621582\n",
            "Epoch 320 Train: 9.28395736785162 Valid: 12.289810180664062\n",
            "Epoch 325 Train: 9.435499730564299 Valid: 11.847840785980225\n",
            "Epoch 330 Train: 9.227342951865424 Valid: 13.026424407958984\n",
            "Epoch 335 Train: 9.339888447806949 Valid: 12.503113746643066\n",
            "Epoch 340 Train: 9.389228553999038 Valid: 12.433135986328125\n",
            "Epoch 345 Train: 9.271267232440767 Valid: 12.147320747375488\n",
            "Epoch 350 Train: 9.269549869355702 Valid: 12.234643459320068\n",
            "Epoch 355 Train: 9.35050006139846 Valid: 12.851590156555176\n",
            "Epoch 360 Train: 9.203933602287655 Valid: 12.012497425079346\n",
            "Epoch 365 Train: 9.13653556505839 Valid: 13.17809772491455\n",
            "Epoch 370 Train: 9.575073912030174 Valid: 11.961390972137451\n",
            "Epoch 375 Train: 9.185418163027082 Valid: 12.666148662567139\n",
            "Epoch 380 Train: 9.311087097440447 Valid: 12.95300579071045\n",
            "Epoch 385 Train: 9.083649981589545 Valid: 13.816117763519287\n",
            "Epoch 390 Train: 9.290339004425775 Valid: 12.301407814025879\n",
            "Epoch 395 Train: 9.001417137327648 Valid: 13.169925689697266\n",
            "Epoch 400 Train: 9.399359759830293 Valid: 12.045807361602783\n",
            "Epoch 405 Train: 9.44267870130993 Valid: 11.793836116790771\n",
            "Epoch 410 Train: 9.112915561312722 Valid: 13.340610980987549\n",
            "Epoch 415 Train: 9.044481635093689 Valid: 11.964962005615234\n",
            "Epoch 420 Train: 9.327588546843756 Valid: 11.814568996429443\n",
            "Epoch 425 Train: 9.210907039188204 Valid: 12.466339111328125\n",
            "Epoch 430 Train: 9.251746949695406 Valid: 13.026567459106445\n",
            "Epoch 435 Train: 9.167424474443708 Valid: 12.93666124343872\n",
            "Epoch 440 Train: 9.219854093733288 Valid: 13.46963357925415\n",
            "Epoch 445 Train: 9.299563839322044 Valid: 12.310129165649414\n",
            "Epoch 450 Train: 9.234300670169649 Valid: 12.344371795654297\n",
            "Epoch 455 Train: 9.25398580233256 Valid: 11.74970293045044\n",
            "Epoch 460 Train: 9.345953135263352 Valid: 12.554445743560791\n",
            "Epoch 465 Train: 9.064760616847447 Valid: 11.562471389770508\n",
            "Epoch 470 Train: 9.182204405466715 Valid: 13.209457397460938\n",
            "Epoch 475 Train: 9.319147263254438 Valid: 11.449511528015137\n",
            "Epoch 480 Train: 8.980409747078305 Valid: 12.760671138763428\n",
            "Epoch 485 Train: 9.032845485778083 Valid: 11.453175067901611\n",
            "Epoch 490 Train: 9.278881629308065 Valid: 12.504655361175537\n",
            "Epoch 495 Train: 9.199299738520669 Valid: 11.93777322769165\n",
            "Epoch 500 Train: 9.003482256616865 Valid: 12.499458312988281\n",
            "Epoch 505 Train: 9.282790575708662 Valid: 13.03791332244873\n",
            "Epoch 510 Train: 9.22468768414997 Valid: 12.054060459136963\n",
            "Epoch 515 Train: 8.86370947815123 Valid: 12.303637027740479\n",
            "Epoch 520 Train: 9.057065373375302 Valid: 12.980322360992432\n",
            "Epoch 525 Train: 9.047258729026431 Valid: 13.163749694824219\n",
            "Epoch 530 Train: 9.231244995480491 Valid: 12.748108863830566\n",
            "Epoch 535 Train: 9.225998867125739 Valid: 12.138290882110596\n",
            "Epoch 540 Train: 9.308200768062047 Valid: 12.785385131835938\n",
            "Epoch 545 Train: 9.058557601202102 Valid: 12.73561429977417\n",
            "Epoch 550 Train: 9.160505124500819 Valid: 12.861831188201904\n",
            "Epoch 555 Train: 9.110052449362618 Valid: 12.988968849182129\n",
            "Epoch 560 Train: 9.01148059254601 Valid: 11.429893493652344\n",
            "Epoch 565 Train: 9.015668562480382 Valid: 12.237399101257324\n",
            "Epoch 570 Train: 9.288274061112176 Valid: 12.545697212219238\n",
            "Epoch 575 Train: 9.596067542121524 Valid: 13.016332626342773\n",
            "Epoch 580 Train: 9.195231119791666 Valid: 14.051454544067383\n",
            "Epoch 585 Train: 9.138198790096101 Valid: 13.912604331970215\n",
            "Epoch 590 Train: 9.036985187303452 Valid: 12.825100898742676\n",
            "Epoch 595 Train: 9.290869235992432 Valid: 12.293156147003174\n",
            "Epoch 600 Train: 9.509010916664487 Valid: 11.314677238464355\n",
            "Epoch 605 Train: 9.215927033197312 Valid: 12.456127643585205\n",
            "Epoch 610 Train: 9.061701275053478 Valid: 12.634523868560791\n",
            "Epoch 615 Train: 9.056070804595947 Valid: 12.183002948760986\n",
            "Epoch 620 Train: 9.401101532436552 Valid: 13.379923820495605\n",
            "Epoch 625 Train: 9.049674874260312 Valid: 12.962903499603271\n",
            "Epoch 630 Train: 9.129915254456657 Valid: 14.709199905395508\n",
            "Epoch 635 Train: 9.129687899634952 Valid: 11.94943618774414\n",
            "Epoch 640 Train: 9.053731027103606 Valid: 14.736948490142822\n",
            "Epoch 645 Train: 9.146162282852899 Valid: 12.204081058502197\n",
            "Epoch 650 Train: 9.281966413770403 Valid: 12.009644508361816\n",
            "Epoch 655 Train: 9.306521540596371 Valid: 12.987861633300781\n",
            "Epoch 660 Train: 8.921809275945028 Valid: 11.514081954956055\n",
            "Epoch 665 Train: 9.10429935228257 Valid: 12.234771251678467\n",
            "Epoch 670 Train: 9.092913111050924 Valid: 12.095827579498291\n",
            "Epoch 675 Train: 9.235007166862488 Valid: 11.903712272644043\n",
            "Epoch 680 Train: 8.950976070903597 Valid: 12.554428100585938\n",
            "Epoch 685 Train: 9.233333831741696 Valid: 12.272592544555664\n",
            "Epoch 690 Train: 9.300717728478569 Valid: 12.824440956115723\n",
            "Epoch 695 Train: 9.434860729035877 Valid: 12.09538984298706\n",
            "Epoch 700 Train: 9.246094192777361 Valid: 13.07177734375\n",
            "Epoch 705 Train: 9.198809896196638 Valid: 12.731164455413818\n",
            "Epoch 710 Train: 8.74454190617516 Valid: 12.090086936950684\n",
            "Epoch 715 Train: 9.139699351219903 Valid: 12.659777164459229\n",
            "Epoch 720 Train: 9.212517755372184 Valid: 12.39326810836792\n",
            "Epoch 725 Train: 8.89879966917492 Valid: 12.607630252838135\n",
            "Epoch 730 Train: 9.391038656234741 Valid: 13.088536739349365\n",
            "Epoch 735 Train: 9.080428373245965 Valid: 12.966374397277832\n",
            "Epoch 740 Train: 9.093030986331758 Valid: 12.450363159179688\n",
            "Epoch 745 Train: 9.304625715528216 Valid: 14.672049522399902\n",
            "Epoch 750 Train: 9.088178362165179 Valid: 14.460114002227783\n",
            "Epoch 755 Train: 9.370165665944418 Valid: 12.356488227844238\n",
            "Epoch 760 Train: 9.240182570048741 Valid: 12.837460994720459\n",
            "Epoch 765 Train: 8.887082026118325 Valid: 11.055846214294434\n",
            "Epoch 770 Train: 9.041675068083263 Valid: 12.49734878540039\n",
            "Epoch 775 Train: 9.038991939453851 Valid: 12.102453231811523\n",
            "Epoch 780 Train: 8.823149510792323 Valid: 13.145863056182861\n",
            "Epoch 785 Train: 9.096943548747472 Valid: 15.087076663970947\n",
            "Epoch 790 Train: 9.1983338480904 Valid: 12.263030052185059\n",
            "Epoch 795 Train: 9.10626901331402 Valid: 13.789318561553955\n",
            "Epoch 800 Train: 9.285012687955584 Valid: 13.894618034362793\n",
            "Epoch 805 Train: 9.228292448180062 Valid: 12.020228385925293\n",
            "Epoch 810 Train: 8.992190037454877 Valid: 12.07819652557373\n",
            "Epoch 815 Train: 9.103701540402003 Valid: 12.290603637695312\n",
            "Epoch 820 Train: 9.117585800942921 Valid: 12.494745254516602\n",
            "Epoch 825 Train: 8.908747911453247 Valid: 14.526528358459473\n",
            "Epoch 830 Train: 9.014229626882644 Valid: 14.651429653167725\n",
            "Epoch 835 Train: 8.94458624294826 Valid: 11.869619369506836\n",
            "Epoch 840 Train: 9.129418634233021 Valid: 12.92555046081543\n",
            "Epoch 845 Train: 8.653047328903561 Valid: 12.40127420425415\n",
            "Epoch 850 Train: 9.25730307896932 Valid: 12.499911785125732\n",
            "Epoch 855 Train: 8.913062708718437 Valid: 12.553906440734863\n",
            "Epoch 860 Train: 9.00328076453436 Valid: 12.378897190093994\n",
            "Epoch 865 Train: 9.148859847159613 Valid: 13.16396713256836\n",
            "Epoch 870 Train: 8.909870227177938 Valid: 12.094261646270752\n",
            "Epoch 875 Train: 9.188793159666515 Valid: 11.724719047546387\n",
            "Epoch 880 Train: 8.89736421335311 Valid: 14.190082550048828\n",
            "Epoch 885 Train: 9.290327469507853 Valid: 11.475630760192871\n",
            "Epoch 890 Train: 8.826278476488023 Valid: 12.141668319702148\n",
            "Epoch 895 Train: 9.271275009427752 Valid: 14.452983856201172\n",
            "Epoch 900 Train: 9.038395064217704 Valid: 14.039448261260986\n",
            "Epoch 905 Train: 8.54972799619039 Valid: 12.444075107574463\n",
            "Epoch 910 Train: 8.616338116782051 Valid: 12.623602867126465\n",
            "Epoch 915 Train: 8.72070490746271 Valid: 14.377257347106934\n",
            "Epoch 920 Train: 9.091902142479306 Valid: 13.778446674346924\n",
            "Epoch 925 Train: 9.051712155342102 Valid: 14.50225019454956\n",
            "Epoch 930 Train: 9.230300074531918 Valid: 12.126340389251709\n",
            "Epoch 935 Train: 9.093732618150257 Valid: 12.057719230651855\n",
            "Epoch 940 Train: 9.034579242978777 Valid: 12.930556297302246\n",
            "Epoch 945 Train: 9.014193375905355 Valid: 12.117085456848145\n",
            "Epoch 950 Train: 8.761951191084725 Valid: 12.22025203704834\n",
            "Epoch 955 Train: 9.098577005522591 Valid: 12.00760793685913\n",
            "Epoch 960 Train: 9.306903725578671 Valid: 12.11907958984375\n",
            "Epoch 965 Train: 8.8577074720746 Valid: 12.500421047210693\n",
            "Epoch 970 Train: 8.921493711925688 Valid: 11.745140075683594\n",
            "Epoch 975 Train: 8.858297892979213 Valid: 12.32046890258789\n",
            "Epoch 980 Train: 9.104199795495896 Valid: 14.039488315582275\n",
            "Epoch 985 Train: 8.985564237549191 Valid: 12.010965824127197\n",
            "Epoch 990 Train: 9.14487167767116 Valid: 12.053551197052002\n",
            "Epoch 995 Train: 9.014601423626853 Valid: 13.558514595031738\n",
            "Epoch 1000 Train: 9.013815896851677 Valid: 12.718801021575928\n",
            "Epoch 1005 Train: 9.143284411657424 Valid: 11.643051147460938\n",
            "Epoch 1010 Train: 9.11767798378354 Valid: 13.784223079681396\n",
            "Epoch 1015 Train: 8.975905361629668 Valid: 11.544637680053711\n",
            "Epoch 1020 Train: 8.916155781064715 Valid: 14.089947700500488\n",
            "Epoch 1025 Train: 9.060844716571626 Valid: 12.231852054595947\n",
            "Epoch 1030 Train: 9.1472840990339 Valid: 12.280914306640625\n",
            "Epoch 1035 Train: 8.977489278430031 Valid: 13.349154472351074\n",
            "Epoch 1040 Train: 8.845720943950472 Valid: 13.829673290252686\n",
            "Epoch 1045 Train: 8.85044108685993 Valid: 12.870688438415527\n",
            "Epoch 1050 Train: 9.01429912022182 Valid: 12.43634033203125\n",
            "Epoch 1055 Train: 9.108132884615944 Valid: 12.932358741760254\n",
            "Epoch 1060 Train: 9.033116249811082 Valid: 12.423880577087402\n",
            "Epoch 1065 Train: 9.065934890792484 Valid: 12.52598762512207\n",
            "Epoch 1070 Train: 8.849129994710287 Valid: 13.0885009765625\n",
            "Epoch 1075 Train: 9.1507203238351 Valid: 12.182580947875977\n",
            "Epoch 1080 Train: 8.844881330217634 Valid: 11.143520832061768\n",
            "Epoch 1085 Train: 8.970902499698457 Valid: 13.04737377166748\n",
            "Epoch 1090 Train: 8.948468395641871 Valid: 13.731533527374268\n",
            "Epoch 1095 Train: 9.114761772609892 Valid: 13.999325275421143\n",
            "Epoch 1100 Train: 9.217091038113548 Valid: 13.126027584075928\n",
            "Epoch 1105 Train: 8.816147883733114 Valid: 11.691519260406494\n",
            "Epoch 1110 Train: 9.060095741635276 Valid: 10.96816873550415\n",
            "Epoch 1115 Train: 8.834711387043907 Valid: 12.203049182891846\n",
            "Epoch 1120 Train: 8.673977147965203 Valid: 12.092989444732666\n",
            "Epoch 1125 Train: 8.766639720825921 Valid: 11.629864692687988\n",
            "Epoch 1130 Train: 9.176422879809426 Valid: 13.249549865722656\n",
            "Epoch 1135 Train: 8.83140850634802 Valid: 11.475430488586426\n",
            "Epoch 1140 Train: 9.028443461372738 Valid: 11.88325834274292\n",
            "Epoch 1145 Train: 9.088802201407296 Valid: 12.241424560546875\n",
            "Epoch 1150 Train: 8.988709932281857 Valid: 11.99660062789917\n",
            "Epoch 1155 Train: 9.103658823739915 Valid: 13.623798370361328\n",
            "Epoch 1160 Train: 9.041210078057789 Valid: 13.486931324005127\n",
            "Epoch 1165 Train: 8.915794054667154 Valid: 13.090081214904785\n",
            "Epoch 1170 Train: 8.8918149130685 Valid: 12.848723888397217\n",
            "Epoch 1175 Train: 8.8833848181225 Valid: 11.638540267944336\n",
            "Epoch 1180 Train: 9.25176845845722 Valid: 11.926224708557129\n",
            "Epoch 1185 Train: 9.009907222929455 Valid: 12.036140441894531\n",
            "Epoch 1190 Train: 9.032458907081967 Valid: 12.727773189544678\n",
            "Epoch 1195 Train: 8.881283436502729 Valid: 13.17444133758545\n",
            "CPU times: user 10min 26s, sys: 5.73 s, total: 10min 32s\n",
            "Wall time: 10min 34s\n"
          ]
        }
      ],
      "source": [
        "%%time\n",
        "optimizer_fwd = optim.Adam(net_fwd.parameters(), lr=0.0001)\n",
        "loss_history_fwd_train, loss_history_fwd_valid, best_model_fwd = train_net(net_fwd, 1200, dataloader_fwd_train, dataloader_fwd_valid, optimizer_fwd)"
      ]
    },
    {
      "cell_type": "code",
      "execution_count": 65,
      "id": "b4915930-85c2-475e-8af8-820f1d32f5c1",
      "metadata": {
        "colab": {
          "base_uri": "https://localhost:8080/",
          "height": 279
        },
        "id": "b4915930-85c2-475e-8af8-820f1d32f5c1",
        "outputId": "c11e39dc-2e43-48b3-af04-e4be4b25ec53"
      },
      "outputs": [
        {
          "output_type": "display_data",
          "data": {
            "text/plain": [
              "<Figure size 432x288 with 1 Axes>"
            ],
            "image/png": "[encoded data removed]"
          },
          "metadata": {
            "needs_background": "light"
          }
        }
      ],
      "source": [
        "plot_loss_history(loss_history_fwd_train, loss_history_fwd_valid)"
      ]
    },
    {
      "cell_type": "markdown",
      "source": [
        "# Saving models to files"
      ],
      "metadata": {
        "id": "aEg01NBwVZu8"
      },
      "id": "aEg01NBwVZu8"
    },
    {
      "cell_type": "code",
      "source": [
        "# general model\n",
        "torch.save(net.state_dict(), 'models/regular/lstm_general.pt')\n",
        "\n",
        "# positional models\n",
        "torch.save(net_gk.state_dict(), 'models/regular/lstm_gk.pt')\n",
        "torch.save(net_def.state_dict(), 'models/regular/lstm_def.pt')\n",
        "torch.save(net_mid.state_dict(), 'models/regular/lstm_mid.pt')\n",
        "torch.save(net_fwd.state_dict(), 'models/regular/lstm_fwd.pt')\n",
        "\n",
        "# best models\n",
        "torch.save(best_model_general.state_dict(), 'models/best/best_lstm_general.pt')\n",
        "torch.save(best_model_gk.state_dict(), 'models/best/best_lstm_gk.pt')\n",
        "torch.save(best_model_def.state_dict(), 'models/best/best_lstm_def.pt')\n",
        "torch.save(best_model_mid.state_dict(), 'models/best/best_lstm_mid.pt')\n",
        "torch.save(best_model_fwd.state_dict(), 'models/best/best_lstm_fwd.pt')"
      ],
      "metadata": {
        "id": "qHSzIWHFVbX3"
      },
      "id": "qHSzIWHFVbX3",
      "execution_count": 47,
      "outputs": []
    },
    {
      "cell_type": "markdown",
      "id": "222c6cfd-5148-4793-a9f7-6dfa76115a68",
      "metadata": {
        "id": "222c6cfd-5148-4793-a9f7-6dfa76115a68"
      },
      "source": [
        "# Predictions - general model"
      ]
    },
    {
      "cell_type": "code",
      "execution_count": 48,
      "id": "3c0aef7e-f7d8-4337-8cd8-f88afab90872",
      "metadata": {
        "id": "3c0aef7e-f7d8-4337-8cd8-f88afab90872"
      },
      "outputs": [],
      "source": [
        "def generate_predictions(dataloader_pos, dataset_pos, net_pos, df_original, first_gw):\n",
        "    index = 0\n",
        "    predictions_pos = []\n",
        "    for inputs, target in dataloader_pos:\n",
        "        inputs = torch.flatten(inputs, 1, 2)\n",
        "        inputs = inputs.unsqueeze(2).to(device)\n",
        "\n",
        "        # print(\"Inputs\", inputs)\n",
        "        # print(\"Target\", target)\n",
        "        # print(\"INPUTS\", inputs)\n",
        "        # print(inputs)\n",
        "        outputs = net_pos(inputs).to(device)\n",
        "        # print(\"OUTPUTS\", outputs)\n",
        "        for output in outputs:\n",
        "            player_id, sample_id = dataset_pos.index_table[index]\n",
        "            name = dataset_pos.names[player_id]\n",
        "            points = round(output.item(), 2)\n",
        "            # print(\"DFORW NEXT\", player_id, sample_id, name, points)\n",
        "            df_row = df_original[(df_original[\"Name\"] == name) & (df_original[\"GW\"] >= first_gw)].iloc[sample_id]\n",
        "            # print(\"DFROW\", df_row)\n",
        "            df_row[\"Points\"] = points\n",
        "            df_gw = df_row[\"GW\"]\n",
        "            df_opp = df_row[\"Opponent\"]\n",
        "\n",
        "            # print(\"GEN PRED\", player_id, sample_id, name, points, df_gw, df_opp)\n",
        "            \n",
        "            gw = sample_id + FIS + 1 # wrong\n",
        "            predictions_pos.append(df_row)\n",
        "            # df.loc[(df[\"Name\"] == name) & (df[\"GW\"] == gw), \"LSTM\"] = points\n",
        "            index += 1\n",
        "    \n",
        "    output_df = pd.DataFrame(predictions_pos)\n",
        "    output_df = output_df.loc[:, ~output_df.columns.str.contains('^Unnamed')]\n",
        "    return output_df"
      ]
    },
    {
      "cell_type": "code",
      "source": [
        "prediction_columns = [\"Name\", \"GW\", \"Opponent\", \"Was Home\", \"Total Points\", \"Points\"]"
      ],
      "metadata": {
        "id": "4oNphdyqzFsE"
      },
      "id": "4oNphdyqzFsE",
      "execution_count": 49,
      "outputs": []
    },
    {
      "cell_type": "code",
      "source": [
        "predictions = generate_predictions(dataloader_general_valid, dataset_general_valid, net, df_original, FIRST_VALID_GW)"
      ],
      "metadata": {
        "id": "ZOJBQIAXMqIV"
      },
      "id": "ZOJBQIAXMqIV",
      "execution_count": 50,
      "outputs": []
    },
    {
      "cell_type": "code",
      "source": [
        "# dataset_general_valid.__getitem__(279)"
      ],
      "metadata": {
        "id": "Nb5LI03pbVe1"
      },
      "id": "Nb5LI03pbVe1",
      "execution_count": 51,
      "outputs": []
    },
    {
      "cell_type": "code",
      "source": [
        "predictions.sort_values(by=[\"Points\"], ascending = False).head(20)[prediction_columns]"
      ],
      "metadata": {
        "colab": {
          "base_uri": "https://localhost:8080/",
          "height": 677
        },
        "id": "i00d2_cSHh5u",
        "outputId": "91f52e1b-0a84-4484-fa1a-bcb81186f364"
      },
      "id": "i00d2_cSHh5u",
      "execution_count": 52,
      "outputs": [
        {
          "output_type": "execute_result",
          "data": {
            "text/plain": [
              "                  Name  GW         Opponent  Was Home  Total Points  Points\n",
              "6263      Oliver-Skipp  21           Fulham       0.0           0.0    2.83\n",
              "4913       Ruben-Neves  21  Manchester City       0.0           2.0    2.83\n",
              "5459    Aaron-Ramsdale  21   Manchester Utd       1.0           1.0    2.83\n",
              "5895       Bukayo-Saka  21   Manchester Utd       1.0           9.0    2.82\n",
              "2628     Billy-Gilmour  21   Leicester City       0.0           0.0    2.82\n",
              "2575      Joe-Gelhardt  21        Brentford       1.0           0.0    2.82\n",
              "2252  Lukasz-Fabianski  21          Everton       1.0           6.0    2.82\n",
              "2232      Eberechi-Eze  21    Newcastle Utd       1.0           3.0    2.82\n",
              "5598       Declan-Rice  21          Everton       1.0           3.0    2.82\n",
              "5667  Andrew-Robertson  21          Chelsea       1.0           6.0    2.82\n",
              "5725       Marek-Rodak  21        Tottenham       1.0           0.0    2.82\n",
              "5744             Rodri  21           Wolves       1.0           2.0    2.82\n",
              "2066   Odsonne-Edouard  21    Newcastle Utd       1.0           2.0    2.82\n",
              "3882   Jefferson-Lerma  21  Nott'ham Forest       1.0           2.0    2.82\n",
              "2659        Toti-Gomes  21  Manchester City       0.0           0.0    2.82\n",
              "5914     Mohamed-Salah  21          Chelsea       1.0           3.0    2.82\n",
              "5933    William-Saliba  21   Manchester Utd       1.0           1.0    2.82\n",
              "1873    Moussa-Djenepo  21      Aston Villa       1.0           1.0    2.82\n",
              "1855         Issa-Diop  21        Tottenham       1.0           2.0    2.82\n",
              "6092      Fabian-Schar  21   Crystal Palace       0.0           6.0    2.82"
            ],
            "text/html": [
              "\n",
              "  <div id=\"df-1145a0d0-e2dd-4118-ac69-949046b8cada\">\n",
              "    <div class=\"colab-df-container\">\n",
              "      <div>\n",
              "<style scoped>\n",
              "    .dataframe tbody tr th:only-of-type {\n",
              "        vertical-align: middle;\n",
              "    }\n",
              "\n",
              "    .dataframe tbody tr th {\n",
              "        vertical-align: top;\n",
              "    }\n",
              "\n",
              "    .dataframe thead th {\n",
              "        text-align: right;\n",
              "    }\n",
              "</style>\n",
              "<table border=\"1\" class=\"dataframe\">\n",
              "  <thead>\n",
              "    <tr style=\"text-align: right;\">\n",
              "      <th></th>\n",
              "      <th>Name</th>\n",
              "      <th>GW</th>\n",
              "      <th>Opponent</th>\n",
              "      <th>Was Home</th>\n",
              "      <th>Total Points</th>\n",
              "      <th>Points</th>\n",
              "    </tr>\n",
              "  </thead>\n",
              "  <tbody>\n",
              "    <tr>\n",
              "      <th>6263</th>\n",
              "      <td>Oliver-Skipp</td>\n",
              "      <td>21</td>\n",
              "      <td>Fulham</td>\n",
              "      <td>0.0</td>\n",
              "      <td>0.0</td>\n",
              "      <td>2.83</td>\n",
              "    </tr>\n",
              "    <tr>\n",
              "      <th>4913</th>\n",
              "      <td>Ruben-Neves</td>\n",
              "      <td>21</td>\n",
              "      <td>Manchester City</td>\n",
              "      <td>0.0</td>\n",
              "      <td>2.0</td>\n",
              "      <td>2.83</td>\n",
              "    </tr>\n",
              "    <tr>\n",
              "      <th>5459</th>\n",
              "      <td>Aaron-Ramsdale</td>\n",
              "      <td>21</td>\n",
              "      <td>Manchester Utd</td>\n",
              "      <td>1.0</td>\n",
              "      <td>1.0</td>\n",
              "      <td>2.83</td>\n",
              "    </tr>\n",
              "    <tr>\n",
              "      <th>5895</th>\n",
              "      <td>Bukayo-Saka</td>\n",
              "      <td>21</td>\n",
              "      <td>Manchester Utd</td>\n",
              "      <td>1.0</td>\n",
              "      <td>9.0</td>\n",
              "      <td>2.82</td>\n",
              "    </tr>\n",
              "    <tr>\n",
              "      <th>2628</th>\n",
              "      <td>Billy-Gilmour</td>\n",
              "      <td>21</td>\n",
              "      <td>Leicester City</td>\n",
              "      <td>0.0</td>\n",
              "      <td>0.0</td>\n",
              "      <td>2.82</td>\n",
              "    </tr>\n",
              "    <tr>\n",
              "      <th>2575</th>\n",
              "      <td>Joe-Gelhardt</td>\n",
              "      <td>21</td>\n",
              "      <td>Brentford</td>\n",
              "      <td>1.0</td>\n",
              "      <td>0.0</td>\n",
              "      <td>2.82</td>\n",
              "    </tr>\n",
              "    <tr>\n",
              "      <th>2252</th>\n",
              "      <td>Lukasz-Fabianski</td>\n",
              "      <td>21</td>\n",
              "      <td>Everton</td>\n",
              "      <td>1.0</td>\n",
              "      <td>6.0</td>\n",
              "      <td>2.82</td>\n",
              "    </tr>\n",
              "    <tr>\n",
              "      <th>2232</th>\n",
              "      <td>Eberechi-Eze</td>\n",
              "      <td>21</td>\n",
              "      <td>Newcastle Utd</td>\n",
              "      <td>1.0</td>\n",
              "      <td>3.0</td>\n",
              "      <td>2.82</td>\n",
              "    </tr>\n",
              "    <tr>\n",
              "      <th>5598</th>\n",
              "      <td>Declan-Rice</td>\n",
              "      <td>21</td>\n",
              "      <td>Everton</td>\n",
              "      <td>1.0</td>\n",
              "      <td>3.0</td>\n",
              "      <td>2.82</td>\n",
              "    </tr>\n",
              "    <tr>\n",
              "      <th>5667</th>\n",
              "      <td>Andrew-Robertson</td>\n",
              "      <td>21</td>\n",
              "      <td>Chelsea</td>\n",
              "      <td>1.0</td>\n",
              "      <td>6.0</td>\n",
              "      <td>2.82</td>\n",
              "    </tr>\n",
              "    <tr>\n",
              "      <th>5725</th>\n",
              "      <td>Marek-Rodak</td>\n",
              "      <td>21</td>\n",
              "      <td>Tottenham</td>\n",
              "      <td>1.0</td>\n",
              "      <td>0.0</td>\n",
              "      <td>2.82</td>\n",
              "    </tr>\n",
              "    <tr>\n",
              "      <th>5744</th>\n",
              "      <td>Rodri</td>\n",
              "      <td>21</td>\n",
              "      <td>Wolves</td>\n",
              "      <td>1.0</td>\n",
              "      <td>2.0</td>\n",
              "      <td>2.82</td>\n",
              "    </tr>\n",
              "    <tr>\n",
              "      <th>2066</th>\n",
              "      <td>Odsonne-Edouard</td>\n",
              "      <td>21</td>\n",
              "      <td>Newcastle Utd</td>\n",
              "      <td>1.0</td>\n",
              "      <td>2.0</td>\n",
              "      <td>2.82</td>\n",
              "    </tr>\n",
              "    <tr>\n",
              "      <th>3882</th>\n",
              "      <td>Jefferson-Lerma</td>\n",
              "      <td>21</td>\n",
              "      <td>Nott'ham Forest</td>\n",
              "      <td>1.0</td>\n",
              "      <td>2.0</td>\n",
              "      <td>2.82</td>\n",
              "    </tr>\n",
              "    <tr>\n",
              "      <th>2659</th>\n",
              "      <td>Toti-Gomes</td>\n",
              "      <td>21</td>\n",
              "      <td>Manchester City</td>\n",
              "      <td>0.0</td>\n",
              "      <td>0.0</td>\n",
              "      <td>2.82</td>\n",
              "    </tr>\n",
              "    <tr>\n",
              "      <th>5914</th>\n",
              "      <td>Mohamed-Salah</td>\n",
              "      <td>21</td>\n",
              "      <td>Chelsea</td>\n",
              "      <td>1.0</td>\n",
              "      <td>3.0</td>\n",
              "      <td>2.82</td>\n",
              "    </tr>\n",
              "    <tr>\n",
              "      <th>5933</th>\n",
              "      <td>William-Saliba</td>\n",
              "      <td>21</td>\n",
              "      <td>Manchester Utd</td>\n",
              "      <td>1.0</td>\n",
              "      <td>1.0</td>\n",
              "      <td>2.82</td>\n",
              "    </tr>\n",
              "    <tr>\n",
              "      <th>1873</th>\n",
              "      <td>Moussa-Djenepo</td>\n",
              "      <td>21</td>\n",
              "      <td>Aston Villa</td>\n",
              "      <td>1.0</td>\n",
              "      <td>1.0</td>\n",
              "      <td>2.82</td>\n",
              "    </tr>\n",
              "    <tr>\n",
              "      <th>1855</th>\n",
              "      <td>Issa-Diop</td>\n",
              "      <td>21</td>\n",
              "      <td>Tottenham</td>\n",
              "      <td>1.0</td>\n",
              "      <td>2.0</td>\n",
              "      <td>2.82</td>\n",
              "    </tr>\n",
              "    <tr>\n",
              "      <th>6092</th>\n",
              "      <td>Fabian-Schar</td>\n",
              "      <td>21</td>\n",
              "      <td>Crystal Palace</td>\n",
              "      <td>0.0</td>\n",
              "      <td>6.0</td>\n",
              "      <td>2.82</td>\n",
              "    </tr>\n",
              "  </tbody>\n",
              "</table>\n",
              "</div>\n",
              "      <button class=\"colab-df-convert\" onclick=\"convertToInteractive('df-1145a0d0-e2dd-4118-ac69-949046b8cada')\"\n",
              "              title=\"Convert this dataframe to an interactive table.\"\n",
              "              style=\"display:none;\">\n",
              "        \n",
              "  <svg xmlns=\"http://www.w3.org/2000/svg\" height=\"24px\"viewBox=\"0 0 24 24\"\n",
              "       width=\"24px\">\n",
              "    <path d=\"M0 0h24v24H0V0z\" fill=\"none\"/>\n",
              "    <path d=\"M18.56 5.44l.94 2.06.94-2.06 2.06-.94-2.06-.94-.94-2.06-.94 2.06-2.06.94zm-11 1L8.5 8.5l.94-2.06 2.06-.94-2.06-.94L8.5 2.5l-.94 2.06-2.06.94zm10 10l.94 2.06.94-2.06 2.06-.94-2.06-.94-.94-2.06-.94 2.06-2.06.94z\"/><path d=\"M17.41 7.96l-1.37-1.37c-.4-.4-.92-.59-1.43-.59-.52 0-1.04.2-1.43.59L10.3 9.45l-7.72 7.72c-.78.78-.78 2.05 0 2.83L4 21.41c.39.39.9.59 1.41.59.51 0 1.02-.2 1.41-.59l7.78-7.78 2.81-2.81c.8-.78.8-2.07 0-2.86zM5.41 20L4 18.59l7.72-7.72 1.47 1.35L5.41 20z\"/>\n",
              "  </svg>\n",
              "      </button>\n",
              "      \n",
              "  <style>\n",
              "    .colab-df-container {\n",
              "      display:flex;\n",
              "      flex-wrap:wrap;\n",
              "      gap: 12px;\n",
              "    }\n",
              "\n",
              "    .colab-df-convert {\n",
              "      background-color: #E8F0FE;\n",
              "      border: none;\n",
              "      border-radius: 50%;\n",
              "      cursor: pointer;\n",
              "      display: none;\n",
              "      fill: #1967D2;\n",
              "      height: 32px;\n",
              "      padding: 0 0 0 0;\n",
              "      width: 32px;\n",
              "    }\n",
              "\n",
              "    .colab-df-convert:hover {\n",
              "      background-color: #E2EBFA;\n",
              "      box-shadow: 0px 1px 2px rgba(60, 64, 67, 0.3), 0px 1px 3px 1px rgba(60, 64, 67, 0.15);\n",
              "      fill: #174EA6;\n",
              "    }\n",
              "\n",
              "    [theme=dark] .colab-df-convert {\n",
              "      background-color: #3B4455;\n",
              "      fill: #D2E3FC;\n",
              "    }\n",
              "\n",
              "    [theme=dark] .colab-df-convert:hover {\n",
              "      background-color: #434B5C;\n",
              "      box-shadow: 0px 1px 3px 1px rgba(0, 0, 0, 0.15);\n",
              "      filter: drop-shadow(0px 1px 2px rgba(0, 0, 0, 0.3));\n",
              "      fill: #FFFFFF;\n",
              "    }\n",
              "  </style>\n",
              "\n",
              "      <script>\n",
              "        const buttonEl =\n",
              "          document.querySelector('#df-1145a0d0-e2dd-4118-ac69-949046b8cada button.colab-df-convert');\n",
              "        buttonEl.style.display =\n",
              "          google.colab.kernel.accessAllowed ? 'block' : 'none';\n",
              "\n",
              "        async function convertToInteractive(key) {\n",
              "          const element = document.querySelector('#df-1145a0d0-e2dd-4118-ac69-949046b8cada');\n",
              "          const dataTable =\n",
              "            await google.colab.kernel.invokeFunction('convertToInteractive',\n",
              "                                                     [key], {});\n",
              "          if (!dataTable) return;\n",
              "\n",
              "          const docLinkHtml = 'Like what you see? Visit the ' +\n",
              "            '<a target=\"_blank\" href=https://colab.research.google.com/notebooks/data_table.ipynb>data table notebook</a>'\n",
              "            + ' to learn more about interactive tables.';\n",
              "          element.innerHTML = '';\n",
              "          dataTable['output_type'] = 'display_data';\n",
              "          await google.colab.output.renderOutput(dataTable, element);\n",
              "          const docLink = document.createElement('div');\n",
              "          docLink.innerHTML = docLinkHtml;\n",
              "          element.appendChild(docLink);\n",
              "        }\n",
              "      </script>\n",
              "    </div>\n",
              "  </div>\n",
              "  "
            ]
          },
          "metadata": {},
          "execution_count": 52
        }
      ]
    },
    {
      "cell_type": "code",
      "execution_count": 53,
      "id": "297cfbd4-0fbe-46b4-9fc4-d79eeaadf70d",
      "metadata": {
        "id": "297cfbd4-0fbe-46b4-9fc4-d79eeaadf70d"
      },
      "outputs": [],
      "source": [
        "# # appending results to original df\n",
        "# for df_gw, df_opp, name, gw, points in predictions:\n",
        "#     df_original.loc[(df_original[\"Name\"] == name) & (df[\"GW\"] == gw), \"LSTM\"] = points"
      ]
    },
    {
      "cell_type": "code",
      "execution_count": 54,
      "id": "ce5882f0-aff6-4ae9-9cba-8b4e816bec07",
      "metadata": {
        "id": "ce5882f0-aff6-4ae9-9cba-8b4e816bec07"
      },
      "outputs": [],
      "source": [
        "# df_original.to_csv(\"data/fpl_fbref_elo_lstm.csv\")"
      ]
    },
    {
      "cell_type": "markdown",
      "id": "07f29a9a-1341-4a6f-a3eb-10685dfb6b0d",
      "metadata": {
        "id": "07f29a9a-1341-4a6f-a3eb-10685dfb6b0d"
      },
      "source": [
        "# Predictions for each position"
      ]
    },
    {
      "cell_type": "markdown",
      "id": "a59960f5-efe3-453f-97de-8973cf73ee70",
      "metadata": {
        "id": "a59960f5-efe3-453f-97de-8973cf73ee70"
      },
      "source": [
        "## Goalkeepers"
      ]
    },
    {
      "cell_type": "code",
      "execution_count": 55,
      "id": "de13487b-b45b-43fb-9c94-9dc91033ddd9",
      "metadata": {
        "id": "de13487b-b45b-43fb-9c94-9dc91033ddd9"
      },
      "outputs": [],
      "source": [
        "predictions_gk = generate_predictions(dataloader_gk_valid, dataset_gk_valid, net_gk, df_gk_original, FIRST_VALID_GW)"
      ]
    },
    {
      "cell_type": "code",
      "execution_count": 56,
      "id": "df13c078-9794-4a74-bafc-4826e352394d",
      "metadata": {
        "id": "df13c078-9794-4a74-bafc-4826e352394d",
        "colab": {
          "base_uri": "https://localhost:8080/",
          "height": 677
        },
        "outputId": "b8571652-af81-43ed-b9f1-5379895f3224"
      },
      "outputs": [
        {
          "output_type": "execute_result",
          "data": {
            "text/plain": [
              "                   Name  GW         Opponent  Was Home  Total Points  Points\n",
              "391     Alphonse-Areola  21          Everton       1.0           0.0    3.14\n",
              "2409     Fraser-Forster  21           Fulham       0.0           0.0    3.14\n",
              "731       Asmir-Begovic  21         West Ham       0.0           0.0    3.13\n",
              "5516         David-Raya  21     Leeds United       0.0          10.0    3.12\n",
              "7030         Danny-Ward  21         Brighton       1.0           1.0    3.10\n",
              "5066        Robin-Olsen  21      Southampton       0.0           0.0    3.09\n",
              "5403          Nick-Pope  21   Crystal Palace       0.0           6.0    3.08\n",
              "6761       Mark-Travers  21  Nott'ham Forest       1.0           0.0    3.07\n",
              "4603      Illan-Meslier  21        Brentford       1.0           6.0    3.06\n",
              "4000        Hugo-Lloris  21           Fulham       0.0           9.0    3.05\n",
              "2047            Ederson  21           Wolves       1.0           6.0    3.04\n",
              "4335  Emiliano-Martinez  21      Southampton       0.0          10.0    3.03\n",
              "2252   Lukasz-Fabianski  21          Everton       1.0           6.0    3.03\n",
              "5863            Jose-Sa  21  Manchester City       0.0           2.0    3.03\n",
              "6011     Robert-Sanchez  21   Leicester City       0.0           1.0    3.03\n",
              "467   Kepa-Arrizabalaga  21        Liverpool       0.0           9.0    3.03\n",
              "2806     Vicente-Guaita  21    Newcastle Utd       1.0          10.0    3.02\n",
              "214             Alisson  21          Chelsea       1.0           9.0    3.02\n",
              "5459     Aaron-Ramsdale  21   Manchester Utd       1.0           1.0    3.00\n",
              "675        Gavin-Bazunu  21      Aston Villa       1.0           3.0    3.00"
            ],
            "text/html": [
              "\n",
              "  <div id=\"df-f4849b3d-93eb-48d8-afe4-acf92b6f07be\">\n",
              "    <div class=\"colab-df-container\">\n",
              "      <div>\n",
              "<style scoped>\n",
              "    .dataframe tbody tr th:only-of-type {\n",
              "        vertical-align: middle;\n",
              "    }\n",
              "\n",
              "    .dataframe tbody tr th {\n",
              "        vertical-align: top;\n",
              "    }\n",
              "\n",
              "    .dataframe thead th {\n",
              "        text-align: right;\n",
              "    }\n",
              "</style>\n",
              "<table border=\"1\" class=\"dataframe\">\n",
              "  <thead>\n",
              "    <tr style=\"text-align: right;\">\n",
              "      <th></th>\n",
              "      <th>Name</th>\n",
              "      <th>GW</th>\n",
              "      <th>Opponent</th>\n",
              "      <th>Was Home</th>\n",
              "      <th>Total Points</th>\n",
              "      <th>Points</th>\n",
              "    </tr>\n",
              "  </thead>\n",
              "  <tbody>\n",
              "    <tr>\n",
              "      <th>391</th>\n",
              "      <td>Alphonse-Areola</td>\n",
              "      <td>21</td>\n",
              "      <td>Everton</td>\n",
              "      <td>1.0</td>\n",
              "      <td>0.0</td>\n",
              "      <td>3.14</td>\n",
              "    </tr>\n",
              "    <tr>\n",
              "      <th>2409</th>\n",
              "      <td>Fraser-Forster</td>\n",
              "      <td>21</td>\n",
              "      <td>Fulham</td>\n",
              "      <td>0.0</td>\n",
              "      <td>0.0</td>\n",
              "      <td>3.14</td>\n",
              "    </tr>\n",
              "    <tr>\n",
              "      <th>731</th>\n",
              "      <td>Asmir-Begovic</td>\n",
              "      <td>21</td>\n",
              "      <td>West Ham</td>\n",
              "      <td>0.0</td>\n",
              "      <td>0.0</td>\n",
              "      <td>3.13</td>\n",
              "    </tr>\n",
              "    <tr>\n",
              "      <th>5516</th>\n",
              "      <td>David-Raya</td>\n",
              "      <td>21</td>\n",
              "      <td>Leeds United</td>\n",
              "      <td>0.0</td>\n",
              "      <td>10.0</td>\n",
              "      <td>3.12</td>\n",
              "    </tr>\n",
              "    <tr>\n",
              "      <th>7030</th>\n",
              "      <td>Danny-Ward</td>\n",
              "      <td>21</td>\n",
              "      <td>Brighton</td>\n",
              "      <td>1.0</td>\n",
              "      <td>1.0</td>\n",
              "      <td>3.10</td>\n",
              "    </tr>\n",
              "    <tr>\n",
              "      <th>5066</th>\n",
              "      <td>Robin-Olsen</td>\n",
              "      <td>21</td>\n",
              "      <td>Southampton</td>\n",
              "      <td>0.0</td>\n",
              "      <td>0.0</td>\n",
              "      <td>3.09</td>\n",
              "    </tr>\n",
              "    <tr>\n",
              "      <th>5403</th>\n",
              "      <td>Nick-Pope</td>\n",
              "      <td>21</td>\n",
              "      <td>Crystal Palace</td>\n",
              "      <td>0.0</td>\n",
              "      <td>6.0</td>\n",
              "      <td>3.08</td>\n",
              "    </tr>\n",
              "    <tr>\n",
              "      <th>6761</th>\n",
              "      <td>Mark-Travers</td>\n",
              "      <td>21</td>\n",
              "      <td>Nott'ham Forest</td>\n",
              "      <td>1.0</td>\n",
              "      <td>0.0</td>\n",
              "      <td>3.07</td>\n",
              "    </tr>\n",
              "    <tr>\n",
              "      <th>4603</th>\n",
              "      <td>Illan-Meslier</td>\n",
              "      <td>21</td>\n",
              "      <td>Brentford</td>\n",
              "      <td>1.0</td>\n",
              "      <td>6.0</td>\n",
              "      <td>3.06</td>\n",
              "    </tr>\n",
              "    <tr>\n",
              "      <th>4000</th>\n",
              "      <td>Hugo-Lloris</td>\n",
              "      <td>21</td>\n",
              "      <td>Fulham</td>\n",
              "      <td>0.0</td>\n",
              "      <td>9.0</td>\n",
              "      <td>3.05</td>\n",
              "    </tr>\n",
              "    <tr>\n",
              "      <th>2047</th>\n",
              "      <td>Ederson</td>\n",
              "      <td>21</td>\n",
              "      <td>Wolves</td>\n",
              "      <td>1.0</td>\n",
              "      <td>6.0</td>\n",
              "      <td>3.04</td>\n",
              "    </tr>\n",
              "    <tr>\n",
              "      <th>4335</th>\n",
              "      <td>Emiliano-Martinez</td>\n",
              "      <td>21</td>\n",
              "      <td>Southampton</td>\n",
              "      <td>0.0</td>\n",
              "      <td>10.0</td>\n",
              "      <td>3.03</td>\n",
              "    </tr>\n",
              "    <tr>\n",
              "      <th>2252</th>\n",
              "      <td>Lukasz-Fabianski</td>\n",
              "      <td>21</td>\n",
              "      <td>Everton</td>\n",
              "      <td>1.0</td>\n",
              "      <td>6.0</td>\n",
              "      <td>3.03</td>\n",
              "    </tr>\n",
              "    <tr>\n",
              "      <th>5863</th>\n",
              "      <td>Jose-Sa</td>\n",
              "      <td>21</td>\n",
              "      <td>Manchester City</td>\n",
              "      <td>0.0</td>\n",
              "      <td>2.0</td>\n",
              "      <td>3.03</td>\n",
              "    </tr>\n",
              "    <tr>\n",
              "      <th>6011</th>\n",
              "      <td>Robert-Sanchez</td>\n",
              "      <td>21</td>\n",
              "      <td>Leicester City</td>\n",
              "      <td>0.0</td>\n",
              "      <td>1.0</td>\n",
              "      <td>3.03</td>\n",
              "    </tr>\n",
              "    <tr>\n",
              "      <th>467</th>\n",
              "      <td>Kepa-Arrizabalaga</td>\n",
              "      <td>21</td>\n",
              "      <td>Liverpool</td>\n",
              "      <td>0.0</td>\n",
              "      <td>9.0</td>\n",
              "      <td>3.03</td>\n",
              "    </tr>\n",
              "    <tr>\n",
              "      <th>2806</th>\n",
              "      <td>Vicente-Guaita</td>\n",
              "      <td>21</td>\n",
              "      <td>Newcastle Utd</td>\n",
              "      <td>1.0</td>\n",
              "      <td>10.0</td>\n",
              "      <td>3.02</td>\n",
              "    </tr>\n",
              "    <tr>\n",
              "      <th>214</th>\n",
              "      <td>Alisson</td>\n",
              "      <td>21</td>\n",
              "      <td>Chelsea</td>\n",
              "      <td>1.0</td>\n",
              "      <td>9.0</td>\n",
              "      <td>3.02</td>\n",
              "    </tr>\n",
              "    <tr>\n",
              "      <th>5459</th>\n",
              "      <td>Aaron-Ramsdale</td>\n",
              "      <td>21</td>\n",
              "      <td>Manchester Utd</td>\n",
              "      <td>1.0</td>\n",
              "      <td>1.0</td>\n",
              "      <td>3.00</td>\n",
              "    </tr>\n",
              "    <tr>\n",
              "      <th>675</th>\n",
              "      <td>Gavin-Bazunu</td>\n",
              "      <td>21</td>\n",
              "      <td>Aston Villa</td>\n",
              "      <td>1.0</td>\n",
              "      <td>3.0</td>\n",
              "      <td>3.00</td>\n",
              "    </tr>\n",
              "  </tbody>\n",
              "</table>\n",
              "</div>\n",
              "      <button class=\"colab-df-convert\" onclick=\"convertToInteractive('df-f4849b3d-93eb-48d8-afe4-acf92b6f07be')\"\n",
              "              title=\"Convert this dataframe to an interactive table.\"\n",
              "              style=\"display:none;\">\n",
              "        \n",
              "  <svg xmlns=\"http://www.w3.org/2000/svg\" height=\"24px\"viewBox=\"0 0 24 24\"\n",
              "       width=\"24px\">\n",
              "    <path d=\"M0 0h24v24H0V0z\" fill=\"none\"/>\n",
              "    <path d=\"M18.56 5.44l.94 2.06.94-2.06 2.06-.94-2.06-.94-.94-2.06-.94 2.06-2.06.94zm-11 1L8.5 8.5l.94-2.06 2.06-.94-2.06-.94L8.5 2.5l-.94 2.06-2.06.94zm10 10l.94 2.06.94-2.06 2.06-.94-2.06-.94-.94-2.06-.94 2.06-2.06.94z\"/><path d=\"M17.41 7.96l-1.37-1.37c-.4-.4-.92-.59-1.43-.59-.52 0-1.04.2-1.43.59L10.3 9.45l-7.72 7.72c-.78.78-.78 2.05 0 2.83L4 21.41c.39.39.9.59 1.41.59.51 0 1.02-.2 1.41-.59l7.78-7.78 2.81-2.81c.8-.78.8-2.07 0-2.86zM5.41 20L4 18.59l7.72-7.72 1.47 1.35L5.41 20z\"/>\n",
              "  </svg>\n",
              "      </button>\n",
              "      \n",
              "  <style>\n",
              "    .colab-df-container {\n",
              "      display:flex;\n",
              "      flex-wrap:wrap;\n",
              "      gap: 12px;\n",
              "    }\n",
              "\n",
              "    .colab-df-convert {\n",
              "      background-color: #E8F0FE;\n",
              "      border: none;\n",
              "      border-radius: 50%;\n",
              "      cursor: pointer;\n",
              "      display: none;\n",
              "      fill: #1967D2;\n",
              "      height: 32px;\n",
              "      padding: 0 0 0 0;\n",
              "      width: 32px;\n",
              "    }\n",
              "\n",
              "    .colab-df-convert:hover {\n",
              "      background-color: #E2EBFA;\n",
              "      box-shadow: 0px 1px 2px rgba(60, 64, 67, 0.3), 0px 1px 3px 1px rgba(60, 64, 67, 0.15);\n",
              "      fill: #174EA6;\n",
              "    }\n",
              "\n",
              "    [theme=dark] .colab-df-convert {\n",
              "      background-color: #3B4455;\n",
              "      fill: #D2E3FC;\n",
              "    }\n",
              "\n",
              "    [theme=dark] .colab-df-convert:hover {\n",
              "      background-color: #434B5C;\n",
              "      box-shadow: 0px 1px 3px 1px rgba(0, 0, 0, 0.15);\n",
              "      filter: drop-shadow(0px 1px 2px rgba(0, 0, 0, 0.3));\n",
              "      fill: #FFFFFF;\n",
              "    }\n",
              "  </style>\n",
              "\n",
              "      <script>\n",
              "        const buttonEl =\n",
              "          document.querySelector('#df-f4849b3d-93eb-48d8-afe4-acf92b6f07be button.colab-df-convert');\n",
              "        buttonEl.style.display =\n",
              "          google.colab.kernel.accessAllowed ? 'block' : 'none';\n",
              "\n",
              "        async function convertToInteractive(key) {\n",
              "          const element = document.querySelector('#df-f4849b3d-93eb-48d8-afe4-acf92b6f07be');\n",
              "          const dataTable =\n",
              "            await google.colab.kernel.invokeFunction('convertToInteractive',\n",
              "                                                     [key], {});\n",
              "          if (!dataTable) return;\n",
              "\n",
              "          const docLinkHtml = 'Like what you see? Visit the ' +\n",
              "            '<a target=\"_blank\" href=https://colab.research.google.com/notebooks/data_table.ipynb>data table notebook</a>'\n",
              "            + ' to learn more about interactive tables.';\n",
              "          element.innerHTML = '';\n",
              "          dataTable['output_type'] = 'display_data';\n",
              "          await google.colab.output.renderOutput(dataTable, element);\n",
              "          const docLink = document.createElement('div');\n",
              "          docLink.innerHTML = docLinkHtml;\n",
              "          element.appendChild(docLink);\n",
              "        }\n",
              "      </script>\n",
              "    </div>\n",
              "  </div>\n",
              "  "
            ]
          },
          "metadata": {},
          "execution_count": 56
        }
      ],
      "source": [
        "# results sorted\n",
        "predictions_gk_sorted = predictions_gk.sort_values(by=[\"Points\"], ascending = False).head(20)\n",
        "predictions_gk_sorted[prediction_columns]"
      ]
    },
    {
      "cell_type": "markdown",
      "id": "809d11e1-257e-4fd0-905b-536f95dca4e5",
      "metadata": {
        "id": "809d11e1-257e-4fd0-905b-536f95dca4e5"
      },
      "source": [
        "## Defenders"
      ]
    },
    {
      "cell_type": "code",
      "execution_count": 57,
      "id": "b67e50ec-26a2-44c2-8ef0-f7b841845ed4",
      "metadata": {
        "id": "b67e50ec-26a2-44c2-8ef0-f7b841845ed4"
      },
      "outputs": [],
      "source": [
        "predictions_def = generate_predictions(dataloader_def_valid, dataset_def_valid, net_def, df_def_original, FIRST_VALID_GW)"
      ]
    },
    {
      "cell_type": "code",
      "execution_count": 58,
      "id": "098f83a8-cd7e-4d2b-8583-44f0f43ef1d7",
      "metadata": {
        "id": "098f83a8-cd7e-4d2b-8583-44f0f43ef1d7",
        "colab": {
          "base_uri": "https://localhost:8080/",
          "height": 677
        },
        "outputId": "237c1948-9694-4aa2-af7a-07738378973c"
      },
      "outputs": [
        {
          "output_type": "execute_result",
          "data": {
            "text/plain": [
              "                   Name  GW         Opponent  Was Home  Total Points  Points\n",
              "4537            Ben-Mee  21     Leeds United       0.0           6.0    2.38\n",
              "6684  Takehiro-Tomiyasu  21   Manchester Utd       1.0           4.0    2.38\n",
              "2010         Lewis-Dunk  21   Leicester City       0.0           1.0    2.38\n",
              "6234       Thiago-Silva  21        Liverpool       0.0           6.0    2.38\n",
              "1312    Nathaniel-Clyne  21    Newcastle Utd       1.0           1.0    2.38\n",
              "1228    Trevoh-Chalobah  21        Liverpool       0.0           5.0    2.37\n",
              "142          Nathan-Ake  21           Wolves       1.0           1.0    2.37\n",
              "3646         Ezri-Konsa  21      Southampton       0.0           7.0    2.37\n",
              "1078       Joao-Cancelo  21           Wolves       1.0           0.0    2.37\n",
              "6943      Ruben-Vinagre  21         West Ham       0.0           0.0    2.37\n",
              "1183       Jonny-Castro  21  Manchester City       0.0           0.0    2.37\n",
              "76     Tosin-Adarabioyo  21        Tottenham       1.0           0.0    2.36\n",
              "1640         Ben-Davies  21           Fulham       0.0           7.0    2.36\n",
              "1821          Eric-Dier  21           Fulham       0.0           6.0    2.36\n",
              "1855          Issa-Diop  21        Tottenham       1.0           2.0    2.36\n",
              "1528    Aaron-Cresswell  21          Everton       1.0           0.0    2.36\n",
              "6131      Nelson-Semedo  21  Manchester City       0.0           1.0    2.36\n",
              "5953    Mohammed-Salisu  21      Aston Villa       1.0           2.0    2.36\n",
              "5027     Angelo-Ogbonna  21          Everton       1.0           7.0    2.36\n",
              "4685    Tyrick-Mitchell  21    Newcastle Utd       1.0           7.0    2.36"
            ],
            "text/html": [
              "\n",
              "  <div id=\"df-70a8f0f4-def0-41b2-81f1-3db610713475\">\n",
              "    <div class=\"colab-df-container\">\n",
              "      <div>\n",
              "<style scoped>\n",
              "    .dataframe tbody tr th:only-of-type {\n",
              "        vertical-align: middle;\n",
              "    }\n",
              "\n",
              "    .dataframe tbody tr th {\n",
              "        vertical-align: top;\n",
              "    }\n",
              "\n",
              "    .dataframe thead th {\n",
              "        text-align: right;\n",
              "    }\n",
              "</style>\n",
              "<table border=\"1\" class=\"dataframe\">\n",
              "  <thead>\n",
              "    <tr style=\"text-align: right;\">\n",
              "      <th></th>\n",
              "      <th>Name</th>\n",
              "      <th>GW</th>\n",
              "      <th>Opponent</th>\n",
              "      <th>Was Home</th>\n",
              "      <th>Total Points</th>\n",
              "      <th>Points</th>\n",
              "    </tr>\n",
              "  </thead>\n",
              "  <tbody>\n",
              "    <tr>\n",
              "      <th>4537</th>\n",
              "      <td>Ben-Mee</td>\n",
              "      <td>21</td>\n",
              "      <td>Leeds United</td>\n",
              "      <td>0.0</td>\n",
              "      <td>6.0</td>\n",
              "      <td>2.38</td>\n",
              "    </tr>\n",
              "    <tr>\n",
              "      <th>6684</th>\n",
              "      <td>Takehiro-Tomiyasu</td>\n",
              "      <td>21</td>\n",
              "      <td>Manchester Utd</td>\n",
              "      <td>1.0</td>\n",
              "      <td>4.0</td>\n",
              "      <td>2.38</td>\n",
              "    </tr>\n",
              "    <tr>\n",
              "      <th>2010</th>\n",
              "      <td>Lewis-Dunk</td>\n",
              "      <td>21</td>\n",
              "      <td>Leicester City</td>\n",
              "      <td>0.0</td>\n",
              "      <td>1.0</td>\n",
              "      <td>2.38</td>\n",
              "    </tr>\n",
              "    <tr>\n",
              "      <th>6234</th>\n",
              "      <td>Thiago-Silva</td>\n",
              "      <td>21</td>\n",
              "      <td>Liverpool</td>\n",
              "      <td>0.0</td>\n",
              "      <td>6.0</td>\n",
              "      <td>2.38</td>\n",
              "    </tr>\n",
              "    <tr>\n",
              "      <th>1312</th>\n",
              "      <td>Nathaniel-Clyne</td>\n",
              "      <td>21</td>\n",
              "      <td>Newcastle Utd</td>\n",
              "      <td>1.0</td>\n",
              "      <td>1.0</td>\n",
              "      <td>2.38</td>\n",
              "    </tr>\n",
              "    <tr>\n",
              "      <th>1228</th>\n",
              "      <td>Trevoh-Chalobah</td>\n",
              "      <td>21</td>\n",
              "      <td>Liverpool</td>\n",
              "      <td>0.0</td>\n",
              "      <td>5.0</td>\n",
              "      <td>2.37</td>\n",
              "    </tr>\n",
              "    <tr>\n",
              "      <th>142</th>\n",
              "      <td>Nathan-Ake</td>\n",
              "      <td>21</td>\n",
              "      <td>Wolves</td>\n",
              "      <td>1.0</td>\n",
              "      <td>1.0</td>\n",
              "      <td>2.37</td>\n",
              "    </tr>\n",
              "    <tr>\n",
              "      <th>3646</th>\n",
              "      <td>Ezri-Konsa</td>\n",
              "      <td>21</td>\n",
              "      <td>Southampton</td>\n",
              "      <td>0.0</td>\n",
              "      <td>7.0</td>\n",
              "      <td>2.37</td>\n",
              "    </tr>\n",
              "    <tr>\n",
              "      <th>1078</th>\n",
              "      <td>Joao-Cancelo</td>\n",
              "      <td>21</td>\n",
              "      <td>Wolves</td>\n",
              "      <td>1.0</td>\n",
              "      <td>0.0</td>\n",
              "      <td>2.37</td>\n",
              "    </tr>\n",
              "    <tr>\n",
              "      <th>6943</th>\n",
              "      <td>Ruben-Vinagre</td>\n",
              "      <td>21</td>\n",
              "      <td>West Ham</td>\n",
              "      <td>0.0</td>\n",
              "      <td>0.0</td>\n",
              "      <td>2.37</td>\n",
              "    </tr>\n",
              "    <tr>\n",
              "      <th>1183</th>\n",
              "      <td>Jonny-Castro</td>\n",
              "      <td>21</td>\n",
              "      <td>Manchester City</td>\n",
              "      <td>0.0</td>\n",
              "      <td>0.0</td>\n",
              "      <td>2.37</td>\n",
              "    </tr>\n",
              "    <tr>\n",
              "      <th>76</th>\n",
              "      <td>Tosin-Adarabioyo</td>\n",
              "      <td>21</td>\n",
              "      <td>Tottenham</td>\n",
              "      <td>1.0</td>\n",
              "      <td>0.0</td>\n",
              "      <td>2.36</td>\n",
              "    </tr>\n",
              "    <tr>\n",
              "      <th>1640</th>\n",
              "      <td>Ben-Davies</td>\n",
              "      <td>21</td>\n",
              "      <td>Fulham</td>\n",
              "      <td>0.0</td>\n",
              "      <td>7.0</td>\n",
              "      <td>2.36</td>\n",
              "    </tr>\n",
              "    <tr>\n",
              "      <th>1821</th>\n",
              "      <td>Eric-Dier</td>\n",
              "      <td>21</td>\n",
              "      <td>Fulham</td>\n",
              "      <td>0.0</td>\n",
              "      <td>6.0</td>\n",
              "      <td>2.36</td>\n",
              "    </tr>\n",
              "    <tr>\n",
              "      <th>1855</th>\n",
              "      <td>Issa-Diop</td>\n",
              "      <td>21</td>\n",
              "      <td>Tottenham</td>\n",
              "      <td>1.0</td>\n",
              "      <td>2.0</td>\n",
              "      <td>2.36</td>\n",
              "    </tr>\n",
              "    <tr>\n",
              "      <th>1528</th>\n",
              "      <td>Aaron-Cresswell</td>\n",
              "      <td>21</td>\n",
              "      <td>Everton</td>\n",
              "      <td>1.0</td>\n",
              "      <td>0.0</td>\n",
              "      <td>2.36</td>\n",
              "    </tr>\n",
              "    <tr>\n",
              "      <th>6131</th>\n",
              "      <td>Nelson-Semedo</td>\n",
              "      <td>21</td>\n",
              "      <td>Manchester City</td>\n",
              "      <td>0.0</td>\n",
              "      <td>1.0</td>\n",
              "      <td>2.36</td>\n",
              "    </tr>\n",
              "    <tr>\n",
              "      <th>5953</th>\n",
              "      <td>Mohammed-Salisu</td>\n",
              "      <td>21</td>\n",
              "      <td>Aston Villa</td>\n",
              "      <td>1.0</td>\n",
              "      <td>2.0</td>\n",
              "      <td>2.36</td>\n",
              "    </tr>\n",
              "    <tr>\n",
              "      <th>5027</th>\n",
              "      <td>Angelo-Ogbonna</td>\n",
              "      <td>21</td>\n",
              "      <td>Everton</td>\n",
              "      <td>1.0</td>\n",
              "      <td>7.0</td>\n",
              "      <td>2.36</td>\n",
              "    </tr>\n",
              "    <tr>\n",
              "      <th>4685</th>\n",
              "      <td>Tyrick-Mitchell</td>\n",
              "      <td>21</td>\n",
              "      <td>Newcastle Utd</td>\n",
              "      <td>1.0</td>\n",
              "      <td>7.0</td>\n",
              "      <td>2.36</td>\n",
              "    </tr>\n",
              "  </tbody>\n",
              "</table>\n",
              "</div>\n",
              "      <button class=\"colab-df-convert\" onclick=\"convertToInteractive('df-70a8f0f4-def0-41b2-81f1-3db610713475')\"\n",
              "              title=\"Convert this dataframe to an interactive table.\"\n",
              "              style=\"display:none;\">\n",
              "        \n",
              "  <svg xmlns=\"http://www.w3.org/2000/svg\" height=\"24px\"viewBox=\"0 0 24 24\"\n",
              "       width=\"24px\">\n",
              "    <path d=\"M0 0h24v24H0V0z\" fill=\"none\"/>\n",
              "    <path d=\"M18.56 5.44l.94 2.06.94-2.06 2.06-.94-2.06-.94-.94-2.06-.94 2.06-2.06.94zm-11 1L8.5 8.5l.94-2.06 2.06-.94-2.06-.94L8.5 2.5l-.94 2.06-2.06.94zm10 10l.94 2.06.94-2.06 2.06-.94-2.06-.94-.94-2.06-.94 2.06-2.06.94z\"/><path d=\"M17.41 7.96l-1.37-1.37c-.4-.4-.92-.59-1.43-.59-.52 0-1.04.2-1.43.59L10.3 9.45l-7.72 7.72c-.78.78-.78 2.05 0 2.83L4 21.41c.39.39.9.59 1.41.59.51 0 1.02-.2 1.41-.59l7.78-7.78 2.81-2.81c.8-.78.8-2.07 0-2.86zM5.41 20L4 18.59l7.72-7.72 1.47 1.35L5.41 20z\"/>\n",
              "  </svg>\n",
              "      </button>\n",
              "      \n",
              "  <style>\n",
              "    .colab-df-container {\n",
              "      display:flex;\n",
              "      flex-wrap:wrap;\n",
              "      gap: 12px;\n",
              "    }\n",
              "\n",
              "    .colab-df-convert {\n",
              "      background-color: #E8F0FE;\n",
              "      border: none;\n",
              "      border-radius: 50%;\n",
              "      cursor: pointer;\n",
              "      display: none;\n",
              "      fill: #1967D2;\n",
              "      height: 32px;\n",
              "      padding: 0 0 0 0;\n",
              "      width: 32px;\n",
              "    }\n",
              "\n",
              "    .colab-df-convert:hover {\n",
              "      background-color: #E2EBFA;\n",
              "      box-shadow: 0px 1px 2px rgba(60, 64, 67, 0.3), 0px 1px 3px 1px rgba(60, 64, 67, 0.15);\n",
              "      fill: #174EA6;\n",
              "    }\n",
              "\n",
              "    [theme=dark] .colab-df-convert {\n",
              "      background-color: #3B4455;\n",
              "      fill: #D2E3FC;\n",
              "    }\n",
              "\n",
              "    [theme=dark] .colab-df-convert:hover {\n",
              "      background-color: #434B5C;\n",
              "      box-shadow: 0px 1px 3px 1px rgba(0, 0, 0, 0.15);\n",
              "      filter: drop-shadow(0px 1px 2px rgba(0, 0, 0, 0.3));\n",
              "      fill: #FFFFFF;\n",
              "    }\n",
              "  </style>\n",
              "\n",
              "      <script>\n",
              "        const buttonEl =\n",
              "          document.querySelector('#df-70a8f0f4-def0-41b2-81f1-3db610713475 button.colab-df-convert');\n",
              "        buttonEl.style.display =\n",
              "          google.colab.kernel.accessAllowed ? 'block' : 'none';\n",
              "\n",
              "        async function convertToInteractive(key) {\n",
              "          const element = document.querySelector('#df-70a8f0f4-def0-41b2-81f1-3db610713475');\n",
              "          const dataTable =\n",
              "            await google.colab.kernel.invokeFunction('convertToInteractive',\n",
              "                                                     [key], {});\n",
              "          if (!dataTable) return;\n",
              "\n",
              "          const docLinkHtml = 'Like what you see? Visit the ' +\n",
              "            '<a target=\"_blank\" href=https://colab.research.google.com/notebooks/data_table.ipynb>data table notebook</a>'\n",
              "            + ' to learn more about interactive tables.';\n",
              "          element.innerHTML = '';\n",
              "          dataTable['output_type'] = 'display_data';\n",
              "          await google.colab.output.renderOutput(dataTable, element);\n",
              "          const docLink = document.createElement('div');\n",
              "          docLink.innerHTML = docLinkHtml;\n",
              "          element.appendChild(docLink);\n",
              "        }\n",
              "      </script>\n",
              "    </div>\n",
              "  </div>\n",
              "  "
            ]
          },
          "metadata": {},
          "execution_count": 58
        }
      ],
      "source": [
        "# results sorted\n",
        "predictions_def_sorted = predictions_def.sort_values(by=[\"Points\"], ascending = False).head(20)\n",
        "predictions_def_sorted[prediction_columns]"
      ]
    },
    {
      "cell_type": "markdown",
      "id": "e098be91-df44-4aba-b619-de4a11ad91db",
      "metadata": {
        "id": "e098be91-df44-4aba-b619-de4a11ad91db"
      },
      "source": [
        "## Midfielders"
      ]
    },
    {
      "cell_type": "code",
      "execution_count": 59,
      "id": "37c5faa1-e7ba-4048-a3ae-39472de0e646",
      "metadata": {
        "id": "37c5faa1-e7ba-4048-a3ae-39472de0e646"
      },
      "outputs": [],
      "source": [
        "predictions_mid = generate_predictions(dataloader_mid_valid, dataset_mid_valid, net_mid, df_mid_original, FIRST_VALID_GW)"
      ]
    },
    {
      "cell_type": "code",
      "execution_count": 60,
      "id": "a8a940bf-1f53-4130-831f-ad6010b92cef",
      "metadata": {
        "id": "a8a940bf-1f53-4130-831f-ad6010b92cef",
        "colab": {
          "base_uri": "https://localhost:8080/",
          "height": 677
        },
        "outputId": "f52be87a-db15-4a3e-b03b-cda94bcae68d"
      },
      "outputs": [
        {
          "output_type": "execute_result",
          "data": {
            "text/plain": [
              "                     Name  GW         Opponent  Was Home  Total Points  Points\n",
              "18       Brenden-Aaronson  21        Brentford       1.0           3.0    2.91\n",
              "4114  Alexis-Mac-Allister  21   Leicester City       0.0           1.0    2.91\n",
              "4790        Joao-Moutinho  21  Manchester City       0.0           1.0    2.91\n",
              "4701         Kaoru-Mitoma  21   Leicester City       0.0          10.0    2.91\n",
              "4642         James-Milner  21          Chelsea       1.0           2.0    2.91\n",
              "4566       Nampalys-Mendy  21         Brighton       1.0           2.0    2.91\n",
              "4517      Scott-McTominay  21          Arsenal       0.0           2.0    2.91\n",
              "4500        Dwight-McNeil  21         West Ham       0.0           1.0    2.91\n",
              "4316           Martinelli  21   Manchester Utd       1.0           2.0    2.91\n",
              "4288           Marquinhos  21   Manchester Utd       1.0           0.0    2.91\n",
              "4263          Solly-March  21   Leicester City       0.0           2.0    2.91\n",
              "4211         Orel-Mangala  21      Bournemouth       0.0           1.0    2.91\n",
              "4163         Riyad-Mahrez  21           Wolves       1.0           6.0    2.91\n",
              "4079         Douglas-Luiz  21      Southampton       0.0           5.0    2.91\n",
              "4969        Matheus-Nunes  21  Manchester City       0.0           2.0    2.91\n",
              "4049       Sean-Longstaff  21   Crystal Palace       0.0           3.0    2.91\n",
              "4029   Ruben-Loftus-Cheek  21        Liverpool       0.0           0.0    2.91\n",
              "3929   Keane-Lewis-Potter  21     Leeds United       0.0           0.0    2.91\n",
              "3882      Jefferson-Lerma  21  Nott'ham Forest       1.0           2.0    2.91\n",
              "3767       Manuel-Lanzini  21          Everton       1.0           0.0    2.91"
            ],
            "text/html": [
              "\n",
              "  <div id=\"df-a14b7985-68d3-4fef-a500-37f7215f8c9c\">\n",
              "    <div class=\"colab-df-container\">\n",
              "      <div>\n",
              "<style scoped>\n",
              "    .dataframe tbody tr th:only-of-type {\n",
              "        vertical-align: middle;\n",
              "    }\n",
              "\n",
              "    .dataframe tbody tr th {\n",
              "        vertical-align: top;\n",
              "    }\n",
              "\n",
              "    .dataframe thead th {\n",
              "        text-align: right;\n",
              "    }\n",
              "</style>\n",
              "<table border=\"1\" class=\"dataframe\">\n",
              "  <thead>\n",
              "    <tr style=\"text-align: right;\">\n",
              "      <th></th>\n",
              "      <th>Name</th>\n",
              "      <th>GW</th>\n",
              "      <th>Opponent</th>\n",
              "      <th>Was Home</th>\n",
              "      <th>Total Points</th>\n",
              "      <th>Points</th>\n",
              "    </tr>\n",
              "  </thead>\n",
              "  <tbody>\n",
              "    <tr>\n",
              "      <th>18</th>\n",
              "      <td>Brenden-Aaronson</td>\n",
              "      <td>21</td>\n",
              "      <td>Brentford</td>\n",
              "      <td>1.0</td>\n",
              "      <td>3.0</td>\n",
              "      <td>2.91</td>\n",
              "    </tr>\n",
              "    <tr>\n",
              "      <th>4114</th>\n",
              "      <td>Alexis-Mac-Allister</td>\n",
              "      <td>21</td>\n",
              "      <td>Leicester City</td>\n",
              "      <td>0.0</td>\n",
              "      <td>1.0</td>\n",
              "      <td>2.91</td>\n",
              "    </tr>\n",
              "    <tr>\n",
              "      <th>4790</th>\n",
              "      <td>Joao-Moutinho</td>\n",
              "      <td>21</td>\n",
              "      <td>Manchester City</td>\n",
              "      <td>0.0</td>\n",
              "      <td>1.0</td>\n",
              "      <td>2.91</td>\n",
              "    </tr>\n",
              "    <tr>\n",
              "      <th>4701</th>\n",
              "      <td>Kaoru-Mitoma</td>\n",
              "      <td>21</td>\n",
              "      <td>Leicester City</td>\n",
              "      <td>0.0</td>\n",
              "      <td>10.0</td>\n",
              "      <td>2.91</td>\n",
              "    </tr>\n",
              "    <tr>\n",
              "      <th>4642</th>\n",
              "      <td>James-Milner</td>\n",
              "      <td>21</td>\n",
              "      <td>Chelsea</td>\n",
              "      <td>1.0</td>\n",
              "      <td>2.0</td>\n",
              "      <td>2.91</td>\n",
              "    </tr>\n",
              "    <tr>\n",
              "      <th>4566</th>\n",
              "      <td>Nampalys-Mendy</td>\n",
              "      <td>21</td>\n",
              "      <td>Brighton</td>\n",
              "      <td>1.0</td>\n",
              "      <td>2.0</td>\n",
              "      <td>2.91</td>\n",
              "    </tr>\n",
              "    <tr>\n",
              "      <th>4517</th>\n",
              "      <td>Scott-McTominay</td>\n",
              "      <td>21</td>\n",
              "      <td>Arsenal</td>\n",
              "      <td>0.0</td>\n",
              "      <td>2.0</td>\n",
              "      <td>2.91</td>\n",
              "    </tr>\n",
              "    <tr>\n",
              "      <th>4500</th>\n",
              "      <td>Dwight-McNeil</td>\n",
              "      <td>21</td>\n",
              "      <td>West Ham</td>\n",
              "      <td>0.0</td>\n",
              "      <td>1.0</td>\n",
              "      <td>2.91</td>\n",
              "    </tr>\n",
              "    <tr>\n",
              "      <th>4316</th>\n",
              "      <td>Martinelli</td>\n",
              "      <td>21</td>\n",
              "      <td>Manchester Utd</td>\n",
              "      <td>1.0</td>\n",
              "      <td>2.0</td>\n",
              "      <td>2.91</td>\n",
              "    </tr>\n",
              "    <tr>\n",
              "      <th>4288</th>\n",
              "      <td>Marquinhos</td>\n",
              "      <td>21</td>\n",
              "      <td>Manchester Utd</td>\n",
              "      <td>1.0</td>\n",
              "      <td>0.0</td>\n",
              "      <td>2.91</td>\n",
              "    </tr>\n",
              "    <tr>\n",
              "      <th>4263</th>\n",
              "      <td>Solly-March</td>\n",
              "      <td>21</td>\n",
              "      <td>Leicester City</td>\n",
              "      <td>0.0</td>\n",
              "      <td>2.0</td>\n",
              "      <td>2.91</td>\n",
              "    </tr>\n",
              "    <tr>\n",
              "      <th>4211</th>\n",
              "      <td>Orel-Mangala</td>\n",
              "      <td>21</td>\n",
              "      <td>Bournemouth</td>\n",
              "      <td>0.0</td>\n",
              "      <td>1.0</td>\n",
              "      <td>2.91</td>\n",
              "    </tr>\n",
              "    <tr>\n",
              "      <th>4163</th>\n",
              "      <td>Riyad-Mahrez</td>\n",
              "      <td>21</td>\n",
              "      <td>Wolves</td>\n",
              "      <td>1.0</td>\n",
              "      <td>6.0</td>\n",
              "      <td>2.91</td>\n",
              "    </tr>\n",
              "    <tr>\n",
              "      <th>4079</th>\n",
              "      <td>Douglas-Luiz</td>\n",
              "      <td>21</td>\n",
              "      <td>Southampton</td>\n",
              "      <td>0.0</td>\n",
              "      <td>5.0</td>\n",
              "      <td>2.91</td>\n",
              "    </tr>\n",
              "    <tr>\n",
              "      <th>4969</th>\n",
              "      <td>Matheus-Nunes</td>\n",
              "      <td>21</td>\n",
              "      <td>Manchester City</td>\n",
              "      <td>0.0</td>\n",
              "      <td>2.0</td>\n",
              "      <td>2.91</td>\n",
              "    </tr>\n",
              "    <tr>\n",
              "      <th>4049</th>\n",
              "      <td>Sean-Longstaff</td>\n",
              "      <td>21</td>\n",
              "      <td>Crystal Palace</td>\n",
              "      <td>0.0</td>\n",
              "      <td>3.0</td>\n",
              "      <td>2.91</td>\n",
              "    </tr>\n",
              "    <tr>\n",
              "      <th>4029</th>\n",
              "      <td>Ruben-Loftus-Cheek</td>\n",
              "      <td>21</td>\n",
              "      <td>Liverpool</td>\n",
              "      <td>0.0</td>\n",
              "      <td>0.0</td>\n",
              "      <td>2.91</td>\n",
              "    </tr>\n",
              "    <tr>\n",
              "      <th>3929</th>\n",
              "      <td>Keane-Lewis-Potter</td>\n",
              "      <td>21</td>\n",
              "      <td>Leeds United</td>\n",
              "      <td>0.0</td>\n",
              "      <td>0.0</td>\n",
              "      <td>2.91</td>\n",
              "    </tr>\n",
              "    <tr>\n",
              "      <th>3882</th>\n",
              "      <td>Jefferson-Lerma</td>\n",
              "      <td>21</td>\n",
              "      <td>Nott'ham Forest</td>\n",
              "      <td>1.0</td>\n",
              "      <td>2.0</td>\n",
              "      <td>2.91</td>\n",
              "    </tr>\n",
              "    <tr>\n",
              "      <th>3767</th>\n",
              "      <td>Manuel-Lanzini</td>\n",
              "      <td>21</td>\n",
              "      <td>Everton</td>\n",
              "      <td>1.0</td>\n",
              "      <td>0.0</td>\n",
              "      <td>2.91</td>\n",
              "    </tr>\n",
              "  </tbody>\n",
              "</table>\n",
              "</div>\n",
              "      <button class=\"colab-df-convert\" onclick=\"convertToInteractive('df-a14b7985-68d3-4fef-a500-37f7215f8c9c')\"\n",
              "              title=\"Convert this dataframe to an interactive table.\"\n",
              "              style=\"display:none;\">\n",
              "        \n",
              "  <svg xmlns=\"http://www.w3.org/2000/svg\" height=\"24px\"viewBox=\"0 0 24 24\"\n",
              "       width=\"24px\">\n",
              "    <path d=\"M0 0h24v24H0V0z\" fill=\"none\"/>\n",
              "    <path d=\"M18.56 5.44l.94 2.06.94-2.06 2.06-.94-2.06-.94-.94-2.06-.94 2.06-2.06.94zm-11 1L8.5 8.5l.94-2.06 2.06-.94-2.06-.94L8.5 2.5l-.94 2.06-2.06.94zm10 10l.94 2.06.94-2.06 2.06-.94-2.06-.94-.94-2.06-.94 2.06-2.06.94z\"/><path d=\"M17.41 7.96l-1.37-1.37c-.4-.4-.92-.59-1.43-.59-.52 0-1.04.2-1.43.59L10.3 9.45l-7.72 7.72c-.78.78-.78 2.05 0 2.83L4 21.41c.39.39.9.59 1.41.59.51 0 1.02-.2 1.41-.59l7.78-7.78 2.81-2.81c.8-.78.8-2.07 0-2.86zM5.41 20L4 18.59l7.72-7.72 1.47 1.35L5.41 20z\"/>\n",
              "  </svg>\n",
              "      </button>\n",
              "      \n",
              "  <style>\n",
              "    .colab-df-container {\n",
              "      display:flex;\n",
              "      flex-wrap:wrap;\n",
              "      gap: 12px;\n",
              "    }\n",
              "\n",
              "    .colab-df-convert {\n",
              "      background-color: #E8F0FE;\n",
              "      border: none;\n",
              "      border-radius: 50%;\n",
              "      cursor: pointer;\n",
              "      display: none;\n",
              "      fill: #1967D2;\n",
              "      height: 32px;\n",
              "      padding: 0 0 0 0;\n",
              "      width: 32px;\n",
              "    }\n",
              "\n",
              "    .colab-df-convert:hover {\n",
              "      background-color: #E2EBFA;\n",
              "      box-shadow: 0px 1px 2px rgba(60, 64, 67, 0.3), 0px 1px 3px 1px rgba(60, 64, 67, 0.15);\n",
              "      fill: #174EA6;\n",
              "    }\n",
              "\n",
              "    [theme=dark] .colab-df-convert {\n",
              "      background-color: #3B4455;\n",
              "      fill: #D2E3FC;\n",
              "    }\n",
              "\n",
              "    [theme=dark] .colab-df-convert:hover {\n",
              "      background-color: #434B5C;\n",
              "      box-shadow: 0px 1px 3px 1px rgba(0, 0, 0, 0.15);\n",
              "      filter: drop-shadow(0px 1px 2px rgba(0, 0, 0, 0.3));\n",
              "      fill: #FFFFFF;\n",
              "    }\n",
              "  </style>\n",
              "\n",
              "      <script>\n",
              "        const buttonEl =\n",
              "          document.querySelector('#df-a14b7985-68d3-4fef-a500-37f7215f8c9c button.colab-df-convert');\n",
              "        buttonEl.style.display =\n",
              "          google.colab.kernel.accessAllowed ? 'block' : 'none';\n",
              "\n",
              "        async function convertToInteractive(key) {\n",
              "          const element = document.querySelector('#df-a14b7985-68d3-4fef-a500-37f7215f8c9c');\n",
              "          const dataTable =\n",
              "            await google.colab.kernel.invokeFunction('convertToInteractive',\n",
              "                                                     [key], {});\n",
              "          if (!dataTable) return;\n",
              "\n",
              "          const docLinkHtml = 'Like what you see? Visit the ' +\n",
              "            '<a target=\"_blank\" href=https://colab.research.google.com/notebooks/data_table.ipynb>data table notebook</a>'\n",
              "            + ' to learn more about interactive tables.';\n",
              "          element.innerHTML = '';\n",
              "          dataTable['output_type'] = 'display_data';\n",
              "          await google.colab.output.renderOutput(dataTable, element);\n",
              "          const docLink = document.createElement('div');\n",
              "          docLink.innerHTML = docLinkHtml;\n",
              "          element.appendChild(docLink);\n",
              "        }\n",
              "      </script>\n",
              "    </div>\n",
              "  </div>\n",
              "  "
            ]
          },
          "metadata": {},
          "execution_count": 60
        }
      ],
      "source": [
        "# results sorted\n",
        "predictions_mid_sorted = predictions_mid.sort_values(by=[\"Points\"], ascending = False).head(20)\n",
        "predictions_mid_sorted[prediction_columns]"
      ]
    },
    {
      "cell_type": "markdown",
      "id": "9921aabf-4769-4350-a3e5-bbaacd60b4d5",
      "metadata": {
        "id": "9921aabf-4769-4350-a3e5-bbaacd60b4d5"
      },
      "source": [
        "## Forwards"
      ]
    },
    {
      "cell_type": "code",
      "execution_count": 66,
      "id": "ef689219-6923-4a23-88ea-0331a33eb2a3",
      "metadata": {
        "id": "ef689219-6923-4a23-88ea-0331a33eb2a3"
      },
      "outputs": [],
      "source": [
        "predictions_fwd = generate_predictions(dataloader_fwd_valid, dataset_fwd_valid, net_fwd, df_fwd_original, FIRST_VALID_GW)"
      ]
    },
    {
      "cell_type": "code",
      "execution_count": 67,
      "id": "9d88c704-50eb-42c1-8b92-7008cdb8d83e",
      "metadata": {
        "id": "9d88c704-50eb-42c1-8b92-7008cdb8d83e",
        "colab": {
          "base_uri": "https://localhost:8080/",
          "height": 990
        },
        "outputId": "76beaef1-b964-4ae8-9f77-12a124743683"
      },
      "outputs": [
        {
          "output_type": "execute_result",
          "data": {
            "text/plain": [
              "                      Name  GW         Opponent  Was Home  Total Points  \\\n",
              "2904        Erling-Haaland  21           Wolves       1.0          17.0   \n",
              "4443          Bryan-Mbeumo  21     Leeds United       0.0           2.0   \n",
              "3501            Harry-Kane  21           Fulham       0.0           6.0   \n",
              "4718   Aleksandar-Mitrovic  21        Tottenham       1.0           2.0   \n",
              "2967           Kai-Havertz  21        Liverpool       0.0           2.0   \n",
              "7089         Ollie-Watkins  21      Southampton       0.0           8.0   \n",
              "7121         Danny-Welbeck  21   Leicester City       0.0           2.0   \n",
              "3401       Brennan-Johnson  21      Bournemouth       0.0           5.0   \n",
              "4952         Eddie-Nketiah  21   Manchester Utd       1.0          13.0   \n",
              "6714            Ivan-Toney  21     Leeds United       0.0           1.0   \n",
              "38               Che-Adams  21      Aston Villa       1.0           2.0   \n",
              "256         Julian-Alvarez  21           Wolves       1.0           1.0   \n",
              "3225            Danny-Ings  21          Everton       1.0           1.0   \n",
              "4738         Kieffer-Moore  21  Nott'ham Forest       1.0           2.0   \n",
              "7212         Callum-Wilson  21   Crystal Palace       0.0           2.0   \n",
              "6516          Sam-Surridge  21      Bournemouth       0.0           8.0   \n",
              "347        Michail-Antonio  21          Everton       1.0           5.0   \n",
              "6959       Carlos-Vinicius  21        Tottenham       1.0           1.0   \n",
              "4244            Sekou-Mara  21      Aston Villa       1.0           1.0   \n",
              "2066       Odsonne-Edouard  21    Newcastle Utd       1.0           2.0   \n",
              "4409           Neal-Maupay  21         West Ham       0.0           0.0   \n",
              "6834           Deniz-Undav  21   Leicester City       0.0           0.0   \n",
              "2575          Joe-Gelhardt  21        Brentford       1.0           0.0   \n",
              "3205     Kelechi-Iheanacho  21         Brighton       1.0           0.0   \n",
              "1569           Patson-Daka  21         Brighton       1.0           1.0   \n",
              "4382  Jean-Philippe-Mateta  21    Newcastle Utd       1.0           1.0   \n",
              "7267            Chris-Wood  21      Bournemouth       0.0           2.0   \n",
              "431         Adam-Armstrong  21      Aston Villa       1.0           2.0   \n",
              "6893           Jamie-Vardy  21         Brighton       1.0           2.0   \n",
              "2767         Sam-Greenwood  21        Brentford       1.0           1.0   \n",
              "\n",
              "      Points  \n",
              "2904    5.74  \n",
              "4443    5.66  \n",
              "3501    5.66  \n",
              "4718    5.62  \n",
              "2967    5.59  \n",
              "7089    5.56  \n",
              "7121    5.26  \n",
              "3401    4.00  \n",
              "4952    3.75  \n",
              "6714    3.63  \n",
              "38      3.24  \n",
              "256     3.08  \n",
              "3225    2.49  \n",
              "4738    2.26  \n",
              "7212    2.04  \n",
              "6516    1.99  \n",
              "347     1.94  \n",
              "6959    1.88  \n",
              "4244    1.77  \n",
              "2066    1.77  \n",
              "4409    1.72  \n",
              "6834    1.71  \n",
              "2575    1.70  \n",
              "3205    1.69  \n",
              "1569    1.64  \n",
              "4382    1.61  \n",
              "7267    1.60  \n",
              "431     1.57  \n",
              "6893    1.52  \n",
              "2767    1.41  "
            ],
            "text/html": [
              "\n",
              "  <div id=\"df-5959c396-63cf-44d5-a4cc-761cae489b6e\">\n",
              "    <div class=\"colab-df-container\">\n",
              "      <div>\n",
              "<style scoped>\n",
              "    .dataframe tbody tr th:only-of-type {\n",
              "        vertical-align: middle;\n",
              "    }\n",
              "\n",
              "    .dataframe tbody tr th {\n",
              "        vertical-align: top;\n",
              "    }\n",
              "\n",
              "    .dataframe thead th {\n",
              "        text-align: right;\n",
              "    }\n",
              "</style>\n",
              "<table border=\"1\" class=\"dataframe\">\n",
              "  <thead>\n",
              "    <tr style=\"text-align: right;\">\n",
              "      <th></th>\n",
              "      <th>Name</th>\n",
              "      <th>GW</th>\n",
              "      <th>Opponent</th>\n",
              "      <th>Was Home</th>\n",
              "      <th>Total Points</th>\n",
              "      <th>Points</th>\n",
              "    </tr>\n",
              "  </thead>\n",
              "  <tbody>\n",
              "    <tr>\n",
              "      <th>2904</th>\n",
              "      <td>Erling-Haaland</td>\n",
              "      <td>21</td>\n",
              "      <td>Wolves</td>\n",
              "      <td>1.0</td>\n",
              "      <td>17.0</td>\n",
              "      <td>5.74</td>\n",
              "    </tr>\n",
              "    <tr>\n",
              "      <th>4443</th>\n",
              "      <td>Bryan-Mbeumo</td>\n",
              "      <td>21</td>\n",
              "      <td>Leeds United</td>\n",
              "      <td>0.0</td>\n",
              "      <td>2.0</td>\n",
              "      <td>5.66</td>\n",
              "    </tr>\n",
              "    <tr>\n",
              "      <th>3501</th>\n",
              "      <td>Harry-Kane</td>\n",
              "      <td>21</td>\n",
              "      <td>Fulham</td>\n",
              "      <td>0.0</td>\n",
              "      <td>6.0</td>\n",
              "      <td>5.66</td>\n",
              "    </tr>\n",
              "    <tr>\n",
              "      <th>4718</th>\n",
              "      <td>Aleksandar-Mitrovic</td>\n",
              "      <td>21</td>\n",
              "      <td>Tottenham</td>\n",
              "      <td>1.0</td>\n",
              "      <td>2.0</td>\n",
              "      <td>5.62</td>\n",
              "    </tr>\n",
              "    <tr>\n",
              "      <th>2967</th>\n",
              "      <td>Kai-Havertz</td>\n",
              "      <td>21</td>\n",
              "      <td>Liverpool</td>\n",
              "      <td>0.0</td>\n",
              "      <td>2.0</td>\n",
              "      <td>5.59</td>\n",
              "    </tr>\n",
              "    <tr>\n",
              "      <th>7089</th>\n",
              "      <td>Ollie-Watkins</td>\n",
              "      <td>21</td>\n",
              "      <td>Southampton</td>\n",
              "      <td>0.0</td>\n",
              "      <td>8.0</td>\n",
              "      <td>5.56</td>\n",
              "    </tr>\n",
              "    <tr>\n",
              "      <th>7121</th>\n",
              "      <td>Danny-Welbeck</td>\n",
              "      <td>21</td>\n",
              "      <td>Leicester City</td>\n",
              "      <td>0.0</td>\n",
              "      <td>2.0</td>\n",
              "      <td>5.26</td>\n",
              "    </tr>\n",
              "    <tr>\n",
              "      <th>3401</th>\n",
              "      <td>Brennan-Johnson</td>\n",
              "      <td>21</td>\n",
              "      <td>Bournemouth</td>\n",
              "      <td>0.0</td>\n",
              "      <td>5.0</td>\n",
              "      <td>4.00</td>\n",
              "    </tr>\n",
              "    <tr>\n",
              "      <th>4952</th>\n",
              "      <td>Eddie-Nketiah</td>\n",
              "      <td>21</td>\n",
              "      <td>Manchester Utd</td>\n",
              "      <td>1.0</td>\n",
              "      <td>13.0</td>\n",
              "      <td>3.75</td>\n",
              "    </tr>\n",
              "    <tr>\n",
              "      <th>6714</th>\n",
              "      <td>Ivan-Toney</td>\n",
              "      <td>21</td>\n",
              "      <td>Leeds United</td>\n",
              "      <td>0.0</td>\n",
              "      <td>1.0</td>\n",
              "      <td>3.63</td>\n",
              "    </tr>\n",
              "    <tr>\n",
              "      <th>38</th>\n",
              "      <td>Che-Adams</td>\n",
              "      <td>21</td>\n",
              "      <td>Aston Villa</td>\n",
              "      <td>1.0</td>\n",
              "      <td>2.0</td>\n",
              "      <td>3.24</td>\n",
              "    </tr>\n",
              "    <tr>\n",
              "      <th>256</th>\n",
              "      <td>Julian-Alvarez</td>\n",
              "      <td>21</td>\n",
              "      <td>Wolves</td>\n",
              "      <td>1.0</td>\n",
              "      <td>1.0</td>\n",
              "      <td>3.08</td>\n",
              "    </tr>\n",
              "    <tr>\n",
              "      <th>3225</th>\n",
              "      <td>Danny-Ings</td>\n",
              "      <td>21</td>\n",
              "      <td>Everton</td>\n",
              "      <td>1.0</td>\n",
              "      <td>1.0</td>\n",
              "      <td>2.49</td>\n",
              "    </tr>\n",
              "    <tr>\n",
              "      <th>4738</th>\n",
              "      <td>Kieffer-Moore</td>\n",
              "      <td>21</td>\n",
              "      <td>Nott'ham Forest</td>\n",
              "      <td>1.0</td>\n",
              "      <td>2.0</td>\n",
              "      <td>2.26</td>\n",
              "    </tr>\n",
              "    <tr>\n",
              "      <th>7212</th>\n",
              "      <td>Callum-Wilson</td>\n",
              "      <td>21</td>\n",
              "      <td>Crystal Palace</td>\n",
              "      <td>0.0</td>\n",
              "      <td>2.0</td>\n",
              "      <td>2.04</td>\n",
              "    </tr>\n",
              "    <tr>\n",
              "      <th>6516</th>\n",
              "      <td>Sam-Surridge</td>\n",
              "      <td>21</td>\n",
              "      <td>Bournemouth</td>\n",
              "      <td>0.0</td>\n",
              "      <td>8.0</td>\n",
              "      <td>1.99</td>\n",
              "    </tr>\n",
              "    <tr>\n",
              "      <th>347</th>\n",
              "      <td>Michail-Antonio</td>\n",
              "      <td>21</td>\n",
              "      <td>Everton</td>\n",
              "      <td>1.0</td>\n",
              "      <td>5.0</td>\n",
              "      <td>1.94</td>\n",
              "    </tr>\n",
              "    <tr>\n",
              "      <th>6959</th>\n",
              "      <td>Carlos-Vinicius</td>\n",
              "      <td>21</td>\n",
              "      <td>Tottenham</td>\n",
              "      <td>1.0</td>\n",
              "      <td>1.0</td>\n",
              "      <td>1.88</td>\n",
              "    </tr>\n",
              "    <tr>\n",
              "      <th>4244</th>\n",
              "      <td>Sekou-Mara</td>\n",
              "      <td>21</td>\n",
              "      <td>Aston Villa</td>\n",
              "      <td>1.0</td>\n",
              "      <td>1.0</td>\n",
              "      <td>1.77</td>\n",
              "    </tr>\n",
              "    <tr>\n",
              "      <th>2066</th>\n",
              "      <td>Odsonne-Edouard</td>\n",
              "      <td>21</td>\n",
              "      <td>Newcastle Utd</td>\n",
              "      <td>1.0</td>\n",
              "      <td>2.0</td>\n",
              "      <td>1.77</td>\n",
              "    </tr>\n",
              "    <tr>\n",
              "      <th>4409</th>\n",
              "      <td>Neal-Maupay</td>\n",
              "      <td>21</td>\n",
              "      <td>West Ham</td>\n",
              "      <td>0.0</td>\n",
              "      <td>0.0</td>\n",
              "      <td>1.72</td>\n",
              "    </tr>\n",
              "    <tr>\n",
              "      <th>6834</th>\n",
              "      <td>Deniz-Undav</td>\n",
              "      <td>21</td>\n",
              "      <td>Leicester City</td>\n",
              "      <td>0.0</td>\n",
              "      <td>0.0</td>\n",
              "      <td>1.71</td>\n",
              "    </tr>\n",
              "    <tr>\n",
              "      <th>2575</th>\n",
              "      <td>Joe-Gelhardt</td>\n",
              "      <td>21</td>\n",
              "      <td>Brentford</td>\n",
              "      <td>1.0</td>\n",
              "      <td>0.0</td>\n",
              "      <td>1.70</td>\n",
              "    </tr>\n",
              "    <tr>\n",
              "      <th>3205</th>\n",
              "      <td>Kelechi-Iheanacho</td>\n",
              "      <td>21</td>\n",
              "      <td>Brighton</td>\n",
              "      <td>1.0</td>\n",
              "      <td>0.0</td>\n",
              "      <td>1.69</td>\n",
              "    </tr>\n",
              "    <tr>\n",
              "      <th>1569</th>\n",
              "      <td>Patson-Daka</td>\n",
              "      <td>21</td>\n",
              "      <td>Brighton</td>\n",
              "      <td>1.0</td>\n",
              "      <td>1.0</td>\n",
              "      <td>1.64</td>\n",
              "    </tr>\n",
              "    <tr>\n",
              "      <th>4382</th>\n",
              "      <td>Jean-Philippe-Mateta</td>\n",
              "      <td>21</td>\n",
              "      <td>Newcastle Utd</td>\n",
              "      <td>1.0</td>\n",
              "      <td>1.0</td>\n",
              "      <td>1.61</td>\n",
              "    </tr>\n",
              "    <tr>\n",
              "      <th>7267</th>\n",
              "      <td>Chris-Wood</td>\n",
              "      <td>21</td>\n",
              "      <td>Bournemouth</td>\n",
              "      <td>0.0</td>\n",
              "      <td>2.0</td>\n",
              "      <td>1.60</td>\n",
              "    </tr>\n",
              "    <tr>\n",
              "      <th>431</th>\n",
              "      <td>Adam-Armstrong</td>\n",
              "      <td>21</td>\n",
              "      <td>Aston Villa</td>\n",
              "      <td>1.0</td>\n",
              "      <td>2.0</td>\n",
              "      <td>1.57</td>\n",
              "    </tr>\n",
              "    <tr>\n",
              "      <th>6893</th>\n",
              "      <td>Jamie-Vardy</td>\n",
              "      <td>21</td>\n",
              "      <td>Brighton</td>\n",
              "      <td>1.0</td>\n",
              "      <td>2.0</td>\n",
              "      <td>1.52</td>\n",
              "    </tr>\n",
              "    <tr>\n",
              "      <th>2767</th>\n",
              "      <td>Sam-Greenwood</td>\n",
              "      <td>21</td>\n",
              "      <td>Brentford</td>\n",
              "      <td>1.0</td>\n",
              "      <td>1.0</td>\n",
              "      <td>1.41</td>\n",
              "    </tr>\n",
              "  </tbody>\n",
              "</table>\n",
              "</div>\n",
              "      <button class=\"colab-df-convert\" onclick=\"convertToInteractive('df-5959c396-63cf-44d5-a4cc-761cae489b6e')\"\n",
              "              title=\"Convert this dataframe to an interactive table.\"\n",
              "              style=\"display:none;\">\n",
              "        \n",
              "  <svg xmlns=\"http://www.w3.org/2000/svg\" height=\"24px\"viewBox=\"0 0 24 24\"\n",
              "       width=\"24px\">\n",
              "    <path d=\"M0 0h24v24H0V0z\" fill=\"none\"/>\n",
              "    <path d=\"M18.56 5.44l.94 2.06.94-2.06 2.06-.94-2.06-.94-.94-2.06-.94 2.06-2.06.94zm-11 1L8.5 8.5l.94-2.06 2.06-.94-2.06-.94L8.5 2.5l-.94 2.06-2.06.94zm10 10l.94 2.06.94-2.06 2.06-.94-2.06-.94-.94-2.06-.94 2.06-2.06.94z\"/><path d=\"M17.41 7.96l-1.37-1.37c-.4-.4-.92-.59-1.43-.59-.52 0-1.04.2-1.43.59L10.3 9.45l-7.72 7.72c-.78.78-.78 2.05 0 2.83L4 21.41c.39.39.9.59 1.41.59.51 0 1.02-.2 1.41-.59l7.78-7.78 2.81-2.81c.8-.78.8-2.07 0-2.86zM5.41 20L4 18.59l7.72-7.72 1.47 1.35L5.41 20z\"/>\n",
              "  </svg>\n",
              "      </button>\n",
              "      \n",
              "  <style>\n",
              "    .colab-df-container {\n",
              "      display:flex;\n",
              "      flex-wrap:wrap;\n",
              "      gap: 12px;\n",
              "    }\n",
              "\n",
              "    .colab-df-convert {\n",
              "      background-color: #E8F0FE;\n",
              "      border: none;\n",
              "      border-radius: 50%;\n",
              "      cursor: pointer;\n",
              "      display: none;\n",
              "      fill: #1967D2;\n",
              "      height: 32px;\n",
              "      padding: 0 0 0 0;\n",
              "      width: 32px;\n",
              "    }\n",
              "\n",
              "    .colab-df-convert:hover {\n",
              "      background-color: #E2EBFA;\n",
              "      box-shadow: 0px 1px 2px rgba(60, 64, 67, 0.3), 0px 1px 3px 1px rgba(60, 64, 67, 0.15);\n",
              "      fill: #174EA6;\n",
              "    }\n",
              "\n",
              "    [theme=dark] .colab-df-convert {\n",
              "      background-color: #3B4455;\n",
              "      fill: #D2E3FC;\n",
              "    }\n",
              "\n",
              "    [theme=dark] .colab-df-convert:hover {\n",
              "      background-color: #434B5C;\n",
              "      box-shadow: 0px 1px 3px 1px rgba(0, 0, 0, 0.15);\n",
              "      filter: drop-shadow(0px 1px 2px rgba(0, 0, 0, 0.3));\n",
              "      fill: #FFFFFF;\n",
              "    }\n",
              "  </style>\n",
              "\n",
              "      <script>\n",
              "        const buttonEl =\n",
              "          document.querySelector('#df-5959c396-63cf-44d5-a4cc-761cae489b6e button.colab-df-convert');\n",
              "        buttonEl.style.display =\n",
              "          google.colab.kernel.accessAllowed ? 'block' : 'none';\n",
              "\n",
              "        async function convertToInteractive(key) {\n",
              "          const element = document.querySelector('#df-5959c396-63cf-44d5-a4cc-761cae489b6e');\n",
              "          const dataTable =\n",
              "            await google.colab.kernel.invokeFunction('convertToInteractive',\n",
              "                                                     [key], {});\n",
              "          if (!dataTable) return;\n",
              "\n",
              "          const docLinkHtml = 'Like what you see? Visit the ' +\n",
              "            '<a target=\"_blank\" href=https://colab.research.google.com/notebooks/data_table.ipynb>data table notebook</a>'\n",
              "            + ' to learn more about interactive tables.';\n",
              "          element.innerHTML = '';\n",
              "          dataTable['output_type'] = 'display_data';\n",
              "          await google.colab.output.renderOutput(dataTable, element);\n",
              "          const docLink = document.createElement('div');\n",
              "          docLink.innerHTML = docLinkHtml;\n",
              "          element.appendChild(docLink);\n",
              "        }\n",
              "      </script>\n",
              "    </div>\n",
              "  </div>\n",
              "  "
            ]
          },
          "metadata": {},
          "execution_count": 67
        }
      ],
      "source": [
        "# results sorted\n",
        "predictions_fwd_sorted = predictions_fwd.sort_values(by=[\"Points\"], ascending = False).head(30)\n",
        "predictions_fwd_sorted[prediction_columns]"
      ]
    },
    {
      "cell_type": "markdown",
      "source": [
        "# Saving predictions to files"
      ],
      "metadata": {
        "id": "NYitzLDzcduZ"
      },
      "id": "NYitzLDzcduZ"
    },
    {
      "cell_type": "code",
      "execution_count": 68,
      "id": "43368445-5cc4-45c3-8d46-90935ab138fc",
      "metadata": {
        "id": "43368445-5cc4-45c3-8d46-90935ab138fc"
      },
      "outputs": [],
      "source": [
        "predictions_gk_sorted.to_csv(\"predictions/predictions_gk.csv\")\n",
        "predictions_def_sorted.to_csv(\"predictions/predictions_def.csv\")\n",
        "predictions_mid_sorted.to_csv(\"predictions/predictions_mid.csv\")\n",
        "predictions_fwd_sorted.to_csv(\"predictions/predictions_fwd.csv\")"
      ]
    },
    {
      "cell_type": "code",
      "execution_count": 63,
      "id": "fa55a4ad-748a-4862-a02b-511bef68c9cb",
      "metadata": {
        "id": "fa55a4ad-748a-4862-a02b-511bef68c9cb"
      },
      "outputs": [],
      "source": []
    }
  ],
  "metadata": {
    "kernelspec": {
      "display_name": "Python 3 (ipykernel)",
      "language": "python",
      "name": "python3"
    },
    "language_info": {
      "codemirror_mode": {
        "name": "ipython",
        "version": 3
      },
      "file_extension": ".py",
      "mimetype": "text/x-python",
      "name": "python",
      "nbconvert_exporter": "python",
      "pygments_lexer": "ipython3",
      "version": "3.8.0"
    },
    "colab": {
      "provenance": []
    },
    "accelerator": "GPU",
    "gpuClass": "standard"
  },
  "nbformat": 4,
  "nbformat_minor": 5
}