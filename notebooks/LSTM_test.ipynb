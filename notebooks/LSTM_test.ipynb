{
  "cells": [
    {
      "cell_type": "markdown",
      "source": [
        "# Google Colab / Kaggle / PC"
      ],
      "metadata": {
        "id": "HQv7wn2lGRxJ"
      },
      "id": "HQv7wn2lGRxJ"
    },
    {
      "cell_type": "code",
      "source": [
        "mode = \"Colab\""
      ],
      "metadata": {
        "id": "lWcbiCoePjwh"
      },
      "id": "lWcbiCoePjwh",
      "execution_count": 1,
      "outputs": []
    },
    {
      "cell_type": "code",
      "source": [
        "import os\n",
        "\n",
        "if mode == \"Colab\":\n",
        "    from google.colab import drive\n",
        "    drive.mount('/content/gdrive')\n",
        "    os.chdir(\"/content/gdrive/My Drive/FPL_ML\")\n",
        "    TRAIN_PATH = \"data/final_dataset.csv\"\n",
        "if mode == \"PC\":\n",
        "    os.chdir(\"D:\\PulpitE\\FPL_ML\")\n",
        "    TRAIN_PATH = \"data/final_dataset.csv\"\n",
        "if mode == \"Kaggle\":\n",
        "    TRAIN_PATH = \"/kaggle/input/fpl-dataset/final_dataset.csv\""
      ],
      "metadata": {
        "colab": {
          "base_uri": "https://localhost:8080/"
        },
        "id": "iIMFBRbFGTex",
        "outputId": "65dc9592-16c2-4f8f-c526-8e61454764b0"
      },
      "id": "iIMFBRbFGTex",
      "execution_count": 2,
      "outputs": [
        {
          "output_type": "stream",
          "name": "stdout",
          "text": [
            "Mounted at /content/gdrive\n"
          ]
        }
      ]
    },
    {
      "cell_type": "markdown",
      "id": "b403b39e-b749-4730-a880-75a6b9ddfe83",
      "metadata": {
        "id": "b403b39e-b749-4730-a880-75a6b9ddfe83"
      },
      "source": [
        "# Imports"
      ]
    },
    {
      "cell_type": "code",
      "execution_count": 3,
      "id": "1382f0d0-60a4-4f2a-b4ce-c54205b18d21",
      "metadata": {
        "id": "1382f0d0-60a4-4f2a-b4ce-c54205b18d21"
      },
      "outputs": [],
      "source": [
        "import pandas as pd\n",
        "\n",
        "import torch\n",
        "import torch.nn as nn\n",
        "\n",
        "import torchvision\n",
        "import torchvision.transforms\n",
        "from torchvision.transforms import ToTensor\n",
        "\n",
        "from torch.utils.data import Dataset, DataLoader\n",
        "import torch.optim as optim\n",
        "\n",
        "import matplotlib.pyplot as plt\n",
        "\n",
        "import numpy as np\n",
        "import random"
      ]
    },
    {
      "cell_type": "markdown",
      "id": "7dd9d155-95e4-4e3d-86ad-c46a6fbb5c95",
      "metadata": {
        "id": "7dd9d155-95e4-4e3d-86ad-c46a6fbb5c95"
      },
      "source": [
        "# Constants and seeds"
      ]
    },
    {
      "cell_type": "code",
      "execution_count": 4,
      "id": "7239f9ad-7a6d-4a3d-9da5-4bac972e1537",
      "metadata": {
        "id": "7239f9ad-7a6d-4a3d-9da5-4bac972e1537"
      },
      "outputs": [],
      "source": [
        "# FIXTURES_IN_SAMPLE\n",
        "FIS = 8\n",
        "\n",
        "# FIXTURES_FOR_PLAYER - minimal number of gameweeks required for a player\n",
        "FFP = 15\n",
        "\n",
        "FIRST_TRAIN_GW = 1\n",
        "LAST_TRAIN_GW = 20\n",
        "\n",
        "FIRST_VALID_GW = 21\n",
        "LAST_VALID_GW = 21\n",
        "\n",
        "# NEXT_GAMEWEEK = 22\n",
        "# LAST_GAMEWEEK = NEXT_GAMEWEEK - 1"
      ]
    },
    {
      "cell_type": "code",
      "execution_count": 5,
      "id": "2d44df04-be21-4e7b-aaa5-612a6210bd44",
      "metadata": {
        "id": "2d44df04-be21-4e7b-aaa5-612a6210bd44"
      },
      "outputs": [],
      "source": [
        "def set_all_seeds(seed):\n",
        "    os.environ[\"PL_GLOBAL_SEED\"] = str(seed)\n",
        "    random.seed(seed)\n",
        "    np.random.seed(seed)\n",
        "    torch.manual_seed(seed)\n",
        "    torch.cuda.manual_seed_all(seed)\n",
        "    torch.backends.cudnn.deterministic = True\n",
        "\n",
        "set_all_seeds(42)"
      ]
    },
    {
      "cell_type": "markdown",
      "id": "83206c3d-ea25-42ca-81df-c388d247ffe3",
      "metadata": {
        "id": "83206c3d-ea25-42ca-81df-c388d247ffe3"
      },
      "source": [
        "# Device"
      ]
    },
    {
      "cell_type": "code",
      "execution_count": 6,
      "id": "0a673f70-8843-4b1a-ad07-ccfea4306d84",
      "metadata": {
        "id": "0a673f70-8843-4b1a-ad07-ccfea4306d84"
      },
      "outputs": [],
      "source": [
        "device = torch.device(\"cuda\")\n",
        "# device = torch.device('mps')\n",
        "# device = torch.device('cpu')"
      ]
    },
    {
      "cell_type": "markdown",
      "id": "83fe6a68-8e90-42af-94c8-c886a1f95c77",
      "metadata": {
        "id": "83fe6a68-8e90-42af-94c8-c886a1f95c77"
      },
      "source": [
        "# Getting data and choosing features"
      ]
    },
    {
      "cell_type": "code",
      "execution_count": 7,
      "id": "4bb7008e-7daa-41ce-b71c-ff06abd53b86",
      "metadata": {
        "id": "4bb7008e-7daa-41ce-b71c-ff06abd53b86"
      },
      "outputs": [],
      "source": [
        "df = pd.read_csv('data/final_dataset.csv')"
      ]
    },
    {
      "cell_type": "code",
      "execution_count": 8,
      "id": "bc939518-2991-4de9-ae25-e0f986522243",
      "metadata": {
        "id": "bc939518-2991-4de9-ae25-e0f986522243"
      },
      "outputs": [],
      "source": [
        "# remembering original dataframes\n",
        "df_original = df\n",
        "\n",
        "df_gk_original = df[df[\"FPL position\"] == \"GK\"]\n",
        "df_def_original = df[df[\"FPL position\"] == \"DEF\"]\n",
        "df_mid_original = df[df[\"FPL position\"] == \"MID\"]\n",
        "df_fwd_original = df[df[\"FPL position\"] == \"FWD\"]"
      ]
    },
    {
      "cell_type": "code",
      "source": [
        "# df_original.columns"
      ],
      "metadata": {
        "id": "PWzStYOfoo2G"
      },
      "id": "PWzStYOfoo2G",
      "execution_count": 9,
      "outputs": []
    },
    {
      "cell_type": "code",
      "execution_count": 10,
      "id": "8e0c8995-bbf3-4bf2-9123-e6b35c6b0cd8",
      "metadata": {
        "id": "8e0c8995-bbf3-4bf2-9123-e6b35c6b0cd8"
      },
      "outputs": [],
      "source": [
        "info = [\"Name\", \"GW\", \"FPL position\"]\n",
        "other = [\"LSTM\"]\n",
        "features = [\"Min\", \"Gls\", \"Ast\", \"Sh\", \"SoT\", \"xG\", \"npxG\", \"xAG\", \"SCA\", \"GCA\", \"CS\", \"CrdY\", \"CrdR\", \"Opp rating\", \"Team Score\", \"Opp Score\", \"Was Home\"]\n",
        "to_predict = [\"Total Points\"]"
      ]
    },
    {
      "cell_type": "code",
      "execution_count": 11,
      "id": "c4eeb6d7-d07b-4f1c-9c86-52095b7cf379",
      "metadata": {
        "colab": {
          "base_uri": "https://localhost:8080/"
        },
        "id": "c4eeb6d7-d07b-4f1c-9c86-52095b7cf379",
        "outputId": "08a41b0a-0da1-4134-f091-058c671fafd3"
      },
      "outputs": [
        {
          "output_type": "stream",
          "name": "stderr",
          "text": [
            "/usr/local/lib/python3.8/dist-packages/pandas/core/frame.py:3641: SettingWithCopyWarning: \n",
            "A value is trying to be set on a copy of a slice from a DataFrame.\n",
            "Try using .loc[row_indexer,col_indexer] = value instead\n",
            "\n",
            "See the caveats in the documentation: https://pandas.pydata.org/pandas-docs/stable/user_guide/indexing.html#returning-a-view-versus-a-copy\n",
            "  self[k1] = value[k2]\n"
          ]
        }
      ],
      "source": [
        "df = df[info + features + to_predict]\n",
        "df[features + to_predict] = df[features + to_predict].astype(\"float32\")"
      ]
    },
    {
      "cell_type": "code",
      "execution_count": 12,
      "id": "d63ed15f-1efb-4c00-b646-8c55a6c347d1",
      "metadata": {
        "colab": {
          "base_uri": "https://localhost:8080/"
        },
        "id": "d63ed15f-1efb-4c00-b646-8c55a6c347d1",
        "outputId": "34dad9c5-8217-43c8-e7b3-3be8a022fa43"
      },
      "outputs": [
        {
          "output_type": "execute_result",
          "data": {
            "text/plain": [
              "(7457, 21)"
            ]
          },
          "metadata": {},
          "execution_count": 12
        }
      ],
      "source": [
        "df.shape"
      ]
    },
    {
      "cell_type": "code",
      "execution_count": 13,
      "id": "f36cc7ed-88c3-4ee4-baf1-85393aa3d15d",
      "metadata": {
        "id": "f36cc7ed-88c3-4ee4-baf1-85393aa3d15d"
      },
      "outputs": [],
      "source": [
        "# removing NaN rows and players that appear less than 15 times\n",
        "df = df.dropna()\n",
        "grouped = df.groupby('Name')\n",
        "\n",
        "# taking only players with at least FFP matches in logs\n",
        "df = grouped.filter(lambda x: len(x) >= FFP)"
      ]
    },
    {
      "cell_type": "code",
      "execution_count": 14,
      "id": "06c42b4b-58dd-48fe-a162-14e7564a4441",
      "metadata": {
        "colab": {
          "base_uri": "https://localhost:8080/"
        },
        "id": "06c42b4b-58dd-48fe-a162-14e7564a4441",
        "outputId": "7aaabbae-75f4-4ef2-f4b8-45ad8c4029d0"
      },
      "outputs": [
        {
          "output_type": "execute_result",
          "data": {
            "text/plain": [
              "(5771, 21)"
            ]
          },
          "metadata": {},
          "execution_count": 14
        }
      ],
      "source": [
        "df.shape"
      ]
    },
    {
      "cell_type": "code",
      "execution_count": 15,
      "id": "24fff899-a809-4659-b51e-f1431688507c",
      "metadata": {
        "id": "24fff899-a809-4659-b51e-f1431688507c"
      },
      "outputs": [],
      "source": [
        "# df.head(20)"
      ]
    },
    {
      "cell_type": "code",
      "execution_count": 16,
      "id": "a56bb28e-5b7a-4a99-b18f-73cdf0d41c03",
      "metadata": {
        "id": "a56bb28e-5b7a-4a99-b18f-73cdf0d41c03"
      },
      "outputs": [],
      "source": [
        "last_names = df[\"Name\"].unique()"
      ]
    },
    {
      "cell_type": "markdown",
      "id": "6e4319b4-355b-4121-a0ed-e6cbbdaf93a6",
      "metadata": {
        "id": "6e4319b4-355b-4121-a0ed-e6cbbdaf93a6"
      },
      "source": [
        "# DF to DataLoader"
      ]
    },
    {
      "cell_type": "code",
      "execution_count": 17,
      "id": "d87f8b66-cd79-4fd9-a0eb-a4d229912268",
      "metadata": {
        "id": "d87f8b66-cd79-4fd9-a0eb-a4d229912268"
      },
      "outputs": [],
      "source": [
        "df_train = df[df[\"GW\"] <= LAST_TRAIN_GW]\n",
        "df_valid = df\n",
        "\n",
        "# gk, def, mid, fwd\n",
        "df_gk_train = df[(df[\"FPL position\"] == \"GK\") & (df[\"GW\"] <= LAST_TRAIN_GW)]\n",
        "df_gk_valid = df[(df[\"FPL position\"] == \"GK\") ]\n",
        "\n",
        "df_def_train = df[(df[\"FPL position\"] == \"DEF\") & (df[\"GW\"] <= LAST_TRAIN_GW)]\n",
        "df_def_valid = df[(df[\"FPL position\"] == \"DEF\") ]\n",
        "\n",
        "df_mid_train = df[(df[\"FPL position\"] == \"MID\") & (df[\"GW\"] <= LAST_TRAIN_GW)]\n",
        "df_mid_valid = df[(df[\"FPL position\"] == \"MID\") ]\n",
        "\n",
        "df_fwd_train = df[(df[\"FPL position\"] == \"FWD\") & (df[\"GW\"] <= LAST_TRAIN_GW)]\n",
        "df_fwd_valid = df[(df[\"FPL position\"] == \"FWD\")]"
      ]
    },
    {
      "cell_type": "code",
      "execution_count": 18,
      "id": "75b6dda5-b74e-4ca8-a5e9-ac338cea6f20",
      "metadata": {
        "id": "75b6dda5-b74e-4ca8-a5e9-ac338cea6f20"
      },
      "outputs": [],
      "source": [
        "def init_index_table(df):\n",
        "    names = df[\"Name\"].unique()\n",
        "    result_dict = {}\n",
        "    \n",
        "    current_index = 0\n",
        "    player_index = 0\n",
        "    \n",
        "    for name in names:\n",
        "        sample_index = 0\n",
        "        samples_for_names = df[df[\"Name\"] == name].shape[0] - FIS\n",
        "        for i in range(samples_for_names):\n",
        "            result_dict[current_index] = [player_index, sample_index]\n",
        "            current_index += 1\n",
        "            sample_index += 1\n",
        "        player_index += 1\n",
        "    \n",
        "    return result_dict"
      ]
    },
    {
      "cell_type": "code",
      "execution_count": 19,
      "id": "15fc117a-0b9a-442e-a653-530a52486ff0",
      "metadata": {
        "id": "15fc117a-0b9a-442e-a653-530a52486ff0"
      },
      "outputs": [],
      "source": [
        "class PandasDataset(Dataset):\n",
        "    def __init__(self, dataframe, starting_gw, ending_gw):\n",
        "        self.dataframe = dataframe\n",
        "        self.names = dataframe[\"Name\"].unique()\n",
        "        \n",
        "        self.starting_gw = starting_gw\n",
        "        self.ending_gw = ending_gw\n",
        "        self.cut_unused_rows()\n",
        "        self.length = self.calculate_length()\n",
        "\n",
        "        self.index_table = init_index_table(self.dataframe)\n",
        "        self.transform = torchvision.transforms.Compose([torchvision.transforms.ToTensor()])\n",
        "\n",
        "    def cut_unused_rows(self):\n",
        "        for name in self.names:\n",
        "            df_name = self.dataframe[self.dataframe[\"Name\"] == name]\n",
        "            name_length = df_name.shape[0]\n",
        "            # print(\"NAME LENGTH\", name, name_length, FIS + 1)\n",
        "            if name_length >= FIS + 1:\n",
        "                try:\n",
        "                    first_index = df_name.index.tolist()[0]\n",
        "                except IndexError:\n",
        "                    first_index = None\n",
        "\n",
        "                try:\n",
        "                    last_index = max(FIS, df_name.index[df_name['GW'] < self.starting_gw].tolist()[-1]) - FIS\n",
        "                except:\n",
        "                    last_index = None\n",
        "\n",
        "                # print(\"FIRST LAST INDEX\", name, first_index, last_index)\n",
        "                if first_index != None and last_index != None:\n",
        "                    # print(\"WYCIETO\", name, range(first_index, last_index + 1))\n",
        "                    self.dataframe = self.dataframe.drop(range(first_index, last_index + 1))\n",
        "            else:\n",
        "                # print(\"DROPPING\", name, [df_name.index.tolist()])\n",
        "                self.dataframe = self.dataframe.drop([df_name.index.tolist()])\n",
        "                \n",
        "\n",
        "            # print(\"CUTTING\", name, first_index, last_index, name_length)\n",
        "            # print(\"CUT2\", df_name.index[df_name['GW'] < self.starting_gw].tolist())\n",
        "            # print(self.dataframe.shape)\n",
        "            # print(\"\")\n",
        "\n",
        "    def calculate_length(self):\n",
        "        length = 0\n",
        "        for name in self.names:\n",
        "            # print(name, (self.dataframe[self.dataframe[\"Name\"] == name].shape[0] - FIS))\n",
        "            length += (self.dataframe[self.dataframe[\"Name\"] == name].shape[0] - FIS)\n",
        "        return length\n",
        "\n",
        "    def __len__(self):\n",
        "        return self.length\n",
        "\n",
        "    def __getitem__(self, idx):\n",
        "        # print(idx)\n",
        "        player_id, sample_id = self.index_table[idx]\n",
        "        name = self.names[player_id]\n",
        "        # print(name)\n",
        "        # print(\"GETITEM DF\", name, player_id, sample_id)\n",
        "\n",
        "        features = self.dataframe[self.dataframe[\"Name\"] == name]\n",
        "        # print(self.dataframe[self.dataframe[\"Name\"] == name])\n",
        "        # print(features[sample_id: (sample_id + 4)])\n",
        "        features = features[sample_id: (sample_id + FIS)].drop(columns=info).values[:, :-1]\n",
        "        # print(features)\n",
        "        # print(features)\n",
        "        # print(type(features))\n",
        "        # print(self.dataframe[self.dataframe[\"Name\"] == name].values[:, -1])\n",
        "        # print(type(self.dataframe[self.dataframe[\"Name\"] == name].values[:, -1]))\n",
        "        # target = self.dataframe[self.dataframe[\"Name\"] == name].values[:, -1]\n",
        "        # target = target.astype(np.float32)\n",
        "        # target = torch.from_numpy(target)\n",
        "        # print(\"GETITEM\", idx, player_id, sample_id, name)\n",
        "        target = np.float32(self.dataframe[self.dataframe[\"Name\"] == name].values[(sample_id + FIS), -1])\n",
        "        # print(name, idx, target, sample_id)\n",
        "        # print(type(target))\n",
        "        return features, target"
      ]
    },
    {
      "cell_type": "code",
      "execution_count": 20,
      "id": "430e5e7d-972d-4eee-9bc0-a6f43ed05e7b",
      "metadata": {
        "id": "430e5e7d-972d-4eee-9bc0-a6f43ed05e7b"
      },
      "outputs": [],
      "source": [
        "dataset_general_train = PandasDataset(df_train, FIRST_TRAIN_GW, LAST_TRAIN_GW)\n",
        "dataset_general_valid = PandasDataset(df_valid, FIRST_VALID_GW, LAST_VALID_GW)\n",
        "\n",
        "dataset_gk_train = PandasDataset(df_gk_train, FIRST_TRAIN_GW, LAST_TRAIN_GW)\n",
        "dataset_gk_valid = PandasDataset(df_gk_valid, FIRST_VALID_GW, LAST_VALID_GW)\n",
        "\n",
        "dataset_def_train = PandasDataset(df_def_train, FIRST_TRAIN_GW, LAST_TRAIN_GW)\n",
        "dataset_def_valid = PandasDataset(df_def_valid, FIRST_VALID_GW, LAST_VALID_GW)\n",
        "\n",
        "dataset_mid_train = PandasDataset(df_mid_train, FIRST_TRAIN_GW, LAST_TRAIN_GW)\n",
        "dataset_mid_valid = PandasDataset(df_mid_valid, FIRST_VALID_GW, LAST_VALID_GW)\n",
        "\n",
        "dataset_fwd_train = PandasDataset(df_fwd_train, FIRST_TRAIN_GW, LAST_TRAIN_GW)\n",
        "dataset_fwd_valid = PandasDataset(df_fwd_valid, FIRST_VALID_GW, LAST_VALID_GW)"
      ]
    },
    {
      "cell_type": "code",
      "execution_count": 21,
      "id": "4ce0452d-89c3-4ec0-bfcd-79ae7587e36b",
      "metadata": {
        "colab": {
          "base_uri": "https://localhost:8080/"
        },
        "id": "4ce0452d-89c3-4ec0-bfcd-79ae7587e36b",
        "outputId": "816f4d44-4d48-4d2a-afd6-c18b67585d64"
      },
      "outputs": [
        {
          "output_type": "execute_result",
          "data": {
            "text/plain": [
              "(280, 25)"
            ]
          },
          "metadata": {},
          "execution_count": 21
        }
      ],
      "source": [
        "dataset_gk_train.__len__(), dataset_gk_valid.__len__()"
      ]
    },
    {
      "cell_type": "code",
      "execution_count": 22,
      "id": "dad3baac-8574-4dd0-af3c-f2d544295f67",
      "metadata": {
        "colab": {
          "base_uri": "https://localhost:8080/"
        },
        "id": "dad3baac-8574-4dd0-af3c-f2d544295f67",
        "outputId": "b4c85ff8-c704-45e3-ff6f-3040fc6fa218"
      },
      "outputs": [
        {
          "output_type": "execute_result",
          "data": {
            "text/plain": [
              "(1035, 100)"
            ]
          },
          "metadata": {},
          "execution_count": 22
        }
      ],
      "source": [
        "dataset_def_train.__len__(), dataset_def_valid.__len__()"
      ]
    },
    {
      "cell_type": "code",
      "execution_count": 23,
      "id": "65a42e4a-3f39-43bd-843b-d0225a124342",
      "metadata": {
        "colab": {
          "base_uri": "https://localhost:8080/"
        },
        "id": "65a42e4a-3f39-43bd-843b-d0225a124342",
        "outputId": "8b36bfb3-572d-4252-8278-df4ecf6eb459"
      },
      "outputs": [
        {
          "output_type": "execute_result",
          "data": {
            "text/plain": [
              "(1346, 123)"
            ]
          },
          "metadata": {},
          "execution_count": 23
        }
      ],
      "source": [
        "dataset_mid_train.__len__(), dataset_mid_valid.__len__()"
      ]
    },
    {
      "cell_type": "code",
      "execution_count": 24,
      "id": "89def15b-7eec-492a-a773-e87ebe22ea18",
      "metadata": {
        "colab": {
          "base_uri": "https://localhost:8080/"
        },
        "id": "89def15b-7eec-492a-a773-e87ebe22ea18",
        "outputId": "d697a82b-2d54-4568-d444-2cad2027c2cd"
      },
      "outputs": [
        {
          "output_type": "execute_result",
          "data": {
            "text/plain": [
              "(326, 30)"
            ]
          },
          "metadata": {},
          "execution_count": 24
        }
      ],
      "source": [
        "dataset_fwd_train.__len__(), dataset_fwd_valid.__len__()"
      ]
    },
    {
      "cell_type": "code",
      "execution_count": 25,
      "id": "fd3a4639-a6c7-40bf-ad2f-72569dfeac42",
      "metadata": {
        "id": "fd3a4639-a6c7-40bf-ad2f-72569dfeac42"
      },
      "outputs": [],
      "source": [
        "batch_size = 16"
      ]
    },
    {
      "cell_type": "code",
      "execution_count": 26,
      "id": "3ef8a258-452d-4ce9-b44f-3370fa58f750",
      "metadata": {
        "id": "3ef8a258-452d-4ce9-b44f-3370fa58f750"
      },
      "outputs": [],
      "source": [
        "dataloader_general_train = DataLoader(dataset_general_train, batch_size=batch_size, shuffle=False)\n",
        "dataloader_general_valid = DataLoader(dataset_general_valid, batch_size=batch_size, shuffle=False)\n",
        "\n",
        "dataloader_gk_train = DataLoader(dataset_gk_train, batch_size=batch_size, shuffle=False)\n",
        "dataloader_def_train = DataLoader(dataset_def_train, batch_size=batch_size, shuffle=False)\n",
        "dataloader_mid_train = DataLoader(dataset_mid_train, batch_size=batch_size, shuffle=False)\n",
        "dataloader_fwd_train = DataLoader(dataset_fwd_train, batch_size=batch_size, shuffle=False)\n",
        "\n",
        "dataloader_gk_valid = DataLoader(dataset_gk_valid, batch_size=batch_size, shuffle=False)\n",
        "dataloader_def_valid = DataLoader(dataset_def_valid, batch_size=batch_size, shuffle=False)\n",
        "dataloader_mid_valid = DataLoader(dataset_mid_valid, batch_size=batch_size, shuffle=False)\n",
        "dataloader_fwd_valid = DataLoader(dataset_fwd_valid, batch_size=batch_size, shuffle=False)"
      ]
    },
    {
      "cell_type": "code",
      "execution_count": 27,
      "id": "231626de-b520-4d08-a1c8-eeca06133061",
      "metadata": {
        "colab": {
          "base_uri": "https://localhost:8080/"
        },
        "id": "231626de-b520-4d08-a1c8-eeca06133061",
        "outputId": "af2c5a5f-db49-4773-f538-3af6b1ee93e3"
      },
      "outputs": [
        {
          "output_type": "execute_result",
          "data": {
            "text/plain": [
              "(187, 18, 65, 85, 21)"
            ]
          },
          "metadata": {},
          "execution_count": 27
        }
      ],
      "source": [
        "len(dataloader_general_train), len(dataloader_gk_train), len(dataloader_def_train), len(dataloader_mid_train), len(dataloader_fwd_train)"
      ]
    },
    {
      "cell_type": "code",
      "source": [
        "len(dataloader_general_valid), len(dataloader_gk_valid), len(dataloader_def_valid), len(dataloader_mid_valid), len(dataloader_fwd_valid)"
      ],
      "metadata": {
        "colab": {
          "base_uri": "https://localhost:8080/"
        },
        "id": "RbftCpHBBhi6",
        "outputId": "85d2cbfc-bf93-47e8-bbb6-6e1c230b881c"
      },
      "id": "RbftCpHBBhi6",
      "execution_count": 28,
      "outputs": [
        {
          "output_type": "execute_result",
          "data": {
            "text/plain": [
              "(18, 2, 7, 8, 2)"
            ]
          },
          "metadata": {},
          "execution_count": 28
        }
      ]
    },
    {
      "cell_type": "markdown",
      "id": "44290e57-5279-400f-bd5d-8bcbf0db2f99",
      "metadata": {
        "id": "44290e57-5279-400f-bd5d-8bcbf0db2f99"
      },
      "source": [
        "# LSTM Model"
      ]
    },
    {
      "cell_type": "code",
      "execution_count": 29,
      "id": "95c48496-4a3d-4dd6-a789-abb04d921dc6",
      "metadata": {
        "id": "95c48496-4a3d-4dd6-a789-abb04d921dc6"
      },
      "outputs": [],
      "source": [
        "class LSTMNetwork(nn.Module):\n",
        "    def __init__(self, input_size, hidden_size, num_layers, output_size, dropout=0.2):\n",
        "        super(LSTMNetwork, self).__init__()\n",
        "        self.lstm = nn.LSTM(input_size, hidden_size, num_layers, dropout=dropout)\n",
        "        self.fc = nn.Linear(hidden_size, output_size)\n",
        "\n",
        "    def forward(self, x):\n",
        "        x = torch.transpose(x, 0, 1)\n",
        "        # x = x.view(-1, batch_size)\n",
        "        # x = torch.transpose(x, 0, 1)\n",
        "        # print(\"FOR\", x.shape)\n",
        "        # print(x.shape)\n",
        "        # print(x.shape)\n",
        "        out, _ = self.lstm(x)\n",
        "        # print(out.shape)\n",
        "        out = self.fc(out[-1])\n",
        "        return out"
      ]
    },
    {
      "cell_type": "markdown",
      "id": "ca697492-5632-47ca-b7ef-7ef7f83f483e",
      "metadata": {
        "id": "ca697492-5632-47ca-b7ef-7ef7f83f483e"
      },
      "source": [
        "# Training loops"
      ]
    },
    {
      "cell_type": "code",
      "execution_count": 30,
      "id": "3e5d6365-866b-497d-9f3d-fff942c03266",
      "metadata": {
        "id": "3e5d6365-866b-497d-9f3d-fff942c03266"
      },
      "outputs": [],
      "source": [
        "criterion = nn.MSELoss()"
      ]
    },
    {
      "cell_type": "code",
      "execution_count": 31,
      "id": "3fc8e104-6c5d-4e09-a238-73e06346286b",
      "metadata": {
        "id": "3fc8e104-6c5d-4e09-a238-73e06346286b"
      },
      "outputs": [],
      "source": [
        "def train_net(net, num_epochs, dataloader_train, dataloader_valid, optimizer):\n",
        "    if len(dataloader_train) <= 0:\n",
        "        print(\"Dataloader has no elements\")\n",
        "        return []\n",
        "\n",
        "    best_model = None\n",
        "    best_val_loss = None\n",
        "\n",
        "    loss_history_train = []\n",
        "    loss_history_valid = []\n",
        "\n",
        "    for epoch in range(num_epochs):\n",
        "        running_loss_train = 0\n",
        "        running_loss_valid = 0\n",
        "\n",
        "        # training\n",
        "        for i, (inputs, targets) in enumerate(dataloader_train):\n",
        "            inputs = torch.flatten(inputs, 1, 2)\n",
        "            inputs = inputs.unsqueeze(2).to(device)\n",
        "            targets = targets.to(device)\n",
        "            # print(\"INPUTS\", inputs.shape)\n",
        "            # print(\"TARGETS\", targets.shape)\n",
        "            # print(targets)\n",
        "            optimizer.zero_grad()\n",
        "            outputs = net(inputs).flatten().to(device)\n",
        "            # print(\"OUTPUTS\", outputs.shape)\n",
        "            loss = criterion(outputs, targets)\n",
        "            running_loss_train += loss.item()\n",
        "            loss.backward()\n",
        "            optimizer.step()\n",
        "\n",
        "        with torch.no_grad():\n",
        "          # valid\n",
        "          for i, (inputs, targets) in enumerate(dataloader_valid):\n",
        "              inputs = torch.flatten(inputs, 1, 2)\n",
        "              inputs = inputs.unsqueeze(2).to(device)\n",
        "              targets = targets.to(device)\n",
        "              # print(\"INPUTS\", inputs.shape)\n",
        "              # print(\"TARGETS\", targets.shape)\n",
        "              # print(targets)\n",
        "              optimizer.zero_grad()\n",
        "              outputs = net(inputs).flatten().to(device)\n",
        "              # print(\"OUTPUTS\", outputs.shape)\n",
        "              loss = criterion(outputs, targets)\n",
        "              running_loss_valid += loss.item()\n",
        "\n",
        "        epoch_valid_loss = running_loss_valid / len(dataloader_valid)\n",
        "\n",
        "        loss_history_train.append(running_loss_train / len(dataloader_train))\n",
        "        loss_history_valid.append(epoch_valid_loss)\n",
        "\n",
        "        if not best_model or epoch_valid_loss < best_val_loss:\n",
        "            best_model = net\n",
        "            best_val_loss = epoch_valid_loss\n",
        "\n",
        "\n",
        "        if epoch % 5 == 0:\n",
        "            print(f'Epoch {epoch} Train: {running_loss_train / len(dataloader_train)} Valid: {running_loss_valid / len(dataloader_valid)}')\n",
        "    \n",
        "    return loss_history_train, loss_history_valid, best_model"
      ]
    },
    {
      "cell_type": "code",
      "execution_count": 32,
      "id": "c29562d5-abfe-4028-b09a-78d9fbdc5c64",
      "metadata": {
        "id": "c29562d5-abfe-4028-b09a-78d9fbdc5c64"
      },
      "outputs": [],
      "source": [
        "def plot_loss_history(loss_history_train, loss_history_valid):\n",
        "    plt.plot(loss_history_train, color='blue', label='Training Loss')\n",
        "    plt.plot(loss_history_valid, color='orange', label='Validation Loss')\n",
        "    plt.xlabel('Epoch')\n",
        "    plt.ylabel('Loss')\n",
        "    plt.legend()\n",
        "    plt.show()"
      ]
    },
    {
      "cell_type": "markdown",
      "id": "e6a2f684-5906-4cf1-8cd4-6f342fb3daf5",
      "metadata": {
        "id": "e6a2f684-5906-4cf1-8cd4-6f342fb3daf5"
      },
      "source": [
        "## Training loop - general net"
      ]
    },
    {
      "cell_type": "code",
      "execution_count": 33,
      "id": "8d1ac896-0465-4422-b291-a13f32f3d3b5",
      "metadata": {
        "colab": {
          "base_uri": "https://localhost:8080/"
        },
        "id": "8d1ac896-0465-4422-b291-a13f32f3d3b5",
        "outputId": "7dc11152-d419-4edc-ee97-bf506890e89f"
      },
      "outputs": [
        {
          "output_type": "stream",
          "name": "stdout",
          "text": [
            "Epoch 0 Train: 9.059177205524342 Valid: 8.710018104977078\n",
            "Epoch 5 Train: 8.82690004677696 Valid: 8.724292172325981\n",
            "CPU times: user 1min 7s, sys: 2.2 s, total: 1min 9s\n",
            "Wall time: 1min 15s\n"
          ]
        }
      ],
      "source": [
        "%%time\n",
        "net = LSTMNetwork(1, 20, 2, 1, dropout=0.4).to(device)\n",
        "optimizer = optim.Adam(net.parameters(), lr=0.005)\n",
        "loss_history_train, loss_history_valid, best_model_general = train_net(net, 10, dataloader_general_train, dataloader_general_valid, optimizer)"
      ]
    },
    {
      "cell_type": "code",
      "execution_count": 34,
      "id": "ac88d75b-3cb0-4747-9efe-c498dd2efdd3",
      "metadata": {
        "colab": {
          "base_uri": "https://localhost:8080/",
          "height": 279
        },
        "id": "ac88d75b-3cb0-4747-9efe-c498dd2efdd3",
        "outputId": "74789166-799b-419c-a699-68e14aebbaa0"
      },
      "outputs": [
        {
          "output_type": "display_data",
          "data": {
            "text/plain": [
              "<Figure size 432x288 with 1 Axes>"
            ],
            "image/png": "[encoded data removed]"
          },
          "metadata": {
            "needs_background": "light"
          }
        }
      ],
      "source": [
        "plot_loss_history(loss_history_train, loss_history_valid)"
      ]
    },
    {
      "cell_type": "markdown",
      "id": "8e1645fc-dd44-4891-a0db-8686d1ac588a",
      "metadata": {
        "id": "8e1645fc-dd44-4891-a0db-8686d1ac588a"
      },
      "source": [
        "## Training loop - goalkeeper net"
      ]
    },
    {
      "cell_type": "code",
      "source": [
        "net_gk = LSTMNetwork(1, 20, 2, 1, dropout=0.4).to(device)"
      ],
      "metadata": {
        "id": "p_HrS0-WL5oC"
      },
      "id": "p_HrS0-WL5oC",
      "execution_count": 35,
      "outputs": []
    },
    {
      "cell_type": "code",
      "execution_count": 36,
      "id": "85757dc2-113a-4a46-b17f-600293d87a90",
      "metadata": {
        "colab": {
          "base_uri": "https://localhost:8080/"
        },
        "id": "85757dc2-113a-4a46-b17f-600293d87a90",
        "outputId": "822645f9-7b20-4e2b-a260-08aa995d3b71"
      },
      "outputs": [
        {
          "output_type": "stream",
          "name": "stdout",
          "text": [
            "Epoch 0 Train: 13.226041197776794 Valid: 13.61018180847168\n",
            "CPU times: user 2.58 s, sys: 19.1 ms, total: 2.6 s\n",
            "Wall time: 2.65 s\n"
          ]
        }
      ],
      "source": [
        "%%time\n",
        "optimizer_gk = optim.Adam(net_gk.parameters(), lr=0.01)\n",
        "loss_history_gk_train, loss_history_gk_valid, best_model_gk = train_net(net_gk, 5, dataloader_gk_train, dataloader_gk_valid, optimizer_gk)"
      ]
    },
    {
      "cell_type": "code",
      "execution_count": 37,
      "id": "8ff0d12f-9099-4d9d-9d10-49dd81ec6a1c",
      "metadata": {
        "colab": {
          "base_uri": "https://localhost:8080/",
          "height": 282
        },
        "id": "8ff0d12f-9099-4d9d-9d10-49dd81ec6a1c",
        "outputId": "ff8ce81e-a1bb-4c51-99bb-f1fba481537d"
      },
      "outputs": [
        {
          "output_type": "display_data",
          "data": {
            "text/plain": [
              "<Figure size 432x288 with 1 Axes>"
            ],
            "image/png": "[encoded data removed]"
          },
          "metadata": {
            "needs_background": "light"
          }
        }
      ],
      "source": [
        "plot_loss_history(loss_history_gk_train, loss_history_gk_valid)"
      ]
    },
    {
      "cell_type": "markdown",
      "id": "a11943ae-8c43-4169-91a8-fd51445ac5b4",
      "metadata": {
        "id": "a11943ae-8c43-4169-91a8-fd51445ac5b4"
      },
      "source": [
        "## Training loop - defender net"
      ]
    },
    {
      "cell_type": "code",
      "source": [
        "net_def = LSTMNetwork(1, 20, 2, 1, dropout=0.4).to(device)"
      ],
      "metadata": {
        "id": "rcHl1HFoL3uy"
      },
      "id": "rcHl1HFoL3uy",
      "execution_count": 38,
      "outputs": []
    },
    {
      "cell_type": "code",
      "execution_count": 39,
      "id": "19b30491-7cf8-4572-abe0-388cb58de9b8",
      "metadata": {
        "colab": {
          "base_uri": "https://localhost:8080/"
        },
        "id": "19b30491-7cf8-4572-abe0-388cb58de9b8",
        "outputId": "6d16a226-0136-4693-d60c-bf0c6322d571"
      },
      "outputs": [
        {
          "output_type": "stream",
          "name": "stdout",
          "text": [
            "Epoch 0 Train: 8.86055102944374 Valid: 7.333229746137347\n",
            "CPU times: user 8.63 s, sys: 97.7 ms, total: 8.72 s\n",
            "Wall time: 8.6 s\n"
          ]
        }
      ],
      "source": [
        "%%time\n",
        "optimizer_def = optim.Adam(net_def.parameters(), lr=0.005)\n",
        "loss_history_def_train, loss_history_def_valid, best_model_def = train_net(net_def, 5, dataloader_def_train, dataloader_def_valid, optimizer_def)"
      ]
    },
    {
      "cell_type": "code",
      "execution_count": 40,
      "id": "a6ebe5b1-712d-46c4-a773-9782a9ae8689",
      "metadata": {
        "colab": {
          "base_uri": "https://localhost:8080/",
          "height": 279
        },
        "id": "a6ebe5b1-712d-46c4-a773-9782a9ae8689",
        "outputId": "f4acdbb7-a3ab-408f-b6c4-02b387c157fe"
      },
      "outputs": [
        {
          "output_type": "display_data",
          "data": {
            "text/plain": [
              "<Figure size 432x288 with 1 Axes>"
            ],
            "image/png": "[encoded data removed]"
          },
          "metadata": {
            "needs_background": "light"
          }
        }
      ],
      "source": [
        "plot_loss_history(loss_history_def_train, loss_history_def_valid)"
      ]
    },
    {
      "cell_type": "markdown",
      "id": "63c27abd-c720-4dff-bfe4-ad20a3d0a48e",
      "metadata": {
        "id": "63c27abd-c720-4dff-bfe4-ad20a3d0a48e"
      },
      "source": [
        "## Training loop - midfielder net"
      ]
    },
    {
      "cell_type": "code",
      "source": [
        "net_mid = LSTMNetwork(1, 20, 2, 1, dropout=0.4).to(device)"
      ],
      "metadata": {
        "id": "MmN-IwSvL1vO"
      },
      "id": "MmN-IwSvL1vO",
      "execution_count": 41,
      "outputs": []
    },
    {
      "cell_type": "code",
      "execution_count": 42,
      "id": "154a2ea8-d2f8-48c3-86fd-278be6c26475",
      "metadata": {
        "colab": {
          "base_uri": "https://localhost:8080/"
        },
        "id": "154a2ea8-d2f8-48c3-86fd-278be6c26475",
        "outputId": "f0e64386-b412-4bab-e653-f48e56d0658e"
      },
      "outputs": [
        {
          "output_type": "stream",
          "name": "stdout",
          "text": [
            "Epoch 0 Train: 9.194421863555908 Valid: 6.260515183210373\n",
            "Epoch 5 Train: 8.593121256547816 Valid: 5.880041122436523\n",
            "Epoch 10 Train: 8.587371692937964 Valid: 5.858483821153641\n",
            "Epoch 15 Train: 8.584014125431285 Valid: 5.811483711004257\n",
            "Epoch 20 Train: 8.584341486762552 Valid: 5.815948963165283\n",
            "Epoch 25 Train: 8.585866552240708 Valid: 5.81481745839119\n",
            "Epoch 30 Train: 8.584877862649805 Valid: 5.8116037249565125\n",
            "Epoch 35 Train: 8.585177573035745 Valid: 5.814336955547333\n",
            "Epoch 40 Train: 8.585010598687564 Valid: 5.810986816883087\n",
            "Epoch 45 Train: 8.58487008038689 Valid: 5.807478845119476\n",
            "Epoch 50 Train: 8.584576171987196 Valid: 5.807720810174942\n",
            "Epoch 55 Train: 8.584937679066378 Valid: 5.807906001806259\n",
            "Epoch 60 Train: 8.585226248292361 Valid: 5.808498531579971\n",
            "Epoch 65 Train: 8.584133913937738 Valid: 5.808030813932419\n",
            "Epoch 70 Train: 8.58448944793028 Valid: 5.806978017091751\n",
            "Epoch 75 Train: 8.584123408093172 Valid: 5.807606369256973\n",
            "Epoch 80 Train: 8.584669160842896 Valid: 5.806559503078461\n",
            "Epoch 85 Train: 8.584484666936538 Valid: 5.808012783527374\n",
            "Epoch 90 Train: 8.58463237986845 Valid: 5.807150721549988\n",
            "Epoch 95 Train: 8.584492407125586 Valid: 5.807458519935608\n",
            "Epoch 100 Train: 8.584647842014537 Valid: 5.8079003393650055\n",
            "Epoch 105 Train: 8.584522665248198 Valid: 5.80738440155983\n",
            "Epoch 110 Train: 8.584478871962604 Valid: 5.807031273841858\n",
            "Epoch 115 Train: 8.584576810107512 Valid: 5.807692378759384\n",
            "Epoch 120 Train: 8.58449358659632 Valid: 5.807520002126694\n",
            "Epoch 125 Train: 8.58434490035562 Valid: 5.807906419038773\n",
            "Epoch 130 Train: 8.584613275527953 Valid: 5.807487040758133\n",
            "Epoch 135 Train: 8.584540594325347 Valid: 5.807394206523895\n",
            "Epoch 140 Train: 8.584571843988755 Valid: 5.807317793369293\n",
            "Epoch 145 Train: 8.584544721771689 Valid: 5.807443797588348\n",
            "Epoch 150 Train: 8.584554503945743 Valid: 5.80746328830719\n",
            "Epoch 155 Train: 8.584551807010875 Valid: 5.8074155151844025\n",
            "Epoch 160 Train: 8.58450924508712 Valid: 5.807408481836319\n",
            "Epoch 165 Train: 8.58453186680289 Valid: 5.807610273361206\n",
            "Epoch 170 Train: 8.58453699981465 Valid: 5.8074513375759125\n",
            "Epoch 175 Train: 8.5845797959496 Valid: 5.807359993457794\n",
            "Epoch 180 Train: 8.584537762754104 Valid: 5.807457596063614\n",
            "Epoch 185 Train: 8.584546429970684 Valid: 5.80744531750679\n",
            "Epoch 190 Train: 8.584553792897392 Valid: 5.807448863983154\n",
            "Epoch 195 Train: 8.584547317729276 Valid: 5.80743220448494\n",
            "Epoch 200 Train: 8.584549096051385 Valid: 5.807448327541351\n",
            "Epoch 205 Train: 8.58455136383281 Valid: 5.807434976100922\n",
            "Epoch 210 Train: 8.58455769033993 Valid: 5.8074058294296265\n",
            "Epoch 215 Train: 8.584557586557725 Valid: 5.807406514883041\n",
            "Epoch 220 Train: 8.584544209872975 Valid: 5.80741673707962\n",
            "Epoch 225 Train: 8.584558852981118 Valid: 5.807416886091232\n",
            "Epoch 230 Train: 8.584551637312945 Valid: 5.8074511885643005\n",
            "Epoch 235 Train: 8.58456948224236 Valid: 5.807340294122696\n",
            "Epoch 240 Train: 8.584543284247903 Valid: 5.807420879602432\n",
            "Epoch 245 Train: 8.584566068649291 Valid: 5.807423621416092\n",
            "Epoch 250 Train: 8.584520921987647 Valid: 5.8073999881744385\n",
            "Epoch 255 Train: 8.58436060512767 Valid: 5.807240396738052\n",
            "Epoch 260 Train: 8.584589585135964 Valid: 5.807535171508789\n",
            "Epoch 265 Train: 8.584492589445675 Valid: 5.807567238807678\n",
            "Epoch 270 Train: 8.584625621402965 Valid: 5.807140022516251\n",
            "Epoch 275 Train: 8.583215437215918 Valid: 5.814211279153824\n",
            "Epoch 280 Train: 8.584648223484264 Valid: 5.8073636293411255\n",
            "Epoch 285 Train: 8.58484781629899 Valid: 5.806755572557449\n",
            "Epoch 290 Train: 8.58444867695079 Valid: 5.80589559674263\n",
            "Epoch 295 Train: 8.584601541126476 Valid: 5.807537227869034\n",
            "CPU times: user 12min 28s, sys: 6.46 s, total: 12min 35s\n",
            "Wall time: 12min 32s\n"
          ]
        }
      ],
      "source": [
        "%%time\n",
        "optimizer_mid = optim.Adam(net_mid.parameters(), lr=0.005)\n",
        "loss_history_mid_train, loss_history_mid_valid, best_model_mid = train_net(net_mid, 300, dataloader_mid_train, dataloader_mid_valid, optimizer_mid)"
      ]
    },
    {
      "cell_type": "code",
      "execution_count": 43,
      "id": "fff0d3ef-bb1d-4d13-a192-3d76f129914f",
      "metadata": {
        "colab": {
          "base_uri": "https://localhost:8080/",
          "height": 279
        },
        "id": "fff0d3ef-bb1d-4d13-a192-3d76f129914f",
        "outputId": "4f4a8942-4eb2-44ab-f9dd-714d5cae31bd"
      },
      "outputs": [
        {
          "output_type": "display_data",
          "data": {
            "text/plain": [
              "<Figure size 432x288 with 1 Axes>"
            ],
            "image/png": "[encoded data removed]"
          },
          "metadata": {
            "needs_background": "light"
          }
        }
      ],
      "source": [
        "plot_loss_history(loss_history_mid_train, loss_history_mid_valid)"
      ]
    },
    {
      "cell_type": "markdown",
      "id": "01bca3ac-0da4-41eb-a3bb-5c4b14df2cc0",
      "metadata": {
        "id": "01bca3ac-0da4-41eb-a3bb-5c4b14df2cc0"
      },
      "source": [
        "## Training loop - forward net"
      ]
    },
    {
      "cell_type": "code",
      "source": [
        "net_fwd = LSTMNetwork(1, 8, 2, 1, dropout=0.5).to(device)"
      ],
      "metadata": {
        "id": "NTwS6zsfLxQ2"
      },
      "id": "NTwS6zsfLxQ2",
      "execution_count": 44,
      "outputs": []
    },
    {
      "cell_type": "code",
      "execution_count": 45,
      "id": "2bcb7afb-f3f1-4a81-bbea-6da2b512967d",
      "metadata": {
        "colab": {
          "base_uri": "https://localhost:8080/"
        },
        "id": "2bcb7afb-f3f1-4a81-bbea-6da2b512967d",
        "outputId": "7c27541e-3cb0-4fd8-d988-d8536f83d496"
      },
      "outputs": [
        {
          "output_type": "stream",
          "name": "stdout",
          "text": [
            "Epoch 0 Train: 18.015597587540036 Valid: 24.0992431640625\n",
            "Epoch 5 Train: 12.17596955242611 Valid: 17.230422973632812\n",
            "Epoch 10 Train: 10.650105998629616 Valid: 15.105846405029297\n",
            "Epoch 15 Train: 10.506284520739602 Valid: 15.110828876495361\n",
            "Epoch 20 Train: 10.517813932327996 Valid: 14.95263147354126\n",
            "Epoch 25 Train: 10.502878995168777 Valid: 14.753342628479004\n",
            "Epoch 30 Train: 10.506467773800804 Valid: 14.902034759521484\n",
            "Epoch 35 Train: 10.525084881555467 Valid: 14.577059268951416\n",
            "Epoch 40 Train: 10.481941575095767 Valid: 14.854396343231201\n",
            "Epoch 45 Train: 10.07554114432562 Valid: 14.238562107086182\n",
            "Epoch 50 Train: 10.007211174283709 Valid: 13.949094772338867\n",
            "Epoch 55 Train: 10.476406892140707 Valid: 14.862517833709717\n",
            "Epoch 60 Train: 10.522292670749483 Valid: 14.876044750213623\n",
            "Epoch 65 Train: 10.422967683701287 Valid: 14.861120223999023\n",
            "Epoch 70 Train: 10.572334210077921 Valid: 14.815659999847412\n",
            "Epoch 75 Train: 10.474939789090838 Valid: 14.981014728546143\n",
            "Epoch 80 Train: 10.477815741584415 Valid: 14.860177993774414\n",
            "Epoch 85 Train: 10.507834797813778 Valid: 14.613396644592285\n",
            "Epoch 90 Train: 10.557587169465565 Valid: 14.803089141845703\n",
            "Epoch 95 Train: 10.530526308786301 Valid: 14.684247016906738\n",
            "Epoch 100 Train: 10.489310832250686 Valid: 14.62117862701416\n",
            "Epoch 105 Train: 10.491801625206357 Valid: 14.746320247650146\n",
            "Epoch 110 Train: 10.462993962424141 Valid: 14.716413021087646\n",
            "Epoch 115 Train: 10.51163615499224 Valid: 14.792298793792725\n",
            "Epoch 120 Train: 10.459865036464873 Valid: 14.79963731765747\n",
            "Epoch 125 Train: 10.499689601716542 Valid: 15.011847019195557\n",
            "Epoch 130 Train: 10.457660663695563 Valid: 14.92423152923584\n",
            "Epoch 135 Train: 10.456148647126698 Valid: 14.6043701171875\n",
            "Epoch 140 Train: 10.505463180087862 Valid: 14.519159317016602\n",
            "Epoch 145 Train: 10.469805183864775 Valid: 14.822648525238037\n",
            "Epoch 150 Train: 10.528497627803258 Valid: 14.743953704833984\n",
            "Epoch 155 Train: 10.450090340205602 Valid: 14.814239978790283\n",
            "Epoch 160 Train: 10.548267568860735 Valid: 14.835239887237549\n",
            "Epoch 165 Train: 10.436864671253023 Valid: 14.844915866851807\n",
            "Epoch 170 Train: 10.471126556396484 Valid: 14.710341453552246\n",
            "Epoch 175 Train: 10.42497840381804 Valid: 14.86034631729126\n",
            "Epoch 180 Train: 10.234832911264329 Valid: 13.832448482513428\n",
            "Epoch 185 Train: 9.862895170847574 Valid: 13.507867336273193\n",
            "Epoch 190 Train: 9.710095490728106 Valid: 13.273206233978271\n",
            "Epoch 195 Train: 9.772742362249465 Valid: 14.141834735870361\n",
            "Epoch 200 Train: 11.905950546264648 Valid: 15.019182682037354\n",
            "Epoch 205 Train: 10.606823739551363 Valid: 14.523478984832764\n",
            "Epoch 210 Train: 10.525154318128314 Valid: 14.829963207244873\n",
            "Epoch 215 Train: 10.51529732204619 Valid: 14.769462585449219\n",
            "Epoch 220 Train: 10.50748762630281 Valid: 14.860395431518555\n",
            "Epoch 225 Train: 10.497268801643735 Valid: 14.762869358062744\n",
            "Epoch 230 Train: 10.48910565603347 Valid: 14.75900936126709\n",
            "Epoch 235 Train: 10.50207131249564 Valid: 14.89555311203003\n",
            "Epoch 240 Train: 10.480067809422811 Valid: 14.735217571258545\n",
            "Epoch 245 Train: 10.50816241900126 Valid: 14.80564260482788\n",
            "Epoch 250 Train: 10.485710654939924 Valid: 14.701712131500244\n",
            "Epoch 255 Train: 10.504784413746425 Valid: 14.813168048858643\n",
            "Epoch 260 Train: 10.480918146315075 Valid: 14.877269268035889\n",
            "Epoch 265 Train: 10.509049290702457 Valid: 14.789697170257568\n",
            "Epoch 270 Train: 10.48339961823963 Valid: 14.841778755187988\n",
            "Epoch 275 Train: 10.498450267882575 Valid: 14.75032901763916\n",
            "Epoch 280 Train: 10.473996684664773 Valid: 14.748926162719727\n",
            "Epoch 285 Train: 10.478189275378273 Valid: 14.814228534698486\n",
            "Epoch 290 Train: 10.491336674917312 Valid: 14.8574857711792\n",
            "Epoch 295 Train: 10.496600991203671 Valid: 14.779247760772705\n",
            "Epoch 300 Train: 10.503757045382546 Valid: 14.841030597686768\n",
            "Epoch 305 Train: 10.479782047725859 Valid: 14.824313163757324\n",
            "Epoch 310 Train: 10.51630545797802 Valid: 14.839138507843018\n",
            "Epoch 315 Train: 10.479308900379 Valid: 14.729645729064941\n",
            "Epoch 320 Train: 10.483143284207298 Valid: 14.821153163909912\n",
            "Epoch 325 Train: 10.499974057787941 Valid: 14.727962017059326\n",
            "Epoch 330 Train: 10.486900397709437 Valid: 14.809919357299805\n",
            "Epoch 335 Train: 10.48542062441508 Valid: 14.836109638214111\n",
            "Epoch 340 Train: 10.494959320340838 Valid: 14.768016338348389\n",
            "Epoch 345 Train: 10.495514120374407 Valid: 14.86070203781128\n",
            "Epoch 350 Train: 10.489418472562518 Valid: 14.728023052215576\n",
            "Epoch 355 Train: 10.459462756202335 Valid: 14.724945545196533\n",
            "Epoch 360 Train: 10.487528324127197 Valid: 14.694400787353516\n",
            "Epoch 365 Train: 10.63176999773298 Valid: 14.289023399353027\n",
            "Epoch 370 Train: 9.919552065077282 Valid: 13.787395477294922\n",
            "Epoch 375 Train: 10.184063604899816 Valid: 14.681012153625488\n",
            "Epoch 380 Train: 9.701801549820672 Valid: 12.994083881378174\n",
            "Epoch 385 Train: 9.641986421176366 Valid: 13.662516117095947\n",
            "Epoch 390 Train: 9.734594890049525 Valid: 12.820895671844482\n",
            "Epoch 395 Train: 9.278711381412688 Valid: 12.301695346832275\n",
            "Epoch 400 Train: 11.469297545296806 Valid: 14.652402400970459\n",
            "Epoch 405 Train: 10.545033852259317 Valid: 14.704946517944336\n",
            "Epoch 410 Train: 10.51456660316104 Valid: 14.596657276153564\n",
            "Epoch 415 Train: 10.486164581208001 Valid: 14.988703727722168\n",
            "Epoch 420 Train: 10.521306662332444 Valid: 14.967613697052002\n",
            "Epoch 425 Train: 10.473411015101842 Valid: 14.812357902526855\n",
            "Epoch 430 Train: 10.503306967871529 Valid: 14.79535436630249\n",
            "Epoch 435 Train: 10.543390887124199 Valid: 14.69983720779419\n",
            "Epoch 440 Train: 10.461045208431425 Valid: 14.850933074951172\n",
            "Epoch 445 Train: 10.505336784181141 Valid: 14.931852340698242\n",
            "Epoch 450 Train: 10.464707896822976 Valid: 14.925548553466797\n",
            "Epoch 455 Train: 10.51223357518514 Valid: 14.789153099060059\n",
            "Epoch 460 Train: 10.446815479369391 Valid: 14.657683372497559\n",
            "Epoch 465 Train: 10.533268769582113 Valid: 14.857414722442627\n",
            "Epoch 470 Train: 10.489078476315452 Valid: 14.871679306030273\n",
            "Epoch 475 Train: 10.478300128664289 Valid: 14.755639553070068\n",
            "Epoch 480 Train: 10.49850971358163 Valid: 14.87992811203003\n",
            "Epoch 485 Train: 10.530052434830438 Valid: 14.832719326019287\n",
            "Epoch 490 Train: 10.471596127464657 Valid: 14.769416332244873\n",
            "Epoch 495 Train: 10.478979894093104 Valid: 14.61176061630249\n",
            "CPU times: user 4min 20s, sys: 2.48 s, total: 4min 23s\n",
            "Wall time: 4min 23s\n"
          ]
        }
      ],
      "source": [
        "%%time\n",
        "optimizer_fwd = optim.Adam(net_fwd.parameters(), lr=0.001)\n",
        "loss_history_fwd_train, loss_history_fwd_valid, best_model_fwd = train_net(net_fwd, 500, dataloader_fwd_train, dataloader_fwd_valid, optimizer_fwd)"
      ]
    },
    {
      "cell_type": "code",
      "execution_count": 46,
      "id": "b4915930-85c2-475e-8af8-820f1d32f5c1",
      "metadata": {
        "colab": {
          "base_uri": "https://localhost:8080/",
          "height": 279
        },
        "id": "b4915930-85c2-475e-8af8-820f1d32f5c1",
        "outputId": "7a0b1bfb-6992-4633-ec3b-f83ff092cfb6"
      },
      "outputs": [
        {
          "output_type": "display_data",
          "data": {
            "text/plain": [
              "<Figure size 432x288 with 1 Axes>"
            ],
            "image/png": "[encoded data removed]"
          },
          "metadata": {
            "needs_background": "light"
          }
        }
      ],
      "source": [
        "plot_loss_history(loss_history_fwd_train, loss_history_fwd_valid)"
      ]
    },
    {
      "cell_type": "markdown",
      "source": [
        "# Saving models to files"
      ],
      "metadata": {
        "id": "aEg01NBwVZu8"
      },
      "id": "aEg01NBwVZu8"
    },
    {
      "cell_type": "code",
      "source": [
        "# general model\n",
        "torch.save(net.state_dict(), 'models/regular/lstm_general.pt')\n",
        "\n",
        "# positional models\n",
        "torch.save(net_gk.state_dict(), 'models/regular/lstm_gk.pt')\n",
        "torch.save(net_def.state_dict(), 'models/regular/lstm_def.pt')\n",
        "torch.save(net_mid.state_dict(), 'models/regular/lstm_mid.pt')\n",
        "torch.save(net_fwd.state_dict(), 'models/regular/lstm_fwd.pt')\n",
        "\n",
        "# best models\n",
        "torch.save(best_model_general.state_dict(), 'models/best/best_lstm_general.pt')\n",
        "torch.save(best_model_gk.state_dict(), 'models/best/best_lstm_gk.pt')\n",
        "torch.save(best_model_def.state_dict(), 'models/best/best_lstm_def.pt')\n",
        "torch.save(best_model_mid.state_dict(), 'models/best/best_lstm_mid.pt')\n",
        "torch.save(best_model_fwd.state_dict(), 'models/best/best_lstm_fwd.pt')"
      ],
      "metadata": {
        "id": "qHSzIWHFVbX3"
      },
      "id": "qHSzIWHFVbX3",
      "execution_count": 47,
      "outputs": []
    },
    {
      "cell_type": "markdown",
      "id": "222c6cfd-5148-4793-a9f7-6dfa76115a68",
      "metadata": {
        "id": "222c6cfd-5148-4793-a9f7-6dfa76115a68"
      },
      "source": [
        "# Predictions - general model"
      ]
    },
    {
      "cell_type": "code",
      "execution_count": 48,
      "id": "3c0aef7e-f7d8-4337-8cd8-f88afab90872",
      "metadata": {
        "id": "3c0aef7e-f7d8-4337-8cd8-f88afab90872"
      },
      "outputs": [],
      "source": [
        "def generate_predictions(dataloader_pos, dataset_pos, net_pos, df_original, first_gw):\n",
        "    index = 0\n",
        "    predictions_pos = []\n",
        "    for inputs, target in dataloader_pos:\n",
        "        inputs = torch.flatten(inputs, 1, 2)\n",
        "        inputs = inputs.unsqueeze(2).to(device)\n",
        "\n",
        "        # print(\"Inputs\", inputs)\n",
        "        # print(\"Target\", target)\n",
        "        # print(\"INPUTS\", inputs)\n",
        "        # print(inputs)\n",
        "        outputs = net_pos(inputs).to(device)\n",
        "        # print(\"OUTPUTS\", outputs)\n",
        "        for output in outputs:\n",
        "            player_id, sample_id = dataset_pos.index_table[index]\n",
        "            name = dataset_pos.names[player_id]\n",
        "            points = round(output.item(), 2)\n",
        "            # print(\"DFORW NEXT\", player_id, sample_id, name, points)\n",
        "            df_row = df_original[(df_original[\"Name\"] == name) & (df_original[\"GW\"] >= first_gw)].iloc[sample_id]\n",
        "            # print(\"DFROW\", df_row)\n",
        "            df_row[\"Points\"] = points\n",
        "            df_gw = df_row[\"GW\"]\n",
        "            df_opp = df_row[\"Opponent\"]\n",
        "\n",
        "            # print(\"GEN PRED\", player_id, sample_id, name, points, df_gw, df_opp)\n",
        "            \n",
        "            gw = sample_id + FIS + 1 # wrong\n",
        "            predictions_pos.append(df_row)\n",
        "            # df.loc[(df[\"Name\"] == name) & (df[\"GW\"] == gw), \"LSTM\"] = points\n",
        "            index += 1\n",
        "    \n",
        "    output_df = pd.DataFrame(predictions_pos)\n",
        "    output_df = output_df.loc[:, ~output_df.columns.str.contains('^Unnamed')]\n",
        "    return output_df"
      ]
    },
    {
      "cell_type": "code",
      "source": [
        "prediction_columns = [\"Name\", \"GW\", \"Opponent\", \"Was Home\", \"Total Points\", \"Points\"]"
      ],
      "metadata": {
        "id": "4oNphdyqzFsE"
      },
      "id": "4oNphdyqzFsE",
      "execution_count": 49,
      "outputs": []
    },
    {
      "cell_type": "code",
      "source": [
        "predictions = generate_predictions(dataloader_general_valid, dataset_general_valid, net, df_original, FIRST_VALID_GW)"
      ],
      "metadata": {
        "id": "ZOJBQIAXMqIV"
      },
      "id": "ZOJBQIAXMqIV",
      "execution_count": 50,
      "outputs": []
    },
    {
      "cell_type": "code",
      "source": [
        "# dataset_general_valid.__getitem__(279)"
      ],
      "metadata": {
        "id": "Nb5LI03pbVe1"
      },
      "id": "Nb5LI03pbVe1",
      "execution_count": 51,
      "outputs": []
    },
    {
      "cell_type": "code",
      "source": [
        "predictions.sort_values(by=[\"Points\"], ascending = False).head(20)[prediction_columns]"
      ],
      "metadata": {
        "colab": {
          "base_uri": "https://localhost:8080/",
          "height": 677
        },
        "id": "i00d2_cSHh5u",
        "outputId": "2f572989-a23f-4ee5-b246-d89ac9545f77"
      },
      "id": "i00d2_cSHh5u",
      "execution_count": 52,
      "outputs": [
        {
          "output_type": "execute_result",
          "data": {
            "text/plain": [
              "                   Name  GW         Opponent  Was Home  Total Points  Points\n",
              "2100     Anthony-Elanga  21          Arsenal       0.0           0.0    2.83\n",
              "3663  Kalidou-Koulibaly  21        Liverpool       0.0           0.0    2.83\n",
              "543         Jordan-Ayew  21    Newcastle Utd       1.0           3.0    2.83\n",
              "5066        Robin-Olsen  21      Southampton       0.0           0.0    2.83\n",
              "3979     Diego-Llorente  21        Brentford       1.0           0.0    2.83\n",
              "766       Said-Benrahma  21          Everton       1.0           3.0    2.83\n",
              "6170     Ryan-Sessegnon  21           Fulham       0.0           0.0    2.83\n",
              "1247     Calum-Chambers  21      Southampton       0.0           0.0    2.83\n",
              "3381        Ben-Johnson  21          Everton       1.0           1.0    2.82\n",
              "3325     Mathias-Jensen  21     Leeds United       0.0           3.0    2.82\n",
              "3205  Kelechi-Iheanacho  21         Brighton       1.0           0.0    2.82\n",
              "4738      Kieffer-Moore  21  Nott'ham Forest       1.0           2.0    2.82\n",
              "1898       Matt-Doherty  21           Fulham       0.0           0.0    2.82\n",
              "6655     Kieran-Tierney  21   Manchester Utd       1.0           0.0    2.82\n",
              "1855          Issa-Diop  21        Tottenham       1.0           2.0    2.82\n",
              "1821          Eric-Dier  21           Fulham       0.0           6.0    2.82\n",
              "4685    Tyrick-Mitchell  21    Newcastle Utd       1.0           7.0    2.82\n",
              "6430      Jack-Stephens  21  Nott'ham Forest       1.0           2.0    2.82\n",
              "6566    James-Tarkowski  21         West Ham       0.0           0.0    2.82\n",
              "4603      Illan-Meslier  21        Brentford       1.0           6.0    2.82"
            ],
            "text/html": [
              "\n",
              "  <div id=\"df-18921296-2919-4a42-acee-7b0617ffbfc2\">\n",
              "    <div class=\"colab-df-container\">\n",
              "      <div>\n",
              "<style scoped>\n",
              "    .dataframe tbody tr th:only-of-type {\n",
              "        vertical-align: middle;\n",
              "    }\n",
              "\n",
              "    .dataframe tbody tr th {\n",
              "        vertical-align: top;\n",
              "    }\n",
              "\n",
              "    .dataframe thead th {\n",
              "        text-align: right;\n",
              "    }\n",
              "</style>\n",
              "<table border=\"1\" class=\"dataframe\">\n",
              "  <thead>\n",
              "    <tr style=\"text-align: right;\">\n",
              "      <th></th>\n",
              "      <th>Name</th>\n",
              "      <th>GW</th>\n",
              "      <th>Opponent</th>\n",
              "      <th>Was Home</th>\n",
              "      <th>Total Points</th>\n",
              "      <th>Points</th>\n",
              "    </tr>\n",
              "  </thead>\n",
              "  <tbody>\n",
              "    <tr>\n",
              "      <th>2100</th>\n",
              "      <td>Anthony-Elanga</td>\n",
              "      <td>21</td>\n",
              "      <td>Arsenal</td>\n",
              "      <td>0.0</td>\n",
              "      <td>0.0</td>\n",
              "      <td>2.83</td>\n",
              "    </tr>\n",
              "    <tr>\n",
              "      <th>3663</th>\n",
              "      <td>Kalidou-Koulibaly</td>\n",
              "      <td>21</td>\n",
              "      <td>Liverpool</td>\n",
              "      <td>0.0</td>\n",
              "      <td>0.0</td>\n",
              "      <td>2.83</td>\n",
              "    </tr>\n",
              "    <tr>\n",
              "      <th>543</th>\n",
              "      <td>Jordan-Ayew</td>\n",
              "      <td>21</td>\n",
              "      <td>Newcastle Utd</td>\n",
              "      <td>1.0</td>\n",
              "      <td>3.0</td>\n",
              "      <td>2.83</td>\n",
              "    </tr>\n",
              "    <tr>\n",
              "      <th>5066</th>\n",
              "      <td>Robin-Olsen</td>\n",
              "      <td>21</td>\n",
              "      <td>Southampton</td>\n",
              "      <td>0.0</td>\n",
              "      <td>0.0</td>\n",
              "      <td>2.83</td>\n",
              "    </tr>\n",
              "    <tr>\n",
              "      <th>3979</th>\n",
              "      <td>Diego-Llorente</td>\n",
              "      <td>21</td>\n",
              "      <td>Brentford</td>\n",
              "      <td>1.0</td>\n",
              "      <td>0.0</td>\n",
              "      <td>2.83</td>\n",
              "    </tr>\n",
              "    <tr>\n",
              "      <th>766</th>\n",
              "      <td>Said-Benrahma</td>\n",
              "      <td>21</td>\n",
              "      <td>Everton</td>\n",
              "      <td>1.0</td>\n",
              "      <td>3.0</td>\n",
              "      <td>2.83</td>\n",
              "    </tr>\n",
              "    <tr>\n",
              "      <th>6170</th>\n",
              "      <td>Ryan-Sessegnon</td>\n",
              "      <td>21</td>\n",
              "      <td>Fulham</td>\n",
              "      <td>0.0</td>\n",
              "      <td>0.0</td>\n",
              "      <td>2.83</td>\n",
              "    </tr>\n",
              "    <tr>\n",
              "      <th>1247</th>\n",
              "      <td>Calum-Chambers</td>\n",
              "      <td>21</td>\n",
              "      <td>Southampton</td>\n",
              "      <td>0.0</td>\n",
              "      <td>0.0</td>\n",
              "      <td>2.83</td>\n",
              "    </tr>\n",
              "    <tr>\n",
              "      <th>3381</th>\n",
              "      <td>Ben-Johnson</td>\n",
              "      <td>21</td>\n",
              "      <td>Everton</td>\n",
              "      <td>1.0</td>\n",
              "      <td>1.0</td>\n",
              "      <td>2.82</td>\n",
              "    </tr>\n",
              "    <tr>\n",
              "      <th>3325</th>\n",
              "      <td>Mathias-Jensen</td>\n",
              "      <td>21</td>\n",
              "      <td>Leeds United</td>\n",
              "      <td>0.0</td>\n",
              "      <td>3.0</td>\n",
              "      <td>2.82</td>\n",
              "    </tr>\n",
              "    <tr>\n",
              "      <th>3205</th>\n",
              "      <td>Kelechi-Iheanacho</td>\n",
              "      <td>21</td>\n",
              "      <td>Brighton</td>\n",
              "      <td>1.0</td>\n",
              "      <td>0.0</td>\n",
              "      <td>2.82</td>\n",
              "    </tr>\n",
              "    <tr>\n",
              "      <th>4738</th>\n",
              "      <td>Kieffer-Moore</td>\n",
              "      <td>21</td>\n",
              "      <td>Nott'ham Forest</td>\n",
              "      <td>1.0</td>\n",
              "      <td>2.0</td>\n",
              "      <td>2.82</td>\n",
              "    </tr>\n",
              "    <tr>\n",
              "      <th>1898</th>\n",
              "      <td>Matt-Doherty</td>\n",
              "      <td>21</td>\n",
              "      <td>Fulham</td>\n",
              "      <td>0.0</td>\n",
              "      <td>0.0</td>\n",
              "      <td>2.82</td>\n",
              "    </tr>\n",
              "    <tr>\n",
              "      <th>6655</th>\n",
              "      <td>Kieran-Tierney</td>\n",
              "      <td>21</td>\n",
              "      <td>Manchester Utd</td>\n",
              "      <td>1.0</td>\n",
              "      <td>0.0</td>\n",
              "      <td>2.82</td>\n",
              "    </tr>\n",
              "    <tr>\n",
              "      <th>1855</th>\n",
              "      <td>Issa-Diop</td>\n",
              "      <td>21</td>\n",
              "      <td>Tottenham</td>\n",
              "      <td>1.0</td>\n",
              "      <td>2.0</td>\n",
              "      <td>2.82</td>\n",
              "    </tr>\n",
              "    <tr>\n",
              "      <th>1821</th>\n",
              "      <td>Eric-Dier</td>\n",
              "      <td>21</td>\n",
              "      <td>Fulham</td>\n",
              "      <td>0.0</td>\n",
              "      <td>6.0</td>\n",
              "      <td>2.82</td>\n",
              "    </tr>\n",
              "    <tr>\n",
              "      <th>4685</th>\n",
              "      <td>Tyrick-Mitchell</td>\n",
              "      <td>21</td>\n",
              "      <td>Newcastle Utd</td>\n",
              "      <td>1.0</td>\n",
              "      <td>7.0</td>\n",
              "      <td>2.82</td>\n",
              "    </tr>\n",
              "    <tr>\n",
              "      <th>6430</th>\n",
              "      <td>Jack-Stephens</td>\n",
              "      <td>21</td>\n",
              "      <td>Nott'ham Forest</td>\n",
              "      <td>1.0</td>\n",
              "      <td>2.0</td>\n",
              "      <td>2.82</td>\n",
              "    </tr>\n",
              "    <tr>\n",
              "      <th>6566</th>\n",
              "      <td>James-Tarkowski</td>\n",
              "      <td>21</td>\n",
              "      <td>West Ham</td>\n",
              "      <td>0.0</td>\n",
              "      <td>0.0</td>\n",
              "      <td>2.82</td>\n",
              "    </tr>\n",
              "    <tr>\n",
              "      <th>4603</th>\n",
              "      <td>Illan-Meslier</td>\n",
              "      <td>21</td>\n",
              "      <td>Brentford</td>\n",
              "      <td>1.0</td>\n",
              "      <td>6.0</td>\n",
              "      <td>2.82</td>\n",
              "    </tr>\n",
              "  </tbody>\n",
              "</table>\n",
              "</div>\n",
              "      <button class=\"colab-df-convert\" onclick=\"convertToInteractive('df-18921296-2919-4a42-acee-7b0617ffbfc2')\"\n",
              "              title=\"Convert this dataframe to an interactive table.\"\n",
              "              style=\"display:none;\">\n",
              "        \n",
              "  <svg xmlns=\"http://www.w3.org/2000/svg\" height=\"24px\"viewBox=\"0 0 24 24\"\n",
              "       width=\"24px\">\n",
              "    <path d=\"M0 0h24v24H0V0z\" fill=\"none\"/>\n",
              "    <path d=\"M18.56 5.44l.94 2.06.94-2.06 2.06-.94-2.06-.94-.94-2.06-.94 2.06-2.06.94zm-11 1L8.5 8.5l.94-2.06 2.06-.94-2.06-.94L8.5 2.5l-.94 2.06-2.06.94zm10 10l.94 2.06.94-2.06 2.06-.94-2.06-.94-.94-2.06-.94 2.06-2.06.94z\"/><path d=\"M17.41 7.96l-1.37-1.37c-.4-.4-.92-.59-1.43-.59-.52 0-1.04.2-1.43.59L10.3 9.45l-7.72 7.72c-.78.78-.78 2.05 0 2.83L4 21.41c.39.39.9.59 1.41.59.51 0 1.02-.2 1.41-.59l7.78-7.78 2.81-2.81c.8-.78.8-2.07 0-2.86zM5.41 20L4 18.59l7.72-7.72 1.47 1.35L5.41 20z\"/>\n",
              "  </svg>\n",
              "      </button>\n",
              "      \n",
              "  <style>\n",
              "    .colab-df-container {\n",
              "      display:flex;\n",
              "      flex-wrap:wrap;\n",
              "      gap: 12px;\n",
              "    }\n",
              "\n",
              "    .colab-df-convert {\n",
              "      background-color: #E8F0FE;\n",
              "      border: none;\n",
              "      border-radius: 50%;\n",
              "      cursor: pointer;\n",
              "      display: none;\n",
              "      fill: #1967D2;\n",
              "      height: 32px;\n",
              "      padding: 0 0 0 0;\n",
              "      width: 32px;\n",
              "    }\n",
              "\n",
              "    .colab-df-convert:hover {\n",
              "      background-color: #E2EBFA;\n",
              "      box-shadow: 0px 1px 2px rgba(60, 64, 67, 0.3), 0px 1px 3px 1px rgba(60, 64, 67, 0.15);\n",
              "      fill: #174EA6;\n",
              "    }\n",
              "\n",
              "    [theme=dark] .colab-df-convert {\n",
              "      background-color: #3B4455;\n",
              "      fill: #D2E3FC;\n",
              "    }\n",
              "\n",
              "    [theme=dark] .colab-df-convert:hover {\n",
              "      background-color: #434B5C;\n",
              "      box-shadow: 0px 1px 3px 1px rgba(0, 0, 0, 0.15);\n",
              "      filter: drop-shadow(0px 1px 2px rgba(0, 0, 0, 0.3));\n",
              "      fill: #FFFFFF;\n",
              "    }\n",
              "  </style>\n",
              "\n",
              "      <script>\n",
              "        const buttonEl =\n",
              "          document.querySelector('#df-18921296-2919-4a42-acee-7b0617ffbfc2 button.colab-df-convert');\n",
              "        buttonEl.style.display =\n",
              "          google.colab.kernel.accessAllowed ? 'block' : 'none';\n",
              "\n",
              "        async function convertToInteractive(key) {\n",
              "          const element = document.querySelector('#df-18921296-2919-4a42-acee-7b0617ffbfc2');\n",
              "          const dataTable =\n",
              "            await google.colab.kernel.invokeFunction('convertToInteractive',\n",
              "                                                     [key], {});\n",
              "          if (!dataTable) return;\n",
              "\n",
              "          const docLinkHtml = 'Like what you see? Visit the ' +\n",
              "            '<a target=\"_blank\" href=https://colab.research.google.com/notebooks/data_table.ipynb>data table notebook</a>'\n",
              "            + ' to learn more about interactive tables.';\n",
              "          element.innerHTML = '';\n",
              "          dataTable['output_type'] = 'display_data';\n",
              "          await google.colab.output.renderOutput(dataTable, element);\n",
              "          const docLink = document.createElement('div');\n",
              "          docLink.innerHTML = docLinkHtml;\n",
              "          element.appendChild(docLink);\n",
              "        }\n",
              "      </script>\n",
              "    </div>\n",
              "  </div>\n",
              "  "
            ]
          },
          "metadata": {},
          "execution_count": 52
        }
      ]
    },
    {
      "cell_type": "code",
      "execution_count": 53,
      "id": "297cfbd4-0fbe-46b4-9fc4-d79eeaadf70d",
      "metadata": {
        "id": "297cfbd4-0fbe-46b4-9fc4-d79eeaadf70d"
      },
      "outputs": [],
      "source": [
        "# # appending results to original df\n",
        "# for df_gw, df_opp, name, gw, points in predictions:\n",
        "#     df_original.loc[(df_original[\"Name\"] == name) & (df[\"GW\"] == gw), \"LSTM\"] = points"
      ]
    },
    {
      "cell_type": "code",
      "execution_count": 54,
      "id": "ce5882f0-aff6-4ae9-9cba-8b4e816bec07",
      "metadata": {
        "id": "ce5882f0-aff6-4ae9-9cba-8b4e816bec07"
      },
      "outputs": [],
      "source": [
        "# df_original.to_csv(\"data/fpl_fbref_elo_lstm.csv\")"
      ]
    },
    {
      "cell_type": "markdown",
      "id": "07f29a9a-1341-4a6f-a3eb-10685dfb6b0d",
      "metadata": {
        "id": "07f29a9a-1341-4a6f-a3eb-10685dfb6b0d"
      },
      "source": [
        "# Predictions for each position"
      ]
    },
    {
      "cell_type": "markdown",
      "id": "a59960f5-efe3-453f-97de-8973cf73ee70",
      "metadata": {
        "id": "a59960f5-efe3-453f-97de-8973cf73ee70"
      },
      "source": [
        "## Goalkeepers"
      ]
    },
    {
      "cell_type": "code",
      "execution_count": 55,
      "id": "de13487b-b45b-43fb-9c94-9dc91033ddd9",
      "metadata": {
        "id": "de13487b-b45b-43fb-9c94-9dc91033ddd9"
      },
      "outputs": [],
      "source": [
        "predictions_gk = generate_predictions(dataloader_gk_valid, dataset_gk_valid, net_gk, df_gk_original, FIRST_VALID_GW)"
      ]
    },
    {
      "cell_type": "code",
      "execution_count": 56,
      "id": "df13c078-9794-4a74-bafc-4826e352394d",
      "metadata": {
        "id": "df13c078-9794-4a74-bafc-4826e352394d",
        "colab": {
          "base_uri": "https://localhost:8080/",
          "height": 677
        },
        "outputId": "88fe01a4-b97e-451f-b748-b107e081e8fd"
      },
      "outputs": [
        {
          "output_type": "execute_result",
          "data": {
            "text/plain": [
              "                   Name  GW         Opponent  Was Home  Total Points  Points\n",
              "675        Gavin-Bazunu  21      Aston Villa       1.0           3.0    3.13\n",
              "2558       David-de-Gea  21          Arsenal       0.0           1.0    3.10\n",
              "3862         Bernd-Leno  21        Tottenham       1.0           2.0    3.10\n",
              "2409     Fraser-Forster  21           Fulham       0.0           0.0    3.10\n",
              "7030         Danny-Ward  21         Brighton       1.0           1.0    3.09\n",
              "5863            Jose-Sa  21  Manchester City       0.0           2.0    3.09\n",
              "467   Kepa-Arrizabalaga  21        Liverpool       0.0           9.0    3.08\n",
              "3052    Wayne-Hennessey  21      Bournemouth       0.0           2.0    3.07\n",
              "214             Alisson  21          Chelsea       1.0           9.0    3.07\n",
              "5066        Robin-Olsen  21      Southampton       0.0           0.0    3.05\n",
              "4000        Hugo-Lloris  21           Fulham       0.0           9.0    3.05\n",
              "2252   Lukasz-Fabianski  21          Everton       1.0           6.0    3.04\n",
              "391     Alphonse-Areola  21          Everton       1.0           0.0    3.04\n",
              "5351    Jordan-Pickford  21         West Ham       0.0           1.0    3.04\n",
              "5725        Marek-Rodak  21        Tottenham       1.0           0.0    3.04\n",
              "731       Asmir-Begovic  21         West Ham       0.0           0.0    3.04\n",
              "6761       Mark-Travers  21  Nott'ham Forest       1.0           0.0    3.04\n",
              "4335  Emiliano-Martinez  21      Southampton       0.0          10.0    3.03\n",
              "4603      Illan-Meslier  21        Brentford       1.0           6.0    3.03\n",
              "5516         David-Raya  21     Leeds United       0.0          10.0    3.00"
            ],
            "text/html": [
              "\n",
              "  <div id=\"df-be2c88b6-d6d5-4820-b574-5b310a028303\">\n",
              "    <div class=\"colab-df-container\">\n",
              "      <div>\n",
              "<style scoped>\n",
              "    .dataframe tbody tr th:only-of-type {\n",
              "        vertical-align: middle;\n",
              "    }\n",
              "\n",
              "    .dataframe tbody tr th {\n",
              "        vertical-align: top;\n",
              "    }\n",
              "\n",
              "    .dataframe thead th {\n",
              "        text-align: right;\n",
              "    }\n",
              "</style>\n",
              "<table border=\"1\" class=\"dataframe\">\n",
              "  <thead>\n",
              "    <tr style=\"text-align: right;\">\n",
              "      <th></th>\n",
              "      <th>Name</th>\n",
              "      <th>GW</th>\n",
              "      <th>Opponent</th>\n",
              "      <th>Was Home</th>\n",
              "      <th>Total Points</th>\n",
              "      <th>Points</th>\n",
              "    </tr>\n",
              "  </thead>\n",
              "  <tbody>\n",
              "    <tr>\n",
              "      <th>675</th>\n",
              "      <td>Gavin-Bazunu</td>\n",
              "      <td>21</td>\n",
              "      <td>Aston Villa</td>\n",
              "      <td>1.0</td>\n",
              "      <td>3.0</td>\n",
              "      <td>3.13</td>\n",
              "    </tr>\n",
              "    <tr>\n",
              "      <th>2558</th>\n",
              "      <td>David-de-Gea</td>\n",
              "      <td>21</td>\n",
              "      <td>Arsenal</td>\n",
              "      <td>0.0</td>\n",
              "      <td>1.0</td>\n",
              "      <td>3.10</td>\n",
              "    </tr>\n",
              "    <tr>\n",
              "      <th>3862</th>\n",
              "      <td>Bernd-Leno</td>\n",
              "      <td>21</td>\n",
              "      <td>Tottenham</td>\n",
              "      <td>1.0</td>\n",
              "      <td>2.0</td>\n",
              "      <td>3.10</td>\n",
              "    </tr>\n",
              "    <tr>\n",
              "      <th>2409</th>\n",
              "      <td>Fraser-Forster</td>\n",
              "      <td>21</td>\n",
              "      <td>Fulham</td>\n",
              "      <td>0.0</td>\n",
              "      <td>0.0</td>\n",
              "      <td>3.10</td>\n",
              "    </tr>\n",
              "    <tr>\n",
              "      <th>7030</th>\n",
              "      <td>Danny-Ward</td>\n",
              "      <td>21</td>\n",
              "      <td>Brighton</td>\n",
              "      <td>1.0</td>\n",
              "      <td>1.0</td>\n",
              "      <td>3.09</td>\n",
              "    </tr>\n",
              "    <tr>\n",
              "      <th>5863</th>\n",
              "      <td>Jose-Sa</td>\n",
              "      <td>21</td>\n",
              "      <td>Manchester City</td>\n",
              "      <td>0.0</td>\n",
              "      <td>2.0</td>\n",
              "      <td>3.09</td>\n",
              "    </tr>\n",
              "    <tr>\n",
              "      <th>467</th>\n",
              "      <td>Kepa-Arrizabalaga</td>\n",
              "      <td>21</td>\n",
              "      <td>Liverpool</td>\n",
              "      <td>0.0</td>\n",
              "      <td>9.0</td>\n",
              "      <td>3.08</td>\n",
              "    </tr>\n",
              "    <tr>\n",
              "      <th>3052</th>\n",
              "      <td>Wayne-Hennessey</td>\n",
              "      <td>21</td>\n",
              "      <td>Bournemouth</td>\n",
              "      <td>0.0</td>\n",
              "      <td>2.0</td>\n",
              "      <td>3.07</td>\n",
              "    </tr>\n",
              "    <tr>\n",
              "      <th>214</th>\n",
              "      <td>Alisson</td>\n",
              "      <td>21</td>\n",
              "      <td>Chelsea</td>\n",
              "      <td>1.0</td>\n",
              "      <td>9.0</td>\n",
              "      <td>3.07</td>\n",
              "    </tr>\n",
              "    <tr>\n",
              "      <th>5066</th>\n",
              "      <td>Robin-Olsen</td>\n",
              "      <td>21</td>\n",
              "      <td>Southampton</td>\n",
              "      <td>0.0</td>\n",
              "      <td>0.0</td>\n",
              "      <td>3.05</td>\n",
              "    </tr>\n",
              "    <tr>\n",
              "      <th>4000</th>\n",
              "      <td>Hugo-Lloris</td>\n",
              "      <td>21</td>\n",
              "      <td>Fulham</td>\n",
              "      <td>0.0</td>\n",
              "      <td>9.0</td>\n",
              "      <td>3.05</td>\n",
              "    </tr>\n",
              "    <tr>\n",
              "      <th>2252</th>\n",
              "      <td>Lukasz-Fabianski</td>\n",
              "      <td>21</td>\n",
              "      <td>Everton</td>\n",
              "      <td>1.0</td>\n",
              "      <td>6.0</td>\n",
              "      <td>3.04</td>\n",
              "    </tr>\n",
              "    <tr>\n",
              "      <th>391</th>\n",
              "      <td>Alphonse-Areola</td>\n",
              "      <td>21</td>\n",
              "      <td>Everton</td>\n",
              "      <td>1.0</td>\n",
              "      <td>0.0</td>\n",
              "      <td>3.04</td>\n",
              "    </tr>\n",
              "    <tr>\n",
              "      <th>5351</th>\n",
              "      <td>Jordan-Pickford</td>\n",
              "      <td>21</td>\n",
              "      <td>West Ham</td>\n",
              "      <td>0.0</td>\n",
              "      <td>1.0</td>\n",
              "      <td>3.04</td>\n",
              "    </tr>\n",
              "    <tr>\n",
              "      <th>5725</th>\n",
              "      <td>Marek-Rodak</td>\n",
              "      <td>21</td>\n",
              "      <td>Tottenham</td>\n",
              "      <td>1.0</td>\n",
              "      <td>0.0</td>\n",
              "      <td>3.04</td>\n",
              "    </tr>\n",
              "    <tr>\n",
              "      <th>731</th>\n",
              "      <td>Asmir-Begovic</td>\n",
              "      <td>21</td>\n",
              "      <td>West Ham</td>\n",
              "      <td>0.0</td>\n",
              "      <td>0.0</td>\n",
              "      <td>3.04</td>\n",
              "    </tr>\n",
              "    <tr>\n",
              "      <th>6761</th>\n",
              "      <td>Mark-Travers</td>\n",
              "      <td>21</td>\n",
              "      <td>Nott'ham Forest</td>\n",
              "      <td>1.0</td>\n",
              "      <td>0.0</td>\n",
              "      <td>3.04</td>\n",
              "    </tr>\n",
              "    <tr>\n",
              "      <th>4335</th>\n",
              "      <td>Emiliano-Martinez</td>\n",
              "      <td>21</td>\n",
              "      <td>Southampton</td>\n",
              "      <td>0.0</td>\n",
              "      <td>10.0</td>\n",
              "      <td>3.03</td>\n",
              "    </tr>\n",
              "    <tr>\n",
              "      <th>4603</th>\n",
              "      <td>Illan-Meslier</td>\n",
              "      <td>21</td>\n",
              "      <td>Brentford</td>\n",
              "      <td>1.0</td>\n",
              "      <td>6.0</td>\n",
              "      <td>3.03</td>\n",
              "    </tr>\n",
              "    <tr>\n",
              "      <th>5516</th>\n",
              "      <td>David-Raya</td>\n",
              "      <td>21</td>\n",
              "      <td>Leeds United</td>\n",
              "      <td>0.0</td>\n",
              "      <td>10.0</td>\n",
              "      <td>3.00</td>\n",
              "    </tr>\n",
              "  </tbody>\n",
              "</table>\n",
              "</div>\n",
              "      <button class=\"colab-df-convert\" onclick=\"convertToInteractive('df-be2c88b6-d6d5-4820-b574-5b310a028303')\"\n",
              "              title=\"Convert this dataframe to an interactive table.\"\n",
              "              style=\"display:none;\">\n",
              "        \n",
              "  <svg xmlns=\"http://www.w3.org/2000/svg\" height=\"24px\"viewBox=\"0 0 24 24\"\n",
              "       width=\"24px\">\n",
              "    <path d=\"M0 0h24v24H0V0z\" fill=\"none\"/>\n",
              "    <path d=\"M18.56 5.44l.94 2.06.94-2.06 2.06-.94-2.06-.94-.94-2.06-.94 2.06-2.06.94zm-11 1L8.5 8.5l.94-2.06 2.06-.94-2.06-.94L8.5 2.5l-.94 2.06-2.06.94zm10 10l.94 2.06.94-2.06 2.06-.94-2.06-.94-.94-2.06-.94 2.06-2.06.94z\"/><path d=\"M17.41 7.96l-1.37-1.37c-.4-.4-.92-.59-1.43-.59-.52 0-1.04.2-1.43.59L10.3 9.45l-7.72 7.72c-.78.78-.78 2.05 0 2.83L4 21.41c.39.39.9.59 1.41.59.51 0 1.02-.2 1.41-.59l7.78-7.78 2.81-2.81c.8-.78.8-2.07 0-2.86zM5.41 20L4 18.59l7.72-7.72 1.47 1.35L5.41 20z\"/>\n",
              "  </svg>\n",
              "      </button>\n",
              "      \n",
              "  <style>\n",
              "    .colab-df-container {\n",
              "      display:flex;\n",
              "      flex-wrap:wrap;\n",
              "      gap: 12px;\n",
              "    }\n",
              "\n",
              "    .colab-df-convert {\n",
              "      background-color: #E8F0FE;\n",
              "      border: none;\n",
              "      border-radius: 50%;\n",
              "      cursor: pointer;\n",
              "      display: none;\n",
              "      fill: #1967D2;\n",
              "      height: 32px;\n",
              "      padding: 0 0 0 0;\n",
              "      width: 32px;\n",
              "    }\n",
              "\n",
              "    .colab-df-convert:hover {\n",
              "      background-color: #E2EBFA;\n",
              "      box-shadow: 0px 1px 2px rgba(60, 64, 67, 0.3), 0px 1px 3px 1px rgba(60, 64, 67, 0.15);\n",
              "      fill: #174EA6;\n",
              "    }\n",
              "\n",
              "    [theme=dark] .colab-df-convert {\n",
              "      background-color: #3B4455;\n",
              "      fill: #D2E3FC;\n",
              "    }\n",
              "\n",
              "    [theme=dark] .colab-df-convert:hover {\n",
              "      background-color: #434B5C;\n",
              "      box-shadow: 0px 1px 3px 1px rgba(0, 0, 0, 0.15);\n",
              "      filter: drop-shadow(0px 1px 2px rgba(0, 0, 0, 0.3));\n",
              "      fill: #FFFFFF;\n",
              "    }\n",
              "  </style>\n",
              "\n",
              "      <script>\n",
              "        const buttonEl =\n",
              "          document.querySelector('#df-be2c88b6-d6d5-4820-b574-5b310a028303 button.colab-df-convert');\n",
              "        buttonEl.style.display =\n",
              "          google.colab.kernel.accessAllowed ? 'block' : 'none';\n",
              "\n",
              "        async function convertToInteractive(key) {\n",
              "          const element = document.querySelector('#df-be2c88b6-d6d5-4820-b574-5b310a028303');\n",
              "          const dataTable =\n",
              "            await google.colab.kernel.invokeFunction('convertToInteractive',\n",
              "                                                     [key], {});\n",
              "          if (!dataTable) return;\n",
              "\n",
              "          const docLinkHtml = 'Like what you see? Visit the ' +\n",
              "            '<a target=\"_blank\" href=https://colab.research.google.com/notebooks/data_table.ipynb>data table notebook</a>'\n",
              "            + ' to learn more about interactive tables.';\n",
              "          element.innerHTML = '';\n",
              "          dataTable['output_type'] = 'display_data';\n",
              "          await google.colab.output.renderOutput(dataTable, element);\n",
              "          const docLink = document.createElement('div');\n",
              "          docLink.innerHTML = docLinkHtml;\n",
              "          element.appendChild(docLink);\n",
              "        }\n",
              "      </script>\n",
              "    </div>\n",
              "  </div>\n",
              "  "
            ]
          },
          "metadata": {},
          "execution_count": 56
        }
      ],
      "source": [
        "# results sorted\n",
        "predictions_gk.sort_values(by=[\"Points\"], ascending = False).head(20)[prediction_columns]"
      ]
    },
    {
      "cell_type": "markdown",
      "id": "809d11e1-257e-4fd0-905b-536f95dca4e5",
      "metadata": {
        "id": "809d11e1-257e-4fd0-905b-536f95dca4e5"
      },
      "source": [
        "## Defenders"
      ]
    },
    {
      "cell_type": "code",
      "execution_count": 57,
      "id": "b67e50ec-26a2-44c2-8ef0-f7b841845ed4",
      "metadata": {
        "id": "b67e50ec-26a2-44c2-8ef0-f7b841845ed4"
      },
      "outputs": [],
      "source": [
        "predictions_def = generate_predictions(dataloader_def_valid, dataset_def_valid, net_def, df_def_original, FIRST_VALID_GW)"
      ]
    },
    {
      "cell_type": "code",
      "execution_count": 58,
      "id": "098f83a8-cd7e-4d2b-8583-44f0f43ef1d7",
      "metadata": {
        "id": "098f83a8-cd7e-4d2b-8583-44f0f43ef1d7",
        "colab": {
          "base_uri": "https://localhost:8080/",
          "height": 677
        },
        "outputId": "56171712-8f00-4102-ba89-9186866620b6"
      },
      "outputs": [
        {
          "output_type": "execute_result",
          "data": {
            "text/plain": [
              "                    Name  GW         Opponent  Was Home  Total Points  Points\n",
              "577    Cesar-Azpilicueta  21        Liverpool       0.0           1.0    2.38\n",
              "5291        Ivan-Perisic  21           Fulham       0.0           6.0    2.38\n",
              "1480     Vladimir-Coufal  21          Everton       1.0           6.0    2.38\n",
              "4143       Harry-Maguire  21          Arsenal       0.0           0.0    2.37\n",
              "1547      Marc-Cucurella  21        Liverpool       0.0           6.0    2.37\n",
              "2659          Toti-Gomes  21  Manchester City       0.0           0.0    2.37\n",
              "869          Sven-Botman  21   Crystal Palace       0.0           6.0    2.37\n",
              "5782       Mads-Roerslev  21     Leeds United       0.0           6.0    2.36\n",
              "2202    Pervis-Estupinan  21   Leicester City       0.0           9.0    2.36\n",
              "2678           Joe-Gomez  21          Chelsea       1.0           7.0    2.36\n",
              "3646          Ezri-Konsa  21      Southampton       0.0           7.0    2.36\n",
              "6480      Pascal-Struijk  21        Brentford       1.0           6.0    2.36\n",
              "6092        Fabian-Schar  21   Crystal Palace       0.0           6.0    2.36\n",
              "6566     James-Tarkowski  21         West Ham       0.0           0.0    2.36\n",
              "6616         Luke-Thomas  21         Brighton       1.0           4.0    2.36\n",
              "6684   Takehiro-Tomiyasu  21   Manchester Utd       1.0           4.0    2.36\n",
              "6817     Kostas-Tsimikas  21          Chelsea       1.0           0.0    2.36\n",
              "6911        Joel-Veltman  21   Leicester City       0.0           1.0    2.36\n",
              "7000  Kyle-Walker-Peters  21      Aston Villa       1.0           2.0    2.36\n",
              "1528     Aaron-Cresswell  21          Everton       1.0           0.0    2.36"
            ],
            "text/html": [
              "\n",
              "  <div id=\"df-5f32aba6-f4b0-4f69-8fb0-30adef04fdaa\">\n",
              "    <div class=\"colab-df-container\">\n",
              "      <div>\n",
              "<style scoped>\n",
              "    .dataframe tbody tr th:only-of-type {\n",
              "        vertical-align: middle;\n",
              "    }\n",
              "\n",
              "    .dataframe tbody tr th {\n",
              "        vertical-align: top;\n",
              "    }\n",
              "\n",
              "    .dataframe thead th {\n",
              "        text-align: right;\n",
              "    }\n",
              "</style>\n",
              "<table border=\"1\" class=\"dataframe\">\n",
              "  <thead>\n",
              "    <tr style=\"text-align: right;\">\n",
              "      <th></th>\n",
              "      <th>Name</th>\n",
              "      <th>GW</th>\n",
              "      <th>Opponent</th>\n",
              "      <th>Was Home</th>\n",
              "      <th>Total Points</th>\n",
              "      <th>Points</th>\n",
              "    </tr>\n",
              "  </thead>\n",
              "  <tbody>\n",
              "    <tr>\n",
              "      <th>577</th>\n",
              "      <td>Cesar-Azpilicueta</td>\n",
              "      <td>21</td>\n",
              "      <td>Liverpool</td>\n",
              "      <td>0.0</td>\n",
              "      <td>1.0</td>\n",
              "      <td>2.38</td>\n",
              "    </tr>\n",
              "    <tr>\n",
              "      <th>5291</th>\n",
              "      <td>Ivan-Perisic</td>\n",
              "      <td>21</td>\n",
              "      <td>Fulham</td>\n",
              "      <td>0.0</td>\n",
              "      <td>6.0</td>\n",
              "      <td>2.38</td>\n",
              "    </tr>\n",
              "    <tr>\n",
              "      <th>1480</th>\n",
              "      <td>Vladimir-Coufal</td>\n",
              "      <td>21</td>\n",
              "      <td>Everton</td>\n",
              "      <td>1.0</td>\n",
              "      <td>6.0</td>\n",
              "      <td>2.38</td>\n",
              "    </tr>\n",
              "    <tr>\n",
              "      <th>4143</th>\n",
              "      <td>Harry-Maguire</td>\n",
              "      <td>21</td>\n",
              "      <td>Arsenal</td>\n",
              "      <td>0.0</td>\n",
              "      <td>0.0</td>\n",
              "      <td>2.37</td>\n",
              "    </tr>\n",
              "    <tr>\n",
              "      <th>1547</th>\n",
              "      <td>Marc-Cucurella</td>\n",
              "      <td>21</td>\n",
              "      <td>Liverpool</td>\n",
              "      <td>0.0</td>\n",
              "      <td>6.0</td>\n",
              "      <td>2.37</td>\n",
              "    </tr>\n",
              "    <tr>\n",
              "      <th>2659</th>\n",
              "      <td>Toti-Gomes</td>\n",
              "      <td>21</td>\n",
              "      <td>Manchester City</td>\n",
              "      <td>0.0</td>\n",
              "      <td>0.0</td>\n",
              "      <td>2.37</td>\n",
              "    </tr>\n",
              "    <tr>\n",
              "      <th>869</th>\n",
              "      <td>Sven-Botman</td>\n",
              "      <td>21</td>\n",
              "      <td>Crystal Palace</td>\n",
              "      <td>0.0</td>\n",
              "      <td>6.0</td>\n",
              "      <td>2.37</td>\n",
              "    </tr>\n",
              "    <tr>\n",
              "      <th>5782</th>\n",
              "      <td>Mads-Roerslev</td>\n",
              "      <td>21</td>\n",
              "      <td>Leeds United</td>\n",
              "      <td>0.0</td>\n",
              "      <td>6.0</td>\n",
              "      <td>2.36</td>\n",
              "    </tr>\n",
              "    <tr>\n",
              "      <th>2202</th>\n",
              "      <td>Pervis-Estupinan</td>\n",
              "      <td>21</td>\n",
              "      <td>Leicester City</td>\n",
              "      <td>0.0</td>\n",
              "      <td>9.0</td>\n",
              "      <td>2.36</td>\n",
              "    </tr>\n",
              "    <tr>\n",
              "      <th>2678</th>\n",
              "      <td>Joe-Gomez</td>\n",
              "      <td>21</td>\n",
              "      <td>Chelsea</td>\n",
              "      <td>1.0</td>\n",
              "      <td>7.0</td>\n",
              "      <td>2.36</td>\n",
              "    </tr>\n",
              "    <tr>\n",
              "      <th>3646</th>\n",
              "      <td>Ezri-Konsa</td>\n",
              "      <td>21</td>\n",
              "      <td>Southampton</td>\n",
              "      <td>0.0</td>\n",
              "      <td>7.0</td>\n",
              "      <td>2.36</td>\n",
              "    </tr>\n",
              "    <tr>\n",
              "      <th>6480</th>\n",
              "      <td>Pascal-Struijk</td>\n",
              "      <td>21</td>\n",
              "      <td>Brentford</td>\n",
              "      <td>1.0</td>\n",
              "      <td>6.0</td>\n",
              "      <td>2.36</td>\n",
              "    </tr>\n",
              "    <tr>\n",
              "      <th>6092</th>\n",
              "      <td>Fabian-Schar</td>\n",
              "      <td>21</td>\n",
              "      <td>Crystal Palace</td>\n",
              "      <td>0.0</td>\n",
              "      <td>6.0</td>\n",
              "      <td>2.36</td>\n",
              "    </tr>\n",
              "    <tr>\n",
              "      <th>6566</th>\n",
              "      <td>James-Tarkowski</td>\n",
              "      <td>21</td>\n",
              "      <td>West Ham</td>\n",
              "      <td>0.0</td>\n",
              "      <td>0.0</td>\n",
              "      <td>2.36</td>\n",
              "    </tr>\n",
              "    <tr>\n",
              "      <th>6616</th>\n",
              "      <td>Luke-Thomas</td>\n",
              "      <td>21</td>\n",
              "      <td>Brighton</td>\n",
              "      <td>1.0</td>\n",
              "      <td>4.0</td>\n",
              "      <td>2.36</td>\n",
              "    </tr>\n",
              "    <tr>\n",
              "      <th>6684</th>\n",
              "      <td>Takehiro-Tomiyasu</td>\n",
              "      <td>21</td>\n",
              "      <td>Manchester Utd</td>\n",
              "      <td>1.0</td>\n",
              "      <td>4.0</td>\n",
              "      <td>2.36</td>\n",
              "    </tr>\n",
              "    <tr>\n",
              "      <th>6817</th>\n",
              "      <td>Kostas-Tsimikas</td>\n",
              "      <td>21</td>\n",
              "      <td>Chelsea</td>\n",
              "      <td>1.0</td>\n",
              "      <td>0.0</td>\n",
              "      <td>2.36</td>\n",
              "    </tr>\n",
              "    <tr>\n",
              "      <th>6911</th>\n",
              "      <td>Joel-Veltman</td>\n",
              "      <td>21</td>\n",
              "      <td>Leicester City</td>\n",
              "      <td>0.0</td>\n",
              "      <td>1.0</td>\n",
              "      <td>2.36</td>\n",
              "    </tr>\n",
              "    <tr>\n",
              "      <th>7000</th>\n",
              "      <td>Kyle-Walker-Peters</td>\n",
              "      <td>21</td>\n",
              "      <td>Aston Villa</td>\n",
              "      <td>1.0</td>\n",
              "      <td>2.0</td>\n",
              "      <td>2.36</td>\n",
              "    </tr>\n",
              "    <tr>\n",
              "      <th>1528</th>\n",
              "      <td>Aaron-Cresswell</td>\n",
              "      <td>21</td>\n",
              "      <td>Everton</td>\n",
              "      <td>1.0</td>\n",
              "      <td>0.0</td>\n",
              "      <td>2.36</td>\n",
              "    </tr>\n",
              "  </tbody>\n",
              "</table>\n",
              "</div>\n",
              "      <button class=\"colab-df-convert\" onclick=\"convertToInteractive('df-5f32aba6-f4b0-4f69-8fb0-30adef04fdaa')\"\n",
              "              title=\"Convert this dataframe to an interactive table.\"\n",
              "              style=\"display:none;\">\n",
              "        \n",
              "  <svg xmlns=\"http://www.w3.org/2000/svg\" height=\"24px\"viewBox=\"0 0 24 24\"\n",
              "       width=\"24px\">\n",
              "    <path d=\"M0 0h24v24H0V0z\" fill=\"none\"/>\n",
              "    <path d=\"M18.56 5.44l.94 2.06.94-2.06 2.06-.94-2.06-.94-.94-2.06-.94 2.06-2.06.94zm-11 1L8.5 8.5l.94-2.06 2.06-.94-2.06-.94L8.5 2.5l-.94 2.06-2.06.94zm10 10l.94 2.06.94-2.06 2.06-.94-2.06-.94-.94-2.06-.94 2.06-2.06.94z\"/><path d=\"M17.41 7.96l-1.37-1.37c-.4-.4-.92-.59-1.43-.59-.52 0-1.04.2-1.43.59L10.3 9.45l-7.72 7.72c-.78.78-.78 2.05 0 2.83L4 21.41c.39.39.9.59 1.41.59.51 0 1.02-.2 1.41-.59l7.78-7.78 2.81-2.81c.8-.78.8-2.07 0-2.86zM5.41 20L4 18.59l7.72-7.72 1.47 1.35L5.41 20z\"/>\n",
              "  </svg>\n",
              "      </button>\n",
              "      \n",
              "  <style>\n",
              "    .colab-df-container {\n",
              "      display:flex;\n",
              "      flex-wrap:wrap;\n",
              "      gap: 12px;\n",
              "    }\n",
              "\n",
              "    .colab-df-convert {\n",
              "      background-color: #E8F0FE;\n",
              "      border: none;\n",
              "      border-radius: 50%;\n",
              "      cursor: pointer;\n",
              "      display: none;\n",
              "      fill: #1967D2;\n",
              "      height: 32px;\n",
              "      padding: 0 0 0 0;\n",
              "      width: 32px;\n",
              "    }\n",
              "\n",
              "    .colab-df-convert:hover {\n",
              "      background-color: #E2EBFA;\n",
              "      box-shadow: 0px 1px 2px rgba(60, 64, 67, 0.3), 0px 1px 3px 1px rgba(60, 64, 67, 0.15);\n",
              "      fill: #174EA6;\n",
              "    }\n",
              "\n",
              "    [theme=dark] .colab-df-convert {\n",
              "      background-color: #3B4455;\n",
              "      fill: #D2E3FC;\n",
              "    }\n",
              "\n",
              "    [theme=dark] .colab-df-convert:hover {\n",
              "      background-color: #434B5C;\n",
              "      box-shadow: 0px 1px 3px 1px rgba(0, 0, 0, 0.15);\n",
              "      filter: drop-shadow(0px 1px 2px rgba(0, 0, 0, 0.3));\n",
              "      fill: #FFFFFF;\n",
              "    }\n",
              "  </style>\n",
              "\n",
              "      <script>\n",
              "        const buttonEl =\n",
              "          document.querySelector('#df-5f32aba6-f4b0-4f69-8fb0-30adef04fdaa button.colab-df-convert');\n",
              "        buttonEl.style.display =\n",
              "          google.colab.kernel.accessAllowed ? 'block' : 'none';\n",
              "\n",
              "        async function convertToInteractive(key) {\n",
              "          const element = document.querySelector('#df-5f32aba6-f4b0-4f69-8fb0-30adef04fdaa');\n",
              "          const dataTable =\n",
              "            await google.colab.kernel.invokeFunction('convertToInteractive',\n",
              "                                                     [key], {});\n",
              "          if (!dataTable) return;\n",
              "\n",
              "          const docLinkHtml = 'Like what you see? Visit the ' +\n",
              "            '<a target=\"_blank\" href=https://colab.research.google.com/notebooks/data_table.ipynb>data table notebook</a>'\n",
              "            + ' to learn more about interactive tables.';\n",
              "          element.innerHTML = '';\n",
              "          dataTable['output_type'] = 'display_data';\n",
              "          await google.colab.output.renderOutput(dataTable, element);\n",
              "          const docLink = document.createElement('div');\n",
              "          docLink.innerHTML = docLinkHtml;\n",
              "          element.appendChild(docLink);\n",
              "        }\n",
              "      </script>\n",
              "    </div>\n",
              "  </div>\n",
              "  "
            ]
          },
          "metadata": {},
          "execution_count": 58
        }
      ],
      "source": [
        "# results sorted\n",
        "predictions_def.sort_values(by=[\"Points\"], ascending = False).head(20)[prediction_columns]"
      ]
    },
    {
      "cell_type": "markdown",
      "id": "e098be91-df44-4aba-b619-de4a11ad91db",
      "metadata": {
        "id": "e098be91-df44-4aba-b619-de4a11ad91db"
      },
      "source": [
        "## Midfielders"
      ]
    },
    {
      "cell_type": "code",
      "execution_count": 59,
      "id": "37c5faa1-e7ba-4048-a3ae-39472de0e646",
      "metadata": {
        "id": "37c5faa1-e7ba-4048-a3ae-39472de0e646"
      },
      "outputs": [],
      "source": [
        "predictions_mid = generate_predictions(dataloader_mid_valid, dataset_mid_valid, net_mid, df_mid_original, FIRST_VALID_GW)"
      ]
    },
    {
      "cell_type": "code",
      "execution_count": 60,
      "id": "a8a940bf-1f53-4130-831f-ad6010b92cef",
      "metadata": {
        "id": "a8a940bf-1f53-4130-831f-ad6010b92cef",
        "colab": {
          "base_uri": "https://localhost:8080/",
          "height": 677
        },
        "outputId": "9fa5e2a2-4228-49dd-a7af-e252d22adc3e"
      },
      "outputs": [
        {
          "output_type": "execute_result",
          "data": {
            "text/plain": [
              "                     Name  GW         Opponent  Was Home  Total Points  Points\n",
              "18       Brenden-Aaronson  21        Brentford       1.0           3.0    2.91\n",
              "4211         Orel-Mangala  21      Bournemouth       0.0           1.0    2.91\n",
              "4824         Jacob-Murphy  21   Crystal Palace       0.0           1.0    2.91\n",
              "4790        Joao-Moutinho  21  Manchester City       0.0           1.0    2.91\n",
              "4763          Mason-Mount  21        Liverpool       0.0           3.0    2.91\n",
              "4701         Kaoru-Mitoma  21   Leicester City       0.0          10.0    2.91\n",
              "4642         James-Milner  21          Chelsea       1.0           2.0    2.91\n",
              "4627     Luka-Milivojevic  21    Newcastle Utd       1.0           0.0    2.91\n",
              "4566       Nampalys-Mendy  21         Brighton       1.0           2.0    2.91\n",
              "4517      Scott-McTominay  21          Arsenal       0.0           2.0    2.91\n",
              "4500        Dwight-McNeil  21         West Ham       0.0           1.0    2.91\n",
              "4316           Martinelli  21   Manchester Utd       1.0           2.0    2.91\n",
              "4288           Marquinhos  21   Manchester Utd       1.0           0.0    2.91\n",
              "4263          Solly-March  21   Leicester City       0.0           2.0    2.91\n",
              "4163         Riyad-Mahrez  21           Wolves       1.0           6.0    2.91\n",
              "4969        Matheus-Nunes  21  Manchester City       0.0           2.0    2.91\n",
              "4114  Alexis-Mac-Allister  21   Leicester City       0.0           1.0    2.91\n",
              "4079         Douglas-Luiz  21      Southampton       0.0           5.0    2.91\n",
              "4049       Sean-Longstaff  21   Crystal Palace       0.0           3.0    2.91\n",
              "4029   Ruben-Loftus-Cheek  21        Liverpool       0.0           0.0    2.91"
            ],
            "text/html": [
              "\n",
              "  <div id=\"df-5c985179-719a-49ee-bba8-d4e0abdf5dff\">\n",
              "    <div class=\"colab-df-container\">\n",
              "      <div>\n",
              "<style scoped>\n",
              "    .dataframe tbody tr th:only-of-type {\n",
              "        vertical-align: middle;\n",
              "    }\n",
              "\n",
              "    .dataframe tbody tr th {\n",
              "        vertical-align: top;\n",
              "    }\n",
              "\n",
              "    .dataframe thead th {\n",
              "        text-align: right;\n",
              "    }\n",
              "</style>\n",
              "<table border=\"1\" class=\"dataframe\">\n",
              "  <thead>\n",
              "    <tr style=\"text-align: right;\">\n",
              "      <th></th>\n",
              "      <th>Name</th>\n",
              "      <th>GW</th>\n",
              "      <th>Opponent</th>\n",
              "      <th>Was Home</th>\n",
              "      <th>Total Points</th>\n",
              "      <th>Points</th>\n",
              "    </tr>\n",
              "  </thead>\n",
              "  <tbody>\n",
              "    <tr>\n",
              "      <th>18</th>\n",
              "      <td>Brenden-Aaronson</td>\n",
              "      <td>21</td>\n",
              "      <td>Brentford</td>\n",
              "      <td>1.0</td>\n",
              "      <td>3.0</td>\n",
              "      <td>2.91</td>\n",
              "    </tr>\n",
              "    <tr>\n",
              "      <th>4211</th>\n",
              "      <td>Orel-Mangala</td>\n",
              "      <td>21</td>\n",
              "      <td>Bournemouth</td>\n",
              "      <td>0.0</td>\n",
              "      <td>1.0</td>\n",
              "      <td>2.91</td>\n",
              "    </tr>\n",
              "    <tr>\n",
              "      <th>4824</th>\n",
              "      <td>Jacob-Murphy</td>\n",
              "      <td>21</td>\n",
              "      <td>Crystal Palace</td>\n",
              "      <td>0.0</td>\n",
              "      <td>1.0</td>\n",
              "      <td>2.91</td>\n",
              "    </tr>\n",
              "    <tr>\n",
              "      <th>4790</th>\n",
              "      <td>Joao-Moutinho</td>\n",
              "      <td>21</td>\n",
              "      <td>Manchester City</td>\n",
              "      <td>0.0</td>\n",
              "      <td>1.0</td>\n",
              "      <td>2.91</td>\n",
              "    </tr>\n",
              "    <tr>\n",
              "      <th>4763</th>\n",
              "      <td>Mason-Mount</td>\n",
              "      <td>21</td>\n",
              "      <td>Liverpool</td>\n",
              "      <td>0.0</td>\n",
              "      <td>3.0</td>\n",
              "      <td>2.91</td>\n",
              "    </tr>\n",
              "    <tr>\n",
              "      <th>4701</th>\n",
              "      <td>Kaoru-Mitoma</td>\n",
              "      <td>21</td>\n",
              "      <td>Leicester City</td>\n",
              "      <td>0.0</td>\n",
              "      <td>10.0</td>\n",
              "      <td>2.91</td>\n",
              "    </tr>\n",
              "    <tr>\n",
              "      <th>4642</th>\n",
              "      <td>James-Milner</td>\n",
              "      <td>21</td>\n",
              "      <td>Chelsea</td>\n",
              "      <td>1.0</td>\n",
              "      <td>2.0</td>\n",
              "      <td>2.91</td>\n",
              "    </tr>\n",
              "    <tr>\n",
              "      <th>4627</th>\n",
              "      <td>Luka-Milivojevic</td>\n",
              "      <td>21</td>\n",
              "      <td>Newcastle Utd</td>\n",
              "      <td>1.0</td>\n",
              "      <td>0.0</td>\n",
              "      <td>2.91</td>\n",
              "    </tr>\n",
              "    <tr>\n",
              "      <th>4566</th>\n",
              "      <td>Nampalys-Mendy</td>\n",
              "      <td>21</td>\n",
              "      <td>Brighton</td>\n",
              "      <td>1.0</td>\n",
              "      <td>2.0</td>\n",
              "      <td>2.91</td>\n",
              "    </tr>\n",
              "    <tr>\n",
              "      <th>4517</th>\n",
              "      <td>Scott-McTominay</td>\n",
              "      <td>21</td>\n",
              "      <td>Arsenal</td>\n",
              "      <td>0.0</td>\n",
              "      <td>2.0</td>\n",
              "      <td>2.91</td>\n",
              "    </tr>\n",
              "    <tr>\n",
              "      <th>4500</th>\n",
              "      <td>Dwight-McNeil</td>\n",
              "      <td>21</td>\n",
              "      <td>West Ham</td>\n",
              "      <td>0.0</td>\n",
              "      <td>1.0</td>\n",
              "      <td>2.91</td>\n",
              "    </tr>\n",
              "    <tr>\n",
              "      <th>4316</th>\n",
              "      <td>Martinelli</td>\n",
              "      <td>21</td>\n",
              "      <td>Manchester Utd</td>\n",
              "      <td>1.0</td>\n",
              "      <td>2.0</td>\n",
              "      <td>2.91</td>\n",
              "    </tr>\n",
              "    <tr>\n",
              "      <th>4288</th>\n",
              "      <td>Marquinhos</td>\n",
              "      <td>21</td>\n",
              "      <td>Manchester Utd</td>\n",
              "      <td>1.0</td>\n",
              "      <td>0.0</td>\n",
              "      <td>2.91</td>\n",
              "    </tr>\n",
              "    <tr>\n",
              "      <th>4263</th>\n",
              "      <td>Solly-March</td>\n",
              "      <td>21</td>\n",
              "      <td>Leicester City</td>\n",
              "      <td>0.0</td>\n",
              "      <td>2.0</td>\n",
              "      <td>2.91</td>\n",
              "    </tr>\n",
              "    <tr>\n",
              "      <th>4163</th>\n",
              "      <td>Riyad-Mahrez</td>\n",
              "      <td>21</td>\n",
              "      <td>Wolves</td>\n",
              "      <td>1.0</td>\n",
              "      <td>6.0</td>\n",
              "      <td>2.91</td>\n",
              "    </tr>\n",
              "    <tr>\n",
              "      <th>4969</th>\n",
              "      <td>Matheus-Nunes</td>\n",
              "      <td>21</td>\n",
              "      <td>Manchester City</td>\n",
              "      <td>0.0</td>\n",
              "      <td>2.0</td>\n",
              "      <td>2.91</td>\n",
              "    </tr>\n",
              "    <tr>\n",
              "      <th>4114</th>\n",
              "      <td>Alexis-Mac-Allister</td>\n",
              "      <td>21</td>\n",
              "      <td>Leicester City</td>\n",
              "      <td>0.0</td>\n",
              "      <td>1.0</td>\n",
              "      <td>2.91</td>\n",
              "    </tr>\n",
              "    <tr>\n",
              "      <th>4079</th>\n",
              "      <td>Douglas-Luiz</td>\n",
              "      <td>21</td>\n",
              "      <td>Southampton</td>\n",
              "      <td>0.0</td>\n",
              "      <td>5.0</td>\n",
              "      <td>2.91</td>\n",
              "    </tr>\n",
              "    <tr>\n",
              "      <th>4049</th>\n",
              "      <td>Sean-Longstaff</td>\n",
              "      <td>21</td>\n",
              "      <td>Crystal Palace</td>\n",
              "      <td>0.0</td>\n",
              "      <td>3.0</td>\n",
              "      <td>2.91</td>\n",
              "    </tr>\n",
              "    <tr>\n",
              "      <th>4029</th>\n",
              "      <td>Ruben-Loftus-Cheek</td>\n",
              "      <td>21</td>\n",
              "      <td>Liverpool</td>\n",
              "      <td>0.0</td>\n",
              "      <td>0.0</td>\n",
              "      <td>2.91</td>\n",
              "    </tr>\n",
              "  </tbody>\n",
              "</table>\n",
              "</div>\n",
              "      <button class=\"colab-df-convert\" onclick=\"convertToInteractive('df-5c985179-719a-49ee-bba8-d4e0abdf5dff')\"\n",
              "              title=\"Convert this dataframe to an interactive table.\"\n",
              "              style=\"display:none;\">\n",
              "        \n",
              "  <svg xmlns=\"http://www.w3.org/2000/svg\" height=\"24px\"viewBox=\"0 0 24 24\"\n",
              "       width=\"24px\">\n",
              "    <path d=\"M0 0h24v24H0V0z\" fill=\"none\"/>\n",
              "    <path d=\"M18.56 5.44l.94 2.06.94-2.06 2.06-.94-2.06-.94-.94-2.06-.94 2.06-2.06.94zm-11 1L8.5 8.5l.94-2.06 2.06-.94-2.06-.94L8.5 2.5l-.94 2.06-2.06.94zm10 10l.94 2.06.94-2.06 2.06-.94-2.06-.94-.94-2.06-.94 2.06-2.06.94z\"/><path d=\"M17.41 7.96l-1.37-1.37c-.4-.4-.92-.59-1.43-.59-.52 0-1.04.2-1.43.59L10.3 9.45l-7.72 7.72c-.78.78-.78 2.05 0 2.83L4 21.41c.39.39.9.59 1.41.59.51 0 1.02-.2 1.41-.59l7.78-7.78 2.81-2.81c.8-.78.8-2.07 0-2.86zM5.41 20L4 18.59l7.72-7.72 1.47 1.35L5.41 20z\"/>\n",
              "  </svg>\n",
              "      </button>\n",
              "      \n",
              "  <style>\n",
              "    .colab-df-container {\n",
              "      display:flex;\n",
              "      flex-wrap:wrap;\n",
              "      gap: 12px;\n",
              "    }\n",
              "\n",
              "    .colab-df-convert {\n",
              "      background-color: #E8F0FE;\n",
              "      border: none;\n",
              "      border-radius: 50%;\n",
              "      cursor: pointer;\n",
              "      display: none;\n",
              "      fill: #1967D2;\n",
              "      height: 32px;\n",
              "      padding: 0 0 0 0;\n",
              "      width: 32px;\n",
              "    }\n",
              "\n",
              "    .colab-df-convert:hover {\n",
              "      background-color: #E2EBFA;\n",
              "      box-shadow: 0px 1px 2px rgba(60, 64, 67, 0.3), 0px 1px 3px 1px rgba(60, 64, 67, 0.15);\n",
              "      fill: #174EA6;\n",
              "    }\n",
              "\n",
              "    [theme=dark] .colab-df-convert {\n",
              "      background-color: #3B4455;\n",
              "      fill: #D2E3FC;\n",
              "    }\n",
              "\n",
              "    [theme=dark] .colab-df-convert:hover {\n",
              "      background-color: #434B5C;\n",
              "      box-shadow: 0px 1px 3px 1px rgba(0, 0, 0, 0.15);\n",
              "      filter: drop-shadow(0px 1px 2px rgba(0, 0, 0, 0.3));\n",
              "      fill: #FFFFFF;\n",
              "    }\n",
              "  </style>\n",
              "\n",
              "      <script>\n",
              "        const buttonEl =\n",
              "          document.querySelector('#df-5c985179-719a-49ee-bba8-d4e0abdf5dff button.colab-df-convert');\n",
              "        buttonEl.style.display =\n",
              "          google.colab.kernel.accessAllowed ? 'block' : 'none';\n",
              "\n",
              "        async function convertToInteractive(key) {\n",
              "          const element = document.querySelector('#df-5c985179-719a-49ee-bba8-d4e0abdf5dff');\n",
              "          const dataTable =\n",
              "            await google.colab.kernel.invokeFunction('convertToInteractive',\n",
              "                                                     [key], {});\n",
              "          if (!dataTable) return;\n",
              "\n",
              "          const docLinkHtml = 'Like what you see? Visit the ' +\n",
              "            '<a target=\"_blank\" href=https://colab.research.google.com/notebooks/data_table.ipynb>data table notebook</a>'\n",
              "            + ' to learn more about interactive tables.';\n",
              "          element.innerHTML = '';\n",
              "          dataTable['output_type'] = 'display_data';\n",
              "          await google.colab.output.renderOutput(dataTable, element);\n",
              "          const docLink = document.createElement('div');\n",
              "          docLink.innerHTML = docLinkHtml;\n",
              "          element.appendChild(docLink);\n",
              "        }\n",
              "      </script>\n",
              "    </div>\n",
              "  </div>\n",
              "  "
            ]
          },
          "metadata": {},
          "execution_count": 60
        }
      ],
      "source": [
        "# results sorted\n",
        "predictions_mid.sort_values(by=[\"Points\"], ascending = False).head(20)[prediction_columns]"
      ]
    },
    {
      "cell_type": "markdown",
      "id": "9921aabf-4769-4350-a3e5-bbaacd60b4d5",
      "metadata": {
        "id": "9921aabf-4769-4350-a3e5-bbaacd60b4d5"
      },
      "source": [
        "## Forwards"
      ]
    },
    {
      "cell_type": "code",
      "execution_count": 61,
      "id": "ef689219-6923-4a23-88ea-0331a33eb2a3",
      "metadata": {
        "id": "ef689219-6923-4a23-88ea-0331a33eb2a3"
      },
      "outputs": [],
      "source": [
        "predictions_fwd = generate_predictions(dataloader_fwd_valid, dataset_fwd_valid, net_fwd, df_fwd_original, FIRST_VALID_GW)"
      ]
    },
    {
      "cell_type": "code",
      "execution_count": 62,
      "id": "9d88c704-50eb-42c1-8b92-7008cdb8d83e",
      "metadata": {
        "id": "9d88c704-50eb-42c1-8b92-7008cdb8d83e",
        "colab": {
          "base_uri": "https://localhost:8080/",
          "height": 990
        },
        "outputId": "d4a30654-d5cc-47b5-868b-e6a5d2d857c5"
      },
      "outputs": [
        {
          "output_type": "execute_result",
          "data": {
            "text/plain": [
              "                      Name  GW         Opponent  Was Home  Total Points  \\\n",
              "2904        Erling-Haaland  21           Wolves       1.0          17.0   \n",
              "6959       Carlos-Vinicius  21        Tottenham       1.0           1.0   \n",
              "1569           Patson-Daka  21         Brighton       1.0           1.0   \n",
              "4382  Jean-Philippe-Mateta  21    Newcastle Utd       1.0           1.0   \n",
              "6893           Jamie-Vardy  21         Brighton       1.0           2.0   \n",
              "3205     Kelechi-Iheanacho  21         Brighton       1.0           0.0   \n",
              "38               Che-Adams  21      Aston Villa       1.0           2.0   \n",
              "4443          Bryan-Mbeumo  21     Leeds United       0.0           2.0   \n",
              "7212         Callum-Wilson  21   Crystal Palace       0.0           2.0   \n",
              "7121         Danny-Welbeck  21   Leicester City       0.0           2.0   \n",
              "431         Adam-Armstrong  21      Aston Villa       1.0           2.0   \n",
              "2767         Sam-Greenwood  21        Brentford       1.0           1.0   \n",
              "6714            Ivan-Toney  21     Leeds United       0.0           1.0   \n",
              "6516          Sam-Surridge  21      Bournemouth       0.0           8.0   \n",
              "7267            Chris-Wood  21      Bournemouth       0.0           2.0   \n",
              "3501            Harry-Kane  21           Fulham       0.0           6.0   \n",
              "3225            Danny-Ings  21          Everton       1.0           1.0   \n",
              "347        Michail-Antonio  21          Everton       1.0           5.0   \n",
              "256         Julian-Alvarez  21           Wolves       1.0           1.0   \n",
              "3401       Brennan-Johnson  21      Bournemouth       0.0           5.0   \n",
              "2575          Joe-Gelhardt  21        Brentford       1.0           0.0   \n",
              "4738         Kieffer-Moore  21  Nott'ham Forest       1.0           2.0   \n",
              "2066       Odsonne-Edouard  21    Newcastle Utd       1.0           2.0   \n",
              "6834           Deniz-Undav  21   Leicester City       0.0           0.0   \n",
              "2967           Kai-Havertz  21        Liverpool       0.0           2.0   \n",
              "4244            Sekou-Mara  21      Aston Villa       1.0           1.0   \n",
              "4952         Eddie-Nketiah  21   Manchester Utd       1.0          13.0   \n",
              "4718   Aleksandar-Mitrovic  21        Tottenham       1.0           2.0   \n",
              "4409           Neal-Maupay  21         West Ham       0.0           0.0   \n",
              "7089         Ollie-Watkins  21      Southampton       0.0           8.0   \n",
              "\n",
              "      Points  \n",
              "2904    2.76  \n",
              "6959    2.76  \n",
              "1569    2.76  \n",
              "4382    2.75  \n",
              "6893    2.75  \n",
              "3205    2.75  \n",
              "38      2.74  \n",
              "4443    2.71  \n",
              "7212    2.71  \n",
              "7121    2.70  \n",
              "431     2.70  \n",
              "2767    2.69  \n",
              "6714    2.69  \n",
              "6516    2.69  \n",
              "7267    2.69  \n",
              "3501    2.67  \n",
              "3225    2.67  \n",
              "347     2.66  \n",
              "256     2.65  \n",
              "3401    2.65  \n",
              "2575    2.64  \n",
              "4738    2.64  \n",
              "2066    2.64  \n",
              "6834    2.63  \n",
              "2967    2.62  \n",
              "4244    2.60  \n",
              "4952    2.60  \n",
              "4718    2.60  \n",
              "4409    2.57  \n",
              "7089    2.57  "
            ],
            "text/html": [
              "\n",
              "  <div id=\"df-ffc73dda-22c7-489c-b319-ea3c71315fae\">\n",
              "    <div class=\"colab-df-container\">\n",
              "      <div>\n",
              "<style scoped>\n",
              "    .dataframe tbody tr th:only-of-type {\n",
              "        vertical-align: middle;\n",
              "    }\n",
              "\n",
              "    .dataframe tbody tr th {\n",
              "        vertical-align: top;\n",
              "    }\n",
              "\n",
              "    .dataframe thead th {\n",
              "        text-align: right;\n",
              "    }\n",
              "</style>\n",
              "<table border=\"1\" class=\"dataframe\">\n",
              "  <thead>\n",
              "    <tr style=\"text-align: right;\">\n",
              "      <th></th>\n",
              "      <th>Name</th>\n",
              "      <th>GW</th>\n",
              "      <th>Opponent</th>\n",
              "      <th>Was Home</th>\n",
              "      <th>Total Points</th>\n",
              "      <th>Points</th>\n",
              "    </tr>\n",
              "  </thead>\n",
              "  <tbody>\n",
              "    <tr>\n",
              "      <th>2904</th>\n",
              "      <td>Erling-Haaland</td>\n",
              "      <td>21</td>\n",
              "      <td>Wolves</td>\n",
              "      <td>1.0</td>\n",
              "      <td>17.0</td>\n",
              "      <td>2.76</td>\n",
              "    </tr>\n",
              "    <tr>\n",
              "      <th>6959</th>\n",
              "      <td>Carlos-Vinicius</td>\n",
              "      <td>21</td>\n",
              "      <td>Tottenham</td>\n",
              "      <td>1.0</td>\n",
              "      <td>1.0</td>\n",
              "      <td>2.76</td>\n",
              "    </tr>\n",
              "    <tr>\n",
              "      <th>1569</th>\n",
              "      <td>Patson-Daka</td>\n",
              "      <td>21</td>\n",
              "      <td>Brighton</td>\n",
              "      <td>1.0</td>\n",
              "      <td>1.0</td>\n",
              "      <td>2.76</td>\n",
              "    </tr>\n",
              "    <tr>\n",
              "      <th>4382</th>\n",
              "      <td>Jean-Philippe-Mateta</td>\n",
              "      <td>21</td>\n",
              "      <td>Newcastle Utd</td>\n",
              "      <td>1.0</td>\n",
              "      <td>1.0</td>\n",
              "      <td>2.75</td>\n",
              "    </tr>\n",
              "    <tr>\n",
              "      <th>6893</th>\n",
              "      <td>Jamie-Vardy</td>\n",
              "      <td>21</td>\n",
              "      <td>Brighton</td>\n",
              "      <td>1.0</td>\n",
              "      <td>2.0</td>\n",
              "      <td>2.75</td>\n",
              "    </tr>\n",
              "    <tr>\n",
              "      <th>3205</th>\n",
              "      <td>Kelechi-Iheanacho</td>\n",
              "      <td>21</td>\n",
              "      <td>Brighton</td>\n",
              "      <td>1.0</td>\n",
              "      <td>0.0</td>\n",
              "      <td>2.75</td>\n",
              "    </tr>\n",
              "    <tr>\n",
              "      <th>38</th>\n",
              "      <td>Che-Adams</td>\n",
              "      <td>21</td>\n",
              "      <td>Aston Villa</td>\n",
              "      <td>1.0</td>\n",
              "      <td>2.0</td>\n",
              "      <td>2.74</td>\n",
              "    </tr>\n",
              "    <tr>\n",
              "      <th>4443</th>\n",
              "      <td>Bryan-Mbeumo</td>\n",
              "      <td>21</td>\n",
              "      <td>Leeds United</td>\n",
              "      <td>0.0</td>\n",
              "      <td>2.0</td>\n",
              "      <td>2.71</td>\n",
              "    </tr>\n",
              "    <tr>\n",
              "      <th>7212</th>\n",
              "      <td>Callum-Wilson</td>\n",
              "      <td>21</td>\n",
              "      <td>Crystal Palace</td>\n",
              "      <td>0.0</td>\n",
              "      <td>2.0</td>\n",
              "      <td>2.71</td>\n",
              "    </tr>\n",
              "    <tr>\n",
              "      <th>7121</th>\n",
              "      <td>Danny-Welbeck</td>\n",
              "      <td>21</td>\n",
              "      <td>Leicester City</td>\n",
              "      <td>0.0</td>\n",
              "      <td>2.0</td>\n",
              "      <td>2.70</td>\n",
              "    </tr>\n",
              "    <tr>\n",
              "      <th>431</th>\n",
              "      <td>Adam-Armstrong</td>\n",
              "      <td>21</td>\n",
              "      <td>Aston Villa</td>\n",
              "      <td>1.0</td>\n",
              "      <td>2.0</td>\n",
              "      <td>2.70</td>\n",
              "    </tr>\n",
              "    <tr>\n",
              "      <th>2767</th>\n",
              "      <td>Sam-Greenwood</td>\n",
              "      <td>21</td>\n",
              "      <td>Brentford</td>\n",
              "      <td>1.0</td>\n",
              "      <td>1.0</td>\n",
              "      <td>2.69</td>\n",
              "    </tr>\n",
              "    <tr>\n",
              "      <th>6714</th>\n",
              "      <td>Ivan-Toney</td>\n",
              "      <td>21</td>\n",
              "      <td>Leeds United</td>\n",
              "      <td>0.0</td>\n",
              "      <td>1.0</td>\n",
              "      <td>2.69</td>\n",
              "    </tr>\n",
              "    <tr>\n",
              "      <th>6516</th>\n",
              "      <td>Sam-Surridge</td>\n",
              "      <td>21</td>\n",
              "      <td>Bournemouth</td>\n",
              "      <td>0.0</td>\n",
              "      <td>8.0</td>\n",
              "      <td>2.69</td>\n",
              "    </tr>\n",
              "    <tr>\n",
              "      <th>7267</th>\n",
              "      <td>Chris-Wood</td>\n",
              "      <td>21</td>\n",
              "      <td>Bournemouth</td>\n",
              "      <td>0.0</td>\n",
              "      <td>2.0</td>\n",
              "      <td>2.69</td>\n",
              "    </tr>\n",
              "    <tr>\n",
              "      <th>3501</th>\n",
              "      <td>Harry-Kane</td>\n",
              "      <td>21</td>\n",
              "      <td>Fulham</td>\n",
              "      <td>0.0</td>\n",
              "      <td>6.0</td>\n",
              "      <td>2.67</td>\n",
              "    </tr>\n",
              "    <tr>\n",
              "      <th>3225</th>\n",
              "      <td>Danny-Ings</td>\n",
              "      <td>21</td>\n",
              "      <td>Everton</td>\n",
              "      <td>1.0</td>\n",
              "      <td>1.0</td>\n",
              "      <td>2.67</td>\n",
              "    </tr>\n",
              "    <tr>\n",
              "      <th>347</th>\n",
              "      <td>Michail-Antonio</td>\n",
              "      <td>21</td>\n",
              "      <td>Everton</td>\n",
              "      <td>1.0</td>\n",
              "      <td>5.0</td>\n",
              "      <td>2.66</td>\n",
              "    </tr>\n",
              "    <tr>\n",
              "      <th>256</th>\n",
              "      <td>Julian-Alvarez</td>\n",
              "      <td>21</td>\n",
              "      <td>Wolves</td>\n",
              "      <td>1.0</td>\n",
              "      <td>1.0</td>\n",
              "      <td>2.65</td>\n",
              "    </tr>\n",
              "    <tr>\n",
              "      <th>3401</th>\n",
              "      <td>Brennan-Johnson</td>\n",
              "      <td>21</td>\n",
              "      <td>Bournemouth</td>\n",
              "      <td>0.0</td>\n",
              "      <td>5.0</td>\n",
              "      <td>2.65</td>\n",
              "    </tr>\n",
              "    <tr>\n",
              "      <th>2575</th>\n",
              "      <td>Joe-Gelhardt</td>\n",
              "      <td>21</td>\n",
              "      <td>Brentford</td>\n",
              "      <td>1.0</td>\n",
              "      <td>0.0</td>\n",
              "      <td>2.64</td>\n",
              "    </tr>\n",
              "    <tr>\n",
              "      <th>4738</th>\n",
              "      <td>Kieffer-Moore</td>\n",
              "      <td>21</td>\n",
              "      <td>Nott'ham Forest</td>\n",
              "      <td>1.0</td>\n",
              "      <td>2.0</td>\n",
              "      <td>2.64</td>\n",
              "    </tr>\n",
              "    <tr>\n",
              "      <th>2066</th>\n",
              "      <td>Odsonne-Edouard</td>\n",
              "      <td>21</td>\n",
              "      <td>Newcastle Utd</td>\n",
              "      <td>1.0</td>\n",
              "      <td>2.0</td>\n",
              "      <td>2.64</td>\n",
              "    </tr>\n",
              "    <tr>\n",
              "      <th>6834</th>\n",
              "      <td>Deniz-Undav</td>\n",
              "      <td>21</td>\n",
              "      <td>Leicester City</td>\n",
              "      <td>0.0</td>\n",
              "      <td>0.0</td>\n",
              "      <td>2.63</td>\n",
              "    </tr>\n",
              "    <tr>\n",
              "      <th>2967</th>\n",
              "      <td>Kai-Havertz</td>\n",
              "      <td>21</td>\n",
              "      <td>Liverpool</td>\n",
              "      <td>0.0</td>\n",
              "      <td>2.0</td>\n",
              "      <td>2.62</td>\n",
              "    </tr>\n",
              "    <tr>\n",
              "      <th>4244</th>\n",
              "      <td>Sekou-Mara</td>\n",
              "      <td>21</td>\n",
              "      <td>Aston Villa</td>\n",
              "      <td>1.0</td>\n",
              "      <td>1.0</td>\n",
              "      <td>2.60</td>\n",
              "    </tr>\n",
              "    <tr>\n",
              "      <th>4952</th>\n",
              "      <td>Eddie-Nketiah</td>\n",
              "      <td>21</td>\n",
              "      <td>Manchester Utd</td>\n",
              "      <td>1.0</td>\n",
              "      <td>13.0</td>\n",
              "      <td>2.60</td>\n",
              "    </tr>\n",
              "    <tr>\n",
              "      <th>4718</th>\n",
              "      <td>Aleksandar-Mitrovic</td>\n",
              "      <td>21</td>\n",
              "      <td>Tottenham</td>\n",
              "      <td>1.0</td>\n",
              "      <td>2.0</td>\n",
              "      <td>2.60</td>\n",
              "    </tr>\n",
              "    <tr>\n",
              "      <th>4409</th>\n",
              "      <td>Neal-Maupay</td>\n",
              "      <td>21</td>\n",
              "      <td>West Ham</td>\n",
              "      <td>0.0</td>\n",
              "      <td>0.0</td>\n",
              "      <td>2.57</td>\n",
              "    </tr>\n",
              "    <tr>\n",
              "      <th>7089</th>\n",
              "      <td>Ollie-Watkins</td>\n",
              "      <td>21</td>\n",
              "      <td>Southampton</td>\n",
              "      <td>0.0</td>\n",
              "      <td>8.0</td>\n",
              "      <td>2.57</td>\n",
              "    </tr>\n",
              "  </tbody>\n",
              "</table>\n",
              "</div>\n",
              "      <button class=\"colab-df-convert\" onclick=\"convertToInteractive('df-ffc73dda-22c7-489c-b319-ea3c71315fae')\"\n",
              "              title=\"Convert this dataframe to an interactive table.\"\n",
              "              style=\"display:none;\">\n",
              "        \n",
              "  <svg xmlns=\"http://www.w3.org/2000/svg\" height=\"24px\"viewBox=\"0 0 24 24\"\n",
              "       width=\"24px\">\n",
              "    <path d=\"M0 0h24v24H0V0z\" fill=\"none\"/>\n",
              "    <path d=\"M18.56 5.44l.94 2.06.94-2.06 2.06-.94-2.06-.94-.94-2.06-.94 2.06-2.06.94zm-11 1L8.5 8.5l.94-2.06 2.06-.94-2.06-.94L8.5 2.5l-.94 2.06-2.06.94zm10 10l.94 2.06.94-2.06 2.06-.94-2.06-.94-.94-2.06-.94 2.06-2.06.94z\"/><path d=\"M17.41 7.96l-1.37-1.37c-.4-.4-.92-.59-1.43-.59-.52 0-1.04.2-1.43.59L10.3 9.45l-7.72 7.72c-.78.78-.78 2.05 0 2.83L4 21.41c.39.39.9.59 1.41.59.51 0 1.02-.2 1.41-.59l7.78-7.78 2.81-2.81c.8-.78.8-2.07 0-2.86zM5.41 20L4 18.59l7.72-7.72 1.47 1.35L5.41 20z\"/>\n",
              "  </svg>\n",
              "      </button>\n",
              "      \n",
              "  <style>\n",
              "    .colab-df-container {\n",
              "      display:flex;\n",
              "      flex-wrap:wrap;\n",
              "      gap: 12px;\n",
              "    }\n",
              "\n",
              "    .colab-df-convert {\n",
              "      background-color: #E8F0FE;\n",
              "      border: none;\n",
              "      border-radius: 50%;\n",
              "      cursor: pointer;\n",
              "      display: none;\n",
              "      fill: #1967D2;\n",
              "      height: 32px;\n",
              "      padding: 0 0 0 0;\n",
              "      width: 32px;\n",
              "    }\n",
              "\n",
              "    .colab-df-convert:hover {\n",
              "      background-color: #E2EBFA;\n",
              "      box-shadow: 0px 1px 2px rgba(60, 64, 67, 0.3), 0px 1px 3px 1px rgba(60, 64, 67, 0.15);\n",
              "      fill: #174EA6;\n",
              "    }\n",
              "\n",
              "    [theme=dark] .colab-df-convert {\n",
              "      background-color: #3B4455;\n",
              "      fill: #D2E3FC;\n",
              "    }\n",
              "\n",
              "    [theme=dark] .colab-df-convert:hover {\n",
              "      background-color: #434B5C;\n",
              "      box-shadow: 0px 1px 3px 1px rgba(0, 0, 0, 0.15);\n",
              "      filter: drop-shadow(0px 1px 2px rgba(0, 0, 0, 0.3));\n",
              "      fill: #FFFFFF;\n",
              "    }\n",
              "  </style>\n",
              "\n",
              "      <script>\n",
              "        const buttonEl =\n",
              "          document.querySelector('#df-ffc73dda-22c7-489c-b319-ea3c71315fae button.colab-df-convert');\n",
              "        buttonEl.style.display =\n",
              "          google.colab.kernel.accessAllowed ? 'block' : 'none';\n",
              "\n",
              "        async function convertToInteractive(key) {\n",
              "          const element = document.querySelector('#df-ffc73dda-22c7-489c-b319-ea3c71315fae');\n",
              "          const dataTable =\n",
              "            await google.colab.kernel.invokeFunction('convertToInteractive',\n",
              "                                                     [key], {});\n",
              "          if (!dataTable) return;\n",
              "\n",
              "          const docLinkHtml = 'Like what you see? Visit the ' +\n",
              "            '<a target=\"_blank\" href=https://colab.research.google.com/notebooks/data_table.ipynb>data table notebook</a>'\n",
              "            + ' to learn more about interactive tables.';\n",
              "          element.innerHTML = '';\n",
              "          dataTable['output_type'] = 'display_data';\n",
              "          await google.colab.output.renderOutput(dataTable, element);\n",
              "          const docLink = document.createElement('div');\n",
              "          docLink.innerHTML = docLinkHtml;\n",
              "          element.appendChild(docLink);\n",
              "        }\n",
              "      </script>\n",
              "    </div>\n",
              "  </div>\n",
              "  "
            ]
          },
          "metadata": {},
          "execution_count": 62
        }
      ],
      "source": [
        "# results sorted\n",
        "predictions_fwd.sort_values(by=[\"Points\"], ascending = False).head(30)[prediction_columns]"
      ]
    },
    {
      "cell_type": "code",
      "execution_count": 62,
      "id": "3ac8bbdb-979e-409d-8564-678cd5a3b968",
      "metadata": {
        "id": "3ac8bbdb-979e-409d-8564-678cd5a3b968"
      },
      "outputs": [],
      "source": []
    },
    {
      "cell_type": "code",
      "execution_count": 62,
      "id": "43368445-5cc4-45c3-8d46-90935ab138fc",
      "metadata": {
        "id": "43368445-5cc4-45c3-8d46-90935ab138fc"
      },
      "outputs": [],
      "source": []
    },
    {
      "cell_type": "code",
      "execution_count": 62,
      "id": "fa55a4ad-748a-4862-a02b-511bef68c9cb",
      "metadata": {
        "id": "fa55a4ad-748a-4862-a02b-511bef68c9cb"
      },
      "outputs": [],
      "source": []
    }
  ],
  "metadata": {
    "kernelspec": {
      "display_name": "Python 3 (ipykernel)",
      "language": "python",
      "name": "python3"
    },
    "language_info": {
      "codemirror_mode": {
        "name": "ipython",
        "version": 3
      },
      "file_extension": ".py",
      "mimetype": "text/x-python",
      "name": "python",
      "nbconvert_exporter": "python",
      "pygments_lexer": "ipython3",
      "version": "3.8.0"
    },
    "colab": {
      "provenance": []
    },
    "accelerator": "GPU",
    "gpuClass": "standard"
  },
  "nbformat": 4,
  "nbformat_minor": 5
}