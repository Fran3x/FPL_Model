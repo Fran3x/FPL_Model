{
 "cells": [
  {
   "cell_type": "markdown",
   "id": "b403b39e-b749-4730-a880-75a6b9ddfe83",
   "metadata": {},
   "source": [
    "# Imports"
   ]
  },
  {
   "cell_type": "code",
   "execution_count": 1,
   "id": "d83ab433-7a24-43c5-aeb7-51b94ccdcc05",
   "metadata": {},
   "outputs": [],
   "source": [
    "import os\n",
    "os.chdir(\"D:\\PulpitE\\FPL_ML\")"
   ]
  },
  {
   "cell_type": "code",
   "execution_count": 2,
   "id": "1382f0d0-60a4-4f2a-b4ce-c54205b18d21",
   "metadata": {},
   "outputs": [],
   "source": [
    "import pandas as pd\n",
    "\n",
    "import torch\n",
    "import torch.nn as nn\n",
    "\n",
    "import torchvision\n",
    "import torchvision.transforms\n",
    "\n",
    "from torch.utils.data import Dataset, DataLoader\n",
    "import torch.optim as optim\n",
    "\n",
    "import matplotlib.pyplot as plt\n",
    "\n",
    "import numpy as np\n",
    "import random"
   ]
  },
  {
   "cell_type": "markdown",
   "id": "7dd9d155-95e4-4e3d-86ad-c46a6fbb5c95",
   "metadata": {},
   "source": [
    "# Constants and seeds"
   ]
  },
  {
   "cell_type": "code",
   "execution_count": 3,
   "id": "7239f9ad-7a6d-4a3d-9da5-4bac972e1537",
   "metadata": {},
   "outputs": [],
   "source": [
    "# FIXTURES_IN_SAMPLE\n",
    "FIS = 8\n",
    "\n",
    "# FIXTURES_FOR_PLAYER - number of gameweeks required\n",
    "FFP = 15\n",
    "\n",
    "NEXT_GAMEWEEK = 19"
   ]
  },
  {
   "cell_type": "code",
   "execution_count": 4,
   "id": "2d44df04-be21-4e7b-aaa5-612a6210bd44",
   "metadata": {},
   "outputs": [],
   "source": [
    "def set_all_seeds(seed):\n",
    "    os.environ[\"PL_GLOBAL_SEED\"] = str(seed)\n",
    "    random.seed(seed)\n",
    "    np.random.seed(seed)\n",
    "    torch.manual_seed(seed)\n",
    "    torch.cuda.manual_seed_all(seed)\n",
    "    torch.backends.cudnn.deterministic = True\n",
    "\n",
    "set_all_seeds(42)"
   ]
  },
  {
   "cell_type": "markdown",
   "id": "83fe6a68-8e90-42af-94c8-c886a1f95c77",
   "metadata": {},
   "source": [
    "# Data"
   ]
  },
  {
   "cell_type": "code",
   "execution_count": 5,
   "id": "4bb7008e-7daa-41ce-b71c-ff06abd53b86",
   "metadata": {},
   "outputs": [],
   "source": [
    "df = pd.read_csv('data/final_dataset.csv')"
   ]
  },
  {
   "cell_type": "code",
   "execution_count": 6,
   "id": "bc939518-2991-4de9-ae25-e0f986522243",
   "metadata": {},
   "outputs": [],
   "source": [
    "# remembering original df\n",
    "df_original = df"
   ]
  },
  {
   "cell_type": "code",
   "execution_count": 1,
   "id": "7a05d2e3-a796-40c7-a8e8-a5f8fef1335a",
   "metadata": {},
   "outputs": [
    {
     "ename": "NameError",
     "evalue": "name 'df' is not defined",
     "output_type": "error",
     "traceback": [
      "\u001b[1;31m---------------------------------------------------------------------------\u001b[0m",
      "\u001b[1;31mNameError\u001b[0m                                 Traceback (most recent call last)",
      "Input \u001b[1;32mIn [1]\u001b[0m, in \u001b[0;36m<cell line: 1>\u001b[1;34m()\u001b[0m\n\u001b[1;32m----> 1\u001b[0m \u001b[43mdf\u001b[49m\u001b[38;5;241m.\u001b[39miloc[\u001b[38;5;241m1\u001b[39m]\n",
      "\u001b[1;31mNameError\u001b[0m: name 'df' is not defined"
     ]
    }
   ],
   "source": [
    "df.iloc[1]"
   ]
  },
  {
   "cell_type": "code",
   "execution_count": 8,
   "id": "8e0c8995-bbf3-4bf2-9123-e6b35c6b0cd8",
   "metadata": {},
   "outputs": [],
   "source": [
    "info = [\"Name\", \"GW\"]\n",
    "other = [\"LSTM\"]\n",
    "features = [\"Min\", \"Gls\", \"Sh\", \"SoT\", \"xG\", \"npxG\", \"xAG\", \"CS\", \"Was Home\"]\n",
    "to_predict = [\"FPL\"]"
   ]
  },
  {
   "cell_type": "code",
   "execution_count": 9,
   "id": "c4eeb6d7-d07b-4f1c-9c86-52095b7cf379",
   "metadata": {},
   "outputs": [
    {
     "name": "stderr",
     "output_type": "stream",
     "text": [
      "C:\\users\\user\\appdata\\local\\programs\\python\\python38\\lib\\site-packages\\pandas\\core\\frame.py:3636: SettingWithCopyWarning: \n",
      "A value is trying to be set on a copy of a slice from a DataFrame.\n",
      "Try using .loc[row_indexer,col_indexer] = value instead\n",
      "\n",
      "See the caveats in the documentation: https://pandas.pydata.org/pandas-docs/stable/user_guide/indexing.html#returning-a-view-versus-a-copy\n",
      "  self[k1] = value[k2]\n"
     ]
    }
   ],
   "source": [
    "df = df[info + features + to_predict]\n",
    "df[features + to_predict] = df[features + to_predict].astype(\"float32\")"
   ]
  },
  {
   "cell_type": "code",
   "execution_count": 10,
   "id": "d63ed15f-1efb-4c00-b646-8c55a6c347d1",
   "metadata": {},
   "outputs": [
    {
     "data": {
      "text/plain": [
       "(19, 12)"
      ]
     },
     "execution_count": 10,
     "metadata": {},
     "output_type": "execute_result"
    }
   ],
   "source": [
    "df.shape"
   ]
  },
  {
   "cell_type": "code",
   "execution_count": 11,
   "id": "f36cc7ed-88c3-4ee4-baf1-85393aa3d15d",
   "metadata": {},
   "outputs": [],
   "source": [
    "# removing NaN rows and players that appear less than 15 times\n",
    "df = df.dropna()\n",
    "grouped = df.groupby('Name')\n",
    "\n",
    "# taking onyl players with at least FFP matches in logs\n",
    "df = grouped.filter(lambda x: len(x) >= FFP)"
   ]
  },
  {
   "cell_type": "code",
   "execution_count": 12,
   "id": "06c42b4b-58dd-48fe-a162-14e7564a4441",
   "metadata": {},
   "outputs": [
    {
     "data": {
      "text/plain": [
       "(19, 12)"
      ]
     },
     "execution_count": 12,
     "metadata": {},
     "output_type": "execute_result"
    }
   ],
   "source": [
    "df.shape"
   ]
  },
  {
   "cell_type": "code",
   "execution_count": 13,
   "id": "24fff899-a809-4659-b51e-f1431688507c",
   "metadata": {},
   "outputs": [
    {
     "data": {
      "text/html": [
       "<div>\n",
       "<style scoped>\n",
       "    .dataframe tbody tr th:only-of-type {\n",
       "        vertical-align: middle;\n",
       "    }\n",
       "\n",
       "    .dataframe tbody tr th {\n",
       "        vertical-align: top;\n",
       "    }\n",
       "\n",
       "    .dataframe thead th {\n",
       "        text-align: right;\n",
       "    }\n",
       "</style>\n",
       "<table border=\"1\" class=\"dataframe\">\n",
       "  <thead>\n",
       "    <tr style=\"text-align: right;\">\n",
       "      <th></th>\n",
       "      <th>Name</th>\n",
       "      <th>GW</th>\n",
       "      <th>Min</th>\n",
       "      <th>Gls</th>\n",
       "      <th>Sh</th>\n",
       "      <th>SoT</th>\n",
       "      <th>xG</th>\n",
       "      <th>npxG</th>\n",
       "      <th>xAG</th>\n",
       "      <th>CS</th>\n",
       "      <th>Was Home</th>\n",
       "      <th>FPL</th>\n",
       "    </tr>\n",
       "  </thead>\n",
       "  <tbody>\n",
       "    <tr>\n",
       "      <th>0</th>\n",
       "      <td>Mohamed-Salah</td>\n",
       "      <td>1</td>\n",
       "      <td>90.0</td>\n",
       "      <td>1.0</td>\n",
       "      <td>2.0</td>\n",
       "      <td>1.0</td>\n",
       "      <td>0.4</td>\n",
       "      <td>0.4</td>\n",
       "      <td>0.1</td>\n",
       "      <td>0.0</td>\n",
       "      <td>0.0</td>\n",
       "      <td>7.0</td>\n",
       "    </tr>\n",
       "    <tr>\n",
       "      <th>1</th>\n",
       "      <td>Mohamed-Salah</td>\n",
       "      <td>2</td>\n",
       "      <td>90.0</td>\n",
       "      <td>0.0</td>\n",
       "      <td>3.0</td>\n",
       "      <td>1.0</td>\n",
       "      <td>0.3</td>\n",
       "      <td>0.3</td>\n",
       "      <td>0.8</td>\n",
       "      <td>0.0</td>\n",
       "      <td>1.0</td>\n",
       "      <td>2.0</td>\n",
       "    </tr>\n",
       "    <tr>\n",
       "      <th>2</th>\n",
       "      <td>Mohamed-Salah</td>\n",
       "      <td>3</td>\n",
       "      <td>90.0</td>\n",
       "      <td>1.0</td>\n",
       "      <td>3.0</td>\n",
       "      <td>1.0</td>\n",
       "      <td>0.3</td>\n",
       "      <td>0.3</td>\n",
       "      <td>0.3</td>\n",
       "      <td>0.0</td>\n",
       "      <td>0.0</td>\n",
       "      <td>7.0</td>\n",
       "    </tr>\n",
       "    <tr>\n",
       "      <th>3</th>\n",
       "      <td>Mohamed-Salah</td>\n",
       "      <td>4</td>\n",
       "      <td>90.0</td>\n",
       "      <td>0.0</td>\n",
       "      <td>4.0</td>\n",
       "      <td>1.0</td>\n",
       "      <td>1.2</td>\n",
       "      <td>1.2</td>\n",
       "      <td>0.1</td>\n",
       "      <td>1.0</td>\n",
       "      <td>1.0</td>\n",
       "      <td>3.0</td>\n",
       "    </tr>\n",
       "    <tr>\n",
       "      <th>4</th>\n",
       "      <td>Mohamed-Salah</td>\n",
       "      <td>5</td>\n",
       "      <td>90.0</td>\n",
       "      <td>0.0</td>\n",
       "      <td>2.0</td>\n",
       "      <td>0.0</td>\n",
       "      <td>0.2</td>\n",
       "      <td>0.2</td>\n",
       "      <td>0.4</td>\n",
       "      <td>0.0</td>\n",
       "      <td>1.0</td>\n",
       "      <td>8.0</td>\n",
       "    </tr>\n",
       "    <tr>\n",
       "      <th>5</th>\n",
       "      <td>Mohamed-Salah</td>\n",
       "      <td>6</td>\n",
       "      <td>90.0</td>\n",
       "      <td>0.0</td>\n",
       "      <td>3.0</td>\n",
       "      <td>1.0</td>\n",
       "      <td>0.2</td>\n",
       "      <td>0.2</td>\n",
       "      <td>0.2</td>\n",
       "      <td>1.0</td>\n",
       "      <td>0.0</td>\n",
       "      <td>3.0</td>\n",
       "    </tr>\n",
       "    <tr>\n",
       "      <th>6</th>\n",
       "      <td>Mohamed-Salah</td>\n",
       "      <td>9</td>\n",
       "      <td>90.0</td>\n",
       "      <td>0.0</td>\n",
       "      <td>5.0</td>\n",
       "      <td>2.0</td>\n",
       "      <td>0.6</td>\n",
       "      <td>0.6</td>\n",
       "      <td>0.1</td>\n",
       "      <td>0.0</td>\n",
       "      <td>1.0</td>\n",
       "      <td>5.0</td>\n",
       "    </tr>\n",
       "    <tr>\n",
       "      <th>7</th>\n",
       "      <td>Mohamed-Salah</td>\n",
       "      <td>10</td>\n",
       "      <td>68.0</td>\n",
       "      <td>0.0</td>\n",
       "      <td>1.0</td>\n",
       "      <td>0.0</td>\n",
       "      <td>0.1</td>\n",
       "      <td>0.1</td>\n",
       "      <td>0.0</td>\n",
       "      <td>0.0</td>\n",
       "      <td>0.0</td>\n",
       "      <td>2.0</td>\n",
       "    </tr>\n",
       "    <tr>\n",
       "      <th>8</th>\n",
       "      <td>Mohamed-Salah</td>\n",
       "      <td>11</td>\n",
       "      <td>89.0</td>\n",
       "      <td>1.0</td>\n",
       "      <td>3.0</td>\n",
       "      <td>1.0</td>\n",
       "      <td>0.9</td>\n",
       "      <td>0.9</td>\n",
       "      <td>0.0</td>\n",
       "      <td>1.0</td>\n",
       "      <td>1.0</td>\n",
       "      <td>8.0</td>\n",
       "    </tr>\n",
       "    <tr>\n",
       "      <th>9</th>\n",
       "      <td>Mohamed-Salah</td>\n",
       "      <td>12</td>\n",
       "      <td>90.0</td>\n",
       "      <td>0.0</td>\n",
       "      <td>6.0</td>\n",
       "      <td>2.0</td>\n",
       "      <td>0.4</td>\n",
       "      <td>0.4</td>\n",
       "      <td>0.0</td>\n",
       "      <td>1.0</td>\n",
       "      <td>1.0</td>\n",
       "      <td>3.0</td>\n",
       "    </tr>\n",
       "    <tr>\n",
       "      <th>10</th>\n",
       "      <td>Mohamed-Salah</td>\n",
       "      <td>13</td>\n",
       "      <td>90.0</td>\n",
       "      <td>0.0</td>\n",
       "      <td>4.0</td>\n",
       "      <td>2.0</td>\n",
       "      <td>0.3</td>\n",
       "      <td>0.3</td>\n",
       "      <td>0.1</td>\n",
       "      <td>0.0</td>\n",
       "      <td>0.0</td>\n",
       "      <td>2.0</td>\n",
       "    </tr>\n",
       "    <tr>\n",
       "      <th>11</th>\n",
       "      <td>Mohamed-Salah</td>\n",
       "      <td>14</td>\n",
       "      <td>90.0</td>\n",
       "      <td>1.0</td>\n",
       "      <td>7.0</td>\n",
       "      <td>3.0</td>\n",
       "      <td>0.8</td>\n",
       "      <td>0.8</td>\n",
       "      <td>0.2</td>\n",
       "      <td>0.0</td>\n",
       "      <td>1.0</td>\n",
       "      <td>7.0</td>\n",
       "    </tr>\n",
       "    <tr>\n",
       "      <th>12</th>\n",
       "      <td>Mohamed-Salah</td>\n",
       "      <td>15</td>\n",
       "      <td>89.0</td>\n",
       "      <td>2.0</td>\n",
       "      <td>3.0</td>\n",
       "      <td>3.0</td>\n",
       "      <td>0.7</td>\n",
       "      <td>0.7</td>\n",
       "      <td>0.0</td>\n",
       "      <td>0.0</td>\n",
       "      <td>0.0</td>\n",
       "      <td>12.0</td>\n",
       "    </tr>\n",
       "    <tr>\n",
       "      <th>13</th>\n",
       "      <td>Mohamed-Salah</td>\n",
       "      <td>16</td>\n",
       "      <td>90.0</td>\n",
       "      <td>0.0</td>\n",
       "      <td>4.0</td>\n",
       "      <td>2.0</td>\n",
       "      <td>0.8</td>\n",
       "      <td>0.8</td>\n",
       "      <td>0.0</td>\n",
       "      <td>0.0</td>\n",
       "      <td>1.0</td>\n",
       "      <td>2.0</td>\n",
       "    </tr>\n",
       "    <tr>\n",
       "      <th>14</th>\n",
       "      <td>Mohamed-Salah</td>\n",
       "      <td>17</td>\n",
       "      <td>90.0</td>\n",
       "      <td>1.0</td>\n",
       "      <td>3.0</td>\n",
       "      <td>2.0</td>\n",
       "      <td>0.8</td>\n",
       "      <td>0.8</td>\n",
       "      <td>0.4</td>\n",
       "      <td>0.0</td>\n",
       "      <td>0.0</td>\n",
       "      <td>10.0</td>\n",
       "    </tr>\n",
       "    <tr>\n",
       "      <th>15</th>\n",
       "      <td>Mohamed-Salah</td>\n",
       "      <td>18</td>\n",
       "      <td>90.0</td>\n",
       "      <td>0.0</td>\n",
       "      <td>4.0</td>\n",
       "      <td>2.0</td>\n",
       "      <td>1.0</td>\n",
       "      <td>1.0</td>\n",
       "      <td>0.1</td>\n",
       "      <td>0.0</td>\n",
       "      <td>1.0</td>\n",
       "      <td>2.0</td>\n",
       "    </tr>\n",
       "    <tr>\n",
       "      <th>16</th>\n",
       "      <td>Mohamed-Salah</td>\n",
       "      <td>19</td>\n",
       "      <td>90.0</td>\n",
       "      <td>0.0</td>\n",
       "      <td>1.0</td>\n",
       "      <td>0.0</td>\n",
       "      <td>0.1</td>\n",
       "      <td>0.1</td>\n",
       "      <td>0.8</td>\n",
       "      <td>0.0</td>\n",
       "      <td>0.0</td>\n",
       "      <td>2.0</td>\n",
       "    </tr>\n",
       "    <tr>\n",
       "      <th>17</th>\n",
       "      <td>Mohamed-Salah</td>\n",
       "      <td>20</td>\n",
       "      <td>90.0</td>\n",
       "      <td>0.0</td>\n",
       "      <td>1.0</td>\n",
       "      <td>0.0</td>\n",
       "      <td>0.0</td>\n",
       "      <td>0.0</td>\n",
       "      <td>0.1</td>\n",
       "      <td>0.0</td>\n",
       "      <td>0.0</td>\n",
       "      <td>2.0</td>\n",
       "    </tr>\n",
       "    <tr>\n",
       "      <th>18</th>\n",
       "      <td>Mohamed-Salah</td>\n",
       "      <td>21</td>\n",
       "      <td>90.0</td>\n",
       "      <td>0.0</td>\n",
       "      <td>1.0</td>\n",
       "      <td>0.0</td>\n",
       "      <td>0.1</td>\n",
       "      <td>0.1</td>\n",
       "      <td>0.1</td>\n",
       "      <td>1.0</td>\n",
       "      <td>1.0</td>\n",
       "      <td>3.0</td>\n",
       "    </tr>\n",
       "  </tbody>\n",
       "</table>\n",
       "</div>"
      ],
      "text/plain": [
       "             Name  GW   Min  Gls   Sh  SoT   xG  npxG  xAG   CS  Was Home  \\\n",
       "0   Mohamed-Salah   1  90.0  1.0  2.0  1.0  0.4   0.4  0.1  0.0       0.0   \n",
       "1   Mohamed-Salah   2  90.0  0.0  3.0  1.0  0.3   0.3  0.8  0.0       1.0   \n",
       "2   Mohamed-Salah   3  90.0  1.0  3.0  1.0  0.3   0.3  0.3  0.0       0.0   \n",
       "3   Mohamed-Salah   4  90.0  0.0  4.0  1.0  1.2   1.2  0.1  1.0       1.0   \n",
       "4   Mohamed-Salah   5  90.0  0.0  2.0  0.0  0.2   0.2  0.4  0.0       1.0   \n",
       "5   Mohamed-Salah   6  90.0  0.0  3.0  1.0  0.2   0.2  0.2  1.0       0.0   \n",
       "6   Mohamed-Salah   9  90.0  0.0  5.0  2.0  0.6   0.6  0.1  0.0       1.0   \n",
       "7   Mohamed-Salah  10  68.0  0.0  1.0  0.0  0.1   0.1  0.0  0.0       0.0   \n",
       "8   Mohamed-Salah  11  89.0  1.0  3.0  1.0  0.9   0.9  0.0  1.0       1.0   \n",
       "9   Mohamed-Salah  12  90.0  0.0  6.0  2.0  0.4   0.4  0.0  1.0       1.0   \n",
       "10  Mohamed-Salah  13  90.0  0.0  4.0  2.0  0.3   0.3  0.1  0.0       0.0   \n",
       "11  Mohamed-Salah  14  90.0  1.0  7.0  3.0  0.8   0.8  0.2  0.0       1.0   \n",
       "12  Mohamed-Salah  15  89.0  2.0  3.0  3.0  0.7   0.7  0.0  0.0       0.0   \n",
       "13  Mohamed-Salah  16  90.0  0.0  4.0  2.0  0.8   0.8  0.0  0.0       1.0   \n",
       "14  Mohamed-Salah  17  90.0  1.0  3.0  2.0  0.8   0.8  0.4  0.0       0.0   \n",
       "15  Mohamed-Salah  18  90.0  0.0  4.0  2.0  1.0   1.0  0.1  0.0       1.0   \n",
       "16  Mohamed-Salah  19  90.0  0.0  1.0  0.0  0.1   0.1  0.8  0.0       0.0   \n",
       "17  Mohamed-Salah  20  90.0  0.0  1.0  0.0  0.0   0.0  0.1  0.0       0.0   \n",
       "18  Mohamed-Salah  21  90.0  0.0  1.0  0.0  0.1   0.1  0.1  1.0       1.0   \n",
       "\n",
       "     FPL  \n",
       "0    7.0  \n",
       "1    2.0  \n",
       "2    7.0  \n",
       "3    3.0  \n",
       "4    8.0  \n",
       "5    3.0  \n",
       "6    5.0  \n",
       "7    2.0  \n",
       "8    8.0  \n",
       "9    3.0  \n",
       "10   2.0  \n",
       "11   7.0  \n",
       "12  12.0  \n",
       "13   2.0  \n",
       "14  10.0  \n",
       "15   2.0  \n",
       "16   2.0  \n",
       "17   2.0  \n",
       "18   3.0  "
      ]
     },
     "execution_count": 13,
     "metadata": {},
     "output_type": "execute_result"
    }
   ],
   "source": [
    "df.head(20)"
   ]
  },
  {
   "cell_type": "code",
   "execution_count": 14,
   "id": "a56bb28e-5b7a-4a99-b18f-73cdf0d41c03",
   "metadata": {},
   "outputs": [],
   "source": [
    "last_names = df[\"Name\"].unique()"
   ]
  },
  {
   "cell_type": "markdown",
   "id": "6e4319b4-355b-4121-a0ed-e6cbbdaf93a6",
   "metadata": {},
   "source": [
    "# DF to DataLoader"
   ]
  },
  {
   "cell_type": "code",
   "execution_count": null,
   "id": "d87f8b66-cd79-4fd9-a0eb-a4d229912268",
   "metadata": {},
   "outputs": [],
   "source": [
    "# gk, def, mid, fwd\n"
   ]
  },
  {
   "cell_type": "code",
   "execution_count": 15,
   "id": "75b6dda5-b74e-4ca8-a5e9-ac338cea6f20",
   "metadata": {},
   "outputs": [],
   "source": [
    "def init_index_table(df):\n",
    "    names = df[\"Name\"].unique()\n",
    "    result_dict = {}\n",
    "    \n",
    "    current_index = 0\n",
    "    player_index = 0\n",
    "    for name in names:\n",
    "        sample_index = 0\n",
    "        samples_for_names = df[df[\"Name\"] == name].shape[0] - FIS\n",
    "        for i in range(samples_for_names):\n",
    "            result_dict[current_index] = [player_index, sample_index]\n",
    "            current_index += 1\n",
    "            sample_index += 1\n",
    "        player_index += 1\n",
    "    \n",
    "    return result_dict"
   ]
  },
  {
   "cell_type": "code",
   "execution_count": 16,
   "id": "6d97e6f8-4889-4347-9868-7f863ded9f07",
   "metadata": {},
   "outputs": [],
   "source": [
    "index_table = init_index_table(df)"
   ]
  },
  {
   "cell_type": "code",
   "execution_count": null,
   "id": "163dd917-9c29-4c62-9357-7f3b37eea32c",
   "metadata": {},
   "outputs": [],
   "source": []
  },
  {
   "cell_type": "code",
   "execution_count": 17,
   "id": "15fc117a-0b9a-442e-a653-530a52486ff0",
   "metadata": {},
   "outputs": [],
   "source": [
    "from torchvision.transforms import ToTensor\n",
    "\n",
    "class PandasDataset(Dataset):\n",
    "    def __init__(self, dataframe):\n",
    "        self.dataframe = dataframe\n",
    "        self.names = dataframe[\"Name\"].unique()\n",
    "        self.transform = torchvision.transforms.Compose([torchvision.transforms.ToTensor()])\n",
    "\n",
    "    def __len__(self):\n",
    "        length = 0\n",
    "        for name in self.names:\n",
    "            length += (self.dataframe[self.dataframe[\"Name\"] == name].shape[0] - FIS)\n",
    "        return length\n",
    "\n",
    "    def __getitem__(self, idx):\n",
    "        # print(idx)\n",
    "        player_id, sample_id = index_table[idx]\n",
    "        name = self.names[player_id]\n",
    "        # print(name)\n",
    "        features = self.dataframe[self.dataframe[\"Name\"] == name]\n",
    "        # print(self.dataframe[self.dataframe[\"Name\"] == name])\n",
    "        # print(features[sample_id: (sample_id + 4)])\n",
    "        features = features[sample_id: (sample_id + FIS - 1)].drop(columns=info).values[:, :-1]\n",
    "        # print(features)\n",
    "        # print(features)\n",
    "        # print(type(features))\n",
    "        # print(self.dataframe[self.dataframe[\"Name\"] == name].values[:, -1])\n",
    "        # print(type(self.dataframe[self.dataframe[\"Name\"] == name].values[:, -1]))\n",
    "        # target = self.dataframe[self.dataframe[\"Name\"] == name].values[:, -1]\n",
    "        # target = target.astype(np.float32)\n",
    "        # target = torch.from_numpy(target)\n",
    "        target = np.float32(self.dataframe[self.dataframe[\"Name\"] == name].values[(sample_id + FIS), -1])\n",
    "        # print(name, idx, target, sample_id)\n",
    "        # print(type(target))\n",
    "        return features, target"
   ]
  },
  {
   "cell_type": "code",
   "execution_count": 18,
   "id": "430e5e7d-972d-4eee-9bc0-a6f43ed05e7b",
   "metadata": {},
   "outputs": [
    {
     "ename": "KeyError",
     "evalue": "3307",
     "output_type": "error",
     "traceback": [
      "\u001b[1;31m---------------------------------------------------------------------------\u001b[0m",
      "\u001b[1;31mKeyError\u001b[0m                                  Traceback (most recent call last)",
      "Input \u001b[1;32mIn [18]\u001b[0m, in \u001b[0;36m<cell line: 2>\u001b[1;34m()\u001b[0m\n\u001b[0;32m      1\u001b[0m dataset \u001b[38;5;241m=\u001b[39m PandasDataset(df)\n\u001b[1;32m----> 2\u001b[0m \u001b[43mdataset\u001b[49m\u001b[38;5;241;43m.\u001b[39;49m\u001b[38;5;21;43m__getitem__\u001b[39;49m\u001b[43m(\u001b[49m\u001b[38;5;241;43m3307\u001b[39;49m\u001b[43m)\u001b[49m\n",
      "Input \u001b[1;32mIn [17]\u001b[0m, in \u001b[0;36mPandasDataset.__getitem__\u001b[1;34m(self, idx)\u001b[0m\n\u001b[0;32m     15\u001b[0m \u001b[38;5;28;01mdef\u001b[39;00m \u001b[38;5;21m__getitem__\u001b[39m(\u001b[38;5;28mself\u001b[39m, idx):\n\u001b[0;32m     16\u001b[0m     \u001b[38;5;66;03m# print(idx)\u001b[39;00m\n\u001b[1;32m---> 17\u001b[0m     player_id, sample_id \u001b[38;5;241m=\u001b[39m \u001b[43mindex_table\u001b[49m\u001b[43m[\u001b[49m\u001b[43midx\u001b[49m\u001b[43m]\u001b[49m\n\u001b[0;32m     18\u001b[0m     name \u001b[38;5;241m=\u001b[39m \u001b[38;5;28mself\u001b[39m\u001b[38;5;241m.\u001b[39mnames[player_id]\n\u001b[0;32m     19\u001b[0m     \u001b[38;5;66;03m# print(name)\u001b[39;00m\n",
      "\u001b[1;31mKeyError\u001b[0m: 3307"
     ]
    }
   ],
   "source": [
    "dataset = PandasDataset(df)\n",
    "dataset.__getitem__(3307)"
   ]
  },
  {
   "cell_type": "code",
   "execution_count": null,
   "id": "4ce0452d-89c3-4ec0-bfcd-79ae7587e36b",
   "metadata": {},
   "outputs": [],
   "source": [
    "dataset.__len__()"
   ]
  },
  {
   "cell_type": "code",
   "execution_count": null,
   "id": "fd3a4639-a6c7-40bf-ad2f-72569dfeac42",
   "metadata": {},
   "outputs": [],
   "source": [
    "batch_size = 16"
   ]
  },
  {
   "cell_type": "code",
   "execution_count": null,
   "id": "3ef8a258-452d-4ce9-b44f-3370fa58f750",
   "metadata": {},
   "outputs": [],
   "source": [
    "dataloader = DataLoader(dataset, batch_size=batch_size, shuffle=False)"
   ]
  },
  {
   "cell_type": "code",
   "execution_count": null,
   "id": "066d4f81-bc84-4a58-9bcd-fcaa6cfbeb4c",
   "metadata": {},
   "outputs": [],
   "source": [
    "# next(iter(dataloader))[1]"
   ]
  },
  {
   "cell_type": "markdown",
   "id": "44290e57-5279-400f-bd5d-8bcbf0db2f99",
   "metadata": {},
   "source": [
    "# LSTM Model"
   ]
  },
  {
   "cell_type": "code",
   "execution_count": null,
   "id": "95c48496-4a3d-4dd6-a789-abb04d921dc6",
   "metadata": {},
   "outputs": [],
   "source": [
    "class LSTMNetwork(nn.Module):\n",
    "    def __init__(self, input_size, hidden_size, num_layers, output_size, dropout=0.2):\n",
    "        super(LSTMNetwork, self).__init__()\n",
    "        self.lstm = nn.LSTM(input_size, hidden_size, num_layers, dropout=dropout)\n",
    "        self.fc = nn.Linear(hidden_size, output_size)\n",
    "\n",
    "    def forward(self, x):\n",
    "        x = torch.transpose(x, 0, 1)\n",
    "        # x = x.view(-1, batch_size)\n",
    "        # x = torch.transpose(x, 0, 1)\n",
    "        # print(\"FOR\", x.shape)\n",
    "        # print(x.shape)\n",
    "        # print(x.shape)\n",
    "        out, _ = self.lstm(x)\n",
    "        # print(out.shape)\n",
    "        out = self.fc(out[-1])\n",
    "        return out"
   ]
  },
  {
   "cell_type": "code",
   "execution_count": null,
   "id": "231626de-b520-4d08-a1c8-eeca06133061",
   "metadata": {},
   "outputs": [],
   "source": [
    "len(dataloader)"
   ]
  },
  {
   "cell_type": "code",
   "execution_count": null,
   "id": "aa6120f7-4cf3-4b11-ac41-4ebaa2a49321",
   "metadata": {},
   "outputs": [],
   "source": [
    "# torch.transpose(next(iter(dataloader))[0], 0, 1).shape"
   ]
  },
  {
   "cell_type": "code",
   "execution_count": null,
   "id": "083d4a4d-f747-4d56-a2a7-416282c53b77",
   "metadata": {},
   "outputs": [],
   "source": [
    "net = LSTMNetwork(1, 20, 2, 1, dropout=0.4)"
   ]
  },
  {
   "cell_type": "markdown",
   "id": "e6a2f684-5906-4cf1-8cd4-6f342fb3daf5",
   "metadata": {},
   "source": [
    "# Training loop"
   ]
  },
  {
   "cell_type": "code",
   "execution_count": null,
   "id": "9f926a02-0546-46c0-ac12-db2990d20172",
   "metadata": {},
   "outputs": [],
   "source": [
    "criterion = nn.MSELoss()\n",
    "optimizer = optim.Adam(net.parameters(), lr=0.005)"
   ]
  },
  {
   "cell_type": "code",
   "execution_count": null,
   "id": "8d1ac896-0465-4422-b291-a13f32f3d3b5",
   "metadata": {},
   "outputs": [],
   "source": [
    "%%time\n",
    "num_epochs = 30\n",
    "loss_history = []\n",
    "for epoch in range(num_epochs):\n",
    "    running_loss = 0\n",
    "    for i, (inputs, targets) in enumerate(dataloader):\n",
    "        inputs = torch.flatten(inputs, 1, 2)\n",
    "        inputs = inputs.unsqueeze(2)\n",
    "        # print(\"INPUTS\", inputs.shape)\n",
    "        # print(\"TARGETS\", targets.shape)\n",
    "        # print(targets)\n",
    "        optimizer.zero_grad()\n",
    "        outputs = net(inputs).flatten()\n",
    "        # print(\"OUTPUTS\", outputs.shape)\n",
    "        loss = criterion(outputs, targets)\n",
    "        running_loss += loss.item()\n",
    "        loss.backward()\n",
    "        optimizer.step()\n",
    "    \n",
    "    loss_history.append(running_loss / len(dataloader))\n",
    "    # if epoch % 5 == 0:\n",
    "    print(f'Epoch {epoch} Loss: {running_loss / len(dataloader)}')"
   ]
  },
  {
   "cell_type": "code",
   "execution_count": null,
   "id": "ac88d75b-3cb0-4747-9efe-c498dd2efdd3",
   "metadata": {},
   "outputs": [],
   "source": [
    "plt.plot(loss_history)\n",
    "plt.xlabel('Epoch')\n",
    "plt.ylabel('Loss')\n",
    "plt.show()"
   ]
  },
  {
   "cell_type": "code",
   "execution_count": null,
   "id": "cd915acc-7ef2-4d51-9292-53d0e7abafeb",
   "metadata": {},
   "outputs": [],
   "source": []
  },
  {
   "cell_type": "markdown",
   "id": "222c6cfd-5148-4793-a9f7-6dfa76115a68",
   "metadata": {},
   "source": [
    "# Predictions"
   ]
  },
  {
   "cell_type": "code",
   "execution_count": null,
   "id": "864f4e1f-63ad-4e18-86e0-6d733744c8a9",
   "metadata": {},
   "outputs": [],
   "source": [
    "index = 0\n",
    "predictions = []\n",
    "for inputs, target in dataloader:\n",
    "    inputs = torch.flatten(inputs, 1, 2)\n",
    "    inputs = inputs.unsqueeze(2)\n",
    "    # print(\"INPUTS\", inputs)\n",
    "    # print(inputs)\n",
    "    outputs = net(inputs)\n",
    "    # print(\"OUTPUTS\", outputs)\n",
    "    for output in outputs:\n",
    "        player_id, sample_id = index_table[index]\n",
    "        name = last_names[player_id]\n",
    "        points = round(output.item(), 2)\n",
    "        gw = sample_id + FIS + 1\n",
    "        predictions.append([name, gw, points])\n",
    "        # df.loc[(df[\"Name\"] == name) & (df[\"GW\"] == gw), \"LSTM\"] = points\n",
    "        index += 1"
   ]
  },
  {
   "cell_type": "code",
   "execution_count": null,
   "id": "297cfbd4-0fbe-46b4-9fc4-d79eeaadf70d",
   "metadata": {},
   "outputs": [],
   "source": [
    "# appending results to original df\n",
    "for name, gw, points in predictions:\n",
    "    df_original.loc[(df_original[\"Name\"] == name) & (df[\"GW\"] == gw), \"LSTM\"] = points"
   ]
  },
  {
   "cell_type": "code",
   "execution_count": null,
   "id": "13c4bb11-8ce5-41f7-beda-ed1838b83fe4",
   "metadata": {},
   "outputs": [],
   "source": [
    "df_original"
   ]
  },
  {
   "cell_type": "code",
   "execution_count": null,
   "id": "ce5882f0-aff6-4ae9-9cba-8b4e816bec07",
   "metadata": {},
   "outputs": [],
   "source": [
    "df_original.to_csv(\"data/fpl_fbref_elo_lstm.csv\")"
   ]
  },
  {
   "cell_type": "code",
   "execution_count": null,
   "id": "e6d3171e-f813-411c-ba7e-492163af5009",
   "metadata": {},
   "outputs": [],
   "source": [
    "# results sorted\n",
    "pd.DataFrame(predictions, columns=[\"Name\", \"GW\", \"Points\"]).sort_values(by=[\"Points\"], ascending = False).head(20)"
   ]
  },
  {
   "cell_type": "code",
   "execution_count": null,
   "id": "c2c03327-c028-4c0a-97a1-9eeec243370d",
   "metadata": {},
   "outputs": [],
   "source": []
  }
 ],
 "metadata": {
  "kernelspec": {
   "display_name": "Python 3 (ipykernel)",
   "language": "python",
   "name": "python3"
  },
  "language_info": {
   "codemirror_mode": {
    "name": "ipython",
    "version": 3
   },
   "file_extension": ".py",
   "mimetype": "text/x-python",
   "name": "python",
   "nbconvert_exporter": "python",
   "pygments_lexer": "ipython3",
   "version": "3.8.0"
  }
 },
 "nbformat": 4,
 "nbformat_minor": 5
}
