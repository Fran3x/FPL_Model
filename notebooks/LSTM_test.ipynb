{
  "cells": [
    {
      "cell_type": "markdown",
      "source": [
        "# Google Colab / Kaggle / PC"
      ],
      "metadata": {
        "id": "HQv7wn2lGRxJ"
      },
      "id": "HQv7wn2lGRxJ"
    },
    {
      "cell_type": "code",
      "source": [
        "mode = \"Colab\""
      ],
      "metadata": {
        "id": "lWcbiCoePjwh"
      },
      "id": "lWcbiCoePjwh",
      "execution_count": 1,
      "outputs": []
    },
    {
      "cell_type": "code",
      "source": [
        "import os\n",
        "\n",
        "if mode == \"Colab\":\n",
        "    from google.colab import drive\n",
        "    drive.mount('/content/gdrive')\n",
        "    os.chdir(\"/content/gdrive/My Drive/FPL_ML\")\n",
        "    TRAIN_PATH = \"data/final_dataset.csv\"\n",
        "if mode == \"PC\":\n",
        "    os.chdir(\"D:\\PulpitE\\FPL_ML\")\n",
        "    TRAIN_PATH = \"data/final_dataset.csv\"\n",
        "if mode == \"Kaggle\":\n",
        "    TRAIN_PATH = \"/kaggle/input/fpl-dataset/final_dataset.csv\""
      ],
      "metadata": {
        "colab": {
          "base_uri": "https://localhost:8080/"
        },
        "id": "iIMFBRbFGTex",
        "outputId": "0fb0a84e-2873-4698-c9dd-01263f8c8c4a"
      },
      "id": "iIMFBRbFGTex",
      "execution_count": 2,
      "outputs": [
        {
          "output_type": "stream",
          "name": "stdout",
          "text": [
            "Drive already mounted at /content/gdrive; to attempt to forcibly remount, call drive.mount(\"/content/gdrive\", force_remount=True).\n"
          ]
        }
      ]
    },
    {
      "cell_type": "markdown",
      "id": "b403b39e-b749-4730-a880-75a6b9ddfe83",
      "metadata": {
        "id": "b403b39e-b749-4730-a880-75a6b9ddfe83"
      },
      "source": [
        "# Imports"
      ]
    },
    {
      "cell_type": "code",
      "execution_count": 3,
      "id": "1382f0d0-60a4-4f2a-b4ce-c54205b18d21",
      "metadata": {
        "id": "1382f0d0-60a4-4f2a-b4ce-c54205b18d21"
      },
      "outputs": [],
      "source": [
        "import pandas as pd\n",
        "\n",
        "import torch\n",
        "import torch.nn as nn\n",
        "\n",
        "import torchvision\n",
        "import torchvision.transforms\n",
        "from torchvision.transforms import ToTensor\n",
        "\n",
        "from torch.utils.data import Dataset, DataLoader\n",
        "import torch.optim as optim\n",
        "\n",
        "import matplotlib.pyplot as plt\n",
        "\n",
        "import numpy as np\n",
        "import random"
      ]
    },
    {
      "cell_type": "markdown",
      "id": "7dd9d155-95e4-4e3d-86ad-c46a6fbb5c95",
      "metadata": {
        "id": "7dd9d155-95e4-4e3d-86ad-c46a6fbb5c95"
      },
      "source": [
        "# Constants and seeds"
      ]
    },
    {
      "cell_type": "code",
      "execution_count": 4,
      "id": "7239f9ad-7a6d-4a3d-9da5-4bac972e1537",
      "metadata": {
        "id": "7239f9ad-7a6d-4a3d-9da5-4bac972e1537"
      },
      "outputs": [],
      "source": [
        "# FIXTURES_IN_SAMPLE\n",
        "FIS = 8\n",
        "\n",
        "# FIXTURES_FOR_PLAYER - minimal number of gameweeks required for a player\n",
        "FFP = 15\n",
        "\n",
        "FIRST_TRAIN_GW = 1\n",
        "LAST_TRAIN_GW = 20\n",
        "\n",
        "FIRST_VALID_GW = 21\n",
        "LAST_VALID_GW = 21\n",
        "\n",
        "# NEXT_GAMEWEEK = 22\n",
        "# LAST_GAMEWEEK = NEXT_GAMEWEEK - 1"
      ]
    },
    {
      "cell_type": "code",
      "execution_count": 5,
      "id": "2d44df04-be21-4e7b-aaa5-612a6210bd44",
      "metadata": {
        "id": "2d44df04-be21-4e7b-aaa5-612a6210bd44"
      },
      "outputs": [],
      "source": [
        "def set_all_seeds(seed):\n",
        "    os.environ[\"PL_GLOBAL_SEED\"] = str(seed)\n",
        "    random.seed(seed)\n",
        "    np.random.seed(seed)\n",
        "    torch.manual_seed(seed)\n",
        "    torch.cuda.manual_seed_all(seed)\n",
        "    torch.backends.cudnn.deterministic = True\n",
        "\n",
        "set_all_seeds(42)"
      ]
    },
    {
      "cell_type": "markdown",
      "id": "83206c3d-ea25-42ca-81df-c388d247ffe3",
      "metadata": {
        "id": "83206c3d-ea25-42ca-81df-c388d247ffe3"
      },
      "source": [
        "# Device"
      ]
    },
    {
      "cell_type": "code",
      "execution_count": 6,
      "id": "0a673f70-8843-4b1a-ad07-ccfea4306d84",
      "metadata": {
        "id": "0a673f70-8843-4b1a-ad07-ccfea4306d84"
      },
      "outputs": [],
      "source": [
        "device = torch.device(\"cuda\")\n",
        "# device = torch.device('mps')\n",
        "# device = torch.device('cpu')"
      ]
    },
    {
      "cell_type": "markdown",
      "id": "83fe6a68-8e90-42af-94c8-c886a1f95c77",
      "metadata": {
        "id": "83fe6a68-8e90-42af-94c8-c886a1f95c77"
      },
      "source": [
        "# Getting data and choosing features"
      ]
    },
    {
      "cell_type": "code",
      "execution_count": 7,
      "id": "4bb7008e-7daa-41ce-b71c-ff06abd53b86",
      "metadata": {
        "id": "4bb7008e-7daa-41ce-b71c-ff06abd53b86"
      },
      "outputs": [],
      "source": [
        "df = pd.read_csv('data/final_dataset.csv')"
      ]
    },
    {
      "cell_type": "code",
      "execution_count": 8,
      "id": "bc939518-2991-4de9-ae25-e0f986522243",
      "metadata": {
        "id": "bc939518-2991-4de9-ae25-e0f986522243"
      },
      "outputs": [],
      "source": [
        "# remembering original dataframes\n",
        "df_original = df\n",
        "\n",
        "df_gk_original = df[df[\"FPL position\"] == \"GK\"]\n",
        "df_def_original = df[df[\"FPL position\"] == \"DEF\"]\n",
        "df_mid_original = df[df[\"FPL position\"] == \"MID\"]\n",
        "df_fwd_original = df[df[\"FPL position\"] == \"FWD\"]"
      ]
    },
    {
      "cell_type": "code",
      "source": [
        "# df_original.columns"
      ],
      "metadata": {
        "id": "PWzStYOfoo2G"
      },
      "id": "PWzStYOfoo2G",
      "execution_count": 9,
      "outputs": []
    },
    {
      "cell_type": "code",
      "execution_count": 10,
      "id": "8e0c8995-bbf3-4bf2-9123-e6b35c6b0cd8",
      "metadata": {
        "id": "8e0c8995-bbf3-4bf2-9123-e6b35c6b0cd8"
      },
      "outputs": [],
      "source": [
        "info = [\"Name\", \"GW\", \"FPL position\"]\n",
        "other = [\"LSTM\"]\n",
        "features = [\"Min\", \"Gls\", \"Ast\", \"Sh\", \"SoT\", \"xG\", \"npxG\", \"xAG\", \"SCA\", \"GCA\", \"CS\", \"CrdY\", \"CrdR\", \"Opp rating\", \"Team Score\", \"Opp Score\", \"Was Home\"]\n",
        "to_predict = [\"Total Points\"]"
      ]
    },
    {
      "cell_type": "code",
      "execution_count": 11,
      "id": "c4eeb6d7-d07b-4f1c-9c86-52095b7cf379",
      "metadata": {
        "colab": {
          "base_uri": "https://localhost:8080/"
        },
        "id": "c4eeb6d7-d07b-4f1c-9c86-52095b7cf379",
        "outputId": "bdc68188-1ef8-4412-8ad5-121a95b87b28"
      },
      "outputs": [
        {
          "output_type": "stream",
          "name": "stderr",
          "text": [
            "/usr/local/lib/python3.8/dist-packages/pandas/core/frame.py:3641: SettingWithCopyWarning: \n",
            "A value is trying to be set on a copy of a slice from a DataFrame.\n",
            "Try using .loc[row_indexer,col_indexer] = value instead\n",
            "\n",
            "See the caveats in the documentation: https://pandas.pydata.org/pandas-docs/stable/user_guide/indexing.html#returning-a-view-versus-a-copy\n",
            "  self[k1] = value[k2]\n"
          ]
        }
      ],
      "source": [
        "df = df[info + features + to_predict]\n",
        "df[features + to_predict] = df[features + to_predict].astype(\"float32\")"
      ]
    },
    {
      "cell_type": "code",
      "execution_count": 12,
      "id": "d63ed15f-1efb-4c00-b646-8c55a6c347d1",
      "metadata": {
        "colab": {
          "base_uri": "https://localhost:8080/"
        },
        "id": "d63ed15f-1efb-4c00-b646-8c55a6c347d1",
        "outputId": "0dd030e2-2ad7-45dd-cbbf-d1ed98dd4e8c"
      },
      "outputs": [
        {
          "output_type": "execute_result",
          "data": {
            "text/plain": [
              "(7457, 21)"
            ]
          },
          "metadata": {},
          "execution_count": 12
        }
      ],
      "source": [
        "df.shape"
      ]
    },
    {
      "cell_type": "code",
      "execution_count": 13,
      "id": "f36cc7ed-88c3-4ee4-baf1-85393aa3d15d",
      "metadata": {
        "id": "f36cc7ed-88c3-4ee4-baf1-85393aa3d15d"
      },
      "outputs": [],
      "source": [
        "# removing NaN rows and players that appear less than 15 times\n",
        "df = df.dropna()\n",
        "grouped = df.groupby('Name')\n",
        "\n",
        "# taking only players with at least FFP matches in logs\n",
        "df = grouped.filter(lambda x: len(x) >= FFP)"
      ]
    },
    {
      "cell_type": "code",
      "execution_count": 14,
      "id": "06c42b4b-58dd-48fe-a162-14e7564a4441",
      "metadata": {
        "colab": {
          "base_uri": "https://localhost:8080/"
        },
        "id": "06c42b4b-58dd-48fe-a162-14e7564a4441",
        "outputId": "6a011476-7c2e-4083-d54b-044cd03c0817"
      },
      "outputs": [
        {
          "output_type": "execute_result",
          "data": {
            "text/plain": [
              "(5771, 21)"
            ]
          },
          "metadata": {},
          "execution_count": 14
        }
      ],
      "source": [
        "df.shape"
      ]
    },
    {
      "cell_type": "code",
      "execution_count": 15,
      "id": "24fff899-a809-4659-b51e-f1431688507c",
      "metadata": {
        "id": "24fff899-a809-4659-b51e-f1431688507c"
      },
      "outputs": [],
      "source": [
        "# df.head(20)"
      ]
    },
    {
      "cell_type": "code",
      "execution_count": 16,
      "id": "a56bb28e-5b7a-4a99-b18f-73cdf0d41c03",
      "metadata": {
        "id": "a56bb28e-5b7a-4a99-b18f-73cdf0d41c03"
      },
      "outputs": [],
      "source": [
        "last_names = df[\"Name\"].unique()"
      ]
    },
    {
      "cell_type": "markdown",
      "id": "6e4319b4-355b-4121-a0ed-e6cbbdaf93a6",
      "metadata": {
        "id": "6e4319b4-355b-4121-a0ed-e6cbbdaf93a6"
      },
      "source": [
        "# DF to DataLoader"
      ]
    },
    {
      "cell_type": "code",
      "execution_count": 17,
      "id": "d87f8b66-cd79-4fd9-a0eb-a4d229912268",
      "metadata": {
        "id": "d87f8b66-cd79-4fd9-a0eb-a4d229912268"
      },
      "outputs": [],
      "source": [
        "df_train = df[df[\"GW\"] <= LAST_TRAIN_GW]\n",
        "df_valid = df\n",
        "\n",
        "# gk, def, mid, fwd\n",
        "df_gk_train = df[(df[\"FPL position\"] == \"GK\") & (df[\"GW\"] <= LAST_TRAIN_GW)]\n",
        "df_gk_valid = df[(df[\"FPL position\"] == \"GK\") ]\n",
        "\n",
        "df_def_train = df[(df[\"FPL position\"] == \"DEF\") & (df[\"GW\"] <= LAST_TRAIN_GW)]\n",
        "df_def_valid = df[(df[\"FPL position\"] == \"DEF\") ]\n",
        "\n",
        "df_mid_train = df[(df[\"FPL position\"] == \"MID\") & (df[\"GW\"] <= LAST_TRAIN_GW)]\n",
        "df_mid_valid = df[(df[\"FPL position\"] == \"MID\") ]\n",
        "\n",
        "df_fwd_train = df[(df[\"FPL position\"] == \"FWD\") & (df[\"GW\"] <= LAST_TRAIN_GW)]\n",
        "df_fwd_valid = df[(df[\"FPL position\"] == \"FWD\")]"
      ]
    },
    {
      "cell_type": "code",
      "execution_count": 18,
      "id": "75b6dda5-b74e-4ca8-a5e9-ac338cea6f20",
      "metadata": {
        "id": "75b6dda5-b74e-4ca8-a5e9-ac338cea6f20"
      },
      "outputs": [],
      "source": [
        "def init_index_table(df):\n",
        "    names = df[\"Name\"].unique()\n",
        "    result_dict = {}\n",
        "    \n",
        "    current_index = 0\n",
        "    player_index = 0\n",
        "    \n",
        "    for name in names:\n",
        "        sample_index = 0\n",
        "        samples_for_names = df[df[\"Name\"] == name].shape[0] - FIS\n",
        "        for i in range(samples_for_names):\n",
        "            result_dict[current_index] = [player_index, sample_index]\n",
        "            current_index += 1\n",
        "            sample_index += 1\n",
        "        player_index += 1\n",
        "    \n",
        "    return result_dict"
      ]
    },
    {
      "cell_type": "code",
      "execution_count": 19,
      "id": "15fc117a-0b9a-442e-a653-530a52486ff0",
      "metadata": {
        "id": "15fc117a-0b9a-442e-a653-530a52486ff0"
      },
      "outputs": [],
      "source": [
        "class PandasDataset(Dataset):\n",
        "    def __init__(self, dataframe, starting_gw, ending_gw):\n",
        "        self.dataframe = dataframe\n",
        "        self.names = dataframe[\"Name\"].unique()\n",
        "        \n",
        "        self.starting_gw = starting_gw\n",
        "        self.ending_gw = ending_gw\n",
        "        self.cut_unused_rows()\n",
        "        self.length = self.calculate_length()\n",
        "\n",
        "        self.index_table = init_index_table(self.dataframe)\n",
        "        self.transform = torchvision.transforms.Compose([torchvision.transforms.ToTensor()])\n",
        "\n",
        "    def cut_unused_rows(self):\n",
        "        for name in self.names:\n",
        "            df_name = self.dataframe[self.dataframe[\"Name\"] == name]\n",
        "            name_length = df_name.shape[0]\n",
        "            # print(\"NAME LENGTH\", name, name_length, FIS + 1)\n",
        "            if name_length >= FIS + 1:\n",
        "                try:\n",
        "                    first_index = df_name.index.tolist()[0]\n",
        "                except IndexError:\n",
        "                    first_index = None\n",
        "\n",
        "                try:\n",
        "                    last_index = max(FIS, df_name.index[df_name['GW'] < self.starting_gw].tolist()[-1]) - FIS\n",
        "                except:\n",
        "                    last_index = None\n",
        "\n",
        "                # print(\"FIRST LAST INDEX\", name, first_index, last_index)\n",
        "                if first_index != None and last_index != None:\n",
        "                    # print(\"WYCIETO\", name, range(first_index, last_index + 1))\n",
        "                    self.dataframe = self.dataframe.drop(range(first_index, last_index + 1))\n",
        "            else:\n",
        "                # print(\"DROPPING\", name, [df_name.index.tolist()])\n",
        "                self.dataframe = self.dataframe.drop([df_name.index.tolist()])\n",
        "                \n",
        "\n",
        "            # print(\"CUTTING\", name, first_index, last_index, name_length)\n",
        "            # print(\"CUT2\", df_name.index[df_name['GW'] < self.starting_gw].tolist())\n",
        "            # print(self.dataframe.shape)\n",
        "            # print(\"\")\n",
        "\n",
        "    def calculate_length(self):\n",
        "        length = 0\n",
        "        for name in self.names:\n",
        "            # print(name, (self.dataframe[self.dataframe[\"Name\"] == name].shape[0] - FIS))\n",
        "            length += (self.dataframe[self.dataframe[\"Name\"] == name].shape[0] - FIS)\n",
        "        return length\n",
        "\n",
        "    def __len__(self):\n",
        "        return self.length\n",
        "\n",
        "    def __getitem__(self, idx):\n",
        "        # print(idx)\n",
        "        player_id, sample_id = self.index_table[idx]\n",
        "        name = self.names[player_id]\n",
        "        # print(name)\n",
        "        # print(\"GETITEM DF\", name, player_id, sample_id)\n",
        "\n",
        "        features = self.dataframe[self.dataframe[\"Name\"] == name]\n",
        "        # print(self.dataframe[self.dataframe[\"Name\"] == name])\n",
        "        # print(features[sample_id: (sample_id + 4)])\n",
        "        features = features[sample_id: (sample_id + FIS)].drop(columns=info).values[:, :-1]\n",
        "        # print(features)\n",
        "        # print(features)\n",
        "        # print(type(features))\n",
        "        # print(self.dataframe[self.dataframe[\"Name\"] == name].values[:, -1])\n",
        "        # print(type(self.dataframe[self.dataframe[\"Name\"] == name].values[:, -1]))\n",
        "        # target = self.dataframe[self.dataframe[\"Name\"] == name].values[:, -1]\n",
        "        # target = target.astype(np.float32)\n",
        "        # target = torch.from_numpy(target)\n",
        "        # print(\"GETITEM\", idx, player_id, sample_id, name)\n",
        "        target = np.float32(self.dataframe[self.dataframe[\"Name\"] == name].values[(sample_id + FIS), -1])\n",
        "        # print(name, idx, target, sample_id)\n",
        "        # print(type(target))\n",
        "        return features, target"
      ]
    },
    {
      "cell_type": "code",
      "execution_count": 20,
      "id": "430e5e7d-972d-4eee-9bc0-a6f43ed05e7b",
      "metadata": {
        "id": "430e5e7d-972d-4eee-9bc0-a6f43ed05e7b"
      },
      "outputs": [],
      "source": [
        "dataset_general_train = PandasDataset(df_train, FIRST_TRAIN_GW, LAST_TRAIN_GW)\n",
        "dataset_general_valid = PandasDataset(df_valid, FIRST_VALID_GW, LAST_VALID_GW)\n",
        "\n",
        "dataset_gk_train = PandasDataset(df_gk_train, FIRST_TRAIN_GW, LAST_TRAIN_GW)\n",
        "dataset_gk_valid = PandasDataset(df_gk_valid, FIRST_VALID_GW, LAST_VALID_GW)\n",
        "\n",
        "dataset_def_train = PandasDataset(df_def_train, FIRST_TRAIN_GW, LAST_TRAIN_GW)\n",
        "dataset_def_valid = PandasDataset(df_def_valid, FIRST_VALID_GW, LAST_VALID_GW)\n",
        "\n",
        "dataset_mid_train = PandasDataset(df_mid_train, FIRST_TRAIN_GW, LAST_TRAIN_GW)\n",
        "dataset_mid_valid = PandasDataset(df_mid_valid, FIRST_VALID_GW, LAST_VALID_GW)\n",
        "\n",
        "dataset_fwd_train = PandasDataset(df_fwd_train, FIRST_TRAIN_GW, LAST_TRAIN_GW)\n",
        "dataset_fwd_valid = PandasDataset(df_fwd_valid, FIRST_VALID_GW, LAST_VALID_GW)"
      ]
    },
    {
      "cell_type": "code",
      "execution_count": 21,
      "id": "4ce0452d-89c3-4ec0-bfcd-79ae7587e36b",
      "metadata": {
        "colab": {
          "base_uri": "https://localhost:8080/"
        },
        "id": "4ce0452d-89c3-4ec0-bfcd-79ae7587e36b",
        "outputId": "8abc8ffe-e7d2-45e2-9507-20056b6d9e7d"
      },
      "outputs": [
        {
          "output_type": "execute_result",
          "data": {
            "text/plain": [
              "(280, 25)"
            ]
          },
          "metadata": {},
          "execution_count": 21
        }
      ],
      "source": [
        "dataset_gk_train.__len__(), dataset_gk_valid.__len__()"
      ]
    },
    {
      "cell_type": "code",
      "execution_count": 22,
      "id": "dad3baac-8574-4dd0-af3c-f2d544295f67",
      "metadata": {
        "colab": {
          "base_uri": "https://localhost:8080/"
        },
        "id": "dad3baac-8574-4dd0-af3c-f2d544295f67",
        "outputId": "b28a9a9b-77e0-4416-fb35-e13db487ec19"
      },
      "outputs": [
        {
          "output_type": "execute_result",
          "data": {
            "text/plain": [
              "(1035, 100)"
            ]
          },
          "metadata": {},
          "execution_count": 22
        }
      ],
      "source": [
        "dataset_def_train.__len__(), dataset_def_valid.__len__()"
      ]
    },
    {
      "cell_type": "code",
      "execution_count": 23,
      "id": "65a42e4a-3f39-43bd-843b-d0225a124342",
      "metadata": {
        "colab": {
          "base_uri": "https://localhost:8080/"
        },
        "id": "65a42e4a-3f39-43bd-843b-d0225a124342",
        "outputId": "b1441ee8-1c2d-4c1c-abf2-a6fcd707c70a"
      },
      "outputs": [
        {
          "output_type": "execute_result",
          "data": {
            "text/plain": [
              "(1346, 123)"
            ]
          },
          "metadata": {},
          "execution_count": 23
        }
      ],
      "source": [
        "dataset_mid_train.__len__(), dataset_mid_valid.__len__()"
      ]
    },
    {
      "cell_type": "code",
      "execution_count": 24,
      "id": "89def15b-7eec-492a-a773-e87ebe22ea18",
      "metadata": {
        "colab": {
          "base_uri": "https://localhost:8080/"
        },
        "id": "89def15b-7eec-492a-a773-e87ebe22ea18",
        "outputId": "1242a0bc-5d0d-4489-e9a1-00f9f096f04d"
      },
      "outputs": [
        {
          "output_type": "execute_result",
          "data": {
            "text/plain": [
              "(326, 30)"
            ]
          },
          "metadata": {},
          "execution_count": 24
        }
      ],
      "source": [
        "dataset_fwd_train.__len__(), dataset_fwd_valid.__len__()"
      ]
    },
    {
      "cell_type": "code",
      "execution_count": 25,
      "id": "fd3a4639-a6c7-40bf-ad2f-72569dfeac42",
      "metadata": {
        "id": "fd3a4639-a6c7-40bf-ad2f-72569dfeac42"
      },
      "outputs": [],
      "source": [
        "batch_size = 16"
      ]
    },
    {
      "cell_type": "code",
      "execution_count": 26,
      "id": "3ef8a258-452d-4ce9-b44f-3370fa58f750",
      "metadata": {
        "id": "3ef8a258-452d-4ce9-b44f-3370fa58f750"
      },
      "outputs": [],
      "source": [
        "dataloader_general_train = DataLoader(dataset_general_train, batch_size=batch_size, shuffle=False)\n",
        "dataloader_general_valid = DataLoader(dataset_general_valid, batch_size=batch_size, shuffle=False)\n",
        "\n",
        "dataloader_gk_train = DataLoader(dataset_gk_train, batch_size=batch_size, shuffle=False)\n",
        "dataloader_def_train = DataLoader(dataset_def_train, batch_size=batch_size, shuffle=False)\n",
        "dataloader_mid_train = DataLoader(dataset_mid_train, batch_size=batch_size, shuffle=False)\n",
        "dataloader_fwd_train = DataLoader(dataset_fwd_train, batch_size=batch_size, shuffle=False)\n",
        "\n",
        "dataloader_gk_valid = DataLoader(dataset_gk_valid, batch_size=batch_size, shuffle=False)\n",
        "dataloader_def_valid = DataLoader(dataset_def_valid, batch_size=batch_size, shuffle=False)\n",
        "dataloader_mid_valid = DataLoader(dataset_mid_valid, batch_size=batch_size, shuffle=False)\n",
        "dataloader_fwd_valid = DataLoader(dataset_fwd_valid, batch_size=batch_size, shuffle=False)"
      ]
    },
    {
      "cell_type": "code",
      "execution_count": 27,
      "id": "231626de-b520-4d08-a1c8-eeca06133061",
      "metadata": {
        "colab": {
          "base_uri": "https://localhost:8080/"
        },
        "id": "231626de-b520-4d08-a1c8-eeca06133061",
        "outputId": "e2317fcc-685e-40bd-86d3-b13db18e91a9"
      },
      "outputs": [
        {
          "output_type": "execute_result",
          "data": {
            "text/plain": [
              "(187, 18, 65, 85, 21)"
            ]
          },
          "metadata": {},
          "execution_count": 27
        }
      ],
      "source": [
        "len(dataloader_general_train), len(dataloader_gk_train), len(dataloader_def_train), len(dataloader_mid_train), len(dataloader_fwd_train)"
      ]
    },
    {
      "cell_type": "code",
      "source": [
        "len(dataloader_general_valid), len(dataloader_gk_valid), len(dataloader_def_valid), len(dataloader_mid_valid), len(dataloader_fwd_valid)"
      ],
      "metadata": {
        "colab": {
          "base_uri": "https://localhost:8080/"
        },
        "id": "RbftCpHBBhi6",
        "outputId": "c4293856-982d-4e5c-e3b6-bf9a8dcf6242"
      },
      "id": "RbftCpHBBhi6",
      "execution_count": 28,
      "outputs": [
        {
          "output_type": "execute_result",
          "data": {
            "text/plain": [
              "(18, 2, 7, 8, 2)"
            ]
          },
          "metadata": {},
          "execution_count": 28
        }
      ]
    },
    {
      "cell_type": "markdown",
      "id": "44290e57-5279-400f-bd5d-8bcbf0db2f99",
      "metadata": {
        "id": "44290e57-5279-400f-bd5d-8bcbf0db2f99"
      },
      "source": [
        "# LSTM Model"
      ]
    },
    {
      "cell_type": "code",
      "execution_count": 29,
      "id": "95c48496-4a3d-4dd6-a789-abb04d921dc6",
      "metadata": {
        "id": "95c48496-4a3d-4dd6-a789-abb04d921dc6"
      },
      "outputs": [],
      "source": [
        "class LSTMNetwork(nn.Module):\n",
        "    def __init__(self, input_size, hidden_size, num_layers, output_size, dropout=0.2):\n",
        "        super(LSTMNetwork, self).__init__()\n",
        "        self.lstm = nn.LSTM(input_size, hidden_size, num_layers, dropout=dropout)\n",
        "        self.fc = nn.Linear(hidden_size, output_size)\n",
        "\n",
        "    def forward(self, x):\n",
        "        x = torch.transpose(x, 0, 1)\n",
        "        # x = x.view(-1, batch_size)\n",
        "        # x = torch.transpose(x, 0, 1)\n",
        "        # print(\"FOR\", x.shape)\n",
        "        # print(x.shape)\n",
        "        # print(x.shape)\n",
        "        out, _ = self.lstm(x)\n",
        "        # print(out.shape)\n",
        "        out = self.fc(out[-1])\n",
        "        return out"
      ]
    },
    {
      "cell_type": "markdown",
      "id": "ca697492-5632-47ca-b7ef-7ef7f83f483e",
      "metadata": {
        "id": "ca697492-5632-47ca-b7ef-7ef7f83f483e"
      },
      "source": [
        "# Training loops"
      ]
    },
    {
      "cell_type": "code",
      "execution_count": 30,
      "id": "3e5d6365-866b-497d-9f3d-fff942c03266",
      "metadata": {
        "id": "3e5d6365-866b-497d-9f3d-fff942c03266"
      },
      "outputs": [],
      "source": [
        "criterion = nn.MSELoss()"
      ]
    },
    {
      "cell_type": "code",
      "execution_count": 31,
      "id": "3fc8e104-6c5d-4e09-a238-73e06346286b",
      "metadata": {
        "id": "3fc8e104-6c5d-4e09-a238-73e06346286b"
      },
      "outputs": [],
      "source": [
        "def train_net(net, num_epochs, dataloader_train, dataloader_valid, optimizer):\n",
        "    if len(dataloader_train) <= 0:\n",
        "        print(\"Dataloader has no elements\")\n",
        "        return []\n",
        "\n",
        "    best_model = None\n",
        "    best_val_loss = None\n",
        "\n",
        "    loss_history_train = []\n",
        "    loss_history_valid = []\n",
        "\n",
        "    for epoch in range(num_epochs):\n",
        "        running_loss_train = 0\n",
        "        running_loss_valid = 0\n",
        "\n",
        "        # training\n",
        "        for i, (inputs, targets) in enumerate(dataloader_train):\n",
        "            inputs = torch.flatten(inputs, 1, 2)\n",
        "            inputs = inputs.unsqueeze(2).to(device)\n",
        "            targets = targets.to(device)\n",
        "            # print(\"INPUTS\", inputs.shape)\n",
        "            # print(\"TARGETS\", targets.shape)\n",
        "            # print(targets)\n",
        "            optimizer.zero_grad()\n",
        "            outputs = net(inputs).flatten().to(device)\n",
        "            # print(\"OUTPUTS\", outputs.shape)\n",
        "            loss = criterion(outputs, targets)\n",
        "            running_loss_train += loss.item()\n",
        "            loss.backward()\n",
        "            optimizer.step()\n",
        "\n",
        "        with torch.no_grad():\n",
        "          # valid\n",
        "          for i, (inputs, targets) in enumerate(dataloader_valid):\n",
        "              inputs = torch.flatten(inputs, 1, 2)\n",
        "              inputs = inputs.unsqueeze(2).to(device)\n",
        "              targets = targets.to(device)\n",
        "              # print(\"INPUTS\", inputs.shape)\n",
        "              # print(\"TARGETS\", targets.shape)\n",
        "              # print(targets)\n",
        "              optimizer.zero_grad()\n",
        "              outputs = net(inputs).flatten().to(device)\n",
        "              # print(\"OUTPUTS\", outputs.shape)\n",
        "              loss = criterion(outputs, targets)\n",
        "              running_loss_valid += loss.item()\n",
        "\n",
        "        epoch_valid_loss = running_loss_valid / len(dataloader_valid)\n",
        "\n",
        "        loss_history_train.append(running_loss_train / len(dataloader_train))\n",
        "        loss_history_valid.append(epoch_valid_loss)\n",
        "\n",
        "        if not best_model or epoch_valid_loss < best_val_loss:\n",
        "            best_model = net\n",
        "            best_val_loss = epoch_valid_loss\n",
        "\n",
        "\n",
        "        if epoch % 5 == 0:\n",
        "            print(f'Epoch {epoch} Train: {running_loss_train / len(dataloader_train)} Valid: {running_loss_valid / len(dataloader_valid)}')\n",
        "    \n",
        "    return loss_history_train, loss_history_valid, best_model"
      ]
    },
    {
      "cell_type": "code",
      "execution_count": 32,
      "id": "c29562d5-abfe-4028-b09a-78d9fbdc5c64",
      "metadata": {
        "id": "c29562d5-abfe-4028-b09a-78d9fbdc5c64"
      },
      "outputs": [],
      "source": [
        "def plot_loss_history(loss_history_train, loss_history_valid):\n",
        "    plt.plot(loss_history_train, color='blue', label='Training Loss')\n",
        "    plt.plot(loss_history_valid, color='orange', label='Validation Loss')\n",
        "    plt.xlabel('Epoch')\n",
        "    plt.ylabel('Loss')\n",
        "    plt.legend()\n",
        "    plt.show()"
      ]
    },
    {
      "cell_type": "markdown",
      "id": "e6a2f684-5906-4cf1-8cd4-6f342fb3daf5",
      "metadata": {
        "id": "e6a2f684-5906-4cf1-8cd4-6f342fb3daf5"
      },
      "source": [
        "## Training loop - general net"
      ]
    },
    {
      "cell_type": "code",
      "execution_count": 33,
      "id": "8d1ac896-0465-4422-b291-a13f32f3d3b5",
      "metadata": {
        "colab": {
          "base_uri": "https://localhost:8080/"
        },
        "id": "8d1ac896-0465-4422-b291-a13f32f3d3b5",
        "outputId": "43387845-1c1f-4146-fe4c-ef3f1691cb7a"
      },
      "outputs": [
        {
          "output_type": "stream",
          "name": "stdout",
          "text": [
            "Epoch 0 Train: 9.059177205524342 Valid: 8.710018104977078\n",
            "Epoch 5 Train: 8.82690004677696 Valid: 8.724292172325981\n",
            "CPU times: user 1min 14s, sys: 2.68 s, total: 1min 16s\n",
            "Wall time: 1min 21s\n"
          ]
        }
      ],
      "source": [
        "%%time\n",
        "net = LSTMNetwork(1, 20, 2, 1, dropout=0.4).to(device)\n",
        "optimizer = optim.Adam(net.parameters(), lr=0.005)\n",
        "loss_history_train, loss_history_valid, best_model_general = train_net(net, 10, dataloader_general_train, dataloader_general_valid, optimizer)"
      ]
    },
    {
      "cell_type": "code",
      "execution_count": 34,
      "id": "ac88d75b-3cb0-4747-9efe-c498dd2efdd3",
      "metadata": {
        "colab": {
          "base_uri": "https://localhost:8080/",
          "height": 279
        },
        "id": "ac88d75b-3cb0-4747-9efe-c498dd2efdd3",
        "outputId": "5074b7d9-9b97-4be6-f1d5-11f274fb6039"
      },
      "outputs": [
        {
          "output_type": "display_data",
          "data": {
            "text/plain": [
              "<Figure size 432x288 with 1 Axes>"
            ],
            "image/png": "[encoded data removed]"
          },
          "metadata": {
            "needs_background": "light"
          }
        }
      ],
      "source": [
        "plot_loss_history(loss_history_train, loss_history_valid)"
      ]
    },
    {
      "cell_type": "markdown",
      "id": "8e1645fc-dd44-4891-a0db-8686d1ac588a",
      "metadata": {
        "id": "8e1645fc-dd44-4891-a0db-8686d1ac588a"
      },
      "source": [
        "## Training loop - goalkeeper net"
      ]
    },
    {
      "cell_type": "code",
      "source": [
        "net_gk = LSTMNetwork(1, 20, 2, 1, dropout=0.4).to(device)"
      ],
      "metadata": {
        "id": "p_HrS0-WL5oC"
      },
      "id": "p_HrS0-WL5oC",
      "execution_count": 35,
      "outputs": []
    },
    {
      "cell_type": "code",
      "execution_count": 36,
      "id": "85757dc2-113a-4a46-b17f-600293d87a90",
      "metadata": {
        "colab": {
          "base_uri": "https://localhost:8080/"
        },
        "id": "85757dc2-113a-4a46-b17f-600293d87a90",
        "outputId": "abaf8427-9466-450b-d6fc-db2dba8c1f8a"
      },
      "outputs": [
        {
          "output_type": "stream",
          "name": "stdout",
          "text": [
            "Epoch 0 Train: 13.226041197776794 Valid: 13.61018180847168\n",
            "CPU times: user 2.48 s, sys: 18.1 ms, total: 2.49 s\n",
            "Wall time: 2.5 s\n"
          ]
        }
      ],
      "source": [
        "%%time\n",
        "optimizer_gk = optim.Adam(net_gk.parameters(), lr=0.01)\n",
        "loss_history_gk_train, loss_history_gk_valid, best_model_gk = train_net(net_gk, 5, dataloader_gk_train, dataloader_gk_valid, optimizer_gk)"
      ]
    },
    {
      "cell_type": "code",
      "execution_count": 37,
      "id": "8ff0d12f-9099-4d9d-9d10-49dd81ec6a1c",
      "metadata": {
        "colab": {
          "base_uri": "https://localhost:8080/",
          "height": 282
        },
        "id": "8ff0d12f-9099-4d9d-9d10-49dd81ec6a1c",
        "outputId": "ba594361-cc1e-4930-c9da-1b70b4c4d1ce"
      },
      "outputs": [
        {
          "output_type": "display_data",
          "data": {
            "text/plain": [
              "<Figure size 432x288 with 1 Axes>"
            ],
            "image/png": "[encoded data removed]"
          },
          "metadata": {
            "needs_background": "light"
          }
        }
      ],
      "source": [
        "plot_loss_history(loss_history_gk_train, loss_history_gk_valid)"
      ]
    },
    {
      "cell_type": "markdown",
      "id": "a11943ae-8c43-4169-91a8-fd51445ac5b4",
      "metadata": {
        "id": "a11943ae-8c43-4169-91a8-fd51445ac5b4"
      },
      "source": [
        "## Training loop - defender net"
      ]
    },
    {
      "cell_type": "code",
      "source": [
        "net_def = LSTMNetwork(1, 20, 2, 1, dropout=0.4).to(device)"
      ],
      "metadata": {
        "id": "rcHl1HFoL3uy"
      },
      "id": "rcHl1HFoL3uy",
      "execution_count": 38,
      "outputs": []
    },
    {
      "cell_type": "code",
      "execution_count": 39,
      "id": "19b30491-7cf8-4572-abe0-388cb58de9b8",
      "metadata": {
        "colab": {
          "base_uri": "https://localhost:8080/"
        },
        "id": "19b30491-7cf8-4572-abe0-388cb58de9b8",
        "outputId": "f60e5176-4970-4c0f-dec6-8a893e5cb169"
      },
      "outputs": [
        {
          "output_type": "stream",
          "name": "stdout",
          "text": [
            "Epoch 0 Train: 8.86055102944374 Valid: 7.333229746137347\n",
            "CPU times: user 9.65 s, sys: 87.7 ms, total: 9.74 s\n",
            "Wall time: 11.1 s\n"
          ]
        }
      ],
      "source": [
        "%%time\n",
        "optimizer_def = optim.Adam(net_def.parameters(), lr=0.005)\n",
        "loss_history_def_train, loss_history_def_valid, best_model_def = train_net(net_def, 5, dataloader_def_train, dataloader_def_valid, optimizer_def)"
      ]
    },
    {
      "cell_type": "code",
      "execution_count": 40,
      "id": "a6ebe5b1-712d-46c4-a773-9782a9ae8689",
      "metadata": {
        "colab": {
          "base_uri": "https://localhost:8080/",
          "height": 279
        },
        "id": "a6ebe5b1-712d-46c4-a773-9782a9ae8689",
        "outputId": "e7f60c47-c8f7-4b1a-85f5-576820682abb"
      },
      "outputs": [
        {
          "output_type": "display_data",
          "data": {
            "text/plain": [
              "<Figure size 432x288 with 1 Axes>"
            ],
            "image/png": "[encoded data removed]"
          },
          "metadata": {
            "needs_background": "light"
          }
        }
      ],
      "source": [
        "plot_loss_history(loss_history_def_train, loss_history_def_valid)"
      ]
    },
    {
      "cell_type": "markdown",
      "id": "63c27abd-c720-4dff-bfe4-ad20a3d0a48e",
      "metadata": {
        "id": "63c27abd-c720-4dff-bfe4-ad20a3d0a48e"
      },
      "source": [
        "## Training loop - midfielder net"
      ]
    },
    {
      "cell_type": "code",
      "source": [
        "net_mid = LSTMNetwork(1, 20, 2, 1, dropout=0.4).to(device)"
      ],
      "metadata": {
        "id": "MmN-IwSvL1vO"
      },
      "id": "MmN-IwSvL1vO",
      "execution_count": 41,
      "outputs": []
    },
    {
      "cell_type": "code",
      "execution_count": 42,
      "id": "154a2ea8-d2f8-48c3-86fd-278be6c26475",
      "metadata": {
        "colab": {
          "base_uri": "https://localhost:8080/"
        },
        "id": "154a2ea8-d2f8-48c3-86fd-278be6c26475",
        "outputId": "acb7e7fd-6e7a-4c7d-9f82-c681b50c0760"
      },
      "outputs": [
        {
          "output_type": "stream",
          "name": "stdout",
          "text": [
            "Epoch 0 Train: 9.194421863555908 Valid: 6.260515183210373\n",
            "CPU times: user 13.5 s, sys: 131 ms, total: 13.7 s\n",
            "Wall time: 13.8 s\n"
          ]
        }
      ],
      "source": [
        "%%time\n",
        "optimizer_mid = optim.Adam(net_mid.parameters(), lr=0.005)\n",
        "loss_history_mid_train, loss_history_mid_valid, best_model_mid = train_net(net_mid, 5, dataloader_mid_train, dataloader_mid_valid, optimizer_mid)"
      ]
    },
    {
      "cell_type": "code",
      "execution_count": 43,
      "id": "fff0d3ef-bb1d-4d13-a192-3d76f129914f",
      "metadata": {
        "colab": {
          "base_uri": "https://localhost:8080/",
          "height": 279
        },
        "id": "fff0d3ef-bb1d-4d13-a192-3d76f129914f",
        "outputId": "611a9116-e2f1-4f70-882d-bd8f827a5273"
      },
      "outputs": [
        {
          "output_type": "display_data",
          "data": {
            "text/plain": [
              "<Figure size 432x288 with 1 Axes>"
            ],
            "image/png": "[encoded data removed]"
          },
          "metadata": {
            "needs_background": "light"
          }
        }
      ],
      "source": [
        "plot_loss_history(loss_history_mid_train, loss_history_mid_valid)"
      ]
    },
    {
      "cell_type": "markdown",
      "id": "01bca3ac-0da4-41eb-a3bb-5c4b14df2cc0",
      "metadata": {
        "id": "01bca3ac-0da4-41eb-a3bb-5c4b14df2cc0"
      },
      "source": [
        "## Training loop - forward net"
      ]
    },
    {
      "cell_type": "code",
      "source": [
        "net_fwd = LSTMNetwork(1, 20, 2, 1, dropout=0.4).to(device)"
      ],
      "metadata": {
        "id": "NTwS6zsfLxQ2"
      },
      "id": "NTwS6zsfLxQ2",
      "execution_count": 63,
      "outputs": []
    },
    {
      "cell_type": "code",
      "execution_count": 65,
      "id": "2bcb7afb-f3f1-4a81-bbea-6da2b512967d",
      "metadata": {
        "colab": {
          "base_uri": "https://localhost:8080/"
        },
        "id": "2bcb7afb-f3f1-4a81-bbea-6da2b512967d",
        "outputId": "302092f4-9f95-48ed-816f-649fc8add17c"
      },
      "outputs": [
        {
          "output_type": "stream",
          "name": "stdout",
          "text": [
            "Epoch 0 Train: 10.551581530343919 Valid: 14.793561935424805\n",
            "Epoch 5 Train: 9.660433678399949 Valid: 13.963804244995117\n",
            "Epoch 10 Train: 9.615373849868774 Valid: 13.08143663406372\n",
            "Epoch 15 Train: 10.558392206827799 Valid: 14.931299686431885\n",
            "Epoch 20 Train: 10.442449876240321 Valid: 14.76222562789917\n",
            "Epoch 25 Train: 10.520169757661366 Valid: 14.644909381866455\n",
            "Epoch 30 Train: 10.45535964057559 Valid: 14.576377868652344\n",
            "Epoch 35 Train: 10.521692276000977 Valid: 14.580259799957275\n",
            "Epoch 40 Train: 10.360145364488874 Valid: 14.605250835418701\n",
            "Epoch 45 Train: 9.944968064626059 Valid: 14.110407829284668\n",
            "Epoch 50 Train: 10.586949507395426 Valid: 14.460246562957764\n",
            "Epoch 55 Train: 10.541817358561925 Valid: 14.572772979736328\n",
            "Epoch 60 Train: 10.064090524400983 Valid: 13.484779834747314\n",
            "Epoch 65 Train: 10.638144209271385 Valid: 15.355066299438477\n",
            "Epoch 70 Train: 9.501048371905373 Valid: 14.216477870941162\n",
            "Epoch 75 Train: 9.324989250728063 Valid: 14.310420989990234\n",
            "Epoch 80 Train: 8.945516086760021 Valid: 13.911223411560059\n",
            "Epoch 85 Train: 9.19925838425046 Valid: 13.661269664764404\n",
            "Epoch 90 Train: 9.240263848077683 Valid: 13.180399894714355\n",
            "Epoch 95 Train: 8.799294312795004 Valid: 12.688200950622559\n",
            "Epoch 100 Train: 9.17395221619379 Valid: 12.535581588745117\n",
            "Epoch 105 Train: 8.4954001052039 Valid: 12.604523658752441\n",
            "Epoch 110 Train: 8.549879210335869 Valid: 13.114226341247559\n",
            "Epoch 115 Train: 8.995346341814313 Valid: 12.979782581329346\n",
            "Epoch 120 Train: 8.54189800080799 Valid: 12.932485580444336\n",
            "Epoch 125 Train: 8.320636896860032 Valid: 13.459511756896973\n",
            "Epoch 130 Train: 8.788599252700806 Valid: 13.63739538192749\n",
            "Epoch 135 Train: 8.473868307613191 Valid: 13.075915336608887\n",
            "Epoch 140 Train: 8.428288368951707 Valid: 13.069249629974365\n",
            "Epoch 145 Train: 8.536664440518333 Valid: 12.982564926147461\n",
            "Epoch 150 Train: 8.145889038131351 Valid: 12.965058326721191\n",
            "Epoch 155 Train: 8.257789509637016 Valid: 13.29368543624878\n",
            "Epoch 160 Train: 8.371837071010045 Valid: 13.90436315536499\n",
            "Epoch 165 Train: 8.185447108177911 Valid: 13.026823043823242\n",
            "Epoch 170 Train: 8.067604871023269 Valid: 13.95021677017212\n",
            "Epoch 175 Train: 8.00329167502267 Valid: 14.508842945098877\n",
            "Epoch 180 Train: 8.574857019242787 Valid: 14.034283638000488\n",
            "Epoch 185 Train: 8.41282482374282 Valid: 14.342039585113525\n",
            "Epoch 190 Train: 8.136619806289673 Valid: 14.648958206176758\n",
            "Epoch 195 Train: 8.094075117792402 Valid: 13.581806182861328\n",
            "Epoch 200 Train: 7.611460640316918 Valid: 14.54916524887085\n",
            "Epoch 205 Train: 7.748003380639212 Valid: 13.908047199249268\n",
            "Epoch 210 Train: 7.723071319716317 Valid: 13.82237958908081\n",
            "Epoch 215 Train: 7.312898879959469 Valid: 13.79888916015625\n",
            "Epoch 220 Train: 9.089778934206281 Valid: 14.28889799118042\n",
            "Epoch 225 Train: 7.512368928818476 Valid: 14.072949886322021\n",
            "Epoch 230 Train: 7.518456447692144 Valid: 14.229055881500244\n",
            "Epoch 235 Train: 7.1067531790052145 Valid: 16.52555561065674\n",
            "Epoch 240 Train: 7.039031448818388 Valid: 15.487386703491211\n",
            "Epoch 245 Train: 6.904278425943284 Valid: 14.419829845428467\n",
            "Epoch 250 Train: 7.467815268607366 Valid: 15.661766052246094\n",
            "Epoch 255 Train: 7.1450342791421075 Valid: 15.332639694213867\n",
            "Epoch 260 Train: 6.790310956182934 Valid: 16.985232830047607\n",
            "Epoch 265 Train: 6.572453703199114 Valid: 16.295401573181152\n",
            "Epoch 270 Train: 6.756834069887797 Valid: 16.15473461151123\n",
            "Epoch 275 Train: 6.562900384267171 Valid: 15.831356048583984\n",
            "Epoch 280 Train: 6.768494185947237 Valid: 17.676230430603027\n",
            "Epoch 285 Train: 6.254090490795317 Valid: 16.32332706451416\n",
            "Epoch 290 Train: 6.591074109077454 Valid: 19.003439903259277\n",
            "Epoch 295 Train: 5.893007204646156 Valid: 19.405890941619873\n",
            "Epoch 300 Train: 6.253818316119058 Valid: 16.908584117889404\n",
            "Epoch 305 Train: 5.792403380076091 Valid: 18.774662017822266\n",
            "Epoch 310 Train: 8.541996535800752 Valid: 16.32561731338501\n",
            "Epoch 315 Train: 7.863867413429987 Valid: 14.7727689743042\n",
            "Epoch 320 Train: 6.975655629521325 Valid: 18.151663780212402\n",
            "Epoch 325 Train: 6.635910227185204 Valid: 16.674946308135986\n",
            "Epoch 330 Train: 6.794971329825265 Valid: 16.45423460006714\n",
            "Epoch 335 Train: 6.316642542680104 Valid: 18.27992534637451\n",
            "Epoch 340 Train: 6.411855657895406 Valid: 18.224146842956543\n",
            "Epoch 345 Train: 6.189489807401385 Valid: 18.48429584503174\n",
            "Epoch 350 Train: 5.314703492891221 Valid: 13.25766658782959\n",
            "Epoch 355 Train: 5.30830226625715 Valid: 16.177146434783936\n",
            "Epoch 360 Train: 5.766562132608323 Valid: 13.079856872558594\n",
            "Epoch 365 Train: 5.28508798849015 Valid: 13.549603462219238\n",
            "Epoch 370 Train: 4.916430853662037 Valid: 17.020857334136963\n",
            "Epoch 375 Train: 6.586167159534636 Valid: 18.27336359024048\n",
            "Epoch 380 Train: 5.6151621284939 Valid: 14.278071403503418\n",
            "Epoch 385 Train: 5.5725125925881525 Valid: 16.065359592437744\n",
            "Epoch 390 Train: 5.437247662317185 Valid: 19.379772186279297\n",
            "Epoch 395 Train: 4.7868443330128985 Valid: 17.36976146697998\n",
            "Epoch 400 Train: 4.411581607091994 Valid: 19.18503475189209\n",
            "Epoch 405 Train: 4.473190301940555 Valid: 21.798521995544434\n",
            "Epoch 410 Train: 3.8081381888616654 Valid: 21.732257843017578\n",
            "Epoch 415 Train: 4.5059554406574795 Valid: 17.00201940536499\n",
            "Epoch 420 Train: 4.3546925101961405 Valid: 19.199471473693848\n",
            "Epoch 425 Train: 6.6435283706301735 Valid: 19.385565757751465\n",
            "Epoch 430 Train: 5.3721535205841064 Valid: 16.969966888427734\n",
            "Epoch 435 Train: 4.312654955046518 Valid: 16.17904043197632\n",
            "Epoch 440 Train: 4.21727576709929 Valid: 21.761387825012207\n",
            "Epoch 445 Train: 3.813551671448208 Valid: 18.790048599243164\n",
            "Epoch 450 Train: 3.7652651014782132 Valid: 20.553997039794922\n",
            "Epoch 455 Train: 3.8556712638764155 Valid: 20.099170684814453\n",
            "Epoch 460 Train: 4.370441198348999 Valid: 20.544626235961914\n",
            "Epoch 465 Train: 3.7178173576082503 Valid: 17.551708698272705\n",
            "Epoch 470 Train: 3.589403529961904 Valid: 19.849109649658203\n",
            "Epoch 475 Train: 3.2809508471261886 Valid: 22.034887313842773\n",
            "Epoch 480 Train: 4.140605418455033 Valid: 16.647160053253174\n",
            "Epoch 485 Train: 3.081586996714274 Valid: 22.59939479827881\n",
            "Epoch 490 Train: 4.143790781497955 Valid: 18.626222133636475\n",
            "Epoch 495 Train: 3.181312912986392 Valid: 26.613823890686035\n",
            "CPU times: user 4min 44s, sys: 2.89 s, total: 4min 46s\n",
            "Wall time: 4min 50s\n"
          ]
        }
      ],
      "source": [
        "%%time\n",
        "optimizer_fwd = optim.Adam(net_fwd.parameters(), lr=0.005)\n",
        "loss_history_fwd_train, loss_history_fwd_valid, best_model_fwd = train_net(net_fwd, 500, dataloader_fwd_train, dataloader_fwd_valid, optimizer_fwd)"
      ]
    },
    {
      "cell_type": "code",
      "execution_count": 66,
      "id": "b4915930-85c2-475e-8af8-820f1d32f5c1",
      "metadata": {
        "colab": {
          "base_uri": "https://localhost:8080/",
          "height": 279
        },
        "id": "b4915930-85c2-475e-8af8-820f1d32f5c1",
        "outputId": "c9aaaa65-87aa-4cca-e010-d77d2867eeb4"
      },
      "outputs": [
        {
          "output_type": "display_data",
          "data": {
            "text/plain": [
              "<Figure size 432x288 with 1 Axes>"
            ],
            "image/png": "[encoded data removed]"
          },
          "metadata": {
            "needs_background": "light"
          }
        }
      ],
      "source": [
        "plot_loss_history(loss_history_fwd_train, loss_history_fwd_valid)"
      ]
    },
    {
      "cell_type": "markdown",
      "source": [
        "# Saving models to files"
      ],
      "metadata": {
        "id": "aEg01NBwVZu8"
      },
      "id": "aEg01NBwVZu8"
    },
    {
      "cell_type": "code",
      "source": [
        "# general model\n",
        "torch.save(net.state_dict(), 'models/lstm_general.pt')\n",
        "\n",
        "# positional models\n",
        "torch.save(net_gk.state_dict(), 'models/lstm_gk.pt')\n",
        "torch.save(net_def.state_dict(), 'models/lstm_def.pt')\n",
        "torch.save(net_mid.state_dict(), 'models/lstm_mid.pt')\n",
        "torch.save(net_fwd.state_dict(), 'models/lstm_fwd.pt')"
      ],
      "metadata": {
        "id": "qHSzIWHFVbX3"
      },
      "id": "qHSzIWHFVbX3",
      "execution_count": 47,
      "outputs": []
    },
    {
      "cell_type": "markdown",
      "id": "222c6cfd-5148-4793-a9f7-6dfa76115a68",
      "metadata": {
        "id": "222c6cfd-5148-4793-a9f7-6dfa76115a68"
      },
      "source": [
        "# Predictions - general model"
      ]
    },
    {
      "cell_type": "code",
      "execution_count": 48,
      "id": "3c0aef7e-f7d8-4337-8cd8-f88afab90872",
      "metadata": {
        "id": "3c0aef7e-f7d8-4337-8cd8-f88afab90872"
      },
      "outputs": [],
      "source": [
        "def generate_predictions(dataloader_pos, dataset_pos, net_pos, df_original, first_gw):\n",
        "    index = 0\n",
        "    predictions_pos = []\n",
        "    for inputs, target in dataloader_pos:\n",
        "        inputs = torch.flatten(inputs, 1, 2)\n",
        "        inputs = inputs.unsqueeze(2).to(device)\n",
        "\n",
        "        # print(\"Inputs\", inputs)\n",
        "        # print(\"Target\", target)\n",
        "        # print(\"INPUTS\", inputs)\n",
        "        # print(inputs)\n",
        "        outputs = net_pos(inputs).to(device)\n",
        "        # print(\"OUTPUTS\", outputs)\n",
        "        for output in outputs:\n",
        "            player_id, sample_id = dataset_pos.index_table[index]\n",
        "            name = dataset_pos.names[player_id]\n",
        "            points = round(output.item(), 2)\n",
        "            # print(\"DFORW NEXT\", player_id, sample_id, name, points)\n",
        "            df_row = df_original[(df_original[\"Name\"] == name) & (df_original[\"GW\"] >= first_gw)].iloc[sample_id]\n",
        "            # print(\"DFROW\", df_row)\n",
        "            df_row[\"Points\"] = points\n",
        "            df_gw = df_row[\"GW\"]\n",
        "            df_opp = df_row[\"Opponent\"]\n",
        "\n",
        "            # print(\"GEN PRED\", player_id, sample_id, name, points, df_gw, df_opp)\n",
        "            \n",
        "            gw = sample_id + FIS + 1 # wrong\n",
        "            predictions_pos.append(df_row)\n",
        "            # df.loc[(df[\"Name\"] == name) & (df[\"GW\"] == gw), \"LSTM\"] = points\n",
        "            index += 1\n",
        "    \n",
        "    output_df = pd.DataFrame(predictions_pos)\n",
        "    output_df = output_df.loc[:, ~output_df.columns.str.contains('^Unnamed')]\n",
        "    return output_df"
      ]
    },
    {
      "cell_type": "code",
      "source": [
        "prediction_columns = [\"Name\", \"GW\", \"Opponent\", \"Was Home\", \"Total Points\", \"Points\"]"
      ],
      "metadata": {
        "id": "4oNphdyqzFsE"
      },
      "id": "4oNphdyqzFsE",
      "execution_count": 49,
      "outputs": []
    },
    {
      "cell_type": "code",
      "source": [
        "predictions = generate_predictions(dataloader_general_valid, dataset_general_valid, net, df_original, FIRST_VALID_GW)"
      ],
      "metadata": {
        "id": "ZOJBQIAXMqIV"
      },
      "id": "ZOJBQIAXMqIV",
      "execution_count": 50,
      "outputs": []
    },
    {
      "cell_type": "code",
      "source": [
        "# dataset_general_valid.__getitem__(279)"
      ],
      "metadata": {
        "id": "Nb5LI03pbVe1"
      },
      "id": "Nb5LI03pbVe1",
      "execution_count": 51,
      "outputs": []
    },
    {
      "cell_type": "code",
      "source": [
        "predictions.sort_values(by=[\"Points\"], ascending = False).head(20)[prediction_columns]"
      ],
      "metadata": {
        "colab": {
          "base_uri": "https://localhost:8080/",
          "height": 677
        },
        "id": "i00d2_cSHh5u",
        "outputId": "ba35f45a-3c8a-45e2-fe51-e5b8e3a06ec3"
      },
      "id": "i00d2_cSHh5u",
      "execution_count": 52,
      "outputs": [
        {
          "output_type": "execute_result",
          "data": {
            "text/plain": [
              "                     Name  GW         Opponent  Was Home  Total Points  Points\n",
              "5667     Andrew-Robertson  21          Chelsea       1.0           6.0    2.83\n",
              "5895          Bukayo-Saka  21   Manchester Utd       1.0           9.0    2.83\n",
              "1792           Ruben-Dias  21           Wolves       1.0           0.0    2.83\n",
              "959            Hugo-Bueno  21  Manchester City       0.0           1.0    2.83\n",
              "1498    Philippe-Coutinho  21      Southampton       0.0           1.0    2.83\n",
              "675          Gavin-Bazunu  21      Aston Villa       1.0           3.0    2.83\n",
              "1377       Nathan-Collins  21  Manchester City       0.0           1.0    2.83\n",
              "6714           Ivan-Toney  21     Leeds United       0.0           1.0    2.83\n",
              "5537             Tim-Ream  21        Tottenham       1.0           2.0    2.82\n",
              "5252      Andreas-Pereira  21        Tottenham       1.0           2.0    2.82\n",
              "2558         David-de-Gea  21          Arsenal       0.0           1.0    2.82\n",
              "2528   Alejandro-Garnacho  21          Arsenal       0.0           1.0    2.82\n",
              "2511   Idrissa-Gana-Gueye  21         West Ham       0.0           2.0    2.82\n",
              "5420         Dennis-Praet  21         Brighton       1.0           1.0    2.82\n",
              "5476         Jacob-Ramsey  21      Southampton       0.0           3.0    2.82\n",
              "5496      Marcus-Rashford  21          Arsenal       0.0           7.0    2.82\n",
              "2166              Emerson  21           Fulham       0.0           9.0    2.82\n",
              "5558        Harrison-Reed  21        Tottenham       1.0           2.0    2.82\n",
              "2185    Christian-Eriksen  21          Arsenal       0.0           2.0    2.82\n",
              "2148  Mohamed-Elyounoussi  21      Aston Villa       1.0           1.0    2.82"
            ],
            "text/html": [
              "\n",
              "  <div id=\"df-8b653c8c-a755-4ea6-82b6-56e75336e4c5\">\n",
              "    <div class=\"colab-df-container\">\n",
              "      <div>\n",
              "<style scoped>\n",
              "    .dataframe tbody tr th:only-of-type {\n",
              "        vertical-align: middle;\n",
              "    }\n",
              "\n",
              "    .dataframe tbody tr th {\n",
              "        vertical-align: top;\n",
              "    }\n",
              "\n",
              "    .dataframe thead th {\n",
              "        text-align: right;\n",
              "    }\n",
              "</style>\n",
              "<table border=\"1\" class=\"dataframe\">\n",
              "  <thead>\n",
              "    <tr style=\"text-align: right;\">\n",
              "      <th></th>\n",
              "      <th>Name</th>\n",
              "      <th>GW</th>\n",
              "      <th>Opponent</th>\n",
              "      <th>Was Home</th>\n",
              "      <th>Total Points</th>\n",
              "      <th>Points</th>\n",
              "    </tr>\n",
              "  </thead>\n",
              "  <tbody>\n",
              "    <tr>\n",
              "      <th>5667</th>\n",
              "      <td>Andrew-Robertson</td>\n",
              "      <td>21</td>\n",
              "      <td>Chelsea</td>\n",
              "      <td>1.0</td>\n",
              "      <td>6.0</td>\n",
              "      <td>2.83</td>\n",
              "    </tr>\n",
              "    <tr>\n",
              "      <th>5895</th>\n",
              "      <td>Bukayo-Saka</td>\n",
              "      <td>21</td>\n",
              "      <td>Manchester Utd</td>\n",
              "      <td>1.0</td>\n",
              "      <td>9.0</td>\n",
              "      <td>2.83</td>\n",
              "    </tr>\n",
              "    <tr>\n",
              "      <th>1792</th>\n",
              "      <td>Ruben-Dias</td>\n",
              "      <td>21</td>\n",
              "      <td>Wolves</td>\n",
              "      <td>1.0</td>\n",
              "      <td>0.0</td>\n",
              "      <td>2.83</td>\n",
              "    </tr>\n",
              "    <tr>\n",
              "      <th>959</th>\n",
              "      <td>Hugo-Bueno</td>\n",
              "      <td>21</td>\n",
              "      <td>Manchester City</td>\n",
              "      <td>0.0</td>\n",
              "      <td>1.0</td>\n",
              "      <td>2.83</td>\n",
              "    </tr>\n",
              "    <tr>\n",
              "      <th>1498</th>\n",
              "      <td>Philippe-Coutinho</td>\n",
              "      <td>21</td>\n",
              "      <td>Southampton</td>\n",
              "      <td>0.0</td>\n",
              "      <td>1.0</td>\n",
              "      <td>2.83</td>\n",
              "    </tr>\n",
              "    <tr>\n",
              "      <th>675</th>\n",
              "      <td>Gavin-Bazunu</td>\n",
              "      <td>21</td>\n",
              "      <td>Aston Villa</td>\n",
              "      <td>1.0</td>\n",
              "      <td>3.0</td>\n",
              "      <td>2.83</td>\n",
              "    </tr>\n",
              "    <tr>\n",
              "      <th>1377</th>\n",
              "      <td>Nathan-Collins</td>\n",
              "      <td>21</td>\n",
              "      <td>Manchester City</td>\n",
              "      <td>0.0</td>\n",
              "      <td>1.0</td>\n",
              "      <td>2.83</td>\n",
              "    </tr>\n",
              "    <tr>\n",
              "      <th>6714</th>\n",
              "      <td>Ivan-Toney</td>\n",
              "      <td>21</td>\n",
              "      <td>Leeds United</td>\n",
              "      <td>0.0</td>\n",
              "      <td>1.0</td>\n",
              "      <td>2.83</td>\n",
              "    </tr>\n",
              "    <tr>\n",
              "      <th>5537</th>\n",
              "      <td>Tim-Ream</td>\n",
              "      <td>21</td>\n",
              "      <td>Tottenham</td>\n",
              "      <td>1.0</td>\n",
              "      <td>2.0</td>\n",
              "      <td>2.82</td>\n",
              "    </tr>\n",
              "    <tr>\n",
              "      <th>5252</th>\n",
              "      <td>Andreas-Pereira</td>\n",
              "      <td>21</td>\n",
              "      <td>Tottenham</td>\n",
              "      <td>1.0</td>\n",
              "      <td>2.0</td>\n",
              "      <td>2.82</td>\n",
              "    </tr>\n",
              "    <tr>\n",
              "      <th>2558</th>\n",
              "      <td>David-de-Gea</td>\n",
              "      <td>21</td>\n",
              "      <td>Arsenal</td>\n",
              "      <td>0.0</td>\n",
              "      <td>1.0</td>\n",
              "      <td>2.82</td>\n",
              "    </tr>\n",
              "    <tr>\n",
              "      <th>2528</th>\n",
              "      <td>Alejandro-Garnacho</td>\n",
              "      <td>21</td>\n",
              "      <td>Arsenal</td>\n",
              "      <td>0.0</td>\n",
              "      <td>1.0</td>\n",
              "      <td>2.82</td>\n",
              "    </tr>\n",
              "    <tr>\n",
              "      <th>2511</th>\n",
              "      <td>Idrissa-Gana-Gueye</td>\n",
              "      <td>21</td>\n",
              "      <td>West Ham</td>\n",
              "      <td>0.0</td>\n",
              "      <td>2.0</td>\n",
              "      <td>2.82</td>\n",
              "    </tr>\n",
              "    <tr>\n",
              "      <th>5420</th>\n",
              "      <td>Dennis-Praet</td>\n",
              "      <td>21</td>\n",
              "      <td>Brighton</td>\n",
              "      <td>1.0</td>\n",
              "      <td>1.0</td>\n",
              "      <td>2.82</td>\n",
              "    </tr>\n",
              "    <tr>\n",
              "      <th>5476</th>\n",
              "      <td>Jacob-Ramsey</td>\n",
              "      <td>21</td>\n",
              "      <td>Southampton</td>\n",
              "      <td>0.0</td>\n",
              "      <td>3.0</td>\n",
              "      <td>2.82</td>\n",
              "    </tr>\n",
              "    <tr>\n",
              "      <th>5496</th>\n",
              "      <td>Marcus-Rashford</td>\n",
              "      <td>21</td>\n",
              "      <td>Arsenal</td>\n",
              "      <td>0.0</td>\n",
              "      <td>7.0</td>\n",
              "      <td>2.82</td>\n",
              "    </tr>\n",
              "    <tr>\n",
              "      <th>2166</th>\n",
              "      <td>Emerson</td>\n",
              "      <td>21</td>\n",
              "      <td>Fulham</td>\n",
              "      <td>0.0</td>\n",
              "      <td>9.0</td>\n",
              "      <td>2.82</td>\n",
              "    </tr>\n",
              "    <tr>\n",
              "      <th>5558</th>\n",
              "      <td>Harrison-Reed</td>\n",
              "      <td>21</td>\n",
              "      <td>Tottenham</td>\n",
              "      <td>1.0</td>\n",
              "      <td>2.0</td>\n",
              "      <td>2.82</td>\n",
              "    </tr>\n",
              "    <tr>\n",
              "      <th>2185</th>\n",
              "      <td>Christian-Eriksen</td>\n",
              "      <td>21</td>\n",
              "      <td>Arsenal</td>\n",
              "      <td>0.0</td>\n",
              "      <td>2.0</td>\n",
              "      <td>2.82</td>\n",
              "    </tr>\n",
              "    <tr>\n",
              "      <th>2148</th>\n",
              "      <td>Mohamed-Elyounoussi</td>\n",
              "      <td>21</td>\n",
              "      <td>Aston Villa</td>\n",
              "      <td>1.0</td>\n",
              "      <td>1.0</td>\n",
              "      <td>2.82</td>\n",
              "    </tr>\n",
              "  </tbody>\n",
              "</table>\n",
              "</div>\n",
              "      <button class=\"colab-df-convert\" onclick=\"convertToInteractive('df-8b653c8c-a755-4ea6-82b6-56e75336e4c5')\"\n",
              "              title=\"Convert this dataframe to an interactive table.\"\n",
              "              style=\"display:none;\">\n",
              "        \n",
              "  <svg xmlns=\"http://www.w3.org/2000/svg\" height=\"24px\"viewBox=\"0 0 24 24\"\n",
              "       width=\"24px\">\n",
              "    <path d=\"M0 0h24v24H0V0z\" fill=\"none\"/>\n",
              "    <path d=\"M18.56 5.44l.94 2.06.94-2.06 2.06-.94-2.06-.94-.94-2.06-.94 2.06-2.06.94zm-11 1L8.5 8.5l.94-2.06 2.06-.94-2.06-.94L8.5 2.5l-.94 2.06-2.06.94zm10 10l.94 2.06.94-2.06 2.06-.94-2.06-.94-.94-2.06-.94 2.06-2.06.94z\"/><path d=\"M17.41 7.96l-1.37-1.37c-.4-.4-.92-.59-1.43-.59-.52 0-1.04.2-1.43.59L10.3 9.45l-7.72 7.72c-.78.78-.78 2.05 0 2.83L4 21.41c.39.39.9.59 1.41.59.51 0 1.02-.2 1.41-.59l7.78-7.78 2.81-2.81c.8-.78.8-2.07 0-2.86zM5.41 20L4 18.59l7.72-7.72 1.47 1.35L5.41 20z\"/>\n",
              "  </svg>\n",
              "      </button>\n",
              "      \n",
              "  <style>\n",
              "    .colab-df-container {\n",
              "      display:flex;\n",
              "      flex-wrap:wrap;\n",
              "      gap: 12px;\n",
              "    }\n",
              "\n",
              "    .colab-df-convert {\n",
              "      background-color: #E8F0FE;\n",
              "      border: none;\n",
              "      border-radius: 50%;\n",
              "      cursor: pointer;\n",
              "      display: none;\n",
              "      fill: #1967D2;\n",
              "      height: 32px;\n",
              "      padding: 0 0 0 0;\n",
              "      width: 32px;\n",
              "    }\n",
              "\n",
              "    .colab-df-convert:hover {\n",
              "      background-color: #E2EBFA;\n",
              "      box-shadow: 0px 1px 2px rgba(60, 64, 67, 0.3), 0px 1px 3px 1px rgba(60, 64, 67, 0.15);\n",
              "      fill: #174EA6;\n",
              "    }\n",
              "\n",
              "    [theme=dark] .colab-df-convert {\n",
              "      background-color: #3B4455;\n",
              "      fill: #D2E3FC;\n",
              "    }\n",
              "\n",
              "    [theme=dark] .colab-df-convert:hover {\n",
              "      background-color: #434B5C;\n",
              "      box-shadow: 0px 1px 3px 1px rgba(0, 0, 0, 0.15);\n",
              "      filter: drop-shadow(0px 1px 2px rgba(0, 0, 0, 0.3));\n",
              "      fill: #FFFFFF;\n",
              "    }\n",
              "  </style>\n",
              "\n",
              "      <script>\n",
              "        const buttonEl =\n",
              "          document.querySelector('#df-8b653c8c-a755-4ea6-82b6-56e75336e4c5 button.colab-df-convert');\n",
              "        buttonEl.style.display =\n",
              "          google.colab.kernel.accessAllowed ? 'block' : 'none';\n",
              "\n",
              "        async function convertToInteractive(key) {\n",
              "          const element = document.querySelector('#df-8b653c8c-a755-4ea6-82b6-56e75336e4c5');\n",
              "          const dataTable =\n",
              "            await google.colab.kernel.invokeFunction('convertToInteractive',\n",
              "                                                     [key], {});\n",
              "          if (!dataTable) return;\n",
              "\n",
              "          const docLinkHtml = 'Like what you see? Visit the ' +\n",
              "            '<a target=\"_blank\" href=https://colab.research.google.com/notebooks/data_table.ipynb>data table notebook</a>'\n",
              "            + ' to learn more about interactive tables.';\n",
              "          element.innerHTML = '';\n",
              "          dataTable['output_type'] = 'display_data';\n",
              "          await google.colab.output.renderOutput(dataTable, element);\n",
              "          const docLink = document.createElement('div');\n",
              "          docLink.innerHTML = docLinkHtml;\n",
              "          element.appendChild(docLink);\n",
              "        }\n",
              "      </script>\n",
              "    </div>\n",
              "  </div>\n",
              "  "
            ]
          },
          "metadata": {},
          "execution_count": 52
        }
      ]
    },
    {
      "cell_type": "code",
      "execution_count": 53,
      "id": "297cfbd4-0fbe-46b4-9fc4-d79eeaadf70d",
      "metadata": {
        "id": "297cfbd4-0fbe-46b4-9fc4-d79eeaadf70d"
      },
      "outputs": [],
      "source": [
        "# # appending results to original df\n",
        "# for df_gw, df_opp, name, gw, points in predictions:\n",
        "#     df_original.loc[(df_original[\"Name\"] == name) & (df[\"GW\"] == gw), \"LSTM\"] = points"
      ]
    },
    {
      "cell_type": "code",
      "execution_count": 54,
      "id": "ce5882f0-aff6-4ae9-9cba-8b4e816bec07",
      "metadata": {
        "id": "ce5882f0-aff6-4ae9-9cba-8b4e816bec07"
      },
      "outputs": [],
      "source": [
        "# df_original.to_csv(\"data/fpl_fbref_elo_lstm.csv\")"
      ]
    },
    {
      "cell_type": "markdown",
      "id": "07f29a9a-1341-4a6f-a3eb-10685dfb6b0d",
      "metadata": {
        "id": "07f29a9a-1341-4a6f-a3eb-10685dfb6b0d"
      },
      "source": [
        "# Predictions for each position"
      ]
    },
    {
      "cell_type": "markdown",
      "id": "a59960f5-efe3-453f-97de-8973cf73ee70",
      "metadata": {
        "id": "a59960f5-efe3-453f-97de-8973cf73ee70"
      },
      "source": [
        "## Goalkeepers"
      ]
    },
    {
      "cell_type": "code",
      "execution_count": 55,
      "id": "de13487b-b45b-43fb-9c94-9dc91033ddd9",
      "metadata": {
        "id": "de13487b-b45b-43fb-9c94-9dc91033ddd9"
      },
      "outputs": [],
      "source": [
        "predictions_gk = generate_predictions(dataloader_gk_valid, dataset_gk_valid, net_gk, df_gk_original, FIRST_VALID_GW)"
      ]
    },
    {
      "cell_type": "code",
      "execution_count": 56,
      "id": "df13c078-9794-4a74-bafc-4826e352394d",
      "metadata": {
        "id": "df13c078-9794-4a74-bafc-4826e352394d",
        "colab": {
          "base_uri": "https://localhost:8080/",
          "height": 677
        },
        "outputId": "fcf2b617-7bed-4065-e98f-0e97409da44b"
      },
      "outputs": [
        {
          "output_type": "execute_result",
          "data": {
            "text/plain": [
              "                   Name  GW         Opponent  Was Home  Total Points  Points\n",
              "4000        Hugo-Lloris  21           Fulham       0.0           9.0    3.14\n",
              "5066        Robin-Olsen  21      Southampton       0.0           0.0    3.13\n",
              "3052    Wayne-Hennessey  21      Bournemouth       0.0           2.0    3.12\n",
              "2047            Ederson  21           Wolves       1.0           6.0    3.11\n",
              "391     Alphonse-Areola  21          Everton       1.0           0.0    3.10\n",
              "2252   Lukasz-Fabianski  21          Everton       1.0           6.0    3.10\n",
              "3862         Bernd-Leno  21        Tottenham       1.0           2.0    3.10\n",
              "2558       David-de-Gea  21          Arsenal       0.0           1.0    3.09\n",
              "4603      Illan-Meslier  21        Brentford       1.0           6.0    3.08\n",
              "214             Alisson  21          Chelsea       1.0           9.0    3.08\n",
              "7030         Danny-Ward  21         Brighton       1.0           1.0    3.07\n",
              "6011     Robert-Sanchez  21   Leicester City       0.0           1.0    3.05\n",
              "4335  Emiliano-Martinez  21      Southampton       0.0          10.0    3.04\n",
              "5403          Nick-Pope  21   Crystal Palace       0.0           6.0    3.04\n",
              "467   Kepa-Arrizabalaga  21        Liverpool       0.0           9.0    3.03\n",
              "5516         David-Raya  21     Leeds United       0.0          10.0    3.03\n",
              "5863            Jose-Sa  21  Manchester City       0.0           2.0    3.03\n",
              "2806     Vicente-Guaita  21    Newcastle Utd       1.0          10.0    3.02\n",
              "5351    Jordan-Pickford  21         West Ham       0.0           1.0    3.01\n",
              "675        Gavin-Bazunu  21      Aston Villa       1.0           3.0    2.99"
            ],
            "text/html": [
              "\n",
              "  <div id=\"df-ac21bc9e-945d-4b9b-9cf8-e80bfd903d4e\">\n",
              "    <div class=\"colab-df-container\">\n",
              "      <div>\n",
              "<style scoped>\n",
              "    .dataframe tbody tr th:only-of-type {\n",
              "        vertical-align: middle;\n",
              "    }\n",
              "\n",
              "    .dataframe tbody tr th {\n",
              "        vertical-align: top;\n",
              "    }\n",
              "\n",
              "    .dataframe thead th {\n",
              "        text-align: right;\n",
              "    }\n",
              "</style>\n",
              "<table border=\"1\" class=\"dataframe\">\n",
              "  <thead>\n",
              "    <tr style=\"text-align: right;\">\n",
              "      <th></th>\n",
              "      <th>Name</th>\n",
              "      <th>GW</th>\n",
              "      <th>Opponent</th>\n",
              "      <th>Was Home</th>\n",
              "      <th>Total Points</th>\n",
              "      <th>Points</th>\n",
              "    </tr>\n",
              "  </thead>\n",
              "  <tbody>\n",
              "    <tr>\n",
              "      <th>4000</th>\n",
              "      <td>Hugo-Lloris</td>\n",
              "      <td>21</td>\n",
              "      <td>Fulham</td>\n",
              "      <td>0.0</td>\n",
              "      <td>9.0</td>\n",
              "      <td>3.14</td>\n",
              "    </tr>\n",
              "    <tr>\n",
              "      <th>5066</th>\n",
              "      <td>Robin-Olsen</td>\n",
              "      <td>21</td>\n",
              "      <td>Southampton</td>\n",
              "      <td>0.0</td>\n",
              "      <td>0.0</td>\n",
              "      <td>3.13</td>\n",
              "    </tr>\n",
              "    <tr>\n",
              "      <th>3052</th>\n",
              "      <td>Wayne-Hennessey</td>\n",
              "      <td>21</td>\n",
              "      <td>Bournemouth</td>\n",
              "      <td>0.0</td>\n",
              "      <td>2.0</td>\n",
              "      <td>3.12</td>\n",
              "    </tr>\n",
              "    <tr>\n",
              "      <th>2047</th>\n",
              "      <td>Ederson</td>\n",
              "      <td>21</td>\n",
              "      <td>Wolves</td>\n",
              "      <td>1.0</td>\n",
              "      <td>6.0</td>\n",
              "      <td>3.11</td>\n",
              "    </tr>\n",
              "    <tr>\n",
              "      <th>391</th>\n",
              "      <td>Alphonse-Areola</td>\n",
              "      <td>21</td>\n",
              "      <td>Everton</td>\n",
              "      <td>1.0</td>\n",
              "      <td>0.0</td>\n",
              "      <td>3.10</td>\n",
              "    </tr>\n",
              "    <tr>\n",
              "      <th>2252</th>\n",
              "      <td>Lukasz-Fabianski</td>\n",
              "      <td>21</td>\n",
              "      <td>Everton</td>\n",
              "      <td>1.0</td>\n",
              "      <td>6.0</td>\n",
              "      <td>3.10</td>\n",
              "    </tr>\n",
              "    <tr>\n",
              "      <th>3862</th>\n",
              "      <td>Bernd-Leno</td>\n",
              "      <td>21</td>\n",
              "      <td>Tottenham</td>\n",
              "      <td>1.0</td>\n",
              "      <td>2.0</td>\n",
              "      <td>3.10</td>\n",
              "    </tr>\n",
              "    <tr>\n",
              "      <th>2558</th>\n",
              "      <td>David-de-Gea</td>\n",
              "      <td>21</td>\n",
              "      <td>Arsenal</td>\n",
              "      <td>0.0</td>\n",
              "      <td>1.0</td>\n",
              "      <td>3.09</td>\n",
              "    </tr>\n",
              "    <tr>\n",
              "      <th>4603</th>\n",
              "      <td>Illan-Meslier</td>\n",
              "      <td>21</td>\n",
              "      <td>Brentford</td>\n",
              "      <td>1.0</td>\n",
              "      <td>6.0</td>\n",
              "      <td>3.08</td>\n",
              "    </tr>\n",
              "    <tr>\n",
              "      <th>214</th>\n",
              "      <td>Alisson</td>\n",
              "      <td>21</td>\n",
              "      <td>Chelsea</td>\n",
              "      <td>1.0</td>\n",
              "      <td>9.0</td>\n",
              "      <td>3.08</td>\n",
              "    </tr>\n",
              "    <tr>\n",
              "      <th>7030</th>\n",
              "      <td>Danny-Ward</td>\n",
              "      <td>21</td>\n",
              "      <td>Brighton</td>\n",
              "      <td>1.0</td>\n",
              "      <td>1.0</td>\n",
              "      <td>3.07</td>\n",
              "    </tr>\n",
              "    <tr>\n",
              "      <th>6011</th>\n",
              "      <td>Robert-Sanchez</td>\n",
              "      <td>21</td>\n",
              "      <td>Leicester City</td>\n",
              "      <td>0.0</td>\n",
              "      <td>1.0</td>\n",
              "      <td>3.05</td>\n",
              "    </tr>\n",
              "    <tr>\n",
              "      <th>4335</th>\n",
              "      <td>Emiliano-Martinez</td>\n",
              "      <td>21</td>\n",
              "      <td>Southampton</td>\n",
              "      <td>0.0</td>\n",
              "      <td>10.0</td>\n",
              "      <td>3.04</td>\n",
              "    </tr>\n",
              "    <tr>\n",
              "      <th>5403</th>\n",
              "      <td>Nick-Pope</td>\n",
              "      <td>21</td>\n",
              "      <td>Crystal Palace</td>\n",
              "      <td>0.0</td>\n",
              "      <td>6.0</td>\n",
              "      <td>3.04</td>\n",
              "    </tr>\n",
              "    <tr>\n",
              "      <th>467</th>\n",
              "      <td>Kepa-Arrizabalaga</td>\n",
              "      <td>21</td>\n",
              "      <td>Liverpool</td>\n",
              "      <td>0.0</td>\n",
              "      <td>9.0</td>\n",
              "      <td>3.03</td>\n",
              "    </tr>\n",
              "    <tr>\n",
              "      <th>5516</th>\n",
              "      <td>David-Raya</td>\n",
              "      <td>21</td>\n",
              "      <td>Leeds United</td>\n",
              "      <td>0.0</td>\n",
              "      <td>10.0</td>\n",
              "      <td>3.03</td>\n",
              "    </tr>\n",
              "    <tr>\n",
              "      <th>5863</th>\n",
              "      <td>Jose-Sa</td>\n",
              "      <td>21</td>\n",
              "      <td>Manchester City</td>\n",
              "      <td>0.0</td>\n",
              "      <td>2.0</td>\n",
              "      <td>3.03</td>\n",
              "    </tr>\n",
              "    <tr>\n",
              "      <th>2806</th>\n",
              "      <td>Vicente-Guaita</td>\n",
              "      <td>21</td>\n",
              "      <td>Newcastle Utd</td>\n",
              "      <td>1.0</td>\n",
              "      <td>10.0</td>\n",
              "      <td>3.02</td>\n",
              "    </tr>\n",
              "    <tr>\n",
              "      <th>5351</th>\n",
              "      <td>Jordan-Pickford</td>\n",
              "      <td>21</td>\n",
              "      <td>West Ham</td>\n",
              "      <td>0.0</td>\n",
              "      <td>1.0</td>\n",
              "      <td>3.01</td>\n",
              "    </tr>\n",
              "    <tr>\n",
              "      <th>675</th>\n",
              "      <td>Gavin-Bazunu</td>\n",
              "      <td>21</td>\n",
              "      <td>Aston Villa</td>\n",
              "      <td>1.0</td>\n",
              "      <td>3.0</td>\n",
              "      <td>2.99</td>\n",
              "    </tr>\n",
              "  </tbody>\n",
              "</table>\n",
              "</div>\n",
              "      <button class=\"colab-df-convert\" onclick=\"convertToInteractive('df-ac21bc9e-945d-4b9b-9cf8-e80bfd903d4e')\"\n",
              "              title=\"Convert this dataframe to an interactive table.\"\n",
              "              style=\"display:none;\">\n",
              "        \n",
              "  <svg xmlns=\"http://www.w3.org/2000/svg\" height=\"24px\"viewBox=\"0 0 24 24\"\n",
              "       width=\"24px\">\n",
              "    <path d=\"M0 0h24v24H0V0z\" fill=\"none\"/>\n",
              "    <path d=\"M18.56 5.44l.94 2.06.94-2.06 2.06-.94-2.06-.94-.94-2.06-.94 2.06-2.06.94zm-11 1L8.5 8.5l.94-2.06 2.06-.94-2.06-.94L8.5 2.5l-.94 2.06-2.06.94zm10 10l.94 2.06.94-2.06 2.06-.94-2.06-.94-.94-2.06-.94 2.06-2.06.94z\"/><path d=\"M17.41 7.96l-1.37-1.37c-.4-.4-.92-.59-1.43-.59-.52 0-1.04.2-1.43.59L10.3 9.45l-7.72 7.72c-.78.78-.78 2.05 0 2.83L4 21.41c.39.39.9.59 1.41.59.51 0 1.02-.2 1.41-.59l7.78-7.78 2.81-2.81c.8-.78.8-2.07 0-2.86zM5.41 20L4 18.59l7.72-7.72 1.47 1.35L5.41 20z\"/>\n",
              "  </svg>\n",
              "      </button>\n",
              "      \n",
              "  <style>\n",
              "    .colab-df-container {\n",
              "      display:flex;\n",
              "      flex-wrap:wrap;\n",
              "      gap: 12px;\n",
              "    }\n",
              "\n",
              "    .colab-df-convert {\n",
              "      background-color: #E8F0FE;\n",
              "      border: none;\n",
              "      border-radius: 50%;\n",
              "      cursor: pointer;\n",
              "      display: none;\n",
              "      fill: #1967D2;\n",
              "      height: 32px;\n",
              "      padding: 0 0 0 0;\n",
              "      width: 32px;\n",
              "    }\n",
              "\n",
              "    .colab-df-convert:hover {\n",
              "      background-color: #E2EBFA;\n",
              "      box-shadow: 0px 1px 2px rgba(60, 64, 67, 0.3), 0px 1px 3px 1px rgba(60, 64, 67, 0.15);\n",
              "      fill: #174EA6;\n",
              "    }\n",
              "\n",
              "    [theme=dark] .colab-df-convert {\n",
              "      background-color: #3B4455;\n",
              "      fill: #D2E3FC;\n",
              "    }\n",
              "\n",
              "    [theme=dark] .colab-df-convert:hover {\n",
              "      background-color: #434B5C;\n",
              "      box-shadow: 0px 1px 3px 1px rgba(0, 0, 0, 0.15);\n",
              "      filter: drop-shadow(0px 1px 2px rgba(0, 0, 0, 0.3));\n",
              "      fill: #FFFFFF;\n",
              "    }\n",
              "  </style>\n",
              "\n",
              "      <script>\n",
              "        const buttonEl =\n",
              "          document.querySelector('#df-ac21bc9e-945d-4b9b-9cf8-e80bfd903d4e button.colab-df-convert');\n",
              "        buttonEl.style.display =\n",
              "          google.colab.kernel.accessAllowed ? 'block' : 'none';\n",
              "\n",
              "        async function convertToInteractive(key) {\n",
              "          const element = document.querySelector('#df-ac21bc9e-945d-4b9b-9cf8-e80bfd903d4e');\n",
              "          const dataTable =\n",
              "            await google.colab.kernel.invokeFunction('convertToInteractive',\n",
              "                                                     [key], {});\n",
              "          if (!dataTable) return;\n",
              "\n",
              "          const docLinkHtml = 'Like what you see? Visit the ' +\n",
              "            '<a target=\"_blank\" href=https://colab.research.google.com/notebooks/data_table.ipynb>data table notebook</a>'\n",
              "            + ' to learn more about interactive tables.';\n",
              "          element.innerHTML = '';\n",
              "          dataTable['output_type'] = 'display_data';\n",
              "          await google.colab.output.renderOutput(dataTable, element);\n",
              "          const docLink = document.createElement('div');\n",
              "          docLink.innerHTML = docLinkHtml;\n",
              "          element.appendChild(docLink);\n",
              "        }\n",
              "      </script>\n",
              "    </div>\n",
              "  </div>\n",
              "  "
            ]
          },
          "metadata": {},
          "execution_count": 56
        }
      ],
      "source": [
        "# results sorted\n",
        "predictions_gk.sort_values(by=[\"Points\"], ascending = False).head(20)[prediction_columns]"
      ]
    },
    {
      "cell_type": "markdown",
      "id": "809d11e1-257e-4fd0-905b-536f95dca4e5",
      "metadata": {
        "id": "809d11e1-257e-4fd0-905b-536f95dca4e5"
      },
      "source": [
        "## Defenders"
      ]
    },
    {
      "cell_type": "code",
      "execution_count": 57,
      "id": "b67e50ec-26a2-44c2-8ef0-f7b841845ed4",
      "metadata": {
        "id": "b67e50ec-26a2-44c2-8ef0-f7b841845ed4"
      },
      "outputs": [],
      "source": [
        "predictions_def = generate_predictions(dataloader_def_valid, dataset_def_valid, net_def, df_def_original, FIRST_VALID_GW)"
      ]
    },
    {
      "cell_type": "code",
      "execution_count": 58,
      "id": "098f83a8-cd7e-4d2b-8583-44f0f43ef1d7",
      "metadata": {
        "id": "098f83a8-cd7e-4d2b-8583-44f0f43ef1d7",
        "colab": {
          "base_uri": "https://localhost:8080/",
          "height": 677
        },
        "outputId": "b37f2139-deb3-442f-df54-3cc4f93862b0"
      },
      "outputs": [
        {
          "output_type": "execute_result",
          "data": {
            "text/plain": [
              "                    Name  GW         Opponent  Was Home  Total Points  Points\n",
              "3584          Max-Kilman  21  Manchester City       0.0           0.0    2.38\n",
              "6131       Nelson-Semedo  21  Manchester City       0.0           1.0    2.38\n",
              "7344        Ashley-Young  21      Southampton       0.0           6.0    2.38\n",
              "869          Sven-Botman  21   Crystal Palace       0.0           6.0    2.38\n",
              "7163       Neco-Williams  21      Bournemouth       0.0           1.0    2.38\n",
              "3071          Rico-Henry  21     Leeds United       0.0           6.0    2.37\n",
              "1430          Steve-Cook  21      Bournemouth       0.0           0.0    2.37\n",
              "1377      Nathan-Collins  21  Manchester City       0.0           1.0    2.37\n",
              "6596          Kenny-Tete  21        Tottenham       1.0           2.0    2.37\n",
              "2842          Marc-Guehi  21    Newcastle Utd       1.0           5.0    2.37\n",
              "1312     Nathaniel-Clyne  21    Newcastle Utd       1.0           1.0    2.37\n",
              "1228     Trevoh-Chalobah  21        Liverpool       0.0           5.0    2.37\n",
              "6911        Joel-Veltman  21   Leicester City       0.0           1.0    2.37\n",
              "7287         Joe-Worrall  21      Bournemouth       0.0           1.0    2.37\n",
              "4667        Tyrone-Mings  21      Southampton       0.0           6.0    2.37\n",
              "4685     Tyrick-Mitchell  21    Newcastle Utd       1.0           7.0    2.37\n",
              "3619          Robin-Koch  21        Brentford       1.0           5.0    2.36\n",
              "3913          Rico-Lewis  21           Wolves       1.0           1.0    2.36\n",
              "7000  Kyle-Walker-Peters  21      Aston Villa       1.0           2.0    2.36\n",
              "5309      Romain-Perraud  21      Aston Villa       1.0           1.0    2.36"
            ],
            "text/html": [
              "\n",
              "  <div id=\"df-da9ac780-61b1-471b-886c-7fcfa0b674e0\">\n",
              "    <div class=\"colab-df-container\">\n",
              "      <div>\n",
              "<style scoped>\n",
              "    .dataframe tbody tr th:only-of-type {\n",
              "        vertical-align: middle;\n",
              "    }\n",
              "\n",
              "    .dataframe tbody tr th {\n",
              "        vertical-align: top;\n",
              "    }\n",
              "\n",
              "    .dataframe thead th {\n",
              "        text-align: right;\n",
              "    }\n",
              "</style>\n",
              "<table border=\"1\" class=\"dataframe\">\n",
              "  <thead>\n",
              "    <tr style=\"text-align: right;\">\n",
              "      <th></th>\n",
              "      <th>Name</th>\n",
              "      <th>GW</th>\n",
              "      <th>Opponent</th>\n",
              "      <th>Was Home</th>\n",
              "      <th>Total Points</th>\n",
              "      <th>Points</th>\n",
              "    </tr>\n",
              "  </thead>\n",
              "  <tbody>\n",
              "    <tr>\n",
              "      <th>3584</th>\n",
              "      <td>Max-Kilman</td>\n",
              "      <td>21</td>\n",
              "      <td>Manchester City</td>\n",
              "      <td>0.0</td>\n",
              "      <td>0.0</td>\n",
              "      <td>2.38</td>\n",
              "    </tr>\n",
              "    <tr>\n",
              "      <th>6131</th>\n",
              "      <td>Nelson-Semedo</td>\n",
              "      <td>21</td>\n",
              "      <td>Manchester City</td>\n",
              "      <td>0.0</td>\n",
              "      <td>1.0</td>\n",
              "      <td>2.38</td>\n",
              "    </tr>\n",
              "    <tr>\n",
              "      <th>7344</th>\n",
              "      <td>Ashley-Young</td>\n",
              "      <td>21</td>\n",
              "      <td>Southampton</td>\n",
              "      <td>0.0</td>\n",
              "      <td>6.0</td>\n",
              "      <td>2.38</td>\n",
              "    </tr>\n",
              "    <tr>\n",
              "      <th>869</th>\n",
              "      <td>Sven-Botman</td>\n",
              "      <td>21</td>\n",
              "      <td>Crystal Palace</td>\n",
              "      <td>0.0</td>\n",
              "      <td>6.0</td>\n",
              "      <td>2.38</td>\n",
              "    </tr>\n",
              "    <tr>\n",
              "      <th>7163</th>\n",
              "      <td>Neco-Williams</td>\n",
              "      <td>21</td>\n",
              "      <td>Bournemouth</td>\n",
              "      <td>0.0</td>\n",
              "      <td>1.0</td>\n",
              "      <td>2.38</td>\n",
              "    </tr>\n",
              "    <tr>\n",
              "      <th>3071</th>\n",
              "      <td>Rico-Henry</td>\n",
              "      <td>21</td>\n",
              "      <td>Leeds United</td>\n",
              "      <td>0.0</td>\n",
              "      <td>6.0</td>\n",
              "      <td>2.37</td>\n",
              "    </tr>\n",
              "    <tr>\n",
              "      <th>1430</th>\n",
              "      <td>Steve-Cook</td>\n",
              "      <td>21</td>\n",
              "      <td>Bournemouth</td>\n",
              "      <td>0.0</td>\n",
              "      <td>0.0</td>\n",
              "      <td>2.37</td>\n",
              "    </tr>\n",
              "    <tr>\n",
              "      <th>1377</th>\n",
              "      <td>Nathan-Collins</td>\n",
              "      <td>21</td>\n",
              "      <td>Manchester City</td>\n",
              "      <td>0.0</td>\n",
              "      <td>1.0</td>\n",
              "      <td>2.37</td>\n",
              "    </tr>\n",
              "    <tr>\n",
              "      <th>6596</th>\n",
              "      <td>Kenny-Tete</td>\n",
              "      <td>21</td>\n",
              "      <td>Tottenham</td>\n",
              "      <td>1.0</td>\n",
              "      <td>2.0</td>\n",
              "      <td>2.37</td>\n",
              "    </tr>\n",
              "    <tr>\n",
              "      <th>2842</th>\n",
              "      <td>Marc-Guehi</td>\n",
              "      <td>21</td>\n",
              "      <td>Newcastle Utd</td>\n",
              "      <td>1.0</td>\n",
              "      <td>5.0</td>\n",
              "      <td>2.37</td>\n",
              "    </tr>\n",
              "    <tr>\n",
              "      <th>1312</th>\n",
              "      <td>Nathaniel-Clyne</td>\n",
              "      <td>21</td>\n",
              "      <td>Newcastle Utd</td>\n",
              "      <td>1.0</td>\n",
              "      <td>1.0</td>\n",
              "      <td>2.37</td>\n",
              "    </tr>\n",
              "    <tr>\n",
              "      <th>1228</th>\n",
              "      <td>Trevoh-Chalobah</td>\n",
              "      <td>21</td>\n",
              "      <td>Liverpool</td>\n",
              "      <td>0.0</td>\n",
              "      <td>5.0</td>\n",
              "      <td>2.37</td>\n",
              "    </tr>\n",
              "    <tr>\n",
              "      <th>6911</th>\n",
              "      <td>Joel-Veltman</td>\n",
              "      <td>21</td>\n",
              "      <td>Leicester City</td>\n",
              "      <td>0.0</td>\n",
              "      <td>1.0</td>\n",
              "      <td>2.37</td>\n",
              "    </tr>\n",
              "    <tr>\n",
              "      <th>7287</th>\n",
              "      <td>Joe-Worrall</td>\n",
              "      <td>21</td>\n",
              "      <td>Bournemouth</td>\n",
              "      <td>0.0</td>\n",
              "      <td>1.0</td>\n",
              "      <td>2.37</td>\n",
              "    </tr>\n",
              "    <tr>\n",
              "      <th>4667</th>\n",
              "      <td>Tyrone-Mings</td>\n",
              "      <td>21</td>\n",
              "      <td>Southampton</td>\n",
              "      <td>0.0</td>\n",
              "      <td>6.0</td>\n",
              "      <td>2.37</td>\n",
              "    </tr>\n",
              "    <tr>\n",
              "      <th>4685</th>\n",
              "      <td>Tyrick-Mitchell</td>\n",
              "      <td>21</td>\n",
              "      <td>Newcastle Utd</td>\n",
              "      <td>1.0</td>\n",
              "      <td>7.0</td>\n",
              "      <td>2.37</td>\n",
              "    </tr>\n",
              "    <tr>\n",
              "      <th>3619</th>\n",
              "      <td>Robin-Koch</td>\n",
              "      <td>21</td>\n",
              "      <td>Brentford</td>\n",
              "      <td>1.0</td>\n",
              "      <td>5.0</td>\n",
              "      <td>2.36</td>\n",
              "    </tr>\n",
              "    <tr>\n",
              "      <th>3913</th>\n",
              "      <td>Rico-Lewis</td>\n",
              "      <td>21</td>\n",
              "      <td>Wolves</td>\n",
              "      <td>1.0</td>\n",
              "      <td>1.0</td>\n",
              "      <td>2.36</td>\n",
              "    </tr>\n",
              "    <tr>\n",
              "      <th>7000</th>\n",
              "      <td>Kyle-Walker-Peters</td>\n",
              "      <td>21</td>\n",
              "      <td>Aston Villa</td>\n",
              "      <td>1.0</td>\n",
              "      <td>2.0</td>\n",
              "      <td>2.36</td>\n",
              "    </tr>\n",
              "    <tr>\n",
              "      <th>5309</th>\n",
              "      <td>Romain-Perraud</td>\n",
              "      <td>21</td>\n",
              "      <td>Aston Villa</td>\n",
              "      <td>1.0</td>\n",
              "      <td>1.0</td>\n",
              "      <td>2.36</td>\n",
              "    </tr>\n",
              "  </tbody>\n",
              "</table>\n",
              "</div>\n",
              "      <button class=\"colab-df-convert\" onclick=\"convertToInteractive('df-da9ac780-61b1-471b-886c-7fcfa0b674e0')\"\n",
              "              title=\"Convert this dataframe to an interactive table.\"\n",
              "              style=\"display:none;\">\n",
              "        \n",
              "  <svg xmlns=\"http://www.w3.org/2000/svg\" height=\"24px\"viewBox=\"0 0 24 24\"\n",
              "       width=\"24px\">\n",
              "    <path d=\"M0 0h24v24H0V0z\" fill=\"none\"/>\n",
              "    <path d=\"M18.56 5.44l.94 2.06.94-2.06 2.06-.94-2.06-.94-.94-2.06-.94 2.06-2.06.94zm-11 1L8.5 8.5l.94-2.06 2.06-.94-2.06-.94L8.5 2.5l-.94 2.06-2.06.94zm10 10l.94 2.06.94-2.06 2.06-.94-2.06-.94-.94-2.06-.94 2.06-2.06.94z\"/><path d=\"M17.41 7.96l-1.37-1.37c-.4-.4-.92-.59-1.43-.59-.52 0-1.04.2-1.43.59L10.3 9.45l-7.72 7.72c-.78.78-.78 2.05 0 2.83L4 21.41c.39.39.9.59 1.41.59.51 0 1.02-.2 1.41-.59l7.78-7.78 2.81-2.81c.8-.78.8-2.07 0-2.86zM5.41 20L4 18.59l7.72-7.72 1.47 1.35L5.41 20z\"/>\n",
              "  </svg>\n",
              "      </button>\n",
              "      \n",
              "  <style>\n",
              "    .colab-df-container {\n",
              "      display:flex;\n",
              "      flex-wrap:wrap;\n",
              "      gap: 12px;\n",
              "    }\n",
              "\n",
              "    .colab-df-convert {\n",
              "      background-color: #E8F0FE;\n",
              "      border: none;\n",
              "      border-radius: 50%;\n",
              "      cursor: pointer;\n",
              "      display: none;\n",
              "      fill: #1967D2;\n",
              "      height: 32px;\n",
              "      padding: 0 0 0 0;\n",
              "      width: 32px;\n",
              "    }\n",
              "\n",
              "    .colab-df-convert:hover {\n",
              "      background-color: #E2EBFA;\n",
              "      box-shadow: 0px 1px 2px rgba(60, 64, 67, 0.3), 0px 1px 3px 1px rgba(60, 64, 67, 0.15);\n",
              "      fill: #174EA6;\n",
              "    }\n",
              "\n",
              "    [theme=dark] .colab-df-convert {\n",
              "      background-color: #3B4455;\n",
              "      fill: #D2E3FC;\n",
              "    }\n",
              "\n",
              "    [theme=dark] .colab-df-convert:hover {\n",
              "      background-color: #434B5C;\n",
              "      box-shadow: 0px 1px 3px 1px rgba(0, 0, 0, 0.15);\n",
              "      filter: drop-shadow(0px 1px 2px rgba(0, 0, 0, 0.3));\n",
              "      fill: #FFFFFF;\n",
              "    }\n",
              "  </style>\n",
              "\n",
              "      <script>\n",
              "        const buttonEl =\n",
              "          document.querySelector('#df-da9ac780-61b1-471b-886c-7fcfa0b674e0 button.colab-df-convert');\n",
              "        buttonEl.style.display =\n",
              "          google.colab.kernel.accessAllowed ? 'block' : 'none';\n",
              "\n",
              "        async function convertToInteractive(key) {\n",
              "          const element = document.querySelector('#df-da9ac780-61b1-471b-886c-7fcfa0b674e0');\n",
              "          const dataTable =\n",
              "            await google.colab.kernel.invokeFunction('convertToInteractive',\n",
              "                                                     [key], {});\n",
              "          if (!dataTable) return;\n",
              "\n",
              "          const docLinkHtml = 'Like what you see? Visit the ' +\n",
              "            '<a target=\"_blank\" href=https://colab.research.google.com/notebooks/data_table.ipynb>data table notebook</a>'\n",
              "            + ' to learn more about interactive tables.';\n",
              "          element.innerHTML = '';\n",
              "          dataTable['output_type'] = 'display_data';\n",
              "          await google.colab.output.renderOutput(dataTable, element);\n",
              "          const docLink = document.createElement('div');\n",
              "          docLink.innerHTML = docLinkHtml;\n",
              "          element.appendChild(docLink);\n",
              "        }\n",
              "      </script>\n",
              "    </div>\n",
              "  </div>\n",
              "  "
            ]
          },
          "metadata": {},
          "execution_count": 58
        }
      ],
      "source": [
        "# results sorted\n",
        "predictions_def.sort_values(by=[\"Points\"], ascending = False).head(20)[prediction_columns]"
      ]
    },
    {
      "cell_type": "markdown",
      "id": "e098be91-df44-4aba-b619-de4a11ad91db",
      "metadata": {
        "id": "e098be91-df44-4aba-b619-de4a11ad91db"
      },
      "source": [
        "## Midfielders"
      ]
    },
    {
      "cell_type": "code",
      "execution_count": 59,
      "id": "37c5faa1-e7ba-4048-a3ae-39472de0e646",
      "metadata": {
        "id": "37c5faa1-e7ba-4048-a3ae-39472de0e646"
      },
      "outputs": [],
      "source": [
        "predictions_mid = generate_predictions(dataloader_mid_valid, dataset_mid_valid, net_mid, df_mid_original, FIRST_VALID_GW)"
      ]
    },
    {
      "cell_type": "code",
      "execution_count": 60,
      "id": "a8a940bf-1f53-4130-831f-ad6010b92cef",
      "metadata": {
        "id": "a8a940bf-1f53-4130-831f-ad6010b92cef",
        "colab": {
          "base_uri": "https://localhost:8080/",
          "height": 677
        },
        "outputId": "de3c9928-a6b5-4620-d398-3132c71a340c"
      },
      "outputs": [
        {
          "output_type": "execute_result",
          "data": {
            "text/plain": [
              "                      Name  GW         Opponent  Was Home  Total Points  \\\n",
              "7422          Hakim-Ziyech  21        Liverpool       0.0           3.0   \n",
              "2748         Jack-Grealish  21           Wolves       1.0           3.0   \n",
              "5141         Joao-Palhinha  21        Tottenham       1.0           1.0   \n",
              "7456       Martin-Odegaard  21   Manchester Utd       1.0           5.0   \n",
              "832          Yves-Bissouma  21           Fulham       0.0           1.0   \n",
              "2100        Anthony-Elanga  21          Arsenal       0.0           0.0   \n",
              "2475          Remo-Freuler  21      Bournemouth       0.0           2.0   \n",
              "2998        Hwang-Hee-chan  21  Manchester City       0.0           1.0   \n",
              "55             Tyler-Adams  21        Brentford       1.0           3.0   \n",
              "1621          Josh-Dasilva  21     Leeds United       0.0           1.0   \n",
              "3430              Jorginho  21        Liverpool       0.0           3.0   \n",
              "3728          Adam-Lallana  21   Leicester City       0.0           1.0   \n",
              "2185     Christian-Eriksen  21          Arsenal       0.0           2.0   \n",
              "766          Said-Benrahma  21          Everton       1.0           3.0   \n",
              "599            Leon-Bailey  21      Southampton       0.0           3.0   \n",
              "4517       Scott-McTominay  21          Arsenal       0.0           2.0   \n",
              "5420          Dennis-Praet  21         Brighton       1.0           1.0   \n",
              "7324            Ryan-Yates  21      Bournemouth       0.0           1.0   \n",
              "2270               Fabinho  21          Chelsea       1.0           1.0   \n",
              "5971  Albert-Sambi-Lokonga  21   Manchester Utd       1.0           0.0   \n",
              "\n",
              "      Points  \n",
              "7422    3.01  \n",
              "2748    3.01  \n",
              "5141    3.01  \n",
              "7456    3.00  \n",
              "832     3.00  \n",
              "2100    3.00  \n",
              "2475    3.00  \n",
              "2998    3.00  \n",
              "55      3.00  \n",
              "1621    3.00  \n",
              "3430    3.00  \n",
              "3728    3.00  \n",
              "2185    3.00  \n",
              "766     3.00  \n",
              "599     3.00  \n",
              "4517    2.99  \n",
              "5420    2.99  \n",
              "7324    2.99  \n",
              "2270    2.99  \n",
              "5971    2.99  "
            ],
            "text/html": [
              "\n",
              "  <div id=\"df-2a338fd0-7ebd-45ad-a8fc-8a05561659c1\">\n",
              "    <div class=\"colab-df-container\">\n",
              "      <div>\n",
              "<style scoped>\n",
              "    .dataframe tbody tr th:only-of-type {\n",
              "        vertical-align: middle;\n",
              "    }\n",
              "\n",
              "    .dataframe tbody tr th {\n",
              "        vertical-align: top;\n",
              "    }\n",
              "\n",
              "    .dataframe thead th {\n",
              "        text-align: right;\n",
              "    }\n",
              "</style>\n",
              "<table border=\"1\" class=\"dataframe\">\n",
              "  <thead>\n",
              "    <tr style=\"text-align: right;\">\n",
              "      <th></th>\n",
              "      <th>Name</th>\n",
              "      <th>GW</th>\n",
              "      <th>Opponent</th>\n",
              "      <th>Was Home</th>\n",
              "      <th>Total Points</th>\n",
              "      <th>Points</th>\n",
              "    </tr>\n",
              "  </thead>\n",
              "  <tbody>\n",
              "    <tr>\n",
              "      <th>7422</th>\n",
              "      <td>Hakim-Ziyech</td>\n",
              "      <td>21</td>\n",
              "      <td>Liverpool</td>\n",
              "      <td>0.0</td>\n",
              "      <td>3.0</td>\n",
              "      <td>3.01</td>\n",
              "    </tr>\n",
              "    <tr>\n",
              "      <th>2748</th>\n",
              "      <td>Jack-Grealish</td>\n",
              "      <td>21</td>\n",
              "      <td>Wolves</td>\n",
              "      <td>1.0</td>\n",
              "      <td>3.0</td>\n",
              "      <td>3.01</td>\n",
              "    </tr>\n",
              "    <tr>\n",
              "      <th>5141</th>\n",
              "      <td>Joao-Palhinha</td>\n",
              "      <td>21</td>\n",
              "      <td>Tottenham</td>\n",
              "      <td>1.0</td>\n",
              "      <td>1.0</td>\n",
              "      <td>3.01</td>\n",
              "    </tr>\n",
              "    <tr>\n",
              "      <th>7456</th>\n",
              "      <td>Martin-Odegaard</td>\n",
              "      <td>21</td>\n",
              "      <td>Manchester Utd</td>\n",
              "      <td>1.0</td>\n",
              "      <td>5.0</td>\n",
              "      <td>3.00</td>\n",
              "    </tr>\n",
              "    <tr>\n",
              "      <th>832</th>\n",
              "      <td>Yves-Bissouma</td>\n",
              "      <td>21</td>\n",
              "      <td>Fulham</td>\n",
              "      <td>0.0</td>\n",
              "      <td>1.0</td>\n",
              "      <td>3.00</td>\n",
              "    </tr>\n",
              "    <tr>\n",
              "      <th>2100</th>\n",
              "      <td>Anthony-Elanga</td>\n",
              "      <td>21</td>\n",
              "      <td>Arsenal</td>\n",
              "      <td>0.0</td>\n",
              "      <td>0.0</td>\n",
              "      <td>3.00</td>\n",
              "    </tr>\n",
              "    <tr>\n",
              "      <th>2475</th>\n",
              "      <td>Remo-Freuler</td>\n",
              "      <td>21</td>\n",
              "      <td>Bournemouth</td>\n",
              "      <td>0.0</td>\n",
              "      <td>2.0</td>\n",
              "      <td>3.00</td>\n",
              "    </tr>\n",
              "    <tr>\n",
              "      <th>2998</th>\n",
              "      <td>Hwang-Hee-chan</td>\n",
              "      <td>21</td>\n",
              "      <td>Manchester City</td>\n",
              "      <td>0.0</td>\n",
              "      <td>1.0</td>\n",
              "      <td>3.00</td>\n",
              "    </tr>\n",
              "    <tr>\n",
              "      <th>55</th>\n",
              "      <td>Tyler-Adams</td>\n",
              "      <td>21</td>\n",
              "      <td>Brentford</td>\n",
              "      <td>1.0</td>\n",
              "      <td>3.0</td>\n",
              "      <td>3.00</td>\n",
              "    </tr>\n",
              "    <tr>\n",
              "      <th>1621</th>\n",
              "      <td>Josh-Dasilva</td>\n",
              "      <td>21</td>\n",
              "      <td>Leeds United</td>\n",
              "      <td>0.0</td>\n",
              "      <td>1.0</td>\n",
              "      <td>3.00</td>\n",
              "    </tr>\n",
              "    <tr>\n",
              "      <th>3430</th>\n",
              "      <td>Jorginho</td>\n",
              "      <td>21</td>\n",
              "      <td>Liverpool</td>\n",
              "      <td>0.0</td>\n",
              "      <td>3.0</td>\n",
              "      <td>3.00</td>\n",
              "    </tr>\n",
              "    <tr>\n",
              "      <th>3728</th>\n",
              "      <td>Adam-Lallana</td>\n",
              "      <td>21</td>\n",
              "      <td>Leicester City</td>\n",
              "      <td>0.0</td>\n",
              "      <td>1.0</td>\n",
              "      <td>3.00</td>\n",
              "    </tr>\n",
              "    <tr>\n",
              "      <th>2185</th>\n",
              "      <td>Christian-Eriksen</td>\n",
              "      <td>21</td>\n",
              "      <td>Arsenal</td>\n",
              "      <td>0.0</td>\n",
              "      <td>2.0</td>\n",
              "      <td>3.00</td>\n",
              "    </tr>\n",
              "    <tr>\n",
              "      <th>766</th>\n",
              "      <td>Said-Benrahma</td>\n",
              "      <td>21</td>\n",
              "      <td>Everton</td>\n",
              "      <td>1.0</td>\n",
              "      <td>3.0</td>\n",
              "      <td>3.00</td>\n",
              "    </tr>\n",
              "    <tr>\n",
              "      <th>599</th>\n",
              "      <td>Leon-Bailey</td>\n",
              "      <td>21</td>\n",
              "      <td>Southampton</td>\n",
              "      <td>0.0</td>\n",
              "      <td>3.0</td>\n",
              "      <td>3.00</td>\n",
              "    </tr>\n",
              "    <tr>\n",
              "      <th>4517</th>\n",
              "      <td>Scott-McTominay</td>\n",
              "      <td>21</td>\n",
              "      <td>Arsenal</td>\n",
              "      <td>0.0</td>\n",
              "      <td>2.0</td>\n",
              "      <td>2.99</td>\n",
              "    </tr>\n",
              "    <tr>\n",
              "      <th>5420</th>\n",
              "      <td>Dennis-Praet</td>\n",
              "      <td>21</td>\n",
              "      <td>Brighton</td>\n",
              "      <td>1.0</td>\n",
              "      <td>1.0</td>\n",
              "      <td>2.99</td>\n",
              "    </tr>\n",
              "    <tr>\n",
              "      <th>7324</th>\n",
              "      <td>Ryan-Yates</td>\n",
              "      <td>21</td>\n",
              "      <td>Bournemouth</td>\n",
              "      <td>0.0</td>\n",
              "      <td>1.0</td>\n",
              "      <td>2.99</td>\n",
              "    </tr>\n",
              "    <tr>\n",
              "      <th>2270</th>\n",
              "      <td>Fabinho</td>\n",
              "      <td>21</td>\n",
              "      <td>Chelsea</td>\n",
              "      <td>1.0</td>\n",
              "      <td>1.0</td>\n",
              "      <td>2.99</td>\n",
              "    </tr>\n",
              "    <tr>\n",
              "      <th>5971</th>\n",
              "      <td>Albert-Sambi-Lokonga</td>\n",
              "      <td>21</td>\n",
              "      <td>Manchester Utd</td>\n",
              "      <td>1.0</td>\n",
              "      <td>0.0</td>\n",
              "      <td>2.99</td>\n",
              "    </tr>\n",
              "  </tbody>\n",
              "</table>\n",
              "</div>\n",
              "      <button class=\"colab-df-convert\" onclick=\"convertToInteractive('df-2a338fd0-7ebd-45ad-a8fc-8a05561659c1')\"\n",
              "              title=\"Convert this dataframe to an interactive table.\"\n",
              "              style=\"display:none;\">\n",
              "        \n",
              "  <svg xmlns=\"http://www.w3.org/2000/svg\" height=\"24px\"viewBox=\"0 0 24 24\"\n",
              "       width=\"24px\">\n",
              "    <path d=\"M0 0h24v24H0V0z\" fill=\"none\"/>\n",
              "    <path d=\"M18.56 5.44l.94 2.06.94-2.06 2.06-.94-2.06-.94-.94-2.06-.94 2.06-2.06.94zm-11 1L8.5 8.5l.94-2.06 2.06-.94-2.06-.94L8.5 2.5l-.94 2.06-2.06.94zm10 10l.94 2.06.94-2.06 2.06-.94-2.06-.94-.94-2.06-.94 2.06-2.06.94z\"/><path d=\"M17.41 7.96l-1.37-1.37c-.4-.4-.92-.59-1.43-.59-.52 0-1.04.2-1.43.59L10.3 9.45l-7.72 7.72c-.78.78-.78 2.05 0 2.83L4 21.41c.39.39.9.59 1.41.59.51 0 1.02-.2 1.41-.59l7.78-7.78 2.81-2.81c.8-.78.8-2.07 0-2.86zM5.41 20L4 18.59l7.72-7.72 1.47 1.35L5.41 20z\"/>\n",
              "  </svg>\n",
              "      </button>\n",
              "      \n",
              "  <style>\n",
              "    .colab-df-container {\n",
              "      display:flex;\n",
              "      flex-wrap:wrap;\n",
              "      gap: 12px;\n",
              "    }\n",
              "\n",
              "    .colab-df-convert {\n",
              "      background-color: #E8F0FE;\n",
              "      border: none;\n",
              "      border-radius: 50%;\n",
              "      cursor: pointer;\n",
              "      display: none;\n",
              "      fill: #1967D2;\n",
              "      height: 32px;\n",
              "      padding: 0 0 0 0;\n",
              "      width: 32px;\n",
              "    }\n",
              "\n",
              "    .colab-df-convert:hover {\n",
              "      background-color: #E2EBFA;\n",
              "      box-shadow: 0px 1px 2px rgba(60, 64, 67, 0.3), 0px 1px 3px 1px rgba(60, 64, 67, 0.15);\n",
              "      fill: #174EA6;\n",
              "    }\n",
              "\n",
              "    [theme=dark] .colab-df-convert {\n",
              "      background-color: #3B4455;\n",
              "      fill: #D2E3FC;\n",
              "    }\n",
              "\n",
              "    [theme=dark] .colab-df-convert:hover {\n",
              "      background-color: #434B5C;\n",
              "      box-shadow: 0px 1px 3px 1px rgba(0, 0, 0, 0.15);\n",
              "      filter: drop-shadow(0px 1px 2px rgba(0, 0, 0, 0.3));\n",
              "      fill: #FFFFFF;\n",
              "    }\n",
              "  </style>\n",
              "\n",
              "      <script>\n",
              "        const buttonEl =\n",
              "          document.querySelector('#df-2a338fd0-7ebd-45ad-a8fc-8a05561659c1 button.colab-df-convert');\n",
              "        buttonEl.style.display =\n",
              "          google.colab.kernel.accessAllowed ? 'block' : 'none';\n",
              "\n",
              "        async function convertToInteractive(key) {\n",
              "          const element = document.querySelector('#df-2a338fd0-7ebd-45ad-a8fc-8a05561659c1');\n",
              "          const dataTable =\n",
              "            await google.colab.kernel.invokeFunction('convertToInteractive',\n",
              "                                                     [key], {});\n",
              "          if (!dataTable) return;\n",
              "\n",
              "          const docLinkHtml = 'Like what you see? Visit the ' +\n",
              "            '<a target=\"_blank\" href=https://colab.research.google.com/notebooks/data_table.ipynb>data table notebook</a>'\n",
              "            + ' to learn more about interactive tables.';\n",
              "          element.innerHTML = '';\n",
              "          dataTable['output_type'] = 'display_data';\n",
              "          await google.colab.output.renderOutput(dataTable, element);\n",
              "          const docLink = document.createElement('div');\n",
              "          docLink.innerHTML = docLinkHtml;\n",
              "          element.appendChild(docLink);\n",
              "        }\n",
              "      </script>\n",
              "    </div>\n",
              "  </div>\n",
              "  "
            ]
          },
          "metadata": {},
          "execution_count": 60
        }
      ],
      "source": [
        "# results sorted\n",
        "predictions_mid.sort_values(by=[\"Points\"], ascending = False).head(20)[prediction_columns]"
      ]
    },
    {
      "cell_type": "markdown",
      "id": "9921aabf-4769-4350-a3e5-bbaacd60b4d5",
      "metadata": {
        "id": "9921aabf-4769-4350-a3e5-bbaacd60b4d5"
      },
      "source": [
        "## Forwards"
      ]
    },
    {
      "cell_type": "code",
      "execution_count": 67,
      "id": "ef689219-6923-4a23-88ea-0331a33eb2a3",
      "metadata": {
        "id": "ef689219-6923-4a23-88ea-0331a33eb2a3"
      },
      "outputs": [],
      "source": [
        "predictions_fwd = generate_predictions(dataloader_fwd_valid, dataset_fwd_valid, net_fwd, df_fwd_original, FIRST_VALID_GW)"
      ]
    },
    {
      "cell_type": "code",
      "execution_count": 68,
      "id": "9d88c704-50eb-42c1-8b92-7008cdb8d83e",
      "metadata": {
        "id": "9d88c704-50eb-42c1-8b92-7008cdb8d83e",
        "colab": {
          "base_uri": "https://localhost:8080/",
          "height": 990
        },
        "outputId": "b8d520f3-145c-46d5-d374-001e090c9c00"
      },
      "outputs": [
        {
          "output_type": "execute_result",
          "data": {
            "text/plain": [
              "                      Name  GW         Opponent  Was Home  Total Points  \\\n",
              "2967           Kai-Havertz  21        Liverpool       0.0           2.0   \n",
              "4718   Aleksandar-Mitrovic  21        Tottenham       1.0           2.0   \n",
              "2904        Erling-Haaland  21           Wolves       1.0          17.0   \n",
              "7089         Ollie-Watkins  21      Southampton       0.0           8.0   \n",
              "4443          Bryan-Mbeumo  21     Leeds United       0.0           2.0   \n",
              "2575          Joe-Gelhardt  21        Brentford       1.0           0.0   \n",
              "3401       Brennan-Johnson  21      Bournemouth       0.0           5.0   \n",
              "38               Che-Adams  21      Aston Villa       1.0           2.0   \n",
              "6959       Carlos-Vinicius  21        Tottenham       1.0           1.0   \n",
              "7121         Danny-Welbeck  21   Leicester City       0.0           2.0   \n",
              "4738         Kieffer-Moore  21  Nott'ham Forest       1.0           2.0   \n",
              "7212         Callum-Wilson  21   Crystal Palace       0.0           2.0   \n",
              "6893           Jamie-Vardy  21         Brighton       1.0           2.0   \n",
              "1569           Patson-Daka  21         Brighton       1.0           1.0   \n",
              "3225            Danny-Ings  21          Everton       1.0           1.0   \n",
              "3205     Kelechi-Iheanacho  21         Brighton       1.0           0.0   \n",
              "4952         Eddie-Nketiah  21   Manchester Utd       1.0          13.0   \n",
              "6516          Sam-Surridge  21      Bournemouth       0.0           8.0   \n",
              "4244            Sekou-Mara  21      Aston Villa       1.0           1.0   \n",
              "6714            Ivan-Toney  21     Leeds United       0.0           1.0   \n",
              "7267            Chris-Wood  21      Bournemouth       0.0           2.0   \n",
              "2767         Sam-Greenwood  21        Brentford       1.0           1.0   \n",
              "256         Julian-Alvarez  21           Wolves       1.0           1.0   \n",
              "347        Michail-Antonio  21          Everton       1.0           5.0   \n",
              "431         Adam-Armstrong  21      Aston Villa       1.0           2.0   \n",
              "3501            Harry-Kane  21           Fulham       0.0           6.0   \n",
              "4382  Jean-Philippe-Mateta  21    Newcastle Utd       1.0           1.0   \n",
              "2066       Odsonne-Edouard  21    Newcastle Utd       1.0           2.0   \n",
              "4409           Neal-Maupay  21         West Ham       0.0           0.0   \n",
              "6834           Deniz-Undav  21   Leicester City       0.0           0.0   \n",
              "\n",
              "      Points  \n",
              "2967   10.48  \n",
              "4718    9.47  \n",
              "2904    8.76  \n",
              "7089    7.44  \n",
              "4443    7.33  \n",
              "2575    6.41  \n",
              "3401    5.92  \n",
              "38      2.87  \n",
              "6959    2.63  \n",
              "7121    2.59  \n",
              "4738    2.46  \n",
              "7212    2.38  \n",
              "6893    2.27  \n",
              "1569    2.15  \n",
              "3225    1.92  \n",
              "3205    1.88  \n",
              "4952    1.61  \n",
              "6516    1.60  \n",
              "4244    1.54  \n",
              "6714    1.51  \n",
              "7267    1.48  \n",
              "2767    1.42  \n",
              "256     1.40  \n",
              "347     1.40  \n",
              "431     1.33  \n",
              "3501    1.03  \n",
              "4382    0.85  \n",
              "2066    0.84  \n",
              "4409    0.75  \n",
              "6834    0.45  "
            ],
            "text/html": [
              "\n",
              "  <div id=\"df-7a290013-5f61-4d4b-99f0-714f2121855a\">\n",
              "    <div class=\"colab-df-container\">\n",
              "      <div>\n",
              "<style scoped>\n",
              "    .dataframe tbody tr th:only-of-type {\n",
              "        vertical-align: middle;\n",
              "    }\n",
              "\n",
              "    .dataframe tbody tr th {\n",
              "        vertical-align: top;\n",
              "    }\n",
              "\n",
              "    .dataframe thead th {\n",
              "        text-align: right;\n",
              "    }\n",
              "</style>\n",
              "<table border=\"1\" class=\"dataframe\">\n",
              "  <thead>\n",
              "    <tr style=\"text-align: right;\">\n",
              "      <th></th>\n",
              "      <th>Name</th>\n",
              "      <th>GW</th>\n",
              "      <th>Opponent</th>\n",
              "      <th>Was Home</th>\n",
              "      <th>Total Points</th>\n",
              "      <th>Points</th>\n",
              "    </tr>\n",
              "  </thead>\n",
              "  <tbody>\n",
              "    <tr>\n",
              "      <th>2967</th>\n",
              "      <td>Kai-Havertz</td>\n",
              "      <td>21</td>\n",
              "      <td>Liverpool</td>\n",
              "      <td>0.0</td>\n",
              "      <td>2.0</td>\n",
              "      <td>10.48</td>\n",
              "    </tr>\n",
              "    <tr>\n",
              "      <th>4718</th>\n",
              "      <td>Aleksandar-Mitrovic</td>\n",
              "      <td>21</td>\n",
              "      <td>Tottenham</td>\n",
              "      <td>1.0</td>\n",
              "      <td>2.0</td>\n",
              "      <td>9.47</td>\n",
              "    </tr>\n",
              "    <tr>\n",
              "      <th>2904</th>\n",
              "      <td>Erling-Haaland</td>\n",
              "      <td>21</td>\n",
              "      <td>Wolves</td>\n",
              "      <td>1.0</td>\n",
              "      <td>17.0</td>\n",
              "      <td>8.76</td>\n",
              "    </tr>\n",
              "    <tr>\n",
              "      <th>7089</th>\n",
              "      <td>Ollie-Watkins</td>\n",
              "      <td>21</td>\n",
              "      <td>Southampton</td>\n",
              "      <td>0.0</td>\n",
              "      <td>8.0</td>\n",
              "      <td>7.44</td>\n",
              "    </tr>\n",
              "    <tr>\n",
              "      <th>4443</th>\n",
              "      <td>Bryan-Mbeumo</td>\n",
              "      <td>21</td>\n",
              "      <td>Leeds United</td>\n",
              "      <td>0.0</td>\n",
              "      <td>2.0</td>\n",
              "      <td>7.33</td>\n",
              "    </tr>\n",
              "    <tr>\n",
              "      <th>2575</th>\n",
              "      <td>Joe-Gelhardt</td>\n",
              "      <td>21</td>\n",
              "      <td>Brentford</td>\n",
              "      <td>1.0</td>\n",
              "      <td>0.0</td>\n",
              "      <td>6.41</td>\n",
              "    </tr>\n",
              "    <tr>\n",
              "      <th>3401</th>\n",
              "      <td>Brennan-Johnson</td>\n",
              "      <td>21</td>\n",
              "      <td>Bournemouth</td>\n",
              "      <td>0.0</td>\n",
              "      <td>5.0</td>\n",
              "      <td>5.92</td>\n",
              "    </tr>\n",
              "    <tr>\n",
              "      <th>38</th>\n",
              "      <td>Che-Adams</td>\n",
              "      <td>21</td>\n",
              "      <td>Aston Villa</td>\n",
              "      <td>1.0</td>\n",
              "      <td>2.0</td>\n",
              "      <td>2.87</td>\n",
              "    </tr>\n",
              "    <tr>\n",
              "      <th>6959</th>\n",
              "      <td>Carlos-Vinicius</td>\n",
              "      <td>21</td>\n",
              "      <td>Tottenham</td>\n",
              "      <td>1.0</td>\n",
              "      <td>1.0</td>\n",
              "      <td>2.63</td>\n",
              "    </tr>\n",
              "    <tr>\n",
              "      <th>7121</th>\n",
              "      <td>Danny-Welbeck</td>\n",
              "      <td>21</td>\n",
              "      <td>Leicester City</td>\n",
              "      <td>0.0</td>\n",
              "      <td>2.0</td>\n",
              "      <td>2.59</td>\n",
              "    </tr>\n",
              "    <tr>\n",
              "      <th>4738</th>\n",
              "      <td>Kieffer-Moore</td>\n",
              "      <td>21</td>\n",
              "      <td>Nott'ham Forest</td>\n",
              "      <td>1.0</td>\n",
              "      <td>2.0</td>\n",
              "      <td>2.46</td>\n",
              "    </tr>\n",
              "    <tr>\n",
              "      <th>7212</th>\n",
              "      <td>Callum-Wilson</td>\n",
              "      <td>21</td>\n",
              "      <td>Crystal Palace</td>\n",
              "      <td>0.0</td>\n",
              "      <td>2.0</td>\n",
              "      <td>2.38</td>\n",
              "    </tr>\n",
              "    <tr>\n",
              "      <th>6893</th>\n",
              "      <td>Jamie-Vardy</td>\n",
              "      <td>21</td>\n",
              "      <td>Brighton</td>\n",
              "      <td>1.0</td>\n",
              "      <td>2.0</td>\n",
              "      <td>2.27</td>\n",
              "    </tr>\n",
              "    <tr>\n",
              "      <th>1569</th>\n",
              "      <td>Patson-Daka</td>\n",
              "      <td>21</td>\n",
              "      <td>Brighton</td>\n",
              "      <td>1.0</td>\n",
              "      <td>1.0</td>\n",
              "      <td>2.15</td>\n",
              "    </tr>\n",
              "    <tr>\n",
              "      <th>3225</th>\n",
              "      <td>Danny-Ings</td>\n",
              "      <td>21</td>\n",
              "      <td>Everton</td>\n",
              "      <td>1.0</td>\n",
              "      <td>1.0</td>\n",
              "      <td>1.92</td>\n",
              "    </tr>\n",
              "    <tr>\n",
              "      <th>3205</th>\n",
              "      <td>Kelechi-Iheanacho</td>\n",
              "      <td>21</td>\n",
              "      <td>Brighton</td>\n",
              "      <td>1.0</td>\n",
              "      <td>0.0</td>\n",
              "      <td>1.88</td>\n",
              "    </tr>\n",
              "    <tr>\n",
              "      <th>4952</th>\n",
              "      <td>Eddie-Nketiah</td>\n",
              "      <td>21</td>\n",
              "      <td>Manchester Utd</td>\n",
              "      <td>1.0</td>\n",
              "      <td>13.0</td>\n",
              "      <td>1.61</td>\n",
              "    </tr>\n",
              "    <tr>\n",
              "      <th>6516</th>\n",
              "      <td>Sam-Surridge</td>\n",
              "      <td>21</td>\n",
              "      <td>Bournemouth</td>\n",
              "      <td>0.0</td>\n",
              "      <td>8.0</td>\n",
              "      <td>1.60</td>\n",
              "    </tr>\n",
              "    <tr>\n",
              "      <th>4244</th>\n",
              "      <td>Sekou-Mara</td>\n",
              "      <td>21</td>\n",
              "      <td>Aston Villa</td>\n",
              "      <td>1.0</td>\n",
              "      <td>1.0</td>\n",
              "      <td>1.54</td>\n",
              "    </tr>\n",
              "    <tr>\n",
              "      <th>6714</th>\n",
              "      <td>Ivan-Toney</td>\n",
              "      <td>21</td>\n",
              "      <td>Leeds United</td>\n",
              "      <td>0.0</td>\n",
              "      <td>1.0</td>\n",
              "      <td>1.51</td>\n",
              "    </tr>\n",
              "    <tr>\n",
              "      <th>7267</th>\n",
              "      <td>Chris-Wood</td>\n",
              "      <td>21</td>\n",
              "      <td>Bournemouth</td>\n",
              "      <td>0.0</td>\n",
              "      <td>2.0</td>\n",
              "      <td>1.48</td>\n",
              "    </tr>\n",
              "    <tr>\n",
              "      <th>2767</th>\n",
              "      <td>Sam-Greenwood</td>\n",
              "      <td>21</td>\n",
              "      <td>Brentford</td>\n",
              "      <td>1.0</td>\n",
              "      <td>1.0</td>\n",
              "      <td>1.42</td>\n",
              "    </tr>\n",
              "    <tr>\n",
              "      <th>256</th>\n",
              "      <td>Julian-Alvarez</td>\n",
              "      <td>21</td>\n",
              "      <td>Wolves</td>\n",
              "      <td>1.0</td>\n",
              "      <td>1.0</td>\n",
              "      <td>1.40</td>\n",
              "    </tr>\n",
              "    <tr>\n",
              "      <th>347</th>\n",
              "      <td>Michail-Antonio</td>\n",
              "      <td>21</td>\n",
              "      <td>Everton</td>\n",
              "      <td>1.0</td>\n",
              "      <td>5.0</td>\n",
              "      <td>1.40</td>\n",
              "    </tr>\n",
              "    <tr>\n",
              "      <th>431</th>\n",
              "      <td>Adam-Armstrong</td>\n",
              "      <td>21</td>\n",
              "      <td>Aston Villa</td>\n",
              "      <td>1.0</td>\n",
              "      <td>2.0</td>\n",
              "      <td>1.33</td>\n",
              "    </tr>\n",
              "    <tr>\n",
              "      <th>3501</th>\n",
              "      <td>Harry-Kane</td>\n",
              "      <td>21</td>\n",
              "      <td>Fulham</td>\n",
              "      <td>0.0</td>\n",
              "      <td>6.0</td>\n",
              "      <td>1.03</td>\n",
              "    </tr>\n",
              "    <tr>\n",
              "      <th>4382</th>\n",
              "      <td>Jean-Philippe-Mateta</td>\n",
              "      <td>21</td>\n",
              "      <td>Newcastle Utd</td>\n",
              "      <td>1.0</td>\n",
              "      <td>1.0</td>\n",
              "      <td>0.85</td>\n",
              "    </tr>\n",
              "    <tr>\n",
              "      <th>2066</th>\n",
              "      <td>Odsonne-Edouard</td>\n",
              "      <td>21</td>\n",
              "      <td>Newcastle Utd</td>\n",
              "      <td>1.0</td>\n",
              "      <td>2.0</td>\n",
              "      <td>0.84</td>\n",
              "    </tr>\n",
              "    <tr>\n",
              "      <th>4409</th>\n",
              "      <td>Neal-Maupay</td>\n",
              "      <td>21</td>\n",
              "      <td>West Ham</td>\n",
              "      <td>0.0</td>\n",
              "      <td>0.0</td>\n",
              "      <td>0.75</td>\n",
              "    </tr>\n",
              "    <tr>\n",
              "      <th>6834</th>\n",
              "      <td>Deniz-Undav</td>\n",
              "      <td>21</td>\n",
              "      <td>Leicester City</td>\n",
              "      <td>0.0</td>\n",
              "      <td>0.0</td>\n",
              "      <td>0.45</td>\n",
              "    </tr>\n",
              "  </tbody>\n",
              "</table>\n",
              "</div>\n",
              "      <button class=\"colab-df-convert\" onclick=\"convertToInteractive('df-7a290013-5f61-4d4b-99f0-714f2121855a')\"\n",
              "              title=\"Convert this dataframe to an interactive table.\"\n",
              "              style=\"display:none;\">\n",
              "        \n",
              "  <svg xmlns=\"http://www.w3.org/2000/svg\" height=\"24px\"viewBox=\"0 0 24 24\"\n",
              "       width=\"24px\">\n",
              "    <path d=\"M0 0h24v24H0V0z\" fill=\"none\"/>\n",
              "    <path d=\"M18.56 5.44l.94 2.06.94-2.06 2.06-.94-2.06-.94-.94-2.06-.94 2.06-2.06.94zm-11 1L8.5 8.5l.94-2.06 2.06-.94-2.06-.94L8.5 2.5l-.94 2.06-2.06.94zm10 10l.94 2.06.94-2.06 2.06-.94-2.06-.94-.94-2.06-.94 2.06-2.06.94z\"/><path d=\"M17.41 7.96l-1.37-1.37c-.4-.4-.92-.59-1.43-.59-.52 0-1.04.2-1.43.59L10.3 9.45l-7.72 7.72c-.78.78-.78 2.05 0 2.83L4 21.41c.39.39.9.59 1.41.59.51 0 1.02-.2 1.41-.59l7.78-7.78 2.81-2.81c.8-.78.8-2.07 0-2.86zM5.41 20L4 18.59l7.72-7.72 1.47 1.35L5.41 20z\"/>\n",
              "  </svg>\n",
              "      </button>\n",
              "      \n",
              "  <style>\n",
              "    .colab-df-container {\n",
              "      display:flex;\n",
              "      flex-wrap:wrap;\n",
              "      gap: 12px;\n",
              "    }\n",
              "\n",
              "    .colab-df-convert {\n",
              "      background-color: #E8F0FE;\n",
              "      border: none;\n",
              "      border-radius: 50%;\n",
              "      cursor: pointer;\n",
              "      display: none;\n",
              "      fill: #1967D2;\n",
              "      height: 32px;\n",
              "      padding: 0 0 0 0;\n",
              "      width: 32px;\n",
              "    }\n",
              "\n",
              "    .colab-df-convert:hover {\n",
              "      background-color: #E2EBFA;\n",
              "      box-shadow: 0px 1px 2px rgba(60, 64, 67, 0.3), 0px 1px 3px 1px rgba(60, 64, 67, 0.15);\n",
              "      fill: #174EA6;\n",
              "    }\n",
              "\n",
              "    [theme=dark] .colab-df-convert {\n",
              "      background-color: #3B4455;\n",
              "      fill: #D2E3FC;\n",
              "    }\n",
              "\n",
              "    [theme=dark] .colab-df-convert:hover {\n",
              "      background-color: #434B5C;\n",
              "      box-shadow: 0px 1px 3px 1px rgba(0, 0, 0, 0.15);\n",
              "      filter: drop-shadow(0px 1px 2px rgba(0, 0, 0, 0.3));\n",
              "      fill: #FFFFFF;\n",
              "    }\n",
              "  </style>\n",
              "\n",
              "      <script>\n",
              "        const buttonEl =\n",
              "          document.querySelector('#df-7a290013-5f61-4d4b-99f0-714f2121855a button.colab-df-convert');\n",
              "        buttonEl.style.display =\n",
              "          google.colab.kernel.accessAllowed ? 'block' : 'none';\n",
              "\n",
              "        async function convertToInteractive(key) {\n",
              "          const element = document.querySelector('#df-7a290013-5f61-4d4b-99f0-714f2121855a');\n",
              "          const dataTable =\n",
              "            await google.colab.kernel.invokeFunction('convertToInteractive',\n",
              "                                                     [key], {});\n",
              "          if (!dataTable) return;\n",
              "\n",
              "          const docLinkHtml = 'Like what you see? Visit the ' +\n",
              "            '<a target=\"_blank\" href=https://colab.research.google.com/notebooks/data_table.ipynb>data table notebook</a>'\n",
              "            + ' to learn more about interactive tables.';\n",
              "          element.innerHTML = '';\n",
              "          dataTable['output_type'] = 'display_data';\n",
              "          await google.colab.output.renderOutput(dataTable, element);\n",
              "          const docLink = document.createElement('div');\n",
              "          docLink.innerHTML = docLinkHtml;\n",
              "          element.appendChild(docLink);\n",
              "        }\n",
              "      </script>\n",
              "    </div>\n",
              "  </div>\n",
              "  "
            ]
          },
          "metadata": {},
          "execution_count": 68
        }
      ],
      "source": [
        "# results sorted\n",
        "predictions_fwd.sort_values(by=[\"Points\"], ascending = False).head(30)[prediction_columns]"
      ]
    },
    {
      "cell_type": "code",
      "execution_count": 62,
      "id": "3ac8bbdb-979e-409d-8564-678cd5a3b968",
      "metadata": {
        "id": "3ac8bbdb-979e-409d-8564-678cd5a3b968"
      },
      "outputs": [],
      "source": []
    },
    {
      "cell_type": "code",
      "execution_count": 62,
      "id": "43368445-5cc4-45c3-8d46-90935ab138fc",
      "metadata": {
        "id": "43368445-5cc4-45c3-8d46-90935ab138fc"
      },
      "outputs": [],
      "source": []
    },
    {
      "cell_type": "code",
      "execution_count": 62,
      "id": "fa55a4ad-748a-4862-a02b-511bef68c9cb",
      "metadata": {
        "id": "fa55a4ad-748a-4862-a02b-511bef68c9cb"
      },
      "outputs": [],
      "source": []
    }
  ],
  "metadata": {
    "kernelspec": {
      "display_name": "Python 3 (ipykernel)",
      "language": "python",
      "name": "python3"
    },
    "language_info": {
      "codemirror_mode": {
        "name": "ipython",
        "version": 3
      },
      "file_extension": ".py",
      "mimetype": "text/x-python",
      "name": "python",
      "nbconvert_exporter": "python",
      "pygments_lexer": "ipython3",
      "version": "3.8.0"
    },
    "colab": {
      "provenance": []
    },
    "accelerator": "GPU",
    "gpuClass": "standard"
  },
  "nbformat": 4,
  "nbformat_minor": 5
}