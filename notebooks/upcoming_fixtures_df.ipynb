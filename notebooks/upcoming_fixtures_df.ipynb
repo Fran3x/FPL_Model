{
 "cells": [
  {
   "cell_type": "markdown",
   "id": "91c945b0-c1ba-4042-9227-f503c95bde8e",
   "metadata": {
    "tags": []
   },
   "source": [
    "# Imports"
   ]
  },
  {
   "cell_type": "code",
   "execution_count": 1,
   "id": "744029e6-b496-4881-b370-f6a0ac76f6f2",
   "metadata": {},
   "outputs": [],
   "source": [
    "import os\n",
    "os.chdir(\"D:\\PulpitE\\FPL_ML\")"
   ]
  },
  {
   "cell_type": "code",
   "execution_count": 2,
   "id": "c909c2c2-deeb-47a5-b611-e083e4f4c7fb",
   "metadata": {},
   "outputs": [],
   "source": [
    "import pandas as pd\n",
    "import numpy as np\n",
    "from vaastav.getters import *\n",
    "from datetime import datetime"
   ]
  },
  {
   "cell_type": "markdown",
   "id": "8daeb7db-e4e6-42ef-aafe-6b147df27f0c",
   "metadata": {},
   "source": [
    "# Constants"
   ]
  },
  {
   "cell_type": "code",
   "execution_count": 3,
   "id": "d5cab8dd-62fb-442f-9ff3-e67cc868a2e0",
   "metadata": {},
   "outputs": [],
   "source": [
    "NEXT_GW = 25\n",
    "\n",
    "# fixtures in sample\n",
    "FIS = 8\n",
    "\n",
    "CURRENT_SEASON = '2022-23'"
   ]
  },
  {
   "cell_type": "markdown",
   "id": "f62d4365-f057-44ca-9900-23df81d7a47c",
   "metadata": {},
   "source": [
    "# Upcoming fixtures"
   ]
  },
  {
   "cell_type": "code",
   "execution_count": 4,
   "id": "166d9804-df1b-45d0-81c5-3cbef56bbbc6",
   "metadata": {},
   "outputs": [],
   "source": [
    "fixtures = get_fixtures_data()"
   ]
  },
  {
   "cell_type": "code",
   "execution_count": 5,
   "id": "ea60451b-931d-47d6-8b12-c13140db174f",
   "metadata": {},
   "outputs": [],
   "source": [
    "df_fixtures = pd.DataFrame(fixtures)"
   ]
  },
  {
   "cell_type": "code",
   "execution_count": 6,
   "id": "a2417286-eb8b-4f31-94cc-09c7c8f918e2",
   "metadata": {},
   "outputs": [],
   "source": [
    "df_upcoming_fixtures = df_fixtures[df_fixtures[\"event\"] >= NEXT_GW]"
   ]
  },
  {
   "cell_type": "code",
   "execution_count": 7,
   "id": "63b1a2ab-1392-4013-bdfa-6e13e6922990",
   "metadata": {},
   "outputs": [],
   "source": [
    "def team_id_to_name(team_id):\n",
    "    teams = ['Arsenal',\n",
    "     'Aston Villa',\n",
    "     'Bournemouth',\n",
    "     'Brentford',\n",
    "     'Brighton',\n",
    "     'Chelsea',\n",
    "     'Crystal Palace',\n",
    "     'Everton',\n",
    "     'Fulham',\n",
    "     'Leicester City',\n",
    "     'Leeds United',\n",
    "     'Liverpool',\n",
    "     'Manchester City',\n",
    "     'Manchester Utd',\n",
    "     'Newcastle Utd',\n",
    "     \"Nott'ham Forest\",\n",
    "     'Southampton',\n",
    "     'Tottenham',\n",
    "     'West Ham',\n",
    "     'Wolves']\n",
    "    return teams[team_id - 1]"
   ]
  },
  {
   "cell_type": "code",
   "execution_count": 8,
   "id": "52246b02-a3d9-4beb-83f3-907a79d9b8cb",
   "metadata": {},
   "outputs": [
    {
     "name": "stderr",
     "output_type": "stream",
     "text": [
      "C:\\Users\\user\\AppData\\Local\\Temp\\ipykernel_1968\\3776683092.py:1: SettingWithCopyWarning: \n",
      "A value is trying to be set on a copy of a slice from a DataFrame.\n",
      "Try using .loc[row_indexer,col_indexer] = value instead\n",
      "\n",
      "See the caveats in the documentation: https://pandas.pydata.org/pandas-docs/stable/user_guide/indexing.html#returning-a-view-versus-a-copy\n",
      "  df_upcoming_fixtures[\"Squad H\"] = df_upcoming_fixtures[\"team_h\"].apply(team_id_to_name)\n",
      "C:\\Users\\user\\AppData\\Local\\Temp\\ipykernel_1968\\3776683092.py:2: SettingWithCopyWarning: \n",
      "A value is trying to be set on a copy of a slice from a DataFrame.\n",
      "Try using .loc[row_indexer,col_indexer] = value instead\n",
      "\n",
      "See the caveats in the documentation: https://pandas.pydata.org/pandas-docs/stable/user_guide/indexing.html#returning-a-view-versus-a-copy\n",
      "  df_upcoming_fixtures[\"Squad A\"] = df_upcoming_fixtures[\"team_a\"].apply(team_id_to_name)\n"
     ]
    }
   ],
   "source": [
    "df_upcoming_fixtures[\"Squad H\"] = df_upcoming_fixtures[\"team_h\"].apply(team_id_to_name)\n",
    "df_upcoming_fixtures[\"Squad A\"] = df_upcoming_fixtures[\"team_a\"].apply(team_id_to_name)"
   ]
  },
  {
   "cell_type": "code",
   "execution_count": 9,
   "id": "f3b9bb24-68d0-4203-b0de-ba79f47ec57a",
   "metadata": {},
   "outputs": [
    {
     "name": "stderr",
     "output_type": "stream",
     "text": [
      "C:\\users\\user\\appdata\\local\\programs\\python\\python38\\lib\\site-packages\\pandas\\core\\frame.py:5034: SettingWithCopyWarning: \n",
      "A value is trying to be set on a copy of a slice from a DataFrame\n",
      "\n",
      "See the caveats in the documentation: https://pandas.pydata.org/pandas-docs/stable/user_guide/indexing.html#returning-a-view-versus-a-copy\n",
      "  return super().rename(\n"
     ]
    }
   ],
   "source": [
    "df_upcoming_fixtures.rename(columns={\"event\": \"GW\"}, inplace=True)"
   ]
  },
  {
   "cell_type": "code",
   "execution_count": 10,
   "id": "fb7f7dc4-604f-40f3-b5aa-e5301262135c",
   "metadata": {},
   "outputs": [],
   "source": [
    "# df_upcoming_fixtures"
   ]
  },
  {
   "cell_type": "code",
   "execution_count": 11,
   "id": "56a07841-72f9-4930-8efa-d6a15e7daeee",
   "metadata": {},
   "outputs": [],
   "source": [
    "df_upcoming_fixtures = df_upcoming_fixtures[[\"GW\", \"kickoff_time\", \"Squad H\", \"Squad A\"]]"
   ]
  },
  {
   "cell_type": "code",
   "execution_count": 12,
   "id": "2bc0aa55-e97a-4ff5-a276-7d662baed99e",
   "metadata": {},
   "outputs": [],
   "source": [
    "df_upcoming_fixtures[\"kickoff_time\"] = df_upcoming_fixtures[\"kickoff_time\"].str[:10]"
   ]
  },
  {
   "cell_type": "code",
   "execution_count": 13,
   "id": "110419be-0a01-4f5e-a7d8-0cc10d38183e",
   "metadata": {
    "tags": []
   },
   "outputs": [],
   "source": [
    "# df_upcoming_fixtures.head(15)"
   ]
  },
  {
   "cell_type": "markdown",
   "id": "1343b4ef-fdbe-4249-a27a-09a2a71f118c",
   "metadata": {},
   "source": [
    "# Active players"
   ]
  },
  {
   "cell_type": "code",
   "execution_count": 14,
   "id": "52dfa9b5-9bd4-4a5a-9f06-12cbcaf1c85c",
   "metadata": {},
   "outputs": [],
   "source": [
    "def get_active_players():\n",
    "    previous_fixtures = pd.read_csv(\"data/final_dataset.csv\")\n",
    "    name_counts = previous_fixtures.groupby('Name').size()\n",
    "    filtered_names = name_counts[name_counts >= FIS].index\n",
    "    result = previous_fixtures[previous_fixtures['Name'].isin(filtered_names)].groupby('Name').tail(1)\n",
    "    result = result.loc[:, ~result.columns.str.contains('^Unnamed')]\n",
    "    return result"
   ]
  },
  {
   "cell_type": "code",
   "execution_count": 15,
   "id": "1afaba5b-03e1-4ec0-9630-1e8616f6197b",
   "metadata": {},
   "outputs": [],
   "source": [
    "active_players = get_active_players()"
   ]
  },
  {
   "cell_type": "code",
   "execution_count": 16,
   "id": "f2cc0479-d7c9-4570-8378-0e3074895982",
   "metadata": {},
   "outputs": [
    {
     "data": {
      "text/html": [
       "<div>\n",
       "<style scoped>\n",
       "    .dataframe tbody tr th:only-of-type {\n",
       "        vertical-align: middle;\n",
       "    }\n",
       "\n",
       "    .dataframe tbody tr th {\n",
       "        vertical-align: top;\n",
       "    }\n",
       "\n",
       "    .dataframe thead th {\n",
       "        text-align: right;\n",
       "    }\n",
       "</style>\n",
       "<table border=\"1\" class=\"dataframe\">\n",
       "  <thead>\n",
       "    <tr style=\"text-align: right;\">\n",
       "      <th></th>\n",
       "      <th>Name</th>\n",
       "      <th>Squad</th>\n",
       "    </tr>\n",
       "  </thead>\n",
       "  <tbody>\n",
       "    <tr>\n",
       "      <th>18</th>\n",
       "      <td>Brenden-Aaronson</td>\n",
       "      <td>Leeds United</td>\n",
       "    </tr>\n",
       "    <tr>\n",
       "      <th>38</th>\n",
       "      <td>Che-Adams</td>\n",
       "      <td>Southampton</td>\n",
       "    </tr>\n",
       "    <tr>\n",
       "      <th>55</th>\n",
       "      <td>Tyler-Adams</td>\n",
       "      <td>Leeds United</td>\n",
       "    </tr>\n",
       "    <tr>\n",
       "      <th>76</th>\n",
       "      <td>Tosin-Adarabioyo</td>\n",
       "      <td>Fulham</td>\n",
       "    </tr>\n",
       "    <tr>\n",
       "      <th>101</th>\n",
       "      <td>Rayan-Ait-Nouri</td>\n",
       "      <td>Wolves</td>\n",
       "    </tr>\n",
       "    <tr>\n",
       "      <th>...</th>\n",
       "      <td>...</td>\n",
       "      <td>...</td>\n",
       "    </tr>\n",
       "    <tr>\n",
       "      <th>7392</th>\n",
       "      <td>Jordan-Zemura</td>\n",
       "      <td>Bournemouth</td>\n",
       "    </tr>\n",
       "    <tr>\n",
       "      <th>7404</th>\n",
       "      <td>Oleksandr-Zinchenko</td>\n",
       "      <td>Arsenal</td>\n",
       "    </tr>\n",
       "    <tr>\n",
       "      <th>7422</th>\n",
       "      <td>Hakim-Ziyech</td>\n",
       "      <td>Chelsea</td>\n",
       "    </tr>\n",
       "    <tr>\n",
       "      <th>7438</th>\n",
       "      <td>Kurt-Zouma</td>\n",
       "      <td>West Ham</td>\n",
       "    </tr>\n",
       "    <tr>\n",
       "      <th>7456</th>\n",
       "      <td>Martin-Odegaard</td>\n",
       "      <td>Arsenal</td>\n",
       "    </tr>\n",
       "  </tbody>\n",
       "</table>\n",
       "<p>434 rows × 2 columns</p>\n",
       "</div>"
      ],
      "text/plain": [
       "                     Name         Squad\n",
       "18       Brenden-Aaronson  Leeds United\n",
       "38              Che-Adams   Southampton\n",
       "55            Tyler-Adams  Leeds United\n",
       "76       Tosin-Adarabioyo        Fulham\n",
       "101       Rayan-Ait-Nouri        Wolves\n",
       "...                   ...           ...\n",
       "7392        Jordan-Zemura   Bournemouth\n",
       "7404  Oleksandr-Zinchenko       Arsenal\n",
       "7422         Hakim-Ziyech       Chelsea\n",
       "7438           Kurt-Zouma      West Ham\n",
       "7456      Martin-Odegaard       Arsenal\n",
       "\n",
       "[434 rows x 2 columns]"
      ]
     },
     "execution_count": 16,
     "metadata": {},
     "output_type": "execute_result"
    }
   ],
   "source": [
    "active_players[[\"Name\", \"Squad\"]]"
   ]
  },
  {
   "cell_type": "code",
   "execution_count": 17,
   "id": "a8413c4f-c5d1-475a-a2ac-d48bdabcbe39",
   "metadata": {},
   "outputs": [],
   "source": [
    "picked_columns = [\"Name\", \"GW\", \"kickoff_time\", \"Squad\", \"Squad H\", \"Squad A\", \"Was Home\", \"Opponent\"]"
   ]
  },
  {
   "cell_type": "code",
   "execution_count": 18,
   "id": "1d602d4e-1e36-4d8c-b70f-193c7f7ff03c",
   "metadata": {},
   "outputs": [],
   "source": [
    "upcoming_player_fixtures_home = active_players.rename(columns={\"Squad\": \"Squad H\"}).drop(columns=[\"GW\"]).set_index([\"Squad H\"]).join(df_upcoming_fixtures.set_index([\"Squad H\"])).reset_index(level=0)\n",
    "upcoming_player_fixtures_home[\"Squad\"] = upcoming_player_fixtures_home[\"Squad H\"]\n",
    "upcoming_player_fixtures_home[\"Was Home\"] = True\n",
    "# upcoming_player_fixtures_home.loc[upcoming_player_fixtures_home[\"GW_left\"].isnull(), \"GW_left\"] = 77\n",
    "# upcoming_player_fixtures_home['C'] = upcoming_player_fixtures_home['GW_left'].fillna(upcoming_player_fixtures_home['GW_right'])\n",
    "upcoming_player_fixtures_home[\"Opponent\"] = upcoming_player_fixtures_home[\"Squad A\"]\n",
    "upcoming_player_fixtures_home = upcoming_player_fixtures_home[picked_columns]"
   ]
  },
  {
   "cell_type": "code",
   "execution_count": 19,
   "id": "da049897-593f-4c80-8da9-1f312a19daed",
   "metadata": {},
   "outputs": [],
   "source": [
    "# upcoming_player_fixtures_home"
   ]
  },
  {
   "cell_type": "code",
   "execution_count": 20,
   "id": "f8f06573-2aa1-4ace-b41c-c1d808dc875d",
   "metadata": {},
   "outputs": [
    {
     "data": {
      "text/plain": [
       "array([25., 26., 28., 29., 32., 34., 36., 38., 30., 31., 33., 27., 35.,\n",
       "       37.])"
      ]
     },
     "execution_count": 20,
     "metadata": {},
     "output_type": "execute_result"
    }
   ],
   "source": [
    "upcoming_player_fixtures_home['GW'].unique()"
   ]
  },
  {
   "cell_type": "code",
   "execution_count": 21,
   "id": "67f4aa8c-795f-44a7-9592-53c6b8d2ceeb",
   "metadata": {},
   "outputs": [],
   "source": [
    "upcoming_player_fixtures_away = active_players.rename(columns={\"Squad\": \"Squad A\"}).drop(columns=[\"GW\"]).set_index(\"Squad A\").join(df_upcoming_fixtures.set_index(\"Squad A\")).reset_index(level=0)\n",
    "upcoming_player_fixtures_away[\"Squad\"] = upcoming_player_fixtures_away[\"Squad A\"]\n",
    "upcoming_player_fixtures_away[\"Was Home\"] = False\n",
    "upcoming_player_fixtures_away[\"Opponent\"] = upcoming_player_fixtures_away[\"Squad H\"]\n",
    "upcoming_player_fixtures_away = upcoming_player_fixtures_away[picked_columns]"
   ]
  },
  {
   "cell_type": "code",
   "execution_count": 22,
   "id": "02b16e78-efdd-42aa-94d4-19da6c201a6b",
   "metadata": {},
   "outputs": [],
   "source": [
    "upcoming_player_fixtures = pd.concat([upcoming_player_fixtures_home, upcoming_player_fixtures_away]).sort_values(by=[\"Name\", \"GW\"])"
   ]
  },
  {
   "cell_type": "code",
   "execution_count": 23,
   "id": "41c02d99-1545-41bb-9e89-f95791719ff4",
   "metadata": {},
   "outputs": [],
   "source": [
    "upcoming_player_fixtures[\"Season\"] = CURRENT_SEASON\n",
    "upcoming_player_fixtures[\"Finished\"] = False"
   ]
  },
  {
   "cell_type": "code",
   "execution_count": 24,
   "id": "4bd83aeb-cf69-4774-a761-62aca5ab21c9",
   "metadata": {},
   "outputs": [],
   "source": [
    "upcoming_player_fixtures = upcoming_player_fixtures.rename(columns={\"kickoff_time\": \"Date\"})"
   ]
  },
  {
   "cell_type": "code",
   "execution_count": 25,
   "id": "a0053128-fd41-45c7-87b6-c3a651ffc1be",
   "metadata": {},
   "outputs": [],
   "source": [
    "# upcoming_player_fixtures[upcoming_player_fixtures[\"Name\"] == \"Gabriel-Dos-Santos\"]"
   ]
  },
  {
   "cell_type": "code",
   "execution_count": 26,
   "id": "3dc73d41-90dc-4532-a31e-af5cec138fa0",
   "metadata": {},
   "outputs": [
    {
     "data": {
      "text/plain": [
       "(6422, 10)"
      ]
     },
     "execution_count": 26,
     "metadata": {},
     "output_type": "execute_result"
    }
   ],
   "source": [
    "upcoming_player_fixtures.shape"
   ]
  },
  {
   "cell_type": "markdown",
   "id": "1a97aac6-55dd-4219-be54-eb1379b107c8",
   "metadata": {},
   "source": [
    "# Loading previous fixtures"
   ]
  },
  {
   "cell_type": "code",
   "execution_count": 27,
   "id": "b9d7b470-e200-4a1e-a304-c08cfb7e2a05",
   "metadata": {},
   "outputs": [],
   "source": [
    "previous_fixtures = pd.read_csv(\"data/final_dataset.csv\")"
   ]
  },
  {
   "cell_type": "code",
   "execution_count": 28,
   "id": "00a57346-90e3-4cff-b0d0-68c5835cc9c1",
   "metadata": {},
   "outputs": [],
   "source": [
    "previous_fixtures[\"Finished\"] = True"
   ]
  },
  {
   "cell_type": "markdown",
   "id": "705124df-b087-436d-a9b4-511aa836addd",
   "metadata": {},
   "source": [
    "# Assigning team elo"
   ]
  },
  {
   "cell_type": "code",
   "execution_count": 29,
   "id": "51dd8992-a51a-4db9-bc9d-98c8cd7e7719",
   "metadata": {},
   "outputs": [],
   "source": [
    "team_ratings = pd.read_csv(\"data/team_ratings_history.csv\")"
   ]
  },
  {
   "cell_type": "code",
   "execution_count": 30,
   "id": "631e9959-14c2-4ccc-b5f9-e05d8951a134",
   "metadata": {},
   "outputs": [],
   "source": [
    "# function to assign rating for team\n",
    "def get_rating_for_team(team_ratings, team_name, date):\n",
    "    rating = None\n",
    "    try:\n",
    "        rating = team_ratings[(team_ratings['From'] <= date.strftime(\"%Y-%m-%d\")) & (team_ratings['Club'] == team_name)].iloc[-1]['Elo']\n",
    "    except:\n",
    "        print(team_name, date)\n",
    "    return rating"
   ]
  },
  {
   "cell_type": "code",
   "execution_count": 31,
   "id": "18fedc7a-d92e-47be-bfb7-382eaefeb92c",
   "metadata": {},
   "outputs": [],
   "source": [
    "def fbref_to_team_elo(team_name):\n",
    "    # changes name of a team\n",
    "    if team_name == \"Leicester City\":\n",
    "        return \"Leicester\"\n",
    "    if team_name == \"Manchester City\":\n",
    "        return \"Man City\"\n",
    "    if team_name == \"Manchester Utd\":\n",
    "        return \"Man United\"\n",
    "    if team_name == \"Newcastle Utd\":\n",
    "        return \"Newcastle\"\n",
    "    if team_name == \"Nott'ham Forest\":\n",
    "        return \"Forest\"\n",
    "    if team_name == \"Leeds United\":\n",
    "        return \"Leeds\"\n",
    "    return team_name"
   ]
  },
  {
   "cell_type": "code",
   "execution_count": 32,
   "id": "96d5b6d1-eebd-478c-a99f-117b9761c8b8",
   "metadata": {},
   "outputs": [
    {
     "name": "stdout",
     "output_type": "stream",
     "text": [
      "CPU times: total: 1min 20s\n",
      "Wall time: 1min 21s\n"
     ]
    }
   ],
   "source": [
    "%%time\n",
    "upcoming_player_fixtures[\"Opp rating\"] = upcoming_player_fixtures.apply(lambda row : get_rating_for_team(team_ratings,\n",
    "                     fbref_to_team_elo(row['Opponent']), datetime.strptime(row['Date'], '%Y-%m-%d')), axis=1)"
   ]
  },
  {
   "cell_type": "code",
   "execution_count": 33,
   "id": "30a2c2c7-a9b8-4218-be1c-7e81982b923b",
   "metadata": {},
   "outputs": [
    {
     "name": "stdout",
     "output_type": "stream",
     "text": [
      "CPU times: total: 1min 22s\n",
      "Wall time: 1min 24s\n"
     ]
    }
   ],
   "source": [
    "%%time\n",
    "upcoming_player_fixtures[\"Team rating\"] = upcoming_player_fixtures.apply(lambda row : get_rating_for_team(team_ratings,\n",
    "                     fbref_to_team_elo(row['Squad']), datetime.strptime(row['Date'], '%Y-%m-%d')), axis=1)"
   ]
  },
  {
   "cell_type": "code",
   "execution_count": 34,
   "id": "ed4452f0-968e-4155-8bb6-5ae4d8fb2d8e",
   "metadata": {},
   "outputs": [
    {
     "data": {
      "text/html": [
       "<div>\n",
       "<style scoped>\n",
       "    .dataframe tbody tr th:only-of-type {\n",
       "        vertical-align: middle;\n",
       "    }\n",
       "\n",
       "    .dataframe tbody tr th {\n",
       "        vertical-align: top;\n",
       "    }\n",
       "\n",
       "    .dataframe thead th {\n",
       "        text-align: right;\n",
       "    }\n",
       "</style>\n",
       "<table border=\"1\" class=\"dataframe\">\n",
       "  <thead>\n",
       "    <tr style=\"text-align: right;\">\n",
       "      <th></th>\n",
       "      <th>Name</th>\n",
       "      <th>GW</th>\n",
       "      <th>Date</th>\n",
       "      <th>Squad</th>\n",
       "      <th>Squad H</th>\n",
       "      <th>Squad A</th>\n",
       "      <th>Was Home</th>\n",
       "      <th>Opponent</th>\n",
       "      <th>Season</th>\n",
       "      <th>Finished</th>\n",
       "      <th>Opp rating</th>\n",
       "      <th>Team rating</th>\n",
       "    </tr>\n",
       "  </thead>\n",
       "  <tbody>\n",
       "    <tr>\n",
       "      <th>0</th>\n",
       "      <td>Gabriel-Dos-Santos</td>\n",
       "      <td>25.0</td>\n",
       "      <td>2023-03-01</td>\n",
       "      <td>Arsenal</td>\n",
       "      <td>Arsenal</td>\n",
       "      <td>Everton</td>\n",
       "      <td>True</td>\n",
       "      <td>Everton</td>\n",
       "      <td>2022-23</td>\n",
       "      <td>False</td>\n",
       "      <td>1667.462280</td>\n",
       "      <td>1946.912109</td>\n",
       "    </tr>\n",
       "    <tr>\n",
       "      <th>0</th>\n",
       "      <td>Gabriel-Dos-Santos</td>\n",
       "      <td>25.0</td>\n",
       "      <td>2023-02-25</td>\n",
       "      <td>Arsenal</td>\n",
       "      <td>Leicester City</td>\n",
       "      <td>Arsenal</td>\n",
       "      <td>False</td>\n",
       "      <td>Leicester City</td>\n",
       "      <td>2022-23</td>\n",
       "      <td>False</td>\n",
       "      <td>1746.499023</td>\n",
       "      <td>1946.912109</td>\n",
       "    </tr>\n",
       "    <tr>\n",
       "      <th>1</th>\n",
       "      <td>Gabriel-Dos-Santos</td>\n",
       "      <td>26.0</td>\n",
       "      <td>2023-03-04</td>\n",
       "      <td>Arsenal</td>\n",
       "      <td>Arsenal</td>\n",
       "      <td>Bournemouth</td>\n",
       "      <td>True</td>\n",
       "      <td>Bournemouth</td>\n",
       "      <td>2022-23</td>\n",
       "      <td>False</td>\n",
       "      <td>1636.081665</td>\n",
       "      <td>1946.912109</td>\n",
       "    </tr>\n",
       "    <tr>\n",
       "      <th>1</th>\n",
       "      <td>Gabriel-Dos-Santos</td>\n",
       "      <td>27.0</td>\n",
       "      <td>2023-03-12</td>\n",
       "      <td>Arsenal</td>\n",
       "      <td>Fulham</td>\n",
       "      <td>Arsenal</td>\n",
       "      <td>False</td>\n",
       "      <td>Fulham</td>\n",
       "      <td>2022-23</td>\n",
       "      <td>False</td>\n",
       "      <td>1717.072754</td>\n",
       "      <td>1946.912109</td>\n",
       "    </tr>\n",
       "    <tr>\n",
       "      <th>2</th>\n",
       "      <td>Gabriel-Dos-Santos</td>\n",
       "      <td>28.0</td>\n",
       "      <td>2023-03-19</td>\n",
       "      <td>Arsenal</td>\n",
       "      <td>Arsenal</td>\n",
       "      <td>Crystal Palace</td>\n",
       "      <td>True</td>\n",
       "      <td>Crystal Palace</td>\n",
       "      <td>2022-23</td>\n",
       "      <td>False</td>\n",
       "      <td>1742.434937</td>\n",
       "      <td>1946.912109</td>\n",
       "    </tr>\n",
       "    <tr>\n",
       "      <th>3</th>\n",
       "      <td>Gabriel-Dos-Santos</td>\n",
       "      <td>29.0</td>\n",
       "      <td>2023-04-01</td>\n",
       "      <td>Arsenal</td>\n",
       "      <td>Arsenal</td>\n",
       "      <td>Leeds United</td>\n",
       "      <td>True</td>\n",
       "      <td>Leeds United</td>\n",
       "      <td>2022-23</td>\n",
       "      <td>False</td>\n",
       "      <td>1708.115723</td>\n",
       "      <td>1946.912109</td>\n",
       "    </tr>\n",
       "    <tr>\n",
       "      <th>2</th>\n",
       "      <td>Gabriel-Dos-Santos</td>\n",
       "      <td>30.0</td>\n",
       "      <td>2023-04-09</td>\n",
       "      <td>Arsenal</td>\n",
       "      <td>Liverpool</td>\n",
       "      <td>Arsenal</td>\n",
       "      <td>False</td>\n",
       "      <td>Liverpool</td>\n",
       "      <td>2022-23</td>\n",
       "      <td>False</td>\n",
       "      <td>1963.465210</td>\n",
       "      <td>1946.912109</td>\n",
       "    </tr>\n",
       "    <tr>\n",
       "      <th>3</th>\n",
       "      <td>Gabriel-Dos-Santos</td>\n",
       "      <td>31.0</td>\n",
       "      <td>2023-04-16</td>\n",
       "      <td>Arsenal</td>\n",
       "      <td>West Ham</td>\n",
       "      <td>Arsenal</td>\n",
       "      <td>False</td>\n",
       "      <td>West Ham</td>\n",
       "      <td>2022-23</td>\n",
       "      <td>False</td>\n",
       "      <td>1748.305420</td>\n",
       "      <td>1946.912109</td>\n",
       "    </tr>\n",
       "    <tr>\n",
       "      <th>4</th>\n",
       "      <td>Gabriel-Dos-Santos</td>\n",
       "      <td>32.0</td>\n",
       "      <td>2023-04-21</td>\n",
       "      <td>Arsenal</td>\n",
       "      <td>Arsenal</td>\n",
       "      <td>Southampton</td>\n",
       "      <td>True</td>\n",
       "      <td>Southampton</td>\n",
       "      <td>2022-23</td>\n",
       "      <td>False</td>\n",
       "      <td>1651.960449</td>\n",
       "      <td>1946.912109</td>\n",
       "    </tr>\n",
       "    <tr>\n",
       "      <th>4</th>\n",
       "      <td>Gabriel-Dos-Santos</td>\n",
       "      <td>33.0</td>\n",
       "      <td>2023-04-26</td>\n",
       "      <td>Arsenal</td>\n",
       "      <td>Manchester City</td>\n",
       "      <td>Arsenal</td>\n",
       "      <td>False</td>\n",
       "      <td>Manchester City</td>\n",
       "      <td>2022-23</td>\n",
       "      <td>False</td>\n",
       "      <td>2026.310791</td>\n",
       "      <td>1946.912109</td>\n",
       "    </tr>\n",
       "    <tr>\n",
       "      <th>5</th>\n",
       "      <td>Gabriel-Dos-Santos</td>\n",
       "      <td>34.0</td>\n",
       "      <td>2023-04-29</td>\n",
       "      <td>Arsenal</td>\n",
       "      <td>Arsenal</td>\n",
       "      <td>Chelsea</td>\n",
       "      <td>True</td>\n",
       "      <td>Chelsea</td>\n",
       "      <td>2022-23</td>\n",
       "      <td>False</td>\n",
       "      <td>1870.791016</td>\n",
       "      <td>1946.912109</td>\n",
       "    </tr>\n",
       "    <tr>\n",
       "      <th>5</th>\n",
       "      <td>Gabriel-Dos-Santos</td>\n",
       "      <td>35.0</td>\n",
       "      <td>2023-05-06</td>\n",
       "      <td>Arsenal</td>\n",
       "      <td>Newcastle Utd</td>\n",
       "      <td>Arsenal</td>\n",
       "      <td>False</td>\n",
       "      <td>Newcastle Utd</td>\n",
       "      <td>2022-23</td>\n",
       "      <td>False</td>\n",
       "      <td>1855.404907</td>\n",
       "      <td>1946.912109</td>\n",
       "    </tr>\n",
       "    <tr>\n",
       "      <th>6</th>\n",
       "      <td>Gabriel-Dos-Santos</td>\n",
       "      <td>36.0</td>\n",
       "      <td>2023-05-13</td>\n",
       "      <td>Arsenal</td>\n",
       "      <td>Arsenal</td>\n",
       "      <td>Brighton</td>\n",
       "      <td>True</td>\n",
       "      <td>Brighton</td>\n",
       "      <td>2022-23</td>\n",
       "      <td>False</td>\n",
       "      <td>1822.430054</td>\n",
       "      <td>1946.912109</td>\n",
       "    </tr>\n",
       "    <tr>\n",
       "      <th>6</th>\n",
       "      <td>Gabriel-Dos-Santos</td>\n",
       "      <td>37.0</td>\n",
       "      <td>2023-05-20</td>\n",
       "      <td>Arsenal</td>\n",
       "      <td>Nott'ham Forest</td>\n",
       "      <td>Arsenal</td>\n",
       "      <td>False</td>\n",
       "      <td>Nott'ham Forest</td>\n",
       "      <td>2022-23</td>\n",
       "      <td>False</td>\n",
       "      <td>1655.643188</td>\n",
       "      <td>1946.912109</td>\n",
       "    </tr>\n",
       "    <tr>\n",
       "      <th>7</th>\n",
       "      <td>Gabriel-Dos-Santos</td>\n",
       "      <td>38.0</td>\n",
       "      <td>2023-05-28</td>\n",
       "      <td>Arsenal</td>\n",
       "      <td>Arsenal</td>\n",
       "      <td>Wolves</td>\n",
       "      <td>True</td>\n",
       "      <td>Wolves</td>\n",
       "      <td>2022-23</td>\n",
       "      <td>False</td>\n",
       "      <td>1695.581787</td>\n",
       "      <td>1946.912109</td>\n",
       "    </tr>\n",
       "  </tbody>\n",
       "</table>\n",
       "</div>"
      ],
      "text/plain": [
       "                 Name    GW        Date    Squad          Squad H  \\\n",
       "0  Gabriel-Dos-Santos  25.0  2023-03-01  Arsenal          Arsenal   \n",
       "0  Gabriel-Dos-Santos  25.0  2023-02-25  Arsenal   Leicester City   \n",
       "1  Gabriel-Dos-Santos  26.0  2023-03-04  Arsenal          Arsenal   \n",
       "1  Gabriel-Dos-Santos  27.0  2023-03-12  Arsenal           Fulham   \n",
       "2  Gabriel-Dos-Santos  28.0  2023-03-19  Arsenal          Arsenal   \n",
       "3  Gabriel-Dos-Santos  29.0  2023-04-01  Arsenal          Arsenal   \n",
       "2  Gabriel-Dos-Santos  30.0  2023-04-09  Arsenal        Liverpool   \n",
       "3  Gabriel-Dos-Santos  31.0  2023-04-16  Arsenal         West Ham   \n",
       "4  Gabriel-Dos-Santos  32.0  2023-04-21  Arsenal          Arsenal   \n",
       "4  Gabriel-Dos-Santos  33.0  2023-04-26  Arsenal  Manchester City   \n",
       "5  Gabriel-Dos-Santos  34.0  2023-04-29  Arsenal          Arsenal   \n",
       "5  Gabriel-Dos-Santos  35.0  2023-05-06  Arsenal    Newcastle Utd   \n",
       "6  Gabriel-Dos-Santos  36.0  2023-05-13  Arsenal          Arsenal   \n",
       "6  Gabriel-Dos-Santos  37.0  2023-05-20  Arsenal  Nott'ham Forest   \n",
       "7  Gabriel-Dos-Santos  38.0  2023-05-28  Arsenal          Arsenal   \n",
       "\n",
       "          Squad A  Was Home         Opponent   Season  Finished   Opp rating  \\\n",
       "0         Everton      True          Everton  2022-23     False  1667.462280   \n",
       "0         Arsenal     False   Leicester City  2022-23     False  1746.499023   \n",
       "1     Bournemouth      True      Bournemouth  2022-23     False  1636.081665   \n",
       "1         Arsenal     False           Fulham  2022-23     False  1717.072754   \n",
       "2  Crystal Palace      True   Crystal Palace  2022-23     False  1742.434937   \n",
       "3    Leeds United      True     Leeds United  2022-23     False  1708.115723   \n",
       "2         Arsenal     False        Liverpool  2022-23     False  1963.465210   \n",
       "3         Arsenal     False         West Ham  2022-23     False  1748.305420   \n",
       "4     Southampton      True      Southampton  2022-23     False  1651.960449   \n",
       "4         Arsenal     False  Manchester City  2022-23     False  2026.310791   \n",
       "5         Chelsea      True          Chelsea  2022-23     False  1870.791016   \n",
       "5         Arsenal     False    Newcastle Utd  2022-23     False  1855.404907   \n",
       "6        Brighton      True         Brighton  2022-23     False  1822.430054   \n",
       "6         Arsenal     False  Nott'ham Forest  2022-23     False  1655.643188   \n",
       "7          Wolves      True           Wolves  2022-23     False  1695.581787   \n",
       "\n",
       "   Team rating  \n",
       "0  1946.912109  \n",
       "0  1946.912109  \n",
       "1  1946.912109  \n",
       "1  1946.912109  \n",
       "2  1946.912109  \n",
       "3  1946.912109  \n",
       "2  1946.912109  \n",
       "3  1946.912109  \n",
       "4  1946.912109  \n",
       "4  1946.912109  \n",
       "5  1946.912109  \n",
       "5  1946.912109  \n",
       "6  1946.912109  \n",
       "6  1946.912109  \n",
       "7  1946.912109  "
      ]
     },
     "execution_count": 34,
     "metadata": {},
     "output_type": "execute_result"
    }
   ],
   "source": [
    "upcoming_player_fixtures[upcoming_player_fixtures[\"Name\"] == \"Gabriel-Dos-Santos\"]"
   ]
  },
  {
   "cell_type": "markdown",
   "id": "cb9df326-551e-42f3-be97-9a3471b148b8",
   "metadata": {},
   "source": [
    "# Adding features"
   ]
  },
  {
   "cell_type": "code",
   "execution_count": 35,
   "id": "238885d6-7f72-45a7-9b3d-b05cb9f7ee5d",
   "metadata": {},
   "outputs": [
    {
     "name": "stdout",
     "output_type": "stream",
     "text": [
      "CPU times: total: 10 s\n",
      "Wall time: 10.2 s\n"
     ]
    }
   ],
   "source": [
    "%%time\n",
    "# calculating features for every player\n",
    "overall_average_columns = [\"Min\", \"Gls\", \"Ast\", \"CrdY\", \"CrdR\", \"xG\", \"xAG\", \"CS\", \"Team Score\", \"Opp Score\", \"FPL\"]\n",
    "\n",
    "for name in upcoming_player_fixtures[\"Name\"].unique():\n",
    "    for col in overall_average_columns:\n",
    "        value = previous_fixtures[previous_fixtures[\"Name\"] == name][col].mean()\n",
    "        upcoming_player_fixtures.loc[upcoming_player_fixtures[\"Name\"] == name, col + \"AvgOverall\"] = value\n",
    "        \n",
    "    upcoming_player_fixtures.loc[upcoming_player_fixtures[\"Name\"] == name, 'ScoreForLast5'] = previous_fixtures[previous_fixtures[\"Name\"] == name]['Team Score'].tail(5).mean()\n",
    "    upcoming_player_fixtures.loc[upcoming_player_fixtures[\"Name\"] == name, 'ScoreAgainstLast5'] = previous_fixtures[previous_fixtures[\"Name\"] == name]['Opp Score'].tail(5).mean()"
   ]
  },
  {
   "cell_type": "code",
   "execution_count": 36,
   "id": "1bb09f9a-39fc-40a9-bfda-83c6d7b0b48d",
   "metadata": {},
   "outputs": [
    {
     "data": {
      "text/plain": [
       "Index(['Name', 'GW', 'Date', 'Squad', 'Squad H', 'Squad A', 'Was Home',\n",
       "       'Opponent', 'Season', 'Finished', 'Opp rating', 'Team rating',\n",
       "       'MinAvgOverall', 'GlsAvgOverall', 'AstAvgOverall', 'CrdYAvgOverall',\n",
       "       'CrdRAvgOverall', 'xGAvgOverall', 'xAGAvgOverall', 'CSAvgOverall',\n",
       "       'Team ScoreAvgOverall', 'Opp ScoreAvgOverall', 'FPLAvgOverall',\n",
       "       'ScoreForLast5', 'ScoreAgainstLast5'],\n",
       "      dtype='object')"
      ]
     },
     "execution_count": 36,
     "metadata": {},
     "output_type": "execute_result"
    }
   ],
   "source": [
    "upcoming_player_fixtures.columns"
   ]
  },
  {
   "cell_type": "markdown",
   "id": "28a63fcb-39d3-401f-b540-c986c7cc52c8",
   "metadata": {},
   "source": [
    "# Concat dataframes"
   ]
  },
  {
   "cell_type": "code",
   "execution_count": 37,
   "id": "502f0c40-db67-4e7d-8bf5-5f95dcd5de58",
   "metadata": {
    "tags": []
   },
   "outputs": [],
   "source": [
    "all_fixtures = pd.concat([previous_fixtures, upcoming_player_fixtures])"
   ]
  },
  {
   "cell_type": "code",
   "execution_count": 38,
   "id": "1e6af621-cb57-4a9d-960c-8c1082f648f1",
   "metadata": {
    "tags": []
   },
   "outputs": [],
   "source": [
    "# all_fixtures.tail(20)"
   ]
  },
  {
   "cell_type": "code",
   "execution_count": 39,
   "id": "b28c52da-a4e9-4f96-93d8-19ac875cecaf",
   "metadata": {},
   "outputs": [],
   "source": [
    "all_fixtures.to_csv(\"data/upcoming_fixtures.csv\")"
   ]
  }
 ],
 "metadata": {
  "kernelspec": {
   "display_name": "Python 3 (ipykernel)",
   "language": "python",
   "name": "python3"
  },
  "language_info": {
   "codemirror_mode": {
    "name": "ipython",
    "version": 3
   },
   "file_extension": ".py",
   "mimetype": "text/x-python",
   "name": "python",
   "nbconvert_exporter": "python",
   "pygments_lexer": "ipython3",
   "version": "3.8.0"
  }
 },
 "nbformat": 4,
 "nbformat_minor": 5
}
