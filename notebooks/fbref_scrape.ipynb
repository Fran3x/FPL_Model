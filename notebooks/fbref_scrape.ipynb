{
 "cells": [
  {
   "cell_type": "markdown",
   "id": "d26d6472",
   "metadata": {},
   "source": [
    "# Imports"
   ]
  },
  {
   "cell_type": "code",
   "execution_count": 1,
   "id": "f6a1779c-aca4-4390-a14a-518395fd17c0",
   "metadata": {},
   "outputs": [],
   "source": [
    "import os\n",
    "os.chdir(\"D:\\PulpitE\\FPL_ML\")"
   ]
  },
  {
   "cell_type": "code",
   "execution_count": 2,
   "id": "bb575005",
   "metadata": {},
   "outputs": [],
   "source": [
    "import pandas as pd\n",
    "import time\n",
    "from vaastav.fbref import *\n",
    "from src.match_names import neutralize_name"
   ]
  },
  {
   "cell_type": "markdown",
   "id": "d38501e9",
   "metadata": {},
   "source": [
    "# Getting raw data"
   ]
  },
  {
   "cell_type": "code",
   "execution_count": 3,
   "id": "5e3ab9f4-74a1-4364-96e5-8ff53152585c",
   "metadata": {},
   "outputs": [],
   "source": [
    "# only Mo Salah\n",
    "only_Salah = False"
   ]
  },
  {
   "cell_type": "code",
   "execution_count": 4,
   "id": "7d82c522",
   "metadata": {},
   "outputs": [],
   "source": [
    "def get_url( url ):\n",
    "    df = pd.read_html( url, header=1)[0]\n",
    "    return df"
   ]
  },
  {
   "cell_type": "code",
   "execution_count": 5,
   "id": "192dae83-d028-4458-ad6b-94bec3478d62",
   "metadata": {},
   "outputs": [],
   "source": [
    "def get_shorter_season(season):\n",
    "    res = season.split(\"-\")\n",
    "    return res[0] + \"-\" + res[1][2:]"
   ]
  },
  {
   "cell_type": "code",
   "execution_count": 6,
   "id": "51ab3339",
   "metadata": {},
   "outputs": [],
   "source": [
    "def get_logs_for_players_in_season(players, season, players_names=[]):\n",
    "    logs = pd.DataFrame({'A' : []})\n",
    "    for player in players:\n",
    "        player_name = neutralize_name(player)\n",
    "        if only_Salah and player_name != \"Mohamed-Salah\": \n",
    "            continue\n",
    "        print(\"Getting data for \" + player_name)\n",
    "        url = 'https://fbref.com/en/players/' + str(id) + '/matchlogs/' + season + '/summary/' + player_name + '-Match-Logs'\n",
    "        try:\n",
    "            new_player_df = get_url(url)\n",
    "            new_player_df[\"Name\"] = player_name\n",
    "            new_player_df[\"Season\"] = get_shorter_season(season)\n",
    "\n",
    "\n",
    "            # dropping NaN rows\n",
    "            new_player_df = new_player_df[new_player_df['Date'].notna()]\n",
    "\n",
    "            # only Premier League\n",
    "            new_player_df = new_player_df[new_player_df.Comp == \"Premier League\"]\n",
    "\n",
    "            # # only last 15 matches\n",
    "            # new_player_df = new_player_df[-15:]\n",
    "\n",
    "            if not logs.empty:\n",
    "                logs = pd.concat([logs, new_player_df])\n",
    "            else:\n",
    "                logs = new_player_df\n",
    "        except:\n",
    "            print(\"Not found\", player_name, season)\n",
    "        \n",
    "        # to not get timeouted\n",
    "        time.sleep(3.2)\n",
    "    return logs"
   ]
  },
  {
   "cell_type": "code",
   "execution_count": 7,
   "id": "50db07d9-de95-4c3a-b61c-8161a2e7f468",
   "metadata": {},
   "outputs": [],
   "source": [
    "tables = get_data(\"https://fbref.com/en/comps/9/wages/Premier-League-Wages\")"
   ]
  },
  {
   "cell_type": "code",
   "execution_count": 8,
   "id": "3c9848c4-3d2d-453e-a95a-48cd3ee8b6bb",
   "metadata": {},
   "outputs": [],
   "source": [
    "# tables[1]"
   ]
  },
  {
   "cell_type": "code",
   "execution_count": 9,
   "id": "1eaee43d",
   "metadata": {},
   "outputs": [
    {
     "name": "stdout",
     "output_type": "stream",
     "text": [
      "NOT FOUND Jordan Amissah\n",
      "NOT FOUND Joe Hodge\n",
      "NOT FOUND Joe Taylor\n"
     ]
    }
   ],
   "source": [
    "players = get_epl_players()"
   ]
  },
  {
   "cell_type": "code",
   "execution_count": 10,
   "id": "874b4136-246d-423c-8b60-fd6a70c43676",
   "metadata": {},
   "outputs": [
    {
     "data": {
      "text/plain": [
       "529"
      ]
     },
     "execution_count": 10,
     "metadata": {},
     "output_type": "execute_result"
    }
   ],
   "source": [
    "len(players)"
   ]
  },
  {
   "cell_type": "code",
   "execution_count": 11,
   "id": "e8709a58-4d0a-49eb-aace-4d7afbf855fa",
   "metadata": {},
   "outputs": [],
   "source": [
    "# players"
   ]
  },
  {
   "cell_type": "code",
   "execution_count": 12,
   "id": "327fd7fc-4823-4a14-a231-b298307e35a3",
   "metadata": {},
   "outputs": [],
   "source": [
    "# players['774cf58b'].data"
   ]
  },
  {
   "cell_type": "code",
   "execution_count": 13,
   "id": "c92bf02c-e65d-471a-8878-89edc93532f0",
   "metadata": {},
   "outputs": [],
   "source": [
    "def modify_df(df):\n",
    "    df[['WDL', 'GoalsTeams']] = df['Result'].str.split(' ', expand=True)\n",
    "    df[['Team Score', 'Opp Score']] = df['GoalsTeams'].str.split('–', expand=True)\n",
    "    df['Team Score'] = df['Team Score'].astype(int)\n",
    "    df['Opp Score'] = df['Opp Score'].astype(int)\n",
    "    df = df.drop(['Result'], axis=1)\n",
    "    \n",
    "    df = df.replace(\"On matchday squad, but did not play\", 0)\n",
    "    df[\"Min\"] = df[\"Min\"].astype(float)\n",
    "    df[\"Gls\"] = df[\"Gls\"].astype(float)\n",
    "    df[\"Ast\"] = df[\"Ast\"].astype(float)\n",
    "    \n",
    "    df[\"CS\"] = (df[\"Opp Score\"] == 0).astype(float)\n",
    "    df[\"Was Home\"] = (df[\"Venue\"] == \"Home\").astype(float)\n",
    "    df[\"GW\"] = df['Round'].str.split(' ', expand=True)[1]\n",
    "    \n",
    "    df = df.sort_values(by=['Name', 'Date'], ascending=[True, True])\n",
    "    \n",
    "    return df"
   ]
  },
  {
   "cell_type": "markdown",
   "id": "bd1219ee-ab27-4060-a0e4-ce752d6c80b4",
   "metadata": {},
   "source": [
    "# 2021-22"
   ]
  },
  {
   "cell_type": "code",
   "execution_count": 14,
   "id": "1f947e02-4d26-4358-94ce-a8180a802eef",
   "metadata": {},
   "outputs": [
    {
     "ename": "AttributeError",
     "evalue": "'tuple' object has no attribute 'replace'",
     "output_type": "error",
     "traceback": [
      "\u001b[1;31m---------------------------------------------------------------------------\u001b[0m",
      "\u001b[1;31mAttributeError\u001b[0m                            Traceback (most recent call last)",
      "File \u001b[1;32m<timed exec>:2\u001b[0m, in \u001b[0;36m<module>\u001b[1;34m\u001b[0m\n",
      "Input \u001b[1;32mIn [6]\u001b[0m, in \u001b[0;36mget_logs_for_players_in_season\u001b[1;34m(players, season, players_names)\u001b[0m\n\u001b[0;32m      2\u001b[0m logs \u001b[38;5;241m=\u001b[39m pd\u001b[38;5;241m.\u001b[39mDataFrame({\u001b[38;5;124m'\u001b[39m\u001b[38;5;124mA\u001b[39m\u001b[38;5;124m'\u001b[39m : []})\n\u001b[0;32m      3\u001b[0m \u001b[38;5;28;01mfor\u001b[39;00m player \u001b[38;5;129;01min\u001b[39;00m players:\n\u001b[1;32m----> 4\u001b[0m     player_name \u001b[38;5;241m=\u001b[39m \u001b[43mneutralize_name\u001b[49m\u001b[43m(\u001b[49m\u001b[43mplayer\u001b[49m\u001b[43m)\u001b[49m\n\u001b[0;32m      5\u001b[0m     \u001b[38;5;28;01mif\u001b[39;00m only_Salah \u001b[38;5;129;01mand\u001b[39;00m player_name \u001b[38;5;241m!=\u001b[39m \u001b[38;5;124m\"\u001b[39m\u001b[38;5;124mMohamed-Salah\u001b[39m\u001b[38;5;124m\"\u001b[39m: \n\u001b[0;32m      6\u001b[0m         \u001b[38;5;28;01mcontinue\u001b[39;00m\n",
      "File \u001b[1;32mD:\\PulpitE\\FPL_ML\\src\\match_names.py:2\u001b[0m, in \u001b[0;36mneutralize_name\u001b[1;34m(name)\u001b[0m\n\u001b[0;32m      1\u001b[0m \u001b[38;5;28;01mdef\u001b[39;00m \u001b[38;5;21mneutralize_name\u001b[39m(name):\n\u001b[1;32m----> 2\u001b[0m     \u001b[38;5;28;01mreturn\u001b[39;00m \u001b[43mname\u001b[49m\u001b[38;5;241;43m.\u001b[39;49m\u001b[43mreplace\u001b[49m(\u001b[38;5;124m\"\u001b[39m\u001b[38;5;124m \u001b[39m\u001b[38;5;124m\"\u001b[39m, \u001b[38;5;124m\"\u001b[39m\u001b[38;5;124m-\u001b[39m\u001b[38;5;124m\"\u001b[39m)\u001b[38;5;241m.\u001b[39mreplace(\u001b[38;5;124m\"\u001b[39m\u001b[38;5;124mï\u001b[39m\u001b[38;5;124m\"\u001b[39m, \u001b[38;5;124m\"\u001b[39m\u001b[38;5;124mi\u001b[39m\u001b[38;5;124m\"\u001b[39m)\u001b[38;5;241m.\u001b[39mreplace(\u001b[38;5;124m\"\u001b[39m\u001b[38;5;124mé\u001b[39m\u001b[38;5;124m\"\u001b[39m, \u001b[38;5;124m\"\u001b[39m\u001b[38;5;124me\u001b[39m\u001b[38;5;124m\"\u001b[39m)\u001b[38;5;241m.\u001b[39mreplace(\u001b[38;5;124m\"\u001b[39m\u001b[38;5;124má\u001b[39m\u001b[38;5;124m\"\u001b[39m, \u001b[38;5;124m\"\u001b[39m\u001b[38;5;124ma\u001b[39m\u001b[38;5;124m\"\u001b[39m)\u001b[38;5;241m.\u001b[39mreplace(\u001b[38;5;124m\"\u001b[39m\u001b[38;5;124mó\u001b[39m\u001b[38;5;124m\"\u001b[39m, \u001b[38;5;124m\"\u001b[39m\u001b[38;5;124mo\u001b[39m\u001b[38;5;124m\"\u001b[39m)\u001b[38;5;241m.\u001b[39mreplace(\u001b[38;5;124m\"\u001b[39m\u001b[38;5;124mÁ\u001b[39m\u001b[38;5;124m\"\u001b[39m, \u001b[38;5;124m\"\u001b[39m\u001b[38;5;124mA\u001b[39m\u001b[38;5;124m\"\u001b[39m)\u001b[38;5;241m.\u001b[39mreplace(\u001b[38;5;124m\"\u001b[39m\u001b[38;5;124mø\u001b[39m\u001b[38;5;124m\"\u001b[39m, \u001b[38;5;124m\"\u001b[39m\u001b[38;5;124mo\u001b[39m\u001b[38;5;124m\"\u001b[39m)\u001b[38;5;241m.\u001b[39mreplace(\u001b[38;5;124m\"\u001b[39m\u001b[38;5;124mć\u001b[39m\u001b[38;5;124m\"\u001b[39m, \u001b[38;5;124m\"\u001b[39m\u001b[38;5;124mc\u001b[39m\u001b[38;5;124m\"\u001b[39m)\u001b[38;5;241m.\u001b[39mreplace(\u001b[38;5;124m\"\u001b[39m\u001b[38;5;124mí\u001b[39m\u001b[38;5;124m\"\u001b[39m, \u001b[38;5;124m\"\u001b[39m\u001b[38;5;124mi\u001b[39m\u001b[38;5;124m\"\u001b[39m)\u001b[38;5;241m.\u001b[39mreplace(\u001b[38;5;124m\"\u001b[39m\u001b[38;5;124mú\u001b[39m\u001b[38;5;124m\"\u001b[39m, \u001b[38;5;124m\"\u001b[39m\u001b[38;5;124mu\u001b[39m\u001b[38;5;124m\"\u001b[39m)\u001b[38;5;241m.\u001b[39mreplace(\u001b[38;5;124m\"\u001b[39m\u001b[38;5;124mĆ\u001b[39m\u001b[38;5;124m\"\u001b[39m, \u001b[38;5;124m\"\u001b[39m\u001b[38;5;124mC\u001b[39m\u001b[38;5;124m\"\u001b[39m)\u001b[38;5;241m.\u001b[39mreplace(\u001b[38;5;124m\"\u001b[39m\u001b[38;5;124mã\u001b[39m\u001b[38;5;124m\"\u001b[39m, \u001b[38;5;124m\"\u001b[39m\u001b[38;5;124ma\u001b[39m\u001b[38;5;124m\"\u001b[39m)\u001b[38;5;241m.\u001b[39mreplace(\u001b[38;5;124m\"\u001b[39m\u001b[38;5;124mğ\u001b[39m\u001b[38;5;124m\"\u001b[39m, \u001b[38;5;124m\"\u001b[39m\u001b[38;5;124mg\u001b[39m\u001b[38;5;124m\"\u001b[39m)\u001b[38;5;241m.\u001b[39mreplace(\u001b[38;5;124m\"\u001b[39m\u001b[38;5;124mş\u001b[39m\u001b[38;5;124m\"\u001b[39m, \u001b[38;5;124m\"\u001b[39m\u001b[38;5;124ms\u001b[39m\u001b[38;5;124m\"\u001b[39m)\u001b[38;5;241m.\u001b[39mreplace(\u001b[38;5;124m\"\u001b[39m\u001b[38;5;124mÉ\u001b[39m\u001b[38;5;124m\"\u001b[39m, \u001b[38;5;124m\"\u001b[39m\u001b[38;5;124mE\u001b[39m\u001b[38;5;124m\"\u001b[39m)\u001b[38;5;241m.\u001b[39mreplace(\u001b[38;5;124m\"\u001b[39m\u001b[38;5;124mñ\u001b[39m\u001b[38;5;124m\"\u001b[39m, \u001b[38;5;124m\"\u001b[39m\u001b[38;5;124mn\u001b[39m\u001b[38;5;124m\"\u001b[39m)\u001b[38;5;241m.\u001b[39mreplace(\u001b[38;5;124m\"\u001b[39m\u001b[38;5;124mŁ\u001b[39m\u001b[38;5;124m\"\u001b[39m, \u001b[38;5;124m\"\u001b[39m\u001b[38;5;124mL\u001b[39m\u001b[38;5;124m\"\u001b[39m)\u001b[38;5;241m.\u001b[39mreplace(\u001b[38;5;124m\"\u001b[39m\u001b[38;5;124mń\u001b[39m\u001b[38;5;124m\"\u001b[39m, \u001b[38;5;124m\"\u001b[39m\u001b[38;5;124mn\u001b[39m\u001b[38;5;124m\"\u001b[39m)\u001b[38;5;241m.\u001b[39mreplace(\u001b[38;5;124m\"\u001b[39m\u001b[38;5;124mß\u001b[39m\u001b[38;5;124m\"\u001b[39m, \u001b[38;5;124m\"\u001b[39m\u001b[38;5;124mss\u001b[39m\u001b[38;5;124m\"\u001b[39m)\u001b[38;5;241m.\u001b[39mreplace(\u001b[38;5;124m\"\u001b[39m\u001b[38;5;124mç\u001b[39m\u001b[38;5;124m\"\u001b[39m, \u001b[38;5;124m\"\u001b[39m\u001b[38;5;124mc\u001b[39m\u001b[38;5;124m\"\u001b[39m)\u001b[38;5;241m.\u001b[39mreplace(\u001b[38;5;124m\"\u001b[39m\u001b[38;5;124mİ\u001b[39m\u001b[38;5;124m\"\u001b[39m, \u001b[38;5;124m\"\u001b[39m\u001b[38;5;124mI\u001b[39m\u001b[38;5;124m\"\u001b[39m)\u001b[38;5;241m.\u001b[39mreplace(\u001b[38;5;124m\"\u001b[39m\u001b[38;5;124mč\u001b[39m\u001b[38;5;124m\"\u001b[39m, \u001b[38;5;124m\"\u001b[39m\u001b[38;5;124mc\u001b[39m\u001b[38;5;124m\"\u001b[39m)\u001b[38;5;241m.\u001b[39mreplace(\u001b[38;5;124m\"\u001b[39m\u001b[38;5;124mö\u001b[39m\u001b[38;5;124m\"\u001b[39m, \u001b[38;5;124m\"\u001b[39m\u001b[38;5;124mo\u001b[39m\u001b[38;5;124m\"\u001b[39m)\u001b[38;5;241m.\u001b[39mreplace(\u001b[38;5;124m\"\u001b[39m\u001b[38;5;124më\u001b[39m\u001b[38;5;124m\"\u001b[39m, \u001b[38;5;124m\"\u001b[39m\u001b[38;5;124me\u001b[39m\u001b[38;5;124m\"\u001b[39m)\u001b[38;5;241m.\u001b[39mreplace(\u001b[38;5;124m\"\u001b[39m\u001b[38;5;124mš\u001b[39m\u001b[38;5;124m\"\u001b[39m, \u001b[38;5;124m\"\u001b[39m\u001b[38;5;124ms\u001b[39m\u001b[38;5;124m\"\u001b[39m)\u001b[38;5;241m.\u001b[39mreplace(\u001b[38;5;124m\"\u001b[39m\u001b[38;5;124mä\u001b[39m\u001b[38;5;124m\"\u001b[39m, \u001b[38;5;124m\"\u001b[39m\u001b[38;5;124ma\u001b[39m\u001b[38;5;124m\"\u001b[39m)\u001b[38;5;241m.\u001b[39mreplace(\u001b[38;5;124m\"\u001b[39m\u001b[38;5;124mÇ\u001b[39m\u001b[38;5;124m\"\u001b[39m, \u001b[38;5;124m\"\u001b[39m\u001b[38;5;124mC\u001b[39m\u001b[38;5;124m\"\u001b[39m)\u001b[38;5;241m.\u001b[39mreplace(\u001b[38;5;124m\"\u001b[39m\u001b[38;5;124mü\u001b[39m\u001b[38;5;124m\"\u001b[39m, \u001b[38;5;124m\"\u001b[39m\u001b[38;5;124mu\u001b[39m\u001b[38;5;124m\"\u001b[39m)\u001b[38;5;241m.\u001b[39mreplace(\u001b[38;5;124m\"\u001b[39m\u001b[38;5;124mØ\u001b[39m\u001b[38;5;124m\"\u001b[39m, \u001b[38;5;124m\"\u001b[39m\u001b[38;5;124mO\u001b[39m\u001b[38;5;124m\"\u001b[39m)\u001b[38;5;241m.\u001b[39mreplace(\u001b[38;5;124m\"\u001b[39m\u001b[38;5;124mú\u001b[39m\u001b[38;5;124m\"\u001b[39m, \u001b[38;5;124m\"\u001b[39m\u001b[38;5;124mu\u001b[39m\u001b[38;5;124m\"\u001b[39m)\u001b[38;5;241m.\u001b[39mreplace(\u001b[38;5;124m\"\u001b[39m\u001b[38;5;124mú\u001b[39m\u001b[38;5;124m\"\u001b[39m, \u001b[38;5;124m\"\u001b[39m\u001b[38;5;124mu\u001b[39m\u001b[38;5;124m\"\u001b[39m)\u001b[38;5;241m.\u001b[39mreplace(\u001b[38;5;124m\"\u001b[39m\u001b[38;5;124mè\u001b[39m\u001b[38;5;124m\"\u001b[39m, \u001b[38;5;124m\"\u001b[39m\u001b[38;5;124me\u001b[39m\u001b[38;5;124m\"\u001b[39m)\u001b[38;5;241m.\u001b[39mreplace(\u001b[38;5;124m\"\u001b[39m\u001b[38;5;124mê\u001b[39m\u001b[38;5;124m\"\u001b[39m, \u001b[38;5;124m\"\u001b[39m\u001b[38;5;124me\u001b[39m\u001b[38;5;124m\"\u001b[39m)\n",
      "\u001b[1;31mAttributeError\u001b[0m: 'tuple' object has no attribute 'replace'"
     ]
    }
   ],
   "source": [
    "%%time\n",
    "# player_names = [\"Mohamed-Salah\", \"Miguel-Almiron\", \"Bukayo-Saka\", \"Kevin-De-Bruyne\", \"Wilfried-Zaha\", \"Mason-Mount\", \"Bruno-Fernandes\"]\n",
    "logs_21_22 = get_logs_for_players_in_season(players, '2021-2022', None)"
   ]
  },
  {
   "cell_type": "code",
   "execution_count": 15,
   "id": "b244470b-b705-4e18-8623-c55e3865b4b0",
   "metadata": {},
   "outputs": [
    {
     "ename": "NameError",
     "evalue": "name 'logs_21_22' is not defined",
     "output_type": "error",
     "traceback": [
      "\u001b[1;31m---------------------------------------------------------------------------\u001b[0m",
      "\u001b[1;31mNameError\u001b[0m                                 Traceback (most recent call last)",
      "Input \u001b[1;32mIn [15]\u001b[0m, in \u001b[0;36m<cell line: 1>\u001b[1;34m()\u001b[0m\n\u001b[1;32m----> 1\u001b[0m \u001b[43mlogs_21_22\u001b[49m\u001b[38;5;241m.\u001b[39mshape\n",
      "\u001b[1;31mNameError\u001b[0m: name 'logs_21_22' is not defined"
     ]
    }
   ],
   "source": [
    "logs_21_22.shape"
   ]
  },
  {
   "cell_type": "code",
   "execution_count": null,
   "id": "17227d6d-0554-4a52-948d-d372a7c61de9",
   "metadata": {},
   "outputs": [],
   "source": [
    "logs_21_22 = modify_df(logs_21_22)\n",
    "logs_21_22.to_csv(\"data/logs_21_22.csv\")"
   ]
  },
  {
   "cell_type": "markdown",
   "id": "a3067a74-1ea3-4438-b338-be346acebe43",
   "metadata": {},
   "source": [
    "# 2022-23"
   ]
  },
  {
   "cell_type": "code",
   "execution_count": null,
   "id": "42b451f3",
   "metadata": {},
   "outputs": [],
   "source": [
    "%%time\n",
    "# player_names = [\"Mohamed-Salah\", \"Miguel-Almiron\", \"Bukayo-Saka\", \"Kevin-De-Bruyne\", \"Wilfried-Zaha\", \"Mason-Mount\", \"Bruno-Fernandes\"]\n",
    "logs_22_23 = get_logs_for_players_in_season(players, '2022-2023', None)"
   ]
  },
  {
   "cell_type": "code",
   "execution_count": null,
   "id": "8415cad0-0654-4964-9a5a-6ae6fcf9079f",
   "metadata": {},
   "outputs": [],
   "source": [
    "logs_22_23.shape"
   ]
  },
  {
   "cell_type": "code",
   "execution_count": null,
   "id": "127be024-e2c9-406b-9339-223caa8ce7a3",
   "metadata": {},
   "outputs": [],
   "source": [
    "logs_22_23 = modify_df(logs_22_23)\n",
    "logs_22_23.to_csv(\"data/logs_22_23.csv\")"
   ]
  },
  {
   "cell_type": "markdown",
   "id": "53ce357f-5849-4852-a942-7a7f2cf19e4b",
   "metadata": {},
   "source": [
    "# Merged logs"
   ]
  },
  {
   "cell_type": "code",
   "execution_count": null,
   "id": "66093512-11d3-4813-b141-a32ea80d54ba",
   "metadata": {},
   "outputs": [],
   "source": [
    "# merging\n",
    "logs = pd.concat([logs_21_22, logs_22_23])"
   ]
  },
  {
   "cell_type": "code",
   "execution_count": null,
   "id": "d601165f-fe20-48b9-895f-700b04ba1682",
   "metadata": {},
   "outputs": [],
   "source": [
    "logs.shape"
   ]
  },
  {
   "cell_type": "code",
   "execution_count": null,
   "id": "0c33caed-631e-4990-be19-84976e71cae8",
   "metadata": {},
   "outputs": [],
   "source": [
    "logs.head(10)[[\"Date\", \"Round\", \"Name\"]]"
   ]
  },
  {
   "cell_type": "code",
   "execution_count": null,
   "id": "1284a604",
   "metadata": {},
   "outputs": [],
   "source": [
    "logs.columns"
   ]
  },
  {
   "cell_type": "code",
   "execution_count": null,
   "id": "f3b104dc",
   "metadata": {},
   "outputs": [],
   "source": [
    "logs.to_csv(\"data/logs_all.csv\")"
   ]
  },
  {
   "cell_type": "markdown",
   "id": "41cfaf68",
   "metadata": {
    "execution": {
     "iopub.execute_input": "2023-01-12T21:52:31.734059Z",
     "iopub.status.busy": "2023-01-12T21:52:31.733636Z",
     "iopub.status.idle": "2023-01-12T21:52:31.739739Z",
     "shell.execute_reply": "2023-01-12T21:52:31.738630Z",
     "shell.execute_reply.started": "2023-01-12T21:52:31.734024Z"
    }
   },
   "source": [
    "# Features check"
   ]
  },
  {
   "cell_type": "code",
   "execution_count": null,
   "id": "746e6dac",
   "metadata": {},
   "outputs": [],
   "source": [
    "info = [\"Date\", \"Day\", \"GW\", \"Was Home\"]\n",
    "features = [\"Min\", \"Gls\", \"Sh\", \"SoT\", \"xG\", \"npxG\", \"xAG\", \"CS\"]"
   ]
  },
  {
   "cell_type": "code",
   "execution_count": null,
   "id": "95415ccb",
   "metadata": {},
   "outputs": [],
   "source": [
    "logs[info + features]"
   ]
  }
 ],
 "metadata": {
  "kernelspec": {
   "display_name": "Python 3 (ipykernel)",
   "language": "python",
   "name": "python3"
  },
  "language_info": {
   "codemirror_mode": {
    "name": "ipython",
    "version": 3
   },
   "file_extension": ".py",
   "mimetype": "text/x-python",
   "name": "python",
   "nbconvert_exporter": "python",
   "pygments_lexer": "ipython3",
   "version": "3.8.0"
  }
 },
 "nbformat": 4,
 "nbformat_minor": 5
}
