{
 "cells": [
  {
   "cell_type": "markdown",
   "id": "d26d6472",
   "metadata": {},
   "source": [
    "# Imports"
   ]
  },
  {
   "cell_type": "code",
   "execution_count": 1,
   "id": "f6a1779c-aca4-4390-a14a-518395fd17c0",
   "metadata": {},
   "outputs": [],
   "source": [
    "import os\n",
    "os.chdir(\"D:\\PulpitE\\FPL_ML\")"
   ]
  },
  {
   "cell_type": "code",
   "execution_count": 2,
   "id": "bb575005",
   "metadata": {},
   "outputs": [],
   "source": [
    "import pandas as pd\n",
    "import time\n",
    "from vaastav.fbref import *\n",
    "from src.match_names import neutralize_name"
   ]
  },
  {
   "cell_type": "markdown",
   "id": "d38501e9",
   "metadata": {},
   "source": [
    "# Getting raw data"
   ]
  },
  {
   "cell_type": "code",
   "execution_count": 3,
   "id": "5e3ab9f4-74a1-4364-96e5-8ff53152585c",
   "metadata": {},
   "outputs": [],
   "source": [
    "# only Mo Salah\n",
    "only_Salah = False"
   ]
  },
  {
   "cell_type": "code",
   "execution_count": 4,
   "id": "7d82c522",
   "metadata": {},
   "outputs": [],
   "source": [
    "def get_url( url ):\n",
    "    df = pd.read_html( url, header=1)[0]\n",
    "    return df"
   ]
  },
  {
   "cell_type": "code",
   "execution_count": 5,
   "id": "192dae83-d028-4458-ad6b-94bec3478d62",
   "metadata": {},
   "outputs": [],
   "source": [
    "def get_shorter_season(season):\n",
    "    res = season.split(\"-\")\n",
    "    return res[0] + \"-\" + res[1][2:]"
   ]
  },
  {
   "cell_type": "code",
   "execution_count": 6,
   "id": "51ab3339",
   "metadata": {},
   "outputs": [],
   "source": [
    "def get_logs_for_players_in_season(players, season, players_names=[]):\n",
    "    logs = pd.DataFrame({'A' : []})\n",
    "    for id, player in list(players.items()):\n",
    "        player_name = neutralize_name(player.data[0]['player'])\n",
    "        if only_Salah and player_name != \"Mohamed-Salah\": \n",
    "            continue\n",
    "        print(\"Getting data for \" + player_name)\n",
    "        url = 'https://fbref.com/en/players/' + str(id) + '/matchlogs/' + season + '/summary/' + player_name + '-Match-Logs'\n",
    "        try:\n",
    "            new_player_df = get_url(url)\n",
    "            new_player_df[\"Name\"] = player_name\n",
    "            new_player_df[\"Season\"] = get_shorter_season(season)\n",
    "\n",
    "\n",
    "            # dropping NaN rows\n",
    "            new_player_df = new_player_df[new_player_df['Date'].notna()]\n",
    "\n",
    "            # only Premier League\n",
    "            new_player_df = new_player_df[new_player_df.Comp == \"Premier League\"]\n",
    "\n",
    "            # # only last 15 matches\n",
    "            # new_player_df = new_player_df[-15:]\n",
    "\n",
    "            if not logs.empty:\n",
    "                logs = pd.concat([logs, new_player_df])\n",
    "            else:\n",
    "                logs = new_player_df\n",
    "        except:\n",
    "            print(\"Not found\", player_name, season)\n",
    "        \n",
    "        # to not get timeouted\n",
    "        time.sleep(3.2)\n",
    "    return logs"
   ]
  },
  {
   "cell_type": "code",
   "execution_count": 7,
   "id": "1eaee43d",
   "metadata": {},
   "outputs": [],
   "source": [
    "players, stats = get_epl_players()"
   ]
  },
  {
   "cell_type": "code",
   "execution_count": 8,
   "id": "2d3e6d31-f7b3-47b5-be49-febf4a07b5dc",
   "metadata": {},
   "outputs": [
    {
     "data": {
      "text/plain": [
       "302"
      ]
     },
     "execution_count": 8,
     "metadata": {},
     "output_type": "execute_result"
    }
   ],
   "source": [
    "len(players.keys())"
   ]
  },
  {
   "cell_type": "code",
   "execution_count": 9,
   "id": "c92bf02c-e65d-471a-8878-89edc93532f0",
   "metadata": {},
   "outputs": [],
   "source": [
    "def modify_df(df):\n",
    "    df[['WDL', 'GoalsTeams']] = df['Result'].str.split(' ', expand=True)\n",
    "    df[['Team Score', 'Opp Score']] = df['GoalsTeams'].str.split('–', expand=True)\n",
    "    df['Team Score'] = df['Team Score'].astype(int)\n",
    "    df['Opp Score'] = df['Opp Score'].astype(int)\n",
    "    df = df.drop(['Result'], axis=1)\n",
    "    \n",
    "    df = df.replace(\"On matchday squad, but did not play\", 0)\n",
    "    df[\"Min\"] = df[\"Min\"].astype(float)\n",
    "    df[\"Gls\"] = df[\"Gls\"].astype(float)\n",
    "    df[\"Ast\"] = df[\"Ast\"].astype(float)\n",
    "    \n",
    "    df[\"CS\"] = (df[\"Opp Score\"] == 0).astype(float)\n",
    "    df[\"Was Home\"] = (df[\"Venue\"] == \"Home\").astype(float)\n",
    "    df[\"GW\"] = df['Round'].str.split(' ', expand=True)[1]\n",
    "    \n",
    "    df = df.sort_values(by=['Name', 'Date'], ascending=[True, True])\n",
    "    \n",
    "    return df"
   ]
  },
  {
   "cell_type": "markdown",
   "id": "bd1219ee-ab27-4060-a0e4-ce752d6c80b4",
   "metadata": {},
   "source": [
    "# 2021-22"
   ]
  },
  {
   "cell_type": "code",
   "execution_count": 10,
   "id": "1f947e02-4d26-4358-94ce-a8180a802eef",
   "metadata": {},
   "outputs": [
    {
     "name": "stdout",
     "output_type": "stream",
     "text": [
      "Getting data for Mohamed-Salah\n",
      "CPU times: total: 109 ms\n",
      "Wall time: 3.38 s\n"
     ]
    }
   ],
   "source": [
    "%%time\n",
    "# player_names = [\"Mohamed-Salah\", \"Miguel-Almiron\", \"Bukayo-Saka\", \"Kevin-De-Bruyne\", \"Wilfried-Zaha\", \"Mason-Mount\", \"Bruno-Fernandes\"]\n",
    "logs_21_22 = get_logs_for_players_in_season(players, '2021-2022', None)"
   ]
  },
  {
   "cell_type": "code",
   "execution_count": 11,
   "id": "b244470b-b705-4e18-8623-c55e3865b4b0",
   "metadata": {},
   "outputs": [
    {
     "data": {
      "text/plain": [
       "(35, 39)"
      ]
     },
     "execution_count": 11,
     "metadata": {},
     "output_type": "execute_result"
    }
   ],
   "source": [
    "logs_21_22.shape"
   ]
  },
  {
   "cell_type": "code",
   "execution_count": 12,
   "id": "17227d6d-0554-4a52-948d-d372a7c61de9",
   "metadata": {},
   "outputs": [],
   "source": [
    "logs_21_22 = modify_df(logs_21_22)\n",
    "logs_21_22.to_csv(\"data/logs_21_22.csv\")"
   ]
  },
  {
   "cell_type": "markdown",
   "id": "a3067a74-1ea3-4438-b338-be346acebe43",
   "metadata": {},
   "source": [
    "# 2022-23"
   ]
  },
  {
   "cell_type": "code",
   "execution_count": 13,
   "id": "42b451f3",
   "metadata": {},
   "outputs": [
    {
     "name": "stdout",
     "output_type": "stream",
     "text": [
      "Getting data for Mohamed-Salah\n",
      "CPU times: total: 46.9 ms\n",
      "Wall time: 3.34 s\n"
     ]
    }
   ],
   "source": [
    "%%time\n",
    "# player_names = [\"Mohamed-Salah\", \"Miguel-Almiron\", \"Bukayo-Saka\", \"Kevin-De-Bruyne\", \"Wilfried-Zaha\", \"Mason-Mount\", \"Bruno-Fernandes\"]\n",
    "logs_22_23 = get_logs_for_players_in_season(players, '2022-2023', None)"
   ]
  },
  {
   "cell_type": "code",
   "execution_count": 14,
   "id": "8415cad0-0654-4964-9a5a-6ae6fcf9079f",
   "metadata": {},
   "outputs": [
    {
     "data": {
      "text/plain": [
       "(38, 39)"
      ]
     },
     "execution_count": 14,
     "metadata": {},
     "output_type": "execute_result"
    }
   ],
   "source": [
    "logs_22_23.shape"
   ]
  },
  {
   "cell_type": "code",
   "execution_count": 15,
   "id": "127be024-e2c9-406b-9339-223caa8ce7a3",
   "metadata": {},
   "outputs": [],
   "source": [
    "logs_22_23 = modify_df(logs_22_23)\n",
    "logs_22_23.to_csv(\"data/logs_22_23.csv\")"
   ]
  },
  {
   "cell_type": "markdown",
   "id": "53ce357f-5849-4852-a942-7a7f2cf19e4b",
   "metadata": {},
   "source": [
    "# Merged logs"
   ]
  },
  {
   "cell_type": "code",
   "execution_count": 16,
   "id": "66093512-11d3-4813-b141-a32ea80d54ba",
   "metadata": {},
   "outputs": [],
   "source": [
    "# merging\n",
    "logs = pd.concat([logs_21_22, logs_22_23])"
   ]
  },
  {
   "cell_type": "code",
   "execution_count": 17,
   "id": "d601165f-fe20-48b9-895f-700b04ba1682",
   "metadata": {},
   "outputs": [
    {
     "data": {
      "text/plain": [
       "(73, 45)"
      ]
     },
     "execution_count": 17,
     "metadata": {},
     "output_type": "execute_result"
    }
   ],
   "source": [
    "logs.shape"
   ]
  },
  {
   "cell_type": "code",
   "execution_count": 18,
   "id": "0c33caed-631e-4990-be19-84976e71cae8",
   "metadata": {},
   "outputs": [
    {
     "data": {
      "text/html": [
       "<div>\n",
       "<style scoped>\n",
       "    .dataframe tbody tr th:only-of-type {\n",
       "        vertical-align: middle;\n",
       "    }\n",
       "\n",
       "    .dataframe tbody tr th {\n",
       "        vertical-align: top;\n",
       "    }\n",
       "\n",
       "    .dataframe thead th {\n",
       "        text-align: right;\n",
       "    }\n",
       "</style>\n",
       "<table border=\"1\" class=\"dataframe\">\n",
       "  <thead>\n",
       "    <tr style=\"text-align: right;\">\n",
       "      <th></th>\n",
       "      <th>Date</th>\n",
       "      <th>Round</th>\n",
       "      <th>Name</th>\n",
       "    </tr>\n",
       "  </thead>\n",
       "  <tbody>\n",
       "    <tr>\n",
       "      <th>0</th>\n",
       "      <td>2021-08-14</td>\n",
       "      <td>Matchweek 1</td>\n",
       "      <td>Mohamed-Salah</td>\n",
       "    </tr>\n",
       "    <tr>\n",
       "      <th>1</th>\n",
       "      <td>2021-08-21</td>\n",
       "      <td>Matchweek 2</td>\n",
       "      <td>Mohamed-Salah</td>\n",
       "    </tr>\n",
       "    <tr>\n",
       "      <th>2</th>\n",
       "      <td>2021-08-28</td>\n",
       "      <td>Matchweek 3</td>\n",
       "      <td>Mohamed-Salah</td>\n",
       "    </tr>\n",
       "    <tr>\n",
       "      <th>4</th>\n",
       "      <td>2021-09-12</td>\n",
       "      <td>Matchweek 4</td>\n",
       "      <td>Mohamed-Salah</td>\n",
       "    </tr>\n",
       "    <tr>\n",
       "      <th>6</th>\n",
       "      <td>2021-09-18</td>\n",
       "      <td>Matchweek 5</td>\n",
       "      <td>Mohamed-Salah</td>\n",
       "    </tr>\n",
       "    <tr>\n",
       "      <th>8</th>\n",
       "      <td>2021-09-25</td>\n",
       "      <td>Matchweek 6</td>\n",
       "      <td>Mohamed-Salah</td>\n",
       "    </tr>\n",
       "    <tr>\n",
       "      <th>10</th>\n",
       "      <td>2021-10-03</td>\n",
       "      <td>Matchweek 7</td>\n",
       "      <td>Mohamed-Salah</td>\n",
       "    </tr>\n",
       "    <tr>\n",
       "      <th>13</th>\n",
       "      <td>2021-10-16</td>\n",
       "      <td>Matchweek 8</td>\n",
       "      <td>Mohamed-Salah</td>\n",
       "    </tr>\n",
       "    <tr>\n",
       "      <th>15</th>\n",
       "      <td>2021-10-24</td>\n",
       "      <td>Matchweek 9</td>\n",
       "      <td>Mohamed-Salah</td>\n",
       "    </tr>\n",
       "    <tr>\n",
       "      <th>17</th>\n",
       "      <td>2021-10-30</td>\n",
       "      <td>Matchweek 10</td>\n",
       "      <td>Mohamed-Salah</td>\n",
       "    </tr>\n",
       "  </tbody>\n",
       "</table>\n",
       "</div>"
      ],
      "text/plain": [
       "          Date         Round           Name\n",
       "0   2021-08-14   Matchweek 1  Mohamed-Salah\n",
       "1   2021-08-21   Matchweek 2  Mohamed-Salah\n",
       "2   2021-08-28   Matchweek 3  Mohamed-Salah\n",
       "4   2021-09-12   Matchweek 4  Mohamed-Salah\n",
       "6   2021-09-18   Matchweek 5  Mohamed-Salah\n",
       "8   2021-09-25   Matchweek 6  Mohamed-Salah\n",
       "10  2021-10-03   Matchweek 7  Mohamed-Salah\n",
       "13  2021-10-16   Matchweek 8  Mohamed-Salah\n",
       "15  2021-10-24   Matchweek 9  Mohamed-Salah\n",
       "17  2021-10-30  Matchweek 10  Mohamed-Salah"
      ]
     },
     "execution_count": 18,
     "metadata": {},
     "output_type": "execute_result"
    }
   ],
   "source": [
    "logs.head(10)[[\"Date\", \"Round\", \"Name\"]]"
   ]
  },
  {
   "cell_type": "code",
   "execution_count": 19,
   "id": "1284a604",
   "metadata": {},
   "outputs": [
    {
     "data": {
      "text/plain": [
       "Index(['Date', 'Day', 'Comp', 'Round', 'Venue', 'Squad', 'Opponent', 'Start',\n",
       "       'Pos', 'Min', 'Gls', 'Ast', 'PK', 'PKatt', 'Sh', 'SoT', 'CrdY', 'CrdR',\n",
       "       'Touches', 'Tkl', 'Int', 'Blocks', 'xG', 'npxG', 'xAG', 'SCA', 'GCA',\n",
       "       'Cmp', 'Att', 'Cmp%', 'PrgP', 'Carries', 'PrgC', 'Att.1', 'Succ',\n",
       "       'Match Report', 'Name', 'Season', 'WDL', 'GoalsTeams', 'Team Score',\n",
       "       'Opp Score', 'CS', 'Was Home', 'GW'],\n",
       "      dtype='object')"
      ]
     },
     "execution_count": 19,
     "metadata": {},
     "output_type": "execute_result"
    }
   ],
   "source": [
    "logs.columns"
   ]
  },
  {
   "cell_type": "code",
   "execution_count": 20,
   "id": "f3b104dc",
   "metadata": {},
   "outputs": [],
   "source": [
    "logs.to_csv(\"data/logs_all.csv\")"
   ]
  },
  {
   "cell_type": "markdown",
   "id": "41cfaf68",
   "metadata": {
    "execution": {
     "iopub.execute_input": "2023-01-12T21:52:31.734059Z",
     "iopub.status.busy": "2023-01-12T21:52:31.733636Z",
     "iopub.status.idle": "2023-01-12T21:52:31.739739Z",
     "shell.execute_reply": "2023-01-12T21:52:31.738630Z",
     "shell.execute_reply.started": "2023-01-12T21:52:31.734024Z"
    }
   },
   "source": [
    "# Features check"
   ]
  },
  {
   "cell_type": "code",
   "execution_count": 21,
   "id": "746e6dac",
   "metadata": {},
   "outputs": [],
   "source": [
    "info = [\"Date\", \"Day\", \"GW\", \"Was Home\"]\n",
    "features = [\"Min\", \"Gls\", \"Sh\", \"SoT\", \"xG\", \"npxG\", \"xAG\", \"CS\"]"
   ]
  },
  {
   "cell_type": "code",
   "execution_count": 22,
   "id": "95415ccb",
   "metadata": {},
   "outputs": [
    {
     "data": {
      "text/html": [
       "<div>\n",
       "<style scoped>\n",
       "    .dataframe tbody tr th:only-of-type {\n",
       "        vertical-align: middle;\n",
       "    }\n",
       "\n",
       "    .dataframe tbody tr th {\n",
       "        vertical-align: top;\n",
       "    }\n",
       "\n",
       "    .dataframe thead th {\n",
       "        text-align: right;\n",
       "    }\n",
       "</style>\n",
       "<table border=\"1\" class=\"dataframe\">\n",
       "  <thead>\n",
       "    <tr style=\"text-align: right;\">\n",
       "      <th></th>\n",
       "      <th>Date</th>\n",
       "      <th>Day</th>\n",
       "      <th>GW</th>\n",
       "      <th>Was Home</th>\n",
       "      <th>Min</th>\n",
       "      <th>Gls</th>\n",
       "      <th>Sh</th>\n",
       "      <th>SoT</th>\n",
       "      <th>xG</th>\n",
       "      <th>npxG</th>\n",
       "      <th>xAG</th>\n",
       "      <th>CS</th>\n",
       "    </tr>\n",
       "  </thead>\n",
       "  <tbody>\n",
       "    <tr>\n",
       "      <th>0</th>\n",
       "      <td>2021-08-14</td>\n",
       "      <td>Sat</td>\n",
       "      <td>1</td>\n",
       "      <td>0.0</td>\n",
       "      <td>90.0</td>\n",
       "      <td>1.0</td>\n",
       "      <td>5.0</td>\n",
       "      <td>2.0</td>\n",
       "      <td>0.3</td>\n",
       "      <td>0.3</td>\n",
       "      <td>0.7</td>\n",
       "      <td>1.0</td>\n",
       "    </tr>\n",
       "    <tr>\n",
       "      <th>1</th>\n",
       "      <td>2021-08-21</td>\n",
       "      <td>Sat</td>\n",
       "      <td>2</td>\n",
       "      <td>1.0</td>\n",
       "      <td>90.0</td>\n",
       "      <td>0.0</td>\n",
       "      <td>5.0</td>\n",
       "      <td>1.0</td>\n",
       "      <td>0.4</td>\n",
       "      <td>0.4</td>\n",
       "      <td>0.1</td>\n",
       "      <td>1.0</td>\n",
       "    </tr>\n",
       "    <tr>\n",
       "      <th>2</th>\n",
       "      <td>2021-08-28</td>\n",
       "      <td>Sat</td>\n",
       "      <td>3</td>\n",
       "      <td>1.0</td>\n",
       "      <td>90.0</td>\n",
       "      <td>1.0</td>\n",
       "      <td>2.0</td>\n",
       "      <td>1.0</td>\n",
       "      <td>1.1</td>\n",
       "      <td>0.3</td>\n",
       "      <td>0.2</td>\n",
       "      <td>0.0</td>\n",
       "    </tr>\n",
       "    <tr>\n",
       "      <th>4</th>\n",
       "      <td>2021-09-12</td>\n",
       "      <td>Sun</td>\n",
       "      <td>4</td>\n",
       "      <td>0.0</td>\n",
       "      <td>90.0</td>\n",
       "      <td>1.0</td>\n",
       "      <td>3.0</td>\n",
       "      <td>1.0</td>\n",
       "      <td>0.9</td>\n",
       "      <td>0.9</td>\n",
       "      <td>0.8</td>\n",
       "      <td>1.0</td>\n",
       "    </tr>\n",
       "    <tr>\n",
       "      <th>6</th>\n",
       "      <td>2021-09-18</td>\n",
       "      <td>Sat</td>\n",
       "      <td>5</td>\n",
       "      <td>1.0</td>\n",
       "      <td>90.0</td>\n",
       "      <td>1.0</td>\n",
       "      <td>6.0</td>\n",
       "      <td>5.0</td>\n",
       "      <td>0.5</td>\n",
       "      <td>0.5</td>\n",
       "      <td>0.2</td>\n",
       "      <td>1.0</td>\n",
       "    </tr>\n",
       "    <tr>\n",
       "      <th>...</th>\n",
       "      <td>...</td>\n",
       "      <td>...</td>\n",
       "      <td>...</td>\n",
       "      <td>...</td>\n",
       "      <td>...</td>\n",
       "      <td>...</td>\n",
       "      <td>...</td>\n",
       "      <td>...</td>\n",
       "      <td>...</td>\n",
       "      <td>...</td>\n",
       "      <td>...</td>\n",
       "      <td>...</td>\n",
       "    </tr>\n",
       "    <tr>\n",
       "      <th>51</th>\n",
       "      <td>2023-05-03</td>\n",
       "      <td>Wed</td>\n",
       "      <td>28</td>\n",
       "      <td>1.0</td>\n",
       "      <td>83.0</td>\n",
       "      <td>1.0</td>\n",
       "      <td>2.0</td>\n",
       "      <td>0.0</td>\n",
       "      <td>1.2</td>\n",
       "      <td>0.4</td>\n",
       "      <td>0.2</td>\n",
       "      <td>1.0</td>\n",
       "    </tr>\n",
       "    <tr>\n",
       "      <th>52</th>\n",
       "      <td>2023-05-06</td>\n",
       "      <td>Sat</td>\n",
       "      <td>35</td>\n",
       "      <td>1.0</td>\n",
       "      <td>90.0</td>\n",
       "      <td>1.0</td>\n",
       "      <td>3.0</td>\n",
       "      <td>2.0</td>\n",
       "      <td>1.0</td>\n",
       "      <td>1.0</td>\n",
       "      <td>0.2</td>\n",
       "      <td>1.0</td>\n",
       "    </tr>\n",
       "    <tr>\n",
       "      <th>53</th>\n",
       "      <td>2023-05-15</td>\n",
       "      <td>Mon</td>\n",
       "      <td>36</td>\n",
       "      <td>0.0</td>\n",
       "      <td>87.0</td>\n",
       "      <td>0.0</td>\n",
       "      <td>5.0</td>\n",
       "      <td>1.0</td>\n",
       "      <td>0.9</td>\n",
       "      <td>0.9</td>\n",
       "      <td>0.9</td>\n",
       "      <td>1.0</td>\n",
       "    </tr>\n",
       "    <tr>\n",
       "      <th>54</th>\n",
       "      <td>2023-05-20</td>\n",
       "      <td>Sat</td>\n",
       "      <td>37</td>\n",
       "      <td>1.0</td>\n",
       "      <td>90.0</td>\n",
       "      <td>0.0</td>\n",
       "      <td>2.0</td>\n",
       "      <td>1.0</td>\n",
       "      <td>0.1</td>\n",
       "      <td>0.1</td>\n",
       "      <td>0.4</td>\n",
       "      <td>0.0</td>\n",
       "    </tr>\n",
       "    <tr>\n",
       "      <th>55</th>\n",
       "      <td>2023-05-28</td>\n",
       "      <td>Sun</td>\n",
       "      <td>38</td>\n",
       "      <td>0.0</td>\n",
       "      <td>90.0</td>\n",
       "      <td>0.0</td>\n",
       "      <td>8.0</td>\n",
       "      <td>1.0</td>\n",
       "      <td>1.2</td>\n",
       "      <td>1.2</td>\n",
       "      <td>0.2</td>\n",
       "      <td>0.0</td>\n",
       "    </tr>\n",
       "  </tbody>\n",
       "</table>\n",
       "<p>73 rows × 12 columns</p>\n",
       "</div>"
      ],
      "text/plain": [
       "          Date  Day  GW  Was Home   Min  Gls   Sh  SoT   xG  npxG  xAG   CS\n",
       "0   2021-08-14  Sat   1       0.0  90.0  1.0  5.0  2.0  0.3   0.3  0.7  1.0\n",
       "1   2021-08-21  Sat   2       1.0  90.0  0.0  5.0  1.0  0.4   0.4  0.1  1.0\n",
       "2   2021-08-28  Sat   3       1.0  90.0  1.0  2.0  1.0  1.1   0.3  0.2  0.0\n",
       "4   2021-09-12  Sun   4       0.0  90.0  1.0  3.0  1.0  0.9   0.9  0.8  1.0\n",
       "6   2021-09-18  Sat   5       1.0  90.0  1.0  6.0  5.0  0.5   0.5  0.2  1.0\n",
       "..         ...  ...  ..       ...   ...  ...  ...  ...  ...   ...  ...  ...\n",
       "51  2023-05-03  Wed  28       1.0  83.0  1.0  2.0  0.0  1.2   0.4  0.2  1.0\n",
       "52  2023-05-06  Sat  35       1.0  90.0  1.0  3.0  2.0  1.0   1.0  0.2  1.0\n",
       "53  2023-05-15  Mon  36       0.0  87.0  0.0  5.0  1.0  0.9   0.9  0.9  1.0\n",
       "54  2023-05-20  Sat  37       1.0  90.0  0.0  2.0  1.0  0.1   0.1  0.4  0.0\n",
       "55  2023-05-28  Sun  38       0.0  90.0  0.0  8.0  1.0  1.2   1.2  0.2  0.0\n",
       "\n",
       "[73 rows x 12 columns]"
      ]
     },
     "execution_count": 22,
     "metadata": {},
     "output_type": "execute_result"
    }
   ],
   "source": [
    "logs[info + features]"
   ]
  }
 ],
 "metadata": {
  "kernelspec": {
   "display_name": "Python 3 (ipykernel)",
   "language": "python",
   "name": "python3"
  },
  "language_info": {
   "codemirror_mode": {
    "name": "ipython",
    "version": 3
   },
   "file_extension": ".py",
   "mimetype": "text/x-python",
   "name": "python",
   "nbconvert_exporter": "python",
   "pygments_lexer": "ipython3",
   "version": "3.8.0"
  }
 },
 "nbformat": 4,
 "nbformat_minor": 5
}
