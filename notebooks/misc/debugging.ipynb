{
 "cells": [
  {
   "cell_type": "code",
   "execution_count": 2,
   "id": "018d25c8-1454-4864-8cd4-58997a9f3c0d",
   "metadata": {},
   "outputs": [],
   "source": [
    "import os\n",
    "os.chdir(\"D:\\PulpitE\\FPL_ML\")"
   ]
  },
  {
   "cell_type": "code",
   "execution_count": 3,
   "id": "232fcb4e-2cef-4524-98f0-5f985d2afa8e",
   "metadata": {},
   "outputs": [],
   "source": [
    "import pandas as pd\n",
    "import numpy as np\n",
    "from vaastav.fbref import *"
   ]
  },
  {
   "cell_type": "code",
   "execution_count": 4,
   "id": "3816d8b0-7414-4323-af01-e6b61485beaf",
   "metadata": {},
   "outputs": [],
   "source": [
    "# generate_schedule()"
   ]
  },
  {
   "cell_type": "code",
   "execution_count": 5,
   "id": "52597fa2-13c9-4815-adc9-dc32d05df68e",
   "metadata": {},
   "outputs": [],
   "source": [
    "df_final = pd.read_csv('data/fpl_fbref_elo_players.csv')"
   ]
  },
  {
   "cell_type": "code",
   "execution_count": 6,
   "id": "a695f902-0285-46cb-8002-93f79c5564de",
   "metadata": {},
   "outputs": [
    {
     "name": "stdout",
     "output_type": "stream",
     "text": [
      "<class 'pandas.core.frame.DataFrame'>\n",
      "RangeIndex: 24683 entries, 0 to 24682\n",
      "Data columns (total 61 columns):\n",
      " #   Column          Non-Null Count  Dtype  \n",
      "---  ------          --------------  -----  \n",
      " 0   Unnamed: 0      24683 non-null  int64  \n",
      " 1   Unnamed: 0.1    24683 non-null  int64  \n",
      " 2   Unnamed: 0.1.1  24683 non-null  int64  \n",
      " 3   Date            24683 non-null  object \n",
      " 4   Day             24683 non-null  object \n",
      " 5   Comp            24683 non-null  object \n",
      " 6   Round           24683 non-null  object \n",
      " 7   Venue           24683 non-null  object \n",
      " 8   Squad           24683 non-null  object \n",
      " 9   Opponent        24683 non-null  object \n",
      " 10  Start           24683 non-null  object \n",
      " 11  Pos             24640 non-null  object \n",
      " 12  Min             24680 non-null  float64\n",
      " 13  Gls             24683 non-null  float64\n",
      " 14  Ast             24683 non-null  float64\n",
      " 15  PK              24683 non-null  float64\n",
      " 16  PKatt           24683 non-null  float64\n",
      " 17  Sh              24583 non-null  float64\n",
      " 18  SoT             24583 non-null  float64\n",
      " 19  CrdY            24683 non-null  float64\n",
      " 20  CrdR            24683 non-null  float64\n",
      " 21  Touches         24388 non-null  float64\n",
      " 22  Tkl             24388 non-null  float64\n",
      " 23  Int             24583 non-null  float64\n",
      " 24  Blocks          24388 non-null  float64\n",
      " 25  xG              24388 non-null  float64\n",
      " 26  npxG            24388 non-null  float64\n",
      " 27  xAG             24388 non-null  float64\n",
      " 28  SCA             24388 non-null  float64\n",
      " 29  GCA             24388 non-null  float64\n",
      " 30  Cmp             24388 non-null  float64\n",
      " 31  Att             24388 non-null  float64\n",
      " 32  Cmp%            24177 non-null  float64\n",
      " 33  PrgP            24388 non-null  float64\n",
      " 34  Carries         24388 non-null  float64\n",
      " 35  PrgC            24388 non-null  float64\n",
      " 36  Att.1           24388 non-null  float64\n",
      " 37  Succ            24388 non-null  float64\n",
      " 38  Match Report    24683 non-null  object \n",
      " 39  Name            24683 non-null  object \n",
      " 40  Season          24683 non-null  object \n",
      " 41  Fls             63 non-null     float64\n",
      " 42  Fld             63 non-null     float64\n",
      " 43  Off             63 non-null     float64\n",
      " 44  Crs             63 non-null     float64\n",
      " 45  TklW            63 non-null     float64\n",
      " 46  OG              63 non-null     float64\n",
      " 47  PKwon           63 non-null     float64\n",
      " 48  PKcon           63 non-null     float64\n",
      " 49  WDL             24683 non-null  object \n",
      " 50  GoalsTeams      24683 non-null  object \n",
      " 51  Team Score      24683 non-null  int64  \n",
      " 52  Opp Score       24683 non-null  int64  \n",
      " 53  CS              24683 non-null  float64\n",
      " 54  Was Home        24683 non-null  float64\n",
      " 55  GW              24683 non-null  object \n",
      " 56  neutral_name    24683 non-null  object \n",
      " 57  Total Points    22151 non-null  float64\n",
      " 58  FPL position    22151 non-null  object \n",
      " 59  Opp rating      24047 non-null  float64\n",
      " 60  Team rating     24542 non-null  float64\n",
      "dtypes: float64(39), int64(5), object(17)\n",
      "memory usage: 11.5+ MB\n"
     ]
    }
   ],
   "source": [
    "df_final.info()"
   ]
  },
  {
   "cell_type": "code",
   "execution_count": null,
   "id": "d5b77940-7890-4fc3-bde9-7adab6493f7a",
   "metadata": {},
   "outputs": [],
   "source": []
  },
  {
   "cell_type": "code",
   "execution_count": null,
   "id": "077c0d4f-f9b3-49f6-b53e-3ebd4ae59203",
   "metadata": {},
   "outputs": [],
   "source": []
  }
 ],
 "metadata": {
  "kernelspec": {
   "display_name": "Python 3 (ipykernel)",
   "language": "python",
   "name": "python3"
  },
  "language_info": {
   "codemirror_mode": {
    "name": "ipython",
    "version": 3
   },
   "file_extension": ".py",
   "mimetype": "text/x-python",
   "name": "python",
   "nbconvert_exporter": "python",
   "pygments_lexer": "ipython3",
   "version": "3.8.0"
  }
 },
 "nbformat": 4,
 "nbformat_minor": 5
}
