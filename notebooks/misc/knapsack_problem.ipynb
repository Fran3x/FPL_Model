{
 "cells": [
  {
   "cell_type": "code",
   "execution_count": null,
   "id": "4bac4c6a-63e8-4a2c-9d2a-9c65571b34fe",
   "metadata": {},
   "outputs": [],
   "source": [
    "import os\n",
    "os.chdir(\"D:\\PulpitE\\FPL_ML\")"
   ]
  },
  {
   "cell_type": "code",
   "execution_count": null,
   "id": "8adff0a7-f31f-4764-9491-b18d6eca71f9",
   "metadata": {},
   "outputs": [],
   "source": [
    "from knapsack_problem.knapsack import best_full_teams\n",
    "from knapsack_problem.player import Player\n",
    "import pandas as pd\n",
    "import math"
   ]
  },
  {
   "cell_type": "code",
   "execution_count": null,
   "id": "56973d9a-3daa-495f-bac6-4b8f3d015f3e",
   "metadata": {},
   "outputs": [],
   "source": [
    "DATA_PATH = \"predictions/preds_next_season.csv\""
   ]
  },
  {
   "cell_type": "code",
   "execution_count": null,
   "id": "0e33730c-56b2-43c7-a62f-ba6ae88d1a55",
   "metadata": {},
   "outputs": [],
   "source": [
    "df = pd.read_csv(DATA_PATH).rename(columns={\"Pred\": \"Prediction\"})"
   ]
  },
  {
   "cell_type": "code",
   "execution_count": null,
   "id": "e3950e7a-293a-427b-acbd-90fb7bb49639",
   "metadata": {},
   "outputs": [],
   "source": [
    "df.columns"
   ]
  },
  {
   "cell_type": "code",
   "execution_count": null,
   "id": "84d2e133-1f6c-4dec-87c9-8c7bc597683b",
   "metadata": {},
   "outputs": [],
   "source": [
    "df = df[df[\"GW\"] == 3]"
   ]
  },
  {
   "cell_type": "code",
   "execution_count": null,
   "id": "79bc001a-ebeb-4dac-b2b4-30cb817cc094",
   "metadata": {},
   "outputs": [],
   "source": [
    "df.head(30)"
   ]
  },
  {
   "cell_type": "code",
   "execution_count": null,
   "id": "3f5d092c-434e-47ac-9746-68deb7e583e2",
   "metadata": {},
   "outputs": [],
   "source": [
    "df = df[(df[\"Prediction\"] > 3.5) | (df[\"FPL_pos\"] == \"GK\")]"
   ]
  },
  {
   "cell_type": "code",
   "execution_count": null,
   "id": "b6a45fcd-3787-48f5-92bd-02e7baf59466",
   "metadata": {},
   "outputs": [],
   "source": [
    "df.shape, df[df[\"FPL_pos\"] == \"GK\"].shape, df[df[\"FPL_pos\"] == \"DEF\"].shape, df[df[\"FPL_pos\"] == \"MID\"].shape, df[df[\"FPL_pos\"] == \"FWD\"].shape"
   ]
  },
  {
   "cell_type": "code",
   "execution_count": null,
   "id": "39a61f34-63f5-4c6e-a141-a2192f2489cc",
   "metadata": {},
   "outputs": [],
   "source": [
    "df.head()"
   ]
  },
  {
   "cell_type": "code",
   "execution_count": null,
   "id": "a00e5b72-2a23-4d58-b351-2deddbadb623",
   "metadata": {},
   "outputs": [],
   "source": []
  },
  {
   "cell_type": "code",
   "execution_count": null,
   "id": "7377c83f-17fc-404c-b93e-5e57b0967e5c",
   "metadata": {},
   "outputs": [],
   "source": [
    "playersDB = []\n",
    "for i, row in df.iterrows():\n",
    "    playersDB.append(Player(row.Name_original, row.FPL_pos, row.Price, round(row.Prediction, 2), row.Team))"
   ]
  },
  {
   "cell_type": "code",
   "execution_count": null,
   "id": "fcda415f-b721-453c-a02d-a5813063394b",
   "metadata": {},
   "outputs": [],
   "source": [
    "\n",
    "for p in playersDB:\n",
    "    print(p.__str__())"
   ]
  },
  {
   "cell_type": "code",
   "execution_count": null,
   "id": "88d3032c-0a52-4f8d-b507-e9b30274b27e",
   "metadata": {},
   "outputs": [],
   "source": [
    "# 2 example Goalkeepers\n",
    "# playersDB.append(Player(\"GK1\", \"GK\", 5, 4, \"Manchester Utd\"))\n",
    "# playersDB.append(Player(\"GK2\", \"GK\", 4, 3, \"Nott'ham Forest\"))"
   ]
  },
  {
   "cell_type": "code",
   "execution_count": null,
   "id": "5aa0ca3b-236b-4e1f-a88a-666517ddcb86",
   "metadata": {},
   "outputs": [],
   "source": [
    "possible_formations = [\n",
    "    [3, 4, 3],\n",
    "    [3, 5, 2],\n",
    "    [4, 3, 3],\n",
    "    [4, 4, 2],\n",
    "    [4, 5, 1],\n",
    "    [5, 3, 2],\n",
    "    [5, 4, 1],\n",
    "]"
   ]
  },
  {
   "cell_type": "code",
   "execution_count": null,
   "id": "18a1a961-a255-4b16-9994-5099a6d6323f",
   "metadata": {},
   "outputs": [],
   "source": [
    "budget = 1000"
   ]
  },
  {
   "cell_type": "code",
   "execution_count": null,
   "id": "773c24b4-9cf4-40c1-a166-d95eac0ce9b7",
   "metadata": {},
   "outputs": [],
   "source": [
    "%%time\n",
    "best_team = best_full_teams(playersDB, possible_formations, budget)"
   ]
  },
  {
   "cell_type": "code",
   "execution_count": null,
   "id": "376d1c69-9b4c-416b-90a3-ca0743359c52",
   "metadata": {},
   "outputs": [],
   "source": [
    "f\"Best team score: {best_team[0][1]}\""
   ]
  },
  {
   "cell_type": "code",
   "execution_count": null,
   "id": "a670ee84-6c39-4579-b450-02070f444b1e",
   "metadata": {},
   "outputs": [],
   "source": [
    "def best_team_to_df(best_team_squad, df, custom_fpl_order):\n",
    "    names = [p.name for p in best_team_squad]\n",
    "    \n",
    "    # Convert \"FPL_pos\" column to categorical with custom order\n",
    "    df[\"FPL_pos\"] = pd.Categorical(df[\"FPL_pos\"], categories=custom_fpl_order, ordered=True)\n",
    "    \n",
    "    # Filter by names and sort by custom ordered \"FPL_pos\" and \"Price\"\n",
    "    return df[df[\"Name_original\"].isin(names)].sort_values(by=[\"FPL_pos\", \"Price\"], ascending=False)\n",
    "\n",
    "# Define your custom order for FPL_pos\n",
    "custom_fpl_order = [\"FWD\", \"MID\", \"DEF\", \"GK\"]"
   ]
  },
  {
   "cell_type": "code",
   "execution_count": null,
   "id": "75bbd58d-5324-476d-8567-af2a56c4c230",
   "metadata": {},
   "outputs": [],
   "source": [
    "best_squad = best_team_to_df(best_team[0][2], df, custom_fpl_order)\n",
    "best_squad"
   ]
  },
  {
   "cell_type": "code",
   "execution_count": null,
   "id": "01daef64-eefc-4dd2-8a4c-fcfd75ac6504",
   "metadata": {},
   "outputs": [],
   "source": [
    "best_squad.to_csv(\"predictions/best_squad.csv\")"
   ]
  },
  {
   "cell_type": "code",
   "execution_count": null,
   "id": "3a6b7b79-f704-458d-b898-79352453b874",
   "metadata": {},
   "outputs": [],
   "source": []
  }
 ],
 "metadata": {
  "kernelspec": {
   "display_name": "Python 3 (ipykernel)",
   "language": "python",
   "name": "python3"
  },
  "language_info": {
   "codemirror_mode": {
    "name": "ipython",
    "version": 3
   },
   "file_extension": ".py",
   "mimetype": "text/x-python",
   "name": "python",
   "nbconvert_exporter": "python",
   "pygments_lexer": "ipython3",
   "version": "3.8.0"
  }
 },
 "nbformat": 4,
 "nbformat_minor": 5
}
