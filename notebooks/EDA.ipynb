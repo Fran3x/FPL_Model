{
 "cells": [
  {
   "cell_type": "markdown",
   "id": "13e30c9c-8138-459f-9867-6907a6b7c24e",
   "metadata": {},
   "source": [
    "# Imports"
   ]
  },
  {
   "cell_type": "code",
   "execution_count": 1,
   "id": "1d595820-1e9d-4511-a21a-efea7f9daa0b",
   "metadata": {},
   "outputs": [],
   "source": [
    "import os\n",
    "os.chdir(\"D:\\PulpitE\\FPL_ML\")"
   ]
  },
  {
   "cell_type": "code",
   "execution_count": 2,
   "id": "fdd90b0a-ccd0-4e81-a1b3-2cd400097902",
   "metadata": {},
   "outputs": [],
   "source": [
    "import matplotlib.pyplot as plt\n",
    "import pandas as pd\n",
    "import numpy as np\n",
    "import seaborn"
   ]
  },
  {
   "cell_type": "code",
   "execution_count": 3,
   "id": "5cf7f48f-9619-4067-801b-d574c1f329fe",
   "metadata": {},
   "outputs": [],
   "source": [
    "df = pd.read_csv('data/previous/FPL_logs.csv')"
   ]
  },
  {
   "cell_type": "markdown",
   "id": "2b2c0ec2-2fa3-4aa1-a182-67dcaaa76476",
   "metadata": {},
   "source": [
    "# General info"
   ]
  },
  {
   "cell_type": "code",
   "execution_count": 4,
   "id": "3850c6f5-7f2f-4d61-a68e-11f8ffd7b256",
   "metadata": {},
   "outputs": [
    {
     "data": {
      "text/plain": [
       "Index(['Date', 'Day', 'Venue', 'Team', 'Opponent', 'Name', 'Start', 'Pos',\n",
       "       'Min', 'Gls', 'Ast', 'PK', 'PKatt', 'Sh', 'SoT', 'CrdY', 'CrdR',\n",
       "       'Touches', 'Tkl', 'Int', 'Blocks', 'xG', 'npxG', 'xA', 'SCA', 'GCA',\n",
       "       'Cmp', 'Att', 'Cmp%', 'PrgP', 'Carries', 'PrgC', 'T_att', 'T_succ',\n",
       "       'Season', 'WDL', 'Team_score', 'Opp_score', 'Team_CS', 'Was_home', 'GW',\n",
       "       'Clean_name', 'FPL_name', 'FPL_team', 'FPL_opp_team', 'Name_original',\n",
       "       'FPL_pos', 'FPL_ast', 'Bonus', 'Bps', 'Player_CS', 'Creativity',\n",
       "       'Element', 'Fixture', 'Player_GC', 'Goals_scored', 'ICT_index',\n",
       "       'Influence', 'Kickoff_time', 'FPL_min', 'Own_goals', 'Penalties_missed',\n",
       "       'Penalties_saved', 'Saves', 'Selected', 'Threat', 'FPL_points',\n",
       "       'Transfers_balance', 'Transfers_in', 'Transfers_out', 'Price', 'FPL_GW',\n",
       "       'xP', 'FPL_xA', 'FPL_xGI', 'FPL_xG', 'FPL_xGC', 'Opp_rating',\n",
       "       'Team_rating', 'Min_points', 'Avg_FPL_points'],\n",
       "      dtype='object')"
      ]
     },
     "execution_count": 4,
     "metadata": {},
     "output_type": "execute_result"
    }
   ],
   "source": [
    "df.columns"
   ]
  },
  {
   "cell_type": "code",
   "execution_count": 5,
   "id": "995ca0c5-131c-4006-8f9f-a0524e79709e",
   "metadata": {},
   "outputs": [
    {
     "data": {
      "text/plain": [
       "(19726, 81)"
      ]
     },
     "execution_count": 5,
     "metadata": {},
     "output_type": "execute_result"
    }
   ],
   "source": [
    "df.shape"
   ]
  },
  {
   "cell_type": "code",
   "execution_count": 6,
   "id": "7a942945-01ee-47ad-85e5-c8b1a26506fc",
   "metadata": {},
   "outputs": [
    {
     "data": {
      "text/html": [
       "<div>\n",
       "<style scoped>\n",
       "    .dataframe tbody tr th:only-of-type {\n",
       "        vertical-align: middle;\n",
       "    }\n",
       "\n",
       "    .dataframe tbody tr th {\n",
       "        vertical-align: top;\n",
       "    }\n",
       "\n",
       "    .dataframe thead th {\n",
       "        text-align: right;\n",
       "    }\n",
       "</style>\n",
       "<table border=\"1\" class=\"dataframe\">\n",
       "  <thead>\n",
       "    <tr style=\"text-align: right;\">\n",
       "      <th></th>\n",
       "      <th>xP</th>\n",
       "      <th>FPL_points</th>\n",
       "    </tr>\n",
       "  </thead>\n",
       "  <tbody>\n",
       "    <tr>\n",
       "      <th>count</th>\n",
       "      <td>17662.000000</td>\n",
       "      <td>17775.000000</td>\n",
       "    </tr>\n",
       "    <tr>\n",
       "      <th>mean</th>\n",
       "      <td>2.015978</td>\n",
       "      <td>2.330408</td>\n",
       "    </tr>\n",
       "    <tr>\n",
       "      <th>std</th>\n",
       "      <td>2.196320</td>\n",
       "      <td>2.958820</td>\n",
       "    </tr>\n",
       "    <tr>\n",
       "      <th>min</th>\n",
       "      <td>-3.000000</td>\n",
       "      <td>-4.000000</td>\n",
       "    </tr>\n",
       "    <tr>\n",
       "      <th>25%</th>\n",
       "      <td>1.000000</td>\n",
       "      <td>0.000000</td>\n",
       "    </tr>\n",
       "    <tr>\n",
       "      <th>50%</th>\n",
       "      <td>1.000000</td>\n",
       "      <td>1.000000</td>\n",
       "    </tr>\n",
       "    <tr>\n",
       "      <th>75%</th>\n",
       "      <td>2.500000</td>\n",
       "      <td>3.000000</td>\n",
       "    </tr>\n",
       "    <tr>\n",
       "      <th>max</th>\n",
       "      <td>18.000000</td>\n",
       "      <td>24.000000</td>\n",
       "    </tr>\n",
       "  </tbody>\n",
       "</table>\n",
       "</div>"
      ],
      "text/plain": [
       "                 xP    FPL_points\n",
       "count  17662.000000  17775.000000\n",
       "mean       2.015978      2.330408\n",
       "std        2.196320      2.958820\n",
       "min       -3.000000     -4.000000\n",
       "25%        1.000000      0.000000\n",
       "50%        1.000000      1.000000\n",
       "75%        2.500000      3.000000\n",
       "max       18.000000     24.000000"
      ]
     },
     "execution_count": 6,
     "metadata": {},
     "output_type": "execute_result"
    }
   ],
   "source": [
    "df[[\"xP\", \"FPL_points\"]].describe()"
   ]
  },
  {
   "cell_type": "code",
   "execution_count": 7,
   "id": "138c69d0-b728-4fd9-8d3e-e20d151e500c",
   "metadata": {},
   "outputs": [
    {
     "data": {
      "text/plain": [
       "(35606.2, 41423.0)"
      ]
     },
     "execution_count": 7,
     "metadata": {},
     "output_type": "execute_result"
    }
   ],
   "source": [
    "df[\"xP\"].sum(), df[\"FPL_points\"].sum()"
   ]
  },
  {
   "cell_type": "code",
   "execution_count": 8,
   "id": "c96651d9-0d01-4627-8c3a-ff76c71ae555",
   "metadata": {},
   "outputs": [
    {
     "data": {
      "text/plain": [
       "(1568.1, 1542.0)"
      ]
     },
     "execution_count": 8,
     "metadata": {},
     "output_type": "execute_result"
    }
   ],
   "source": [
    "df[\"xG\"].sum(), df[\"Gls\"].sum()"
   ]
  },
  {
   "cell_type": "code",
   "execution_count": 9,
   "id": "1dfd7f5f-12e0-4637-8a76-ad91e83881bf",
   "metadata": {},
   "outputs": [
    {
     "data": {
      "text/plain": [
       "(1157.9, 1128.0)"
      ]
     },
     "execution_count": 9,
     "metadata": {},
     "output_type": "execute_result"
    }
   ],
   "source": [
    "df[\"xA\"].sum(), df[\"Ast\"].sum()"
   ]
  },
  {
   "cell_type": "code",
   "execution_count": 10,
   "id": "3fa85cc8-e6f7-49bd-a7b1-9837172ed7c3",
   "metadata": {},
   "outputs": [
    {
     "data": {
      "text/plain": [
       "Min_points          19726\n",
       "Clean_name          19726\n",
       "FPL_GW              19726\n",
       "FPL_xGC             19148\n",
       "FPL_xG              19148\n",
       "FPL_xGI             19148\n",
       "FPL_xA              19148\n",
       "xP                   2064\n",
       "Avg_FPL_points       1951\n",
       "Kickoff_time         1951\n",
       "FPL_min              1951\n",
       "Own_goals            1951\n",
       "ICT_index            1951\n",
       "Penalties_missed     1951\n",
       "Penalties_saved      1951\n",
       "Saves                1951\n",
       "Influence            1951\n",
       "Bonus                1951\n",
       "Name_original        1951\n",
       "FPL_pos              1951\n",
       "FPL_ast              1951\n",
       "Threat               1951\n",
       "Bps                  1951\n",
       "Player_CS            1951\n",
       "Creativity           1951\n",
       "Element              1951\n",
       "Fixture              1951\n",
       "Selected             1951\n",
       "Player_GC            1951\n",
       "Price                1951\n",
       "dtype: int64"
      ]
     },
     "execution_count": 10,
     "metadata": {},
     "output_type": "execute_result"
    }
   ],
   "source": [
    "df.isna().sum().sort_values(ascending=False).head(30)"
   ]
  },
  {
   "cell_type": "code",
   "execution_count": 11,
   "id": "cb319b8c-5b08-438b-913b-e860fc0bcafd",
   "metadata": {},
   "outputs": [
    {
     "data": {
      "text/plain": [
       "Date                 2021-10-16\n",
       "Day                         Sat\n",
       "Venue                      Away\n",
       "Team                   Brighton\n",
       "Opponent           Norwich City\n",
       "Name             Aaron-Connolly\n",
       "Start                         N\n",
       "Pos                           0\n",
       "Min                         0.0\n",
       "Gls                         0.0\n",
       "Ast                         0.0\n",
       "PK                          0.0\n",
       "PKatt                       0.0\n",
       "Sh                          0.0\n",
       "SoT                         0.0\n",
       "CrdY                        0.0\n",
       "CrdR                        0.0\n",
       "Touches                     0.0\n",
       "Tkl                         0.0\n",
       "Int                         0.0\n",
       "Blocks                      0.0\n",
       "xG                          0.0\n",
       "npxG                        0.0\n",
       "xA                          0.0\n",
       "SCA                         0.0\n",
       "GCA                         0.0\n",
       "Cmp                         0.0\n",
       "Att                         0.0\n",
       "Cmp%                        0.0\n",
       "PrgP                        0.0\n",
       "Carries                     0.0\n",
       "PrgC                        0.0\n",
       "T_att                       0.0\n",
       "T_succ                      0.0\n",
       "Season                  2021-22\n",
       "WDL                           D\n",
       "Team_score                    0\n",
       "Opp_score                     0\n",
       "Team_CS                     1.0\n",
       "Was_home                    0.0\n",
       "GW                            8\n",
       "Clean_name                  NaN\n",
       "FPL_name         Aaron-Connolly\n",
       "FPL_team               Brighton\n",
       "FPL_opp_team       Norwich City\n",
       "Name_original               NaN\n",
       "FPL_pos                     NaN\n",
       "FPL_ast                     NaN\n",
       "Bonus                       NaN\n",
       "Bps                         NaN\n",
       "Name: 5, dtype: object"
      ]
     },
     "execution_count": 11,
     "metadata": {},
     "output_type": "execute_result"
    }
   ],
   "source": [
    "df[df[\"FPL_points\"].isna()].iloc[0].head(50)"
   ]
  },
  {
   "cell_type": "code",
   "execution_count": 12,
   "id": "a1394101-fc48-4c89-b3b9-9bb95f2aea99",
   "metadata": {},
   "outputs": [
    {
     "data": {
      "text/plain": [
       "Date              2023-02-18\n",
       "Day                      Sat\n",
       "Venue                   Home\n",
       "Team             Aston Villa\n",
       "Opponent             Arsenal\n",
       "Name             Alex-Moreno\n",
       "Start                      Y\n",
       "Pos                       LB\n",
       "Min                     77.0\n",
       "Gls                      0.0\n",
       "Ast                      1.0\n",
       "PK                       0.0\n",
       "PKatt                    0.0\n",
       "Sh                       0.0\n",
       "SoT                      0.0\n",
       "CrdY                     0.0\n",
       "CrdR                     0.0\n",
       "Touches                 36.0\n",
       "Tkl                      3.0\n",
       "Int                      1.0\n",
       "Blocks                   4.0\n",
       "xG                       0.0\n",
       "npxG                     0.0\n",
       "xA                       0.3\n",
       "SCA                      2.0\n",
       "GCA                      1.0\n",
       "Cmp                     14.0\n",
       "Att                     21.0\n",
       "Cmp%                    66.7\n",
       "PrgP                     1.0\n",
       "Carries                  9.0\n",
       "PrgC                     1.0\n",
       "T_att                    0.0\n",
       "T_succ                   0.0\n",
       "Season               2022-23\n",
       "WDL                        L\n",
       "Team_score                 2\n",
       "Opp_score                  4\n",
       "Team_CS                  0.0\n",
       "Was_home                 1.0\n",
       "GW                        24\n",
       "Clean_name               NaN\n",
       "FPL_name         Alex-Moreno\n",
       "FPL_team         Aston Villa\n",
       "FPL_opp_team         Arsenal\n",
       "Name_original            NaN\n",
       "FPL_pos                  NaN\n",
       "FPL_ast                  NaN\n",
       "Bonus                    NaN\n",
       "Bps                      NaN\n",
       "Name: 681, dtype: object"
      ]
     },
     "execution_count": 12,
     "metadata": {},
     "output_type": "execute_result"
    }
   ],
   "source": [
    "df[(df[\"FPL_points\"].isna()) & (df[\"Min\"] != 0) ].iloc[15].head(50)"
   ]
  },
  {
   "cell_type": "markdown",
   "id": "a6ffebe5-7db6-44d6-bc29-ea0b6155359a",
   "metadata": {},
   "source": [
    "# Missing values"
   ]
  },
  {
   "cell_type": "code",
   "execution_count": null,
   "id": "ba254caa-6ffb-45c3-83ec-d32d06512bf9",
   "metadata": {},
   "outputs": [],
   "source": []
  },
  {
   "cell_type": "code",
   "execution_count": null,
   "id": "45194540-d8ce-4ec0-bc1b-0295c8c0fd0a",
   "metadata": {},
   "outputs": [],
   "source": []
  },
  {
   "cell_type": "code",
   "execution_count": null,
   "id": "f78b8499-4286-4d2f-bdb5-03af779fa36d",
   "metadata": {},
   "outputs": [],
   "source": []
  }
 ],
 "metadata": {
  "kernelspec": {
   "display_name": "Python 3 (ipykernel)",
   "language": "python",
   "name": "python3"
  },
  "language_info": {
   "codemirror_mode": {
    "name": "ipython",
    "version": 3
   },
   "file_extension": ".py",
   "mimetype": "text/x-python",
   "name": "python",
   "nbconvert_exporter": "python",
   "pygments_lexer": "ipython3",
   "version": "3.8.0"
  }
 },
 "nbformat": 4,
 "nbformat_minor": 5
}
