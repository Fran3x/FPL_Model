{
 "cells": [
  {
   "cell_type": "code",
   "execution_count": 1,
   "id": "55ed8570-4e8b-4ec9-9058-1ef260909fd2",
   "metadata": {},
   "outputs": [],
   "source": [
    "import os\n",
    "os.chdir(\"D:\\PulpitE\\FPL_ML\")"
   ]
  },
  {
   "cell_type": "code",
   "execution_count": 2,
   "id": "7c54b255-0ae1-4127-9971-dede89f8bfd6",
   "metadata": {},
   "outputs": [],
   "source": [
    "import matplotlib.pyplot as plt\n",
    "import pandas as pd\n",
    "import numpy as np"
   ]
  },
  {
   "cell_type": "code",
   "execution_count": 3,
   "id": "c0e3db04-b454-43eb-ba54-0f6ef85fe96a",
   "metadata": {},
   "outputs": [],
   "source": [
    "info = [\"Name_original\", \"GW\", \"Season\", \"Team\", \"Opponent\", \"Was_home\", \"Team_rating\", \"Opp_rating\"]"
   ]
  },
  {
   "cell_type": "code",
   "execution_count": 4,
   "id": "716662dd-69cb-4cd3-9858-6179a58f8919",
   "metadata": {},
   "outputs": [],
   "source": [
    "df1 = pd.read_csv('data/previous/FPL_logs.csv')"
   ]
  },
  {
   "cell_type": "code",
   "execution_count": 5,
   "id": "c29f1d3a-12ac-42fc-ab7f-26ae0e12f6aa",
   "metadata": {},
   "outputs": [],
   "source": [
    "df2 = pd.read_csv('data/previous/fpl_fbref_players.csv')"
   ]
  },
  {
   "cell_type": "code",
   "execution_count": 6,
   "id": "e1554909-bba3-4f5b-9520-2c2915215e76",
   "metadata": {},
   "outputs": [],
   "source": [
    "df3 = pd.read_csv('data/misc/df_features.csv')"
   ]
  },
  {
   "cell_type": "code",
   "execution_count": 7,
   "id": "5e1677f7-e56e-4b79-b1b9-8d7e84d0a1da",
   "metadata": {},
   "outputs": [],
   "source": [
    "df4 = pd.read_csv('data/previous/FPL_players.csv')"
   ]
  },
  {
   "cell_type": "code",
   "execution_count": 21,
   "id": "4ffca433-f5da-4696-adb0-d260d3c80a40",
   "metadata": {},
   "outputs": [],
   "source": [
    "df5 = pd.read_csv('data/logs/logs_all.csv')"
   ]
  },
  {
   "cell_type": "code",
   "execution_count": 10,
   "id": "de3b09ce-6960-4555-87fd-71af8501ace7",
   "metadata": {},
   "outputs": [
    {
     "data": {
      "text/plain": [
       "Index(['Unnamed: 0', 'season', 'name', 'position', 'team', 'assists', 'bonus',\n",
       "       'bps', 'clean_sheets', 'creativity', 'element', 'fixture',\n",
       "       'goals_conceded', 'goals_scored', 'ict_index', 'influence',\n",
       "       'kickoff_time', 'minutes', 'opponent_team', 'opp_team_name',\n",
       "       'own_goals', 'penalties_missed', 'penalties_saved', 'red_cards',\n",
       "       'round', 'saves', 'selected', 'team_a_score', 'team_h_score', 'threat',\n",
       "       'total_points', 'transfers_balance', 'transfers_in', 'transfers_out',\n",
       "       'value', 'was_home', 'yellow_cards', 'GW', 'xP', 'expected_assists',\n",
       "       'expected_goal_involvements', 'expected_goals',\n",
       "       'expected_goals_conceded', 'starts'],\n",
       "      dtype='object')"
      ]
     },
     "execution_count": 10,
     "metadata": {},
     "output_type": "execute_result"
    }
   ],
   "source": [
    "df4.columns"
   ]
  },
  {
   "cell_type": "code",
   "execution_count": 22,
   "id": "fa02fdc7-341d-4177-b6ab-5dc4f94207c9",
   "metadata": {},
   "outputs": [
    {
     "data": {
      "text/plain": [
       "((76975, 44), (19421, 101), (43939, 54))"
      ]
     },
     "execution_count": 22,
     "metadata": {},
     "output_type": "execute_result"
    }
   ],
   "source": [
    "df4.shape, df2.shape, df5.shape"
   ]
  },
  {
   "cell_type": "code",
   "execution_count": 24,
   "id": "03db96fe-9e4f-4d7b-a434-ca42e5ab8ab1",
   "metadata": {},
   "outputs": [
    {
     "data": {
      "text/plain": [
       "Unnamed: 0                                       1\n",
       "season                                     2020-21\n",
       "name                               Aaron Cresswell\n",
       "position                                       DEF\n",
       "team                                      West Ham\n",
       "assists                                          0\n",
       "bonus                                            0\n",
       "bps                                             11\n",
       "clean_sheets                                     0\n",
       "creativity                                    11.2\n",
       "element                                        435\n",
       "fixture                                          6\n",
       "goals_conceded                                   2\n",
       "goals_scored                                     0\n",
       "ict_index                                      2.2\n",
       "influence                                     10.4\n",
       "kickoff_time                  2020-09-12T19:00:00Z\n",
       "minutes                                         90\n",
       "opponent_team                                   14\n",
       "opp_team_name                            Newcastle\n",
       "own_goals                                        0\n",
       "penalties_missed                                 0\n",
       "penalties_saved                                  0\n",
       "red_cards                                        0\n",
       "round                                            1\n",
       "saves                                            0\n",
       "selected                                     70232\n",
       "team_a_score                                   2.0\n",
       "team_h_score                                   0.0\n",
       "threat                                         0.0\n",
       "total_points                                     1\n",
       "transfers_balance                                0\n",
       "transfers_in                                     0\n",
       "transfers_out                                    0\n",
       "value                                           50\n",
       "was_home                                      True\n",
       "yellow_cards                                     0\n",
       "GW                                               1\n",
       "xP                                             NaN\n",
       "expected_assists                               NaN\n",
       "expected_goal_involvements                     NaN\n",
       "expected_goals                                 NaN\n",
       "expected_goals_conceded                        NaN\n",
       "starts                                         NaN\n",
       "Name: 1, dtype: object"
      ]
     },
     "execution_count": 24,
     "metadata": {},
     "output_type": "execute_result"
    }
   ],
   "source": [
    "df4.iloc[1]"
   ]
  },
  {
   "cell_type": "code",
   "execution_count": 18,
   "id": "0dc5bf4b-d32b-45b7-94de-a7f837fd5bb3",
   "metadata": {},
   "outputs": [
    {
     "data": {
      "text/html": [
       "<div>\n",
       "<style scoped>\n",
       "    .dataframe tbody tr th:only-of-type {\n",
       "        vertical-align: middle;\n",
       "    }\n",
       "\n",
       "    .dataframe tbody tr th {\n",
       "        vertical-align: top;\n",
       "    }\n",
       "\n",
       "    .dataframe thead th {\n",
       "        text-align: right;\n",
       "    }\n",
       "</style>\n",
       "<table border=\"1\" class=\"dataframe\">\n",
       "  <thead>\n",
       "    <tr style=\"text-align: right;\">\n",
       "      <th></th>\n",
       "      <th>Unnamed: 0</th>\n",
       "      <th>season</th>\n",
       "      <th>name</th>\n",
       "      <th>position</th>\n",
       "      <th>team</th>\n",
       "      <th>assists</th>\n",
       "      <th>bonus</th>\n",
       "      <th>bps</th>\n",
       "      <th>clean_sheets</th>\n",
       "      <th>creativity</th>\n",
       "      <th>...</th>\n",
       "      <th>value</th>\n",
       "      <th>was_home</th>\n",
       "      <th>yellow_cards</th>\n",
       "      <th>GW</th>\n",
       "      <th>xP</th>\n",
       "      <th>expected_assists</th>\n",
       "      <th>expected_goal_involvements</th>\n",
       "      <th>expected_goals</th>\n",
       "      <th>expected_goals_conceded</th>\n",
       "      <th>starts</th>\n",
       "    </tr>\n",
       "  </thead>\n",
       "  <tbody>\n",
       "  </tbody>\n",
       "</table>\n",
       "<p>0 rows × 44 columns</p>\n",
       "</div>"
      ],
      "text/plain": [
       "Empty DataFrame\n",
       "Columns: [Unnamed: 0, season, name, position, team, assists, bonus, bps, clean_sheets, creativity, element, fixture, goals_conceded, goals_scored, ict_index, influence, kickoff_time, minutes, opponent_team, opp_team_name, own_goals, penalties_missed, penalties_saved, red_cards, round, saves, selected, team_a_score, team_h_score, threat, total_points, transfers_balance, transfers_in, transfers_out, value, was_home, yellow_cards, GW, xP, expected_assists, expected_goal_involvements, expected_goals, expected_goals_conceded, starts]\n",
       "Index: []\n",
       "\n",
       "[0 rows x 44 columns]"
      ]
     },
     "execution_count": 18,
     "metadata": {},
     "output_type": "execute_result"
    }
   ],
   "source": [
    "df4[df4[\"total_points\"].isna() ]"
   ]
  },
  {
   "cell_type": "code",
   "execution_count": null,
   "id": "5dcb903e-d16a-4c63-89b9-4e9e8a9771b5",
   "metadata": {},
   "outputs": [],
   "source": []
  }
 ],
 "metadata": {
  "kernelspec": {
   "display_name": "Python 3 (ipykernel)",
   "language": "python",
   "name": "python3"
  },
  "language_info": {
   "codemirror_mode": {
    "name": "ipython",
    "version": 3
   },
   "file_extension": ".py",
   "mimetype": "text/x-python",
   "name": "python",
   "nbconvert_exporter": "python",
   "pygments_lexer": "ipython3",
   "version": "3.8.0"
  }
 },
 "nbformat": 4,
 "nbformat_minor": 5
}
