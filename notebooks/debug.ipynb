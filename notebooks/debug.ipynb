{
 "cells": [
  {
   "cell_type": "code",
   "execution_count": 1,
   "id": "55ed8570-4e8b-4ec9-9058-1ef260909fd2",
   "metadata": {},
   "outputs": [],
   "source": [
    "import os\n",
    "os.chdir(\"D:\\PulpitE\\FPL_ML\")"
   ]
  },
  {
   "cell_type": "code",
   "execution_count": 2,
   "id": "7c54b255-0ae1-4127-9971-dede89f8bfd6",
   "metadata": {},
   "outputs": [],
   "source": [
    "import matplotlib.pyplot as plt\n",
    "import pandas as pd\n",
    "import numpy as np"
   ]
  },
  {
   "cell_type": "code",
   "execution_count": 3,
   "id": "c0e3db04-b454-43eb-ba54-0f6ef85fe96a",
   "metadata": {},
   "outputs": [],
   "source": [
    "info = [\"Name_original\", \"GW\", \"Season\", \"Team\", \"Opponent\", \"Was_home\", \"Team_rating\", \"Opp_rating\"]"
   ]
  },
  {
   "cell_type": "code",
   "execution_count": 4,
   "id": "716662dd-69cb-4cd3-9858-6179a58f8919",
   "metadata": {},
   "outputs": [],
   "source": [
    "df1 = pd.read_csv('data/previous/FPL_logs.csv')"
   ]
  },
  {
   "cell_type": "code",
   "execution_count": 6,
   "id": "2f02f288-d33b-4533-8431-e4cea4b14f78",
   "metadata": {},
   "outputs": [
    {
     "data": {
      "text/plain": [
       "(31, 9)"
      ]
     },
     "execution_count": 6,
     "metadata": {},
     "output_type": "execute_result"
    }
   ],
   "source": [
    "df1[df1[\"Name_original\"] == \"Erling Haaland\"][info + [\"Gls\"]].shape"
   ]
  },
  {
   "cell_type": "code",
   "execution_count": 7,
   "id": "c29f1d3a-12ac-42fc-ab7f-26ae0e12f6aa",
   "metadata": {},
   "outputs": [],
   "source": [
    "df2 = pd.read_csv('data/previous/fpl_fbref_players.csv')"
   ]
  },
  {
   "cell_type": "code",
   "execution_count": 11,
   "id": "8595f24a-f34b-4d54-b380-f2c4cadd7993",
   "metadata": {},
   "outputs": [
    {
     "data": {
      "text/plain": [
       "Index(['Unnamed: 0', 'Date', 'Day', 'Comp', 'Round', 'Venue', 'Squad',\n",
       "       'Opponent', 'Start', 'Pos',\n",
       "       ...\n",
       "       'was_home', 'yellow_cards', 'GW_y', 'xP', 'expected_assists',\n",
       "       'expected_goal_involvements', 'expected_goals',\n",
       "       'expected_goals_conceded', 'starts', 'neutral_name_y'],\n",
       "      dtype='object', length=104)"
      ]
     },
     "execution_count": 11,
     "metadata": {},
     "output_type": "execute_result"
    }
   ],
   "source": [
    "df2.columns"
   ]
  },
  {
   "cell_type": "code",
   "execution_count": 42,
   "id": "1546e939-bba0-4123-829f-357fab0dbc4e",
   "metadata": {},
   "outputs": [
    {
     "data": {
      "text/plain": [
       "11457     1\n",
       "11458     2\n",
       "11459     3\n",
       "11460     4\n",
       "11461     5\n",
       "11462     6\n",
       "11463     8\n",
       "11464     9\n",
       "11466    11\n",
       "11467    13\n",
       "11468    15\n",
       "11469    16\n",
       "11471    18\n",
       "11472    19\n",
       "11473    20\n",
       "11474     7\n",
       "11475    21\n",
       "11476    22\n",
       "11477    23\n",
       "11478    12\n",
       "11479    24\n",
       "11480    25\n",
       "11481    26\n",
       "11482    27\n",
       "11485    33\n",
       "11486    34\n",
       "11487    28\n",
       "11489    36\n",
       "11490    37\n",
       "11491    32\n",
       "11492    38\n",
       "Name: GW_x, dtype: int64"
      ]
     },
     "execution_count": 42,
     "metadata": {},
     "output_type": "execute_result"
    }
   ],
   "source": [
    "df2[df2[\"name\"] == \"Erling Haaland\"][\"GW_x\"]"
   ]
  },
  {
   "cell_type": "code",
   "execution_count": 28,
   "id": "e1554909-bba3-4f5b-9520-2c2915215e76",
   "metadata": {},
   "outputs": [],
   "source": [
    "df3 = pd.read_csv('data/logs/logs_all_PL.csv')"
   ]
  },
  {
   "cell_type": "code",
   "execution_count": 29,
   "id": "5bb13bc3-1b59-4f06-8c8a-909ba42686f4",
   "metadata": {},
   "outputs": [
    {
     "data": {
      "text/plain": [
       "Index(['Unnamed: 0', 'Date', 'Day', 'Comp', 'Round', 'Venue', 'Squad',\n",
       "       'Opponent', 'Start', 'Pos', 'Min', 'Gls', 'Ast', 'PK', 'PKatt', 'Sh',\n",
       "       'SoT', 'CrdY', 'CrdR', 'Touches', 'Tkl', 'Int', 'Blocks', 'xG', 'npxG',\n",
       "       'xAG', 'SCA', 'GCA', 'Cmp', 'Att', 'Cmp%', 'PrgP', 'Carries', 'PrgC',\n",
       "       'Att.1', 'Succ', 'Match Report', 'Name', 'Season', 'Fls', 'Fld', 'Off',\n",
       "       'Crs', 'TklW', 'OG', 'PKwon', 'PKcon', 'WDL', 'GoalsTeams',\n",
       "       'Team Score', 'Opp Score', 'CS', 'Was Home', 'GW'],\n",
       "      dtype='object')"
      ]
     },
     "execution_count": 29,
     "metadata": {},
     "output_type": "execute_result"
    }
   ],
   "source": [
    "df3.columns"
   ]
  },
  {
   "cell_type": "code",
   "execution_count": 34,
   "id": "0ab5b9a6-22f0-4125-9acc-4f3325e2d7b1",
   "metadata": {},
   "outputs": [
    {
     "data": {
      "text/plain": [
       "11457     1\n",
       "11458     2\n",
       "11459     3\n",
       "11460     4\n",
       "11461     5\n",
       "11462     6\n",
       "11463     8\n",
       "11464     9\n",
       "11465    10\n",
       "11466    11\n",
       "11467    13\n",
       "11468    15\n",
       "11469    16\n",
       "11470    17\n",
       "11471    18\n",
       "11472    19\n",
       "11473    20\n",
       "11474     7\n",
       "11475    21\n",
       "11476    22\n",
       "11477    23\n",
       "11478    12\n",
       "11479    24\n",
       "11480    25\n",
       "11481    26\n",
       "11482    27\n",
       "11483    30\n",
       "11484    31\n",
       "11485    33\n",
       "11486    34\n",
       "11487    28\n",
       "11488    35\n",
       "11489    36\n",
       "11490    37\n",
       "11491    32\n",
       "11492    38\n",
       "19191     1\n",
       "Name: GW, dtype: int64"
      ]
     },
     "execution_count": 34,
     "metadata": {},
     "output_type": "execute_result"
    }
   ],
   "source": [
    "df3[df3[\"Name\"] == \"Erling-Haaland\"][\"GW\"]"
   ]
  },
  {
   "cell_type": "code",
   "execution_count": null,
   "id": "243573d3-43e4-41f0-9161-a8afbc6639f7",
   "metadata": {},
   "outputs": [],
   "source": []
  },
  {
   "cell_type": "code",
   "execution_count": null,
   "id": "63047614-dbe9-4791-addc-037551968ec9",
   "metadata": {},
   "outputs": [],
   "source": []
  },
  {
   "cell_type": "code",
   "execution_count": null,
   "id": "5e1677f7-e56e-4b79-b1b9-8d7e84d0a1da",
   "metadata": {},
   "outputs": [],
   "source": []
  }
 ],
 "metadata": {
  "kernelspec": {
   "display_name": "Python 3 (ipykernel)",
   "language": "python",
   "name": "python3"
  },
  "language_info": {
   "codemirror_mode": {
    "name": "ipython",
    "version": 3
   },
   "file_extension": ".py",
   "mimetype": "text/x-python",
   "name": "python",
   "nbconvert_exporter": "python",
   "pygments_lexer": "ipython3",
   "version": "3.8.0"
  }
 },
 "nbformat": 4,
 "nbformat_minor": 5
}
