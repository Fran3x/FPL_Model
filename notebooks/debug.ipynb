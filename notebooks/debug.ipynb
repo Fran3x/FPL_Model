{
 "cells": [
  {
   "cell_type": "code",
   "execution_count": 1,
   "id": "55ed8570-4e8b-4ec9-9058-1ef260909fd2",
   "metadata": {},
   "outputs": [],
   "source": [
    "import os\n",
    "os.chdir(\"D:\\PulpitE\\FPL_ML\")"
   ]
  },
  {
   "cell_type": "code",
   "execution_count": 2,
   "id": "7c54b255-0ae1-4127-9971-dede89f8bfd6",
   "metadata": {},
   "outputs": [],
   "source": [
    "import matplotlib.pyplot as plt\n",
    "import pandas as pd\n",
    "import numpy as np\n",
    "from vaastav.understat import *\n",
    "from vaastav.getters import *\n",
    "from config import *"
   ]
  },
  {
   "cell_type": "code",
   "execution_count": 3,
   "id": "44dce048-617b-445a-b6c0-722b8be91fde",
   "metadata": {},
   "outputs": [],
   "source": [
    "fixtures = get_fixtures_data()"
   ]
  },
  {
   "cell_type": "code",
   "execution_count": 4,
   "id": "0e12e48e-e64b-4a72-a578-2befd51400f6",
   "metadata": {},
   "outputs": [],
   "source": [
    "df_fixtures = pd.DataFrame(fixtures).dropna()"
   ]
  },
  {
   "cell_type": "code",
   "execution_count": 5,
   "id": "2c27e3fa-fd73-4943-9da0-d16feaf4614e",
   "metadata": {},
   "outputs": [],
   "source": [
    "def team_id_to_name(current_teams, team_id):\n",
    "    return current_teams[team_id - 1]"
   ]
  },
  {
   "cell_type": "code",
   "execution_count": 6,
   "id": "036ee0bb-d55a-407b-a39a-dfc095173f80",
   "metadata": {},
   "outputs": [],
   "source": [
    "df_fixtures[\"Squad H\"] = df_fixtures[\"team_h\"].apply(lambda x: team_id_to_name(current_teams, x))\n",
    "df_fixtures[\"Squad A\"] = df_fixtures[\"team_a\"].apply(lambda x: team_id_to_name(current_teams, x))\n",
    "df_fixtures[\"date\"] = df_fixtures[\"kickoff_time\"].str[:10]"
   ]
  },
  {
   "cell_type": "code",
   "execution_count": 7,
   "id": "47943627-1ba6-454c-b491-a250422aa83c",
   "metadata": {},
   "outputs": [],
   "source": [
    "# df_fixtures"
   ]
  },
  {
   "cell_type": "code",
   "execution_count": 8,
   "id": "9037c6e5-9afc-46d5-b28c-0f3709b15ebe",
   "metadata": {},
   "outputs": [],
   "source": [
    "epl_data = get_epl_data()\n",
    "epl_data = epl_data[0]"
   ]
  },
  {
   "cell_type": "code",
   "execution_count": 9,
   "id": "0ea7068e-498d-44d9-8203-71d040561d51",
   "metadata": {},
   "outputs": [],
   "source": [
    "df = pd.DataFrame(columns=[\"Team\", \"xG\", \"xGA\", \"Date\"])\n",
    "\n",
    "for k in epl_data.keys():\n",
    "    title = epl_data[k]['title']\n",
    "    for h in epl_data[k]['history']:\n",
    "        xG = h[\"xG\"]\n",
    "        xGA = h[\"xGA\"]\n",
    "        date = h[\"date\"][:10]\n",
    "        \n",
    "        new_row = {\n",
    "                    \"Team\": title,\n",
    "                    \"xG\": xG,\n",
    "                    \"xGA\": xGA,\n",
    "                    \"Date\": date\n",
    "                  }\n",
    "        df = df.append(new_row, ignore_index=True)"
   ]
  },
  {
   "cell_type": "code",
   "execution_count": 44,
   "id": "3f1f07d6-7bf6-437f-8c84-b4fe6ecb23c1",
   "metadata": {},
   "outputs": [],
   "source": [
    "def assign_opponent(x):\n",
    "    r1 = df_fixtures[ (df_fixtures[\"date\"] == x[\"Date\"]) & (df_fixtures[\"Squad H\"] == x[\"Team\"]) ]\n",
    "    r2 = df_fixtures[ (df_fixtures[\"date\"] == x[\"Date\"]) & (df_fixtures[\"Squad A\"] == x[\"Team\"]) ]\n",
    "    if r1.size > 0:\n",
    "        return r1[\"Squad A\"].item()\n",
    "    if r2.size > 0:\n",
    "        return r2[\"Squad H\"].item()\n",
    "    return None"
   ]
  },
  {
   "cell_type": "code",
   "execution_count": 36,
   "id": "a99707f5-6726-4cf8-ab0b-031a59cb6bbd",
   "metadata": {},
   "outputs": [],
   "source": [
    "# df_fixtures"
   ]
  },
  {
   "cell_type": "code",
   "execution_count": 37,
   "id": "24419c15-7600-4998-89c9-5edf36f27626",
   "metadata": {},
   "outputs": [
    {
     "data": {
      "text/plain": [
       "8    Newcastle Utd\n",
       "Name: Squad H, dtype: object"
      ]
     },
     "execution_count": 37,
     "metadata": {},
     "output_type": "execute_result"
    }
   ],
   "source": [
    "x = df.iloc[0]\n",
    "df_fixtures[ (df_fixtures[\"date\"] == x[\"Date\"]) & (df_fixtures[\"Squad A\"] == x[\"Team\"]) ][\"Squad H\"]"
   ]
  },
  {
   "cell_type": "code",
   "execution_count": 38,
   "id": "7445f0d1-9bb6-4296-9468-89ecc3a92ecd",
   "metadata": {},
   "outputs": [
    {
     "data": {
      "text/plain": [
       "Team        Aston Villa\n",
       "xG                1.486\n",
       "xGA             4.32208\n",
       "Date         2023-08-12\n",
       "Opponent            NaN\n",
       "Name: 0, dtype: object"
      ]
     },
     "execution_count": 38,
     "metadata": {},
     "output_type": "execute_result"
    }
   ],
   "source": [
    "x"
   ]
  },
  {
   "cell_type": "code",
   "execution_count": 43,
   "id": "02d1d601-1d3d-4130-9b7c-f620b36d6886",
   "metadata": {},
   "outputs": [
    {
     "name": "stdout",
     "output_type": "stream",
     "text": [
      "      code  event  finished  finished_provisional  id          kickoff_time  \\\n",
      "8  2367543    1.0      True                  True   6  2023-08-12T16:30:00Z   \n",
      "\n",
      "   minutes  provisional_start_time started  team_a  team_a_score  team_h  \\\n",
      "8       90                   False    True       2           1.0      15   \n",
      "\n",
      "   team_h_score                                              stats  \\\n",
      "8           5.0  [{'identifier': 'goals_scored', 'a': [{'value'...   \n",
      "\n",
      "   team_h_difficulty  team_a_difficulty  pulse_id        Squad H      Squad A  \\\n",
      "8                  3                  4     93326  Newcastle Utd  Aston Villa   \n",
      "\n",
      "         date  \n",
      "8  2023-08-12  \n",
      "Newcastle Utd\n",
      "      code  event  finished  finished_provisional  id          kickoff_time  \\\n",
      "8  2367543    1.0      True                  True   6  2023-08-12T16:30:00Z   \n",
      "\n",
      "   minutes  provisional_start_time started  team_a  team_a_score  team_h  \\\n",
      "8       90                   False    True       2           1.0      15   \n",
      "\n",
      "   team_h_score                                              stats  \\\n",
      "8           5.0  [{'identifier': 'goals_scored', 'a': [{'value'...   \n",
      "\n",
      "   team_h_difficulty  team_a_difficulty  pulse_id        Squad H      Squad A  \\\n",
      "8                  3                  4     93326  Newcastle Utd  Aston Villa   \n",
      "\n",
      "         date  \n",
      "8  2023-08-12  \n",
      "Everton\n",
      "Fulham\n",
      "       code  event  finished  finished_provisional  id          kickoff_time  \\\n",
      "18  2367548    2.0      True                  True  11  2023-08-20T13:00:00Z   \n",
      "\n",
      "    minutes  provisional_start_time started  team_a  team_a_score  team_h  \\\n",
      "18       90                   False    True       9           0.0       2   \n",
      "\n",
      "    team_h_score                                              stats  \\\n",
      "18           4.0  [{'identifier': 'goals_scored', 'a': [], 'h': ...   \n",
      "\n",
      "    team_h_difficulty  team_a_difficulty  pulse_id      Squad H  Squad A  \\\n",
      "18                  2                  3     93331  Aston Villa  Everton   \n",
      "\n",
      "          date  \n",
      "18  2023-08-20  \n",
      "Aston Villa\n",
      "       code  event  finished  finished_provisional  id          kickoff_time  \\\n",
      "18  2367548    2.0      True                  True  11  2023-08-20T13:00:00Z   \n",
      "\n",
      "    minutes  provisional_start_time started  team_a  team_a_score  team_h  \\\n",
      "18       90                   False    True       9           0.0       2   \n",
      "\n",
      "    team_h_score                                              stats  \\\n",
      "18           4.0  [{'identifier': 'goals_scored', 'a': [], 'h': ...   \n",
      "\n",
      "    team_h_difficulty  team_a_difficulty  pulse_id      Squad H  Squad A  \\\n",
      "18                  2                  3     93331  Aston Villa  Everton   \n",
      "\n",
      "          date  \n",
      "18  2023-08-20  \n",
      "Wolves\n",
      "West Ham\n",
      "       code  event  finished  finished_provisional  id          kickoff_time  \\\n",
      "14  2367551    2.0      True                  True  14  2023-08-19T14:00:00Z   \n",
      "\n",
      "    minutes  provisional_start_time started  team_a  team_a_score  team_h  \\\n",
      "14       90                   False    True       3           1.0      11   \n",
      "\n",
      "    team_h_score                                              stats  \\\n",
      "14           3.0  [{'identifier': 'goals_scored', 'a': [{'value'...   \n",
      "\n",
      "    team_h_difficulty  team_a_difficulty  pulse_id    Squad H      Squad A  \\\n",
      "14                  2                  4     93334  Liverpool  Bournemouth   \n",
      "\n",
      "          date  \n",
      "14  2023-08-19  \n",
      "Liverpool\n",
      "       code  event  finished  finished_provisional  id          kickoff_time  \\\n",
      "14  2367551    2.0      True                  True  14  2023-08-19T14:00:00Z   \n",
      "\n",
      "    minutes  provisional_start_time started  team_a  team_a_score  team_h  \\\n",
      "14       90                   False    True       3           1.0      11   \n",
      "\n",
      "    team_h_score                                              stats  \\\n",
      "14           3.0  [{'identifier': 'goals_scored', 'a': [{'value'...   \n",
      "\n",
      "    team_h_difficulty  team_a_difficulty  pulse_id    Squad H      Squad A  \\\n",
      "14                  2                  4     93334  Liverpool  Bournemouth   \n",
      "\n",
      "          date  \n",
      "14  2023-08-19  \n",
      "Tottenham\n",
      "      code  event  finished  finished_provisional  id          kickoff_time  \\\n",
      "7  2367544    1.0      True                  True   7  2023-08-12T14:00:00Z   \n",
      "\n",
      "   minutes  provisional_start_time started  team_a  team_a_score  team_h  \\\n",
      "7       90                   False    True       8           1.0      17   \n",
      "\n",
      "   team_h_score                                              stats  \\\n",
      "7           0.0  [{'identifier': 'goals_scored', 'a': [{'value'...   \n",
      "\n",
      "   team_h_difficulty  team_a_difficulty  pulse_id           Squad H  \\\n",
      "7                  2                  2     93327  Sheffield United   \n",
      "\n",
      "          Squad A        date  \n",
      "7  Crystal Palace  2023-08-12  \n",
      "Sheffield United\n",
      "      code  event  finished  finished_provisional  id          kickoff_time  \\\n",
      "7  2367544    1.0      True                  True   7  2023-08-12T14:00:00Z   \n",
      "\n",
      "   minutes  provisional_start_time started  team_a  team_a_score  team_h  \\\n",
      "7       90                   False    True       8           1.0      17   \n",
      "\n",
      "   team_h_score                                              stats  \\\n",
      "7           0.0  [{'identifier': 'goals_scored', 'a': [{'value'...   \n",
      "\n",
      "   team_h_difficulty  team_a_difficulty  pulse_id           Squad H  \\\n",
      "7                  2                  2     93327  Sheffield United   \n",
      "\n",
      "          Squad A        date  \n",
      "7  Crystal Palace  2023-08-12  \n",
      "Arsenal\n",
      "       code  event  finished  finished_provisional  id          kickoff_time  \\\n",
      "24  2367560    3.0      True                  True  23  2023-08-26T14:00:00Z   \n",
      "\n",
      "    minutes  provisional_start_time started  team_a  team_a_score  team_h  \\\n",
      "24       90                   False    True       8           1.0       4   \n",
      "\n",
      "    team_h_score                                              stats  \\\n",
      "24           1.0  [{'identifier': 'goals_scored', 'a': [{'value'...   \n",
      "\n",
      "    team_h_difficulty  team_a_difficulty  pulse_id    Squad H         Squad A  \\\n",
      "24                  2                  3     93343  Brentford  Crystal Palace   \n",
      "\n",
      "          date  \n",
      "24  2023-08-26  \n",
      "Brentford\n",
      "       code  event  finished  finished_provisional  id          kickoff_time  \\\n",
      "24  2367560    3.0      True                  True  23  2023-08-26T14:00:00Z   \n",
      "\n",
      "    minutes  provisional_start_time started  team_a  team_a_score  team_h  \\\n",
      "24       90                   False    True       8           1.0       4   \n",
      "\n",
      "    team_h_score                                              stats  \\\n",
      "24           1.0  [{'identifier': 'goals_scored', 'a': [{'value'...   \n",
      "\n",
      "    team_h_difficulty  team_a_difficulty  pulse_id    Squad H         Squad A  \\\n",
      "24                  2                  3     93343  Brentford  Crystal Palace   \n",
      "\n",
      "          date  \n",
      "24  2023-08-26  \n",
      "Liverpool\n",
      "       code  event  finished  finished_provisional  id          kickoff_time  \\\n",
      "19  2367556    2.0      True                  True  19  2023-08-20T15:30:00Z   \n",
      "\n",
      "    minutes  provisional_start_time started  team_a  team_a_score  team_h  \\\n",
      "19       90                   False    True       7           1.0      19   \n",
      "\n",
      "    team_h_score                                              stats  \\\n",
      "19           3.0  [{'identifier': 'goals_scored', 'a': [{'value'...   \n",
      "\n",
      "    team_h_difficulty  team_a_difficulty  pulse_id   Squad H  Squad A  \\\n",
      "19                  3                  3     93339  West Ham  Chelsea   \n",
      "\n",
      "          date  \n",
      "19  2023-08-20  \n",
      "West Ham\n",
      "       code  event  finished  finished_provisional  id          kickoff_time  \\\n",
      "19  2367556    2.0      True                  True  19  2023-08-20T15:30:00Z   \n",
      "\n",
      "    minutes  provisional_start_time started  team_a  team_a_score  team_h  \\\n",
      "19       90                   False    True       7           1.0      19   \n",
      "\n",
      "    team_h_score                                              stats  \\\n",
      "19           3.0  [{'identifier': 'goals_scored', 'a': [{'value'...   \n",
      "\n",
      "    team_h_difficulty  team_a_difficulty  pulse_id   Squad H  Squad A  \\\n",
      "19                  3                  3     93339  West Ham  Chelsea   \n",
      "\n",
      "          date  \n",
      "19  2023-08-20  \n",
      "Luton\n",
      "      code  event  finished  finished_provisional  id          kickoff_time  \\\n",
      "4  2367539    1.0      True                  True   3  2023-08-12T14:00:00Z   \n",
      "\n",
      "   minutes  provisional_start_time started  team_a  team_a_score  team_h  \\\n",
      "4       90                   False    True      19           1.0       3   \n",
      "\n",
      "   team_h_score                                              stats  \\\n",
      "4           1.0  [{'identifier': 'goals_scored', 'a': [{'value'...   \n",
      "\n",
      "   team_h_difficulty  team_a_difficulty  pulse_id      Squad H   Squad A  \\\n",
      "4                  2                  2     93323  Bournemouth  West Ham   \n",
      "\n",
      "         date  \n",
      "4  2023-08-12  \n",
      "Bournemouth\n",
      "      code  event  finished  finished_provisional  id          kickoff_time  \\\n",
      "4  2367539    1.0      True                  True   3  2023-08-12T14:00:00Z   \n",
      "\n",
      "   minutes  provisional_start_time started  team_a  team_a_score  team_h  \\\n",
      "4       90                   False    True      19           1.0       3   \n",
      "\n",
      "   team_h_score                                              stats  \\\n",
      "4           1.0  [{'identifier': 'goals_scored', 'a': [{'value'...   \n",
      "\n",
      "   team_h_difficulty  team_a_difficulty  pulse_id      Squad H   Squad A  \\\n",
      "4                  2                  2     93323  Bournemouth  West Ham   \n",
      "\n",
      "         date  \n",
      "4  2023-08-12  \n",
      "Chelsea\n",
      "       code  event  finished  finished_provisional  id          kickoff_time  \\\n",
      "27  2367561    3.0      True                  True  24  2023-08-26T16:30:00Z   \n",
      "\n",
      "    minutes  provisional_start_time started  team_a  team_a_score  team_h  \\\n",
      "27       90                   False    True      19           3.0       5   \n",
      "\n",
      "    team_h_score                                              stats  \\\n",
      "27           1.0  [{'identifier': 'goals_scored', 'a': [{'value'...   \n",
      "\n",
      "    team_h_difficulty  team_a_difficulty  pulse_id   Squad H   Squad A  \\\n",
      "27                  2                  3     93344  Brighton  West Ham   \n",
      "\n",
      "          date  \n",
      "27  2023-08-26  \n",
      "Brighton\n",
      "       code  event  finished  finished_provisional  id          kickoff_time  \\\n",
      "27  2367561    3.0      True                  True  24  2023-08-26T16:30:00Z   \n",
      "\n",
      "    minutes  provisional_start_time started  team_a  team_a_score  team_h  \\\n",
      "27       90                   False    True      19           3.0       5   \n",
      "\n",
      "    team_h_score                                              stats  \\\n",
      "27           1.0  [{'identifier': 'goals_scored', 'a': [{'value'...   \n",
      "\n",
      "    team_h_difficulty  team_a_difficulty  pulse_id   Squad H   Squad A  \\\n",
      "27                  2                  3     93344  Brighton  West Ham   \n",
      "\n",
      "          date  \n",
      "27  2023-08-26  \n",
      "      code  event  finished  finished_provisional  id          kickoff_time  \\\n",
      "9  2367545    1.0      True                  True   8  2023-08-13T13:00:00Z   \n",
      "\n",
      "   minutes  provisional_start_time started  team_a  team_a_score  team_h  \\\n",
      "9       90                   False    True      18           2.0       4   \n",
      "\n",
      "   team_h_score                                              stats  \\\n",
      "9           2.0  [{'identifier': 'goals_scored', 'a': [{'value'...   \n",
      "\n",
      "   team_h_difficulty  team_a_difficulty  pulse_id    Squad H    Squad A  \\\n",
      "9                  3                  3     93328  Brentford  Tottenham   \n",
      "\n",
      "         date  \n",
      "9  2023-08-13  \n",
      "Brentford\n",
      "      code  event  finished  finished_provisional  id          kickoff_time  \\\n",
      "9  2367545    1.0      True                  True   8  2023-08-13T13:00:00Z   \n",
      "\n",
      "   minutes  provisional_start_time started  team_a  team_a_score  team_h  \\\n",
      "9       90                   False    True      18           2.0       4   \n",
      "\n",
      "   team_h_score                                              stats  \\\n",
      "9           2.0  [{'identifier': 'goals_scored', 'a': [{'value'...   \n",
      "\n",
      "   team_h_difficulty  team_a_difficulty  pulse_id    Squad H    Squad A  \\\n",
      "9                  3                  3     93328  Brentford  Tottenham   \n",
      "\n",
      "         date  \n",
      "9  2023-08-13  \n",
      "Manchester Utd\n",
      "       code  event  finished  finished_provisional  id          kickoff_time  \\\n",
      "22  2367558    3.0      True                  True  22  2023-08-26T11:30:00Z   \n",
      "\n",
      "    minutes  provisional_start_time started  team_a  team_a_score  team_h  \\\n",
      "22       90                   False    True      18           2.0       3   \n",
      "\n",
      "    team_h_score                                              stats  \\\n",
      "22           0.0  [{'identifier': 'goals_scored', 'a': [{'value'...   \n",
      "\n",
      "    team_h_difficulty  team_a_difficulty  pulse_id      Squad H    Squad A  \\\n",
      "22                  3                  2     93342  Bournemouth  Tottenham   \n",
      "\n",
      "          date  \n",
      "22  2023-08-26  \n",
      "Bournemouth\n",
      "       code  event  finished  finished_provisional  id          kickoff_time  \\\n",
      "22  2367558    3.0      True                  True  22  2023-08-26T11:30:00Z   \n",
      "\n",
      "    minutes  provisional_start_time started  team_a  team_a_score  team_h  \\\n",
      "22       90                   False    True      18           2.0       3   \n",
      "\n",
      "    team_h_score                                              stats  \\\n",
      "22           0.0  [{'identifier': 'goals_scored', 'a': [{'value'...   \n",
      "\n",
      "    team_h_difficulty  team_a_difficulty  pulse_id      Squad H    Squad A  \\\n",
      "22                  3                  2     93342  Bournemouth  Tottenham   \n",
      "\n",
      "          date  \n",
      "22  2023-08-26  \n",
      "Nott'ham Forest\n",
      "       code  event  finished  finished_provisional  id          kickoff_time  \\\n",
      "20  2367549    2.0      True                  True  12  2023-08-21T19:00:00Z   \n",
      "\n",
      "    minutes  provisional_start_time started  team_a  team_a_score  team_h  \\\n",
      "20       90                   False    True       1           1.0       8   \n",
      "\n",
      "    team_h_score                                              stats  \\\n",
      "20           0.0  [{'identifier': 'goals_scored', 'a': [{'value'...   \n",
      "\n",
      "    team_h_difficulty  team_a_difficulty  pulse_id         Squad H  Squad A  \\\n",
      "20                  4                  2     93332  Crystal Palace  Arsenal   \n",
      "\n",
      "          date  \n",
      "20  2023-08-21  \n",
      "Crystal Palace\n",
      "       code  event  finished  finished_provisional  id          kickoff_time  \\\n",
      "20  2367549    2.0      True                  True  12  2023-08-21T19:00:00Z   \n",
      "\n",
      "    minutes  provisional_start_time started  team_a  team_a_score  team_h  \\\n",
      "20       90                   False    True       1           1.0       8   \n",
      "\n",
      "    team_h_score                                              stats  \\\n",
      "20           0.0  [{'identifier': 'goals_scored', 'a': [{'value'...   \n",
      "\n",
      "    team_h_difficulty  team_a_difficulty  pulse_id         Squad H  Squad A  \\\n",
      "20                  4                  2     93332  Crystal Palace  Arsenal   \n",
      "\n",
      "          date  \n",
      "20  2023-08-21  \n",
      "Fulham\n",
      "Empty DataFrame\n",
      "Columns: [code, event, finished, finished_provisional, id, kickoff_time, minutes, provisional_start_time, started, team_a, team_a_score, team_h, team_h_score, stats, team_h_difficulty, team_a_difficulty, pulse_id, Squad H, Squad A, date]\n",
      "Index: []\n"
     ]
    },
    {
     "ename": "ValueError",
     "evalue": "can only convert an array of size 1 to a Python scalar",
     "output_type": "error",
     "traceback": [
      "\u001b[1;31m---------------------------------------------------------------------------\u001b[0m",
      "\u001b[1;31mValueError\u001b[0m                                Traceback (most recent call last)",
      "Input \u001b[1;32mIn [43]\u001b[0m, in \u001b[0;36m<cell line: 1>\u001b[1;34m()\u001b[0m\n\u001b[0;32m      1\u001b[0m \u001b[38;5;28;01mfor\u001b[39;00m i, row \u001b[38;5;129;01min\u001b[39;00m df\u001b[38;5;241m.\u001b[39miterrows():\n\u001b[1;32m----> 2\u001b[0m     \u001b[38;5;28mprint\u001b[39m(\u001b[43massign_opponent\u001b[49m\u001b[43m(\u001b[49m\u001b[43mrow\u001b[49m\u001b[43m)\u001b[49m)\n\u001b[0;32m      3\u001b[0m     df\u001b[38;5;241m.\u001b[39mloc[i, \u001b[38;5;124m\"\u001b[39m\u001b[38;5;124mOpponent\u001b[39m\u001b[38;5;124m\"\u001b[39m] \u001b[38;5;241m=\u001b[39m assign_opponent(row)\n",
      "Input \u001b[1;32mIn [42]\u001b[0m, in \u001b[0;36massign_opponent\u001b[1;34m(x)\u001b[0m\n\u001b[0;32m      5\u001b[0m     \u001b[38;5;28;01mreturn\u001b[39;00m r1[\u001b[38;5;124m\"\u001b[39m\u001b[38;5;124mSquad A\u001b[39m\u001b[38;5;124m\"\u001b[39m]\u001b[38;5;241m.\u001b[39mitem()\n\u001b[0;32m      6\u001b[0m \u001b[38;5;28mprint\u001b[39m(r2)\n\u001b[1;32m----> 7\u001b[0m \u001b[38;5;28;01mreturn\u001b[39;00m \u001b[43mr2\u001b[49m\u001b[43m[\u001b[49m\u001b[38;5;124;43m\"\u001b[39;49m\u001b[38;5;124;43mSquad H\u001b[39;49m\u001b[38;5;124;43m\"\u001b[39;49m\u001b[43m]\u001b[49m\u001b[38;5;241;43m.\u001b[39;49m\u001b[43mitem\u001b[49m\u001b[43m(\u001b[49m\u001b[43m)\u001b[49m\n",
      "File \u001b[1;32mC:\\users\\user\\appdata\\local\\programs\\python\\python38\\lib\\site-packages\\pandas\\core\\base.py:331\u001b[0m, in \u001b[0;36mIndexOpsMixin.item\u001b[1;34m(self)\u001b[0m\n\u001b[0;32m    329\u001b[0m \u001b[38;5;28;01mif\u001b[39;00m \u001b[38;5;28mlen\u001b[39m(\u001b[38;5;28mself\u001b[39m) \u001b[38;5;241m==\u001b[39m \u001b[38;5;241m1\u001b[39m:\n\u001b[0;32m    330\u001b[0m     \u001b[38;5;28;01mreturn\u001b[39;00m \u001b[38;5;28mnext\u001b[39m(\u001b[38;5;28miter\u001b[39m(\u001b[38;5;28mself\u001b[39m))\n\u001b[1;32m--> 331\u001b[0m \u001b[38;5;28;01mraise\u001b[39;00m \u001b[38;5;167;01mValueError\u001b[39;00m(\u001b[38;5;124m\"\u001b[39m\u001b[38;5;124mcan only convert an array of size 1 to a Python scalar\u001b[39m\u001b[38;5;124m\"\u001b[39m)\n",
      "\u001b[1;31mValueError\u001b[0m: can only convert an array of size 1 to a Python scalar"
     ]
    }
   ],
   "source": [
    "for i, row in df.iterrows():\n",
    "    print(assign_opponent(row))\n",
    "    df.loc[i, \"Opponent\"] = assign_opponent(row)"
   ]
  },
  {
   "cell_type": "code",
   "execution_count": null,
   "id": "277b32ae-032f-40c0-8bda-f616c8a3e0d9",
   "metadata": {},
   "outputs": [],
   "source": [
    "df"
   ]
  },
  {
   "cell_type": "code",
   "execution_count": null,
   "id": "9a781771-05e4-4a86-ae27-2edefa00a8b1",
   "metadata": {},
   "outputs": [],
   "source": [
    "# epl_data"
   ]
  },
  {
   "cell_type": "code",
   "execution_count": null,
   "id": "ee7121ea-d978-4c2e-a869-b20ca47de4b7",
   "metadata": {},
   "outputs": [],
   "source": []
  },
  {
   "cell_type": "code",
   "execution_count": null,
   "id": "c0e3db04-b454-43eb-ba54-0f6ef85fe96a",
   "metadata": {},
   "outputs": [],
   "source": [
    "info = [\"Name_original\", \"GW\", \"Season\", \"Team\", \"Opponent\", \"Was_home\", \"Team_rating\", \"Opp_rating\"]"
   ]
  },
  {
   "cell_type": "code",
   "execution_count": null,
   "id": "716662dd-69cb-4cd3-9858-6179a58f8919",
   "metadata": {},
   "outputs": [],
   "source": [
    "df1 = pd.read_csv('data/previous/FPL_logs.csv')"
   ]
  },
  {
   "cell_type": "code",
   "execution_count": null,
   "id": "c29f1d3a-12ac-42fc-ab7f-26ae0e12f6aa",
   "metadata": {},
   "outputs": [],
   "source": [
    "df2 = pd.read_csv('data/previous/fpl_fbref_players.csv')"
   ]
  },
  {
   "cell_type": "code",
   "execution_count": null,
   "id": "e1554909-bba3-4f5b-9520-2c2915215e76",
   "metadata": {},
   "outputs": [],
   "source": [
    "df3 = pd.read_csv('data/misc/df_features.csv')"
   ]
  },
  {
   "cell_type": "code",
   "execution_count": null,
   "id": "5e1677f7-e56e-4b79-b1b9-8d7e84d0a1da",
   "metadata": {},
   "outputs": [],
   "source": [
    "df4 = pd.read_csv('data/previous/FPL_players.csv')"
   ]
  },
  {
   "cell_type": "code",
   "execution_count": null,
   "id": "4ffca433-f5da-4696-adb0-d260d3c80a40",
   "metadata": {},
   "outputs": [],
   "source": [
    "df5 = pd.read_csv('data/logs/logs_all.csv')"
   ]
  },
  {
   "cell_type": "code",
   "execution_count": null,
   "id": "de3b09ce-6960-4555-87fd-71af8501ace7",
   "metadata": {},
   "outputs": [],
   "source": [
    "df4.columns"
   ]
  },
  {
   "cell_type": "code",
   "execution_count": null,
   "id": "fa02fdc7-341d-4177-b6ab-5dc4f94207c9",
   "metadata": {},
   "outputs": [],
   "source": [
    "df4.shape, df2.shape, df5.shape"
   ]
  },
  {
   "cell_type": "code",
   "execution_count": null,
   "id": "03db96fe-9e4f-4d7b-a434-ca42e5ab8ab1",
   "metadata": {},
   "outputs": [],
   "source": [
    "df4.iloc[1]"
   ]
  },
  {
   "cell_type": "code",
   "execution_count": null,
   "id": "0dc5bf4b-d32b-45b7-94de-a7f837fd5bb3",
   "metadata": {},
   "outputs": [],
   "source": [
    "df4[df4[\"total_points\"].isna() ]"
   ]
  },
  {
   "cell_type": "code",
   "execution_count": null,
   "id": "5dcb903e-d16a-4c63-89b9-4e9e8a9771b5",
   "metadata": {},
   "outputs": [],
   "source": []
  }
 ],
 "metadata": {
  "kernelspec": {
   "display_name": "Python 3 (ipykernel)",
   "language": "python",
   "name": "python3"
  },
  "language_info": {
   "codemirror_mode": {
    "name": "ipython",
    "version": 3
   },
   "file_extension": ".py",
   "mimetype": "text/x-python",
   "name": "python",
   "nbconvert_exporter": "python",
   "pygments_lexer": "ipython3",
   "version": "3.8.0"
  }
 },
 "nbformat": 4,
 "nbformat_minor": 5
}
