{
 "cells": [
  {
   "cell_type": "code",
   "execution_count": 1,
   "id": "6591adcf-1ffd-4724-a605-6a7050b71579",
   "metadata": {},
   "outputs": [],
   "source": [
    "import sys\n",
    "import pprint\n",
    "import pandas as pd\n",
    "\n",
    "from getters import *\n",
    "from understat import *\n",
    "from mergers import *\n",
    "from cleaners import *\n",
    "\n",
    "from sklearn.ensemble import RandomForestRegressor\n",
    "from sklearn.model_selection import train_test_split\n",
    "from sklearn.metrics import mean_squared_error\n",
    "\n",
    "import matplotlib.pyplot as plt"
   ]
  },
  {
   "cell_type": "code",
   "execution_count": 4,
   "id": "662818d2-d41e-4a2c-9bb7-d44387cec054",
   "metadata": {},
   "outputs": [
    {
     "data": {
      "text/plain": [
       "'D:\\\\PulpitE\\\\FPL_ML\\\\data\\\\2022-23\\\\gws\\\\merged_gw.csv'"
      ]
     },
     "execution_count": 4,
     "metadata": {},
     "output_type": "execute_result"
    }
   ],
   "source": [
    "data = import_merged_gw('2022-23')\n",
    "data"
   ]
  },
  {
   "cell_type": "code",
   "execution_count": 3,
   "id": "70771b81-1e3d-4674-81bd-2792ef4c4f24",
   "metadata": {},
   "outputs": [
    {
     "name": "stdout",
     "output_type": "stream",
     "text": [
      "LENGTH: 189\n"
     ]
    },
    {
     "name": "stderr",
     "output_type": "stream",
     "text": [
      "C:\\Users\\user\\AppData\\Local\\Temp\\ipykernel_20796\\3391086640.py:1: DtypeWarning: Columns (4) have mixed types. Specify dtype option on import or set low_memory=False.\n",
      "  data = pd.read_csv('data\\cleaned_merged_seasons.csv')\n"
     ]
    }
   ],
   "source": [
    "data = pd.read_csv('data\\cleaned_merged_seasons.csv')\n",
    "salah = data[data['name'] == \"Mohamed Salah\"]\n",
    "print('LENGTH:', len(salah))\n",
    "#salah = salah.dropna(subset=['goals_scored', 'total_points'])\n",
    "#print(len(salah))"
   ]
  },
  {
   "cell_type": "code",
   "execution_count": null,
   "id": "1186357f-9463-4e19-a7c8-d2c01a5b7f1c",
   "metadata": {},
   "outputs": [],
   "source": []
  },
  {
   "cell_type": "code",
   "execution_count": null,
   "id": "a8c3498e-40e1-4f00-8dca-502f9727ab55",
   "metadata": {},
   "outputs": [],
   "source": []
  },
  {
   "cell_type": "code",
   "execution_count": null,
   "id": "e3f90ad6-1270-4505-8796-d41e2ffcbf77",
   "metadata": {},
   "outputs": [],
   "source": []
  },
  {
   "cell_type": "code",
   "execution_count": null,
   "id": "9fb73fa0-5c38-47f0-92c1-6766f617d352",
   "metadata": {},
   "outputs": [],
   "source": []
  }
 ],
 "metadata": {
  "kernelspec": {
   "display_name": "Python 3 (ipykernel)",
   "language": "python",
   "name": "python3"
  },
  "language_info": {
   "codemirror_mode": {
    "name": "ipython",
    "version": 3
   },
   "file_extension": ".py",
   "mimetype": "text/x-python",
   "name": "python",
   "nbconvert_exporter": "python",
   "pygments_lexer": "ipython3",
   "version": "3.8.0"
  }
 },
 "nbformat": 4,
 "nbformat_minor": 5
}
