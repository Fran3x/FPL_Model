{
 "cells": [
  {
   "cell_type": "markdown",
   "id": "1d51c0af-f732-4281-8fd5-4d3de18a43ca",
   "metadata": {
    "tags": []
   },
   "source": [
    "# Imports"
   ]
  },
  {
   "cell_type": "code",
   "execution_count": 1,
   "id": "cefb1772-64b0-4e37-aa88-06a9146b47e0",
   "metadata": {},
   "outputs": [],
   "source": [
    "import os\n",
    "os.chdir(\"D:\\PulpitE\\FPL_ML\")"
   ]
  },
  {
   "cell_type": "code",
   "execution_count": 2,
   "id": "d4fb6f09-28fe-45cd-a802-eb148f457338",
   "metadata": {},
   "outputs": [],
   "source": [
    "import pandas as pd\n",
    "import numpy as np\n",
    "from vaastav.getters import *\n",
    "from datetime import datetime"
   ]
  },
  {
   "cell_type": "markdown",
   "id": "f677c5f3-3c37-4e65-b3a0-f4c462be7c2b",
   "metadata": {},
   "source": [
    "# Constants"
   ]
  },
  {
   "cell_type": "code",
   "execution_count": 3,
   "id": "0c376926-f1ee-4791-8f31-79cf398c15cd",
   "metadata": {},
   "outputs": [],
   "source": [
    "NEXT_GW = 25\n",
    "\n",
    "# fixtures in sample\n",
    "FIS = 8\n",
    "\n",
    "# prediction range\n",
    "FROM_GW = 25\n",
    "TO_GW = 25"
   ]
  },
  {
   "cell_type": "markdown",
   "id": "20237756-edf1-4cf9-83b6-e949d09a201c",
   "metadata": {},
   "source": [
    "# Reading data"
   ]
  },
  {
   "cell_type": "code",
   "execution_count": 4,
   "id": "6150fb4a-98ea-4c07-8fdc-15023bb01370",
   "metadata": {},
   "outputs": [
    {
     "name": "stderr",
     "output_type": "stream",
     "text": [
      "C:\\users\\user\\appdata\\local\\programs\\python\\python38\\lib\\site-packages\\IPython\\core\\interactiveshell.py:3369: DtypeWarning: Columns (3,4,5,6,9,10,37,40,41,45,48,50) have mixed types.Specify dtype option on import or set low_memory=False.\n",
      "  exec(code_obj, self.user_global_ns, self.user_ns)\n"
     ]
    }
   ],
   "source": [
    "upcoming_fixtures = pd.read_csv(\"data/upcoming_fixtures.csv\")"
   ]
  },
  {
   "cell_type": "code",
   "execution_count": 5,
   "id": "5be81815-7984-46fe-a6a2-2ec1ef527d19",
   "metadata": {},
   "outputs": [],
   "source": [
    "# selecting needed rows\n",
    "upcoming_fixtures = upcoming_fixtures[(upcoming_fixtures[\"Finished\"] == True) | ((upcoming_fixtures[\"Finished\"] == False) & (upcoming_fixtures[\"GW\"].between(FROM_GW, TO_GW)))]"
   ]
  },
  {
   "cell_type": "code",
   "execution_count": 6,
   "id": "04c6ad77-a496-4c82-a543-b172d783b96d",
   "metadata": {},
   "outputs": [
    {
     "data": {
      "text/plain": [
       "2886     1.0\n",
       "2887     2.0\n",
       "2888     3.0\n",
       "2889     4.0\n",
       "2890     5.0\n",
       "2891     6.0\n",
       "2892     8.0\n",
       "2893     9.0\n",
       "2894    10.0\n",
       "2895    11.0\n",
       "2896    13.0\n",
       "2897    15.0\n",
       "2898    16.0\n",
       "2899    17.0\n",
       "2900    18.0\n",
       "2901    19.0\n",
       "2902    20.0\n",
       "2903     7.0\n",
       "2904    21.0\n",
       "9315    25.0\n",
       "Name: GW, dtype: float64"
      ]
     },
     "execution_count": 6,
     "metadata": {},
     "output_type": "execute_result"
    }
   ],
   "source": [
    "upcoming_fixtures[upcoming_fixtures[\"Name\"] == \"Erling-Haaland\"][\"GW\"]"
   ]
  },
  {
   "cell_type": "code",
   "execution_count": null,
   "id": "6f69911c-7873-4569-995f-403e5cf67c63",
   "metadata": {},
   "outputs": [],
   "source": []
  },
  {
   "cell_type": "code",
   "execution_count": null,
   "id": "605a9f85-640b-4561-95cb-62b72e7e3727",
   "metadata": {},
   "outputs": [],
   "source": []
  },
  {
   "cell_type": "code",
   "execution_count": null,
   "id": "d11ef81f-c146-4fb3-a7d6-98806cd8d5a4",
   "metadata": {},
   "outputs": [],
   "source": []
  }
 ],
 "metadata": {
  "kernelspec": {
   "display_name": "Python 3 (ipykernel)",
   "language": "python",
   "name": "python3"
  },
  "language_info": {
   "codemirror_mode": {
    "name": "ipython",
    "version": 3
   },
   "file_extension": ".py",
   "mimetype": "text/x-python",
   "name": "python",
   "nbconvert_exporter": "python",
   "pygments_lexer": "ipython3",
   "version": "3.8.0"
  }
 },
 "nbformat": 4,
 "nbformat_minor": 5
}
