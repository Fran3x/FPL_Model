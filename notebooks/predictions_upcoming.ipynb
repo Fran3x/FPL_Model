{
 "cells": [
  {
   "cell_type": "markdown",
   "id": "1d51c0af-f732-4281-8fd5-4d3de18a43ca",
   "metadata": {
    "tags": []
   },
   "source": [
    "# Imports"
   ]
  },
  {
   "cell_type": "code",
   "execution_count": 1,
   "id": "cefb1772-64b0-4e37-aa88-06a9146b47e0",
   "metadata": {},
   "outputs": [],
   "source": [
    "import os\n",
    "os.chdir(\"D:\\PulpitE\\FPL_ML\")"
   ]
  },
  {
   "cell_type": "code",
   "execution_count": 2,
   "id": "d4fb6f09-28fe-45cd-a802-eb148f457338",
   "metadata": {},
   "outputs": [],
   "source": [
    "import pandas as pd\n",
    "import numpy as np\n",
    "from vaastav.getters import *\n",
    "from datetime import datetime\n",
    "\n",
    "from torch.utils.data import Dataset, DataLoader\n",
    "from torchvision.transforms import ToTensor\n",
    "import torchvision\n",
    "\n",
    "import torch\n",
    "import torch.nn as nn"
   ]
  },
  {
   "cell_type": "markdown",
   "id": "f677c5f3-3c37-4e65-b3a0-f4c462be7c2b",
   "metadata": {},
   "source": [
    "# Constants"
   ]
  },
  {
   "cell_type": "code",
   "execution_count": 3,
   "id": "0c376926-f1ee-4791-8f31-79cf398c15cd",
   "metadata": {},
   "outputs": [],
   "source": [
    "NEXT_GW = 25\n",
    "\n",
    "# fixtures in sample\n",
    "FIS = 8\n",
    "\n",
    "# prediction range\n",
    "FROM_GW = 25\n",
    "TO_GW = 25\n",
    "\n",
    "batch_size = 16"
   ]
  },
  {
   "cell_type": "markdown",
   "id": "35fdf367-cf12-46f8-b965-e5d7f67e4fa2",
   "metadata": {},
   "source": [
    "# Device"
   ]
  },
  {
   "cell_type": "code",
   "execution_count": 4,
   "id": "56a90b11-7060-46b6-8fcf-b2687fba5c50",
   "metadata": {},
   "outputs": [],
   "source": [
    "# device = torch.device(\"cuda\")\n",
    "# device = torch.device('mps')\n",
    "device = torch.device('cpu')"
   ]
  },
  {
   "cell_type": "markdown",
   "id": "20237756-edf1-4cf9-83b6-e949d09a201c",
   "metadata": {},
   "source": [
    "# Reading data"
   ]
  },
  {
   "cell_type": "code",
   "execution_count": 5,
   "id": "6150fb4a-98ea-4c07-8fdc-15023bb01370",
   "metadata": {},
   "outputs": [
    {
     "name": "stderr",
     "output_type": "stream",
     "text": [
      "C:\\users\\user\\appdata\\local\\programs\\python\\python38\\lib\\site-packages\\IPython\\core\\interactiveshell.py:3369: DtypeWarning: Columns (3,4,5,6,9,10,37,40,41,45,48,50) have mixed types.Specify dtype option on import or set low_memory=False.\n",
      "  exec(code_obj, self.user_global_ns, self.user_ns)\n"
     ]
    }
   ],
   "source": [
    "upcoming_fixtures = pd.read_csv(\"data/upcoming_fixtures.csv\")"
   ]
  },
  {
   "cell_type": "code",
   "execution_count": 6,
   "id": "5be81815-7984-46fe-a6a2-2ec1ef527d19",
   "metadata": {},
   "outputs": [],
   "source": [
    "# selecting needed rows\n",
    "upcoming_fixtures = upcoming_fixtures[(upcoming_fixtures[\"Finished\"] == True) | ((upcoming_fixtures[\"Finished\"] == False) & (upcoming_fixtures[\"GW\"].between(FROM_GW, TO_GW)))]"
   ]
  },
  {
   "cell_type": "code",
   "execution_count": 7,
   "id": "04c6ad77-a496-4c82-a543-b172d783b96d",
   "metadata": {},
   "outputs": [],
   "source": [
    "# upcoming_fixtures[upcoming_fixtures[\"Name\"] == \"Erling-Haaland\"]"
   ]
  },
  {
   "cell_type": "code",
   "execution_count": 8,
   "id": "6f69911c-7873-4569-995f-403e5cf67c63",
   "metadata": {},
   "outputs": [],
   "source": [
    "# upcoming_fixtures.loc[9315]"
   ]
  },
  {
   "cell_type": "markdown",
   "id": "9807bfa7-b6a8-4941-8a94-a5c99148bce2",
   "metadata": {},
   "source": [
    "# Dataset"
   ]
  },
  {
   "cell_type": "code",
   "execution_count": 9,
   "id": "325eb91f-df14-4d9e-8457-b47301b8c4d9",
   "metadata": {},
   "outputs": [],
   "source": [
    "features = [\"Min\", \"Gls\", \"Ast\", \"Sh\", \"SoT\", \"xG\", \"npxG\", \"xAG\", \"SCA\", \"GCA\", \"CS\", \"CrdY\", \"CrdR\", \"Opp rating\", \"Team Score\", \"Opp Score\", \"Was Home\"]"
   ]
  },
  {
   "cell_type": "code",
   "execution_count": 10,
   "id": "9b578604-ab11-488f-854f-7017f0573211",
   "metadata": {},
   "outputs": [],
   "source": [
    "def init_index_table(df):\n",
    "    names = df[\"Name\"].unique()\n",
    "    result_dict = {}\n",
    "    \n",
    "    current_index = 0\n",
    "    player_index = 0\n",
    "    \n",
    "    for name in names:\n",
    "        sample_index = 0\n",
    "        samples_for_name = df[(df[\"Name\"] == name) & (df[\"Finished\"] == False)].shape[0]\n",
    "        for i in range(samples_for_name):\n",
    "            result_dict[current_index] = [player_index, sample_index]\n",
    "            current_index += 1\n",
    "            sample_index += 1\n",
    "        player_index += 1\n",
    "    \n",
    "    return result_dict"
   ]
  },
  {
   "cell_type": "code",
   "execution_count": 11,
   "id": "d11ef81f-c146-4fb3-a7d6-98806cd8d5a4",
   "metadata": {},
   "outputs": [],
   "source": [
    "class PandasDataset(Dataset):\n",
    "    def __init__(self, dataframe, starting_gw, ending_gw):\n",
    "        self.dataframe = dataframe\n",
    "        \n",
    "        self.starting_gw = starting_gw\n",
    "        self.ending_gw = ending_gw\n",
    "        self.names = self.dataframe[\"Name\"].unique()\n",
    "        self.length = self.calculate_length()\n",
    "\n",
    "        self.index_table = init_index_table(self.dataframe)\n",
    "        self.transform = torchvision.transforms.Compose([torchvision.transforms.ToTensor()])\n",
    "\n",
    "    def calculate_length(self):\n",
    "        length = 0\n",
    "        for name in self.names:\n",
    "            # print(name, (self.dataframe[self.dataframe[\"Name\"] == name].shape[0] - FIS))\n",
    "            length += self.dataframe[(self.dataframe[\"Name\"] == name) & self.dataframe[\"GW\"].between(FROM_GW, TO_GW)].shape[0]\n",
    "        return length\n",
    "    \n",
    "    def __len__(self):\n",
    "        return self.length\n",
    "\n",
    "    def __getitem__(self, idx):\n",
    "        # print(idx)\n",
    "        player_id, sample_id = self.index_table[idx]\n",
    "        name = self.names[player_id]\n",
    "        # print(name)\n",
    "        # print(\"GETITEM DF\", name, player_id, sample_id)\n",
    "\n",
    "        rows_features = self.dataframe[(self.dataframe[\"Name\"] == name) & (self.dataframe[\"Finished\"] == True)]\n",
    "        # print(self.dataframe[self.dataframe[\"Name\"] == name])\n",
    "        # print(features[sample_id: (sample_id + 4)])\n",
    "        features = rows_features.tail(FIS)[features + to_predict].values[:, :-1]\n",
    "        # print(features)\n",
    "        # print(features)\n",
    "        # print(type(features))\n",
    "        # print(self.dataframe[self.dataframe[\"Name\"] == name].values[:, -1])\n",
    "        # print(type(self.dataframe[self.dataframe[\"Name\"] == name].values[:, -1]))\n",
    "        # target = self.dataframe[self.dataframe[\"Name\"] == name].values[:, -1]\n",
    "        # target = target.astype(np.float32)\n",
    "        # target = torch.from_numpy(target)\n",
    "        # print(\"GETITEM\", idx, player_id, sample_id, name)\n",
    "        # print(name, idx, target, sample_id)\n",
    "        # print(type(target))\n",
    "        return features"
   ]
  },
  {
   "cell_type": "code",
   "execution_count": 12,
   "id": "3129bfc0-8ee1-4840-b283-4ed5984a67b6",
   "metadata": {},
   "outputs": [],
   "source": [
    "dataset = PandasDataset(upcoming_fixtures, FROM_GW, TO_GW)"
   ]
  },
  {
   "cell_type": "code",
   "execution_count": 13,
   "id": "3844fdf8-3848-4982-8d63-7f4c29add56a",
   "metadata": {},
   "outputs": [
    {
     "data": {
      "text/plain": [
       "438"
      ]
     },
     "execution_count": 13,
     "metadata": {},
     "output_type": "execute_result"
    }
   ],
   "source": [
    "dataset.__len__()"
   ]
  },
  {
   "cell_type": "code",
   "execution_count": 14,
   "id": "928f5408-dedc-422a-bd3f-556ce96ce1d7",
   "metadata": {},
   "outputs": [],
   "source": [
    "dataloader_general_test = DataLoader(dataset, batch_size=batch_size, shuffle=False)"
   ]
  },
  {
   "cell_type": "markdown",
   "id": "465f3cc7-9bce-4763-bfe7-fa70c0439def",
   "metadata": {},
   "source": [
    "# Models"
   ]
  },
  {
   "cell_type": "code",
   "execution_count": 15,
   "id": "9948d4ff-2450-463d-8604-23dcfd222a33",
   "metadata": {},
   "outputs": [],
   "source": [
    "class LSTMNetwork(nn.Module):\n",
    "    def __init__(self, input_size, hidden_size, num_layers, output_size, dropout=0.2):\n",
    "        super(LSTMNetwork, self).__init__()\n",
    "        self.lstm = nn.LSTM(input_size, hidden_size, num_layers, dropout=dropout)\n",
    "        self.fc = nn.Linear(hidden_size, output_size)\n",
    "\n",
    "    def forward(self, x):\n",
    "        x = torch.transpose(x, 0, 1)\n",
    "        # x = x.view(-1, batch_size)\n",
    "        # x = torch.transpose(x, 0, 1)\n",
    "        # print(\"FOR\", x.shape)\n",
    "        # print(x.shape)\n",
    "        # print(x.shape)\n",
    "        out, _ = self.lstm(x)\n",
    "        # print(out.shape)\n",
    "        out = self.fc(out[-1])\n",
    "        return out"
   ]
  },
  {
   "cell_type": "code",
   "execution_count": 16,
   "id": "7db1b9b2-b26b-4a45-9cdb-d4a736253a71",
   "metadata": {},
   "outputs": [
    {
     "ename": "FileNotFoundError",
     "evalue": "[Errno 2] No such file or directory: 'models/best/best_lstm_general.pt'",
     "output_type": "error",
     "traceback": [
      "\u001b[1;31m---------------------------------------------------------------------------\u001b[0m",
      "\u001b[1;31mFileNotFoundError\u001b[0m                         Traceback (most recent call last)",
      "Input \u001b[1;32mIn [16]\u001b[0m, in \u001b[0;36m<cell line: 2>\u001b[1;34m()\u001b[0m\n\u001b[0;32m      1\u001b[0m net \u001b[38;5;241m=\u001b[39m LSTMNetwork(\u001b[38;5;241m1\u001b[39m, \u001b[38;5;241m20\u001b[39m, \u001b[38;5;241m2\u001b[39m, \u001b[38;5;241m1\u001b[39m, dropout\u001b[38;5;241m=\u001b[39m\u001b[38;5;241m0.4\u001b[39m)\u001b[38;5;241m.\u001b[39mto(device)\n\u001b[1;32m----> 2\u001b[0m net\u001b[38;5;241m.\u001b[39mload_state_dict(\u001b[43mtorch\u001b[49m\u001b[38;5;241;43m.\u001b[39;49m\u001b[43mload\u001b[49m\u001b[43m(\u001b[49m\u001b[38;5;124;43m'\u001b[39;49m\u001b[38;5;124;43mmodels/best/best_lstm_general.pt\u001b[39;49m\u001b[38;5;124;43m'\u001b[39;49m\u001b[43m)\u001b[49m)\n",
      "File \u001b[1;32mC:\\users\\user\\appdata\\local\\programs\\python\\python38\\lib\\site-packages\\torch\\serialization.py:699\u001b[0m, in \u001b[0;36mload\u001b[1;34m(f, map_location, pickle_module, **pickle_load_args)\u001b[0m\n\u001b[0;32m    696\u001b[0m \u001b[38;5;28;01mif\u001b[39;00m \u001b[38;5;124m'\u001b[39m\u001b[38;5;124mencoding\u001b[39m\u001b[38;5;124m'\u001b[39m \u001b[38;5;129;01mnot\u001b[39;00m \u001b[38;5;129;01min\u001b[39;00m pickle_load_args\u001b[38;5;241m.\u001b[39mkeys():\n\u001b[0;32m    697\u001b[0m     pickle_load_args[\u001b[38;5;124m'\u001b[39m\u001b[38;5;124mencoding\u001b[39m\u001b[38;5;124m'\u001b[39m] \u001b[38;5;241m=\u001b[39m \u001b[38;5;124m'\u001b[39m\u001b[38;5;124mutf-8\u001b[39m\u001b[38;5;124m'\u001b[39m\n\u001b[1;32m--> 699\u001b[0m \u001b[38;5;28;01mwith\u001b[39;00m \u001b[43m_open_file_like\u001b[49m\u001b[43m(\u001b[49m\u001b[43mf\u001b[49m\u001b[43m,\u001b[49m\u001b[43m \u001b[49m\u001b[38;5;124;43m'\u001b[39;49m\u001b[38;5;124;43mrb\u001b[39;49m\u001b[38;5;124;43m'\u001b[39;49m\u001b[43m)\u001b[49m \u001b[38;5;28;01mas\u001b[39;00m opened_file:\n\u001b[0;32m    700\u001b[0m     \u001b[38;5;28;01mif\u001b[39;00m _is_zipfile(opened_file):\n\u001b[0;32m    701\u001b[0m         \u001b[38;5;66;03m# The zipfile reader is going to advance the current file position.\u001b[39;00m\n\u001b[0;32m    702\u001b[0m         \u001b[38;5;66;03m# If we want to actually tail call to torch.jit.load, we need to\u001b[39;00m\n\u001b[0;32m    703\u001b[0m         \u001b[38;5;66;03m# reset back to the original position.\u001b[39;00m\n\u001b[0;32m    704\u001b[0m         orig_position \u001b[38;5;241m=\u001b[39m opened_file\u001b[38;5;241m.\u001b[39mtell()\n",
      "File \u001b[1;32mC:\\users\\user\\appdata\\local\\programs\\python\\python38\\lib\\site-packages\\torch\\serialization.py:230\u001b[0m, in \u001b[0;36m_open_file_like\u001b[1;34m(name_or_buffer, mode)\u001b[0m\n\u001b[0;32m    228\u001b[0m \u001b[38;5;28;01mdef\u001b[39;00m \u001b[38;5;21m_open_file_like\u001b[39m(name_or_buffer, mode):\n\u001b[0;32m    229\u001b[0m     \u001b[38;5;28;01mif\u001b[39;00m _is_path(name_or_buffer):\n\u001b[1;32m--> 230\u001b[0m         \u001b[38;5;28;01mreturn\u001b[39;00m \u001b[43m_open_file\u001b[49m\u001b[43m(\u001b[49m\u001b[43mname_or_buffer\u001b[49m\u001b[43m,\u001b[49m\u001b[43m \u001b[49m\u001b[43mmode\u001b[49m\u001b[43m)\u001b[49m\n\u001b[0;32m    231\u001b[0m     \u001b[38;5;28;01melse\u001b[39;00m:\n\u001b[0;32m    232\u001b[0m         \u001b[38;5;28;01mif\u001b[39;00m \u001b[38;5;124m'\u001b[39m\u001b[38;5;124mw\u001b[39m\u001b[38;5;124m'\u001b[39m \u001b[38;5;129;01min\u001b[39;00m mode:\n",
      "File \u001b[1;32mC:\\users\\user\\appdata\\local\\programs\\python\\python38\\lib\\site-packages\\torch\\serialization.py:211\u001b[0m, in \u001b[0;36m_open_file.__init__\u001b[1;34m(self, name, mode)\u001b[0m\n\u001b[0;32m    210\u001b[0m \u001b[38;5;28;01mdef\u001b[39;00m \u001b[38;5;21m__init__\u001b[39m(\u001b[38;5;28mself\u001b[39m, name, mode):\n\u001b[1;32m--> 211\u001b[0m     \u001b[38;5;28msuper\u001b[39m(_open_file, \u001b[38;5;28mself\u001b[39m)\u001b[38;5;241m.\u001b[39m\u001b[38;5;21m__init__\u001b[39m(\u001b[38;5;28;43mopen\u001b[39;49m\u001b[43m(\u001b[49m\u001b[43mname\u001b[49m\u001b[43m,\u001b[49m\u001b[43m \u001b[49m\u001b[43mmode\u001b[49m\u001b[43m)\u001b[49m)\n",
      "\u001b[1;31mFileNotFoundError\u001b[0m: [Errno 2] No such file or directory: 'models/best/best_lstm_general.pt'"
     ]
    }
   ],
   "source": [
    "net = LSTMNetwork(1, 20, 2, 1, dropout=0.4).to(device)\n",
    "net.load_state_dict(torch.load('models/best/best_lstm_general.pt'))"
   ]
  },
  {
   "cell_type": "code",
   "execution_count": null,
   "id": "a050860c-adc1-4534-8b35-b0d956d91472",
   "metadata": {},
   "outputs": [],
   "source": []
  },
  {
   "cell_type": "code",
   "execution_count": null,
   "id": "2fb8737c-49a5-470e-afb2-a3746a6ae3fa",
   "metadata": {},
   "outputs": [],
   "source": []
  }
 ],
 "metadata": {
  "kernelspec": {
   "display_name": "Python 3 (ipykernel)",
   "language": "python",
   "name": "python3"
  },
  "language_info": {
   "codemirror_mode": {
    "name": "ipython",
    "version": 3
   },
   "file_extension": ".py",
   "mimetype": "text/x-python",
   "name": "python",
   "nbconvert_exporter": "python",
   "pygments_lexer": "ipython3",
   "version": "3.8.0"
  }
 },
 "nbformat": 4,
 "nbformat_minor": 5
}
