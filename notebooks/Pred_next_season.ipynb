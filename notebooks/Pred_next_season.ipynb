{
 "cells": [
  {
   "cell_type": "markdown",
   "id": "f2fffad3-7e0e-4e9d-8244-44a7c3490def",
   "metadata": {},
   "source": [
    "# Imports"
   ]
  },
  {
   "cell_type": "code",
   "execution_count": 1,
   "id": "d086f0da-9daa-46fb-ace1-532ed013968c",
   "metadata": {},
   "outputs": [],
   "source": [
    "import os\n",
    "os.chdir(\"D:\\PulpitE\\FPL_ML\")"
   ]
  },
  {
   "cell_type": "code",
   "execution_count": 2,
   "id": "1980cbbd-2c16-4f34-8a56-6d00047e5f7f",
   "metadata": {},
   "outputs": [],
   "source": [
    "import pandas as pd\n",
    "import numpy as np\n",
    "import pickle"
   ]
  },
  {
   "cell_type": "code",
   "execution_count": 3,
   "id": "64480cc2-3e55-4330-bfc6-fcfbedc2eb0e",
   "metadata": {},
   "outputs": [
    {
     "name": "stderr",
     "output_type": "stream",
     "text": [
      "C:\\users\\user\\appdata\\local\\programs\\python\\python38\\lib\\site-packages\\IPython\\core\\interactiveshell.py:3369: DtypeWarning: Columns (70) have mixed types.Specify dtype option on import or set low_memory=False.\n",
      "  exec(code_obj, self.user_global_ns, self.user_ns)\n"
     ]
    }
   ],
   "source": [
    "df = pd.read_csv(\"data/upcoming_fixtures.csv\")\n",
    "CURRENT_SEASON = \"2023-24\""
   ]
  },
  {
   "cell_type": "code",
   "execution_count": 4,
   "id": "3661398e-4e93-40e0-ac12-4bdb551a55e9",
   "metadata": {},
   "outputs": [
    {
     "data": {
      "text/plain": [
       "Index(['Unnamed: 0', 'Ast_2', 'Ast_30', 'Ast_4', 'Baseline_points_2',\n",
       "       'Baseline_points_30', 'Baseline_points_4', 'Bonus_2', 'Bonus_30',\n",
       "       'Bonus_4', 'CrdR_2', 'CrdR_30', 'CrdR_4', 'CrdY_2', 'CrdY_30', 'CrdY_4',\n",
       "       'DEF', 'FPL_points', 'FPL_points_2', 'FPL_points_30', 'FPL_points_4',\n",
       "       'FPL_pos', 'FWD', 'GW', 'Gls_2', 'Gls_30', 'Gls_4', 'ICT_index_2',\n",
       "       'ICT_index_30', 'ICT_index_4', 'MID', 'Min_2', 'Min_30', 'Min_4',\n",
       "       'Name_original', 'Opp_rating', 'Opp_score_2', 'Opp_score_30',\n",
       "       'Opp_score_4', 'Opponent', 'Rating_difference', 'Season', 'Sh_2',\n",
       "       'Sh_30', 'Sh_4', 'SoT_2', 'SoT_30', 'SoT_4', 'Start_2', 'Start_30',\n",
       "       'Start_4', 'Team', 'Team_CS_2', 'Team_CS_30', 'Team_CS_4',\n",
       "       'Team_rating', 'Team_result_2', 'Team_result_30', 'Team_result_4',\n",
       "       'Team_score_2', 'Team_score_30', 'Team_score_4', 'Was_home', 'xA_2',\n",
       "       'xA_30', 'xA_4', 'xG_2', 'xG_30', 'xG_4', 'Finished', 'Date'],\n",
       "      dtype='object')"
      ]
     },
     "execution_count": 4,
     "metadata": {},
     "output_type": "execute_result"
    }
   ],
   "source": [
    "df.columns"
   ]
  },
  {
   "cell_type": "code",
   "execution_count": 5,
   "id": "353d86a7-2b81-4244-94f4-1262cdceb359",
   "metadata": {},
   "outputs": [],
   "source": [
    "rolling_gameweeks = [2, 4, 30]\n",
    "features_to_roll = [\n",
    "                \"Min\", \"Start\", # time played\n",
    "                'Gls', 'Sh', 'SoT', # Goals\n",
    "                'Ast', # Assists\n",
    "                'CrdY', 'CrdR', # Cards\n",
    "                \"xG\", 'xA', # Expected\n",
    "                'Team_CS', # Defence\n",
    "                'Team_score', 'Opp_score', 'Team_result', # Team form\n",
    "                # \"xGPoints\", \"CSPoints\", # Position-scaled\n",
    "                # \"Cmp%\", \"PrgP\", \"PrgC\", \"T_succ\",\n",
    "                # 'bonus', 'bps', # Bonus\n",
    "                # 'Influence', 'Creativity', 'Threat', \n",
    "                'ICT_index', # ICT\n",
    "                \"FPL_points\", \"Baseline_points\", \"Bonus\" # FPL points\n",
    "            ]\n",
    "features = [\"Was_home\",\n",
    "            \"Team_rating\", \"Opp_rating\", \"Rating_difference\", \n",
    "            \"DEF\", \"MID\", \"FWD\"]\n",
    "\n",
    "for r in rolling_gameweeks:\n",
    "    features += [f'{col}{\"_\"}{r}' for col in features_to_roll]\n",
    "\n",
    "info = [\"Name_original\", \"GW\", \"Season\", \"Team\", \"Opponent\", \"Was_home\", \"Team_rating\", \"Opp_rating\", \"FPL_pos\"]\n",
    "to_predict = [\"FPL_points\"]"
   ]
  },
  {
   "cell_type": "code",
   "execution_count": 6,
   "id": "e58bc375-925c-4899-a6d0-5b5579247f12",
   "metadata": {},
   "outputs": [
    {
     "data": {
      "text/plain": [
       "61"
      ]
     },
     "execution_count": 6,
     "metadata": {},
     "output_type": "execute_result"
    }
   ],
   "source": [
    "len(features)"
   ]
  },
  {
   "cell_type": "code",
   "execution_count": 7,
   "id": "9dfc1404-eeb0-40cc-83e8-038faf6d7e96",
   "metadata": {},
   "outputs": [],
   "source": [
    "# df = df[np.unique(features + info)]"
   ]
  },
  {
   "cell_type": "code",
   "execution_count": null,
   "id": "ad307a45-7d76-4810-8c13-83f99a9d5753",
   "metadata": {},
   "outputs": [],
   "source": [
    "file = open(\"models/GBR.pkl\",'rb')\n",
    "model = pickle.load(file)"
   ]
  },
  {
   "cell_type": "code",
   "execution_count": null,
   "id": "e4618335-aab0-4aa7-9dfa-2c780e87bfe0",
   "metadata": {},
   "outputs": [],
   "source": [
    "model"
   ]
  },
  {
   "cell_type": "code",
   "execution_count": null,
   "id": "aabc86cd-0985-4257-93ad-2f46de01f656",
   "metadata": {},
   "outputs": [],
   "source": [
    "def get_predictions(model, df, X, all_remaining=False):\n",
    "    # make predictions on the test data and glues them to the rest of the dataframe\n",
    "    predictions = model.predict(X)\n",
    "    \n",
    "    df_predictions = df[(df[\"Season\"] == CURRENT_SEASON)].reset_index(drop=True)\n",
    "        \n",
    "    print(len(predictions), df_predictions.shape)\n",
    "        \n",
    "    df_predictions.loc[:, \"Pred\"] = predictions\n",
    "    \n",
    "    preds = df_predictions[info + [\"Pred\"]].sort_values(by=[\"Pred\"], ascending = False)\n",
    "    \n",
    "    return preds, predictions"
   ]
  },
  {
   "cell_type": "code",
   "execution_count": null,
   "id": "b41629d3-8e7a-4129-a5cc-18fcec7d3853",
   "metadata": {},
   "outputs": [],
   "source": [
    "# df"
   ]
  },
  {
   "cell_type": "code",
   "execution_count": null,
   "id": "4cb3309a-8564-4e7a-ae6a-9d5503085bf3",
   "metadata": {},
   "outputs": [],
   "source": [
    "X_test = df[df[\"Season\"] == CURRENT_SEASON][features]\n",
    "# .reset_index(drop=True)"
   ]
  },
  {
   "cell_type": "code",
   "execution_count": null,
   "id": "bfc2ea20-108d-484e-a7f5-8feaf951703a",
   "metadata": {},
   "outputs": [],
   "source": [
    "# X_test"
   ]
  },
  {
   "cell_type": "code",
   "execution_count": null,
   "id": "6a895d4c-eae5-463c-961c-178520ac4eaf",
   "metadata": {},
   "outputs": [],
   "source": [
    "preds, predictions = get_predictions(model, df, X_test)"
   ]
  },
  {
   "cell_type": "code",
   "execution_count": null,
   "id": "8656600f-94de-4c9b-af31-8c52e8ce75e6",
   "metadata": {},
   "outputs": [],
   "source": [
    "# next gameweek\n",
    "preds[preds[\"GW\"] == 1].head(30)"
   ]
  },
  {
   "cell_type": "code",
   "execution_count": null,
   "id": "ed0ecfdf-c94b-421c-8aa5-22ad4225b36f",
   "metadata": {},
   "outputs": [],
   "source": [
    "# all preds\n",
    "preds.head(30)"
   ]
  },
  {
   "cell_type": "code",
   "execution_count": null,
   "id": "5a2c7f3e-1c93-4959-963c-9cacaad4572d",
   "metadata": {},
   "outputs": [],
   "source": [
    "# points all season\n",
    "pd.DataFrame(preds.groupby([\"Name_original\"])[\"Pred\"].sum().sort_values(ascending=False)).head(30)"
   ]
  },
  {
   "cell_type": "code",
   "execution_count": null,
   "id": "1d0eec38-f510-4d88-95cc-c06eb107f4b8",
   "metadata": {},
   "outputs": [],
   "source": []
  }
 ],
 "metadata": {
  "kernelspec": {
   "display_name": "Python 3 (ipykernel)",
   "language": "python",
   "name": "python3"
  },
  "language_info": {
   "codemirror_mode": {
    "name": "ipython",
    "version": 3
   },
   "file_extension": ".py",
   "mimetype": "text/x-python",
   "name": "python",
   "nbconvert_exporter": "python",
   "pygments_lexer": "ipython3",
   "version": "3.8.0"
  }
 },
 "nbformat": 4,
 "nbformat_minor": 5
}
