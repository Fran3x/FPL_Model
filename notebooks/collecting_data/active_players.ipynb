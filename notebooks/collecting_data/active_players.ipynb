{
 "cells": [
  {
   "cell_type": "markdown",
   "id": "fc1c7623-2390-42f9-8931-798fa4549956",
   "metadata": {},
   "source": [
    "# Imports"
   ]
  },
  {
   "cell_type": "code",
   "execution_count": 1,
   "id": "76db5308-ad2f-4efc-9ad2-a64a5f8655aa",
   "metadata": {},
   "outputs": [],
   "source": [
    "import os\n",
    "os.chdir(\"D:\\PulpitE\\FPL_ML\")"
   ]
  },
  {
   "cell_type": "code",
   "execution_count": 2,
   "id": "23651e20-f2f4-4d5c-bfca-c94964e63998",
   "metadata": {},
   "outputs": [],
   "source": [
    "import pandas as pd\n",
    "from vaastav import getters"
   ]
  },
  {
   "cell_type": "markdown",
   "id": "63554c4a-0343-4052-ab6c-5fed12ec3196",
   "metadata": {},
   "source": [
    "# Getting data"
   ]
  },
  {
   "cell_type": "code",
   "execution_count": 3,
   "id": "4a80c9c6-ffde-43b9-9417-d24e4103fd3b",
   "metadata": {},
   "outputs": [
    {
     "data": {
      "text/plain": [
       "(665, 88)"
      ]
     },
     "execution_count": 3,
     "metadata": {},
     "output_type": "execute_result"
    }
   ],
   "source": [
    "elements = pd.DataFrame(getters.get_data()[\"elements\"])\n",
    "elements.shape"
   ]
  },
  {
   "cell_type": "code",
   "execution_count": 4,
   "id": "db7356bb-485c-4219-ae2b-ab3dbab112fc",
   "metadata": {},
   "outputs": [
    {
     "data": {
      "text/plain": [
       "Index(['chance_of_playing_next_round', 'chance_of_playing_this_round', 'code',\n",
       "       'cost_change_event', 'cost_change_event_fall', 'cost_change_start',\n",
       "       'cost_change_start_fall', 'dreamteam_count', 'element_type', 'ep_next',\n",
       "       'ep_this', 'event_points', 'first_name', 'form', 'id', 'in_dreamteam',\n",
       "       'news', 'news_added', 'now_cost', 'photo', 'points_per_game',\n",
       "       'second_name', 'selected_by_percent', 'special', 'squad_number',\n",
       "       'status', 'team', 'team_code', 'total_points', 'transfers_in',\n",
       "       'transfers_in_event', 'transfers_out', 'transfers_out_event',\n",
       "       'value_form', 'value_season', 'web_name', 'minutes', 'goals_scored',\n",
       "       'assists', 'clean_sheets', 'goals_conceded', 'own_goals',\n",
       "       'penalties_saved', 'penalties_missed', 'yellow_cards', 'red_cards',\n",
       "       'saves', 'bonus', 'bps', 'influence', 'creativity', 'threat',\n",
       "       'ict_index', 'starts', 'expected_goals', 'expected_assists',\n",
       "       'expected_goal_involvements', 'expected_goals_conceded',\n",
       "       'influence_rank', 'influence_rank_type', 'creativity_rank',\n",
       "       'creativity_rank_type', 'threat_rank', 'threat_rank_type',\n",
       "       'ict_index_rank', 'ict_index_rank_type',\n",
       "       'corners_and_indirect_freekicks_order',\n",
       "       'corners_and_indirect_freekicks_text', 'direct_freekicks_order',\n",
       "       'direct_freekicks_text', 'penalties_order', 'penalties_text',\n",
       "       'expected_goals_per_90', 'saves_per_90', 'expected_assists_per_90',\n",
       "       'expected_goal_involvements_per_90', 'expected_goals_conceded_per_90',\n",
       "       'goals_conceded_per_90', 'now_cost_rank', 'now_cost_rank_type',\n",
       "       'form_rank', 'form_rank_type', 'points_per_game_rank',\n",
       "       'points_per_game_rank_type', 'selected_rank', 'selected_rank_type',\n",
       "       'starts_per_90', 'clean_sheets_per_90'],\n",
       "      dtype='object')"
      ]
     },
     "execution_count": 4,
     "metadata": {},
     "output_type": "execute_result"
    }
   ],
   "source": [
    "elements.columns"
   ]
  },
  {
   "cell_type": "markdown",
   "id": "2d260c20-d808-4ea4-9aec-92d59d3a7859",
   "metadata": {},
   "source": [
    "# Assigning teams"
   ]
  },
  {
   "cell_type": "code",
   "execution_count": 5,
   "id": "7bec720d-6198-4f97-a594-af29f05a5a7f",
   "metadata": {},
   "outputs": [],
   "source": [
    "current_teams = [\n",
    "        'Arsenal',\n",
    "        'Aston Villa',\n",
    "        'Bournemouth',\n",
    "        'Brentford',\n",
    "        'Brighton',\n",
    "        'Burnley',\n",
    "        'Chelsea',\n",
    "        'Crystal Palace',\n",
    "        'Everton',\n",
    "        'Fulham',\n",
    "        'Liverpool',\n",
    "        'Luton',\n",
    "        'Manchester City',\n",
    "        'Manchester Utd',\n",
    "        'Newcastle Utd',\n",
    "        \"Nott'ham Forest\",\n",
    "        'Sheffield United',\n",
    "        'Tottenham',\n",
    "        'West Ham',\n",
    "        'Wolves'\n",
    "    ]"
   ]
  },
  {
   "cell_type": "code",
   "execution_count": 6,
   "id": "11a852bb-080f-4457-b8c6-c636092582ba",
   "metadata": {},
   "outputs": [],
   "source": [
    "# 2023-24 season\n",
    "def team_id_to_name(current_teams, team_id):\n",
    "    return current_teams[team_id - 1]"
   ]
  },
  {
   "cell_type": "code",
   "execution_count": 7,
   "id": "1171bcf4-1cd5-499c-ba85-c7d561aa2c5d",
   "metadata": {},
   "outputs": [],
   "source": [
    "elements[\"team\"] = elements[\"team\"].apply(lambda x: team_id_to_name(current_teams, x))\n",
    "elements[\"name\"] = elements[\"first_name\"] + \" \" + elements[\"second_name\"]"
   ]
  },
  {
   "cell_type": "code",
   "execution_count": 10,
   "id": "83c582fc-c0d4-407b-811c-af3c382a436c",
   "metadata": {},
   "outputs": [],
   "source": [
    "# elements[~elements[\"chance_of_playing_this_round\"].isna()][[\"chance_of_playing_next_round\", \"name\", \"team\"]].head(80).tail(40)"
   ]
  },
  {
   "cell_type": "markdown",
   "id": "6e3a09b5-3aa5-424d-8bba-4443cabcb522",
   "metadata": {},
   "source": [
    "# Saving to file"
   ]
  },
  {
   "cell_type": "code",
   "execution_count": 9,
   "id": "be3eee19-72d0-417c-a6d9-34453d2fa66c",
   "metadata": {},
   "outputs": [],
   "source": [
    "elements.to_csv(\"data/active_players.csv\")"
   ]
  }
 ],
 "metadata": {
  "kernelspec": {
   "display_name": "Python 3 (ipykernel)",
   "language": "python",
   "name": "python3"
  },
  "language_info": {
   "codemirror_mode": {
    "name": "ipython",
    "version": 3
   },
   "file_extension": ".py",
   "mimetype": "text/x-python",
   "name": "python",
   "nbconvert_exporter": "python",
   "pygments_lexer": "ipython3",
   "version": "3.8.0"
  }
 },
 "nbformat": 4,
 "nbformat_minor": 5
}
