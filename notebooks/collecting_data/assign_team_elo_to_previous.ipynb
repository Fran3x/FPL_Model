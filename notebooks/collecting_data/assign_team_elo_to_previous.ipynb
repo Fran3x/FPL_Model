{
 "cells": [
  {
   "cell_type": "markdown",
   "id": "4d9bd190-3a7d-40f4-9da9-ecf46f0343e2",
   "metadata": {},
   "source": [
    "# Imports"
   ]
  },
  {
   "cell_type": "code",
   "execution_count": 1,
   "id": "aa356013-5fa7-41b1-b0a5-21ac2e22d7b6",
   "metadata": {},
   "outputs": [],
   "source": [
    "import os\n",
    "os.chdir(\"D:\\PulpitE\\FPL_ML\")"
   ]
  },
  {
   "cell_type": "code",
   "execution_count": 2,
   "id": "a4a44155-8de6-4fbc-84e4-22eb62f322a1",
   "metadata": {},
   "outputs": [],
   "source": [
    "import pandas as pd\n",
    "from datetime import datetime"
   ]
  },
  {
   "cell_type": "markdown",
   "id": "c1fe9022-4934-4b52-9ea7-dfdd01070c61",
   "metadata": {},
   "source": [
    "# Setup"
   ]
  },
  {
   "cell_type": "code",
   "execution_count": 3,
   "id": "d79125df-f514-4049-96a2-106135415a25",
   "metadata": {},
   "outputs": [],
   "source": [
    "team_ratings = pd.read_csv(\"data/misc/team_ratings_history.csv\")"
   ]
  },
  {
   "cell_type": "code",
   "execution_count": 4,
   "id": "e8871fe8-4704-4f5e-8a46-ec481c4adf94",
   "metadata": {},
   "outputs": [
    {
     "data": {
      "text/plain": [
       "array(['Arsenal', 'Aston Villa', 'Bournemouth', 'Brentford', 'Brighton',\n",
       "       'Chelsea', 'Crystal Palace', 'Everton', 'Fulham', 'Leicester',\n",
       "       'Leeds', 'Liverpool', 'Man City', 'Man United', 'Newcastle',\n",
       "       'Forest', 'Southampton', 'Tottenham', 'West Ham', 'Wolves',\n",
       "       'Burnley', 'Norwich', 'Watford', 'Luton', 'Sheffield United'],\n",
       "      dtype=object)"
      ]
     },
     "execution_count": 4,
     "metadata": {},
     "output_type": "execute_result"
    }
   ],
   "source": [
    "team_ratings[\"Club\"].unique()"
   ]
  },
  {
   "cell_type": "code",
   "execution_count": 5,
   "id": "7496b983-7551-4d91-927e-de422fccee62",
   "metadata": {},
   "outputs": [],
   "source": [
    "# function to assign rating for team\n",
    "def get_rating_for_team(team_ratings, team_name, date):\n",
    "    rating = None\n",
    "    try:\n",
    "        rating = team_ratings[(team_ratings['From'] <= date.strftime(\"%Y-%m-%d\")) & (team_ratings['Club'] == team_name)].iloc[-1]['Elo']\n",
    "    except:\n",
    "        print(team_name, date)\n",
    "    return rating"
   ]
  },
  {
   "cell_type": "code",
   "execution_count": 6,
   "id": "37c86ddc-b65a-4abf-967b-7204386303c1",
   "metadata": {},
   "outputs": [],
   "source": [
    "def fbref_to_team_elo(team_name):\n",
    "    # changes name of a team\n",
    "    if team_name == \"Leicester City\":\n",
    "        return \"Leicester\"\n",
    "    if team_name == \"Manchester City\":\n",
    "        return \"Man City\"\n",
    "    if team_name == \"Manchester Utd\":\n",
    "        return \"Man United\"\n",
    "    if team_name == \"Newcastle Utd\":\n",
    "        return \"Newcastle\"\n",
    "    if team_name == \"Nott'ham Forest\":\n",
    "        return \"Forest\"\n",
    "    if team_name == \"Leeds United\":\n",
    "        return \"Leeds\"\n",
    "    if team_name == \"Norwich City\":\n",
    "        return \"Norwich\"\n",
    "    if team_name == \"Luton Town\":\n",
    "        return \"Luton\"\n",
    "    if team_name == \"Sheffield Utd\":\n",
    "        return 'Sheffield United'\n",
    "    return team_name"
   ]
  },
  {
   "cell_type": "code",
   "execution_count": 7,
   "id": "9cbf2453-622b-4fe5-9754-359794d5b704",
   "metadata": {},
   "outputs": [],
   "source": [
    "# choose correct dataset!\n",
    "df = pd.read_csv(\"data/previous/fpl_fbref_players.csv\")"
   ]
  },
  {
   "cell_type": "code",
   "execution_count": 18,
   "id": "4768d018-f023-487b-8b02-28199733858d",
   "metadata": {},
   "outputs": [],
   "source": [
    "# df.head(10)"
   ]
  },
  {
   "cell_type": "code",
   "execution_count": null,
   "id": "52022a24-e48c-4dbd-9c8a-3f1f81a69c09",
   "metadata": {},
   "outputs": [
    {
     "data": {
      "text/plain": [
       "0"
      ]
     },
     "execution_count": 10,
     "metadata": {},
     "output_type": "execute_result"
    }
   ],
   "source": [
    "df[\"Date\"].isna().sum()"
   ]
  },
  {
   "cell_type": "markdown",
   "id": "0bb3a1e2-2d2f-42b0-a956-c7301b3c3b98",
   "metadata": {},
   "source": [
    "# Assigning elo rating"
   ]
  },
  {
   "cell_type": "code",
   "execution_count": 11,
   "id": "237aa9cf-0932-4e95-bd27-9a701bdba42a",
   "metadata": {},
   "outputs": [
    {
     "name": "stdout",
     "output_type": "stream",
     "text": [
      "CPU times: total: 4min 11s\n",
      "Wall time: 4min 29s\n"
     ]
    }
   ],
   "source": [
    "%%time\n",
    "df[\"Opp rating\"] = df.apply(lambda row : get_rating_for_team(team_ratings,\n",
    "                     fbref_to_team_elo(row['Opponent']), datetime.strptime(row['Date'], '%Y-%m-%d')), axis=1)"
   ]
  },
  {
   "cell_type": "code",
   "execution_count": 12,
   "id": "8976ed4f-7718-40f2-a3f7-50897d8a466f",
   "metadata": {},
   "outputs": [
    {
     "name": "stdout",
     "output_type": "stream",
     "text": [
      "CPU times: total: 4min 7s\n",
      "Wall time: 4min 17s\n"
     ]
    }
   ],
   "source": [
    "%%time\n",
    "df[\"Team rating\"] = df.apply(lambda row : get_rating_for_team(team_ratings,\n",
    "                     fbref_to_team_elo(row['Squad']), datetime.strptime(row['Date'], '%Y-%m-%d')), axis=1)"
   ]
  },
  {
   "cell_type": "code",
   "execution_count": 17,
   "id": "37078f93-da3e-4d89-bd15-6a7ca96cee55",
   "metadata": {},
   "outputs": [
    {
     "data": {
      "text/html": [
       "<div>\n",
       "<style scoped>\n",
       "    .dataframe tbody tr th:only-of-type {\n",
       "        vertical-align: middle;\n",
       "    }\n",
       "\n",
       "    .dataframe tbody tr th {\n",
       "        vertical-align: top;\n",
       "    }\n",
       "\n",
       "    .dataframe thead th {\n",
       "        text-align: right;\n",
       "    }\n",
       "</style>\n",
       "<table border=\"1\" class=\"dataframe\">\n",
       "  <thead>\n",
       "    <tr style=\"text-align: right;\">\n",
       "      <th></th>\n",
       "      <th>Unnamed: 0</th>\n",
       "      <th>Date</th>\n",
       "      <th>Day</th>\n",
       "      <th>Comp</th>\n",
       "      <th>Round</th>\n",
       "      <th>Venue</th>\n",
       "      <th>Squad</th>\n",
       "      <th>Opponent</th>\n",
       "      <th>Start</th>\n",
       "      <th>Pos</th>\n",
       "      <th>...</th>\n",
       "      <th>GW_y</th>\n",
       "      <th>xP</th>\n",
       "      <th>expected_assists</th>\n",
       "      <th>expected_goal_involvements</th>\n",
       "      <th>expected_goals</th>\n",
       "      <th>expected_goals_conceded</th>\n",
       "      <th>starts</th>\n",
       "      <th>neutral_name_y</th>\n",
       "      <th>Opp rating</th>\n",
       "      <th>Team rating</th>\n",
       "    </tr>\n",
       "  </thead>\n",
       "  <tbody>\n",
       "    <tr>\n",
       "      <th>0</th>\n",
       "      <td>0</td>\n",
       "      <td>2021-08-21</td>\n",
       "      <td>Sat</td>\n",
       "      <td>Premier League</td>\n",
       "      <td>Matchweek 2</td>\n",
       "      <td>Home</td>\n",
       "      <td>Brighton</td>\n",
       "      <td>Watford</td>\n",
       "      <td>N</td>\n",
       "      <td>FW</td>\n",
       "      <td>...</td>\n",
       "      <td>2.0</td>\n",
       "      <td>NaN</td>\n",
       "      <td>NaN</td>\n",
       "      <td>NaN</td>\n",
       "      <td>NaN</td>\n",
       "      <td>NaN</td>\n",
       "      <td>NaN</td>\n",
       "      <td>Aaron-Connolly</td>\n",
       "      <td>1681.872192</td>\n",
       "      <td>1728.483398</td>\n",
       "    </tr>\n",
       "    <tr>\n",
       "      <th>1</th>\n",
       "      <td>1</td>\n",
       "      <td>2021-08-28</td>\n",
       "      <td>Sat</td>\n",
       "      <td>Premier League</td>\n",
       "      <td>Matchweek 3</td>\n",
       "      <td>Home</td>\n",
       "      <td>Brighton</td>\n",
       "      <td>Everton</td>\n",
       "      <td>N</td>\n",
       "      <td>0</td>\n",
       "      <td>...</td>\n",
       "      <td>3.0</td>\n",
       "      <td>NaN</td>\n",
       "      <td>NaN</td>\n",
       "      <td>NaN</td>\n",
       "      <td>NaN</td>\n",
       "      <td>NaN</td>\n",
       "      <td>NaN</td>\n",
       "      <td>Aaron-Connolly</td>\n",
       "      <td>1780.006958</td>\n",
       "      <td>1738.980469</td>\n",
       "    </tr>\n",
       "    <tr>\n",
       "      <th>2</th>\n",
       "      <td>2</td>\n",
       "      <td>2021-09-19</td>\n",
       "      <td>Sun</td>\n",
       "      <td>Premier League</td>\n",
       "      <td>Matchweek 5</td>\n",
       "      <td>Home</td>\n",
       "      <td>Brighton</td>\n",
       "      <td>Leicester City</td>\n",
       "      <td>N</td>\n",
       "      <td>0</td>\n",
       "      <td>...</td>\n",
       "      <td>5.0</td>\n",
       "      <td>NaN</td>\n",
       "      <td>NaN</td>\n",
       "      <td>NaN</td>\n",
       "      <td>NaN</td>\n",
       "      <td>NaN</td>\n",
       "      <td>NaN</td>\n",
       "      <td>Aaron-Connolly</td>\n",
       "      <td>1795.105225</td>\n",
       "      <td>1735.531982</td>\n",
       "    </tr>\n",
       "    <tr>\n",
       "      <th>3</th>\n",
       "      <td>3</td>\n",
       "      <td>2021-09-27</td>\n",
       "      <td>Mon</td>\n",
       "      <td>Premier League</td>\n",
       "      <td>Matchweek 6</td>\n",
       "      <td>Away</td>\n",
       "      <td>Brighton</td>\n",
       "      <td>Crystal Palace</td>\n",
       "      <td>N</td>\n",
       "      <td>LM</td>\n",
       "      <td>...</td>\n",
       "      <td>6.0</td>\n",
       "      <td>NaN</td>\n",
       "      <td>NaN</td>\n",
       "      <td>NaN</td>\n",
       "      <td>NaN</td>\n",
       "      <td>NaN</td>\n",
       "      <td>NaN</td>\n",
       "      <td>Aaron-Connolly</td>\n",
       "      <td>1708.091675</td>\n",
       "      <td>1744.599365</td>\n",
       "    </tr>\n",
       "    <tr>\n",
       "      <th>4</th>\n",
       "      <td>4</td>\n",
       "      <td>2021-10-02</td>\n",
       "      <td>Sat</td>\n",
       "      <td>Premier League</td>\n",
       "      <td>Matchweek 7</td>\n",
       "      <td>Home</td>\n",
       "      <td>Brighton</td>\n",
       "      <td>Arsenal</td>\n",
       "      <td>N</td>\n",
       "      <td>0</td>\n",
       "      <td>...</td>\n",
       "      <td>7.0</td>\n",
       "      <td>NaN</td>\n",
       "      <td>NaN</td>\n",
       "      <td>NaN</td>\n",
       "      <td>NaN</td>\n",
       "      <td>NaN</td>\n",
       "      <td>NaN</td>\n",
       "      <td>Aaron-Connolly</td>\n",
       "      <td>1844.299316</td>\n",
       "      <td>1739.216797</td>\n",
       "    </tr>\n",
       "    <tr>\n",
       "      <th>5</th>\n",
       "      <td>5</td>\n",
       "      <td>2021-10-16</td>\n",
       "      <td>Sat</td>\n",
       "      <td>Premier League</td>\n",
       "      <td>Matchweek 8</td>\n",
       "      <td>Away</td>\n",
       "      <td>Brighton</td>\n",
       "      <td>Norwich City</td>\n",
       "      <td>N</td>\n",
       "      <td>0</td>\n",
       "      <td>...</td>\n",
       "      <td>NaN</td>\n",
       "      <td>NaN</td>\n",
       "      <td>NaN</td>\n",
       "      <td>NaN</td>\n",
       "      <td>NaN</td>\n",
       "      <td>NaN</td>\n",
       "      <td>NaN</td>\n",
       "      <td>NaN</td>\n",
       "      <td>1619.743896</td>\n",
       "      <td>1741.328003</td>\n",
       "    </tr>\n",
       "    <tr>\n",
       "      <th>6</th>\n",
       "      <td>6</td>\n",
       "      <td>2021-10-23</td>\n",
       "      <td>Sat</td>\n",
       "      <td>Premier League</td>\n",
       "      <td>Matchweek 9</td>\n",
       "      <td>Home</td>\n",
       "      <td>Brighton</td>\n",
       "      <td>Manchester City</td>\n",
       "      <td>N</td>\n",
       "      <td>0</td>\n",
       "      <td>...</td>\n",
       "      <td>9.0</td>\n",
       "      <td>NaN</td>\n",
       "      <td>NaN</td>\n",
       "      <td>NaN</td>\n",
       "      <td>NaN</td>\n",
       "      <td>NaN</td>\n",
       "      <td>NaN</td>\n",
       "      <td>Aaron-Connolly</td>\n",
       "      <td>2011.105347</td>\n",
       "      <td>1742.232178</td>\n",
       "    </tr>\n",
       "    <tr>\n",
       "      <th>7</th>\n",
       "      <td>7</td>\n",
       "      <td>2021-12-04</td>\n",
       "      <td>Sat</td>\n",
       "      <td>Premier League</td>\n",
       "      <td>Matchweek 15</td>\n",
       "      <td>Away</td>\n",
       "      <td>Brighton</td>\n",
       "      <td>Southampton</td>\n",
       "      <td>N</td>\n",
       "      <td>FW</td>\n",
       "      <td>...</td>\n",
       "      <td>15.0</td>\n",
       "      <td>NaN</td>\n",
       "      <td>NaN</td>\n",
       "      <td>NaN</td>\n",
       "      <td>NaN</td>\n",
       "      <td>NaN</td>\n",
       "      <td>NaN</td>\n",
       "      <td>Aaron-Connolly</td>\n",
       "      <td>1710.621094</td>\n",
       "      <td>1737.465332</td>\n",
       "    </tr>\n",
       "    <tr>\n",
       "      <th>8</th>\n",
       "      <td>8</td>\n",
       "      <td>2021-12-15</td>\n",
       "      <td>Wed</td>\n",
       "      <td>Premier League</td>\n",
       "      <td>Matchweek 17</td>\n",
       "      <td>Home</td>\n",
       "      <td>Brighton</td>\n",
       "      <td>Wolves</td>\n",
       "      <td>Y</td>\n",
       "      <td>FW</td>\n",
       "      <td>...</td>\n",
       "      <td>17.0</td>\n",
       "      <td>NaN</td>\n",
       "      <td>NaN</td>\n",
       "      <td>NaN</td>\n",
       "      <td>NaN</td>\n",
       "      <td>NaN</td>\n",
       "      <td>NaN</td>\n",
       "      <td>Aaron-Connolly</td>\n",
       "      <td>1732.026367</td>\n",
       "      <td>1725.303345</td>\n",
       "    </tr>\n",
       "    <tr>\n",
       "      <th>9</th>\n",
       "      <td>9</td>\n",
       "      <td>2021-08-15</td>\n",
       "      <td>Sun</td>\n",
       "      <td>Premier League</td>\n",
       "      <td>Matchweek 1</td>\n",
       "      <td>Away</td>\n",
       "      <td>West Ham</td>\n",
       "      <td>Newcastle Utd</td>\n",
       "      <td>Y</td>\n",
       "      <td>LB</td>\n",
       "      <td>...</td>\n",
       "      <td>1.0</td>\n",
       "      <td>NaN</td>\n",
       "      <td>NaN</td>\n",
       "      <td>NaN</td>\n",
       "      <td>NaN</td>\n",
       "      <td>NaN</td>\n",
       "      <td>NaN</td>\n",
       "      <td>Aaron-Cresswell</td>\n",
       "      <td>1724.895874</td>\n",
       "      <td>1810.996338</td>\n",
       "    </tr>\n",
       "  </tbody>\n",
       "</table>\n",
       "<p>10 rows × 106 columns</p>\n",
       "</div>"
      ],
      "text/plain": [
       "   Unnamed: 0        Date  Day            Comp         Round Venue     Squad  \\\n",
       "0           0  2021-08-21  Sat  Premier League   Matchweek 2  Home  Brighton   \n",
       "1           1  2021-08-28  Sat  Premier League   Matchweek 3  Home  Brighton   \n",
       "2           2  2021-09-19  Sun  Premier League   Matchweek 5  Home  Brighton   \n",
       "3           3  2021-09-27  Mon  Premier League   Matchweek 6  Away  Brighton   \n",
       "4           4  2021-10-02  Sat  Premier League   Matchweek 7  Home  Brighton   \n",
       "5           5  2021-10-16  Sat  Premier League   Matchweek 8  Away  Brighton   \n",
       "6           6  2021-10-23  Sat  Premier League   Matchweek 9  Home  Brighton   \n",
       "7           7  2021-12-04  Sat  Premier League  Matchweek 15  Away  Brighton   \n",
       "8           8  2021-12-15  Wed  Premier League  Matchweek 17  Home  Brighton   \n",
       "9           9  2021-08-15  Sun  Premier League   Matchweek 1  Away  West Ham   \n",
       "\n",
       "          Opponent Start Pos  ...  GW_y  xP  expected_assists  \\\n",
       "0          Watford     N  FW  ...   2.0 NaN               NaN   \n",
       "1          Everton     N   0  ...   3.0 NaN               NaN   \n",
       "2   Leicester City     N   0  ...   5.0 NaN               NaN   \n",
       "3   Crystal Palace     N  LM  ...   6.0 NaN               NaN   \n",
       "4          Arsenal     N   0  ...   7.0 NaN               NaN   \n",
       "5     Norwich City     N   0  ...   NaN NaN               NaN   \n",
       "6  Manchester City     N   0  ...   9.0 NaN               NaN   \n",
       "7      Southampton     N  FW  ...  15.0 NaN               NaN   \n",
       "8           Wolves     Y  FW  ...  17.0 NaN               NaN   \n",
       "9    Newcastle Utd     Y  LB  ...   1.0 NaN               NaN   \n",
       "\n",
       "   expected_goal_involvements  expected_goals  expected_goals_conceded  \\\n",
       "0                         NaN             NaN                      NaN   \n",
       "1                         NaN             NaN                      NaN   \n",
       "2                         NaN             NaN                      NaN   \n",
       "3                         NaN             NaN                      NaN   \n",
       "4                         NaN             NaN                      NaN   \n",
       "5                         NaN             NaN                      NaN   \n",
       "6                         NaN             NaN                      NaN   \n",
       "7                         NaN             NaN                      NaN   \n",
       "8                         NaN             NaN                      NaN   \n",
       "9                         NaN             NaN                      NaN   \n",
       "\n",
       "   starts   neutral_name_y   Opp rating  Team rating  \n",
       "0     NaN   Aaron-Connolly  1681.872192  1728.483398  \n",
       "1     NaN   Aaron-Connolly  1780.006958  1738.980469  \n",
       "2     NaN   Aaron-Connolly  1795.105225  1735.531982  \n",
       "3     NaN   Aaron-Connolly  1708.091675  1744.599365  \n",
       "4     NaN   Aaron-Connolly  1844.299316  1739.216797  \n",
       "5     NaN              NaN  1619.743896  1741.328003  \n",
       "6     NaN   Aaron-Connolly  2011.105347  1742.232178  \n",
       "7     NaN   Aaron-Connolly  1710.621094  1737.465332  \n",
       "8     NaN   Aaron-Connolly  1732.026367  1725.303345  \n",
       "9     NaN  Aaron-Cresswell  1724.895874  1810.996338  \n",
       "\n",
       "[10 rows x 106 columns]"
      ]
     },
     "execution_count": 17,
     "metadata": {},
     "output_type": "execute_result"
    }
   ],
   "source": [
    "df.head(10)"
   ]
  },
  {
   "cell_type": "code",
   "execution_count": 15,
   "id": "8e38474b-cbf6-4259-9214-bef20922ddb4",
   "metadata": {},
   "outputs": [
    {
     "data": {
      "text/plain": [
       "(19421, 106)"
      ]
     },
     "execution_count": 15,
     "metadata": {},
     "output_type": "execute_result"
    }
   ],
   "source": [
    "df.shape"
   ]
  },
  {
   "cell_type": "markdown",
   "id": "7397954a-6925-49d1-9a58-80a278709bea",
   "metadata": {},
   "source": [
    "# Saving to file"
   ]
  },
  {
   "cell_type": "code",
   "execution_count": 14,
   "id": "f4ae121e-488b-4edb-97a0-c990be8b3eb1",
   "metadata": {},
   "outputs": [],
   "source": [
    "df.to_csv(\"data/previous/final_dataset.csv\")"
   ]
  }
 ],
 "metadata": {
  "kernelspec": {
   "display_name": "Python 3 (ipykernel)",
   "language": "python",
   "name": "python3"
  },
  "language_info": {
   "codemirror_mode": {
    "name": "ipython",
    "version": 3
   },
   "file_extension": ".py",
   "mimetype": "text/x-python",
   "name": "python",
   "nbconvert_exporter": "python",
   "pygments_lexer": "ipython3",
   "version": "3.8.0"
  }
 },
 "nbformat": 4,
 "nbformat_minor": 5
}
