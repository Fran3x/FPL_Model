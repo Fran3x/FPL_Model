{
 "cells": [
  {
   "cell_type": "markdown",
   "id": "e76bb578-0c28-4aa7-bda9-3de10b959655",
   "metadata": {},
   "source": [
    "# Imports and setup\n",
    "### This file merges logs from previous seasons with logs from ongoing season"
   ]
  },
  {
   "cell_type": "code",
   "execution_count": 1,
   "id": "4f4f6732-8c69-48db-844c-62a42918b33d",
   "metadata": {},
   "outputs": [],
   "source": [
    "import os\n",
    "os.chdir(\"D:\\PulpitE\\FPL_ML\")"
   ]
  },
  {
   "cell_type": "code",
   "execution_count": 2,
   "id": "bf1d0802-fdac-4ff6-aa56-6c27e0ab02e5",
   "metadata": {},
   "outputs": [],
   "source": [
    "from vaastav.mergers import *\n",
    "import pandas as pd\n",
    "import numpy as np\n",
    "from models.commons import *\n",
    "from src.data_prep import *"
   ]
  },
  {
   "cell_type": "code",
   "execution_count": 3,
   "id": "714c5efe-fd55-47b5-8d2d-564688e87607",
   "metadata": {},
   "outputs": [],
   "source": [
    "current_season = \"2023-24\"\n",
    "current_season_understat = \"2023-2024\""
   ]
  },
  {
   "cell_type": "markdown",
   "id": "eb7052e8-3343-4632-833d-92dfbb75d017",
   "metadata": {},
   "source": [
    "# Reading files"
   ]
  },
  {
   "cell_type": "code",
   "execution_count": 4,
   "id": "a953e772-f817-43c6-8717-7efbd37cd5cc",
   "metadata": {},
   "outputs": [
    {
     "name": "stderr",
     "output_type": "stream",
     "text": [
      "C:\\users\\user\\appdata\\local\\programs\\python\\python38\\lib\\site-packages\\IPython\\core\\interactiveshell.py:3369: DtypeWarning: Columns (3) have mixed types.Specify dtype option on import or set low_memory=False.\n",
      "  exec(code_obj, self.user_global_ns, self.user_ns)\n"
     ]
    }
   ],
   "source": [
    "# updating fpl_player.csvv\n",
    "previous_seasons = pd.read_csv('data/previous/cleaned_merged_seasons.csv')\n",
    "this_season = pd.read_csv('data/' + current_season  + '/gws/merged_gw.csv')"
   ]
  },
  {
   "cell_type": "code",
   "execution_count": 5,
   "id": "4cf3dded-6398-4a3f-8857-0bbcab410f28",
   "metadata": {},
   "outputs": [],
   "source": [
    "# previous_seasons[previous_seasons[\"name\"] == \"Erling Haaland\"][[\"name\", \"season\", \"GW\", \"opp_team_name\"]]"
   ]
  },
  {
   "cell_type": "code",
   "execution_count": 6,
   "id": "d11f1ba4-ac85-44a2-828c-d662fedc8506",
   "metadata": {},
   "outputs": [
    {
     "data": {
      "text/plain": [
       "0"
      ]
     },
     "execution_count": 6,
     "metadata": {},
     "output_type": "execute_result"
    }
   ],
   "source": [
    "previous_seasons['opp_team_name'].isna().sum()"
   ]
  },
  {
   "cell_type": "code",
   "execution_count": 7,
   "id": "47234b7c-75a4-4e7b-a04c-a53a3ec8bd67",
   "metadata": {},
   "outputs": [
    {
     "data": {
      "text/plain": [
       "((127993, 37), (658, 41))"
      ]
     },
     "execution_count": 7,
     "metadata": {},
     "output_type": "execute_result"
    }
   ],
   "source": [
    "previous_seasons.shape, this_season.shape"
   ]
  },
  {
   "cell_type": "code",
   "execution_count": 8,
   "id": "5ebc12a4-73d2-41a0-a58c-afc965447669",
   "metadata": {
    "tags": []
   },
   "outputs": [],
   "source": [
    "# previous_seasons.iloc[0]"
   ]
  },
  {
   "cell_type": "code",
   "execution_count": 9,
   "id": "6df4b592-5839-447e-b3b3-c591e1a7a976",
   "metadata": {},
   "outputs": [],
   "source": [
    "# previous_seasons.iloc[-1]"
   ]
  },
  {
   "cell_type": "code",
   "execution_count": 10,
   "id": "b43b210a-2895-45a4-aee1-22eb90e57541",
   "metadata": {},
   "outputs": [],
   "source": [
    "previous_seasons = previous_seasons[previous_seasons['team_x'].notnull()]\n",
    "previous_seasons = previous_seasons.rename(columns = {\n",
    "        'season_x': 'season',\n",
    "        'team_x': 'team'\n",
    "    })\n",
    "this_season['season'] = current_season"
   ]
  },
  {
   "cell_type": "code",
   "execution_count": 11,
   "id": "5e189c69-16f8-4782-acbf-66db16e74271",
   "metadata": {},
   "outputs": [],
   "source": [
    "# previous_seasons"
   ]
  },
  {
   "cell_type": "code",
   "execution_count": 12,
   "id": "e6bb3896-a3b1-4bd4-a58d-41879252da8f",
   "metadata": {},
   "outputs": [],
   "source": [
    "# this_season[this_season.name == \"Nick Pope\"]"
   ]
  },
  {
   "cell_type": "code",
   "execution_count": 13,
   "id": "1418f495-fd53-4335-8008-cf5774edbdf0",
   "metadata": {},
   "outputs": [],
   "source": [
    "# this_season.iloc[0]"
   ]
  },
  {
   "cell_type": "code",
   "execution_count": 14,
   "id": "9e1fb9da-153c-487f-a904-f6676e05893d",
   "metadata": {},
   "outputs": [
    {
     "data": {
      "text/plain": [
       "Index(['name', 'position', 'team', 'xP', 'assists', 'bonus', 'bps',\n",
       "       'clean_sheets', 'creativity', 'element', 'expected_assists',\n",
       "       'expected_goal_involvements', 'expected_goals',\n",
       "       'expected_goals_conceded', 'fixture', 'goals_conceded', 'goals_scored',\n",
       "       'ict_index', 'influence', 'kickoff_time', 'minutes', 'opponent_team',\n",
       "       'own_goals', 'penalties_missed', 'penalties_saved', 'red_cards',\n",
       "       'round', 'saves', 'selected', 'starts', 'team_a_score', 'team_h_score',\n",
       "       'threat', 'total_points', 'transfers_balance', 'transfers_in',\n",
       "       'transfers_out', 'value', 'was_home', 'yellow_cards', 'GW', 'season'],\n",
       "      dtype='object')"
      ]
     },
     "execution_count": 14,
     "metadata": {},
     "output_type": "execute_result"
    }
   ],
   "source": [
    "this_season.columns"
   ]
  },
  {
   "cell_type": "code",
   "execution_count": 15,
   "id": "f45e13c9-d752-4b62-aa8c-9b2911ad6e3f",
   "metadata": {},
   "outputs": [
    {
     "name": "stdout",
     "output_type": "stream",
     "text": [
      "LENGTH (0, 42)\n"
     ]
    }
   ],
   "source": [
    "this_season = add_opp_team_for_current_season(this_season, current_season, current_season_understat)"
   ]
  },
  {
   "cell_type": "code",
   "execution_count": 16,
   "id": "aa3ad0ae-76bf-429d-83d5-0a2ce9b0ada9",
   "metadata": {},
   "outputs": [
    {
     "data": {
      "text/plain": [
       "0      Crystal Palace\n",
       "1               Luton\n",
       "2              Wolves\n",
       "3      Crystal Palace\n",
       "4               Spurs\n",
       "            ...      \n",
       "653           Burnley\n",
       "654          Brighton\n",
       "655     Sheffield Utd\n",
       "656           Arsenal\n",
       "657             Spurs\n",
       "Name: opp_team_name, Length: 658, dtype: object"
      ]
     },
     "execution_count": 16,
     "metadata": {},
     "output_type": "execute_result"
    }
   ],
   "source": [
    "this_season[\"opp_team_name\"]"
   ]
  },
  {
   "cell_type": "code",
   "execution_count": 17,
   "id": "260159bd-0415-4718-b145-0e39f4804eda",
   "metadata": {},
   "outputs": [
    {
     "data": {
      "text/plain": [
       "Index(['season', 'name', 'position', 'team', 'assists', 'bonus', 'bps',\n",
       "       'clean_sheets', 'creativity', 'element', 'fixture', 'goals_conceded',\n",
       "       'goals_scored', 'ict_index', 'influence', 'kickoff_time', 'minutes',\n",
       "       'opponent_team', 'opp_team_name', 'own_goals', 'penalties_missed',\n",
       "       'penalties_saved', 'red_cards', 'round', 'saves', 'selected',\n",
       "       'team_a_score', 'team_h_score', 'threat', 'total_points',\n",
       "       'transfers_balance', 'transfers_in', 'transfers_out', 'value',\n",
       "       'was_home', 'yellow_cards', 'GW'],\n",
       "      dtype='object')"
      ]
     },
     "execution_count": 17,
     "metadata": {},
     "output_type": "execute_result"
    }
   ],
   "source": [
    "previous_seasons.columns"
   ]
  },
  {
   "cell_type": "code",
   "execution_count": 18,
   "id": "ca4d92cf-2edd-4f6f-ad30-c9c10a3232f8",
   "metadata": {},
   "outputs": [
    {
     "data": {
      "text/plain": [
       "Index(['name', 'position', 'team', 'xP', 'assists', 'bonus', 'bps',\n",
       "       'clean_sheets', 'creativity', 'element', 'expected_assists',\n",
       "       'expected_goal_involvements', 'expected_goals',\n",
       "       'expected_goals_conceded', 'fixture', 'goals_conceded', 'goals_scored',\n",
       "       'ict_index', 'influence', 'kickoff_time', 'minutes', 'opponent_team',\n",
       "       'own_goals', 'penalties_missed', 'penalties_saved', 'red_cards',\n",
       "       'round', 'saves', 'selected', 'starts', 'team_a_score', 'team_h_score',\n",
       "       'threat', 'total_points', 'transfers_balance', 'transfers_in',\n",
       "       'transfers_out', 'value', 'was_home', 'yellow_cards', 'GW', 'season',\n",
       "       'opp_team_name'],\n",
       "      dtype='object')"
      ]
     },
     "execution_count": 18,
     "metadata": {},
     "output_type": "execute_result"
    }
   ],
   "source": [
    "this_season.columns"
   ]
  },
  {
   "cell_type": "code",
   "execution_count": 19,
   "id": "a9ebad98-80f9-4cab-a68a-0eca239edbe1",
   "metadata": {},
   "outputs": [],
   "source": [
    "# this_season.iloc[0]"
   ]
  },
  {
   "cell_type": "markdown",
   "id": "0960e2ea-6784-433e-b32c-a71e181273da",
   "metadata": {},
   "source": [
    "# Merging"
   ]
  },
  {
   "cell_type": "code",
   "execution_count": 20,
   "id": "62af7b19-1aba-4be2-984c-4fe3ac07f92f",
   "metadata": {},
   "outputs": [],
   "source": [
    "merged_seasons = pd.concat([previous_seasons, this_season])"
   ]
  },
  {
   "cell_type": "code",
   "execution_count": 21,
   "id": "01b7101c-dbae-48cb-b2d4-0dba8f003571",
   "metadata": {},
   "outputs": [
    {
     "data": {
      "text/plain": [
       "array(['Chelsea', 'Newcastle', 'Wolves', 'Spurs', 'Arsenal',\n",
       "       'Sheffield Utd', 'Liverpool', 'West Brom', 'Leeds', 'Leicester',\n",
       "       'Fulham', 'Crystal Palace', 'West Ham', 'Brighton', 'Southampton',\n",
       "       'Everton', 'Aston Villa', 'Man City', 'Burnley', 'Man Utd',\n",
       "       'Watford', 'Norwich', 'Brentford', \"Nott'm Forest\", 'Bournemouth'],\n",
       "      dtype=object)"
      ]
     },
     "execution_count": 21,
     "metadata": {},
     "output_type": "execute_result"
    }
   ],
   "source": [
    "previous_seasons['opp_team_name'].unique()"
   ]
  },
  {
   "cell_type": "code",
   "execution_count": 22,
   "id": "4c97b645-36f5-44da-b7df-4c6e20958024",
   "metadata": {},
   "outputs": [
    {
     "data": {
      "text/plain": [
       "0"
      ]
     },
     "execution_count": 22,
     "metadata": {},
     "output_type": "execute_result"
    }
   ],
   "source": [
    "this_season['opponent_team'].isna().sum()"
   ]
  },
  {
   "cell_type": "code",
   "execution_count": 23,
   "id": "fdb6c83d-3944-4883-bb16-1d921b61d5a1",
   "metadata": {},
   "outputs": [],
   "source": [
    "merged_seasons = merged_seasons.reset_index(drop=True)"
   ]
  },
  {
   "cell_type": "code",
   "execution_count": 24,
   "id": "db300cef-cbad-4d11-bd18-3756b4ebfac5",
   "metadata": {},
   "outputs": [
    {
     "data": {
      "text/plain": [
       "(76975, 43)"
      ]
     },
     "execution_count": 24,
     "metadata": {},
     "output_type": "execute_result"
    }
   ],
   "source": [
    "merged_seasons.shape"
   ]
  },
  {
   "cell_type": "code",
   "execution_count": 25,
   "id": "7be7648c-f814-456d-9417-4846836a71c7",
   "metadata": {},
   "outputs": [],
   "source": [
    "assert(merged_seasons.shape[0] == previous_seasons.shape[0] + this_season.shape[0])"
   ]
  },
  {
   "cell_type": "code",
   "execution_count": 26,
   "id": "872a70f2-435e-4351-b93b-d5b5fa1984da",
   "metadata": {},
   "outputs": [
    {
     "data": {
      "text/plain": [
       "Index(['season', 'name', 'position', 'team', 'assists', 'bonus', 'bps',\n",
       "       'clean_sheets', 'creativity', 'element', 'fixture', 'goals_conceded',\n",
       "       'goals_scored', 'ict_index', 'influence', 'kickoff_time', 'minutes',\n",
       "       'opponent_team', 'opp_team_name', 'own_goals', 'penalties_missed',\n",
       "       'penalties_saved', 'red_cards', 'round', 'saves', 'selected',\n",
       "       'team_a_score', 'team_h_score', 'threat', 'total_points',\n",
       "       'transfers_balance', 'transfers_in', 'transfers_out', 'value',\n",
       "       'was_home', 'yellow_cards', 'GW', 'xP', 'expected_assists',\n",
       "       'expected_goal_involvements', 'expected_goals',\n",
       "       'expected_goals_conceded', 'starts'],\n",
       "      dtype='object')"
      ]
     },
     "execution_count": 26,
     "metadata": {},
     "output_type": "execute_result"
    }
   ],
   "source": [
    "merged_seasons.columns"
   ]
  },
  {
   "cell_type": "code",
   "execution_count": 27,
   "id": "b9ddb0aa-4ad3-47ff-ae98-6fb1c05d537e",
   "metadata": {},
   "outputs": [
    {
     "data": {
      "text/html": [
       "<div>\n",
       "<style scoped>\n",
       "    .dataframe tbody tr th:only-of-type {\n",
       "        vertical-align: middle;\n",
       "    }\n",
       "\n",
       "    .dataframe tbody tr th {\n",
       "        vertical-align: top;\n",
       "    }\n",
       "\n",
       "    .dataframe thead th {\n",
       "        text-align: right;\n",
       "    }\n",
       "</style>\n",
       "<table border=\"1\" class=\"dataframe\">\n",
       "  <thead>\n",
       "    <tr style=\"text-align: right;\">\n",
       "      <th></th>\n",
       "      <th>name</th>\n",
       "      <th>GW</th>\n",
       "      <th>opp_team_name</th>\n",
       "    </tr>\n",
       "  </thead>\n",
       "  <tbody>\n",
       "    <tr>\n",
       "      <th>49886</th>\n",
       "      <td>Erling Haaland</td>\n",
       "      <td>1</td>\n",
       "      <td>West Ham</td>\n",
       "    </tr>\n",
       "    <tr>\n",
       "      <th>50460</th>\n",
       "      <td>Erling Haaland</td>\n",
       "      <td>2</td>\n",
       "      <td>Bournemouth</td>\n",
       "    </tr>\n",
       "    <tr>\n",
       "      <th>51042</th>\n",
       "      <td>Erling Haaland</td>\n",
       "      <td>3</td>\n",
       "      <td>Newcastle</td>\n",
       "    </tr>\n",
       "    <tr>\n",
       "      <th>51635</th>\n",
       "      <td>Erling Haaland</td>\n",
       "      <td>4</td>\n",
       "      <td>Crystal Palace</td>\n",
       "    </tr>\n",
       "    <tr>\n",
       "      <th>52237</th>\n",
       "      <td>Erling Haaland</td>\n",
       "      <td>5</td>\n",
       "      <td>Nott'm Forest</td>\n",
       "    </tr>\n",
       "    <tr>\n",
       "      <th>52845</th>\n",
       "      <td>Erling Haaland</td>\n",
       "      <td>6</td>\n",
       "      <td>Aston Villa</td>\n",
       "    </tr>\n",
       "    <tr>\n",
       "      <th>53442</th>\n",
       "      <td>Erling Haaland</td>\n",
       "      <td>8</td>\n",
       "      <td>Wolves</td>\n",
       "    </tr>\n",
       "    <tr>\n",
       "      <th>53911</th>\n",
       "      <td>Erling Haaland</td>\n",
       "      <td>9</td>\n",
       "      <td>Man Utd</td>\n",
       "    </tr>\n",
       "    <tr>\n",
       "      <th>54550</th>\n",
       "      <td>Erling Haaland</td>\n",
       "      <td>10</td>\n",
       "      <td>Southampton</td>\n",
       "    </tr>\n",
       "    <tr>\n",
       "      <th>55191</th>\n",
       "      <td>Erling Haaland</td>\n",
       "      <td>11</td>\n",
       "      <td>Leeds</td>\n",
       "    </tr>\n",
       "    <tr>\n",
       "      <th>56419</th>\n",
       "      <td>Erling Haaland</td>\n",
       "      <td>13</td>\n",
       "      <td>Brighton</td>\n",
       "    </tr>\n",
       "    <tr>\n",
       "      <th>57068</th>\n",
       "      <td>Erling Haaland</td>\n",
       "      <td>14</td>\n",
       "      <td>Liverpool</td>\n",
       "    </tr>\n",
       "    <tr>\n",
       "      <th>57725</th>\n",
       "      <td>Erling Haaland</td>\n",
       "      <td>15</td>\n",
       "      <td>Fulham</td>\n",
       "    </tr>\n",
       "    <tr>\n",
       "      <th>58387</th>\n",
       "      <td>Erling Haaland</td>\n",
       "      <td>16</td>\n",
       "      <td>Brentford</td>\n",
       "    </tr>\n",
       "    <tr>\n",
       "      <th>59054</th>\n",
       "      <td>Erling Haaland</td>\n",
       "      <td>17</td>\n",
       "      <td>Leicester</td>\n",
       "    </tr>\n",
       "    <tr>\n",
       "      <th>59729</th>\n",
       "      <td>Erling Haaland</td>\n",
       "      <td>18</td>\n",
       "      <td>Everton</td>\n",
       "    </tr>\n",
       "    <tr>\n",
       "      <th>60417</th>\n",
       "      <td>Erling Haaland</td>\n",
       "      <td>19</td>\n",
       "      <td>Chelsea</td>\n",
       "    </tr>\n",
       "    <tr>\n",
       "      <th>61192</th>\n",
       "      <td>Erling Haaland</td>\n",
       "      <td>20</td>\n",
       "      <td>Man Utd</td>\n",
       "    </tr>\n",
       "    <tr>\n",
       "      <th>61193</th>\n",
       "      <td>Erling Haaland</td>\n",
       "      <td>20</td>\n",
       "      <td>Spurs</td>\n",
       "    </tr>\n",
       "    <tr>\n",
       "      <th>62009</th>\n",
       "      <td>Erling Haaland</td>\n",
       "      <td>21</td>\n",
       "      <td>Wolves</td>\n",
       "    </tr>\n",
       "    <tr>\n",
       "      <th>62730</th>\n",
       "      <td>Erling Haaland</td>\n",
       "      <td>22</td>\n",
       "      <td>Spurs</td>\n",
       "    </tr>\n",
       "    <tr>\n",
       "      <th>63542</th>\n",
       "      <td>Erling Haaland</td>\n",
       "      <td>23</td>\n",
       "      <td>Aston Villa</td>\n",
       "    </tr>\n",
       "    <tr>\n",
       "      <th>63543</th>\n",
       "      <td>Erling Haaland</td>\n",
       "      <td>23</td>\n",
       "      <td>Arsenal</td>\n",
       "    </tr>\n",
       "    <tr>\n",
       "      <th>64347</th>\n",
       "      <td>Erling Haaland</td>\n",
       "      <td>24</td>\n",
       "      <td>Nott'm Forest</td>\n",
       "    </tr>\n",
       "    <tr>\n",
       "      <th>65089</th>\n",
       "      <td>Erling Haaland</td>\n",
       "      <td>25</td>\n",
       "      <td>Bournemouth</td>\n",
       "    </tr>\n",
       "    <tr>\n",
       "      <th>65842</th>\n",
       "      <td>Erling Haaland</td>\n",
       "      <td>26</td>\n",
       "      <td>Newcastle</td>\n",
       "    </tr>\n",
       "    <tr>\n",
       "      <th>66610</th>\n",
       "      <td>Erling Haaland</td>\n",
       "      <td>27</td>\n",
       "      <td>Crystal Palace</td>\n",
       "    </tr>\n",
       "    <tr>\n",
       "      <th>68085</th>\n",
       "      <td>Erling Haaland</td>\n",
       "      <td>29</td>\n",
       "      <td>Leeds</td>\n",
       "    </tr>\n",
       "    <tr>\n",
       "      <th>69240</th>\n",
       "      <td>Erling Haaland</td>\n",
       "      <td>30</td>\n",
       "      <td>Southampton</td>\n",
       "    </tr>\n",
       "    <tr>\n",
       "      <th>69995</th>\n",
       "      <td>Erling Haaland</td>\n",
       "      <td>31</td>\n",
       "      <td>Liverpool</td>\n",
       "    </tr>\n",
       "    <tr>\n",
       "      <th>71365</th>\n",
       "      <td>Erling Haaland</td>\n",
       "      <td>33</td>\n",
       "      <td>Arsenal</td>\n",
       "    </tr>\n",
       "    <tr>\n",
       "      <th>72153</th>\n",
       "      <td>Erling Haaland</td>\n",
       "      <td>34</td>\n",
       "      <td>Fulham</td>\n",
       "    </tr>\n",
       "    <tr>\n",
       "      <th>72154</th>\n",
       "      <td>Erling Haaland</td>\n",
       "      <td>34</td>\n",
       "      <td>West Ham</td>\n",
       "    </tr>\n",
       "    <tr>\n",
       "      <th>73103</th>\n",
       "      <td>Erling Haaland</td>\n",
       "      <td>35</td>\n",
       "      <td>Leicester</td>\n",
       "    </tr>\n",
       "    <tr>\n",
       "      <th>73877</th>\n",
       "      <td>Erling Haaland</td>\n",
       "      <td>36</td>\n",
       "      <td>Everton</td>\n",
       "    </tr>\n",
       "    <tr>\n",
       "      <th>74723</th>\n",
       "      <td>Erling Haaland</td>\n",
       "      <td>37</td>\n",
       "      <td>Chelsea</td>\n",
       "    </tr>\n",
       "    <tr>\n",
       "      <th>74724</th>\n",
       "      <td>Erling Haaland</td>\n",
       "      <td>37</td>\n",
       "      <td>Brighton</td>\n",
       "    </tr>\n",
       "    <tr>\n",
       "      <th>75637</th>\n",
       "      <td>Erling Haaland</td>\n",
       "      <td>38</td>\n",
       "      <td>Brentford</td>\n",
       "    </tr>\n",
       "    <tr>\n",
       "      <th>76762</th>\n",
       "      <td>Erling Haaland</td>\n",
       "      <td>1</td>\n",
       "      <td>Burnley</td>\n",
       "    </tr>\n",
       "  </tbody>\n",
       "</table>\n",
       "</div>"
      ],
      "text/plain": [
       "                 name  GW   opp_team_name\n",
       "49886  Erling Haaland   1        West Ham\n",
       "50460  Erling Haaland   2     Bournemouth\n",
       "51042  Erling Haaland   3       Newcastle\n",
       "51635  Erling Haaland   4  Crystal Palace\n",
       "52237  Erling Haaland   5   Nott'm Forest\n",
       "52845  Erling Haaland   6     Aston Villa\n",
       "53442  Erling Haaland   8          Wolves\n",
       "53911  Erling Haaland   9         Man Utd\n",
       "54550  Erling Haaland  10     Southampton\n",
       "55191  Erling Haaland  11           Leeds\n",
       "56419  Erling Haaland  13        Brighton\n",
       "57068  Erling Haaland  14       Liverpool\n",
       "57725  Erling Haaland  15          Fulham\n",
       "58387  Erling Haaland  16       Brentford\n",
       "59054  Erling Haaland  17       Leicester\n",
       "59729  Erling Haaland  18         Everton\n",
       "60417  Erling Haaland  19         Chelsea\n",
       "61192  Erling Haaland  20         Man Utd\n",
       "61193  Erling Haaland  20           Spurs\n",
       "62009  Erling Haaland  21          Wolves\n",
       "62730  Erling Haaland  22           Spurs\n",
       "63542  Erling Haaland  23     Aston Villa\n",
       "63543  Erling Haaland  23         Arsenal\n",
       "64347  Erling Haaland  24   Nott'm Forest\n",
       "65089  Erling Haaland  25     Bournemouth\n",
       "65842  Erling Haaland  26       Newcastle\n",
       "66610  Erling Haaland  27  Crystal Palace\n",
       "68085  Erling Haaland  29           Leeds\n",
       "69240  Erling Haaland  30     Southampton\n",
       "69995  Erling Haaland  31       Liverpool\n",
       "71365  Erling Haaland  33         Arsenal\n",
       "72153  Erling Haaland  34          Fulham\n",
       "72154  Erling Haaland  34        West Ham\n",
       "73103  Erling Haaland  35       Leicester\n",
       "73877  Erling Haaland  36         Everton\n",
       "74723  Erling Haaland  37         Chelsea\n",
       "74724  Erling Haaland  37        Brighton\n",
       "75637  Erling Haaland  38       Brentford\n",
       "76762  Erling Haaland   1         Burnley"
      ]
     },
     "execution_count": 27,
     "metadata": {},
     "output_type": "execute_result"
    }
   ],
   "source": [
    "merged_seasons[merged_seasons[\"name\"] == \"Erling Haaland\"][[\"name\", \"GW\", \"opp_team_name\"]]"
   ]
  },
  {
   "cell_type": "markdown",
   "id": "58f4d193-9011-4d9b-a23a-e9e4017ee09e",
   "metadata": {},
   "source": [
    "# Saving to file"
   ]
  },
  {
   "cell_type": "code",
   "execution_count": 28,
   "id": "abf7a76a-3c78-41ff-b03d-db9352215041",
   "metadata": {},
   "outputs": [],
   "source": [
    "merged_seasons.to_csv('data/previous/fpl_players.csv')"
   ]
  }
 ],
 "metadata": {
  "kernelspec": {
   "display_name": "Python 3 (ipykernel)",
   "language": "python",
   "name": "python3"
  },
  "language_info": {
   "codemirror_mode": {
    "name": "ipython",
    "version": 3
   },
   "file_extension": ".py",
   "mimetype": "text/x-python",
   "name": "python",
   "nbconvert_exporter": "python",
   "pygments_lexer": "ipython3",
   "version": "3.8.0"
  }
 },
 "nbformat": 4,
 "nbformat_minor": 5
}
