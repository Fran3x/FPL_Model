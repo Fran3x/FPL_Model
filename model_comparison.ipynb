{
 "cells": [
  {
   "cell_type": "code",
   "execution_count": 1,
   "id": "c180a6b7-d71c-4fb9-a213-9a5542f173ae",
   "metadata": {},
   "outputs": [],
   "source": [
    "from data_prep import *\n",
    "from PositionModel import *\n",
    "from PlayerModel import *\n",
    "from commons import *"
   ]
  },
  {
   "cell_type": "code",
   "execution_count": 2,
   "id": "324431c2-d1cd-40c8-91d5-9c394c245458",
   "metadata": {},
   "outputs": [],
   "source": [
    "features = ['goals_scored_avg5', 'xG_avg5', 'assists_fpl_avg5',\n",
    "       'bonus_avg5', 'bps_avg5', 'clean_sheets_avg5', 'goals_conceded_avg5',\n",
    "       'shots_avg5', 'xGBuildup_avg5', 'xGChain_avg5', 'yellow_cards_avg5',\n",
    "       'red_cards_avg5', 'was_home', 'rating_diff']\n",
    "rolling_columns = ['goals_scored', 'xG', 'assists_fpl', 'bonus', 'bps', 'clean_sheets', 'goals_conceded', 'shots', 'xGBuildup', 'xGChain', 'yellow_cards', 'red_cards']\n",
    "to_predict = 'total_points'"
   ]
  },
  {
   "cell_type": "code",
   "execution_count": 3,
   "id": "d7290816-8eee-4387-bd4d-ece22d0fcd1b",
   "metadata": {},
   "outputs": [
    {
     "name": "stdout",
     "output_type": "stream",
     "text": [
      "Index(['Unnamed: 0.1', 'Unnamed: 0', 'season', 'name', 'position_fpl', 'team',\n",
      "       'assists_fpl', 'bonus', 'bps', 'clean_sheets', 'creativity', 'element',\n",
      "       'fixture', 'goals_conceded', 'goals_scored', 'ict_index', 'influence',\n",
      "       'kickoff_time', 'minutes', 'opponent_team', 'opp_team_name',\n",
      "       'own_goals', 'penalties_missed', 'penalties_saved', 'red_cards',\n",
      "       'round', 'saves', 'selected', 'team_a_score', 'team_h_score', 'threat',\n",
      "       'total_points', 'transfers_balance', 'transfers_in', 'transfers_out',\n",
      "       'value', 'was_home', 'yellow_cards', 'GW', 'a_team', 'goals', 'shots',\n",
      "       'xG', 'time', 'position_und', 'h_goals', 'a_goals', 'date', 'id', 'xA',\n",
      "       'assists_und', 'key_passes', 'npg', 'npxG', 'xGChain', 'xGBuildup',\n",
      "       'player_name', 'h_team', 'goals_scored_avg5', 'xG_avg5',\n",
      "       'assists_fpl_avg5', 'bonus_avg5', 'bps_avg5', 'clean_sheets_avg5',\n",
      "       'goals_conceded_avg5', 'shots_avg5', 'xGBuildup_avg5', 'xGChain_avg5',\n",
      "       'yellow_cards_avg5', 'red_cards_avg5', 'was_played', 'next_gw',\n",
      "       'opp_team', 'team_rating', 'opp_team_rating', 'rating_diff'],\n",
      "      dtype='object')\n"
     ]
    }
   ],
   "source": [
    "# loading dataset\n",
    "# df = merged_understat_and_fpl(rolling_columns, True)\n",
    "df = load_dataset()\n",
    "print(df.columns)"
   ]
  },
  {
   "cell_type": "code",
   "execution_count": 4,
   "id": "9069941e-63d3-4c73-9c35-3ffdfe43b2ae",
   "metadata": {},
   "outputs": [
    {
     "name": "stdout",
     "output_type": "stream",
     "text": [
      "GENERAL MODEL:\n",
      "{'mse': 7.327823505434782, 'mae': 1.6143885869565218, 'r2': 0.4176897842543905}\n"
     ]
    }
   ],
   "source": [
    "# general model\n",
    "print('GENERAL MODEL:')\n",
    "X_train, X_test, y_train, y_test = split_data(df, features, to_predict)\n",
    "general_model = PositionModel()\n",
    "general_model.fit(X_train, y_train)\n",
    "y_pred = general_model.predict(X_test)\n",
    "metrics = get_metrics(y_pred, y_test)\n",
    "print(metrics)"
   ]
  },
  {
   "cell_type": "code",
   "execution_count": 5,
   "id": "f5809665-9138-4d7b-922f-a5cd8666ef9e",
   "metadata": {},
   "outputs": [
    {
     "name": "stdout",
     "output_type": "stream",
     "text": [
      "POSITION MODEL:\n",
      "{'mse': 10.067598098859316, 'mae': 2.213726235741445, 'r2': 0.3157227490158854}\n"
     ]
    }
   ],
   "source": [
    "# position model (MID)\n",
    "print('POSITION MODEL:')\n",
    "df_mid = df[df['position_fpl'] == 'MID']\n",
    "X_train, X_test, y_train, y_test = split_data(df_mid, features, to_predict)\n",
    "position_model = PositionModel()\n",
    "position_model.fit(X_train, y_train)\n",
    "y_pred = position_model.predict(X_test)\n",
    "metrics = get_metrics(y_pred, y_test)\n",
    "print(metrics)"
   ]
  },
  {
   "cell_type": "code",
   "execution_count": 6,
   "id": "0f64df65-afdd-421a-a7e8-af98e730cf78",
   "metadata": {},
   "outputs": [
    {
     "name": "stdout",
     "output_type": "stream",
     "text": [
      "PLAYER MODEL:\n",
      "{'mse': 21.6547, 'mae': 3.9820000000000007, 'r2': -1.0333051643192488}\n"
     ]
    }
   ],
   "source": [
    "# salah only\n",
    "print('PLAYER MODEL:')\n",
    "salah = df[df['name'] == 'Mohamed Salah']\n",
    "X_train, X_test, y_train, y_test = split_data(salah, features, to_predict, 0.8)\n",
    "position_model = PlayerModel()\n",
    "position_model.fit(X_train, y_train)\n",
    "y_pred = position_model.predict(X_test)\n",
    "metrics = get_metrics(y_pred, y_test)\n",
    "print(metrics)"
   ]
  },
  {
   "cell_type": "code",
   "execution_count": 7,
   "id": "f4b4c889-f69a-485f-97b6-0c9a02641158",
   "metadata": {},
   "outputs": [
    {
     "data": {
      "text/html": [
       "<div>\n",
       "<style scoped>\n",
       "    .dataframe tbody tr th:only-of-type {\n",
       "        vertical-align: middle;\n",
       "    }\n",
       "\n",
       "    .dataframe tbody tr th {\n",
       "        vertical-align: top;\n",
       "    }\n",
       "\n",
       "    .dataframe thead th {\n",
       "        text-align: right;\n",
       "    }\n",
       "</style>\n",
       "<table border=\"1\" class=\"dataframe\">\n",
       "  <thead>\n",
       "    <tr style=\"text-align: right;\">\n",
       "      <th></th>\n",
       "      <th>shots</th>\n",
       "      <th>shots_avg5</th>\n",
       "    </tr>\n",
       "  </thead>\n",
       "  <tbody>\n",
       "    <tr>\n",
       "      <th>29</th>\n",
       "      <td>9</td>\n",
       "      <td>4.8</td>\n",
       "    </tr>\n",
       "    <tr>\n",
       "      <th>80</th>\n",
       "      <td>4</td>\n",
       "      <td>4.4</td>\n",
       "    </tr>\n",
       "    <tr>\n",
       "      <th>146</th>\n",
       "      <td>4</td>\n",
       "      <td>4.6</td>\n",
       "    </tr>\n",
       "  </tbody>\n",
       "</table>\n",
       "</div>"
      ],
      "text/plain": [
       "     shots  shots_avg5\n",
       "29       9         4.8\n",
       "80       4         4.4\n",
       "146      4         4.6"
      ]
     },
     "execution_count": 7,
     "metadata": {},
     "output_type": "execute_result"
    }
   ],
   "source": [
    "salah.head(3)[['shots', 'shots_avg5']]"
   ]
  },
  {
   "cell_type": "code",
   "execution_count": null,
   "id": "7befca11-1419-4c28-a481-e57cfae7e518",
   "metadata": {},
   "outputs": [],
   "source": []
  }
 ],
 "metadata": {
  "kernelspec": {
   "display_name": "Python 3 (ipykernel)",
   "language": "python",
   "name": "python3"
  },
  "language_info": {
   "codemirror_mode": {
    "name": "ipython",
    "version": 3
   },
   "file_extension": ".py",
   "mimetype": "text/x-python",
   "name": "python",
   "nbconvert_exporter": "python",
   "pygments_lexer": "ipython3",
   "version": "3.8.0"
  }
 },
 "nbformat": 4,
 "nbformat_minor": 5
}
